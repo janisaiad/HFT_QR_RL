{
 "cells": [
  {
   "cell_type": "code",
   "execution_count": 4,
   "metadata": {},
   "outputs": [],
   "source": [
    "import polars as pl\n",
    "import plotly.graph_objects as go\n",
    "from glob import glob\n",
    "import os\n",
    "\n",
    "# Read all parquet files\n",
    "files = glob(os.path.join(\"/home/janis/3A/EA/HFT_QR_RL/data/smash3/data/csv/NASDAQ/LCID_filtered\", \"*filtered.parquet\"))\n",
    "\n",
    "# Initialize empty lists to store data\n",
    "all_data = []\n",
    "\n",
    "# Read and concatenate all files\n",
    "for file in files:\n",
    "    df = pl.read_parquet(file)\n",
    "    all_data.append(df)\n",
    "\n",
    "# Concatenate all dataframes\n",
    "df_all = pl.concat(all_data)"
   ]
  },
  {
   "cell_type": "code",
   "execution_count": null,
   "metadata": {},
   "outputs": [],
   "source": [
    "\n",
    "# Create figure with secondary y-axis\n",
    "fig = go.Figure()\n",
    "\n",
    "# Add traces\n",
    "fig.add_trace(\n",
    "    go.Scatter(\n",
    "        x=df_all['ts_event'].to_list(),\n",
    "        y=df_all['price_middle'].to_list(),\n",
    "        name=\"Mid Price\",\n",
    "        line=dict(color='blue')\n",
    "    )\n",
    ")\n",
    "\n",
    "fig.add_trace(\n",
    "    go.Scatter(\n",
    "        x=df_all['ts_event'].to_list(),\n",
    "        y=df_all['imbalance'].to_list(),\n",
    "        name=\"Order Imbalance\",\n",
    "        yaxis=\"y2\",\n",
    "        line=dict(color='red')\n",
    "    )\n",
    ")\n",
    "\n",
    "# Set layout\n",
    "fig.update_layout(\n",
    "    title=\"Mid Price and Order Imbalance Over Time\",\n",
    "    xaxis=dict(title=\"Time\"),\n",
    "    yaxis=dict(\n",
    "        title=\"Mid Price\",\n",
    "        titlefont=dict(color=\"blue\"),\n",
    "        tickfont=dict(color=\"blue\")\n",
    "    ),\n",
    "    yaxis2=dict(\n",
    "        title=\"Order Imbalance\",\n",
    "        titlefont=dict(color=\"red\"),\n",
    "        tickfont=dict(color=\"red\"),\n",
    "        anchor=\"x\",\n",
    "        overlaying=\"y\",\n",
    "        side=\"right\"\n",
    "    ),\n",
    "    showlegend=True\n",
    ")\n",
    "\n",
    "fig.show()\n"
   ]
  },
  {
   "cell_type": "code",
   "execution_count": null,
   "metadata": {},
   "outputs": [],
   "source": []
  }
 ],
 "metadata": {
  "kernelspec": {
   "display_name": "venv",
   "language": "python",
   "name": "python3"
  },
  "language_info": {
   "codemirror_mode": {
    "name": "ipython",
    "version": 3
   },
   "file_extension": ".py",
   "mimetype": "text/x-python",
   "name": "python",
   "nbconvert_exporter": "python",
   "pygments_lexer": "ipython3",
   "version": "3.9.20"
  }
 },
 "nbformat": 4,
 "nbformat_minor": 2
}
