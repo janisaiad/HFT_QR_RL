{
 "cells": [
  {
   "cell_type": "code",
   "execution_count": 4,
   "metadata": {},
   "outputs": [
    {
     "name": "stdout",
     "output_type": "stream",
     "text": [
      "Utilisation de : cuda\n",
      "Temps d'exécution pour une matrice 8000x8000: 0.2243 secondes\n"
     ]
    },
    {
     "data": {
      "text/plain": [
       "0.22430753707885742"
      ]
     },
     "execution_count": 4,
     "metadata": {},
     "output_type": "execute_result"
    }
   ],
   "source": [
    "import torch\n",
    "import time\n",
    "\n",
    "def gpu_benchmark_matrix(size):\n",
    "    \"\"\"\n",
    "    Effectue un benchmark GPU simple en utilisant une multiplication de matrices.\n",
    "    \n",
    "    Args:\n",
    "        size (int): Taille de la matrice carrée.\n",
    "    \n",
    "    Returns:\n",
    "        float: Temps d'exécution en secondes.\n",
    "    \"\"\"\n",
    "    # Vérification de la disponibilité du GPU\n",
    "    device = torch.device(\"cuda\" if torch.cuda.is_available() else \"cpu\")\n",
    "    print(f\"Utilisation de : {device}\")\n",
    "\n",
    "    # Création de matrices aléatoires sur le GPU\n",
    "    matrix1 = torch.rand(size, size, device=device)\n",
    "    matrix2 = torch.rand(size, size, device=device)\n",
    "\n",
    "    # Synchronisation pour s'assurer que toutes les opérations précédentes sont terminées\n",
    "    torch.cuda.synchronize()\n",
    "\n",
    "    # Mesure du temps pour la multiplication matricielle\n",
    "    start_time = time.time()\n",
    "    result = torch.matmul(matrix1, matrix2)\n",
    "    torch.cuda.synchronize()  # Attendre que le calcul soit terminé\n",
    "    end_time = time.time()\n",
    "\n",
    "    execution_time = end_time - start_time\n",
    "    print(f\"Temps d'exécution pour une matrice {size}x{size}: {execution_time:.4f} secondes\")\n",
    "    \n",
    "    return execution_time\n",
    "\n",
    "# Exécution du benchmark avec une matrice 8000x8000\n",
    "size = 8000\n",
    "gpu_benchmark_matrix(size)\n"
   ]
  },
  {
   "cell_type": "code",
   "execution_count": null,
   "metadata": {},
   "outputs": [],
   "source": []
  }
 ],
 "metadata": {
  "kernelspec": {
   "display_name": "venv",
   "language": "python",
   "name": "python3"
  },
  "language_info": {
   "codemirror_mode": {
    "name": "ipython",
    "version": 3
   },
   "file_extension": ".py",
   "mimetype": "text/x-python",
   "name": "python",
   "nbconvert_exporter": "python",
   "pygments_lexer": "ipython3",
   "version": "3.9.18"
  }
 },
 "nbformat": 4,
 "nbformat_minor": 2
}
