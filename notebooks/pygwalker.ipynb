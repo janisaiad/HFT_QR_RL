{
 "cells": [
  {
   "cell_type": "code",
   "execution_count": 1,
   "metadata": {},
   "outputs": [],
   "source": [
    "import polars as pl\n",
    "import pygwalker as pyg\n",
    "import glob\n",
    "import os"
   ]
  },
  {
   "cell_type": "code",
   "execution_count": 2,
   "metadata": {},
   "outputs": [],
   "source": [
    "# Get all parquet files in the specified directory\n",
    "parquet_files = glob.glob('/home/janis/3A/EA/HFT_QR_RL/data/smash3/data/csv/NASDAQ/GOOGL_filtered/*_filtered_PL_with_true_diff_price.parquet')\n",
    "\n",
    "# Check if the list of parquet files is not empty\n",
    "if not parquet_files:\n",
    "    raise ValueError(\"No parquet files found in the specified directory\")\n",
    "\n",
    "# Read and concatenate all parquet files using polars with GPU support\n",
    "df = pl.concat([pl.read_parquet(f, use_pyarrow=True) for f in parquet_files[:1]])\n"
   ]
  },
  {
   "cell_type": "code",
   "execution_count": 3,
   "metadata": {},
   "outputs": [
    {
     "data": {
      "text/html": [
       "<div><style>\n",
       ".dataframe > thead > tr,\n",
       ".dataframe > tbody > tr {\n",
       "  text-align: right;\n",
       "  white-space: pre-wrap;\n",
       "}\n",
       "</style>\n",
       "<small>shape: (5, 35)</small><table border=\"1\" class=\"dataframe\"><thead><tr><th>ts_event</th><th>action</th><th>side</th><th>size</th><th>price</th><th>bid_px_00</th><th>ask_px_00</th><th>bid_sz_00</th><th>ask_sz_00</th><th>bid_ct_00</th><th>ask_ct_00</th><th>bid_px_01</th><th>ask_px_01</th><th>bid_sz_01</th><th>ask_sz_01</th><th>bid_ct_01</th><th>ask_ct_01</th><th>time_diff</th><th>price_same</th><th>price_opposite</th><th>size_same</th><th>size_opposite</th><th>nb_ppl_same</th><th>nb_ppl_opposite</th><th>diff_price</th><th>Mean_price_diff</th><th>imbalance</th><th>indice</th><th>bid_sz_00_diff</th><th>ask_sz_00_diff</th><th>status</th><th>new_limite</th><th>price_middle</th><th>mid_price</th><th>true_price_diff_50</th></tr><tr><td>str</td><td>str</td><td>str</td><td>i64</td><td>f64</td><td>f64</td><td>f64</td><td>i64</td><td>i64</td><td>i64</td><td>i64</td><td>f64</td><td>f64</td><td>i64</td><td>i64</td><td>i64</td><td>i64</td><td>f64</td><td>f64</td><td>f64</td><td>i64</td><td>i64</td><td>i64</td><td>i64</td><td>f64</td><td>f64</td><td>f64</td><td>i64</td><td>i64</td><td>i64</td><td>str</td><td>str</td><td>f64</td><td>f64</td><td>f64</td></tr></thead><tbody><tr><td>&quot;2024-07-23 14:00:00.026527683+…</td><td>&quot;T&quot;</td><td>&quot;A&quot;</td><td>13</td><td>183.16</td><td>183.15</td><td>183.17</td><td>160</td><td>0</td><td>3</td><td>3</td><td>183.14</td><td>183.18</td><td>150</td><td>257</td><td>2</td><td>6</td><td>0.020735</td><td>183.17</td><td>183.15</td><td>0</td><td>160</td><td>3</td><td>3</td><td>0.005</td><td>-0.005</td><td>1.0</td><td>1</td><td>0</td><td>-13</td><td>&quot;OK&quot;</td><td>&quot;limite_épuisée&quot;</td><td>183.16</td><td>183.16</td><td>0.0</td></tr><tr><td>&quot;2024-07-23 14:00:00.026581503+…</td><td>&quot;A&quot;</td><td>&quot;B&quot;</td><td>50</td><td>183.16</td><td>183.16</td><td>183.17</td><td>59</td><td>245</td><td>2</td><td>3</td><td>183.15</td><td>183.18</td><td>160</td><td>257</td><td>3</td><td>6</td><td>0.000024</td><td>183.16</td><td>183.17</td><td>59</td><td>245</td><td>2</td><td>3</td><td>0.0</td><td>0.0</td><td>-0.611842</td><td>4</td><td>50</td><td>0</td><td>&quot;OK&quot;</td><td>&quot;n&quot;</td><td>183.165</td><td>183.165</td><td>-0.005</td></tr><tr><td>&quot;2024-07-23 14:00:00.026596828+…</td><td>&quot;C&quot;</td><td>&quot;A&quot;</td><td>200</td><td>183.17</td><td>183.16</td><td>183.17</td><td>59</td><td>45</td><td>2</td><td>2</td><td>183.15</td><td>183.18</td><td>160</td><td>257</td><td>3</td><td>6</td><td>0.000015</td><td>183.17</td><td>183.16</td><td>45</td><td>59</td><td>2</td><td>2</td><td>0.0</td><td>0.0</td><td>0.134615</td><td>5</td><td>0</td><td>-200</td><td>&quot;OK&quot;</td><td>&quot;n&quot;</td><td>183.165</td><td>183.165</td><td>-0.005</td></tr><tr><td>&quot;2024-07-23 14:00:00.026606620+…</td><td>&quot;A&quot;</td><td>&quot;B&quot;</td><td>51</td><td>183.16</td><td>183.16</td><td>183.17</td><td>110</td><td>45</td><td>3</td><td>2</td><td>183.15</td><td>183.18</td><td>109</td><td>257</td><td>2</td><td>6</td><td>0.00001</td><td>183.16</td><td>183.17</td><td>110</td><td>45</td><td>3</td><td>2</td><td>0.0</td><td>0.0</td><td>0.419355</td><td>6</td><td>51</td><td>0</td><td>&quot;OK&quot;</td><td>&quot;n&quot;</td><td>183.165</td><td>183.165</td><td>-0.005</td></tr><tr><td>&quot;2024-07-23 14:00:00.026655306+…</td><td>&quot;A&quot;</td><td>&quot;A&quot;</td><td>100</td><td>183.18</td><td>183.16</td><td>183.17</td><td>110</td><td>25</td><td>3</td><td>1</td><td>183.15</td><td>183.18</td><td>109</td><td>357</td><td>2</td><td>7</td><td>0.000049</td><td>183.17</td><td>183.16</td><td>25</td><td>110</td><td>1</td><td>3</td><td>0.0</td><td>0.0</td><td>0.62963</td><td>7</td><td>0</td><td>-20</td><td>&quot;NOK&quot;</td><td>&quot;n&quot;</td><td>183.165</td><td>183.165</td><td>-0.005</td></tr></tbody></table></div>"
      ],
      "text/plain": [
       "shape: (5, 35)\n",
       "┌──────────────┬────────┬──────┬──────┬───┬──────────────┬──────────────┬───────────┬──────────────┐\n",
       "│ ts_event     ┆ action ┆ side ┆ size ┆ … ┆ new_limite   ┆ price_middle ┆ mid_price ┆ true_price_d │\n",
       "│ ---          ┆ ---    ┆ ---  ┆ ---  ┆   ┆ ---          ┆ ---          ┆ ---       ┆ iff_50       │\n",
       "│ str          ┆ str    ┆ str  ┆ i64  ┆   ┆ str          ┆ f64          ┆ f64       ┆ ---          │\n",
       "│              ┆        ┆      ┆      ┆   ┆              ┆              ┆           ┆ f64          │\n",
       "╞══════════════╪════════╪══════╪══════╪═══╪══════════════╪══════════════╪═══════════╪══════════════╡\n",
       "│ 2024-07-23   ┆ T      ┆ A    ┆ 13   ┆ … ┆ limite_épuis ┆ 183.16       ┆ 183.16    ┆ 0.0          │\n",
       "│ 14:00:00.026 ┆        ┆      ┆      ┆   ┆ ée           ┆              ┆           ┆              │\n",
       "│ 527683+…     ┆        ┆      ┆      ┆   ┆              ┆              ┆           ┆              │\n",
       "│ 2024-07-23   ┆ A      ┆ B    ┆ 50   ┆ … ┆ n            ┆ 183.165      ┆ 183.165   ┆ -0.005       │\n",
       "│ 14:00:00.026 ┆        ┆      ┆      ┆   ┆              ┆              ┆           ┆              │\n",
       "│ 581503+…     ┆        ┆      ┆      ┆   ┆              ┆              ┆           ┆              │\n",
       "│ 2024-07-23   ┆ C      ┆ A    ┆ 200  ┆ … ┆ n            ┆ 183.165      ┆ 183.165   ┆ -0.005       │\n",
       "│ 14:00:00.026 ┆        ┆      ┆      ┆   ┆              ┆              ┆           ┆              │\n",
       "│ 596828+…     ┆        ┆      ┆      ┆   ┆              ┆              ┆           ┆              │\n",
       "│ 2024-07-23   ┆ A      ┆ B    ┆ 51   ┆ … ┆ n            ┆ 183.165      ┆ 183.165   ┆ -0.005       │\n",
       "│ 14:00:00.026 ┆        ┆      ┆      ┆   ┆              ┆              ┆           ┆              │\n",
       "│ 606620+…     ┆        ┆      ┆      ┆   ┆              ┆              ┆           ┆              │\n",
       "│ 2024-07-23   ┆ A      ┆ A    ┆ 100  ┆ … ┆ n            ┆ 183.165      ┆ 183.165   ┆ -0.005       │\n",
       "│ 14:00:00.026 ┆        ┆      ┆      ┆   ┆              ┆              ┆           ┆              │\n",
       "│ 655306+…     ┆        ┆      ┆      ┆   ┆              ┆              ┆           ┆              │\n",
       "└──────────────┴────────┴──────┴──────┴───┴──────────────┴──────────────┴───────────┴──────────────┘"
      ]
     },
     "execution_count": 3,
     "metadata": {},
     "output_type": "execute_result"
    },
    {
     "ename": "",
     "evalue": "",
     "output_type": "error",
     "traceback": [
      "\u001b[1;31mThe Kernel crashed while executing code in the current cell or a previous cell. \n",
      "\u001b[1;31mPlease review the code in the cell(s) to identify a possible cause of the failure. \n",
      "\u001b[1;31mClick <a href='https://aka.ms/vscodeJupyterKernelCrash'>here</a> for more info. \n",
      "\u001b[1;31mView Jupyter <a href='command:jupyter.viewOutput'>log</a> for further details."
     ]
    }
   ],
   "source": [
    "df.head()"
   ]
  },
  {
   "cell_type": "code",
   "execution_count": null,
   "metadata": {},
   "outputs": [],
   "source": [
    "\n",
    "# Convert to pandas for pygwalker compatibility\n",
    "df_pandas = df.to_pandas()\n"
   ]
  },
  {
   "cell_type": "code",
   "execution_count": null,
   "metadata": {},
   "outputs": [],
   "source": [
    "\n",
    "# Initialize pygwalker with the dataframe\n",
    "walker = pyg.walk(df_pandas)\n"
   ]
  }
 ],
 "metadata": {
  "kernelspec": {
   "display_name": ".venv",
   "language": "python",
   "name": "python3"
  },
  "language_info": {
   "codemirror_mode": {
    "name": "ipython",
    "version": 3
   },
   "file_extension": ".py",
   "mimetype": "text/x-python",
   "name": "python",
   "nbconvert_exporter": "python",
   "pygments_lexer": "ipython3",
   "version": "3.12.7"
  }
 },
 "nbformat": 4,
 "nbformat_minor": 2
}
