{
 "cells": [
  {
   "cell_type": "markdown",
   "metadata": {},
   "source": [
    "# QR MODEL I\n"
   ]
  },
  {
   "cell_type": "code",
   "execution_count": 1,
   "metadata": {},
   "outputs": [],
   "source": [
    "import numpy as np"
   ]
  },
  {
   "cell_type": "markdown",
   "metadata": {},
   "source": [
    "In this first model the middle price does not moves, meaning the price of the asset does not moves at all!"
   ]
  },
  {
   "cell_type": "code",
   "execution_count": 2,
   "metadata": {},
   "outputs": [],
   "source": [
    "def model_I(K, T, lambda_L, lambda_C, lambda_M):\n",
    "    '''\n",
    "    K is the number of queues\n",
    "    T is the number of steps\n",
    "    lambda_L = [lambda_L_1, ..., lambda_L_K] are the parameters for Limit orders\n",
    "    where lambda_L_i = [lambda_L_i(1),lambda_L_i(2), ..., lambda_L_i(n)]\n",
    "    where lambda_L_i(j) is the intensity of adding a Limit order of size j (inst: add a buy order for 200 assets at price p_mid+1)\n",
    "    lambda_L are the parameters for Cancellation orders\n",
    "    lambda_M are the parameters for Market orders\n",
    "    '''\n",
    "    ## COMMENT INITIALISER??\n",
    "    Q = [[0 for j in range (len(lambda_L[i]))]for i in range (K)]\n",
    "    Q = Q[::-1]+[[0 for j in range (len(lambda_L[i]))]for i in range (K)]\n",
    "    for i in range (len(Q)//2): # Q of size 2K\n",
    "        for j in range (len(Q[K+i])):\n",
    "            Q[K+i][j] = np.random.poisson(lam=lambda_L[i][j])\n",
    "            Q[K-1-i][j] = np.random.poisson(lam=lambda_L[i][j])\n",
    "    for i in range (T):\n",
    "        maj(lambda_L, lambda_C, lambda_M, Q, K)\n",
    "    return Q\n",
    "\n",
    "def maj(lambda_L, lambda_C, lambda_M, Q, K):\n",
    "    '''\n",
    "    Updating the LOB\n",
    "    '''\n",
    "    for i in range (len(Q)//2): # Q of size 2K\n",
    "        for j in range (len(Q[K+i])):\n",
    "            # adding Limit orders, deleting cancellations orders + sell/buy orders\n",
    "            Q[K+i][j]= Q[K+i][j]+np.random.poisson(lam=lambda_L[i][j])-np.random.poisson(lam=lambda_C[i][j])-np.random.poisson(lam=lambda_M[i][j])\n",
    "            Q[K-i-1][j]= Q[K-i-1][j]+np.random.poisson(lam=lambda_L[i][j])-np.random.poisson(lam=lambda_C[i][j])-np.random.poisson(lam=lambda_M[i][j])\n",
    "    return Q"
   ]
  },
  {
   "cell_type": "markdown",
   "metadata": {},
   "source": [
    "We need to have positive values, meaning that we need to have more insertion than cancellation and market orders."
   ]
  },
  {
   "cell_type": "code",
   "execution_count": 3,
   "metadata": {},
   "outputs": [
    {
     "name": "stdout",
     "output_type": "stream",
     "text": [
      "State at time 10 : [[55, 44, 4], [111, 46], [172, 8], [12, 32, 7]]\n"
     ]
    }
   ],
   "source": [
    "K = 2\n",
    "lambda_L = [[100,50],[20,10,5]]\n",
    "lambda_C = [[80,45],[15,7,4]]\n",
    "lambda_M = [[20,5],[5,3,1]]\n",
    "T = 10\n",
    "print('State at time',T,':',model_I(K, T, lambda_L, lambda_C, lambda_M))"
   ]
  }
 ],
 "metadata": {
  "kernelspec": {
   "display_name": "EA",
   "language": "python",
   "name": "python3"
  },
  "language_info": {
   "codemirror_mode": {
    "name": "ipython",
    "version": 3
   },
   "file_extension": ".py",
   "mimetype": "text/x-python",
   "name": "python",
   "nbconvert_exporter": "python",
   "pygments_lexer": "ipython3",
   "version": "3.8.19"
  }
 },
 "nbformat": 4,
 "nbformat_minor": 2
}
