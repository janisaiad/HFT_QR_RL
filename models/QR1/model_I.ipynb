{
 "cells": [
  {
   "cell_type": "markdown",
   "metadata": {},
   "source": [
    "# QR MODEL I\n"
   ]
  },
  {
   "cell_type": "code",
   "execution_count": 1,
   "metadata": {},
   "outputs": [],
   "source": [
    "import numpy as np"
   ]
  },
  {
   "cell_type": "markdown",
   "metadata": {},
   "source": [
    "In this first model the middle price does not moves, meaning the price of the asset does not moves at all!"
   ]
  },
  {
   "cell_type": "code",
   "execution_count": 2,
   "metadata": {},
   "outputs": [],
   "source": [
    "def model_I(K, T, lambda_L, lambda_C, lambda_M):\n",
    "    '''\n",
    "    K is the number of queues\n",
    "    T is the number of steps\n",
    "    lambda_L = [lambda_L_1, ..., lambda_L_K] are the parameters for Limit orders\n",
    "    where lambda_L_i(n) is the intensity of adding a Limit order at i when there is a queue size of n\n",
    "    lambda_L are the parameters for Cancellation orders\n",
    "    lambda_M are the parameters for Market orders\n",
    "    '''\n",
    "    ## COMMENT INITIALISER??\n",
    "    Q = [0 for i in range (K)]\n",
    "    Q = Q[::-1]+[0 for i in range (K)]\n",
    "    for i in range (len(Q)//2): # Q of size 2K\n",
    "        Q[K+i] = np.random.poisson(lam=lambda_L[i](0))\n",
    "        Q[K-1-i] = np.random.poisson(lam=lambda_L[i](0))\n",
    "    for i in range (T):\n",
    "        maj(lambda_L, lambda_C, lambda_M, Q, K)\n",
    "    return Q\n",
    "\n",
    "def maj(lambda_L, lambda_C, lambda_M, Q, K):\n",
    "    '''\n",
    "    Updating the LOB\n",
    "    '''\n",
    "    for i in range (len(Q)//2): # Q of size 2K\n",
    "        # adding Limit orders, deleting cancellations orders + sell/buy orders\n",
    "        Q[K+i]= Q[K+i]+np.random.poisson(lam=lambda_L[i](Q[K+i]))-np.random.poisson(lam=lambda_C[i](Q[K+i]))-np.random.poisson(lam=lambda_M[i](Q[K+i]))\n",
    "        Q[K-i-1]= Q[K-i-1]+np.random.poisson(lam=lambda_L[i](Q[K+i]))-np.random.poisson(lam=lambda_C[i](Q[K+i]))-np.random.poisson(lam=lambda_M[i](Q[K+i]))\n",
    "    return Q"
   ]
  },
  {
   "cell_type": "markdown",
   "metadata": {},
   "source": [
    "We need to have positive values, meaning that we need to have more insertion than cancellation and market orders."
   ]
  },
  {
   "cell_type": "code",
   "execution_count": 3,
   "metadata": {},
   "outputs": [
    {
     "name": "stdout",
     "output_type": "stream",
     "text": [
      "50.0\n",
      "State at time 10 : [7, 65, 63, 7]\n"
     ]
    }
   ],
   "source": [
    "K = 2\n",
    "def f_L_1(n):\n",
    "    if n == 0:\n",
    "        return 70\n",
    "    return 50/n\n",
    "\n",
    "def f_L_2(n):\n",
    "    if n == 0:\n",
    "        return 10\n",
    "    return 5/n\n",
    "\n",
    "def f_C_1(n):\n",
    "    if n == 0:\n",
    "        return 20\n",
    "    return 30/n\n",
    "\n",
    "def f_C_2(n):\n",
    "    if n == 0:\n",
    "        return 0\n",
    "    return 4/n\n",
    "\n",
    "def f_M_1(n):\n",
    "    if n == 0:\n",
    "        return 0\n",
    "    return 20/n\n",
    "\n",
    "def f_M_2(n):\n",
    "    if n == 0:\n",
    "        return 0\n",
    "    return 1/n\n",
    "\n",
    "lambda_L = [f_L_1,f_L_2]\n",
    "lambda_C = [f_C_1,f_C_2]\n",
    "lambda_M = [f_M_1,f_M_2]\n",
    "\n",
    "print(lambda_L[0](1))\n",
    "T = 10\n",
    "print('State at time',T,':',model_I(K, T, lambda_L, lambda_C, lambda_M))"
   ]
  },
  {
   "cell_type": "code",
   "execution_count": null,
   "metadata": {},
   "outputs": [],
   "source": []
  }
 ],
 "metadata": {
  "kernelspec": {
   "display_name": "EA",
   "language": "python",
   "name": "python3"
  },
  "language_info": {
   "codemirror_mode": {
    "name": "ipython",
    "version": 3
   },
   "file_extension": ".py",
   "mimetype": "text/x-python",
   "name": "python",
   "nbconvert_exporter": "python",
   "pygments_lexer": "ipython3",
   "version": "3.9.18"
  }
 },
 "nbformat": 4,
 "nbformat_minor": 2
}
