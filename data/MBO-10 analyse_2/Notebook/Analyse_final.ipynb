{
 "cells": [
  {
   "cell_type": "code",
   "execution_count": 1,
   "metadata": {},
   "outputs": [],
   "source": [
    "import pandas as pd # ca on va devoir bcp l'uiliser\n",
    "import numpy as np\n",
    "import plotly.graph_objects as go\n",
    "import warnings\n",
    "warnings.filterwarnings(\"ignore\", category=pd.errors.SettingWithCopyWarning)\n",
    "pd.set_option('display.max_columns', None)\n",
    "pd.set_option('display.expand_frame_repr', False)\n",
    "pd.set_option('display.max_rows', None)\n",
    "from tqdm import tqdm\n",
    "import os\n",
    "import glob\n",
    "from collections import Counter"
   ]
  },
  {
   "cell_type": "code",
   "execution_count": null,
   "metadata": {},
   "outputs": [],
   "source": [
    "def process_dataframe(df, depth):\n",
    "    df = df.replace(614, 0)\n",
    "    df = df[df['symbol'] == 'GOOGL']\n",
    "    df['ts_event'] = pd.to_datetime(df['ts_event'], errors='coerce')\n",
    "    df[f'bid_sz_0{depth}_diff'] = df[f'bid_sz_0{depth}'].diff()\n",
    "    df[f'ask_sz_0{depth}_diff'] = df[f'ask_sz_0{depth}'].diff()\n",
    "    df = df[df['depth'] == depth]\n",
    "    # df['ts_event'] = pd.to_datetime(df['ts_event'], errors='coerce')\n",
    "    # try:\n",
    "    #     df['ts_event'] = pd.to_datetime(df['ts_event'], format=\"%Y-%m-%d %H:%M:%S%z\", errors='coerce')\n",
    "    # except ValueError:\n",
    "    #     df['ts_event'] = pd.to_datetime(df['ts_event'], format='mixed', errors='coerce')\n",
    "    \n",
    "    df['temps_ecoule'] = df['ts_event'].diff()\n",
    "    df['temps_ecoule_secondes'] = df['temps_ecoule'].dt.total_seconds()\n",
    "    condition_T = (\n",
    "        (df['action'] == 'T') &\n",
    "        (\n",
    "            ((df['side'] == 'B') & (df[f'bid_sz_0{depth}_diff'] == -df['size'])) |\n",
    "            ((df['side'] == 'A') & (df[f'ask_sz_0{depth}_diff'] == -df['size']))\n",
    "        )\n",
    "    )\n",
    "    condition_A = (\n",
    "        (df['action'] == 'A') &\n",
    "        (\n",
    "            ((df['side'] == 'B') & (df[f'bid_sz_0{depth}_diff'] == df['size'])) |\n",
    "            ((df['side'] == 'A') & (df[f'ask_sz_0{depth}_diff'] == df['size']))\n",
    "        )\n",
    "    )\n",
    "    condition_C = (\n",
    "        (df['action'] == 'C') &\n",
    "        (\n",
    "            ((df['side'] == 'B') & (df[f'bid_sz_0{depth}_diff'] == -df['size'])) |\n",
    "            ((df['side'] == 'A') & (df[f'ask_sz_0{depth}_diff'] == -df['size']))\n",
    "        )\n",
    "    )\n",
    "    df['status'] = np.where(condition_T | condition_A | condition_C, 'OK', 'NOK')\n",
    "    df = df[df['status'] == 'OK']\n",
    "    return df\n",
    "\n",
    "def dico_queue_size(sizes, dic):\n",
    "    for i in range (len(sizes)):\n",
    "        if sizes[i] not in dic:\n",
    "            dic[sizes[i]] = [[], [], []]\n",
    "    return dic\n",
    "\n",
    "def compute_means(dico):\n",
    "    sums = 0\n",
    "    means = 0\n",
    "    keys = np.array(list(dico.keys()))\n",
    "    for i in range (len(keys)):\n",
    "        means = means+keys[i]*len(dico[keys[i]][0])+keys[i]*len(dico[keys[i]][1])+keys[i]*len(dico[keys[i]][2])\n",
    "        sums = sums+len(dico[keys[i]][0])+len(dico[keys[i]][1])+len(dico[keys[i]][2])\n",
    "    return means/sums\n",
    "\n",
    "def filtrage(dico, nombre_bins, threshold=100):\n",
    "    dico_p = dict(reversed(list(dico.items())))\n",
    "    keys = list(dico_p.keys())\n",
    "    i = 0\n",
    "    while len(dico_p[keys[i]][0])<threshold:\n",
    "        i += 1\n",
    "    values = np.linspace(0, keys[i], nombre_bins, endpoint=True)\n",
    "    keys = np.array(list(dico.keys()))\n",
    "    \n",
    "    real_dic = {}\n",
    "    for i in range (len(keys)):\n",
    "        real_k_index = np.argmin(np.abs(values-keys[i]))\n",
    "        real_k = values[real_k_index]\n",
    "        \n",
    "        if real_k not in real_dic:\n",
    "            real_dic[real_k] = [\n",
    "                np.array(dico[keys[i]][0]),\n",
    "                np.array(dico[keys[i]][1]),\n",
    "                np.array(dico[keys[i]][2])\n",
    "            ]\n",
    "        else:\n",
    "            real_dic[real_k] = [\n",
    "                np.concatenate([real_dic[real_k][0], dico[keys[i]][0]]),\n",
    "                np.concatenate([real_dic[real_k][1], dico[keys[i]][1]]),\n",
    "                np.concatenate([real_dic[real_k][2], dico[keys[i]][2]])\n",
    "            ]\n",
    "    return real_dic\n",
    "\n",
    "def remove_nan_from_dico(dico):\n",
    "    cleaned_dico = {}\n",
    "    for key, value_lists in dico.items():\n",
    "        cleaned_value_lists = []\n",
    "        for value_list in value_lists:\n",
    "            value_array = np.array(value_list)\n",
    "            cleaned_array = value_array[~np.isnan(value_array)]\n",
    "            cleaned_value_lists.append(cleaned_array.tolist())\n",
    "        cleaned_dico[key] = cleaned_value_lists\n",
    "    return cleaned_dico\n",
    "\n",
    "files_csv = glob.glob(os.path.join(\"/Volumes/T9/CSV_dezippe_nasdaq\", \"*.csv\"))\n",
    "#files_csv = glob.glob(os.path.join(\"/Users/edouard/Desktop/EA p1  HFT/HFT_QR_RL_save/Sans titre/HFT_QR_RL/data/MBO-10 analyse_2/CSV_dezippe_nasdaq\", \"*.csv\"))"
   ]
  },
  {
   "cell_type": "code",
   "execution_count": null,
   "metadata": {},
   "outputs": [],
   "source": [
    "import pandas as pd\n",
    "import numpy as np\n",
    "from joblib import Parallel, delayed\n",
    "from tqdm import tqdm\n",
    "\n",
    "def process_file(f, level, dic):\n",
    "    MBO_ = pd.read_csv(f)\n",
    "    MBO_filtered_depth_0_ = process_dataframe(MBO_, level)\n",
    "    MBO_filtered_depth_0_ = MBO_filtered_depth_0_[(MBO_filtered_depth_0_['ts_event'].dt.hour >= 14) & (MBO_filtered_depth_0_['ts_event'].dt.hour < 20)]\n",
    "    sizes = np.unique(np.array((np.unique(MBO_filtered_depth_0_['bid_sz_00'].to_numpy())).tolist() + (np.unique(MBO_filtered_depth_0_['ask_sz_00'].to_numpy())).tolist()))\n",
    "    MBO_filtered_depth_0_ = MBO_filtered_depth_0_.dropna()\n",
    "    sizes.sort()\n",
    "    dic = dico_queue_size(sizes, dic)  # Add, Cancel, Trade\n",
    "    for row in MBO_filtered_depth_0_.itertuples():\n",
    "        if row.side == 'A':\n",
    "            taille = row.ask_sz_00\n",
    "        elif row.side == 'B':\n",
    "            taille = row.bid_sz_00\n",
    "        else:\n",
    "            continue\n",
    "        \n",
    "        if row.action == 'A':\n",
    "            dic[taille][0].append(row.temps_ecoule_secondes)\n",
    "        elif row.action == 'C':\n",
    "            dic[taille][1].append(row.temps_ecoule_secondes)\n",
    "        elif row.action == 'T':\n",
    "            dic[taille][2].append(row.temps_ecoule_secondes)\n",
    "    \n",
    "    return dic\n",
    "level = 0\n",
    "\n",
    "dic = {}\n",
    "results = Parallel(n_jobs=4)(delayed(process_file)(f, level, dic) for f in tqdm(files_csv))\n",
    "\n",
    "for result in results:\n",
    "    for size, actions in result.items():\n",
    "        if size not in dic:\n",
    "            dic[size] = actions\n",
    "        else:\n",
    "            for i in range(3):  # Add, Cancel, Trade\n",
    "                dic[size][i].extend(actions[i])\n"
   ]
  },
  {
   "cell_type": "code",
   "execution_count": 2,
   "metadata": {},
   "outputs": [
    {
     "ename": "NameError",
     "evalue": "name 'remove_nan_from_dico' is not defined",
     "output_type": "error",
     "traceback": [
      "\u001b[0;31m---------------------------------------------------------------------------\u001b[0m",
      "\u001b[0;31mNameError\u001b[0m                                 Traceback (most recent call last)",
      "Cell \u001b[0;32mIn[2], line 10\u001b[0m\n\u001b[1;32m      7\u001b[0m sizes_trade \u001b[38;5;241m=\u001b[39m []\n\u001b[1;32m      8\u001b[0m threshold \u001b[38;5;241m=\u001b[39m \u001b[38;5;241m100\u001b[39m\n\u001b[0;32m---> 10\u001b[0m dic \u001b[38;5;241m=\u001b[39m \u001b[43mremove_nan_from_dico\u001b[49m(dic)\n\u001b[1;32m     11\u001b[0m average_sizes \u001b[38;5;241m=\u001b[39m compute_means(dic)\n\u001b[1;32m     12\u001b[0m intensities \u001b[38;5;241m=\u001b[39m \u001b[38;5;28mdict\u001b[39m(\u001b[38;5;28msorted\u001b[39m(dic\u001b[38;5;241m.\u001b[39mitems()))\n",
      "\u001b[0;31mNameError\u001b[0m: name 'remove_nan_from_dico' is not defined"
     ]
    }
   ],
   "source": [
    "# visualisation\n",
    "Add = []\n",
    "Cancel = []\n",
    "Trade = []\n",
    "sizes_add = []\n",
    "sizes_cancel = []\n",
    "sizes_trade = []\n",
    "threshold = 100\n",
    "\n",
    "dic = remove_nan_from_dico(dic)\n",
    "average_sizes = compute_means(dic)\n",
    "intensities = dict(sorted(dic.items()))\n",
    "intensities = filtrage(intensities, 50, threshold=50)\n",
    "\n",
    "threshold_trade = 2000\n",
    "threshold = 4000\n",
    "\n",
    "for i in intensities:\n",
    "    tab = np.concatenate((intensities[i][0], intensities[i][1], intensities[i][2]))\n",
    "    if (len(intensities[i][0])>threshold):\n",
    "            Add.append(1/np.mean(tab)*len(intensities[i][0])/len(tab))\n",
    "            sizes_add.append(i)\n",
    "    if len(intensities[i][1])!=0:\n",
    "        if (len(intensities[i][1])>threshold):\n",
    "            Cancel.append(1/np.mean(tab)*len(intensities[i][1])/len(tab))\n",
    "            sizes_cancel.append(i)\n",
    "    if len(intensities[i][2])!=0:\n",
    "        if (len(intensities[i][2])>threshold_trade):\n",
    "            Trade.append(1/np.mean(tab)*len(intensities[i][2])/len(tab))\n",
    "            sizes_trade.append(i)\n",
    "            \n",
    "fig = go.Figure()\n",
    "fig.add_trace(go.Scatter(x = sizes_add/average_sizes, y = Add, mode ='lines', name ='Add', showlegend = True))\n",
    "fig.add_trace(go.Scatter(x = sizes_cancel/average_sizes, y = Cancel, mode ='lines', name = f'Cancel', showlegend = True))\n",
    "fig.add_trace(go.Scatter(x = sizes_trade/average_sizes, y = Trade, mode ='lines', name = f'Trade', showlegend = True))\n",
    "fig.update_layout(title=f'Intensities GOOGL premiere limite', xaxis_title='size', yaxis_title='intensity', showlegend=True)\n",
    "fig.show()"
   ]
  },
  {
   "cell_type": "code",
   "execution_count": 3,
   "metadata": {},
   "outputs": [],
   "source": [
    "def process_dataframe(df, depth):\n",
    "    df = df.replace(614, 0)\n",
    "    df = df[df['symbol'] == 'KHC']\n",
    "    df['ts_event'] = pd.to_datetime(df['ts_event'], errors='coerce')\n",
    "    df[f'bid_sz_0{depth}_diff'] = df[f'bid_sz_0{depth}'].diff()\n",
    "    df[f'ask_sz_0{depth}_diff'] = df[f'ask_sz_0{depth}'].diff()\n",
    "    df = df[df['depth'] == depth]\n",
    "    # df['ts_event'] = pd.to_datetime(df['ts_event'], errors='coerce')\n",
    "    # try:\n",
    "    #     df['ts_event'] = pd.to_datetime(df['ts_event'], format=\"%Y-%m-%d %H:%M:%S%z\", errors='coerce')\n",
    "    # except ValueError:\n",
    "    #     df['ts_event'] = pd.to_datetime(df['ts_event'], format='mixed', errors='coerce')\n",
    "    \n",
    "    df['temps_ecoule'] = df['ts_event'].diff()\n",
    "    df['temps_ecoule_secondes'] = df['temps_ecoule'].dt.total_seconds()\n",
    "    condition_T = (\n",
    "        (df['action'] == 'T') &\n",
    "        (\n",
    "            ((df['side'] == 'B') & (df[f'bid_sz_0{depth}_diff'] == -df['size'])) |\n",
    "            ((df['side'] == 'A') & (df[f'ask_sz_0{depth}_diff'] == -df['size']))\n",
    "        )\n",
    "    )\n",
    "    condition_A = (\n",
    "        (df['action'] == 'A') &\n",
    "        (\n",
    "            ((df['side'] == 'B') & (df[f'bid_sz_0{depth}_diff'] == df['size'])) |\n",
    "            ((df['side'] == 'A') & (df[f'ask_sz_0{depth}_diff'] == df['size']))\n",
    "        )\n",
    "    )\n",
    "    condition_C = (\n",
    "        (df['action'] == 'C') &\n",
    "        (\n",
    "            ((df['side'] == 'B') & (df[f'bid_sz_0{depth}_diff'] == -df['size'])) |\n",
    "            ((df['side'] == 'A') & (df[f'ask_sz_0{depth}_diff'] == -df['size']))\n",
    "        )\n",
    "    )\n",
    "    df['status'] = np.where(condition_T | condition_A | condition_C, 'OK', 'NOK')\n",
    "    df = df[df['status'] == 'OK']\n",
    "    return df\n",
    "\n",
    "def dico_queue_size(sizes, dic):\n",
    "    for i in range (len(sizes)):\n",
    "        if sizes[i] not in dic:\n",
    "            dic[sizes[i]] = [[], [], []]\n",
    "    return dic\n",
    "\n",
    "def compute_means(dico):\n",
    "    sums = 0\n",
    "    means = 0\n",
    "    keys = np.array(list(dico.keys()))\n",
    "    for i in range (len(keys)):\n",
    "        means = means+keys[i]*len(dico[keys[i]][0])+keys[i]*len(dico[keys[i]][1])+keys[i]*len(dico[keys[i]][2])\n",
    "        sums = sums+len(dico[keys[i]][0])+len(dico[keys[i]][1])+len(dico[keys[i]][2])\n",
    "    return means/sums\n",
    "\n",
    "def filtrage(dico, nombre_bins, threshold=100):\n",
    "    dico_p = dict(reversed(list(dico.items())))\n",
    "    keys = list(dico_p.keys())\n",
    "    i = 0\n",
    "    while len(dico_p[keys[i]][0])<threshold:\n",
    "        i += 1\n",
    "    values = np.linspace(0, keys[i], nombre_bins, endpoint=True)\n",
    "    keys = np.array(list(dico.keys()))\n",
    "    \n",
    "    real_dic = {}\n",
    "    for i in range (len(keys)):\n",
    "        real_k_index = np.argmin(np.abs(values-keys[i]))\n",
    "        real_k = values[real_k_index]\n",
    "        \n",
    "        if real_k not in real_dic:\n",
    "            real_dic[real_k] = [\n",
    "                np.array(dico[keys[i]][0]),\n",
    "                np.array(dico[keys[i]][1]),\n",
    "                np.array(dico[keys[i]][2])\n",
    "            ]\n",
    "        else:\n",
    "            real_dic[real_k] = [\n",
    "                np.concatenate([real_dic[real_k][0], dico[keys[i]][0]]),\n",
    "                np.concatenate([real_dic[real_k][1], dico[keys[i]][1]]),\n",
    "                np.concatenate([real_dic[real_k][2], dico[keys[i]][2]])\n",
    "            ]\n",
    "    return real_dic\n",
    "\n",
    "def remove_nan_from_dico(dico):\n",
    "    cleaned_dico = {}\n",
    "    for key, value_lists in dico.items():\n",
    "        cleaned_value_lists = []\n",
    "        for value_list in value_lists:\n",
    "            value_array = np.array(value_list)\n",
    "            cleaned_array = value_array[~np.isnan(value_array)]\n",
    "            cleaned_value_lists.append(cleaned_array.tolist())\n",
    "        cleaned_dico[key] = cleaned_value_lists\n",
    "    return cleaned_dico\n",
    "\n",
    "files_csv = glob.glob(os.path.join(\"/Volumes/T9/CSV_dezippe_nasdaq\", \"*.csv\"))\n",
    "#files_csv = glob.glob(os.path.join(\"/Users/edouard/Desktop/EA p1  HFT/HFT_QR_RL_save/Sans titre/HFT_QR_RL/data/MBO-10 analyse_2/CSV_dezippe_nasdaq\", \"*.csv\"))"
   ]
  },
  {
   "cell_type": "code",
   "execution_count": 4,
   "metadata": {},
   "outputs": [
    {
     "name": "stderr",
     "output_type": "stream",
     "text": [
      " 18%|█▊        | 12/65 [00:40<03:11,  3.61s/it]/Users/edouard/miniforge3/envs/IA_m1/lib/python3.9/site-packages/joblib/externals/loky/process_executor.py:752: UserWarning: A worker stopped while some jobs were given to the executor. This can be caused by a too short worker timeout or by a memory leak.\n",
      "  warnings.warn(\n",
      "100%|██████████| 65/65 [06:34<00:00,  6.07s/it]\n"
     ]
    }
   ],
   "source": [
    "import pandas as pd\n",
    "import numpy as np\n",
    "from joblib import Parallel, delayed\n",
    "from tqdm import tqdm\n",
    "\n",
    "def process_file(f, level, dic):\n",
    "    MBO_ = pd.read_csv(f)\n",
    "    MBO_filtered_depth_0_ = process_dataframe(MBO_, level)\n",
    "    MBO_filtered_depth_0_ = MBO_filtered_depth_0_[(MBO_filtered_depth_0_['ts_event'].dt.hour >= 14) & (MBO_filtered_depth_0_['ts_event'].dt.hour < 20)]\n",
    "    sizes = np.unique(np.array((np.unique(MBO_filtered_depth_0_['bid_sz_00'].to_numpy())).tolist() + (np.unique(MBO_filtered_depth_0_['ask_sz_00'].to_numpy())).tolist()))\n",
    "    MBO_filtered_depth_0_ = MBO_filtered_depth_0_.dropna()\n",
    "    sizes.sort()\n",
    "    dic = dico_queue_size(sizes, dic)  # Add, Cancel, Trade\n",
    "    for row in MBO_filtered_depth_0_.itertuples():\n",
    "        if row.side == 'A':\n",
    "            taille = row.ask_sz_00\n",
    "        elif row.side == 'B':\n",
    "            taille = row.bid_sz_00\n",
    "        else:\n",
    "            continue\n",
    "        \n",
    "        if row.action == 'A':\n",
    "            dic[taille][0].append(row.temps_ecoule_secondes)\n",
    "        elif row.action == 'C':\n",
    "            dic[taille][1].append(row.temps_ecoule_secondes)\n",
    "        elif row.action == 'T':\n",
    "            dic[taille][2].append(row.temps_ecoule_secondes)\n",
    "    \n",
    "    return dic\n",
    "level = 0\n",
    "\n",
    "dic = {}\n",
    "results = Parallel(n_jobs=4)(delayed(process_file)(f, level, dic) for f in tqdm(files_csv))\n",
    "\n",
    "for result in results:\n",
    "    for size, actions in result.items():\n",
    "        if size not in dic:\n",
    "            dic[size] = actions\n",
    "        else:\n",
    "            for i in range(3):  # Add, Cancel, Trade\n",
    "                dic[size][i].extend(actions[i])\n"
   ]
  },
  {
   "cell_type": "code",
   "execution_count": 5,
   "metadata": {},
   "outputs": [
    {
     "data": {
      "application/vnd.plotly.v1+json": {
       "config": {
        "plotlyServerURL": "https://plot.ly"
       },
       "data": [
        {
         "mode": "lines",
         "name": "Add",
         "showlegend": true,
         "type": "scatter",
         "x": [
          0,
          0.08511033814281671,
          0.17022067628563342,
          0.25533101442845013,
          0.34044135257126684,
          0.4255516907140836,
          0.5106620288569003,
          0.5957723669997169,
          0.6808827051425337,
          0.7659930432853505,
          0.8511033814281672,
          0.9362137195709838,
          1.0213240577138005,
          1.1064343958566172,
          1.1915447339994338,
          1.2766550721422507,
          1.3617654102850674,
          1.446875748427884,
          1.531986086570701,
          1.6170964247135176,
          1.7022067628563344,
          1.7873171009991509,
          1.8724274391419675,
          1.9575377772847844,
          2.042648115427601,
          2.1277584535704177,
          2.2128687917132344,
          2.297979129856051,
          2.3830894679988677,
          2.4681998061416848,
          2.5533101442845014,
          2.6384204824273176,
          2.7235308205701347,
          2.808641158712952,
          2.893751496855768,
          2.9788618349985847,
          3.063972173141402,
          3.149082511284218,
          3.234192849427035,
          3.3193031875698518,
          3.404413525712669,
          3.489523863855485,
          3.5746342019983017,
          3.659744540141119,
          3.744854878283935,
          3.829965216426752,
          3.915075554569569,
          4.000185892712385,
          4.085296230855202,
          4.170406568998018
         ],
         "y": [
          0.5474826637202983,
          1.8227291841738915,
          1.8987833418570506,
          1.9644946952203108,
          2.154834579883975,
          2.101458334126097,
          2.1460582663895837,
          2.3545370761833104,
          2.3499479871558524,
          2.4609017253706864,
          2.6513009306390694,
          2.8392007598944704,
          2.964300414054574,
          3.2074637753876902,
          3.3854446321030602,
          3.5351394359766104,
          3.923376113581532,
          4.035024639355158,
          4.28567105954208,
          4.828254157320744,
          4.783966463478298,
          5.027561326942749,
          5.547418835609756,
          5.647980166974827,
          5.971557955391324,
          6.285487930623431,
          7.069417601589577,
          6.8765014308981876,
          6.785177713083307,
          7.435068708143597,
          7.162150337960703,
          7.698046910925068,
          7.3544014189279805,
          8.423183598879305,
          8.075542415723705,
          8.275935575916005,
          9.04627889068709,
          9.668383603072682,
          10.572032558044688,
          10.330168307221282,
          9.728540669325204,
          9.626787123051956,
          10.321630480272688,
          10.648184006644243,
          10.653698979892669,
          10.683214012004127,
          11.312084860455496,
          10.268747158121954,
          10.497020818266192,
          11.200803838349906
         ]
        },
        {
         "mode": "lines",
         "name": "Cancel",
         "showlegend": true,
         "type": "scatter",
         "x": [
          0,
          0.08511033814281671,
          0.17022067628563342,
          0.25533101442845013,
          0.34044135257126684,
          0.4255516907140836,
          0.5106620288569003,
          0.5957723669997169,
          0.6808827051425337,
          0.7659930432853505,
          0.8511033814281672,
          0.9362137195709838,
          1.0213240577138005,
          1.1064343958566172,
          1.1915447339994338,
          1.2766550721422507,
          1.3617654102850674,
          1.446875748427884,
          1.531986086570701,
          1.6170964247135176,
          1.7022067628563344,
          1.7873171009991509,
          1.8724274391419675,
          1.9575377772847844,
          2.042648115427601,
          2.1277584535704177,
          2.2128687917132344,
          2.297979129856051,
          2.3830894679988677,
          2.4681998061416848,
          2.5533101442845014,
          2.6384204824273176,
          2.7235308205701347,
          2.808641158712952,
          2.893751496855768,
          2.9788618349985847,
          3.063972173141402,
          3.149082511284218,
          3.234192849427035,
          3.3193031875698518,
          3.404413525712669,
          3.489523863855485,
          4.170406568998018
         ],
         "y": [
          6.177185806331386,
          3.714475718773498,
          2.581498556610938,
          2.279924325559893,
          2.194751155150421,
          2.076136246047907,
          1.985070577910538,
          2.086290918703846,
          2.047024912049499,
          2.0520453644569265,
          2.201831171431418,
          2.260060519820802,
          2.319132406933094,
          2.4678791282408223,
          2.5525645157498635,
          2.5971990384462327,
          2.8598850519455206,
          2.8679618667916094,
          3.0362923452056463,
          3.3580584430404676,
          3.2738087017057795,
          3.3652235732316633,
          3.668825194231042,
          3.6518277140865214,
          3.8964691429017604,
          4.051922147460785,
          4.49242475215226,
          4.441571438570819,
          4.347479817117976,
          4.689668951170131,
          4.513745103844636,
          4.927730665910634,
          4.553679587952454,
          5.205914658285675,
          5.01698905462926,
          5.174146352680199,
          5.601292571243487,
          5.8626189865529135,
          6.598003996859382,
          6.404337939642887,
          5.79028527385681,
          5.887602124647019,
          7.619327345886861
         ]
        },
        {
         "mode": "lines",
         "name": "Trade",
         "showlegend": true,
         "type": "scatter",
         "x": [],
         "y": []
        }
       ],
       "layout": {
        "showlegend": true,
        "template": {
         "data": {
          "bar": [
           {
            "error_x": {
             "color": "#2a3f5f"
            },
            "error_y": {
             "color": "#2a3f5f"
            },
            "marker": {
             "line": {
              "color": "#E5ECF6",
              "width": 0.5
             },
             "pattern": {
              "fillmode": "overlay",
              "size": 10,
              "solidity": 0.2
             }
            },
            "type": "bar"
           }
          ],
          "barpolar": [
           {
            "marker": {
             "line": {
              "color": "#E5ECF6",
              "width": 0.5
             },
             "pattern": {
              "fillmode": "overlay",
              "size": 10,
              "solidity": 0.2
             }
            },
            "type": "barpolar"
           }
          ],
          "carpet": [
           {
            "aaxis": {
             "endlinecolor": "#2a3f5f",
             "gridcolor": "white",
             "linecolor": "white",
             "minorgridcolor": "white",
             "startlinecolor": "#2a3f5f"
            },
            "baxis": {
             "endlinecolor": "#2a3f5f",
             "gridcolor": "white",
             "linecolor": "white",
             "minorgridcolor": "white",
             "startlinecolor": "#2a3f5f"
            },
            "type": "carpet"
           }
          ],
          "choropleth": [
           {
            "colorbar": {
             "outlinewidth": 0,
             "ticks": ""
            },
            "type": "choropleth"
           }
          ],
          "contour": [
           {
            "colorbar": {
             "outlinewidth": 0,
             "ticks": ""
            },
            "colorscale": [
             [
              0,
              "#0d0887"
             ],
             [
              0.1111111111111111,
              "#46039f"
             ],
             [
              0.2222222222222222,
              "#7201a8"
             ],
             [
              0.3333333333333333,
              "#9c179e"
             ],
             [
              0.4444444444444444,
              "#bd3786"
             ],
             [
              0.5555555555555556,
              "#d8576b"
             ],
             [
              0.6666666666666666,
              "#ed7953"
             ],
             [
              0.7777777777777778,
              "#fb9f3a"
             ],
             [
              0.8888888888888888,
              "#fdca26"
             ],
             [
              1,
              "#f0f921"
             ]
            ],
            "type": "contour"
           }
          ],
          "contourcarpet": [
           {
            "colorbar": {
             "outlinewidth": 0,
             "ticks": ""
            },
            "type": "contourcarpet"
           }
          ],
          "heatmap": [
           {
            "colorbar": {
             "outlinewidth": 0,
             "ticks": ""
            },
            "colorscale": [
             [
              0,
              "#0d0887"
             ],
             [
              0.1111111111111111,
              "#46039f"
             ],
             [
              0.2222222222222222,
              "#7201a8"
             ],
             [
              0.3333333333333333,
              "#9c179e"
             ],
             [
              0.4444444444444444,
              "#bd3786"
             ],
             [
              0.5555555555555556,
              "#d8576b"
             ],
             [
              0.6666666666666666,
              "#ed7953"
             ],
             [
              0.7777777777777778,
              "#fb9f3a"
             ],
             [
              0.8888888888888888,
              "#fdca26"
             ],
             [
              1,
              "#f0f921"
             ]
            ],
            "type": "heatmap"
           }
          ],
          "heatmapgl": [
           {
            "colorbar": {
             "outlinewidth": 0,
             "ticks": ""
            },
            "colorscale": [
             [
              0,
              "#0d0887"
             ],
             [
              0.1111111111111111,
              "#46039f"
             ],
             [
              0.2222222222222222,
              "#7201a8"
             ],
             [
              0.3333333333333333,
              "#9c179e"
             ],
             [
              0.4444444444444444,
              "#bd3786"
             ],
             [
              0.5555555555555556,
              "#d8576b"
             ],
             [
              0.6666666666666666,
              "#ed7953"
             ],
             [
              0.7777777777777778,
              "#fb9f3a"
             ],
             [
              0.8888888888888888,
              "#fdca26"
             ],
             [
              1,
              "#f0f921"
             ]
            ],
            "type": "heatmapgl"
           }
          ],
          "histogram": [
           {
            "marker": {
             "pattern": {
              "fillmode": "overlay",
              "size": 10,
              "solidity": 0.2
             }
            },
            "type": "histogram"
           }
          ],
          "histogram2d": [
           {
            "colorbar": {
             "outlinewidth": 0,
             "ticks": ""
            },
            "colorscale": [
             [
              0,
              "#0d0887"
             ],
             [
              0.1111111111111111,
              "#46039f"
             ],
             [
              0.2222222222222222,
              "#7201a8"
             ],
             [
              0.3333333333333333,
              "#9c179e"
             ],
             [
              0.4444444444444444,
              "#bd3786"
             ],
             [
              0.5555555555555556,
              "#d8576b"
             ],
             [
              0.6666666666666666,
              "#ed7953"
             ],
             [
              0.7777777777777778,
              "#fb9f3a"
             ],
             [
              0.8888888888888888,
              "#fdca26"
             ],
             [
              1,
              "#f0f921"
             ]
            ],
            "type": "histogram2d"
           }
          ],
          "histogram2dcontour": [
           {
            "colorbar": {
             "outlinewidth": 0,
             "ticks": ""
            },
            "colorscale": [
             [
              0,
              "#0d0887"
             ],
             [
              0.1111111111111111,
              "#46039f"
             ],
             [
              0.2222222222222222,
              "#7201a8"
             ],
             [
              0.3333333333333333,
              "#9c179e"
             ],
             [
              0.4444444444444444,
              "#bd3786"
             ],
             [
              0.5555555555555556,
              "#d8576b"
             ],
             [
              0.6666666666666666,
              "#ed7953"
             ],
             [
              0.7777777777777778,
              "#fb9f3a"
             ],
             [
              0.8888888888888888,
              "#fdca26"
             ],
             [
              1,
              "#f0f921"
             ]
            ],
            "type": "histogram2dcontour"
           }
          ],
          "mesh3d": [
           {
            "colorbar": {
             "outlinewidth": 0,
             "ticks": ""
            },
            "type": "mesh3d"
           }
          ],
          "parcoords": [
           {
            "line": {
             "colorbar": {
              "outlinewidth": 0,
              "ticks": ""
             }
            },
            "type": "parcoords"
           }
          ],
          "pie": [
           {
            "automargin": true,
            "type": "pie"
           }
          ],
          "scatter": [
           {
            "fillpattern": {
             "fillmode": "overlay",
             "size": 10,
             "solidity": 0.2
            },
            "type": "scatter"
           }
          ],
          "scatter3d": [
           {
            "line": {
             "colorbar": {
              "outlinewidth": 0,
              "ticks": ""
             }
            },
            "marker": {
             "colorbar": {
              "outlinewidth": 0,
              "ticks": ""
             }
            },
            "type": "scatter3d"
           }
          ],
          "scattercarpet": [
           {
            "marker": {
             "colorbar": {
              "outlinewidth": 0,
              "ticks": ""
             }
            },
            "type": "scattercarpet"
           }
          ],
          "scattergeo": [
           {
            "marker": {
             "colorbar": {
              "outlinewidth": 0,
              "ticks": ""
             }
            },
            "type": "scattergeo"
           }
          ],
          "scattergl": [
           {
            "marker": {
             "colorbar": {
              "outlinewidth": 0,
              "ticks": ""
             }
            },
            "type": "scattergl"
           }
          ],
          "scattermapbox": [
           {
            "marker": {
             "colorbar": {
              "outlinewidth": 0,
              "ticks": ""
             }
            },
            "type": "scattermapbox"
           }
          ],
          "scatterpolar": [
           {
            "marker": {
             "colorbar": {
              "outlinewidth": 0,
              "ticks": ""
             }
            },
            "type": "scatterpolar"
           }
          ],
          "scatterpolargl": [
           {
            "marker": {
             "colorbar": {
              "outlinewidth": 0,
              "ticks": ""
             }
            },
            "type": "scatterpolargl"
           }
          ],
          "scatterternary": [
           {
            "marker": {
             "colorbar": {
              "outlinewidth": 0,
              "ticks": ""
             }
            },
            "type": "scatterternary"
           }
          ],
          "surface": [
           {
            "colorbar": {
             "outlinewidth": 0,
             "ticks": ""
            },
            "colorscale": [
             [
              0,
              "#0d0887"
             ],
             [
              0.1111111111111111,
              "#46039f"
             ],
             [
              0.2222222222222222,
              "#7201a8"
             ],
             [
              0.3333333333333333,
              "#9c179e"
             ],
             [
              0.4444444444444444,
              "#bd3786"
             ],
             [
              0.5555555555555556,
              "#d8576b"
             ],
             [
              0.6666666666666666,
              "#ed7953"
             ],
             [
              0.7777777777777778,
              "#fb9f3a"
             ],
             [
              0.8888888888888888,
              "#fdca26"
             ],
             [
              1,
              "#f0f921"
             ]
            ],
            "type": "surface"
           }
          ],
          "table": [
           {
            "cells": {
             "fill": {
              "color": "#EBF0F8"
             },
             "line": {
              "color": "white"
             }
            },
            "header": {
             "fill": {
              "color": "#C8D4E3"
             },
             "line": {
              "color": "white"
             }
            },
            "type": "table"
           }
          ]
         },
         "layout": {
          "annotationdefaults": {
           "arrowcolor": "#2a3f5f",
           "arrowhead": 0,
           "arrowwidth": 1
          },
          "autotypenumbers": "strict",
          "coloraxis": {
           "colorbar": {
            "outlinewidth": 0,
            "ticks": ""
           }
          },
          "colorscale": {
           "diverging": [
            [
             0,
             "#8e0152"
            ],
            [
             0.1,
             "#c51b7d"
            ],
            [
             0.2,
             "#de77ae"
            ],
            [
             0.3,
             "#f1b6da"
            ],
            [
             0.4,
             "#fde0ef"
            ],
            [
             0.5,
             "#f7f7f7"
            ],
            [
             0.6,
             "#e6f5d0"
            ],
            [
             0.7,
             "#b8e186"
            ],
            [
             0.8,
             "#7fbc41"
            ],
            [
             0.9,
             "#4d9221"
            ],
            [
             1,
             "#276419"
            ]
           ],
           "sequential": [
            [
             0,
             "#0d0887"
            ],
            [
             0.1111111111111111,
             "#46039f"
            ],
            [
             0.2222222222222222,
             "#7201a8"
            ],
            [
             0.3333333333333333,
             "#9c179e"
            ],
            [
             0.4444444444444444,
             "#bd3786"
            ],
            [
             0.5555555555555556,
             "#d8576b"
            ],
            [
             0.6666666666666666,
             "#ed7953"
            ],
            [
             0.7777777777777778,
             "#fb9f3a"
            ],
            [
             0.8888888888888888,
             "#fdca26"
            ],
            [
             1,
             "#f0f921"
            ]
           ],
           "sequentialminus": [
            [
             0,
             "#0d0887"
            ],
            [
             0.1111111111111111,
             "#46039f"
            ],
            [
             0.2222222222222222,
             "#7201a8"
            ],
            [
             0.3333333333333333,
             "#9c179e"
            ],
            [
             0.4444444444444444,
             "#bd3786"
            ],
            [
             0.5555555555555556,
             "#d8576b"
            ],
            [
             0.6666666666666666,
             "#ed7953"
            ],
            [
             0.7777777777777778,
             "#fb9f3a"
            ],
            [
             0.8888888888888888,
             "#fdca26"
            ],
            [
             1,
             "#f0f921"
            ]
           ]
          },
          "colorway": [
           "#636efa",
           "#EF553B",
           "#00cc96",
           "#ab63fa",
           "#FFA15A",
           "#19d3f3",
           "#FF6692",
           "#B6E880",
           "#FF97FF",
           "#FECB52"
          ],
          "font": {
           "color": "#2a3f5f"
          },
          "geo": {
           "bgcolor": "white",
           "lakecolor": "white",
           "landcolor": "#E5ECF6",
           "showlakes": true,
           "showland": true,
           "subunitcolor": "white"
          },
          "hoverlabel": {
           "align": "left"
          },
          "hovermode": "closest",
          "mapbox": {
           "style": "light"
          },
          "paper_bgcolor": "white",
          "plot_bgcolor": "#E5ECF6",
          "polar": {
           "angularaxis": {
            "gridcolor": "white",
            "linecolor": "white",
            "ticks": ""
           },
           "bgcolor": "#E5ECF6",
           "radialaxis": {
            "gridcolor": "white",
            "linecolor": "white",
            "ticks": ""
           }
          },
          "scene": {
           "xaxis": {
            "backgroundcolor": "#E5ECF6",
            "gridcolor": "white",
            "gridwidth": 2,
            "linecolor": "white",
            "showbackground": true,
            "ticks": "",
            "zerolinecolor": "white"
           },
           "yaxis": {
            "backgroundcolor": "#E5ECF6",
            "gridcolor": "white",
            "gridwidth": 2,
            "linecolor": "white",
            "showbackground": true,
            "ticks": "",
            "zerolinecolor": "white"
           },
           "zaxis": {
            "backgroundcolor": "#E5ECF6",
            "gridcolor": "white",
            "gridwidth": 2,
            "linecolor": "white",
            "showbackground": true,
            "ticks": "",
            "zerolinecolor": "white"
           }
          },
          "shapedefaults": {
           "line": {
            "color": "#2a3f5f"
           }
          },
          "ternary": {
           "aaxis": {
            "gridcolor": "white",
            "linecolor": "white",
            "ticks": ""
           },
           "baxis": {
            "gridcolor": "white",
            "linecolor": "white",
            "ticks": ""
           },
           "bgcolor": "#E5ECF6",
           "caxis": {
            "gridcolor": "white",
            "linecolor": "white",
            "ticks": ""
           }
          },
          "title": {
           "x": 0.05
          },
          "xaxis": {
           "automargin": true,
           "gridcolor": "white",
           "linecolor": "white",
           "ticks": "",
           "title": {
            "standoff": 15
           },
           "zerolinecolor": "white",
           "zerolinewidth": 2
          },
          "yaxis": {
           "automargin": true,
           "gridcolor": "white",
           "linecolor": "white",
           "ticks": "",
           "title": {
            "standoff": 15
           },
           "zerolinecolor": "white",
           "zerolinewidth": 2
          }
         }
        },
        "title": {
         "text": "Intensities GOOGL premiere limite"
        },
        "xaxis": {
         "title": {
          "text": "size"
         }
        },
        "yaxis": {
         "title": {
          "text": "intensity"
         }
        }
       }
      }
     },
     "metadata": {},
     "output_type": "display_data"
    }
   ],
   "source": [
    "# visualisation\n",
    "Add = []\n",
    "Cancel = []\n",
    "Trade = []\n",
    "sizes_add = []\n",
    "sizes_cancel = []\n",
    "sizes_trade = []\n",
    "threshold = 100\n",
    "\n",
    "dic = remove_nan_from_dico(dic)\n",
    "average_sizes = compute_means(dic)\n",
    "intensities = dict(sorted(dic.items()))\n",
    "intensities = filtrage(intensities, 50, threshold=50)\n",
    "\n",
    "threshold_trade = 2000\n",
    "threshold = 4000\n",
    "\n",
    "for i in intensities:\n",
    "    tab = np.concatenate((intensities[i][0], intensities[i][1], intensities[i][2]))\n",
    "    if (len(intensities[i][0])>threshold):\n",
    "            Add.append(1/np.mean(tab)*len(intensities[i][0])/len(tab))\n",
    "            sizes_add.append(i)\n",
    "    if len(intensities[i][1])!=0:\n",
    "        if (len(intensities[i][1])>threshold):\n",
    "            Cancel.append(1/np.mean(tab)*len(intensities[i][1])/len(tab))\n",
    "            sizes_cancel.append(i)\n",
    "    if len(intensities[i][2])!=0:\n",
    "        if (len(intensities[i][2])>threshold_trade):\n",
    "            Trade.append(1/np.mean(tab)*len(intensities[i][2])/len(tab))\n",
    "            sizes_trade.append(i)\n",
    "            \n",
    "fig = go.Figure()\n",
    "fig.add_trace(go.Scatter(x = sizes_add/average_sizes, y = Add, mode ='lines', name ='Add', showlegend = True))\n",
    "fig.add_trace(go.Scatter(x = sizes_cancel/average_sizes, y = Cancel, mode ='lines', name = f'Cancel', showlegend = True))\n",
    "fig.add_trace(go.Scatter(x = sizes_trade/average_sizes, y = Trade, mode ='lines', name = f'Trade', showlegend = True))\n",
    "fig.update_layout(title=f'Intensities GOOGL premiere limite', xaxis_title='size', yaxis_title='intensity', showlegend=True)\n",
    "fig.show()"
   ]
  }
 ],
 "metadata": {
  "kernelspec": {
   "display_name": "IA_m1",
   "language": "python",
   "name": "python3"
  },
  "language_info": {
   "codemirror_mode": {
    "name": "ipython",
    "version": 3
   },
   "file_extension": ".py",
   "mimetype": "text/x-python",
   "name": "python",
   "nbconvert_exporter": "python",
   "pygments_lexer": "ipython3",
   "version": "3.9.16"
  }
 },
 "nbformat": 4,
 "nbformat_minor": 2
}
