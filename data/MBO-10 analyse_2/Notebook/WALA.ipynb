{
 "cells": [
  {
   "cell_type": "code",
   "execution_count": 1,
   "metadata": {},
   "outputs": [],
   "source": [
    "import pandas as pd # ca on va devoir bcp l'uiliser\n",
    "import numpy as np\n",
    "import plotly.graph_objects as go\n",
    "import warnings\n",
    "warnings.filterwarnings(\"ignore\", category=pd.errors.SettingWithCopyWarning)\n",
    "pd.set_option('display.max_columns', None)\n",
    "pd.set_option('display.expand_frame_repr', False)\n",
    "pd.set_option('display.max_rows', None)\n",
    "from tqdm import tqdm\n",
    "import os\n",
    "import glob\n",
    "from collections import Counter\n"
   ]
  },
  {
   "cell_type": "code",
   "execution_count": 30,
   "metadata": {},
   "outputs": [
    {
     "name": "stdout",
     "output_type": "stream",
     "text": [
      "xnas-itch-20240726.mbp-10.csv\n"
     ]
    }
   ],
   "source": [
    "print('/Users/edouard/Desktop/EA p1  HFT/HFT_QR_RL_save/Sans titre/HFT_QR_RL/data/MBO-10 analyse_2/CSV_dezippe_nasdaq/xnas-itch-20240726.mbp-10.csv'[-29:])"
   ]
  },
  {
   "cell_type": "code",
   "execution_count": 2,
   "metadata": {},
   "outputs": [],
   "source": [
    "actif = 'GOOGL'\n",
    "limite = 0"
   ]
  },
  {
   "cell_type": "code",
   "execution_count": 3,
   "metadata": {},
   "outputs": [],
   "source": [
    "df = pd.read_csv('/Users/edouard/Desktop/EA p1  HFT/HFT_QR_RL_save/Sans titre/HFT_QR_RL/data/MBO-10 analyse_2/CSV_dezippe_nasdaq/xnas-itch-20240726.mbp-10.csv')\n",
    "df = df[df['symbol'] == actif]\n",
    "df = df[df['depth'] == limite]\n",
    "df['ts_event'] = pd.to_datetime(df['ts_event'])\n",
    "df = df[(df['ts_event'].dt.hour >= 14) & (df['ts_event'].dt.hour < 19)]\n",
    "df = df[df['side'].isin(['A','B'])]\n",
    "#df = df.head(300)"
   ]
  },
  {
   "cell_type": "code",
   "execution_count": 4,
   "metadata": {},
   "outputs": [],
   "source": [
    "# import pandas as pd\n",
    "\n",
    "# # Assurez-vous que le DataFrame est trié par 'ts_event'\n",
    "# df_sorted = df_.sort_values(by='ts_event').reset_index(drop=True)\n",
    "\n",
    "# # Spécifiez le timestamp cible\n",
    "# target_timestamp = pd.Timestamp('2024-09-27 14:00:00.707592949+00:00')\n",
    "\n",
    "# # Localiser l'index de la ligne qui correspond au timestamp cible\n",
    "# target_index = df_sorted[df_sorted['ts_event'] == target_timestamp].index\n",
    "\n",
    "# # Initialiser une liste pour stocker les événements avant et après\n",
    "# events_around_target = []\n",
    "\n",
    "# # Si le timestamp cible existe dans le DataFrame, récupérez les événements avant et après\n",
    "# if len(target_index) > 0:\n",
    "#     target_index = target_index[0]  # Prendre le premier match si plusieurs existent\n",
    "\n",
    "#     # Événement juste avant\n",
    "#     if target_index > 0:\n",
    "#         event_before = df_sorted.iloc[target_index - 1]\n",
    "#         events_around_target.append(event_before)\n",
    "\n",
    "#     # Événement juste après\n",
    "#     if target_index < len(df_sorted) - 1:\n",
    "#         event_after = df_sorted.iloc[target_index + 1]\n",
    "#         events_around_target.append(event_after)\n",
    "\n",
    "#     # Convertir les événements en DataFrame\n",
    "#     df_events_around_target = pd.DataFrame(events_around_target)\n",
    "#     print(\"Événements juste avant et juste après le timestamp cible:\")\n",
    "# else:\n",
    "#     print(\"Le timestamp cible n'est pas présent dans le DataFrame.\")\n"
   ]
  },
  {
   "cell_type": "code",
   "execution_count": 5,
   "metadata": {},
   "outputs": [],
   "source": [
    "# import pandas as pd\n",
    "\n",
    "# # Assurez-vous que le DataFrame est trié par 'ts_event'\n",
    "# df_sorted = df.sort_values(by='ts_event').reset_index(drop=True)\n",
    "\n",
    "# # Spécifiez le timestamp cible\n",
    "# target_timestamp = pd.Timestamp('2024-09-27 14:00:00.707592949+00:00')\n",
    "\n",
    "# # Filtrer pour obtenir l'événement immédiatement après le timestamp cible\n",
    "# event_after = df_sorted[df_sorted['ts_event'] > target_timestamp].head(1)\n",
    "\n",
    "# event_after.head()\n"
   ]
  },
  {
   "cell_type": "code",
   "execution_count": 6,
   "metadata": {},
   "outputs": [],
   "source": [
    "# df_events_around_target.head()"
   ]
  },
  {
   "cell_type": "code",
   "execution_count": 7,
   "metadata": {},
   "outputs": [],
   "source": [
    "# df[df['ts_event'] == pd.Timestamp('2024-09-27 14:00:00.707592949+00:00')].head(10)"
   ]
  },
  {
   "cell_type": "code",
   "execution_count": 8,
   "metadata": {},
   "outputs": [],
   "source": [
    "def visu_1():\n",
    "    size_bid = df['bid_sz_00'].to_numpy()\n",
    "    size_ask = df['ask_sz_00'].to_numpy()\n",
    "    df['ts_event'] = pd.to_datetime(df['ts_event'])\n",
    "    time = df['ts_event']\n",
    "\n",
    "    fig = go.Figure()\n",
    "    fig.add_trace(go.Scatter(x = time, y = size_bid, mode ='lines', name ='Bid', showlegend = True))\n",
    "    fig.add_trace(go.Scatter(x = time, y = size_ask, mode ='lines', name = f'Ask', showlegend = True))\n",
    "    fig.update_layout(title=f'Taille de queues', xaxis_title='size', yaxis_title='intensity', showlegend=True)\n",
    "    fig.show()\n",
    "\n",
    "    price_1 = df[df['action'] =='T']['price'].to_numpy()\n",
    "    time_price_1 = pd.to_datetime(df[df['action'] =='T']['ts_event'])\n",
    "    bid_px_00 = df['bid_px_00'].to_numpy()\n",
    "    ask_px_00 = df['ask_px_00'].to_numpy()\n",
    "    bid_px_01 = df['bid_px_01'].to_numpy()\n",
    "    ask_px_01 = df['ask_px_01'].to_numpy()\n",
    "    bid_px_02 = df['bid_px_02'].to_numpy()\n",
    "    ask_px_02 = df['ask_px_02'].to_numpy()\n",
    "    bid_px_03 = df['bid_px_03'].to_numpy()\n",
    "    ask_px_03 = df['ask_px_03'].to_numpy()\n",
    "    time = pd.to_datetime(df['ts_event'])\n",
    "    len(price_1)\n",
    "\n",
    "    fig = go.Figure()\n",
    "    fig.add_trace(go.Scatter(x = time_price_1, y = price_1, mode ='lines', name ='Prix', showlegend = True))\n",
    "    fig.add_trace(go.Scatter(x = time, y = bid_px_00, mode ='lines', name = f'Bid 0', showlegend = True))\n",
    "    fig.add_trace(go.Scatter(x = time, y = ask_px_00, mode ='lines', name = f'Ask 0', showlegend = True))\n",
    "    fig.add_trace(go.Scatter(x = time, y = bid_px_01, mode ='lines', name = f'Bid 1', showlegend = True))\n",
    "    fig.add_trace(go.Scatter(x = time, y = ask_px_01, mode ='lines', name = f'Ask 1', showlegend = True))\n",
    "    fig.add_trace(go.Scatter(x = time, y = bid_px_02, mode ='lines', name = f'Bid 2', showlegend = True))\n",
    "    fig.add_trace(go.Scatter(x = time, y = ask_px_02, mode ='lines', name = f'Ask 2', showlegend = True))\n",
    "    fig.add_trace(go.Scatter(x = time, y = bid_px_03, mode ='lines', name = f'Bid 3', showlegend = True))\n",
    "    fig.add_trace(go.Scatter(x = time, y = ask_px_03, mode ='lines', name = f'Ask 3', showlegend = True))\n",
    "    fig.update_layout(title=f'Bid-ask', xaxis_title='size', yaxis_title='intensity', showlegend=True)\n",
    "    fig.show()\n",
    "\n",
    "#visu_1()\n"
   ]
  },
  {
   "cell_type": "code",
   "execution_count": 9,
   "metadata": {},
   "outputs": [],
   "source": [
    "df_ = df[['ts_event','action', 'side', 'size', 'price',f'bid_px_0{limite}', f'ask_px_0{limite}', f'bid_sz_0{limite}', f'ask_sz_0{limite}',f'bid_ct_0{limite}', f'ask_ct_0{limite}',f'bid_px_0{limite+1}', f'ask_px_0{limite+1}', f'bid_sz_0{limite+1}', f'ask_sz_0{limite+1}',f'bid_ct_0{limite+1}', f'ask_ct_0{limite+1}']]\n",
    "# df_ = df_[df_['bid_sz_00']>1000]\n",
    "# df_ = df_[df_['action'] == 'T']\n",
    "# df_.head(100)"
   ]
  },
  {
   "cell_type": "code",
   "execution_count": 10,
   "metadata": {},
   "outputs": [
    {
     "data": {
      "text/html": [
       "<div>\n",
       "<style scoped>\n",
       "    .dataframe tbody tr th:only-of-type {\n",
       "        vertical-align: middle;\n",
       "    }\n",
       "\n",
       "    .dataframe tbody tr th {\n",
       "        vertical-align: top;\n",
       "    }\n",
       "\n",
       "    .dataframe thead th {\n",
       "        text-align: right;\n",
       "    }\n",
       "</style>\n",
       "<table border=\"1\" class=\"dataframe\">\n",
       "  <thead>\n",
       "    <tr style=\"text-align: right;\">\n",
       "      <th></th>\n",
       "      <th>ts_event</th>\n",
       "      <th>action</th>\n",
       "      <th>side</th>\n",
       "      <th>size</th>\n",
       "      <th>price</th>\n",
       "      <th>bid_px_00</th>\n",
       "      <th>ask_px_00</th>\n",
       "      <th>bid_sz_00</th>\n",
       "      <th>ask_sz_00</th>\n",
       "      <th>bid_ct_00</th>\n",
       "      <th>ask_ct_00</th>\n",
       "      <th>bid_px_01</th>\n",
       "      <th>ask_px_01</th>\n",
       "      <th>bid_sz_01</th>\n",
       "      <th>ask_sz_01</th>\n",
       "      <th>bid_ct_01</th>\n",
       "      <th>ask_ct_01</th>\n",
       "      <th>time_diff</th>\n",
       "    </tr>\n",
       "  </thead>\n",
       "  <tbody>\n",
       "    <tr>\n",
       "      <th>612688</th>\n",
       "      <td>2024-07-26 14:00:00.005886894+00:00</td>\n",
       "      <td>A</td>\n",
       "      <td>A</td>\n",
       "      <td>20</td>\n",
       "      <td>164.96</td>\n",
       "      <td>164.93</td>\n",
       "      <td>164.96</td>\n",
       "      <td>20</td>\n",
       "      <td>120</td>\n",
       "      <td>1</td>\n",
       "      <td>2</td>\n",
       "      <td>164.92</td>\n",
       "      <td>164.97</td>\n",
       "      <td>71</td>\n",
       "      <td>768</td>\n",
       "      <td>3</td>\n",
       "      <td>4</td>\n",
       "      <td>NaN</td>\n",
       "    </tr>\n",
       "  </tbody>\n",
       "</table>\n",
       "</div>"
      ],
      "text/plain": [
       "                                  ts_event action side  size   price  bid_px_00  ask_px_00  bid_sz_00  ask_sz_00  bid_ct_00  ask_ct_00  bid_px_01  ask_px_01  bid_sz_01  ask_sz_01  bid_ct_01  ask_ct_01  time_diff\n",
       "612688 2024-07-26 14:00:00.005886894+00:00      A    A    20  164.96     164.93     164.96         20        120          1          2     164.92     164.97         71        768          3          4        NaN"
      ]
     },
     "execution_count": 10,
     "metadata": {},
     "output_type": "execute_result"
    }
   ],
   "source": [
    "df_['ts_event'] = pd.to_datetime(df_['ts_event'])\n",
    "df_['time_diff'] = df_['ts_event'].diff().dt.total_seconds()\n",
    "df_.head(1)"
   ]
  },
  {
   "cell_type": "code",
   "execution_count": 11,
   "metadata": {},
   "outputs": [
    {
     "data": {
      "text/html": [
       "<div>\n",
       "<style scoped>\n",
       "    .dataframe tbody tr th:only-of-type {\n",
       "        vertical-align: middle;\n",
       "    }\n",
       "\n",
       "    .dataframe tbody tr th {\n",
       "        vertical-align: top;\n",
       "    }\n",
       "\n",
       "    .dataframe thead th {\n",
       "        text-align: right;\n",
       "    }\n",
       "</style>\n",
       "<table border=\"1\" class=\"dataframe\">\n",
       "  <thead>\n",
       "    <tr style=\"text-align: right;\">\n",
       "      <th></th>\n",
       "      <th>ts_event</th>\n",
       "      <th>action</th>\n",
       "      <th>side</th>\n",
       "      <th>size</th>\n",
       "      <th>price</th>\n",
       "      <th>bid_px_00</th>\n",
       "      <th>ask_px_00</th>\n",
       "      <th>bid_sz_00</th>\n",
       "      <th>ask_sz_00</th>\n",
       "      <th>bid_ct_00</th>\n",
       "      <th>ask_ct_00</th>\n",
       "      <th>bid_px_01</th>\n",
       "      <th>ask_px_01</th>\n",
       "      <th>bid_sz_01</th>\n",
       "      <th>ask_sz_01</th>\n",
       "      <th>bid_ct_01</th>\n",
       "      <th>ask_ct_01</th>\n",
       "      <th>time_diff</th>\n",
       "      <th>price_same</th>\n",
       "      <th>price_opposite</th>\n",
       "      <th>size_same</th>\n",
       "      <th>size_opposite</th>\n",
       "      <th>nb_ppl_same</th>\n",
       "      <th>nb_ppl_opposite</th>\n",
       "      <th>diff_price</th>\n",
       "      <th>Mean_price_diff</th>\n",
       "      <th>imbalance</th>\n",
       "      <th>indice</th>\n",
       "      <th>bid_sz_00_diff</th>\n",
       "      <th>ask_sz_00_diff</th>\n",
       "      <th>status</th>\n",
       "      <th>new_limite</th>\n",
       "    </tr>\n",
       "  </thead>\n",
       "  <tbody>\n",
       "    <tr>\n",
       "      <th>612688</th>\n",
       "      <td>2024-07-26 14:00:00.005886894+00:00</td>\n",
       "      <td>A</td>\n",
       "      <td>A</td>\n",
       "      <td>20</td>\n",
       "      <td>164.96</td>\n",
       "      <td>164.93</td>\n",
       "      <td>164.96</td>\n",
       "      <td>20</td>\n",
       "      <td>120</td>\n",
       "      <td>1</td>\n",
       "      <td>2</td>\n",
       "      <td>164.92</td>\n",
       "      <td>164.97</td>\n",
       "      <td>71</td>\n",
       "      <td>768</td>\n",
       "      <td>3</td>\n",
       "      <td>4</td>\n",
       "      <td>NaN</td>\n",
       "      <td>164.96</td>\n",
       "      <td>164.93</td>\n",
       "      <td>120</td>\n",
       "      <td>20</td>\n",
       "      <td>2</td>\n",
       "      <td>1</td>\n",
       "      <td>NaN</td>\n",
       "      <td>NaN</td>\n",
       "      <td>0.714286</td>\n",
       "      <td>0</td>\n",
       "      <td>NaN</td>\n",
       "      <td>NaN</td>\n",
       "      <td>NOK</td>\n",
       "      <td>n</td>\n",
       "    </tr>\n",
       "  </tbody>\n",
       "</table>\n",
       "</div>"
      ],
      "text/plain": [
       "                                  ts_event action side  size   price  bid_px_00  ask_px_00  bid_sz_00  ask_sz_00  bid_ct_00  ask_ct_00  bid_px_01  ask_px_01  bid_sz_01  ask_sz_01  bid_ct_01  ask_ct_01  time_diff  price_same  price_opposite  size_same  size_opposite  nb_ppl_same  nb_ppl_opposite  diff_price  Mean_price_diff  imbalance  indice  bid_sz_00_diff  ask_sz_00_diff status new_limite\n",
       "612688 2024-07-26 14:00:00.005886894+00:00      A    A    20  164.96     164.93     164.96         20        120          1          2     164.92     164.97         71        768          3          4        NaN      164.96          164.93        120             20            2                1         NaN              NaN   0.714286       0             NaN             NaN    NOK          n"
      ]
     },
     "execution_count": 11,
     "metadata": {},
     "output_type": "execute_result"
    }
   ],
   "source": [
    "df_['price_same'] = np.where(df['side'] == 'A', df[f'ask_px_0{limite}'],df[f'bid_px_0{limite}'])\n",
    "df_['price_opposite'] = np.where(df['side'] == 'A', df[f'bid_px_0{limite}'], df[f'ask_px_0{limite}'])\n",
    "df_['size_same'] = np.where(df['side'] == 'A', df[f'ask_sz_0{limite}'],df[f'bid_sz_0{limite}'])\n",
    "df_['size_opposite'] = np.where(df['side'] == 'A', df[f'bid_sz_0{limite}'], df[f'ask_sz_0{limite}'])\n",
    "df_['nb_ppl_same'] = np.where(df['side'] == 'A', df[f'ask_ct_0{limite}'],df[f'bid_ct_0{limite}'])\n",
    "df_['nb_ppl_opposite'] = np.where(df['side'] == 'A', df[f'bid_ct_0{limite}'], df[f'ask_ct_0{limite}'])\n",
    "#df_.drop(columns=[f'bid_px_0{limite}', f'ask_px_0{limite}', f'bid_sz_0{limite}', f'ask_sz_0{limite}', f'bid_ct_0{limite}', f'ask_ct_0{limite}'], axis=1, inplace=True)\n",
    "df_['diff_price'] = df_['price'].diff()\n",
    "df_['Mean_price_diff'] = df_['diff_price'].rolling(window=10).mean().shift(1)\n",
    "df_['imbalance'] = (df_[f'ask_sz_0{limite}']-df_[f'bid_sz_0{limite}'])/(df_[f'ask_sz_0{limite}']+df_[f'bid_sz_0{limite}'])\n",
    "df_['ts_event'] = pd.to_datetime(df_['ts_event'])\n",
    "df_['time_diff'] = df_['ts_event'].diff().dt.total_seconds()\n",
    "df_['indice'] = range(len(df_))\n",
    "df_[f'bid_sz_0{limite}_diff'] = df_[f'bid_sz_0{limite}'].diff()\n",
    "df_[f'ask_sz_0{limite}_diff'] = df_[f'ask_sz_0{limite}'].diff()\n",
    "condition_T = (\n",
    "    (df_['action'] == 'T') &\n",
    "    (\n",
    "        ((df_['side'] == 'B') & (df_[f'bid_sz_0{limite}_diff'] == -df_['size'])) |\n",
    "        ((df_['side'] == 'A') & (df_[f'ask_sz_0{limite}_diff'] == -df_['size']))\n",
    "    )\n",
    ")\n",
    "\n",
    "# Condition pour 'A'\n",
    "condition_A = (\n",
    "    (df_['action'] == 'A') &\n",
    "    (\n",
    "        ((df_['side'] == 'B') & (df_[f'bid_sz_0{limite}_diff'] == df_['size'])) |\n",
    "        ((df_['side'] == 'A') & (df_[f'ask_sz_0{limite}_diff'] == df_['size']))\n",
    "    )\n",
    ")\n",
    "\n",
    "# Condition pour 'C'\n",
    "condition_C = (\n",
    "    (df_['action'] == 'C') &\n",
    "    (\n",
    "        ((df_['side'] == 'B') & (df_[f'bid_sz_0{limite}_diff'] == -df_['size'])) |\n",
    "        ((df_['side'] == 'A') & (df_[f'ask_sz_0{limite}_diff'] == -df_['size']))\n",
    "    )\n",
    ")\n",
    "\n",
    "\n",
    "# Appliquer 'OK' ou 'NOK' en fonction des conditions respectées\n",
    "df_['status'] = np.where(condition_T | condition_A | condition_C, 'OK', 'NOK')\n",
    "#df_ = df_['status' == 'OK']\n",
    "\n",
    "df_['new_limite'] = np.where((df_[f'bid_px_0{limite}'].diff() > 0) | (df_[f'ask_px_0{limite}'].diff() > 0), 'new_limite', 'n')\n",
    "\n",
    "#df_ = df_[['action','side','size','bid_sz_00','ask_sz_00','status']]#,'status_N','status_diff']]\n",
    "df_.head(1)\n"
   ]
  },
  {
   "cell_type": "code",
   "execution_count": 12,
   "metadata": {},
   "outputs": [
    {
     "name": "stdout",
     "output_type": "stream",
     "text": [
      "Progression du code de merde: 0%\n",
      "Progression du code de merde: 9%\n",
      "Progression du code de merde: 19%\n",
      "Progression du code de merde: 29%\n",
      "Progression du code de merde: 39%\n",
      "Progression du code de merde: 49%\n",
      "Progression du code de merde: 59%\n",
      "Progression du code de merde: 69%\n",
      "Progression du code de merde: 89%\n",
      "Progression du code de merde: 99%\n",
      "Traitement terminé à 100% MGL\n"
     ]
    }
   ],
   "source": [
    "import pandas as pd\n",
    "\n",
    "df_ = df_.reset_index(drop=True)\n",
    "\n",
    "new_rows = []\n",
    "lims = []\n",
    "i = 0\n",
    "total_rows = len(df_)\n",
    "while i < total_rows-1:\n",
    "\n",
    "    if i % (total_rows//10) == 0:\n",
    "        print(f\"Progression du code de merde: {int((i/total_rows)*100)}%\")\n",
    "    current_timestamp = df_.loc[i, 'ts_event']\n",
    "    indices_group = [i]\n",
    "    j = i+1\n",
    "    \n",
    "    while j < total_rows and df_.loc[j, 'ts_event'] == current_timestamp:\n",
    "        indices_group.append(j)\n",
    "        j += 1\n",
    "\n",
    "    if len(indices_group) > 1:\n",
    "        events_group = df_.iloc[indices_group]\n",
    "        all_trades_then_cancel = all(events_group['action'].iloc[:-1] == 'T') and events_group['action'].iloc[-1] == 'C'\n",
    "        all_trades = all(events_group['action'] == 'T')\n",
    "        complex_trades_cancels = (\n",
    "            events_group['action'].iloc[-1] == 'C' and\n",
    "            all(\n",
    "                events_group['action'].iloc[start:k].eq('T').all()\n",
    "                for k, action in enumerate(events_group['action'])\n",
    "                if action == 'C' and (start := events_group['action'].iloc[:k].last_valid_index()) is not None\n",
    "            )\n",
    "        )\n",
    "        no_new_limite = 'new_limite' not in events_group['new_limite'].values\n",
    "        \n",
    "        complex_trades_cancels_not_ended_by_cancel = (\n",
    "            all(\n",
    "                events_group['action'].iloc[start:k].eq('T').all()\n",
    "                for k, action in enumerate(events_group['action'])\n",
    "                if action == 'C' and (start := events_group['action'].iloc[:k].last_valid_index()) is not None\n",
    "            )\n",
    "        )\n",
    "\n",
    "        if all_trades_then_cancel and complex_trades_cancels and no_new_limite:\n",
    "            total_size = events_group.loc[events_group['action'] == 'T', 'size'].sum()\n",
    "            new_row = events_group.iloc[-1].copy()\n",
    "            new_row['size'] = total_size\n",
    "            new_row['action'] = 'T'\n",
    "            new_rows.append(new_row)\n",
    "            lims.extend((np.unique(events_group['new_limite'].to_numpy())))\n",
    "\n",
    "        elif complex_trades_cancels and no_new_limite:\n",
    "            total_size = events_group.loc[events_group['action'] == 'T', 'size'].sum()\n",
    "            new_row = events_group.iloc[-1].copy()\n",
    "            new_row['size'] = total_size\n",
    "            new_row['action'] = 'T'\n",
    "            new_rows.append(new_row)\n",
    "            lims.extend((np.unique(events_group['new_limite'].to_numpy())))\n",
    "\n",
    "        elif all_trades_then_cancel and not no_new_limite:\n",
    "            limite_ = events_group['new_limite'].values\n",
    "            bonne_limite = [0]+[l for l in range(len(limite_)) if limite_[l] == 'new_limite']\n",
    "            for k in range(len(bonne_limite) - 1):\n",
    "                start_index = bonne_limite[k]\n",
    "                end_index = bonne_limite[k + 1]\n",
    "                total_size = events_group[start_index:end_index].query(\"action == 'T'\")['size'].sum()\n",
    "                new_row = events_group.iloc[-1].copy()\n",
    "                new_row['size'] = total_size\n",
    "                new_row['action'] = 'T'\n",
    "                new_row['new_limite'] = 'limite_épuisée'\n",
    "                if new_row['side'] == 'B':\n",
    "                    new_row[f'bid_sz_0{limite}'] = 0\n",
    "                elif new_row['side'] == 'A':\n",
    "                    new_row[f'ask_sz_0{limite}'] = 0\n",
    "                new_rows.append(new_row)\n",
    "            total_size = events_group.loc[bonne_limite[-1]:].query(\"action == 'T'\")['size'].sum()\n",
    "            new_row = events_group.iloc[-1].copy()\n",
    "            new_row['size'] = total_size\n",
    "            new_row['action'] = 'T'\n",
    "            new_row['new_limite'] = 'new_limite'\n",
    "            new_rows.append(new_row)\n",
    "\n",
    "        elif complex_trades_cancels and not no_new_limite:\n",
    "            limite_ = events_group['new_limite'].values\n",
    "            bonne_limite = [0]+[l for l in range(len(limite_)) if limite_[l] == 'new_limite']\n",
    "            for k in range(len(bonne_limite) - 1):\n",
    "                start_index = bonne_limite[k]\n",
    "                end_index = bonne_limite[k + 1]\n",
    "                total_size = events_group[start_index:end_index].query(\"action == 'T'\")['size'].sum()\n",
    "                new_row = events_group.iloc[-1].copy()\n",
    "                new_row['size'] = total_size\n",
    "                new_row['action'] = 'T'\n",
    "                new_row['new_limite'] = 'limite_épuisée'\n",
    "                if new_row['side'] == 'B':\n",
    "                    new_row[f'bid_sz_0{limite}'] = 0\n",
    "                elif new_row['side'] == 'A':\n",
    "                    new_row[f'ask_sz_0{limite}'] = 0\n",
    "                new_rows.append(new_row)\n",
    "            total_size = events_group.loc[bonne_limite[-1]:].query(\"action == 'T'\")['size'].sum()\n",
    "            new_row = events_group.iloc[-1].copy()\n",
    "            new_row['size'] = total_size\n",
    "            new_row['action'] = 'T'\n",
    "            new_row['new_limite'] = 'new_limite'\n",
    "            new_rows.append(new_row)\n",
    "\n",
    "        elif all_trades:\n",
    "            if df_.iloc[j]['new_limite'] == 'new_limite':\n",
    "                total_size = events_group.loc[events_group['action'] == 'T', 'size'].sum()\n",
    "                new_row = events_group.iloc[-1].copy()\n",
    "                new_row['size'] = 0\n",
    "                new_row['action'] = 'T'\n",
    "                new_rows.append(new_row)\n",
    "            else:\n",
    "                total_size = events_group.loc[events_group['action'] == 'T', 'size'].sum()\n",
    "                new_row = events_group.iloc[-1].copy()\n",
    "                new_row['size'] = total_size\n",
    "                new_row['action'] = 'T'\n",
    "                new_rows.append(new_row)\n",
    "\n",
    "        elif complex_trades_cancels_not_ended_by_cancel:\n",
    "            if df_.iloc[j]['new_limite'] == 'new_limite':\n",
    "                total_size = events_group.loc[events_group['action'] == 'T', 'size'].sum()\n",
    "                new_row = events_group.iloc[-1].copy()\n",
    "                new_row['size'] = 0\n",
    "                new_row['action'] = 'T'\n",
    "                new_rows.append(new_row)\n",
    "            else:\n",
    "                total_size = events_group.loc[events_group['action'] == 'T', 'size'].sum()\n",
    "                new_row = events_group.iloc[-1].copy()\n",
    "                new_row['size'] = total_size\n",
    "                new_row['action'] = 'T'\n",
    "                new_rows.append(new_row)\n",
    "\n",
    "        else:\n",
    "            new_rows.extend(events_group.to_dict(orient='records'))\n",
    "\n",
    "        i = j\n",
    "    else:\n",
    "        new_rows.append(df_.iloc[i].to_dict())\n",
    "        i += 1\n",
    "\n",
    "print(\"Traitement terminé à 100% MGL\")\n",
    "# lims = np.array(lims).flatten()\n",
    "# print(len(lims))\n",
    "# print(lims)"
   ]
  },
  {
   "cell_type": "code",
   "execution_count": 13,
   "metadata": {},
   "outputs": [
    {
     "name": "stderr",
     "output_type": "stream",
     "text": [
      "100%|██████████| 901873/901873 [00:38<00:00, 23250.29it/s]\n"
     ]
    }
   ],
   "source": [
    "standardized_series_list = []\n",
    "for item in tqdm(new_rows):\n",
    "    if isinstance(item, dict):\n",
    "        standardized_series_list.append(pd.Series(item))\n",
    "    elif isinstance(item, pd.Series):\n",
    "        standardized_series_list.append(item)\n",
    "    else:\n",
    "        raise ValueError(\"DAAAAAAIIIMMMM\")\n",
    "\n",
    "df__ = pd.concat(standardized_series_list, axis=1).T.reset_index(drop=True)\n"
   ]
  },
  {
   "cell_type": "code",
   "execution_count": 14,
   "metadata": {},
   "outputs": [
    {
     "data": {
      "text/html": [
       "<div>\n",
       "<style scoped>\n",
       "    .dataframe tbody tr th:only-of-type {\n",
       "        vertical-align: middle;\n",
       "    }\n",
       "\n",
       "    .dataframe tbody tr th {\n",
       "        vertical-align: top;\n",
       "    }\n",
       "\n",
       "    .dataframe thead th {\n",
       "        text-align: right;\n",
       "    }\n",
       "</style>\n",
       "<table border=\"1\" class=\"dataframe\">\n",
       "  <thead>\n",
       "    <tr style=\"text-align: right;\">\n",
       "      <th></th>\n",
       "      <th>ts_event</th>\n",
       "      <th>action</th>\n",
       "      <th>side</th>\n",
       "      <th>size</th>\n",
       "      <th>price</th>\n",
       "      <th>bid_px_00</th>\n",
       "      <th>ask_px_00</th>\n",
       "      <th>bid_sz_00</th>\n",
       "      <th>ask_sz_00</th>\n",
       "      <th>bid_ct_00</th>\n",
       "      <th>ask_ct_00</th>\n",
       "      <th>bid_px_01</th>\n",
       "      <th>ask_px_01</th>\n",
       "      <th>bid_sz_01</th>\n",
       "      <th>ask_sz_01</th>\n",
       "      <th>bid_ct_01</th>\n",
       "      <th>ask_ct_01</th>\n",
       "      <th>time_diff</th>\n",
       "      <th>price_same</th>\n",
       "      <th>price_opposite</th>\n",
       "      <th>size_same</th>\n",
       "      <th>size_opposite</th>\n",
       "      <th>nb_ppl_same</th>\n",
       "      <th>nb_ppl_opposite</th>\n",
       "      <th>diff_price</th>\n",
       "      <th>Mean_price_diff</th>\n",
       "      <th>imbalance</th>\n",
       "      <th>indice</th>\n",
       "      <th>bid_sz_00_diff</th>\n",
       "      <th>ask_sz_00_diff</th>\n",
       "      <th>status</th>\n",
       "      <th>new_limite</th>\n",
       "    </tr>\n",
       "  </thead>\n",
       "  <tbody>\n",
       "    <tr>\n",
       "      <th>0</th>\n",
       "      <td>2024-07-26 14:00:00.005886894+00:00</td>\n",
       "      <td>A</td>\n",
       "      <td>A</td>\n",
       "      <td>20</td>\n",
       "      <td>164.96</td>\n",
       "      <td>164.93</td>\n",
       "      <td>164.96</td>\n",
       "      <td>20</td>\n",
       "      <td>120</td>\n",
       "      <td>1</td>\n",
       "      <td>2</td>\n",
       "      <td>164.92</td>\n",
       "      <td>164.97</td>\n",
       "      <td>71</td>\n",
       "      <td>768</td>\n",
       "      <td>3</td>\n",
       "      <td>4</td>\n",
       "      <td>NaN</td>\n",
       "      <td>164.96</td>\n",
       "      <td>164.93</td>\n",
       "      <td>120</td>\n",
       "      <td>20</td>\n",
       "      <td>2</td>\n",
       "      <td>1</td>\n",
       "      <td>NaN</td>\n",
       "      <td>NaN</td>\n",
       "      <td>0.714286</td>\n",
       "      <td>0</td>\n",
       "      <td>NaN</td>\n",
       "      <td>NaN</td>\n",
       "      <td>NOK</td>\n",
       "      <td>n</td>\n",
       "    </tr>\n",
       "    <tr>\n",
       "      <th>1</th>\n",
       "      <td>2024-07-26 14:00:00.006110435+00:00</td>\n",
       "      <td>A</td>\n",
       "      <td>A</td>\n",
       "      <td>30</td>\n",
       "      <td>164.96</td>\n",
       "      <td>164.93</td>\n",
       "      <td>164.96</td>\n",
       "      <td>20</td>\n",
       "      <td>150</td>\n",
       "      <td>1</td>\n",
       "      <td>3</td>\n",
       "      <td>164.92</td>\n",
       "      <td>164.97</td>\n",
       "      <td>71</td>\n",
       "      <td>768</td>\n",
       "      <td>3</td>\n",
       "      <td>4</td>\n",
       "      <td>0.000224</td>\n",
       "      <td>164.96</td>\n",
       "      <td>164.93</td>\n",
       "      <td>150</td>\n",
       "      <td>20</td>\n",
       "      <td>3</td>\n",
       "      <td>1</td>\n",
       "      <td>0.0</td>\n",
       "      <td>NaN</td>\n",
       "      <td>0.764706</td>\n",
       "      <td>1</td>\n",
       "      <td>0.0</td>\n",
       "      <td>30.0</td>\n",
       "      <td>OK</td>\n",
       "      <td>n</td>\n",
       "    </tr>\n",
       "  </tbody>\n",
       "</table>\n",
       "</div>"
      ],
      "text/plain": [
       "                              ts_event action side size   price bid_px_00 ask_px_00 bid_sz_00 ask_sz_00 bid_ct_00 ask_ct_00 bid_px_01 ask_px_01 bid_sz_01 ask_sz_01 bid_ct_01 ask_ct_01 time_diff price_same price_opposite size_same size_opposite nb_ppl_same nb_ppl_opposite diff_price Mean_price_diff imbalance indice bid_sz_00_diff ask_sz_00_diff status new_limite\n",
       "0  2024-07-26 14:00:00.005886894+00:00      A    A   20  164.96    164.93    164.96        20       120         1         2    164.92    164.97        71       768         3         4       NaN     164.96         164.93       120            20           2               1        NaN             NaN  0.714286      0            NaN            NaN    NOK          n\n",
       "1  2024-07-26 14:00:00.006110435+00:00      A    A   30  164.96    164.93    164.96        20       150         1         3    164.92    164.97        71       768         3         4  0.000224     164.96         164.93       150            20           3               1        0.0             NaN  0.764706      1            0.0           30.0     OK          n"
      ]
     },
     "execution_count": 14,
     "metadata": {},
     "output_type": "execute_result"
    }
   ],
   "source": [
    "df__.head(2)"
   ]
  },
  {
   "cell_type": "code",
   "execution_count": 15,
   "metadata": {},
   "outputs": [
    {
     "data": {
      "text/html": [
       "<div>\n",
       "<style scoped>\n",
       "    .dataframe tbody tr th:only-of-type {\n",
       "        vertical-align: middle;\n",
       "    }\n",
       "\n",
       "    .dataframe tbody tr th {\n",
       "        vertical-align: top;\n",
       "    }\n",
       "\n",
       "    .dataframe thead th {\n",
       "        text-align: right;\n",
       "    }\n",
       "</style>\n",
       "<table border=\"1\" class=\"dataframe\">\n",
       "  <thead>\n",
       "    <tr style=\"text-align: right;\">\n",
       "      <th></th>\n",
       "      <th>ts_event</th>\n",
       "      <th>action</th>\n",
       "      <th>side</th>\n",
       "      <th>size</th>\n",
       "      <th>price</th>\n",
       "      <th>bid_px_00</th>\n",
       "      <th>ask_px_00</th>\n",
       "      <th>bid_sz_00</th>\n",
       "      <th>ask_sz_00</th>\n",
       "      <th>bid_ct_00</th>\n",
       "      <th>ask_ct_00</th>\n",
       "      <th>bid_px_01</th>\n",
       "      <th>ask_px_01</th>\n",
       "      <th>bid_sz_01</th>\n",
       "      <th>ask_sz_01</th>\n",
       "      <th>bid_ct_01</th>\n",
       "      <th>ask_ct_01</th>\n",
       "      <th>time_diff</th>\n",
       "      <th>price_same</th>\n",
       "      <th>price_opposite</th>\n",
       "      <th>size_same</th>\n",
       "      <th>size_opposite</th>\n",
       "      <th>nb_ppl_same</th>\n",
       "      <th>nb_ppl_opposite</th>\n",
       "      <th>diff_price</th>\n",
       "      <th>Mean_price_diff</th>\n",
       "      <th>imbalance</th>\n",
       "      <th>indice</th>\n",
       "      <th>bid_sz_00_diff</th>\n",
       "      <th>ask_sz_00_diff</th>\n",
       "      <th>status</th>\n",
       "      <th>new_limite</th>\n",
       "      <th>price_middle</th>\n",
       "    </tr>\n",
       "  </thead>\n",
       "  <tbody>\n",
       "    <tr>\n",
       "      <th>1</th>\n",
       "      <td>2024-07-26 14:00:00.006110435+00:00</td>\n",
       "      <td>A</td>\n",
       "      <td>A</td>\n",
       "      <td>30</td>\n",
       "      <td>164.96</td>\n",
       "      <td>164.93</td>\n",
       "      <td>164.96</td>\n",
       "      <td>20</td>\n",
       "      <td>150</td>\n",
       "      <td>1</td>\n",
       "      <td>3</td>\n",
       "      <td>164.92</td>\n",
       "      <td>164.97</td>\n",
       "      <td>71</td>\n",
       "      <td>768</td>\n",
       "      <td>3</td>\n",
       "      <td>4</td>\n",
       "      <td>0.000224</td>\n",
       "      <td>164.96</td>\n",
       "      <td>164.93</td>\n",
       "      <td>150</td>\n",
       "      <td>20</td>\n",
       "      <td>3</td>\n",
       "      <td>1</td>\n",
       "      <td>0.0</td>\n",
       "      <td>NaN</td>\n",
       "      <td>0.764706</td>\n",
       "      <td>1</td>\n",
       "      <td>0</td>\n",
       "      <td>30</td>\n",
       "      <td>OK</td>\n",
       "      <td>n</td>\n",
       "      <td>0.015</td>\n",
       "    </tr>\n",
       "  </tbody>\n",
       "</table>\n",
       "</div>"
      ],
      "text/plain": [
       "                              ts_event action side size   price bid_px_00 ask_px_00 bid_sz_00 ask_sz_00 bid_ct_00 ask_ct_00 bid_px_01 ask_px_01 bid_sz_01 ask_sz_01 bid_ct_01 ask_ct_01  time_diff price_same price_opposite size_same size_opposite nb_ppl_same nb_ppl_opposite diff_price  Mean_price_diff imbalance  indice bid_sz_00_diff ask_sz_00_diff status new_limite price_middle\n",
       "1  2024-07-26 14:00:00.006110435+00:00      A    A   30  164.96    164.93    164.96        20       150         1         3    164.92    164.97        71       768         3         4   0.000224     164.96         164.93       150            20           3               1        0.0              NaN  0.764706       1              0             30     OK          n        0.015"
      ]
     },
     "execution_count": 15,
     "metadata": {},
     "output_type": "execute_result"
    }
   ],
   "source": [
    "#df__['ts_diff'] = pd.to_datetime(df__['ts_event']).diff().dt.total_seconds()\n",
    "df__['price_middle'] = (df__['ask_px_00']-df__['bid_px_00'])/2\n",
    "df__['price_same'] = np.where(df__['side'] == 'A', df__[f'ask_px_0{limite}'],df__[f'bid_px_0{limite}'])\n",
    "df__['price_opposite'] = np.where(df__['side'] == 'A', df__[f'bid_px_0{limite}'], df__[f'ask_px_0{limite}'])\n",
    "df__['size_same'] = np.where(df__['side'] == 'A', df__[f'ask_sz_0{limite}'],df__[f'bid_sz_0{limite}'])\n",
    "df__['size_opposite'] = np.where(df__['side'] == 'A', df__[f'bid_sz_0{limite}'], df__[f'ask_sz_0{limite}'])\n",
    "df__['nb_ppl_same'] = np.where(df__['side'] == 'A', df__[f'ask_ct_0{limite}'],df__[f'bid_ct_0{limite}'])\n",
    "df__['nb_ppl_opposite'] = np.where(df__['side'] == 'A', df__[f'bid_ct_0{limite}'], df__[f'ask_ct_0{limite}'])\n",
    "#df__.drop(columns=[f'bid_px_0{limite}', f'ask_px_0{limite}', f'bid_sz_0{limite}', f'ask_sz_0{limite}', f'bid_ct_0{limite}', f'ask_ct_0{limite}'], axis=1, inplace=True)\n",
    "df__['diff_price'] = df__['price_middle'].diff()\n",
    "df__['time_diff'] = df__['ts_event'].diff().dt.total_seconds()\n",
    "\n",
    "\n",
    "\n",
    "df__['indice'] = range(len(df__))\n",
    "df__[f'bid_sz_0{limite}_diff'] = df__[f'bid_sz_0{limite}'].diff()\n",
    "df__[f'ask_sz_0{limite}_diff'] = df__[f'ask_sz_0{limite}'].diff()\n",
    "condition_T = (\n",
    "    (df__['action'] == 'T') &\n",
    "    (\n",
    "        ((df__['side'] == 'B') & (df__[f'bid_sz_0{limite}_diff'] == -df__['size'])) |\n",
    "        ((df__['side'] == 'A') & (df__[f'ask_sz_0{limite}_diff'] == -df__['size']))\n",
    "    )\n",
    ")\n",
    "\n",
    "# Condition pour 'A'\n",
    "condition_A = (\n",
    "    (df__['action'] == 'A') &\n",
    "    (\n",
    "        ((df__['side'] == 'B') & (df__[f'bid_sz_0{limite}_diff'] == df__['size'])) |\n",
    "        ((df__['side'] == 'A') & (df__[f'ask_sz_0{limite}_diff'] == df__['size']))\n",
    "    )\n",
    ")\n",
    "\n",
    "# Condition pour 'C'\n",
    "condition_C = (\n",
    "    (df__['action'] == 'C') &\n",
    "    (\n",
    "        ((df__['side'] == 'B') & (df__[f'bid_sz_0{limite}_diff'] == -df__['size'])) |\n",
    "        ((df__['side'] == 'A') & (df__[f'ask_sz_0{limite}_diff'] == -df__['size']))\n",
    "    )\n",
    ")\n",
    "df__['status'] = np.where(condition_T | condition_A | condition_C, 'OK', 'NOK')\n",
    "df__.loc[df__['new_limite'] == 'new_limite', 'time_diff'] = np.nan\n",
    "df__ = df__[df__['time_diff']>0]\n",
    "df__ = df__[df__['time_diff'] != np.nan]\n",
    "df_final = df__[df__['status'] != 'NOK']\n",
    "df__['Mean_price_diff'] = df__['diff_price'].rolling(window=50).mean().shift(1)\n",
    "df__['imbalance'] = (df__[f'ask_sz_0{limite}']-df__[f'bid_sz_0{limite}'])/(df__[f'ask_sz_0{limite}']+df__[f'bid_sz_0{limite}'])\n",
    "#df__['imbalance'] = (df__['size_same']-df__['size_opposite'])/(df__['size_same']+df__['size_opposite'])\n",
    "\n",
    "\n",
    "df__.loc[df__['new_limite'] == 'new_limite', 'time_diff'] = np.nan\n",
    "df__.head(1)"
   ]
  },
  {
   "cell_type": "code",
   "execution_count": 16,
   "metadata": {},
   "outputs": [],
   "source": [
    "df_final = df__"
   ]
  },
  {
   "cell_type": "code",
   "execution_count": 17,
   "metadata": {},
   "outputs": [
    {
     "name": "stdout",
     "output_type": "stream",
     "text": [
      "La colonne 'price' contient des valeurs NaN.\n"
     ]
    }
   ],
   "source": [
    "# Vérifier s'il y a des NaN dans la colonne 'price'\n",
    "has_nan_in_price = df__['Mean_price_diff'].isna().any()\n",
    "\n",
    "if has_nan_in_price:\n",
    "    print(\"La colonne 'price' contient des valeurs NaN.\")\n",
    "else:\n",
    "    print(\"La colonne 'price' ne contient pas de valeurs NaN.\")\n"
   ]
  },
  {
   "cell_type": "code",
   "execution_count": 18,
   "metadata": {},
   "outputs": [
    {
     "name": "stdout",
     "output_type": "stream",
     "text": [
      "[5.408800000000328e-05, 3.938799999999908e-05, 4.9341999999999854e-05, 4.644199999999706e-05, 5.10340000000022e-05, 5.1912000000001417e-05, 6.298199999999938e-05, 6.121999999999814e-05, 6.154399999999721e-05, 6.913399999999849e-05, 6.479999999999992e-05, 6.900999999999626e-05, 7.406800000000473e-05, 7.686000000000619e-05, 8.001600000000458e-05, 6.600000000000605e-05, 1.715957101074589e-05]\n"
     ]
    },
    {
     "data": {
      "application/vnd.plotly.v1+json": {
       "config": {
        "plotlyServerURL": "https://plot.ly"
       },
       "data": [
        {
         "mode": "lines",
         "name": "Prix",
         "showlegend": true,
         "type": "scatter",
         "x": [
          -0.9557730074593697,
          -0.8581615017288069,
          -0.7569803578626687,
          -0.6382164410430647,
          -0.5070520437451945,
          -0.36761839717616335,
          -0.2274155454447927,
          -0.07552449827327219,
          0.046136958966242786,
          0.1934042820285861,
          0.33821151067268757,
          0.4775132983559378,
          0.6075160472816211,
          0.7226845872096882,
          0.830667861614393,
          0.9276947160873088,
          0.9938625249177035
         ],
         "y": [
          0.00005408800000000328,
          0.00003938799999999908,
          0.000049341999999999854,
          0.00004644199999999706,
          0.0000510340000000022,
          0.000051912000000001417,
          0.00006298199999999938,
          0.00006121999999999814,
          0.00006154399999999721,
          0.00006913399999999849,
          0.00006479999999999992,
          0.00006900999999999626,
          0.00007406800000000473,
          0.00007686000000000619,
          0.00008001600000000458,
          0.00006600000000000605,
          0.00001715957101074589
         ]
        }
       ],
       "layout": {
        "showlegend": true,
        "template": {
         "data": {
          "bar": [
           {
            "error_x": {
             "color": "#2a3f5f"
            },
            "error_y": {
             "color": "#2a3f5f"
            },
            "marker": {
             "line": {
              "color": "#E5ECF6",
              "width": 0.5
             },
             "pattern": {
              "fillmode": "overlay",
              "size": 10,
              "solidity": 0.2
             }
            },
            "type": "bar"
           }
          ],
          "barpolar": [
           {
            "marker": {
             "line": {
              "color": "#E5ECF6",
              "width": 0.5
             },
             "pattern": {
              "fillmode": "overlay",
              "size": 10,
              "solidity": 0.2
             }
            },
            "type": "barpolar"
           }
          ],
          "carpet": [
           {
            "aaxis": {
             "endlinecolor": "#2a3f5f",
             "gridcolor": "white",
             "linecolor": "white",
             "minorgridcolor": "white",
             "startlinecolor": "#2a3f5f"
            },
            "baxis": {
             "endlinecolor": "#2a3f5f",
             "gridcolor": "white",
             "linecolor": "white",
             "minorgridcolor": "white",
             "startlinecolor": "#2a3f5f"
            },
            "type": "carpet"
           }
          ],
          "choropleth": [
           {
            "colorbar": {
             "outlinewidth": 0,
             "ticks": ""
            },
            "type": "choropleth"
           }
          ],
          "contour": [
           {
            "colorbar": {
             "outlinewidth": 0,
             "ticks": ""
            },
            "colorscale": [
             [
              0,
              "#0d0887"
             ],
             [
              0.1111111111111111,
              "#46039f"
             ],
             [
              0.2222222222222222,
              "#7201a8"
             ],
             [
              0.3333333333333333,
              "#9c179e"
             ],
             [
              0.4444444444444444,
              "#bd3786"
             ],
             [
              0.5555555555555556,
              "#d8576b"
             ],
             [
              0.6666666666666666,
              "#ed7953"
             ],
             [
              0.7777777777777778,
              "#fb9f3a"
             ],
             [
              0.8888888888888888,
              "#fdca26"
             ],
             [
              1,
              "#f0f921"
             ]
            ],
            "type": "contour"
           }
          ],
          "contourcarpet": [
           {
            "colorbar": {
             "outlinewidth": 0,
             "ticks": ""
            },
            "type": "contourcarpet"
           }
          ],
          "heatmap": [
           {
            "colorbar": {
             "outlinewidth": 0,
             "ticks": ""
            },
            "colorscale": [
             [
              0,
              "#0d0887"
             ],
             [
              0.1111111111111111,
              "#46039f"
             ],
             [
              0.2222222222222222,
              "#7201a8"
             ],
             [
              0.3333333333333333,
              "#9c179e"
             ],
             [
              0.4444444444444444,
              "#bd3786"
             ],
             [
              0.5555555555555556,
              "#d8576b"
             ],
             [
              0.6666666666666666,
              "#ed7953"
             ],
             [
              0.7777777777777778,
              "#fb9f3a"
             ],
             [
              0.8888888888888888,
              "#fdca26"
             ],
             [
              1,
              "#f0f921"
             ]
            ],
            "type": "heatmap"
           }
          ],
          "heatmapgl": [
           {
            "colorbar": {
             "outlinewidth": 0,
             "ticks": ""
            },
            "colorscale": [
             [
              0,
              "#0d0887"
             ],
             [
              0.1111111111111111,
              "#46039f"
             ],
             [
              0.2222222222222222,
              "#7201a8"
             ],
             [
              0.3333333333333333,
              "#9c179e"
             ],
             [
              0.4444444444444444,
              "#bd3786"
             ],
             [
              0.5555555555555556,
              "#d8576b"
             ],
             [
              0.6666666666666666,
              "#ed7953"
             ],
             [
              0.7777777777777778,
              "#fb9f3a"
             ],
             [
              0.8888888888888888,
              "#fdca26"
             ],
             [
              1,
              "#f0f921"
             ]
            ],
            "type": "heatmapgl"
           }
          ],
          "histogram": [
           {
            "marker": {
             "pattern": {
              "fillmode": "overlay",
              "size": 10,
              "solidity": 0.2
             }
            },
            "type": "histogram"
           }
          ],
          "histogram2d": [
           {
            "colorbar": {
             "outlinewidth": 0,
             "ticks": ""
            },
            "colorscale": [
             [
              0,
              "#0d0887"
             ],
             [
              0.1111111111111111,
              "#46039f"
             ],
             [
              0.2222222222222222,
              "#7201a8"
             ],
             [
              0.3333333333333333,
              "#9c179e"
             ],
             [
              0.4444444444444444,
              "#bd3786"
             ],
             [
              0.5555555555555556,
              "#d8576b"
             ],
             [
              0.6666666666666666,
              "#ed7953"
             ],
             [
              0.7777777777777778,
              "#fb9f3a"
             ],
             [
              0.8888888888888888,
              "#fdca26"
             ],
             [
              1,
              "#f0f921"
             ]
            ],
            "type": "histogram2d"
           }
          ],
          "histogram2dcontour": [
           {
            "colorbar": {
             "outlinewidth": 0,
             "ticks": ""
            },
            "colorscale": [
             [
              0,
              "#0d0887"
             ],
             [
              0.1111111111111111,
              "#46039f"
             ],
             [
              0.2222222222222222,
              "#7201a8"
             ],
             [
              0.3333333333333333,
              "#9c179e"
             ],
             [
              0.4444444444444444,
              "#bd3786"
             ],
             [
              0.5555555555555556,
              "#d8576b"
             ],
             [
              0.6666666666666666,
              "#ed7953"
             ],
             [
              0.7777777777777778,
              "#fb9f3a"
             ],
             [
              0.8888888888888888,
              "#fdca26"
             ],
             [
              1,
              "#f0f921"
             ]
            ],
            "type": "histogram2dcontour"
           }
          ],
          "mesh3d": [
           {
            "colorbar": {
             "outlinewidth": 0,
             "ticks": ""
            },
            "type": "mesh3d"
           }
          ],
          "parcoords": [
           {
            "line": {
             "colorbar": {
              "outlinewidth": 0,
              "ticks": ""
             }
            },
            "type": "parcoords"
           }
          ],
          "pie": [
           {
            "automargin": true,
            "type": "pie"
           }
          ],
          "scatter": [
           {
            "fillpattern": {
             "fillmode": "overlay",
             "size": 10,
             "solidity": 0.2
            },
            "type": "scatter"
           }
          ],
          "scatter3d": [
           {
            "line": {
             "colorbar": {
              "outlinewidth": 0,
              "ticks": ""
             }
            },
            "marker": {
             "colorbar": {
              "outlinewidth": 0,
              "ticks": ""
             }
            },
            "type": "scatter3d"
           }
          ],
          "scattercarpet": [
           {
            "marker": {
             "colorbar": {
              "outlinewidth": 0,
              "ticks": ""
             }
            },
            "type": "scattercarpet"
           }
          ],
          "scattergeo": [
           {
            "marker": {
             "colorbar": {
              "outlinewidth": 0,
              "ticks": ""
             }
            },
            "type": "scattergeo"
           }
          ],
          "scattergl": [
           {
            "marker": {
             "colorbar": {
              "outlinewidth": 0,
              "ticks": ""
             }
            },
            "type": "scattergl"
           }
          ],
          "scattermapbox": [
           {
            "marker": {
             "colorbar": {
              "outlinewidth": 0,
              "ticks": ""
             }
            },
            "type": "scattermapbox"
           }
          ],
          "scatterpolar": [
           {
            "marker": {
             "colorbar": {
              "outlinewidth": 0,
              "ticks": ""
             }
            },
            "type": "scatterpolar"
           }
          ],
          "scatterpolargl": [
           {
            "marker": {
             "colorbar": {
              "outlinewidth": 0,
              "ticks": ""
             }
            },
            "type": "scatterpolargl"
           }
          ],
          "scatterternary": [
           {
            "marker": {
             "colorbar": {
              "outlinewidth": 0,
              "ticks": ""
             }
            },
            "type": "scatterternary"
           }
          ],
          "surface": [
           {
            "colorbar": {
             "outlinewidth": 0,
             "ticks": ""
            },
            "colorscale": [
             [
              0,
              "#0d0887"
             ],
             [
              0.1111111111111111,
              "#46039f"
             ],
             [
              0.2222222222222222,
              "#7201a8"
             ],
             [
              0.3333333333333333,
              "#9c179e"
             ],
             [
              0.4444444444444444,
              "#bd3786"
             ],
             [
              0.5555555555555556,
              "#d8576b"
             ],
             [
              0.6666666666666666,
              "#ed7953"
             ],
             [
              0.7777777777777778,
              "#fb9f3a"
             ],
             [
              0.8888888888888888,
              "#fdca26"
             ],
             [
              1,
              "#f0f921"
             ]
            ],
            "type": "surface"
           }
          ],
          "table": [
           {
            "cells": {
             "fill": {
              "color": "#EBF0F8"
             },
             "line": {
              "color": "white"
             }
            },
            "header": {
             "fill": {
              "color": "#C8D4E3"
             },
             "line": {
              "color": "white"
             }
            },
            "type": "table"
           }
          ]
         },
         "layout": {
          "annotationdefaults": {
           "arrowcolor": "#2a3f5f",
           "arrowhead": 0,
           "arrowwidth": 1
          },
          "autotypenumbers": "strict",
          "coloraxis": {
           "colorbar": {
            "outlinewidth": 0,
            "ticks": ""
           }
          },
          "colorscale": {
           "diverging": [
            [
             0,
             "#8e0152"
            ],
            [
             0.1,
             "#c51b7d"
            ],
            [
             0.2,
             "#de77ae"
            ],
            [
             0.3,
             "#f1b6da"
            ],
            [
             0.4,
             "#fde0ef"
            ],
            [
             0.5,
             "#f7f7f7"
            ],
            [
             0.6,
             "#e6f5d0"
            ],
            [
             0.7,
             "#b8e186"
            ],
            [
             0.8,
             "#7fbc41"
            ],
            [
             0.9,
             "#4d9221"
            ],
            [
             1,
             "#276419"
            ]
           ],
           "sequential": [
            [
             0,
             "#0d0887"
            ],
            [
             0.1111111111111111,
             "#46039f"
            ],
            [
             0.2222222222222222,
             "#7201a8"
            ],
            [
             0.3333333333333333,
             "#9c179e"
            ],
            [
             0.4444444444444444,
             "#bd3786"
            ],
            [
             0.5555555555555556,
             "#d8576b"
            ],
            [
             0.6666666666666666,
             "#ed7953"
            ],
            [
             0.7777777777777778,
             "#fb9f3a"
            ],
            [
             0.8888888888888888,
             "#fdca26"
            ],
            [
             1,
             "#f0f921"
            ]
           ],
           "sequentialminus": [
            [
             0,
             "#0d0887"
            ],
            [
             0.1111111111111111,
             "#46039f"
            ],
            [
             0.2222222222222222,
             "#7201a8"
            ],
            [
             0.3333333333333333,
             "#9c179e"
            ],
            [
             0.4444444444444444,
             "#bd3786"
            ],
            [
             0.5555555555555556,
             "#d8576b"
            ],
            [
             0.6666666666666666,
             "#ed7953"
            ],
            [
             0.7777777777777778,
             "#fb9f3a"
            ],
            [
             0.8888888888888888,
             "#fdca26"
            ],
            [
             1,
             "#f0f921"
            ]
           ]
          },
          "colorway": [
           "#636efa",
           "#EF553B",
           "#00cc96",
           "#ab63fa",
           "#FFA15A",
           "#19d3f3",
           "#FF6692",
           "#B6E880",
           "#FF97FF",
           "#FECB52"
          ],
          "font": {
           "color": "#2a3f5f"
          },
          "geo": {
           "bgcolor": "white",
           "lakecolor": "white",
           "landcolor": "#E5ECF6",
           "showlakes": true,
           "showland": true,
           "subunitcolor": "white"
          },
          "hoverlabel": {
           "align": "left"
          },
          "hovermode": "closest",
          "mapbox": {
           "style": "light"
          },
          "paper_bgcolor": "white",
          "plot_bgcolor": "#E5ECF6",
          "polar": {
           "angularaxis": {
            "gridcolor": "white",
            "linecolor": "white",
            "ticks": ""
           },
           "bgcolor": "#E5ECF6",
           "radialaxis": {
            "gridcolor": "white",
            "linecolor": "white",
            "ticks": ""
           }
          },
          "scene": {
           "xaxis": {
            "backgroundcolor": "#E5ECF6",
            "gridcolor": "white",
            "gridwidth": 2,
            "linecolor": "white",
            "showbackground": true,
            "ticks": "",
            "zerolinecolor": "white"
           },
           "yaxis": {
            "backgroundcolor": "#E5ECF6",
            "gridcolor": "white",
            "gridwidth": 2,
            "linecolor": "white",
            "showbackground": true,
            "ticks": "",
            "zerolinecolor": "white"
           },
           "zaxis": {
            "backgroundcolor": "#E5ECF6",
            "gridcolor": "white",
            "gridwidth": 2,
            "linecolor": "white",
            "showbackground": true,
            "ticks": "",
            "zerolinecolor": "white"
           }
          },
          "shapedefaults": {
           "line": {
            "color": "#2a3f5f"
           }
          },
          "ternary": {
           "aaxis": {
            "gridcolor": "white",
            "linecolor": "white",
            "ticks": ""
           },
           "baxis": {
            "gridcolor": "white",
            "linecolor": "white",
            "ticks": ""
           },
           "bgcolor": "#E5ECF6",
           "caxis": {
            "gridcolor": "white",
            "linecolor": "white",
            "ticks": ""
           }
          },
          "title": {
           "x": 0.05
          },
          "xaxis": {
           "automargin": true,
           "gridcolor": "white",
           "linecolor": "white",
           "ticks": "",
           "title": {
            "standoff": 15
           },
           "zerolinecolor": "white",
           "zerolinewidth": 2
          },
          "yaxis": {
           "automargin": true,
           "gridcolor": "white",
           "linecolor": "white",
           "ticks": "",
           "title": {
            "standoff": 15
           },
           "zerolinecolor": "white",
           "zerolinewidth": 2
          }
         }
        },
        "title": {
         "text": "Bid-ask"
        },
        "xaxis": {
         "title": {
          "text": "imbalance"
         }
        },
        "yaxis": {
         "title": {
          "text": "delta_price"
         }
        }
       }
      }
     },
     "metadata": {},
     "output_type": "display_data"
    }
   ],
   "source": [
    "df_trades = df_final[101:]#[df_final['action'] =='T']\n",
    "imb = df_trades ['imbalance'].to_numpy()\n",
    "price = df_trades ['Mean_price_diff'].to_numpy()#/df_trades ['time_diff'].to_numpy()\n",
    "indices_trie = np.argsort(imb)\n",
    "\n",
    "# Application du tri aux deux tableaux\n",
    "imb_trie = imb[indices_trie]\n",
    "price_trie = price[indices_trie]\n",
    "\n",
    "group_size = 50000\n",
    "\n",
    "imb_trie_groups = [imb_trie[i:i + group_size] for i in range(0, len(imb_trie), group_size)]\n",
    "price_trie_groups = [price_trie[i:i + group_size] for i in range(0, len(price_trie), group_size)]\n",
    "\n",
    "\n",
    "# Calculer la moyenne de chaque groupe\n",
    "imb_trie_means = [np.mean(group) for group in imb_trie_groups]\n",
    "price_trie_means = [np.mean(group) for group in price_trie_groups]\n",
    "print(price_trie_means)\n",
    "fig = go.Figure()\n",
    "fig.add_trace(go.Scatter(x = imb_trie_means, y = price_trie_means, mode ='lines', name ='Prix', showlegend = True))\n",
    "\n",
    "fig.update_layout(title=f'Bid-ask', xaxis_title='imbalance', yaxis_title='delta_price', showlegend=True)\n",
    "fig.show()"
   ]
  },
  {
   "cell_type": "code",
   "execution_count": 39,
   "metadata": {},
   "outputs": [
    {
     "name": "stdout",
     "output_type": "stream",
     "text": [
      "[2.4611999999999323e-05, 1.9877999999993222e-05, 2.70739999999976e-05, 2.685199999999744e-05, 3.183799999999633e-05, 3.656200000000101e-05, 3.659599999999609e-05, 4.0960000000004195e-05, 4.0144000000002196e-05, 5.407999999999989e-05, 4.708550386204559e-05]\n"
     ]
    },
    {
     "data": {
      "application/vnd.plotly.v1+json": {
       "config": {
        "plotlyServerURL": "https://plot.ly"
       },
       "data": [
        {
         "mode": "lines",
         "name": "Prix",
         "showlegend": true,
         "type": "scatter",
         "x": [
          -0.8839480913042529,
          -0.6677271675347506,
          -0.5023298983637059,
          -0.35453106023185144,
          -0.20933817456911624,
          -0.06185014421617539,
          0.08734003623741883,
          0.2498915548893565,
          0.42544250293534425,
          0.6322186334089914,
          0.8707261488785221
         ],
         "y": [
          0.000024611999999999323,
          0.000019877999999993222,
          0.0000270739999999976,
          0.00002685199999999744,
          0.00003183799999999633,
          0.00003656200000000101,
          0.00003659599999999609,
          0.000040960000000004195,
          0.000040144000000002196,
          0.00005407999999999989,
          0.00004708550386204559
         ]
        }
       ],
       "layout": {
        "showlegend": true,
        "template": {
         "data": {
          "bar": [
           {
            "error_x": {
             "color": "#2a3f5f"
            },
            "error_y": {
             "color": "#2a3f5f"
            },
            "marker": {
             "line": {
              "color": "#E5ECF6",
              "width": 0.5
             },
             "pattern": {
              "fillmode": "overlay",
              "size": 10,
              "solidity": 0.2
             }
            },
            "type": "bar"
           }
          ],
          "barpolar": [
           {
            "marker": {
             "line": {
              "color": "#E5ECF6",
              "width": 0.5
             },
             "pattern": {
              "fillmode": "overlay",
              "size": 10,
              "solidity": 0.2
             }
            },
            "type": "barpolar"
           }
          ],
          "carpet": [
           {
            "aaxis": {
             "endlinecolor": "#2a3f5f",
             "gridcolor": "white",
             "linecolor": "white",
             "minorgridcolor": "white",
             "startlinecolor": "#2a3f5f"
            },
            "baxis": {
             "endlinecolor": "#2a3f5f",
             "gridcolor": "white",
             "linecolor": "white",
             "minorgridcolor": "white",
             "startlinecolor": "#2a3f5f"
            },
            "type": "carpet"
           }
          ],
          "choropleth": [
           {
            "colorbar": {
             "outlinewidth": 0,
             "ticks": ""
            },
            "type": "choropleth"
           }
          ],
          "contour": [
           {
            "colorbar": {
             "outlinewidth": 0,
             "ticks": ""
            },
            "colorscale": [
             [
              0,
              "#0d0887"
             ],
             [
              0.1111111111111111,
              "#46039f"
             ],
             [
              0.2222222222222222,
              "#7201a8"
             ],
             [
              0.3333333333333333,
              "#9c179e"
             ],
             [
              0.4444444444444444,
              "#bd3786"
             ],
             [
              0.5555555555555556,
              "#d8576b"
             ],
             [
              0.6666666666666666,
              "#ed7953"
             ],
             [
              0.7777777777777778,
              "#fb9f3a"
             ],
             [
              0.8888888888888888,
              "#fdca26"
             ],
             [
              1,
              "#f0f921"
             ]
            ],
            "type": "contour"
           }
          ],
          "contourcarpet": [
           {
            "colorbar": {
             "outlinewidth": 0,
             "ticks": ""
            },
            "type": "contourcarpet"
           }
          ],
          "heatmap": [
           {
            "colorbar": {
             "outlinewidth": 0,
             "ticks": ""
            },
            "colorscale": [
             [
              0,
              "#0d0887"
             ],
             [
              0.1111111111111111,
              "#46039f"
             ],
             [
              0.2222222222222222,
              "#7201a8"
             ],
             [
              0.3333333333333333,
              "#9c179e"
             ],
             [
              0.4444444444444444,
              "#bd3786"
             ],
             [
              0.5555555555555556,
              "#d8576b"
             ],
             [
              0.6666666666666666,
              "#ed7953"
             ],
             [
              0.7777777777777778,
              "#fb9f3a"
             ],
             [
              0.8888888888888888,
              "#fdca26"
             ],
             [
              1,
              "#f0f921"
             ]
            ],
            "type": "heatmap"
           }
          ],
          "heatmapgl": [
           {
            "colorbar": {
             "outlinewidth": 0,
             "ticks": ""
            },
            "colorscale": [
             [
              0,
              "#0d0887"
             ],
             [
              0.1111111111111111,
              "#46039f"
             ],
             [
              0.2222222222222222,
              "#7201a8"
             ],
             [
              0.3333333333333333,
              "#9c179e"
             ],
             [
              0.4444444444444444,
              "#bd3786"
             ],
             [
              0.5555555555555556,
              "#d8576b"
             ],
             [
              0.6666666666666666,
              "#ed7953"
             ],
             [
              0.7777777777777778,
              "#fb9f3a"
             ],
             [
              0.8888888888888888,
              "#fdca26"
             ],
             [
              1,
              "#f0f921"
             ]
            ],
            "type": "heatmapgl"
           }
          ],
          "histogram": [
           {
            "marker": {
             "pattern": {
              "fillmode": "overlay",
              "size": 10,
              "solidity": 0.2
             }
            },
            "type": "histogram"
           }
          ],
          "histogram2d": [
           {
            "colorbar": {
             "outlinewidth": 0,
             "ticks": ""
            },
            "colorscale": [
             [
              0,
              "#0d0887"
             ],
             [
              0.1111111111111111,
              "#46039f"
             ],
             [
              0.2222222222222222,
              "#7201a8"
             ],
             [
              0.3333333333333333,
              "#9c179e"
             ],
             [
              0.4444444444444444,
              "#bd3786"
             ],
             [
              0.5555555555555556,
              "#d8576b"
             ],
             [
              0.6666666666666666,
              "#ed7953"
             ],
             [
              0.7777777777777778,
              "#fb9f3a"
             ],
             [
              0.8888888888888888,
              "#fdca26"
             ],
             [
              1,
              "#f0f921"
             ]
            ],
            "type": "histogram2d"
           }
          ],
          "histogram2dcontour": [
           {
            "colorbar": {
             "outlinewidth": 0,
             "ticks": ""
            },
            "colorscale": [
             [
              0,
              "#0d0887"
             ],
             [
              0.1111111111111111,
              "#46039f"
             ],
             [
              0.2222222222222222,
              "#7201a8"
             ],
             [
              0.3333333333333333,
              "#9c179e"
             ],
             [
              0.4444444444444444,
              "#bd3786"
             ],
             [
              0.5555555555555556,
              "#d8576b"
             ],
             [
              0.6666666666666666,
              "#ed7953"
             ],
             [
              0.7777777777777778,
              "#fb9f3a"
             ],
             [
              0.8888888888888888,
              "#fdca26"
             ],
             [
              1,
              "#f0f921"
             ]
            ],
            "type": "histogram2dcontour"
           }
          ],
          "mesh3d": [
           {
            "colorbar": {
             "outlinewidth": 0,
             "ticks": ""
            },
            "type": "mesh3d"
           }
          ],
          "parcoords": [
           {
            "line": {
             "colorbar": {
              "outlinewidth": 0,
              "ticks": ""
             }
            },
            "type": "parcoords"
           }
          ],
          "pie": [
           {
            "automargin": true,
            "type": "pie"
           }
          ],
          "scatter": [
           {
            "fillpattern": {
             "fillmode": "overlay",
             "size": 10,
             "solidity": 0.2
            },
            "type": "scatter"
           }
          ],
          "scatter3d": [
           {
            "line": {
             "colorbar": {
              "outlinewidth": 0,
              "ticks": ""
             }
            },
            "marker": {
             "colorbar": {
              "outlinewidth": 0,
              "ticks": ""
             }
            },
            "type": "scatter3d"
           }
          ],
          "scattercarpet": [
           {
            "marker": {
             "colorbar": {
              "outlinewidth": 0,
              "ticks": ""
             }
            },
            "type": "scattercarpet"
           }
          ],
          "scattergeo": [
           {
            "marker": {
             "colorbar": {
              "outlinewidth": 0,
              "ticks": ""
             }
            },
            "type": "scattergeo"
           }
          ],
          "scattergl": [
           {
            "marker": {
             "colorbar": {
              "outlinewidth": 0,
              "ticks": ""
             }
            },
            "type": "scattergl"
           }
          ],
          "scattermapbox": [
           {
            "marker": {
             "colorbar": {
              "outlinewidth": 0,
              "ticks": ""
             }
            },
            "type": "scattermapbox"
           }
          ],
          "scatterpolar": [
           {
            "marker": {
             "colorbar": {
              "outlinewidth": 0,
              "ticks": ""
             }
            },
            "type": "scatterpolar"
           }
          ],
          "scatterpolargl": [
           {
            "marker": {
             "colorbar": {
              "outlinewidth": 0,
              "ticks": ""
             }
            },
            "type": "scatterpolargl"
           }
          ],
          "scatterternary": [
           {
            "marker": {
             "colorbar": {
              "outlinewidth": 0,
              "ticks": ""
             }
            },
            "type": "scatterternary"
           }
          ],
          "surface": [
           {
            "colorbar": {
             "outlinewidth": 0,
             "ticks": ""
            },
            "colorscale": [
             [
              0,
              "#0d0887"
             ],
             [
              0.1111111111111111,
              "#46039f"
             ],
             [
              0.2222222222222222,
              "#7201a8"
             ],
             [
              0.3333333333333333,
              "#9c179e"
             ],
             [
              0.4444444444444444,
              "#bd3786"
             ],
             [
              0.5555555555555556,
              "#d8576b"
             ],
             [
              0.6666666666666666,
              "#ed7953"
             ],
             [
              0.7777777777777778,
              "#fb9f3a"
             ],
             [
              0.8888888888888888,
              "#fdca26"
             ],
             [
              1,
              "#f0f921"
             ]
            ],
            "type": "surface"
           }
          ],
          "table": [
           {
            "cells": {
             "fill": {
              "color": "#EBF0F8"
             },
             "line": {
              "color": "white"
             }
            },
            "header": {
             "fill": {
              "color": "#C8D4E3"
             },
             "line": {
              "color": "white"
             }
            },
            "type": "table"
           }
          ]
         },
         "layout": {
          "annotationdefaults": {
           "arrowcolor": "#2a3f5f",
           "arrowhead": 0,
           "arrowwidth": 1
          },
          "autotypenumbers": "strict",
          "coloraxis": {
           "colorbar": {
            "outlinewidth": 0,
            "ticks": ""
           }
          },
          "colorscale": {
           "diverging": [
            [
             0,
             "#8e0152"
            ],
            [
             0.1,
             "#c51b7d"
            ],
            [
             0.2,
             "#de77ae"
            ],
            [
             0.3,
             "#f1b6da"
            ],
            [
             0.4,
             "#fde0ef"
            ],
            [
             0.5,
             "#f7f7f7"
            ],
            [
             0.6,
             "#e6f5d0"
            ],
            [
             0.7,
             "#b8e186"
            ],
            [
             0.8,
             "#7fbc41"
            ],
            [
             0.9,
             "#4d9221"
            ],
            [
             1,
             "#276419"
            ]
           ],
           "sequential": [
            [
             0,
             "#0d0887"
            ],
            [
             0.1111111111111111,
             "#46039f"
            ],
            [
             0.2222222222222222,
             "#7201a8"
            ],
            [
             0.3333333333333333,
             "#9c179e"
            ],
            [
             0.4444444444444444,
             "#bd3786"
            ],
            [
             0.5555555555555556,
             "#d8576b"
            ],
            [
             0.6666666666666666,
             "#ed7953"
            ],
            [
             0.7777777777777778,
             "#fb9f3a"
            ],
            [
             0.8888888888888888,
             "#fdca26"
            ],
            [
             1,
             "#f0f921"
            ]
           ],
           "sequentialminus": [
            [
             0,
             "#0d0887"
            ],
            [
             0.1111111111111111,
             "#46039f"
            ],
            [
             0.2222222222222222,
             "#7201a8"
            ],
            [
             0.3333333333333333,
             "#9c179e"
            ],
            [
             0.4444444444444444,
             "#bd3786"
            ],
            [
             0.5555555555555556,
             "#d8576b"
            ],
            [
             0.6666666666666666,
             "#ed7953"
            ],
            [
             0.7777777777777778,
             "#fb9f3a"
            ],
            [
             0.8888888888888888,
             "#fdca26"
            ],
            [
             1,
             "#f0f921"
            ]
           ]
          },
          "colorway": [
           "#636efa",
           "#EF553B",
           "#00cc96",
           "#ab63fa",
           "#FFA15A",
           "#19d3f3",
           "#FF6692",
           "#B6E880",
           "#FF97FF",
           "#FECB52"
          ],
          "font": {
           "color": "#2a3f5f"
          },
          "geo": {
           "bgcolor": "white",
           "lakecolor": "white",
           "landcolor": "#E5ECF6",
           "showlakes": true,
           "showland": true,
           "subunitcolor": "white"
          },
          "hoverlabel": {
           "align": "left"
          },
          "hovermode": "closest",
          "mapbox": {
           "style": "light"
          },
          "paper_bgcolor": "white",
          "plot_bgcolor": "#E5ECF6",
          "polar": {
           "angularaxis": {
            "gridcolor": "white",
            "linecolor": "white",
            "ticks": ""
           },
           "bgcolor": "#E5ECF6",
           "radialaxis": {
            "gridcolor": "white",
            "linecolor": "white",
            "ticks": ""
           }
          },
          "scene": {
           "xaxis": {
            "backgroundcolor": "#E5ECF6",
            "gridcolor": "white",
            "gridwidth": 2,
            "linecolor": "white",
            "showbackground": true,
            "ticks": "",
            "zerolinecolor": "white"
           },
           "yaxis": {
            "backgroundcolor": "#E5ECF6",
            "gridcolor": "white",
            "gridwidth": 2,
            "linecolor": "white",
            "showbackground": true,
            "ticks": "",
            "zerolinecolor": "white"
           },
           "zaxis": {
            "backgroundcolor": "#E5ECF6",
            "gridcolor": "white",
            "gridwidth": 2,
            "linecolor": "white",
            "showbackground": true,
            "ticks": "",
            "zerolinecolor": "white"
           }
          },
          "shapedefaults": {
           "line": {
            "color": "#2a3f5f"
           }
          },
          "ternary": {
           "aaxis": {
            "gridcolor": "white",
            "linecolor": "white",
            "ticks": ""
           },
           "baxis": {
            "gridcolor": "white",
            "linecolor": "white",
            "ticks": ""
           },
           "bgcolor": "#E5ECF6",
           "caxis": {
            "gridcolor": "white",
            "linecolor": "white",
            "ticks": ""
           }
          },
          "title": {
           "x": 0.05
          },
          "xaxis": {
           "automargin": true,
           "gridcolor": "white",
           "linecolor": "white",
           "ticks": "",
           "title": {
            "standoff": 15
           },
           "zerolinecolor": "white",
           "zerolinewidth": 2
          },
          "yaxis": {
           "automargin": true,
           "gridcolor": "white",
           "linecolor": "white",
           "ticks": "",
           "title": {
            "standoff": 15
           },
           "zerolinecolor": "white",
           "zerolinewidth": 2
          }
         }
        },
        "title": {
         "text": "Bid-ask"
        },
        "xaxis": {
         "title": {
          "text": "imbalance"
         }
        },
        "yaxis": {
         "title": {
          "text": "delta_price"
         }
        }
       }
      }
     },
     "metadata": {},
     "output_type": "display_data"
    }
   ],
   "source": [
    "df_trades = df_final[101:]#[df_final['action'] =='T']\n",
    "\n",
    "# Calculer la moyenne de chaque groupe\n",
    "imb_trie_means = [np.mean(group) for group in imb_trie_groups]\n",
    "price_trie_means = [np.mean(group) for group in price_trie_groups]\n",
    "print(price_trie_means)\n",
    "fig = go.Figure()\n",
    "fig.add_trace(go.Scatter(x = imb_trie_means, y = price_trie_means, mode ='lines', name ='Prix', showlegend = True))\n",
    "\n",
    "fig.update_layout(title=f'Bid-ask', xaxis_title='imbalance', yaxis_title='delta_price', showlegend=True)\n",
    "fig.show()"
   ]
  },
  {
   "cell_type": "code",
   "execution_count": null,
   "metadata": {},
   "outputs": [],
   "source": [
    "df___.head(4)"
   ]
  },
  {
   "cell_type": "code",
   "execution_count": null,
   "metadata": {},
   "outputs": [],
   "source": [
    "df_.head(4)"
   ]
  },
  {
   "cell_type": "code",
   "execution_count": null,
   "metadata": {},
   "outputs": [],
   "source": [
    "df_['price_same'] = np.where(df_['side'] == 'A', df_[f'ask_px_0{limite}'],df[f'bid_px_0{limite}'])\n",
    "df_['price_opposite'] = np.where(df_['side'] == 'A', df[f'bid_px_0{limite}'], df_[f'ask_px_0{limite}'])\n",
    "df_['size_same'] = np.where(df_['side'] == 'A', df_[f'ask_sz_0{limite}'],df[f'bid_sz_0{limite}'])\n",
    "df_['size_opposite'] = np.where(df_['side'] == 'A', df[f'bid_sz_0{limite}'], df_[f'ask_sz_0{limite}'])\n",
    "df_['nb_ppl_same'] = np.where(df_['side'] == 'A', df_[f'ask_ct_0{limite}'],df[f'bid_ct_0{limite}'])\n",
    "df_['nb_ppl_opposite'] = np.where(df_['side'] == 'A', df[f'bid_ct_0{limite}'], df_[f'ask_ct_0{limite}'])\n",
    "df_.drop(columns=[f'bid_px_0{limite}', f'ask_px_0{limite}', f'bid_sz_0{limite}', f'ask_sz_0{limite}', f'bid_ct_0{limite}', f'ask_ct_0{limite}'], axis=1, inplace=True)\n",
    "df_['diff_price'] = df_['price'].diff()\n",
    "df_['Mean_price_diff'] = df_['diff_price'].rolling(window=10).mean().shift(1)\n",
    "df_['imbalance'] = (df_['size_same']-df_['size_opposite'])/(df_['size_same']+df_['size_opposite'])\n",
    "df_['ts_event'] = pd.to_datetime(df_['ts_event'])\n",
    "df_['time_diff'] = df_['ts_event'].diff().dt.total_seconds()\n",
    "df_['indice'] = range(len(df_))\n",
    "\n",
    "df_.head(2)"
   ]
  },
  {
   "cell_type": "code",
   "execution_count": null,
   "metadata": {},
   "outputs": [],
   "source": [
    "df_['trii'] = np.where(df_['time_diff'] == 0, df_['indice'] - 1, df_['indice'])\n",
    "df_.head(20)"
   ]
  },
  {
   "cell_type": "code",
   "execution_count": null,
   "metadata": {},
   "outputs": [],
   "source": [
    "df_trades = df_[df_['action'] =='T']\n",
    "imb = df_trades ['imbalance'].to_numpy()\n",
    "price = df_trades ['Mean_price_diff'].to_numpy()#/df_trades ['time_diff'].to_numpy()\n",
    "indices_trie = np.argsort(imb)\n",
    "\n",
    "# Application du tri aux deux tableaux\n",
    "imb_trie = imb[indices_trie]\n",
    "price_trie = price[indices_trie]\n",
    "\n",
    "fig = go.Figure()\n",
    "fig.add_trace(go.Scatter(x = imb_trie, y = price_trie, mode ='lines', name ='Prix', showlegend = True))\n",
    "\n",
    "fig.update_layout(title=f'Bid-ask', xaxis_title='imbalance', yaxis_title='delta_price', showlegend=True)\n",
    "fig.show()"
   ]
  },
  {
   "cell_type": "code",
   "execution_count": null,
   "metadata": {},
   "outputs": [],
   "source": [
    "df_trades = df_[df_['action'] =='T']\n",
    "price = df_trades['price']\n",
    "bid_ask = 0.02\n",
    "df_trades = df_trades[np.abs(df_trades['price_same'] - df_trades['price_opposite']) <= bid_ask]\n",
    "sze_same = df_trades['size_same'].to_numpy()\n",
    "sze_opposite = df_trades['size_opposite'].to_numpy()\n",
    "time = df_trades['ts_event']"
   ]
  },
  {
   "cell_type": "code",
   "execution_count": null,
   "metadata": {},
   "outputs": [],
   "source": []
  },
  {
   "cell_type": "code",
   "execution_count": null,
   "metadata": {},
   "outputs": [],
   "source": [
    "\n",
    "\n",
    "fig = go.Figure()\n",
    "fig.add_trace(go.Scatter(x = time, y = sze_same, mode ='lines', name ='opposite', showlegend = True))\n",
    "fig.add_trace(go.Scatter(x = time, y = sze_opposite, mode ='lines', name ='same', showlegend = True))\n",
    "fig.update_layout(title=f'Trades queue size', xaxis_title='time', yaxis_title='queue size', showlegend=True)\n",
    "fig.show()\n",
    "fig = go.Figure()\n",
    "fig.add_trace(go.Scatter(x = time, y = sze_same-sze_opposite, mode ='lines', showlegend = True))\n",
    "fig.update_layout(title=f'Trades queue size difference with bid-ask smaller than {bid_ask}', xaxis_title='time', yaxis_title='queue size difference', showlegend=True)\n",
    "fig.show()"
   ]
  },
  {
   "cell_type": "code",
   "execution_count": null,
   "metadata": {},
   "outputs": [],
   "source": []
  }
 ],
 "metadata": {
  "kernelspec": {
   "display_name": "IA_m1",
   "language": "python",
   "name": "python3"
  },
  "language_info": {
   "codemirror_mode": {
    "name": "ipython",
    "version": 3
   },
   "file_extension": ".py",
   "mimetype": "text/x-python",
   "name": "python",
   "nbconvert_exporter": "python",
   "pygments_lexer": "ipython3",
   "version": "3.9.16"
  }
 },
 "nbformat": 4,
 "nbformat_minor": 2
}
