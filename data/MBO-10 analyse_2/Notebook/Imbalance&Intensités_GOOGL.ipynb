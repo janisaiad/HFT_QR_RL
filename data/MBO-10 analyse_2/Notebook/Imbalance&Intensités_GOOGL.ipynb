{
 "cells": [
  {
   "cell_type": "markdown",
   "metadata": {},
   "source": [
    "# GOOGL\n"
   ]
  },
  {
   "cell_type": "code",
   "execution_count": 1,
   "metadata": {},
   "outputs": [],
   "source": [
    "import glob\n",
    "import os\n",
    "import pandas as pd\n",
    "import warnings\n",
    "warnings.filterwarnings(\"ignore\", category=pd.errors.SettingWithCopyWarning)\n",
    "pd.set_option('display.max_columns', None)\n",
    "pd.set_option('display.expand_frame_repr', False)\n",
    "pd.set_option('display.max_rows', None)\n",
    "import numpy as np\n",
    "import plotly.graph_objects as go\n",
    "from tqdm import tqdm\n",
    "import matplotlib.pyplot as plt"
   ]
  },
  {
   "cell_type": "markdown",
   "metadata": {},
   "source": [
    "# Étude de l'imbalance"
   ]
  },
  {
   "cell_type": "code",
   "execution_count": 2,
   "metadata": {},
   "outputs": [
    {
     "name": "stderr",
     "output_type": "stream",
     "text": [
      "100%|██████████| 65/65 [02:05<00:00,  1.94s/it]"
     ]
    },
    {
     "name": "stdout",
     "output_type": "stream",
     "text": [
      "A quel point c'est long: 53192979\n"
     ]
    },
    {
     "name": "stderr",
     "output_type": "stream",
     "text": [
      "\n"
     ]
    }
   ],
   "source": [
    "files_csv = glob.glob(os.path.join(\"/Volumes/T9/CSV_GOOGL_NASDAQ_PL\", \"*.csv\"))\n",
    "#files_csv = glob.glob(os.path.join(\"/Volumes/T9/CSV_GOOGL_KHL_PL\", \"*.csv\"))\n",
    "#files_csv = glob.glob(os.path.join(\"/Volumes/T9/CSV_GOOGL_LCID_PL\", \"*.csv\"))\n",
    "imb = np.array([])\n",
    "price = np.array([])\n",
    "limite = 0\n",
    "for f in tqdm(files_csv):\n",
    "    df = pd.read_csv(f)\n",
    "    df = df[:-100]\n",
    "    imb = np.concatenate([imb, df['imbalance'].to_numpy()])\n",
    "    price = np.concatenate([price, df['Mean_price_diff'].to_numpy()])\n",
    "\n",
    "print(f\"A quel point c'est long: {len(imb)}\")\n",
    "# ATTENTION L'imbalance est moins l'imbalance et les mid price sont - les midprices, dcp ca chage rien au graphe mais a modif au cas ou"
   ]
  },
  {
   "cell_type": "code",
   "execution_count": 3,
   "metadata": {},
   "outputs": [],
   "source": [
    "indices_trie = np.argsort(imb)\n",
    "\n",
    "bounds = 0.85\n",
    "imb_trie = imb[indices_trie]\n",
    "price_trie = price[indices_trie]\n",
    "mask = (imb_trie >= -bounds)&(imb_trie <= bounds)\n",
    "imb_trie = imb_trie[mask]\n",
    "price_trie = price_trie[mask]\n",
    "group_size = 3500000\n",
    "\n",
    "imb_trie_groups = [imb_trie[i:i + group_size] for i in range(0, len(imb_trie), group_size)]\n",
    "price_trie_groups = [price_trie[i:i + group_size] for i in range(0, len(price_trie), group_size)]\n",
    "\n",
    "imb_trie_means = np.array([np.mean(group) for group in imb_trie_groups])\n",
    "price_trie_means = np.array([np.mean(group) for group in price_trie_groups])\n",
    "\n",
    "imb_trie_std = np.array([np.std(group)/np.sqrt(len(group)) for group in price_trie_groups])"
   ]
  },
  {
   "cell_type": "code",
   "execution_count": 4,
   "metadata": {},
   "outputs": [
    {
     "data": {
      "application/vnd.plotly.v1+json": {
       "config": {
        "plotlyServerURL": "https://plot.ly"
       },
       "data": [
        {
         "line": {
          "width": 0
         },
         "mode": "lines",
         "name": "Upper Bound",
         "showlegend": false,
         "type": "scatter",
         "x": [
          -0.7759173207089658,
          -0.6278676194430527,
          -0.48436427839279805,
          -0.34767130480340447,
          -0.2178207092659036,
          -0.08900260019549552,
          0.025830786985688498,
          0.14656600959792082,
          0.270173378169197,
          0.38862752862086913,
          0.513104843733843,
          0.6388453774365069,
          0.7648420658031984,
          0.8394763192940641
         ],
         "y": [
          -0.0002245720560662045,
          -0.00016614267785227893,
          -0.0001269253979632187,
          -0.0001289524128251693,
          -0.00009387026142452739,
          -0.00007533485006526169,
          -0.0000027967024445977967,
          0.000025367738923781862,
          0.00003292454768473055,
          0.00012091183534330415,
          0.0001329877018646555,
          0.0001796579327446314,
          0.0002949309724642938,
          0.0005874404714035836
         ]
        },
        {
         "fill": "tonexty",
         "fillcolor": "blue",
         "line": {
          "width": 0
         },
         "mode": "lines",
         "name": "Intervalle de confiance à 95%",
         "showlegend": true,
         "type": "scatter",
         "x": [
          -0.7759173207089658,
          -0.6278676194430527,
          -0.48436427839279805,
          -0.34767130480340447,
          -0.2178207092659036,
          -0.08900260019549552,
          0.025830786985688498,
          0.14656600959792082,
          0.270173378169197,
          0.38862752862086913,
          0.513104843733843,
          0.6388453774365069,
          0.7648420658031984,
          0.8394763192940641
         ],
         "y": [
          -0.00022834794393379582,
          -0.00017044589357629526,
          -0.0001312346020367856,
          -0.00013281901574625855,
          -0.00009779831000404087,
          -0.00007928514993473823,
          -0.000007086154698261222,
          0.00002119797536192897,
          0.000028806880886694932,
          0.0001164053075138439,
          0.00012851801242106907,
          0.00017497349582680058,
          0.0002900347418214268,
          0.0005754876502313467
         ]
        },
        {
         "line": {
          "color": "red"
         },
         "mode": "lines",
         "name": "Prix",
         "showlegend": true,
         "type": "scatter",
         "x": [
          -0.7759173207089658,
          -0.6278676194430527,
          -0.48436427839279805,
          -0.34767130480340447,
          -0.2178207092659036,
          -0.08900260019549552,
          0.025830786985688498,
          0.14656600959792082,
          0.270173378169197,
          0.38862752862086913,
          0.513104843733843,
          0.6388453774365069,
          0.7648420658031984,
          0.8394763192940641
         ],
         "y": [
          -0.00022646000000000016,
          -0.0001682942857142871,
          -0.00012908000000000215,
          -0.00013088571428571393,
          -0.00009583428571428413,
          -0.00007730999999999996,
          -0.0000049414285714295095,
          0.000023282857142855416,
          0.00003086571428571274,
          0.00011865857142857403,
          0.0001307528571428623,
          0.000177315714285716,
          0.0002924828571428603,
          0.0005814640608174652
         ]
        }
       ],
       "layout": {
        "showlegend": true,
        "template": {
         "data": {
          "bar": [
           {
            "error_x": {
             "color": "#2a3f5f"
            },
            "error_y": {
             "color": "#2a3f5f"
            },
            "marker": {
             "line": {
              "color": "#E5ECF6",
              "width": 0.5
             },
             "pattern": {
              "fillmode": "overlay",
              "size": 10,
              "solidity": 0.2
             }
            },
            "type": "bar"
           }
          ],
          "barpolar": [
           {
            "marker": {
             "line": {
              "color": "#E5ECF6",
              "width": 0.5
             },
             "pattern": {
              "fillmode": "overlay",
              "size": 10,
              "solidity": 0.2
             }
            },
            "type": "barpolar"
           }
          ],
          "carpet": [
           {
            "aaxis": {
             "endlinecolor": "#2a3f5f",
             "gridcolor": "white",
             "linecolor": "white",
             "minorgridcolor": "white",
             "startlinecolor": "#2a3f5f"
            },
            "baxis": {
             "endlinecolor": "#2a3f5f",
             "gridcolor": "white",
             "linecolor": "white",
             "minorgridcolor": "white",
             "startlinecolor": "#2a3f5f"
            },
            "type": "carpet"
           }
          ],
          "choropleth": [
           {
            "colorbar": {
             "outlinewidth": 0,
             "ticks": ""
            },
            "type": "choropleth"
           }
          ],
          "contour": [
           {
            "colorbar": {
             "outlinewidth": 0,
             "ticks": ""
            },
            "colorscale": [
             [
              0,
              "#0d0887"
             ],
             [
              0.1111111111111111,
              "#46039f"
             ],
             [
              0.2222222222222222,
              "#7201a8"
             ],
             [
              0.3333333333333333,
              "#9c179e"
             ],
             [
              0.4444444444444444,
              "#bd3786"
             ],
             [
              0.5555555555555556,
              "#d8576b"
             ],
             [
              0.6666666666666666,
              "#ed7953"
             ],
             [
              0.7777777777777778,
              "#fb9f3a"
             ],
             [
              0.8888888888888888,
              "#fdca26"
             ],
             [
              1,
              "#f0f921"
             ]
            ],
            "type": "contour"
           }
          ],
          "contourcarpet": [
           {
            "colorbar": {
             "outlinewidth": 0,
             "ticks": ""
            },
            "type": "contourcarpet"
           }
          ],
          "heatmap": [
           {
            "colorbar": {
             "outlinewidth": 0,
             "ticks": ""
            },
            "colorscale": [
             [
              0,
              "#0d0887"
             ],
             [
              0.1111111111111111,
              "#46039f"
             ],
             [
              0.2222222222222222,
              "#7201a8"
             ],
             [
              0.3333333333333333,
              "#9c179e"
             ],
             [
              0.4444444444444444,
              "#bd3786"
             ],
             [
              0.5555555555555556,
              "#d8576b"
             ],
             [
              0.6666666666666666,
              "#ed7953"
             ],
             [
              0.7777777777777778,
              "#fb9f3a"
             ],
             [
              0.8888888888888888,
              "#fdca26"
             ],
             [
              1,
              "#f0f921"
             ]
            ],
            "type": "heatmap"
           }
          ],
          "heatmapgl": [
           {
            "colorbar": {
             "outlinewidth": 0,
             "ticks": ""
            },
            "colorscale": [
             [
              0,
              "#0d0887"
             ],
             [
              0.1111111111111111,
              "#46039f"
             ],
             [
              0.2222222222222222,
              "#7201a8"
             ],
             [
              0.3333333333333333,
              "#9c179e"
             ],
             [
              0.4444444444444444,
              "#bd3786"
             ],
             [
              0.5555555555555556,
              "#d8576b"
             ],
             [
              0.6666666666666666,
              "#ed7953"
             ],
             [
              0.7777777777777778,
              "#fb9f3a"
             ],
             [
              0.8888888888888888,
              "#fdca26"
             ],
             [
              1,
              "#f0f921"
             ]
            ],
            "type": "heatmapgl"
           }
          ],
          "histogram": [
           {
            "marker": {
             "pattern": {
              "fillmode": "overlay",
              "size": 10,
              "solidity": 0.2
             }
            },
            "type": "histogram"
           }
          ],
          "histogram2d": [
           {
            "colorbar": {
             "outlinewidth": 0,
             "ticks": ""
            },
            "colorscale": [
             [
              0,
              "#0d0887"
             ],
             [
              0.1111111111111111,
              "#46039f"
             ],
             [
              0.2222222222222222,
              "#7201a8"
             ],
             [
              0.3333333333333333,
              "#9c179e"
             ],
             [
              0.4444444444444444,
              "#bd3786"
             ],
             [
              0.5555555555555556,
              "#d8576b"
             ],
             [
              0.6666666666666666,
              "#ed7953"
             ],
             [
              0.7777777777777778,
              "#fb9f3a"
             ],
             [
              0.8888888888888888,
              "#fdca26"
             ],
             [
              1,
              "#f0f921"
             ]
            ],
            "type": "histogram2d"
           }
          ],
          "histogram2dcontour": [
           {
            "colorbar": {
             "outlinewidth": 0,
             "ticks": ""
            },
            "colorscale": [
             [
              0,
              "#0d0887"
             ],
             [
              0.1111111111111111,
              "#46039f"
             ],
             [
              0.2222222222222222,
              "#7201a8"
             ],
             [
              0.3333333333333333,
              "#9c179e"
             ],
             [
              0.4444444444444444,
              "#bd3786"
             ],
             [
              0.5555555555555556,
              "#d8576b"
             ],
             [
              0.6666666666666666,
              "#ed7953"
             ],
             [
              0.7777777777777778,
              "#fb9f3a"
             ],
             [
              0.8888888888888888,
              "#fdca26"
             ],
             [
              1,
              "#f0f921"
             ]
            ],
            "type": "histogram2dcontour"
           }
          ],
          "mesh3d": [
           {
            "colorbar": {
             "outlinewidth": 0,
             "ticks": ""
            },
            "type": "mesh3d"
           }
          ],
          "parcoords": [
           {
            "line": {
             "colorbar": {
              "outlinewidth": 0,
              "ticks": ""
             }
            },
            "type": "parcoords"
           }
          ],
          "pie": [
           {
            "automargin": true,
            "type": "pie"
           }
          ],
          "scatter": [
           {
            "fillpattern": {
             "fillmode": "overlay",
             "size": 10,
             "solidity": 0.2
            },
            "type": "scatter"
           }
          ],
          "scatter3d": [
           {
            "line": {
             "colorbar": {
              "outlinewidth": 0,
              "ticks": ""
             }
            },
            "marker": {
             "colorbar": {
              "outlinewidth": 0,
              "ticks": ""
             }
            },
            "type": "scatter3d"
           }
          ],
          "scattercarpet": [
           {
            "marker": {
             "colorbar": {
              "outlinewidth": 0,
              "ticks": ""
             }
            },
            "type": "scattercarpet"
           }
          ],
          "scattergeo": [
           {
            "marker": {
             "colorbar": {
              "outlinewidth": 0,
              "ticks": ""
             }
            },
            "type": "scattergeo"
           }
          ],
          "scattergl": [
           {
            "marker": {
             "colorbar": {
              "outlinewidth": 0,
              "ticks": ""
             }
            },
            "type": "scattergl"
           }
          ],
          "scattermapbox": [
           {
            "marker": {
             "colorbar": {
              "outlinewidth": 0,
              "ticks": ""
             }
            },
            "type": "scattermapbox"
           }
          ],
          "scatterpolar": [
           {
            "marker": {
             "colorbar": {
              "outlinewidth": 0,
              "ticks": ""
             }
            },
            "type": "scatterpolar"
           }
          ],
          "scatterpolargl": [
           {
            "marker": {
             "colorbar": {
              "outlinewidth": 0,
              "ticks": ""
             }
            },
            "type": "scatterpolargl"
           }
          ],
          "scatterternary": [
           {
            "marker": {
             "colorbar": {
              "outlinewidth": 0,
              "ticks": ""
             }
            },
            "type": "scatterternary"
           }
          ],
          "surface": [
           {
            "colorbar": {
             "outlinewidth": 0,
             "ticks": ""
            },
            "colorscale": [
             [
              0,
              "#0d0887"
             ],
             [
              0.1111111111111111,
              "#46039f"
             ],
             [
              0.2222222222222222,
              "#7201a8"
             ],
             [
              0.3333333333333333,
              "#9c179e"
             ],
             [
              0.4444444444444444,
              "#bd3786"
             ],
             [
              0.5555555555555556,
              "#d8576b"
             ],
             [
              0.6666666666666666,
              "#ed7953"
             ],
             [
              0.7777777777777778,
              "#fb9f3a"
             ],
             [
              0.8888888888888888,
              "#fdca26"
             ],
             [
              1,
              "#f0f921"
             ]
            ],
            "type": "surface"
           }
          ],
          "table": [
           {
            "cells": {
             "fill": {
              "color": "#EBF0F8"
             },
             "line": {
              "color": "white"
             }
            },
            "header": {
             "fill": {
              "color": "#C8D4E3"
             },
             "line": {
              "color": "white"
             }
            },
            "type": "table"
           }
          ]
         },
         "layout": {
          "annotationdefaults": {
           "arrowcolor": "#2a3f5f",
           "arrowhead": 0,
           "arrowwidth": 1
          },
          "autotypenumbers": "strict",
          "coloraxis": {
           "colorbar": {
            "outlinewidth": 0,
            "ticks": ""
           }
          },
          "colorscale": {
           "diverging": [
            [
             0,
             "#8e0152"
            ],
            [
             0.1,
             "#c51b7d"
            ],
            [
             0.2,
             "#de77ae"
            ],
            [
             0.3,
             "#f1b6da"
            ],
            [
             0.4,
             "#fde0ef"
            ],
            [
             0.5,
             "#f7f7f7"
            ],
            [
             0.6,
             "#e6f5d0"
            ],
            [
             0.7,
             "#b8e186"
            ],
            [
             0.8,
             "#7fbc41"
            ],
            [
             0.9,
             "#4d9221"
            ],
            [
             1,
             "#276419"
            ]
           ],
           "sequential": [
            [
             0,
             "#0d0887"
            ],
            [
             0.1111111111111111,
             "#46039f"
            ],
            [
             0.2222222222222222,
             "#7201a8"
            ],
            [
             0.3333333333333333,
             "#9c179e"
            ],
            [
             0.4444444444444444,
             "#bd3786"
            ],
            [
             0.5555555555555556,
             "#d8576b"
            ],
            [
             0.6666666666666666,
             "#ed7953"
            ],
            [
             0.7777777777777778,
             "#fb9f3a"
            ],
            [
             0.8888888888888888,
             "#fdca26"
            ],
            [
             1,
             "#f0f921"
            ]
           ],
           "sequentialminus": [
            [
             0,
             "#0d0887"
            ],
            [
             0.1111111111111111,
             "#46039f"
            ],
            [
             0.2222222222222222,
             "#7201a8"
            ],
            [
             0.3333333333333333,
             "#9c179e"
            ],
            [
             0.4444444444444444,
             "#bd3786"
            ],
            [
             0.5555555555555556,
             "#d8576b"
            ],
            [
             0.6666666666666666,
             "#ed7953"
            ],
            [
             0.7777777777777778,
             "#fb9f3a"
            ],
            [
             0.8888888888888888,
             "#fdca26"
            ],
            [
             1,
             "#f0f921"
            ]
           ]
          },
          "colorway": [
           "#636efa",
           "#EF553B",
           "#00cc96",
           "#ab63fa",
           "#FFA15A",
           "#19d3f3",
           "#FF6692",
           "#B6E880",
           "#FF97FF",
           "#FECB52"
          ],
          "font": {
           "color": "#2a3f5f"
          },
          "geo": {
           "bgcolor": "white",
           "lakecolor": "white",
           "landcolor": "#E5ECF6",
           "showlakes": true,
           "showland": true,
           "subunitcolor": "white"
          },
          "hoverlabel": {
           "align": "left"
          },
          "hovermode": "closest",
          "mapbox": {
           "style": "light"
          },
          "paper_bgcolor": "white",
          "plot_bgcolor": "#E5ECF6",
          "polar": {
           "angularaxis": {
            "gridcolor": "white",
            "linecolor": "white",
            "ticks": ""
           },
           "bgcolor": "#E5ECF6",
           "radialaxis": {
            "gridcolor": "white",
            "linecolor": "white",
            "ticks": ""
           }
          },
          "scene": {
           "xaxis": {
            "backgroundcolor": "#E5ECF6",
            "gridcolor": "white",
            "gridwidth": 2,
            "linecolor": "white",
            "showbackground": true,
            "ticks": "",
            "zerolinecolor": "white"
           },
           "yaxis": {
            "backgroundcolor": "#E5ECF6",
            "gridcolor": "white",
            "gridwidth": 2,
            "linecolor": "white",
            "showbackground": true,
            "ticks": "",
            "zerolinecolor": "white"
           },
           "zaxis": {
            "backgroundcolor": "#E5ECF6",
            "gridcolor": "white",
            "gridwidth": 2,
            "linecolor": "white",
            "showbackground": true,
            "ticks": "",
            "zerolinecolor": "white"
           }
          },
          "shapedefaults": {
           "line": {
            "color": "#2a3f5f"
           }
          },
          "ternary": {
           "aaxis": {
            "gridcolor": "white",
            "linecolor": "white",
            "ticks": ""
           },
           "baxis": {
            "gridcolor": "white",
            "linecolor": "white",
            "ticks": ""
           },
           "bgcolor": "#E5ECF6",
           "caxis": {
            "gridcolor": "white",
            "linecolor": "white",
            "ticks": ""
           }
          },
          "title": {
           "x": 0.05
          },
          "xaxis": {
           "automargin": true,
           "gridcolor": "white",
           "linecolor": "white",
           "ticks": "",
           "title": {
            "standoff": 15
           },
           "zerolinecolor": "white",
           "zerolinewidth": 2
          },
          "yaxis": {
           "automargin": true,
           "gridcolor": "white",
           "linecolor": "white",
           "ticks": "",
           "title": {
            "standoff": 15
           },
           "zerolinecolor": "white",
           "zerolinewidth": 2
          }
         }
        },
        "title": {
         "text": "Imbalance non recentré"
        },
        "xaxis": {
         "title": {
          "text": "imbalance"
         }
        },
        "yaxis": {
         "title": {
          "text": "delta_price"
         }
        }
       }
      }
     },
     "metadata": {},
     "output_type": "display_data"
    }
   ],
   "source": [
    "fig = go.Figure()\n",
    "fig.add_trace(go.Scatter(x=imb_trie_means,y=price_trie_means + 1.96 * imb_trie_std,mode='lines',line=dict(width=0),name='Upper Bound',showlegend=False))\n",
    "fig.add_trace(go.Scatter(x=imb_trie_means,y=price_trie_means - 1.96 * imb_trie_std,mode='lines',line=dict(width=0),fill='tonexty',fillcolor='blue',name='Intervalle de confiance à 95%',showlegend=True))\n",
    "fig.add_trace(go.Scatter(x=imb_trie_means,y=price_trie_means,mode='lines',name='Prix',line=dict(color='red'),showlegend=True))\n",
    "fig.update_layout(title='Imbalance non recentré',xaxis_title='imbalance',yaxis_title='delta_price',showlegend=True)\n",
    "fig.show()"
   ]
  },
  {
   "cell_type": "code",
   "execution_count": 5,
   "metadata": {},
   "outputs": [
    {
     "data": {
      "application/vnd.plotly.v1+json": {
       "config": {
        "plotlyServerURL": "https://plot.ly"
       },
       "data": [
        {
         "mode": "lines",
         "name": "Density Curve",
         "type": "scatter",
         "x": [
          -0.8216666666666667,
          -0.765,
          -0.7083333333333333,
          -0.6516666666666666,
          -0.595,
          -0.5383333333333333,
          -0.4816666666666667,
          -0.425,
          -0.3683333333333333,
          -0.31166666666666665,
          -0.255,
          -0.19833333333333336,
          -0.14166666666666672,
          -0.08500000000000002,
          -0.02833333333333332,
          0.02833333333333332,
          0.08499999999999996,
          0.14166666666666666,
          0.19833333333333336,
          0.255,
          0.31166666666666665,
          0.3683333333333333,
          0.42499999999999993,
          0.4816666666666666,
          0.5383333333333332,
          0.5949999999999999,
          0.6516666666666666,
          0.7083333333333334,
          0.765,
          0.8216666666666667
         ],
         "y": [
          1353446,
          1285586,
          1370318,
          1357925,
          1346588,
          1372643,
          1445323,
          1408018,
          1420730,
          1654495,
          1476690,
          1545892,
          1503769,
          1577920,
          1491013,
          2143390,
          1591559,
          1562412,
          1623798,
          1570932,
          1816860,
          1570755,
          1556247,
          1650960,
          1554568,
          1564848,
          1558547,
          1623015,
          1525142,
          1690748
         ]
        }
       ],
       "layout": {
        "showlegend": false,
        "template": {
         "data": {
          "bar": [
           {
            "error_x": {
             "color": "#2a3f5f"
            },
            "error_y": {
             "color": "#2a3f5f"
            },
            "marker": {
             "line": {
              "color": "#E5ECF6",
              "width": 0.5
             },
             "pattern": {
              "fillmode": "overlay",
              "size": 10,
              "solidity": 0.2
             }
            },
            "type": "bar"
           }
          ],
          "barpolar": [
           {
            "marker": {
             "line": {
              "color": "#E5ECF6",
              "width": 0.5
             },
             "pattern": {
              "fillmode": "overlay",
              "size": 10,
              "solidity": 0.2
             }
            },
            "type": "barpolar"
           }
          ],
          "carpet": [
           {
            "aaxis": {
             "endlinecolor": "#2a3f5f",
             "gridcolor": "white",
             "linecolor": "white",
             "minorgridcolor": "white",
             "startlinecolor": "#2a3f5f"
            },
            "baxis": {
             "endlinecolor": "#2a3f5f",
             "gridcolor": "white",
             "linecolor": "white",
             "minorgridcolor": "white",
             "startlinecolor": "#2a3f5f"
            },
            "type": "carpet"
           }
          ],
          "choropleth": [
           {
            "colorbar": {
             "outlinewidth": 0,
             "ticks": ""
            },
            "type": "choropleth"
           }
          ],
          "contour": [
           {
            "colorbar": {
             "outlinewidth": 0,
             "ticks": ""
            },
            "colorscale": [
             [
              0,
              "#0d0887"
             ],
             [
              0.1111111111111111,
              "#46039f"
             ],
             [
              0.2222222222222222,
              "#7201a8"
             ],
             [
              0.3333333333333333,
              "#9c179e"
             ],
             [
              0.4444444444444444,
              "#bd3786"
             ],
             [
              0.5555555555555556,
              "#d8576b"
             ],
             [
              0.6666666666666666,
              "#ed7953"
             ],
             [
              0.7777777777777778,
              "#fb9f3a"
             ],
             [
              0.8888888888888888,
              "#fdca26"
             ],
             [
              1,
              "#f0f921"
             ]
            ],
            "type": "contour"
           }
          ],
          "contourcarpet": [
           {
            "colorbar": {
             "outlinewidth": 0,
             "ticks": ""
            },
            "type": "contourcarpet"
           }
          ],
          "heatmap": [
           {
            "colorbar": {
             "outlinewidth": 0,
             "ticks": ""
            },
            "colorscale": [
             [
              0,
              "#0d0887"
             ],
             [
              0.1111111111111111,
              "#46039f"
             ],
             [
              0.2222222222222222,
              "#7201a8"
             ],
             [
              0.3333333333333333,
              "#9c179e"
             ],
             [
              0.4444444444444444,
              "#bd3786"
             ],
             [
              0.5555555555555556,
              "#d8576b"
             ],
             [
              0.6666666666666666,
              "#ed7953"
             ],
             [
              0.7777777777777778,
              "#fb9f3a"
             ],
             [
              0.8888888888888888,
              "#fdca26"
             ],
             [
              1,
              "#f0f921"
             ]
            ],
            "type": "heatmap"
           }
          ],
          "heatmapgl": [
           {
            "colorbar": {
             "outlinewidth": 0,
             "ticks": ""
            },
            "colorscale": [
             [
              0,
              "#0d0887"
             ],
             [
              0.1111111111111111,
              "#46039f"
             ],
             [
              0.2222222222222222,
              "#7201a8"
             ],
             [
              0.3333333333333333,
              "#9c179e"
             ],
             [
              0.4444444444444444,
              "#bd3786"
             ],
             [
              0.5555555555555556,
              "#d8576b"
             ],
             [
              0.6666666666666666,
              "#ed7953"
             ],
             [
              0.7777777777777778,
              "#fb9f3a"
             ],
             [
              0.8888888888888888,
              "#fdca26"
             ],
             [
              1,
              "#f0f921"
             ]
            ],
            "type": "heatmapgl"
           }
          ],
          "histogram": [
           {
            "marker": {
             "pattern": {
              "fillmode": "overlay",
              "size": 10,
              "solidity": 0.2
             }
            },
            "type": "histogram"
           }
          ],
          "histogram2d": [
           {
            "colorbar": {
             "outlinewidth": 0,
             "ticks": ""
            },
            "colorscale": [
             [
              0,
              "#0d0887"
             ],
             [
              0.1111111111111111,
              "#46039f"
             ],
             [
              0.2222222222222222,
              "#7201a8"
             ],
             [
              0.3333333333333333,
              "#9c179e"
             ],
             [
              0.4444444444444444,
              "#bd3786"
             ],
             [
              0.5555555555555556,
              "#d8576b"
             ],
             [
              0.6666666666666666,
              "#ed7953"
             ],
             [
              0.7777777777777778,
              "#fb9f3a"
             ],
             [
              0.8888888888888888,
              "#fdca26"
             ],
             [
              1,
              "#f0f921"
             ]
            ],
            "type": "histogram2d"
           }
          ],
          "histogram2dcontour": [
           {
            "colorbar": {
             "outlinewidth": 0,
             "ticks": ""
            },
            "colorscale": [
             [
              0,
              "#0d0887"
             ],
             [
              0.1111111111111111,
              "#46039f"
             ],
             [
              0.2222222222222222,
              "#7201a8"
             ],
             [
              0.3333333333333333,
              "#9c179e"
             ],
             [
              0.4444444444444444,
              "#bd3786"
             ],
             [
              0.5555555555555556,
              "#d8576b"
             ],
             [
              0.6666666666666666,
              "#ed7953"
             ],
             [
              0.7777777777777778,
              "#fb9f3a"
             ],
             [
              0.8888888888888888,
              "#fdca26"
             ],
             [
              1,
              "#f0f921"
             ]
            ],
            "type": "histogram2dcontour"
           }
          ],
          "mesh3d": [
           {
            "colorbar": {
             "outlinewidth": 0,
             "ticks": ""
            },
            "type": "mesh3d"
           }
          ],
          "parcoords": [
           {
            "line": {
             "colorbar": {
              "outlinewidth": 0,
              "ticks": ""
             }
            },
            "type": "parcoords"
           }
          ],
          "pie": [
           {
            "automargin": true,
            "type": "pie"
           }
          ],
          "scatter": [
           {
            "fillpattern": {
             "fillmode": "overlay",
             "size": 10,
             "solidity": 0.2
            },
            "type": "scatter"
           }
          ],
          "scatter3d": [
           {
            "line": {
             "colorbar": {
              "outlinewidth": 0,
              "ticks": ""
             }
            },
            "marker": {
             "colorbar": {
              "outlinewidth": 0,
              "ticks": ""
             }
            },
            "type": "scatter3d"
           }
          ],
          "scattercarpet": [
           {
            "marker": {
             "colorbar": {
              "outlinewidth": 0,
              "ticks": ""
             }
            },
            "type": "scattercarpet"
           }
          ],
          "scattergeo": [
           {
            "marker": {
             "colorbar": {
              "outlinewidth": 0,
              "ticks": ""
             }
            },
            "type": "scattergeo"
           }
          ],
          "scattergl": [
           {
            "marker": {
             "colorbar": {
              "outlinewidth": 0,
              "ticks": ""
             }
            },
            "type": "scattergl"
           }
          ],
          "scattermapbox": [
           {
            "marker": {
             "colorbar": {
              "outlinewidth": 0,
              "ticks": ""
             }
            },
            "type": "scattermapbox"
           }
          ],
          "scatterpolar": [
           {
            "marker": {
             "colorbar": {
              "outlinewidth": 0,
              "ticks": ""
             }
            },
            "type": "scatterpolar"
           }
          ],
          "scatterpolargl": [
           {
            "marker": {
             "colorbar": {
              "outlinewidth": 0,
              "ticks": ""
             }
            },
            "type": "scatterpolargl"
           }
          ],
          "scatterternary": [
           {
            "marker": {
             "colorbar": {
              "outlinewidth": 0,
              "ticks": ""
             }
            },
            "type": "scatterternary"
           }
          ],
          "surface": [
           {
            "colorbar": {
             "outlinewidth": 0,
             "ticks": ""
            },
            "colorscale": [
             [
              0,
              "#0d0887"
             ],
             [
              0.1111111111111111,
              "#46039f"
             ],
             [
              0.2222222222222222,
              "#7201a8"
             ],
             [
              0.3333333333333333,
              "#9c179e"
             ],
             [
              0.4444444444444444,
              "#bd3786"
             ],
             [
              0.5555555555555556,
              "#d8576b"
             ],
             [
              0.6666666666666666,
              "#ed7953"
             ],
             [
              0.7777777777777778,
              "#fb9f3a"
             ],
             [
              0.8888888888888888,
              "#fdca26"
             ],
             [
              1,
              "#f0f921"
             ]
            ],
            "type": "surface"
           }
          ],
          "table": [
           {
            "cells": {
             "fill": {
              "color": "#EBF0F8"
             },
             "line": {
              "color": "white"
             }
            },
            "header": {
             "fill": {
              "color": "#C8D4E3"
             },
             "line": {
              "color": "white"
             }
            },
            "type": "table"
           }
          ]
         },
         "layout": {
          "annotationdefaults": {
           "arrowcolor": "#2a3f5f",
           "arrowhead": 0,
           "arrowwidth": 1
          },
          "autotypenumbers": "strict",
          "coloraxis": {
           "colorbar": {
            "outlinewidth": 0,
            "ticks": ""
           }
          },
          "colorscale": {
           "diverging": [
            [
             0,
             "#8e0152"
            ],
            [
             0.1,
             "#c51b7d"
            ],
            [
             0.2,
             "#de77ae"
            ],
            [
             0.3,
             "#f1b6da"
            ],
            [
             0.4,
             "#fde0ef"
            ],
            [
             0.5,
             "#f7f7f7"
            ],
            [
             0.6,
             "#e6f5d0"
            ],
            [
             0.7,
             "#b8e186"
            ],
            [
             0.8,
             "#7fbc41"
            ],
            [
             0.9,
             "#4d9221"
            ],
            [
             1,
             "#276419"
            ]
           ],
           "sequential": [
            [
             0,
             "#0d0887"
            ],
            [
             0.1111111111111111,
             "#46039f"
            ],
            [
             0.2222222222222222,
             "#7201a8"
            ],
            [
             0.3333333333333333,
             "#9c179e"
            ],
            [
             0.4444444444444444,
             "#bd3786"
            ],
            [
             0.5555555555555556,
             "#d8576b"
            ],
            [
             0.6666666666666666,
             "#ed7953"
            ],
            [
             0.7777777777777778,
             "#fb9f3a"
            ],
            [
             0.8888888888888888,
             "#fdca26"
            ],
            [
             1,
             "#f0f921"
            ]
           ],
           "sequentialminus": [
            [
             0,
             "#0d0887"
            ],
            [
             0.1111111111111111,
             "#46039f"
            ],
            [
             0.2222222222222222,
             "#7201a8"
            ],
            [
             0.3333333333333333,
             "#9c179e"
            ],
            [
             0.4444444444444444,
             "#bd3786"
            ],
            [
             0.5555555555555556,
             "#d8576b"
            ],
            [
             0.6666666666666666,
             "#ed7953"
            ],
            [
             0.7777777777777778,
             "#fb9f3a"
            ],
            [
             0.8888888888888888,
             "#fdca26"
            ],
            [
             1,
             "#f0f921"
            ]
           ]
          },
          "colorway": [
           "#636efa",
           "#EF553B",
           "#00cc96",
           "#ab63fa",
           "#FFA15A",
           "#19d3f3",
           "#FF6692",
           "#B6E880",
           "#FF97FF",
           "#FECB52"
          ],
          "font": {
           "color": "#2a3f5f"
          },
          "geo": {
           "bgcolor": "white",
           "lakecolor": "white",
           "landcolor": "#E5ECF6",
           "showlakes": true,
           "showland": true,
           "subunitcolor": "white"
          },
          "hoverlabel": {
           "align": "left"
          },
          "hovermode": "closest",
          "mapbox": {
           "style": "light"
          },
          "paper_bgcolor": "white",
          "plot_bgcolor": "#E5ECF6",
          "polar": {
           "angularaxis": {
            "gridcolor": "white",
            "linecolor": "white",
            "ticks": ""
           },
           "bgcolor": "#E5ECF6",
           "radialaxis": {
            "gridcolor": "white",
            "linecolor": "white",
            "ticks": ""
           }
          },
          "scene": {
           "xaxis": {
            "backgroundcolor": "#E5ECF6",
            "gridcolor": "white",
            "gridwidth": 2,
            "linecolor": "white",
            "showbackground": true,
            "ticks": "",
            "zerolinecolor": "white"
           },
           "yaxis": {
            "backgroundcolor": "#E5ECF6",
            "gridcolor": "white",
            "gridwidth": 2,
            "linecolor": "white",
            "showbackground": true,
            "ticks": "",
            "zerolinecolor": "white"
           },
           "zaxis": {
            "backgroundcolor": "#E5ECF6",
            "gridcolor": "white",
            "gridwidth": 2,
            "linecolor": "white",
            "showbackground": true,
            "ticks": "",
            "zerolinecolor": "white"
           }
          },
          "shapedefaults": {
           "line": {
            "color": "#2a3f5f"
           }
          },
          "ternary": {
           "aaxis": {
            "gridcolor": "white",
            "linecolor": "white",
            "ticks": ""
           },
           "baxis": {
            "gridcolor": "white",
            "linecolor": "white",
            "ticks": ""
           },
           "bgcolor": "#E5ECF6",
           "caxis": {
            "gridcolor": "white",
            "linecolor": "white",
            "ticks": ""
           }
          },
          "title": {
           "x": 0.05
          },
          "xaxis": {
           "automargin": true,
           "gridcolor": "white",
           "linecolor": "white",
           "ticks": "",
           "title": {
            "standoff": 15
           },
           "zerolinecolor": "white",
           "zerolinewidth": 2
          },
          "yaxis": {
           "automargin": true,
           "gridcolor": "white",
           "linecolor": "white",
           "ticks": "",
           "title": {
            "standoff": 15
           },
           "zerolinecolor": "white",
           "zerolinewidth": 2
          }
         }
        },
        "title": {
         "text": "Courbe de distribution de l'imbalance (tous event confondus)"
        },
        "xaxis": {
         "title": {
          "text": "imbalance"
         }
        },
        "yaxis": {
         "title": {
          "text": "number of events"
         }
        }
       }
      }
     },
     "metadata": {},
     "output_type": "display_data"
    }
   ],
   "source": [
    "nb_bins = 30\n",
    "counts, bin_edges = np.histogram(imb_trie, bins=nb_bins)\n",
    "bin_centers = (bin_edges[:-1]+bin_edges[1:])/2\n",
    "\n",
    "fig = go.Figure()\n",
    "fig.add_trace(go.Scatter(x=bin_centers,y=counts,mode='lines',name='Density Curve'))\n",
    "fig.update_layout(title=f\"Courbe de distribution de l'imbalance (tous event confondus)\",xaxis_title='imbalance',yaxis_title='number of events',showlegend=False)\n",
    "fig.show()"
   ]
  },
  {
   "cell_type": "code",
   "execution_count": 6,
   "metadata": {},
   "outputs": [
    {
     "name": "stderr",
     "output_type": "stream",
     "text": [
      "100%|██████████| 65/65 [02:04<00:00,  1.92s/it]"
     ]
    },
    {
     "name": "stdout",
     "output_type": "stream",
     "text": [
      "A quel point c'est long: 1843612\n"
     ]
    },
    {
     "name": "stderr",
     "output_type": "stream",
     "text": [
      "\n"
     ]
    }
   ],
   "source": [
    "imb_trade = np.array([])\n",
    "price_trade = np.array([])\n",
    "imb_add = np.array([])\n",
    "price_add = np.array([])\n",
    "imb_cancel = np.array([])\n",
    "price_cancel = np.array([])\n",
    "limite = 0\n",
    "for f in tqdm(files_csv):\n",
    "    df = pd.read_csv(f)\n",
    "    df = df[:-100]\n",
    "    df_trade = df[df['action'] == 'T']\n",
    "    df_cancel = df[df['action'] == 'C']\n",
    "    df_add = df[df['action'] == 'A']\n",
    "    imb_trade = np.concatenate([imb_trade, df_trade['imbalance'].to_numpy()])\n",
    "    price_trade = np.concatenate([price_trade, df_trade['Mean_price_diff'].to_numpy()])\n",
    "    imb_add = np.concatenate([imb_add, df_add['imbalance'].to_numpy()])\n",
    "    price_add = np.concatenate([price_add, df_add['Mean_price_diff'].to_numpy()])\n",
    "    imb_cancel = np.concatenate([imb_cancel, df_cancel['imbalance'].to_numpy()])\n",
    "    price_cancel = np.concatenate([price_cancel, df_cancel['Mean_price_diff'].to_numpy()])\n",
    "    \n",
    "imb_tot = [imb_trade,imb_add,imb_cancel]\n",
    "price_tot = [price_trade,price_add,price_cancel]\n",
    "\n",
    "print(f\"A quel point c'est long: {len(imb_trade)}\")"
   ]
  },
  {
   "cell_type": "code",
   "execution_count": 7,
   "metadata": {},
   "outputs": [],
   "source": [
    "def visu_imbalance_respec(imb_tot, price_tot, i , string, group_size, bound = 0.95):\n",
    "    indices_trie = np.argsort(imb_tot[i])\n",
    "    imb_trie = imb_tot[i][indices_trie]\n",
    "    price_trie = price_tot[i][indices_trie]\n",
    "    mask = (imb_trie >= -bound)&(imb_trie <= bound)\n",
    "    imb_trie = imb_trie[mask]\n",
    "    price_trie = price_trie[mask]\n",
    "    imb_trie_groups = [imb_trie[i:i+group_size] for i in range(0, len(imb_trie), group_size)]\n",
    "    price_trie_groups = [price_trie[i:i+group_size] for i in range(0, len(price_trie), group_size)]\n",
    "    imb_trie_means = np.array([np.mean(group) for group in imb_trie_groups])\n",
    "    price_trie_means = np.array([np.mean(group) for group in price_trie_groups])\n",
    "    imb_trie_std = np.array([np.std(group)/np.sqrt(len(group)) for group in price_trie_groups])\n",
    "\n",
    "    fig = go.Figure()\n",
    "    fig.add_trace(go.Scatter(x=imb_trie_means,y=price_trie_means + 1.96 * imb_trie_std,mode='lines',line=dict(width=0),name='Upper Bound',showlegend=False))\n",
    "    fig.add_trace(go.Scatter(x=imb_trie_means,y=price_trie_means - 1.96 * imb_trie_std,mode='lines',line=dict(width=0),fill='tonexty',fillcolor='blue',name='Intervalle de confiance à 95%',showlegend=True))\n",
    "    fig.add_trace(go.Scatter(x=imb_trie_means,y=price_trie_means,mode='lines',name='Prix',line=dict(color='red'),showlegend=True))\n",
    "    fig.update_layout(title=f'Imbalance des {string}',xaxis_title='imbalance',yaxis_title='delta_price',showlegend=True)\n",
    "    fig.show()\n",
    "\n",
    "    nb_bins = 20\n",
    "    counts, bin_edges = np.histogram(imb_trie, bins=nb_bins)\n",
    "    bin_centers = (bin_edges[:-1]+bin_edges[1:])/2\n",
    "\n",
    "    fig = go.Figure()\n",
    "    fig.add_trace(go.Scatter(x=bin_centers,y=counts,mode='lines',name='Density Curve'))\n",
    "    fig.update_layout(title=f\"Courbe de distribution de l'imbalance des {string}\",xaxis_title='imbalance',yaxis_title='number of events',showlegend=False)\n",
    "    fig.show()\n",
    "\n",
    "def visu_event_vs_imbalance(imb_tot, price_tot, string, bound = 0.9):\n",
    "    fig = go.Figure()\n",
    "    nb_bins = 25\n",
    "    counts_tot = []\n",
    "    bins_centers_tot = []\n",
    "    for i in range (len(imb_tot)):\n",
    "        indices_trie = np.argsort(imb_tot[i])\n",
    "        imb_trie = imb_tot[i][indices_trie]\n",
    "        price_trie = price_tot[i][indices_trie]\n",
    "        mask = (imb_trie >= -bound)&(imb_trie <= bound)\n",
    "        imb_trie = imb_trie[mask]\n",
    "        price_trie = price_trie[mask]\n",
    "        counts, bin_edges = np.histogram(imb_trie, bins=nb_bins)\n",
    "        counts_tot.append(counts)\n",
    "        bins_centers_tot.append((bin_edges[:-1]+bin_edges[1:])/2)\n",
    "    counts_total = np.array(counts_tot[0])+np.array(counts_tot[1])+np.array(counts_tot[2])\n",
    "    for i in range (len(imb_tot)):\n",
    "        fig.add_trace(go.Scatter(x=bins_centers_tot[i],y=np.array(counts_tot[i])/counts_total,mode='lines',name=f'{string[i]}'))\n",
    "    fig.update_layout(title=f\"Courbes de distribution de l'imbalance (tous les event))\",xaxis_title='imbalance',yaxis_title=\"Probabilité de l'event\",showlegend=True)\n",
    "    fig.show()"
   ]
  },
  {
   "cell_type": "code",
   "execution_count": 8,
   "metadata": {},
   "outputs": [
    {
     "data": {
      "application/vnd.plotly.v1+json": {
       "config": {
        "plotlyServerURL": "https://plot.ly"
       },
       "data": [
        {
         "line": {
          "width": 0
         },
         "mode": "lines",
         "name": "Upper Bound",
         "showlegend": false,
         "type": "scatter",
         "x": [
          -0.8920565437695943,
          -0.7654671377593942,
          -0.6262700068866258,
          -0.48017865327100795,
          -0.33086690222568393,
          -0.17891489568962318,
          -0.028933882669355784,
          0.11694708187839224,
          0.26989842432812106,
          0.41911769987574526,
          0.5653890826039073,
          0.7043824435333106,
          0.834712122821592,
          0.9218280529244088
         ],
         "y": [
          0.0006298077835078988,
          0.000991847251834342,
          0.001246127749951908,
          0.0014226920560332298,
          0.001607419277889262,
          0.0017517275716143201,
          0.0018699714141347768,
          0.0017043754736428688,
          0.0016516587343190564,
          0.0014945904359130013,
          0.0013142318733875907,
          0.0010661020512063159,
          0.0007976925305465005,
          0.0005489095634955818
         ]
        },
        {
         "fill": "tonexty",
         "fillcolor": "blue",
         "line": {
          "width": 0
         },
         "mode": "lines",
         "name": "Intervalle de confiance à 95%",
         "showlegend": true,
         "type": "scatter",
         "x": [
          -0.8920565437695943,
          -0.7654671377593942,
          -0.6262700068866258,
          -0.48017865327100795,
          -0.33086690222568393,
          -0.17891489568962318,
          -0.028933882669355784,
          0.11694708187839224,
          0.26989842432812106,
          0.41911769987574526,
          0.5653890826039073,
          0.7043824435333106,
          0.834712122821592,
          0.9218280529244088
         ],
         "y": [
          0.0005888922164920441,
          0.0009488527481656162,
          0.001171172250048062,
          0.0013752079439667145,
          0.0015633807221106973,
          0.0017017724283855788,
          0.0018198285858651295,
          0.0016606245263571242,
          0.001603341265680892,
          0.0014472095640870408,
          0.001270668126612459,
          0.0010249979487936779,
          0.0007494074694534319,
          0.000493175363963815
         ]
        },
        {
         "line": {
          "color": "red"
         },
         "mode": "lines",
         "name": "Prix",
         "showlegend": true,
         "type": "scatter",
         "x": [
          -0.8920565437695943,
          -0.7654671377593942,
          -0.6262700068866258,
          -0.48017865327100795,
          -0.33086690222568393,
          -0.17891489568962318,
          -0.028933882669355784,
          0.11694708187839224,
          0.26989842432812106,
          0.41911769987574526,
          0.5653890826039073,
          0.7043824435333106,
          0.834712122821592,
          0.9218280529244088
         ],
         "y": [
          0.0006093499999999714,
          0.0009703499999999791,
          0.001208649999999985,
          0.0013989499999999722,
          0.0015853999999999797,
          0.0017267499999999495,
          0.0018448999999999532,
          0.0016824999999999965,
          0.0016274999999999742,
          0.001470900000000021,
          0.0012924500000000248,
          0.0010455499999999969,
          0.0007735499999999662,
          0.0005210424637296984
         ]
        }
       ],
       "layout": {
        "showlegend": true,
        "template": {
         "data": {
          "bar": [
           {
            "error_x": {
             "color": "#2a3f5f"
            },
            "error_y": {
             "color": "#2a3f5f"
            },
            "marker": {
             "line": {
              "color": "#E5ECF6",
              "width": 0.5
             },
             "pattern": {
              "fillmode": "overlay",
              "size": 10,
              "solidity": 0.2
             }
            },
            "type": "bar"
           }
          ],
          "barpolar": [
           {
            "marker": {
             "line": {
              "color": "#E5ECF6",
              "width": 0.5
             },
             "pattern": {
              "fillmode": "overlay",
              "size": 10,
              "solidity": 0.2
             }
            },
            "type": "barpolar"
           }
          ],
          "carpet": [
           {
            "aaxis": {
             "endlinecolor": "#2a3f5f",
             "gridcolor": "white",
             "linecolor": "white",
             "minorgridcolor": "white",
             "startlinecolor": "#2a3f5f"
            },
            "baxis": {
             "endlinecolor": "#2a3f5f",
             "gridcolor": "white",
             "linecolor": "white",
             "minorgridcolor": "white",
             "startlinecolor": "#2a3f5f"
            },
            "type": "carpet"
           }
          ],
          "choropleth": [
           {
            "colorbar": {
             "outlinewidth": 0,
             "ticks": ""
            },
            "type": "choropleth"
           }
          ],
          "contour": [
           {
            "colorbar": {
             "outlinewidth": 0,
             "ticks": ""
            },
            "colorscale": [
             [
              0,
              "#0d0887"
             ],
             [
              0.1111111111111111,
              "#46039f"
             ],
             [
              0.2222222222222222,
              "#7201a8"
             ],
             [
              0.3333333333333333,
              "#9c179e"
             ],
             [
              0.4444444444444444,
              "#bd3786"
             ],
             [
              0.5555555555555556,
              "#d8576b"
             ],
             [
              0.6666666666666666,
              "#ed7953"
             ],
             [
              0.7777777777777778,
              "#fb9f3a"
             ],
             [
              0.8888888888888888,
              "#fdca26"
             ],
             [
              1,
              "#f0f921"
             ]
            ],
            "type": "contour"
           }
          ],
          "contourcarpet": [
           {
            "colorbar": {
             "outlinewidth": 0,
             "ticks": ""
            },
            "type": "contourcarpet"
           }
          ],
          "heatmap": [
           {
            "colorbar": {
             "outlinewidth": 0,
             "ticks": ""
            },
            "colorscale": [
             [
              0,
              "#0d0887"
             ],
             [
              0.1111111111111111,
              "#46039f"
             ],
             [
              0.2222222222222222,
              "#7201a8"
             ],
             [
              0.3333333333333333,
              "#9c179e"
             ],
             [
              0.4444444444444444,
              "#bd3786"
             ],
             [
              0.5555555555555556,
              "#d8576b"
             ],
             [
              0.6666666666666666,
              "#ed7953"
             ],
             [
              0.7777777777777778,
              "#fb9f3a"
             ],
             [
              0.8888888888888888,
              "#fdca26"
             ],
             [
              1,
              "#f0f921"
             ]
            ],
            "type": "heatmap"
           }
          ],
          "heatmapgl": [
           {
            "colorbar": {
             "outlinewidth": 0,
             "ticks": ""
            },
            "colorscale": [
             [
              0,
              "#0d0887"
             ],
             [
              0.1111111111111111,
              "#46039f"
             ],
             [
              0.2222222222222222,
              "#7201a8"
             ],
             [
              0.3333333333333333,
              "#9c179e"
             ],
             [
              0.4444444444444444,
              "#bd3786"
             ],
             [
              0.5555555555555556,
              "#d8576b"
             ],
             [
              0.6666666666666666,
              "#ed7953"
             ],
             [
              0.7777777777777778,
              "#fb9f3a"
             ],
             [
              0.8888888888888888,
              "#fdca26"
             ],
             [
              1,
              "#f0f921"
             ]
            ],
            "type": "heatmapgl"
           }
          ],
          "histogram": [
           {
            "marker": {
             "pattern": {
              "fillmode": "overlay",
              "size": 10,
              "solidity": 0.2
             }
            },
            "type": "histogram"
           }
          ],
          "histogram2d": [
           {
            "colorbar": {
             "outlinewidth": 0,
             "ticks": ""
            },
            "colorscale": [
             [
              0,
              "#0d0887"
             ],
             [
              0.1111111111111111,
              "#46039f"
             ],
             [
              0.2222222222222222,
              "#7201a8"
             ],
             [
              0.3333333333333333,
              "#9c179e"
             ],
             [
              0.4444444444444444,
              "#bd3786"
             ],
             [
              0.5555555555555556,
              "#d8576b"
             ],
             [
              0.6666666666666666,
              "#ed7953"
             ],
             [
              0.7777777777777778,
              "#fb9f3a"
             ],
             [
              0.8888888888888888,
              "#fdca26"
             ],
             [
              1,
              "#f0f921"
             ]
            ],
            "type": "histogram2d"
           }
          ],
          "histogram2dcontour": [
           {
            "colorbar": {
             "outlinewidth": 0,
             "ticks": ""
            },
            "colorscale": [
             [
              0,
              "#0d0887"
             ],
             [
              0.1111111111111111,
              "#46039f"
             ],
             [
              0.2222222222222222,
              "#7201a8"
             ],
             [
              0.3333333333333333,
              "#9c179e"
             ],
             [
              0.4444444444444444,
              "#bd3786"
             ],
             [
              0.5555555555555556,
              "#d8576b"
             ],
             [
              0.6666666666666666,
              "#ed7953"
             ],
             [
              0.7777777777777778,
              "#fb9f3a"
             ],
             [
              0.8888888888888888,
              "#fdca26"
             ],
             [
              1,
              "#f0f921"
             ]
            ],
            "type": "histogram2dcontour"
           }
          ],
          "mesh3d": [
           {
            "colorbar": {
             "outlinewidth": 0,
             "ticks": ""
            },
            "type": "mesh3d"
           }
          ],
          "parcoords": [
           {
            "line": {
             "colorbar": {
              "outlinewidth": 0,
              "ticks": ""
             }
            },
            "type": "parcoords"
           }
          ],
          "pie": [
           {
            "automargin": true,
            "type": "pie"
           }
          ],
          "scatter": [
           {
            "fillpattern": {
             "fillmode": "overlay",
             "size": 10,
             "solidity": 0.2
            },
            "type": "scatter"
           }
          ],
          "scatter3d": [
           {
            "line": {
             "colorbar": {
              "outlinewidth": 0,
              "ticks": ""
             }
            },
            "marker": {
             "colorbar": {
              "outlinewidth": 0,
              "ticks": ""
             }
            },
            "type": "scatter3d"
           }
          ],
          "scattercarpet": [
           {
            "marker": {
             "colorbar": {
              "outlinewidth": 0,
              "ticks": ""
             }
            },
            "type": "scattercarpet"
           }
          ],
          "scattergeo": [
           {
            "marker": {
             "colorbar": {
              "outlinewidth": 0,
              "ticks": ""
             }
            },
            "type": "scattergeo"
           }
          ],
          "scattergl": [
           {
            "marker": {
             "colorbar": {
              "outlinewidth": 0,
              "ticks": ""
             }
            },
            "type": "scattergl"
           }
          ],
          "scattermapbox": [
           {
            "marker": {
             "colorbar": {
              "outlinewidth": 0,
              "ticks": ""
             }
            },
            "type": "scattermapbox"
           }
          ],
          "scatterpolar": [
           {
            "marker": {
             "colorbar": {
              "outlinewidth": 0,
              "ticks": ""
             }
            },
            "type": "scatterpolar"
           }
          ],
          "scatterpolargl": [
           {
            "marker": {
             "colorbar": {
              "outlinewidth": 0,
              "ticks": ""
             }
            },
            "type": "scatterpolargl"
           }
          ],
          "scatterternary": [
           {
            "marker": {
             "colorbar": {
              "outlinewidth": 0,
              "ticks": ""
             }
            },
            "type": "scatterternary"
           }
          ],
          "surface": [
           {
            "colorbar": {
             "outlinewidth": 0,
             "ticks": ""
            },
            "colorscale": [
             [
              0,
              "#0d0887"
             ],
             [
              0.1111111111111111,
              "#46039f"
             ],
             [
              0.2222222222222222,
              "#7201a8"
             ],
             [
              0.3333333333333333,
              "#9c179e"
             ],
             [
              0.4444444444444444,
              "#bd3786"
             ],
             [
              0.5555555555555556,
              "#d8576b"
             ],
             [
              0.6666666666666666,
              "#ed7953"
             ],
             [
              0.7777777777777778,
              "#fb9f3a"
             ],
             [
              0.8888888888888888,
              "#fdca26"
             ],
             [
              1,
              "#f0f921"
             ]
            ],
            "type": "surface"
           }
          ],
          "table": [
           {
            "cells": {
             "fill": {
              "color": "#EBF0F8"
             },
             "line": {
              "color": "white"
             }
            },
            "header": {
             "fill": {
              "color": "#C8D4E3"
             },
             "line": {
              "color": "white"
             }
            },
            "type": "table"
           }
          ]
         },
         "layout": {
          "annotationdefaults": {
           "arrowcolor": "#2a3f5f",
           "arrowhead": 0,
           "arrowwidth": 1
          },
          "autotypenumbers": "strict",
          "coloraxis": {
           "colorbar": {
            "outlinewidth": 0,
            "ticks": ""
           }
          },
          "colorscale": {
           "diverging": [
            [
             0,
             "#8e0152"
            ],
            [
             0.1,
             "#c51b7d"
            ],
            [
             0.2,
             "#de77ae"
            ],
            [
             0.3,
             "#f1b6da"
            ],
            [
             0.4,
             "#fde0ef"
            ],
            [
             0.5,
             "#f7f7f7"
            ],
            [
             0.6,
             "#e6f5d0"
            ],
            [
             0.7,
             "#b8e186"
            ],
            [
             0.8,
             "#7fbc41"
            ],
            [
             0.9,
             "#4d9221"
            ],
            [
             1,
             "#276419"
            ]
           ],
           "sequential": [
            [
             0,
             "#0d0887"
            ],
            [
             0.1111111111111111,
             "#46039f"
            ],
            [
             0.2222222222222222,
             "#7201a8"
            ],
            [
             0.3333333333333333,
             "#9c179e"
            ],
            [
             0.4444444444444444,
             "#bd3786"
            ],
            [
             0.5555555555555556,
             "#d8576b"
            ],
            [
             0.6666666666666666,
             "#ed7953"
            ],
            [
             0.7777777777777778,
             "#fb9f3a"
            ],
            [
             0.8888888888888888,
             "#fdca26"
            ],
            [
             1,
             "#f0f921"
            ]
           ],
           "sequentialminus": [
            [
             0,
             "#0d0887"
            ],
            [
             0.1111111111111111,
             "#46039f"
            ],
            [
             0.2222222222222222,
             "#7201a8"
            ],
            [
             0.3333333333333333,
             "#9c179e"
            ],
            [
             0.4444444444444444,
             "#bd3786"
            ],
            [
             0.5555555555555556,
             "#d8576b"
            ],
            [
             0.6666666666666666,
             "#ed7953"
            ],
            [
             0.7777777777777778,
             "#fb9f3a"
            ],
            [
             0.8888888888888888,
             "#fdca26"
            ],
            [
             1,
             "#f0f921"
            ]
           ]
          },
          "colorway": [
           "#636efa",
           "#EF553B",
           "#00cc96",
           "#ab63fa",
           "#FFA15A",
           "#19d3f3",
           "#FF6692",
           "#B6E880",
           "#FF97FF",
           "#FECB52"
          ],
          "font": {
           "color": "#2a3f5f"
          },
          "geo": {
           "bgcolor": "white",
           "lakecolor": "white",
           "landcolor": "#E5ECF6",
           "showlakes": true,
           "showland": true,
           "subunitcolor": "white"
          },
          "hoverlabel": {
           "align": "left"
          },
          "hovermode": "closest",
          "mapbox": {
           "style": "light"
          },
          "paper_bgcolor": "white",
          "plot_bgcolor": "#E5ECF6",
          "polar": {
           "angularaxis": {
            "gridcolor": "white",
            "linecolor": "white",
            "ticks": ""
           },
           "bgcolor": "#E5ECF6",
           "radialaxis": {
            "gridcolor": "white",
            "linecolor": "white",
            "ticks": ""
           }
          },
          "scene": {
           "xaxis": {
            "backgroundcolor": "#E5ECF6",
            "gridcolor": "white",
            "gridwidth": 2,
            "linecolor": "white",
            "showbackground": true,
            "ticks": "",
            "zerolinecolor": "white"
           },
           "yaxis": {
            "backgroundcolor": "#E5ECF6",
            "gridcolor": "white",
            "gridwidth": 2,
            "linecolor": "white",
            "showbackground": true,
            "ticks": "",
            "zerolinecolor": "white"
           },
           "zaxis": {
            "backgroundcolor": "#E5ECF6",
            "gridcolor": "white",
            "gridwidth": 2,
            "linecolor": "white",
            "showbackground": true,
            "ticks": "",
            "zerolinecolor": "white"
           }
          },
          "shapedefaults": {
           "line": {
            "color": "#2a3f5f"
           }
          },
          "ternary": {
           "aaxis": {
            "gridcolor": "white",
            "linecolor": "white",
            "ticks": ""
           },
           "baxis": {
            "gridcolor": "white",
            "linecolor": "white",
            "ticks": ""
           },
           "bgcolor": "#E5ECF6",
           "caxis": {
            "gridcolor": "white",
            "linecolor": "white",
            "ticks": ""
           }
          },
          "title": {
           "x": 0.05
          },
          "xaxis": {
           "automargin": true,
           "gridcolor": "white",
           "linecolor": "white",
           "ticks": "",
           "title": {
            "standoff": 15
           },
           "zerolinecolor": "white",
           "zerolinewidth": 2
          },
          "yaxis": {
           "automargin": true,
           "gridcolor": "white",
           "linecolor": "white",
           "ticks": "",
           "title": {
            "standoff": 15
           },
           "zerolinecolor": "white",
           "zerolinewidth": 2
          }
         }
        },
        "title": {
         "text": "Imbalance des trades"
        },
        "xaxis": {
         "title": {
          "text": "imbalance"
         }
        },
        "yaxis": {
         "title": {
          "text": "delta_price"
         }
        }
       }
      }
     },
     "metadata": {},
     "output_type": "display_data"
    },
    {
     "data": {
      "application/vnd.plotly.v1+json": {
       "config": {
        "plotlyServerURL": "https://plot.ly"
       },
       "data": [
        {
         "mode": "lines",
         "name": "Density Curve",
         "type": "scatter",
         "x": [
          -0.9025,
          -0.8075,
          -0.7124999999999999,
          -0.6174999999999999,
          -0.5225,
          -0.42749999999999994,
          -0.3324999999999999,
          -0.23749999999999993,
          -0.14249999999999996,
          -0.04749999999999999,
          0.04749999999999999,
          0.14250000000000007,
          0.23750000000000016,
          0.33250000000000013,
          0.4275000000000001,
          0.5225000000000001,
          0.6175,
          0.7125,
          0.8075,
          0.9025
         ],
         "y": [
          81212,
          72517,
          70872,
          64624,
          64406,
          62914,
          65211,
          61265,
          61447,
          59735,
          71632,
          61476,
          61581,
          65390,
          63099,
          65793,
          65620,
          72376,
          75560,
          86068
         ]
        }
       ],
       "layout": {
        "showlegend": false,
        "template": {
         "data": {
          "bar": [
           {
            "error_x": {
             "color": "#2a3f5f"
            },
            "error_y": {
             "color": "#2a3f5f"
            },
            "marker": {
             "line": {
              "color": "#E5ECF6",
              "width": 0.5
             },
             "pattern": {
              "fillmode": "overlay",
              "size": 10,
              "solidity": 0.2
             }
            },
            "type": "bar"
           }
          ],
          "barpolar": [
           {
            "marker": {
             "line": {
              "color": "#E5ECF6",
              "width": 0.5
             },
             "pattern": {
              "fillmode": "overlay",
              "size": 10,
              "solidity": 0.2
             }
            },
            "type": "barpolar"
           }
          ],
          "carpet": [
           {
            "aaxis": {
             "endlinecolor": "#2a3f5f",
             "gridcolor": "white",
             "linecolor": "white",
             "minorgridcolor": "white",
             "startlinecolor": "#2a3f5f"
            },
            "baxis": {
             "endlinecolor": "#2a3f5f",
             "gridcolor": "white",
             "linecolor": "white",
             "minorgridcolor": "white",
             "startlinecolor": "#2a3f5f"
            },
            "type": "carpet"
           }
          ],
          "choropleth": [
           {
            "colorbar": {
             "outlinewidth": 0,
             "ticks": ""
            },
            "type": "choropleth"
           }
          ],
          "contour": [
           {
            "colorbar": {
             "outlinewidth": 0,
             "ticks": ""
            },
            "colorscale": [
             [
              0,
              "#0d0887"
             ],
             [
              0.1111111111111111,
              "#46039f"
             ],
             [
              0.2222222222222222,
              "#7201a8"
             ],
             [
              0.3333333333333333,
              "#9c179e"
             ],
             [
              0.4444444444444444,
              "#bd3786"
             ],
             [
              0.5555555555555556,
              "#d8576b"
             ],
             [
              0.6666666666666666,
              "#ed7953"
             ],
             [
              0.7777777777777778,
              "#fb9f3a"
             ],
             [
              0.8888888888888888,
              "#fdca26"
             ],
             [
              1,
              "#f0f921"
             ]
            ],
            "type": "contour"
           }
          ],
          "contourcarpet": [
           {
            "colorbar": {
             "outlinewidth": 0,
             "ticks": ""
            },
            "type": "contourcarpet"
           }
          ],
          "heatmap": [
           {
            "colorbar": {
             "outlinewidth": 0,
             "ticks": ""
            },
            "colorscale": [
             [
              0,
              "#0d0887"
             ],
             [
              0.1111111111111111,
              "#46039f"
             ],
             [
              0.2222222222222222,
              "#7201a8"
             ],
             [
              0.3333333333333333,
              "#9c179e"
             ],
             [
              0.4444444444444444,
              "#bd3786"
             ],
             [
              0.5555555555555556,
              "#d8576b"
             ],
             [
              0.6666666666666666,
              "#ed7953"
             ],
             [
              0.7777777777777778,
              "#fb9f3a"
             ],
             [
              0.8888888888888888,
              "#fdca26"
             ],
             [
              1,
              "#f0f921"
             ]
            ],
            "type": "heatmap"
           }
          ],
          "heatmapgl": [
           {
            "colorbar": {
             "outlinewidth": 0,
             "ticks": ""
            },
            "colorscale": [
             [
              0,
              "#0d0887"
             ],
             [
              0.1111111111111111,
              "#46039f"
             ],
             [
              0.2222222222222222,
              "#7201a8"
             ],
             [
              0.3333333333333333,
              "#9c179e"
             ],
             [
              0.4444444444444444,
              "#bd3786"
             ],
             [
              0.5555555555555556,
              "#d8576b"
             ],
             [
              0.6666666666666666,
              "#ed7953"
             ],
             [
              0.7777777777777778,
              "#fb9f3a"
             ],
             [
              0.8888888888888888,
              "#fdca26"
             ],
             [
              1,
              "#f0f921"
             ]
            ],
            "type": "heatmapgl"
           }
          ],
          "histogram": [
           {
            "marker": {
             "pattern": {
              "fillmode": "overlay",
              "size": 10,
              "solidity": 0.2
             }
            },
            "type": "histogram"
           }
          ],
          "histogram2d": [
           {
            "colorbar": {
             "outlinewidth": 0,
             "ticks": ""
            },
            "colorscale": [
             [
              0,
              "#0d0887"
             ],
             [
              0.1111111111111111,
              "#46039f"
             ],
             [
              0.2222222222222222,
              "#7201a8"
             ],
             [
              0.3333333333333333,
              "#9c179e"
             ],
             [
              0.4444444444444444,
              "#bd3786"
             ],
             [
              0.5555555555555556,
              "#d8576b"
             ],
             [
              0.6666666666666666,
              "#ed7953"
             ],
             [
              0.7777777777777778,
              "#fb9f3a"
             ],
             [
              0.8888888888888888,
              "#fdca26"
             ],
             [
              1,
              "#f0f921"
             ]
            ],
            "type": "histogram2d"
           }
          ],
          "histogram2dcontour": [
           {
            "colorbar": {
             "outlinewidth": 0,
             "ticks": ""
            },
            "colorscale": [
             [
              0,
              "#0d0887"
             ],
             [
              0.1111111111111111,
              "#46039f"
             ],
             [
              0.2222222222222222,
              "#7201a8"
             ],
             [
              0.3333333333333333,
              "#9c179e"
             ],
             [
              0.4444444444444444,
              "#bd3786"
             ],
             [
              0.5555555555555556,
              "#d8576b"
             ],
             [
              0.6666666666666666,
              "#ed7953"
             ],
             [
              0.7777777777777778,
              "#fb9f3a"
             ],
             [
              0.8888888888888888,
              "#fdca26"
             ],
             [
              1,
              "#f0f921"
             ]
            ],
            "type": "histogram2dcontour"
           }
          ],
          "mesh3d": [
           {
            "colorbar": {
             "outlinewidth": 0,
             "ticks": ""
            },
            "type": "mesh3d"
           }
          ],
          "parcoords": [
           {
            "line": {
             "colorbar": {
              "outlinewidth": 0,
              "ticks": ""
             }
            },
            "type": "parcoords"
           }
          ],
          "pie": [
           {
            "automargin": true,
            "type": "pie"
           }
          ],
          "scatter": [
           {
            "fillpattern": {
             "fillmode": "overlay",
             "size": 10,
             "solidity": 0.2
            },
            "type": "scatter"
           }
          ],
          "scatter3d": [
           {
            "line": {
             "colorbar": {
              "outlinewidth": 0,
              "ticks": ""
             }
            },
            "marker": {
             "colorbar": {
              "outlinewidth": 0,
              "ticks": ""
             }
            },
            "type": "scatter3d"
           }
          ],
          "scattercarpet": [
           {
            "marker": {
             "colorbar": {
              "outlinewidth": 0,
              "ticks": ""
             }
            },
            "type": "scattercarpet"
           }
          ],
          "scattergeo": [
           {
            "marker": {
             "colorbar": {
              "outlinewidth": 0,
              "ticks": ""
             }
            },
            "type": "scattergeo"
           }
          ],
          "scattergl": [
           {
            "marker": {
             "colorbar": {
              "outlinewidth": 0,
              "ticks": ""
             }
            },
            "type": "scattergl"
           }
          ],
          "scattermapbox": [
           {
            "marker": {
             "colorbar": {
              "outlinewidth": 0,
              "ticks": ""
             }
            },
            "type": "scattermapbox"
           }
          ],
          "scatterpolar": [
           {
            "marker": {
             "colorbar": {
              "outlinewidth": 0,
              "ticks": ""
             }
            },
            "type": "scatterpolar"
           }
          ],
          "scatterpolargl": [
           {
            "marker": {
             "colorbar": {
              "outlinewidth": 0,
              "ticks": ""
             }
            },
            "type": "scatterpolargl"
           }
          ],
          "scatterternary": [
           {
            "marker": {
             "colorbar": {
              "outlinewidth": 0,
              "ticks": ""
             }
            },
            "type": "scatterternary"
           }
          ],
          "surface": [
           {
            "colorbar": {
             "outlinewidth": 0,
             "ticks": ""
            },
            "colorscale": [
             [
              0,
              "#0d0887"
             ],
             [
              0.1111111111111111,
              "#46039f"
             ],
             [
              0.2222222222222222,
              "#7201a8"
             ],
             [
              0.3333333333333333,
              "#9c179e"
             ],
             [
              0.4444444444444444,
              "#bd3786"
             ],
             [
              0.5555555555555556,
              "#d8576b"
             ],
             [
              0.6666666666666666,
              "#ed7953"
             ],
             [
              0.7777777777777778,
              "#fb9f3a"
             ],
             [
              0.8888888888888888,
              "#fdca26"
             ],
             [
              1,
              "#f0f921"
             ]
            ],
            "type": "surface"
           }
          ],
          "table": [
           {
            "cells": {
             "fill": {
              "color": "#EBF0F8"
             },
             "line": {
              "color": "white"
             }
            },
            "header": {
             "fill": {
              "color": "#C8D4E3"
             },
             "line": {
              "color": "white"
             }
            },
            "type": "table"
           }
          ]
         },
         "layout": {
          "annotationdefaults": {
           "arrowcolor": "#2a3f5f",
           "arrowhead": 0,
           "arrowwidth": 1
          },
          "autotypenumbers": "strict",
          "coloraxis": {
           "colorbar": {
            "outlinewidth": 0,
            "ticks": ""
           }
          },
          "colorscale": {
           "diverging": [
            [
             0,
             "#8e0152"
            ],
            [
             0.1,
             "#c51b7d"
            ],
            [
             0.2,
             "#de77ae"
            ],
            [
             0.3,
             "#f1b6da"
            ],
            [
             0.4,
             "#fde0ef"
            ],
            [
             0.5,
             "#f7f7f7"
            ],
            [
             0.6,
             "#e6f5d0"
            ],
            [
             0.7,
             "#b8e186"
            ],
            [
             0.8,
             "#7fbc41"
            ],
            [
             0.9,
             "#4d9221"
            ],
            [
             1,
             "#276419"
            ]
           ],
           "sequential": [
            [
             0,
             "#0d0887"
            ],
            [
             0.1111111111111111,
             "#46039f"
            ],
            [
             0.2222222222222222,
             "#7201a8"
            ],
            [
             0.3333333333333333,
             "#9c179e"
            ],
            [
             0.4444444444444444,
             "#bd3786"
            ],
            [
             0.5555555555555556,
             "#d8576b"
            ],
            [
             0.6666666666666666,
             "#ed7953"
            ],
            [
             0.7777777777777778,
             "#fb9f3a"
            ],
            [
             0.8888888888888888,
             "#fdca26"
            ],
            [
             1,
             "#f0f921"
            ]
           ],
           "sequentialminus": [
            [
             0,
             "#0d0887"
            ],
            [
             0.1111111111111111,
             "#46039f"
            ],
            [
             0.2222222222222222,
             "#7201a8"
            ],
            [
             0.3333333333333333,
             "#9c179e"
            ],
            [
             0.4444444444444444,
             "#bd3786"
            ],
            [
             0.5555555555555556,
             "#d8576b"
            ],
            [
             0.6666666666666666,
             "#ed7953"
            ],
            [
             0.7777777777777778,
             "#fb9f3a"
            ],
            [
             0.8888888888888888,
             "#fdca26"
            ],
            [
             1,
             "#f0f921"
            ]
           ]
          },
          "colorway": [
           "#636efa",
           "#EF553B",
           "#00cc96",
           "#ab63fa",
           "#FFA15A",
           "#19d3f3",
           "#FF6692",
           "#B6E880",
           "#FF97FF",
           "#FECB52"
          ],
          "font": {
           "color": "#2a3f5f"
          },
          "geo": {
           "bgcolor": "white",
           "lakecolor": "white",
           "landcolor": "#E5ECF6",
           "showlakes": true,
           "showland": true,
           "subunitcolor": "white"
          },
          "hoverlabel": {
           "align": "left"
          },
          "hovermode": "closest",
          "mapbox": {
           "style": "light"
          },
          "paper_bgcolor": "white",
          "plot_bgcolor": "#E5ECF6",
          "polar": {
           "angularaxis": {
            "gridcolor": "white",
            "linecolor": "white",
            "ticks": ""
           },
           "bgcolor": "#E5ECF6",
           "radialaxis": {
            "gridcolor": "white",
            "linecolor": "white",
            "ticks": ""
           }
          },
          "scene": {
           "xaxis": {
            "backgroundcolor": "#E5ECF6",
            "gridcolor": "white",
            "gridwidth": 2,
            "linecolor": "white",
            "showbackground": true,
            "ticks": "",
            "zerolinecolor": "white"
           },
           "yaxis": {
            "backgroundcolor": "#E5ECF6",
            "gridcolor": "white",
            "gridwidth": 2,
            "linecolor": "white",
            "showbackground": true,
            "ticks": "",
            "zerolinecolor": "white"
           },
           "zaxis": {
            "backgroundcolor": "#E5ECF6",
            "gridcolor": "white",
            "gridwidth": 2,
            "linecolor": "white",
            "showbackground": true,
            "ticks": "",
            "zerolinecolor": "white"
           }
          },
          "shapedefaults": {
           "line": {
            "color": "#2a3f5f"
           }
          },
          "ternary": {
           "aaxis": {
            "gridcolor": "white",
            "linecolor": "white",
            "ticks": ""
           },
           "baxis": {
            "gridcolor": "white",
            "linecolor": "white",
            "ticks": ""
           },
           "bgcolor": "#E5ECF6",
           "caxis": {
            "gridcolor": "white",
            "linecolor": "white",
            "ticks": ""
           }
          },
          "title": {
           "x": 0.05
          },
          "xaxis": {
           "automargin": true,
           "gridcolor": "white",
           "linecolor": "white",
           "ticks": "",
           "title": {
            "standoff": 15
           },
           "zerolinecolor": "white",
           "zerolinewidth": 2
          },
          "yaxis": {
           "automargin": true,
           "gridcolor": "white",
           "linecolor": "white",
           "ticks": "",
           "title": {
            "standoff": 15
           },
           "zerolinecolor": "white",
           "zerolinewidth": 2
          }
         }
        },
        "title": {
         "text": "Courbe de distribution de l'imbalance des trades"
        },
        "xaxis": {
         "title": {
          "text": "imbalance"
         }
        },
        "yaxis": {
         "title": {
          "text": "number of events"
         }
        }
       }
      }
     },
     "metadata": {},
     "output_type": "display_data"
    },
    {
     "data": {
      "application/vnd.plotly.v1+json": {
       "config": {
        "plotlyServerURL": "https://plot.ly"
       },
       "data": [
        {
         "line": {
          "width": 0
         },
         "mode": "lines",
         "name": "Upper Bound",
         "showlegend": false,
         "type": "scatter",
         "x": [
          -0.8747998936193604,
          -0.7402680457335427,
          -0.6165073639102939,
          -0.4988721774467529,
          -0.3871095405084989,
          -0.2840404725555878,
          -0.18105890611267275,
          -0.08001866329084119,
          0.010528057408476458,
          0.10339012171443945,
          0.201519754017374,
          0.2978465539355566,
          0.3909348411843761,
          0.49023426724331975,
          0.5911421534570093,
          0.6953069889514193,
          0.8002354330093525,
          0.8977794546408457,
          0.9485831448168114
         ],
         "y": [
          -0.0002789864710440436,
          -0.0003014523539140379,
          -0.00021331094073626816,
          -0.0002306554406696176,
          -0.0002030067617181307,
          -0.00020562101069036362,
          -0.00023091347141875951,
          -0.00019833114297244792,
          -0.00007034913372012861,
          -0.00010573519967112489,
          -0.00009192636650858647,
          0.00004793469316329251,
          0.000014253418372074622,
          0.00014104153511106256,
          0.0001406022007163537,
          0.0002808180182706345,
          0.0006630872324884126,
          0.0013996763057971796,
          0.0017498574628763404
         ]
        },
        {
         "fill": "tonexty",
         "fillcolor": "blue",
         "line": {
          "width": 0
         },
         "mode": "lines",
         "name": "Intervalle de confiance à 95%",
         "showlegend": true,
         "type": "scatter",
         "x": [
          -0.8747998936193604,
          -0.7402680457335427,
          -0.6165073639102939,
          -0.4988721774467529,
          -0.3871095405084989,
          -0.2840404725555878,
          -0.18105890611267275,
          -0.08001866329084119,
          0.010528057408476458,
          0.10339012171443945,
          0.201519754017374,
          0.2978465539355566,
          0.3909348411843761,
          0.49023426724331975,
          0.5911421534570093,
          0.6953069889514193,
          0.8002354330093525,
          0.8977794546408457,
          0.9485831448168114
         ],
         "y": [
          -0.0002846535289559562,
          -0.00030670097941928447,
          -0.0002189623925970637,
          -0.0002373845593303809,
          -0.00020854657161520056,
          -0.0002110056559762818,
          -0.00023627319524789593,
          -0.00020375552369421743,
          -0.00007669086627986884,
          -0.00011158480032887997,
          -0.00009774696682474352,
          0.00004147197350338675,
          0.00000793324829457763,
          0.00013415846488895632,
          0.0001337311326169828,
          0.0002733753150626954,
          0.0006546994341782592,
          0.0013902903608694344,
          0.001687159256799303
         ]
        },
        {
         "line": {
          "color": "red"
         },
         "mode": "lines",
         "name": "Prix",
         "showlegend": true,
         "type": "scatter",
         "x": [
          -0.8747998936193604,
          -0.7402680457335427,
          -0.6165073639102939,
          -0.4988721774467529,
          -0.3871095405084989,
          -0.2840404725555878,
          -0.18105890611267275,
          -0.08001866329084119,
          0.010528057408476458,
          0.10339012171443945,
          0.201519754017374,
          0.2978465539355566,
          0.3909348411843761,
          0.49023426724331975,
          0.5911421534570093,
          0.6953069889514193,
          0.8002354330093525,
          0.8977794546408457,
          0.9485831448168114
         ],
         "y": [
          -0.0002818199999999999,
          -0.0003040766666666612,
          -0.00021613666666666593,
          -0.00023401999999999925,
          -0.00020577666666666563,
          -0.0002083133333333227,
          -0.00023359333333332772,
          -0.00020104333333333268,
          -0.00007351999999999873,
          -0.00010866000000000243,
          -0.000094836666666665,
          0.00004470333333333963,
          0.000011093333333326126,
          0.00013760000000000944,
          0.00013716666666666825,
          0.00027709666666666497,
          0.0006588933333333359,
          0.001394983333333307,
          0.0017185083598378218
         ]
        }
       ],
       "layout": {
        "showlegend": true,
        "template": {
         "data": {
          "bar": [
           {
            "error_x": {
             "color": "#2a3f5f"
            },
            "error_y": {
             "color": "#2a3f5f"
            },
            "marker": {
             "line": {
              "color": "#E5ECF6",
              "width": 0.5
             },
             "pattern": {
              "fillmode": "overlay",
              "size": 10,
              "solidity": 0.2
             }
            },
            "type": "bar"
           }
          ],
          "barpolar": [
           {
            "marker": {
             "line": {
              "color": "#E5ECF6",
              "width": 0.5
             },
             "pattern": {
              "fillmode": "overlay",
              "size": 10,
              "solidity": 0.2
             }
            },
            "type": "barpolar"
           }
          ],
          "carpet": [
           {
            "aaxis": {
             "endlinecolor": "#2a3f5f",
             "gridcolor": "white",
             "linecolor": "white",
             "minorgridcolor": "white",
             "startlinecolor": "#2a3f5f"
            },
            "baxis": {
             "endlinecolor": "#2a3f5f",
             "gridcolor": "white",
             "linecolor": "white",
             "minorgridcolor": "white",
             "startlinecolor": "#2a3f5f"
            },
            "type": "carpet"
           }
          ],
          "choropleth": [
           {
            "colorbar": {
             "outlinewidth": 0,
             "ticks": ""
            },
            "type": "choropleth"
           }
          ],
          "contour": [
           {
            "colorbar": {
             "outlinewidth": 0,
             "ticks": ""
            },
            "colorscale": [
             [
              0,
              "#0d0887"
             ],
             [
              0.1111111111111111,
              "#46039f"
             ],
             [
              0.2222222222222222,
              "#7201a8"
             ],
             [
              0.3333333333333333,
              "#9c179e"
             ],
             [
              0.4444444444444444,
              "#bd3786"
             ],
             [
              0.5555555555555556,
              "#d8576b"
             ],
             [
              0.6666666666666666,
              "#ed7953"
             ],
             [
              0.7777777777777778,
              "#fb9f3a"
             ],
             [
              0.8888888888888888,
              "#fdca26"
             ],
             [
              1,
              "#f0f921"
             ]
            ],
            "type": "contour"
           }
          ],
          "contourcarpet": [
           {
            "colorbar": {
             "outlinewidth": 0,
             "ticks": ""
            },
            "type": "contourcarpet"
           }
          ],
          "heatmap": [
           {
            "colorbar": {
             "outlinewidth": 0,
             "ticks": ""
            },
            "colorscale": [
             [
              0,
              "#0d0887"
             ],
             [
              0.1111111111111111,
              "#46039f"
             ],
             [
              0.2222222222222222,
              "#7201a8"
             ],
             [
              0.3333333333333333,
              "#9c179e"
             ],
             [
              0.4444444444444444,
              "#bd3786"
             ],
             [
              0.5555555555555556,
              "#d8576b"
             ],
             [
              0.6666666666666666,
              "#ed7953"
             ],
             [
              0.7777777777777778,
              "#fb9f3a"
             ],
             [
              0.8888888888888888,
              "#fdca26"
             ],
             [
              1,
              "#f0f921"
             ]
            ],
            "type": "heatmap"
           }
          ],
          "heatmapgl": [
           {
            "colorbar": {
             "outlinewidth": 0,
             "ticks": ""
            },
            "colorscale": [
             [
              0,
              "#0d0887"
             ],
             [
              0.1111111111111111,
              "#46039f"
             ],
             [
              0.2222222222222222,
              "#7201a8"
             ],
             [
              0.3333333333333333,
              "#9c179e"
             ],
             [
              0.4444444444444444,
              "#bd3786"
             ],
             [
              0.5555555555555556,
              "#d8576b"
             ],
             [
              0.6666666666666666,
              "#ed7953"
             ],
             [
              0.7777777777777778,
              "#fb9f3a"
             ],
             [
              0.8888888888888888,
              "#fdca26"
             ],
             [
              1,
              "#f0f921"
             ]
            ],
            "type": "heatmapgl"
           }
          ],
          "histogram": [
           {
            "marker": {
             "pattern": {
              "fillmode": "overlay",
              "size": 10,
              "solidity": 0.2
             }
            },
            "type": "histogram"
           }
          ],
          "histogram2d": [
           {
            "colorbar": {
             "outlinewidth": 0,
             "ticks": ""
            },
            "colorscale": [
             [
              0,
              "#0d0887"
             ],
             [
              0.1111111111111111,
              "#46039f"
             ],
             [
              0.2222222222222222,
              "#7201a8"
             ],
             [
              0.3333333333333333,
              "#9c179e"
             ],
             [
              0.4444444444444444,
              "#bd3786"
             ],
             [
              0.5555555555555556,
              "#d8576b"
             ],
             [
              0.6666666666666666,
              "#ed7953"
             ],
             [
              0.7777777777777778,
              "#fb9f3a"
             ],
             [
              0.8888888888888888,
              "#fdca26"
             ],
             [
              1,
              "#f0f921"
             ]
            ],
            "type": "histogram2d"
           }
          ],
          "histogram2dcontour": [
           {
            "colorbar": {
             "outlinewidth": 0,
             "ticks": ""
            },
            "colorscale": [
             [
              0,
              "#0d0887"
             ],
             [
              0.1111111111111111,
              "#46039f"
             ],
             [
              0.2222222222222222,
              "#7201a8"
             ],
             [
              0.3333333333333333,
              "#9c179e"
             ],
             [
              0.4444444444444444,
              "#bd3786"
             ],
             [
              0.5555555555555556,
              "#d8576b"
             ],
             [
              0.6666666666666666,
              "#ed7953"
             ],
             [
              0.7777777777777778,
              "#fb9f3a"
             ],
             [
              0.8888888888888888,
              "#fdca26"
             ],
             [
              1,
              "#f0f921"
             ]
            ],
            "type": "histogram2dcontour"
           }
          ],
          "mesh3d": [
           {
            "colorbar": {
             "outlinewidth": 0,
             "ticks": ""
            },
            "type": "mesh3d"
           }
          ],
          "parcoords": [
           {
            "line": {
             "colorbar": {
              "outlinewidth": 0,
              "ticks": ""
             }
            },
            "type": "parcoords"
           }
          ],
          "pie": [
           {
            "automargin": true,
            "type": "pie"
           }
          ],
          "scatter": [
           {
            "fillpattern": {
             "fillmode": "overlay",
             "size": 10,
             "solidity": 0.2
            },
            "type": "scatter"
           }
          ],
          "scatter3d": [
           {
            "line": {
             "colorbar": {
              "outlinewidth": 0,
              "ticks": ""
             }
            },
            "marker": {
             "colorbar": {
              "outlinewidth": 0,
              "ticks": ""
             }
            },
            "type": "scatter3d"
           }
          ],
          "scattercarpet": [
           {
            "marker": {
             "colorbar": {
              "outlinewidth": 0,
              "ticks": ""
             }
            },
            "type": "scattercarpet"
           }
          ],
          "scattergeo": [
           {
            "marker": {
             "colorbar": {
              "outlinewidth": 0,
              "ticks": ""
             }
            },
            "type": "scattergeo"
           }
          ],
          "scattergl": [
           {
            "marker": {
             "colorbar": {
              "outlinewidth": 0,
              "ticks": ""
             }
            },
            "type": "scattergl"
           }
          ],
          "scattermapbox": [
           {
            "marker": {
             "colorbar": {
              "outlinewidth": 0,
              "ticks": ""
             }
            },
            "type": "scattermapbox"
           }
          ],
          "scatterpolar": [
           {
            "marker": {
             "colorbar": {
              "outlinewidth": 0,
              "ticks": ""
             }
            },
            "type": "scatterpolar"
           }
          ],
          "scatterpolargl": [
           {
            "marker": {
             "colorbar": {
              "outlinewidth": 0,
              "ticks": ""
             }
            },
            "type": "scatterpolargl"
           }
          ],
          "scatterternary": [
           {
            "marker": {
             "colorbar": {
              "outlinewidth": 0,
              "ticks": ""
             }
            },
            "type": "scatterternary"
           }
          ],
          "surface": [
           {
            "colorbar": {
             "outlinewidth": 0,
             "ticks": ""
            },
            "colorscale": [
             [
              0,
              "#0d0887"
             ],
             [
              0.1111111111111111,
              "#46039f"
             ],
             [
              0.2222222222222222,
              "#7201a8"
             ],
             [
              0.3333333333333333,
              "#9c179e"
             ],
             [
              0.4444444444444444,
              "#bd3786"
             ],
             [
              0.5555555555555556,
              "#d8576b"
             ],
             [
              0.6666666666666666,
              "#ed7953"
             ],
             [
              0.7777777777777778,
              "#fb9f3a"
             ],
             [
              0.8888888888888888,
              "#fdca26"
             ],
             [
              1,
              "#f0f921"
             ]
            ],
            "type": "surface"
           }
          ],
          "table": [
           {
            "cells": {
             "fill": {
              "color": "#EBF0F8"
             },
             "line": {
              "color": "white"
             }
            },
            "header": {
             "fill": {
              "color": "#C8D4E3"
             },
             "line": {
              "color": "white"
             }
            },
            "type": "table"
           }
          ]
         },
         "layout": {
          "annotationdefaults": {
           "arrowcolor": "#2a3f5f",
           "arrowhead": 0,
           "arrowwidth": 1
          },
          "autotypenumbers": "strict",
          "coloraxis": {
           "colorbar": {
            "outlinewidth": 0,
            "ticks": ""
           }
          },
          "colorscale": {
           "diverging": [
            [
             0,
             "#8e0152"
            ],
            [
             0.1,
             "#c51b7d"
            ],
            [
             0.2,
             "#de77ae"
            ],
            [
             0.3,
             "#f1b6da"
            ],
            [
             0.4,
             "#fde0ef"
            ],
            [
             0.5,
             "#f7f7f7"
            ],
            [
             0.6,
             "#e6f5d0"
            ],
            [
             0.7,
             "#b8e186"
            ],
            [
             0.8,
             "#7fbc41"
            ],
            [
             0.9,
             "#4d9221"
            ],
            [
             1,
             "#276419"
            ]
           ],
           "sequential": [
            [
             0,
             "#0d0887"
            ],
            [
             0.1111111111111111,
             "#46039f"
            ],
            [
             0.2222222222222222,
             "#7201a8"
            ],
            [
             0.3333333333333333,
             "#9c179e"
            ],
            [
             0.4444444444444444,
             "#bd3786"
            ],
            [
             0.5555555555555556,
             "#d8576b"
            ],
            [
             0.6666666666666666,
             "#ed7953"
            ],
            [
             0.7777777777777778,
             "#fb9f3a"
            ],
            [
             0.8888888888888888,
             "#fdca26"
            ],
            [
             1,
             "#f0f921"
            ]
           ],
           "sequentialminus": [
            [
             0,
             "#0d0887"
            ],
            [
             0.1111111111111111,
             "#46039f"
            ],
            [
             0.2222222222222222,
             "#7201a8"
            ],
            [
             0.3333333333333333,
             "#9c179e"
            ],
            [
             0.4444444444444444,
             "#bd3786"
            ],
            [
             0.5555555555555556,
             "#d8576b"
            ],
            [
             0.6666666666666666,
             "#ed7953"
            ],
            [
             0.7777777777777778,
             "#fb9f3a"
            ],
            [
             0.8888888888888888,
             "#fdca26"
            ],
            [
             1,
             "#f0f921"
            ]
           ]
          },
          "colorway": [
           "#636efa",
           "#EF553B",
           "#00cc96",
           "#ab63fa",
           "#FFA15A",
           "#19d3f3",
           "#FF6692",
           "#B6E880",
           "#FF97FF",
           "#FECB52"
          ],
          "font": {
           "color": "#2a3f5f"
          },
          "geo": {
           "bgcolor": "white",
           "lakecolor": "white",
           "landcolor": "#E5ECF6",
           "showlakes": true,
           "showland": true,
           "subunitcolor": "white"
          },
          "hoverlabel": {
           "align": "left"
          },
          "hovermode": "closest",
          "mapbox": {
           "style": "light"
          },
          "paper_bgcolor": "white",
          "plot_bgcolor": "#E5ECF6",
          "polar": {
           "angularaxis": {
            "gridcolor": "white",
            "linecolor": "white",
            "ticks": ""
           },
           "bgcolor": "#E5ECF6",
           "radialaxis": {
            "gridcolor": "white",
            "linecolor": "white",
            "ticks": ""
           }
          },
          "scene": {
           "xaxis": {
            "backgroundcolor": "#E5ECF6",
            "gridcolor": "white",
            "gridwidth": 2,
            "linecolor": "white",
            "showbackground": true,
            "ticks": "",
            "zerolinecolor": "white"
           },
           "yaxis": {
            "backgroundcolor": "#E5ECF6",
            "gridcolor": "white",
            "gridwidth": 2,
            "linecolor": "white",
            "showbackground": true,
            "ticks": "",
            "zerolinecolor": "white"
           },
           "zaxis": {
            "backgroundcolor": "#E5ECF6",
            "gridcolor": "white",
            "gridwidth": 2,
            "linecolor": "white",
            "showbackground": true,
            "ticks": "",
            "zerolinecolor": "white"
           }
          },
          "shapedefaults": {
           "line": {
            "color": "#2a3f5f"
           }
          },
          "ternary": {
           "aaxis": {
            "gridcolor": "white",
            "linecolor": "white",
            "ticks": ""
           },
           "baxis": {
            "gridcolor": "white",
            "linecolor": "white",
            "ticks": ""
           },
           "bgcolor": "#E5ECF6",
           "caxis": {
            "gridcolor": "white",
            "linecolor": "white",
            "ticks": ""
           }
          },
          "title": {
           "x": 0.05
          },
          "xaxis": {
           "automargin": true,
           "gridcolor": "white",
           "linecolor": "white",
           "ticks": "",
           "title": {
            "standoff": 15
           },
           "zerolinecolor": "white",
           "zerolinewidth": 2
          },
          "yaxis": {
           "automargin": true,
           "gridcolor": "white",
           "linecolor": "white",
           "ticks": "",
           "title": {
            "standoff": 15
           },
           "zerolinecolor": "white",
           "zerolinewidth": 2
          }
         }
        },
        "title": {
         "text": "Imbalance des add"
        },
        "xaxis": {
         "title": {
          "text": "imbalance"
         }
        },
        "yaxis": {
         "title": {
          "text": "delta_price"
         }
        }
       }
      }
     },
     "metadata": {},
     "output_type": "display_data"
    },
    {
     "data": {
      "application/vnd.plotly.v1+json": {
       "config": {
        "plotlyServerURL": "https://plot.ly"
       },
       "data": [
        {
         "mode": "lines",
         "name": "Density Curve",
         "type": "scatter",
         "x": [
          -0.9025,
          -0.8075,
          -0.7124999999999999,
          -0.6174999999999999,
          -0.5225,
          -0.42749999999999994,
          -0.3324999999999999,
          -0.23749999999999993,
          -0.14249999999999996,
          -0.04749999999999999,
          0.04749999999999999,
          0.14250000000000007,
          0.23750000000000016,
          0.33250000000000013,
          0.4275000000000001,
          0.5225000000000001,
          0.6175,
          0.7125,
          0.8075,
          0.9025
         ],
         "y": [
          947926,
          1053001,
          1183384,
          1146987,
          1225339,
          1286752,
          1404626,
          1382268,
          1383584,
          1397411,
          1722734,
          1426908,
          1461594,
          1571786,
          1425557,
          1413089,
          1346391,
          1410023,
          1381156,
          1463755
         ]
        }
       ],
       "layout": {
        "showlegend": false,
        "template": {
         "data": {
          "bar": [
           {
            "error_x": {
             "color": "#2a3f5f"
            },
            "error_y": {
             "color": "#2a3f5f"
            },
            "marker": {
             "line": {
              "color": "#E5ECF6",
              "width": 0.5
             },
             "pattern": {
              "fillmode": "overlay",
              "size": 10,
              "solidity": 0.2
             }
            },
            "type": "bar"
           }
          ],
          "barpolar": [
           {
            "marker": {
             "line": {
              "color": "#E5ECF6",
              "width": 0.5
             },
             "pattern": {
              "fillmode": "overlay",
              "size": 10,
              "solidity": 0.2
             }
            },
            "type": "barpolar"
           }
          ],
          "carpet": [
           {
            "aaxis": {
             "endlinecolor": "#2a3f5f",
             "gridcolor": "white",
             "linecolor": "white",
             "minorgridcolor": "white",
             "startlinecolor": "#2a3f5f"
            },
            "baxis": {
             "endlinecolor": "#2a3f5f",
             "gridcolor": "white",
             "linecolor": "white",
             "minorgridcolor": "white",
             "startlinecolor": "#2a3f5f"
            },
            "type": "carpet"
           }
          ],
          "choropleth": [
           {
            "colorbar": {
             "outlinewidth": 0,
             "ticks": ""
            },
            "type": "choropleth"
           }
          ],
          "contour": [
           {
            "colorbar": {
             "outlinewidth": 0,
             "ticks": ""
            },
            "colorscale": [
             [
              0,
              "#0d0887"
             ],
             [
              0.1111111111111111,
              "#46039f"
             ],
             [
              0.2222222222222222,
              "#7201a8"
             ],
             [
              0.3333333333333333,
              "#9c179e"
             ],
             [
              0.4444444444444444,
              "#bd3786"
             ],
             [
              0.5555555555555556,
              "#d8576b"
             ],
             [
              0.6666666666666666,
              "#ed7953"
             ],
             [
              0.7777777777777778,
              "#fb9f3a"
             ],
             [
              0.8888888888888888,
              "#fdca26"
             ],
             [
              1,
              "#f0f921"
             ]
            ],
            "type": "contour"
           }
          ],
          "contourcarpet": [
           {
            "colorbar": {
             "outlinewidth": 0,
             "ticks": ""
            },
            "type": "contourcarpet"
           }
          ],
          "heatmap": [
           {
            "colorbar": {
             "outlinewidth": 0,
             "ticks": ""
            },
            "colorscale": [
             [
              0,
              "#0d0887"
             ],
             [
              0.1111111111111111,
              "#46039f"
             ],
             [
              0.2222222222222222,
              "#7201a8"
             ],
             [
              0.3333333333333333,
              "#9c179e"
             ],
             [
              0.4444444444444444,
              "#bd3786"
             ],
             [
              0.5555555555555556,
              "#d8576b"
             ],
             [
              0.6666666666666666,
              "#ed7953"
             ],
             [
              0.7777777777777778,
              "#fb9f3a"
             ],
             [
              0.8888888888888888,
              "#fdca26"
             ],
             [
              1,
              "#f0f921"
             ]
            ],
            "type": "heatmap"
           }
          ],
          "heatmapgl": [
           {
            "colorbar": {
             "outlinewidth": 0,
             "ticks": ""
            },
            "colorscale": [
             [
              0,
              "#0d0887"
             ],
             [
              0.1111111111111111,
              "#46039f"
             ],
             [
              0.2222222222222222,
              "#7201a8"
             ],
             [
              0.3333333333333333,
              "#9c179e"
             ],
             [
              0.4444444444444444,
              "#bd3786"
             ],
             [
              0.5555555555555556,
              "#d8576b"
             ],
             [
              0.6666666666666666,
              "#ed7953"
             ],
             [
              0.7777777777777778,
              "#fb9f3a"
             ],
             [
              0.8888888888888888,
              "#fdca26"
             ],
             [
              1,
              "#f0f921"
             ]
            ],
            "type": "heatmapgl"
           }
          ],
          "histogram": [
           {
            "marker": {
             "pattern": {
              "fillmode": "overlay",
              "size": 10,
              "solidity": 0.2
             }
            },
            "type": "histogram"
           }
          ],
          "histogram2d": [
           {
            "colorbar": {
             "outlinewidth": 0,
             "ticks": ""
            },
            "colorscale": [
             [
              0,
              "#0d0887"
             ],
             [
              0.1111111111111111,
              "#46039f"
             ],
             [
              0.2222222222222222,
              "#7201a8"
             ],
             [
              0.3333333333333333,
              "#9c179e"
             ],
             [
              0.4444444444444444,
              "#bd3786"
             ],
             [
              0.5555555555555556,
              "#d8576b"
             ],
             [
              0.6666666666666666,
              "#ed7953"
             ],
             [
              0.7777777777777778,
              "#fb9f3a"
             ],
             [
              0.8888888888888888,
              "#fdca26"
             ],
             [
              1,
              "#f0f921"
             ]
            ],
            "type": "histogram2d"
           }
          ],
          "histogram2dcontour": [
           {
            "colorbar": {
             "outlinewidth": 0,
             "ticks": ""
            },
            "colorscale": [
             [
              0,
              "#0d0887"
             ],
             [
              0.1111111111111111,
              "#46039f"
             ],
             [
              0.2222222222222222,
              "#7201a8"
             ],
             [
              0.3333333333333333,
              "#9c179e"
             ],
             [
              0.4444444444444444,
              "#bd3786"
             ],
             [
              0.5555555555555556,
              "#d8576b"
             ],
             [
              0.6666666666666666,
              "#ed7953"
             ],
             [
              0.7777777777777778,
              "#fb9f3a"
             ],
             [
              0.8888888888888888,
              "#fdca26"
             ],
             [
              1,
              "#f0f921"
             ]
            ],
            "type": "histogram2dcontour"
           }
          ],
          "mesh3d": [
           {
            "colorbar": {
             "outlinewidth": 0,
             "ticks": ""
            },
            "type": "mesh3d"
           }
          ],
          "parcoords": [
           {
            "line": {
             "colorbar": {
              "outlinewidth": 0,
              "ticks": ""
             }
            },
            "type": "parcoords"
           }
          ],
          "pie": [
           {
            "automargin": true,
            "type": "pie"
           }
          ],
          "scatter": [
           {
            "fillpattern": {
             "fillmode": "overlay",
             "size": 10,
             "solidity": 0.2
            },
            "type": "scatter"
           }
          ],
          "scatter3d": [
           {
            "line": {
             "colorbar": {
              "outlinewidth": 0,
              "ticks": ""
             }
            },
            "marker": {
             "colorbar": {
              "outlinewidth": 0,
              "ticks": ""
             }
            },
            "type": "scatter3d"
           }
          ],
          "scattercarpet": [
           {
            "marker": {
             "colorbar": {
              "outlinewidth": 0,
              "ticks": ""
             }
            },
            "type": "scattercarpet"
           }
          ],
          "scattergeo": [
           {
            "marker": {
             "colorbar": {
              "outlinewidth": 0,
              "ticks": ""
             }
            },
            "type": "scattergeo"
           }
          ],
          "scattergl": [
           {
            "marker": {
             "colorbar": {
              "outlinewidth": 0,
              "ticks": ""
             }
            },
            "type": "scattergl"
           }
          ],
          "scattermapbox": [
           {
            "marker": {
             "colorbar": {
              "outlinewidth": 0,
              "ticks": ""
             }
            },
            "type": "scattermapbox"
           }
          ],
          "scatterpolar": [
           {
            "marker": {
             "colorbar": {
              "outlinewidth": 0,
              "ticks": ""
             }
            },
            "type": "scatterpolar"
           }
          ],
          "scatterpolargl": [
           {
            "marker": {
             "colorbar": {
              "outlinewidth": 0,
              "ticks": ""
             }
            },
            "type": "scatterpolargl"
           }
          ],
          "scatterternary": [
           {
            "marker": {
             "colorbar": {
              "outlinewidth": 0,
              "ticks": ""
             }
            },
            "type": "scatterternary"
           }
          ],
          "surface": [
           {
            "colorbar": {
             "outlinewidth": 0,
             "ticks": ""
            },
            "colorscale": [
             [
              0,
              "#0d0887"
             ],
             [
              0.1111111111111111,
              "#46039f"
             ],
             [
              0.2222222222222222,
              "#7201a8"
             ],
             [
              0.3333333333333333,
              "#9c179e"
             ],
             [
              0.4444444444444444,
              "#bd3786"
             ],
             [
              0.5555555555555556,
              "#d8576b"
             ],
             [
              0.6666666666666666,
              "#ed7953"
             ],
             [
              0.7777777777777778,
              "#fb9f3a"
             ],
             [
              0.8888888888888888,
              "#fdca26"
             ],
             [
              1,
              "#f0f921"
             ]
            ],
            "type": "surface"
           }
          ],
          "table": [
           {
            "cells": {
             "fill": {
              "color": "#EBF0F8"
             },
             "line": {
              "color": "white"
             }
            },
            "header": {
             "fill": {
              "color": "#C8D4E3"
             },
             "line": {
              "color": "white"
             }
            },
            "type": "table"
           }
          ]
         },
         "layout": {
          "annotationdefaults": {
           "arrowcolor": "#2a3f5f",
           "arrowhead": 0,
           "arrowwidth": 1
          },
          "autotypenumbers": "strict",
          "coloraxis": {
           "colorbar": {
            "outlinewidth": 0,
            "ticks": ""
           }
          },
          "colorscale": {
           "diverging": [
            [
             0,
             "#8e0152"
            ],
            [
             0.1,
             "#c51b7d"
            ],
            [
             0.2,
             "#de77ae"
            ],
            [
             0.3,
             "#f1b6da"
            ],
            [
             0.4,
             "#fde0ef"
            ],
            [
             0.5,
             "#f7f7f7"
            ],
            [
             0.6,
             "#e6f5d0"
            ],
            [
             0.7,
             "#b8e186"
            ],
            [
             0.8,
             "#7fbc41"
            ],
            [
             0.9,
             "#4d9221"
            ],
            [
             1,
             "#276419"
            ]
           ],
           "sequential": [
            [
             0,
             "#0d0887"
            ],
            [
             0.1111111111111111,
             "#46039f"
            ],
            [
             0.2222222222222222,
             "#7201a8"
            ],
            [
             0.3333333333333333,
             "#9c179e"
            ],
            [
             0.4444444444444444,
             "#bd3786"
            ],
            [
             0.5555555555555556,
             "#d8576b"
            ],
            [
             0.6666666666666666,
             "#ed7953"
            ],
            [
             0.7777777777777778,
             "#fb9f3a"
            ],
            [
             0.8888888888888888,
             "#fdca26"
            ],
            [
             1,
             "#f0f921"
            ]
           ],
           "sequentialminus": [
            [
             0,
             "#0d0887"
            ],
            [
             0.1111111111111111,
             "#46039f"
            ],
            [
             0.2222222222222222,
             "#7201a8"
            ],
            [
             0.3333333333333333,
             "#9c179e"
            ],
            [
             0.4444444444444444,
             "#bd3786"
            ],
            [
             0.5555555555555556,
             "#d8576b"
            ],
            [
             0.6666666666666666,
             "#ed7953"
            ],
            [
             0.7777777777777778,
             "#fb9f3a"
            ],
            [
             0.8888888888888888,
             "#fdca26"
            ],
            [
             1,
             "#f0f921"
            ]
           ]
          },
          "colorway": [
           "#636efa",
           "#EF553B",
           "#00cc96",
           "#ab63fa",
           "#FFA15A",
           "#19d3f3",
           "#FF6692",
           "#B6E880",
           "#FF97FF",
           "#FECB52"
          ],
          "font": {
           "color": "#2a3f5f"
          },
          "geo": {
           "bgcolor": "white",
           "lakecolor": "white",
           "landcolor": "#E5ECF6",
           "showlakes": true,
           "showland": true,
           "subunitcolor": "white"
          },
          "hoverlabel": {
           "align": "left"
          },
          "hovermode": "closest",
          "mapbox": {
           "style": "light"
          },
          "paper_bgcolor": "white",
          "plot_bgcolor": "#E5ECF6",
          "polar": {
           "angularaxis": {
            "gridcolor": "white",
            "linecolor": "white",
            "ticks": ""
           },
           "bgcolor": "#E5ECF6",
           "radialaxis": {
            "gridcolor": "white",
            "linecolor": "white",
            "ticks": ""
           }
          },
          "scene": {
           "xaxis": {
            "backgroundcolor": "#E5ECF6",
            "gridcolor": "white",
            "gridwidth": 2,
            "linecolor": "white",
            "showbackground": true,
            "ticks": "",
            "zerolinecolor": "white"
           },
           "yaxis": {
            "backgroundcolor": "#E5ECF6",
            "gridcolor": "white",
            "gridwidth": 2,
            "linecolor": "white",
            "showbackground": true,
            "ticks": "",
            "zerolinecolor": "white"
           },
           "zaxis": {
            "backgroundcolor": "#E5ECF6",
            "gridcolor": "white",
            "gridwidth": 2,
            "linecolor": "white",
            "showbackground": true,
            "ticks": "",
            "zerolinecolor": "white"
           }
          },
          "shapedefaults": {
           "line": {
            "color": "#2a3f5f"
           }
          },
          "ternary": {
           "aaxis": {
            "gridcolor": "white",
            "linecolor": "white",
            "ticks": ""
           },
           "baxis": {
            "gridcolor": "white",
            "linecolor": "white",
            "ticks": ""
           },
           "bgcolor": "#E5ECF6",
           "caxis": {
            "gridcolor": "white",
            "linecolor": "white",
            "ticks": ""
           }
          },
          "title": {
           "x": 0.05
          },
          "xaxis": {
           "automargin": true,
           "gridcolor": "white",
           "linecolor": "white",
           "ticks": "",
           "title": {
            "standoff": 15
           },
           "zerolinecolor": "white",
           "zerolinewidth": 2
          },
          "yaxis": {
           "automargin": true,
           "gridcolor": "white",
           "linecolor": "white",
           "ticks": "",
           "title": {
            "standoff": 15
           },
           "zerolinecolor": "white",
           "zerolinewidth": 2
          }
         }
        },
        "title": {
         "text": "Courbe de distribution de l'imbalance des add"
        },
        "xaxis": {
         "title": {
          "text": "imbalance"
         }
        },
        "yaxis": {
         "title": {
          "text": "number of events"
         }
        }
       }
      }
     },
     "metadata": {},
     "output_type": "display_data"
    },
    {
     "data": {
      "application/vnd.plotly.v1+json": {
       "config": {
        "plotlyServerURL": "https://plot.ly"
       },
       "data": [
        {
         "line": {
          "width": 0
         },
         "mode": "lines",
         "name": "Upper Bound",
         "showlegend": false,
         "type": "scatter",
         "x": [
          -0.8803540770159364,
          -0.747370059295588,
          -0.6103242293319647,
          -0.47352291719453893,
          -0.34015446008059985,
          -0.21179896625718664,
          -0.08437041168621241,
          0.027604925942981567,
          0.14721328164821898,
          0.2696273442823908,
          0.3865077122589078,
          0.5081538671542373,
          0.6284971670424425,
          0.7463414789034224,
          0.861915865597604,
          0.9331824814321837
         ],
         "y": [
          -0.0002904630934054539,
          -0.00023308844105977708,
          -0.00017412891236096882,
          -0.0001307461187011568,
          -0.00009239280391640933,
          -0.00003732164808919121,
          -0.000010320860422042106,
          0.00002202326145924278,
          0.00005486220319891804,
          0.000093496198245678,
          0.00007358775954878418,
          0.00009305804664216934,
          0.00008765688997841844,
          0.00008972385169852942,
          0.00004712452503186868,
          0.0001056439413995836
         ]
        },
        {
         "fill": "tonexty",
         "fillcolor": "blue",
         "line": {
          "width": 0
         },
         "mode": "lines",
         "name": "Intervalle de confiance à 95%",
         "showlegend": true,
         "type": "scatter",
         "x": [
          -0.8803540770159364,
          -0.747370059295588,
          -0.6103242293319647,
          -0.47352291719453893,
          -0.34015446008059985,
          -0.21179896625718664,
          -0.08437041168621241,
          0.027604925942981567,
          0.14721328164821898,
          0.2696273442823908,
          0.3865077122589078,
          0.5081538671542373,
          0.6284971670424425,
          0.7463414789034224,
          0.861915865597604,
          0.9331824814321837
         ],
         "y": [
          -0.0002959769065945501,
          -0.00023852489227356184,
          -0.0001800510876390474,
          -0.00013656721463217996,
          -0.0000984005294169351,
          -0.000043305018577484385,
          -0.000016452472911287744,
          0.000015676738540755004,
          0.000048597796801073454,
          0.00008714380175431759,
          0.00006705224045122909,
          0.00008652195335783596,
          0.00008091644335492075,
          0.00008316281496814405,
          0.00004048880830148092,
          0.00009148071070887582
         ]
        },
        {
         "line": {
          "color": "red"
         },
         "mode": "lines",
         "name": "Prix",
         "showlegend": true,
         "type": "scatter",
         "x": [
          -0.8803540770159364,
          -0.747370059295588,
          -0.6103242293319647,
          -0.47352291719453893,
          -0.34015446008059985,
          -0.21179896625718664,
          -0.08437041168621241,
          0.027604925942981567,
          0.14721328164821898,
          0.2696273442823908,
          0.3865077122589078,
          0.5081538671542373,
          0.6284971670424425,
          0.7463414789034224,
          0.861915865597604,
          0.9331824814321837
         ],
         "y": [
          -0.000293220000000002,
          -0.00023580666666666946,
          -0.0001770900000000081,
          -0.00013365666666666838,
          -0.00009539666666667222,
          -0.0000403133333333378,
          -0.000013386666666664925,
          0.000018849999999998893,
          0.000051729999999995746,
          0.0000903199999999978,
          0.00007032000000000663,
          0.00008979000000000265,
          0.0000842866666666696,
          0.00008644333333333673,
          0.0000438066666666748,
          0.00009856232605422971
         ]
        }
       ],
       "layout": {
        "showlegend": true,
        "template": {
         "data": {
          "bar": [
           {
            "error_x": {
             "color": "#2a3f5f"
            },
            "error_y": {
             "color": "#2a3f5f"
            },
            "marker": {
             "line": {
              "color": "#E5ECF6",
              "width": 0.5
             },
             "pattern": {
              "fillmode": "overlay",
              "size": 10,
              "solidity": 0.2
             }
            },
            "type": "bar"
           }
          ],
          "barpolar": [
           {
            "marker": {
             "line": {
              "color": "#E5ECF6",
              "width": 0.5
             },
             "pattern": {
              "fillmode": "overlay",
              "size": 10,
              "solidity": 0.2
             }
            },
            "type": "barpolar"
           }
          ],
          "carpet": [
           {
            "aaxis": {
             "endlinecolor": "#2a3f5f",
             "gridcolor": "white",
             "linecolor": "white",
             "minorgridcolor": "white",
             "startlinecolor": "#2a3f5f"
            },
            "baxis": {
             "endlinecolor": "#2a3f5f",
             "gridcolor": "white",
             "linecolor": "white",
             "minorgridcolor": "white",
             "startlinecolor": "#2a3f5f"
            },
            "type": "carpet"
           }
          ],
          "choropleth": [
           {
            "colorbar": {
             "outlinewidth": 0,
             "ticks": ""
            },
            "type": "choropleth"
           }
          ],
          "contour": [
           {
            "colorbar": {
             "outlinewidth": 0,
             "ticks": ""
            },
            "colorscale": [
             [
              0,
              "#0d0887"
             ],
             [
              0.1111111111111111,
              "#46039f"
             ],
             [
              0.2222222222222222,
              "#7201a8"
             ],
             [
              0.3333333333333333,
              "#9c179e"
             ],
             [
              0.4444444444444444,
              "#bd3786"
             ],
             [
              0.5555555555555556,
              "#d8576b"
             ],
             [
              0.6666666666666666,
              "#ed7953"
             ],
             [
              0.7777777777777778,
              "#fb9f3a"
             ],
             [
              0.8888888888888888,
              "#fdca26"
             ],
             [
              1,
              "#f0f921"
             ]
            ],
            "type": "contour"
           }
          ],
          "contourcarpet": [
           {
            "colorbar": {
             "outlinewidth": 0,
             "ticks": ""
            },
            "type": "contourcarpet"
           }
          ],
          "heatmap": [
           {
            "colorbar": {
             "outlinewidth": 0,
             "ticks": ""
            },
            "colorscale": [
             [
              0,
              "#0d0887"
             ],
             [
              0.1111111111111111,
              "#46039f"
             ],
             [
              0.2222222222222222,
              "#7201a8"
             ],
             [
              0.3333333333333333,
              "#9c179e"
             ],
             [
              0.4444444444444444,
              "#bd3786"
             ],
             [
              0.5555555555555556,
              "#d8576b"
             ],
             [
              0.6666666666666666,
              "#ed7953"
             ],
             [
              0.7777777777777778,
              "#fb9f3a"
             ],
             [
              0.8888888888888888,
              "#fdca26"
             ],
             [
              1,
              "#f0f921"
             ]
            ],
            "type": "heatmap"
           }
          ],
          "heatmapgl": [
           {
            "colorbar": {
             "outlinewidth": 0,
             "ticks": ""
            },
            "colorscale": [
             [
              0,
              "#0d0887"
             ],
             [
              0.1111111111111111,
              "#46039f"
             ],
             [
              0.2222222222222222,
              "#7201a8"
             ],
             [
              0.3333333333333333,
              "#9c179e"
             ],
             [
              0.4444444444444444,
              "#bd3786"
             ],
             [
              0.5555555555555556,
              "#d8576b"
             ],
             [
              0.6666666666666666,
              "#ed7953"
             ],
             [
              0.7777777777777778,
              "#fb9f3a"
             ],
             [
              0.8888888888888888,
              "#fdca26"
             ],
             [
              1,
              "#f0f921"
             ]
            ],
            "type": "heatmapgl"
           }
          ],
          "histogram": [
           {
            "marker": {
             "pattern": {
              "fillmode": "overlay",
              "size": 10,
              "solidity": 0.2
             }
            },
            "type": "histogram"
           }
          ],
          "histogram2d": [
           {
            "colorbar": {
             "outlinewidth": 0,
             "ticks": ""
            },
            "colorscale": [
             [
              0,
              "#0d0887"
             ],
             [
              0.1111111111111111,
              "#46039f"
             ],
             [
              0.2222222222222222,
              "#7201a8"
             ],
             [
              0.3333333333333333,
              "#9c179e"
             ],
             [
              0.4444444444444444,
              "#bd3786"
             ],
             [
              0.5555555555555556,
              "#d8576b"
             ],
             [
              0.6666666666666666,
              "#ed7953"
             ],
             [
              0.7777777777777778,
              "#fb9f3a"
             ],
             [
              0.8888888888888888,
              "#fdca26"
             ],
             [
              1,
              "#f0f921"
             ]
            ],
            "type": "histogram2d"
           }
          ],
          "histogram2dcontour": [
           {
            "colorbar": {
             "outlinewidth": 0,
             "ticks": ""
            },
            "colorscale": [
             [
              0,
              "#0d0887"
             ],
             [
              0.1111111111111111,
              "#46039f"
             ],
             [
              0.2222222222222222,
              "#7201a8"
             ],
             [
              0.3333333333333333,
              "#9c179e"
             ],
             [
              0.4444444444444444,
              "#bd3786"
             ],
             [
              0.5555555555555556,
              "#d8576b"
             ],
             [
              0.6666666666666666,
              "#ed7953"
             ],
             [
              0.7777777777777778,
              "#fb9f3a"
             ],
             [
              0.8888888888888888,
              "#fdca26"
             ],
             [
              1,
              "#f0f921"
             ]
            ],
            "type": "histogram2dcontour"
           }
          ],
          "mesh3d": [
           {
            "colorbar": {
             "outlinewidth": 0,
             "ticks": ""
            },
            "type": "mesh3d"
           }
          ],
          "parcoords": [
           {
            "line": {
             "colorbar": {
              "outlinewidth": 0,
              "ticks": ""
             }
            },
            "type": "parcoords"
           }
          ],
          "pie": [
           {
            "automargin": true,
            "type": "pie"
           }
          ],
          "scatter": [
           {
            "fillpattern": {
             "fillmode": "overlay",
             "size": 10,
             "solidity": 0.2
            },
            "type": "scatter"
           }
          ],
          "scatter3d": [
           {
            "line": {
             "colorbar": {
              "outlinewidth": 0,
              "ticks": ""
             }
            },
            "marker": {
             "colorbar": {
              "outlinewidth": 0,
              "ticks": ""
             }
            },
            "type": "scatter3d"
           }
          ],
          "scattercarpet": [
           {
            "marker": {
             "colorbar": {
              "outlinewidth": 0,
              "ticks": ""
             }
            },
            "type": "scattercarpet"
           }
          ],
          "scattergeo": [
           {
            "marker": {
             "colorbar": {
              "outlinewidth": 0,
              "ticks": ""
             }
            },
            "type": "scattergeo"
           }
          ],
          "scattergl": [
           {
            "marker": {
             "colorbar": {
              "outlinewidth": 0,
              "ticks": ""
             }
            },
            "type": "scattergl"
           }
          ],
          "scattermapbox": [
           {
            "marker": {
             "colorbar": {
              "outlinewidth": 0,
              "ticks": ""
             }
            },
            "type": "scattermapbox"
           }
          ],
          "scatterpolar": [
           {
            "marker": {
             "colorbar": {
              "outlinewidth": 0,
              "ticks": ""
             }
            },
            "type": "scatterpolar"
           }
          ],
          "scatterpolargl": [
           {
            "marker": {
             "colorbar": {
              "outlinewidth": 0,
              "ticks": ""
             }
            },
            "type": "scatterpolargl"
           }
          ],
          "scatterternary": [
           {
            "marker": {
             "colorbar": {
              "outlinewidth": 0,
              "ticks": ""
             }
            },
            "type": "scatterternary"
           }
          ],
          "surface": [
           {
            "colorbar": {
             "outlinewidth": 0,
             "ticks": ""
            },
            "colorscale": [
             [
              0,
              "#0d0887"
             ],
             [
              0.1111111111111111,
              "#46039f"
             ],
             [
              0.2222222222222222,
              "#7201a8"
             ],
             [
              0.3333333333333333,
              "#9c179e"
             ],
             [
              0.4444444444444444,
              "#bd3786"
             ],
             [
              0.5555555555555556,
              "#d8576b"
             ],
             [
              0.6666666666666666,
              "#ed7953"
             ],
             [
              0.7777777777777778,
              "#fb9f3a"
             ],
             [
              0.8888888888888888,
              "#fdca26"
             ],
             [
              1,
              "#f0f921"
             ]
            ],
            "type": "surface"
           }
          ],
          "table": [
           {
            "cells": {
             "fill": {
              "color": "#EBF0F8"
             },
             "line": {
              "color": "white"
             }
            },
            "header": {
             "fill": {
              "color": "#C8D4E3"
             },
             "line": {
              "color": "white"
             }
            },
            "type": "table"
           }
          ]
         },
         "layout": {
          "annotationdefaults": {
           "arrowcolor": "#2a3f5f",
           "arrowhead": 0,
           "arrowwidth": 1
          },
          "autotypenumbers": "strict",
          "coloraxis": {
           "colorbar": {
            "outlinewidth": 0,
            "ticks": ""
           }
          },
          "colorscale": {
           "diverging": [
            [
             0,
             "#8e0152"
            ],
            [
             0.1,
             "#c51b7d"
            ],
            [
             0.2,
             "#de77ae"
            ],
            [
             0.3,
             "#f1b6da"
            ],
            [
             0.4,
             "#fde0ef"
            ],
            [
             0.5,
             "#f7f7f7"
            ],
            [
             0.6,
             "#e6f5d0"
            ],
            [
             0.7,
             "#b8e186"
            ],
            [
             0.8,
             "#7fbc41"
            ],
            [
             0.9,
             "#4d9221"
            ],
            [
             1,
             "#276419"
            ]
           ],
           "sequential": [
            [
             0,
             "#0d0887"
            ],
            [
             0.1111111111111111,
             "#46039f"
            ],
            [
             0.2222222222222222,
             "#7201a8"
            ],
            [
             0.3333333333333333,
             "#9c179e"
            ],
            [
             0.4444444444444444,
             "#bd3786"
            ],
            [
             0.5555555555555556,
             "#d8576b"
            ],
            [
             0.6666666666666666,
             "#ed7953"
            ],
            [
             0.7777777777777778,
             "#fb9f3a"
            ],
            [
             0.8888888888888888,
             "#fdca26"
            ],
            [
             1,
             "#f0f921"
            ]
           ],
           "sequentialminus": [
            [
             0,
             "#0d0887"
            ],
            [
             0.1111111111111111,
             "#46039f"
            ],
            [
             0.2222222222222222,
             "#7201a8"
            ],
            [
             0.3333333333333333,
             "#9c179e"
            ],
            [
             0.4444444444444444,
             "#bd3786"
            ],
            [
             0.5555555555555556,
             "#d8576b"
            ],
            [
             0.6666666666666666,
             "#ed7953"
            ],
            [
             0.7777777777777778,
             "#fb9f3a"
            ],
            [
             0.8888888888888888,
             "#fdca26"
            ],
            [
             1,
             "#f0f921"
            ]
           ]
          },
          "colorway": [
           "#636efa",
           "#EF553B",
           "#00cc96",
           "#ab63fa",
           "#FFA15A",
           "#19d3f3",
           "#FF6692",
           "#B6E880",
           "#FF97FF",
           "#FECB52"
          ],
          "font": {
           "color": "#2a3f5f"
          },
          "geo": {
           "bgcolor": "white",
           "lakecolor": "white",
           "landcolor": "#E5ECF6",
           "showlakes": true,
           "showland": true,
           "subunitcolor": "white"
          },
          "hoverlabel": {
           "align": "left"
          },
          "hovermode": "closest",
          "mapbox": {
           "style": "light"
          },
          "paper_bgcolor": "white",
          "plot_bgcolor": "#E5ECF6",
          "polar": {
           "angularaxis": {
            "gridcolor": "white",
            "linecolor": "white",
            "ticks": ""
           },
           "bgcolor": "#E5ECF6",
           "radialaxis": {
            "gridcolor": "white",
            "linecolor": "white",
            "ticks": ""
           }
          },
          "scene": {
           "xaxis": {
            "backgroundcolor": "#E5ECF6",
            "gridcolor": "white",
            "gridwidth": 2,
            "linecolor": "white",
            "showbackground": true,
            "ticks": "",
            "zerolinecolor": "white"
           },
           "yaxis": {
            "backgroundcolor": "#E5ECF6",
            "gridcolor": "white",
            "gridwidth": 2,
            "linecolor": "white",
            "showbackground": true,
            "ticks": "",
            "zerolinecolor": "white"
           },
           "zaxis": {
            "backgroundcolor": "#E5ECF6",
            "gridcolor": "white",
            "gridwidth": 2,
            "linecolor": "white",
            "showbackground": true,
            "ticks": "",
            "zerolinecolor": "white"
           }
          },
          "shapedefaults": {
           "line": {
            "color": "#2a3f5f"
           }
          },
          "ternary": {
           "aaxis": {
            "gridcolor": "white",
            "linecolor": "white",
            "ticks": ""
           },
           "baxis": {
            "gridcolor": "white",
            "linecolor": "white",
            "ticks": ""
           },
           "bgcolor": "#E5ECF6",
           "caxis": {
            "gridcolor": "white",
            "linecolor": "white",
            "ticks": ""
           }
          },
          "title": {
           "x": 0.05
          },
          "xaxis": {
           "automargin": true,
           "gridcolor": "white",
           "linecolor": "white",
           "ticks": "",
           "title": {
            "standoff": 15
           },
           "zerolinecolor": "white",
           "zerolinewidth": 2
          },
          "yaxis": {
           "automargin": true,
           "gridcolor": "white",
           "linecolor": "white",
           "ticks": "",
           "title": {
            "standoff": 15
           },
           "zerolinecolor": "white",
           "zerolinewidth": 2
          }
         }
        },
        "title": {
         "text": "Imbalance des cancel"
        },
        "xaxis": {
         "title": {
          "text": "imbalance"
         }
        },
        "yaxis": {
         "title": {
          "text": "delta_price"
         }
        }
       }
      }
     },
     "metadata": {},
     "output_type": "display_data"
    },
    {
     "data": {
      "application/vnd.plotly.v1+json": {
       "config": {
        "plotlyServerURL": "https://plot.ly"
       },
       "data": [
        {
         "mode": "lines",
         "name": "Density Curve",
         "type": "scatter",
         "x": [
          -0.9025,
          -0.8075,
          -0.7124999999999999,
          -0.6174999999999999,
          -0.5225,
          -0.42749999999999994,
          -0.3324999999999999,
          -0.23749999999999993,
          -0.14249999999999996,
          -0.04749999999999999,
          0.04749999999999999,
          0.14250000000000007,
          0.23750000000000016,
          0.33250000000000013,
          0.4275000000000001,
          0.5225000000000001,
          0.6175,
          0.7125,
          0.8075,
          0.9025
         ],
         "y": [
          1035357,
          1058604,
          1105200,
          986661,
          1051539,
          1031306,
          1154849,
          1092037,
          1093203,
          1095093,
          1423680,
          1132891,
          1162751,
          1257998,
          1152286,
          1189802,
          1139198,
          1265577,
          1243380,
          1188614
         ]
        }
       ],
       "layout": {
        "showlegend": false,
        "template": {
         "data": {
          "bar": [
           {
            "error_x": {
             "color": "#2a3f5f"
            },
            "error_y": {
             "color": "#2a3f5f"
            },
            "marker": {
             "line": {
              "color": "#E5ECF6",
              "width": 0.5
             },
             "pattern": {
              "fillmode": "overlay",
              "size": 10,
              "solidity": 0.2
             }
            },
            "type": "bar"
           }
          ],
          "barpolar": [
           {
            "marker": {
             "line": {
              "color": "#E5ECF6",
              "width": 0.5
             },
             "pattern": {
              "fillmode": "overlay",
              "size": 10,
              "solidity": 0.2
             }
            },
            "type": "barpolar"
           }
          ],
          "carpet": [
           {
            "aaxis": {
             "endlinecolor": "#2a3f5f",
             "gridcolor": "white",
             "linecolor": "white",
             "minorgridcolor": "white",
             "startlinecolor": "#2a3f5f"
            },
            "baxis": {
             "endlinecolor": "#2a3f5f",
             "gridcolor": "white",
             "linecolor": "white",
             "minorgridcolor": "white",
             "startlinecolor": "#2a3f5f"
            },
            "type": "carpet"
           }
          ],
          "choropleth": [
           {
            "colorbar": {
             "outlinewidth": 0,
             "ticks": ""
            },
            "type": "choropleth"
           }
          ],
          "contour": [
           {
            "colorbar": {
             "outlinewidth": 0,
             "ticks": ""
            },
            "colorscale": [
             [
              0,
              "#0d0887"
             ],
             [
              0.1111111111111111,
              "#46039f"
             ],
             [
              0.2222222222222222,
              "#7201a8"
             ],
             [
              0.3333333333333333,
              "#9c179e"
             ],
             [
              0.4444444444444444,
              "#bd3786"
             ],
             [
              0.5555555555555556,
              "#d8576b"
             ],
             [
              0.6666666666666666,
              "#ed7953"
             ],
             [
              0.7777777777777778,
              "#fb9f3a"
             ],
             [
              0.8888888888888888,
              "#fdca26"
             ],
             [
              1,
              "#f0f921"
             ]
            ],
            "type": "contour"
           }
          ],
          "contourcarpet": [
           {
            "colorbar": {
             "outlinewidth": 0,
             "ticks": ""
            },
            "type": "contourcarpet"
           }
          ],
          "heatmap": [
           {
            "colorbar": {
             "outlinewidth": 0,
             "ticks": ""
            },
            "colorscale": [
             [
              0,
              "#0d0887"
             ],
             [
              0.1111111111111111,
              "#46039f"
             ],
             [
              0.2222222222222222,
              "#7201a8"
             ],
             [
              0.3333333333333333,
              "#9c179e"
             ],
             [
              0.4444444444444444,
              "#bd3786"
             ],
             [
              0.5555555555555556,
              "#d8576b"
             ],
             [
              0.6666666666666666,
              "#ed7953"
             ],
             [
              0.7777777777777778,
              "#fb9f3a"
             ],
             [
              0.8888888888888888,
              "#fdca26"
             ],
             [
              1,
              "#f0f921"
             ]
            ],
            "type": "heatmap"
           }
          ],
          "heatmapgl": [
           {
            "colorbar": {
             "outlinewidth": 0,
             "ticks": ""
            },
            "colorscale": [
             [
              0,
              "#0d0887"
             ],
             [
              0.1111111111111111,
              "#46039f"
             ],
             [
              0.2222222222222222,
              "#7201a8"
             ],
             [
              0.3333333333333333,
              "#9c179e"
             ],
             [
              0.4444444444444444,
              "#bd3786"
             ],
             [
              0.5555555555555556,
              "#d8576b"
             ],
             [
              0.6666666666666666,
              "#ed7953"
             ],
             [
              0.7777777777777778,
              "#fb9f3a"
             ],
             [
              0.8888888888888888,
              "#fdca26"
             ],
             [
              1,
              "#f0f921"
             ]
            ],
            "type": "heatmapgl"
           }
          ],
          "histogram": [
           {
            "marker": {
             "pattern": {
              "fillmode": "overlay",
              "size": 10,
              "solidity": 0.2
             }
            },
            "type": "histogram"
           }
          ],
          "histogram2d": [
           {
            "colorbar": {
             "outlinewidth": 0,
             "ticks": ""
            },
            "colorscale": [
             [
              0,
              "#0d0887"
             ],
             [
              0.1111111111111111,
              "#46039f"
             ],
             [
              0.2222222222222222,
              "#7201a8"
             ],
             [
              0.3333333333333333,
              "#9c179e"
             ],
             [
              0.4444444444444444,
              "#bd3786"
             ],
             [
              0.5555555555555556,
              "#d8576b"
             ],
             [
              0.6666666666666666,
              "#ed7953"
             ],
             [
              0.7777777777777778,
              "#fb9f3a"
             ],
             [
              0.8888888888888888,
              "#fdca26"
             ],
             [
              1,
              "#f0f921"
             ]
            ],
            "type": "histogram2d"
           }
          ],
          "histogram2dcontour": [
           {
            "colorbar": {
             "outlinewidth": 0,
             "ticks": ""
            },
            "colorscale": [
             [
              0,
              "#0d0887"
             ],
             [
              0.1111111111111111,
              "#46039f"
             ],
             [
              0.2222222222222222,
              "#7201a8"
             ],
             [
              0.3333333333333333,
              "#9c179e"
             ],
             [
              0.4444444444444444,
              "#bd3786"
             ],
             [
              0.5555555555555556,
              "#d8576b"
             ],
             [
              0.6666666666666666,
              "#ed7953"
             ],
             [
              0.7777777777777778,
              "#fb9f3a"
             ],
             [
              0.8888888888888888,
              "#fdca26"
             ],
             [
              1,
              "#f0f921"
             ]
            ],
            "type": "histogram2dcontour"
           }
          ],
          "mesh3d": [
           {
            "colorbar": {
             "outlinewidth": 0,
             "ticks": ""
            },
            "type": "mesh3d"
           }
          ],
          "parcoords": [
           {
            "line": {
             "colorbar": {
              "outlinewidth": 0,
              "ticks": ""
             }
            },
            "type": "parcoords"
           }
          ],
          "pie": [
           {
            "automargin": true,
            "type": "pie"
           }
          ],
          "scatter": [
           {
            "fillpattern": {
             "fillmode": "overlay",
             "size": 10,
             "solidity": 0.2
            },
            "type": "scatter"
           }
          ],
          "scatter3d": [
           {
            "line": {
             "colorbar": {
              "outlinewidth": 0,
              "ticks": ""
             }
            },
            "marker": {
             "colorbar": {
              "outlinewidth": 0,
              "ticks": ""
             }
            },
            "type": "scatter3d"
           }
          ],
          "scattercarpet": [
           {
            "marker": {
             "colorbar": {
              "outlinewidth": 0,
              "ticks": ""
             }
            },
            "type": "scattercarpet"
           }
          ],
          "scattergeo": [
           {
            "marker": {
             "colorbar": {
              "outlinewidth": 0,
              "ticks": ""
             }
            },
            "type": "scattergeo"
           }
          ],
          "scattergl": [
           {
            "marker": {
             "colorbar": {
              "outlinewidth": 0,
              "ticks": ""
             }
            },
            "type": "scattergl"
           }
          ],
          "scattermapbox": [
           {
            "marker": {
             "colorbar": {
              "outlinewidth": 0,
              "ticks": ""
             }
            },
            "type": "scattermapbox"
           }
          ],
          "scatterpolar": [
           {
            "marker": {
             "colorbar": {
              "outlinewidth": 0,
              "ticks": ""
             }
            },
            "type": "scatterpolar"
           }
          ],
          "scatterpolargl": [
           {
            "marker": {
             "colorbar": {
              "outlinewidth": 0,
              "ticks": ""
             }
            },
            "type": "scatterpolargl"
           }
          ],
          "scatterternary": [
           {
            "marker": {
             "colorbar": {
              "outlinewidth": 0,
              "ticks": ""
             }
            },
            "type": "scatterternary"
           }
          ],
          "surface": [
           {
            "colorbar": {
             "outlinewidth": 0,
             "ticks": ""
            },
            "colorscale": [
             [
              0,
              "#0d0887"
             ],
             [
              0.1111111111111111,
              "#46039f"
             ],
             [
              0.2222222222222222,
              "#7201a8"
             ],
             [
              0.3333333333333333,
              "#9c179e"
             ],
             [
              0.4444444444444444,
              "#bd3786"
             ],
             [
              0.5555555555555556,
              "#d8576b"
             ],
             [
              0.6666666666666666,
              "#ed7953"
             ],
             [
              0.7777777777777778,
              "#fb9f3a"
             ],
             [
              0.8888888888888888,
              "#fdca26"
             ],
             [
              1,
              "#f0f921"
             ]
            ],
            "type": "surface"
           }
          ],
          "table": [
           {
            "cells": {
             "fill": {
              "color": "#EBF0F8"
             },
             "line": {
              "color": "white"
             }
            },
            "header": {
             "fill": {
              "color": "#C8D4E3"
             },
             "line": {
              "color": "white"
             }
            },
            "type": "table"
           }
          ]
         },
         "layout": {
          "annotationdefaults": {
           "arrowcolor": "#2a3f5f",
           "arrowhead": 0,
           "arrowwidth": 1
          },
          "autotypenumbers": "strict",
          "coloraxis": {
           "colorbar": {
            "outlinewidth": 0,
            "ticks": ""
           }
          },
          "colorscale": {
           "diverging": [
            [
             0,
             "#8e0152"
            ],
            [
             0.1,
             "#c51b7d"
            ],
            [
             0.2,
             "#de77ae"
            ],
            [
             0.3,
             "#f1b6da"
            ],
            [
             0.4,
             "#fde0ef"
            ],
            [
             0.5,
             "#f7f7f7"
            ],
            [
             0.6,
             "#e6f5d0"
            ],
            [
             0.7,
             "#b8e186"
            ],
            [
             0.8,
             "#7fbc41"
            ],
            [
             0.9,
             "#4d9221"
            ],
            [
             1,
             "#276419"
            ]
           ],
           "sequential": [
            [
             0,
             "#0d0887"
            ],
            [
             0.1111111111111111,
             "#46039f"
            ],
            [
             0.2222222222222222,
             "#7201a8"
            ],
            [
             0.3333333333333333,
             "#9c179e"
            ],
            [
             0.4444444444444444,
             "#bd3786"
            ],
            [
             0.5555555555555556,
             "#d8576b"
            ],
            [
             0.6666666666666666,
             "#ed7953"
            ],
            [
             0.7777777777777778,
             "#fb9f3a"
            ],
            [
             0.8888888888888888,
             "#fdca26"
            ],
            [
             1,
             "#f0f921"
            ]
           ],
           "sequentialminus": [
            [
             0,
             "#0d0887"
            ],
            [
             0.1111111111111111,
             "#46039f"
            ],
            [
             0.2222222222222222,
             "#7201a8"
            ],
            [
             0.3333333333333333,
             "#9c179e"
            ],
            [
             0.4444444444444444,
             "#bd3786"
            ],
            [
             0.5555555555555556,
             "#d8576b"
            ],
            [
             0.6666666666666666,
             "#ed7953"
            ],
            [
             0.7777777777777778,
             "#fb9f3a"
            ],
            [
             0.8888888888888888,
             "#fdca26"
            ],
            [
             1,
             "#f0f921"
            ]
           ]
          },
          "colorway": [
           "#636efa",
           "#EF553B",
           "#00cc96",
           "#ab63fa",
           "#FFA15A",
           "#19d3f3",
           "#FF6692",
           "#B6E880",
           "#FF97FF",
           "#FECB52"
          ],
          "font": {
           "color": "#2a3f5f"
          },
          "geo": {
           "bgcolor": "white",
           "lakecolor": "white",
           "landcolor": "#E5ECF6",
           "showlakes": true,
           "showland": true,
           "subunitcolor": "white"
          },
          "hoverlabel": {
           "align": "left"
          },
          "hovermode": "closest",
          "mapbox": {
           "style": "light"
          },
          "paper_bgcolor": "white",
          "plot_bgcolor": "#E5ECF6",
          "polar": {
           "angularaxis": {
            "gridcolor": "white",
            "linecolor": "white",
            "ticks": ""
           },
           "bgcolor": "#E5ECF6",
           "radialaxis": {
            "gridcolor": "white",
            "linecolor": "white",
            "ticks": ""
           }
          },
          "scene": {
           "xaxis": {
            "backgroundcolor": "#E5ECF6",
            "gridcolor": "white",
            "gridwidth": 2,
            "linecolor": "white",
            "showbackground": true,
            "ticks": "",
            "zerolinecolor": "white"
           },
           "yaxis": {
            "backgroundcolor": "#E5ECF6",
            "gridcolor": "white",
            "gridwidth": 2,
            "linecolor": "white",
            "showbackground": true,
            "ticks": "",
            "zerolinecolor": "white"
           },
           "zaxis": {
            "backgroundcolor": "#E5ECF6",
            "gridcolor": "white",
            "gridwidth": 2,
            "linecolor": "white",
            "showbackground": true,
            "ticks": "",
            "zerolinecolor": "white"
           }
          },
          "shapedefaults": {
           "line": {
            "color": "#2a3f5f"
           }
          },
          "ternary": {
           "aaxis": {
            "gridcolor": "white",
            "linecolor": "white",
            "ticks": ""
           },
           "baxis": {
            "gridcolor": "white",
            "linecolor": "white",
            "ticks": ""
           },
           "bgcolor": "#E5ECF6",
           "caxis": {
            "gridcolor": "white",
            "linecolor": "white",
            "ticks": ""
           }
          },
          "title": {
           "x": 0.05
          },
          "xaxis": {
           "automargin": true,
           "gridcolor": "white",
           "linecolor": "white",
           "ticks": "",
           "title": {
            "standoff": 15
           },
           "zerolinecolor": "white",
           "zerolinewidth": 2
          },
          "yaxis": {
           "automargin": true,
           "gridcolor": "white",
           "linecolor": "white",
           "ticks": "",
           "title": {
            "standoff": 15
           },
           "zerolinecolor": "white",
           "zerolinewidth": 2
          }
         }
        },
        "title": {
         "text": "Courbe de distribution de l'imbalance des cancel"
        },
        "xaxis": {
         "title": {
          "text": "imbalance"
         }
        },
        "yaxis": {
         "title": {
          "text": "number of events"
         }
        }
       }
      }
     },
     "metadata": {},
     "output_type": "display_data"
    },
    {
     "data": {
      "application/vnd.plotly.v1+json": {
       "config": {
        "plotlyServerURL": "https://plot.ly"
       },
       "data": [
        {
         "mode": "lines",
         "name": "Trades",
         "type": "scatter",
         "x": [
          -0.9119999999999999,
          -0.836,
          -0.76,
          -0.6839999999999999,
          -0.6079999999999999,
          -0.532,
          -0.45599999999999996,
          -0.37999999999999995,
          -0.304,
          -0.22799999999999998,
          -0.15199999999999997,
          -0.07600000000000001,
          0,
          0.07600000000000007,
          0.15200000000000002,
          0.22799999999999998,
          0.30400000000000005,
          0.38,
          0.45599999999999996,
          0.532,
          0.608,
          0.6839999999999999,
          0.76,
          0.836,
          0.9119999999999999
         ],
         "y": [
          0.040642431545495177,
          0.033761144571840714,
          0.03160857579403998,
          0.029943292744643066,
          0.029054016866128924,
          0.02746838095468169,
          0.026802312202477845,
          0.025833233751717123,
          0.02454245924008346,
          0.024048043726889234,
          0.024180895384751742,
          0.023242982464596166,
          0.022900246985420893,
          0.022802886655517496,
          0.023325389470178936,
          0.023080656155193308,
          0.022178508210082517,
          0.02347765054587148,
          0.0243285923427068,
          0.02452719096524129,
          0.02547597444132222,
          0.026287192995904676,
          0.02729323657446221,
          0.027986640710114124,
          0.03237271180006533
         ]
        },
        {
         "mode": "lines",
         "name": "Cancel",
         "type": "scatter",
         "x": [
          -0.9119999999999999,
          -0.836,
          -0.76,
          -0.6839999999999999,
          -0.6079999999999999,
          -0.532,
          -0.45599999999999996,
          -0.37999999999999995,
          -0.304,
          -0.22799999999999998,
          -0.15199999999999997,
          -0.07600000000000001,
          0,
          0.07600000000000007,
          0.15200000000000002,
          0.22799999999999998,
          0.30400000000000005,
          0.38,
          0.45599999999999996,
          0.532,
          0.608,
          0.6839999999999999,
          0.76,
          0.836,
          0.9119999999999999
         ],
         "y": [
          0.4602125552809172,
          0.46685404185471685,
          0.501824106726763,
          0.5069488985196142,
          0.5204299867741707,
          0.5194004893514335,
          0.5375462488215763,
          0.5465613674794289,
          0.533746582882004,
          0.5435123563660023,
          0.5447694865512037,
          0.5439032328103605,
          0.535616471291052,
          0.5438613088191083,
          0.5460888395341238,
          0.5432284112519918,
          0.5414478646161911,
          0.5483297015062818,
          0.5353470645012061,
          0.5275824200535003,
          0.5277041840240098,
          0.5138945994225199,
          0.5180274095818658,
          0.5132898100783619,
          0.5358800808295577
         ]
        },
        {
         "mode": "lines",
         "name": " Add",
         "type": "scatter",
         "x": [
          -0.9119999999999999,
          -0.836,
          -0.76,
          -0.6839999999999999,
          -0.6079999999999999,
          -0.532,
          -0.45599999999999996,
          -0.37999999999999995,
          -0.304,
          -0.22799999999999998,
          -0.15199999999999997,
          -0.07600000000000001,
          0,
          0.07600000000000007,
          0.15200000000000002,
          0.22799999999999998,
          0.30400000000000005,
          0.38,
          0.45599999999999996,
          0.532,
          0.608,
          0.6839999999999999,
          0.76,
          0.836,
          0.9119999999999999
         ],
         "y": [
          0.4991450131735876,
          0.49938481357344244,
          0.46656731747919694,
          0.4631078087357427,
          0.4505159963597003,
          0.4531311296938849,
          0.4356514389759458,
          0.42760539876885395,
          0.4417109578779124,
          0.4324395999071085,
          0.4310496180640445,
          0.4328537847250433,
          0.4414832817235271,
          0.43333580452537424,
          0.4305857709956973,
          0.4336909325928148,
          0.43637362717372635,
          0.4281926479478467,
          0.44032434315608715,
          0.4478903889812584,
          0.44681984153466797,
          0.45981820758157543,
          0.45467935384367203,
          0.458723549211524,
          0.431747207370377
         ]
        }
       ],
       "layout": {
        "showlegend": true,
        "template": {
         "data": {
          "bar": [
           {
            "error_x": {
             "color": "#2a3f5f"
            },
            "error_y": {
             "color": "#2a3f5f"
            },
            "marker": {
             "line": {
              "color": "#E5ECF6",
              "width": 0.5
             },
             "pattern": {
              "fillmode": "overlay",
              "size": 10,
              "solidity": 0.2
             }
            },
            "type": "bar"
           }
          ],
          "barpolar": [
           {
            "marker": {
             "line": {
              "color": "#E5ECF6",
              "width": 0.5
             },
             "pattern": {
              "fillmode": "overlay",
              "size": 10,
              "solidity": 0.2
             }
            },
            "type": "barpolar"
           }
          ],
          "carpet": [
           {
            "aaxis": {
             "endlinecolor": "#2a3f5f",
             "gridcolor": "white",
             "linecolor": "white",
             "minorgridcolor": "white",
             "startlinecolor": "#2a3f5f"
            },
            "baxis": {
             "endlinecolor": "#2a3f5f",
             "gridcolor": "white",
             "linecolor": "white",
             "minorgridcolor": "white",
             "startlinecolor": "#2a3f5f"
            },
            "type": "carpet"
           }
          ],
          "choropleth": [
           {
            "colorbar": {
             "outlinewidth": 0,
             "ticks": ""
            },
            "type": "choropleth"
           }
          ],
          "contour": [
           {
            "colorbar": {
             "outlinewidth": 0,
             "ticks": ""
            },
            "colorscale": [
             [
              0,
              "#0d0887"
             ],
             [
              0.1111111111111111,
              "#46039f"
             ],
             [
              0.2222222222222222,
              "#7201a8"
             ],
             [
              0.3333333333333333,
              "#9c179e"
             ],
             [
              0.4444444444444444,
              "#bd3786"
             ],
             [
              0.5555555555555556,
              "#d8576b"
             ],
             [
              0.6666666666666666,
              "#ed7953"
             ],
             [
              0.7777777777777778,
              "#fb9f3a"
             ],
             [
              0.8888888888888888,
              "#fdca26"
             ],
             [
              1,
              "#f0f921"
             ]
            ],
            "type": "contour"
           }
          ],
          "contourcarpet": [
           {
            "colorbar": {
             "outlinewidth": 0,
             "ticks": ""
            },
            "type": "contourcarpet"
           }
          ],
          "heatmap": [
           {
            "colorbar": {
             "outlinewidth": 0,
             "ticks": ""
            },
            "colorscale": [
             [
              0,
              "#0d0887"
             ],
             [
              0.1111111111111111,
              "#46039f"
             ],
             [
              0.2222222222222222,
              "#7201a8"
             ],
             [
              0.3333333333333333,
              "#9c179e"
             ],
             [
              0.4444444444444444,
              "#bd3786"
             ],
             [
              0.5555555555555556,
              "#d8576b"
             ],
             [
              0.6666666666666666,
              "#ed7953"
             ],
             [
              0.7777777777777778,
              "#fb9f3a"
             ],
             [
              0.8888888888888888,
              "#fdca26"
             ],
             [
              1,
              "#f0f921"
             ]
            ],
            "type": "heatmap"
           }
          ],
          "heatmapgl": [
           {
            "colorbar": {
             "outlinewidth": 0,
             "ticks": ""
            },
            "colorscale": [
             [
              0,
              "#0d0887"
             ],
             [
              0.1111111111111111,
              "#46039f"
             ],
             [
              0.2222222222222222,
              "#7201a8"
             ],
             [
              0.3333333333333333,
              "#9c179e"
             ],
             [
              0.4444444444444444,
              "#bd3786"
             ],
             [
              0.5555555555555556,
              "#d8576b"
             ],
             [
              0.6666666666666666,
              "#ed7953"
             ],
             [
              0.7777777777777778,
              "#fb9f3a"
             ],
             [
              0.8888888888888888,
              "#fdca26"
             ],
             [
              1,
              "#f0f921"
             ]
            ],
            "type": "heatmapgl"
           }
          ],
          "histogram": [
           {
            "marker": {
             "pattern": {
              "fillmode": "overlay",
              "size": 10,
              "solidity": 0.2
             }
            },
            "type": "histogram"
           }
          ],
          "histogram2d": [
           {
            "colorbar": {
             "outlinewidth": 0,
             "ticks": ""
            },
            "colorscale": [
             [
              0,
              "#0d0887"
             ],
             [
              0.1111111111111111,
              "#46039f"
             ],
             [
              0.2222222222222222,
              "#7201a8"
             ],
             [
              0.3333333333333333,
              "#9c179e"
             ],
             [
              0.4444444444444444,
              "#bd3786"
             ],
             [
              0.5555555555555556,
              "#d8576b"
             ],
             [
              0.6666666666666666,
              "#ed7953"
             ],
             [
              0.7777777777777778,
              "#fb9f3a"
             ],
             [
              0.8888888888888888,
              "#fdca26"
             ],
             [
              1,
              "#f0f921"
             ]
            ],
            "type": "histogram2d"
           }
          ],
          "histogram2dcontour": [
           {
            "colorbar": {
             "outlinewidth": 0,
             "ticks": ""
            },
            "colorscale": [
             [
              0,
              "#0d0887"
             ],
             [
              0.1111111111111111,
              "#46039f"
             ],
             [
              0.2222222222222222,
              "#7201a8"
             ],
             [
              0.3333333333333333,
              "#9c179e"
             ],
             [
              0.4444444444444444,
              "#bd3786"
             ],
             [
              0.5555555555555556,
              "#d8576b"
             ],
             [
              0.6666666666666666,
              "#ed7953"
             ],
             [
              0.7777777777777778,
              "#fb9f3a"
             ],
             [
              0.8888888888888888,
              "#fdca26"
             ],
             [
              1,
              "#f0f921"
             ]
            ],
            "type": "histogram2dcontour"
           }
          ],
          "mesh3d": [
           {
            "colorbar": {
             "outlinewidth": 0,
             "ticks": ""
            },
            "type": "mesh3d"
           }
          ],
          "parcoords": [
           {
            "line": {
             "colorbar": {
              "outlinewidth": 0,
              "ticks": ""
             }
            },
            "type": "parcoords"
           }
          ],
          "pie": [
           {
            "automargin": true,
            "type": "pie"
           }
          ],
          "scatter": [
           {
            "fillpattern": {
             "fillmode": "overlay",
             "size": 10,
             "solidity": 0.2
            },
            "type": "scatter"
           }
          ],
          "scatter3d": [
           {
            "line": {
             "colorbar": {
              "outlinewidth": 0,
              "ticks": ""
             }
            },
            "marker": {
             "colorbar": {
              "outlinewidth": 0,
              "ticks": ""
             }
            },
            "type": "scatter3d"
           }
          ],
          "scattercarpet": [
           {
            "marker": {
             "colorbar": {
              "outlinewidth": 0,
              "ticks": ""
             }
            },
            "type": "scattercarpet"
           }
          ],
          "scattergeo": [
           {
            "marker": {
             "colorbar": {
              "outlinewidth": 0,
              "ticks": ""
             }
            },
            "type": "scattergeo"
           }
          ],
          "scattergl": [
           {
            "marker": {
             "colorbar": {
              "outlinewidth": 0,
              "ticks": ""
             }
            },
            "type": "scattergl"
           }
          ],
          "scattermapbox": [
           {
            "marker": {
             "colorbar": {
              "outlinewidth": 0,
              "ticks": ""
             }
            },
            "type": "scattermapbox"
           }
          ],
          "scatterpolar": [
           {
            "marker": {
             "colorbar": {
              "outlinewidth": 0,
              "ticks": ""
             }
            },
            "type": "scatterpolar"
           }
          ],
          "scatterpolargl": [
           {
            "marker": {
             "colorbar": {
              "outlinewidth": 0,
              "ticks": ""
             }
            },
            "type": "scatterpolargl"
           }
          ],
          "scatterternary": [
           {
            "marker": {
             "colorbar": {
              "outlinewidth": 0,
              "ticks": ""
             }
            },
            "type": "scatterternary"
           }
          ],
          "surface": [
           {
            "colorbar": {
             "outlinewidth": 0,
             "ticks": ""
            },
            "colorscale": [
             [
              0,
              "#0d0887"
             ],
             [
              0.1111111111111111,
              "#46039f"
             ],
             [
              0.2222222222222222,
              "#7201a8"
             ],
             [
              0.3333333333333333,
              "#9c179e"
             ],
             [
              0.4444444444444444,
              "#bd3786"
             ],
             [
              0.5555555555555556,
              "#d8576b"
             ],
             [
              0.6666666666666666,
              "#ed7953"
             ],
             [
              0.7777777777777778,
              "#fb9f3a"
             ],
             [
              0.8888888888888888,
              "#fdca26"
             ],
             [
              1,
              "#f0f921"
             ]
            ],
            "type": "surface"
           }
          ],
          "table": [
           {
            "cells": {
             "fill": {
              "color": "#EBF0F8"
             },
             "line": {
              "color": "white"
             }
            },
            "header": {
             "fill": {
              "color": "#C8D4E3"
             },
             "line": {
              "color": "white"
             }
            },
            "type": "table"
           }
          ]
         },
         "layout": {
          "annotationdefaults": {
           "arrowcolor": "#2a3f5f",
           "arrowhead": 0,
           "arrowwidth": 1
          },
          "autotypenumbers": "strict",
          "coloraxis": {
           "colorbar": {
            "outlinewidth": 0,
            "ticks": ""
           }
          },
          "colorscale": {
           "diverging": [
            [
             0,
             "#8e0152"
            ],
            [
             0.1,
             "#c51b7d"
            ],
            [
             0.2,
             "#de77ae"
            ],
            [
             0.3,
             "#f1b6da"
            ],
            [
             0.4,
             "#fde0ef"
            ],
            [
             0.5,
             "#f7f7f7"
            ],
            [
             0.6,
             "#e6f5d0"
            ],
            [
             0.7,
             "#b8e186"
            ],
            [
             0.8,
             "#7fbc41"
            ],
            [
             0.9,
             "#4d9221"
            ],
            [
             1,
             "#276419"
            ]
           ],
           "sequential": [
            [
             0,
             "#0d0887"
            ],
            [
             0.1111111111111111,
             "#46039f"
            ],
            [
             0.2222222222222222,
             "#7201a8"
            ],
            [
             0.3333333333333333,
             "#9c179e"
            ],
            [
             0.4444444444444444,
             "#bd3786"
            ],
            [
             0.5555555555555556,
             "#d8576b"
            ],
            [
             0.6666666666666666,
             "#ed7953"
            ],
            [
             0.7777777777777778,
             "#fb9f3a"
            ],
            [
             0.8888888888888888,
             "#fdca26"
            ],
            [
             1,
             "#f0f921"
            ]
           ],
           "sequentialminus": [
            [
             0,
             "#0d0887"
            ],
            [
             0.1111111111111111,
             "#46039f"
            ],
            [
             0.2222222222222222,
             "#7201a8"
            ],
            [
             0.3333333333333333,
             "#9c179e"
            ],
            [
             0.4444444444444444,
             "#bd3786"
            ],
            [
             0.5555555555555556,
             "#d8576b"
            ],
            [
             0.6666666666666666,
             "#ed7953"
            ],
            [
             0.7777777777777778,
             "#fb9f3a"
            ],
            [
             0.8888888888888888,
             "#fdca26"
            ],
            [
             1,
             "#f0f921"
            ]
           ]
          },
          "colorway": [
           "#636efa",
           "#EF553B",
           "#00cc96",
           "#ab63fa",
           "#FFA15A",
           "#19d3f3",
           "#FF6692",
           "#B6E880",
           "#FF97FF",
           "#FECB52"
          ],
          "font": {
           "color": "#2a3f5f"
          },
          "geo": {
           "bgcolor": "white",
           "lakecolor": "white",
           "landcolor": "#E5ECF6",
           "showlakes": true,
           "showland": true,
           "subunitcolor": "white"
          },
          "hoverlabel": {
           "align": "left"
          },
          "hovermode": "closest",
          "mapbox": {
           "style": "light"
          },
          "paper_bgcolor": "white",
          "plot_bgcolor": "#E5ECF6",
          "polar": {
           "angularaxis": {
            "gridcolor": "white",
            "linecolor": "white",
            "ticks": ""
           },
           "bgcolor": "#E5ECF6",
           "radialaxis": {
            "gridcolor": "white",
            "linecolor": "white",
            "ticks": ""
           }
          },
          "scene": {
           "xaxis": {
            "backgroundcolor": "#E5ECF6",
            "gridcolor": "white",
            "gridwidth": 2,
            "linecolor": "white",
            "showbackground": true,
            "ticks": "",
            "zerolinecolor": "white"
           },
           "yaxis": {
            "backgroundcolor": "#E5ECF6",
            "gridcolor": "white",
            "gridwidth": 2,
            "linecolor": "white",
            "showbackground": true,
            "ticks": "",
            "zerolinecolor": "white"
           },
           "zaxis": {
            "backgroundcolor": "#E5ECF6",
            "gridcolor": "white",
            "gridwidth": 2,
            "linecolor": "white",
            "showbackground": true,
            "ticks": "",
            "zerolinecolor": "white"
           }
          },
          "shapedefaults": {
           "line": {
            "color": "#2a3f5f"
           }
          },
          "ternary": {
           "aaxis": {
            "gridcolor": "white",
            "linecolor": "white",
            "ticks": ""
           },
           "baxis": {
            "gridcolor": "white",
            "linecolor": "white",
            "ticks": ""
           },
           "bgcolor": "#E5ECF6",
           "caxis": {
            "gridcolor": "white",
            "linecolor": "white",
            "ticks": ""
           }
          },
          "title": {
           "x": 0.05
          },
          "xaxis": {
           "automargin": true,
           "gridcolor": "white",
           "linecolor": "white",
           "ticks": "",
           "title": {
            "standoff": 15
           },
           "zerolinecolor": "white",
           "zerolinewidth": 2
          },
          "yaxis": {
           "automargin": true,
           "gridcolor": "white",
           "linecolor": "white",
           "ticks": "",
           "title": {
            "standoff": 15
           },
           "zerolinecolor": "white",
           "zerolinewidth": 2
          }
         }
        },
        "title": {
         "text": "Courbes de distribution de l'imbalance (tous les event))"
        },
        "xaxis": {
         "title": {
          "text": "imbalance"
         }
        },
        "yaxis": {
         "title": {
          "text": "Probabilité de l'event"
         }
        }
       }
      }
     },
     "metadata": {},
     "output_type": "display_data"
    }
   ],
   "source": [
    "visu_imbalance_respec(imb_tot, price_tot, 0 , 'trades', 100000)\n",
    "visu_imbalance_respec(imb_tot, price_tot, 1 , 'add', 1500000)\n",
    "visu_imbalance_respec(imb_tot, price_tot, 2 , 'cancel', 1500000)\n",
    "visu_event_vs_imbalance(imb_tot, price_tot, ['Trades', 'Cancel',' Add'], bound = .95)"
   ]
  },
  {
   "cell_type": "code",
   "execution_count": 9,
   "metadata": {},
   "outputs": [
    {
     "name": "stderr",
     "output_type": "stream",
     "text": [
      "100%|██████████| 65/65 [02:11<00:00,  2.02s/it]\n"
     ]
    }
   ],
   "source": [
    "imb = np.array([])\n",
    "intensity = np.array([])\n",
    "limite = 0\n",
    "for f in tqdm(files_csv):\n",
    "    df = pd.read_csv(f)\n",
    "    df = df[:-100]\n",
    "    imb = np.concatenate([imb, df['imbalance'].to_numpy()])\n",
    "    intensity = np.concatenate([intensity, df['time_diff'].to_numpy()])\n",
    "\n",
    "intensity = 1/np.array(intensity)"
   ]
  },
  {
   "cell_type": "code",
   "execution_count": 10,
   "metadata": {},
   "outputs": [],
   "source": [
    "indices_trie = np.argsort(imb)\n",
    "\n",
    "bounds = 0.95\n",
    "imb_trie = imb[indices_trie]\n",
    "intensity_trie = intensity[indices_trie]\n",
    "mask = (imb_trie >= -bounds)&(imb_trie <= bounds)\n",
    "imb_trie = imb_trie[mask]\n",
    "intensity_trie = intensity_trie[mask]\n",
    "group_size = 3000000\n",
    "\n",
    "imb_trie_groups = [imb_trie[i:i + group_size] for i in range(0, len(imb_trie), group_size)]\n",
    "intensity_trie_groups = [intensity_trie[i:i + group_size] for i in range(0, len(intensity_trie), group_size)]\n",
    "\n",
    "imb_trie_means = np.array([np.mean(group) for group in imb_trie_groups])\n",
    "intensity_trie_means = np.array([np.mean(group) for group in intensity_trie_groups])\n",
    "\n",
    "intensity_trie_std = np.array([np.std(group)/np.sqrt(len(group)) for group in intensity_trie_groups])"
   ]
  },
  {
   "cell_type": "code",
   "execution_count": 11,
   "metadata": {},
   "outputs": [
    {
     "data": {
      "application/vnd.plotly.v1+json": {
       "config": {
        "plotlyServerURL": "https://plot.ly"
       },
       "data": [
        {
         "line": {
          "width": 0
         },
         "mode": "lines",
         "name": "Upper Bound",
         "showlegend": false,
         "type": "scatter",
         "x": [
          -0.8802733479062187,
          -0.7508657384879561,
          -0.6245392591192575,
          -0.5011365476841781,
          -0.38194919361383245,
          -0.2708287063162663,
          -0.15916886252968784,
          -0.05007221556979097,
          0.04313352800401548,
          0.14960788430319774,
          0.2551365163615154,
          0.35731459433910606,
          0.4628779403223123,
          0.5692943813545547,
          0.6777766101522494,
          0.7859230485269204,
          0.8880494201741828,
          0.9445714378194457
         ],
         "y": [
          50365.57997262746,
          52402.18552447627,
          53635.85788178527,
          53914.69060342574,
          53292.26766027661,
          52557.411319055565,
          51895.827009364,
          51731.96426175596,
          51732.83031405684,
          51501.152518366966,
          51187.95411452185,
          51199.78833007347,
          51387.110962630555,
          51306.25705872395,
          51247.03295692648,
          49280.563784972976,
          47804.126527186614,
          48131.05668962742
         ]
        },
        {
         "fill": "tonexty",
         "fillcolor": "blue",
         "line": {
          "width": 0
         },
         "mode": "lines",
         "name": "Intervalle de confiance à 95%",
         "showlegend": true,
         "type": "scatter",
         "x": [
          -0.8802733479062187,
          -0.7508657384879561,
          -0.6245392591192575,
          -0.5011365476841781,
          -0.38194919361383245,
          -0.2708287063162663,
          -0.15916886252968784,
          -0.05007221556979097,
          0.04313352800401548,
          0.14960788430319774,
          0.2551365163615154,
          0.35731459433910606,
          0.4628779403223123,
          0.5692943813545547,
          0.6777766101522494,
          0.7859230485269204,
          0.8880494201741828,
          0.9445714378194457
         ],
         "y": [
          50064.8249865296,
          52094.3063328093,
          53323.39356263107,
          53601.34825522786,
          52982.98172930742,
          52249.35051483642,
          51591.48971054792,
          51427.023246955796,
          51429.496952821755,
          51197.83827977219,
          50886.05141407065,
          50899.62938147786,
          51086.30726581873,
          51005.08326206466,
          50947.12876378565,
          48989.26268605737,
          47521.262549656705,
          47138.529184601626
         ]
        },
        {
         "line": {
          "color": "red"
         },
         "mode": "lines",
         "name": "intensity",
         "showlegend": true,
         "type": "scatter",
         "x": [
          -0.8802733479062187,
          -0.7508657384879561,
          -0.6245392591192575,
          -0.5011365476841781,
          -0.38194919361383245,
          -0.2708287063162663,
          -0.15916886252968784,
          -0.05007221556979097,
          0.04313352800401548,
          0.14960788430319774,
          0.2551365163615154,
          0.35731459433910606,
          0.4628779403223123,
          0.5692943813545547,
          0.6777766101522494,
          0.7859230485269204,
          0.8880494201741828,
          0.9445714378194457
         ],
         "y": [
          50215.20247957853,
          52248.245928642784,
          53479.62572220817,
          53758.0194293268,
          53137.624694792015,
          52403.38091694599,
          51743.65835995596,
          51579.49375435588,
          51581.1636334393,
          51349.49539906958,
          51037.00276429625,
          51049.708855775665,
          51236.70911422464,
          51155.67016039431,
          51097.080860356065,
          49134.913235515174,
          47662.69453842166,
          47634.79293711452
         ]
        }
       ],
       "layout": {
        "showlegend": true,
        "template": {
         "data": {
          "bar": [
           {
            "error_x": {
             "color": "#2a3f5f"
            },
            "error_y": {
             "color": "#2a3f5f"
            },
            "marker": {
             "line": {
              "color": "#E5ECF6",
              "width": 0.5
             },
             "pattern": {
              "fillmode": "overlay",
              "size": 10,
              "solidity": 0.2
             }
            },
            "type": "bar"
           }
          ],
          "barpolar": [
           {
            "marker": {
             "line": {
              "color": "#E5ECF6",
              "width": 0.5
             },
             "pattern": {
              "fillmode": "overlay",
              "size": 10,
              "solidity": 0.2
             }
            },
            "type": "barpolar"
           }
          ],
          "carpet": [
           {
            "aaxis": {
             "endlinecolor": "#2a3f5f",
             "gridcolor": "white",
             "linecolor": "white",
             "minorgridcolor": "white",
             "startlinecolor": "#2a3f5f"
            },
            "baxis": {
             "endlinecolor": "#2a3f5f",
             "gridcolor": "white",
             "linecolor": "white",
             "minorgridcolor": "white",
             "startlinecolor": "#2a3f5f"
            },
            "type": "carpet"
           }
          ],
          "choropleth": [
           {
            "colorbar": {
             "outlinewidth": 0,
             "ticks": ""
            },
            "type": "choropleth"
           }
          ],
          "contour": [
           {
            "colorbar": {
             "outlinewidth": 0,
             "ticks": ""
            },
            "colorscale": [
             [
              0,
              "#0d0887"
             ],
             [
              0.1111111111111111,
              "#46039f"
             ],
             [
              0.2222222222222222,
              "#7201a8"
             ],
             [
              0.3333333333333333,
              "#9c179e"
             ],
             [
              0.4444444444444444,
              "#bd3786"
             ],
             [
              0.5555555555555556,
              "#d8576b"
             ],
             [
              0.6666666666666666,
              "#ed7953"
             ],
             [
              0.7777777777777778,
              "#fb9f3a"
             ],
             [
              0.8888888888888888,
              "#fdca26"
             ],
             [
              1,
              "#f0f921"
             ]
            ],
            "type": "contour"
           }
          ],
          "contourcarpet": [
           {
            "colorbar": {
             "outlinewidth": 0,
             "ticks": ""
            },
            "type": "contourcarpet"
           }
          ],
          "heatmap": [
           {
            "colorbar": {
             "outlinewidth": 0,
             "ticks": ""
            },
            "colorscale": [
             [
              0,
              "#0d0887"
             ],
             [
              0.1111111111111111,
              "#46039f"
             ],
             [
              0.2222222222222222,
              "#7201a8"
             ],
             [
              0.3333333333333333,
              "#9c179e"
             ],
             [
              0.4444444444444444,
              "#bd3786"
             ],
             [
              0.5555555555555556,
              "#d8576b"
             ],
             [
              0.6666666666666666,
              "#ed7953"
             ],
             [
              0.7777777777777778,
              "#fb9f3a"
             ],
             [
              0.8888888888888888,
              "#fdca26"
             ],
             [
              1,
              "#f0f921"
             ]
            ],
            "type": "heatmap"
           }
          ],
          "heatmapgl": [
           {
            "colorbar": {
             "outlinewidth": 0,
             "ticks": ""
            },
            "colorscale": [
             [
              0,
              "#0d0887"
             ],
             [
              0.1111111111111111,
              "#46039f"
             ],
             [
              0.2222222222222222,
              "#7201a8"
             ],
             [
              0.3333333333333333,
              "#9c179e"
             ],
             [
              0.4444444444444444,
              "#bd3786"
             ],
             [
              0.5555555555555556,
              "#d8576b"
             ],
             [
              0.6666666666666666,
              "#ed7953"
             ],
             [
              0.7777777777777778,
              "#fb9f3a"
             ],
             [
              0.8888888888888888,
              "#fdca26"
             ],
             [
              1,
              "#f0f921"
             ]
            ],
            "type": "heatmapgl"
           }
          ],
          "histogram": [
           {
            "marker": {
             "pattern": {
              "fillmode": "overlay",
              "size": 10,
              "solidity": 0.2
             }
            },
            "type": "histogram"
           }
          ],
          "histogram2d": [
           {
            "colorbar": {
             "outlinewidth": 0,
             "ticks": ""
            },
            "colorscale": [
             [
              0,
              "#0d0887"
             ],
             [
              0.1111111111111111,
              "#46039f"
             ],
             [
              0.2222222222222222,
              "#7201a8"
             ],
             [
              0.3333333333333333,
              "#9c179e"
             ],
             [
              0.4444444444444444,
              "#bd3786"
             ],
             [
              0.5555555555555556,
              "#d8576b"
             ],
             [
              0.6666666666666666,
              "#ed7953"
             ],
             [
              0.7777777777777778,
              "#fb9f3a"
             ],
             [
              0.8888888888888888,
              "#fdca26"
             ],
             [
              1,
              "#f0f921"
             ]
            ],
            "type": "histogram2d"
           }
          ],
          "histogram2dcontour": [
           {
            "colorbar": {
             "outlinewidth": 0,
             "ticks": ""
            },
            "colorscale": [
             [
              0,
              "#0d0887"
             ],
             [
              0.1111111111111111,
              "#46039f"
             ],
             [
              0.2222222222222222,
              "#7201a8"
             ],
             [
              0.3333333333333333,
              "#9c179e"
             ],
             [
              0.4444444444444444,
              "#bd3786"
             ],
             [
              0.5555555555555556,
              "#d8576b"
             ],
             [
              0.6666666666666666,
              "#ed7953"
             ],
             [
              0.7777777777777778,
              "#fb9f3a"
             ],
             [
              0.8888888888888888,
              "#fdca26"
             ],
             [
              1,
              "#f0f921"
             ]
            ],
            "type": "histogram2dcontour"
           }
          ],
          "mesh3d": [
           {
            "colorbar": {
             "outlinewidth": 0,
             "ticks": ""
            },
            "type": "mesh3d"
           }
          ],
          "parcoords": [
           {
            "line": {
             "colorbar": {
              "outlinewidth": 0,
              "ticks": ""
             }
            },
            "type": "parcoords"
           }
          ],
          "pie": [
           {
            "automargin": true,
            "type": "pie"
           }
          ],
          "scatter": [
           {
            "fillpattern": {
             "fillmode": "overlay",
             "size": 10,
             "solidity": 0.2
            },
            "type": "scatter"
           }
          ],
          "scatter3d": [
           {
            "line": {
             "colorbar": {
              "outlinewidth": 0,
              "ticks": ""
             }
            },
            "marker": {
             "colorbar": {
              "outlinewidth": 0,
              "ticks": ""
             }
            },
            "type": "scatter3d"
           }
          ],
          "scattercarpet": [
           {
            "marker": {
             "colorbar": {
              "outlinewidth": 0,
              "ticks": ""
             }
            },
            "type": "scattercarpet"
           }
          ],
          "scattergeo": [
           {
            "marker": {
             "colorbar": {
              "outlinewidth": 0,
              "ticks": ""
             }
            },
            "type": "scattergeo"
           }
          ],
          "scattergl": [
           {
            "marker": {
             "colorbar": {
              "outlinewidth": 0,
              "ticks": ""
             }
            },
            "type": "scattergl"
           }
          ],
          "scattermapbox": [
           {
            "marker": {
             "colorbar": {
              "outlinewidth": 0,
              "ticks": ""
             }
            },
            "type": "scattermapbox"
           }
          ],
          "scatterpolar": [
           {
            "marker": {
             "colorbar": {
              "outlinewidth": 0,
              "ticks": ""
             }
            },
            "type": "scatterpolar"
           }
          ],
          "scatterpolargl": [
           {
            "marker": {
             "colorbar": {
              "outlinewidth": 0,
              "ticks": ""
             }
            },
            "type": "scatterpolargl"
           }
          ],
          "scatterternary": [
           {
            "marker": {
             "colorbar": {
              "outlinewidth": 0,
              "ticks": ""
             }
            },
            "type": "scatterternary"
           }
          ],
          "surface": [
           {
            "colorbar": {
             "outlinewidth": 0,
             "ticks": ""
            },
            "colorscale": [
             [
              0,
              "#0d0887"
             ],
             [
              0.1111111111111111,
              "#46039f"
             ],
             [
              0.2222222222222222,
              "#7201a8"
             ],
             [
              0.3333333333333333,
              "#9c179e"
             ],
             [
              0.4444444444444444,
              "#bd3786"
             ],
             [
              0.5555555555555556,
              "#d8576b"
             ],
             [
              0.6666666666666666,
              "#ed7953"
             ],
             [
              0.7777777777777778,
              "#fb9f3a"
             ],
             [
              0.8888888888888888,
              "#fdca26"
             ],
             [
              1,
              "#f0f921"
             ]
            ],
            "type": "surface"
           }
          ],
          "table": [
           {
            "cells": {
             "fill": {
              "color": "#EBF0F8"
             },
             "line": {
              "color": "white"
             }
            },
            "header": {
             "fill": {
              "color": "#C8D4E3"
             },
             "line": {
              "color": "white"
             }
            },
            "type": "table"
           }
          ]
         },
         "layout": {
          "annotationdefaults": {
           "arrowcolor": "#2a3f5f",
           "arrowhead": 0,
           "arrowwidth": 1
          },
          "autotypenumbers": "strict",
          "coloraxis": {
           "colorbar": {
            "outlinewidth": 0,
            "ticks": ""
           }
          },
          "colorscale": {
           "diverging": [
            [
             0,
             "#8e0152"
            ],
            [
             0.1,
             "#c51b7d"
            ],
            [
             0.2,
             "#de77ae"
            ],
            [
             0.3,
             "#f1b6da"
            ],
            [
             0.4,
             "#fde0ef"
            ],
            [
             0.5,
             "#f7f7f7"
            ],
            [
             0.6,
             "#e6f5d0"
            ],
            [
             0.7,
             "#b8e186"
            ],
            [
             0.8,
             "#7fbc41"
            ],
            [
             0.9,
             "#4d9221"
            ],
            [
             1,
             "#276419"
            ]
           ],
           "sequential": [
            [
             0,
             "#0d0887"
            ],
            [
             0.1111111111111111,
             "#46039f"
            ],
            [
             0.2222222222222222,
             "#7201a8"
            ],
            [
             0.3333333333333333,
             "#9c179e"
            ],
            [
             0.4444444444444444,
             "#bd3786"
            ],
            [
             0.5555555555555556,
             "#d8576b"
            ],
            [
             0.6666666666666666,
             "#ed7953"
            ],
            [
             0.7777777777777778,
             "#fb9f3a"
            ],
            [
             0.8888888888888888,
             "#fdca26"
            ],
            [
             1,
             "#f0f921"
            ]
           ],
           "sequentialminus": [
            [
             0,
             "#0d0887"
            ],
            [
             0.1111111111111111,
             "#46039f"
            ],
            [
             0.2222222222222222,
             "#7201a8"
            ],
            [
             0.3333333333333333,
             "#9c179e"
            ],
            [
             0.4444444444444444,
             "#bd3786"
            ],
            [
             0.5555555555555556,
             "#d8576b"
            ],
            [
             0.6666666666666666,
             "#ed7953"
            ],
            [
             0.7777777777777778,
             "#fb9f3a"
            ],
            [
             0.8888888888888888,
             "#fdca26"
            ],
            [
             1,
             "#f0f921"
            ]
           ]
          },
          "colorway": [
           "#636efa",
           "#EF553B",
           "#00cc96",
           "#ab63fa",
           "#FFA15A",
           "#19d3f3",
           "#FF6692",
           "#B6E880",
           "#FF97FF",
           "#FECB52"
          ],
          "font": {
           "color": "#2a3f5f"
          },
          "geo": {
           "bgcolor": "white",
           "lakecolor": "white",
           "landcolor": "#E5ECF6",
           "showlakes": true,
           "showland": true,
           "subunitcolor": "white"
          },
          "hoverlabel": {
           "align": "left"
          },
          "hovermode": "closest",
          "mapbox": {
           "style": "light"
          },
          "paper_bgcolor": "white",
          "plot_bgcolor": "#E5ECF6",
          "polar": {
           "angularaxis": {
            "gridcolor": "white",
            "linecolor": "white",
            "ticks": ""
           },
           "bgcolor": "#E5ECF6",
           "radialaxis": {
            "gridcolor": "white",
            "linecolor": "white",
            "ticks": ""
           }
          },
          "scene": {
           "xaxis": {
            "backgroundcolor": "#E5ECF6",
            "gridcolor": "white",
            "gridwidth": 2,
            "linecolor": "white",
            "showbackground": true,
            "ticks": "",
            "zerolinecolor": "white"
           },
           "yaxis": {
            "backgroundcolor": "#E5ECF6",
            "gridcolor": "white",
            "gridwidth": 2,
            "linecolor": "white",
            "showbackground": true,
            "ticks": "",
            "zerolinecolor": "white"
           },
           "zaxis": {
            "backgroundcolor": "#E5ECF6",
            "gridcolor": "white",
            "gridwidth": 2,
            "linecolor": "white",
            "showbackground": true,
            "ticks": "",
            "zerolinecolor": "white"
           }
          },
          "shapedefaults": {
           "line": {
            "color": "#2a3f5f"
           }
          },
          "ternary": {
           "aaxis": {
            "gridcolor": "white",
            "linecolor": "white",
            "ticks": ""
           },
           "baxis": {
            "gridcolor": "white",
            "linecolor": "white",
            "ticks": ""
           },
           "bgcolor": "#E5ECF6",
           "caxis": {
            "gridcolor": "white",
            "linecolor": "white",
            "ticks": ""
           }
          },
          "title": {
           "x": 0.05
          },
          "xaxis": {
           "automargin": true,
           "gridcolor": "white",
           "linecolor": "white",
           "ticks": "",
           "title": {
            "standoff": 15
           },
           "zerolinecolor": "white",
           "zerolinewidth": 2
          },
          "yaxis": {
           "automargin": true,
           "gridcolor": "white",
           "linecolor": "white",
           "ticks": "",
           "title": {
            "standoff": 15
           },
           "zerolinecolor": "white",
           "zerolinewidth": 2
          }
         }
        },
        "title": {
         "text": "Intensity (tous events confondus)"
        },
        "xaxis": {
         "title": {
          "text": "imbalance"
         }
        },
        "yaxis": {
         "title": {
          "text": "Intensity"
         }
        }
       }
      }
     },
     "metadata": {},
     "output_type": "display_data"
    }
   ],
   "source": [
    "fig = go.Figure()\n",
    "fig.add_trace(go.Scatter(x=imb_trie_means,y=intensity_trie_means + 1.96 * intensity_trie_std,mode='lines',line=dict(width=0),name='Upper Bound',showlegend=False))\n",
    "fig.add_trace(go.Scatter(x=imb_trie_means,y=intensity_trie_means - 1.96 * intensity_trie_std,mode='lines',line=dict(width=0),fill='tonexty',fillcolor='blue',name='Intervalle de confiance à 95%',showlegend=True))\n",
    "fig.add_trace(go.Scatter(x=imb_trie_means,y=intensity_trie_means,mode='lines',name='intensity',line=dict(color='red'),showlegend=True))\n",
    "fig.update_layout(title='Intensity (tous events confondus)',xaxis_title='imbalance',yaxis_title='Intensity',showlegend=True)\n",
    "fig.show()"
   ]
  },
  {
   "cell_type": "code",
   "execution_count": 12,
   "metadata": {},
   "outputs": [
    {
     "name": "stderr",
     "output_type": "stream",
     "text": [
      "100%|██████████| 65/65 [02:08<00:00,  1.98s/it]"
     ]
    },
    {
     "name": "stdout",
     "output_type": "stream",
     "text": [
      "A quel point c'est long: 1843612\n"
     ]
    },
    {
     "name": "stderr",
     "output_type": "stream",
     "text": [
      "\n"
     ]
    }
   ],
   "source": [
    "imb_trade = np.array([])\n",
    "intensity_trade = np.array([])\n",
    "imb_add = np.array([])\n",
    "intensity_add = np.array([])\n",
    "imb_cancel = np.array([])\n",
    "intensity_cancel = np.array([])\n",
    "limite = 0\n",
    "for f in tqdm(files_csv):\n",
    "    df = pd.read_csv(f)\n",
    "    df = df[:-100]\n",
    "    df_trade = df[df['action'] == 'T']\n",
    "    df_cancel = df[df['action'] == 'C']\n",
    "    df_add = df[df['action'] == 'A']\n",
    "    imb_trade = np.concatenate([imb_trade, df_trade['imbalance'].to_numpy()])\n",
    "    intensity_trade = np.concatenate([intensity_trade, df_trade['time_diff'].to_numpy()])\n",
    "    imb_add = np.concatenate([imb_add, df_add['imbalance'].to_numpy()])\n",
    "    intensity_add = np.concatenate([intensity_add, df_add['time_diff'].to_numpy()])\n",
    "    imb_cancel = np.concatenate([imb_cancel, df_cancel['imbalance'].to_numpy()])\n",
    "    intensity_cancel = np.concatenate([intensity_cancel, df_cancel['time_diff'].to_numpy()])\n",
    "    \n",
    "imb_tot = [imb_trade,imb_add,imb_cancel]\n",
    "intensity_tot = [1/np.array(intensity_trade),1/np.array(intensity_add),1/np.array(intensity_cancel)]\n",
    "\n",
    "print(f\"A quel point c'est long: {len(imb_trade)}\")"
   ]
  },
  {
   "cell_type": "code",
   "execution_count": 13,
   "metadata": {},
   "outputs": [],
   "source": [
    "def visu_intensity_respec(imb_tot, intensity_tot, i , string, group_size, bound = 0.9):\n",
    "    indices_trie = np.argsort(imb_tot[i])\n",
    "    imb_trie = imb_tot[i][indices_trie]\n",
    "    intensity_trie = intensity_tot[i][indices_trie]\n",
    "    mask = (imb_trie >= -bound) & (imb_trie <= bound)\n",
    "    imb_trie = imb_trie[mask]\n",
    "    intensity_trie = intensity_trie[mask]\n",
    "    imb_trie_groups = [imb_trie[i:i + group_size] for i in range(0, len(imb_trie), group_size)]\n",
    "    intensity_trie_groups = [intensity_trie[i:i + group_size] for i in range(0, len(intensity_trie), group_size)]\n",
    "    imb_trie_means = np.array([np.mean(group) for group in imb_trie_groups])\n",
    "    intensity_trie_means = np.array([np.mean(group) for group in intensity_trie_groups])\n",
    "    intensity_trie_std = np.array([np.std(group)/np.sqrt(len(group)) for group in intensity_trie_groups])\n",
    "    fig = go.Figure()\n",
    "    fig.add_trace(go.Scatter(x=imb_trie_means,y=intensity_trie_means + 1.96 * intensity_trie_std,mode='lines',line=dict(width=0),name='Upper Bound',showlegend=False))\n",
    "    fig.add_trace(go.Scatter(x=imb_trie_means,y=intensity_trie_means - 1.96 * intensity_trie_std,mode='lines',line=dict(width=0),fill='tonexty',fillcolor='blue',name='Intervalle de confiance à 95%',showlegend=True))\n",
    "    fig.add_trace(go.Scatter(x=imb_trie_means,y=intensity_trie_means,mode='lines',name='intensity',line=dict(color='red'),showlegend=True))\n",
    "    fig.update_layout(title=f\"Intensity des {string} en fonction de l'imbalance\",xaxis_title='imbalance',yaxis_title='Intensity',showlegend=True)\n",
    "    fig.show()"
   ]
  },
  {
   "cell_type": "code",
   "execution_count": 14,
   "metadata": {},
   "outputs": [
    {
     "data": {
      "application/vnd.plotly.v1+json": {
       "config": {
        "plotlyServerURL": "https://plot.ly"
       },
       "data": [
        {
         "line": {
          "width": 0
         },
         "mode": "lines",
         "name": "Upper Bound",
         "showlegend": false,
         "type": "scatter",
         "x": [
          -0.8255153818261627,
          -0.6627080305347738,
          -0.4888248368455455,
          -0.30965656529688884,
          -0.12644909347666358,
          0.04862065303319699,
          0.23057800478571078,
          0.4104620698513046,
          0.585459637965085,
          0.7502498733270159,
          0.8642924249201803
         ],
         "y": [
          81583.52790822812,
          82106.53758718069,
          76451.16414476656,
          67857.93763870376,
          65172.43548315681,
          61144.27574514114,
          62574.027774622715,
          64673.53995926907,
          68932.51152546871,
          74028.08849251969,
          70541.97549784924
         ]
        },
        {
         "fill": "tonexty",
         "fillcolor": "blue",
         "line": {
          "width": 0
         },
         "mode": "lines",
         "name": "Intervalle de confiance à 95%",
         "showlegend": true,
         "type": "scatter",
         "x": [
          -0.8255153818261627,
          -0.6627080305347738,
          -0.4888248368455455,
          -0.30965656529688884,
          -0.12644909347666358,
          0.04862065303319699,
          0.23057800478571078,
          0.4104620698513046,
          0.585459637965085,
          0.7502498733270159,
          0.8642924249201803
         ],
         "y": [
          78918.3486822048,
          79394.42874014388,
          73809.95373673436,
          65436.27599677062,
          62731.706639325355,
          58829.60334031426,
          60197.30844889998,
          62271.670312876624,
          66428.17468962395,
          71426.76302847281,
          67037.63852963065
         ]
        },
        {
         "line": {
          "color": "red"
         },
         "mode": "lines",
         "name": "intensity",
         "showlegend": true,
         "type": "scatter",
         "x": [
          -0.8255153818261627,
          -0.6627080305347738,
          -0.4888248368455455,
          -0.30965656529688884,
          -0.12644909347666358,
          0.04862065303319699,
          0.23057800478571078,
          0.4104620698513046,
          0.585459637965085,
          0.7502498733270159,
          0.8642924249201803
         ],
         "y": [
          80250.93829521646,
          80750.48316366228,
          75130.55894075046,
          66647.10681773719,
          63952.071061241084,
          59986.9395427277,
          61385.66811176135,
          63472.605136072845,
          67680.34310754633,
          72727.42576049625,
          68789.80701373995
         ]
        }
       ],
       "layout": {
        "showlegend": true,
        "template": {
         "data": {
          "bar": [
           {
            "error_x": {
             "color": "#2a3f5f"
            },
            "error_y": {
             "color": "#2a3f5f"
            },
            "marker": {
             "line": {
              "color": "#E5ECF6",
              "width": 0.5
             },
             "pattern": {
              "fillmode": "overlay",
              "size": 10,
              "solidity": 0.2
             }
            },
            "type": "bar"
           }
          ],
          "barpolar": [
           {
            "marker": {
             "line": {
              "color": "#E5ECF6",
              "width": 0.5
             },
             "pattern": {
              "fillmode": "overlay",
              "size": 10,
              "solidity": 0.2
             }
            },
            "type": "barpolar"
           }
          ],
          "carpet": [
           {
            "aaxis": {
             "endlinecolor": "#2a3f5f",
             "gridcolor": "white",
             "linecolor": "white",
             "minorgridcolor": "white",
             "startlinecolor": "#2a3f5f"
            },
            "baxis": {
             "endlinecolor": "#2a3f5f",
             "gridcolor": "white",
             "linecolor": "white",
             "minorgridcolor": "white",
             "startlinecolor": "#2a3f5f"
            },
            "type": "carpet"
           }
          ],
          "choropleth": [
           {
            "colorbar": {
             "outlinewidth": 0,
             "ticks": ""
            },
            "type": "choropleth"
           }
          ],
          "contour": [
           {
            "colorbar": {
             "outlinewidth": 0,
             "ticks": ""
            },
            "colorscale": [
             [
              0,
              "#0d0887"
             ],
             [
              0.1111111111111111,
              "#46039f"
             ],
             [
              0.2222222222222222,
              "#7201a8"
             ],
             [
              0.3333333333333333,
              "#9c179e"
             ],
             [
              0.4444444444444444,
              "#bd3786"
             ],
             [
              0.5555555555555556,
              "#d8576b"
             ],
             [
              0.6666666666666666,
              "#ed7953"
             ],
             [
              0.7777777777777778,
              "#fb9f3a"
             ],
             [
              0.8888888888888888,
              "#fdca26"
             ],
             [
              1,
              "#f0f921"
             ]
            ],
            "type": "contour"
           }
          ],
          "contourcarpet": [
           {
            "colorbar": {
             "outlinewidth": 0,
             "ticks": ""
            },
            "type": "contourcarpet"
           }
          ],
          "heatmap": [
           {
            "colorbar": {
             "outlinewidth": 0,
             "ticks": ""
            },
            "colorscale": [
             [
              0,
              "#0d0887"
             ],
             [
              0.1111111111111111,
              "#46039f"
             ],
             [
              0.2222222222222222,
              "#7201a8"
             ],
             [
              0.3333333333333333,
              "#9c179e"
             ],
             [
              0.4444444444444444,
              "#bd3786"
             ],
             [
              0.5555555555555556,
              "#d8576b"
             ],
             [
              0.6666666666666666,
              "#ed7953"
             ],
             [
              0.7777777777777778,
              "#fb9f3a"
             ],
             [
              0.8888888888888888,
              "#fdca26"
             ],
             [
              1,
              "#f0f921"
             ]
            ],
            "type": "heatmap"
           }
          ],
          "heatmapgl": [
           {
            "colorbar": {
             "outlinewidth": 0,
             "ticks": ""
            },
            "colorscale": [
             [
              0,
              "#0d0887"
             ],
             [
              0.1111111111111111,
              "#46039f"
             ],
             [
              0.2222222222222222,
              "#7201a8"
             ],
             [
              0.3333333333333333,
              "#9c179e"
             ],
             [
              0.4444444444444444,
              "#bd3786"
             ],
             [
              0.5555555555555556,
              "#d8576b"
             ],
             [
              0.6666666666666666,
              "#ed7953"
             ],
             [
              0.7777777777777778,
              "#fb9f3a"
             ],
             [
              0.8888888888888888,
              "#fdca26"
             ],
             [
              1,
              "#f0f921"
             ]
            ],
            "type": "heatmapgl"
           }
          ],
          "histogram": [
           {
            "marker": {
             "pattern": {
              "fillmode": "overlay",
              "size": 10,
              "solidity": 0.2
             }
            },
            "type": "histogram"
           }
          ],
          "histogram2d": [
           {
            "colorbar": {
             "outlinewidth": 0,
             "ticks": ""
            },
            "colorscale": [
             [
              0,
              "#0d0887"
             ],
             [
              0.1111111111111111,
              "#46039f"
             ],
             [
              0.2222222222222222,
              "#7201a8"
             ],
             [
              0.3333333333333333,
              "#9c179e"
             ],
             [
              0.4444444444444444,
              "#bd3786"
             ],
             [
              0.5555555555555556,
              "#d8576b"
             ],
             [
              0.6666666666666666,
              "#ed7953"
             ],
             [
              0.7777777777777778,
              "#fb9f3a"
             ],
             [
              0.8888888888888888,
              "#fdca26"
             ],
             [
              1,
              "#f0f921"
             ]
            ],
            "type": "histogram2d"
           }
          ],
          "histogram2dcontour": [
           {
            "colorbar": {
             "outlinewidth": 0,
             "ticks": ""
            },
            "colorscale": [
             [
              0,
              "#0d0887"
             ],
             [
              0.1111111111111111,
              "#46039f"
             ],
             [
              0.2222222222222222,
              "#7201a8"
             ],
             [
              0.3333333333333333,
              "#9c179e"
             ],
             [
              0.4444444444444444,
              "#bd3786"
             ],
             [
              0.5555555555555556,
              "#d8576b"
             ],
             [
              0.6666666666666666,
              "#ed7953"
             ],
             [
              0.7777777777777778,
              "#fb9f3a"
             ],
             [
              0.8888888888888888,
              "#fdca26"
             ],
             [
              1,
              "#f0f921"
             ]
            ],
            "type": "histogram2dcontour"
           }
          ],
          "mesh3d": [
           {
            "colorbar": {
             "outlinewidth": 0,
             "ticks": ""
            },
            "type": "mesh3d"
           }
          ],
          "parcoords": [
           {
            "line": {
             "colorbar": {
              "outlinewidth": 0,
              "ticks": ""
             }
            },
            "type": "parcoords"
           }
          ],
          "pie": [
           {
            "automargin": true,
            "type": "pie"
           }
          ],
          "scatter": [
           {
            "fillpattern": {
             "fillmode": "overlay",
             "size": 10,
             "solidity": 0.2
            },
            "type": "scatter"
           }
          ],
          "scatter3d": [
           {
            "line": {
             "colorbar": {
              "outlinewidth": 0,
              "ticks": ""
             }
            },
            "marker": {
             "colorbar": {
              "outlinewidth": 0,
              "ticks": ""
             }
            },
            "type": "scatter3d"
           }
          ],
          "scattercarpet": [
           {
            "marker": {
             "colorbar": {
              "outlinewidth": 0,
              "ticks": ""
             }
            },
            "type": "scattercarpet"
           }
          ],
          "scattergeo": [
           {
            "marker": {
             "colorbar": {
              "outlinewidth": 0,
              "ticks": ""
             }
            },
            "type": "scattergeo"
           }
          ],
          "scattergl": [
           {
            "marker": {
             "colorbar": {
              "outlinewidth": 0,
              "ticks": ""
             }
            },
            "type": "scattergl"
           }
          ],
          "scattermapbox": [
           {
            "marker": {
             "colorbar": {
              "outlinewidth": 0,
              "ticks": ""
             }
            },
            "type": "scattermapbox"
           }
          ],
          "scatterpolar": [
           {
            "marker": {
             "colorbar": {
              "outlinewidth": 0,
              "ticks": ""
             }
            },
            "type": "scatterpolar"
           }
          ],
          "scatterpolargl": [
           {
            "marker": {
             "colorbar": {
              "outlinewidth": 0,
              "ticks": ""
             }
            },
            "type": "scatterpolargl"
           }
          ],
          "scatterternary": [
           {
            "marker": {
             "colorbar": {
              "outlinewidth": 0,
              "ticks": ""
             }
            },
            "type": "scatterternary"
           }
          ],
          "surface": [
           {
            "colorbar": {
             "outlinewidth": 0,
             "ticks": ""
            },
            "colorscale": [
             [
              0,
              "#0d0887"
             ],
             [
              0.1111111111111111,
              "#46039f"
             ],
             [
              0.2222222222222222,
              "#7201a8"
             ],
             [
              0.3333333333333333,
              "#9c179e"
             ],
             [
              0.4444444444444444,
              "#bd3786"
             ],
             [
              0.5555555555555556,
              "#d8576b"
             ],
             [
              0.6666666666666666,
              "#ed7953"
             ],
             [
              0.7777777777777778,
              "#fb9f3a"
             ],
             [
              0.8888888888888888,
              "#fdca26"
             ],
             [
              1,
              "#f0f921"
             ]
            ],
            "type": "surface"
           }
          ],
          "table": [
           {
            "cells": {
             "fill": {
              "color": "#EBF0F8"
             },
             "line": {
              "color": "white"
             }
            },
            "header": {
             "fill": {
              "color": "#C8D4E3"
             },
             "line": {
              "color": "white"
             }
            },
            "type": "table"
           }
          ]
         },
         "layout": {
          "annotationdefaults": {
           "arrowcolor": "#2a3f5f",
           "arrowhead": 0,
           "arrowwidth": 1
          },
          "autotypenumbers": "strict",
          "coloraxis": {
           "colorbar": {
            "outlinewidth": 0,
            "ticks": ""
           }
          },
          "colorscale": {
           "diverging": [
            [
             0,
             "#8e0152"
            ],
            [
             0.1,
             "#c51b7d"
            ],
            [
             0.2,
             "#de77ae"
            ],
            [
             0.3,
             "#f1b6da"
            ],
            [
             0.4,
             "#fde0ef"
            ],
            [
             0.5,
             "#f7f7f7"
            ],
            [
             0.6,
             "#e6f5d0"
            ],
            [
             0.7,
             "#b8e186"
            ],
            [
             0.8,
             "#7fbc41"
            ],
            [
             0.9,
             "#4d9221"
            ],
            [
             1,
             "#276419"
            ]
           ],
           "sequential": [
            [
             0,
             "#0d0887"
            ],
            [
             0.1111111111111111,
             "#46039f"
            ],
            [
             0.2222222222222222,
             "#7201a8"
            ],
            [
             0.3333333333333333,
             "#9c179e"
            ],
            [
             0.4444444444444444,
             "#bd3786"
            ],
            [
             0.5555555555555556,
             "#d8576b"
            ],
            [
             0.6666666666666666,
             "#ed7953"
            ],
            [
             0.7777777777777778,
             "#fb9f3a"
            ],
            [
             0.8888888888888888,
             "#fdca26"
            ],
            [
             1,
             "#f0f921"
            ]
           ],
           "sequentialminus": [
            [
             0,
             "#0d0887"
            ],
            [
             0.1111111111111111,
             "#46039f"
            ],
            [
             0.2222222222222222,
             "#7201a8"
            ],
            [
             0.3333333333333333,
             "#9c179e"
            ],
            [
             0.4444444444444444,
             "#bd3786"
            ],
            [
             0.5555555555555556,
             "#d8576b"
            ],
            [
             0.6666666666666666,
             "#ed7953"
            ],
            [
             0.7777777777777778,
             "#fb9f3a"
            ],
            [
             0.8888888888888888,
             "#fdca26"
            ],
            [
             1,
             "#f0f921"
            ]
           ]
          },
          "colorway": [
           "#636efa",
           "#EF553B",
           "#00cc96",
           "#ab63fa",
           "#FFA15A",
           "#19d3f3",
           "#FF6692",
           "#B6E880",
           "#FF97FF",
           "#FECB52"
          ],
          "font": {
           "color": "#2a3f5f"
          },
          "geo": {
           "bgcolor": "white",
           "lakecolor": "white",
           "landcolor": "#E5ECF6",
           "showlakes": true,
           "showland": true,
           "subunitcolor": "white"
          },
          "hoverlabel": {
           "align": "left"
          },
          "hovermode": "closest",
          "mapbox": {
           "style": "light"
          },
          "paper_bgcolor": "white",
          "plot_bgcolor": "#E5ECF6",
          "polar": {
           "angularaxis": {
            "gridcolor": "white",
            "linecolor": "white",
            "ticks": ""
           },
           "bgcolor": "#E5ECF6",
           "radialaxis": {
            "gridcolor": "white",
            "linecolor": "white",
            "ticks": ""
           }
          },
          "scene": {
           "xaxis": {
            "backgroundcolor": "#E5ECF6",
            "gridcolor": "white",
            "gridwidth": 2,
            "linecolor": "white",
            "showbackground": true,
            "ticks": "",
            "zerolinecolor": "white"
           },
           "yaxis": {
            "backgroundcolor": "#E5ECF6",
            "gridcolor": "white",
            "gridwidth": 2,
            "linecolor": "white",
            "showbackground": true,
            "ticks": "",
            "zerolinecolor": "white"
           },
           "zaxis": {
            "backgroundcolor": "#E5ECF6",
            "gridcolor": "white",
            "gridwidth": 2,
            "linecolor": "white",
            "showbackground": true,
            "ticks": "",
            "zerolinecolor": "white"
           }
          },
          "shapedefaults": {
           "line": {
            "color": "#2a3f5f"
           }
          },
          "ternary": {
           "aaxis": {
            "gridcolor": "white",
            "linecolor": "white",
            "ticks": ""
           },
           "baxis": {
            "gridcolor": "white",
            "linecolor": "white",
            "ticks": ""
           },
           "bgcolor": "#E5ECF6",
           "caxis": {
            "gridcolor": "white",
            "linecolor": "white",
            "ticks": ""
           }
          },
          "title": {
           "x": 0.05
          },
          "xaxis": {
           "automargin": true,
           "gridcolor": "white",
           "linecolor": "white",
           "ticks": "",
           "title": {
            "standoff": 15
           },
           "zerolinecolor": "white",
           "zerolinewidth": 2
          },
          "yaxis": {
           "automargin": true,
           "gridcolor": "white",
           "linecolor": "white",
           "ticks": "",
           "title": {
            "standoff": 15
           },
           "zerolinecolor": "white",
           "zerolinewidth": 2
          }
         }
        },
        "title": {
         "text": "Intensity des trades en fonction de l'imbalance"
        },
        "xaxis": {
         "title": {
          "text": "imbalance"
         }
        },
        "yaxis": {
         "title": {
          "text": "Intensity"
         }
        }
       }
      }
     },
     "metadata": {},
     "output_type": "display_data"
    },
    {
     "data": {
      "application/vnd.plotly.v1+json": {
       "config": {
        "plotlyServerURL": "https://plot.ly"
       },
       "data": [
        {
         "line": {
          "width": 0
         },
         "mode": "lines",
         "name": "Upper Bound",
         "showlegend": false,
         "type": "scatter",
         "x": [
          -0.8540574339028911,
          -0.7642848958153262,
          -0.6805515432012818,
          -0.5987681325495133,
          -0.520501147387956,
          -0.4446689919311437,
          -0.3712936840701538,
          -0.30351838911653667,
          -0.23429496102851627,
          -0.1666326947640364,
          -0.09859812331204634,
          -0.03307262590292653,
          0.02129048092278151,
          0.08474628361329864,
          0.1505675709992127,
          0.21543225499016147,
          0.2801747466933697,
          0.3416335324081745,
          0.4050112122344918,
          0.47186587490085263,
          0.5375436670850081,
          0.605866328280327,
          0.675973500815222,
          0.7443974637214993,
          0.8160158401536882,
          0.8735676288112179
         ],
         "y": [
          62086.14249373588,
          62996.82727278812,
          66304.01380756799,
          66222.10155023038,
          65821.8803860346,
          65118.51534244666,
          63731.59695377632,
          63784.08120697655,
          63271.260120740626,
          62776.03737756232,
          63424.90100970845,
          61933.24102112348,
          62972.21064976594,
          62681.22613069279,
          62588.76155160765,
          61839.528954648056,
          61784.91059537703,
          61702.56967934826,
          62591.16811510993,
          62259.700566204505,
          62868.02764491614,
          62304.19938253122,
          63450.82424507726,
          61612.17336985053,
          59371.657924881234,
          56750.4342989946
         ]
        },
        {
         "fill": "tonexty",
         "fillcolor": "blue",
         "line": {
          "width": 0
         },
         "mode": "lines",
         "name": "Intervalle de confiance à 95%",
         "showlegend": true,
         "type": "scatter",
         "x": [
          -0.8540574339028911,
          -0.7642848958153262,
          -0.6805515432012818,
          -0.5987681325495133,
          -0.520501147387956,
          -0.4446689919311437,
          -0.3712936840701538,
          -0.30351838911653667,
          -0.23429496102851627,
          -0.1666326947640364,
          -0.09859812331204634,
          -0.03307262590292653,
          0.02129048092278151,
          0.08474628361329864,
          0.1505675709992127,
          0.21543225499016147,
          0.2801747466933697,
          0.3416335324081745,
          0.4050112122344918,
          0.47186587490085263,
          0.5375436670850081,
          0.605866328280327,
          0.675973500815222,
          0.7443974637214993,
          0.8160158401536882,
          0.8735676288112179
         ],
         "y": [
          61513.5568573137,
          62418.725550283714,
          65705.2003634209,
          65619.31401296126,
          65221.151712143386,
          64519.93552937263,
          63143.1576450518,
          63192.559537148205,
          62678.751715491366,
          62190.506419992154,
          62830.486479039806,
          61348.72916540413,
          62386.07032108953,
          62091.59890711381,
          61999.748594847115,
          61257.18366801214,
          61203.062677273214,
          61121.99228350567,
          62006.73429223163,
          61681.169872797946,
          62283.66774949023,
          61723.64611529439,
          62866.74287487429,
          61047.41367783066,
          58816.76804336732,
          56159.6580281589
         ]
        },
        {
         "line": {
          "color": "red"
         },
         "mode": "lines",
         "name": "intensity",
         "showlegend": true,
         "type": "scatter",
         "x": [
          -0.8540574339028911,
          -0.7642848958153262,
          -0.6805515432012818,
          -0.5987681325495133,
          -0.520501147387956,
          -0.4446689919311437,
          -0.3712936840701538,
          -0.30351838911653667,
          -0.23429496102851627,
          -0.1666326947640364,
          -0.09859812331204634,
          -0.03307262590292653,
          0.02129048092278151,
          0.08474628361329864,
          0.1505675709992127,
          0.21543225499016147,
          0.2801747466933697,
          0.3416335324081745,
          0.4050112122344918,
          0.47186587490085263,
          0.5375436670850081,
          0.605866328280327,
          0.675973500815222,
          0.7443974637214993,
          0.8160158401536882,
          0.8735676288112179
         ],
         "y": [
          61799.84967552479,
          62707.77641153592,
          66004.60708549444,
          65920.70778159582,
          65521.51604908899,
          64819.22543590965,
          63437.37729941406,
          63488.32037206238,
          62975.005918115996,
          62483.27189877724,
          63127.693744374126,
          61640.98509326381,
          62679.140485427735,
          62386.4125189033,
          62294.25507322738,
          61548.3563113301,
          61493.98663632512,
          61412.280981426964,
          62298.95120367078,
          61970.435219501225,
          62575.847697203186,
          62013.9227489128,
          63158.783559975775,
          61329.79352384059,
          59094.21298412428,
          56455.04616357675
         ]
        }
       ],
       "layout": {
        "showlegend": true,
        "template": {
         "data": {
          "bar": [
           {
            "error_x": {
             "color": "#2a3f5f"
            },
            "error_y": {
             "color": "#2a3f5f"
            },
            "marker": {
             "line": {
              "color": "#E5ECF6",
              "width": 0.5
             },
             "pattern": {
              "fillmode": "overlay",
              "size": 10,
              "solidity": 0.2
             }
            },
            "type": "bar"
           }
          ],
          "barpolar": [
           {
            "marker": {
             "line": {
              "color": "#E5ECF6",
              "width": 0.5
             },
             "pattern": {
              "fillmode": "overlay",
              "size": 10,
              "solidity": 0.2
             }
            },
            "type": "barpolar"
           }
          ],
          "carpet": [
           {
            "aaxis": {
             "endlinecolor": "#2a3f5f",
             "gridcolor": "white",
             "linecolor": "white",
             "minorgridcolor": "white",
             "startlinecolor": "#2a3f5f"
            },
            "baxis": {
             "endlinecolor": "#2a3f5f",
             "gridcolor": "white",
             "linecolor": "white",
             "minorgridcolor": "white",
             "startlinecolor": "#2a3f5f"
            },
            "type": "carpet"
           }
          ],
          "choropleth": [
           {
            "colorbar": {
             "outlinewidth": 0,
             "ticks": ""
            },
            "type": "choropleth"
           }
          ],
          "contour": [
           {
            "colorbar": {
             "outlinewidth": 0,
             "ticks": ""
            },
            "colorscale": [
             [
              0,
              "#0d0887"
             ],
             [
              0.1111111111111111,
              "#46039f"
             ],
             [
              0.2222222222222222,
              "#7201a8"
             ],
             [
              0.3333333333333333,
              "#9c179e"
             ],
             [
              0.4444444444444444,
              "#bd3786"
             ],
             [
              0.5555555555555556,
              "#d8576b"
             ],
             [
              0.6666666666666666,
              "#ed7953"
             ],
             [
              0.7777777777777778,
              "#fb9f3a"
             ],
             [
              0.8888888888888888,
              "#fdca26"
             ],
             [
              1,
              "#f0f921"
             ]
            ],
            "type": "contour"
           }
          ],
          "contourcarpet": [
           {
            "colorbar": {
             "outlinewidth": 0,
             "ticks": ""
            },
            "type": "contourcarpet"
           }
          ],
          "heatmap": [
           {
            "colorbar": {
             "outlinewidth": 0,
             "ticks": ""
            },
            "colorscale": [
             [
              0,
              "#0d0887"
             ],
             [
              0.1111111111111111,
              "#46039f"
             ],
             [
              0.2222222222222222,
              "#7201a8"
             ],
             [
              0.3333333333333333,
              "#9c179e"
             ],
             [
              0.4444444444444444,
              "#bd3786"
             ],
             [
              0.5555555555555556,
              "#d8576b"
             ],
             [
              0.6666666666666666,
              "#ed7953"
             ],
             [
              0.7777777777777778,
              "#fb9f3a"
             ],
             [
              0.8888888888888888,
              "#fdca26"
             ],
             [
              1,
              "#f0f921"
             ]
            ],
            "type": "heatmap"
           }
          ],
          "heatmapgl": [
           {
            "colorbar": {
             "outlinewidth": 0,
             "ticks": ""
            },
            "colorscale": [
             [
              0,
              "#0d0887"
             ],
             [
              0.1111111111111111,
              "#46039f"
             ],
             [
              0.2222222222222222,
              "#7201a8"
             ],
             [
              0.3333333333333333,
              "#9c179e"
             ],
             [
              0.4444444444444444,
              "#bd3786"
             ],
             [
              0.5555555555555556,
              "#d8576b"
             ],
             [
              0.6666666666666666,
              "#ed7953"
             ],
             [
              0.7777777777777778,
              "#fb9f3a"
             ],
             [
              0.8888888888888888,
              "#fdca26"
             ],
             [
              1,
              "#f0f921"
             ]
            ],
            "type": "heatmapgl"
           }
          ],
          "histogram": [
           {
            "marker": {
             "pattern": {
              "fillmode": "overlay",
              "size": 10,
              "solidity": 0.2
             }
            },
            "type": "histogram"
           }
          ],
          "histogram2d": [
           {
            "colorbar": {
             "outlinewidth": 0,
             "ticks": ""
            },
            "colorscale": [
             [
              0,
              "#0d0887"
             ],
             [
              0.1111111111111111,
              "#46039f"
             ],
             [
              0.2222222222222222,
              "#7201a8"
             ],
             [
              0.3333333333333333,
              "#9c179e"
             ],
             [
              0.4444444444444444,
              "#bd3786"
             ],
             [
              0.5555555555555556,
              "#d8576b"
             ],
             [
              0.6666666666666666,
              "#ed7953"
             ],
             [
              0.7777777777777778,
              "#fb9f3a"
             ],
             [
              0.8888888888888888,
              "#fdca26"
             ],
             [
              1,
              "#f0f921"
             ]
            ],
            "type": "histogram2d"
           }
          ],
          "histogram2dcontour": [
           {
            "colorbar": {
             "outlinewidth": 0,
             "ticks": ""
            },
            "colorscale": [
             [
              0,
              "#0d0887"
             ],
             [
              0.1111111111111111,
              "#46039f"
             ],
             [
              0.2222222222222222,
              "#7201a8"
             ],
             [
              0.3333333333333333,
              "#9c179e"
             ],
             [
              0.4444444444444444,
              "#bd3786"
             ],
             [
              0.5555555555555556,
              "#d8576b"
             ],
             [
              0.6666666666666666,
              "#ed7953"
             ],
             [
              0.7777777777777778,
              "#fb9f3a"
             ],
             [
              0.8888888888888888,
              "#fdca26"
             ],
             [
              1,
              "#f0f921"
             ]
            ],
            "type": "histogram2dcontour"
           }
          ],
          "mesh3d": [
           {
            "colorbar": {
             "outlinewidth": 0,
             "ticks": ""
            },
            "type": "mesh3d"
           }
          ],
          "parcoords": [
           {
            "line": {
             "colorbar": {
              "outlinewidth": 0,
              "ticks": ""
             }
            },
            "type": "parcoords"
           }
          ],
          "pie": [
           {
            "automargin": true,
            "type": "pie"
           }
          ],
          "scatter": [
           {
            "fillpattern": {
             "fillmode": "overlay",
             "size": 10,
             "solidity": 0.2
            },
            "type": "scatter"
           }
          ],
          "scatter3d": [
           {
            "line": {
             "colorbar": {
              "outlinewidth": 0,
              "ticks": ""
             }
            },
            "marker": {
             "colorbar": {
              "outlinewidth": 0,
              "ticks": ""
             }
            },
            "type": "scatter3d"
           }
          ],
          "scattercarpet": [
           {
            "marker": {
             "colorbar": {
              "outlinewidth": 0,
              "ticks": ""
             }
            },
            "type": "scattercarpet"
           }
          ],
          "scattergeo": [
           {
            "marker": {
             "colorbar": {
              "outlinewidth": 0,
              "ticks": ""
             }
            },
            "type": "scattergeo"
           }
          ],
          "scattergl": [
           {
            "marker": {
             "colorbar": {
              "outlinewidth": 0,
              "ticks": ""
             }
            },
            "type": "scattergl"
           }
          ],
          "scattermapbox": [
           {
            "marker": {
             "colorbar": {
              "outlinewidth": 0,
              "ticks": ""
             }
            },
            "type": "scattermapbox"
           }
          ],
          "scatterpolar": [
           {
            "marker": {
             "colorbar": {
              "outlinewidth": 0,
              "ticks": ""
             }
            },
            "type": "scatterpolar"
           }
          ],
          "scatterpolargl": [
           {
            "marker": {
             "colorbar": {
              "outlinewidth": 0,
              "ticks": ""
             }
            },
            "type": "scatterpolargl"
           }
          ],
          "scatterternary": [
           {
            "marker": {
             "colorbar": {
              "outlinewidth": 0,
              "ticks": ""
             }
            },
            "type": "scatterternary"
           }
          ],
          "surface": [
           {
            "colorbar": {
             "outlinewidth": 0,
             "ticks": ""
            },
            "colorscale": [
             [
              0,
              "#0d0887"
             ],
             [
              0.1111111111111111,
              "#46039f"
             ],
             [
              0.2222222222222222,
              "#7201a8"
             ],
             [
              0.3333333333333333,
              "#9c179e"
             ],
             [
              0.4444444444444444,
              "#bd3786"
             ],
             [
              0.5555555555555556,
              "#d8576b"
             ],
             [
              0.6666666666666666,
              "#ed7953"
             ],
             [
              0.7777777777777778,
              "#fb9f3a"
             ],
             [
              0.8888888888888888,
              "#fdca26"
             ],
             [
              1,
              "#f0f921"
             ]
            ],
            "type": "surface"
           }
          ],
          "table": [
           {
            "cells": {
             "fill": {
              "color": "#EBF0F8"
             },
             "line": {
              "color": "white"
             }
            },
            "header": {
             "fill": {
              "color": "#C8D4E3"
             },
             "line": {
              "color": "white"
             }
            },
            "type": "table"
           }
          ]
         },
         "layout": {
          "annotationdefaults": {
           "arrowcolor": "#2a3f5f",
           "arrowhead": 0,
           "arrowwidth": 1
          },
          "autotypenumbers": "strict",
          "coloraxis": {
           "colorbar": {
            "outlinewidth": 0,
            "ticks": ""
           }
          },
          "colorscale": {
           "diverging": [
            [
             0,
             "#8e0152"
            ],
            [
             0.1,
             "#c51b7d"
            ],
            [
             0.2,
             "#de77ae"
            ],
            [
             0.3,
             "#f1b6da"
            ],
            [
             0.4,
             "#fde0ef"
            ],
            [
             0.5,
             "#f7f7f7"
            ],
            [
             0.6,
             "#e6f5d0"
            ],
            [
             0.7,
             "#b8e186"
            ],
            [
             0.8,
             "#7fbc41"
            ],
            [
             0.9,
             "#4d9221"
            ],
            [
             1,
             "#276419"
            ]
           ],
           "sequential": [
            [
             0,
             "#0d0887"
            ],
            [
             0.1111111111111111,
             "#46039f"
            ],
            [
             0.2222222222222222,
             "#7201a8"
            ],
            [
             0.3333333333333333,
             "#9c179e"
            ],
            [
             0.4444444444444444,
             "#bd3786"
            ],
            [
             0.5555555555555556,
             "#d8576b"
            ],
            [
             0.6666666666666666,
             "#ed7953"
            ],
            [
             0.7777777777777778,
             "#fb9f3a"
            ],
            [
             0.8888888888888888,
             "#fdca26"
            ],
            [
             1,
             "#f0f921"
            ]
           ],
           "sequentialminus": [
            [
             0,
             "#0d0887"
            ],
            [
             0.1111111111111111,
             "#46039f"
            ],
            [
             0.2222222222222222,
             "#7201a8"
            ],
            [
             0.3333333333333333,
             "#9c179e"
            ],
            [
             0.4444444444444444,
             "#bd3786"
            ],
            [
             0.5555555555555556,
             "#d8576b"
            ],
            [
             0.6666666666666666,
             "#ed7953"
            ],
            [
             0.7777777777777778,
             "#fb9f3a"
            ],
            [
             0.8888888888888888,
             "#fdca26"
            ],
            [
             1,
             "#f0f921"
            ]
           ]
          },
          "colorway": [
           "#636efa",
           "#EF553B",
           "#00cc96",
           "#ab63fa",
           "#FFA15A",
           "#19d3f3",
           "#FF6692",
           "#B6E880",
           "#FF97FF",
           "#FECB52"
          ],
          "font": {
           "color": "#2a3f5f"
          },
          "geo": {
           "bgcolor": "white",
           "lakecolor": "white",
           "landcolor": "#E5ECF6",
           "showlakes": true,
           "showland": true,
           "subunitcolor": "white"
          },
          "hoverlabel": {
           "align": "left"
          },
          "hovermode": "closest",
          "mapbox": {
           "style": "light"
          },
          "paper_bgcolor": "white",
          "plot_bgcolor": "#E5ECF6",
          "polar": {
           "angularaxis": {
            "gridcolor": "white",
            "linecolor": "white",
            "ticks": ""
           },
           "bgcolor": "#E5ECF6",
           "radialaxis": {
            "gridcolor": "white",
            "linecolor": "white",
            "ticks": ""
           }
          },
          "scene": {
           "xaxis": {
            "backgroundcolor": "#E5ECF6",
            "gridcolor": "white",
            "gridwidth": 2,
            "linecolor": "white",
            "showbackground": true,
            "ticks": "",
            "zerolinecolor": "white"
           },
           "yaxis": {
            "backgroundcolor": "#E5ECF6",
            "gridcolor": "white",
            "gridwidth": 2,
            "linecolor": "white",
            "showbackground": true,
            "ticks": "",
            "zerolinecolor": "white"
           },
           "zaxis": {
            "backgroundcolor": "#E5ECF6",
            "gridcolor": "white",
            "gridwidth": 2,
            "linecolor": "white",
            "showbackground": true,
            "ticks": "",
            "zerolinecolor": "white"
           }
          },
          "shapedefaults": {
           "line": {
            "color": "#2a3f5f"
           }
          },
          "ternary": {
           "aaxis": {
            "gridcolor": "white",
            "linecolor": "white",
            "ticks": ""
           },
           "baxis": {
            "gridcolor": "white",
            "linecolor": "white",
            "ticks": ""
           },
           "bgcolor": "#E5ECF6",
           "caxis": {
            "gridcolor": "white",
            "linecolor": "white",
            "ticks": ""
           }
          },
          "title": {
           "x": 0.05
          },
          "xaxis": {
           "automargin": true,
           "gridcolor": "white",
           "linecolor": "white",
           "ticks": "",
           "title": {
            "standoff": 15
           },
           "zerolinecolor": "white",
           "zerolinewidth": 2
          },
          "yaxis": {
           "automargin": true,
           "gridcolor": "white",
           "linecolor": "white",
           "ticks": "",
           "title": {
            "standoff": 15
           },
           "zerolinecolor": "white",
           "zerolinewidth": 2
          }
         }
        },
        "title": {
         "text": "Intensity des add en fonction de l'imbalance"
        },
        "xaxis": {
         "title": {
          "text": "imbalance"
         }
        },
        "yaxis": {
         "title": {
          "text": "Intensity"
         }
        }
       }
      }
     },
     "metadata": {},
     "output_type": "display_data"
    },
    {
     "data": {
      "application/vnd.plotly.v1+json": {
       "config": {
        "plotlyServerURL": "https://plot.ly"
       },
       "data": [
        {
         "line": {
          "width": 0
         },
         "mode": "lines",
         "name": "Upper Bound",
         "showlegend": false,
         "type": "scatter",
         "x": [
          -0.8604784687061832,
          -0.7821798940308766,
          -0.6995896934362074,
          -0.617814132291668,
          -0.5342741391359861,
          -0.453775463678278,
          -0.3709572635152573,
          -0.29733297772842376,
          -0.2182678485151568,
          -0.14149393724711704,
          -0.065754720125778,
          0.0003855064762226103,
          0.06663187141611485,
          0.14084205705199274,
          0.2142546781564597,
          0.2877015840775472,
          0.35628374467051094,
          0.4293931275617075,
          0.5021563582608085,
          0.5735413538091113,
          0.6464841606207874,
          0.716347938146762,
          0.7885705188419493,
          0.8552443907675906,
          0.8943367251330213
         ],
         "y": [
          37707.44278037328,
          37337.191124716526,
          38184.60163833191,
          38305.53064196411,
          38751.094628284955,
          39116.71287655093,
          38931.549219505265,
          38584.97849145133,
          37883.050171427385,
          38114.96555485356,
          38170.9735552837,
          36730.944324143544,
          38222.84626157647,
          37816.49862253476,
          37070.32688764395,
          37321.30422333222,
          37647.19345499956,
          37811.31531313831,
          37400.24730667021,
          36752.92054465124,
          36780.21528079359,
          36501.29865406583,
          35951.61512025041,
          36336.93015341395,
          37556.53029605478
         ]
        },
        {
         "fill": "tonexty",
         "fillcolor": "blue",
         "line": {
          "width": 0
         },
         "mode": "lines",
         "name": "Intervalle de confiance à 95%",
         "showlegend": true,
         "type": "scatter",
         "x": [
          -0.8604784687061832,
          -0.7821798940308766,
          -0.6995896934362074,
          -0.617814132291668,
          -0.5342741391359861,
          -0.453775463678278,
          -0.3709572635152573,
          -0.29733297772842376,
          -0.2182678485151568,
          -0.14149393724711704,
          -0.065754720125778,
          0.0003855064762226103,
          0.06663187141611485,
          0.14084205705199274,
          0.2142546781564597,
          0.2877015840775472,
          0.35628374467051094,
          0.4293931275617075,
          0.5021563582608085,
          0.5735413538091113,
          0.6464841606207874,
          0.716347938146762,
          0.7885705188419493,
          0.8552443907675906,
          0.8943367251330213
         ],
         "y": [
          37271.29336720584,
          36901.491050280994,
          37748.257004897256,
          37863.32104716786,
          38310.3902118991,
          38671.7127850841,
          38489.674699975934,
          38147.795231063414,
          37451.913029161005,
          37683.026212236255,
          37734.37925010836,
          36314.79293524181,
          37789.102315384705,
          37383.142154018795,
          36649.423927396805,
          36898.78693395312,
          37224.695410169494,
          37383.57122056044,
          36976.56015001242,
          36336.85381709546,
          36363.53674712607,
          36088.478411793665,
          35541.18096940452,
          35925.91027009346,
          36478.176398474076
         ]
        },
        {
         "line": {
          "color": "red"
         },
         "mode": "lines",
         "name": "intensity",
         "showlegend": true,
         "type": "scatter",
         "x": [
          -0.8604784687061832,
          -0.7821798940308766,
          -0.6995896934362074,
          -0.617814132291668,
          -0.5342741391359861,
          -0.453775463678278,
          -0.3709572635152573,
          -0.29733297772842376,
          -0.2182678485151568,
          -0.14149393724711704,
          -0.065754720125778,
          0.0003855064762226103,
          0.06663187141611485,
          0.14084205705199274,
          0.2142546781564597,
          0.2877015840775472,
          0.35628374467051094,
          0.4293931275617075,
          0.5021563582608085,
          0.5735413538091113,
          0.6464841606207874,
          0.716347938146762,
          0.7885705188419493,
          0.8552443907675906,
          0.8943367251330213
         ],
         "y": [
          37489.36807378956,
          37119.34108749876,
          37966.42932161458,
          38084.42584456599,
          38530.74242009203,
          38894.212830817516,
          38710.6119597406,
          38366.38686125737,
          37667.481600294195,
          37898.99588354491,
          37952.67640269603,
          36522.868629692675,
          38005.97428848059,
          37599.82038827678,
          36859.875407520376,
          37110.04557864267,
          37435.944432584525,
          37597.443266849376,
          37188.40372834131,
          36544.88718087335,
          36571.87601395983,
          36294.88853292975,
          35746.39804482747,
          36131.420211753706,
          37017.35334726443
         ]
        }
       ],
       "layout": {
        "showlegend": true,
        "template": {
         "data": {
          "bar": [
           {
            "error_x": {
             "color": "#2a3f5f"
            },
            "error_y": {
             "color": "#2a3f5f"
            },
            "marker": {
             "line": {
              "color": "#E5ECF6",
              "width": 0.5
             },
             "pattern": {
              "fillmode": "overlay",
              "size": 10,
              "solidity": 0.2
             }
            },
            "type": "bar"
           }
          ],
          "barpolar": [
           {
            "marker": {
             "line": {
              "color": "#E5ECF6",
              "width": 0.5
             },
             "pattern": {
              "fillmode": "overlay",
              "size": 10,
              "solidity": 0.2
             }
            },
            "type": "barpolar"
           }
          ],
          "carpet": [
           {
            "aaxis": {
             "endlinecolor": "#2a3f5f",
             "gridcolor": "white",
             "linecolor": "white",
             "minorgridcolor": "white",
             "startlinecolor": "#2a3f5f"
            },
            "baxis": {
             "endlinecolor": "#2a3f5f",
             "gridcolor": "white",
             "linecolor": "white",
             "minorgridcolor": "white",
             "startlinecolor": "#2a3f5f"
            },
            "type": "carpet"
           }
          ],
          "choropleth": [
           {
            "colorbar": {
             "outlinewidth": 0,
             "ticks": ""
            },
            "type": "choropleth"
           }
          ],
          "contour": [
           {
            "colorbar": {
             "outlinewidth": 0,
             "ticks": ""
            },
            "colorscale": [
             [
              0,
              "#0d0887"
             ],
             [
              0.1111111111111111,
              "#46039f"
             ],
             [
              0.2222222222222222,
              "#7201a8"
             ],
             [
              0.3333333333333333,
              "#9c179e"
             ],
             [
              0.4444444444444444,
              "#bd3786"
             ],
             [
              0.5555555555555556,
              "#d8576b"
             ],
             [
              0.6666666666666666,
              "#ed7953"
             ],
             [
              0.7777777777777778,
              "#fb9f3a"
             ],
             [
              0.8888888888888888,
              "#fdca26"
             ],
             [
              1,
              "#f0f921"
             ]
            ],
            "type": "contour"
           }
          ],
          "contourcarpet": [
           {
            "colorbar": {
             "outlinewidth": 0,
             "ticks": ""
            },
            "type": "contourcarpet"
           }
          ],
          "heatmap": [
           {
            "colorbar": {
             "outlinewidth": 0,
             "ticks": ""
            },
            "colorscale": [
             [
              0,
              "#0d0887"
             ],
             [
              0.1111111111111111,
              "#46039f"
             ],
             [
              0.2222222222222222,
              "#7201a8"
             ],
             [
              0.3333333333333333,
              "#9c179e"
             ],
             [
              0.4444444444444444,
              "#bd3786"
             ],
             [
              0.5555555555555556,
              "#d8576b"
             ],
             [
              0.6666666666666666,
              "#ed7953"
             ],
             [
              0.7777777777777778,
              "#fb9f3a"
             ],
             [
              0.8888888888888888,
              "#fdca26"
             ],
             [
              1,
              "#f0f921"
             ]
            ],
            "type": "heatmap"
           }
          ],
          "heatmapgl": [
           {
            "colorbar": {
             "outlinewidth": 0,
             "ticks": ""
            },
            "colorscale": [
             [
              0,
              "#0d0887"
             ],
             [
              0.1111111111111111,
              "#46039f"
             ],
             [
              0.2222222222222222,
              "#7201a8"
             ],
             [
              0.3333333333333333,
              "#9c179e"
             ],
             [
              0.4444444444444444,
              "#bd3786"
             ],
             [
              0.5555555555555556,
              "#d8576b"
             ],
             [
              0.6666666666666666,
              "#ed7953"
             ],
             [
              0.7777777777777778,
              "#fb9f3a"
             ],
             [
              0.8888888888888888,
              "#fdca26"
             ],
             [
              1,
              "#f0f921"
             ]
            ],
            "type": "heatmapgl"
           }
          ],
          "histogram": [
           {
            "marker": {
             "pattern": {
              "fillmode": "overlay",
              "size": 10,
              "solidity": 0.2
             }
            },
            "type": "histogram"
           }
          ],
          "histogram2d": [
           {
            "colorbar": {
             "outlinewidth": 0,
             "ticks": ""
            },
            "colorscale": [
             [
              0,
              "#0d0887"
             ],
             [
              0.1111111111111111,
              "#46039f"
             ],
             [
              0.2222222222222222,
              "#7201a8"
             ],
             [
              0.3333333333333333,
              "#9c179e"
             ],
             [
              0.4444444444444444,
              "#bd3786"
             ],
             [
              0.5555555555555556,
              "#d8576b"
             ],
             [
              0.6666666666666666,
              "#ed7953"
             ],
             [
              0.7777777777777778,
              "#fb9f3a"
             ],
             [
              0.8888888888888888,
              "#fdca26"
             ],
             [
              1,
              "#f0f921"
             ]
            ],
            "type": "histogram2d"
           }
          ],
          "histogram2dcontour": [
           {
            "colorbar": {
             "outlinewidth": 0,
             "ticks": ""
            },
            "colorscale": [
             [
              0,
              "#0d0887"
             ],
             [
              0.1111111111111111,
              "#46039f"
             ],
             [
              0.2222222222222222,
              "#7201a8"
             ],
             [
              0.3333333333333333,
              "#9c179e"
             ],
             [
              0.4444444444444444,
              "#bd3786"
             ],
             [
              0.5555555555555556,
              "#d8576b"
             ],
             [
              0.6666666666666666,
              "#ed7953"
             ],
             [
              0.7777777777777778,
              "#fb9f3a"
             ],
             [
              0.8888888888888888,
              "#fdca26"
             ],
             [
              1,
              "#f0f921"
             ]
            ],
            "type": "histogram2dcontour"
           }
          ],
          "mesh3d": [
           {
            "colorbar": {
             "outlinewidth": 0,
             "ticks": ""
            },
            "type": "mesh3d"
           }
          ],
          "parcoords": [
           {
            "line": {
             "colorbar": {
              "outlinewidth": 0,
              "ticks": ""
             }
            },
            "type": "parcoords"
           }
          ],
          "pie": [
           {
            "automargin": true,
            "type": "pie"
           }
          ],
          "scatter": [
           {
            "fillpattern": {
             "fillmode": "overlay",
             "size": 10,
             "solidity": 0.2
            },
            "type": "scatter"
           }
          ],
          "scatter3d": [
           {
            "line": {
             "colorbar": {
              "outlinewidth": 0,
              "ticks": ""
             }
            },
            "marker": {
             "colorbar": {
              "outlinewidth": 0,
              "ticks": ""
             }
            },
            "type": "scatter3d"
           }
          ],
          "scattercarpet": [
           {
            "marker": {
             "colorbar": {
              "outlinewidth": 0,
              "ticks": ""
             }
            },
            "type": "scattercarpet"
           }
          ],
          "scattergeo": [
           {
            "marker": {
             "colorbar": {
              "outlinewidth": 0,
              "ticks": ""
             }
            },
            "type": "scattergeo"
           }
          ],
          "scattergl": [
           {
            "marker": {
             "colorbar": {
              "outlinewidth": 0,
              "ticks": ""
             }
            },
            "type": "scattergl"
           }
          ],
          "scattermapbox": [
           {
            "marker": {
             "colorbar": {
              "outlinewidth": 0,
              "ticks": ""
             }
            },
            "type": "scattermapbox"
           }
          ],
          "scatterpolar": [
           {
            "marker": {
             "colorbar": {
              "outlinewidth": 0,
              "ticks": ""
             }
            },
            "type": "scatterpolar"
           }
          ],
          "scatterpolargl": [
           {
            "marker": {
             "colorbar": {
              "outlinewidth": 0,
              "ticks": ""
             }
            },
            "type": "scatterpolargl"
           }
          ],
          "scatterternary": [
           {
            "marker": {
             "colorbar": {
              "outlinewidth": 0,
              "ticks": ""
             }
            },
            "type": "scatterternary"
           }
          ],
          "surface": [
           {
            "colorbar": {
             "outlinewidth": 0,
             "ticks": ""
            },
            "colorscale": [
             [
              0,
              "#0d0887"
             ],
             [
              0.1111111111111111,
              "#46039f"
             ],
             [
              0.2222222222222222,
              "#7201a8"
             ],
             [
              0.3333333333333333,
              "#9c179e"
             ],
             [
              0.4444444444444444,
              "#bd3786"
             ],
             [
              0.5555555555555556,
              "#d8576b"
             ],
             [
              0.6666666666666666,
              "#ed7953"
             ],
             [
              0.7777777777777778,
              "#fb9f3a"
             ],
             [
              0.8888888888888888,
              "#fdca26"
             ],
             [
              1,
              "#f0f921"
             ]
            ],
            "type": "surface"
           }
          ],
          "table": [
           {
            "cells": {
             "fill": {
              "color": "#EBF0F8"
             },
             "line": {
              "color": "white"
             }
            },
            "header": {
             "fill": {
              "color": "#C8D4E3"
             },
             "line": {
              "color": "white"
             }
            },
            "type": "table"
           }
          ]
         },
         "layout": {
          "annotationdefaults": {
           "arrowcolor": "#2a3f5f",
           "arrowhead": 0,
           "arrowwidth": 1
          },
          "autotypenumbers": "strict",
          "coloraxis": {
           "colorbar": {
            "outlinewidth": 0,
            "ticks": ""
           }
          },
          "colorscale": {
           "diverging": [
            [
             0,
             "#8e0152"
            ],
            [
             0.1,
             "#c51b7d"
            ],
            [
             0.2,
             "#de77ae"
            ],
            [
             0.3,
             "#f1b6da"
            ],
            [
             0.4,
             "#fde0ef"
            ],
            [
             0.5,
             "#f7f7f7"
            ],
            [
             0.6,
             "#e6f5d0"
            ],
            [
             0.7,
             "#b8e186"
            ],
            [
             0.8,
             "#7fbc41"
            ],
            [
             0.9,
             "#4d9221"
            ],
            [
             1,
             "#276419"
            ]
           ],
           "sequential": [
            [
             0,
             "#0d0887"
            ],
            [
             0.1111111111111111,
             "#46039f"
            ],
            [
             0.2222222222222222,
             "#7201a8"
            ],
            [
             0.3333333333333333,
             "#9c179e"
            ],
            [
             0.4444444444444444,
             "#bd3786"
            ],
            [
             0.5555555555555556,
             "#d8576b"
            ],
            [
             0.6666666666666666,
             "#ed7953"
            ],
            [
             0.7777777777777778,
             "#fb9f3a"
            ],
            [
             0.8888888888888888,
             "#fdca26"
            ],
            [
             1,
             "#f0f921"
            ]
           ],
           "sequentialminus": [
            [
             0,
             "#0d0887"
            ],
            [
             0.1111111111111111,
             "#46039f"
            ],
            [
             0.2222222222222222,
             "#7201a8"
            ],
            [
             0.3333333333333333,
             "#9c179e"
            ],
            [
             0.4444444444444444,
             "#bd3786"
            ],
            [
             0.5555555555555556,
             "#d8576b"
            ],
            [
             0.6666666666666666,
             "#ed7953"
            ],
            [
             0.7777777777777778,
             "#fb9f3a"
            ],
            [
             0.8888888888888888,
             "#fdca26"
            ],
            [
             1,
             "#f0f921"
            ]
           ]
          },
          "colorway": [
           "#636efa",
           "#EF553B",
           "#00cc96",
           "#ab63fa",
           "#FFA15A",
           "#19d3f3",
           "#FF6692",
           "#B6E880",
           "#FF97FF",
           "#FECB52"
          ],
          "font": {
           "color": "#2a3f5f"
          },
          "geo": {
           "bgcolor": "white",
           "lakecolor": "white",
           "landcolor": "#E5ECF6",
           "showlakes": true,
           "showland": true,
           "subunitcolor": "white"
          },
          "hoverlabel": {
           "align": "left"
          },
          "hovermode": "closest",
          "mapbox": {
           "style": "light"
          },
          "paper_bgcolor": "white",
          "plot_bgcolor": "#E5ECF6",
          "polar": {
           "angularaxis": {
            "gridcolor": "white",
            "linecolor": "white",
            "ticks": ""
           },
           "bgcolor": "#E5ECF6",
           "radialaxis": {
            "gridcolor": "white",
            "linecolor": "white",
            "ticks": ""
           }
          },
          "scene": {
           "xaxis": {
            "backgroundcolor": "#E5ECF6",
            "gridcolor": "white",
            "gridwidth": 2,
            "linecolor": "white",
            "showbackground": true,
            "ticks": "",
            "zerolinecolor": "white"
           },
           "yaxis": {
            "backgroundcolor": "#E5ECF6",
            "gridcolor": "white",
            "gridwidth": 2,
            "linecolor": "white",
            "showbackground": true,
            "ticks": "",
            "zerolinecolor": "white"
           },
           "zaxis": {
            "backgroundcolor": "#E5ECF6",
            "gridcolor": "white",
            "gridwidth": 2,
            "linecolor": "white",
            "showbackground": true,
            "ticks": "",
            "zerolinecolor": "white"
           }
          },
          "shapedefaults": {
           "line": {
            "color": "#2a3f5f"
           }
          },
          "ternary": {
           "aaxis": {
            "gridcolor": "white",
            "linecolor": "white",
            "ticks": ""
           },
           "baxis": {
            "gridcolor": "white",
            "linecolor": "white",
            "ticks": ""
           },
           "bgcolor": "#E5ECF6",
           "caxis": {
            "gridcolor": "white",
            "linecolor": "white",
            "ticks": ""
           }
          },
          "title": {
           "x": 0.05
          },
          "xaxis": {
           "automargin": true,
           "gridcolor": "white",
           "linecolor": "white",
           "ticks": "",
           "title": {
            "standoff": 15
           },
           "zerolinecolor": "white",
           "zerolinewidth": 2
          },
          "yaxis": {
           "automargin": true,
           "gridcolor": "white",
           "linecolor": "white",
           "ticks": "",
           "title": {
            "standoff": 15
           },
           "zerolinecolor": "white",
           "zerolinewidth": 2
          }
         }
        },
        "title": {
         "text": "Intensity des cancel en fonction de l'imbalance"
        },
        "xaxis": {
         "title": {
          "text": "imbalance"
         }
        },
        "yaxis": {
         "title": {
          "text": "Intensity"
         }
        }
       }
      }
     },
     "metadata": {},
     "output_type": "display_data"
    }
   ],
   "source": [
    "visu_intensity_respec(imb_tot, intensity_tot, 0 , 'trades', 120000)\n",
    "visu_intensity_respec(imb_tot, intensity_tot, 1 , 'add', 1000000)\n",
    "visu_intensity_respec(imb_tot, intensity_tot, 2 , 'cancel', 900000)"
   ]
  },
  {
   "cell_type": "markdown",
   "metadata": {},
   "source": [
    "# Calcul Intensités par average event size"
   ]
  },
  {
   "cell_type": "code",
   "execution_count": 15,
   "metadata": {},
   "outputs": [],
   "source": [
    "def dico_queue_size(sizes, dic):\n",
    "    for i in range (len(sizes)):\n",
    "        if sizes[i] not in dic:\n",
    "            dic[sizes[i]] = [[], [], []]\n",
    "    return dic\n",
    "\n",
    "def compute_means(dico):\n",
    "    sums = 0\n",
    "    means = 0\n",
    "    keys = np.array(list(dico.keys()))\n",
    "    for i in range (len(keys)):\n",
    "        means = means+keys[i]*len(dico[keys[i]][0])+keys[i]*len(dico[keys[i]][1])+keys[i]*len(dico[keys[i]][2])\n",
    "        sums = sums+len(dico[keys[i]][0])+len(dico[keys[i]][1])+len(dico[keys[i]][2])\n",
    "    return means/sums\n",
    "\n",
    "def filtrage(dico, nombre_bins, threshold=100):\n",
    "    dico_p = dict(reversed(list(dico.items())))\n",
    "    keys = list(dico_p.keys())\n",
    "    i = 0\n",
    "    while len(dico_p[keys[i]][0])<threshold:\n",
    "        i += 1\n",
    "    values = np.linspace(0, keys[i], nombre_bins, endpoint=True)\n",
    "    keys = np.array(list(dico.keys()))\n",
    "    \n",
    "    real_dic = {}\n",
    "    for i in range (len(keys)):\n",
    "        real_k_index = np.argmin(np.abs(values-keys[i]))\n",
    "        real_k = values[real_k_index]\n",
    "        \n",
    "        if real_k not in real_dic:\n",
    "            real_dic[real_k] = [\n",
    "                np.array(dico[keys[i]][0]),\n",
    "                np.array(dico[keys[i]][1]),\n",
    "                np.array(dico[keys[i]][2])\n",
    "            ]\n",
    "        else:\n",
    "            real_dic[real_k] = [\n",
    "                np.concatenate([real_dic[real_k][0], dico[keys[i]][0]]),\n",
    "                np.concatenate([real_dic[real_k][1], dico[keys[i]][1]]),\n",
    "                np.concatenate([real_dic[real_k][2], dico[keys[i]][2]])\n",
    "            ]\n",
    "    return real_dic\n",
    "\n",
    "def remove_nan_from_dico(dico):\n",
    "    cleaned_dico = {}\n",
    "    for key, value_lists in dico.items():\n",
    "        cleaned_value_lists = []\n",
    "        for value_list in value_lists:\n",
    "            value_array = np.array(value_list)\n",
    "            cleaned_array = value_array[~np.isnan(value_array)]\n",
    "            cleaned_value_lists.append(cleaned_array.tolist())\n",
    "        cleaned_dico[key] = cleaned_value_lists\n",
    "    return cleaned_dico"
   ]
  },
  {
   "cell_type": "code",
   "execution_count": 16,
   "metadata": {},
   "outputs": [
    {
     "name": "stderr",
     "output_type": "stream",
     "text": [
      "100%|██████████| 65/65 [03:23<00:00,  3.13s/it]\n"
     ]
    }
   ],
   "source": [
    "dic = {}\n",
    "\n",
    "average_event_size = []\n",
    "for f in tqdm(files_csv):\n",
    "    df = pd.read_csv(f)\n",
    "    df['time_diff'] = df['time_diff']*1.0 # pour le modif en float c'est un timedelta là\n",
    "    sizes = np.unique(np.array((np.unique(df['bid_sz_00'].to_numpy())).tolist() + (np.unique(df['ask_sz_00'].to_numpy())).tolist()))\n",
    "    sizes.sort()\n",
    "    dic = dico_queue_size(sizes, dic)  # Add, Cancel, Trade\n",
    "    \n",
    "    for row in df.itertuples():\n",
    "        average_event_size.append(row.size)\n",
    "        if row.side == 'A':\n",
    "            taille = row.ask_sz_00\n",
    "        elif row.side == 'B':\n",
    "            taille = row.bid_sz_00\n",
    "        if row.action == 'A':\n",
    "            dic[taille][0].append(row.time_diff)\n",
    "        elif row.action == 'C':\n",
    "            dic[taille][1].append(row.time_diff)\n",
    "        elif row.action == 'T':\n",
    "            dic[taille][2].append(row.time_diff)"
   ]
  },
  {
   "cell_type": "code",
   "execution_count": 17,
   "metadata": {},
   "outputs": [
    {
     "data": {
      "application/vnd.plotly.v1+json": {
       "config": {
        "plotlyServerURL": "https://plot.ly"
       },
       "data": [
        {
         "line": {
          "color": "blue"
         },
         "mode": "lines",
         "name": "Add",
         "showlegend": true,
         "type": "scatter",
         "x": [
          0,
          0.7489973378186248,
          1.4979946756372495,
          2.2469920134558743,
          2.995989351274499,
          3.744986689093124,
          4.493984026911749,
          5.2429813647303725,
          5.991978702548998,
          6.740976040367623,
          7.489973378186248,
          8.238970716004872,
          8.987968053823497,
          9.736965391642121,
          10.485962729460745,
          11.23496006727937,
          11.983957405097996,
          12.73295474291662,
          13.481952080735246,
          14.230949418553871,
          14.979946756372495,
          15.72894409419112,
          16.477941432009743,
          17.22693876982837,
          17.975936107646994,
          18.724933445465616,
          19.473930783284242,
          20.222928121102868,
          20.97192545892149,
          21.720922796740116
         ],
         "y": [
          18.640219577758046,
          23.394915441797504,
          23.101409150228317,
          27.119620752417237,
          25.33970491826392,
          24.80592235908751,
          25.554499357682715,
          24.863918694915245,
          25.815243591139534,
          26.598242992838447,
          27.01141352659498,
          28.086624464827793,
          28.33123623902813,
          31.370662946836486,
          31.07960329565717,
          33.662842336160395,
          33.361623611629504,
          33.77709864551568,
          35.794186068198215,
          34.906405169289705,
          35.31715228519215,
          35.32532067135698,
          35.825411261766945,
          38.59182734415869,
          33.77133059207891,
          36.676088443931306,
          34.87473240590745,
          34.711912046250475,
          32.753331588438584,
          29.627543639290764
         ]
        },
        {
         "line": {
          "width": 0
         },
         "mode": "lines",
         "name": "Add Upper CI",
         "showlegend": false,
         "type": "scatter",
         "x": [
          0,
          0.7489973378186248,
          1.4979946756372495,
          2.2469920134558743,
          2.995989351274499,
          3.744986689093124,
          4.493984026911749,
          5.2429813647303725,
          5.991978702548998,
          6.740976040367623,
          7.489973378186248,
          8.238970716004872,
          8.987968053823497,
          9.736965391642121,
          10.485962729460745,
          11.23496006727937,
          11.983957405097996,
          12.73295474291662,
          13.481952080735246,
          14.230949418553871,
          14.979946756372495,
          15.72894409419112,
          16.477941432009743,
          17.22693876982837,
          17.975936107646994,
          18.724933445465616,
          19.473930783284242,
          20.222928121102868,
          20.97192545892149,
          21.720922796740116
         ],
         "y": [
          18.640293864737917,
          23.394996370057466,
          23.101518781908865,
          27.119725060066727,
          25.339861587700767,
          24.80607618467994,
          25.55470885632346,
          24.86417305633655,
          25.815513036684806,
          26.598616778198846,
          27.011762503170967,
          28.087104683588716,
          28.331730576170813,
          31.371194201637753,
          31.080282302233503,
          33.66348077097399,
          33.36247615664225,
          33.77793750214261,
          35.79518966308743,
          34.90754506233264,
          35.318390100746015,
          35.32678492533328,
          35.82706952822326,
          38.59351750748274,
          33.773051512056625,
          36.67797534775209,
          34.87672438090751,
          34.71382177529889,
          32.755823693556884,
          29.628353332208032
         ]
        },
        {
         "fill": "tonexty",
         "fillcolor": "rgba(0, 0, 255, 0.2)",
         "line": {
          "width": 0
         },
         "mode": "lines",
         "name": "Add Lower CI",
         "showlegend": false,
         "type": "scatter",
         "x": [
          0,
          0.7489973378186248,
          1.4979946756372495,
          2.2469920134558743,
          2.995989351274499,
          3.744986689093124,
          4.493984026911749,
          5.2429813647303725,
          5.991978702548998,
          6.740976040367623,
          7.489973378186248,
          8.238970716004872,
          8.987968053823497,
          9.736965391642121,
          10.485962729460745,
          11.23496006727937,
          11.983957405097996,
          12.73295474291662,
          13.481952080735246,
          14.230949418553871,
          14.979946756372495,
          15.72894409419112,
          16.477941432009743,
          17.22693876982837,
          17.975936107646994,
          18.724933445465616,
          19.473930783284242,
          20.222928121102868,
          20.97192545892149,
          21.720922796740116
         ],
         "y": [
          18.640145290778175,
          23.394834513537543,
          23.10129951854777,
          27.119516444767747,
          25.33954824882707,
          24.80576853349508,
          25.55428985904197,
          24.86366433349394,
          25.814974145594263,
          26.59786920747805,
          27.01106455001899,
          28.08614424606687,
          28.330741901885446,
          31.37013169203522,
          31.078924289080835,
          33.6622039013468,
          33.360771066616756,
          33.776259788888744,
          35.793182473309,
          34.90526527624677,
          35.31591446963829,
          35.323856417380675,
          35.82375299531063,
          38.59013718083464,
          33.7696096721012,
          36.67420154011052,
          34.87274043090739,
          34.71000231720206,
          32.750839483320284,
          29.626733946373495
         ]
        },
        {
         "line": {
          "color": "green"
         },
         "mode": "lines",
         "name": "Cancel",
         "showlegend": true,
         "type": "scatter",
         "x": [
          0,
          0.7489973378186248,
          1.4979946756372495,
          2.2469920134558743,
          2.995989351274499,
          3.744986689093124,
          4.493984026911749,
          5.2429813647303725,
          5.991978702548998,
          6.740976040367623,
          7.489973378186248,
          8.238970716004872,
          8.987968053823497,
          9.736965391642121,
          10.485962729460745,
          11.23496006727937,
          11.983957405097996,
          12.73295474291662,
          13.481952080735246,
          14.230949418553871,
          14.979946756372495,
          15.72894409419112,
          16.477941432009743,
          17.22693876982837,
          17.975936107646994,
          18.724933445465616,
          19.473930783284242,
          20.222928121102868,
          20.97192545892149,
          21.720922796740116
         ],
         "y": [
          27.732182525521715,
          26.673101873755563,
          22.577654719186448,
          21.25318348599927,
          17.18274691947242,
          18.98631951259753,
          17.130064542876283,
          15.887110239163437,
          17.27144498216157,
          15.107292150865899,
          18.01714834695893,
          16.00469696234032,
          17.982187409005917,
          18.769642222624434,
          17.432141475081348,
          20.78708445315995,
          17.595375320654398,
          20.448550622050057,
          19.489165321663442,
          19.79943258427279,
          20.270055712980003,
          19.410181884354017,
          21.315649671776303,
          20.36705445635155,
          22.34734595199019,
          22.017264505224865,
          21.72960702135042,
          23.143396387671537,
          19.248886949147607,
          20.10100597166926
         ]
        },
        {
         "line": {
          "width": 0
         },
         "mode": "lines",
         "name": "Cancel Upper CI",
         "showlegend": false,
         "type": "scatter",
         "x": [
          0,
          0.7489973378186248,
          1.4979946756372495,
          2.2469920134558743,
          2.995989351274499,
          3.744986689093124,
          4.493984026911749,
          5.2429813647303725,
          5.991978702548998,
          6.740976040367623,
          7.489973378186248,
          8.238970716004872,
          8.987968053823497,
          9.736965391642121,
          10.485962729460745,
          11.23496006727937,
          11.983957405097996,
          12.73295474291662,
          13.481952080735246,
          14.230949418553871,
          14.979946756372495,
          15.72894409419112,
          16.477941432009743,
          17.22693876982837,
          17.975936107646994,
          18.724933445465616,
          19.473930783284242,
          20.222928121102868,
          20.97192545892149,
          21.720922796740116
         ],
         "y": [
          27.732293046756535,
          26.673194141997687,
          22.577761865300936,
          21.25326523012224,
          17.18285315635608,
          18.98643724987836,
          17.13020497705922,
          15.887272766558675,
          17.27162525215958,
          15.10750445378541,
          18.01738112125388,
          16.004970607033858,
          17.9825011709282,
          18.769960082102433,
          17.432522320956007,
          20.78747869195463,
          17.595824964522205,
          20.449058463246853,
          19.48971175751966,
          19.800079148573737,
          20.270766149371834,
          19.41098644707177,
          21.316636318561375,
          20.367946449574728,
          22.348484728384943,
          22.018397244900243,
          21.730848173065763,
          23.144669657098518,
          19.25035154060628,
          20.10155531326718
         ]
        },
        {
         "fill": "tonexty",
         "fillcolor": "rgba(0, 255, 0, 0.2)",
         "line": {
          "width": 0
         },
         "mode": "lines",
         "name": "Cancel Lower CI",
         "showlegend": false,
         "type": "scatter",
         "x": [
          0,
          0.7489973378186248,
          1.4979946756372495,
          2.2469920134558743,
          2.995989351274499,
          3.744986689093124,
          4.493984026911749,
          5.2429813647303725,
          5.991978702548998,
          6.740976040367623,
          7.489973378186248,
          8.238970716004872,
          8.987968053823497,
          9.736965391642121,
          10.485962729460745,
          11.23496006727937,
          11.983957405097996,
          12.73295474291662,
          13.481952080735246,
          14.230949418553871,
          14.979946756372495,
          15.72894409419112,
          16.477941432009743,
          17.22693876982837,
          17.975936107646994,
          18.724933445465616,
          19.473930783284242,
          20.222928121102868,
          20.97192545892149,
          21.720922796740116
         ],
         "y": [
          27.732072004286895,
          26.67300960551344,
          22.57754757307196,
          21.2531017418763,
          17.18264068258876,
          18.986201775316697,
          17.12992410869335,
          15.8869477117682,
          17.271264712163557,
          15.107079847946387,
          18.01691557266398,
          16.00442331764678,
          17.981873647083635,
          18.769324363146435,
          17.43176062920669,
          20.78669021436527,
          17.59492567678659,
          20.44804278085326,
          19.488618885807224,
          19.798786019971843,
          20.269345276588172,
          19.409377321636264,
          21.31466302499123,
          20.366162463128372,
          22.346207175595435,
          22.01613176554949,
          21.72836586963508,
          23.142123118244555,
          19.247422357688933,
          20.10045663007134
         ]
        },
        {
         "line": {
          "color": "red"
         },
         "mode": "lines",
         "name": "Trade",
         "showlegend": true,
         "type": "scatter",
         "x": [
          0,
          0.7489973378186248,
          1.4979946756372495,
          2.2469920134558743,
          2.995989351274499,
          3.744986689093124,
          4.493984026911749,
          5.2429813647303725,
          5.991978702548998,
          6.740976040367623,
          7.489973378186248,
          8.238970716004872,
          8.987968053823497,
          9.736965391642121,
          10.485962729460745,
          11.23496006727937,
          21.720922796740116
         ],
         "y": [
          4.968661350707289,
          1.4012450508973382,
          1.6790651131973506,
          1.0536785831212196,
          1.0119496496650404,
          1.075499456548639,
          0.9853791258686525,
          1.0770166587120895,
          1.071857001311732,
          1.1434952025547396,
          1.2108100582452743,
          1.1831645640081598,
          1.3657616718067576,
          1.393562175285202,
          1.4336045948544645,
          1.6212890799347162,
          3.296648648305647
         ]
        },
        {
         "line": {
          "width": 0
         },
         "mode": "lines",
         "name": "Trade Upper CI",
         "showlegend": false,
         "type": "scatter",
         "x": [
          0,
          0.7489973378186248,
          1.4979946756372495,
          2.2469920134558743,
          2.995989351274499,
          3.744986689093124,
          4.493984026911749,
          5.2429813647303725,
          5.991978702548998,
          6.740976040367623,
          7.489973378186248,
          8.238970716004872,
          8.987968053823497,
          9.736965391642121,
          10.485962729460745,
          11.23496006727937,
          21.720922796740116
         ],
         "y": [
          4.968681152343434,
          1.4012498981182666,
          1.6790730814874626,
          1.053682635786164,
          1.0119559063117631,
          1.0755061258971386,
          0.9853872041168154,
          1.0770276767455476,
          1.0718681887751835,
          1.1435112721036387,
          1.2108257014232178,
          1.1831847934886233,
          1.3657855022784224,
          1.393585774932992,
          1.4336359152976024,
          1.6213198285976247,
          3.2967387426142998
         ]
        },
        {
         "fill": "tonexty",
         "fillcolor": "rgba(255, 0, 0, 0.2)",
         "line": {
          "width": 0
         },
         "mode": "lines",
         "name": "Trade Lower CI",
         "showlegend": false,
         "type": "scatter",
         "x": [
          0,
          0.7489973378186248,
          1.4979946756372495,
          2.2469920134558743,
          2.995989351274499,
          3.744986689093124,
          4.493984026911749,
          5.2429813647303725,
          5.991978702548998,
          6.740976040367623,
          7.489973378186248,
          8.238970716004872,
          8.987968053823497,
          9.736965391642121,
          10.485962729460745,
          11.23496006727937,
          21.720922796740116
         ],
         "y": [
          4.968641549071144,
          1.4012402036764098,
          1.6790571449072387,
          1.0536745304562753,
          1.0119433930183177,
          1.0754927872001396,
          0.9853710476204897,
          1.0770056406786315,
          1.0718458138482803,
          1.1434791330058405,
          1.2107944150673309,
          1.1831443345276964,
          1.3657378413350927,
          1.3935385756374121,
          1.4335732744113265,
          1.6212583312718076,
          3.2965585539969946
         ]
        }
       ],
       "layout": {
        "showlegend": true,
        "template": {
         "data": {
          "bar": [
           {
            "error_x": {
             "color": "#2a3f5f"
            },
            "error_y": {
             "color": "#2a3f5f"
            },
            "marker": {
             "line": {
              "color": "#E5ECF6",
              "width": 0.5
             },
             "pattern": {
              "fillmode": "overlay",
              "size": 10,
              "solidity": 0.2
             }
            },
            "type": "bar"
           }
          ],
          "barpolar": [
           {
            "marker": {
             "line": {
              "color": "#E5ECF6",
              "width": 0.5
             },
             "pattern": {
              "fillmode": "overlay",
              "size": 10,
              "solidity": 0.2
             }
            },
            "type": "barpolar"
           }
          ],
          "carpet": [
           {
            "aaxis": {
             "endlinecolor": "#2a3f5f",
             "gridcolor": "white",
             "linecolor": "white",
             "minorgridcolor": "white",
             "startlinecolor": "#2a3f5f"
            },
            "baxis": {
             "endlinecolor": "#2a3f5f",
             "gridcolor": "white",
             "linecolor": "white",
             "minorgridcolor": "white",
             "startlinecolor": "#2a3f5f"
            },
            "type": "carpet"
           }
          ],
          "choropleth": [
           {
            "colorbar": {
             "outlinewidth": 0,
             "ticks": ""
            },
            "type": "choropleth"
           }
          ],
          "contour": [
           {
            "colorbar": {
             "outlinewidth": 0,
             "ticks": ""
            },
            "colorscale": [
             [
              0,
              "#0d0887"
             ],
             [
              0.1111111111111111,
              "#46039f"
             ],
             [
              0.2222222222222222,
              "#7201a8"
             ],
             [
              0.3333333333333333,
              "#9c179e"
             ],
             [
              0.4444444444444444,
              "#bd3786"
             ],
             [
              0.5555555555555556,
              "#d8576b"
             ],
             [
              0.6666666666666666,
              "#ed7953"
             ],
             [
              0.7777777777777778,
              "#fb9f3a"
             ],
             [
              0.8888888888888888,
              "#fdca26"
             ],
             [
              1,
              "#f0f921"
             ]
            ],
            "type": "contour"
           }
          ],
          "contourcarpet": [
           {
            "colorbar": {
             "outlinewidth": 0,
             "ticks": ""
            },
            "type": "contourcarpet"
           }
          ],
          "heatmap": [
           {
            "colorbar": {
             "outlinewidth": 0,
             "ticks": ""
            },
            "colorscale": [
             [
              0,
              "#0d0887"
             ],
             [
              0.1111111111111111,
              "#46039f"
             ],
             [
              0.2222222222222222,
              "#7201a8"
             ],
             [
              0.3333333333333333,
              "#9c179e"
             ],
             [
              0.4444444444444444,
              "#bd3786"
             ],
             [
              0.5555555555555556,
              "#d8576b"
             ],
             [
              0.6666666666666666,
              "#ed7953"
             ],
             [
              0.7777777777777778,
              "#fb9f3a"
             ],
             [
              0.8888888888888888,
              "#fdca26"
             ],
             [
              1,
              "#f0f921"
             ]
            ],
            "type": "heatmap"
           }
          ],
          "heatmapgl": [
           {
            "colorbar": {
             "outlinewidth": 0,
             "ticks": ""
            },
            "colorscale": [
             [
              0,
              "#0d0887"
             ],
             [
              0.1111111111111111,
              "#46039f"
             ],
             [
              0.2222222222222222,
              "#7201a8"
             ],
             [
              0.3333333333333333,
              "#9c179e"
             ],
             [
              0.4444444444444444,
              "#bd3786"
             ],
             [
              0.5555555555555556,
              "#d8576b"
             ],
             [
              0.6666666666666666,
              "#ed7953"
             ],
             [
              0.7777777777777778,
              "#fb9f3a"
             ],
             [
              0.8888888888888888,
              "#fdca26"
             ],
             [
              1,
              "#f0f921"
             ]
            ],
            "type": "heatmapgl"
           }
          ],
          "histogram": [
           {
            "marker": {
             "pattern": {
              "fillmode": "overlay",
              "size": 10,
              "solidity": 0.2
             }
            },
            "type": "histogram"
           }
          ],
          "histogram2d": [
           {
            "colorbar": {
             "outlinewidth": 0,
             "ticks": ""
            },
            "colorscale": [
             [
              0,
              "#0d0887"
             ],
             [
              0.1111111111111111,
              "#46039f"
             ],
             [
              0.2222222222222222,
              "#7201a8"
             ],
             [
              0.3333333333333333,
              "#9c179e"
             ],
             [
              0.4444444444444444,
              "#bd3786"
             ],
             [
              0.5555555555555556,
              "#d8576b"
             ],
             [
              0.6666666666666666,
              "#ed7953"
             ],
             [
              0.7777777777777778,
              "#fb9f3a"
             ],
             [
              0.8888888888888888,
              "#fdca26"
             ],
             [
              1,
              "#f0f921"
             ]
            ],
            "type": "histogram2d"
           }
          ],
          "histogram2dcontour": [
           {
            "colorbar": {
             "outlinewidth": 0,
             "ticks": ""
            },
            "colorscale": [
             [
              0,
              "#0d0887"
             ],
             [
              0.1111111111111111,
              "#46039f"
             ],
             [
              0.2222222222222222,
              "#7201a8"
             ],
             [
              0.3333333333333333,
              "#9c179e"
             ],
             [
              0.4444444444444444,
              "#bd3786"
             ],
             [
              0.5555555555555556,
              "#d8576b"
             ],
             [
              0.6666666666666666,
              "#ed7953"
             ],
             [
              0.7777777777777778,
              "#fb9f3a"
             ],
             [
              0.8888888888888888,
              "#fdca26"
             ],
             [
              1,
              "#f0f921"
             ]
            ],
            "type": "histogram2dcontour"
           }
          ],
          "mesh3d": [
           {
            "colorbar": {
             "outlinewidth": 0,
             "ticks": ""
            },
            "type": "mesh3d"
           }
          ],
          "parcoords": [
           {
            "line": {
             "colorbar": {
              "outlinewidth": 0,
              "ticks": ""
             }
            },
            "type": "parcoords"
           }
          ],
          "pie": [
           {
            "automargin": true,
            "type": "pie"
           }
          ],
          "scatter": [
           {
            "fillpattern": {
             "fillmode": "overlay",
             "size": 10,
             "solidity": 0.2
            },
            "type": "scatter"
           }
          ],
          "scatter3d": [
           {
            "line": {
             "colorbar": {
              "outlinewidth": 0,
              "ticks": ""
             }
            },
            "marker": {
             "colorbar": {
              "outlinewidth": 0,
              "ticks": ""
             }
            },
            "type": "scatter3d"
           }
          ],
          "scattercarpet": [
           {
            "marker": {
             "colorbar": {
              "outlinewidth": 0,
              "ticks": ""
             }
            },
            "type": "scattercarpet"
           }
          ],
          "scattergeo": [
           {
            "marker": {
             "colorbar": {
              "outlinewidth": 0,
              "ticks": ""
             }
            },
            "type": "scattergeo"
           }
          ],
          "scattergl": [
           {
            "marker": {
             "colorbar": {
              "outlinewidth": 0,
              "ticks": ""
             }
            },
            "type": "scattergl"
           }
          ],
          "scattermapbox": [
           {
            "marker": {
             "colorbar": {
              "outlinewidth": 0,
              "ticks": ""
             }
            },
            "type": "scattermapbox"
           }
          ],
          "scatterpolar": [
           {
            "marker": {
             "colorbar": {
              "outlinewidth": 0,
              "ticks": ""
             }
            },
            "type": "scatterpolar"
           }
          ],
          "scatterpolargl": [
           {
            "marker": {
             "colorbar": {
              "outlinewidth": 0,
              "ticks": ""
             }
            },
            "type": "scatterpolargl"
           }
          ],
          "scatterternary": [
           {
            "marker": {
             "colorbar": {
              "outlinewidth": 0,
              "ticks": ""
             }
            },
            "type": "scatterternary"
           }
          ],
          "surface": [
           {
            "colorbar": {
             "outlinewidth": 0,
             "ticks": ""
            },
            "colorscale": [
             [
              0,
              "#0d0887"
             ],
             [
              0.1111111111111111,
              "#46039f"
             ],
             [
              0.2222222222222222,
              "#7201a8"
             ],
             [
              0.3333333333333333,
              "#9c179e"
             ],
             [
              0.4444444444444444,
              "#bd3786"
             ],
             [
              0.5555555555555556,
              "#d8576b"
             ],
             [
              0.6666666666666666,
              "#ed7953"
             ],
             [
              0.7777777777777778,
              "#fb9f3a"
             ],
             [
              0.8888888888888888,
              "#fdca26"
             ],
             [
              1,
              "#f0f921"
             ]
            ],
            "type": "surface"
           }
          ],
          "table": [
           {
            "cells": {
             "fill": {
              "color": "#EBF0F8"
             },
             "line": {
              "color": "white"
             }
            },
            "header": {
             "fill": {
              "color": "#C8D4E3"
             },
             "line": {
              "color": "white"
             }
            },
            "type": "table"
           }
          ]
         },
         "layout": {
          "annotationdefaults": {
           "arrowcolor": "#2a3f5f",
           "arrowhead": 0,
           "arrowwidth": 1
          },
          "autotypenumbers": "strict",
          "coloraxis": {
           "colorbar": {
            "outlinewidth": 0,
            "ticks": ""
           }
          },
          "colorscale": {
           "diverging": [
            [
             0,
             "#8e0152"
            ],
            [
             0.1,
             "#c51b7d"
            ],
            [
             0.2,
             "#de77ae"
            ],
            [
             0.3,
             "#f1b6da"
            ],
            [
             0.4,
             "#fde0ef"
            ],
            [
             0.5,
             "#f7f7f7"
            ],
            [
             0.6,
             "#e6f5d0"
            ],
            [
             0.7,
             "#b8e186"
            ],
            [
             0.8,
             "#7fbc41"
            ],
            [
             0.9,
             "#4d9221"
            ],
            [
             1,
             "#276419"
            ]
           ],
           "sequential": [
            [
             0,
             "#0d0887"
            ],
            [
             0.1111111111111111,
             "#46039f"
            ],
            [
             0.2222222222222222,
             "#7201a8"
            ],
            [
             0.3333333333333333,
             "#9c179e"
            ],
            [
             0.4444444444444444,
             "#bd3786"
            ],
            [
             0.5555555555555556,
             "#d8576b"
            ],
            [
             0.6666666666666666,
             "#ed7953"
            ],
            [
             0.7777777777777778,
             "#fb9f3a"
            ],
            [
             0.8888888888888888,
             "#fdca26"
            ],
            [
             1,
             "#f0f921"
            ]
           ],
           "sequentialminus": [
            [
             0,
             "#0d0887"
            ],
            [
             0.1111111111111111,
             "#46039f"
            ],
            [
             0.2222222222222222,
             "#7201a8"
            ],
            [
             0.3333333333333333,
             "#9c179e"
            ],
            [
             0.4444444444444444,
             "#bd3786"
            ],
            [
             0.5555555555555556,
             "#d8576b"
            ],
            [
             0.6666666666666666,
             "#ed7953"
            ],
            [
             0.7777777777777778,
             "#fb9f3a"
            ],
            [
             0.8888888888888888,
             "#fdca26"
            ],
            [
             1,
             "#f0f921"
            ]
           ]
          },
          "colorway": [
           "#636efa",
           "#EF553B",
           "#00cc96",
           "#ab63fa",
           "#FFA15A",
           "#19d3f3",
           "#FF6692",
           "#B6E880",
           "#FF97FF",
           "#FECB52"
          ],
          "font": {
           "color": "#2a3f5f"
          },
          "geo": {
           "bgcolor": "white",
           "lakecolor": "white",
           "landcolor": "#E5ECF6",
           "showlakes": true,
           "showland": true,
           "subunitcolor": "white"
          },
          "hoverlabel": {
           "align": "left"
          },
          "hovermode": "closest",
          "mapbox": {
           "style": "light"
          },
          "paper_bgcolor": "white",
          "plot_bgcolor": "#E5ECF6",
          "polar": {
           "angularaxis": {
            "gridcolor": "white",
            "linecolor": "white",
            "ticks": ""
           },
           "bgcolor": "#E5ECF6",
           "radialaxis": {
            "gridcolor": "white",
            "linecolor": "white",
            "ticks": ""
           }
          },
          "scene": {
           "xaxis": {
            "backgroundcolor": "#E5ECF6",
            "gridcolor": "white",
            "gridwidth": 2,
            "linecolor": "white",
            "showbackground": true,
            "ticks": "",
            "zerolinecolor": "white"
           },
           "yaxis": {
            "backgroundcolor": "#E5ECF6",
            "gridcolor": "white",
            "gridwidth": 2,
            "linecolor": "white",
            "showbackground": true,
            "ticks": "",
            "zerolinecolor": "white"
           },
           "zaxis": {
            "backgroundcolor": "#E5ECF6",
            "gridcolor": "white",
            "gridwidth": 2,
            "linecolor": "white",
            "showbackground": true,
            "ticks": "",
            "zerolinecolor": "white"
           }
          },
          "shapedefaults": {
           "line": {
            "color": "#2a3f5f"
           }
          },
          "ternary": {
           "aaxis": {
            "gridcolor": "white",
            "linecolor": "white",
            "ticks": ""
           },
           "baxis": {
            "gridcolor": "white",
            "linecolor": "white",
            "ticks": ""
           },
           "bgcolor": "#E5ECF6",
           "caxis": {
            "gridcolor": "white",
            "linecolor": "white",
            "ticks": ""
           }
          },
          "title": {
           "x": 0.05
          },
          "xaxis": {
           "automargin": true,
           "gridcolor": "white",
           "linecolor": "white",
           "ticks": "",
           "title": {
            "standoff": 15
           },
           "zerolinecolor": "white",
           "zerolinewidth": 2
          },
          "yaxis": {
           "automargin": true,
           "gridcolor": "white",
           "linecolor": "white",
           "ticks": "",
           "title": {
            "standoff": 15
           },
           "zerolinecolor": "white",
           "zerolinewidth": 2
          }
         }
        },
        "title": {
         "text": "Intensité par Queue size avec intervalles d'incertitude"
        },
        "xaxis": {
         "title": {
          "text": "Size (par Mean Event Size)"
         }
        },
        "yaxis": {
         "title": {
          "text": "Intensity (num par sec)"
         }
        }
       }
      }
     },
     "metadata": {},
     "output_type": "display_data"
    }
   ],
   "source": [
    "Add = []\n",
    "Cancel = []\n",
    "Trade = []\n",
    "sizes_add = []\n",
    "sizes_cancel = []\n",
    "sizes_trade = []\n",
    "threshold = 100\n",
    "\n",
    "#dic = remove_nan_from_dico(dic)\n",
    "average_sizes = compute_means(dic)\n",
    "intensities = dict(sorted(dic.items()))\n",
    "intensities = filtrage(intensities, 30, threshold=1000)\n",
    "\n",
    "threshold_trade = 10000\n",
    "threshold = 1000\n",
    "\n",
    "quarter_add = []\n",
    "quarter_cancel = []\n",
    "quarter_trade = []\n",
    "\n",
    "for i in intensities:\n",
    "    tab = np.concatenate((intensities[i][0], intensities[i][1], intensities[i][2]))\n",
    "    if (len(intensities[i][0])>threshold):\n",
    "            Add.append(1/np.mean(tab)*len(intensities[i][0])/len(tab))\n",
    "            quarter_add.append(np.var(tab)*1/np.mean(tab)*len(intensities[i][0])/len(tab)*1/np.sqrt(len(tab)))\n",
    "            sizes_add.append(i)\n",
    "    if len(intensities[i][1])!=0:\n",
    "        if (len(intensities[i][1])>threshold):\n",
    "            Cancel.append(1/np.mean(tab)*len(intensities[i][1])/len(tab))\n",
    "            quarter_cancel.append(np.var(tab)*1/np.mean(tab)*len(intensities[i][1])/len(tab)*1/np.sqrt(len(tab)))\n",
    "            sizes_cancel.append(i)\n",
    "    if len(intensities[i][2])!=0:\n",
    "        if (len(intensities[i][2])>threshold_trade):\n",
    "            Trade.append(1/np.mean(tab)*len(intensities[i][2])/len(tab))\n",
    "            quarter_trade.append(np.var(tab)*1/np.mean(tab)*len(intensities[i][2])/len(tab)*1/np.sqrt(len(tab)))\n",
    "            sizes_trade.append(i)\n",
    "\n",
    "fig = go.Figure()\n",
    "\n",
    "fig.add_trace(go.Scatter(x=sizes_add/np.mean(average_event_size),y=Add,mode='lines',name='Add',showlegend=True,line=dict(color='blue')))\n",
    "fig.add_trace(go.Scatter(x=sizes_add/np.mean(average_event_size),y=np.array(Add)+1.96*np.array(quarter_add),mode='lines',name='Add Upper CI',line=dict(width=0),fill=None,showlegend=False))\n",
    "fig.add_trace(go.Scatter(x=sizes_add/np.mean(average_event_size),y=np.array(Add)-1.96*np.array(quarter_add),mode='lines',name='Add Lower CI',fill='tonexty',line=dict(width=0),fillcolor='rgba(0, 0, 255, 0.2)',showlegend=False))\n",
    "\n",
    "fig.add_trace(go.Scatter(x=sizes_cancel/np.mean(average_event_size),y=Cancel,mode='lines',name='Cancel',showlegend=True,line=dict(color='green')))\n",
    "fig.add_trace(go.Scatter(x=sizes_cancel/np.mean(average_event_size),y=np.array(Cancel)+1.96*np.array(quarter_cancel),mode='lines',name='Cancel Upper CI',line=dict(width=0),fill=None,showlegend=False))\n",
    "fig.add_trace(go.Scatter(x=sizes_cancel/np.mean(average_event_size),y=np.array(Cancel)-1.96*np.array(quarter_cancel),mode='lines',name='Cancel Lower CI',fill='tonexty',line=dict(width=0),fillcolor='rgba(0, 255, 0, 0.2)',showlegend=False))\n",
    "\n",
    "fig.add_trace(go.Scatter(x=sizes_trade/np.mean(average_event_size),y=Trade,mode='lines',name='Trade',showlegend=True,line=dict(color='red')))\n",
    "fig.add_trace(go.Scatter(x=sizes_trade/np.mean(average_event_size),y=np.array(Trade)+1.96*np.array(quarter_trade),mode='lines',name='Trade Upper CI',line=dict(width=0),fill=None,showlegend=False))\n",
    "fig.add_trace(go.Scatter(x=sizes_trade/np.mean(average_event_size),y=np.array(Trade)-1.96*np.array(quarter_trade),mode='lines',name='Trade Lower CI',fill='tonexty',line=dict(width=0),fillcolor='rgba(255, 0, 0, 0.2)',showlegend=False))\n",
    "\n",
    "fig.update_layout(title=\"Intensité par Queue size avec intervalles d'incertitude\",xaxis_title='Size (par Mean Event Size)',yaxis_title='Intensity (num par sec)',showlegend=True)\n",
    "fig.show()"
   ]
  },
  {
   "cell_type": "code",
   "execution_count": 18,
   "metadata": {},
   "outputs": [
    {
     "name": "stderr",
     "output_type": "stream",
     "text": [
      "100%|██████████| 65/65 [03:41<00:00,  3.41s/it]\n"
     ]
    }
   ],
   "source": [
    "dic = {}\n",
    "\n",
    "average_event_size = []\n",
    "for f in tqdm(files_csv):\n",
    "    df = pd.read_csv(f)\n",
    "    #df['time_diff'] = df['time_diff']*1.0 # pour le modif en float c'est un timedelta là\n",
    "    sizes = np.unique(np.array((np.unique(df['bid_sz_00'].to_numpy())).tolist() + (np.unique(df['ask_sz_00'].to_numpy())).tolist()))\n",
    "    sizes.sort()\n",
    "    dic = dico_queue_size(sizes, dic)  # Add, Cancel, Trade\n",
    "    \n",
    "    for row in df.itertuples():\n",
    "        average_event_size.append(row.size)\n",
    "        if row.side == 'A':\n",
    "            taille = row.ask_sz_00\n",
    "        elif row.side == 'B':\n",
    "            taille = row.bid_sz_00\n",
    "        if row.action == 'A':\n",
    "            dic[taille][0].append(row.imbalance)\n",
    "        elif row.action == 'C':\n",
    "            dic[taille][1].append(row.imbalance)\n",
    "        elif row.action == 'T':\n",
    "            dic[taille][2].append(row.imbalance)"
   ]
  },
  {
   "cell_type": "code",
   "execution_count": 19,
   "metadata": {},
   "outputs": [
    {
     "data": {
      "application/vnd.plotly.v1+json": {
       "config": {
        "plotlyServerURL": "https://plot.ly"
       },
       "data": [
        {
         "line": {
          "color": "blue"
         },
         "mode": "lines",
         "name": "Add",
         "showlegend": true,
         "type": "scatter",
         "x": [
          0,
          1.3199543248442978,
          2.6399086496885955,
          3.9598629745328933,
          5.279817299377191,
          6.599771624221489,
          7.9197259490657865,
          9.239680273910084,
          10.559634598754382,
          11.87958892359868,
          13.199543248442978,
          14.519497573287275,
          15.839451898131573,
          17.15940622297587,
          18.479360547820168,
          19.799314872664464,
          21.119269197508764,
          22.43922352235306,
          23.75917784719736,
          25.079132172041657,
          26.399086496885957,
          27.71904082173025,
          29.03899514657455,
          30.358949471418846,
          31.678903796263146,
          32.998858121107446,
          34.31881244595174,
          35.63876677079604,
          36.958721095640335,
          38.27867542048463
         ],
         "y": [
          0.05988215243929438,
          0.012290673676518059,
          0.00868687372103532,
          0.012484480484849616,
          0.014306376915147806,
          0.011230046992397427,
          0.016744217464262863,
          0.01933165975434581,
          0.016425327436008847,
          0.015197896397861763,
          0.023001941206697674,
          0.014110393337925818,
          0.003551945166763422,
          0.00015121907075928357,
          -0.0033596399774266546,
          -0.017486464522503676,
          -0.01788530637019079,
          -0.02090357144114365,
          -0.03173367106413666,
          -0.03847332073477188,
          -0.03545996804510241,
          -0.01658364043729321,
          -0.028421816230182025,
          -0.0355220666099249,
          -0.016785317905054793,
          -0.012749296928695704,
          -0.0019621107848311605,
          -0.0444561174084786,
          -0.020678734485347617,
          0.01732683166216309
         ]
        },
        {
         "line": {
          "color": "green"
         },
         "mode": "lines",
         "name": "Cancel",
         "showlegend": true,
         "type": "scatter",
         "x": [
          0,
          1.3199543248442978,
          2.6399086496885955,
          3.9598629745328933,
          5.279817299377191,
          6.599771624221489,
          7.9197259490657865,
          9.239680273910084,
          10.559634598754382,
          11.87958892359868,
          13.199543248442978,
          14.519497573287275,
          15.839451898131573,
          17.15940622297587,
          18.479360547820168,
          19.799314872664464,
          21.119269197508764,
          22.43922352235306,
          23.75917784719736,
          25.079132172041657,
          26.399086496885957,
          27.71904082173025,
          29.03899514657455,
          30.358949471418846,
          31.678903796263146,
          32.998858121107446,
          34.31881244595174,
          35.63876677079604,
          36.958721095640335,
          38.27867542048463
         ],
         "y": [
          0.08313668321782117,
          0.011825161622105491,
          0.006557059731736929,
          0.009284488862199559,
          0.009267526858914452,
          0.0068077098877046905,
          0.010280901789290031,
          0.012048806877513576,
          0.009588612971491401,
          0.008440827479590263,
          0.01318645842714853,
          0.008093811058323937,
          0.001987211890099004,
          0.00008567249533934973,
          -0.0021215685688356074,
          -0.01131931449389228,
          -0.011033506803505552,
          -0.012488433212074858,
          -0.01993535158223509,
          -0.023470346045731262,
          -0.021649071399940233,
          -0.010437582067866475,
          -0.019227453630106434,
          -0.022422753398320908,
          -0.011715957633922233,
          -0.008972147571706673,
          -0.0013303172341460568,
          -0.03525515868254348,
          -0.01498712996782563,
          0.014447157333712882
         ]
        },
        {
         "line": {
          "color": "red"
         },
         "mode": "lines",
         "name": "Trade",
         "showlegend": true,
         "type": "scatter",
         "x": [
          0,
          1.3199543248442978,
          2.6399086496885955,
          3.9598629745328933,
          5.279817299377191,
          6.599771624221489,
          7.9197259490657865,
          9.239680273910084,
          10.559634598754382,
          11.87958892359868,
          13.199543248442978
         ],
         "y": [
          0.011072602644339173,
          0.0007288708056018518,
          0.00035047577551897927,
          0.0005317532867155598,
          0.0006016976637054609,
          0.000467333137292971,
          0.0007304307330227322,
          0.000907304098440518,
          0.0007723116956854841,
          0.0006705301692063563,
          0.001078289656674092
         ]
        }
       ],
       "layout": {
        "showlegend": true,
        "template": {
         "data": {
          "bar": [
           {
            "error_x": {
             "color": "#2a3f5f"
            },
            "error_y": {
             "color": "#2a3f5f"
            },
            "marker": {
             "line": {
              "color": "#E5ECF6",
              "width": 0.5
             },
             "pattern": {
              "fillmode": "overlay",
              "size": 10,
              "solidity": 0.2
             }
            },
            "type": "bar"
           }
          ],
          "barpolar": [
           {
            "marker": {
             "line": {
              "color": "#E5ECF6",
              "width": 0.5
             },
             "pattern": {
              "fillmode": "overlay",
              "size": 10,
              "solidity": 0.2
             }
            },
            "type": "barpolar"
           }
          ],
          "carpet": [
           {
            "aaxis": {
             "endlinecolor": "#2a3f5f",
             "gridcolor": "white",
             "linecolor": "white",
             "minorgridcolor": "white",
             "startlinecolor": "#2a3f5f"
            },
            "baxis": {
             "endlinecolor": "#2a3f5f",
             "gridcolor": "white",
             "linecolor": "white",
             "minorgridcolor": "white",
             "startlinecolor": "#2a3f5f"
            },
            "type": "carpet"
           }
          ],
          "choropleth": [
           {
            "colorbar": {
             "outlinewidth": 0,
             "ticks": ""
            },
            "type": "choropleth"
           }
          ],
          "contour": [
           {
            "colorbar": {
             "outlinewidth": 0,
             "ticks": ""
            },
            "colorscale": [
             [
              0,
              "#0d0887"
             ],
             [
              0.1111111111111111,
              "#46039f"
             ],
             [
              0.2222222222222222,
              "#7201a8"
             ],
             [
              0.3333333333333333,
              "#9c179e"
             ],
             [
              0.4444444444444444,
              "#bd3786"
             ],
             [
              0.5555555555555556,
              "#d8576b"
             ],
             [
              0.6666666666666666,
              "#ed7953"
             ],
             [
              0.7777777777777778,
              "#fb9f3a"
             ],
             [
              0.8888888888888888,
              "#fdca26"
             ],
             [
              1,
              "#f0f921"
             ]
            ],
            "type": "contour"
           }
          ],
          "contourcarpet": [
           {
            "colorbar": {
             "outlinewidth": 0,
             "ticks": ""
            },
            "type": "contourcarpet"
           }
          ],
          "heatmap": [
           {
            "colorbar": {
             "outlinewidth": 0,
             "ticks": ""
            },
            "colorscale": [
             [
              0,
              "#0d0887"
             ],
             [
              0.1111111111111111,
              "#46039f"
             ],
             [
              0.2222222222222222,
              "#7201a8"
             ],
             [
              0.3333333333333333,
              "#9c179e"
             ],
             [
              0.4444444444444444,
              "#bd3786"
             ],
             [
              0.5555555555555556,
              "#d8576b"
             ],
             [
              0.6666666666666666,
              "#ed7953"
             ],
             [
              0.7777777777777778,
              "#fb9f3a"
             ],
             [
              0.8888888888888888,
              "#fdca26"
             ],
             [
              1,
              "#f0f921"
             ]
            ],
            "type": "heatmap"
           }
          ],
          "heatmapgl": [
           {
            "colorbar": {
             "outlinewidth": 0,
             "ticks": ""
            },
            "colorscale": [
             [
              0,
              "#0d0887"
             ],
             [
              0.1111111111111111,
              "#46039f"
             ],
             [
              0.2222222222222222,
              "#7201a8"
             ],
             [
              0.3333333333333333,
              "#9c179e"
             ],
             [
              0.4444444444444444,
              "#bd3786"
             ],
             [
              0.5555555555555556,
              "#d8576b"
             ],
             [
              0.6666666666666666,
              "#ed7953"
             ],
             [
              0.7777777777777778,
              "#fb9f3a"
             ],
             [
              0.8888888888888888,
              "#fdca26"
             ],
             [
              1,
              "#f0f921"
             ]
            ],
            "type": "heatmapgl"
           }
          ],
          "histogram": [
           {
            "marker": {
             "pattern": {
              "fillmode": "overlay",
              "size": 10,
              "solidity": 0.2
             }
            },
            "type": "histogram"
           }
          ],
          "histogram2d": [
           {
            "colorbar": {
             "outlinewidth": 0,
             "ticks": ""
            },
            "colorscale": [
             [
              0,
              "#0d0887"
             ],
             [
              0.1111111111111111,
              "#46039f"
             ],
             [
              0.2222222222222222,
              "#7201a8"
             ],
             [
              0.3333333333333333,
              "#9c179e"
             ],
             [
              0.4444444444444444,
              "#bd3786"
             ],
             [
              0.5555555555555556,
              "#d8576b"
             ],
             [
              0.6666666666666666,
              "#ed7953"
             ],
             [
              0.7777777777777778,
              "#fb9f3a"
             ],
             [
              0.8888888888888888,
              "#fdca26"
             ],
             [
              1,
              "#f0f921"
             ]
            ],
            "type": "histogram2d"
           }
          ],
          "histogram2dcontour": [
           {
            "colorbar": {
             "outlinewidth": 0,
             "ticks": ""
            },
            "colorscale": [
             [
              0,
              "#0d0887"
             ],
             [
              0.1111111111111111,
              "#46039f"
             ],
             [
              0.2222222222222222,
              "#7201a8"
             ],
             [
              0.3333333333333333,
              "#9c179e"
             ],
             [
              0.4444444444444444,
              "#bd3786"
             ],
             [
              0.5555555555555556,
              "#d8576b"
             ],
             [
              0.6666666666666666,
              "#ed7953"
             ],
             [
              0.7777777777777778,
              "#fb9f3a"
             ],
             [
              0.8888888888888888,
              "#fdca26"
             ],
             [
              1,
              "#f0f921"
             ]
            ],
            "type": "histogram2dcontour"
           }
          ],
          "mesh3d": [
           {
            "colorbar": {
             "outlinewidth": 0,
             "ticks": ""
            },
            "type": "mesh3d"
           }
          ],
          "parcoords": [
           {
            "line": {
             "colorbar": {
              "outlinewidth": 0,
              "ticks": ""
             }
            },
            "type": "parcoords"
           }
          ],
          "pie": [
           {
            "automargin": true,
            "type": "pie"
           }
          ],
          "scatter": [
           {
            "fillpattern": {
             "fillmode": "overlay",
             "size": 10,
             "solidity": 0.2
            },
            "type": "scatter"
           }
          ],
          "scatter3d": [
           {
            "line": {
             "colorbar": {
              "outlinewidth": 0,
              "ticks": ""
             }
            },
            "marker": {
             "colorbar": {
              "outlinewidth": 0,
              "ticks": ""
             }
            },
            "type": "scatter3d"
           }
          ],
          "scattercarpet": [
           {
            "marker": {
             "colorbar": {
              "outlinewidth": 0,
              "ticks": ""
             }
            },
            "type": "scattercarpet"
           }
          ],
          "scattergeo": [
           {
            "marker": {
             "colorbar": {
              "outlinewidth": 0,
              "ticks": ""
             }
            },
            "type": "scattergeo"
           }
          ],
          "scattergl": [
           {
            "marker": {
             "colorbar": {
              "outlinewidth": 0,
              "ticks": ""
             }
            },
            "type": "scattergl"
           }
          ],
          "scattermapbox": [
           {
            "marker": {
             "colorbar": {
              "outlinewidth": 0,
              "ticks": ""
             }
            },
            "type": "scattermapbox"
           }
          ],
          "scatterpolar": [
           {
            "marker": {
             "colorbar": {
              "outlinewidth": 0,
              "ticks": ""
             }
            },
            "type": "scatterpolar"
           }
          ],
          "scatterpolargl": [
           {
            "marker": {
             "colorbar": {
              "outlinewidth": 0,
              "ticks": ""
             }
            },
            "type": "scatterpolargl"
           }
          ],
          "scatterternary": [
           {
            "marker": {
             "colorbar": {
              "outlinewidth": 0,
              "ticks": ""
             }
            },
            "type": "scatterternary"
           }
          ],
          "surface": [
           {
            "colorbar": {
             "outlinewidth": 0,
             "ticks": ""
            },
            "colorscale": [
             [
              0,
              "#0d0887"
             ],
             [
              0.1111111111111111,
              "#46039f"
             ],
             [
              0.2222222222222222,
              "#7201a8"
             ],
             [
              0.3333333333333333,
              "#9c179e"
             ],
             [
              0.4444444444444444,
              "#bd3786"
             ],
             [
              0.5555555555555556,
              "#d8576b"
             ],
             [
              0.6666666666666666,
              "#ed7953"
             ],
             [
              0.7777777777777778,
              "#fb9f3a"
             ],
             [
              0.8888888888888888,
              "#fdca26"
             ],
             [
              1,
              "#f0f921"
             ]
            ],
            "type": "surface"
           }
          ],
          "table": [
           {
            "cells": {
             "fill": {
              "color": "#EBF0F8"
             },
             "line": {
              "color": "white"
             }
            },
            "header": {
             "fill": {
              "color": "#C8D4E3"
             },
             "line": {
              "color": "white"
             }
            },
            "type": "table"
           }
          ]
         },
         "layout": {
          "annotationdefaults": {
           "arrowcolor": "#2a3f5f",
           "arrowhead": 0,
           "arrowwidth": 1
          },
          "autotypenumbers": "strict",
          "coloraxis": {
           "colorbar": {
            "outlinewidth": 0,
            "ticks": ""
           }
          },
          "colorscale": {
           "diverging": [
            [
             0,
             "#8e0152"
            ],
            [
             0.1,
             "#c51b7d"
            ],
            [
             0.2,
             "#de77ae"
            ],
            [
             0.3,
             "#f1b6da"
            ],
            [
             0.4,
             "#fde0ef"
            ],
            [
             0.5,
             "#f7f7f7"
            ],
            [
             0.6,
             "#e6f5d0"
            ],
            [
             0.7,
             "#b8e186"
            ],
            [
             0.8,
             "#7fbc41"
            ],
            [
             0.9,
             "#4d9221"
            ],
            [
             1,
             "#276419"
            ]
           ],
           "sequential": [
            [
             0,
             "#0d0887"
            ],
            [
             0.1111111111111111,
             "#46039f"
            ],
            [
             0.2222222222222222,
             "#7201a8"
            ],
            [
             0.3333333333333333,
             "#9c179e"
            ],
            [
             0.4444444444444444,
             "#bd3786"
            ],
            [
             0.5555555555555556,
             "#d8576b"
            ],
            [
             0.6666666666666666,
             "#ed7953"
            ],
            [
             0.7777777777777778,
             "#fb9f3a"
            ],
            [
             0.8888888888888888,
             "#fdca26"
            ],
            [
             1,
             "#f0f921"
            ]
           ],
           "sequentialminus": [
            [
             0,
             "#0d0887"
            ],
            [
             0.1111111111111111,
             "#46039f"
            ],
            [
             0.2222222222222222,
             "#7201a8"
            ],
            [
             0.3333333333333333,
             "#9c179e"
            ],
            [
             0.4444444444444444,
             "#bd3786"
            ],
            [
             0.5555555555555556,
             "#d8576b"
            ],
            [
             0.6666666666666666,
             "#ed7953"
            ],
            [
             0.7777777777777778,
             "#fb9f3a"
            ],
            [
             0.8888888888888888,
             "#fdca26"
            ],
            [
             1,
             "#f0f921"
            ]
           ]
          },
          "colorway": [
           "#636efa",
           "#EF553B",
           "#00cc96",
           "#ab63fa",
           "#FFA15A",
           "#19d3f3",
           "#FF6692",
           "#B6E880",
           "#FF97FF",
           "#FECB52"
          ],
          "font": {
           "color": "#2a3f5f"
          },
          "geo": {
           "bgcolor": "white",
           "lakecolor": "white",
           "landcolor": "#E5ECF6",
           "showlakes": true,
           "showland": true,
           "subunitcolor": "white"
          },
          "hoverlabel": {
           "align": "left"
          },
          "hovermode": "closest",
          "mapbox": {
           "style": "light"
          },
          "paper_bgcolor": "white",
          "plot_bgcolor": "#E5ECF6",
          "polar": {
           "angularaxis": {
            "gridcolor": "white",
            "linecolor": "white",
            "ticks": ""
           },
           "bgcolor": "#E5ECF6",
           "radialaxis": {
            "gridcolor": "white",
            "linecolor": "white",
            "ticks": ""
           }
          },
          "scene": {
           "xaxis": {
            "backgroundcolor": "#E5ECF6",
            "gridcolor": "white",
            "gridwidth": 2,
            "linecolor": "white",
            "showbackground": true,
            "ticks": "",
            "zerolinecolor": "white"
           },
           "yaxis": {
            "backgroundcolor": "#E5ECF6",
            "gridcolor": "white",
            "gridwidth": 2,
            "linecolor": "white",
            "showbackground": true,
            "ticks": "",
            "zerolinecolor": "white"
           },
           "zaxis": {
            "backgroundcolor": "#E5ECF6",
            "gridcolor": "white",
            "gridwidth": 2,
            "linecolor": "white",
            "showbackground": true,
            "ticks": "",
            "zerolinecolor": "white"
           }
          },
          "shapedefaults": {
           "line": {
            "color": "#2a3f5f"
           }
          },
          "ternary": {
           "aaxis": {
            "gridcolor": "white",
            "linecolor": "white",
            "ticks": ""
           },
           "baxis": {
            "gridcolor": "white",
            "linecolor": "white",
            "ticks": ""
           },
           "bgcolor": "#E5ECF6",
           "caxis": {
            "gridcolor": "white",
            "linecolor": "white",
            "ticks": ""
           }
          },
          "title": {
           "x": 0.05
          },
          "xaxis": {
           "automargin": true,
           "gridcolor": "white",
           "linecolor": "white",
           "ticks": "",
           "title": {
            "standoff": 15
           },
           "zerolinecolor": "white",
           "zerolinewidth": 2
          },
          "yaxis": {
           "automargin": true,
           "gridcolor": "white",
           "linecolor": "white",
           "ticks": "",
           "title": {
            "standoff": 15
           },
           "zerolinecolor": "white",
           "zerolinewidth": 2
          }
         }
        },
        "title": {
         "text": "Queue size avec intervalles d'incertitude en fonction de l'imbalance"
        },
        "xaxis": {
         "title": {
          "text": "imbalance"
         }
        },
        "yaxis": {
         "title": {
          "text": "Size (par Mean Event Size)"
         }
        }
       }
      }
     },
     "metadata": {},
     "output_type": "display_data"
    }
   ],
   "source": [
    "Add = []\n",
    "Cancel = []\n",
    "Trade = []\n",
    "sizes_add = []\n",
    "sizes_cancel = []\n",
    "sizes_trade = []\n",
    "\n",
    "#dic = remove_nan_from_dico(dic)\n",
    "average_sizes = compute_means(dic)\n",
    "intensities = dict(sorted(dic.items()))\n",
    "intensities = filtrage(intensities, 30, threshold=100)\n",
    "\n",
    "threshold_trade = 10000\n",
    "threshold = 1000\n",
    "\n",
    "quarter_add = []\n",
    "quarter_cancel = []\n",
    "quarter_trade = []\n",
    "\n",
    "for i in intensities:\n",
    "    tab = np.concatenate((intensities[i][0], intensities[i][1], intensities[i][2]))\n",
    "    if (len(intensities[i][0])>threshold):\n",
    "            Add.append(np.mean(tab)*len(intensities[i][0])/len(tab))\n",
    "            quarter_add.append(np.var(tab)*1/np.mean(tab)*len(intensities[i][0])/len(tab)*1/np.sqrt(len(tab)))\n",
    "            sizes_add.append(i)\n",
    "    if len(intensities[i][1])!=0:\n",
    "        if (len(intensities[i][1])>threshold):\n",
    "            Cancel.append(np.mean(tab)*len(intensities[i][1])/len(tab))\n",
    "            quarter_cancel.append(np.var(tab)*1/np.mean(tab)*len(intensities[i][1])/len(tab)*1/np.sqrt(len(tab)))\n",
    "            sizes_cancel.append(i)\n",
    "    if len(intensities[i][2])!=0:\n",
    "        if (len(intensities[i][2])>threshold_trade):\n",
    "            Trade.append(np.mean(tab)*len(intensities[i][2])/len(tab))\n",
    "            quarter_trade.append(np.var(tab)*1/np.mean(tab)*len(intensities[i][2])/len(tab)*1/np.sqrt(len(tab)))\n",
    "            sizes_trade.append(i)\n",
    "\n",
    "fig = go.Figure()\n",
    "\n",
    "fig.add_trace(go.Scatter(x=sizes_add/np.mean(average_event_size),y=Add,mode='lines',name='Add',showlegend=True,line=dict(color='blue')))\n",
    "#fig.add_trace(go.Scatter(y=sizes_add/np.mean(average_event_size),x=np.array(Add)+1.96*np.array(quarter_add),mode='lines',name='Add Upper CI',line=dict(width=0),fill=None,showlegend=False))\n",
    "#fig.add_trace(go.Scatter(y=sizes_add/np.mean(average_event_size),x=np.array(Add)-1.96*np.array(quarter_add),mode='lines',name='Add Lower CI',fill='tonexty',line=dict(width=0),fillcolor='rgba(0, 0, 255, 0.2)',showlegend=False))\n",
    "\n",
    "fig.add_trace(go.Scatter(x=sizes_cancel/np.mean(average_event_size),y=Cancel,mode='lines',name='Cancel',showlegend=True,line=dict(color='green')))\n",
    "#fig.add_trace(go.Scatter(y=sizes_cancel/np.mean(average_event_size),x=np.array(Cancel)+1.96*np.array(quarter_cancel),mode='lines',name='Cancel Upper CI',line=dict(width=0),fill=None,showlegend=False))\n",
    "#fig.add_trace(go.Scatter(y=sizes_cancel/np.mean(average_event_size),x=np.array(Cancel)-1.96*np.array(quarter_cancel),mode='lines',name='Cancel Lower CI',fill='tonexty',line=dict(width=0),fillcolor='rgba(0, 255, 0, 0.2)',showlegend=False))\n",
    "\n",
    "fig.add_trace(go.Scatter(x=sizes_trade/np.mean(average_event_size),y=Trade,mode='lines',name='Trade',showlegend=True,line=dict(color='red')))\n",
    "#fig.add_trace(go.Scatter(y=sizes_trade/np.mean(average_event_size),x=np.array(Trade)+1.96*np.array(quarter_trade),mode='lines',name='Trade Upper CI',line=dict(width=0),fill=None,showlegend=False))\n",
    "#fig.add_trace(go.Scatter(y=sizes_trade/np.mean(average_event_size),x=np.array(Trade)-1.96*np.array(quarter_trade),mode='lines',name='Trade Lower CI',fill='tonexty',line=dict(width=0),fillcolor='rgba(255, 0, 0, 0.2)',showlegend=False))\n",
    "\n",
    "fig.update_layout(title=\"Queue size avec intervalles d'incertitude en fonction de l'imbalance\",xaxis_title='imbalance',yaxis_title='Size (par Mean Event Size)',showlegend=True)\n",
    "fig.show()"
   ]
  },
  {
   "cell_type": "code",
   "execution_count": 20,
   "metadata": {},
   "outputs": [
    {
     "name": "stderr",
     "output_type": "stream",
     "text": [
      "100%|██████████| 65/65 [02:34<00:00,  2.37s/it]"
     ]
    },
    {
     "name": "stdout",
     "output_type": "stream",
     "text": [
      "A quel point c'est long: 27793943\n"
     ]
    },
    {
     "name": "stderr",
     "output_type": "stream",
     "text": [
      "\n"
     ]
    }
   ],
   "source": [
    "queue_size_same_trade = np.array([])\n",
    "queue_size_opposite_trade = np.array([])\n",
    "time_trade = np.array([])\n",
    "\n",
    "queue_size_same_cancel = np.array([])\n",
    "queue_size_opposite_cancel = np.array([])\n",
    "time_cancel = np.array([])\n",
    "\n",
    "queue_size_same_add = np.array([])\n",
    "queue_size_opposite_add = np.array([])\n",
    "time_add = np.array([])\n",
    "\n",
    "limite = 0\n",
    "for f in tqdm(files_csv):\n",
    "    df = pd.read_csv(f)\n",
    "    df = df[:-100]\n",
    "    df_cancel = df[df['action'] == 'C']\n",
    "    df_cancel['ts_event'] = pd.to_datetime(df_cancel['ts_event'], errors='coerce')\n",
    "    df_cancel['seconds_since_start_of_day'] = (\n",
    "        df_cancel['ts_event'].dt.hour*3600+\n",
    "        df_cancel['ts_event'].dt.minute*60+\n",
    "        df_cancel['ts_event'].dt.second+\n",
    "        df_cancel['ts_event'].dt.microsecond/1e6\n",
    "    )\n",
    "    df_add = df[df['action'] == 'A']\n",
    "    df_add['ts_event'] = pd.to_datetime(df_add['ts_event'], errors='coerce')\n",
    "    df_add['seconds_since_start_of_day'] = (\n",
    "        df_add['ts_event'].dt.hour*3600+\n",
    "        df_add['ts_event'].dt.minute*60+\n",
    "        df_add['ts_event'].dt.second+\n",
    "        df_add['ts_event'].dt.microsecond/1e6\n",
    "    )\n",
    "    df_trade = df[df['action'] == 'T']\n",
    "    df_trade['ts_event'] = pd.to_datetime(df_trade['ts_event'], errors='coerce')\n",
    "    df_trade['seconds_since_start_of_day'] = (\n",
    "        df_trade['ts_event'].dt.hour*3600+\n",
    "        df_trade['ts_event'].dt.minute*60+\n",
    "        df_trade['ts_event'].dt.second+\n",
    "        df_trade['ts_event'].dt.microsecond/1e6\n",
    "    )\n",
    "\n",
    "    queue_size_same_trade = np.concatenate([queue_size_same_trade, df_trade['size_same'].to_numpy()])\n",
    "    queue_size_opposite_trade = np.concatenate([queue_size_opposite_trade, df_trade['size_opposite'].to_numpy()])\n",
    "    time_trade = np.concatenate([time_trade, df_trade['seconds_since_start_of_day'].dropna().to_numpy()])\n",
    "    \n",
    "    queue_size_same_add = np.concatenate([queue_size_same_add, df_add['size_same'].to_numpy()])\n",
    "    queue_size_opposite_add = np.concatenate([queue_size_opposite_add, df_add['size_opposite'].to_numpy()])\n",
    "    time_add = np.concatenate([time_add, df_add['seconds_since_start_of_day'].dropna().to_numpy()])\n",
    "    \n",
    "    queue_size_same_cancel = np.concatenate([queue_size_same_cancel, df_cancel['size_same'].to_numpy()])\n",
    "    queue_size_opposite_cancel = np.concatenate([queue_size_opposite_cancel, df_cancel['size_opposite'].to_numpy()])\n",
    "    time_cancel = np.concatenate([time_cancel, df_cancel['seconds_since_start_of_day'].dropna().to_numpy()])\n",
    "\n",
    "time_add = np.array(time_add, dtype=float)\n",
    "time_trade = np.array(time_trade, dtype=float)\n",
    "time_cancel = np.array(time_cancel, dtype=float)\n",
    "print(f\"A quel point c'est long: {len(time_add)}\")"
   ]
  },
  {
   "cell_type": "code",
   "execution_count": 21,
   "metadata": {},
   "outputs": [],
   "source": [
    "indices_trie_add = np.argsort(time_add)\n",
    "\n",
    "\n",
    "time_add = time_add[indices_trie_add]\n",
    "queue_size_same_add = queue_size_same_add[indices_trie_add]\n",
    "queue_size_opposite_add = queue_size_opposite_add[indices_trie_add]\n",
    "group_size_add = 100000\n",
    "\n",
    "time_trie_groups_add = [time_add[i:i + group_size_add] for i in range(0, len(time_add), group_size_add)]\n",
    "queue_size_same_trie_groups_add = [queue_size_same_add[i:i + group_size_add] for i in range(0, len(queue_size_same_add), group_size_add)]\n",
    "queue_size_opposite_trie_groups_add = [queue_size_opposite_add[i:i + group_size_add] for i in range(0, len(queue_size_opposite_add), group_size_add)]\n",
    "\n",
    "time_trie_means_add = np.array([np.mean(group) for group in time_trie_groups_add])\n",
    "queue_size_same_trie_means_add = np.array([np.mean(group) for group in queue_size_same_trie_groups_add])\n",
    "queue_size_opposite_trie_mean_add = np.array([np.mean(group) for group in queue_size_opposite_trie_groups_add])\n",
    "\n",
    "#imb_trie_std = np.array([np.std(group)/np.sqrt(len(group)) for group in price_trie_groups])\n",
    "time_trie_means_add = pd.to_datetime(time_trie_means_add, unit='s')\n",
    "\n",
    "\n",
    "\n",
    "indices_trie_trade = np.argsort(time_trade)\n",
    "\n",
    "\n",
    "time_trade = time_trade[indices_trie_trade]\n",
    "queue_size_same_trade = queue_size_same_trade[indices_trie_trade]\n",
    "queue_size_opposite_trade = queue_size_opposite_trade[indices_trie_trade]\n",
    "group_size_trade = 10000\n",
    "\n",
    "time_trie_groups_trade = [time_trade[i:i + group_size_trade] for i in range(0, len(time_trade), group_size_trade)]\n",
    "queue_size_same_trie_groups_trade = [queue_size_same_trade[i:i + group_size_trade] for i in range(0, len(queue_size_same_trade), group_size_trade)]\n",
    "queue_size_opposite_trie_groups_trade = [queue_size_opposite_trade[i:i + group_size_trade] for i in range(0, len(queue_size_opposite_trade), group_size_trade)]\n",
    "\n",
    "time_trie_means_trade = np.array([np.mean(group) for group in time_trie_groups_trade])\n",
    "queue_size_same_trie_means_trade = np.array([np.mean(group) for group in queue_size_same_trie_groups_trade])\n",
    "queue_size_opposite_trie_means_trade = np.array([np.mean(group) for group in queue_size_opposite_trie_groups_trade])\n",
    "\n",
    "#imb_trie_std = np.array([np.std(group)/np.sqrt(len(group)) for group in price_trie_groups])\n",
    "time_trie_means_trade = pd.to_datetime(time_trie_means_trade, unit='s')\n",
    "\n",
    "\n",
    "indices_trie_cancel = np.argsort(time_cancel)\n",
    "\n",
    "\n",
    "time_cancel = time_cancel[indices_trie_cancel]\n",
    "queue_size_same_cancel = queue_size_same_cancel[indices_trie_cancel]\n",
    "queue_size_opposite_cancel = queue_size_opposite_cancel[indices_trie_cancel]\n",
    "group_size_cancel = 100000\n",
    "\n",
    "time_trie_groups_cancel = [time_cancel[i:i + group_size] for i in range(0, len(time_cancel), group_size_cancel)]\n",
    "queue_size_same_trie_groups_cancel = [queue_size_same_cancel[i:i + group_size] for i in range(0, len(queue_size_same_cancel), group_size_cancel)]\n",
    "queue_size_opposite_trie_groups_cancel = [queue_size_opposite_cancel[i:i + group_size] for i in range(0, len(queue_size_opposite_cancel), group_size_cancel)]\n",
    "\n",
    "time_trie_means_cancel = np.array([np.mean(group) for group in time_trie_groups_cancel])\n",
    "queue_size_same_trie_means_cancel = np.array([np.mean(group) for group in queue_size_same_trie_groups_cancel])\n",
    "queue_size_opposite_trie_means_cancel = np.array([np.mean(group) for group in queue_size_opposite_trie_groups_cancel])\n",
    "\n",
    "#imb_trie_std = np.array([np.std(group)/np.sqrt(len(group)) for group in price_trie_groups])\n",
    "time_trie_means_cancel = pd.to_datetime(time_trie_means_cancel, unit='s')"
   ]
  },
  {
   "cell_type": "code",
   "execution_count": 22,
   "metadata": {},
   "outputs": [
    {
     "data": {
      "application/vnd.plotly.v1+json": {
       "config": {
        "plotlyServerURL": "https://plot.ly"
       },
       "data": [
        {
         "line": {
          "color": "blue"
         },
         "mode": "lines",
         "name": "same",
         "showlegend": true,
         "type": "scatter",
         "x": [
          "1970-01-01T14:00:06.027280",
          "1970-01-01T14:00:29.484184",
          "1970-01-01T14:01:05.284502",
          "1970-01-01T14:01:47.536490",
          "1970-01-01T14:02:32.767883",
          "1970-01-01T14:03:18.370488",
          "1970-01-01T14:04:08.449042",
          "1970-01-01T14:04:59.669985",
          "1970-01-01T14:05:46.007818",
          "1970-01-01T14:06:32.528336",
          "1970-01-01T14:07:22.449691",
          "1970-01-01T14:08:12.534402",
          "1970-01-01T14:09:01.650753",
          "1970-01-01T14:09:54.715232",
          "1970-01-01T14:10:43.947226",
          "1970-01-01T14:11:32.667297",
          "1970-01-01T14:12:24.043566",
          "1970-01-01T14:13:14.167085",
          "1970-01-01T14:14:07.905955",
          "1970-01-01T14:15:02.474854",
          "1970-01-01T14:15:56.043682",
          "1970-01-01T14:16:51.202988",
          "1970-01-01T14:17:43.645309",
          "1970-01-01T14:18:39.480896",
          "1970-01-01T14:19:39.467640",
          "1970-01-01T14:20:37.619144",
          "1970-01-01T14:21:38.686776",
          "1970-01-01T14:22:39.465529",
          "1970-01-01T14:23:40.591869",
          "1970-01-01T14:24:41.321717",
          "1970-01-01T14:25:43.083513",
          "1970-01-01T14:26:49.454755",
          "1970-01-01T14:27:53.355797",
          "1970-01-01T14:29:01.312357",
          "1970-01-01T14:30:03.572732",
          "1970-01-01T14:30:56.093445",
          "1970-01-01T14:31:55.966963",
          "1970-01-01T14:33:02.016296",
          "1970-01-01T14:34:03.323440",
          "1970-01-01T14:35:06.754831",
          "1970-01-01T14:36:09.497058",
          "1970-01-01T14:37:13.215483",
          "1970-01-01T14:38:19.497085",
          "1970-01-01T14:39:24.674602",
          "1970-01-01T14:40:30.811478",
          "1970-01-01T14:41:40.799326",
          "1970-01-01T14:42:56.182011",
          "1970-01-01T14:44:08.337871",
          "1970-01-01T14:45:21.055149",
          "1970-01-01T14:46:31.513111",
          "1970-01-01T14:47:39.783181",
          "1970-01-01T14:48:47.442642",
          "1970-01-01T14:49:57.354576",
          "1970-01-01T14:51:07.323977",
          "1970-01-01T14:52:18.431919",
          "1970-01-01T14:53:33.237004",
          "1970-01-01T14:54:50.321045",
          "1970-01-01T14:56:09.813974",
          "1970-01-01T14:57:29.020348",
          "1970-01-01T14:58:51.106457",
          "1970-01-01T15:00:07.246172",
          "1970-01-01T15:01:15.330057",
          "1970-01-01T15:02:32.840656",
          "1970-01-01T15:03:57.762957",
          "1970-01-01T15:05:30.134025",
          "1970-01-01T15:06:55.932390",
          "1970-01-01T15:08:24.950754",
          "1970-01-01T15:09:53.948068",
          "1970-01-01T15:11:18.246401",
          "1970-01-01T15:12:43.994323",
          "1970-01-01T15:14:06.691930",
          "1970-01-01T15:15:38.373262",
          "1970-01-01T15:17:06.597504",
          "1970-01-01T15:18:41.645807",
          "1970-01-01T15:20:20.687180",
          "1970-01-01T15:21:56.272725",
          "1970-01-01T15:23:29.114233",
          "1970-01-01T15:24:59.529703",
          "1970-01-01T15:26:33.787059",
          "1970-01-01T15:28:13.159210",
          "1970-01-01T15:29:45.742883",
          "1970-01-01T15:31:20.513190",
          "1970-01-01T15:32:58.547841",
          "1970-01-01T15:34:35.892959",
          "1970-01-01T15:36:16.071036",
          "1970-01-01T15:37:56.430407",
          "1970-01-01T15:39:38.389154",
          "1970-01-01T15:41:22.157988",
          "1970-01-01T15:43:05.152513",
          "1970-01-01T15:44:50.978094",
          "1970-01-01T15:46:33.854545",
          "1970-01-01T15:48:24.384537",
          "1970-01-01T15:50:14.866297",
          "1970-01-01T15:52:05.725919",
          "1970-01-01T15:54:07.733835",
          "1970-01-01T15:56:06.703435",
          "1970-01-01T15:57:57.286592",
          "1970-01-01T15:59:48.077580",
          "1970-01-01T16:01:37.387466",
          "1970-01-01T16:03:27.741400",
          "1970-01-01T16:05:16.861242",
          "1970-01-01T16:07:03.387787",
          "1970-01-01T16:09:01.443529",
          "1970-01-01T16:10:57.224316",
          "1970-01-01T16:12:55.012643",
          "1970-01-01T16:14:56.561452",
          "1970-01-01T16:16:56.669739",
          "1970-01-01T16:19:11.058330",
          "1970-01-01T16:21:24.276696",
          "1970-01-01T16:23:34.623893",
          "1970-01-01T16:25:40.729076",
          "1970-01-01T16:27:52.579017",
          "1970-01-01T16:30:10.697959",
          "1970-01-01T16:32:13.029952",
          "1970-01-01T16:34:20.966667",
          "1970-01-01T16:36:30.546623",
          "1970-01-01T16:38:53.045083",
          "1970-01-01T16:41:14.737134",
          "1970-01-01T16:43:30.071706",
          "1970-01-01T16:45:42.263095",
          "1970-01-01T16:47:52.567185",
          "1970-01-01T16:50:07.317491",
          "1970-01-01T16:52:14.457712",
          "1970-01-01T16:54:32.496708",
          "1970-01-01T16:56:51.493862",
          "1970-01-01T16:59:10.116134",
          "1970-01-01T17:01:06.132729",
          "1970-01-01T17:03:09.970777",
          "1970-01-01T17:05:26.135677",
          "1970-01-01T17:07:37.216962",
          "1970-01-01T17:09:42.728738",
          "1970-01-01T17:11:48.124263",
          "1970-01-01T17:13:55.790925",
          "1970-01-01T17:16:05.751416",
          "1970-01-01T17:18:24.631178",
          "1970-01-01T17:20:49.846525",
          "1970-01-01T17:23:23.778758",
          "1970-01-01T17:25:58.558028",
          "1970-01-01T17:28:15.399570",
          "1970-01-01T17:30:29.501495",
          "1970-01-01T17:32:41.997729",
          "1970-01-01T17:35:08.395547",
          "1970-01-01T17:37:33.226320",
          "1970-01-01T17:40:02.637109",
          "1970-01-01T17:42:36.004890",
          "1970-01-01T17:45:02.925532",
          "1970-01-01T17:47:08.449599",
          "1970-01-01T17:49:17.233950",
          "1970-01-01T17:51:31.912998",
          "1970-01-01T17:53:51.024534",
          "1970-01-01T17:56:09.726624",
          "1970-01-01T17:58:36.247005",
          "1970-01-01T18:00:22.405790",
          "1970-01-01T18:01:24.184583",
          "1970-01-01T18:02:56.814129",
          "1970-01-01T18:04:39.812975",
          "1970-01-01T18:06:27.542152",
          "1970-01-01T18:08:13.355228",
          "1970-01-01T18:10:04.794436",
          "1970-01-01T18:12:02.982317",
          "1970-01-01T18:14:04.664339",
          "1970-01-01T18:16:01.377912",
          "1970-01-01T18:18:02.735297",
          "1970-01-01T18:20:12.448933",
          "1970-01-01T18:22:19.471552",
          "1970-01-01T18:24:36.494199",
          "1970-01-01T18:26:53.382795",
          "1970-01-01T18:28:57.563340",
          "1970-01-01T18:30:59.824200",
          "1970-01-01T18:33:12.379941",
          "1970-01-01T18:35:25.307457",
          "1970-01-01T18:37:27.656915",
          "1970-01-01T18:39:37.211011",
          "1970-01-01T18:41:03.103600",
          "1970-01-01T18:42:35.405691",
          "1970-01-01T18:44:21.105959",
          "1970-01-01T18:45:56.190877",
          "1970-01-01T18:47:22.291417",
          "1970-01-01T18:48:53.854779",
          "1970-01-01T18:50:37.854561",
          "1970-01-01T18:52:24.389590",
          "1970-01-01T18:54:23.722288",
          "1970-01-01T18:56:22.872315",
          "1970-01-01T18:58:20.618548",
          "1970-01-01T18:59:37.872505"
         ],
         "y": [
          100.9931,
          133.729,
          134.3631,
          127.3894,
          140.7081,
          199.4357,
          134.1933,
          144.2556,
          201.4808,
          194.0375,
          154.5101,
          148.4568,
          200.3228,
          172.4296,
          169.4873,
          132.1922,
          167.9885,
          155.9509,
          152.8572,
          170.9712,
          148.5474,
          209.4397,
          222.4848,
          144.8558,
          150.1463,
          162.9608,
          138.9646,
          130.7745,
          154.1253,
          152.385,
          160.817,
          172.8889,
          143.6148,
          157.2743,
          137.8793,
          149.9366,
          146.0647,
          166.9346,
          317.2443,
          146.9855,
          140.0966,
          149.8583,
          147.8019,
          166.7925,
          153.7057,
          154.9524,
          144.9286,
          142.6131,
          139.1115,
          156.9439,
          148.5718,
          148.5822,
          154.3745,
          142.0955,
          164.6593,
          151.8649,
          191.8521,
          181.0383,
          143.9435,
          155.8481,
          146.7495,
          136.0053,
          141.766,
          141.483,
          145.341,
          142.0188,
          150.4206,
          260.9927,
          184.2816,
          161.0953,
          154.2237,
          155.9141,
          157.8723,
          145.4903,
          135.1214,
          192.1441,
          164.6473,
          156.9348,
          153.7737,
          158.4469,
          157.4193,
          160.8573,
          157.8373,
          194.94,
          166.5368,
          169.8669,
          202.8696,
          163.9861,
          171.3733,
          212.3233,
          201.5281,
          179.3832,
          170.9981,
          184.4136,
          167.7517,
          163.8399,
          179.865,
          178.3509,
          176.2866,
          163.7356,
          162.7023,
          164.2499,
          166.5872,
          176.3537,
          168.1811,
          199.0696,
          163.3335,
          191.322,
          215.1637,
          181.7999,
          159.7515,
          172.3519,
          157.5742,
          195.0673,
          370.5135,
          324.8326,
          183.2462,
          176.518,
          170.6482,
          188.0005,
          171.5139,
          168.4015,
          177.3889,
          164.8457,
          176.7178,
          224.9321,
          178.7938,
          192.6592,
          167.7398,
          159.9997,
          162.3632,
          171.0254,
          183.1951,
          185.5288,
          178.4157,
          182.3135,
          170.6848,
          217.8042,
          161.8785,
          167.9637,
          188.8823,
          175.2658,
          168.7303,
          198.9078,
          172.1415,
          211.5504,
          180.1877,
          172.8505,
          186.3712,
          195.6174,
          180.1773,
          172.6429,
          119.2618,
          180.7445,
          137.7158,
          143.9675,
          162.4204,
          167.8696,
          162.6451,
          184.6591,
          191.6532,
          197.3231,
          249.9766,
          211.5842,
          171.052,
          180.633,
          219.2894,
          178.319,
          155.7091,
          167.1775,
          176.8335,
          182.5353,
          165.4053,
          126.6985,
          164.3405,
          315.6717,
          170.0989,
          178.1266,
          195.2555,
          174.8089,
          174.4699,
          317.3809,
          210.7019,
          164.3766,
          173.60077519379846
         ]
        },
        {
         "line": {
          "color": "red"
         },
         "mode": "lines",
         "name": "Opposite",
         "showlegend": true,
         "type": "scatter",
         "x": [
          "1970-01-01T14:00:06.027280",
          "1970-01-01T14:00:29.484184",
          "1970-01-01T14:01:05.284502",
          "1970-01-01T14:01:47.536490",
          "1970-01-01T14:02:32.767883",
          "1970-01-01T14:03:18.370488",
          "1970-01-01T14:04:08.449042",
          "1970-01-01T14:04:59.669985",
          "1970-01-01T14:05:46.007818",
          "1970-01-01T14:06:32.528336",
          "1970-01-01T14:07:22.449691",
          "1970-01-01T14:08:12.534402",
          "1970-01-01T14:09:01.650753",
          "1970-01-01T14:09:54.715232",
          "1970-01-01T14:10:43.947226",
          "1970-01-01T14:11:32.667297",
          "1970-01-01T14:12:24.043566",
          "1970-01-01T14:13:14.167085",
          "1970-01-01T14:14:07.905955",
          "1970-01-01T14:15:02.474854",
          "1970-01-01T14:15:56.043682",
          "1970-01-01T14:16:51.202988",
          "1970-01-01T14:17:43.645309",
          "1970-01-01T14:18:39.480896",
          "1970-01-01T14:19:39.467640",
          "1970-01-01T14:20:37.619144",
          "1970-01-01T14:21:38.686776",
          "1970-01-01T14:22:39.465529",
          "1970-01-01T14:23:40.591869",
          "1970-01-01T14:24:41.321717",
          "1970-01-01T14:25:43.083513",
          "1970-01-01T14:26:49.454755",
          "1970-01-01T14:27:53.355797",
          "1970-01-01T14:29:01.312357",
          "1970-01-01T14:30:03.572732",
          "1970-01-01T14:30:56.093445",
          "1970-01-01T14:31:55.966963",
          "1970-01-01T14:33:02.016296",
          "1970-01-01T14:34:03.323440",
          "1970-01-01T14:35:06.754831",
          "1970-01-01T14:36:09.497058",
          "1970-01-01T14:37:13.215483",
          "1970-01-01T14:38:19.497085",
          "1970-01-01T14:39:24.674602",
          "1970-01-01T14:40:30.811478",
          "1970-01-01T14:41:40.799326",
          "1970-01-01T14:42:56.182011",
          "1970-01-01T14:44:08.337871",
          "1970-01-01T14:45:21.055149",
          "1970-01-01T14:46:31.513111",
          "1970-01-01T14:47:39.783181",
          "1970-01-01T14:48:47.442642",
          "1970-01-01T14:49:57.354576",
          "1970-01-01T14:51:07.323977",
          "1970-01-01T14:52:18.431919",
          "1970-01-01T14:53:33.237004",
          "1970-01-01T14:54:50.321045",
          "1970-01-01T14:56:09.813974",
          "1970-01-01T14:57:29.020348",
          "1970-01-01T14:58:51.106457",
          "1970-01-01T15:00:07.246172",
          "1970-01-01T15:01:15.330057",
          "1970-01-01T15:02:32.840656",
          "1970-01-01T15:03:57.762957",
          "1970-01-01T15:05:30.134025",
          "1970-01-01T15:06:55.932390",
          "1970-01-01T15:08:24.950754",
          "1970-01-01T15:09:53.948068",
          "1970-01-01T15:11:18.246401",
          "1970-01-01T15:12:43.994323",
          "1970-01-01T15:14:06.691930",
          "1970-01-01T15:15:38.373262",
          "1970-01-01T15:17:06.597504",
          "1970-01-01T15:18:41.645807",
          "1970-01-01T15:20:20.687180",
          "1970-01-01T15:21:56.272725",
          "1970-01-01T15:23:29.114233",
          "1970-01-01T15:24:59.529703",
          "1970-01-01T15:26:33.787059",
          "1970-01-01T15:28:13.159210",
          "1970-01-01T15:29:45.742883",
          "1970-01-01T15:31:20.513190",
          "1970-01-01T15:32:58.547841",
          "1970-01-01T15:34:35.892959",
          "1970-01-01T15:36:16.071036",
          "1970-01-01T15:37:56.430407",
          "1970-01-01T15:39:38.389154",
          "1970-01-01T15:41:22.157988",
          "1970-01-01T15:43:05.152513",
          "1970-01-01T15:44:50.978094",
          "1970-01-01T15:46:33.854545",
          "1970-01-01T15:48:24.384537",
          "1970-01-01T15:50:14.866297",
          "1970-01-01T15:52:05.725919",
          "1970-01-01T15:54:07.733835",
          "1970-01-01T15:56:06.703435",
          "1970-01-01T15:57:57.286592",
          "1970-01-01T15:59:48.077580",
          "1970-01-01T16:01:37.387466",
          "1970-01-01T16:03:27.741400",
          "1970-01-01T16:05:16.861242",
          "1970-01-01T16:07:03.387787",
          "1970-01-01T16:09:01.443529",
          "1970-01-01T16:10:57.224316",
          "1970-01-01T16:12:55.012643",
          "1970-01-01T16:14:56.561452",
          "1970-01-01T16:16:56.669739",
          "1970-01-01T16:19:11.058330",
          "1970-01-01T16:21:24.276696",
          "1970-01-01T16:23:34.623893",
          "1970-01-01T16:25:40.729076",
          "1970-01-01T16:27:52.579017",
          "1970-01-01T16:30:10.697959",
          "1970-01-01T16:32:13.029952",
          "1970-01-01T16:34:20.966667",
          "1970-01-01T16:36:30.546623",
          "1970-01-01T16:38:53.045083",
          "1970-01-01T16:41:14.737134",
          "1970-01-01T16:43:30.071706",
          "1970-01-01T16:45:42.263095",
          "1970-01-01T16:47:52.567185",
          "1970-01-01T16:50:07.317491",
          "1970-01-01T16:52:14.457712",
          "1970-01-01T16:54:32.496708",
          "1970-01-01T16:56:51.493862",
          "1970-01-01T16:59:10.116134",
          "1970-01-01T17:01:06.132729",
          "1970-01-01T17:03:09.970777",
          "1970-01-01T17:05:26.135677",
          "1970-01-01T17:07:37.216962",
          "1970-01-01T17:09:42.728738",
          "1970-01-01T17:11:48.124263",
          "1970-01-01T17:13:55.790925",
          "1970-01-01T17:16:05.751416",
          "1970-01-01T17:18:24.631178",
          "1970-01-01T17:20:49.846525",
          "1970-01-01T17:23:23.778758",
          "1970-01-01T17:25:58.558028",
          "1970-01-01T17:28:15.399570",
          "1970-01-01T17:30:29.501495",
          "1970-01-01T17:32:41.997729",
          "1970-01-01T17:35:08.395547",
          "1970-01-01T17:37:33.226320",
          "1970-01-01T17:40:02.637109",
          "1970-01-01T17:42:36.004890",
          "1970-01-01T17:45:02.925532",
          "1970-01-01T17:47:08.449599",
          "1970-01-01T17:49:17.233950",
          "1970-01-01T17:51:31.912998",
          "1970-01-01T17:53:51.024534",
          "1970-01-01T17:56:09.726624",
          "1970-01-01T17:58:36.247005",
          "1970-01-01T18:00:22.405790",
          "1970-01-01T18:01:24.184583",
          "1970-01-01T18:02:56.814129",
          "1970-01-01T18:04:39.812975",
          "1970-01-01T18:06:27.542152",
          "1970-01-01T18:08:13.355228",
          "1970-01-01T18:10:04.794436",
          "1970-01-01T18:12:02.982317",
          "1970-01-01T18:14:04.664339",
          "1970-01-01T18:16:01.377912",
          "1970-01-01T18:18:02.735297",
          "1970-01-01T18:20:12.448933",
          "1970-01-01T18:22:19.471552",
          "1970-01-01T18:24:36.494199",
          "1970-01-01T18:26:53.382795",
          "1970-01-01T18:28:57.563340",
          "1970-01-01T18:30:59.824200",
          "1970-01-01T18:33:12.379941",
          "1970-01-01T18:35:25.307457",
          "1970-01-01T18:37:27.656915",
          "1970-01-01T18:39:37.211011",
          "1970-01-01T18:41:03.103600",
          "1970-01-01T18:42:35.405691",
          "1970-01-01T18:44:21.105959",
          "1970-01-01T18:45:56.190877",
          "1970-01-01T18:47:22.291417",
          "1970-01-01T18:48:53.854779",
          "1970-01-01T18:50:37.854561",
          "1970-01-01T18:52:24.389590",
          "1970-01-01T18:54:23.722288",
          "1970-01-01T18:56:22.872315",
          "1970-01-01T18:58:20.618548",
          "1970-01-01T18:59:37.872505"
         ],
         "y": [
          126.3934,
          147.4767,
          161.2852,
          166.9243,
          169.225,
          215.1258,
          172.3213,
          170.7621,
          212.5408,
          204.87,
          191.8627,
          181.8161,
          212.2521,
          191.1617,
          191.5655,
          181.8325,
          183.0386,
          185.9477,
          182.467,
          187.1348,
          188.3984,
          205.3914,
          193.1292,
          194.7467,
          202.7663,
          201.0895,
          194.1534,
          188.3008,
          231.5966,
          205.7184,
          199.3168,
          203.5679,
          191.3774,
          197.3041,
          183.8963,
          203.7334,
          190.1409,
          219.7814,
          256.5915,
          198.6186,
          199.396,
          203.3257,
          193.9392,
          224.3615,
          206.81,
          193.2948,
          202.5935,
          213.2064,
          194.9888,
          214.7327,
          201.9563,
          197.5119,
          201.9984,
          196.8472,
          214.5352,
          217.4296,
          218.4651,
          216.9228,
          205.0143,
          219.8227,
          205.1034,
          189.458,
          206.1581,
          206.734,
          206.9346,
          204.9174,
          203.2438,
          226.2877,
          231.0509,
          221.9244,
          211.9778,
          217.6711,
          210.7747,
          202.4528,
          194.0264,
          220.6627,
          214.0551,
          217.9535,
          214.2584,
          216.8479,
          224.3589,
          217.7391,
          216.1018,
          234.2014,
          219.8157,
          230.4833,
          248.2293,
          229.5681,
          241.4414,
          235.6654,
          229.1311,
          250.2896,
          241.6674,
          245.4168,
          240.9585,
          241.9397,
          240.0808,
          251.9192,
          238.992,
          230.6024,
          229.7562,
          234.5643,
          231.7949,
          244.7712,
          254.0714,
          245.8095,
          227.0083,
          233.5477,
          281.0494,
          242.8938,
          222.1867,
          236.866,
          230.9307,
          259.5309,
          430.4532,
          288.9393,
          250.0234,
          269.3544,
          249.2186,
          251.8158,
          243.8294,
          247.6877,
          252.9731,
          249.3702,
          262.0825,
          279.9886,
          231.8238,
          255.0127,
          237.2083,
          235.2846,
          232.8079,
          259.9695,
          254.4455,
          257.2922,
          248.9488,
          256.1582,
          248.2466,
          268.783,
          241.3863,
          232.0927,
          250.6677,
          240.9673,
          246.6473,
          255.597,
          253.1811,
          283.4357,
          252.8416,
          251.1912,
          253.3068,
          264.7255,
          275.9665,
          268.7571,
          169.476,
          221.8884,
          210.8799,
          216.9532,
          249.7202,
          252.9605,
          240.5365,
          232.5794,
          262.0434,
          248.8605,
          273.2871,
          269.6485,
          256.0919,
          267.0473,
          275.7666,
          265.4293,
          244.9016,
          263.5396,
          254.4397,
          252.1684,
          250.9041,
          197.5213,
          243.2215,
          253.3379,
          247.7133,
          222.5155,
          253.6223,
          243.1788,
          270.5168,
          355.3262,
          283.7711,
          268.4341,
          262.7890365448505
         ]
        }
       ],
       "layout": {
        "showlegend": true,
        "template": {
         "data": {
          "bar": [
           {
            "error_x": {
             "color": "#2a3f5f"
            },
            "error_y": {
             "color": "#2a3f5f"
            },
            "marker": {
             "line": {
              "color": "#E5ECF6",
              "width": 0.5
             },
             "pattern": {
              "fillmode": "overlay",
              "size": 10,
              "solidity": 0.2
             }
            },
            "type": "bar"
           }
          ],
          "barpolar": [
           {
            "marker": {
             "line": {
              "color": "#E5ECF6",
              "width": 0.5
             },
             "pattern": {
              "fillmode": "overlay",
              "size": 10,
              "solidity": 0.2
             }
            },
            "type": "barpolar"
           }
          ],
          "carpet": [
           {
            "aaxis": {
             "endlinecolor": "#2a3f5f",
             "gridcolor": "white",
             "linecolor": "white",
             "minorgridcolor": "white",
             "startlinecolor": "#2a3f5f"
            },
            "baxis": {
             "endlinecolor": "#2a3f5f",
             "gridcolor": "white",
             "linecolor": "white",
             "minorgridcolor": "white",
             "startlinecolor": "#2a3f5f"
            },
            "type": "carpet"
           }
          ],
          "choropleth": [
           {
            "colorbar": {
             "outlinewidth": 0,
             "ticks": ""
            },
            "type": "choropleth"
           }
          ],
          "contour": [
           {
            "colorbar": {
             "outlinewidth": 0,
             "ticks": ""
            },
            "colorscale": [
             [
              0,
              "#0d0887"
             ],
             [
              0.1111111111111111,
              "#46039f"
             ],
             [
              0.2222222222222222,
              "#7201a8"
             ],
             [
              0.3333333333333333,
              "#9c179e"
             ],
             [
              0.4444444444444444,
              "#bd3786"
             ],
             [
              0.5555555555555556,
              "#d8576b"
             ],
             [
              0.6666666666666666,
              "#ed7953"
             ],
             [
              0.7777777777777778,
              "#fb9f3a"
             ],
             [
              0.8888888888888888,
              "#fdca26"
             ],
             [
              1,
              "#f0f921"
             ]
            ],
            "type": "contour"
           }
          ],
          "contourcarpet": [
           {
            "colorbar": {
             "outlinewidth": 0,
             "ticks": ""
            },
            "type": "contourcarpet"
           }
          ],
          "heatmap": [
           {
            "colorbar": {
             "outlinewidth": 0,
             "ticks": ""
            },
            "colorscale": [
             [
              0,
              "#0d0887"
             ],
             [
              0.1111111111111111,
              "#46039f"
             ],
             [
              0.2222222222222222,
              "#7201a8"
             ],
             [
              0.3333333333333333,
              "#9c179e"
             ],
             [
              0.4444444444444444,
              "#bd3786"
             ],
             [
              0.5555555555555556,
              "#d8576b"
             ],
             [
              0.6666666666666666,
              "#ed7953"
             ],
             [
              0.7777777777777778,
              "#fb9f3a"
             ],
             [
              0.8888888888888888,
              "#fdca26"
             ],
             [
              1,
              "#f0f921"
             ]
            ],
            "type": "heatmap"
           }
          ],
          "heatmapgl": [
           {
            "colorbar": {
             "outlinewidth": 0,
             "ticks": ""
            },
            "colorscale": [
             [
              0,
              "#0d0887"
             ],
             [
              0.1111111111111111,
              "#46039f"
             ],
             [
              0.2222222222222222,
              "#7201a8"
             ],
             [
              0.3333333333333333,
              "#9c179e"
             ],
             [
              0.4444444444444444,
              "#bd3786"
             ],
             [
              0.5555555555555556,
              "#d8576b"
             ],
             [
              0.6666666666666666,
              "#ed7953"
             ],
             [
              0.7777777777777778,
              "#fb9f3a"
             ],
             [
              0.8888888888888888,
              "#fdca26"
             ],
             [
              1,
              "#f0f921"
             ]
            ],
            "type": "heatmapgl"
           }
          ],
          "histogram": [
           {
            "marker": {
             "pattern": {
              "fillmode": "overlay",
              "size": 10,
              "solidity": 0.2
             }
            },
            "type": "histogram"
           }
          ],
          "histogram2d": [
           {
            "colorbar": {
             "outlinewidth": 0,
             "ticks": ""
            },
            "colorscale": [
             [
              0,
              "#0d0887"
             ],
             [
              0.1111111111111111,
              "#46039f"
             ],
             [
              0.2222222222222222,
              "#7201a8"
             ],
             [
              0.3333333333333333,
              "#9c179e"
             ],
             [
              0.4444444444444444,
              "#bd3786"
             ],
             [
              0.5555555555555556,
              "#d8576b"
             ],
             [
              0.6666666666666666,
              "#ed7953"
             ],
             [
              0.7777777777777778,
              "#fb9f3a"
             ],
             [
              0.8888888888888888,
              "#fdca26"
             ],
             [
              1,
              "#f0f921"
             ]
            ],
            "type": "histogram2d"
           }
          ],
          "histogram2dcontour": [
           {
            "colorbar": {
             "outlinewidth": 0,
             "ticks": ""
            },
            "colorscale": [
             [
              0,
              "#0d0887"
             ],
             [
              0.1111111111111111,
              "#46039f"
             ],
             [
              0.2222222222222222,
              "#7201a8"
             ],
             [
              0.3333333333333333,
              "#9c179e"
             ],
             [
              0.4444444444444444,
              "#bd3786"
             ],
             [
              0.5555555555555556,
              "#d8576b"
             ],
             [
              0.6666666666666666,
              "#ed7953"
             ],
             [
              0.7777777777777778,
              "#fb9f3a"
             ],
             [
              0.8888888888888888,
              "#fdca26"
             ],
             [
              1,
              "#f0f921"
             ]
            ],
            "type": "histogram2dcontour"
           }
          ],
          "mesh3d": [
           {
            "colorbar": {
             "outlinewidth": 0,
             "ticks": ""
            },
            "type": "mesh3d"
           }
          ],
          "parcoords": [
           {
            "line": {
             "colorbar": {
              "outlinewidth": 0,
              "ticks": ""
             }
            },
            "type": "parcoords"
           }
          ],
          "pie": [
           {
            "automargin": true,
            "type": "pie"
           }
          ],
          "scatter": [
           {
            "fillpattern": {
             "fillmode": "overlay",
             "size": 10,
             "solidity": 0.2
            },
            "type": "scatter"
           }
          ],
          "scatter3d": [
           {
            "line": {
             "colorbar": {
              "outlinewidth": 0,
              "ticks": ""
             }
            },
            "marker": {
             "colorbar": {
              "outlinewidth": 0,
              "ticks": ""
             }
            },
            "type": "scatter3d"
           }
          ],
          "scattercarpet": [
           {
            "marker": {
             "colorbar": {
              "outlinewidth": 0,
              "ticks": ""
             }
            },
            "type": "scattercarpet"
           }
          ],
          "scattergeo": [
           {
            "marker": {
             "colorbar": {
              "outlinewidth": 0,
              "ticks": ""
             }
            },
            "type": "scattergeo"
           }
          ],
          "scattergl": [
           {
            "marker": {
             "colorbar": {
              "outlinewidth": 0,
              "ticks": ""
             }
            },
            "type": "scattergl"
           }
          ],
          "scattermapbox": [
           {
            "marker": {
             "colorbar": {
              "outlinewidth": 0,
              "ticks": ""
             }
            },
            "type": "scattermapbox"
           }
          ],
          "scatterpolar": [
           {
            "marker": {
             "colorbar": {
              "outlinewidth": 0,
              "ticks": ""
             }
            },
            "type": "scatterpolar"
           }
          ],
          "scatterpolargl": [
           {
            "marker": {
             "colorbar": {
              "outlinewidth": 0,
              "ticks": ""
             }
            },
            "type": "scatterpolargl"
           }
          ],
          "scatterternary": [
           {
            "marker": {
             "colorbar": {
              "outlinewidth": 0,
              "ticks": ""
             }
            },
            "type": "scatterternary"
           }
          ],
          "surface": [
           {
            "colorbar": {
             "outlinewidth": 0,
             "ticks": ""
            },
            "colorscale": [
             [
              0,
              "#0d0887"
             ],
             [
              0.1111111111111111,
              "#46039f"
             ],
             [
              0.2222222222222222,
              "#7201a8"
             ],
             [
              0.3333333333333333,
              "#9c179e"
             ],
             [
              0.4444444444444444,
              "#bd3786"
             ],
             [
              0.5555555555555556,
              "#d8576b"
             ],
             [
              0.6666666666666666,
              "#ed7953"
             ],
             [
              0.7777777777777778,
              "#fb9f3a"
             ],
             [
              0.8888888888888888,
              "#fdca26"
             ],
             [
              1,
              "#f0f921"
             ]
            ],
            "type": "surface"
           }
          ],
          "table": [
           {
            "cells": {
             "fill": {
              "color": "#EBF0F8"
             },
             "line": {
              "color": "white"
             }
            },
            "header": {
             "fill": {
              "color": "#C8D4E3"
             },
             "line": {
              "color": "white"
             }
            },
            "type": "table"
           }
          ]
         },
         "layout": {
          "annotationdefaults": {
           "arrowcolor": "#2a3f5f",
           "arrowhead": 0,
           "arrowwidth": 1
          },
          "autotypenumbers": "strict",
          "coloraxis": {
           "colorbar": {
            "outlinewidth": 0,
            "ticks": ""
           }
          },
          "colorscale": {
           "diverging": [
            [
             0,
             "#8e0152"
            ],
            [
             0.1,
             "#c51b7d"
            ],
            [
             0.2,
             "#de77ae"
            ],
            [
             0.3,
             "#f1b6da"
            ],
            [
             0.4,
             "#fde0ef"
            ],
            [
             0.5,
             "#f7f7f7"
            ],
            [
             0.6,
             "#e6f5d0"
            ],
            [
             0.7,
             "#b8e186"
            ],
            [
             0.8,
             "#7fbc41"
            ],
            [
             0.9,
             "#4d9221"
            ],
            [
             1,
             "#276419"
            ]
           ],
           "sequential": [
            [
             0,
             "#0d0887"
            ],
            [
             0.1111111111111111,
             "#46039f"
            ],
            [
             0.2222222222222222,
             "#7201a8"
            ],
            [
             0.3333333333333333,
             "#9c179e"
            ],
            [
             0.4444444444444444,
             "#bd3786"
            ],
            [
             0.5555555555555556,
             "#d8576b"
            ],
            [
             0.6666666666666666,
             "#ed7953"
            ],
            [
             0.7777777777777778,
             "#fb9f3a"
            ],
            [
             0.8888888888888888,
             "#fdca26"
            ],
            [
             1,
             "#f0f921"
            ]
           ],
           "sequentialminus": [
            [
             0,
             "#0d0887"
            ],
            [
             0.1111111111111111,
             "#46039f"
            ],
            [
             0.2222222222222222,
             "#7201a8"
            ],
            [
             0.3333333333333333,
             "#9c179e"
            ],
            [
             0.4444444444444444,
             "#bd3786"
            ],
            [
             0.5555555555555556,
             "#d8576b"
            ],
            [
             0.6666666666666666,
             "#ed7953"
            ],
            [
             0.7777777777777778,
             "#fb9f3a"
            ],
            [
             0.8888888888888888,
             "#fdca26"
            ],
            [
             1,
             "#f0f921"
            ]
           ]
          },
          "colorway": [
           "#636efa",
           "#EF553B",
           "#00cc96",
           "#ab63fa",
           "#FFA15A",
           "#19d3f3",
           "#FF6692",
           "#B6E880",
           "#FF97FF",
           "#FECB52"
          ],
          "font": {
           "color": "#2a3f5f"
          },
          "geo": {
           "bgcolor": "white",
           "lakecolor": "white",
           "landcolor": "#E5ECF6",
           "showlakes": true,
           "showland": true,
           "subunitcolor": "white"
          },
          "hoverlabel": {
           "align": "left"
          },
          "hovermode": "closest",
          "mapbox": {
           "style": "light"
          },
          "paper_bgcolor": "white",
          "plot_bgcolor": "#E5ECF6",
          "polar": {
           "angularaxis": {
            "gridcolor": "white",
            "linecolor": "white",
            "ticks": ""
           },
           "bgcolor": "#E5ECF6",
           "radialaxis": {
            "gridcolor": "white",
            "linecolor": "white",
            "ticks": ""
           }
          },
          "scene": {
           "xaxis": {
            "backgroundcolor": "#E5ECF6",
            "gridcolor": "white",
            "gridwidth": 2,
            "linecolor": "white",
            "showbackground": true,
            "ticks": "",
            "zerolinecolor": "white"
           },
           "yaxis": {
            "backgroundcolor": "#E5ECF6",
            "gridcolor": "white",
            "gridwidth": 2,
            "linecolor": "white",
            "showbackground": true,
            "ticks": "",
            "zerolinecolor": "white"
           },
           "zaxis": {
            "backgroundcolor": "#E5ECF6",
            "gridcolor": "white",
            "gridwidth": 2,
            "linecolor": "white",
            "showbackground": true,
            "ticks": "",
            "zerolinecolor": "white"
           }
          },
          "shapedefaults": {
           "line": {
            "color": "#2a3f5f"
           }
          },
          "ternary": {
           "aaxis": {
            "gridcolor": "white",
            "linecolor": "white",
            "ticks": ""
           },
           "baxis": {
            "gridcolor": "white",
            "linecolor": "white",
            "ticks": ""
           },
           "bgcolor": "#E5ECF6",
           "caxis": {
            "gridcolor": "white",
            "linecolor": "white",
            "ticks": ""
           }
          },
          "title": {
           "x": 0.05
          },
          "xaxis": {
           "automargin": true,
           "gridcolor": "white",
           "linecolor": "white",
           "ticks": "",
           "title": {
            "standoff": 15
           },
           "zerolinecolor": "white",
           "zerolinewidth": 2
          },
          "yaxis": {
           "automargin": true,
           "gridcolor": "white",
           "linecolor": "white",
           "ticks": "",
           "title": {
            "standoff": 15
           },
           "zerolinecolor": "white",
           "zerolinewidth": 2
          }
         }
        },
        "title": {
         "text": "Queue size aux trades"
        },
        "xaxis": {
         "title": {
          "text": "time"
         }
        },
        "yaxis": {
         "title": {
          "text": "Queue size"
         }
        }
       }
      }
     },
     "metadata": {},
     "output_type": "display_data"
    },
    {
     "data": {
      "application/vnd.plotly.v1+json": {
       "config": {
        "plotlyServerURL": "https://plot.ly"
       },
       "data": [
        {
         "line": {
          "color": "blue"
         },
         "mode": "markers",
         "name": "same",
         "showlegend": true,
         "type": "scatter",
         "x": [
          126.3934,
          147.4767,
          161.2852,
          166.9243,
          169.225,
          215.1258,
          172.3213,
          170.7621,
          212.5408,
          204.87,
          191.8627,
          181.8161,
          212.2521,
          191.1617,
          191.5655,
          181.8325,
          183.0386,
          185.9477,
          182.467,
          187.1348,
          188.3984,
          205.3914,
          193.1292,
          194.7467,
          202.7663,
          201.0895,
          194.1534,
          188.3008,
          231.5966,
          205.7184,
          199.3168,
          203.5679,
          191.3774,
          197.3041,
          183.8963,
          203.7334,
          190.1409,
          219.7814,
          256.5915,
          198.6186,
          199.396,
          203.3257,
          193.9392,
          224.3615,
          206.81,
          193.2948,
          202.5935,
          213.2064,
          194.9888,
          214.7327,
          201.9563,
          197.5119,
          201.9984,
          196.8472,
          214.5352,
          217.4296,
          218.4651,
          216.9228,
          205.0143,
          219.8227,
          205.1034,
          189.458,
          206.1581,
          206.734,
          206.9346,
          204.9174,
          203.2438,
          226.2877,
          231.0509,
          221.9244,
          211.9778,
          217.6711,
          210.7747,
          202.4528,
          194.0264,
          220.6627,
          214.0551,
          217.9535,
          214.2584,
          216.8479,
          224.3589,
          217.7391,
          216.1018,
          234.2014,
          219.8157,
          230.4833,
          248.2293,
          229.5681,
          241.4414,
          235.6654,
          229.1311,
          250.2896,
          241.6674,
          245.4168,
          240.9585,
          241.9397,
          240.0808,
          251.9192,
          238.992,
          230.6024,
          229.7562,
          234.5643,
          231.7949,
          244.7712,
          254.0714,
          245.8095,
          227.0083,
          233.5477,
          281.0494,
          242.8938,
          222.1867,
          236.866,
          230.9307,
          259.5309,
          430.4532,
          288.9393,
          250.0234,
          269.3544,
          249.2186,
          251.8158,
          243.8294,
          247.6877,
          252.9731,
          249.3702,
          262.0825,
          279.9886,
          231.8238,
          255.0127,
          237.2083,
          235.2846,
          232.8079,
          259.9695,
          254.4455,
          257.2922,
          248.9488,
          256.1582,
          248.2466,
          268.783,
          241.3863,
          232.0927,
          250.6677,
          240.9673,
          246.6473,
          255.597,
          253.1811,
          283.4357,
          252.8416,
          251.1912,
          253.3068,
          264.7255,
          275.9665,
          268.7571,
          169.476,
          221.8884,
          210.8799,
          216.9532,
          249.7202,
          252.9605,
          240.5365,
          232.5794,
          262.0434,
          248.8605,
          273.2871,
          269.6485,
          256.0919,
          267.0473,
          275.7666,
          265.4293,
          244.9016,
          263.5396,
          254.4397,
          252.1684,
          250.9041,
          197.5213,
          243.2215,
          253.3379,
          247.7133,
          222.5155,
          253.6223,
          243.1788,
          270.5168,
          355.3262,
          283.7711,
          268.4341,
          262.7890365448505
         ],
         "y": [
          100.9931,
          133.729,
          134.3631,
          127.3894,
          140.7081,
          199.4357,
          134.1933,
          144.2556,
          201.4808,
          194.0375,
          154.5101,
          148.4568,
          200.3228,
          172.4296,
          169.4873,
          132.1922,
          167.9885,
          155.9509,
          152.8572,
          170.9712,
          148.5474,
          209.4397,
          222.4848,
          144.8558,
          150.1463,
          162.9608,
          138.9646,
          130.7745,
          154.1253,
          152.385,
          160.817,
          172.8889,
          143.6148,
          157.2743,
          137.8793,
          149.9366,
          146.0647,
          166.9346,
          317.2443,
          146.9855,
          140.0966,
          149.8583,
          147.8019,
          166.7925,
          153.7057,
          154.9524,
          144.9286,
          142.6131,
          139.1115,
          156.9439,
          148.5718,
          148.5822,
          154.3745,
          142.0955,
          164.6593,
          151.8649,
          191.8521,
          181.0383,
          143.9435,
          155.8481,
          146.7495,
          136.0053,
          141.766,
          141.483,
          145.341,
          142.0188,
          150.4206,
          260.9927,
          184.2816,
          161.0953,
          154.2237,
          155.9141,
          157.8723,
          145.4903,
          135.1214,
          192.1441,
          164.6473,
          156.9348,
          153.7737,
          158.4469,
          157.4193,
          160.8573,
          157.8373,
          194.94,
          166.5368,
          169.8669,
          202.8696,
          163.9861,
          171.3733,
          212.3233,
          201.5281,
          179.3832,
          170.9981,
          184.4136,
          167.7517,
          163.8399,
          179.865,
          178.3509,
          176.2866,
          163.7356,
          162.7023,
          164.2499,
          166.5872,
          176.3537,
          168.1811,
          199.0696,
          163.3335,
          191.322,
          215.1637,
          181.7999,
          159.7515,
          172.3519,
          157.5742,
          195.0673,
          370.5135,
          324.8326,
          183.2462,
          176.518,
          170.6482,
          188.0005,
          171.5139,
          168.4015,
          177.3889,
          164.8457,
          176.7178,
          224.9321,
          178.7938,
          192.6592,
          167.7398,
          159.9997,
          162.3632,
          171.0254,
          183.1951,
          185.5288,
          178.4157,
          182.3135,
          170.6848,
          217.8042,
          161.8785,
          167.9637,
          188.8823,
          175.2658,
          168.7303,
          198.9078,
          172.1415,
          211.5504,
          180.1877,
          172.8505,
          186.3712,
          195.6174,
          180.1773,
          172.6429,
          119.2618,
          180.7445,
          137.7158,
          143.9675,
          162.4204,
          167.8696,
          162.6451,
          184.6591,
          191.6532,
          197.3231,
          249.9766,
          211.5842,
          171.052,
          180.633,
          219.2894,
          178.319,
          155.7091,
          167.1775,
          176.8335,
          182.5353,
          165.4053,
          126.6985,
          164.3405,
          315.6717,
          170.0989,
          178.1266,
          195.2555,
          174.8089,
          174.4699,
          317.3809,
          210.7019,
          164.3766,
          173.60077519379846
         ]
        }
       ],
       "layout": {
        "showlegend": true,
        "template": {
         "data": {
          "bar": [
           {
            "error_x": {
             "color": "#2a3f5f"
            },
            "error_y": {
             "color": "#2a3f5f"
            },
            "marker": {
             "line": {
              "color": "#E5ECF6",
              "width": 0.5
             },
             "pattern": {
              "fillmode": "overlay",
              "size": 10,
              "solidity": 0.2
             }
            },
            "type": "bar"
           }
          ],
          "barpolar": [
           {
            "marker": {
             "line": {
              "color": "#E5ECF6",
              "width": 0.5
             },
             "pattern": {
              "fillmode": "overlay",
              "size": 10,
              "solidity": 0.2
             }
            },
            "type": "barpolar"
           }
          ],
          "carpet": [
           {
            "aaxis": {
             "endlinecolor": "#2a3f5f",
             "gridcolor": "white",
             "linecolor": "white",
             "minorgridcolor": "white",
             "startlinecolor": "#2a3f5f"
            },
            "baxis": {
             "endlinecolor": "#2a3f5f",
             "gridcolor": "white",
             "linecolor": "white",
             "minorgridcolor": "white",
             "startlinecolor": "#2a3f5f"
            },
            "type": "carpet"
           }
          ],
          "choropleth": [
           {
            "colorbar": {
             "outlinewidth": 0,
             "ticks": ""
            },
            "type": "choropleth"
           }
          ],
          "contour": [
           {
            "colorbar": {
             "outlinewidth": 0,
             "ticks": ""
            },
            "colorscale": [
             [
              0,
              "#0d0887"
             ],
             [
              0.1111111111111111,
              "#46039f"
             ],
             [
              0.2222222222222222,
              "#7201a8"
             ],
             [
              0.3333333333333333,
              "#9c179e"
             ],
             [
              0.4444444444444444,
              "#bd3786"
             ],
             [
              0.5555555555555556,
              "#d8576b"
             ],
             [
              0.6666666666666666,
              "#ed7953"
             ],
             [
              0.7777777777777778,
              "#fb9f3a"
             ],
             [
              0.8888888888888888,
              "#fdca26"
             ],
             [
              1,
              "#f0f921"
             ]
            ],
            "type": "contour"
           }
          ],
          "contourcarpet": [
           {
            "colorbar": {
             "outlinewidth": 0,
             "ticks": ""
            },
            "type": "contourcarpet"
           }
          ],
          "heatmap": [
           {
            "colorbar": {
             "outlinewidth": 0,
             "ticks": ""
            },
            "colorscale": [
             [
              0,
              "#0d0887"
             ],
             [
              0.1111111111111111,
              "#46039f"
             ],
             [
              0.2222222222222222,
              "#7201a8"
             ],
             [
              0.3333333333333333,
              "#9c179e"
             ],
             [
              0.4444444444444444,
              "#bd3786"
             ],
             [
              0.5555555555555556,
              "#d8576b"
             ],
             [
              0.6666666666666666,
              "#ed7953"
             ],
             [
              0.7777777777777778,
              "#fb9f3a"
             ],
             [
              0.8888888888888888,
              "#fdca26"
             ],
             [
              1,
              "#f0f921"
             ]
            ],
            "type": "heatmap"
           }
          ],
          "heatmapgl": [
           {
            "colorbar": {
             "outlinewidth": 0,
             "ticks": ""
            },
            "colorscale": [
             [
              0,
              "#0d0887"
             ],
             [
              0.1111111111111111,
              "#46039f"
             ],
             [
              0.2222222222222222,
              "#7201a8"
             ],
             [
              0.3333333333333333,
              "#9c179e"
             ],
             [
              0.4444444444444444,
              "#bd3786"
             ],
             [
              0.5555555555555556,
              "#d8576b"
             ],
             [
              0.6666666666666666,
              "#ed7953"
             ],
             [
              0.7777777777777778,
              "#fb9f3a"
             ],
             [
              0.8888888888888888,
              "#fdca26"
             ],
             [
              1,
              "#f0f921"
             ]
            ],
            "type": "heatmapgl"
           }
          ],
          "histogram": [
           {
            "marker": {
             "pattern": {
              "fillmode": "overlay",
              "size": 10,
              "solidity": 0.2
             }
            },
            "type": "histogram"
           }
          ],
          "histogram2d": [
           {
            "colorbar": {
             "outlinewidth": 0,
             "ticks": ""
            },
            "colorscale": [
             [
              0,
              "#0d0887"
             ],
             [
              0.1111111111111111,
              "#46039f"
             ],
             [
              0.2222222222222222,
              "#7201a8"
             ],
             [
              0.3333333333333333,
              "#9c179e"
             ],
             [
              0.4444444444444444,
              "#bd3786"
             ],
             [
              0.5555555555555556,
              "#d8576b"
             ],
             [
              0.6666666666666666,
              "#ed7953"
             ],
             [
              0.7777777777777778,
              "#fb9f3a"
             ],
             [
              0.8888888888888888,
              "#fdca26"
             ],
             [
              1,
              "#f0f921"
             ]
            ],
            "type": "histogram2d"
           }
          ],
          "histogram2dcontour": [
           {
            "colorbar": {
             "outlinewidth": 0,
             "ticks": ""
            },
            "colorscale": [
             [
              0,
              "#0d0887"
             ],
             [
              0.1111111111111111,
              "#46039f"
             ],
             [
              0.2222222222222222,
              "#7201a8"
             ],
             [
              0.3333333333333333,
              "#9c179e"
             ],
             [
              0.4444444444444444,
              "#bd3786"
             ],
             [
              0.5555555555555556,
              "#d8576b"
             ],
             [
              0.6666666666666666,
              "#ed7953"
             ],
             [
              0.7777777777777778,
              "#fb9f3a"
             ],
             [
              0.8888888888888888,
              "#fdca26"
             ],
             [
              1,
              "#f0f921"
             ]
            ],
            "type": "histogram2dcontour"
           }
          ],
          "mesh3d": [
           {
            "colorbar": {
             "outlinewidth": 0,
             "ticks": ""
            },
            "type": "mesh3d"
           }
          ],
          "parcoords": [
           {
            "line": {
             "colorbar": {
              "outlinewidth": 0,
              "ticks": ""
             }
            },
            "type": "parcoords"
           }
          ],
          "pie": [
           {
            "automargin": true,
            "type": "pie"
           }
          ],
          "scatter": [
           {
            "fillpattern": {
             "fillmode": "overlay",
             "size": 10,
             "solidity": 0.2
            },
            "type": "scatter"
           }
          ],
          "scatter3d": [
           {
            "line": {
             "colorbar": {
              "outlinewidth": 0,
              "ticks": ""
             }
            },
            "marker": {
             "colorbar": {
              "outlinewidth": 0,
              "ticks": ""
             }
            },
            "type": "scatter3d"
           }
          ],
          "scattercarpet": [
           {
            "marker": {
             "colorbar": {
              "outlinewidth": 0,
              "ticks": ""
             }
            },
            "type": "scattercarpet"
           }
          ],
          "scattergeo": [
           {
            "marker": {
             "colorbar": {
              "outlinewidth": 0,
              "ticks": ""
             }
            },
            "type": "scattergeo"
           }
          ],
          "scattergl": [
           {
            "marker": {
             "colorbar": {
              "outlinewidth": 0,
              "ticks": ""
             }
            },
            "type": "scattergl"
           }
          ],
          "scattermapbox": [
           {
            "marker": {
             "colorbar": {
              "outlinewidth": 0,
              "ticks": ""
             }
            },
            "type": "scattermapbox"
           }
          ],
          "scatterpolar": [
           {
            "marker": {
             "colorbar": {
              "outlinewidth": 0,
              "ticks": ""
             }
            },
            "type": "scatterpolar"
           }
          ],
          "scatterpolargl": [
           {
            "marker": {
             "colorbar": {
              "outlinewidth": 0,
              "ticks": ""
             }
            },
            "type": "scatterpolargl"
           }
          ],
          "scatterternary": [
           {
            "marker": {
             "colorbar": {
              "outlinewidth": 0,
              "ticks": ""
             }
            },
            "type": "scatterternary"
           }
          ],
          "surface": [
           {
            "colorbar": {
             "outlinewidth": 0,
             "ticks": ""
            },
            "colorscale": [
             [
              0,
              "#0d0887"
             ],
             [
              0.1111111111111111,
              "#46039f"
             ],
             [
              0.2222222222222222,
              "#7201a8"
             ],
             [
              0.3333333333333333,
              "#9c179e"
             ],
             [
              0.4444444444444444,
              "#bd3786"
             ],
             [
              0.5555555555555556,
              "#d8576b"
             ],
             [
              0.6666666666666666,
              "#ed7953"
             ],
             [
              0.7777777777777778,
              "#fb9f3a"
             ],
             [
              0.8888888888888888,
              "#fdca26"
             ],
             [
              1,
              "#f0f921"
             ]
            ],
            "type": "surface"
           }
          ],
          "table": [
           {
            "cells": {
             "fill": {
              "color": "#EBF0F8"
             },
             "line": {
              "color": "white"
             }
            },
            "header": {
             "fill": {
              "color": "#C8D4E3"
             },
             "line": {
              "color": "white"
             }
            },
            "type": "table"
           }
          ]
         },
         "layout": {
          "annotationdefaults": {
           "arrowcolor": "#2a3f5f",
           "arrowhead": 0,
           "arrowwidth": 1
          },
          "autotypenumbers": "strict",
          "coloraxis": {
           "colorbar": {
            "outlinewidth": 0,
            "ticks": ""
           }
          },
          "colorscale": {
           "diverging": [
            [
             0,
             "#8e0152"
            ],
            [
             0.1,
             "#c51b7d"
            ],
            [
             0.2,
             "#de77ae"
            ],
            [
             0.3,
             "#f1b6da"
            ],
            [
             0.4,
             "#fde0ef"
            ],
            [
             0.5,
             "#f7f7f7"
            ],
            [
             0.6,
             "#e6f5d0"
            ],
            [
             0.7,
             "#b8e186"
            ],
            [
             0.8,
             "#7fbc41"
            ],
            [
             0.9,
             "#4d9221"
            ],
            [
             1,
             "#276419"
            ]
           ],
           "sequential": [
            [
             0,
             "#0d0887"
            ],
            [
             0.1111111111111111,
             "#46039f"
            ],
            [
             0.2222222222222222,
             "#7201a8"
            ],
            [
             0.3333333333333333,
             "#9c179e"
            ],
            [
             0.4444444444444444,
             "#bd3786"
            ],
            [
             0.5555555555555556,
             "#d8576b"
            ],
            [
             0.6666666666666666,
             "#ed7953"
            ],
            [
             0.7777777777777778,
             "#fb9f3a"
            ],
            [
             0.8888888888888888,
             "#fdca26"
            ],
            [
             1,
             "#f0f921"
            ]
           ],
           "sequentialminus": [
            [
             0,
             "#0d0887"
            ],
            [
             0.1111111111111111,
             "#46039f"
            ],
            [
             0.2222222222222222,
             "#7201a8"
            ],
            [
             0.3333333333333333,
             "#9c179e"
            ],
            [
             0.4444444444444444,
             "#bd3786"
            ],
            [
             0.5555555555555556,
             "#d8576b"
            ],
            [
             0.6666666666666666,
             "#ed7953"
            ],
            [
             0.7777777777777778,
             "#fb9f3a"
            ],
            [
             0.8888888888888888,
             "#fdca26"
            ],
            [
             1,
             "#f0f921"
            ]
           ]
          },
          "colorway": [
           "#636efa",
           "#EF553B",
           "#00cc96",
           "#ab63fa",
           "#FFA15A",
           "#19d3f3",
           "#FF6692",
           "#B6E880",
           "#FF97FF",
           "#FECB52"
          ],
          "font": {
           "color": "#2a3f5f"
          },
          "geo": {
           "bgcolor": "white",
           "lakecolor": "white",
           "landcolor": "#E5ECF6",
           "showlakes": true,
           "showland": true,
           "subunitcolor": "white"
          },
          "hoverlabel": {
           "align": "left"
          },
          "hovermode": "closest",
          "mapbox": {
           "style": "light"
          },
          "paper_bgcolor": "white",
          "plot_bgcolor": "#E5ECF6",
          "polar": {
           "angularaxis": {
            "gridcolor": "white",
            "linecolor": "white",
            "ticks": ""
           },
           "bgcolor": "#E5ECF6",
           "radialaxis": {
            "gridcolor": "white",
            "linecolor": "white",
            "ticks": ""
           }
          },
          "scene": {
           "xaxis": {
            "backgroundcolor": "#E5ECF6",
            "gridcolor": "white",
            "gridwidth": 2,
            "linecolor": "white",
            "showbackground": true,
            "ticks": "",
            "zerolinecolor": "white"
           },
           "yaxis": {
            "backgroundcolor": "#E5ECF6",
            "gridcolor": "white",
            "gridwidth": 2,
            "linecolor": "white",
            "showbackground": true,
            "ticks": "",
            "zerolinecolor": "white"
           },
           "zaxis": {
            "backgroundcolor": "#E5ECF6",
            "gridcolor": "white",
            "gridwidth": 2,
            "linecolor": "white",
            "showbackground": true,
            "ticks": "",
            "zerolinecolor": "white"
           }
          },
          "shapedefaults": {
           "line": {
            "color": "#2a3f5f"
           }
          },
          "ternary": {
           "aaxis": {
            "gridcolor": "white",
            "linecolor": "white",
            "ticks": ""
           },
           "baxis": {
            "gridcolor": "white",
            "linecolor": "white",
            "ticks": ""
           },
           "bgcolor": "#E5ECF6",
           "caxis": {
            "gridcolor": "white",
            "linecolor": "white",
            "ticks": ""
           }
          },
          "title": {
           "x": 0.05
          },
          "xaxis": {
           "automargin": true,
           "gridcolor": "white",
           "linecolor": "white",
           "ticks": "",
           "title": {
            "standoff": 15
           },
           "zerolinecolor": "white",
           "zerolinewidth": 2
          },
          "yaxis": {
           "automargin": true,
           "gridcolor": "white",
           "linecolor": "white",
           "ticks": "",
           "title": {
            "standoff": 15
           },
           "zerolinecolor": "white",
           "zerolinewidth": 2
          }
         }
        },
        "title": {
         "text": "Heatmap Queue size aux trades"
        },
        "xaxis": {
         "title": {
          "text": "Queue size opposite"
         }
        },
        "yaxis": {
         "title": {
          "text": "Queue size same"
         }
        }
       }
      }
     },
     "metadata": {},
     "output_type": "display_data"
    },
    {
     "data": {
      "application/vnd.plotly.v1+json": {
       "config": {
        "plotlyServerURL": "https://plot.ly"
       },
       "data": [
        {
         "line": {
          "color": "blue"
         },
         "mode": "lines",
         "name": "same",
         "showlegend": true,
         "type": "scatter",
         "x": [
          "1970-01-01T14:00:14.419136",
          "1970-01-01T14:00:54.185814",
          "1970-01-01T14:01:38.179237",
          "1970-01-01T14:02:25.486661",
          "1970-01-01T14:03:13.237978",
          "1970-01-01T14:04:03.136301",
          "1970-01-01T14:04:54.406360",
          "1970-01-01T14:05:41.228582",
          "1970-01-01T14:06:21.661031",
          "1970-01-01T14:06:58.488221",
          "1970-01-01T14:07:35.808083",
          "1970-01-01T14:08:13.797265",
          "1970-01-01T14:08:51.840811",
          "1970-01-01T14:09:30.707272",
          "1970-01-01T14:10:10.857925",
          "1970-01-01T14:10:49.769435",
          "1970-01-01T14:11:28.170867",
          "1970-01-01T14:12:08.942062",
          "1970-01-01T14:12:49.672029",
          "1970-01-01T14:13:29.870683",
          "1970-01-01T14:14:11.181173",
          "1970-01-01T14:14:52.187624",
          "1970-01-01T14:15:28.822308",
          "1970-01-01T14:16:08.108010",
          "1970-01-01T14:16:49.551771",
          "1970-01-01T14:17:28.729946",
          "1970-01-01T14:18:09.473338",
          "1970-01-01T14:18:50.849577",
          "1970-01-01T14:19:34.457239",
          "1970-01-01T14:20:17.208636",
          "1970-01-01T14:20:59.520957",
          "1970-01-01T14:21:42.902912",
          "1970-01-01T14:22:25.789420",
          "1970-01-01T14:23:09.186855",
          "1970-01-01T14:23:54.433564",
          "1970-01-01T14:24:39.679290",
          "1970-01-01T14:25:24.703521",
          "1970-01-01T14:26:08.723160",
          "1970-01-01T14:26:55.527506",
          "1970-01-01T14:27:41.832105",
          "1970-01-01T14:28:29.721641",
          "1970-01-01T14:29:17.210259",
          "1970-01-01T14:30:02.540570",
          "1970-01-01T14:30:40.497730",
          "1970-01-01T14:31:21.182566",
          "1970-01-01T14:32:05.312443",
          "1970-01-01T14:32:49.295311",
          "1970-01-01T14:33:33.762119",
          "1970-01-01T14:34:17.683568",
          "1970-01-01T14:35:02.709423",
          "1970-01-01T14:35:45.180869",
          "1970-01-01T14:36:27.841676",
          "1970-01-01T14:37:10.886660",
          "1970-01-01T14:37:55.343663",
          "1970-01-01T14:38:40.033897",
          "1970-01-01T14:39:26.083481",
          "1970-01-01T14:40:12.594326",
          "1970-01-01T14:40:56.498117",
          "1970-01-01T14:41:42.864136",
          "1970-01-01T14:42:31.459204",
          "1970-01-01T14:43:18.571295",
          "1970-01-01T14:44:05.813729",
          "1970-01-01T14:44:54.359366",
          "1970-01-01T14:45:38.479162",
          "1970-01-01T14:46:24.210364",
          "1970-01-01T14:47:11.068999",
          "1970-01-01T14:47:55.669638",
          "1970-01-01T14:48:39.906212",
          "1970-01-01T14:49:24.654595",
          "1970-01-01T14:50:10.199078",
          "1970-01-01T14:50:54.781853",
          "1970-01-01T14:51:39.741121",
          "1970-01-01T14:52:26.356303",
          "1970-01-01T14:53:15.321418",
          "1970-01-01T14:54:06.028860",
          "1970-01-01T14:54:57.874002",
          "1970-01-01T14:55:47.855124",
          "1970-01-01T14:56:39.443113",
          "1970-01-01T14:57:29.516712",
          "1970-01-01T14:58:21.016575",
          "1970-01-01T14:59:13.636602",
          "1970-01-01T15:00:01.599780",
          "1970-01-01T15:00:43.613934",
          "1970-01-01T15:01:28.960330",
          "1970-01-01T15:02:18.471743",
          "1970-01-01T15:03:10.540242",
          "1970-01-01T15:04:05.924157",
          "1970-01-01T15:05:04.224219",
          "1970-01-01T15:05:59.661196",
          "1970-01-01T15:06:54.330917",
          "1970-01-01T15:07:50.170187",
          "1970-01-01T15:08:45.347787",
          "1970-01-01T15:09:43.404158",
          "1970-01-01T15:10:39.240343",
          "1970-01-01T15:11:34.211456",
          "1970-01-01T15:12:30.651210",
          "1970-01-01T15:13:26.198447",
          "1970-01-01T15:14:22.911251",
          "1970-01-01T15:15:21.465866",
          "1970-01-01T15:16:18.322480",
          "1970-01-01T15:17:16.912839",
          "1970-01-01T15:18:18.019559",
          "1970-01-01T15:19:20.549625",
          "1970-01-01T15:20:21.668933",
          "1970-01-01T15:21:20.959703",
          "1970-01-01T15:22:21.764135",
          "1970-01-01T15:23:21.087449",
          "1970-01-01T15:24:20.776552",
          "1970-01-01T15:25:22.032250",
          "1970-01-01T15:26:23.633380",
          "1970-01-01T15:27:26.076789",
          "1970-01-01T15:28:27.116932",
          "1970-01-01T15:29:28.368126",
          "1970-01-01T15:30:24.758335",
          "1970-01-01T15:31:24.683147",
          "1970-01-01T15:32:25.427605",
          "1970-01-01T15:33:27.243759",
          "1970-01-01T15:34:30.516054",
          "1970-01-01T15:35:32.760823",
          "1970-01-01T15:36:36.576462",
          "1970-01-01T15:37:40.430134",
          "1970-01-01T15:38:45.098183",
          "1970-01-01T15:39:52.303356",
          "1970-01-01T15:40:57.673528",
          "1970-01-01T15:42:04.667301",
          "1970-01-01T15:43:11.573401",
          "1970-01-01T15:44:19.566814",
          "1970-01-01T15:45:22.011883",
          "1970-01-01T15:46:25.111184",
          "1970-01-01T15:47:33.427602",
          "1970-01-01T15:48:45.210274",
          "1970-01-01T15:49:58.421609",
          "1970-01-01T15:51:05.561960",
          "1970-01-01T15:52:13.865456",
          "1970-01-01T15:53:23.306448",
          "1970-01-01T15:54:35.400180",
          "1970-01-01T15:55:47.413655",
          "1970-01-01T15:56:55.235789",
          "1970-01-01T15:58:01.185299",
          "1970-01-01T15:59:07.558432",
          "1970-01-01T16:00:10.891456",
          "1970-01-01T16:01:12.632308",
          "1970-01-01T16:02:20.036384",
          "1970-01-01T16:03:29.345625",
          "1970-01-01T16:04:40.457516",
          "1970-01-01T16:05:48.853152",
          "1970-01-01T16:06:58.573306",
          "1970-01-01T16:08:13.505834",
          "1970-01-01T16:09:29.782507",
          "1970-01-01T16:10:44.133639",
          "1970-01-01T16:11:57.985837",
          "1970-01-01T16:13:09.073607",
          "1970-01-01T16:14:25.341563",
          "1970-01-01T16:15:39.466087",
          "1970-01-01T16:16:54.541844",
          "1970-01-01T16:18:15.185437",
          "1970-01-01T16:19:38.944498",
          "1970-01-01T16:20:57.538936",
          "1970-01-01T16:22:20.130143",
          "1970-01-01T16:23:36.048603",
          "1970-01-01T16:24:53.199668",
          "1970-01-01T16:26:12.280319",
          "1970-01-01T16:27:32.660874",
          "1970-01-01T16:28:55.774448",
          "1970-01-01T16:30:19.161604",
          "1970-01-01T16:31:32.176464",
          "1970-01-01T16:32:50.034296",
          "1970-01-01T16:34:10.602239",
          "1970-01-01T16:35:32.466337",
          "1970-01-01T16:36:49.979750",
          "1970-01-01T16:38:13.107222",
          "1970-01-01T16:39:37.398553",
          "1970-01-01T16:40:58.949267",
          "1970-01-01T16:42:19.829535",
          "1970-01-01T16:43:40.409978",
          "1970-01-01T16:45:00.589931",
          "1970-01-01T16:46:18.683391",
          "1970-01-01T16:47:38.171991",
          "1970-01-01T16:48:59.072726",
          "1970-01-01T16:50:18.812657",
          "1970-01-01T16:51:33.110100",
          "1970-01-01T16:52:49.282257",
          "1970-01-01T16:54:10.151929",
          "1970-01-01T16:55:31.910582",
          "1970-01-01T16:56:49.490746",
          "1970-01-01T16:58:05.482222",
          "1970-01-01T16:59:25.385468",
          "1970-01-01T17:00:40.191110",
          "1970-01-01T17:02:03.377996",
          "1970-01-01T17:03:32.022026",
          "1970-01-01T17:05:00.420613",
          "1970-01-01T17:06:19.893382",
          "1970-01-01T17:07:38.332382",
          "1970-01-01T17:08:55.129588",
          "1970-01-01T17:10:15.585202",
          "1970-01-01T17:11:32.798233",
          "1970-01-01T17:12:53.346471",
          "1970-01-01T17:14:13.403814",
          "1970-01-01T17:15:33.666745",
          "1970-01-01T17:16:52.384547",
          "1970-01-01T17:18:17.784037",
          "1970-01-01T17:19:44.568681",
          "1970-01-01T17:21:10.254910",
          "1970-01-01T17:22:37.992011",
          "1970-01-01T17:24:04.798997",
          "1970-01-01T17:25:37.176201",
          "1970-01-01T17:27:04.686641",
          "1970-01-01T17:28:28.856980",
          "1970-01-01T17:29:51.701841",
          "1970-01-01T17:31:07.267969",
          "1970-01-01T17:32:23.469680",
          "1970-01-01T17:33:46.897817",
          "1970-01-01T17:35:10.915243",
          "1970-01-01T17:36:36.087819",
          "1970-01-01T17:38:01.124816",
          "1970-01-01T17:39:27.184671",
          "1970-01-01T17:40:51.272623",
          "1970-01-01T17:42:18.772842",
          "1970-01-01T17:43:45.103482",
          "1970-01-01T17:45:11.092730",
          "1970-01-01T17:46:30.104992",
          "1970-01-01T17:47:47.286944",
          "1970-01-01T17:49:10.688178",
          "1970-01-01T17:50:34.869290",
          "1970-01-01T17:51:56.417391",
          "1970-01-01T17:53:21.019843",
          "1970-01-01T17:54:46.097615",
          "1970-01-01T17:56:12.614862",
          "1970-01-01T17:57:41.999373",
          "1970-01-01T17:59:14.132075",
          "1970-01-01T18:00:28.160680",
          "1970-01-01T18:01:26.159299",
          "1970-01-01T18:02:33.866862",
          "1970-01-01T18:03:45.223909",
          "1970-01-01T18:05:00.317362",
          "1970-01-01T18:06:14.590454",
          "1970-01-01T18:07:30.551587",
          "1970-01-01T18:08:48.229396",
          "1970-01-01T18:10:04.723500",
          "1970-01-01T18:11:21.434675",
          "1970-01-01T18:12:38.141274",
          "1970-01-01T18:13:59.304050",
          "1970-01-01T18:15:16.787158",
          "1970-01-01T18:16:28.964251",
          "1970-01-01T18:17:48.569103",
          "1970-01-01T18:19:12.120969",
          "1970-01-01T18:20:33.021981",
          "1970-01-01T18:21:50.807152",
          "1970-01-01T18:23:08.860857",
          "1970-01-01T18:24:33.745582",
          "1970-01-01T18:25:57.797512",
          "1970-01-01T18:27:18.118566",
          "1970-01-01T18:28:33.029641",
          "1970-01-01T18:29:48.353725",
          "1970-01-01T18:30:56.588432",
          "1970-01-01T18:32:10.215037",
          "1970-01-01T18:33:30.734065",
          "1970-01-01T18:34:51.833212",
          "1970-01-01T18:36:08.218556",
          "1970-01-01T18:37:25.018363",
          "1970-01-01T18:38:44.210995",
          "1970-01-01T18:40:02.452514",
          "1970-01-01T18:41:08.582887",
          "1970-01-01T18:42:20.422140",
          "1970-01-01T18:43:32.363877",
          "1970-01-01T18:44:47.659148",
          "1970-01-01T18:45:56.713186",
          "1970-01-01T18:47:07.838625",
          "1970-01-01T18:48:20.111576",
          "1970-01-01T18:49:36.173751",
          "1970-01-01T18:50:50.085735",
          "1970-01-01T18:51:59.357845",
          "1970-01-01T18:53:12.590448",
          "1970-01-01T18:54:31.475477",
          "1970-01-01T18:55:45.783869",
          "1970-01-01T18:57:01.452885",
          "1970-01-01T18:58:14.223831",
          "1970-01-01T18:59:24.266673"
         ],
         "y": [
          159.56422,
          177.33699,
          171.62431,
          176.40462,
          177.74576,
          179.55009,
          174.05123,
          192.11864,
          190.92962,
          201.00674,
          190.52851,
          190.14702,
          191.91318,
          193.24892,
          186.03741,
          191.6167,
          187.22235,
          189.13011,
          189.26809,
          186.88899,
          182.43776,
          185.26023,
          175.90475,
          192.43268,
          189.62039,
          190.59016,
          187.25012,
          191.77954,
          193.2066,
          193.14946,
          195.2419,
          190.85404,
          180.82554,
          186.71849,
          194.25633,
          188.49861,
          181.48327,
          187.08662,
          196.44072,
          189.30154,
          191.22762,
          188.99455,
          182.18262,
          189.07415,
          186.06747,
          190.96168,
          202.67259,
          200.7638,
          215.80347,
          196.79776,
          189.89526,
          187.79671,
          194.37821,
          192.58293,
          201.28242,
          201.42715,
          197.51309,
          192.07667,
          197.05771,
          196.27148,
          196.63545,
          197.88144,
          186.28251,
          190.89041,
          198.70473,
          202.81209,
          193.2206,
          193.64236,
          191.68751,
          191.28644,
          189.64848,
          203.49078,
          197.94159,
          204.36921,
          210.14821,
          211.18726,
          201.0066,
          214.33214,
          198.51683,
          205.20248,
          206.59261,
          200.23104,
          184.95105,
          189.01666,
          194.5904,
          193.49284,
          199.24566,
          205.56066,
          200.5624,
          201.69512,
          200.00333,
          194.62968,
          201.23301,
          224.54881,
          203.86071,
          207.03375,
          202.06771,
          203.75143,
          201.1256,
          215.4281,
          200.92496,
          200.4684,
          191.98224,
          189.48441,
          195.68213,
          208.58749,
          208.03324,
          206.57043,
          206.89112,
          204.21759,
          206.77401,
          201.46156,
          207.2299,
          201.21548,
          207.49841,
          207.3966,
          216.19228,
          211.16783,
          201.93223,
          214.6123,
          211.73547,
          234.67221,
          216.25586,
          221.36623,
          221.34521,
          226.70962,
          217.85531,
          202.99321,
          214.10236,
          216.95913,
          209.22684,
          218.38701,
          206.9611,
          222.27996,
          214.05244,
          225.08491,
          215.22183,
          217.3336,
          216.50259,
          217.98265,
          220.95454,
          208.91677,
          223.13521,
          222.45656,
          222.51945,
          217.10656,
          217.17886,
          221.56548,
          224.53149,
          224.84671,
          229.91358,
          224.38941,
          227.13203,
          214.12436,
          219.15264,
          222.57494,
          223.40712,
          233.15404,
          230.29812,
          218.33,
          225.43593,
          215.67192,
          221.02623,
          220.01204,
          224.11899,
          233.70044,
          238.92917,
          270.39835,
          274.00623,
          227.14851,
          226.31468,
          228.52822,
          228.80014,
          223.4877,
          225.17079,
          231.22748,
          230.93851,
          235.0402,
          224.49582,
          230.89079,
          236.88621,
          233.83106,
          231.55155,
          235.05935,
          240.74215,
          232.11632,
          243.95856,
          232.8828,
          226.57226,
          235.55407,
          234.16617,
          223.84185,
          229.59853,
          224.97269,
          233.07911,
          245.42707,
          246.49442,
          247.09351,
          244.56909,
          249.24908,
          236.83361,
          236.52629,
          240.53593,
          225.78512,
          233.38442,
          233.9733,
          244.09549,
          233.59432,
          226.49364,
          214.77713,
          224.27398,
          227.53382,
          232.50648,
          228.05385,
          231.74954,
          232.80444,
          232.8079,
          233.43203,
          238.51143,
          256.91384,
          240.25319,
          236.6918,
          237.45526,
          240.58353,
          240.30357,
          239.60579,
          233.16381,
          247.54444,
          251.83178,
          249.19162,
          211.33213,
          216.6819,
          219.70867,
          223.26978,
          232.11775,
          238.5458,
          256.92361,
          240.56413,
          240.93468,
          239.82864,
          238.68688,
          238.63786,
          230.78784,
          246.53505,
          249.15466,
          259.39192,
          261.74241,
          245.52779,
          251.58101,
          254.30229,
          244.97076,
          255.82454,
          247.37186,
          243.67305,
          228.61402,
          244.9157,
          242.90087,
          238.74981,
          236.43358,
          233.99672,
          249.25757,
          241.40957,
          233.02195,
          243.88706,
          238.82019,
          228.86503,
          234.66808,
          245.64904,
          237.44802,
          246.06761,
          255.34545,
          237.52402,
          258.95738,
          251.33414,
          251.86862,
          274.45267,
          255.04748,
          253.57886165014955
         ]
        },
        {
         "line": {
          "color": "red"
         },
         "mode": "lines",
         "name": "Opposite",
         "showlegend": true,
         "type": "scatter",
         "x": [
          "1970-01-01T14:00:14.419136",
          "1970-01-01T14:00:54.185814",
          "1970-01-01T14:01:38.179237",
          "1970-01-01T14:02:25.486661",
          "1970-01-01T14:03:13.237978",
          "1970-01-01T14:04:03.136301",
          "1970-01-01T14:04:54.406360",
          "1970-01-01T14:05:41.228582",
          "1970-01-01T14:06:21.661031",
          "1970-01-01T14:06:58.488221",
          "1970-01-01T14:07:35.808083",
          "1970-01-01T14:08:13.797265",
          "1970-01-01T14:08:51.840811",
          "1970-01-01T14:09:30.707272",
          "1970-01-01T14:10:10.857925",
          "1970-01-01T14:10:49.769435",
          "1970-01-01T14:11:28.170867",
          "1970-01-01T14:12:08.942062",
          "1970-01-01T14:12:49.672029",
          "1970-01-01T14:13:29.870683",
          "1970-01-01T14:14:11.181173",
          "1970-01-01T14:14:52.187624",
          "1970-01-01T14:15:28.822308",
          "1970-01-01T14:16:08.108010",
          "1970-01-01T14:16:49.551771",
          "1970-01-01T14:17:28.729946",
          "1970-01-01T14:18:09.473338",
          "1970-01-01T14:18:50.849577",
          "1970-01-01T14:19:34.457239",
          "1970-01-01T14:20:17.208636",
          "1970-01-01T14:20:59.520957",
          "1970-01-01T14:21:42.902912",
          "1970-01-01T14:22:25.789420",
          "1970-01-01T14:23:09.186855",
          "1970-01-01T14:23:54.433564",
          "1970-01-01T14:24:39.679290",
          "1970-01-01T14:25:24.703521",
          "1970-01-01T14:26:08.723160",
          "1970-01-01T14:26:55.527506",
          "1970-01-01T14:27:41.832105",
          "1970-01-01T14:28:29.721641",
          "1970-01-01T14:29:17.210259",
          "1970-01-01T14:30:02.540570",
          "1970-01-01T14:30:40.497730",
          "1970-01-01T14:31:21.182566",
          "1970-01-01T14:32:05.312443",
          "1970-01-01T14:32:49.295311",
          "1970-01-01T14:33:33.762119",
          "1970-01-01T14:34:17.683568",
          "1970-01-01T14:35:02.709423",
          "1970-01-01T14:35:45.180869",
          "1970-01-01T14:36:27.841676",
          "1970-01-01T14:37:10.886660",
          "1970-01-01T14:37:55.343663",
          "1970-01-01T14:38:40.033897",
          "1970-01-01T14:39:26.083481",
          "1970-01-01T14:40:12.594326",
          "1970-01-01T14:40:56.498117",
          "1970-01-01T14:41:42.864136",
          "1970-01-01T14:42:31.459204",
          "1970-01-01T14:43:18.571295",
          "1970-01-01T14:44:05.813729",
          "1970-01-01T14:44:54.359366",
          "1970-01-01T14:45:38.479162",
          "1970-01-01T14:46:24.210364",
          "1970-01-01T14:47:11.068999",
          "1970-01-01T14:47:55.669638",
          "1970-01-01T14:48:39.906212",
          "1970-01-01T14:49:24.654595",
          "1970-01-01T14:50:10.199078",
          "1970-01-01T14:50:54.781853",
          "1970-01-01T14:51:39.741121",
          "1970-01-01T14:52:26.356303",
          "1970-01-01T14:53:15.321418",
          "1970-01-01T14:54:06.028860",
          "1970-01-01T14:54:57.874002",
          "1970-01-01T14:55:47.855124",
          "1970-01-01T14:56:39.443113",
          "1970-01-01T14:57:29.516712",
          "1970-01-01T14:58:21.016575",
          "1970-01-01T14:59:13.636602",
          "1970-01-01T15:00:01.599780",
          "1970-01-01T15:00:43.613934",
          "1970-01-01T15:01:28.960330",
          "1970-01-01T15:02:18.471743",
          "1970-01-01T15:03:10.540242",
          "1970-01-01T15:04:05.924157",
          "1970-01-01T15:05:04.224219",
          "1970-01-01T15:05:59.661196",
          "1970-01-01T15:06:54.330917",
          "1970-01-01T15:07:50.170187",
          "1970-01-01T15:08:45.347787",
          "1970-01-01T15:09:43.404158",
          "1970-01-01T15:10:39.240343",
          "1970-01-01T15:11:34.211456",
          "1970-01-01T15:12:30.651210",
          "1970-01-01T15:13:26.198447",
          "1970-01-01T15:14:22.911251",
          "1970-01-01T15:15:21.465866",
          "1970-01-01T15:16:18.322480",
          "1970-01-01T15:17:16.912839",
          "1970-01-01T15:18:18.019559",
          "1970-01-01T15:19:20.549625",
          "1970-01-01T15:20:21.668933",
          "1970-01-01T15:21:20.959703",
          "1970-01-01T15:22:21.764135",
          "1970-01-01T15:23:21.087449",
          "1970-01-01T15:24:20.776552",
          "1970-01-01T15:25:22.032250",
          "1970-01-01T15:26:23.633380",
          "1970-01-01T15:27:26.076789",
          "1970-01-01T15:28:27.116932",
          "1970-01-01T15:29:28.368126",
          "1970-01-01T15:30:24.758335",
          "1970-01-01T15:31:24.683147",
          "1970-01-01T15:32:25.427605",
          "1970-01-01T15:33:27.243759",
          "1970-01-01T15:34:30.516054",
          "1970-01-01T15:35:32.760823",
          "1970-01-01T15:36:36.576462",
          "1970-01-01T15:37:40.430134",
          "1970-01-01T15:38:45.098183",
          "1970-01-01T15:39:52.303356",
          "1970-01-01T15:40:57.673528",
          "1970-01-01T15:42:04.667301",
          "1970-01-01T15:43:11.573401",
          "1970-01-01T15:44:19.566814",
          "1970-01-01T15:45:22.011883",
          "1970-01-01T15:46:25.111184",
          "1970-01-01T15:47:33.427602",
          "1970-01-01T15:48:45.210274",
          "1970-01-01T15:49:58.421609",
          "1970-01-01T15:51:05.561960",
          "1970-01-01T15:52:13.865456",
          "1970-01-01T15:53:23.306448",
          "1970-01-01T15:54:35.400180",
          "1970-01-01T15:55:47.413655",
          "1970-01-01T15:56:55.235789",
          "1970-01-01T15:58:01.185299",
          "1970-01-01T15:59:07.558432",
          "1970-01-01T16:00:10.891456",
          "1970-01-01T16:01:12.632308",
          "1970-01-01T16:02:20.036384",
          "1970-01-01T16:03:29.345625",
          "1970-01-01T16:04:40.457516",
          "1970-01-01T16:05:48.853152",
          "1970-01-01T16:06:58.573306",
          "1970-01-01T16:08:13.505834",
          "1970-01-01T16:09:29.782507",
          "1970-01-01T16:10:44.133639",
          "1970-01-01T16:11:57.985837",
          "1970-01-01T16:13:09.073607",
          "1970-01-01T16:14:25.341563",
          "1970-01-01T16:15:39.466087",
          "1970-01-01T16:16:54.541844",
          "1970-01-01T16:18:15.185437",
          "1970-01-01T16:19:38.944498",
          "1970-01-01T16:20:57.538936",
          "1970-01-01T16:22:20.130143",
          "1970-01-01T16:23:36.048603",
          "1970-01-01T16:24:53.199668",
          "1970-01-01T16:26:12.280319",
          "1970-01-01T16:27:32.660874",
          "1970-01-01T16:28:55.774448",
          "1970-01-01T16:30:19.161604",
          "1970-01-01T16:31:32.176464",
          "1970-01-01T16:32:50.034296",
          "1970-01-01T16:34:10.602239",
          "1970-01-01T16:35:32.466337",
          "1970-01-01T16:36:49.979750",
          "1970-01-01T16:38:13.107222",
          "1970-01-01T16:39:37.398553",
          "1970-01-01T16:40:58.949267",
          "1970-01-01T16:42:19.829535",
          "1970-01-01T16:43:40.409978",
          "1970-01-01T16:45:00.589931",
          "1970-01-01T16:46:18.683391",
          "1970-01-01T16:47:38.171991",
          "1970-01-01T16:48:59.072726",
          "1970-01-01T16:50:18.812657",
          "1970-01-01T16:51:33.110100",
          "1970-01-01T16:52:49.282257",
          "1970-01-01T16:54:10.151929",
          "1970-01-01T16:55:31.910582",
          "1970-01-01T16:56:49.490746",
          "1970-01-01T16:58:05.482222",
          "1970-01-01T16:59:25.385468",
          "1970-01-01T17:00:40.191110",
          "1970-01-01T17:02:03.377996",
          "1970-01-01T17:03:32.022026",
          "1970-01-01T17:05:00.420613",
          "1970-01-01T17:06:19.893382",
          "1970-01-01T17:07:38.332382",
          "1970-01-01T17:08:55.129588",
          "1970-01-01T17:10:15.585202",
          "1970-01-01T17:11:32.798233",
          "1970-01-01T17:12:53.346471",
          "1970-01-01T17:14:13.403814",
          "1970-01-01T17:15:33.666745",
          "1970-01-01T17:16:52.384547",
          "1970-01-01T17:18:17.784037",
          "1970-01-01T17:19:44.568681",
          "1970-01-01T17:21:10.254910",
          "1970-01-01T17:22:37.992011",
          "1970-01-01T17:24:04.798997",
          "1970-01-01T17:25:37.176201",
          "1970-01-01T17:27:04.686641",
          "1970-01-01T17:28:28.856980",
          "1970-01-01T17:29:51.701841",
          "1970-01-01T17:31:07.267969",
          "1970-01-01T17:32:23.469680",
          "1970-01-01T17:33:46.897817",
          "1970-01-01T17:35:10.915243",
          "1970-01-01T17:36:36.087819",
          "1970-01-01T17:38:01.124816",
          "1970-01-01T17:39:27.184671",
          "1970-01-01T17:40:51.272623",
          "1970-01-01T17:42:18.772842",
          "1970-01-01T17:43:45.103482",
          "1970-01-01T17:45:11.092730",
          "1970-01-01T17:46:30.104992",
          "1970-01-01T17:47:47.286944",
          "1970-01-01T17:49:10.688178",
          "1970-01-01T17:50:34.869290",
          "1970-01-01T17:51:56.417391",
          "1970-01-01T17:53:21.019843",
          "1970-01-01T17:54:46.097615",
          "1970-01-01T17:56:12.614862",
          "1970-01-01T17:57:41.999373",
          "1970-01-01T17:59:14.132075",
          "1970-01-01T18:00:28.160680",
          "1970-01-01T18:01:26.159299",
          "1970-01-01T18:02:33.866862",
          "1970-01-01T18:03:45.223909",
          "1970-01-01T18:05:00.317362",
          "1970-01-01T18:06:14.590454",
          "1970-01-01T18:07:30.551587",
          "1970-01-01T18:08:48.229396",
          "1970-01-01T18:10:04.723500",
          "1970-01-01T18:11:21.434675",
          "1970-01-01T18:12:38.141274",
          "1970-01-01T18:13:59.304050",
          "1970-01-01T18:15:16.787158",
          "1970-01-01T18:16:28.964251",
          "1970-01-01T18:17:48.569103",
          "1970-01-01T18:19:12.120969",
          "1970-01-01T18:20:33.021981",
          "1970-01-01T18:21:50.807152",
          "1970-01-01T18:23:08.860857",
          "1970-01-01T18:24:33.745582",
          "1970-01-01T18:25:57.797512",
          "1970-01-01T18:27:18.118566",
          "1970-01-01T18:28:33.029641",
          "1970-01-01T18:29:48.353725",
          "1970-01-01T18:30:56.588432",
          "1970-01-01T18:32:10.215037",
          "1970-01-01T18:33:30.734065",
          "1970-01-01T18:34:51.833212",
          "1970-01-01T18:36:08.218556",
          "1970-01-01T18:37:25.018363",
          "1970-01-01T18:38:44.210995",
          "1970-01-01T18:40:02.452514",
          "1970-01-01T18:41:08.582887",
          "1970-01-01T18:42:20.422140",
          "1970-01-01T18:43:32.363877",
          "1970-01-01T18:44:47.659148",
          "1970-01-01T18:45:56.713186",
          "1970-01-01T18:47:07.838625",
          "1970-01-01T18:48:20.111576",
          "1970-01-01T18:49:36.173751",
          "1970-01-01T18:50:50.085735",
          "1970-01-01T18:51:59.357845",
          "1970-01-01T18:53:12.590448",
          "1970-01-01T18:54:31.475477",
          "1970-01-01T18:55:45.783869",
          "1970-01-01T18:57:01.452885",
          "1970-01-01T18:58:14.223831",
          "1970-01-01T18:59:24.266673"
         ],
         "y": [
          157.40116,
          153.9325,
          147.51011,
          157.3117,
          173.0226,
          164.91469,
          153.84732,
          184.49839,
          175.72295,
          184.80828,
          167.67271,
          167.60107,
          178.80375,
          171.11063,
          169.20789,
          173.82256,
          166.80745,
          175.03961,
          172.12789,
          164.0224,
          164.61833,
          168.78747,
          153.97518,
          172.40925,
          172.98315,
          169.53519,
          162.66706,
          166.93885,
          171.00727,
          173.42044,
          170.87577,
          170.38465,
          163.60508,
          163.40603,
          183.72681,
          171.18876,
          163.96401,
          173.74452,
          177.11658,
          168.02466,
          171.2071,
          168.1881,
          162.22455,
          167.8037,
          166.57627,
          171.48816,
          190.13232,
          216.70904,
          182.37168,
          174.62576,
          164.3184,
          166.03142,
          170.22033,
          170.13523,
          177.54071,
          178.41888,
          180.78738,
          170.99424,
          175.18402,
          176.50263,
          171.79813,
          177.11769,
          167.13162,
          170.82209,
          176.2659,
          182.50258,
          166.4958,
          169.51052,
          171.81595,
          172.10566,
          169.27861,
          177.41385,
          175.29024,
          182.25882,
          192.83489,
          192.47368,
          177.29438,
          191.26173,
          174.95899,
          177.538,
          180.01107,
          174.04981,
          162.4626,
          164.76465,
          174.3185,
          168.52741,
          172.26334,
          181.27035,
          176.92556,
          176.83374,
          178.73835,
          174.89911,
          181.33509,
          203.85409,
          178.9821,
          186.38882,
          176.79312,
          185.74164,
          179.68933,
          205.25003,
          179.16763,
          179.80139,
          172.45862,
          168.46881,
          171.14823,
          188.04856,
          191.23708,
          189.48979,
          181.85316,
          181.97089,
          179.77234,
          175.19351,
          189.21556,
          179.10326,
          183.87035,
          181.35622,
          198.14961,
          192.81788,
          178.74224,
          194.07368,
          187.22301,
          220.98672,
          192.59341,
          198.77294,
          205.22027,
          203.98466,
          200.49195,
          173.0511,
          205.01411,
          197.18533,
          189.48658,
          196.89567,
          187.35711,
          201.88418,
          188.23542,
          200.60535,
          189.76465,
          188.55764,
          194.60032,
          195.24506,
          199.09902,
          184.56573,
          198.73189,
          193.21919,
          194.43057,
          193.39698,
          189.18668,
          190.70456,
          191.3576,
          197.15285,
          212.79063,
          199.59879,
          207.55797,
          188.77306,
          193.87068,
          194.91372,
          202.53902,
          204.05175,
          205.96003,
          191.92122,
          195.21549,
          189.0638,
          196.61581,
          196.80008,
          196.3519,
          207.0893,
          197.43545,
          258.21848,
          266.3836,
          198.84582,
          198.29287,
          198.36411,
          216.11547,
          198.36476,
          198.10031,
          202.12836,
          209.56528,
          206.36298,
          195.52705,
          200.29556,
          206.11683,
          198.13956,
          202.22764,
          203.58941,
          211.38008,
          201.96066,
          212.14313,
          199.17274,
          193.00458,
          218.55396,
          200.69714,
          192.85148,
          201.34807,
          192.30547,
          202.75416,
          219.63419,
          208.17253,
          218.79489,
          214.42507,
          216.35478,
          207.58802,
          207.68932,
          211.02131,
          197.75678,
          203.98635,
          209.19619,
          214.18044,
          200.80263,
          200.01979,
          189.24886,
          198.71237,
          190.75553,
          203.19906,
          198.88845,
          197.93098,
          207.65364,
          203.92797,
          203.37061,
          215.59457,
          234.1069,
          216.98959,
          217.63586,
          210.3844,
          204.25347,
          214.42536,
          209.77628,
          209.41644,
          218.83382,
          222.24731,
          222.01069,
          185.4259,
          190.16253,
          189.99495,
          194.16387,
          203.02036,
          206.34393,
          230.42368,
          210.07566,
          209.30869,
          203.02703,
          225.68282,
          215.15011,
          204.34217,
          221.32611,
          219.0557,
          223.74594,
          223.73074,
          221.44256,
          216.93413,
          219.21733,
          216.14128,
          230.66119,
          216.48633,
          213.45337,
          198.58982,
          214.49436,
          210.2923,
          209.89654,
          207.4318,
          205.18311,
          216.6923,
          207.42522,
          196.54693,
          211.09536,
          207.39072,
          198.97217,
          198.80124,
          214.25846,
          209.13429,
          219.98029,
          224.31495,
          214.67696,
          241.70993,
          247.01377,
          245.8105,
          241.19397,
          223.16189,
          228.9832877383094
         ]
        }
       ],
       "layout": {
        "showlegend": true,
        "template": {
         "data": {
          "bar": [
           {
            "error_x": {
             "color": "#2a3f5f"
            },
            "error_y": {
             "color": "#2a3f5f"
            },
            "marker": {
             "line": {
              "color": "#E5ECF6",
              "width": 0.5
             },
             "pattern": {
              "fillmode": "overlay",
              "size": 10,
              "solidity": 0.2
             }
            },
            "type": "bar"
           }
          ],
          "barpolar": [
           {
            "marker": {
             "line": {
              "color": "#E5ECF6",
              "width": 0.5
             },
             "pattern": {
              "fillmode": "overlay",
              "size": 10,
              "solidity": 0.2
             }
            },
            "type": "barpolar"
           }
          ],
          "carpet": [
           {
            "aaxis": {
             "endlinecolor": "#2a3f5f",
             "gridcolor": "white",
             "linecolor": "white",
             "minorgridcolor": "white",
             "startlinecolor": "#2a3f5f"
            },
            "baxis": {
             "endlinecolor": "#2a3f5f",
             "gridcolor": "white",
             "linecolor": "white",
             "minorgridcolor": "white",
             "startlinecolor": "#2a3f5f"
            },
            "type": "carpet"
           }
          ],
          "choropleth": [
           {
            "colorbar": {
             "outlinewidth": 0,
             "ticks": ""
            },
            "type": "choropleth"
           }
          ],
          "contour": [
           {
            "colorbar": {
             "outlinewidth": 0,
             "ticks": ""
            },
            "colorscale": [
             [
              0,
              "#0d0887"
             ],
             [
              0.1111111111111111,
              "#46039f"
             ],
             [
              0.2222222222222222,
              "#7201a8"
             ],
             [
              0.3333333333333333,
              "#9c179e"
             ],
             [
              0.4444444444444444,
              "#bd3786"
             ],
             [
              0.5555555555555556,
              "#d8576b"
             ],
             [
              0.6666666666666666,
              "#ed7953"
             ],
             [
              0.7777777777777778,
              "#fb9f3a"
             ],
             [
              0.8888888888888888,
              "#fdca26"
             ],
             [
              1,
              "#f0f921"
             ]
            ],
            "type": "contour"
           }
          ],
          "contourcarpet": [
           {
            "colorbar": {
             "outlinewidth": 0,
             "ticks": ""
            },
            "type": "contourcarpet"
           }
          ],
          "heatmap": [
           {
            "colorbar": {
             "outlinewidth": 0,
             "ticks": ""
            },
            "colorscale": [
             [
              0,
              "#0d0887"
             ],
             [
              0.1111111111111111,
              "#46039f"
             ],
             [
              0.2222222222222222,
              "#7201a8"
             ],
             [
              0.3333333333333333,
              "#9c179e"
             ],
             [
              0.4444444444444444,
              "#bd3786"
             ],
             [
              0.5555555555555556,
              "#d8576b"
             ],
             [
              0.6666666666666666,
              "#ed7953"
             ],
             [
              0.7777777777777778,
              "#fb9f3a"
             ],
             [
              0.8888888888888888,
              "#fdca26"
             ],
             [
              1,
              "#f0f921"
             ]
            ],
            "type": "heatmap"
           }
          ],
          "heatmapgl": [
           {
            "colorbar": {
             "outlinewidth": 0,
             "ticks": ""
            },
            "colorscale": [
             [
              0,
              "#0d0887"
             ],
             [
              0.1111111111111111,
              "#46039f"
             ],
             [
              0.2222222222222222,
              "#7201a8"
             ],
             [
              0.3333333333333333,
              "#9c179e"
             ],
             [
              0.4444444444444444,
              "#bd3786"
             ],
             [
              0.5555555555555556,
              "#d8576b"
             ],
             [
              0.6666666666666666,
              "#ed7953"
             ],
             [
              0.7777777777777778,
              "#fb9f3a"
             ],
             [
              0.8888888888888888,
              "#fdca26"
             ],
             [
              1,
              "#f0f921"
             ]
            ],
            "type": "heatmapgl"
           }
          ],
          "histogram": [
           {
            "marker": {
             "pattern": {
              "fillmode": "overlay",
              "size": 10,
              "solidity": 0.2
             }
            },
            "type": "histogram"
           }
          ],
          "histogram2d": [
           {
            "colorbar": {
             "outlinewidth": 0,
             "ticks": ""
            },
            "colorscale": [
             [
              0,
              "#0d0887"
             ],
             [
              0.1111111111111111,
              "#46039f"
             ],
             [
              0.2222222222222222,
              "#7201a8"
             ],
             [
              0.3333333333333333,
              "#9c179e"
             ],
             [
              0.4444444444444444,
              "#bd3786"
             ],
             [
              0.5555555555555556,
              "#d8576b"
             ],
             [
              0.6666666666666666,
              "#ed7953"
             ],
             [
              0.7777777777777778,
              "#fb9f3a"
             ],
             [
              0.8888888888888888,
              "#fdca26"
             ],
             [
              1,
              "#f0f921"
             ]
            ],
            "type": "histogram2d"
           }
          ],
          "histogram2dcontour": [
           {
            "colorbar": {
             "outlinewidth": 0,
             "ticks": ""
            },
            "colorscale": [
             [
              0,
              "#0d0887"
             ],
             [
              0.1111111111111111,
              "#46039f"
             ],
             [
              0.2222222222222222,
              "#7201a8"
             ],
             [
              0.3333333333333333,
              "#9c179e"
             ],
             [
              0.4444444444444444,
              "#bd3786"
             ],
             [
              0.5555555555555556,
              "#d8576b"
             ],
             [
              0.6666666666666666,
              "#ed7953"
             ],
             [
              0.7777777777777778,
              "#fb9f3a"
             ],
             [
              0.8888888888888888,
              "#fdca26"
             ],
             [
              1,
              "#f0f921"
             ]
            ],
            "type": "histogram2dcontour"
           }
          ],
          "mesh3d": [
           {
            "colorbar": {
             "outlinewidth": 0,
             "ticks": ""
            },
            "type": "mesh3d"
           }
          ],
          "parcoords": [
           {
            "line": {
             "colorbar": {
              "outlinewidth": 0,
              "ticks": ""
             }
            },
            "type": "parcoords"
           }
          ],
          "pie": [
           {
            "automargin": true,
            "type": "pie"
           }
          ],
          "scatter": [
           {
            "fillpattern": {
             "fillmode": "overlay",
             "size": 10,
             "solidity": 0.2
            },
            "type": "scatter"
           }
          ],
          "scatter3d": [
           {
            "line": {
             "colorbar": {
              "outlinewidth": 0,
              "ticks": ""
             }
            },
            "marker": {
             "colorbar": {
              "outlinewidth": 0,
              "ticks": ""
             }
            },
            "type": "scatter3d"
           }
          ],
          "scattercarpet": [
           {
            "marker": {
             "colorbar": {
              "outlinewidth": 0,
              "ticks": ""
             }
            },
            "type": "scattercarpet"
           }
          ],
          "scattergeo": [
           {
            "marker": {
             "colorbar": {
              "outlinewidth": 0,
              "ticks": ""
             }
            },
            "type": "scattergeo"
           }
          ],
          "scattergl": [
           {
            "marker": {
             "colorbar": {
              "outlinewidth": 0,
              "ticks": ""
             }
            },
            "type": "scattergl"
           }
          ],
          "scattermapbox": [
           {
            "marker": {
             "colorbar": {
              "outlinewidth": 0,
              "ticks": ""
             }
            },
            "type": "scattermapbox"
           }
          ],
          "scatterpolar": [
           {
            "marker": {
             "colorbar": {
              "outlinewidth": 0,
              "ticks": ""
             }
            },
            "type": "scatterpolar"
           }
          ],
          "scatterpolargl": [
           {
            "marker": {
             "colorbar": {
              "outlinewidth": 0,
              "ticks": ""
             }
            },
            "type": "scatterpolargl"
           }
          ],
          "scatterternary": [
           {
            "marker": {
             "colorbar": {
              "outlinewidth": 0,
              "ticks": ""
             }
            },
            "type": "scatterternary"
           }
          ],
          "surface": [
           {
            "colorbar": {
             "outlinewidth": 0,
             "ticks": ""
            },
            "colorscale": [
             [
              0,
              "#0d0887"
             ],
             [
              0.1111111111111111,
              "#46039f"
             ],
             [
              0.2222222222222222,
              "#7201a8"
             ],
             [
              0.3333333333333333,
              "#9c179e"
             ],
             [
              0.4444444444444444,
              "#bd3786"
             ],
             [
              0.5555555555555556,
              "#d8576b"
             ],
             [
              0.6666666666666666,
              "#ed7953"
             ],
             [
              0.7777777777777778,
              "#fb9f3a"
             ],
             [
              0.8888888888888888,
              "#fdca26"
             ],
             [
              1,
              "#f0f921"
             ]
            ],
            "type": "surface"
           }
          ],
          "table": [
           {
            "cells": {
             "fill": {
              "color": "#EBF0F8"
             },
             "line": {
              "color": "white"
             }
            },
            "header": {
             "fill": {
              "color": "#C8D4E3"
             },
             "line": {
              "color": "white"
             }
            },
            "type": "table"
           }
          ]
         },
         "layout": {
          "annotationdefaults": {
           "arrowcolor": "#2a3f5f",
           "arrowhead": 0,
           "arrowwidth": 1
          },
          "autotypenumbers": "strict",
          "coloraxis": {
           "colorbar": {
            "outlinewidth": 0,
            "ticks": ""
           }
          },
          "colorscale": {
           "diverging": [
            [
             0,
             "#8e0152"
            ],
            [
             0.1,
             "#c51b7d"
            ],
            [
             0.2,
             "#de77ae"
            ],
            [
             0.3,
             "#f1b6da"
            ],
            [
             0.4,
             "#fde0ef"
            ],
            [
             0.5,
             "#f7f7f7"
            ],
            [
             0.6,
             "#e6f5d0"
            ],
            [
             0.7,
             "#b8e186"
            ],
            [
             0.8,
             "#7fbc41"
            ],
            [
             0.9,
             "#4d9221"
            ],
            [
             1,
             "#276419"
            ]
           ],
           "sequential": [
            [
             0,
             "#0d0887"
            ],
            [
             0.1111111111111111,
             "#46039f"
            ],
            [
             0.2222222222222222,
             "#7201a8"
            ],
            [
             0.3333333333333333,
             "#9c179e"
            ],
            [
             0.4444444444444444,
             "#bd3786"
            ],
            [
             0.5555555555555556,
             "#d8576b"
            ],
            [
             0.6666666666666666,
             "#ed7953"
            ],
            [
             0.7777777777777778,
             "#fb9f3a"
            ],
            [
             0.8888888888888888,
             "#fdca26"
            ],
            [
             1,
             "#f0f921"
            ]
           ],
           "sequentialminus": [
            [
             0,
             "#0d0887"
            ],
            [
             0.1111111111111111,
             "#46039f"
            ],
            [
             0.2222222222222222,
             "#7201a8"
            ],
            [
             0.3333333333333333,
             "#9c179e"
            ],
            [
             0.4444444444444444,
             "#bd3786"
            ],
            [
             0.5555555555555556,
             "#d8576b"
            ],
            [
             0.6666666666666666,
             "#ed7953"
            ],
            [
             0.7777777777777778,
             "#fb9f3a"
            ],
            [
             0.8888888888888888,
             "#fdca26"
            ],
            [
             1,
             "#f0f921"
            ]
           ]
          },
          "colorway": [
           "#636efa",
           "#EF553B",
           "#00cc96",
           "#ab63fa",
           "#FFA15A",
           "#19d3f3",
           "#FF6692",
           "#B6E880",
           "#FF97FF",
           "#FECB52"
          ],
          "font": {
           "color": "#2a3f5f"
          },
          "geo": {
           "bgcolor": "white",
           "lakecolor": "white",
           "landcolor": "#E5ECF6",
           "showlakes": true,
           "showland": true,
           "subunitcolor": "white"
          },
          "hoverlabel": {
           "align": "left"
          },
          "hovermode": "closest",
          "mapbox": {
           "style": "light"
          },
          "paper_bgcolor": "white",
          "plot_bgcolor": "#E5ECF6",
          "polar": {
           "angularaxis": {
            "gridcolor": "white",
            "linecolor": "white",
            "ticks": ""
           },
           "bgcolor": "#E5ECF6",
           "radialaxis": {
            "gridcolor": "white",
            "linecolor": "white",
            "ticks": ""
           }
          },
          "scene": {
           "xaxis": {
            "backgroundcolor": "#E5ECF6",
            "gridcolor": "white",
            "gridwidth": 2,
            "linecolor": "white",
            "showbackground": true,
            "ticks": "",
            "zerolinecolor": "white"
           },
           "yaxis": {
            "backgroundcolor": "#E5ECF6",
            "gridcolor": "white",
            "gridwidth": 2,
            "linecolor": "white",
            "showbackground": true,
            "ticks": "",
            "zerolinecolor": "white"
           },
           "zaxis": {
            "backgroundcolor": "#E5ECF6",
            "gridcolor": "white",
            "gridwidth": 2,
            "linecolor": "white",
            "showbackground": true,
            "ticks": "",
            "zerolinecolor": "white"
           }
          },
          "shapedefaults": {
           "line": {
            "color": "#2a3f5f"
           }
          },
          "ternary": {
           "aaxis": {
            "gridcolor": "white",
            "linecolor": "white",
            "ticks": ""
           },
           "baxis": {
            "gridcolor": "white",
            "linecolor": "white",
            "ticks": ""
           },
           "bgcolor": "#E5ECF6",
           "caxis": {
            "gridcolor": "white",
            "linecolor": "white",
            "ticks": ""
           }
          },
          "title": {
           "x": 0.05
          },
          "xaxis": {
           "automargin": true,
           "gridcolor": "white",
           "linecolor": "white",
           "ticks": "",
           "title": {
            "standoff": 15
           },
           "zerolinecolor": "white",
           "zerolinewidth": 2
          },
          "yaxis": {
           "automargin": true,
           "gridcolor": "white",
           "linecolor": "white",
           "ticks": "",
           "title": {
            "standoff": 15
           },
           "zerolinecolor": "white",
           "zerolinewidth": 2
          }
         }
        },
        "title": {
         "text": "Queue size aux add"
        },
        "xaxis": {
         "title": {
          "text": "time"
         }
        },
        "yaxis": {
         "title": {
          "text": "Queue size"
         }
        }
       }
      }
     },
     "metadata": {},
     "output_type": "display_data"
    },
    {
     "data": {
      "application/vnd.plotly.v1+json": {
       "config": {
        "plotlyServerURL": "https://plot.ly"
       },
       "data": [
        {
         "line": {
          "color": "blue"
         },
         "mode": "markers",
         "name": "same",
         "showlegend": true,
         "type": "scatter",
         "x": [
          157.40116,
          153.9325,
          147.51011,
          157.3117,
          173.0226,
          164.91469,
          153.84732,
          184.49839,
          175.72295,
          184.80828,
          167.67271,
          167.60107,
          178.80375,
          171.11063,
          169.20789,
          173.82256,
          166.80745,
          175.03961,
          172.12789,
          164.0224,
          164.61833,
          168.78747,
          153.97518,
          172.40925,
          172.98315,
          169.53519,
          162.66706,
          166.93885,
          171.00727,
          173.42044,
          170.87577,
          170.38465,
          163.60508,
          163.40603,
          183.72681,
          171.18876,
          163.96401,
          173.74452,
          177.11658,
          168.02466,
          171.2071,
          168.1881,
          162.22455,
          167.8037,
          166.57627,
          171.48816,
          190.13232,
          216.70904,
          182.37168,
          174.62576,
          164.3184,
          166.03142,
          170.22033,
          170.13523,
          177.54071,
          178.41888,
          180.78738,
          170.99424,
          175.18402,
          176.50263,
          171.79813,
          177.11769,
          167.13162,
          170.82209,
          176.2659,
          182.50258,
          166.4958,
          169.51052,
          171.81595,
          172.10566,
          169.27861,
          177.41385,
          175.29024,
          182.25882,
          192.83489,
          192.47368,
          177.29438,
          191.26173,
          174.95899,
          177.538,
          180.01107,
          174.04981,
          162.4626,
          164.76465,
          174.3185,
          168.52741,
          172.26334,
          181.27035,
          176.92556,
          176.83374,
          178.73835,
          174.89911,
          181.33509,
          203.85409,
          178.9821,
          186.38882,
          176.79312,
          185.74164,
          179.68933,
          205.25003,
          179.16763,
          179.80139,
          172.45862,
          168.46881,
          171.14823,
          188.04856,
          191.23708,
          189.48979,
          181.85316,
          181.97089,
          179.77234,
          175.19351,
          189.21556,
          179.10326,
          183.87035,
          181.35622,
          198.14961,
          192.81788,
          178.74224,
          194.07368,
          187.22301,
          220.98672,
          192.59341,
          198.77294,
          205.22027,
          203.98466,
          200.49195,
          173.0511,
          205.01411,
          197.18533,
          189.48658,
          196.89567,
          187.35711,
          201.88418,
          188.23542,
          200.60535,
          189.76465,
          188.55764,
          194.60032,
          195.24506,
          199.09902,
          184.56573,
          198.73189,
          193.21919,
          194.43057,
          193.39698,
          189.18668,
          190.70456,
          191.3576,
          197.15285,
          212.79063,
          199.59879,
          207.55797,
          188.77306,
          193.87068,
          194.91372,
          202.53902,
          204.05175,
          205.96003,
          191.92122,
          195.21549,
          189.0638,
          196.61581,
          196.80008,
          196.3519,
          207.0893,
          197.43545,
          258.21848,
          266.3836,
          198.84582,
          198.29287,
          198.36411,
          216.11547,
          198.36476,
          198.10031,
          202.12836,
          209.56528,
          206.36298,
          195.52705,
          200.29556,
          206.11683,
          198.13956,
          202.22764,
          203.58941,
          211.38008,
          201.96066,
          212.14313,
          199.17274,
          193.00458,
          218.55396,
          200.69714,
          192.85148,
          201.34807,
          192.30547,
          202.75416,
          219.63419,
          208.17253,
          218.79489,
          214.42507,
          216.35478,
          207.58802,
          207.68932,
          211.02131,
          197.75678,
          203.98635,
          209.19619,
          214.18044,
          200.80263,
          200.01979,
          189.24886,
          198.71237,
          190.75553,
          203.19906,
          198.88845,
          197.93098,
          207.65364,
          203.92797,
          203.37061,
          215.59457,
          234.1069,
          216.98959,
          217.63586,
          210.3844,
          204.25347,
          214.42536,
          209.77628,
          209.41644,
          218.83382,
          222.24731,
          222.01069,
          185.4259,
          190.16253,
          189.99495,
          194.16387,
          203.02036,
          206.34393,
          230.42368,
          210.07566,
          209.30869,
          203.02703,
          225.68282,
          215.15011,
          204.34217,
          221.32611,
          219.0557,
          223.74594,
          223.73074,
          221.44256,
          216.93413,
          219.21733,
          216.14128,
          230.66119,
          216.48633,
          213.45337,
          198.58982,
          214.49436,
          210.2923,
          209.89654,
          207.4318,
          205.18311,
          216.6923,
          207.42522,
          196.54693,
          211.09536,
          207.39072,
          198.97217,
          198.80124,
          214.25846,
          209.13429,
          219.98029,
          224.31495,
          214.67696,
          241.70993,
          247.01377,
          245.8105,
          241.19397,
          223.16189,
          228.9832877383094
         ],
         "y": [
          159.56422,
          177.33699,
          171.62431,
          176.40462,
          177.74576,
          179.55009,
          174.05123,
          192.11864,
          190.92962,
          201.00674,
          190.52851,
          190.14702,
          191.91318,
          193.24892,
          186.03741,
          191.6167,
          187.22235,
          189.13011,
          189.26809,
          186.88899,
          182.43776,
          185.26023,
          175.90475,
          192.43268,
          189.62039,
          190.59016,
          187.25012,
          191.77954,
          193.2066,
          193.14946,
          195.2419,
          190.85404,
          180.82554,
          186.71849,
          194.25633,
          188.49861,
          181.48327,
          187.08662,
          196.44072,
          189.30154,
          191.22762,
          188.99455,
          182.18262,
          189.07415,
          186.06747,
          190.96168,
          202.67259,
          200.7638,
          215.80347,
          196.79776,
          189.89526,
          187.79671,
          194.37821,
          192.58293,
          201.28242,
          201.42715,
          197.51309,
          192.07667,
          197.05771,
          196.27148,
          196.63545,
          197.88144,
          186.28251,
          190.89041,
          198.70473,
          202.81209,
          193.2206,
          193.64236,
          191.68751,
          191.28644,
          189.64848,
          203.49078,
          197.94159,
          204.36921,
          210.14821,
          211.18726,
          201.0066,
          214.33214,
          198.51683,
          205.20248,
          206.59261,
          200.23104,
          184.95105,
          189.01666,
          194.5904,
          193.49284,
          199.24566,
          205.56066,
          200.5624,
          201.69512,
          200.00333,
          194.62968,
          201.23301,
          224.54881,
          203.86071,
          207.03375,
          202.06771,
          203.75143,
          201.1256,
          215.4281,
          200.92496,
          200.4684,
          191.98224,
          189.48441,
          195.68213,
          208.58749,
          208.03324,
          206.57043,
          206.89112,
          204.21759,
          206.77401,
          201.46156,
          207.2299,
          201.21548,
          207.49841,
          207.3966,
          216.19228,
          211.16783,
          201.93223,
          214.6123,
          211.73547,
          234.67221,
          216.25586,
          221.36623,
          221.34521,
          226.70962,
          217.85531,
          202.99321,
          214.10236,
          216.95913,
          209.22684,
          218.38701,
          206.9611,
          222.27996,
          214.05244,
          225.08491,
          215.22183,
          217.3336,
          216.50259,
          217.98265,
          220.95454,
          208.91677,
          223.13521,
          222.45656,
          222.51945,
          217.10656,
          217.17886,
          221.56548,
          224.53149,
          224.84671,
          229.91358,
          224.38941,
          227.13203,
          214.12436,
          219.15264,
          222.57494,
          223.40712,
          233.15404,
          230.29812,
          218.33,
          225.43593,
          215.67192,
          221.02623,
          220.01204,
          224.11899,
          233.70044,
          238.92917,
          270.39835,
          274.00623,
          227.14851,
          226.31468,
          228.52822,
          228.80014,
          223.4877,
          225.17079,
          231.22748,
          230.93851,
          235.0402,
          224.49582,
          230.89079,
          236.88621,
          233.83106,
          231.55155,
          235.05935,
          240.74215,
          232.11632,
          243.95856,
          232.8828,
          226.57226,
          235.55407,
          234.16617,
          223.84185,
          229.59853,
          224.97269,
          233.07911,
          245.42707,
          246.49442,
          247.09351,
          244.56909,
          249.24908,
          236.83361,
          236.52629,
          240.53593,
          225.78512,
          233.38442,
          233.9733,
          244.09549,
          233.59432,
          226.49364,
          214.77713,
          224.27398,
          227.53382,
          232.50648,
          228.05385,
          231.74954,
          232.80444,
          232.8079,
          233.43203,
          238.51143,
          256.91384,
          240.25319,
          236.6918,
          237.45526,
          240.58353,
          240.30357,
          239.60579,
          233.16381,
          247.54444,
          251.83178,
          249.19162,
          211.33213,
          216.6819,
          219.70867,
          223.26978,
          232.11775,
          238.5458,
          256.92361,
          240.56413,
          240.93468,
          239.82864,
          238.68688,
          238.63786,
          230.78784,
          246.53505,
          249.15466,
          259.39192,
          261.74241,
          245.52779,
          251.58101,
          254.30229,
          244.97076,
          255.82454,
          247.37186,
          243.67305,
          228.61402,
          244.9157,
          242.90087,
          238.74981,
          236.43358,
          233.99672,
          249.25757,
          241.40957,
          233.02195,
          243.88706,
          238.82019,
          228.86503,
          234.66808,
          245.64904,
          237.44802,
          246.06761,
          255.34545,
          237.52402,
          258.95738,
          251.33414,
          251.86862,
          274.45267,
          255.04748,
          253.57886165014955
         ]
        }
       ],
       "layout": {
        "showlegend": true,
        "template": {
         "data": {
          "bar": [
           {
            "error_x": {
             "color": "#2a3f5f"
            },
            "error_y": {
             "color": "#2a3f5f"
            },
            "marker": {
             "line": {
              "color": "#E5ECF6",
              "width": 0.5
             },
             "pattern": {
              "fillmode": "overlay",
              "size": 10,
              "solidity": 0.2
             }
            },
            "type": "bar"
           }
          ],
          "barpolar": [
           {
            "marker": {
             "line": {
              "color": "#E5ECF6",
              "width": 0.5
             },
             "pattern": {
              "fillmode": "overlay",
              "size": 10,
              "solidity": 0.2
             }
            },
            "type": "barpolar"
           }
          ],
          "carpet": [
           {
            "aaxis": {
             "endlinecolor": "#2a3f5f",
             "gridcolor": "white",
             "linecolor": "white",
             "minorgridcolor": "white",
             "startlinecolor": "#2a3f5f"
            },
            "baxis": {
             "endlinecolor": "#2a3f5f",
             "gridcolor": "white",
             "linecolor": "white",
             "minorgridcolor": "white",
             "startlinecolor": "#2a3f5f"
            },
            "type": "carpet"
           }
          ],
          "choropleth": [
           {
            "colorbar": {
             "outlinewidth": 0,
             "ticks": ""
            },
            "type": "choropleth"
           }
          ],
          "contour": [
           {
            "colorbar": {
             "outlinewidth": 0,
             "ticks": ""
            },
            "colorscale": [
             [
              0,
              "#0d0887"
             ],
             [
              0.1111111111111111,
              "#46039f"
             ],
             [
              0.2222222222222222,
              "#7201a8"
             ],
             [
              0.3333333333333333,
              "#9c179e"
             ],
             [
              0.4444444444444444,
              "#bd3786"
             ],
             [
              0.5555555555555556,
              "#d8576b"
             ],
             [
              0.6666666666666666,
              "#ed7953"
             ],
             [
              0.7777777777777778,
              "#fb9f3a"
             ],
             [
              0.8888888888888888,
              "#fdca26"
             ],
             [
              1,
              "#f0f921"
             ]
            ],
            "type": "contour"
           }
          ],
          "contourcarpet": [
           {
            "colorbar": {
             "outlinewidth": 0,
             "ticks": ""
            },
            "type": "contourcarpet"
           }
          ],
          "heatmap": [
           {
            "colorbar": {
             "outlinewidth": 0,
             "ticks": ""
            },
            "colorscale": [
             [
              0,
              "#0d0887"
             ],
             [
              0.1111111111111111,
              "#46039f"
             ],
             [
              0.2222222222222222,
              "#7201a8"
             ],
             [
              0.3333333333333333,
              "#9c179e"
             ],
             [
              0.4444444444444444,
              "#bd3786"
             ],
             [
              0.5555555555555556,
              "#d8576b"
             ],
             [
              0.6666666666666666,
              "#ed7953"
             ],
             [
              0.7777777777777778,
              "#fb9f3a"
             ],
             [
              0.8888888888888888,
              "#fdca26"
             ],
             [
              1,
              "#f0f921"
             ]
            ],
            "type": "heatmap"
           }
          ],
          "heatmapgl": [
           {
            "colorbar": {
             "outlinewidth": 0,
             "ticks": ""
            },
            "colorscale": [
             [
              0,
              "#0d0887"
             ],
             [
              0.1111111111111111,
              "#46039f"
             ],
             [
              0.2222222222222222,
              "#7201a8"
             ],
             [
              0.3333333333333333,
              "#9c179e"
             ],
             [
              0.4444444444444444,
              "#bd3786"
             ],
             [
              0.5555555555555556,
              "#d8576b"
             ],
             [
              0.6666666666666666,
              "#ed7953"
             ],
             [
              0.7777777777777778,
              "#fb9f3a"
             ],
             [
              0.8888888888888888,
              "#fdca26"
             ],
             [
              1,
              "#f0f921"
             ]
            ],
            "type": "heatmapgl"
           }
          ],
          "histogram": [
           {
            "marker": {
             "pattern": {
              "fillmode": "overlay",
              "size": 10,
              "solidity": 0.2
             }
            },
            "type": "histogram"
           }
          ],
          "histogram2d": [
           {
            "colorbar": {
             "outlinewidth": 0,
             "ticks": ""
            },
            "colorscale": [
             [
              0,
              "#0d0887"
             ],
             [
              0.1111111111111111,
              "#46039f"
             ],
             [
              0.2222222222222222,
              "#7201a8"
             ],
             [
              0.3333333333333333,
              "#9c179e"
             ],
             [
              0.4444444444444444,
              "#bd3786"
             ],
             [
              0.5555555555555556,
              "#d8576b"
             ],
             [
              0.6666666666666666,
              "#ed7953"
             ],
             [
              0.7777777777777778,
              "#fb9f3a"
             ],
             [
              0.8888888888888888,
              "#fdca26"
             ],
             [
              1,
              "#f0f921"
             ]
            ],
            "type": "histogram2d"
           }
          ],
          "histogram2dcontour": [
           {
            "colorbar": {
             "outlinewidth": 0,
             "ticks": ""
            },
            "colorscale": [
             [
              0,
              "#0d0887"
             ],
             [
              0.1111111111111111,
              "#46039f"
             ],
             [
              0.2222222222222222,
              "#7201a8"
             ],
             [
              0.3333333333333333,
              "#9c179e"
             ],
             [
              0.4444444444444444,
              "#bd3786"
             ],
             [
              0.5555555555555556,
              "#d8576b"
             ],
             [
              0.6666666666666666,
              "#ed7953"
             ],
             [
              0.7777777777777778,
              "#fb9f3a"
             ],
             [
              0.8888888888888888,
              "#fdca26"
             ],
             [
              1,
              "#f0f921"
             ]
            ],
            "type": "histogram2dcontour"
           }
          ],
          "mesh3d": [
           {
            "colorbar": {
             "outlinewidth": 0,
             "ticks": ""
            },
            "type": "mesh3d"
           }
          ],
          "parcoords": [
           {
            "line": {
             "colorbar": {
              "outlinewidth": 0,
              "ticks": ""
             }
            },
            "type": "parcoords"
           }
          ],
          "pie": [
           {
            "automargin": true,
            "type": "pie"
           }
          ],
          "scatter": [
           {
            "fillpattern": {
             "fillmode": "overlay",
             "size": 10,
             "solidity": 0.2
            },
            "type": "scatter"
           }
          ],
          "scatter3d": [
           {
            "line": {
             "colorbar": {
              "outlinewidth": 0,
              "ticks": ""
             }
            },
            "marker": {
             "colorbar": {
              "outlinewidth": 0,
              "ticks": ""
             }
            },
            "type": "scatter3d"
           }
          ],
          "scattercarpet": [
           {
            "marker": {
             "colorbar": {
              "outlinewidth": 0,
              "ticks": ""
             }
            },
            "type": "scattercarpet"
           }
          ],
          "scattergeo": [
           {
            "marker": {
             "colorbar": {
              "outlinewidth": 0,
              "ticks": ""
             }
            },
            "type": "scattergeo"
           }
          ],
          "scattergl": [
           {
            "marker": {
             "colorbar": {
              "outlinewidth": 0,
              "ticks": ""
             }
            },
            "type": "scattergl"
           }
          ],
          "scattermapbox": [
           {
            "marker": {
             "colorbar": {
              "outlinewidth": 0,
              "ticks": ""
             }
            },
            "type": "scattermapbox"
           }
          ],
          "scatterpolar": [
           {
            "marker": {
             "colorbar": {
              "outlinewidth": 0,
              "ticks": ""
             }
            },
            "type": "scatterpolar"
           }
          ],
          "scatterpolargl": [
           {
            "marker": {
             "colorbar": {
              "outlinewidth": 0,
              "ticks": ""
             }
            },
            "type": "scatterpolargl"
           }
          ],
          "scatterternary": [
           {
            "marker": {
             "colorbar": {
              "outlinewidth": 0,
              "ticks": ""
             }
            },
            "type": "scatterternary"
           }
          ],
          "surface": [
           {
            "colorbar": {
             "outlinewidth": 0,
             "ticks": ""
            },
            "colorscale": [
             [
              0,
              "#0d0887"
             ],
             [
              0.1111111111111111,
              "#46039f"
             ],
             [
              0.2222222222222222,
              "#7201a8"
             ],
             [
              0.3333333333333333,
              "#9c179e"
             ],
             [
              0.4444444444444444,
              "#bd3786"
             ],
             [
              0.5555555555555556,
              "#d8576b"
             ],
             [
              0.6666666666666666,
              "#ed7953"
             ],
             [
              0.7777777777777778,
              "#fb9f3a"
             ],
             [
              0.8888888888888888,
              "#fdca26"
             ],
             [
              1,
              "#f0f921"
             ]
            ],
            "type": "surface"
           }
          ],
          "table": [
           {
            "cells": {
             "fill": {
              "color": "#EBF0F8"
             },
             "line": {
              "color": "white"
             }
            },
            "header": {
             "fill": {
              "color": "#C8D4E3"
             },
             "line": {
              "color": "white"
             }
            },
            "type": "table"
           }
          ]
         },
         "layout": {
          "annotationdefaults": {
           "arrowcolor": "#2a3f5f",
           "arrowhead": 0,
           "arrowwidth": 1
          },
          "autotypenumbers": "strict",
          "coloraxis": {
           "colorbar": {
            "outlinewidth": 0,
            "ticks": ""
           }
          },
          "colorscale": {
           "diverging": [
            [
             0,
             "#8e0152"
            ],
            [
             0.1,
             "#c51b7d"
            ],
            [
             0.2,
             "#de77ae"
            ],
            [
             0.3,
             "#f1b6da"
            ],
            [
             0.4,
             "#fde0ef"
            ],
            [
             0.5,
             "#f7f7f7"
            ],
            [
             0.6,
             "#e6f5d0"
            ],
            [
             0.7,
             "#b8e186"
            ],
            [
             0.8,
             "#7fbc41"
            ],
            [
             0.9,
             "#4d9221"
            ],
            [
             1,
             "#276419"
            ]
           ],
           "sequential": [
            [
             0,
             "#0d0887"
            ],
            [
             0.1111111111111111,
             "#46039f"
            ],
            [
             0.2222222222222222,
             "#7201a8"
            ],
            [
             0.3333333333333333,
             "#9c179e"
            ],
            [
             0.4444444444444444,
             "#bd3786"
            ],
            [
             0.5555555555555556,
             "#d8576b"
            ],
            [
             0.6666666666666666,
             "#ed7953"
            ],
            [
             0.7777777777777778,
             "#fb9f3a"
            ],
            [
             0.8888888888888888,
             "#fdca26"
            ],
            [
             1,
             "#f0f921"
            ]
           ],
           "sequentialminus": [
            [
             0,
             "#0d0887"
            ],
            [
             0.1111111111111111,
             "#46039f"
            ],
            [
             0.2222222222222222,
             "#7201a8"
            ],
            [
             0.3333333333333333,
             "#9c179e"
            ],
            [
             0.4444444444444444,
             "#bd3786"
            ],
            [
             0.5555555555555556,
             "#d8576b"
            ],
            [
             0.6666666666666666,
             "#ed7953"
            ],
            [
             0.7777777777777778,
             "#fb9f3a"
            ],
            [
             0.8888888888888888,
             "#fdca26"
            ],
            [
             1,
             "#f0f921"
            ]
           ]
          },
          "colorway": [
           "#636efa",
           "#EF553B",
           "#00cc96",
           "#ab63fa",
           "#FFA15A",
           "#19d3f3",
           "#FF6692",
           "#B6E880",
           "#FF97FF",
           "#FECB52"
          ],
          "font": {
           "color": "#2a3f5f"
          },
          "geo": {
           "bgcolor": "white",
           "lakecolor": "white",
           "landcolor": "#E5ECF6",
           "showlakes": true,
           "showland": true,
           "subunitcolor": "white"
          },
          "hoverlabel": {
           "align": "left"
          },
          "hovermode": "closest",
          "mapbox": {
           "style": "light"
          },
          "paper_bgcolor": "white",
          "plot_bgcolor": "#E5ECF6",
          "polar": {
           "angularaxis": {
            "gridcolor": "white",
            "linecolor": "white",
            "ticks": ""
           },
           "bgcolor": "#E5ECF6",
           "radialaxis": {
            "gridcolor": "white",
            "linecolor": "white",
            "ticks": ""
           }
          },
          "scene": {
           "xaxis": {
            "backgroundcolor": "#E5ECF6",
            "gridcolor": "white",
            "gridwidth": 2,
            "linecolor": "white",
            "showbackground": true,
            "ticks": "",
            "zerolinecolor": "white"
           },
           "yaxis": {
            "backgroundcolor": "#E5ECF6",
            "gridcolor": "white",
            "gridwidth": 2,
            "linecolor": "white",
            "showbackground": true,
            "ticks": "",
            "zerolinecolor": "white"
           },
           "zaxis": {
            "backgroundcolor": "#E5ECF6",
            "gridcolor": "white",
            "gridwidth": 2,
            "linecolor": "white",
            "showbackground": true,
            "ticks": "",
            "zerolinecolor": "white"
           }
          },
          "shapedefaults": {
           "line": {
            "color": "#2a3f5f"
           }
          },
          "ternary": {
           "aaxis": {
            "gridcolor": "white",
            "linecolor": "white",
            "ticks": ""
           },
           "baxis": {
            "gridcolor": "white",
            "linecolor": "white",
            "ticks": ""
           },
           "bgcolor": "#E5ECF6",
           "caxis": {
            "gridcolor": "white",
            "linecolor": "white",
            "ticks": ""
           }
          },
          "title": {
           "x": 0.05
          },
          "xaxis": {
           "automargin": true,
           "gridcolor": "white",
           "linecolor": "white",
           "ticks": "",
           "title": {
            "standoff": 15
           },
           "zerolinecolor": "white",
           "zerolinewidth": 2
          },
          "yaxis": {
           "automargin": true,
           "gridcolor": "white",
           "linecolor": "white",
           "ticks": "",
           "title": {
            "standoff": 15
           },
           "zerolinecolor": "white",
           "zerolinewidth": 2
          }
         }
        },
        "title": {
         "text": "Heatmap Queue size aux add"
        },
        "xaxis": {
         "title": {
          "text": "Queue size opposite"
         }
        },
        "yaxis": {
         "title": {
          "text": "Queue size same"
         }
        }
       }
      }
     },
     "metadata": {},
     "output_type": "display_data"
    },
    {
     "data": {
      "application/vnd.plotly.v1+json": {
       "config": {
        "plotlyServerURL": "https://plot.ly"
       },
       "data": [
        {
         "line": {
          "color": "blue"
         },
         "mode": "lines",
         "name": "same",
         "showlegend": true,
         "type": "scatter",
         "x": [
          "1970-01-01T14:12:48.397845",
          "1970-01-01T14:13:38.834736",
          "1970-01-01T14:14:29.176637",
          "1970-01-01T14:15:19.318231",
          "1970-01-01T14:16:09.289612",
          "1970-01-01T14:16:58.979152",
          "1970-01-01T14:17:48.369108",
          "1970-01-01T14:18:37.542975",
          "1970-01-01T14:19:26.942178",
          "1970-01-01T14:20:16.581973",
          "1970-01-01T14:21:06.514517",
          "1970-01-01T14:21:56.660982",
          "1970-01-01T14:22:47.000375",
          "1970-01-01T14:23:37.476516",
          "1970-01-01T14:24:28.091806",
          "1970-01-01T14:25:18.851338",
          "1970-01-01T14:26:09.784004",
          "1970-01-01T14:27:00.942480",
          "1970-01-01T14:27:52.282633",
          "1970-01-01T14:28:43.969119",
          "1970-01-01T14:29:35.978987",
          "1970-01-01T14:30:28.265396",
          "1970-01-01T14:31:20.855433",
          "1970-01-01T14:32:13.681518",
          "1970-01-01T14:33:06.562366",
          "1970-01-01T14:33:59.651557",
          "1970-01-01T14:34:52.852971",
          "1970-01-01T14:35:46.118958",
          "1970-01-01T14:36:39.498374",
          "1970-01-01T14:37:32.913510",
          "1970-01-01T14:38:26.341929",
          "1970-01-01T14:39:19.862163",
          "1970-01-01T14:40:13.552741",
          "1970-01-01T14:41:07.442125",
          "1970-01-01T14:42:01.448170",
          "1970-01-01T14:42:55.595317",
          "1970-01-01T14:43:49.975949",
          "1970-01-01T14:44:44.791630",
          "1970-01-01T14:45:39.982979",
          "1970-01-01T14:46:35.229296",
          "1970-01-01T14:47:30.403945",
          "1970-01-01T14:48:25.687094",
          "1970-01-01T14:49:21.215433",
          "1970-01-01T14:50:17.232421",
          "1970-01-01T14:51:13.825083",
          "1970-01-01T14:52:10.834810",
          "1970-01-01T14:53:08.235574",
          "1970-01-01T14:54:05.943285",
          "1970-01-01T14:55:04.084722",
          "1970-01-01T14:56:02.608572",
          "1970-01-01T14:57:01.405374",
          "1970-01-01T14:58:00.538959",
          "1970-01-01T14:58:59.988999",
          "1970-01-01T14:59:59.887598",
          "1970-01-01T15:01:00.240348",
          "1970-01-01T15:02:01.030520",
          "1970-01-01T15:03:02.435512",
          "1970-01-01T15:04:04.511429",
          "1970-01-01T15:05:07.094331",
          "1970-01-01T15:06:10.228836",
          "1970-01-01T15:07:13.926593",
          "1970-01-01T15:08:18.126480",
          "1970-01-01T15:09:22.740343",
          "1970-01-01T15:10:27.727247",
          "1970-01-01T15:11:33.113386",
          "1970-01-01T15:12:38.913744",
          "1970-01-01T15:13:44.977367",
          "1970-01-01T15:14:51.354359",
          "1970-01-01T15:15:58.053907",
          "1970-01-01T15:17:05.387353",
          "1970-01-01T15:18:13.473626",
          "1970-01-01T15:19:22.153067",
          "1970-01-01T15:20:31.314738",
          "1970-01-01T15:21:40.843262",
          "1970-01-01T15:22:50.704317",
          "1970-01-01T15:24:00.960008",
          "1970-01-01T15:25:11.641465",
          "1970-01-01T15:26:22.773935",
          "1970-01-01T15:27:34.158375",
          "1970-01-01T15:28:45.784391",
          "1970-01-01T15:29:57.889079",
          "1970-01-01T15:31:10.631077",
          "1970-01-01T15:32:23.882462",
          "1970-01-01T15:33:37.474197",
          "1970-01-01T15:34:51.556645",
          "1970-01-01T15:36:06.158547",
          "1970-01-01T15:37:21.156768",
          "1970-01-01T15:38:36.317214",
          "1970-01-01T15:39:51.752559",
          "1970-01-01T15:41:07.388303",
          "1970-01-01T15:42:23.046015",
          "1970-01-01T15:43:38.974038",
          "1970-01-01T15:44:55.283614",
          "1970-01-01T15:46:11.993270",
          "1970-01-01T15:47:29.015801",
          "1970-01-01T15:48:46.515931",
          "1970-01-01T15:50:04.772143",
          "1970-01-01T15:51:23.672424",
          "1970-01-01T15:52:43.108006",
          "1970-01-01T15:54:02.968820",
          "1970-01-01T15:55:23.381447",
          "1970-01-01T15:56:44.225520",
          "1970-01-01T15:58:05.696402",
          "1970-01-01T15:59:27.860292",
          "1970-01-01T16:00:50.510561",
          "1970-01-01T16:02:13.677093",
          "1970-01-01T16:03:37.188820",
          "1970-01-01T16:05:01.124938",
          "1970-01-01T16:06:25.679953",
          "1970-01-01T16:07:51.063324",
          "1970-01-01T16:09:16.859327",
          "1970-01-01T16:10:42.736643",
          "1970-01-01T16:12:09.004484",
          "1970-01-01T16:13:35.854094",
          "1970-01-01T16:15:03.033760",
          "1970-01-01T16:16:30.657097",
          "1970-01-01T16:17:58.759929",
          "1970-01-01T16:19:27.432615",
          "1970-01-01T16:20:56.645739",
          "1970-01-01T16:22:26.475378",
          "1970-01-01T16:23:57.008638",
          "1970-01-01T16:25:28.017190",
          "1970-01-01T16:26:59.475680",
          "1970-01-01T16:28:31.113423",
          "1970-01-01T16:30:03.006333",
          "1970-01-01T16:31:35.145024",
          "1970-01-01T16:33:07.434880",
          "1970-01-01T16:34:39.801231",
          "1970-01-01T16:36:12.262006",
          "1970-01-01T16:37:44.952669",
          "1970-01-01T16:39:17.828581",
          "1970-01-01T16:40:51.326715",
          "1970-01-01T16:42:25.185189",
          "1970-01-01T16:43:58.853910",
          "1970-01-01T16:45:32.466750",
          "1970-01-01T16:47:06.067748",
          "1970-01-01T16:48:39.787112",
          "1970-01-01T16:50:13.633084",
          "1970-01-01T16:51:47.552442",
          "1970-01-01T16:53:21.314316",
          "1970-01-01T16:54:55.190133",
          "1970-01-01T16:56:29.539697",
          "1970-01-01T16:58:04.125143",
          "1970-01-01T16:59:38.888030",
          "1970-01-01T17:01:14.049658",
          "1970-01-01T17:02:49.489368",
          "1970-01-01T17:04:24.970954",
          "1970-01-01T17:06:00.568529",
          "1970-01-01T17:07:35.993706",
          "1970-01-01T17:09:11.256577",
          "1970-01-01T17:10:46.723268",
          "1970-01-01T17:12:22.372105",
          "1970-01-01T17:13:58.196956",
          "1970-01-01T17:15:34.316851",
          "1970-01-01T17:17:10.759963",
          "1970-01-01T17:18:47.423862",
          "1970-01-01T17:20:24.259908",
          "1970-01-01T17:22:01.311696",
          "1970-01-01T17:23:38.365802",
          "1970-01-01T17:25:15.459442",
          "1970-01-01T17:26:52.654269",
          "1970-01-01T17:28:29.477278",
          "1970-01-01T17:30:06.142530",
          "1970-01-01T17:31:43.070076",
          "1970-01-01T17:33:20.366798",
          "1970-01-01T17:34:58.097012",
          "1970-01-01T17:36:35.982665",
          "1970-01-01T17:38:13.154931",
          "1970-01-01T17:39:49.948117",
          "1970-01-01T17:41:26.583581",
          "1970-01-01T17:43:02.997914",
          "1970-01-01T17:44:39.023545",
          "1970-01-01T17:46:14.785015",
          "1970-01-01T17:47:50.163509",
          "1970-01-01T17:49:25.129108",
          "1970-01-01T17:50:59.667607",
          "1970-01-01T17:52:34.033933",
          "1970-01-01T17:54:07.935967",
          "1970-01-01T17:55:42.035485",
          "1970-01-01T17:57:16.437507",
          "1970-01-01T17:58:50.656274",
          "1970-01-01T18:00:24.639607",
          "1970-01-01T18:01:58.531077",
          "1970-01-01T18:03:32.441129",
          "1970-01-01T18:05:06.206456",
          "1970-01-01T18:06:39.542106",
          "1970-01-01T18:08:12.401528",
          "1970-01-01T18:09:44.809098",
          "1970-01-01T18:11:17.341530",
          "1970-01-01T18:12:49.979209",
          "1970-01-01T18:14:22.314288",
          "1970-01-01T18:15:54.572697",
          "1970-01-01T18:17:26.625800",
          "1970-01-01T18:18:58.159218",
          "1970-01-01T18:20:29.175106",
          "1970-01-01T18:21:59.545004",
          "1970-01-01T18:23:29.676336",
          "1970-01-01T18:25:00.121202",
          "1970-01-01T18:26:30.717081",
          "1970-01-01T18:28:01.391054",
          "1970-01-01T18:29:32.029041",
          "1970-01-01T18:31:02.419738",
          "1970-01-01T18:32:32.766711",
          "1970-01-01T18:34:03.094622",
          "1970-01-01T18:35:33.341632",
          "1970-01-01T18:37:03.333870",
          "1970-01-01T18:38:13.314943",
          "1970-01-01T18:38:59.015685",
          "1970-01-01T18:39:44.617749",
          "1970-01-01T18:40:29.953050",
          "1970-01-01T18:41:15.223598",
          "1970-01-01T18:42:00.482828",
          "1970-01-01T18:42:45.429744",
          "1970-01-01T18:43:29.984618",
          "1970-01-01T18:44:14.302435",
          "1970-01-01T18:44:58.664727",
          "1970-01-01T18:45:43.181945",
          "1970-01-01T18:46:27.994672",
          "1970-01-01T18:47:12.566127",
          "1970-01-01T18:47:56.682903",
          "1970-01-01T18:48:40.717438",
          "1970-01-01T18:49:24.486800",
          "1970-01-01T18:50:07.828675",
          "1970-01-01T18:50:51.434365",
          "1970-01-01T18:51:35.092589",
          "1970-01-01T18:52:18.891317",
          "1970-01-01T18:53:02.482550",
          "1970-01-01T18:53:46.541931",
          "1970-01-01T18:54:30.576689",
          "1970-01-01T18:55:14.224991",
          "1970-01-01T18:55:57.788257",
          "1970-01-01T18:56:42.259675",
          "1970-01-01T18:57:26.318119",
          "1970-01-01T18:58:09.738344",
          "1970-01-01T18:58:52.290390",
          "1970-01-01T18:59:34.152331"
         ],
         "y": [
          152.253548,
          152.53258333333332,
          153.16473666666667,
          153.83244633333334,
          154.15960633333333,
          154.69579733333333,
          154.522525,
          154.49468966666666,
          154.27733,
          154.34379366666667,
          154.619616,
          155.07338666666666,
          155.091087,
          155.009648,
          155.122524,
          155.13608566666667,
          155.29479933333334,
          155.711895,
          155.954478,
          156.436613,
          156.43240266666666,
          156.59048266666667,
          156.84784766666667,
          156.722293,
          156.64014,
          156.99991133333333,
          156.94277666666667,
          157.01107866666666,
          157.28873133333335,
          157.14105366666666,
          157.52688233333333,
          157.94250133333333,
          158.416632,
          158.93486833333333,
          159.45933533333334,
          159.92022333333333,
          160.47507866666666,
          160.79030766666668,
          161.22970466666666,
          161.11365566666666,
          160.245975,
          159.69484466666665,
          159.804339,
          159.943039,
          160.34330133333333,
          160.45184233333333,
          160.42212066666667,
          160.351066,
          160.473396,
          161.22574966666667,
          161.403196,
          161.709681,
          161.69414833333335,
          162.15527166666666,
          162.81441333333333,
          162.69022933333332,
          162.95554666666666,
          162.903386,
          162.80886833333332,
          163.40816366666667,
          163.61236866666667,
          163.97084033333334,
          163.917888,
          163.625424,
          163.39643466666666,
          163.41248733333333,
          163.40743766666668,
          163.42832466666667,
          163.26651733333333,
          164.021785,
          164.59721733333333,
          165.00857633333334,
          165.58104733333334,
          166.702783,
          166.98611433333335,
          167.486051,
          168.32963233333334,
          168.98488233333333,
          169.00604533333333,
          168.941797,
          169.373489,
          169.68151133333333,
          169.94488466666667,
          170.36491866666665,
          170.21230133333333,
          170.76055366666668,
          171.226467,
          172.02299266666665,
          172.505563,
          173.001665,
          172.99421,
          173.42506033333333,
          173.957598,
          174.35623233333334,
          174.92060866666668,
          175.19932666666668,
          175.75249066666666,
          176.276203,
          176.90650133333332,
          177.260764,
          177.521873,
          177.84504866666666,
          178.053393,
          177.94235166666667,
          178.274839,
          178.37713633333334,
          178.216415,
          177.918181,
          178.45198333333335,
          178.542285,
          178.578324,
          179.419784,
          180.63449666666668,
          182.656765,
          183.02579633333335,
          183.13338833333333,
          183.53718066666667,
          184.070982,
          184.401675,
          184.46630233333335,
          185.09815066666667,
          185.21418433333332,
          185.28090666666668,
          185.60471966666665,
          186.021398,
          186.354079,
          186.76141433333333,
          187.14345466666666,
          187.10856233333334,
          187.28357033333333,
          187.46651766666668,
          187.82968733333334,
          188.081178,
          187.80534266666666,
          187.75008466666668,
          187.93113533333334,
          188.632199,
          189.378977,
          190.08865466666666,
          190.85924433333332,
          191.218504,
          190.89869033333332,
          190.590158,
          188.83770633333333,
          188.95173166666666,
          189.44502233333333,
          189.47058,
          189.22812266666668,
          189.01898866666667,
          188.83142866666665,
          188.61188433333334,
          188.49517833333334,
          188.56713366666668,
          188.45322133333335,
          188.359444,
          188.411083,
          188.57422333333332,
          189.11214433333333,
          189.37962466666667,
          189.43874366666665,
          189.812151,
          189.93842633333333,
          190.05630233333332,
          190.29877966666666,
          190.86755933333333,
          191.54344333333333,
          190.88540033333334,
          190.30540366666668,
          189.69247966666666,
          189.06151966666667,
          189.16103533333333,
          189.84968133333334,
          189.89626633333333,
          190.39242766666666,
          190.57177166666668,
          190.858913,
          190.82251133333332,
          191.434475,
          192.49423966666666,
          193.72666366666667,
          194.46530833333333,
          195.07567333333333,
          195.83696833333335,
          196.28342,
          197.058241,
          197.53164233333334,
          197.16408966666665,
          196.72187366666665,
          196.80065133333332,
          196.82653366666668,
          196.851474,
          196.99670933333334,
          197.450856,
          197.60063933333333,
          197.54728233333333,
          197.10334633333332,
          197.32193333333333,
          197.93078133333333,
          198.45976333333334,
          199.29372466666666,
          199.71334833333333,
          199.51895933333333,
          200.08201533333335,
          200.16267233333335,
          201.40875066666666,
          201.53307333333333,
          202.19789952304643,
          202.16117046014884,
          202.066657254927,
          201.47258441589742,
          201.36877911454224,
          201.35398000508263,
          201.04129702338093,
          201.17878589568969,
          200.79922418976497,
          200.6465147823515,
          201.3914235480387,
          201.63479883843263,
          202.00170386185903,
          202.46855911234826,
          203.16480522352748,
          203.54005842970847,
          203.5066783530467,
          204.42513206693516,
          204.75872233915862,
          206.01216383178703,
          207.82723063268244,
          209.13771533181205,
          210.71569343838692,
          210.89424097988478,
          211.8014669873826,
          212.90596894322653,
          212.90424394525974,
          216.49184884740666,
          209.17061715050443,
          208.69183025404158
         ]
        },
        {
         "line": {
          "color": "red"
         },
         "mode": "lines",
         "name": "Opposite",
         "showlegend": true,
         "type": "scatter",
         "x": [
          "1970-01-01T14:12:48.397845",
          "1970-01-01T14:13:38.834736",
          "1970-01-01T14:14:29.176637",
          "1970-01-01T14:15:19.318231",
          "1970-01-01T14:16:09.289612",
          "1970-01-01T14:16:58.979152",
          "1970-01-01T14:17:48.369108",
          "1970-01-01T14:18:37.542975",
          "1970-01-01T14:19:26.942178",
          "1970-01-01T14:20:16.581973",
          "1970-01-01T14:21:06.514517",
          "1970-01-01T14:21:56.660982",
          "1970-01-01T14:22:47.000375",
          "1970-01-01T14:23:37.476516",
          "1970-01-01T14:24:28.091806",
          "1970-01-01T14:25:18.851338",
          "1970-01-01T14:26:09.784004",
          "1970-01-01T14:27:00.942480",
          "1970-01-01T14:27:52.282633",
          "1970-01-01T14:28:43.969119",
          "1970-01-01T14:29:35.978987",
          "1970-01-01T14:30:28.265396",
          "1970-01-01T14:31:20.855433",
          "1970-01-01T14:32:13.681518",
          "1970-01-01T14:33:06.562366",
          "1970-01-01T14:33:59.651557",
          "1970-01-01T14:34:52.852971",
          "1970-01-01T14:35:46.118958",
          "1970-01-01T14:36:39.498374",
          "1970-01-01T14:37:32.913510",
          "1970-01-01T14:38:26.341929",
          "1970-01-01T14:39:19.862163",
          "1970-01-01T14:40:13.552741",
          "1970-01-01T14:41:07.442125",
          "1970-01-01T14:42:01.448170",
          "1970-01-01T14:42:55.595317",
          "1970-01-01T14:43:49.975949",
          "1970-01-01T14:44:44.791630",
          "1970-01-01T14:45:39.982979",
          "1970-01-01T14:46:35.229296",
          "1970-01-01T14:47:30.403945",
          "1970-01-01T14:48:25.687094",
          "1970-01-01T14:49:21.215433",
          "1970-01-01T14:50:17.232421",
          "1970-01-01T14:51:13.825083",
          "1970-01-01T14:52:10.834810",
          "1970-01-01T14:53:08.235574",
          "1970-01-01T14:54:05.943285",
          "1970-01-01T14:55:04.084722",
          "1970-01-01T14:56:02.608572",
          "1970-01-01T14:57:01.405374",
          "1970-01-01T14:58:00.538959",
          "1970-01-01T14:58:59.988999",
          "1970-01-01T14:59:59.887598",
          "1970-01-01T15:01:00.240348",
          "1970-01-01T15:02:01.030520",
          "1970-01-01T15:03:02.435512",
          "1970-01-01T15:04:04.511429",
          "1970-01-01T15:05:07.094331",
          "1970-01-01T15:06:10.228836",
          "1970-01-01T15:07:13.926593",
          "1970-01-01T15:08:18.126480",
          "1970-01-01T15:09:22.740343",
          "1970-01-01T15:10:27.727247",
          "1970-01-01T15:11:33.113386",
          "1970-01-01T15:12:38.913744",
          "1970-01-01T15:13:44.977367",
          "1970-01-01T15:14:51.354359",
          "1970-01-01T15:15:58.053907",
          "1970-01-01T15:17:05.387353",
          "1970-01-01T15:18:13.473626",
          "1970-01-01T15:19:22.153067",
          "1970-01-01T15:20:31.314738",
          "1970-01-01T15:21:40.843262",
          "1970-01-01T15:22:50.704317",
          "1970-01-01T15:24:00.960008",
          "1970-01-01T15:25:11.641465",
          "1970-01-01T15:26:22.773935",
          "1970-01-01T15:27:34.158375",
          "1970-01-01T15:28:45.784391",
          "1970-01-01T15:29:57.889079",
          "1970-01-01T15:31:10.631077",
          "1970-01-01T15:32:23.882462",
          "1970-01-01T15:33:37.474197",
          "1970-01-01T15:34:51.556645",
          "1970-01-01T15:36:06.158547",
          "1970-01-01T15:37:21.156768",
          "1970-01-01T15:38:36.317214",
          "1970-01-01T15:39:51.752559",
          "1970-01-01T15:41:07.388303",
          "1970-01-01T15:42:23.046015",
          "1970-01-01T15:43:38.974038",
          "1970-01-01T15:44:55.283614",
          "1970-01-01T15:46:11.993270",
          "1970-01-01T15:47:29.015801",
          "1970-01-01T15:48:46.515931",
          "1970-01-01T15:50:04.772143",
          "1970-01-01T15:51:23.672424",
          "1970-01-01T15:52:43.108006",
          "1970-01-01T15:54:02.968820",
          "1970-01-01T15:55:23.381447",
          "1970-01-01T15:56:44.225520",
          "1970-01-01T15:58:05.696402",
          "1970-01-01T15:59:27.860292",
          "1970-01-01T16:00:50.510561",
          "1970-01-01T16:02:13.677093",
          "1970-01-01T16:03:37.188820",
          "1970-01-01T16:05:01.124938",
          "1970-01-01T16:06:25.679953",
          "1970-01-01T16:07:51.063324",
          "1970-01-01T16:09:16.859327",
          "1970-01-01T16:10:42.736643",
          "1970-01-01T16:12:09.004484",
          "1970-01-01T16:13:35.854094",
          "1970-01-01T16:15:03.033760",
          "1970-01-01T16:16:30.657097",
          "1970-01-01T16:17:58.759929",
          "1970-01-01T16:19:27.432615",
          "1970-01-01T16:20:56.645739",
          "1970-01-01T16:22:26.475378",
          "1970-01-01T16:23:57.008638",
          "1970-01-01T16:25:28.017190",
          "1970-01-01T16:26:59.475680",
          "1970-01-01T16:28:31.113423",
          "1970-01-01T16:30:03.006333",
          "1970-01-01T16:31:35.145024",
          "1970-01-01T16:33:07.434880",
          "1970-01-01T16:34:39.801231",
          "1970-01-01T16:36:12.262006",
          "1970-01-01T16:37:44.952669",
          "1970-01-01T16:39:17.828581",
          "1970-01-01T16:40:51.326715",
          "1970-01-01T16:42:25.185189",
          "1970-01-01T16:43:58.853910",
          "1970-01-01T16:45:32.466750",
          "1970-01-01T16:47:06.067748",
          "1970-01-01T16:48:39.787112",
          "1970-01-01T16:50:13.633084",
          "1970-01-01T16:51:47.552442",
          "1970-01-01T16:53:21.314316",
          "1970-01-01T16:54:55.190133",
          "1970-01-01T16:56:29.539697",
          "1970-01-01T16:58:04.125143",
          "1970-01-01T16:59:38.888030",
          "1970-01-01T17:01:14.049658",
          "1970-01-01T17:02:49.489368",
          "1970-01-01T17:04:24.970954",
          "1970-01-01T17:06:00.568529",
          "1970-01-01T17:07:35.993706",
          "1970-01-01T17:09:11.256577",
          "1970-01-01T17:10:46.723268",
          "1970-01-01T17:12:22.372105",
          "1970-01-01T17:13:58.196956",
          "1970-01-01T17:15:34.316851",
          "1970-01-01T17:17:10.759963",
          "1970-01-01T17:18:47.423862",
          "1970-01-01T17:20:24.259908",
          "1970-01-01T17:22:01.311696",
          "1970-01-01T17:23:38.365802",
          "1970-01-01T17:25:15.459442",
          "1970-01-01T17:26:52.654269",
          "1970-01-01T17:28:29.477278",
          "1970-01-01T17:30:06.142530",
          "1970-01-01T17:31:43.070076",
          "1970-01-01T17:33:20.366798",
          "1970-01-01T17:34:58.097012",
          "1970-01-01T17:36:35.982665",
          "1970-01-01T17:38:13.154931",
          "1970-01-01T17:39:49.948117",
          "1970-01-01T17:41:26.583581",
          "1970-01-01T17:43:02.997914",
          "1970-01-01T17:44:39.023545",
          "1970-01-01T17:46:14.785015",
          "1970-01-01T17:47:50.163509",
          "1970-01-01T17:49:25.129108",
          "1970-01-01T17:50:59.667607",
          "1970-01-01T17:52:34.033933",
          "1970-01-01T17:54:07.935967",
          "1970-01-01T17:55:42.035485",
          "1970-01-01T17:57:16.437507",
          "1970-01-01T17:58:50.656274",
          "1970-01-01T18:00:24.639607",
          "1970-01-01T18:01:58.531077",
          "1970-01-01T18:03:32.441129",
          "1970-01-01T18:05:06.206456",
          "1970-01-01T18:06:39.542106",
          "1970-01-01T18:08:12.401528",
          "1970-01-01T18:09:44.809098",
          "1970-01-01T18:11:17.341530",
          "1970-01-01T18:12:49.979209",
          "1970-01-01T18:14:22.314288",
          "1970-01-01T18:15:54.572697",
          "1970-01-01T18:17:26.625800",
          "1970-01-01T18:18:58.159218",
          "1970-01-01T18:20:29.175106",
          "1970-01-01T18:21:59.545004",
          "1970-01-01T18:23:29.676336",
          "1970-01-01T18:25:00.121202",
          "1970-01-01T18:26:30.717081",
          "1970-01-01T18:28:01.391054",
          "1970-01-01T18:29:32.029041",
          "1970-01-01T18:31:02.419738",
          "1970-01-01T18:32:32.766711",
          "1970-01-01T18:34:03.094622",
          "1970-01-01T18:35:33.341632",
          "1970-01-01T18:37:03.333870",
          "1970-01-01T18:38:13.314943",
          "1970-01-01T18:38:59.015685",
          "1970-01-01T18:39:44.617749",
          "1970-01-01T18:40:29.953050",
          "1970-01-01T18:41:15.223598",
          "1970-01-01T18:42:00.482828",
          "1970-01-01T18:42:45.429744",
          "1970-01-01T18:43:29.984618",
          "1970-01-01T18:44:14.302435",
          "1970-01-01T18:44:58.664727",
          "1970-01-01T18:45:43.181945",
          "1970-01-01T18:46:27.994672",
          "1970-01-01T18:47:12.566127",
          "1970-01-01T18:47:56.682903",
          "1970-01-01T18:48:40.717438",
          "1970-01-01T18:49:24.486800",
          "1970-01-01T18:50:07.828675",
          "1970-01-01T18:50:51.434365",
          "1970-01-01T18:51:35.092589",
          "1970-01-01T18:52:18.891317",
          "1970-01-01T18:53:02.482550",
          "1970-01-01T18:53:46.541931",
          "1970-01-01T18:54:30.576689",
          "1970-01-01T18:55:14.224991",
          "1970-01-01T18:55:57.788257",
          "1970-01-01T18:56:42.259675",
          "1970-01-01T18:57:26.318119",
          "1970-01-01T18:58:09.738344",
          "1970-01-01T18:58:52.290390",
          "1970-01-01T18:59:34.152331"
         ],
         "y": [
          164.407801,
          164.78443366666667,
          165.253926,
          165.614653,
          165.84813966666667,
          166.16703,
          165.683078,
          165.31548966666668,
          165.06816733333332,
          165.30151366666666,
          165.96317733333333,
          166.27323133333334,
          166.40733466666666,
          166.14679766666666,
          166.15040033333332,
          166.07406966666667,
          166.37516333333335,
          166.85128366666666,
          167.130952,
          167.59383533333335,
          167.55328633333335,
          167.61063333333334,
          167.75941433333332,
          167.65342666666666,
          167.67489866666668,
          167.79111866666668,
          167.76386933333333,
          167.69873933333332,
          168.01091633333334,
          167.77523466666668,
          167.94019633333335,
          168.16519233333332,
          168.51257133333334,
          169.26907933333334,
          169.726272,
          170.06645266666666,
          170.622381,
          170.86976366666667,
          171.16530233333333,
          170.91804033333332,
          169.68525166666666,
          169.27909233333332,
          169.19415233333334,
          169.40520333333333,
          169.86010233333334,
          169.972829,
          169.90331966666668,
          169.676431,
          169.77581466666666,
          170.48784566666666,
          170.58290033333333,
          171.107081,
          171.166918,
          171.752785,
          172.75003133333334,
          172.59009866666668,
          172.84158533333334,
          172.89558033333333,
          172.72575333333333,
          173.32916933333334,
          173.71951633333333,
          174.10685233333334,
          174.04302,
          173.461091,
          173.22539466666666,
          173.303714,
          173.39145566666667,
          173.49545033333334,
          173.617739,
          174.73626233333334,
          175.33053533333333,
          175.88417933333332,
          176.53929966666666,
          177.88180566666668,
          178.12419733333334,
          178.792395,
          179.79663966666666,
          180.478714,
          180.37796366666666,
          180.51088966666666,
          180.88143333333332,
          181.08066133333332,
          181.26242,
          181.82376533333334,
          181.31993833333334,
          181.96937466666665,
          182.35945133333334,
          183.06849933333334,
          183.79161233333335,
          184.34176933333333,
          184.167296,
          184.47128233333333,
          184.91674566666666,
          185.37604666666667,
          185.93589133333333,
          186.12329766666667,
          186.48825633333334,
          187.10684166666667,
          187.839706,
          187.937604,
          188.26262066666666,
          188.482305,
          188.60040366666667,
          188.427947,
          188.89803666666666,
          188.74478033333332,
          188.49835,
          188.192241,
          188.90516866666667,
          188.88262933333334,
          188.922954,
          189.64557666666667,
          191.76052533333333,
          194.386133,
          194.72656966666668,
          194.769916,
          195.31605733333333,
          195.78731866666666,
          195.97651533333334,
          195.87274066666666,
          196.68353133333332,
          196.83063333333334,
          196.95205866666666,
          197.20406433333332,
          197.488849,
          197.87790966666665,
          198.232027,
          198.476373,
          198.40355266666666,
          198.47309,
          198.529244,
          199.27379133333332,
          199.47163,
          199.020595,
          198.97280833333335,
          199.167287,
          199.85232366666668,
          200.56821566666667,
          201.297018,
          202.00205766666667,
          202.50539033333334,
          202.390326,
          201.05559933333333,
          198.423751,
          198.38227733333332,
          199.003318,
          198.88772233333333,
          198.776419,
          198.46244633333333,
          198.49353333333335,
          198.088401,
          198.11274233333333,
          198.108879,
          198.14662966666666,
          198.436089,
          198.58196066666667,
          199.04763433333332,
          199.67911366666667,
          200.014196,
          200.314574,
          200.8699,
          200.830644,
          201.170078,
          201.64774533333335,
          202.225974,
          203.129301,
          202.619258,
          202.30273433333332,
          201.711655,
          201.09042933333333,
          201.116558,
          201.618973,
          201.83685833333334,
          202.248074,
          202.449018,
          203.08449366666667,
          203.038711,
          203.50462,
          204.72992433333334,
          205.66262866666668,
          206.448863,
          206.99642366666666,
          207.74171433333333,
          208.33895133333334,
          208.84641933333333,
          209.24356466666666,
          208.65906866666666,
          208.26267033333335,
          208.154955,
          207.89193233333333,
          207.76593466666668,
          207.666469,
          207.87434566666667,
          207.69258,
          207.361726,
          206.670878,
          206.820078,
          207.18266566666668,
          207.61818366666665,
          208.55882933333334,
          209.021746,
          209.10962466666666,
          210.57818633333332,
          210.98163666666667,
          212.56926866666666,
          212.25913033333333,
          213.12036479368103,
          213.217907042877,
          213.0234112789901,
          212.68488911751948,
          212.66733426625092,
          212.71075097416983,
          212.6075152499083,
          212.55259365866462,
          212.29540220392832,
          212.26173091294058,
          213.19489277005908,
          213.43751401296953,
          213.8870836903221,
          214.64040874120468,
          215.6306724082951,
          216.3124065564399,
          216.7847529629105,
          218.31910493984503,
          219.40877547982384,
          221.37810396579954,
          223.4449867284054,
          225.63325204810712,
          228.01010955436948,
          228.91023368079289,
          231.24273527971422,
          233.11187157462058,
          228.1273239848744,
          231.70047450513655,
          222.80789968087296,
          225.01975678406467
         ]
        }
       ],
       "layout": {
        "showlegend": true,
        "template": {
         "data": {
          "bar": [
           {
            "error_x": {
             "color": "#2a3f5f"
            },
            "error_y": {
             "color": "#2a3f5f"
            },
            "marker": {
             "line": {
              "color": "#E5ECF6",
              "width": 0.5
             },
             "pattern": {
              "fillmode": "overlay",
              "size": 10,
              "solidity": 0.2
             }
            },
            "type": "bar"
           }
          ],
          "barpolar": [
           {
            "marker": {
             "line": {
              "color": "#E5ECF6",
              "width": 0.5
             },
             "pattern": {
              "fillmode": "overlay",
              "size": 10,
              "solidity": 0.2
             }
            },
            "type": "barpolar"
           }
          ],
          "carpet": [
           {
            "aaxis": {
             "endlinecolor": "#2a3f5f",
             "gridcolor": "white",
             "linecolor": "white",
             "minorgridcolor": "white",
             "startlinecolor": "#2a3f5f"
            },
            "baxis": {
             "endlinecolor": "#2a3f5f",
             "gridcolor": "white",
             "linecolor": "white",
             "minorgridcolor": "white",
             "startlinecolor": "#2a3f5f"
            },
            "type": "carpet"
           }
          ],
          "choropleth": [
           {
            "colorbar": {
             "outlinewidth": 0,
             "ticks": ""
            },
            "type": "choropleth"
           }
          ],
          "contour": [
           {
            "colorbar": {
             "outlinewidth": 0,
             "ticks": ""
            },
            "colorscale": [
             [
              0,
              "#0d0887"
             ],
             [
              0.1111111111111111,
              "#46039f"
             ],
             [
              0.2222222222222222,
              "#7201a8"
             ],
             [
              0.3333333333333333,
              "#9c179e"
             ],
             [
              0.4444444444444444,
              "#bd3786"
             ],
             [
              0.5555555555555556,
              "#d8576b"
             ],
             [
              0.6666666666666666,
              "#ed7953"
             ],
             [
              0.7777777777777778,
              "#fb9f3a"
             ],
             [
              0.8888888888888888,
              "#fdca26"
             ],
             [
              1,
              "#f0f921"
             ]
            ],
            "type": "contour"
           }
          ],
          "contourcarpet": [
           {
            "colorbar": {
             "outlinewidth": 0,
             "ticks": ""
            },
            "type": "contourcarpet"
           }
          ],
          "heatmap": [
           {
            "colorbar": {
             "outlinewidth": 0,
             "ticks": ""
            },
            "colorscale": [
             [
              0,
              "#0d0887"
             ],
             [
              0.1111111111111111,
              "#46039f"
             ],
             [
              0.2222222222222222,
              "#7201a8"
             ],
             [
              0.3333333333333333,
              "#9c179e"
             ],
             [
              0.4444444444444444,
              "#bd3786"
             ],
             [
              0.5555555555555556,
              "#d8576b"
             ],
             [
              0.6666666666666666,
              "#ed7953"
             ],
             [
              0.7777777777777778,
              "#fb9f3a"
             ],
             [
              0.8888888888888888,
              "#fdca26"
             ],
             [
              1,
              "#f0f921"
             ]
            ],
            "type": "heatmap"
           }
          ],
          "heatmapgl": [
           {
            "colorbar": {
             "outlinewidth": 0,
             "ticks": ""
            },
            "colorscale": [
             [
              0,
              "#0d0887"
             ],
             [
              0.1111111111111111,
              "#46039f"
             ],
             [
              0.2222222222222222,
              "#7201a8"
             ],
             [
              0.3333333333333333,
              "#9c179e"
             ],
             [
              0.4444444444444444,
              "#bd3786"
             ],
             [
              0.5555555555555556,
              "#d8576b"
             ],
             [
              0.6666666666666666,
              "#ed7953"
             ],
             [
              0.7777777777777778,
              "#fb9f3a"
             ],
             [
              0.8888888888888888,
              "#fdca26"
             ],
             [
              1,
              "#f0f921"
             ]
            ],
            "type": "heatmapgl"
           }
          ],
          "histogram": [
           {
            "marker": {
             "pattern": {
              "fillmode": "overlay",
              "size": 10,
              "solidity": 0.2
             }
            },
            "type": "histogram"
           }
          ],
          "histogram2d": [
           {
            "colorbar": {
             "outlinewidth": 0,
             "ticks": ""
            },
            "colorscale": [
             [
              0,
              "#0d0887"
             ],
             [
              0.1111111111111111,
              "#46039f"
             ],
             [
              0.2222222222222222,
              "#7201a8"
             ],
             [
              0.3333333333333333,
              "#9c179e"
             ],
             [
              0.4444444444444444,
              "#bd3786"
             ],
             [
              0.5555555555555556,
              "#d8576b"
             ],
             [
              0.6666666666666666,
              "#ed7953"
             ],
             [
              0.7777777777777778,
              "#fb9f3a"
             ],
             [
              0.8888888888888888,
              "#fdca26"
             ],
             [
              1,
              "#f0f921"
             ]
            ],
            "type": "histogram2d"
           }
          ],
          "histogram2dcontour": [
           {
            "colorbar": {
             "outlinewidth": 0,
             "ticks": ""
            },
            "colorscale": [
             [
              0,
              "#0d0887"
             ],
             [
              0.1111111111111111,
              "#46039f"
             ],
             [
              0.2222222222222222,
              "#7201a8"
             ],
             [
              0.3333333333333333,
              "#9c179e"
             ],
             [
              0.4444444444444444,
              "#bd3786"
             ],
             [
              0.5555555555555556,
              "#d8576b"
             ],
             [
              0.6666666666666666,
              "#ed7953"
             ],
             [
              0.7777777777777778,
              "#fb9f3a"
             ],
             [
              0.8888888888888888,
              "#fdca26"
             ],
             [
              1,
              "#f0f921"
             ]
            ],
            "type": "histogram2dcontour"
           }
          ],
          "mesh3d": [
           {
            "colorbar": {
             "outlinewidth": 0,
             "ticks": ""
            },
            "type": "mesh3d"
           }
          ],
          "parcoords": [
           {
            "line": {
             "colorbar": {
              "outlinewidth": 0,
              "ticks": ""
             }
            },
            "type": "parcoords"
           }
          ],
          "pie": [
           {
            "automargin": true,
            "type": "pie"
           }
          ],
          "scatter": [
           {
            "fillpattern": {
             "fillmode": "overlay",
             "size": 10,
             "solidity": 0.2
            },
            "type": "scatter"
           }
          ],
          "scatter3d": [
           {
            "line": {
             "colorbar": {
              "outlinewidth": 0,
              "ticks": ""
             }
            },
            "marker": {
             "colorbar": {
              "outlinewidth": 0,
              "ticks": ""
             }
            },
            "type": "scatter3d"
           }
          ],
          "scattercarpet": [
           {
            "marker": {
             "colorbar": {
              "outlinewidth": 0,
              "ticks": ""
             }
            },
            "type": "scattercarpet"
           }
          ],
          "scattergeo": [
           {
            "marker": {
             "colorbar": {
              "outlinewidth": 0,
              "ticks": ""
             }
            },
            "type": "scattergeo"
           }
          ],
          "scattergl": [
           {
            "marker": {
             "colorbar": {
              "outlinewidth": 0,
              "ticks": ""
             }
            },
            "type": "scattergl"
           }
          ],
          "scattermapbox": [
           {
            "marker": {
             "colorbar": {
              "outlinewidth": 0,
              "ticks": ""
             }
            },
            "type": "scattermapbox"
           }
          ],
          "scatterpolar": [
           {
            "marker": {
             "colorbar": {
              "outlinewidth": 0,
              "ticks": ""
             }
            },
            "type": "scatterpolar"
           }
          ],
          "scatterpolargl": [
           {
            "marker": {
             "colorbar": {
              "outlinewidth": 0,
              "ticks": ""
             }
            },
            "type": "scatterpolargl"
           }
          ],
          "scatterternary": [
           {
            "marker": {
             "colorbar": {
              "outlinewidth": 0,
              "ticks": ""
             }
            },
            "type": "scatterternary"
           }
          ],
          "surface": [
           {
            "colorbar": {
             "outlinewidth": 0,
             "ticks": ""
            },
            "colorscale": [
             [
              0,
              "#0d0887"
             ],
             [
              0.1111111111111111,
              "#46039f"
             ],
             [
              0.2222222222222222,
              "#7201a8"
             ],
             [
              0.3333333333333333,
              "#9c179e"
             ],
             [
              0.4444444444444444,
              "#bd3786"
             ],
             [
              0.5555555555555556,
              "#d8576b"
             ],
             [
              0.6666666666666666,
              "#ed7953"
             ],
             [
              0.7777777777777778,
              "#fb9f3a"
             ],
             [
              0.8888888888888888,
              "#fdca26"
             ],
             [
              1,
              "#f0f921"
             ]
            ],
            "type": "surface"
           }
          ],
          "table": [
           {
            "cells": {
             "fill": {
              "color": "#EBF0F8"
             },
             "line": {
              "color": "white"
             }
            },
            "header": {
             "fill": {
              "color": "#C8D4E3"
             },
             "line": {
              "color": "white"
             }
            },
            "type": "table"
           }
          ]
         },
         "layout": {
          "annotationdefaults": {
           "arrowcolor": "#2a3f5f",
           "arrowhead": 0,
           "arrowwidth": 1
          },
          "autotypenumbers": "strict",
          "coloraxis": {
           "colorbar": {
            "outlinewidth": 0,
            "ticks": ""
           }
          },
          "colorscale": {
           "diverging": [
            [
             0,
             "#8e0152"
            ],
            [
             0.1,
             "#c51b7d"
            ],
            [
             0.2,
             "#de77ae"
            ],
            [
             0.3,
             "#f1b6da"
            ],
            [
             0.4,
             "#fde0ef"
            ],
            [
             0.5,
             "#f7f7f7"
            ],
            [
             0.6,
             "#e6f5d0"
            ],
            [
             0.7,
             "#b8e186"
            ],
            [
             0.8,
             "#7fbc41"
            ],
            [
             0.9,
             "#4d9221"
            ],
            [
             1,
             "#276419"
            ]
           ],
           "sequential": [
            [
             0,
             "#0d0887"
            ],
            [
             0.1111111111111111,
             "#46039f"
            ],
            [
             0.2222222222222222,
             "#7201a8"
            ],
            [
             0.3333333333333333,
             "#9c179e"
            ],
            [
             0.4444444444444444,
             "#bd3786"
            ],
            [
             0.5555555555555556,
             "#d8576b"
            ],
            [
             0.6666666666666666,
             "#ed7953"
            ],
            [
             0.7777777777777778,
             "#fb9f3a"
            ],
            [
             0.8888888888888888,
             "#fdca26"
            ],
            [
             1,
             "#f0f921"
            ]
           ],
           "sequentialminus": [
            [
             0,
             "#0d0887"
            ],
            [
             0.1111111111111111,
             "#46039f"
            ],
            [
             0.2222222222222222,
             "#7201a8"
            ],
            [
             0.3333333333333333,
             "#9c179e"
            ],
            [
             0.4444444444444444,
             "#bd3786"
            ],
            [
             0.5555555555555556,
             "#d8576b"
            ],
            [
             0.6666666666666666,
             "#ed7953"
            ],
            [
             0.7777777777777778,
             "#fb9f3a"
            ],
            [
             0.8888888888888888,
             "#fdca26"
            ],
            [
             1,
             "#f0f921"
            ]
           ]
          },
          "colorway": [
           "#636efa",
           "#EF553B",
           "#00cc96",
           "#ab63fa",
           "#FFA15A",
           "#19d3f3",
           "#FF6692",
           "#B6E880",
           "#FF97FF",
           "#FECB52"
          ],
          "font": {
           "color": "#2a3f5f"
          },
          "geo": {
           "bgcolor": "white",
           "lakecolor": "white",
           "landcolor": "#E5ECF6",
           "showlakes": true,
           "showland": true,
           "subunitcolor": "white"
          },
          "hoverlabel": {
           "align": "left"
          },
          "hovermode": "closest",
          "mapbox": {
           "style": "light"
          },
          "paper_bgcolor": "white",
          "plot_bgcolor": "#E5ECF6",
          "polar": {
           "angularaxis": {
            "gridcolor": "white",
            "linecolor": "white",
            "ticks": ""
           },
           "bgcolor": "#E5ECF6",
           "radialaxis": {
            "gridcolor": "white",
            "linecolor": "white",
            "ticks": ""
           }
          },
          "scene": {
           "xaxis": {
            "backgroundcolor": "#E5ECF6",
            "gridcolor": "white",
            "gridwidth": 2,
            "linecolor": "white",
            "showbackground": true,
            "ticks": "",
            "zerolinecolor": "white"
           },
           "yaxis": {
            "backgroundcolor": "#E5ECF6",
            "gridcolor": "white",
            "gridwidth": 2,
            "linecolor": "white",
            "showbackground": true,
            "ticks": "",
            "zerolinecolor": "white"
           },
           "zaxis": {
            "backgroundcolor": "#E5ECF6",
            "gridcolor": "white",
            "gridwidth": 2,
            "linecolor": "white",
            "showbackground": true,
            "ticks": "",
            "zerolinecolor": "white"
           }
          },
          "shapedefaults": {
           "line": {
            "color": "#2a3f5f"
           }
          },
          "ternary": {
           "aaxis": {
            "gridcolor": "white",
            "linecolor": "white",
            "ticks": ""
           },
           "baxis": {
            "gridcolor": "white",
            "linecolor": "white",
            "ticks": ""
           },
           "bgcolor": "#E5ECF6",
           "caxis": {
            "gridcolor": "white",
            "linecolor": "white",
            "ticks": ""
           }
          },
          "title": {
           "x": 0.05
          },
          "xaxis": {
           "automargin": true,
           "gridcolor": "white",
           "linecolor": "white",
           "ticks": "",
           "title": {
            "standoff": 15
           },
           "zerolinecolor": "white",
           "zerolinewidth": 2
          },
          "yaxis": {
           "automargin": true,
           "gridcolor": "white",
           "linecolor": "white",
           "ticks": "",
           "title": {
            "standoff": 15
           },
           "zerolinecolor": "white",
           "zerolinewidth": 2
          }
         }
        },
        "title": {
         "text": "Queue size aux cancel"
        },
        "xaxis": {
         "title": {
          "text": "time"
         }
        },
        "yaxis": {
         "title": {
          "text": "Queue size"
         }
        }
       }
      }
     },
     "metadata": {},
     "output_type": "display_data"
    },
    {
     "data": {
      "application/vnd.plotly.v1+json": {
       "config": {
        "plotlyServerURL": "https://plot.ly"
       },
       "data": [
        {
         "line": {
          "color": "blue"
         },
         "mode": "markers",
         "name": "same",
         "showlegend": true,
         "type": "scatter",
         "x": [
          164.407801,
          164.78443366666667,
          165.253926,
          165.614653,
          165.84813966666667,
          166.16703,
          165.683078,
          165.31548966666668,
          165.06816733333332,
          165.30151366666666,
          165.96317733333333,
          166.27323133333334,
          166.40733466666666,
          166.14679766666666,
          166.15040033333332,
          166.07406966666667,
          166.37516333333335,
          166.85128366666666,
          167.130952,
          167.59383533333335,
          167.55328633333335,
          167.61063333333334,
          167.75941433333332,
          167.65342666666666,
          167.67489866666668,
          167.79111866666668,
          167.76386933333333,
          167.69873933333332,
          168.01091633333334,
          167.77523466666668,
          167.94019633333335,
          168.16519233333332,
          168.51257133333334,
          169.26907933333334,
          169.726272,
          170.06645266666666,
          170.622381,
          170.86976366666667,
          171.16530233333333,
          170.91804033333332,
          169.68525166666666,
          169.27909233333332,
          169.19415233333334,
          169.40520333333333,
          169.86010233333334,
          169.972829,
          169.90331966666668,
          169.676431,
          169.77581466666666,
          170.48784566666666,
          170.58290033333333,
          171.107081,
          171.166918,
          171.752785,
          172.75003133333334,
          172.59009866666668,
          172.84158533333334,
          172.89558033333333,
          172.72575333333333,
          173.32916933333334,
          173.71951633333333,
          174.10685233333334,
          174.04302,
          173.461091,
          173.22539466666666,
          173.303714,
          173.39145566666667,
          173.49545033333334,
          173.617739,
          174.73626233333334,
          175.33053533333333,
          175.88417933333332,
          176.53929966666666,
          177.88180566666668,
          178.12419733333334,
          178.792395,
          179.79663966666666,
          180.478714,
          180.37796366666666,
          180.51088966666666,
          180.88143333333332,
          181.08066133333332,
          181.26242,
          181.82376533333334,
          181.31993833333334,
          181.96937466666665,
          182.35945133333334,
          183.06849933333334,
          183.79161233333335,
          184.34176933333333,
          184.167296,
          184.47128233333333,
          184.91674566666666,
          185.37604666666667,
          185.93589133333333,
          186.12329766666667,
          186.48825633333334,
          187.10684166666667,
          187.839706,
          187.937604,
          188.26262066666666,
          188.482305,
          188.60040366666667,
          188.427947,
          188.89803666666666,
          188.74478033333332,
          188.49835,
          188.192241,
          188.90516866666667,
          188.88262933333334,
          188.922954,
          189.64557666666667,
          191.76052533333333,
          194.386133,
          194.72656966666668,
          194.769916,
          195.31605733333333,
          195.78731866666666,
          195.97651533333334,
          195.87274066666666,
          196.68353133333332,
          196.83063333333334,
          196.95205866666666,
          197.20406433333332,
          197.488849,
          197.87790966666665,
          198.232027,
          198.476373,
          198.40355266666666,
          198.47309,
          198.529244,
          199.27379133333332,
          199.47163,
          199.020595,
          198.97280833333335,
          199.167287,
          199.85232366666668,
          200.56821566666667,
          201.297018,
          202.00205766666667,
          202.50539033333334,
          202.390326,
          201.05559933333333,
          198.423751,
          198.38227733333332,
          199.003318,
          198.88772233333333,
          198.776419,
          198.46244633333333,
          198.49353333333335,
          198.088401,
          198.11274233333333,
          198.108879,
          198.14662966666666,
          198.436089,
          198.58196066666667,
          199.04763433333332,
          199.67911366666667,
          200.014196,
          200.314574,
          200.8699,
          200.830644,
          201.170078,
          201.64774533333335,
          202.225974,
          203.129301,
          202.619258,
          202.30273433333332,
          201.711655,
          201.09042933333333,
          201.116558,
          201.618973,
          201.83685833333334,
          202.248074,
          202.449018,
          203.08449366666667,
          203.038711,
          203.50462,
          204.72992433333334,
          205.66262866666668,
          206.448863,
          206.99642366666666,
          207.74171433333333,
          208.33895133333334,
          208.84641933333333,
          209.24356466666666,
          208.65906866666666,
          208.26267033333335,
          208.154955,
          207.89193233333333,
          207.76593466666668,
          207.666469,
          207.87434566666667,
          207.69258,
          207.361726,
          206.670878,
          206.820078,
          207.18266566666668,
          207.61818366666665,
          208.55882933333334,
          209.021746,
          209.10962466666666,
          210.57818633333332,
          210.98163666666667,
          212.56926866666666,
          212.25913033333333,
          213.12036479368103,
          213.217907042877,
          213.0234112789901,
          212.68488911751948,
          212.66733426625092,
          212.71075097416983,
          212.6075152499083,
          212.55259365866462,
          212.29540220392832,
          212.26173091294058,
          213.19489277005908,
          213.43751401296953,
          213.8870836903221,
          214.64040874120468,
          215.6306724082951,
          216.3124065564399,
          216.7847529629105,
          218.31910493984503,
          219.40877547982384,
          221.37810396579954,
          223.4449867284054,
          225.63325204810712,
          228.01010955436948,
          228.91023368079289,
          231.24273527971422,
          233.11187157462058,
          228.1273239848744,
          231.70047450513655,
          222.80789968087296,
          225.01975678406467
         ],
         "y": [
          152.253548,
          152.53258333333332,
          153.16473666666667,
          153.83244633333334,
          154.15960633333333,
          154.69579733333333,
          154.522525,
          154.49468966666666,
          154.27733,
          154.34379366666667,
          154.619616,
          155.07338666666666,
          155.091087,
          155.009648,
          155.122524,
          155.13608566666667,
          155.29479933333334,
          155.711895,
          155.954478,
          156.436613,
          156.43240266666666,
          156.59048266666667,
          156.84784766666667,
          156.722293,
          156.64014,
          156.99991133333333,
          156.94277666666667,
          157.01107866666666,
          157.28873133333335,
          157.14105366666666,
          157.52688233333333,
          157.94250133333333,
          158.416632,
          158.93486833333333,
          159.45933533333334,
          159.92022333333333,
          160.47507866666666,
          160.79030766666668,
          161.22970466666666,
          161.11365566666666,
          160.245975,
          159.69484466666665,
          159.804339,
          159.943039,
          160.34330133333333,
          160.45184233333333,
          160.42212066666667,
          160.351066,
          160.473396,
          161.22574966666667,
          161.403196,
          161.709681,
          161.69414833333335,
          162.15527166666666,
          162.81441333333333,
          162.69022933333332,
          162.95554666666666,
          162.903386,
          162.80886833333332,
          163.40816366666667,
          163.61236866666667,
          163.97084033333334,
          163.917888,
          163.625424,
          163.39643466666666,
          163.41248733333333,
          163.40743766666668,
          163.42832466666667,
          163.26651733333333,
          164.021785,
          164.59721733333333,
          165.00857633333334,
          165.58104733333334,
          166.702783,
          166.98611433333335,
          167.486051,
          168.32963233333334,
          168.98488233333333,
          169.00604533333333,
          168.941797,
          169.373489,
          169.68151133333333,
          169.94488466666667,
          170.36491866666665,
          170.21230133333333,
          170.76055366666668,
          171.226467,
          172.02299266666665,
          172.505563,
          173.001665,
          172.99421,
          173.42506033333333,
          173.957598,
          174.35623233333334,
          174.92060866666668,
          175.19932666666668,
          175.75249066666666,
          176.276203,
          176.90650133333332,
          177.260764,
          177.521873,
          177.84504866666666,
          178.053393,
          177.94235166666667,
          178.274839,
          178.37713633333334,
          178.216415,
          177.918181,
          178.45198333333335,
          178.542285,
          178.578324,
          179.419784,
          180.63449666666668,
          182.656765,
          183.02579633333335,
          183.13338833333333,
          183.53718066666667,
          184.070982,
          184.401675,
          184.46630233333335,
          185.09815066666667,
          185.21418433333332,
          185.28090666666668,
          185.60471966666665,
          186.021398,
          186.354079,
          186.76141433333333,
          187.14345466666666,
          187.10856233333334,
          187.28357033333333,
          187.46651766666668,
          187.82968733333334,
          188.081178,
          187.80534266666666,
          187.75008466666668,
          187.93113533333334,
          188.632199,
          189.378977,
          190.08865466666666,
          190.85924433333332,
          191.218504,
          190.89869033333332,
          190.590158,
          188.83770633333333,
          188.95173166666666,
          189.44502233333333,
          189.47058,
          189.22812266666668,
          189.01898866666667,
          188.83142866666665,
          188.61188433333334,
          188.49517833333334,
          188.56713366666668,
          188.45322133333335,
          188.359444,
          188.411083,
          188.57422333333332,
          189.11214433333333,
          189.37962466666667,
          189.43874366666665,
          189.812151,
          189.93842633333333,
          190.05630233333332,
          190.29877966666666,
          190.86755933333333,
          191.54344333333333,
          190.88540033333334,
          190.30540366666668,
          189.69247966666666,
          189.06151966666667,
          189.16103533333333,
          189.84968133333334,
          189.89626633333333,
          190.39242766666666,
          190.57177166666668,
          190.858913,
          190.82251133333332,
          191.434475,
          192.49423966666666,
          193.72666366666667,
          194.46530833333333,
          195.07567333333333,
          195.83696833333335,
          196.28342,
          197.058241,
          197.53164233333334,
          197.16408966666665,
          196.72187366666665,
          196.80065133333332,
          196.82653366666668,
          196.851474,
          196.99670933333334,
          197.450856,
          197.60063933333333,
          197.54728233333333,
          197.10334633333332,
          197.32193333333333,
          197.93078133333333,
          198.45976333333334,
          199.29372466666666,
          199.71334833333333,
          199.51895933333333,
          200.08201533333335,
          200.16267233333335,
          201.40875066666666,
          201.53307333333333,
          202.19789952304643,
          202.16117046014884,
          202.066657254927,
          201.47258441589742,
          201.36877911454224,
          201.35398000508263,
          201.04129702338093,
          201.17878589568969,
          200.79922418976497,
          200.6465147823515,
          201.3914235480387,
          201.63479883843263,
          202.00170386185903,
          202.46855911234826,
          203.16480522352748,
          203.54005842970847,
          203.5066783530467,
          204.42513206693516,
          204.75872233915862,
          206.01216383178703,
          207.82723063268244,
          209.13771533181205,
          210.71569343838692,
          210.89424097988478,
          211.8014669873826,
          212.90596894322653,
          212.90424394525974,
          216.49184884740666,
          209.17061715050443,
          208.69183025404158
         ]
        }
       ],
       "layout": {
        "showlegend": true,
        "template": {
         "data": {
          "bar": [
           {
            "error_x": {
             "color": "#2a3f5f"
            },
            "error_y": {
             "color": "#2a3f5f"
            },
            "marker": {
             "line": {
              "color": "#E5ECF6",
              "width": 0.5
             },
             "pattern": {
              "fillmode": "overlay",
              "size": 10,
              "solidity": 0.2
             }
            },
            "type": "bar"
           }
          ],
          "barpolar": [
           {
            "marker": {
             "line": {
              "color": "#E5ECF6",
              "width": 0.5
             },
             "pattern": {
              "fillmode": "overlay",
              "size": 10,
              "solidity": 0.2
             }
            },
            "type": "barpolar"
           }
          ],
          "carpet": [
           {
            "aaxis": {
             "endlinecolor": "#2a3f5f",
             "gridcolor": "white",
             "linecolor": "white",
             "minorgridcolor": "white",
             "startlinecolor": "#2a3f5f"
            },
            "baxis": {
             "endlinecolor": "#2a3f5f",
             "gridcolor": "white",
             "linecolor": "white",
             "minorgridcolor": "white",
             "startlinecolor": "#2a3f5f"
            },
            "type": "carpet"
           }
          ],
          "choropleth": [
           {
            "colorbar": {
             "outlinewidth": 0,
             "ticks": ""
            },
            "type": "choropleth"
           }
          ],
          "contour": [
           {
            "colorbar": {
             "outlinewidth": 0,
             "ticks": ""
            },
            "colorscale": [
             [
              0,
              "#0d0887"
             ],
             [
              0.1111111111111111,
              "#46039f"
             ],
             [
              0.2222222222222222,
              "#7201a8"
             ],
             [
              0.3333333333333333,
              "#9c179e"
             ],
             [
              0.4444444444444444,
              "#bd3786"
             ],
             [
              0.5555555555555556,
              "#d8576b"
             ],
             [
              0.6666666666666666,
              "#ed7953"
             ],
             [
              0.7777777777777778,
              "#fb9f3a"
             ],
             [
              0.8888888888888888,
              "#fdca26"
             ],
             [
              1,
              "#f0f921"
             ]
            ],
            "type": "contour"
           }
          ],
          "contourcarpet": [
           {
            "colorbar": {
             "outlinewidth": 0,
             "ticks": ""
            },
            "type": "contourcarpet"
           }
          ],
          "heatmap": [
           {
            "colorbar": {
             "outlinewidth": 0,
             "ticks": ""
            },
            "colorscale": [
             [
              0,
              "#0d0887"
             ],
             [
              0.1111111111111111,
              "#46039f"
             ],
             [
              0.2222222222222222,
              "#7201a8"
             ],
             [
              0.3333333333333333,
              "#9c179e"
             ],
             [
              0.4444444444444444,
              "#bd3786"
             ],
             [
              0.5555555555555556,
              "#d8576b"
             ],
             [
              0.6666666666666666,
              "#ed7953"
             ],
             [
              0.7777777777777778,
              "#fb9f3a"
             ],
             [
              0.8888888888888888,
              "#fdca26"
             ],
             [
              1,
              "#f0f921"
             ]
            ],
            "type": "heatmap"
           }
          ],
          "heatmapgl": [
           {
            "colorbar": {
             "outlinewidth": 0,
             "ticks": ""
            },
            "colorscale": [
             [
              0,
              "#0d0887"
             ],
             [
              0.1111111111111111,
              "#46039f"
             ],
             [
              0.2222222222222222,
              "#7201a8"
             ],
             [
              0.3333333333333333,
              "#9c179e"
             ],
             [
              0.4444444444444444,
              "#bd3786"
             ],
             [
              0.5555555555555556,
              "#d8576b"
             ],
             [
              0.6666666666666666,
              "#ed7953"
             ],
             [
              0.7777777777777778,
              "#fb9f3a"
             ],
             [
              0.8888888888888888,
              "#fdca26"
             ],
             [
              1,
              "#f0f921"
             ]
            ],
            "type": "heatmapgl"
           }
          ],
          "histogram": [
           {
            "marker": {
             "pattern": {
              "fillmode": "overlay",
              "size": 10,
              "solidity": 0.2
             }
            },
            "type": "histogram"
           }
          ],
          "histogram2d": [
           {
            "colorbar": {
             "outlinewidth": 0,
             "ticks": ""
            },
            "colorscale": [
             [
              0,
              "#0d0887"
             ],
             [
              0.1111111111111111,
              "#46039f"
             ],
             [
              0.2222222222222222,
              "#7201a8"
             ],
             [
              0.3333333333333333,
              "#9c179e"
             ],
             [
              0.4444444444444444,
              "#bd3786"
             ],
             [
              0.5555555555555556,
              "#d8576b"
             ],
             [
              0.6666666666666666,
              "#ed7953"
             ],
             [
              0.7777777777777778,
              "#fb9f3a"
             ],
             [
              0.8888888888888888,
              "#fdca26"
             ],
             [
              1,
              "#f0f921"
             ]
            ],
            "type": "histogram2d"
           }
          ],
          "histogram2dcontour": [
           {
            "colorbar": {
             "outlinewidth": 0,
             "ticks": ""
            },
            "colorscale": [
             [
              0,
              "#0d0887"
             ],
             [
              0.1111111111111111,
              "#46039f"
             ],
             [
              0.2222222222222222,
              "#7201a8"
             ],
             [
              0.3333333333333333,
              "#9c179e"
             ],
             [
              0.4444444444444444,
              "#bd3786"
             ],
             [
              0.5555555555555556,
              "#d8576b"
             ],
             [
              0.6666666666666666,
              "#ed7953"
             ],
             [
              0.7777777777777778,
              "#fb9f3a"
             ],
             [
              0.8888888888888888,
              "#fdca26"
             ],
             [
              1,
              "#f0f921"
             ]
            ],
            "type": "histogram2dcontour"
           }
          ],
          "mesh3d": [
           {
            "colorbar": {
             "outlinewidth": 0,
             "ticks": ""
            },
            "type": "mesh3d"
           }
          ],
          "parcoords": [
           {
            "line": {
             "colorbar": {
              "outlinewidth": 0,
              "ticks": ""
             }
            },
            "type": "parcoords"
           }
          ],
          "pie": [
           {
            "automargin": true,
            "type": "pie"
           }
          ],
          "scatter": [
           {
            "fillpattern": {
             "fillmode": "overlay",
             "size": 10,
             "solidity": 0.2
            },
            "type": "scatter"
           }
          ],
          "scatter3d": [
           {
            "line": {
             "colorbar": {
              "outlinewidth": 0,
              "ticks": ""
             }
            },
            "marker": {
             "colorbar": {
              "outlinewidth": 0,
              "ticks": ""
             }
            },
            "type": "scatter3d"
           }
          ],
          "scattercarpet": [
           {
            "marker": {
             "colorbar": {
              "outlinewidth": 0,
              "ticks": ""
             }
            },
            "type": "scattercarpet"
           }
          ],
          "scattergeo": [
           {
            "marker": {
             "colorbar": {
              "outlinewidth": 0,
              "ticks": ""
             }
            },
            "type": "scattergeo"
           }
          ],
          "scattergl": [
           {
            "marker": {
             "colorbar": {
              "outlinewidth": 0,
              "ticks": ""
             }
            },
            "type": "scattergl"
           }
          ],
          "scattermapbox": [
           {
            "marker": {
             "colorbar": {
              "outlinewidth": 0,
              "ticks": ""
             }
            },
            "type": "scattermapbox"
           }
          ],
          "scatterpolar": [
           {
            "marker": {
             "colorbar": {
              "outlinewidth": 0,
              "ticks": ""
             }
            },
            "type": "scatterpolar"
           }
          ],
          "scatterpolargl": [
           {
            "marker": {
             "colorbar": {
              "outlinewidth": 0,
              "ticks": ""
             }
            },
            "type": "scatterpolargl"
           }
          ],
          "scatterternary": [
           {
            "marker": {
             "colorbar": {
              "outlinewidth": 0,
              "ticks": ""
             }
            },
            "type": "scatterternary"
           }
          ],
          "surface": [
           {
            "colorbar": {
             "outlinewidth": 0,
             "ticks": ""
            },
            "colorscale": [
             [
              0,
              "#0d0887"
             ],
             [
              0.1111111111111111,
              "#46039f"
             ],
             [
              0.2222222222222222,
              "#7201a8"
             ],
             [
              0.3333333333333333,
              "#9c179e"
             ],
             [
              0.4444444444444444,
              "#bd3786"
             ],
             [
              0.5555555555555556,
              "#d8576b"
             ],
             [
              0.6666666666666666,
              "#ed7953"
             ],
             [
              0.7777777777777778,
              "#fb9f3a"
             ],
             [
              0.8888888888888888,
              "#fdca26"
             ],
             [
              1,
              "#f0f921"
             ]
            ],
            "type": "surface"
           }
          ],
          "table": [
           {
            "cells": {
             "fill": {
              "color": "#EBF0F8"
             },
             "line": {
              "color": "white"
             }
            },
            "header": {
             "fill": {
              "color": "#C8D4E3"
             },
             "line": {
              "color": "white"
             }
            },
            "type": "table"
           }
          ]
         },
         "layout": {
          "annotationdefaults": {
           "arrowcolor": "#2a3f5f",
           "arrowhead": 0,
           "arrowwidth": 1
          },
          "autotypenumbers": "strict",
          "coloraxis": {
           "colorbar": {
            "outlinewidth": 0,
            "ticks": ""
           }
          },
          "colorscale": {
           "diverging": [
            [
             0,
             "#8e0152"
            ],
            [
             0.1,
             "#c51b7d"
            ],
            [
             0.2,
             "#de77ae"
            ],
            [
             0.3,
             "#f1b6da"
            ],
            [
             0.4,
             "#fde0ef"
            ],
            [
             0.5,
             "#f7f7f7"
            ],
            [
             0.6,
             "#e6f5d0"
            ],
            [
             0.7,
             "#b8e186"
            ],
            [
             0.8,
             "#7fbc41"
            ],
            [
             0.9,
             "#4d9221"
            ],
            [
             1,
             "#276419"
            ]
           ],
           "sequential": [
            [
             0,
             "#0d0887"
            ],
            [
             0.1111111111111111,
             "#46039f"
            ],
            [
             0.2222222222222222,
             "#7201a8"
            ],
            [
             0.3333333333333333,
             "#9c179e"
            ],
            [
             0.4444444444444444,
             "#bd3786"
            ],
            [
             0.5555555555555556,
             "#d8576b"
            ],
            [
             0.6666666666666666,
             "#ed7953"
            ],
            [
             0.7777777777777778,
             "#fb9f3a"
            ],
            [
             0.8888888888888888,
             "#fdca26"
            ],
            [
             1,
             "#f0f921"
            ]
           ],
           "sequentialminus": [
            [
             0,
             "#0d0887"
            ],
            [
             0.1111111111111111,
             "#46039f"
            ],
            [
             0.2222222222222222,
             "#7201a8"
            ],
            [
             0.3333333333333333,
             "#9c179e"
            ],
            [
             0.4444444444444444,
             "#bd3786"
            ],
            [
             0.5555555555555556,
             "#d8576b"
            ],
            [
             0.6666666666666666,
             "#ed7953"
            ],
            [
             0.7777777777777778,
             "#fb9f3a"
            ],
            [
             0.8888888888888888,
             "#fdca26"
            ],
            [
             1,
             "#f0f921"
            ]
           ]
          },
          "colorway": [
           "#636efa",
           "#EF553B",
           "#00cc96",
           "#ab63fa",
           "#FFA15A",
           "#19d3f3",
           "#FF6692",
           "#B6E880",
           "#FF97FF",
           "#FECB52"
          ],
          "font": {
           "color": "#2a3f5f"
          },
          "geo": {
           "bgcolor": "white",
           "lakecolor": "white",
           "landcolor": "#E5ECF6",
           "showlakes": true,
           "showland": true,
           "subunitcolor": "white"
          },
          "hoverlabel": {
           "align": "left"
          },
          "hovermode": "closest",
          "mapbox": {
           "style": "light"
          },
          "paper_bgcolor": "white",
          "plot_bgcolor": "#E5ECF6",
          "polar": {
           "angularaxis": {
            "gridcolor": "white",
            "linecolor": "white",
            "ticks": ""
           },
           "bgcolor": "#E5ECF6",
           "radialaxis": {
            "gridcolor": "white",
            "linecolor": "white",
            "ticks": ""
           }
          },
          "scene": {
           "xaxis": {
            "backgroundcolor": "#E5ECF6",
            "gridcolor": "white",
            "gridwidth": 2,
            "linecolor": "white",
            "showbackground": true,
            "ticks": "",
            "zerolinecolor": "white"
           },
           "yaxis": {
            "backgroundcolor": "#E5ECF6",
            "gridcolor": "white",
            "gridwidth": 2,
            "linecolor": "white",
            "showbackground": true,
            "ticks": "",
            "zerolinecolor": "white"
           },
           "zaxis": {
            "backgroundcolor": "#E5ECF6",
            "gridcolor": "white",
            "gridwidth": 2,
            "linecolor": "white",
            "showbackground": true,
            "ticks": "",
            "zerolinecolor": "white"
           }
          },
          "shapedefaults": {
           "line": {
            "color": "#2a3f5f"
           }
          },
          "ternary": {
           "aaxis": {
            "gridcolor": "white",
            "linecolor": "white",
            "ticks": ""
           },
           "baxis": {
            "gridcolor": "white",
            "linecolor": "white",
            "ticks": ""
           },
           "bgcolor": "#E5ECF6",
           "caxis": {
            "gridcolor": "white",
            "linecolor": "white",
            "ticks": ""
           }
          },
          "title": {
           "x": 0.05
          },
          "xaxis": {
           "automargin": true,
           "gridcolor": "white",
           "linecolor": "white",
           "ticks": "",
           "title": {
            "standoff": 15
           },
           "zerolinecolor": "white",
           "zerolinewidth": 2
          },
          "yaxis": {
           "automargin": true,
           "gridcolor": "white",
           "linecolor": "white",
           "ticks": "",
           "title": {
            "standoff": 15
           },
           "zerolinecolor": "white",
           "zerolinewidth": 2
          }
         }
        },
        "title": {
         "text": "Heatmap Queue size aux cancel"
        },
        "xaxis": {
         "title": {
          "text": "Queue size opposite"
         }
        },
        "yaxis": {
         "title": {
          "text": "Queue size same"
         }
        }
       }
      }
     },
     "metadata": {},
     "output_type": "display_data"
    },
    {
     "data": {
      "application/vnd.plotly.v1+json": {
       "config": {
        "plotlyServerURL": "https://plot.ly"
       },
       "data": [
        {
         "line": {
          "color": "red"
         },
         "mode": "markers",
         "name": "add",
         "showlegend": true,
         "type": "scatter",
         "x": [
          157.40116,
          153.9325,
          147.51011,
          157.3117,
          173.0226,
          164.91469,
          153.84732,
          184.49839,
          175.72295,
          184.80828,
          167.67271,
          167.60107,
          178.80375,
          171.11063,
          169.20789,
          173.82256,
          166.80745,
          175.03961,
          172.12789,
          164.0224,
          164.61833,
          168.78747,
          153.97518,
          172.40925,
          172.98315,
          169.53519,
          162.66706,
          166.93885,
          171.00727,
          173.42044,
          170.87577,
          170.38465,
          163.60508,
          163.40603,
          183.72681,
          171.18876,
          163.96401,
          173.74452,
          177.11658,
          168.02466,
          171.2071,
          168.1881,
          162.22455,
          167.8037,
          166.57627,
          171.48816,
          190.13232,
          216.70904,
          182.37168,
          174.62576,
          164.3184,
          166.03142,
          170.22033,
          170.13523,
          177.54071,
          178.41888,
          180.78738,
          170.99424,
          175.18402,
          176.50263,
          171.79813,
          177.11769,
          167.13162,
          170.82209,
          176.2659,
          182.50258,
          166.4958,
          169.51052,
          171.81595,
          172.10566,
          169.27861,
          177.41385,
          175.29024,
          182.25882,
          192.83489,
          192.47368,
          177.29438,
          191.26173,
          174.95899,
          177.538,
          180.01107,
          174.04981,
          162.4626,
          164.76465,
          174.3185,
          168.52741,
          172.26334,
          181.27035,
          176.92556,
          176.83374,
          178.73835,
          174.89911,
          181.33509,
          203.85409,
          178.9821,
          186.38882,
          176.79312,
          185.74164,
          179.68933,
          205.25003,
          179.16763,
          179.80139,
          172.45862,
          168.46881,
          171.14823,
          188.04856,
          191.23708,
          189.48979,
          181.85316,
          181.97089,
          179.77234,
          175.19351,
          189.21556,
          179.10326,
          183.87035,
          181.35622,
          198.14961,
          192.81788,
          178.74224,
          194.07368,
          187.22301,
          220.98672,
          192.59341,
          198.77294,
          205.22027,
          203.98466,
          200.49195,
          173.0511,
          205.01411,
          197.18533,
          189.48658,
          196.89567,
          187.35711,
          201.88418,
          188.23542,
          200.60535,
          189.76465,
          188.55764,
          194.60032,
          195.24506,
          199.09902,
          184.56573,
          198.73189,
          193.21919,
          194.43057,
          193.39698,
          189.18668,
          190.70456,
          191.3576,
          197.15285,
          212.79063,
          199.59879,
          207.55797,
          188.77306,
          193.87068,
          194.91372,
          202.53902,
          204.05175,
          205.96003,
          191.92122,
          195.21549,
          189.0638,
          196.61581,
          196.80008,
          196.3519,
          207.0893,
          197.43545,
          258.21848,
          266.3836,
          198.84582,
          198.29287,
          198.36411,
          216.11547,
          198.36476,
          198.10031,
          202.12836,
          209.56528,
          206.36298,
          195.52705,
          200.29556,
          206.11683,
          198.13956,
          202.22764,
          203.58941,
          211.38008,
          201.96066,
          212.14313,
          199.17274,
          193.00458,
          218.55396,
          200.69714,
          192.85148,
          201.34807,
          192.30547,
          202.75416,
          219.63419,
          208.17253,
          218.79489,
          214.42507,
          216.35478,
          207.58802,
          207.68932,
          211.02131,
          197.75678,
          203.98635,
          209.19619,
          214.18044,
          200.80263,
          200.01979,
          189.24886,
          198.71237,
          190.75553,
          203.19906,
          198.88845,
          197.93098,
          207.65364,
          203.92797,
          203.37061,
          215.59457,
          234.1069,
          216.98959,
          217.63586,
          210.3844,
          204.25347,
          214.42536,
          209.77628,
          209.41644,
          218.83382,
          222.24731,
          222.01069,
          185.4259,
          190.16253,
          189.99495,
          194.16387,
          203.02036,
          206.34393,
          230.42368,
          210.07566,
          209.30869,
          203.02703,
          225.68282,
          215.15011,
          204.34217,
          221.32611,
          219.0557,
          223.74594,
          223.73074,
          221.44256,
          216.93413,
          219.21733,
          216.14128,
          230.66119,
          216.48633,
          213.45337,
          198.58982,
          214.49436,
          210.2923,
          209.89654,
          207.4318,
          205.18311,
          216.6923,
          207.42522,
          196.54693,
          211.09536,
          207.39072,
          198.97217,
          198.80124,
          214.25846,
          209.13429,
          219.98029,
          224.31495,
          214.67696,
          241.70993,
          247.01377,
          245.8105,
          241.19397,
          223.16189,
          228.9832877383094
         ],
         "y": [
          159.56422,
          177.33699,
          171.62431,
          176.40462,
          177.74576,
          179.55009,
          174.05123,
          192.11864,
          190.92962,
          201.00674,
          190.52851,
          190.14702,
          191.91318,
          193.24892,
          186.03741,
          191.6167,
          187.22235,
          189.13011,
          189.26809,
          186.88899,
          182.43776,
          185.26023,
          175.90475,
          192.43268,
          189.62039,
          190.59016,
          187.25012,
          191.77954,
          193.2066,
          193.14946,
          195.2419,
          190.85404,
          180.82554,
          186.71849,
          194.25633,
          188.49861,
          181.48327,
          187.08662,
          196.44072,
          189.30154,
          191.22762,
          188.99455,
          182.18262,
          189.07415,
          186.06747,
          190.96168,
          202.67259,
          200.7638,
          215.80347,
          196.79776,
          189.89526,
          187.79671,
          194.37821,
          192.58293,
          201.28242,
          201.42715,
          197.51309,
          192.07667,
          197.05771,
          196.27148,
          196.63545,
          197.88144,
          186.28251,
          190.89041,
          198.70473,
          202.81209,
          193.2206,
          193.64236,
          191.68751,
          191.28644,
          189.64848,
          203.49078,
          197.94159,
          204.36921,
          210.14821,
          211.18726,
          201.0066,
          214.33214,
          198.51683,
          205.20248,
          206.59261,
          200.23104,
          184.95105,
          189.01666,
          194.5904,
          193.49284,
          199.24566,
          205.56066,
          200.5624,
          201.69512,
          200.00333,
          194.62968,
          201.23301,
          224.54881,
          203.86071,
          207.03375,
          202.06771,
          203.75143,
          201.1256,
          215.4281,
          200.92496,
          200.4684,
          191.98224,
          189.48441,
          195.68213,
          208.58749,
          208.03324,
          206.57043,
          206.89112,
          204.21759,
          206.77401,
          201.46156,
          207.2299,
          201.21548,
          207.49841,
          207.3966,
          216.19228,
          211.16783,
          201.93223,
          214.6123,
          211.73547,
          234.67221,
          216.25586,
          221.36623,
          221.34521,
          226.70962,
          217.85531,
          202.99321,
          214.10236,
          216.95913,
          209.22684,
          218.38701,
          206.9611,
          222.27996,
          214.05244,
          225.08491,
          215.22183,
          217.3336,
          216.50259,
          217.98265,
          220.95454,
          208.91677,
          223.13521,
          222.45656,
          222.51945,
          217.10656,
          217.17886,
          221.56548,
          224.53149,
          224.84671,
          229.91358,
          224.38941,
          227.13203,
          214.12436,
          219.15264,
          222.57494,
          223.40712,
          233.15404,
          230.29812,
          218.33,
          225.43593,
          215.67192,
          221.02623,
          220.01204,
          224.11899,
          233.70044,
          238.92917,
          270.39835,
          274.00623,
          227.14851,
          226.31468,
          228.52822,
          228.80014,
          223.4877,
          225.17079,
          231.22748,
          230.93851,
          235.0402,
          224.49582,
          230.89079,
          236.88621,
          233.83106,
          231.55155,
          235.05935,
          240.74215,
          232.11632,
          243.95856,
          232.8828,
          226.57226,
          235.55407,
          234.16617,
          223.84185,
          229.59853,
          224.97269,
          233.07911,
          245.42707,
          246.49442,
          247.09351,
          244.56909,
          249.24908,
          236.83361,
          236.52629,
          240.53593,
          225.78512,
          233.38442,
          233.9733,
          244.09549,
          233.59432,
          226.49364,
          214.77713,
          224.27398,
          227.53382,
          232.50648,
          228.05385,
          231.74954,
          232.80444,
          232.8079,
          233.43203,
          238.51143,
          256.91384,
          240.25319,
          236.6918,
          237.45526,
          240.58353,
          240.30357,
          239.60579,
          233.16381,
          247.54444,
          251.83178,
          249.19162,
          211.33213,
          216.6819,
          219.70867,
          223.26978,
          232.11775,
          238.5458,
          256.92361,
          240.56413,
          240.93468,
          239.82864,
          238.68688,
          238.63786,
          230.78784,
          246.53505,
          249.15466,
          259.39192,
          261.74241,
          245.52779,
          251.58101,
          254.30229,
          244.97076,
          255.82454,
          247.37186,
          243.67305,
          228.61402,
          244.9157,
          242.90087,
          238.74981,
          236.43358,
          233.99672,
          249.25757,
          241.40957,
          233.02195,
          243.88706,
          238.82019,
          228.86503,
          234.66808,
          245.64904,
          237.44802,
          246.06761,
          255.34545,
          237.52402,
          258.95738,
          251.33414,
          251.86862,
          274.45267,
          255.04748,
          253.57886165014955
         ]
        },
        {
         "line": {
          "color": "green"
         },
         "mode": "markers",
         "name": "cancel",
         "showlegend": true,
         "type": "scatter",
         "x": [
          164.407801,
          164.78443366666667,
          165.253926,
          165.614653,
          165.84813966666667,
          166.16703,
          165.683078,
          165.31548966666668,
          165.06816733333332,
          165.30151366666666,
          165.96317733333333,
          166.27323133333334,
          166.40733466666666,
          166.14679766666666,
          166.15040033333332,
          166.07406966666667,
          166.37516333333335,
          166.85128366666666,
          167.130952,
          167.59383533333335,
          167.55328633333335,
          167.61063333333334,
          167.75941433333332,
          167.65342666666666,
          167.67489866666668,
          167.79111866666668,
          167.76386933333333,
          167.69873933333332,
          168.01091633333334,
          167.77523466666668,
          167.94019633333335,
          168.16519233333332,
          168.51257133333334,
          169.26907933333334,
          169.726272,
          170.06645266666666,
          170.622381,
          170.86976366666667,
          171.16530233333333,
          170.91804033333332,
          169.68525166666666,
          169.27909233333332,
          169.19415233333334,
          169.40520333333333,
          169.86010233333334,
          169.972829,
          169.90331966666668,
          169.676431,
          169.77581466666666,
          170.48784566666666,
          170.58290033333333,
          171.107081,
          171.166918,
          171.752785,
          172.75003133333334,
          172.59009866666668,
          172.84158533333334,
          172.89558033333333,
          172.72575333333333,
          173.32916933333334,
          173.71951633333333,
          174.10685233333334,
          174.04302,
          173.461091,
          173.22539466666666,
          173.303714,
          173.39145566666667,
          173.49545033333334,
          173.617739,
          174.73626233333334,
          175.33053533333333,
          175.88417933333332,
          176.53929966666666,
          177.88180566666668,
          178.12419733333334,
          178.792395,
          179.79663966666666,
          180.478714,
          180.37796366666666,
          180.51088966666666,
          180.88143333333332,
          181.08066133333332,
          181.26242,
          181.82376533333334,
          181.31993833333334,
          181.96937466666665,
          182.35945133333334,
          183.06849933333334,
          183.79161233333335,
          184.34176933333333,
          184.167296,
          184.47128233333333,
          184.91674566666666,
          185.37604666666667,
          185.93589133333333,
          186.12329766666667,
          186.48825633333334,
          187.10684166666667,
          187.839706,
          187.937604,
          188.26262066666666,
          188.482305,
          188.60040366666667,
          188.427947,
          188.89803666666666,
          188.74478033333332,
          188.49835,
          188.192241,
          188.90516866666667,
          188.88262933333334,
          188.922954,
          189.64557666666667,
          191.76052533333333,
          194.386133,
          194.72656966666668,
          194.769916,
          195.31605733333333,
          195.78731866666666,
          195.97651533333334,
          195.87274066666666,
          196.68353133333332,
          196.83063333333334,
          196.95205866666666,
          197.20406433333332,
          197.488849,
          197.87790966666665,
          198.232027,
          198.476373,
          198.40355266666666,
          198.47309,
          198.529244,
          199.27379133333332,
          199.47163,
          199.020595,
          198.97280833333335,
          199.167287,
          199.85232366666668,
          200.56821566666667,
          201.297018,
          202.00205766666667,
          202.50539033333334,
          202.390326,
          201.05559933333333,
          198.423751,
          198.38227733333332,
          199.003318,
          198.88772233333333,
          198.776419,
          198.46244633333333,
          198.49353333333335,
          198.088401,
          198.11274233333333,
          198.108879,
          198.14662966666666,
          198.436089,
          198.58196066666667,
          199.04763433333332,
          199.67911366666667,
          200.014196,
          200.314574,
          200.8699,
          200.830644,
          201.170078,
          201.64774533333335,
          202.225974,
          203.129301,
          202.619258,
          202.30273433333332,
          201.711655,
          201.09042933333333,
          201.116558,
          201.618973,
          201.83685833333334,
          202.248074,
          202.449018,
          203.08449366666667,
          203.038711,
          203.50462,
          204.72992433333334,
          205.66262866666668,
          206.448863,
          206.99642366666666,
          207.74171433333333,
          208.33895133333334,
          208.84641933333333,
          209.24356466666666,
          208.65906866666666,
          208.26267033333335,
          208.154955,
          207.89193233333333,
          207.76593466666668,
          207.666469,
          207.87434566666667,
          207.69258,
          207.361726,
          206.670878,
          206.820078,
          207.18266566666668,
          207.61818366666665,
          208.55882933333334,
          209.021746,
          209.10962466666666,
          210.57818633333332,
          210.98163666666667,
          212.56926866666666,
          212.25913033333333,
          213.12036479368103,
          213.217907042877,
          213.0234112789901,
          212.68488911751948,
          212.66733426625092,
          212.71075097416983,
          212.6075152499083,
          212.55259365866462,
          212.29540220392832,
          212.26173091294058,
          213.19489277005908,
          213.43751401296953,
          213.8870836903221,
          214.64040874120468,
          215.6306724082951,
          216.3124065564399,
          216.7847529629105,
          218.31910493984503,
          219.40877547982384,
          221.37810396579954,
          223.4449867284054,
          225.63325204810712,
          228.01010955436948,
          228.91023368079289,
          231.24273527971422,
          233.11187157462058,
          228.1273239848744,
          231.70047450513655,
          222.80789968087296,
          225.01975678406467
         ],
         "y": [
          152.253548,
          152.53258333333332,
          153.16473666666667,
          153.83244633333334,
          154.15960633333333,
          154.69579733333333,
          154.522525,
          154.49468966666666,
          154.27733,
          154.34379366666667,
          154.619616,
          155.07338666666666,
          155.091087,
          155.009648,
          155.122524,
          155.13608566666667,
          155.29479933333334,
          155.711895,
          155.954478,
          156.436613,
          156.43240266666666,
          156.59048266666667,
          156.84784766666667,
          156.722293,
          156.64014,
          156.99991133333333,
          156.94277666666667,
          157.01107866666666,
          157.28873133333335,
          157.14105366666666,
          157.52688233333333,
          157.94250133333333,
          158.416632,
          158.93486833333333,
          159.45933533333334,
          159.92022333333333,
          160.47507866666666,
          160.79030766666668,
          161.22970466666666,
          161.11365566666666,
          160.245975,
          159.69484466666665,
          159.804339,
          159.943039,
          160.34330133333333,
          160.45184233333333,
          160.42212066666667,
          160.351066,
          160.473396,
          161.22574966666667,
          161.403196,
          161.709681,
          161.69414833333335,
          162.15527166666666,
          162.81441333333333,
          162.69022933333332,
          162.95554666666666,
          162.903386,
          162.80886833333332,
          163.40816366666667,
          163.61236866666667,
          163.97084033333334,
          163.917888,
          163.625424,
          163.39643466666666,
          163.41248733333333,
          163.40743766666668,
          163.42832466666667,
          163.26651733333333,
          164.021785,
          164.59721733333333,
          165.00857633333334,
          165.58104733333334,
          166.702783,
          166.98611433333335,
          167.486051,
          168.32963233333334,
          168.98488233333333,
          169.00604533333333,
          168.941797,
          169.373489,
          169.68151133333333,
          169.94488466666667,
          170.36491866666665,
          170.21230133333333,
          170.76055366666668,
          171.226467,
          172.02299266666665,
          172.505563,
          173.001665,
          172.99421,
          173.42506033333333,
          173.957598,
          174.35623233333334,
          174.92060866666668,
          175.19932666666668,
          175.75249066666666,
          176.276203,
          176.90650133333332,
          177.260764,
          177.521873,
          177.84504866666666,
          178.053393,
          177.94235166666667,
          178.274839,
          178.37713633333334,
          178.216415,
          177.918181,
          178.45198333333335,
          178.542285,
          178.578324,
          179.419784,
          180.63449666666668,
          182.656765,
          183.02579633333335,
          183.13338833333333,
          183.53718066666667,
          184.070982,
          184.401675,
          184.46630233333335,
          185.09815066666667,
          185.21418433333332,
          185.28090666666668,
          185.60471966666665,
          186.021398,
          186.354079,
          186.76141433333333,
          187.14345466666666,
          187.10856233333334,
          187.28357033333333,
          187.46651766666668,
          187.82968733333334,
          188.081178,
          187.80534266666666,
          187.75008466666668,
          187.93113533333334,
          188.632199,
          189.378977,
          190.08865466666666,
          190.85924433333332,
          191.218504,
          190.89869033333332,
          190.590158,
          188.83770633333333,
          188.95173166666666,
          189.44502233333333,
          189.47058,
          189.22812266666668,
          189.01898866666667,
          188.83142866666665,
          188.61188433333334,
          188.49517833333334,
          188.56713366666668,
          188.45322133333335,
          188.359444,
          188.411083,
          188.57422333333332,
          189.11214433333333,
          189.37962466666667,
          189.43874366666665,
          189.812151,
          189.93842633333333,
          190.05630233333332,
          190.29877966666666,
          190.86755933333333,
          191.54344333333333,
          190.88540033333334,
          190.30540366666668,
          189.69247966666666,
          189.06151966666667,
          189.16103533333333,
          189.84968133333334,
          189.89626633333333,
          190.39242766666666,
          190.57177166666668,
          190.858913,
          190.82251133333332,
          191.434475,
          192.49423966666666,
          193.72666366666667,
          194.46530833333333,
          195.07567333333333,
          195.83696833333335,
          196.28342,
          197.058241,
          197.53164233333334,
          197.16408966666665,
          196.72187366666665,
          196.80065133333332,
          196.82653366666668,
          196.851474,
          196.99670933333334,
          197.450856,
          197.60063933333333,
          197.54728233333333,
          197.10334633333332,
          197.32193333333333,
          197.93078133333333,
          198.45976333333334,
          199.29372466666666,
          199.71334833333333,
          199.51895933333333,
          200.08201533333335,
          200.16267233333335,
          201.40875066666666,
          201.53307333333333,
          202.19789952304643,
          202.16117046014884,
          202.066657254927,
          201.47258441589742,
          201.36877911454224,
          201.35398000508263,
          201.04129702338093,
          201.17878589568969,
          200.79922418976497,
          200.6465147823515,
          201.3914235480387,
          201.63479883843263,
          202.00170386185903,
          202.46855911234826,
          203.16480522352748,
          203.54005842970847,
          203.5066783530467,
          204.42513206693516,
          204.75872233915862,
          206.01216383178703,
          207.82723063268244,
          209.13771533181205,
          210.71569343838692,
          210.89424097988478,
          211.8014669873826,
          212.90596894322653,
          212.90424394525974,
          216.49184884740666,
          209.17061715050443,
          208.69183025404158
         ]
        },
        {
         "line": {
          "color": "blue"
         },
         "mode": "markers",
         "name": "trade",
         "showlegend": true,
         "type": "scatter",
         "x": [
          126.3934,
          147.4767,
          161.2852,
          166.9243,
          169.225,
          215.1258,
          172.3213,
          170.7621,
          212.5408,
          204.87,
          191.8627,
          181.8161,
          212.2521,
          191.1617,
          191.5655,
          181.8325,
          183.0386,
          185.9477,
          182.467,
          187.1348,
          188.3984,
          205.3914,
          193.1292,
          194.7467,
          202.7663,
          201.0895,
          194.1534,
          188.3008,
          231.5966,
          205.7184,
          199.3168,
          203.5679,
          191.3774,
          197.3041,
          183.8963,
          203.7334,
          190.1409,
          219.7814,
          256.5915,
          198.6186,
          199.396,
          203.3257,
          193.9392,
          224.3615,
          206.81,
          193.2948,
          202.5935,
          213.2064,
          194.9888,
          214.7327,
          201.9563,
          197.5119,
          201.9984,
          196.8472,
          214.5352,
          217.4296,
          218.4651,
          216.9228,
          205.0143,
          219.8227,
          205.1034,
          189.458,
          206.1581,
          206.734,
          206.9346,
          204.9174,
          203.2438,
          226.2877,
          231.0509,
          221.9244,
          211.9778,
          217.6711,
          210.7747,
          202.4528,
          194.0264,
          220.6627,
          214.0551,
          217.9535,
          214.2584,
          216.8479,
          224.3589,
          217.7391,
          216.1018,
          234.2014,
          219.8157,
          230.4833,
          248.2293,
          229.5681,
          241.4414,
          235.6654,
          229.1311,
          250.2896,
          241.6674,
          245.4168,
          240.9585,
          241.9397,
          240.0808,
          251.9192,
          238.992,
          230.6024,
          229.7562,
          234.5643,
          231.7949,
          244.7712,
          254.0714,
          245.8095,
          227.0083,
          233.5477,
          281.0494,
          242.8938,
          222.1867,
          236.866,
          230.9307,
          259.5309,
          430.4532,
          288.9393,
          250.0234,
          269.3544,
          249.2186,
          251.8158,
          243.8294,
          247.6877,
          252.9731,
          249.3702,
          262.0825,
          279.9886,
          231.8238,
          255.0127,
          237.2083,
          235.2846,
          232.8079,
          259.9695,
          254.4455,
          257.2922,
          248.9488,
          256.1582,
          248.2466,
          268.783,
          241.3863,
          232.0927,
          250.6677,
          240.9673,
          246.6473,
          255.597,
          253.1811,
          283.4357,
          252.8416,
          251.1912,
          253.3068,
          264.7255,
          275.9665,
          268.7571,
          169.476,
          221.8884,
          210.8799,
          216.9532,
          249.7202,
          252.9605,
          240.5365,
          232.5794,
          262.0434,
          248.8605,
          273.2871,
          269.6485,
          256.0919,
          267.0473,
          275.7666,
          265.4293,
          244.9016,
          263.5396,
          254.4397,
          252.1684,
          250.9041,
          197.5213,
          243.2215,
          253.3379,
          247.7133,
          222.5155,
          253.6223,
          243.1788,
          270.5168,
          355.3262,
          283.7711,
          268.4341,
          262.7890365448505
         ],
         "y": [
          100.9931,
          133.729,
          134.3631,
          127.3894,
          140.7081,
          199.4357,
          134.1933,
          144.2556,
          201.4808,
          194.0375,
          154.5101,
          148.4568,
          200.3228,
          172.4296,
          169.4873,
          132.1922,
          167.9885,
          155.9509,
          152.8572,
          170.9712,
          148.5474,
          209.4397,
          222.4848,
          144.8558,
          150.1463,
          162.9608,
          138.9646,
          130.7745,
          154.1253,
          152.385,
          160.817,
          172.8889,
          143.6148,
          157.2743,
          137.8793,
          149.9366,
          146.0647,
          166.9346,
          317.2443,
          146.9855,
          140.0966,
          149.8583,
          147.8019,
          166.7925,
          153.7057,
          154.9524,
          144.9286,
          142.6131,
          139.1115,
          156.9439,
          148.5718,
          148.5822,
          154.3745,
          142.0955,
          164.6593,
          151.8649,
          191.8521,
          181.0383,
          143.9435,
          155.8481,
          146.7495,
          136.0053,
          141.766,
          141.483,
          145.341,
          142.0188,
          150.4206,
          260.9927,
          184.2816,
          161.0953,
          154.2237,
          155.9141,
          157.8723,
          145.4903,
          135.1214,
          192.1441,
          164.6473,
          156.9348,
          153.7737,
          158.4469,
          157.4193,
          160.8573,
          157.8373,
          194.94,
          166.5368,
          169.8669,
          202.8696,
          163.9861,
          171.3733,
          212.3233,
          201.5281,
          179.3832,
          170.9981,
          184.4136,
          167.7517,
          163.8399,
          179.865,
          178.3509,
          176.2866,
          163.7356,
          162.7023,
          164.2499,
          166.5872,
          176.3537,
          168.1811,
          199.0696,
          163.3335,
          191.322,
          215.1637,
          181.7999,
          159.7515,
          172.3519,
          157.5742,
          195.0673,
          370.5135,
          324.8326,
          183.2462,
          176.518,
          170.6482,
          188.0005,
          171.5139,
          168.4015,
          177.3889,
          164.8457,
          176.7178,
          224.9321,
          178.7938,
          192.6592,
          167.7398,
          159.9997,
          162.3632,
          171.0254,
          183.1951,
          185.5288,
          178.4157,
          182.3135,
          170.6848,
          217.8042,
          161.8785,
          167.9637,
          188.8823,
          175.2658,
          168.7303,
          198.9078,
          172.1415,
          211.5504,
          180.1877,
          172.8505,
          186.3712,
          195.6174,
          180.1773,
          172.6429,
          119.2618,
          180.7445,
          137.7158,
          143.9675,
          162.4204,
          167.8696,
          162.6451,
          184.6591,
          191.6532,
          197.3231,
          249.9766,
          211.5842,
          171.052,
          180.633,
          219.2894,
          178.319,
          155.7091,
          167.1775,
          176.8335,
          182.5353,
          165.4053,
          126.6985,
          164.3405,
          315.6717,
          170.0989,
          178.1266,
          195.2555,
          174.8089,
          174.4699,
          317.3809,
          210.7019,
          164.3766,
          173.60077519379846
         ]
        }
       ],
       "layout": {
        "showlegend": true,
        "template": {
         "data": {
          "bar": [
           {
            "error_x": {
             "color": "#2a3f5f"
            },
            "error_y": {
             "color": "#2a3f5f"
            },
            "marker": {
             "line": {
              "color": "#E5ECF6",
              "width": 0.5
             },
             "pattern": {
              "fillmode": "overlay",
              "size": 10,
              "solidity": 0.2
             }
            },
            "type": "bar"
           }
          ],
          "barpolar": [
           {
            "marker": {
             "line": {
              "color": "#E5ECF6",
              "width": 0.5
             },
             "pattern": {
              "fillmode": "overlay",
              "size": 10,
              "solidity": 0.2
             }
            },
            "type": "barpolar"
           }
          ],
          "carpet": [
           {
            "aaxis": {
             "endlinecolor": "#2a3f5f",
             "gridcolor": "white",
             "linecolor": "white",
             "minorgridcolor": "white",
             "startlinecolor": "#2a3f5f"
            },
            "baxis": {
             "endlinecolor": "#2a3f5f",
             "gridcolor": "white",
             "linecolor": "white",
             "minorgridcolor": "white",
             "startlinecolor": "#2a3f5f"
            },
            "type": "carpet"
           }
          ],
          "choropleth": [
           {
            "colorbar": {
             "outlinewidth": 0,
             "ticks": ""
            },
            "type": "choropleth"
           }
          ],
          "contour": [
           {
            "colorbar": {
             "outlinewidth": 0,
             "ticks": ""
            },
            "colorscale": [
             [
              0,
              "#0d0887"
             ],
             [
              0.1111111111111111,
              "#46039f"
             ],
             [
              0.2222222222222222,
              "#7201a8"
             ],
             [
              0.3333333333333333,
              "#9c179e"
             ],
             [
              0.4444444444444444,
              "#bd3786"
             ],
             [
              0.5555555555555556,
              "#d8576b"
             ],
             [
              0.6666666666666666,
              "#ed7953"
             ],
             [
              0.7777777777777778,
              "#fb9f3a"
             ],
             [
              0.8888888888888888,
              "#fdca26"
             ],
             [
              1,
              "#f0f921"
             ]
            ],
            "type": "contour"
           }
          ],
          "contourcarpet": [
           {
            "colorbar": {
             "outlinewidth": 0,
             "ticks": ""
            },
            "type": "contourcarpet"
           }
          ],
          "heatmap": [
           {
            "colorbar": {
             "outlinewidth": 0,
             "ticks": ""
            },
            "colorscale": [
             [
              0,
              "#0d0887"
             ],
             [
              0.1111111111111111,
              "#46039f"
             ],
             [
              0.2222222222222222,
              "#7201a8"
             ],
             [
              0.3333333333333333,
              "#9c179e"
             ],
             [
              0.4444444444444444,
              "#bd3786"
             ],
             [
              0.5555555555555556,
              "#d8576b"
             ],
             [
              0.6666666666666666,
              "#ed7953"
             ],
             [
              0.7777777777777778,
              "#fb9f3a"
             ],
             [
              0.8888888888888888,
              "#fdca26"
             ],
             [
              1,
              "#f0f921"
             ]
            ],
            "type": "heatmap"
           }
          ],
          "heatmapgl": [
           {
            "colorbar": {
             "outlinewidth": 0,
             "ticks": ""
            },
            "colorscale": [
             [
              0,
              "#0d0887"
             ],
             [
              0.1111111111111111,
              "#46039f"
             ],
             [
              0.2222222222222222,
              "#7201a8"
             ],
             [
              0.3333333333333333,
              "#9c179e"
             ],
             [
              0.4444444444444444,
              "#bd3786"
             ],
             [
              0.5555555555555556,
              "#d8576b"
             ],
             [
              0.6666666666666666,
              "#ed7953"
             ],
             [
              0.7777777777777778,
              "#fb9f3a"
             ],
             [
              0.8888888888888888,
              "#fdca26"
             ],
             [
              1,
              "#f0f921"
             ]
            ],
            "type": "heatmapgl"
           }
          ],
          "histogram": [
           {
            "marker": {
             "pattern": {
              "fillmode": "overlay",
              "size": 10,
              "solidity": 0.2
             }
            },
            "type": "histogram"
           }
          ],
          "histogram2d": [
           {
            "colorbar": {
             "outlinewidth": 0,
             "ticks": ""
            },
            "colorscale": [
             [
              0,
              "#0d0887"
             ],
             [
              0.1111111111111111,
              "#46039f"
             ],
             [
              0.2222222222222222,
              "#7201a8"
             ],
             [
              0.3333333333333333,
              "#9c179e"
             ],
             [
              0.4444444444444444,
              "#bd3786"
             ],
             [
              0.5555555555555556,
              "#d8576b"
             ],
             [
              0.6666666666666666,
              "#ed7953"
             ],
             [
              0.7777777777777778,
              "#fb9f3a"
             ],
             [
              0.8888888888888888,
              "#fdca26"
             ],
             [
              1,
              "#f0f921"
             ]
            ],
            "type": "histogram2d"
           }
          ],
          "histogram2dcontour": [
           {
            "colorbar": {
             "outlinewidth": 0,
             "ticks": ""
            },
            "colorscale": [
             [
              0,
              "#0d0887"
             ],
             [
              0.1111111111111111,
              "#46039f"
             ],
             [
              0.2222222222222222,
              "#7201a8"
             ],
             [
              0.3333333333333333,
              "#9c179e"
             ],
             [
              0.4444444444444444,
              "#bd3786"
             ],
             [
              0.5555555555555556,
              "#d8576b"
             ],
             [
              0.6666666666666666,
              "#ed7953"
             ],
             [
              0.7777777777777778,
              "#fb9f3a"
             ],
             [
              0.8888888888888888,
              "#fdca26"
             ],
             [
              1,
              "#f0f921"
             ]
            ],
            "type": "histogram2dcontour"
           }
          ],
          "mesh3d": [
           {
            "colorbar": {
             "outlinewidth": 0,
             "ticks": ""
            },
            "type": "mesh3d"
           }
          ],
          "parcoords": [
           {
            "line": {
             "colorbar": {
              "outlinewidth": 0,
              "ticks": ""
             }
            },
            "type": "parcoords"
           }
          ],
          "pie": [
           {
            "automargin": true,
            "type": "pie"
           }
          ],
          "scatter": [
           {
            "fillpattern": {
             "fillmode": "overlay",
             "size": 10,
             "solidity": 0.2
            },
            "type": "scatter"
           }
          ],
          "scatter3d": [
           {
            "line": {
             "colorbar": {
              "outlinewidth": 0,
              "ticks": ""
             }
            },
            "marker": {
             "colorbar": {
              "outlinewidth": 0,
              "ticks": ""
             }
            },
            "type": "scatter3d"
           }
          ],
          "scattercarpet": [
           {
            "marker": {
             "colorbar": {
              "outlinewidth": 0,
              "ticks": ""
             }
            },
            "type": "scattercarpet"
           }
          ],
          "scattergeo": [
           {
            "marker": {
             "colorbar": {
              "outlinewidth": 0,
              "ticks": ""
             }
            },
            "type": "scattergeo"
           }
          ],
          "scattergl": [
           {
            "marker": {
             "colorbar": {
              "outlinewidth": 0,
              "ticks": ""
             }
            },
            "type": "scattergl"
           }
          ],
          "scattermapbox": [
           {
            "marker": {
             "colorbar": {
              "outlinewidth": 0,
              "ticks": ""
             }
            },
            "type": "scattermapbox"
           }
          ],
          "scatterpolar": [
           {
            "marker": {
             "colorbar": {
              "outlinewidth": 0,
              "ticks": ""
             }
            },
            "type": "scatterpolar"
           }
          ],
          "scatterpolargl": [
           {
            "marker": {
             "colorbar": {
              "outlinewidth": 0,
              "ticks": ""
             }
            },
            "type": "scatterpolargl"
           }
          ],
          "scatterternary": [
           {
            "marker": {
             "colorbar": {
              "outlinewidth": 0,
              "ticks": ""
             }
            },
            "type": "scatterternary"
           }
          ],
          "surface": [
           {
            "colorbar": {
             "outlinewidth": 0,
             "ticks": ""
            },
            "colorscale": [
             [
              0,
              "#0d0887"
             ],
             [
              0.1111111111111111,
              "#46039f"
             ],
             [
              0.2222222222222222,
              "#7201a8"
             ],
             [
              0.3333333333333333,
              "#9c179e"
             ],
             [
              0.4444444444444444,
              "#bd3786"
             ],
             [
              0.5555555555555556,
              "#d8576b"
             ],
             [
              0.6666666666666666,
              "#ed7953"
             ],
             [
              0.7777777777777778,
              "#fb9f3a"
             ],
             [
              0.8888888888888888,
              "#fdca26"
             ],
             [
              1,
              "#f0f921"
             ]
            ],
            "type": "surface"
           }
          ],
          "table": [
           {
            "cells": {
             "fill": {
              "color": "#EBF0F8"
             },
             "line": {
              "color": "white"
             }
            },
            "header": {
             "fill": {
              "color": "#C8D4E3"
             },
             "line": {
              "color": "white"
             }
            },
            "type": "table"
           }
          ]
         },
         "layout": {
          "annotationdefaults": {
           "arrowcolor": "#2a3f5f",
           "arrowhead": 0,
           "arrowwidth": 1
          },
          "autotypenumbers": "strict",
          "coloraxis": {
           "colorbar": {
            "outlinewidth": 0,
            "ticks": ""
           }
          },
          "colorscale": {
           "diverging": [
            [
             0,
             "#8e0152"
            ],
            [
             0.1,
             "#c51b7d"
            ],
            [
             0.2,
             "#de77ae"
            ],
            [
             0.3,
             "#f1b6da"
            ],
            [
             0.4,
             "#fde0ef"
            ],
            [
             0.5,
             "#f7f7f7"
            ],
            [
             0.6,
             "#e6f5d0"
            ],
            [
             0.7,
             "#b8e186"
            ],
            [
             0.8,
             "#7fbc41"
            ],
            [
             0.9,
             "#4d9221"
            ],
            [
             1,
             "#276419"
            ]
           ],
           "sequential": [
            [
             0,
             "#0d0887"
            ],
            [
             0.1111111111111111,
             "#46039f"
            ],
            [
             0.2222222222222222,
             "#7201a8"
            ],
            [
             0.3333333333333333,
             "#9c179e"
            ],
            [
             0.4444444444444444,
             "#bd3786"
            ],
            [
             0.5555555555555556,
             "#d8576b"
            ],
            [
             0.6666666666666666,
             "#ed7953"
            ],
            [
             0.7777777777777778,
             "#fb9f3a"
            ],
            [
             0.8888888888888888,
             "#fdca26"
            ],
            [
             1,
             "#f0f921"
            ]
           ],
           "sequentialminus": [
            [
             0,
             "#0d0887"
            ],
            [
             0.1111111111111111,
             "#46039f"
            ],
            [
             0.2222222222222222,
             "#7201a8"
            ],
            [
             0.3333333333333333,
             "#9c179e"
            ],
            [
             0.4444444444444444,
             "#bd3786"
            ],
            [
             0.5555555555555556,
             "#d8576b"
            ],
            [
             0.6666666666666666,
             "#ed7953"
            ],
            [
             0.7777777777777778,
             "#fb9f3a"
            ],
            [
             0.8888888888888888,
             "#fdca26"
            ],
            [
             1,
             "#f0f921"
            ]
           ]
          },
          "colorway": [
           "#636efa",
           "#EF553B",
           "#00cc96",
           "#ab63fa",
           "#FFA15A",
           "#19d3f3",
           "#FF6692",
           "#B6E880",
           "#FF97FF",
           "#FECB52"
          ],
          "font": {
           "color": "#2a3f5f"
          },
          "geo": {
           "bgcolor": "white",
           "lakecolor": "white",
           "landcolor": "#E5ECF6",
           "showlakes": true,
           "showland": true,
           "subunitcolor": "white"
          },
          "hoverlabel": {
           "align": "left"
          },
          "hovermode": "closest",
          "mapbox": {
           "style": "light"
          },
          "paper_bgcolor": "white",
          "plot_bgcolor": "#E5ECF6",
          "polar": {
           "angularaxis": {
            "gridcolor": "white",
            "linecolor": "white",
            "ticks": ""
           },
           "bgcolor": "#E5ECF6",
           "radialaxis": {
            "gridcolor": "white",
            "linecolor": "white",
            "ticks": ""
           }
          },
          "scene": {
           "xaxis": {
            "backgroundcolor": "#E5ECF6",
            "gridcolor": "white",
            "gridwidth": 2,
            "linecolor": "white",
            "showbackground": true,
            "ticks": "",
            "zerolinecolor": "white"
           },
           "yaxis": {
            "backgroundcolor": "#E5ECF6",
            "gridcolor": "white",
            "gridwidth": 2,
            "linecolor": "white",
            "showbackground": true,
            "ticks": "",
            "zerolinecolor": "white"
           },
           "zaxis": {
            "backgroundcolor": "#E5ECF6",
            "gridcolor": "white",
            "gridwidth": 2,
            "linecolor": "white",
            "showbackground": true,
            "ticks": "",
            "zerolinecolor": "white"
           }
          },
          "shapedefaults": {
           "line": {
            "color": "#2a3f5f"
           }
          },
          "ternary": {
           "aaxis": {
            "gridcolor": "white",
            "linecolor": "white",
            "ticks": ""
           },
           "baxis": {
            "gridcolor": "white",
            "linecolor": "white",
            "ticks": ""
           },
           "bgcolor": "#E5ECF6",
           "caxis": {
            "gridcolor": "white",
            "linecolor": "white",
            "ticks": ""
           }
          },
          "title": {
           "x": 0.05
          },
          "xaxis": {
           "automargin": true,
           "gridcolor": "white",
           "linecolor": "white",
           "ticks": "",
           "title": {
            "standoff": 15
           },
           "zerolinecolor": "white",
           "zerolinewidth": 2
          },
          "yaxis": {
           "automargin": true,
           "gridcolor": "white",
           "linecolor": "white",
           "ticks": "",
           "title": {
            "standoff": 15
           },
           "zerolinecolor": "white",
           "zerolinewidth": 2
          }
         }
        },
        "title": {
         "text": "Heatmap Queue"
        },
        "xaxis": {
         "title": {
          "text": "Queue size opposite"
         }
        },
        "yaxis": {
         "title": {
          "text": "Queue size same"
         }
        }
       }
      }
     },
     "metadata": {},
     "output_type": "display_data"
    }
   ],
   "source": [
    "fig = go.Figure()\n",
    "fig.add_trace(go.Scatter(x=time_trie_means_trade,y=queue_size_same_trie_means_trade,mode='lines',name='same',line=dict(color='blue'),showlegend=True))\n",
    "fig.add_trace(go.Scatter(x=time_trie_means_trade,y=queue_size_opposite_trie_means_trade,mode='lines',name='Opposite',line=dict(color='red'),showlegend=True))\n",
    "fig.update_layout(title='Queue size aux trades',xaxis_title='time',yaxis_title='Queue size',showlegend=True)\n",
    "fig.show()\n",
    "\n",
    "fig = go.Figure()\n",
    "fig.add_trace(go.Scatter(x=queue_size_opposite_trie_means_trade,y=queue_size_same_trie_means_trade,mode='markers',name='same',line=dict(color='blue'),showlegend=True))\n",
    "fig.update_layout(title='Heatmap Queue size aux trades',xaxis_title='Queue size opposite',yaxis_title='Queue size same',showlegend=True)\n",
    "fig.show()\n",
    "\n",
    "fig = go.Figure()\n",
    "fig.add_trace(go.Scatter(x=time_trie_means_add,y=queue_size_same_trie_means_add,mode='lines',name='same',line=dict(color='blue'),showlegend=True))\n",
    "fig.add_trace(go.Scatter(x=time_trie_means_add,y=queue_size_opposite_trie_mean_add,mode='lines',name='Opposite',line=dict(color='red'),showlegend=True))\n",
    "fig.update_layout(title='Queue size aux add',xaxis_title='time',yaxis_title='Queue size',showlegend=True)\n",
    "fig.show()\n",
    "\n",
    "fig = go.Figure()\n",
    "fig.add_trace(go.Scatter(x=queue_size_opposite_trie_mean_add,y=queue_size_same_trie_means_add,mode='markers',name='same',line=dict(color='blue'),showlegend=True))\n",
    "fig.update_layout(title='Heatmap Queue size aux add',xaxis_title='Queue size opposite',yaxis_title='Queue size same',showlegend=True)\n",
    "fig.show()\n",
    "\n",
    "fig = go.Figure()\n",
    "fig.add_trace(go.Scatter(x=time_trie_means_cancel,y=queue_size_same_trie_means_cancel,mode='lines',name='same',line=dict(color='blue'),showlegend=True))\n",
    "fig.add_trace(go.Scatter(x=time_trie_means_cancel,y=queue_size_opposite_trie_means_cancel,mode='lines',name='Opposite',line=dict(color='red'),showlegend=True))\n",
    "fig.update_layout(title='Queue size aux cancel',xaxis_title='time',yaxis_title='Queue size',showlegend=True)\n",
    "fig.show()\n",
    "\n",
    "fig = go.Figure()\n",
    "fig.add_trace(go.Scatter(x=queue_size_opposite_trie_means_cancel,y=queue_size_same_trie_means_cancel,mode='markers',name='same',line=dict(color='blue'),showlegend=True))\n",
    "fig.update_layout(title='Heatmap Queue size aux cancel',xaxis_title='Queue size opposite',yaxis_title='Queue size same',showlegend=True)\n",
    "fig.show()\n",
    "\n",
    "fig = go.Figure()\n",
    "fig.add_trace(go.Scatter(x=queue_size_opposite_trie_mean_add,y=queue_size_same_trie_means_add,mode='markers',name='add',line=dict(color='red'),showlegend=True))\n",
    "fig.add_trace(go.Scatter(x=queue_size_opposite_trie_means_cancel,y=queue_size_same_trie_means_cancel,mode='markers',name='cancel',line=dict(color='green'),showlegend=True))\n",
    "fig.add_trace(go.Scatter(x=queue_size_opposite_trie_means_trade,y=queue_size_same_trie_means_trade,mode='markers',name='trade',line=dict(color='blue'),showlegend=True))\n",
    "fig.update_layout(title='Heatmap Queue',xaxis_title='Queue size opposite',yaxis_title='Queue size same',showlegend=True)\n",
    "fig.show()"
   ]
  },
  {
   "cell_type": "code",
   "execution_count": 23,
   "metadata": {},
   "outputs": [
    {
     "name": "stderr",
     "output_type": "stream",
     "text": [
      "100%|██████████| 65/65 [03:19<00:00,  3.07s/it]\n"
     ]
    }
   ],
   "source": [
    "dic = {}\n",
    "\n",
    "average_event_size = []\n",
    "for f in tqdm(files_csv):\n",
    "    df = pd.read_csv(f)\n",
    "    #df['time_diff'] = df['time_diff']*1.0 # pour le modif en float c'est un timedelta là\n",
    "    sizes = np.unique(np.array((np.unique(df['bid_sz_00'].to_numpy())).tolist() + (np.unique(df['ask_sz_00'].to_numpy())).tolist()))\n",
    "    sizes.sort()\n",
    "    dic = dico_queue_size(sizes, dic)  # Add, Cancel, Trade\n",
    "    \n",
    "    for row in df.itertuples():\n",
    "        average_event_size.append(row.size)\n",
    "        if row.side == 'A':\n",
    "            taille = row.ask_sz_00\n",
    "        elif row.side == 'B':\n",
    "            taille = row.bid_sz_00\n",
    "        if row.action == 'A':\n",
    "            dic[taille][0].append(row.diff_price)\n",
    "        elif row.action == 'C':\n",
    "            dic[taille][1].append(row.diff_price)\n",
    "        elif row.action == 'T':\n",
    "            dic[taille][2].append(row.diff_price)"
   ]
  },
  {
   "cell_type": "code",
   "execution_count": 24,
   "metadata": {},
   "outputs": [
    {
     "data": {
      "application/vnd.plotly.v1+json": {
       "config": {
        "plotlyServerURL": "https://plot.ly"
       },
       "data": [
        {
         "line": {
          "color": "blue"
         },
         "mode": "lines",
         "name": "Add",
         "showlegend": true,
         "type": "scatter",
         "x": [
          0,
          1.3199543248442978,
          2.6399086496885955,
          3.9598629745328933,
          5.279817299377191,
          6.599771624221489,
          7.9197259490657865,
          9.239680273910084,
          10.559634598754382,
          11.87958892359868,
          13.199543248442978,
          14.519497573287275,
          15.839451898131573,
          17.15940622297587,
          18.479360547820168,
          19.799314872664464,
          21.119269197508764,
          22.43922352235306,
          23.75917784719736,
          25.079132172041657,
          26.399086496885957,
          27.71904082173025,
          29.03899514657455,
          30.358949471418846,
          31.678903796263146,
          32.998858121107446,
          34.31881244595174,
          35.63876677079604,
          36.958721095640335,
          38.27867542048463
         ],
         "y": [
          -0.00024029077824704392,
          -0.0001736226144827944,
          -0.00011570075159193153,
          -0.00014841070034861886,
          -0.00018195656252996005,
          -0.00018739085685684685,
          -0.0001926190907371486,
          -0.0002121096328337622,
          -0.00022411612063756326,
          -0.0002183072270967223,
          -0.0002474976878838098,
          -0.00023067193641258338,
          -0.0002069016126233693,
          -0.00020007315034710374,
          -0.00018648992795625217,
          -0.00019074449933842325,
          -0.00019065910219416907,
          -0.00018425779213572744,
          -0.00017263329546373787,
          -0.00018229719411942186,
          -0.0001734504335789756,
          -0.00016161580497678915,
          -0.00017690044594730896,
          -0.00017926189338918482,
          -0.0001891641125081157,
          -0.00012855505852896271,
          -0.0001431870023637485,
          -0.0001282696942275455,
          -0.00014398136996061572,
          -0.00017060057540080762
         ]
        },
        {
         "line": {
          "color": "green"
         },
         "mode": "lines",
         "name": "Cancel",
         "showlegend": true,
         "type": "scatter",
         "x": [
          0,
          1.3199543248442978,
          2.6399086496885955,
          3.9598629745328933,
          5.279817299377191,
          6.599771624221489,
          7.9197259490657865,
          9.239680273910084,
          10.559634598754382,
          11.87958892359868,
          13.199543248442978,
          14.519497573287275,
          15.839451898131573,
          17.15940622297587,
          18.479360547820168,
          19.799314872664464,
          21.119269197508764,
          22.43922352235306,
          23.75917784719736,
          25.079132172041657,
          26.399086496885957,
          27.71904082173025,
          29.03899514657455,
          30.358949471418846,
          31.678903796263146,
          32.998858121107446,
          34.31881244595174,
          35.63876677079604,
          36.958721095640335,
          38.27867542048463
         ],
         "y": [
          -0.0003336048805449987,
          -0.0001670466185620188,
          -0.00008733369029620629,
          -0.00011037043119977179,
          -0.00011786962837646794,
          -0.00011359726187730488,
          -0.00011826757260155722,
          -0.0001322011682054249,
          -0.000130832261934368,
          -0.0001212466247454101,
          -0.00014188445847974538,
          -0.0001323148848560453,
          -0.00011575554390116601,
          -0.00011335055793277953,
          -0.00011776594284351086,
          -0.0001234724705621915,
          -0.00011761825364734775,
          -0.00011008124316796221,
          -0.00010844964747110053,
          -0.00011120896630276401,
          -0.00010589521164050979,
          -0.00010171941645069058,
          -0.00011967374266479977,
          -0.0001131562888308621,
          -0.00013203436125187572,
          -0.00009046890684733942,
          -0.00009708123436393931,
          -0.00010172207308618874,
          -0.00010435200984249488,
          -0.00014224720376429867
         ]
        },
        {
         "line": {
          "color": "red"
         },
         "mode": "lines",
         "name": "Trade",
         "showlegend": true,
         "type": "scatter",
         "x": [
          0,
          1.3199543248442978,
          2.6399086496885955,
          3.9598629745328933,
          5.279817299377191,
          6.599771624221489,
          7.9197259490657865,
          9.239680273910084,
          10.559634598754382,
          11.87958892359868,
          13.199543248442978,
          14.519497573287275,
          15.839451898131573,
          17.15940622297587,
          18.479360547820168,
          19.799314872664464,
          21.119269197508764,
          22.43922352235306,
          23.75917784719736,
          25.079132172041657,
          26.399086496885957,
          27.71904082173025,
          29.03899514657455,
          30.358949471418846,
          31.678903796263146,
          32.998858121107446,
          34.31881244595174,
          35.63876677079604,
          36.958721095640335,
          38.27867542048463
         ],
         "y": [
          -0.00004443134052881229,
          -0.000010296299309496046,
          -0.000004667998171093261,
          -0.000006321278469689303,
          -0.00000765272991334595,
          -0.000007798182598364418,
          -0.000008402596534689804,
          -0.00000995506550571909,
          -0.000010537841746800948,
          -0.000009631700209821834,
          -0.000011602246718992428,
          -0.000011628910388766024,
          -0.000010987190347032986,
          -0.00001101662822318228,
          -0.000010705994803955534,
          -0.000011547579552192618,
          -0.000011293439586504606,
          -0.000011686820703245312,
          -0.000011384443795434234,
          -0.000012992194113887279,
          -0.000013647115332355948,
          -0.00001369125181244786,
          -0.000016744474282317664,
          -0.000017881687401945316,
          -0.00002126727966473166,
          -0.000013648490792813954,
          -0.000014251686038700708,
          -0.000014544241285363764,
          -0.000017294740827988477,
          -0.000041283755404806955
         ]
        }
       ],
       "layout": {
        "showlegend": true,
        "template": {
         "data": {
          "bar": [
           {
            "error_x": {
             "color": "#2a3f5f"
            },
            "error_y": {
             "color": "#2a3f5f"
            },
            "marker": {
             "line": {
              "color": "#E5ECF6",
              "width": 0.5
             },
             "pattern": {
              "fillmode": "overlay",
              "size": 10,
              "solidity": 0.2
             }
            },
            "type": "bar"
           }
          ],
          "barpolar": [
           {
            "marker": {
             "line": {
              "color": "#E5ECF6",
              "width": 0.5
             },
             "pattern": {
              "fillmode": "overlay",
              "size": 10,
              "solidity": 0.2
             }
            },
            "type": "barpolar"
           }
          ],
          "carpet": [
           {
            "aaxis": {
             "endlinecolor": "#2a3f5f",
             "gridcolor": "white",
             "linecolor": "white",
             "minorgridcolor": "white",
             "startlinecolor": "#2a3f5f"
            },
            "baxis": {
             "endlinecolor": "#2a3f5f",
             "gridcolor": "white",
             "linecolor": "white",
             "minorgridcolor": "white",
             "startlinecolor": "#2a3f5f"
            },
            "type": "carpet"
           }
          ],
          "choropleth": [
           {
            "colorbar": {
             "outlinewidth": 0,
             "ticks": ""
            },
            "type": "choropleth"
           }
          ],
          "contour": [
           {
            "colorbar": {
             "outlinewidth": 0,
             "ticks": ""
            },
            "colorscale": [
             [
              0,
              "#0d0887"
             ],
             [
              0.1111111111111111,
              "#46039f"
             ],
             [
              0.2222222222222222,
              "#7201a8"
             ],
             [
              0.3333333333333333,
              "#9c179e"
             ],
             [
              0.4444444444444444,
              "#bd3786"
             ],
             [
              0.5555555555555556,
              "#d8576b"
             ],
             [
              0.6666666666666666,
              "#ed7953"
             ],
             [
              0.7777777777777778,
              "#fb9f3a"
             ],
             [
              0.8888888888888888,
              "#fdca26"
             ],
             [
              1,
              "#f0f921"
             ]
            ],
            "type": "contour"
           }
          ],
          "contourcarpet": [
           {
            "colorbar": {
             "outlinewidth": 0,
             "ticks": ""
            },
            "type": "contourcarpet"
           }
          ],
          "heatmap": [
           {
            "colorbar": {
             "outlinewidth": 0,
             "ticks": ""
            },
            "colorscale": [
             [
              0,
              "#0d0887"
             ],
             [
              0.1111111111111111,
              "#46039f"
             ],
             [
              0.2222222222222222,
              "#7201a8"
             ],
             [
              0.3333333333333333,
              "#9c179e"
             ],
             [
              0.4444444444444444,
              "#bd3786"
             ],
             [
              0.5555555555555556,
              "#d8576b"
             ],
             [
              0.6666666666666666,
              "#ed7953"
             ],
             [
              0.7777777777777778,
              "#fb9f3a"
             ],
             [
              0.8888888888888888,
              "#fdca26"
             ],
             [
              1,
              "#f0f921"
             ]
            ],
            "type": "heatmap"
           }
          ],
          "heatmapgl": [
           {
            "colorbar": {
             "outlinewidth": 0,
             "ticks": ""
            },
            "colorscale": [
             [
              0,
              "#0d0887"
             ],
             [
              0.1111111111111111,
              "#46039f"
             ],
             [
              0.2222222222222222,
              "#7201a8"
             ],
             [
              0.3333333333333333,
              "#9c179e"
             ],
             [
              0.4444444444444444,
              "#bd3786"
             ],
             [
              0.5555555555555556,
              "#d8576b"
             ],
             [
              0.6666666666666666,
              "#ed7953"
             ],
             [
              0.7777777777777778,
              "#fb9f3a"
             ],
             [
              0.8888888888888888,
              "#fdca26"
             ],
             [
              1,
              "#f0f921"
             ]
            ],
            "type": "heatmapgl"
           }
          ],
          "histogram": [
           {
            "marker": {
             "pattern": {
              "fillmode": "overlay",
              "size": 10,
              "solidity": 0.2
             }
            },
            "type": "histogram"
           }
          ],
          "histogram2d": [
           {
            "colorbar": {
             "outlinewidth": 0,
             "ticks": ""
            },
            "colorscale": [
             [
              0,
              "#0d0887"
             ],
             [
              0.1111111111111111,
              "#46039f"
             ],
             [
              0.2222222222222222,
              "#7201a8"
             ],
             [
              0.3333333333333333,
              "#9c179e"
             ],
             [
              0.4444444444444444,
              "#bd3786"
             ],
             [
              0.5555555555555556,
              "#d8576b"
             ],
             [
              0.6666666666666666,
              "#ed7953"
             ],
             [
              0.7777777777777778,
              "#fb9f3a"
             ],
             [
              0.8888888888888888,
              "#fdca26"
             ],
             [
              1,
              "#f0f921"
             ]
            ],
            "type": "histogram2d"
           }
          ],
          "histogram2dcontour": [
           {
            "colorbar": {
             "outlinewidth": 0,
             "ticks": ""
            },
            "colorscale": [
             [
              0,
              "#0d0887"
             ],
             [
              0.1111111111111111,
              "#46039f"
             ],
             [
              0.2222222222222222,
              "#7201a8"
             ],
             [
              0.3333333333333333,
              "#9c179e"
             ],
             [
              0.4444444444444444,
              "#bd3786"
             ],
             [
              0.5555555555555556,
              "#d8576b"
             ],
             [
              0.6666666666666666,
              "#ed7953"
             ],
             [
              0.7777777777777778,
              "#fb9f3a"
             ],
             [
              0.8888888888888888,
              "#fdca26"
             ],
             [
              1,
              "#f0f921"
             ]
            ],
            "type": "histogram2dcontour"
           }
          ],
          "mesh3d": [
           {
            "colorbar": {
             "outlinewidth": 0,
             "ticks": ""
            },
            "type": "mesh3d"
           }
          ],
          "parcoords": [
           {
            "line": {
             "colorbar": {
              "outlinewidth": 0,
              "ticks": ""
             }
            },
            "type": "parcoords"
           }
          ],
          "pie": [
           {
            "automargin": true,
            "type": "pie"
           }
          ],
          "scatter": [
           {
            "fillpattern": {
             "fillmode": "overlay",
             "size": 10,
             "solidity": 0.2
            },
            "type": "scatter"
           }
          ],
          "scatter3d": [
           {
            "line": {
             "colorbar": {
              "outlinewidth": 0,
              "ticks": ""
             }
            },
            "marker": {
             "colorbar": {
              "outlinewidth": 0,
              "ticks": ""
             }
            },
            "type": "scatter3d"
           }
          ],
          "scattercarpet": [
           {
            "marker": {
             "colorbar": {
              "outlinewidth": 0,
              "ticks": ""
             }
            },
            "type": "scattercarpet"
           }
          ],
          "scattergeo": [
           {
            "marker": {
             "colorbar": {
              "outlinewidth": 0,
              "ticks": ""
             }
            },
            "type": "scattergeo"
           }
          ],
          "scattergl": [
           {
            "marker": {
             "colorbar": {
              "outlinewidth": 0,
              "ticks": ""
             }
            },
            "type": "scattergl"
           }
          ],
          "scattermapbox": [
           {
            "marker": {
             "colorbar": {
              "outlinewidth": 0,
              "ticks": ""
             }
            },
            "type": "scattermapbox"
           }
          ],
          "scatterpolar": [
           {
            "marker": {
             "colorbar": {
              "outlinewidth": 0,
              "ticks": ""
             }
            },
            "type": "scatterpolar"
           }
          ],
          "scatterpolargl": [
           {
            "marker": {
             "colorbar": {
              "outlinewidth": 0,
              "ticks": ""
             }
            },
            "type": "scatterpolargl"
           }
          ],
          "scatterternary": [
           {
            "marker": {
             "colorbar": {
              "outlinewidth": 0,
              "ticks": ""
             }
            },
            "type": "scatterternary"
           }
          ],
          "surface": [
           {
            "colorbar": {
             "outlinewidth": 0,
             "ticks": ""
            },
            "colorscale": [
             [
              0,
              "#0d0887"
             ],
             [
              0.1111111111111111,
              "#46039f"
             ],
             [
              0.2222222222222222,
              "#7201a8"
             ],
             [
              0.3333333333333333,
              "#9c179e"
             ],
             [
              0.4444444444444444,
              "#bd3786"
             ],
             [
              0.5555555555555556,
              "#d8576b"
             ],
             [
              0.6666666666666666,
              "#ed7953"
             ],
             [
              0.7777777777777778,
              "#fb9f3a"
             ],
             [
              0.8888888888888888,
              "#fdca26"
             ],
             [
              1,
              "#f0f921"
             ]
            ],
            "type": "surface"
           }
          ],
          "table": [
           {
            "cells": {
             "fill": {
              "color": "#EBF0F8"
             },
             "line": {
              "color": "white"
             }
            },
            "header": {
             "fill": {
              "color": "#C8D4E3"
             },
             "line": {
              "color": "white"
             }
            },
            "type": "table"
           }
          ]
         },
         "layout": {
          "annotationdefaults": {
           "arrowcolor": "#2a3f5f",
           "arrowhead": 0,
           "arrowwidth": 1
          },
          "autotypenumbers": "strict",
          "coloraxis": {
           "colorbar": {
            "outlinewidth": 0,
            "ticks": ""
           }
          },
          "colorscale": {
           "diverging": [
            [
             0,
             "#8e0152"
            ],
            [
             0.1,
             "#c51b7d"
            ],
            [
             0.2,
             "#de77ae"
            ],
            [
             0.3,
             "#f1b6da"
            ],
            [
             0.4,
             "#fde0ef"
            ],
            [
             0.5,
             "#f7f7f7"
            ],
            [
             0.6,
             "#e6f5d0"
            ],
            [
             0.7,
             "#b8e186"
            ],
            [
             0.8,
             "#7fbc41"
            ],
            [
             0.9,
             "#4d9221"
            ],
            [
             1,
             "#276419"
            ]
           ],
           "sequential": [
            [
             0,
             "#0d0887"
            ],
            [
             0.1111111111111111,
             "#46039f"
            ],
            [
             0.2222222222222222,
             "#7201a8"
            ],
            [
             0.3333333333333333,
             "#9c179e"
            ],
            [
             0.4444444444444444,
             "#bd3786"
            ],
            [
             0.5555555555555556,
             "#d8576b"
            ],
            [
             0.6666666666666666,
             "#ed7953"
            ],
            [
             0.7777777777777778,
             "#fb9f3a"
            ],
            [
             0.8888888888888888,
             "#fdca26"
            ],
            [
             1,
             "#f0f921"
            ]
           ],
           "sequentialminus": [
            [
             0,
             "#0d0887"
            ],
            [
             0.1111111111111111,
             "#46039f"
            ],
            [
             0.2222222222222222,
             "#7201a8"
            ],
            [
             0.3333333333333333,
             "#9c179e"
            ],
            [
             0.4444444444444444,
             "#bd3786"
            ],
            [
             0.5555555555555556,
             "#d8576b"
            ],
            [
             0.6666666666666666,
             "#ed7953"
            ],
            [
             0.7777777777777778,
             "#fb9f3a"
            ],
            [
             0.8888888888888888,
             "#fdca26"
            ],
            [
             1,
             "#f0f921"
            ]
           ]
          },
          "colorway": [
           "#636efa",
           "#EF553B",
           "#00cc96",
           "#ab63fa",
           "#FFA15A",
           "#19d3f3",
           "#FF6692",
           "#B6E880",
           "#FF97FF",
           "#FECB52"
          ],
          "font": {
           "color": "#2a3f5f"
          },
          "geo": {
           "bgcolor": "white",
           "lakecolor": "white",
           "landcolor": "#E5ECF6",
           "showlakes": true,
           "showland": true,
           "subunitcolor": "white"
          },
          "hoverlabel": {
           "align": "left"
          },
          "hovermode": "closest",
          "mapbox": {
           "style": "light"
          },
          "paper_bgcolor": "white",
          "plot_bgcolor": "#E5ECF6",
          "polar": {
           "angularaxis": {
            "gridcolor": "white",
            "linecolor": "white",
            "ticks": ""
           },
           "bgcolor": "#E5ECF6",
           "radialaxis": {
            "gridcolor": "white",
            "linecolor": "white",
            "ticks": ""
           }
          },
          "scene": {
           "xaxis": {
            "backgroundcolor": "#E5ECF6",
            "gridcolor": "white",
            "gridwidth": 2,
            "linecolor": "white",
            "showbackground": true,
            "ticks": "",
            "zerolinecolor": "white"
           },
           "yaxis": {
            "backgroundcolor": "#E5ECF6",
            "gridcolor": "white",
            "gridwidth": 2,
            "linecolor": "white",
            "showbackground": true,
            "ticks": "",
            "zerolinecolor": "white"
           },
           "zaxis": {
            "backgroundcolor": "#E5ECF6",
            "gridcolor": "white",
            "gridwidth": 2,
            "linecolor": "white",
            "showbackground": true,
            "ticks": "",
            "zerolinecolor": "white"
           }
          },
          "shapedefaults": {
           "line": {
            "color": "#2a3f5f"
           }
          },
          "ternary": {
           "aaxis": {
            "gridcolor": "white",
            "linecolor": "white",
            "ticks": ""
           },
           "baxis": {
            "gridcolor": "white",
            "linecolor": "white",
            "ticks": ""
           },
           "bgcolor": "#E5ECF6",
           "caxis": {
            "gridcolor": "white",
            "linecolor": "white",
            "ticks": ""
           }
          },
          "title": {
           "x": 0.05
          },
          "xaxis": {
           "automargin": true,
           "gridcolor": "white",
           "linecolor": "white",
           "ticks": "",
           "title": {
            "standoff": 15
           },
           "zerolinecolor": "white",
           "zerolinewidth": 2
          },
          "yaxis": {
           "automargin": true,
           "gridcolor": "white",
           "linecolor": "white",
           "ticks": "",
           "title": {
            "standoff": 15
           },
           "zerolinecolor": "white",
           "zerolinewidth": 2
          }
         }
        },
        "title": {
         "text": "Price différence en fonction des queues size"
        },
        "xaxis": {
         "title": {
          "text": "Size (par Mean Event Size)"
         }
        },
        "yaxis": {
         "title": {
          "text": "price difference"
         }
        }
       }
      }
     },
     "metadata": {},
     "output_type": "display_data"
    }
   ],
   "source": [
    "Add = []\n",
    "Cancel = []\n",
    "Trade = []\n",
    "sizes_add = []\n",
    "sizes_cancel = []\n",
    "sizes_trade = []\n",
    "\n",
    "#dic = remove_nan_from_dico(dic)\n",
    "average_sizes = compute_means(dic)\n",
    "intensities = dict(sorted(dic.items()))\n",
    "intensities = filtrage(intensities, 30, threshold=100)\n",
    "\n",
    "threshold_trade = 100\n",
    "threshold = 10\n",
    "\n",
    "quarter_add = []\n",
    "quarter_cancel = []\n",
    "quarter_trade = []\n",
    "\n",
    "for i in intensities:\n",
    "    tab = np.concatenate((intensities[i][0], intensities[i][1], intensities[i][2]))\n",
    "    if (len(intensities[i][0])>threshold):\n",
    "            Add.append(np.mean(tab)*len(intensities[i][0])/len(tab))\n",
    "            quarter_add.append(np.var(tab)*1/np.mean(tab)*len(intensities[i][0])/len(tab)*1/np.sqrt(len(tab)))\n",
    "            sizes_add.append(i)\n",
    "    if len(intensities[i][1])!=0:\n",
    "        if (len(intensities[i][1])>threshold):\n",
    "            Cancel.append(np.mean(tab)*len(intensities[i][1])/len(tab))\n",
    "            quarter_cancel.append(np.var(tab)*1/np.mean(tab)*len(intensities[i][1])/len(tab)*1/np.sqrt(len(tab)))\n",
    "            sizes_cancel.append(i)\n",
    "    if len(intensities[i][2])!=0:\n",
    "        if (len(intensities[i][2])>threshold_trade):\n",
    "            Trade.append(np.mean(tab)*len(intensities[i][2])/len(tab))\n",
    "            quarter_trade.append(np.var(tab)*1/np.mean(tab)*len(intensities[i][2])/len(tab)*1/np.sqrt(len(tab)))\n",
    "            sizes_trade.append(i)\n",
    "\n",
    "fig = go.Figure()\n",
    "\n",
    "fig.add_trace(go.Scatter(x=sizes_add/np.mean(average_event_size),y=Add,mode='lines',name='Add',showlegend=True,line=dict(color='blue')))\n",
    "#fig.add_trace(go.Scatter(y=sizes_add/np.mean(average_event_size),x=np.array(Add)+1.96*np.array(quarter_add),mode='lines',name='Add Upper CI',line=dict(width=0),fill=None,showlegend=False))\n",
    "#fig.add_trace(go.Scatter(y=sizes_add/np.mean(average_event_size),x=np.array(Add)-1.96*np.array(quarter_add),mode='lines',name='Add Lower CI',fill='tonexty',line=dict(width=0),fillcolor='rgba(0, 0, 255, 0.2)',showlegend=False))\n",
    "\n",
    "fig.add_trace(go.Scatter(x=sizes_cancel/np.mean(average_event_size),y=Cancel,mode='lines',name='Cancel',showlegend=True,line=dict(color='green')))\n",
    "#fig.add_trace(go.Scatter(y=sizes_cancel/np.mean(average_event_size),x=np.array(Cancel)+1.96*np.array(quarter_cancel),mode='lines',name='Cancel Upper CI',line=dict(width=0),fill=None,showlegend=False))\n",
    "#fig.add_trace(go.Scatter(y=sizes_cancel/np.mean(average_event_size),x=np.array(Cancel)-1.96*np.array(quarter_cancel),mode='lines',name='Cancel Lower CI',fill='tonexty',line=dict(width=0),fillcolor='rgba(0, 255, 0, 0.2)',showlegend=False))\n",
    "\n",
    "fig.add_trace(go.Scatter(x=sizes_trade/np.mean(average_event_size),y=Trade,mode='lines',name='Trade',showlegend=True,line=dict(color='red')))\n",
    "#fig.add_trace(go.Scatter(y=sizes_trade/np.mean(average_event_size),x=np.array(Trade)+1.96*np.array(quarter_trade),mode='lines',name='Trade Upper CI',line=dict(width=0),fill=None,showlegend=False))\n",
    "#fig.add_trace(go.Scatter(y=sizes_trade/np.mean(average_event_size),x=np.array(Trade)-1.96*np.array(quarter_trade),mode='lines',name='Trade Lower CI',fill='tonexty',line=dict(width=0),fillcolor='rgba(255, 0, 0, 0.2)',showlegend=False))\n",
    "\n",
    "fig.update_layout(title=\"Price différence en fonction des queues size\",xaxis_title='Size (par Mean Event Size)',yaxis_title='price difference',showlegend=True)\n",
    "fig.show()"
   ]
  },
  {
   "cell_type": "code",
   "execution_count": null,
   "metadata": {},
   "outputs": [],
   "source": []
  }
 ],
 "metadata": {
  "kernelspec": {
   "display_name": "IA_m1 (Python 3.9)",
   "language": "python",
   "name": "ia_m1"
  },
  "language_info": {
   "codemirror_mode": {
    "name": "ipython",
    "version": 3
   },
   "file_extension": ".py",
   "mimetype": "text/x-python",
   "name": "python",
   "nbconvert_exporter": "python",
   "pygments_lexer": "ipython3",
   "version": "3.9.16"
  }
 },
 "nbformat": 4,
 "nbformat_minor": 2
}
