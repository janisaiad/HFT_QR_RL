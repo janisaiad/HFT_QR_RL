{
 "cells": [
  {
   "cell_type": "code",
   "execution_count": 38,
   "metadata": {},
   "outputs": [],
   "source": [
    "import numpy as np\n",
    "import plotly.graph_objects as go\n",
    "from tqdm import tqdm\n",
    "import polars as pl"
   ]
  },
  {
   "cell_type": "code",
   "execution_count": 39,
   "metadata": {},
   "outputs": [],
   "source": [
    "actif = 'GOOGL'\n",
    "limite = 0\n"
   ]
  },
  {
   "cell_type": "code",
   "execution_count": 40,
   "metadata": {},
   "outputs": [],
   "source": [
    "df = pl.read_parquet(f'/home/janis/3A/EA/HFT_QR_RL/data/smash3/data/csv/NASDAQ/{actif}/20240927.parquet')"
   ]
  },
  {
   "cell_type": "code",
   "execution_count": 41,
   "metadata": {},
   "outputs": [],
   "source": [
    "df = df.filter(\n",
    "    (pl.col('symbol') == actif) &\n",
    "    (pl.col('depth') == limite) &\n",
    "    (pl.col('side').is_in(['A','B']))\n",
    ")\n",
    "\n",
    "# No need to parse ts_event since it's already datetime[ns, UTC]\n",
    "df = df.filter(\n",
    "    (pl.col('ts_event').dt.hour() >= 14) & \n",
    "    (pl.col('ts_event').dt.hour() < 19)\n",
    ")"
   ]
  },
  {
   "cell_type": "code",
   "execution_count": 18,
   "metadata": {},
   "outputs": [],
   "source": [
    "# import pandas as pd\n",
    "\n",
    "# # Assurez-vous que le DataFrame est trié par 'ts_event'\n",
    "# df_sorted = df_.sort_values(by='ts_event').reset_index(drop=True)\n",
    "\n",
    "# # Spécifiez le timestamp cible\n",
    "# target_timestamp = pd.Timestamp('2024-09-27 14:00:00.707592949+00:00')\n",
    "\n",
    "# # Localiser l'index de la ligne qui correspond au timestamp cible\n",
    "# target_index = df_sorted[df_sorted['ts_event'] == target_timestamp].index\n",
    "\n",
    "# # Initialiser une liste pour stocker les événements avant et après\n",
    "# events_around_target = []\n",
    "\n",
    "# # Si le timestamp cible existe dans le DataFrame, récupérez les événements avant et après\n",
    "# if len(target_index) > 0:\n",
    "#     target_index = target_index[0]  # Prendre le premier match si plusieurs existent\n",
    "\n",
    "#     # Événement juste avant\n",
    "#     if target_index > 0:\n",
    "#         event_before = df_sorted.iloc[target_index - 1]\n",
    "#         events_around_target.append(event_before)\n",
    "\n",
    "#     # Événement juste après\n",
    "#     if target_index < len(df_sorted) - 1:\n",
    "#         event_after = df_sorted.iloc[target_index + 1]\n",
    "#         events_around_target.append(event_after)\n",
    "\n",
    "#     # Convertir les événements en DataFrame\n",
    "#     df_events_around_target = pd.DataFrame(events_around_target)\n",
    "#     print(\"Événements juste avant et juste après le timestamp cible:\")\n",
    "# else:\n",
    "#     print(\"Le timestamp cible n'est pas présent dans le DataFrame.\")\n"
   ]
  },
  {
   "cell_type": "code",
   "execution_count": 19,
   "metadata": {},
   "outputs": [],
   "source": [
    "# import pandas as pd\n",
    "\n",
    "# # Assurez-vous que le DataFrame est trié par 'ts_event'\n",
    "# df_sorted = df.sort_values(by='ts_event').reset_index(drop=True)\n",
    "\n",
    "# # Spécifiez le timestamp cible\n",
    "# target_timestamp = pd.Timestamp('2024-09-27 14:00:00.707592949+00:00')\n",
    "\n",
    "# # Filtrer pour obtenir l'événement immédiatement après le timestamp cible\n",
    "# event_after = df_sorted[df_sorted['ts_event'] > target_timestamp].head(1)\n",
    "\n",
    "# event_after.head()\n"
   ]
  },
  {
   "cell_type": "code",
   "execution_count": 20,
   "metadata": {},
   "outputs": [],
   "source": [
    "# df_events_around_target.head()"
   ]
  },
  {
   "cell_type": "code",
   "execution_count": 21,
   "metadata": {},
   "outputs": [],
   "source": [
    "# df[df['ts_event'] == pd.Timestamp('2024-09-27 14:00:00.707592949+00:00')].head(10)"
   ]
  },
  {
   "cell_type": "code",
   "execution_count": 22,
   "metadata": {},
   "outputs": [],
   "source": [
    "def visu_1():\n",
    "    # Get numpy arrays for plotting\n",
    "    size_bid = df['bid_sz_00'].to_numpy()\n",
    "    size_ask = df['ask_sz_00'].to_numpy()\n",
    "    time = df['ts_event'].cast(pl.Datetime).to_numpy()\n",
    "\n",
    "    # First plot - Queue sizes\n",
    "    fig = go.Figure()\n",
    "    fig.add_trace(go.Scatter(x=time, y=size_bid, mode='lines', name='Bid', showlegend=True))\n",
    "    fig.add_trace(go.Scatter(x=time, y=size_ask, mode='lines', name='Ask', showlegend=True))\n",
    "    fig.update_layout(title='Taille de queues', xaxis_title='size', yaxis_title='intensity', showlegend=True)\n",
    "    fig.show()\n",
    "\n",
    "    # Get data for second plot\n",
    "    trades_df = df.filter(pl.col('action') == 'T')\n",
    "    price_1 = trades_df['price'].to_numpy() \n",
    "    time_price_1 = trades_df['ts_event'].cast(pl.Datetime).to_numpy()\n",
    "    \n",
    "    # Get price levels\n",
    "    bid_ask_cols = ['bid_px_00', 'ask_px_00', 'bid_px_01', 'ask_px_01', \n",
    "                    'bid_px_02', 'ask_px_02', 'bid_px_03', 'ask_px_03']\n",
    "    price_arrays = {col: df[col].to_numpy() for col in bid_ask_cols}\n",
    "\n",
    "    # Second plot - Prices\n",
    "    fig = go.Figure()\n",
    "    fig.add_trace(go.Scatter(x=time_price_1, y=price_1, mode='lines', name='Prix', showlegend=True))\n",
    "    \n",
    "    for i, (name, values) in enumerate(price_arrays.items()):\n",
    "        side = 'Bid' if 'bid' in name else 'Ask'\n",
    "        level = name[-2:]\n",
    "        fig.add_trace(go.Scatter(x=time, y=values, mode='lines', \n",
    "                               name=f'{side} {level}', showlegend=True))\n",
    "    \n",
    "    fig.update_layout(title='Bid-ask', xaxis_title='size', yaxis_title='intensity', showlegend=True)\n",
    "    fig.show()\n"
   ]
  },
  {
   "cell_type": "code",
   "execution_count": 23,
   "metadata": {},
   "outputs": [
    {
     "ename": "KeyboardInterrupt",
     "evalue": "",
     "output_type": "error",
     "traceback": [
      "\u001b[0;31m---------------------------------------------------------------------------\u001b[0m",
      "\u001b[0;31mKeyboardInterrupt\u001b[0m                         Traceback (most recent call last)",
      "Cell \u001b[0;32mIn[23], line 1\u001b[0m\n\u001b[0;32m----> 1\u001b[0m \u001b[43mvisu_1\u001b[49m\u001b[43m(\u001b[49m\u001b[43m)\u001b[49m\n",
      "Cell \u001b[0;32mIn[22], line 12\u001b[0m, in \u001b[0;36mvisu_1\u001b[0;34m()\u001b[0m\n\u001b[1;32m     10\u001b[0m fig\u001b[38;5;241m.\u001b[39madd_trace(go\u001b[38;5;241m.\u001b[39mScatter(x\u001b[38;5;241m=\u001b[39mtime, y\u001b[38;5;241m=\u001b[39msize_ask, mode\u001b[38;5;241m=\u001b[39m\u001b[38;5;124m'\u001b[39m\u001b[38;5;124mlines\u001b[39m\u001b[38;5;124m'\u001b[39m, name\u001b[38;5;241m=\u001b[39m\u001b[38;5;124m'\u001b[39m\u001b[38;5;124mAsk\u001b[39m\u001b[38;5;124m'\u001b[39m, showlegend\u001b[38;5;241m=\u001b[39m\u001b[38;5;28;01mTrue\u001b[39;00m))\n\u001b[1;32m     11\u001b[0m fig\u001b[38;5;241m.\u001b[39mupdate_layout(title\u001b[38;5;241m=\u001b[39m\u001b[38;5;124m'\u001b[39m\u001b[38;5;124mTaille de queues\u001b[39m\u001b[38;5;124m'\u001b[39m, xaxis_title\u001b[38;5;241m=\u001b[39m\u001b[38;5;124m'\u001b[39m\u001b[38;5;124msize\u001b[39m\u001b[38;5;124m'\u001b[39m, yaxis_title\u001b[38;5;241m=\u001b[39m\u001b[38;5;124m'\u001b[39m\u001b[38;5;124mintensity\u001b[39m\u001b[38;5;124m'\u001b[39m, showlegend\u001b[38;5;241m=\u001b[39m\u001b[38;5;28;01mTrue\u001b[39;00m)\n\u001b[0;32m---> 12\u001b[0m \u001b[43mfig\u001b[49m\u001b[38;5;241;43m.\u001b[39;49m\u001b[43mshow\u001b[49m\u001b[43m(\u001b[49m\u001b[43m)\u001b[49m\n\u001b[1;32m     14\u001b[0m \u001b[38;5;66;03m# Get data for second plot\u001b[39;00m\n\u001b[1;32m     15\u001b[0m trades_df \u001b[38;5;241m=\u001b[39m df\u001b[38;5;241m.\u001b[39mfilter(pl\u001b[38;5;241m.\u001b[39mcol(\u001b[38;5;124m'\u001b[39m\u001b[38;5;124maction\u001b[39m\u001b[38;5;124m'\u001b[39m) \u001b[38;5;241m==\u001b[39m \u001b[38;5;124m'\u001b[39m\u001b[38;5;124mT\u001b[39m\u001b[38;5;124m'\u001b[39m)\n",
      "File \u001b[0;32m~/3A/EA/HFT_QR_RL/.venv/lib/python3.9/site-packages/plotly/basedatatypes.py:3410\u001b[0m, in \u001b[0;36mBaseFigure.show\u001b[0;34m(self, *args, **kwargs)\u001b[0m\n\u001b[1;32m   3377\u001b[0m \u001b[38;5;250m\u001b[39m\u001b[38;5;124;03m\"\"\"\u001b[39;00m\n\u001b[1;32m   3378\u001b[0m \u001b[38;5;124;03mShow a figure using either the default renderer(s) or the renderer(s)\u001b[39;00m\n\u001b[1;32m   3379\u001b[0m \u001b[38;5;124;03mspecified by the renderer argument\u001b[39;00m\n\u001b[0;32m   (...)\u001b[0m\n\u001b[1;32m   3406\u001b[0m \u001b[38;5;124;03mNone\u001b[39;00m\n\u001b[1;32m   3407\u001b[0m \u001b[38;5;124;03m\"\"\"\u001b[39;00m\n\u001b[1;32m   3408\u001b[0m \u001b[38;5;28;01mimport\u001b[39;00m \u001b[38;5;21;01mplotly\u001b[39;00m\u001b[38;5;21;01m.\u001b[39;00m\u001b[38;5;21;01mio\u001b[39;00m \u001b[38;5;28;01mas\u001b[39;00m \u001b[38;5;21;01mpio\u001b[39;00m\n\u001b[0;32m-> 3410\u001b[0m \u001b[38;5;28;01mreturn\u001b[39;00m \u001b[43mpio\u001b[49m\u001b[38;5;241;43m.\u001b[39;49m\u001b[43mshow\u001b[49m\u001b[43m(\u001b[49m\u001b[38;5;28;43mself\u001b[39;49m\u001b[43m,\u001b[49m\u001b[43m \u001b[49m\u001b[38;5;241;43m*\u001b[39;49m\u001b[43margs\u001b[49m\u001b[43m,\u001b[49m\u001b[43m \u001b[49m\u001b[38;5;241;43m*\u001b[39;49m\u001b[38;5;241;43m*\u001b[39;49m\u001b[43mkwargs\u001b[49m\u001b[43m)\u001b[49m\n",
      "File \u001b[0;32m~/3A/EA/HFT_QR_RL/.venv/lib/python3.9/site-packages/plotly/io/_renderers.py:398\u001b[0m, in \u001b[0;36mshow\u001b[0;34m(fig, renderer, validate, **kwargs)\u001b[0m\n\u001b[1;32m    393\u001b[0m     \u001b[38;5;28;01mif\u001b[39;00m \u001b[38;5;129;01mnot\u001b[39;00m nbformat \u001b[38;5;129;01mor\u001b[39;00m Version(nbformat\u001b[38;5;241m.\u001b[39m__version__) \u001b[38;5;241m<\u001b[39m Version(\u001b[38;5;124m\"\u001b[39m\u001b[38;5;124m4.2.0\u001b[39m\u001b[38;5;124m\"\u001b[39m):\n\u001b[1;32m    394\u001b[0m         \u001b[38;5;28;01mraise\u001b[39;00m \u001b[38;5;167;01mValueError\u001b[39;00m(\n\u001b[1;32m    395\u001b[0m             \u001b[38;5;124m\"\u001b[39m\u001b[38;5;124mMime type rendering requires nbformat>=4.2.0 but it is not installed\u001b[39m\u001b[38;5;124m\"\u001b[39m\n\u001b[1;32m    396\u001b[0m         )\n\u001b[0;32m--> 398\u001b[0m     \u001b[43mipython_display\u001b[49m\u001b[38;5;241;43m.\u001b[39;49m\u001b[43mdisplay\u001b[49m\u001b[43m(\u001b[49m\u001b[43mbundle\u001b[49m\u001b[43m,\u001b[49m\u001b[43m \u001b[49m\u001b[43mraw\u001b[49m\u001b[38;5;241;43m=\u001b[39;49m\u001b[38;5;28;43;01mTrue\u001b[39;49;00m\u001b[43m)\u001b[49m\n\u001b[1;32m    400\u001b[0m \u001b[38;5;66;03m# external renderers\u001b[39;00m\n\u001b[1;32m    401\u001b[0m renderers\u001b[38;5;241m.\u001b[39m_perform_external_rendering(fig_dict, renderers_string\u001b[38;5;241m=\u001b[39mrenderer, \u001b[38;5;241m*\u001b[39m\u001b[38;5;241m*\u001b[39mkwargs)\n",
      "File \u001b[0;32m~/3A/EA/HFT_QR_RL/.venv/lib/python3.9/site-packages/IPython/core/display_functions.py:296\u001b[0m, in \u001b[0;36mdisplay\u001b[0;34m(include, exclude, metadata, transient, display_id, raw, clear, *objs, **kwargs)\u001b[0m\n\u001b[1;32m    294\u001b[0m \u001b[38;5;28;01mfor\u001b[39;00m obj \u001b[38;5;129;01min\u001b[39;00m objs:\n\u001b[1;32m    295\u001b[0m     \u001b[38;5;28;01mif\u001b[39;00m raw:\n\u001b[0;32m--> 296\u001b[0m         \u001b[43mpublish_display_data\u001b[49m\u001b[43m(\u001b[49m\u001b[43mdata\u001b[49m\u001b[38;5;241;43m=\u001b[39;49m\u001b[43mobj\u001b[49m\u001b[43m,\u001b[49m\u001b[43m \u001b[49m\u001b[43mmetadata\u001b[49m\u001b[38;5;241;43m=\u001b[39;49m\u001b[43mmetadata\u001b[49m\u001b[43m,\u001b[49m\u001b[43m \u001b[49m\u001b[38;5;241;43m*\u001b[39;49m\u001b[38;5;241;43m*\u001b[39;49m\u001b[43mkwargs\u001b[49m\u001b[43m)\u001b[49m\n\u001b[1;32m    297\u001b[0m     \u001b[38;5;28;01melse\u001b[39;00m:\n\u001b[1;32m    298\u001b[0m         format_dict, md_dict \u001b[38;5;241m=\u001b[39m \u001b[38;5;28mformat\u001b[39m(obj, include\u001b[38;5;241m=\u001b[39minclude, exclude\u001b[38;5;241m=\u001b[39mexclude)\n",
      "File \u001b[0;32m~/3A/EA/HFT_QR_RL/.venv/lib/python3.9/site-packages/IPython/core/display_functions.py:93\u001b[0m, in \u001b[0;36mpublish_display_data\u001b[0;34m(data, metadata, source, transient, **kwargs)\u001b[0m\n\u001b[1;32m     90\u001b[0m \u001b[38;5;28;01mif\u001b[39;00m transient:\n\u001b[1;32m     91\u001b[0m     kwargs[\u001b[38;5;124m'\u001b[39m\u001b[38;5;124mtransient\u001b[39m\u001b[38;5;124m'\u001b[39m] \u001b[38;5;241m=\u001b[39m transient\n\u001b[0;32m---> 93\u001b[0m \u001b[43mdisplay_pub\u001b[49m\u001b[38;5;241;43m.\u001b[39;49m\u001b[43mpublish\u001b[49m\u001b[43m(\u001b[49m\n\u001b[1;32m     94\u001b[0m \u001b[43m    \u001b[49m\u001b[43mdata\u001b[49m\u001b[38;5;241;43m=\u001b[39;49m\u001b[43mdata\u001b[49m\u001b[43m,\u001b[49m\n\u001b[1;32m     95\u001b[0m \u001b[43m    \u001b[49m\u001b[43mmetadata\u001b[49m\u001b[38;5;241;43m=\u001b[39;49m\u001b[43mmetadata\u001b[49m\u001b[43m,\u001b[49m\n\u001b[1;32m     96\u001b[0m \u001b[43m    \u001b[49m\u001b[38;5;241;43m*\u001b[39;49m\u001b[38;5;241;43m*\u001b[39;49m\u001b[43mkwargs\u001b[49m\n\u001b[1;32m     97\u001b[0m \u001b[43m\u001b[49m\u001b[43m)\u001b[49m\n",
      "File \u001b[0;32m~/3A/EA/HFT_QR_RL/.venv/lib/python3.9/site-packages/ipykernel/zmqshell.py:130\u001b[0m, in \u001b[0;36mZMQDisplayPublisher.publish\u001b[0;34m(self, data, metadata, transient, update)\u001b[0m\n\u001b[1;32m    127\u001b[0m     \u001b[38;5;28;01mif\u001b[39;00m msg \u001b[38;5;129;01mis\u001b[39;00m \u001b[38;5;28;01mNone\u001b[39;00m:\n\u001b[1;32m    128\u001b[0m         \u001b[38;5;28;01mreturn\u001b[39;00m  \u001b[38;5;66;03m# type:ignore[unreachable]\u001b[39;00m\n\u001b[0;32m--> 130\u001b[0m \u001b[38;5;28;43mself\u001b[39;49m\u001b[38;5;241;43m.\u001b[39;49m\u001b[43msession\u001b[49m\u001b[38;5;241;43m.\u001b[39;49m\u001b[43msend\u001b[49m\u001b[43m(\u001b[49m\n\u001b[1;32m    131\u001b[0m \u001b[43m    \u001b[49m\u001b[38;5;28;43mself\u001b[39;49m\u001b[38;5;241;43m.\u001b[39;49m\u001b[43mpub_socket\u001b[49m\u001b[43m,\u001b[49m\n\u001b[1;32m    132\u001b[0m \u001b[43m    \u001b[49m\u001b[43mmsg\u001b[49m\u001b[43m,\u001b[49m\n\u001b[1;32m    133\u001b[0m \u001b[43m    \u001b[49m\u001b[43mident\u001b[49m\u001b[38;5;241;43m=\u001b[39;49m\u001b[38;5;28;43mself\u001b[39;49m\u001b[38;5;241;43m.\u001b[39;49m\u001b[43mtopic\u001b[49m\u001b[43m,\u001b[49m\n\u001b[1;32m    134\u001b[0m \u001b[43m\u001b[49m\u001b[43m)\u001b[49m\n",
      "File \u001b[0;32m~/3A/EA/HFT_QR_RL/.venv/lib/python3.9/site-packages/jupyter_client/session.py:852\u001b[0m, in \u001b[0;36mSession.send\u001b[0;34m(self, stream, msg_or_type, content, parent, ident, buffers, track, header, metadata)\u001b[0m\n\u001b[1;32m    850\u001b[0m \u001b[38;5;28;01mif\u001b[39;00m \u001b[38;5;28mself\u001b[39m\u001b[38;5;241m.\u001b[39madapt_version:\n\u001b[1;32m    851\u001b[0m     msg \u001b[38;5;241m=\u001b[39m adapt(msg, \u001b[38;5;28mself\u001b[39m\u001b[38;5;241m.\u001b[39madapt_version)\n\u001b[0;32m--> 852\u001b[0m to_send \u001b[38;5;241m=\u001b[39m \u001b[38;5;28;43mself\u001b[39;49m\u001b[38;5;241;43m.\u001b[39;49m\u001b[43mserialize\u001b[49m\u001b[43m(\u001b[49m\u001b[43mmsg\u001b[49m\u001b[43m,\u001b[49m\u001b[43m \u001b[49m\u001b[43mident\u001b[49m\u001b[43m)\u001b[49m\n\u001b[1;32m    853\u001b[0m to_send\u001b[38;5;241m.\u001b[39mextend(buffers)\n\u001b[1;32m    854\u001b[0m longest \u001b[38;5;241m=\u001b[39m \u001b[38;5;28mmax\u001b[39m([\u001b[38;5;28mlen\u001b[39m(s) \u001b[38;5;28;01mfor\u001b[39;00m s \u001b[38;5;129;01min\u001b[39;00m to_send])\n",
      "File \u001b[0;32m~/3A/EA/HFT_QR_RL/.venv/lib/python3.9/site-packages/jupyter_client/session.py:721\u001b[0m, in \u001b[0;36mSession.serialize\u001b[0;34m(self, msg, ident)\u001b[0m\n\u001b[1;32m    719\u001b[0m     content \u001b[38;5;241m=\u001b[39m \u001b[38;5;28mself\u001b[39m\u001b[38;5;241m.\u001b[39mnone\n\u001b[1;32m    720\u001b[0m \u001b[38;5;28;01melif\u001b[39;00m \u001b[38;5;28misinstance\u001b[39m(content, \u001b[38;5;28mdict\u001b[39m):\n\u001b[0;32m--> 721\u001b[0m     content \u001b[38;5;241m=\u001b[39m \u001b[38;5;28;43mself\u001b[39;49m\u001b[38;5;241;43m.\u001b[39;49m\u001b[43mpack\u001b[49m\u001b[43m(\u001b[49m\u001b[43mcontent\u001b[49m\u001b[43m)\u001b[49m\n\u001b[1;32m    722\u001b[0m \u001b[38;5;28;01melif\u001b[39;00m \u001b[38;5;28misinstance\u001b[39m(content, \u001b[38;5;28mbytes\u001b[39m):\n\u001b[1;32m    723\u001b[0m     \u001b[38;5;66;03m# content is already packed, as in a relayed message\u001b[39;00m\n\u001b[1;32m    724\u001b[0m     \u001b[38;5;28;01mpass\u001b[39;00m\n",
      "File \u001b[0;32m~/3A/EA/HFT_QR_RL/.venv/lib/python3.9/site-packages/jupyter_client/session.py:95\u001b[0m, in \u001b[0;36mjson_packer\u001b[0;34m(obj)\u001b[0m\n\u001b[1;32m     93\u001b[0m \u001b[38;5;250m\u001b[39m\u001b[38;5;124;03m\"\"\"Convert a json object to a bytes.\"\"\"\u001b[39;00m\n\u001b[1;32m     94\u001b[0m \u001b[38;5;28;01mtry\u001b[39;00m:\n\u001b[0;32m---> 95\u001b[0m     \u001b[38;5;28;01mreturn\u001b[39;00m \u001b[43mjson\u001b[49m\u001b[38;5;241;43m.\u001b[39;49m\u001b[43mdumps\u001b[49m\u001b[43m(\u001b[49m\n\u001b[1;32m     96\u001b[0m \u001b[43m        \u001b[49m\u001b[43mobj\u001b[49m\u001b[43m,\u001b[49m\n\u001b[1;32m     97\u001b[0m \u001b[43m        \u001b[49m\u001b[43mdefault\u001b[49m\u001b[38;5;241;43m=\u001b[39;49m\u001b[43mjson_default\u001b[49m\u001b[43m,\u001b[49m\n\u001b[1;32m     98\u001b[0m \u001b[43m        \u001b[49m\u001b[43mensure_ascii\u001b[49m\u001b[38;5;241;43m=\u001b[39;49m\u001b[38;5;28;43;01mFalse\u001b[39;49;00m\u001b[43m,\u001b[49m\n\u001b[1;32m     99\u001b[0m \u001b[43m        \u001b[49m\u001b[43mallow_nan\u001b[49m\u001b[38;5;241;43m=\u001b[39;49m\u001b[38;5;28;43;01mFalse\u001b[39;49;00m\u001b[43m,\u001b[49m\n\u001b[1;32m    100\u001b[0m \u001b[43m    \u001b[49m\u001b[43m)\u001b[49m\u001b[38;5;241m.\u001b[39mencode(\u001b[38;5;124m\"\u001b[39m\u001b[38;5;124mutf8\u001b[39m\u001b[38;5;124m\"\u001b[39m, errors\u001b[38;5;241m=\u001b[39m\u001b[38;5;124m\"\u001b[39m\u001b[38;5;124msurrogateescape\u001b[39m\u001b[38;5;124m\"\u001b[39m)\n\u001b[1;32m    101\u001b[0m \u001b[38;5;28;01mexcept\u001b[39;00m (\u001b[38;5;167;01mTypeError\u001b[39;00m, \u001b[38;5;167;01mValueError\u001b[39;00m) \u001b[38;5;28;01mas\u001b[39;00m e:\n\u001b[1;32m    102\u001b[0m     \u001b[38;5;66;03m# Fallback to trying to clean the json before serializing\u001b[39;00m\n\u001b[1;32m    103\u001b[0m     packed \u001b[38;5;241m=\u001b[39m json\u001b[38;5;241m.\u001b[39mdumps(\n\u001b[1;32m    104\u001b[0m         json_clean(obj),\n\u001b[1;32m    105\u001b[0m         default\u001b[38;5;241m=\u001b[39mjson_default,\n\u001b[1;32m    106\u001b[0m         ensure_ascii\u001b[38;5;241m=\u001b[39m\u001b[38;5;28;01mFalse\u001b[39;00m,\n\u001b[1;32m    107\u001b[0m         allow_nan\u001b[38;5;241m=\u001b[39m\u001b[38;5;28;01mFalse\u001b[39;00m,\n\u001b[1;32m    108\u001b[0m     )\u001b[38;5;241m.\u001b[39mencode(\u001b[38;5;124m\"\u001b[39m\u001b[38;5;124mutf8\u001b[39m\u001b[38;5;124m\"\u001b[39m, errors\u001b[38;5;241m=\u001b[39m\u001b[38;5;124m\"\u001b[39m\u001b[38;5;124msurrogateescape\u001b[39m\u001b[38;5;124m\"\u001b[39m)\n",
      "File \u001b[0;32m~/.local/share/uv/python/cpython-3.9.20-linux-x86_64-gnu/lib/python3.9/json/__init__.py:234\u001b[0m, in \u001b[0;36mdumps\u001b[0;34m(obj, skipkeys, ensure_ascii, check_circular, allow_nan, cls, indent, separators, default, sort_keys, **kw)\u001b[0m\n\u001b[1;32m    232\u001b[0m \u001b[38;5;28;01mif\u001b[39;00m \u001b[38;5;28mcls\u001b[39m \u001b[38;5;129;01mis\u001b[39;00m \u001b[38;5;28;01mNone\u001b[39;00m:\n\u001b[1;32m    233\u001b[0m     \u001b[38;5;28mcls\u001b[39m \u001b[38;5;241m=\u001b[39m JSONEncoder\n\u001b[0;32m--> 234\u001b[0m \u001b[38;5;28;01mreturn\u001b[39;00m \u001b[38;5;28;43mcls\u001b[39;49m\u001b[43m(\u001b[49m\n\u001b[1;32m    235\u001b[0m \u001b[43m    \u001b[49m\u001b[43mskipkeys\u001b[49m\u001b[38;5;241;43m=\u001b[39;49m\u001b[43mskipkeys\u001b[49m\u001b[43m,\u001b[49m\u001b[43m \u001b[49m\u001b[43mensure_ascii\u001b[49m\u001b[38;5;241;43m=\u001b[39;49m\u001b[43mensure_ascii\u001b[49m\u001b[43m,\u001b[49m\n\u001b[1;32m    236\u001b[0m \u001b[43m    \u001b[49m\u001b[43mcheck_circular\u001b[49m\u001b[38;5;241;43m=\u001b[39;49m\u001b[43mcheck_circular\u001b[49m\u001b[43m,\u001b[49m\u001b[43m \u001b[49m\u001b[43mallow_nan\u001b[49m\u001b[38;5;241;43m=\u001b[39;49m\u001b[43mallow_nan\u001b[49m\u001b[43m,\u001b[49m\u001b[43m \u001b[49m\u001b[43mindent\u001b[49m\u001b[38;5;241;43m=\u001b[39;49m\u001b[43mindent\u001b[49m\u001b[43m,\u001b[49m\n\u001b[1;32m    237\u001b[0m \u001b[43m    \u001b[49m\u001b[43mseparators\u001b[49m\u001b[38;5;241;43m=\u001b[39;49m\u001b[43mseparators\u001b[49m\u001b[43m,\u001b[49m\u001b[43m \u001b[49m\u001b[43mdefault\u001b[49m\u001b[38;5;241;43m=\u001b[39;49m\u001b[43mdefault\u001b[49m\u001b[43m,\u001b[49m\u001b[43m \u001b[49m\u001b[43msort_keys\u001b[49m\u001b[38;5;241;43m=\u001b[39;49m\u001b[43msort_keys\u001b[49m\u001b[43m,\u001b[49m\n\u001b[1;32m    238\u001b[0m \u001b[43m    \u001b[49m\u001b[38;5;241;43m*\u001b[39;49m\u001b[38;5;241;43m*\u001b[39;49m\u001b[43mkw\u001b[49m\u001b[43m)\u001b[49m\u001b[38;5;241;43m.\u001b[39;49m\u001b[43mencode\u001b[49m\u001b[43m(\u001b[49m\u001b[43mobj\u001b[49m\u001b[43m)\u001b[49m\n",
      "File \u001b[0;32m~/.local/share/uv/python/cpython-3.9.20-linux-x86_64-gnu/lib/python3.9/json/encoder.py:199\u001b[0m, in \u001b[0;36mJSONEncoder.encode\u001b[0;34m(self, o)\u001b[0m\n\u001b[1;32m    195\u001b[0m         \u001b[38;5;28;01mreturn\u001b[39;00m encode_basestring(o)\n\u001b[1;32m    196\u001b[0m \u001b[38;5;66;03m# This doesn't pass the iterator directly to ''.join() because the\u001b[39;00m\n\u001b[1;32m    197\u001b[0m \u001b[38;5;66;03m# exceptions aren't as detailed.  The list call should be roughly\u001b[39;00m\n\u001b[1;32m    198\u001b[0m \u001b[38;5;66;03m# equivalent to the PySequence_Fast that ''.join() would do.\u001b[39;00m\n\u001b[0;32m--> 199\u001b[0m chunks \u001b[38;5;241m=\u001b[39m \u001b[38;5;28;43mself\u001b[39;49m\u001b[38;5;241;43m.\u001b[39;49m\u001b[43miterencode\u001b[49m\u001b[43m(\u001b[49m\u001b[43mo\u001b[49m\u001b[43m,\u001b[49m\u001b[43m \u001b[49m\u001b[43m_one_shot\u001b[49m\u001b[38;5;241;43m=\u001b[39;49m\u001b[38;5;28;43;01mTrue\u001b[39;49;00m\u001b[43m)\u001b[49m\n\u001b[1;32m    200\u001b[0m \u001b[38;5;28;01mif\u001b[39;00m \u001b[38;5;129;01mnot\u001b[39;00m \u001b[38;5;28misinstance\u001b[39m(chunks, (\u001b[38;5;28mlist\u001b[39m, \u001b[38;5;28mtuple\u001b[39m)):\n\u001b[1;32m    201\u001b[0m     chunks \u001b[38;5;241m=\u001b[39m \u001b[38;5;28mlist\u001b[39m(chunks)\n",
      "File \u001b[0;32m~/.local/share/uv/python/cpython-3.9.20-linux-x86_64-gnu/lib/python3.9/json/encoder.py:257\u001b[0m, in \u001b[0;36mJSONEncoder.iterencode\u001b[0;34m(self, o, _one_shot)\u001b[0m\n\u001b[1;32m    252\u001b[0m \u001b[38;5;28;01melse\u001b[39;00m:\n\u001b[1;32m    253\u001b[0m     _iterencode \u001b[38;5;241m=\u001b[39m _make_iterencode(\n\u001b[1;32m    254\u001b[0m         markers, \u001b[38;5;28mself\u001b[39m\u001b[38;5;241m.\u001b[39mdefault, _encoder, \u001b[38;5;28mself\u001b[39m\u001b[38;5;241m.\u001b[39mindent, floatstr,\n\u001b[1;32m    255\u001b[0m         \u001b[38;5;28mself\u001b[39m\u001b[38;5;241m.\u001b[39mkey_separator, \u001b[38;5;28mself\u001b[39m\u001b[38;5;241m.\u001b[39mitem_separator, \u001b[38;5;28mself\u001b[39m\u001b[38;5;241m.\u001b[39msort_keys,\n\u001b[1;32m    256\u001b[0m         \u001b[38;5;28mself\u001b[39m\u001b[38;5;241m.\u001b[39mskipkeys, _one_shot)\n\u001b[0;32m--> 257\u001b[0m \u001b[38;5;28;01mreturn\u001b[39;00m \u001b[43m_iterencode\u001b[49m\u001b[43m(\u001b[49m\u001b[43mo\u001b[49m\u001b[43m,\u001b[49m\u001b[43m \u001b[49m\u001b[38;5;241;43m0\u001b[39;49m\u001b[43m)\u001b[49m\n",
      "\u001b[0;31mKeyboardInterrupt\u001b[0m: "
     ]
    }
   ],
   "source": [
    "visu_1()"
   ]
  },
  {
   "cell_type": "code",
   "execution_count": 42,
   "metadata": {},
   "outputs": [],
   "source": [
    "df_ = df.select([\n",
    "    'ts_event', 'action', 'side', 'size', 'price',\n",
    "    f'bid_px_0{limite}', f'ask_px_0{limite}', \n",
    "    f'bid_sz_0{limite}', f'ask_sz_0{limite}',\n",
    "    f'bid_ct_0{limite}', f'ask_ct_0{limite}',\n",
    "    f'bid_px_0{limite+1}', f'ask_px_0{limite+1}', \n",
    "    f'bid_sz_0{limite+1}', f'ask_sz_0{limite+1}',\n",
    "    f'bid_ct_0{limite+1}', f'ask_ct_0{limite+1}'\n",
    "])"
   ]
  },
  {
   "cell_type": "code",
   "execution_count": 43,
   "metadata": {},
   "outputs": [
    {
     "data": {
      "text/html": [
       "<div><style>\n",
       ".dataframe > thead > tr,\n",
       ".dataframe > tbody > tr {\n",
       "  text-align: right;\n",
       "  white-space: pre-wrap;\n",
       "}\n",
       "</style>\n",
       "<small>shape: (100, 17)</small><table border=\"1\" class=\"dataframe\"><thead><tr><th>ts_event</th><th>action</th><th>side</th><th>size</th><th>price</th><th>bid_px_00</th><th>ask_px_00</th><th>bid_sz_00</th><th>ask_sz_00</th><th>bid_ct_00</th><th>ask_ct_00</th><th>bid_px_01</th><th>ask_px_01</th><th>bid_sz_01</th><th>ask_sz_01</th><th>bid_ct_01</th><th>ask_ct_01</th></tr><tr><td>datetime[ns, UTC]</td><td>str</td><td>str</td><td>u32</td><td>f64</td><td>f64</td><td>f64</td><td>u32</td><td>u32</td><td>u32</td><td>u32</td><td>f64</td><td>f64</td><td>u32</td><td>u32</td><td>u32</td><td>u32</td></tr></thead><tbody><tr><td>2024-09-27 14:02:36.262910706 UTC</td><td>&quot;T&quot;</td><td>&quot;B&quot;</td><td>97</td><td>164.21</td><td>164.2</td><td>164.21</td><td>1046</td><td>97</td><td>11</td><td>1</td><td>164.19</td><td>164.22</td><td>620</td><td>203</td><td>5</td><td>4</td></tr><tr><td>2024-09-27 14:03:02.555153387 UTC</td><td>&quot;T&quot;</td><td>&quot;B&quot;</td><td>50</td><td>164.32</td><td>164.31</td><td>164.32</td><td>1155</td><td>50</td><td>1</td><td>1</td><td>164.3</td><td>164.33</td><td>30</td><td>111</td><td>2</td><td>3</td></tr><tr><td>2024-09-27 14:03:02.756882639 UTC</td><td>&quot;T&quot;</td><td>&quot;B&quot;</td><td>50</td><td>164.32</td><td>164.31</td><td>164.32</td><td>1155</td><td>100</td><td>1</td><td>1</td><td>164.3</td><td>164.33</td><td>152</td><td>131</td><td>4</td><td>3</td></tr><tr><td>2024-09-27 14:03:08.077629988 UTC</td><td>&quot;T&quot;</td><td>&quot;B&quot;</td><td>11</td><td>164.33</td><td>164.31</td><td>164.33</td><td>1438</td><td>18</td><td>7</td><td>2</td><td>164.3</td><td>164.34</td><td>742</td><td>21</td><td>6</td><td>2</td></tr><tr><td>2024-09-27 14:03:08.077629988 UTC</td><td>&quot;T&quot;</td><td>&quot;B&quot;</td><td>7</td><td>164.33</td><td>164.31</td><td>164.33</td><td>1438</td><td>7</td><td>7</td><td>1</td><td>164.3</td><td>164.34</td><td>742</td><td>21</td><td>6</td><td>2</td></tr><tr><td>&hellip;</td><td>&hellip;</td><td>&hellip;</td><td>&hellip;</td><td>&hellip;</td><td>&hellip;</td><td>&hellip;</td><td>&hellip;</td><td>&hellip;</td><td>&hellip;</td><td>&hellip;</td><td>&hellip;</td><td>&hellip;</td><td>&hellip;</td><td>&hellip;</td><td>&hellip;</td><td>&hellip;</td></tr><tr><td>2024-09-27 15:09:30.793000403 UTC</td><td>&quot;T&quot;</td><td>&quot;A&quot;</td><td>100</td><td>165.0</td><td>165.0</td><td>165.01</td><td>1567</td><td>120</td><td>47</td><td>2</td><td>164.99</td><td>165.02</td><td>180</td><td>305</td><td>4</td><td>6</td></tr><tr><td>2024-09-27 15:09:30.793000403 UTC</td><td>&quot;T&quot;</td><td>&quot;A&quot;</td><td>10</td><td>165.0</td><td>165.0</td><td>165.01</td><td>1467</td><td>120</td><td>46</td><td>2</td><td>164.99</td><td>165.02</td><td>180</td><td>305</td><td>4</td><td>6</td></tr><tr><td>2024-09-27 15:09:30.793000403 UTC</td><td>&quot;T&quot;</td><td>&quot;A&quot;</td><td>1</td><td>165.0</td><td>165.0</td><td>165.01</td><td>1457</td><td>120</td><td>45</td><td>2</td><td>164.99</td><td>165.02</td><td>180</td><td>305</td><td>4</td><td>6</td></tr><tr><td>2024-09-27 15:09:30.793000403 UTC</td><td>&quot;T&quot;</td><td>&quot;A&quot;</td><td>2</td><td>165.0</td><td>165.0</td><td>165.01</td><td>1456</td><td>120</td><td>44</td><td>2</td><td>164.99</td><td>165.02</td><td>180</td><td>305</td><td>4</td><td>6</td></tr><tr><td>2024-09-27 15:09:30.793000403 UTC</td><td>&quot;T&quot;</td><td>&quot;A&quot;</td><td>1</td><td>165.0</td><td>165.0</td><td>165.01</td><td>1454</td><td>120</td><td>43</td><td>2</td><td>164.99</td><td>165.02</td><td>180</td><td>305</td><td>4</td><td>6</td></tr></tbody></table></div>"
      ],
      "text/plain": [
       "shape: (100, 17)\n",
       "┌───────────────────────┬────────┬──────┬──────┬───┬───────────┬───────────┬───────────┬───────────┐\n",
       "│ ts_event              ┆ action ┆ side ┆ size ┆ … ┆ bid_sz_01 ┆ ask_sz_01 ┆ bid_ct_01 ┆ ask_ct_01 │\n",
       "│ ---                   ┆ ---    ┆ ---  ┆ ---  ┆   ┆ ---       ┆ ---       ┆ ---       ┆ ---       │\n",
       "│ datetime[ns, UTC]     ┆ str    ┆ str  ┆ u32  ┆   ┆ u32       ┆ u32       ┆ u32       ┆ u32       │\n",
       "╞═══════════════════════╪════════╪══════╪══════╪═══╪═══════════╪═══════════╪═══════════╪═══════════╡\n",
       "│ 2024-09-27            ┆ T      ┆ B    ┆ 97   ┆ … ┆ 620       ┆ 203       ┆ 5         ┆ 4         │\n",
       "│ 14:02:36.262910706 …  ┆        ┆      ┆      ┆   ┆           ┆           ┆           ┆           │\n",
       "│ 2024-09-27            ┆ T      ┆ B    ┆ 50   ┆ … ┆ 30        ┆ 111       ┆ 2         ┆ 3         │\n",
       "│ 14:03:02.555153387 …  ┆        ┆      ┆      ┆   ┆           ┆           ┆           ┆           │\n",
       "│ 2024-09-27            ┆ T      ┆ B    ┆ 50   ┆ … ┆ 152       ┆ 131       ┆ 4         ┆ 3         │\n",
       "│ 14:03:02.756882639 …  ┆        ┆      ┆      ┆   ┆           ┆           ┆           ┆           │\n",
       "│ 2024-09-27            ┆ T      ┆ B    ┆ 11   ┆ … ┆ 742       ┆ 21        ┆ 6         ┆ 2         │\n",
       "│ 14:03:08.077629988 …  ┆        ┆      ┆      ┆   ┆           ┆           ┆           ┆           │\n",
       "│ 2024-09-27            ┆ T      ┆ B    ┆ 7    ┆ … ┆ 742       ┆ 21        ┆ 6         ┆ 2         │\n",
       "│ 14:03:08.077629988 …  ┆        ┆      ┆      ┆   ┆           ┆           ┆           ┆           │\n",
       "│ …                     ┆ …      ┆ …    ┆ …    ┆ … ┆ …         ┆ …         ┆ …         ┆ …         │\n",
       "│ 2024-09-27            ┆ T      ┆ A    ┆ 100  ┆ … ┆ 180       ┆ 305       ┆ 4         ┆ 6         │\n",
       "│ 15:09:30.793000403 …  ┆        ┆      ┆      ┆   ┆           ┆           ┆           ┆           │\n",
       "│ 2024-09-27            ┆ T      ┆ A    ┆ 10   ┆ … ┆ 180       ┆ 305       ┆ 4         ┆ 6         │\n",
       "│ 15:09:30.793000403 …  ┆        ┆      ┆      ┆   ┆           ┆           ┆           ┆           │\n",
       "│ 2024-09-27            ┆ T      ┆ A    ┆ 1    ┆ … ┆ 180       ┆ 305       ┆ 4         ┆ 6         │\n",
       "│ 15:09:30.793000403 …  ┆        ┆      ┆      ┆   ┆           ┆           ┆           ┆           │\n",
       "│ 2024-09-27            ┆ T      ┆ A    ┆ 2    ┆ … ┆ 180       ┆ 305       ┆ 4         ┆ 6         │\n",
       "│ 15:09:30.793000403 …  ┆        ┆      ┆      ┆   ┆           ┆           ┆           ┆           │\n",
       "│ 2024-09-27            ┆ T      ┆ A    ┆ 1    ┆ … ┆ 180       ┆ 305       ┆ 4         ┆ 6         │\n",
       "│ 15:09:30.793000403 …  ┆        ┆      ┆      ┆   ┆           ┆           ┆           ┆           │\n",
       "└───────────────────────┴────────┴──────┴──────┴───┴───────────┴───────────┴───────────┴───────────┘"
      ]
     },
     "execution_count": 43,
     "metadata": {},
     "output_type": "execute_result"
    }
   ],
   "source": [
    "\n",
    "df_ = df_.filter(pl.col('bid_sz_00') > 1000)\n",
    "df_ = df_.filter(pl.col('action') == 'T')\n",
    "df_.head(100)"
   ]
  },
  {
   "cell_type": "code",
   "execution_count": 51,
   "metadata": {},
   "outputs": [
    {
     "data": {
      "text/html": [
       "<div><style>\n",
       ".dataframe > thead > tr,\n",
       ".dataframe > tbody > tr {\n",
       "  text-align: right;\n",
       "  white-space: pre-wrap;\n",
       "}\n",
       "</style>\n",
       "<small>shape: (100, 30)</small><table border=\"1\" class=\"dataframe\"><thead><tr><th>ts_event</th><th>action</th><th>side</th><th>size</th><th>price</th><th>bid_px_00</th><th>ask_px_00</th><th>bid_sz_00</th><th>ask_sz_00</th><th>bid_ct_00</th><th>ask_ct_00</th><th>bid_px_01</th><th>ask_px_01</th><th>bid_sz_01</th><th>ask_sz_01</th><th>bid_ct_01</th><th>ask_ct_01</th><th>time_diff</th><th>price_same</th><th>price_opposite</th><th>size_same</th><th>size_opposite</th><th>nb_ppl_same</th><th>nb_ppl_opposite</th><th>imbalance</th><th>indice</th><th>bid_sz_00_diff</th><th>ask_sz_00_diff</th><th>diff_price</th><th>Mean_price_diff</th></tr><tr><td>datetime[ns, UTC]</td><td>str</td><td>str</td><td>u32</td><td>f64</td><td>f64</td><td>f64</td><td>u32</td><td>u32</td><td>u32</td><td>u32</td><td>f64</td><td>f64</td><td>u32</td><td>u32</td><td>u32</td><td>u32</td><td>i64</td><td>f64</td><td>f64</td><td>u32</td><td>u32</td><td>u32</td><td>u32</td><td>f64</td><td>i64</td><td>i64</td><td>i64</td><td>f64</td><td>f64</td></tr></thead><tbody><tr><td>2024-09-27 14:02:36.262910706 UTC</td><td>&quot;T&quot;</td><td>&quot;B&quot;</td><td>97</td><td>164.21</td><td>164.2</td><td>164.21</td><td>1046</td><td>97</td><td>11</td><td>1</td><td>164.19</td><td>164.22</td><td>620</td><td>203</td><td>5</td><td>4</td><td>null</td><td>164.2</td><td>164.21</td><td>1046</td><td>97</td><td>11</td><td>1</td><td>3.7576e6</td><td>0</td><td>null</td><td>null</td><td>null</td><td>null</td></tr><tr><td>2024-09-27 14:03:02.555153387 UTC</td><td>&quot;T&quot;</td><td>&quot;B&quot;</td><td>50</td><td>164.32</td><td>164.31</td><td>164.32</td><td>1155</td><td>50</td><td>1</td><td>1</td><td>164.3</td><td>164.33</td><td>30</td><td>111</td><td>2</td><td>3</td><td>26</td><td>164.31</td><td>164.32</td><td>1155</td><td>50</td><td>1</td><td>1</td><td>3.5643e6</td><td>1</td><td>109</td><td>-47</td><td>0.11</td><td>null</td></tr><tr><td>2024-09-27 14:03:02.756882639 UTC</td><td>&quot;T&quot;</td><td>&quot;B&quot;</td><td>50</td><td>164.32</td><td>164.31</td><td>164.32</td><td>1155</td><td>100</td><td>1</td><td>1</td><td>164.3</td><td>164.33</td><td>152</td><td>131</td><td>4</td><td>3</td><td>0</td><td>164.31</td><td>164.32</td><td>1155</td><td>100</td><td>1</td><td>1</td><td>3.4223e6</td><td>2</td><td>0</td><td>50</td><td>0.0</td><td>null</td></tr><tr><td>2024-09-27 14:03:08.077629988 UTC</td><td>&quot;T&quot;</td><td>&quot;B&quot;</td><td>11</td><td>164.33</td><td>164.31</td><td>164.33</td><td>1438</td><td>18</td><td>7</td><td>2</td><td>164.3</td><td>164.34</td><td>742</td><td>21</td><td>6</td><td>2</td><td>5</td><td>164.31</td><td>164.33</td><td>1438</td><td>18</td><td>7</td><td>2</td><td>2.9498e6</td><td>3</td><td>283</td><td>-82</td><td>0.01</td><td>null</td></tr><tr><td>2024-09-27 14:03:08.077629988 UTC</td><td>&quot;T&quot;</td><td>&quot;B&quot;</td><td>7</td><td>164.33</td><td>164.31</td><td>164.33</td><td>1438</td><td>7</td><td>7</td><td>1</td><td>164.3</td><td>164.34</td><td>742</td><td>21</td><td>6</td><td>2</td><td>0</td><td>164.31</td><td>164.33</td><td>1438</td><td>7</td><td>7</td><td>1</td><td>2.9723e6</td><td>4</td><td>0</td><td>-11</td><td>0.0</td><td>null</td></tr><tr><td>&hellip;</td><td>&hellip;</td><td>&hellip;</td><td>&hellip;</td><td>&hellip;</td><td>&hellip;</td><td>&hellip;</td><td>&hellip;</td><td>&hellip;</td><td>&hellip;</td><td>&hellip;</td><td>&hellip;</td><td>&hellip;</td><td>&hellip;</td><td>&hellip;</td><td>&hellip;</td><td>&hellip;</td><td>&hellip;</td><td>&hellip;</td><td>&hellip;</td><td>&hellip;</td><td>&hellip;</td><td>&hellip;</td><td>&hellip;</td><td>&hellip;</td><td>&hellip;</td><td>&hellip;</td><td>&hellip;</td><td>&hellip;</td><td>&hellip;</td></tr><tr><td>2024-09-27 15:09:30.793000403 UTC</td><td>&quot;T&quot;</td><td>&quot;A&quot;</td><td>100</td><td>165.0</td><td>165.0</td><td>165.01</td><td>1567</td><td>120</td><td>47</td><td>2</td><td>164.99</td><td>165.02</td><td>180</td><td>305</td><td>4</td><td>6</td><td>0</td><td>165.01</td><td>165.0</td><td>120</td><td>1567</td><td>2</td><td>47</td><td>2.5459e6</td><td>95</td><td>-1</td><td>0</td><td>0.0</td><td>-0.021</td></tr><tr><td>2024-09-27 15:09:30.793000403 UTC</td><td>&quot;T&quot;</td><td>&quot;A&quot;</td><td>10</td><td>165.0</td><td>165.0</td><td>165.01</td><td>1467</td><td>120</td><td>46</td><td>2</td><td>164.99</td><td>165.02</td><td>180</td><td>305</td><td>4</td><td>6</td><td>0</td><td>165.01</td><td>165.0</td><td>120</td><td>1467</td><td>2</td><td>46</td><td>2.7063e6</td><td>96</td><td>-100</td><td>0</td><td>0.0</td><td>-0.021</td></tr><tr><td>2024-09-27 15:09:30.793000403 UTC</td><td>&quot;T&quot;</td><td>&quot;A&quot;</td><td>1</td><td>165.0</td><td>165.0</td><td>165.01</td><td>1457</td><td>120</td><td>45</td><td>2</td><td>164.99</td><td>165.02</td><td>180</td><td>305</td><td>4</td><td>6</td><td>0</td><td>165.01</td><td>165.0</td><td>120</td><td>1457</td><td>2</td><td>45</td><td>2.7235e6</td><td>97</td><td>-10</td><td>0</td><td>0.0</td><td>-0.021</td></tr><tr><td>2024-09-27 15:09:30.793000403 UTC</td><td>&quot;T&quot;</td><td>&quot;A&quot;</td><td>2</td><td>165.0</td><td>165.0</td><td>165.01</td><td>1456</td><td>120</td><td>44</td><td>2</td><td>164.99</td><td>165.02</td><td>180</td><td>305</td><td>4</td><td>6</td><td>0</td><td>165.01</td><td>165.0</td><td>120</td><td>1456</td><td>2</td><td>44</td><td>2.7252e6</td><td>98</td><td>-1</td><td>0</td><td>0.0</td><td>-0.021</td></tr><tr><td>2024-09-27 15:09:30.793000403 UTC</td><td>&quot;T&quot;</td><td>&quot;A&quot;</td><td>1</td><td>165.0</td><td>165.0</td><td>165.01</td><td>1454</td><td>120</td><td>43</td><td>2</td><td>164.99</td><td>165.02</td><td>180</td><td>305</td><td>4</td><td>6</td><td>0</td><td>165.01</td><td>165.0</td><td>120</td><td>1454</td><td>2</td><td>43</td><td>2.7287e6</td><td>99</td><td>-2</td><td>0</td><td>0.0</td><td>-0.02</td></tr></tbody></table></div>"
      ],
      "text/plain": [
       "shape: (100, 30)\n",
       "┌──────────────┬────────┬──────┬──────┬───┬──────────────┬──────────────┬────────────┬─────────────┐\n",
       "│ ts_event     ┆ action ┆ side ┆ size ┆ … ┆ bid_sz_00_di ┆ ask_sz_00_di ┆ diff_price ┆ Mean_price_ │\n",
       "│ ---          ┆ ---    ┆ ---  ┆ ---  ┆   ┆ ff           ┆ ff           ┆ ---        ┆ diff        │\n",
       "│ datetime[ns, ┆ str    ┆ str  ┆ u32  ┆   ┆ ---          ┆ ---          ┆ f64        ┆ ---         │\n",
       "│ UTC]         ┆        ┆      ┆      ┆   ┆ i64          ┆ i64          ┆            ┆ f64         │\n",
       "╞══════════════╪════════╪══════╪══════╪═══╪══════════════╪══════════════╪════════════╪═════════════╡\n",
       "│ 2024-09-27   ┆ T      ┆ B    ┆ 97   ┆ … ┆ null         ┆ null         ┆ null       ┆ null        │\n",
       "│ 14:02:36.262 ┆        ┆      ┆      ┆   ┆              ┆              ┆            ┆             │\n",
       "│ 910706 …     ┆        ┆      ┆      ┆   ┆              ┆              ┆            ┆             │\n",
       "│ 2024-09-27   ┆ T      ┆ B    ┆ 50   ┆ … ┆ 109          ┆ -47          ┆ 0.11       ┆ null        │\n",
       "│ 14:03:02.555 ┆        ┆      ┆      ┆   ┆              ┆              ┆            ┆             │\n",
       "│ 153387 …     ┆        ┆      ┆      ┆   ┆              ┆              ┆            ┆             │\n",
       "│ 2024-09-27   ┆ T      ┆ B    ┆ 50   ┆ … ┆ 0            ┆ 50           ┆ 0.0        ┆ null        │\n",
       "│ 14:03:02.756 ┆        ┆      ┆      ┆   ┆              ┆              ┆            ┆             │\n",
       "│ 882639 …     ┆        ┆      ┆      ┆   ┆              ┆              ┆            ┆             │\n",
       "│ 2024-09-27   ┆ T      ┆ B    ┆ 11   ┆ … ┆ 283          ┆ -82          ┆ 0.01       ┆ null        │\n",
       "│ 14:03:08.077 ┆        ┆      ┆      ┆   ┆              ┆              ┆            ┆             │\n",
       "│ 629988 …     ┆        ┆      ┆      ┆   ┆              ┆              ┆            ┆             │\n",
       "│ 2024-09-27   ┆ T      ┆ B    ┆ 7    ┆ … ┆ 0            ┆ -11          ┆ 0.0        ┆ null        │\n",
       "│ 14:03:08.077 ┆        ┆      ┆      ┆   ┆              ┆              ┆            ┆             │\n",
       "│ 629988 …     ┆        ┆      ┆      ┆   ┆              ┆              ┆            ┆             │\n",
       "│ …            ┆ …      ┆ …    ┆ …    ┆ … ┆ …            ┆ …            ┆ …          ┆ …           │\n",
       "│ 2024-09-27   ┆ T      ┆ A    ┆ 100  ┆ … ┆ -1           ┆ 0            ┆ 0.0        ┆ -0.021      │\n",
       "│ 15:09:30.793 ┆        ┆      ┆      ┆   ┆              ┆              ┆            ┆             │\n",
       "│ 000403 …     ┆        ┆      ┆      ┆   ┆              ┆              ┆            ┆             │\n",
       "│ 2024-09-27   ┆ T      ┆ A    ┆ 10   ┆ … ┆ -100         ┆ 0            ┆ 0.0        ┆ -0.021      │\n",
       "│ 15:09:30.793 ┆        ┆      ┆      ┆   ┆              ┆              ┆            ┆             │\n",
       "│ 000403 …     ┆        ┆      ┆      ┆   ┆              ┆              ┆            ┆             │\n",
       "│ 2024-09-27   ┆ T      ┆ A    ┆ 1    ┆ … ┆ -10          ┆ 0            ┆ 0.0        ┆ -0.021      │\n",
       "│ 15:09:30.793 ┆        ┆      ┆      ┆   ┆              ┆              ┆            ┆             │\n",
       "│ 000403 …     ┆        ┆      ┆      ┆   ┆              ┆              ┆            ┆             │\n",
       "│ 2024-09-27   ┆ T      ┆ A    ┆ 2    ┆ … ┆ -1           ┆ 0            ┆ 0.0        ┆ -0.021      │\n",
       "│ 15:09:30.793 ┆        ┆      ┆      ┆   ┆              ┆              ┆            ┆             │\n",
       "│ 000403 …     ┆        ┆      ┆      ┆   ┆              ┆              ┆            ┆             │\n",
       "│ 2024-09-27   ┆ T      ┆ A    ┆ 1    ┆ … ┆ -2           ┆ 0            ┆ 0.0        ┆ -0.02       │\n",
       "│ 15:09:30.793 ┆        ┆      ┆      ┆   ┆              ┆              ┆            ┆             │\n",
       "│ 000403 …     ┆        ┆      ┆      ┆   ┆              ┆              ┆            ┆             │\n",
       "└──────────────┴────────┴──────┴──────┴───┴──────────────┴──────────────┴────────────┴─────────────┘"
      ]
     },
     "execution_count": 51,
     "metadata": {},
     "output_type": "execute_result"
    }
   ],
   "source": [
    "df_ = df_.with_columns([\n",
    "    pl.col('ts_event').diff().dt.total_seconds().alias('time_diff')\n",
    "])\n",
    "df_.head(100)"
   ]
  },
  {
   "cell_type": "code",
   "execution_count": 52,
   "metadata": {},
   "outputs": [
    {
     "ename": "ColumnNotFoundError",
     "evalue": "OK\n\nResolved plan until failure:\n\n\t---> FAILED HERE RESOLVING 'with_columns' <---\nDF [\"ts_event\", \"action\", \"side\", \"size\"]; PROJECT */30 COLUMNS; SELECTION: None",
     "output_type": "error",
     "traceback": [
      "\u001b[0;31m---------------------------------------------------------------------------\u001b[0m",
      "\u001b[0;31mColumnNotFoundError\u001b[0m                       Traceback (most recent call last)",
      "Cell \u001b[0;32mIn[52], line 65\u001b[0m\n\u001b[1;32m     63\u001b[0m status_columns \u001b[38;5;241m=\u001b[39m [\u001b[38;5;124m'\u001b[39m\u001b[38;5;124maction\u001b[39m\u001b[38;5;124m'\u001b[39m, \u001b[38;5;124m'\u001b[39m\u001b[38;5;124mside\u001b[39m\u001b[38;5;124m'\u001b[39m, \u001b[38;5;124mf\u001b[39m\u001b[38;5;124m'\u001b[39m\u001b[38;5;124mbid_sz_0\u001b[39m\u001b[38;5;132;01m{\u001b[39;00mlimite\u001b[38;5;132;01m}\u001b[39;00m\u001b[38;5;124m_diff\u001b[39m\u001b[38;5;124m'\u001b[39m, \u001b[38;5;124mf\u001b[39m\u001b[38;5;124m'\u001b[39m\u001b[38;5;124mask_sz_0\u001b[39m\u001b[38;5;132;01m{\u001b[39;00mlimite\u001b[38;5;132;01m}\u001b[39;00m\u001b[38;5;124m_diff\u001b[39m\u001b[38;5;124m'\u001b[39m, \u001b[38;5;124m'\u001b[39m\u001b[38;5;124msize\u001b[39m\u001b[38;5;124m'\u001b[39m]\n\u001b[1;32m     64\u001b[0m \u001b[38;5;28;01mif\u001b[39;00m \u001b[38;5;28mall\u001b[39m(col \u001b[38;5;129;01min\u001b[39;00m df_\u001b[38;5;241m.\u001b[39mcolumns \u001b[38;5;28;01mfor\u001b[39;00m col \u001b[38;5;129;01min\u001b[39;00m status_columns):\n\u001b[0;32m---> 65\u001b[0m     df_ \u001b[38;5;241m=\u001b[39m \u001b[43mdf_\u001b[49m\u001b[38;5;241;43m.\u001b[39;49m\u001b[43mwith_columns\u001b[49m\u001b[43m(\u001b[49m\u001b[43m[\u001b[49m\n\u001b[1;32m     66\u001b[0m \u001b[43m        \u001b[49m\u001b[43mpl\u001b[49m\u001b[38;5;241;43m.\u001b[39;49m\u001b[43mwhen\u001b[49m\u001b[43m(\u001b[49m\n\u001b[1;32m     67\u001b[0m \u001b[43m            \u001b[49m\u001b[43m(\u001b[49m\u001b[43m(\u001b[49m\u001b[43mpl\u001b[49m\u001b[38;5;241;43m.\u001b[39;49m\u001b[43mcol\u001b[49m\u001b[43m(\u001b[49m\u001b[38;5;124;43m'\u001b[39;49m\u001b[38;5;124;43maction\u001b[39;49m\u001b[38;5;124;43m'\u001b[39;49m\u001b[43m)\u001b[49m\u001b[43m \u001b[49m\u001b[38;5;241;43m==\u001b[39;49m\u001b[43m \u001b[49m\u001b[38;5;124;43m'\u001b[39;49m\u001b[38;5;124;43mT\u001b[39;49m\u001b[38;5;124;43m'\u001b[39;49m\u001b[43m)\u001b[49m\u001b[43m \u001b[49m\u001b[38;5;241;43m&\u001b[39;49m\u001b[43m \u001b[49m\n\u001b[1;32m     68\u001b[0m \u001b[43m             \u001b[49m\u001b[43m(\u001b[49m\u001b[43m(\u001b[49m\u001b[43mpl\u001b[49m\u001b[38;5;241;43m.\u001b[39;49m\u001b[43mcol\u001b[49m\u001b[43m(\u001b[49m\u001b[38;5;124;43m'\u001b[39;49m\u001b[38;5;124;43mside\u001b[39;49m\u001b[38;5;124;43m'\u001b[39;49m\u001b[43m)\u001b[49m\u001b[43m \u001b[49m\u001b[38;5;241;43m==\u001b[39;49m\u001b[43m \u001b[49m\u001b[38;5;124;43m'\u001b[39;49m\u001b[38;5;124;43mB\u001b[39;49m\u001b[38;5;124;43m'\u001b[39;49m\u001b[43m)\u001b[49m\u001b[43m \u001b[49m\u001b[38;5;241;43m&\u001b[39;49m\u001b[43m \u001b[49m\u001b[43m(\u001b[49m\u001b[43mpl\u001b[49m\u001b[38;5;241;43m.\u001b[39;49m\u001b[43mcol\u001b[49m\u001b[43m(\u001b[49m\u001b[38;5;124;43mf\u001b[39;49m\u001b[38;5;124;43m'\u001b[39;49m\u001b[38;5;124;43mbid_sz_0\u001b[39;49m\u001b[38;5;132;43;01m{\u001b[39;49;00m\u001b[43mlimite\u001b[49m\u001b[38;5;132;43;01m}\u001b[39;49;00m\u001b[38;5;124;43m_diff\u001b[39;49m\u001b[38;5;124;43m'\u001b[39;49m\u001b[43m)\u001b[49m\u001b[43m \u001b[49m\u001b[38;5;241;43m==\u001b[39;49m\u001b[43m \u001b[49m\u001b[38;5;241;43m-\u001b[39;49m\u001b[43mpl\u001b[49m\u001b[38;5;241;43m.\u001b[39;49m\u001b[43mcol\u001b[49m\u001b[43m(\u001b[49m\u001b[38;5;124;43m'\u001b[39;49m\u001b[38;5;124;43msize\u001b[39;49m\u001b[38;5;124;43m'\u001b[39;49m\u001b[43m)\u001b[49m\u001b[43m)\u001b[49m\u001b[43m \u001b[49m\u001b[38;5;241;43m|\u001b[39;49m\n\u001b[1;32m     69\u001b[0m \u001b[43m              \u001b[49m\u001b[43m(\u001b[49m\u001b[43mpl\u001b[49m\u001b[38;5;241;43m.\u001b[39;49m\u001b[43mcol\u001b[49m\u001b[43m(\u001b[49m\u001b[38;5;124;43m'\u001b[39;49m\u001b[38;5;124;43mside\u001b[39;49m\u001b[38;5;124;43m'\u001b[39;49m\u001b[43m)\u001b[49m\u001b[43m \u001b[49m\u001b[38;5;241;43m==\u001b[39;49m\u001b[43m \u001b[49m\u001b[38;5;124;43m'\u001b[39;49m\u001b[38;5;124;43mA\u001b[39;49m\u001b[38;5;124;43m'\u001b[39;49m\u001b[43m)\u001b[49m\u001b[43m \u001b[49m\u001b[38;5;241;43m&\u001b[39;49m\u001b[43m \u001b[49m\u001b[43m(\u001b[49m\u001b[43mpl\u001b[49m\u001b[38;5;241;43m.\u001b[39;49m\u001b[43mcol\u001b[49m\u001b[43m(\u001b[49m\u001b[38;5;124;43mf\u001b[39;49m\u001b[38;5;124;43m'\u001b[39;49m\u001b[38;5;124;43mask_sz_0\u001b[39;49m\u001b[38;5;132;43;01m{\u001b[39;49;00m\u001b[43mlimite\u001b[49m\u001b[38;5;132;43;01m}\u001b[39;49;00m\u001b[38;5;124;43m_diff\u001b[39;49m\u001b[38;5;124;43m'\u001b[39;49m\u001b[43m)\u001b[49m\u001b[43m \u001b[49m\u001b[38;5;241;43m==\u001b[39;49m\u001b[43m \u001b[49m\u001b[38;5;241;43m-\u001b[39;49m\u001b[43mpl\u001b[49m\u001b[38;5;241;43m.\u001b[39;49m\u001b[43mcol\u001b[49m\u001b[43m(\u001b[49m\u001b[38;5;124;43m'\u001b[39;49m\u001b[38;5;124;43msize\u001b[39;49m\u001b[38;5;124;43m'\u001b[39;49m\u001b[43m)\u001b[49m\u001b[43m)\u001b[49m\u001b[43m)\u001b[49m\u001b[43m)\u001b[49m\u001b[43m \u001b[49m\u001b[38;5;241;43m|\u001b[39;49m\n\u001b[1;32m     70\u001b[0m \u001b[43m            \u001b[49m\u001b[43m(\u001b[49m\u001b[43m(\u001b[49m\u001b[43mpl\u001b[49m\u001b[38;5;241;43m.\u001b[39;49m\u001b[43mcol\u001b[49m\u001b[43m(\u001b[49m\u001b[38;5;124;43m'\u001b[39;49m\u001b[38;5;124;43maction\u001b[39;49m\u001b[38;5;124;43m'\u001b[39;49m\u001b[43m)\u001b[49m\u001b[43m \u001b[49m\u001b[38;5;241;43m==\u001b[39;49m\u001b[43m \u001b[49m\u001b[38;5;124;43m'\u001b[39;49m\u001b[38;5;124;43mA\u001b[39;49m\u001b[38;5;124;43m'\u001b[39;49m\u001b[43m)\u001b[49m\u001b[43m \u001b[49m\u001b[38;5;241;43m&\u001b[39;49m\n\u001b[1;32m     71\u001b[0m \u001b[43m             \u001b[49m\u001b[43m(\u001b[49m\u001b[43m(\u001b[49m\u001b[43mpl\u001b[49m\u001b[38;5;241;43m.\u001b[39;49m\u001b[43mcol\u001b[49m\u001b[43m(\u001b[49m\u001b[38;5;124;43m'\u001b[39;49m\u001b[38;5;124;43mside\u001b[39;49m\u001b[38;5;124;43m'\u001b[39;49m\u001b[43m)\u001b[49m\u001b[43m \u001b[49m\u001b[38;5;241;43m==\u001b[39;49m\u001b[43m \u001b[49m\u001b[38;5;124;43m'\u001b[39;49m\u001b[38;5;124;43mB\u001b[39;49m\u001b[38;5;124;43m'\u001b[39;49m\u001b[43m)\u001b[49m\u001b[43m \u001b[49m\u001b[38;5;241;43m&\u001b[39;49m\u001b[43m \u001b[49m\u001b[43m(\u001b[49m\u001b[43mpl\u001b[49m\u001b[38;5;241;43m.\u001b[39;49m\u001b[43mcol\u001b[49m\u001b[43m(\u001b[49m\u001b[38;5;124;43mf\u001b[39;49m\u001b[38;5;124;43m'\u001b[39;49m\u001b[38;5;124;43mbid_sz_0\u001b[39;49m\u001b[38;5;132;43;01m{\u001b[39;49;00m\u001b[43mlimite\u001b[49m\u001b[38;5;132;43;01m}\u001b[39;49;00m\u001b[38;5;124;43m_diff\u001b[39;49m\u001b[38;5;124;43m'\u001b[39;49m\u001b[43m)\u001b[49m\u001b[43m \u001b[49m\u001b[38;5;241;43m==\u001b[39;49m\u001b[43m \u001b[49m\u001b[43mpl\u001b[49m\u001b[38;5;241;43m.\u001b[39;49m\u001b[43mcol\u001b[49m\u001b[43m(\u001b[49m\u001b[38;5;124;43m'\u001b[39;49m\u001b[38;5;124;43msize\u001b[39;49m\u001b[38;5;124;43m'\u001b[39;49m\u001b[43m)\u001b[49m\u001b[43m)\u001b[49m\u001b[43m \u001b[49m\u001b[38;5;241;43m|\u001b[39;49m\n\u001b[1;32m     72\u001b[0m \u001b[43m              \u001b[49m\u001b[43m(\u001b[49m\u001b[43mpl\u001b[49m\u001b[38;5;241;43m.\u001b[39;49m\u001b[43mcol\u001b[49m\u001b[43m(\u001b[49m\u001b[38;5;124;43m'\u001b[39;49m\u001b[38;5;124;43mside\u001b[39;49m\u001b[38;5;124;43m'\u001b[39;49m\u001b[43m)\u001b[49m\u001b[43m \u001b[49m\u001b[38;5;241;43m==\u001b[39;49m\u001b[43m \u001b[49m\u001b[38;5;124;43m'\u001b[39;49m\u001b[38;5;124;43mA\u001b[39;49m\u001b[38;5;124;43m'\u001b[39;49m\u001b[43m)\u001b[49m\u001b[43m \u001b[49m\u001b[38;5;241;43m&\u001b[39;49m\u001b[43m \u001b[49m\u001b[43m(\u001b[49m\u001b[43mpl\u001b[49m\u001b[38;5;241;43m.\u001b[39;49m\u001b[43mcol\u001b[49m\u001b[43m(\u001b[49m\u001b[38;5;124;43mf\u001b[39;49m\u001b[38;5;124;43m'\u001b[39;49m\u001b[38;5;124;43mask_sz_0\u001b[39;49m\u001b[38;5;132;43;01m{\u001b[39;49;00m\u001b[43mlimite\u001b[49m\u001b[38;5;132;43;01m}\u001b[39;49;00m\u001b[38;5;124;43m_diff\u001b[39;49m\u001b[38;5;124;43m'\u001b[39;49m\u001b[43m)\u001b[49m\u001b[43m \u001b[49m\u001b[38;5;241;43m==\u001b[39;49m\u001b[43m \u001b[49m\u001b[43mpl\u001b[49m\u001b[38;5;241;43m.\u001b[39;49m\u001b[43mcol\u001b[49m\u001b[43m(\u001b[49m\u001b[38;5;124;43m'\u001b[39;49m\u001b[38;5;124;43msize\u001b[39;49m\u001b[38;5;124;43m'\u001b[39;49m\u001b[43m)\u001b[49m\u001b[43m)\u001b[49m\u001b[43m)\u001b[49m\u001b[43m)\u001b[49m\u001b[43m \u001b[49m\u001b[38;5;241;43m|\u001b[39;49m\n\u001b[1;32m     73\u001b[0m \u001b[43m            \u001b[49m\u001b[43m(\u001b[49m\u001b[43m(\u001b[49m\u001b[43mpl\u001b[49m\u001b[38;5;241;43m.\u001b[39;49m\u001b[43mcol\u001b[49m\u001b[43m(\u001b[49m\u001b[38;5;124;43m'\u001b[39;49m\u001b[38;5;124;43maction\u001b[39;49m\u001b[38;5;124;43m'\u001b[39;49m\u001b[43m)\u001b[49m\u001b[43m \u001b[49m\u001b[38;5;241;43m==\u001b[39;49m\u001b[43m \u001b[49m\u001b[38;5;124;43m'\u001b[39;49m\u001b[38;5;124;43mC\u001b[39;49m\u001b[38;5;124;43m'\u001b[39;49m\u001b[43m)\u001b[49m\u001b[43m \u001b[49m\u001b[38;5;241;43m&\u001b[39;49m\n\u001b[1;32m     74\u001b[0m \u001b[43m             \u001b[49m\u001b[43m(\u001b[49m\u001b[43m(\u001b[49m\u001b[43mpl\u001b[49m\u001b[38;5;241;43m.\u001b[39;49m\u001b[43mcol\u001b[49m\u001b[43m(\u001b[49m\u001b[38;5;124;43m'\u001b[39;49m\u001b[38;5;124;43mside\u001b[39;49m\u001b[38;5;124;43m'\u001b[39;49m\u001b[43m)\u001b[49m\u001b[43m \u001b[49m\u001b[38;5;241;43m==\u001b[39;49m\u001b[43m \u001b[49m\u001b[38;5;124;43m'\u001b[39;49m\u001b[38;5;124;43mB\u001b[39;49m\u001b[38;5;124;43m'\u001b[39;49m\u001b[43m)\u001b[49m\u001b[43m \u001b[49m\u001b[38;5;241;43m&\u001b[39;49m\u001b[43m \u001b[49m\u001b[43m(\u001b[49m\u001b[43mpl\u001b[49m\u001b[38;5;241;43m.\u001b[39;49m\u001b[43mcol\u001b[49m\u001b[43m(\u001b[49m\u001b[38;5;124;43mf\u001b[39;49m\u001b[38;5;124;43m'\u001b[39;49m\u001b[38;5;124;43mbid_sz_0\u001b[39;49m\u001b[38;5;132;43;01m{\u001b[39;49;00m\u001b[43mlimite\u001b[49m\u001b[38;5;132;43;01m}\u001b[39;49;00m\u001b[38;5;124;43m_diff\u001b[39;49m\u001b[38;5;124;43m'\u001b[39;49m\u001b[43m)\u001b[49m\u001b[43m \u001b[49m\u001b[38;5;241;43m==\u001b[39;49m\u001b[43m \u001b[49m\u001b[38;5;241;43m-\u001b[39;49m\u001b[43mpl\u001b[49m\u001b[38;5;241;43m.\u001b[39;49m\u001b[43mcol\u001b[49m\u001b[43m(\u001b[49m\u001b[38;5;124;43m'\u001b[39;49m\u001b[38;5;124;43msize\u001b[39;49m\u001b[38;5;124;43m'\u001b[39;49m\u001b[43m)\u001b[49m\u001b[43m)\u001b[49m\u001b[43m \u001b[49m\u001b[38;5;241;43m|\u001b[39;49m\n\u001b[1;32m     75\u001b[0m \u001b[43m              \u001b[49m\u001b[43m(\u001b[49m\u001b[43mpl\u001b[49m\u001b[38;5;241;43m.\u001b[39;49m\u001b[43mcol\u001b[49m\u001b[43m(\u001b[49m\u001b[38;5;124;43m'\u001b[39;49m\u001b[38;5;124;43mside\u001b[39;49m\u001b[38;5;124;43m'\u001b[39;49m\u001b[43m)\u001b[49m\u001b[43m \u001b[49m\u001b[38;5;241;43m==\u001b[39;49m\u001b[43m \u001b[49m\u001b[38;5;124;43m'\u001b[39;49m\u001b[38;5;124;43mA\u001b[39;49m\u001b[38;5;124;43m'\u001b[39;49m\u001b[43m)\u001b[49m\u001b[43m \u001b[49m\u001b[38;5;241;43m&\u001b[39;49m\u001b[43m \u001b[49m\u001b[43m(\u001b[49m\u001b[43mpl\u001b[49m\u001b[38;5;241;43m.\u001b[39;49m\u001b[43mcol\u001b[49m\u001b[43m(\u001b[49m\u001b[38;5;124;43mf\u001b[39;49m\u001b[38;5;124;43m'\u001b[39;49m\u001b[38;5;124;43mask_sz_0\u001b[39;49m\u001b[38;5;132;43;01m{\u001b[39;49;00m\u001b[43mlimite\u001b[49m\u001b[38;5;132;43;01m}\u001b[39;49;00m\u001b[38;5;124;43m_diff\u001b[39;49m\u001b[38;5;124;43m'\u001b[39;49m\u001b[43m)\u001b[49m\u001b[43m \u001b[49m\u001b[38;5;241;43m==\u001b[39;49m\u001b[43m \u001b[49m\u001b[38;5;241;43m-\u001b[39;49m\u001b[43mpl\u001b[49m\u001b[38;5;241;43m.\u001b[39;49m\u001b[43mcol\u001b[49m\u001b[43m(\u001b[49m\u001b[38;5;124;43m'\u001b[39;49m\u001b[38;5;124;43msize\u001b[39;49m\u001b[38;5;124;43m'\u001b[39;49m\u001b[43m)\u001b[49m\u001b[43m)\u001b[49m\u001b[43m)\u001b[49m\u001b[43m)\u001b[49m\n\u001b[1;32m     76\u001b[0m \u001b[43m        \u001b[49m\u001b[43m)\u001b[49m\u001b[38;5;241;43m.\u001b[39;49m\u001b[43mthen\u001b[49m\u001b[43m(\u001b[49m\u001b[38;5;124;43m'\u001b[39;49m\u001b[38;5;124;43mOK\u001b[39;49m\u001b[38;5;124;43m'\u001b[39;49m\u001b[43m)\u001b[49m\u001b[38;5;241;43m.\u001b[39;49m\u001b[43motherwise\u001b[49m\u001b[43m(\u001b[49m\u001b[38;5;124;43m'\u001b[39;49m\u001b[38;5;124;43mNOK\u001b[39;49m\u001b[38;5;124;43m'\u001b[39;49m\u001b[43m)\u001b[49m\u001b[38;5;241;43m.\u001b[39;49m\u001b[43malias\u001b[49m\u001b[43m(\u001b[49m\u001b[38;5;124;43m'\u001b[39;49m\u001b[38;5;124;43mstatus\u001b[39;49m\u001b[38;5;124;43m'\u001b[39;49m\u001b[43m)\u001b[49m\n\u001b[1;32m     77\u001b[0m \u001b[43m    \u001b[49m\u001b[43m]\u001b[49m\u001b[43m)\u001b[49m\n\u001b[1;32m     78\u001b[0m \u001b[38;5;28;01melse\u001b[39;00m:\n\u001b[1;32m     79\u001b[0m     \u001b[38;5;28mprint\u001b[39m(\u001b[38;5;124m\"\u001b[39m\u001b[38;5;124mMissing columns needed for status calculation\u001b[39m\u001b[38;5;124m\"\u001b[39m)\n",
      "File \u001b[0;32m~/3A/EA/HFT_QR_RL/.venv/lib/python3.9/site-packages/polars/dataframe/frame.py:9194\u001b[0m, in \u001b[0;36mDataFrame.with_columns\u001b[0;34m(self, *exprs, **named_exprs)\u001b[0m\n\u001b[1;32m   9048\u001b[0m \u001b[38;5;28;01mdef\u001b[39;00m \u001b[38;5;21mwith_columns\u001b[39m(\n\u001b[1;32m   9049\u001b[0m     \u001b[38;5;28mself\u001b[39m,\n\u001b[1;32m   9050\u001b[0m     \u001b[38;5;241m*\u001b[39mexprs: IntoExpr \u001b[38;5;241m|\u001b[39m Iterable[IntoExpr],\n\u001b[1;32m   9051\u001b[0m     \u001b[38;5;241m*\u001b[39m\u001b[38;5;241m*\u001b[39mnamed_exprs: IntoExpr,\n\u001b[1;32m   9052\u001b[0m ) \u001b[38;5;241m-\u001b[39m\u001b[38;5;241m>\u001b[39m DataFrame:\n\u001b[1;32m   9053\u001b[0m \u001b[38;5;250m    \u001b[39m\u001b[38;5;124;03m\"\"\"\u001b[39;00m\n\u001b[1;32m   9054\u001b[0m \u001b[38;5;124;03m    Add columns to this DataFrame.\u001b[39;00m\n\u001b[1;32m   9055\u001b[0m \n\u001b[0;32m   (...)\u001b[0m\n\u001b[1;32m   9192\u001b[0m \u001b[38;5;124;03m    └─────┴──────┴─────────────┘\u001b[39;00m\n\u001b[1;32m   9193\u001b[0m \u001b[38;5;124;03m    \"\"\"\u001b[39;00m\n\u001b[0;32m-> 9194\u001b[0m     \u001b[38;5;28;01mreturn\u001b[39;00m \u001b[38;5;28;43mself\u001b[39;49m\u001b[38;5;241;43m.\u001b[39;49m\u001b[43mlazy\u001b[49m\u001b[43m(\u001b[49m\u001b[43m)\u001b[49m\u001b[38;5;241;43m.\u001b[39;49m\u001b[43mwith_columns\u001b[49m\u001b[43m(\u001b[49m\u001b[38;5;241;43m*\u001b[39;49m\u001b[43mexprs\u001b[49m\u001b[43m,\u001b[49m\u001b[43m \u001b[49m\u001b[38;5;241;43m*\u001b[39;49m\u001b[38;5;241;43m*\u001b[39;49m\u001b[43mnamed_exprs\u001b[49m\u001b[43m)\u001b[49m\u001b[38;5;241;43m.\u001b[39;49m\u001b[43mcollect\u001b[49m\u001b[43m(\u001b[49m\u001b[43m_eager\u001b[49m\u001b[38;5;241;43m=\u001b[39;49m\u001b[38;5;28;43;01mTrue\u001b[39;49;00m\u001b[43m)\u001b[49m\n",
      "File \u001b[0;32m~/3A/EA/HFT_QR_RL/.venv/lib/python3.9/site-packages/polars/lazyframe/frame.py:2055\u001b[0m, in \u001b[0;36mLazyFrame.collect\u001b[0;34m(self, type_coercion, predicate_pushdown, projection_pushdown, simplify_expression, slice_pushdown, comm_subplan_elim, comm_subexpr_elim, cluster_with_columns, collapse_joins, no_optimization, streaming, engine, background, _eager, **_kwargs)\u001b[0m\n\u001b[1;32m   2053\u001b[0m \u001b[38;5;66;03m# Only for testing purposes\u001b[39;00m\n\u001b[1;32m   2054\u001b[0m callback \u001b[38;5;241m=\u001b[39m _kwargs\u001b[38;5;241m.\u001b[39mget(\u001b[38;5;124m\"\u001b[39m\u001b[38;5;124mpost_opt_callback\u001b[39m\u001b[38;5;124m\"\u001b[39m, callback)\n\u001b[0;32m-> 2055\u001b[0m \u001b[38;5;28;01mreturn\u001b[39;00m wrap_df(\u001b[43mldf\u001b[49m\u001b[38;5;241;43m.\u001b[39;49m\u001b[43mcollect\u001b[49m\u001b[43m(\u001b[49m\u001b[43mcallback\u001b[49m\u001b[43m)\u001b[49m)\n",
      "\u001b[0;31mColumnNotFoundError\u001b[0m: OK\n\nResolved plan until failure:\n\n\t---> FAILED HERE RESOLVING 'with_columns' <---\nDF [\"ts_event\", \"action\", \"side\", \"size\"]; PROJECT */30 COLUMNS; SELECTION: None"
     ]
    }
   ],
   "source": [
    "# Check if required columns exist\n",
    "required_columns = [\n",
    "    'side', f'ask_px_0{limite}', f'bid_px_0{limite}', \n",
    "    f'ask_sz_0{limite}', f'bid_sz_0{limite}',\n",
    "    f'ask_ct_0{limite}', f'bid_ct_0{limite}',\n",
    "    'price', 'action', 'size'\n",
    "]\n",
    "\n",
    "for col in required_columns:\n",
    "    if col not in df_.columns:\n",
    "        print(f\"Missing required column: {col}\")\n",
    "\n",
    "# First add all columns except those depending on diff_price\n",
    "df_ = df_.with_columns([\n",
    "    pl.when(pl.col('side') == 'A')\n",
    "      .then(pl.col(f'ask_px_0{limite}'))\n",
    "      .otherwise(pl.col(f'bid_px_0{limite}'))\n",
    "      .alias('price_same'),\n",
    "    pl.when(pl.col('side') == 'A')\n",
    "      .then(pl.col(f'bid_px_0{limite}'))\n",
    "      .otherwise(pl.col(f'ask_px_0{limite}'))\n",
    "      .alias('price_opposite'),\n",
    "    pl.when(pl.col('side') == 'A')\n",
    "      .then(pl.col(f'ask_sz_0{limite}'))\n",
    "      .otherwise(pl.col(f'bid_sz_0{limite}'))\n",
    "      .alias('size_same'),\n",
    "    pl.when(pl.col('side') == 'A')\n",
    "      .then(pl.col(f'bid_sz_0{limite}'))\n",
    "      .otherwise(pl.col(f'ask_sz_0{limite}'))\n",
    "      .alias('size_opposite'),\n",
    "    pl.when(pl.col('side') == 'A')\n",
    "      .then(pl.col(f'ask_ct_0{limite}'))\n",
    "      .otherwise(pl.col(f'bid_ct_0{limite}'))\n",
    "      .alias('nb_ppl_same'),\n",
    "    pl.when(pl.col('side') == 'A')\n",
    "      .then(pl.col(f'bid_ct_0{limite}'))\n",
    "      .otherwise(pl.col(f'ask_ct_0{limite}'))\n",
    "      .alias('nb_ppl_opposite'),\n",
    "    ((pl.col(f'ask_sz_0{limite}') - pl.col(f'bid_sz_0{limite}')) / \n",
    "     (pl.col(f'ask_sz_0{limite}') + pl.col(f'bid_sz_0{limite}'))).alias('imbalance'),\n",
    "    pl.arange(0, pl.len()).alias('indice'),\n",
    "    pl.col(f'bid_sz_0{limite}').diff().alias(f'bid_sz_0{limite}_diff'),\n",
    "    pl.col(f'ask_sz_0{limite}').diff().alias(f'ask_sz_0{limite}_diff')\n",
    "])\n",
    "\n",
    "# Check if price column exists before adding diff_price\n",
    "if 'price' not in df_.columns:\n",
    "    print(\"Missing price column for diff_price calculation\")\n",
    "else:\n",
    "    df_ = df_.with_columns([\n",
    "        pl.col('price').diff().alias('diff_price')\n",
    "    ])\n",
    "\n",
    "# Check if diff_price exists before calculating Mean_price_diff  \n",
    "if 'diff_price' not in df_.columns:\n",
    "    print(\"Missing diff_price column for Mean_price_diff calculation\")\n",
    "else:\n",
    "    df_ = df_.with_columns([\n",
    "        pl.col('diff_price').rolling_mean(10).shift(1).alias('Mean_price_diff')\n",
    "    ])\n",
    "\n",
    "# Check columns needed for status calculation\n",
    "status_columns = ['action', 'side', f'bid_sz_0{limite}_diff', f'ask_sz_0{limite}_diff', 'size']\n",
    "if all(col in df_.columns for col in status_columns):\n",
    "    df_ = df_.with_columns([\n",
    "        pl.when(\n",
    "            ((pl.col('action') == 'T') & \n",
    "             ((pl.col('side') == 'B') & (pl.col(f'bid_sz_0{limite}_diff') == -pl.col('size')) |\n",
    "              (pl.col('side') == 'A') & (pl.col(f'ask_sz_0{limite}_diff') == -pl.col('size')))) |\n",
    "            ((pl.col('action') == 'A') &\n",
    "             ((pl.col('side') == 'B') & (pl.col(f'bid_sz_0{limite}_diff') == pl.col('size')) |\n",
    "              (pl.col('side') == 'A') & (pl.col(f'ask_sz_0{limite}_diff') == pl.col('size')))) |\n",
    "            ((pl.col('action') == 'C') &\n",
    "             ((pl.col('side') == 'B') & (pl.col(f'bid_sz_0{limite}_diff') == -pl.col('size')) |\n",
    "              (pl.col('side') == 'A') & (pl.col(f'ask_sz_0{limite}_diff') == -pl.col('size'))))\n",
    "        ).then('OK').otherwise('NOK').alias('status')\n",
    "    ])\n",
    "else:\n",
    "    print(\"Missing columns needed for status calculation\")\n",
    "\n",
    "# Check columns needed for new_limite and price_middle\n",
    "if all(col in df_.columns for col in [f'bid_px_0{limite}', f'ask_px_0{limite}']):\n",
    "    df_ = df_.with_columns([\n",
    "        pl.when(\n",
    "            (pl.col(f'bid_px_0{limite}').diff() > 0) | \n",
    "            (pl.col(f'ask_px_0{limite}').diff() > 0)\n",
    "        ).then('new_limite').otherwise('n').alias('new_limite'),\n",
    "        ((pl.col(f'ask_px_0{limite}') - pl.col(f'bid_px_0{limite}'))/2).alias('price_middle')\n",
    "    ])\n",
    "else:\n",
    "    print(\"Missing columns needed for new_limite and price_middle calculations\")\n",
    "\n",
    "df_.head(1)\n"
   ]
  },
  {
   "cell_type": "code",
   "execution_count": 12,
   "metadata": {},
   "outputs": [
    {
     "name": "stdout",
     "output_type": "stream",
     "text": [
      "Progression du code de merde: 0%\n",
      "Progression du code de merde: 9%\n",
      "Progression du code de merde: 19%\n",
      "Progression du code de merde: 39%\n",
      "Progression du code de merde: 49%\n",
      "Progression du code de merde: 59%\n",
      "Progression du code de merde: 69%\n",
      "Progression du code de merde: 79%\n",
      "Progression du code de merde: 89%\n",
      "Traitement terminé à 100% MGL\n"
     ]
    }
   ],
   "source": [
    "import pandas as pd\n",
    "\n",
    "df_ = df_.reset_index(drop=True)\n",
    "\n",
    "new_rows = []\n",
    "lims = []\n",
    "i = 0\n",
    "total_rows = len(df_)\n",
    "while i < total_rows-1:\n",
    "\n",
    "    if i % (total_rows//10) == 0:\n",
    "        print(f\"Progression du code de merde: {int((i/total_rows)*100)}%\")\n",
    "    current_timestamp = df_.loc[i, 'ts_event']\n",
    "    indices_group = [i]\n",
    "    j = i+1\n",
    "    \n",
    "    while j < total_rows and df_.loc[j, 'ts_event'] == current_timestamp:\n",
    "        indices_group.append(j)\n",
    "        j += 1\n",
    "\n",
    "    if len(indices_group) > 1:\n",
    "        events_group = df_.iloc[indices_group]\n",
    "        all_trades_then_cancel = all(events_group['action'].iloc[:-1] == 'T') and events_group['action'].iloc[-1] == 'C'\n",
    "        all_trades = all(events_group['action'] == 'T')\n",
    "        complex_trades_cancels = (\n",
    "            events_group['action'].iloc[-1] == 'C' and\n",
    "            all(\n",
    "                events_group['action'].iloc[start:k].eq('T').all()\n",
    "                for k, action in enumerate(events_group['action'])\n",
    "                if action == 'C' and (start := events_group['action'].iloc[:k].last_valid_index()) is not None\n",
    "            )\n",
    "        )\n",
    "        no_new_limite = 'new_limite' not in events_group['new_limite'].values\n",
    "        \n",
    "        complex_trades_cancels_not_ended_by_cancel = (\n",
    "            all(\n",
    "                events_group['action'].iloc[start:k].eq('T').all()\n",
    "                for k, action in enumerate(events_group['action'])\n",
    "                if action == 'C' and (start := events_group['action'].iloc[:k].last_valid_index()) is not None\n",
    "            )\n",
    "        )\n",
    "\n",
    "        if all_trades_then_cancel and complex_trades_cancels and no_new_limite:\n",
    "            total_size = events_group.loc[events_group['action'] == 'T', 'size'].sum()\n",
    "            new_row = events_group.iloc[-1].copy()\n",
    "            new_row['size'] = total_size\n",
    "            new_row['action'] = 'T'\n",
    "            new_rows.append(new_row)\n",
    "            lims.extend((np.unique(events_group['new_limite'].to_numpy())))\n",
    "\n",
    "        elif complex_trades_cancels and no_new_limite:\n",
    "            total_size = events_group.loc[events_group['action'] == 'T', 'size'].sum()\n",
    "            new_row = events_group.iloc[-1].copy()\n",
    "            new_row['size'] = total_size\n",
    "            new_row['action'] = 'T'\n",
    "            new_rows.append(new_row)\n",
    "            lims.extend((np.unique(events_group['new_limite'].to_numpy())))\n",
    "\n",
    "        elif all_trades_then_cancel and not no_new_limite:\n",
    "            limite_ = events_group['new_limite'].values\n",
    "            bonne_limite = [0]+[l for l in range(len(limite_)) if limite_[l] == 'new_limite']\n",
    "            for k in range(len(bonne_limite) - 1):\n",
    "                start_index = bonne_limite[k]\n",
    "                end_index = bonne_limite[k + 1]\n",
    "                total_size = events_group[start_index:end_index].query(\"action == 'T'\")['size'].sum()\n",
    "                new_row = events_group.iloc[-1].copy()\n",
    "                new_row['size'] = total_size\n",
    "                new_row['action'] = 'T'\n",
    "                new_row['new_limite'] = 'limite_épuisée'\n",
    "                if new_row['side'] == 'B':\n",
    "                    new_row[f'bid_sz_0{limite}'] = 0\n",
    "                elif new_row['side'] == 'A':\n",
    "                    new_row[f'ask_sz_0{limite}'] = 0\n",
    "                new_rows.append(new_row)\n",
    "            total_size = events_group.loc[bonne_limite[-1]:].query(\"action == 'T'\")['size'].sum()\n",
    "            new_row = events_group.iloc[-1].copy()\n",
    "            new_row['size'] = total_size\n",
    "            new_row['action'] = 'T'\n",
    "            new_row['new_limite'] = 'new_limite'\n",
    "            new_rows.append(new_row)\n",
    "\n",
    "        elif complex_trades_cancels and not no_new_limite:\n",
    "            limite_ = events_group['new_limite'].values\n",
    "            bonne_limite = [0]+[l for l in range(len(limite_)) if limite_[l] == 'new_limite']\n",
    "            for k in range(len(bonne_limite) - 1):\n",
    "                start_index = bonne_limite[k]\n",
    "                end_index = bonne_limite[k + 1]\n",
    "                total_size = events_group[start_index:end_index].query(\"action == 'T'\")['size'].sum()\n",
    "                new_row = events_group.iloc[-1].copy()\n",
    "                new_row['size'] = total_size\n",
    "                new_row['action'] = 'T'\n",
    "                new_row['new_limite'] = 'limite_épuisée'\n",
    "                if new_row['side'] == 'B':\n",
    "                    new_row[f'bid_sz_0{limite}'] = 0\n",
    "                elif new_row['side'] == 'A':\n",
    "                    new_row[f'ask_sz_0{limite}'] = 0\n",
    "                new_rows.append(new_row)\n",
    "            total_size = events_group.loc[bonne_limite[-1]:].query(\"action == 'T'\")['size'].sum()\n",
    "            new_row = events_group.iloc[-1].copy()\n",
    "            new_row['size'] = total_size\n",
    "            new_row['action'] = 'T'\n",
    "            new_row['new_limite'] = 'new_limite'\n",
    "            new_rows.append(new_row)\n",
    "\n",
    "        elif all_trades:\n",
    "            if df_.iloc[j]['new_limite'] == 'new_limite':\n",
    "                total_size = events_group.loc[events_group['action'] == 'T', 'size'].sum()\n",
    "                new_row = events_group.iloc[-1].copy()\n",
    "                new_row['size'] = 0\n",
    "                new_row['action'] = 'T'\n",
    "                new_rows.append(new_row)\n",
    "            else:\n",
    "                total_size = events_group.loc[events_group['action'] == 'T', 'size'].sum()\n",
    "                new_row = events_group.iloc[-1].copy()\n",
    "                new_row['size'] = total_size\n",
    "                new_row['action'] = 'T'\n",
    "                new_rows.append(new_row)\n",
    "\n",
    "        elif complex_trades_cancels_not_ended_by_cancel:\n",
    "            if df_.iloc[j]['new_limite'] == 'new_limite':\n",
    "                total_size = events_group.loc[events_group['action'] == 'T', 'size'].sum()\n",
    "                new_row = events_group.iloc[-1].copy()\n",
    "                new_row['size'] = 0\n",
    "                new_row['action'] = 'T'\n",
    "                new_rows.append(new_row)\n",
    "            else:\n",
    "                total_size = events_group.loc[events_group['action'] == 'T', 'size'].sum()\n",
    "                new_row = events_group.iloc[-1].copy()\n",
    "                new_row['size'] = total_size\n",
    "                new_row['action'] = 'T'\n",
    "                new_rows.append(new_row)\n",
    "\n",
    "        else:\n",
    "            new_rows.extend(events_group.to_dict(orient='records'))\n",
    "\n",
    "        i = j\n",
    "    else:\n",
    "        new_rows.append(df_.iloc[i].to_dict())\n",
    "        i += 1\n",
    "\n",
    "print(\"Traitement terminé à 100% MGL\")\n",
    "# lims = np.array(lims).flatten()\n",
    "# print(len(lims))\n",
    "# print(lims)"
   ]
  },
  {
   "cell_type": "code",
   "execution_count": 13,
   "metadata": {},
   "outputs": [
    {
     "name": "stderr",
     "output_type": "stream",
     "text": [
      "100%|██████████| 583543/583543 [00:25<00:00, 22899.91it/s]\n"
     ]
    }
   ],
   "source": [
    "standardized_series_list = []\n",
    "for item in tqdm(new_rows):\n",
    "    if isinstance(item, dict):\n",
    "        standardized_series_list.append(pd.Series(item))\n",
    "    elif isinstance(item, pd.Series):\n",
    "        standardized_series_list.append(item)\n",
    "    else:\n",
    "        raise ValueError(\"L'élément de la liste n'est ni un dictionnaire ni une série.\")\n",
    "\n",
    "df__ = pd.concat(standardized_series_list, axis=1).T.reset_index(drop=True)\n"
   ]
  },
  {
   "cell_type": "code",
   "execution_count": 14,
   "metadata": {},
   "outputs": [
    {
     "data": {
      "text/html": [
       "<div>\n",
       "<style scoped>\n",
       "    .dataframe tbody tr th:only-of-type {\n",
       "        vertical-align: middle;\n",
       "    }\n",
       "\n",
       "    .dataframe tbody tr th {\n",
       "        vertical-align: top;\n",
       "    }\n",
       "\n",
       "    .dataframe thead th {\n",
       "        text-align: right;\n",
       "    }\n",
       "</style>\n",
       "<table border=\"1\" class=\"dataframe\">\n",
       "  <thead>\n",
       "    <tr style=\"text-align: right;\">\n",
       "      <th></th>\n",
       "      <th>ts_event</th>\n",
       "      <th>action</th>\n",
       "      <th>side</th>\n",
       "      <th>size</th>\n",
       "      <th>price</th>\n",
       "      <th>bid_px_00</th>\n",
       "      <th>ask_px_00</th>\n",
       "      <th>bid_sz_00</th>\n",
       "      <th>ask_sz_00</th>\n",
       "      <th>bid_ct_00</th>\n",
       "      <th>ask_ct_00</th>\n",
       "      <th>bid_px_01</th>\n",
       "      <th>ask_px_01</th>\n",
       "      <th>bid_sz_01</th>\n",
       "      <th>ask_sz_01</th>\n",
       "      <th>bid_ct_01</th>\n",
       "      <th>ask_ct_01</th>\n",
       "      <th>time_diff</th>\n",
       "      <th>price_same</th>\n",
       "      <th>price_opposite</th>\n",
       "      <th>size_same</th>\n",
       "      <th>size_opposite</th>\n",
       "      <th>nb_ppl_same</th>\n",
       "      <th>nb_ppl_opposite</th>\n",
       "      <th>diff_price</th>\n",
       "      <th>Mean_price_diff</th>\n",
       "      <th>imbalance</th>\n",
       "      <th>indice</th>\n",
       "      <th>bid_sz_00_diff</th>\n",
       "      <th>ask_sz_00_diff</th>\n",
       "      <th>status</th>\n",
       "      <th>new_limite</th>\n",
       "    </tr>\n",
       "  </thead>\n",
       "  <tbody>\n",
       "    <tr>\n",
       "      <th>0</th>\n",
       "      <td>2024-09-27 14:00:00.001848092+00:00</td>\n",
       "      <td>T</td>\n",
       "      <td>A</td>\n",
       "      <td>45</td>\n",
       "      <td>163.98</td>\n",
       "      <td>163.96</td>\n",
       "      <td>163.98</td>\n",
       "      <td>13</td>\n",
       "      <td>0</td>\n",
       "      <td>1</td>\n",
       "      <td>4</td>\n",
       "      <td>163.95</td>\n",
       "      <td>163.99</td>\n",
       "      <td>20</td>\n",
       "      <td>121</td>\n",
       "      <td>1</td>\n",
       "      <td>3</td>\n",
       "      <td>0.0</td>\n",
       "      <td>163.98</td>\n",
       "      <td>163.96</td>\n",
       "      <td>48</td>\n",
       "      <td>13</td>\n",
       "      <td>4</td>\n",
       "      <td>1</td>\n",
       "      <td>0.0</td>\n",
       "      <td>NaN</td>\n",
       "      <td>0.57377</td>\n",
       "      <td>6</td>\n",
       "      <td>0.0</td>\n",
       "      <td>-26.0</td>\n",
       "      <td>OK</td>\n",
       "      <td>limite_épuisée</td>\n",
       "    </tr>\n",
       "    <tr>\n",
       "      <th>1</th>\n",
       "      <td>2024-09-27 14:00:00.001848092+00:00</td>\n",
       "      <td>T</td>\n",
       "      <td>A</td>\n",
       "      <td>128</td>\n",
       "      <td>163.98</td>\n",
       "      <td>163.96</td>\n",
       "      <td>163.98</td>\n",
       "      <td>13</td>\n",
       "      <td>48</td>\n",
       "      <td>1</td>\n",
       "      <td>4</td>\n",
       "      <td>163.95</td>\n",
       "      <td>163.99</td>\n",
       "      <td>20</td>\n",
       "      <td>121</td>\n",
       "      <td>1</td>\n",
       "      <td>3</td>\n",
       "      <td>0.0</td>\n",
       "      <td>163.98</td>\n",
       "      <td>163.96</td>\n",
       "      <td>48</td>\n",
       "      <td>13</td>\n",
       "      <td>4</td>\n",
       "      <td>1</td>\n",
       "      <td>0.0</td>\n",
       "      <td>NaN</td>\n",
       "      <td>0.57377</td>\n",
       "      <td>6</td>\n",
       "      <td>0.0</td>\n",
       "      <td>-26.0</td>\n",
       "      <td>OK</td>\n",
       "      <td>new_limite</td>\n",
       "    </tr>\n",
       "  </tbody>\n",
       "</table>\n",
       "</div>"
      ],
      "text/plain": [
       "                              ts_event action side size   price bid_px_00 ask_px_00 bid_sz_00 ask_sz_00 bid_ct_00 ask_ct_00 bid_px_01 ask_px_01 bid_sz_01 ask_sz_01 bid_ct_01 ask_ct_01 time_diff price_same price_opposite size_same size_opposite nb_ppl_same nb_ppl_opposite diff_price Mean_price_diff imbalance indice bid_sz_00_diff ask_sz_00_diff status      new_limite\n",
       "0  2024-09-27 14:00:00.001848092+00:00      T    A   45  163.98    163.96    163.98        13         0         1         4    163.95    163.99        20       121         1         3       0.0     163.98         163.96        48            13           4               1        0.0             NaN   0.57377      6            0.0          -26.0     OK  limite_épuisée\n",
       "1  2024-09-27 14:00:00.001848092+00:00      T    A  128  163.98    163.96    163.98        13        48         1         4    163.95    163.99        20       121         1         3       0.0     163.98         163.96        48            13           4               1        0.0             NaN   0.57377      6            0.0          -26.0     OK      new_limite"
      ]
     },
     "execution_count": 14,
     "metadata": {},
     "output_type": "execute_result"
    }
   ],
   "source": [
    "df__.head(2)"
   ]
  },
  {
   "cell_type": "code",
   "execution_count": 15,
   "metadata": {},
   "outputs": [
    {
     "data": {
      "text/html": [
       "<div>\n",
       "<style scoped>\n",
       "    .dataframe tbody tr th:only-of-type {\n",
       "        vertical-align: middle;\n",
       "    }\n",
       "\n",
       "    .dataframe tbody tr th {\n",
       "        vertical-align: top;\n",
       "    }\n",
       "\n",
       "    .dataframe thead th {\n",
       "        text-align: right;\n",
       "    }\n",
       "</style>\n",
       "<table border=\"1\" class=\"dataframe\">\n",
       "  <thead>\n",
       "    <tr style=\"text-align: right;\">\n",
       "      <th></th>\n",
       "      <th>ts_event</th>\n",
       "      <th>action</th>\n",
       "      <th>side</th>\n",
       "      <th>size</th>\n",
       "      <th>price</th>\n",
       "      <th>bid_px_00</th>\n",
       "      <th>ask_px_00</th>\n",
       "      <th>bid_sz_00</th>\n",
       "      <th>ask_sz_00</th>\n",
       "      <th>bid_ct_00</th>\n",
       "      <th>ask_ct_00</th>\n",
       "      <th>bid_px_01</th>\n",
       "      <th>ask_px_01</th>\n",
       "      <th>bid_sz_01</th>\n",
       "      <th>ask_sz_01</th>\n",
       "      <th>bid_ct_01</th>\n",
       "      <th>ask_ct_01</th>\n",
       "      <th>time_diff</th>\n",
       "      <th>price_same</th>\n",
       "      <th>price_opposite</th>\n",
       "      <th>size_same</th>\n",
       "      <th>size_opposite</th>\n",
       "      <th>nb_ppl_same</th>\n",
       "      <th>nb_ppl_opposite</th>\n",
       "      <th>diff_price</th>\n",
       "      <th>Mean_price_diff</th>\n",
       "      <th>imbalance</th>\n",
       "      <th>indice</th>\n",
       "      <th>bid_sz_00_diff</th>\n",
       "      <th>ask_sz_00_diff</th>\n",
       "      <th>status</th>\n",
       "      <th>new_limite</th>\n",
       "      <th>price_middle</th>\n",
       "    </tr>\n",
       "  </thead>\n",
       "  <tbody>\n",
       "    <tr>\n",
       "      <th>2</th>\n",
       "      <td>2024-09-27 14:00:00.001912827+00:00</td>\n",
       "      <td>A</td>\n",
       "      <td>A</td>\n",
       "      <td>25</td>\n",
       "      <td>163.98</td>\n",
       "      <td>163.96</td>\n",
       "      <td>163.98</td>\n",
       "      <td>13</td>\n",
       "      <td>73</td>\n",
       "      <td>1</td>\n",
       "      <td>5</td>\n",
       "      <td>163.95</td>\n",
       "      <td>163.99</td>\n",
       "      <td>20</td>\n",
       "      <td>121</td>\n",
       "      <td>1</td>\n",
       "      <td>3</td>\n",
       "      <td>0.000065</td>\n",
       "      <td>163.98</td>\n",
       "      <td>163.96</td>\n",
       "      <td>73</td>\n",
       "      <td>13</td>\n",
       "      <td>5</td>\n",
       "      <td>1</td>\n",
       "      <td>0.0</td>\n",
       "      <td>NaN</td>\n",
       "      <td>0.697674</td>\n",
       "      <td>2</td>\n",
       "      <td>0</td>\n",
       "      <td>25</td>\n",
       "      <td>OK</td>\n",
       "      <td>n</td>\n",
       "      <td>0.01</td>\n",
       "    </tr>\n",
       "  </tbody>\n",
       "</table>\n",
       "</div>"
      ],
      "text/plain": [
       "                              ts_event action side size   price bid_px_00 ask_px_00 bid_sz_00 ask_sz_00 bid_ct_00 ask_ct_00 bid_px_01 ask_px_01 bid_sz_01 ask_sz_01 bid_ct_01 ask_ct_01  time_diff price_same price_opposite size_same size_opposite nb_ppl_same nb_ppl_opposite diff_price  Mean_price_diff imbalance  indice bid_sz_00_diff ask_sz_00_diff status new_limite price_middle\n",
       "2  2024-09-27 14:00:00.001912827+00:00      A    A   25  163.98    163.96    163.98        13        73         1         5    163.95    163.99        20       121         1         3   0.000065     163.98         163.96        73            13           5               1        0.0              NaN  0.697674       2              0             25     OK          n         0.01"
      ]
     },
     "execution_count": 15,
     "metadata": {},
     "output_type": "execute_result"
    }
   ],
   "source": [
    "#df__['ts_diff'] = pd.to_datetime(df__['ts_event']).diff().dt.total_seconds()\n",
    "df__['price_middle'] = (df__['ask_px_00']-df__['bid_px_00'])/2\n",
    "df__['price_same'] = np.where(df__['side'] == 'A', df__[f'ask_px_0{limite}'],df__[f'bid_px_0{limite}'])\n",
    "df__['price_opposite'] = np.where(df__['side'] == 'A', df__[f'bid_px_0{limite}'], df__[f'ask_px_0{limite}'])\n",
    "df__['size_same'] = np.where(df__['side'] == 'A', df__[f'ask_sz_0{limite}'],df__[f'bid_sz_0{limite}'])\n",
    "df__['size_opposite'] = np.where(df__['side'] == 'A', df__[f'bid_sz_0{limite}'], df__[f'ask_sz_0{limite}'])\n",
    "df__['nb_ppl_same'] = np.where(df__['side'] == 'A', df__[f'ask_ct_0{limite}'],df__[f'bid_ct_0{limite}'])\n",
    "df__['nb_ppl_opposite'] = np.where(df__['side'] == 'A', df__[f'bid_ct_0{limite}'], df__[f'ask_ct_0{limite}'])\n",
    "#df__.drop(columns=[f'bid_px_0{limite}', f'ask_px_0{limite}', f'bid_sz_0{limite}', f'ask_sz_0{limite}', f'bid_ct_0{limite}', f'ask_ct_0{limite}'], axis=1, inplace=True)\n",
    "df__['diff_price'] = df__['price_middle'].diff()\n",
    "df__['time_diff'] = df__['ts_event'].diff().dt.total_seconds()\n",
    "\n",
    "\n",
    "\n",
    "df__['indice'] = range(len(df__))\n",
    "df__[f'bid_sz_0{limite}_diff'] = df__[f'bid_sz_0{limite}'].diff()\n",
    "df__[f'ask_sz_0{limite}_diff'] = df__[f'ask_sz_0{limite}'].diff()\n",
    "condition_T = (\n",
    "    (df__['action'] == 'T') &\n",
    "    (\n",
    "        ((df__['side'] == 'B') & (df__[f'bid_sz_0{limite}_diff'] == -df__['size'])) |\n",
    "        ((df__['side'] == 'A') & (df__[f'ask_sz_0{limite}_diff'] == -df__['size']))\n",
    "    )\n",
    ")\n",
    "\n",
    "# Condition pour 'A'\n",
    "condition_A = (\n",
    "    (df__['action'] == 'A') &\n",
    "    (\n",
    "        ((df__['side'] == 'B') & (df__[f'bid_sz_0{limite}_diff'] == df__['size'])) |\n",
    "        ((df__['side'] == 'A') & (df__[f'ask_sz_0{limite}_diff'] == df__['size']))\n",
    "    )\n",
    ")\n",
    "\n",
    "# Condition pour 'C'\n",
    "condition_C = (\n",
    "    (df__['action'] == 'C') &\n",
    "    (\n",
    "        ((df__['side'] == 'B') & (df__[f'bid_sz_0{limite}_diff'] == -df__['size'])) |\n",
    "        ((df__['side'] == 'A') & (df__[f'ask_sz_0{limite}_diff'] == -df__['size']))\n",
    "    )\n",
    ")\n",
    "df__['status'] = np.where(condition_T | condition_A | condition_C, 'OK', 'NOK')\n",
    "df__.loc[df__['new_limite'] == 'new_limite', 'time_diff'] = np.nan\n",
    "df__ = df__[df__['time_diff']>0]\n",
    "df__ = df__[df__['time_diff'] != np.nan]\n",
    "df_final = df__[df__['status'] != 'NOK']\n",
    "df__['Mean_price_diff'] = df__['diff_price'].rolling(window=50).mean().shift(1)\n",
    "df__['imbalance'] = (df__[f'ask_sz_0{limite}']-df__[f'bid_sz_0{limite}'])/(df__[f'ask_sz_0{limite}']+df__[f'bid_sz_0{limite}'])\n",
    "#df__['imbalance'] = (df__['size_same']-df__['size_opposite'])/(df__['size_same']+df__['size_opposite'])\n",
    "\n",
    "\n",
    "df__.loc[df__['new_limite'] == 'new_limite', 'time_diff'] = np.nan\n",
    "df__.head(1)"
   ]
  },
  {
   "cell_type": "code",
   "execution_count": 16,
   "metadata": {},
   "outputs": [],
   "source": [
    "df_final = df__"
   ]
  },
  {
   "cell_type": "code",
   "execution_count": 17,
   "metadata": {},
   "outputs": [
    {
     "name": "stdout",
     "output_type": "stream",
     "text": [
      "La colonne 'price' contient des valeurs NaN.\n"
     ]
    }
   ],
   "source": [
    "# Vérifier s'il y a des NaN dans la colonne 'price'\n",
    "has_nan_in_price = df__['Mean_price_diff'].isna().any()\n",
    "\n",
    "if has_nan_in_price:\n",
    "    print(\"La colonne 'price' contient des valeurs NaN.\")\n",
    "else:\n",
    "    print(\"La colonne 'price' ne contient pas de valeurs NaN.\")\n"
   ]
  },
  {
   "cell_type": "code",
   "execution_count": 21,
   "metadata": {},
   "outputs": [
    {
     "name": "stdout",
     "output_type": "stream",
     "text": [
      "[3.156999999999679e-05, 2.0010000000003913e-05, 2.009999999999991e-05, 2.0044999999990143e-05, 1.9499999999990594e-05, 2.6054999999998272e-05, 2.907999999999994e-05, 2.5779999999992326e-05, 2.5749999999995693e-05, 2.8150000000001386e-05, 2.9259999999993096e-05, 3.201999999999886e-05, 3.520999999999633e-05, 3.386999999999911e-05, 4.064000000000594e-05, 3.7564999999993316e-05, 3.591500000000087e-05, 4.070499999999632e-05, 3.7379999999994983e-05, 4.232500000001521e-05, 4.006000000000379e-05, 3.838499999999797e-05, 4.826000000000686e-05, 5.085499999999943e-05, 5.7999999999997175e-05, 5.195500000000451e-05, 4.6115000000000835e-05, 2.989417989417013e-05]\n"
     ]
    },
    {
     "data": {
      "application/vnd.plotly.v1+json": {
       "config": {
        "plotlyServerURL": "https://plot.ly"
       },
       "data": [
        {
         "mode": "lines",
         "name": "Prix",
         "showlegend": true,
         "type": "scatter",
         "x": [
          -0.963593308534893,
          -0.8537897977398076,
          -0.7636305693190044,
          -0.6841361354233134,
          -0.6140383360800179,
          -0.5486468562256877,
          -0.4864378851584008,
          -0.4273356515102636,
          -0.3685773486793919,
          -0.3111546549149888,
          -0.25355189419537977,
          -0.1946391328396791,
          -0.13545943502327082,
          -0.07660221501131065,
          -0.01771811989363166,
          0.040652350220665254,
          0.10215176374149147,
          0.1676006779690459,
          0.23310096044100187,
          0.2995732254446921,
          0.36881447653889216,
          0.4440011706107728,
          0.5223152195156067,
          0.6073362122894086,
          0.7016857619058485,
          0.8047614363107803,
          0.9107005394961174,
          0.9853219246721618
         ],
         "y": [
          0.00003156999999999679,
          0.000020010000000003913,
          0.00002009999999999991,
          0.000020044999999990143,
          0.000019499999999990594,
          0.000026054999999998272,
          0.00002907999999999994,
          0.000025779999999992326,
          0.000025749999999995693,
          0.000028150000000001386,
          0.000029259999999993096,
          0.00003201999999999886,
          0.00003520999999999633,
          0.00003386999999999911,
          0.00004064000000000594,
          0.000037564999999993316,
          0.00003591500000000087,
          0.00004070499999999632,
          0.000037379999999994983,
          0.00004232500000001521,
          0.00004006000000000379,
          0.00003838499999999797,
          0.00004826000000000686,
          0.00005085499999999943,
          0.000057999999999997175,
          0.00005195500000000451,
          0.000046115000000000835,
          0.00002989417989417013
         ]
        }
       ],
       "layout": {
        "showlegend": true,
        "template": {
         "data": {
          "bar": [
           {
            "error_x": {
             "color": "#2a3f5f"
            },
            "error_y": {
             "color": "#2a3f5f"
            },
            "marker": {
             "line": {
              "color": "#E5ECF6",
              "width": 0.5
             },
             "pattern": {
              "fillmode": "overlay",
              "size": 10,
              "solidity": 0.2
             }
            },
            "type": "bar"
           }
          ],
          "barpolar": [
           {
            "marker": {
             "line": {
              "color": "#E5ECF6",
              "width": 0.5
             },
             "pattern": {
              "fillmode": "overlay",
              "size": 10,
              "solidity": 0.2
             }
            },
            "type": "barpolar"
           }
          ],
          "carpet": [
           {
            "aaxis": {
             "endlinecolor": "#2a3f5f",
             "gridcolor": "white",
             "linecolor": "white",
             "minorgridcolor": "white",
             "startlinecolor": "#2a3f5f"
            },
            "baxis": {
             "endlinecolor": "#2a3f5f",
             "gridcolor": "white",
             "linecolor": "white",
             "minorgridcolor": "white",
             "startlinecolor": "#2a3f5f"
            },
            "type": "carpet"
           }
          ],
          "choropleth": [
           {
            "colorbar": {
             "outlinewidth": 0,
             "ticks": ""
            },
            "type": "choropleth"
           }
          ],
          "contour": [
           {
            "colorbar": {
             "outlinewidth": 0,
             "ticks": ""
            },
            "colorscale": [
             [
              0,
              "#0d0887"
             ],
             [
              0.1111111111111111,
              "#46039f"
             ],
             [
              0.2222222222222222,
              "#7201a8"
             ],
             [
              0.3333333333333333,
              "#9c179e"
             ],
             [
              0.4444444444444444,
              "#bd3786"
             ],
             [
              0.5555555555555556,
              "#d8576b"
             ],
             [
              0.6666666666666666,
              "#ed7953"
             ],
             [
              0.7777777777777778,
              "#fb9f3a"
             ],
             [
              0.8888888888888888,
              "#fdca26"
             ],
             [
              1,
              "#f0f921"
             ]
            ],
            "type": "contour"
           }
          ],
          "contourcarpet": [
           {
            "colorbar": {
             "outlinewidth": 0,
             "ticks": ""
            },
            "type": "contourcarpet"
           }
          ],
          "heatmap": [
           {
            "colorbar": {
             "outlinewidth": 0,
             "ticks": ""
            },
            "colorscale": [
             [
              0,
              "#0d0887"
             ],
             [
              0.1111111111111111,
              "#46039f"
             ],
             [
              0.2222222222222222,
              "#7201a8"
             ],
             [
              0.3333333333333333,
              "#9c179e"
             ],
             [
              0.4444444444444444,
              "#bd3786"
             ],
             [
              0.5555555555555556,
              "#d8576b"
             ],
             [
              0.6666666666666666,
              "#ed7953"
             ],
             [
              0.7777777777777778,
              "#fb9f3a"
             ],
             [
              0.8888888888888888,
              "#fdca26"
             ],
             [
              1,
              "#f0f921"
             ]
            ],
            "type": "heatmap"
           }
          ],
          "heatmapgl": [
           {
            "colorbar": {
             "outlinewidth": 0,
             "ticks": ""
            },
            "colorscale": [
             [
              0,
              "#0d0887"
             ],
             [
              0.1111111111111111,
              "#46039f"
             ],
             [
              0.2222222222222222,
              "#7201a8"
             ],
             [
              0.3333333333333333,
              "#9c179e"
             ],
             [
              0.4444444444444444,
              "#bd3786"
             ],
             [
              0.5555555555555556,
              "#d8576b"
             ],
             [
              0.6666666666666666,
              "#ed7953"
             ],
             [
              0.7777777777777778,
              "#fb9f3a"
             ],
             [
              0.8888888888888888,
              "#fdca26"
             ],
             [
              1,
              "#f0f921"
             ]
            ],
            "type": "heatmapgl"
           }
          ],
          "histogram": [
           {
            "marker": {
             "pattern": {
              "fillmode": "overlay",
              "size": 10,
              "solidity": 0.2
             }
            },
            "type": "histogram"
           }
          ],
          "histogram2d": [
           {
            "colorbar": {
             "outlinewidth": 0,
             "ticks": ""
            },
            "colorscale": [
             [
              0,
              "#0d0887"
             ],
             [
              0.1111111111111111,
              "#46039f"
             ],
             [
              0.2222222222222222,
              "#7201a8"
             ],
             [
              0.3333333333333333,
              "#9c179e"
             ],
             [
              0.4444444444444444,
              "#bd3786"
             ],
             [
              0.5555555555555556,
              "#d8576b"
             ],
             [
              0.6666666666666666,
              "#ed7953"
             ],
             [
              0.7777777777777778,
              "#fb9f3a"
             ],
             [
              0.8888888888888888,
              "#fdca26"
             ],
             [
              1,
              "#f0f921"
             ]
            ],
            "type": "histogram2d"
           }
          ],
          "histogram2dcontour": [
           {
            "colorbar": {
             "outlinewidth": 0,
             "ticks": ""
            },
            "colorscale": [
             [
              0,
              "#0d0887"
             ],
             [
              0.1111111111111111,
              "#46039f"
             ],
             [
              0.2222222222222222,
              "#7201a8"
             ],
             [
              0.3333333333333333,
              "#9c179e"
             ],
             [
              0.4444444444444444,
              "#bd3786"
             ],
             [
              0.5555555555555556,
              "#d8576b"
             ],
             [
              0.6666666666666666,
              "#ed7953"
             ],
             [
              0.7777777777777778,
              "#fb9f3a"
             ],
             [
              0.8888888888888888,
              "#fdca26"
             ],
             [
              1,
              "#f0f921"
             ]
            ],
            "type": "histogram2dcontour"
           }
          ],
          "mesh3d": [
           {
            "colorbar": {
             "outlinewidth": 0,
             "ticks": ""
            },
            "type": "mesh3d"
           }
          ],
          "parcoords": [
           {
            "line": {
             "colorbar": {
              "outlinewidth": 0,
              "ticks": ""
             }
            },
            "type": "parcoords"
           }
          ],
          "pie": [
           {
            "automargin": true,
            "type": "pie"
           }
          ],
          "scatter": [
           {
            "fillpattern": {
             "fillmode": "overlay",
             "size": 10,
             "solidity": 0.2
            },
            "type": "scatter"
           }
          ],
          "scatter3d": [
           {
            "line": {
             "colorbar": {
              "outlinewidth": 0,
              "ticks": ""
             }
            },
            "marker": {
             "colorbar": {
              "outlinewidth": 0,
              "ticks": ""
             }
            },
            "type": "scatter3d"
           }
          ],
          "scattercarpet": [
           {
            "marker": {
             "colorbar": {
              "outlinewidth": 0,
              "ticks": ""
             }
            },
            "type": "scattercarpet"
           }
          ],
          "scattergeo": [
           {
            "marker": {
             "colorbar": {
              "outlinewidth": 0,
              "ticks": ""
             }
            },
            "type": "scattergeo"
           }
          ],
          "scattergl": [
           {
            "marker": {
             "colorbar": {
              "outlinewidth": 0,
              "ticks": ""
             }
            },
            "type": "scattergl"
           }
          ],
          "scattermapbox": [
           {
            "marker": {
             "colorbar": {
              "outlinewidth": 0,
              "ticks": ""
             }
            },
            "type": "scattermapbox"
           }
          ],
          "scatterpolar": [
           {
            "marker": {
             "colorbar": {
              "outlinewidth": 0,
              "ticks": ""
             }
            },
            "type": "scatterpolar"
           }
          ],
          "scatterpolargl": [
           {
            "marker": {
             "colorbar": {
              "outlinewidth": 0,
              "ticks": ""
             }
            },
            "type": "scatterpolargl"
           }
          ],
          "scatterternary": [
           {
            "marker": {
             "colorbar": {
              "outlinewidth": 0,
              "ticks": ""
             }
            },
            "type": "scatterternary"
           }
          ],
          "surface": [
           {
            "colorbar": {
             "outlinewidth": 0,
             "ticks": ""
            },
            "colorscale": [
             [
              0,
              "#0d0887"
             ],
             [
              0.1111111111111111,
              "#46039f"
             ],
             [
              0.2222222222222222,
              "#7201a8"
             ],
             [
              0.3333333333333333,
              "#9c179e"
             ],
             [
              0.4444444444444444,
              "#bd3786"
             ],
             [
              0.5555555555555556,
              "#d8576b"
             ],
             [
              0.6666666666666666,
              "#ed7953"
             ],
             [
              0.7777777777777778,
              "#fb9f3a"
             ],
             [
              0.8888888888888888,
              "#fdca26"
             ],
             [
              1,
              "#f0f921"
             ]
            ],
            "type": "surface"
           }
          ],
          "table": [
           {
            "cells": {
             "fill": {
              "color": "#EBF0F8"
             },
             "line": {
              "color": "white"
             }
            },
            "header": {
             "fill": {
              "color": "#C8D4E3"
             },
             "line": {
              "color": "white"
             }
            },
            "type": "table"
           }
          ]
         },
         "layout": {
          "annotationdefaults": {
           "arrowcolor": "#2a3f5f",
           "arrowhead": 0,
           "arrowwidth": 1
          },
          "autotypenumbers": "strict",
          "coloraxis": {
           "colorbar": {
            "outlinewidth": 0,
            "ticks": ""
           }
          },
          "colorscale": {
           "diverging": [
            [
             0,
             "#8e0152"
            ],
            [
             0.1,
             "#c51b7d"
            ],
            [
             0.2,
             "#de77ae"
            ],
            [
             0.3,
             "#f1b6da"
            ],
            [
             0.4,
             "#fde0ef"
            ],
            [
             0.5,
             "#f7f7f7"
            ],
            [
             0.6,
             "#e6f5d0"
            ],
            [
             0.7,
             "#b8e186"
            ],
            [
             0.8,
             "#7fbc41"
            ],
            [
             0.9,
             "#4d9221"
            ],
            [
             1,
             "#276419"
            ]
           ],
           "sequential": [
            [
             0,
             "#0d0887"
            ],
            [
             0.1111111111111111,
             "#46039f"
            ],
            [
             0.2222222222222222,
             "#7201a8"
            ],
            [
             0.3333333333333333,
             "#9c179e"
            ],
            [
             0.4444444444444444,
             "#bd3786"
            ],
            [
             0.5555555555555556,
             "#d8576b"
            ],
            [
             0.6666666666666666,
             "#ed7953"
            ],
            [
             0.7777777777777778,
             "#fb9f3a"
            ],
            [
             0.8888888888888888,
             "#fdca26"
            ],
            [
             1,
             "#f0f921"
            ]
           ],
           "sequentialminus": [
            [
             0,
             "#0d0887"
            ],
            [
             0.1111111111111111,
             "#46039f"
            ],
            [
             0.2222222222222222,
             "#7201a8"
            ],
            [
             0.3333333333333333,
             "#9c179e"
            ],
            [
             0.4444444444444444,
             "#bd3786"
            ],
            [
             0.5555555555555556,
             "#d8576b"
            ],
            [
             0.6666666666666666,
             "#ed7953"
            ],
            [
             0.7777777777777778,
             "#fb9f3a"
            ],
            [
             0.8888888888888888,
             "#fdca26"
            ],
            [
             1,
             "#f0f921"
            ]
           ]
          },
          "colorway": [
           "#636efa",
           "#EF553B",
           "#00cc96",
           "#ab63fa",
           "#FFA15A",
           "#19d3f3",
           "#FF6692",
           "#B6E880",
           "#FF97FF",
           "#FECB52"
          ],
          "font": {
           "color": "#2a3f5f"
          },
          "geo": {
           "bgcolor": "white",
           "lakecolor": "white",
           "landcolor": "#E5ECF6",
           "showlakes": true,
           "showland": true,
           "subunitcolor": "white"
          },
          "hoverlabel": {
           "align": "left"
          },
          "hovermode": "closest",
          "mapbox": {
           "style": "light"
          },
          "paper_bgcolor": "white",
          "plot_bgcolor": "#E5ECF6",
          "polar": {
           "angularaxis": {
            "gridcolor": "white",
            "linecolor": "white",
            "ticks": ""
           },
           "bgcolor": "#E5ECF6",
           "radialaxis": {
            "gridcolor": "white",
            "linecolor": "white",
            "ticks": ""
           }
          },
          "scene": {
           "xaxis": {
            "backgroundcolor": "#E5ECF6",
            "gridcolor": "white",
            "gridwidth": 2,
            "linecolor": "white",
            "showbackground": true,
            "ticks": "",
            "zerolinecolor": "white"
           },
           "yaxis": {
            "backgroundcolor": "#E5ECF6",
            "gridcolor": "white",
            "gridwidth": 2,
            "linecolor": "white",
            "showbackground": true,
            "ticks": "",
            "zerolinecolor": "white"
           },
           "zaxis": {
            "backgroundcolor": "#E5ECF6",
            "gridcolor": "white",
            "gridwidth": 2,
            "linecolor": "white",
            "showbackground": true,
            "ticks": "",
            "zerolinecolor": "white"
           }
          },
          "shapedefaults": {
           "line": {
            "color": "#2a3f5f"
           }
          },
          "ternary": {
           "aaxis": {
            "gridcolor": "white",
            "linecolor": "white",
            "ticks": ""
           },
           "baxis": {
            "gridcolor": "white",
            "linecolor": "white",
            "ticks": ""
           },
           "bgcolor": "#E5ECF6",
           "caxis": {
            "gridcolor": "white",
            "linecolor": "white",
            "ticks": ""
           }
          },
          "title": {
           "x": 0.05
          },
          "xaxis": {
           "automargin": true,
           "gridcolor": "white",
           "linecolor": "white",
           "ticks": "",
           "title": {
            "standoff": 15
           },
           "zerolinecolor": "white",
           "zerolinewidth": 2
          },
          "yaxis": {
           "automargin": true,
           "gridcolor": "white",
           "linecolor": "white",
           "ticks": "",
           "title": {
            "standoff": 15
           },
           "zerolinecolor": "white",
           "zerolinewidth": 2
          }
         }
        },
        "title": {
         "text": "Bid-ask"
        },
        "xaxis": {
         "title": {
          "text": "imbalance"
         }
        },
        "yaxis": {
         "title": {
          "text": "delta_price"
         }
        }
       }
      }
     },
     "metadata": {},
     "output_type": "display_data"
    }
   ],
   "source": [
    "df_trades = df_final[101:]#[df_final['action'] =='T']\n",
    "imb = df_trades ['imbalance'].to_numpy()\n",
    "price = df_trades ['Mean_price_diff'].to_numpy()#/df_trades ['time_diff'].to_numpy()\n",
    "indices_trie = np.argsort(imb)\n",
    "\n",
    "# Application du tri aux deux tableaux\n",
    "imb_trie = imb[indices_trie]\n",
    "price_trie = price[indices_trie]\n",
    "\n",
    "group_size = 20000\n",
    "\n",
    "imb_trie_groups = [imb_trie[i:i + group_size] for i in range(0, len(imb_trie), group_size)]\n",
    "price_trie_groups = [price_trie[i:i + group_size] for i in range(0, len(price_trie), group_size)]\n",
    "\n",
    "\n",
    "# Calculer la moyenne de chaque groupe\n",
    "imb_trie_means = [np.mean(group) for group in imb_trie_groups]\n",
    "price_trie_means = [np.mean(group) for group in price_trie_groups]\n",
    "print(price_trie_means)\n",
    "fig = go.Figure()\n",
    "fig.add_trace(go.Scatter(x = imb_trie_means, y = price_trie_means, mode ='lines', name ='Prix', showlegend = True))\n",
    "\n",
    "fig.update_layout(title=f'Bid-ask', xaxis_title='imbalance', yaxis_title='delta_price', showlegend=True)\n",
    "fig.show()"
   ]
  },
  {
   "cell_type": "code",
   "execution_count": null,
   "metadata": {},
   "outputs": [],
   "source": [
    "df_trades = df_final[101:]#[df_final['action'] =='T']\n",
    "\n",
    "# Calculer la moyenne de chaque groupe\n",
    "imb_trie_means = [np.mean(group) for group in imb_trie_groups]\n",
    "price_trie_means = [np.mean(group) for group in price_trie_groups]\n",
    "print(price_trie_means)\n",
    "fig = go.Figure()\n",
    "fig.add_trace(go.Scatter(x = imb_trie_means, y = price_trie_means, mode ='lines', name ='Prix', showlegend = True))\n",
    "\n",
    "fig.update_layout(title=f'Bid-ask', xaxis_title='imbalance', yaxis_title='delta_price', showlegend=True)\n",
    "fig.show()"
   ]
  },
  {
   "cell_type": "code",
   "execution_count": null,
   "metadata": {},
   "outputs": [],
   "source": [
    "df___.head(4)"
   ]
  },
  {
   "cell_type": "code",
   "execution_count": null,
   "metadata": {},
   "outputs": [],
   "source": [
    "df_.head(4)"
   ]
  },
  {
   "cell_type": "code",
   "execution_count": null,
   "metadata": {},
   "outputs": [],
   "source": [
    "df_['price_same'] = np.where(df_['side'] == 'A', df_[f'ask_px_0{limite}'],df[f'bid_px_0{limite}'])\n",
    "df_['price_opposite'] = np.where(df_['side'] == 'A', df[f'bid_px_0{limite}'], df_[f'ask_px_0{limite}'])\n",
    "df_['size_same'] = np.where(df_['side'] == 'A', df_[f'ask_sz_0{limite}'],df[f'bid_sz_0{limite}'])\n",
    "df_['size_opposite'] = np.where(df_['side'] == 'A', df[f'bid_sz_0{limite}'], df_[f'ask_sz_0{limite}'])\n",
    "df_['nb_ppl_same'] = np.where(df_['side'] == 'A', df_[f'ask_ct_0{limite}'],df[f'bid_ct_0{limite}'])\n",
    "df_['nb_ppl_opposite'] = np.where(df_['side'] == 'A', df[f'bid_ct_0{limite}'], df_[f'ask_ct_0{limite}'])\n",
    "df_.drop(columns=[f'bid_px_0{limite}', f'ask_px_0{limite}', f'bid_sz_0{limite}', f'ask_sz_0{limite}', f'bid_ct_0{limite}', f'ask_ct_0{limite}'], axis=1, inplace=True)\n",
    "df_['diff_price'] = df_['price'].diff()\n",
    "df_['Mean_price_diff'] = df_['diff_price'].rolling(window=10).mean().shift(1)\n",
    "df_['imbalance'] = (df_['size_same']-df_['size_opposite'])/(df_['size_same']+df_['size_opposite'])\n",
    "df_['ts_event'] = pd.to_datetime(df_['ts_event'])\n",
    "df_['time_diff'] = df_['ts_event'].diff().dt.total_seconds()\n",
    "df_['indice'] = range(len(df_))\n",
    "\n",
    "df_.head(2)"
   ]
  },
  {
   "cell_type": "code",
   "execution_count": null,
   "metadata": {},
   "outputs": [],
   "source": [
    "df_['trii'] = np.where(df_['time_diff'] == 0, df_['indice'] - 1, df_['indice'])\n",
    "df_.head(20)"
   ]
  },
  {
   "cell_type": "code",
   "execution_count": null,
   "metadata": {},
   "outputs": [],
   "source": [
    "df_trades = df_[df_['action'] =='T']\n",
    "imb = df_trades ['imbalance'].to_numpy()\n",
    "price = df_trades ['Mean_price_diff'].to_numpy()#/df_trades ['time_diff'].to_numpy()\n",
    "indices_trie = np.argsort(imb)\n",
    "\n",
    "# Application du tri aux deux tableaux\n",
    "imb_trie = imb[indices_trie]\n",
    "price_trie = price[indices_trie]\n",
    "\n",
    "fig = go.Figure()\n",
    "fig.add_trace(go.Scatter(x = imb_trie, y = price_trie, mode ='lines', name ='Prix', showlegend = True))\n",
    "\n",
    "fig.update_layout(title=f'Bid-ask', xaxis_title='imbalance', yaxis_title='delta_price', showlegend=True)\n",
    "fig.show()"
   ]
  },
  {
   "cell_type": "code",
   "execution_count": null,
   "metadata": {},
   "outputs": [],
   "source": [
    "df_trades = df_[df_['action'] =='T']\n",
    "price = df_trades['price']\n",
    "bid_ask = 0.02\n",
    "df_trades = df_trades[np.abs(df_trades['price_same'] - df_trades['price_opposite']) <= bid_ask]\n",
    "sze_same = df_trades['size_same'].to_numpy()\n",
    "sze_opposite = df_trades['size_opposite'].to_numpy()\n",
    "time = df_trades['ts_event']"
   ]
  },
  {
   "cell_type": "code",
   "execution_count": null,
   "metadata": {},
   "outputs": [],
   "source": []
  },
  {
   "cell_type": "code",
   "execution_count": null,
   "metadata": {},
   "outputs": [],
   "source": [
    "\n",
    "\n",
    "fig = go.Figure()\n",
    "fig.add_trace(go.Scatter(x = time, y = sze_same, mode ='lines', name ='opposite', showlegend = True))\n",
    "fig.add_trace(go.Scatter(x = time, y = sze_opposite, mode ='lines', name ='same', showlegend = True))\n",
    "fig.update_layout(title=f'Trades queue size', xaxis_title='time', yaxis_title='queue size', showlegend=True)\n",
    "fig.show()\n",
    "fig = go.Figure()\n",
    "fig.add_trace(go.Scatter(x = time, y = sze_same-sze_opposite, mode ='lines', showlegend = True))\n",
    "fig.update_layout(title=f'Trades queue size difference with bid-ask smaller than {bid_ask}', xaxis_title='time', yaxis_title='queue size difference', showlegend=True)\n",
    "fig.show()"
   ]
  },
  {
   "cell_type": "code",
   "execution_count": null,
   "metadata": {},
   "outputs": [],
   "source": []
  }
 ],
 "metadata": {
  "kernelspec": {
   "display_name": "IA_m1",
   "language": "python",
   "name": "python3"
  },
  "language_info": {
   "codemirror_mode": {
    "name": "ipython",
    "version": 3
   },
   "file_extension": ".py",
   "mimetype": "text/x-python",
   "name": "python",
   "nbconvert_exporter": "python",
   "pygments_lexer": "ipython3",
   "version": "3.9.20"
  }
 },
 "nbformat": 4,
 "nbformat_minor": 2
}
