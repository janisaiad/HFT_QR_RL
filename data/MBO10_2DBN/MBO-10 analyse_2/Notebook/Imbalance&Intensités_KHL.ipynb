{
 "cells": [
  {
   "cell_type": "markdown",
   "metadata": {},
   "source": [
    "# KHL\n"
   ]
  },
  {
   "cell_type": "code",
   "execution_count": 1,
   "metadata": {},
   "outputs": [],
   "source": [
    "import glob\n",
    "import os\n",
    "import pandas as pd\n",
    "import warnings\n",
    "warnings.filterwarnings(\"ignore\", category=pd.errors.SettingWithCopyWarning)\n",
    "pd.set_option('display.max_columns', None)\n",
    "pd.set_option('display.expand_frame_repr', False)\n",
    "pd.set_option('display.max_rows', None)\n",
    "import numpy as np\n",
    "import plotly.graph_objects as go\n",
    "from tqdm import tqdm"
   ]
  },
  {
   "cell_type": "markdown",
   "metadata": {},
   "source": [
    "# Étude de l'imbalance"
   ]
  },
  {
   "cell_type": "code",
   "execution_count": 2,
   "metadata": {},
   "outputs": [
    {
     "name": "stderr",
     "output_type": "stream",
     "text": [
      "100%|██████████| 65/65 [00:14<00:00,  4.49it/s]"
     ]
    },
    {
     "name": "stdout",
     "output_type": "stream",
     "text": [
      "A quel point c'est long: 5374085\n"
     ]
    },
    {
     "name": "stderr",
     "output_type": "stream",
     "text": [
      "\n"
     ]
    }
   ],
   "source": [
    "files_csv = glob.glob(os.path.join(\"/Volumes/T9/CSV_KHC_NASDAQ_PL\", \"*.csv\"))\n",
    "\n",
    "imb = np.array([])\n",
    "price = np.array([])\n",
    "limite = 0\n",
    "for f in tqdm(files_csv):\n",
    "    df = pd.read_csv(f)\n",
    "    df = df[:-100]\n",
    "    imb = np.concatenate([imb, df['imbalance'].to_numpy()])\n",
    "    price = np.concatenate([price, df['Mean_price_diff'].to_numpy()])\n",
    "\n",
    "print(f\"A quel point c'est long: {len(imb)}\")\n",
    "# ATTENTION L'imbalance est moins l'imbalance et les mid price sont - les midprices, dcp ca chage rien au graphe mais a modif au cas ou"
   ]
  },
  {
   "cell_type": "code",
   "execution_count": 3,
   "metadata": {},
   "outputs": [],
   "source": [
    "indices_trie = np.argsort(imb)\n",
    "\n",
    "bounds = 0.85\n",
    "imb_trie = imb[indices_trie]\n",
    "price_trie = price[indices_trie]\n",
    "mask = (imb_trie >= -bounds)&(imb_trie <= bounds)\n",
    "imb_trie = imb_trie[mask]\n",
    "price_trie = price_trie[mask]\n",
    "group_size = 350000\n",
    "\n",
    "imb_trie_groups = [imb_trie[i:i + group_size] for i in range(0, len(imb_trie), group_size)]\n",
    "price_trie_groups = [price_trie[i:i + group_size] for i in range(0, len(price_trie), group_size)]\n",
    "\n",
    "imb_trie_means = np.array([np.mean(group) for group in imb_trie_groups])\n",
    "price_trie_means = np.array([np.mean(group) for group in price_trie_groups])\n",
    "\n",
    "imb_trie_std = np.array([np.std(group)/np.sqrt(len(group)) for group in price_trie_groups])"
   ]
  },
  {
   "cell_type": "code",
   "execution_count": 4,
   "metadata": {},
   "outputs": [
    {
     "data": {
      "application/vnd.plotly.v1+json": {
       "config": {
        "plotlyServerURL": "https://plot.ly"
       },
       "data": [
        {
         "line": {
          "width": 0
         },
         "mode": "lines",
         "name": "Upper Bound",
         "showlegend": false,
         "type": "scatter",
         "x": [
          -0.7405551203037376,
          -0.5748692917746328,
          -0.4490503145204206,
          -0.3405406823394305,
          -0.24104733403104583,
          -0.1443890689302841,
          -0.04791075041669947,
          0.0463839033327705,
          0.1433727784528386,
          0.2402545567902055,
          0.33998495728874445,
          0.44758768217678824,
          0.57022544079559,
          0.7270497260291228,
          0.8387219469760524
         ],
         "y": [
          -0.000048593425959102795,
          -0.000019515944115705952,
          -5.949649529237037e-6,
          4.769570165456257e-6,
          7.978373012543764e-6,
          0.000010975940667152567,
          0.000015485829601622165,
          0.00001604182836638943,
          6.786394657897041e-6,
          6.065790629307089e-6,
          0.00001388593155938774,
          0.000030061872421501532,
          0.00006715537937765253,
          0.0001629180721159511,
          0.00023737094460149673
         ]
        },
        {
         "fill": "tonexty",
         "fillcolor": "blue",
         "line": {
          "width": 0
         },
         "mode": "lines",
         "name": "Intervalle de confiance à 95%",
         "showlegend": true,
         "type": "scatter",
         "x": [
          -0.7405551203037376,
          -0.5748692917746328,
          -0.4490503145204206,
          -0.3405406823394305,
          -0.24104733403104583,
          -0.1443890689302841,
          -0.04791075041669947,
          0.0463839033327705,
          0.1433727784528386,
          0.2402545567902055,
          0.33998495728874445,
          0.44758768217678824,
          0.57022544079559,
          0.7270497260291228,
          0.8387219469760524
         ],
         "y": [
          -0.000054206574040897806,
          -0.000025512627312860737,
          -0.000011993207613624025,
          -1.426713022597568e-6,
          1.7930555588831146e-6,
          4.8240593328484504e-6,
          9.314170398380392e-6,
          9.758171633613602e-6,
          7.850339135324273e-7,
          4.8495084975052235e-8,
          7.685497012035565e-6,
          0.00002362384186420844,
          0.00006004462062234682,
          0.0001544247850269049,
          0.00020721589782499595
         ]
        },
        {
         "line": {
          "color": "red"
         },
         "mode": "lines",
         "name": "Prix",
         "showlegend": true,
         "type": "scatter",
         "x": [
          -0.7405551203037376,
          -0.5748692917746328,
          -0.4490503145204206,
          -0.3405406823394305,
          -0.24104733403104583,
          -0.1443890689302841,
          -0.04791075041669947,
          0.0463839033327705,
          0.1433727784528386,
          0.2402545567902055,
          0.33998495728874445,
          0.44758768217678824,
          0.57022544079559,
          0.7270497260291228,
          0.8387219469760524
         ],
         "y": [
          -0.0000514000000000003,
          -0.000022514285714283343,
          -8.97142857143053e-6,
          1.6714285714293445e-6,
          4.8857142857134395e-6,
          7.900000000000509e-6,
          0.00001240000000000128,
          0.000012900000000001516,
          3.785714285714734e-6,
          3.0571428571410702e-6,
          0.000010785714285711652,
          0.000026842857142854986,
          0.00006359999999999968,
          0.000158671428571428,
          0.0002222934212132463
         ]
        }
       ],
       "layout": {
        "showlegend": true,
        "template": {
         "data": {
          "bar": [
           {
            "error_x": {
             "color": "#2a3f5f"
            },
            "error_y": {
             "color": "#2a3f5f"
            },
            "marker": {
             "line": {
              "color": "#E5ECF6",
              "width": 0.5
             },
             "pattern": {
              "fillmode": "overlay",
              "size": 10,
              "solidity": 0.2
             }
            },
            "type": "bar"
           }
          ],
          "barpolar": [
           {
            "marker": {
             "line": {
              "color": "#E5ECF6",
              "width": 0.5
             },
             "pattern": {
              "fillmode": "overlay",
              "size": 10,
              "solidity": 0.2
             }
            },
            "type": "barpolar"
           }
          ],
          "carpet": [
           {
            "aaxis": {
             "endlinecolor": "#2a3f5f",
             "gridcolor": "white",
             "linecolor": "white",
             "minorgridcolor": "white",
             "startlinecolor": "#2a3f5f"
            },
            "baxis": {
             "endlinecolor": "#2a3f5f",
             "gridcolor": "white",
             "linecolor": "white",
             "minorgridcolor": "white",
             "startlinecolor": "#2a3f5f"
            },
            "type": "carpet"
           }
          ],
          "choropleth": [
           {
            "colorbar": {
             "outlinewidth": 0,
             "ticks": ""
            },
            "type": "choropleth"
           }
          ],
          "contour": [
           {
            "colorbar": {
             "outlinewidth": 0,
             "ticks": ""
            },
            "colorscale": [
             [
              0,
              "#0d0887"
             ],
             [
              0.1111111111111111,
              "#46039f"
             ],
             [
              0.2222222222222222,
              "#7201a8"
             ],
             [
              0.3333333333333333,
              "#9c179e"
             ],
             [
              0.4444444444444444,
              "#bd3786"
             ],
             [
              0.5555555555555556,
              "#d8576b"
             ],
             [
              0.6666666666666666,
              "#ed7953"
             ],
             [
              0.7777777777777778,
              "#fb9f3a"
             ],
             [
              0.8888888888888888,
              "#fdca26"
             ],
             [
              1,
              "#f0f921"
             ]
            ],
            "type": "contour"
           }
          ],
          "contourcarpet": [
           {
            "colorbar": {
             "outlinewidth": 0,
             "ticks": ""
            },
            "type": "contourcarpet"
           }
          ],
          "heatmap": [
           {
            "colorbar": {
             "outlinewidth": 0,
             "ticks": ""
            },
            "colorscale": [
             [
              0,
              "#0d0887"
             ],
             [
              0.1111111111111111,
              "#46039f"
             ],
             [
              0.2222222222222222,
              "#7201a8"
             ],
             [
              0.3333333333333333,
              "#9c179e"
             ],
             [
              0.4444444444444444,
              "#bd3786"
             ],
             [
              0.5555555555555556,
              "#d8576b"
             ],
             [
              0.6666666666666666,
              "#ed7953"
             ],
             [
              0.7777777777777778,
              "#fb9f3a"
             ],
             [
              0.8888888888888888,
              "#fdca26"
             ],
             [
              1,
              "#f0f921"
             ]
            ],
            "type": "heatmap"
           }
          ],
          "heatmapgl": [
           {
            "colorbar": {
             "outlinewidth": 0,
             "ticks": ""
            },
            "colorscale": [
             [
              0,
              "#0d0887"
             ],
             [
              0.1111111111111111,
              "#46039f"
             ],
             [
              0.2222222222222222,
              "#7201a8"
             ],
             [
              0.3333333333333333,
              "#9c179e"
             ],
             [
              0.4444444444444444,
              "#bd3786"
             ],
             [
              0.5555555555555556,
              "#d8576b"
             ],
             [
              0.6666666666666666,
              "#ed7953"
             ],
             [
              0.7777777777777778,
              "#fb9f3a"
             ],
             [
              0.8888888888888888,
              "#fdca26"
             ],
             [
              1,
              "#f0f921"
             ]
            ],
            "type": "heatmapgl"
           }
          ],
          "histogram": [
           {
            "marker": {
             "pattern": {
              "fillmode": "overlay",
              "size": 10,
              "solidity": 0.2
             }
            },
            "type": "histogram"
           }
          ],
          "histogram2d": [
           {
            "colorbar": {
             "outlinewidth": 0,
             "ticks": ""
            },
            "colorscale": [
             [
              0,
              "#0d0887"
             ],
             [
              0.1111111111111111,
              "#46039f"
             ],
             [
              0.2222222222222222,
              "#7201a8"
             ],
             [
              0.3333333333333333,
              "#9c179e"
             ],
             [
              0.4444444444444444,
              "#bd3786"
             ],
             [
              0.5555555555555556,
              "#d8576b"
             ],
             [
              0.6666666666666666,
              "#ed7953"
             ],
             [
              0.7777777777777778,
              "#fb9f3a"
             ],
             [
              0.8888888888888888,
              "#fdca26"
             ],
             [
              1,
              "#f0f921"
             ]
            ],
            "type": "histogram2d"
           }
          ],
          "histogram2dcontour": [
           {
            "colorbar": {
             "outlinewidth": 0,
             "ticks": ""
            },
            "colorscale": [
             [
              0,
              "#0d0887"
             ],
             [
              0.1111111111111111,
              "#46039f"
             ],
             [
              0.2222222222222222,
              "#7201a8"
             ],
             [
              0.3333333333333333,
              "#9c179e"
             ],
             [
              0.4444444444444444,
              "#bd3786"
             ],
             [
              0.5555555555555556,
              "#d8576b"
             ],
             [
              0.6666666666666666,
              "#ed7953"
             ],
             [
              0.7777777777777778,
              "#fb9f3a"
             ],
             [
              0.8888888888888888,
              "#fdca26"
             ],
             [
              1,
              "#f0f921"
             ]
            ],
            "type": "histogram2dcontour"
           }
          ],
          "mesh3d": [
           {
            "colorbar": {
             "outlinewidth": 0,
             "ticks": ""
            },
            "type": "mesh3d"
           }
          ],
          "parcoords": [
           {
            "line": {
             "colorbar": {
              "outlinewidth": 0,
              "ticks": ""
             }
            },
            "type": "parcoords"
           }
          ],
          "pie": [
           {
            "automargin": true,
            "type": "pie"
           }
          ],
          "scatter": [
           {
            "fillpattern": {
             "fillmode": "overlay",
             "size": 10,
             "solidity": 0.2
            },
            "type": "scatter"
           }
          ],
          "scatter3d": [
           {
            "line": {
             "colorbar": {
              "outlinewidth": 0,
              "ticks": ""
             }
            },
            "marker": {
             "colorbar": {
              "outlinewidth": 0,
              "ticks": ""
             }
            },
            "type": "scatter3d"
           }
          ],
          "scattercarpet": [
           {
            "marker": {
             "colorbar": {
              "outlinewidth": 0,
              "ticks": ""
             }
            },
            "type": "scattercarpet"
           }
          ],
          "scattergeo": [
           {
            "marker": {
             "colorbar": {
              "outlinewidth": 0,
              "ticks": ""
             }
            },
            "type": "scattergeo"
           }
          ],
          "scattergl": [
           {
            "marker": {
             "colorbar": {
              "outlinewidth": 0,
              "ticks": ""
             }
            },
            "type": "scattergl"
           }
          ],
          "scattermapbox": [
           {
            "marker": {
             "colorbar": {
              "outlinewidth": 0,
              "ticks": ""
             }
            },
            "type": "scattermapbox"
           }
          ],
          "scatterpolar": [
           {
            "marker": {
             "colorbar": {
              "outlinewidth": 0,
              "ticks": ""
             }
            },
            "type": "scatterpolar"
           }
          ],
          "scatterpolargl": [
           {
            "marker": {
             "colorbar": {
              "outlinewidth": 0,
              "ticks": ""
             }
            },
            "type": "scatterpolargl"
           }
          ],
          "scatterternary": [
           {
            "marker": {
             "colorbar": {
              "outlinewidth": 0,
              "ticks": ""
             }
            },
            "type": "scatterternary"
           }
          ],
          "surface": [
           {
            "colorbar": {
             "outlinewidth": 0,
             "ticks": ""
            },
            "colorscale": [
             [
              0,
              "#0d0887"
             ],
             [
              0.1111111111111111,
              "#46039f"
             ],
             [
              0.2222222222222222,
              "#7201a8"
             ],
             [
              0.3333333333333333,
              "#9c179e"
             ],
             [
              0.4444444444444444,
              "#bd3786"
             ],
             [
              0.5555555555555556,
              "#d8576b"
             ],
             [
              0.6666666666666666,
              "#ed7953"
             ],
             [
              0.7777777777777778,
              "#fb9f3a"
             ],
             [
              0.8888888888888888,
              "#fdca26"
             ],
             [
              1,
              "#f0f921"
             ]
            ],
            "type": "surface"
           }
          ],
          "table": [
           {
            "cells": {
             "fill": {
              "color": "#EBF0F8"
             },
             "line": {
              "color": "white"
             }
            },
            "header": {
             "fill": {
              "color": "#C8D4E3"
             },
             "line": {
              "color": "white"
             }
            },
            "type": "table"
           }
          ]
         },
         "layout": {
          "annotationdefaults": {
           "arrowcolor": "#2a3f5f",
           "arrowhead": 0,
           "arrowwidth": 1
          },
          "autotypenumbers": "strict",
          "coloraxis": {
           "colorbar": {
            "outlinewidth": 0,
            "ticks": ""
           }
          },
          "colorscale": {
           "diverging": [
            [
             0,
             "#8e0152"
            ],
            [
             0.1,
             "#c51b7d"
            ],
            [
             0.2,
             "#de77ae"
            ],
            [
             0.3,
             "#f1b6da"
            ],
            [
             0.4,
             "#fde0ef"
            ],
            [
             0.5,
             "#f7f7f7"
            ],
            [
             0.6,
             "#e6f5d0"
            ],
            [
             0.7,
             "#b8e186"
            ],
            [
             0.8,
             "#7fbc41"
            ],
            [
             0.9,
             "#4d9221"
            ],
            [
             1,
             "#276419"
            ]
           ],
           "sequential": [
            [
             0,
             "#0d0887"
            ],
            [
             0.1111111111111111,
             "#46039f"
            ],
            [
             0.2222222222222222,
             "#7201a8"
            ],
            [
             0.3333333333333333,
             "#9c179e"
            ],
            [
             0.4444444444444444,
             "#bd3786"
            ],
            [
             0.5555555555555556,
             "#d8576b"
            ],
            [
             0.6666666666666666,
             "#ed7953"
            ],
            [
             0.7777777777777778,
             "#fb9f3a"
            ],
            [
             0.8888888888888888,
             "#fdca26"
            ],
            [
             1,
             "#f0f921"
            ]
           ],
           "sequentialminus": [
            [
             0,
             "#0d0887"
            ],
            [
             0.1111111111111111,
             "#46039f"
            ],
            [
             0.2222222222222222,
             "#7201a8"
            ],
            [
             0.3333333333333333,
             "#9c179e"
            ],
            [
             0.4444444444444444,
             "#bd3786"
            ],
            [
             0.5555555555555556,
             "#d8576b"
            ],
            [
             0.6666666666666666,
             "#ed7953"
            ],
            [
             0.7777777777777778,
             "#fb9f3a"
            ],
            [
             0.8888888888888888,
             "#fdca26"
            ],
            [
             1,
             "#f0f921"
            ]
           ]
          },
          "colorway": [
           "#636efa",
           "#EF553B",
           "#00cc96",
           "#ab63fa",
           "#FFA15A",
           "#19d3f3",
           "#FF6692",
           "#B6E880",
           "#FF97FF",
           "#FECB52"
          ],
          "font": {
           "color": "#2a3f5f"
          },
          "geo": {
           "bgcolor": "white",
           "lakecolor": "white",
           "landcolor": "#E5ECF6",
           "showlakes": true,
           "showland": true,
           "subunitcolor": "white"
          },
          "hoverlabel": {
           "align": "left"
          },
          "hovermode": "closest",
          "mapbox": {
           "style": "light"
          },
          "paper_bgcolor": "white",
          "plot_bgcolor": "#E5ECF6",
          "polar": {
           "angularaxis": {
            "gridcolor": "white",
            "linecolor": "white",
            "ticks": ""
           },
           "bgcolor": "#E5ECF6",
           "radialaxis": {
            "gridcolor": "white",
            "linecolor": "white",
            "ticks": ""
           }
          },
          "scene": {
           "xaxis": {
            "backgroundcolor": "#E5ECF6",
            "gridcolor": "white",
            "gridwidth": 2,
            "linecolor": "white",
            "showbackground": true,
            "ticks": "",
            "zerolinecolor": "white"
           },
           "yaxis": {
            "backgroundcolor": "#E5ECF6",
            "gridcolor": "white",
            "gridwidth": 2,
            "linecolor": "white",
            "showbackground": true,
            "ticks": "",
            "zerolinecolor": "white"
           },
           "zaxis": {
            "backgroundcolor": "#E5ECF6",
            "gridcolor": "white",
            "gridwidth": 2,
            "linecolor": "white",
            "showbackground": true,
            "ticks": "",
            "zerolinecolor": "white"
           }
          },
          "shapedefaults": {
           "line": {
            "color": "#2a3f5f"
           }
          },
          "ternary": {
           "aaxis": {
            "gridcolor": "white",
            "linecolor": "white",
            "ticks": ""
           },
           "baxis": {
            "gridcolor": "white",
            "linecolor": "white",
            "ticks": ""
           },
           "bgcolor": "#E5ECF6",
           "caxis": {
            "gridcolor": "white",
            "linecolor": "white",
            "ticks": ""
           }
          },
          "title": {
           "x": 0.05
          },
          "xaxis": {
           "automargin": true,
           "gridcolor": "white",
           "linecolor": "white",
           "ticks": "",
           "title": {
            "standoff": 15
           },
           "zerolinecolor": "white",
           "zerolinewidth": 2
          },
          "yaxis": {
           "automargin": true,
           "gridcolor": "white",
           "linecolor": "white",
           "ticks": "",
           "title": {
            "standoff": 15
           },
           "zerolinecolor": "white",
           "zerolinewidth": 2
          }
         }
        },
        "title": {
         "text": "Imbalance non recentré"
        },
        "xaxis": {
         "title": {
          "text": "imbalance"
         }
        },
        "yaxis": {
         "title": {
          "text": "delta_price"
         }
        }
       }
      }
     },
     "metadata": {},
     "output_type": "display_data"
    }
   ],
   "source": [
    "fig = go.Figure()\n",
    "fig.add_trace(go.Scatter(x=imb_trie_means,y=price_trie_means + 1.96 * imb_trie_std,mode='lines',line=dict(width=0),name='Upper Bound',showlegend=False))\n",
    "fig.add_trace(go.Scatter(x=imb_trie_means,y=price_trie_means - 1.96 * imb_trie_std,mode='lines',line=dict(width=0),fill='tonexty',fillcolor='blue',name='Intervalle de confiance à 95%',showlegend=True))\n",
    "fig.add_trace(go.Scatter(x=imb_trie_means,y=price_trie_means,mode='lines',name='Prix',line=dict(color='red'),showlegend=True))\n",
    "fig.update_layout(title='Imbalance non recentré',xaxis_title='imbalance',yaxis_title='delta_price',showlegend=True)\n",
    "fig.show()"
   ]
  },
  {
   "cell_type": "code",
   "execution_count": 5,
   "metadata": {},
   "outputs": [
    {
     "data": {
      "application/vnd.plotly.v1+json": {
       "config": {
        "plotlyServerURL": "https://plot.ly"
       },
       "data": [
        {
         "mode": "lines",
         "name": "Density Curve",
         "type": "scatter",
         "x": [
          -0.8216666666666667,
          -0.765,
          -0.7083333333333333,
          -0.6516666666666666,
          -0.595,
          -0.5383333333333333,
          -0.4816666666666667,
          -0.425,
          -0.3683333333333333,
          -0.31166666666666665,
          -0.255,
          -0.19833333333333336,
          -0.14166666666666672,
          -0.08500000000000002,
          -0.02833333333333332,
          0.02833333333333332,
          0.08499999999999996,
          0.14166666666666666,
          0.19833333333333336,
          0.255,
          0.31166666666666665,
          0.3683333333333333,
          0.42499999999999993,
          0.4816666666666666,
          0.5383333333333332,
          0.5949999999999999,
          0.6516666666666666,
          0.7083333333333334,
          0.765,
          0.8216666666666667
         ],
         "y": [
          81123,
          93719,
          107160,
          122909,
          137521,
          149406,
          167737,
          178937,
          183382,
          201614,
          203011,
          204922,
          205785,
          207543,
          202879,
          213473,
          205700,
          205077,
          204838,
          201941,
          201069,
          185026,
          179743,
          170685,
          153598,
          141946,
          127280,
          111452,
          97588,
          85708
         ]
        }
       ],
       "layout": {
        "showlegend": false,
        "template": {
         "data": {
          "bar": [
           {
            "error_x": {
             "color": "#2a3f5f"
            },
            "error_y": {
             "color": "#2a3f5f"
            },
            "marker": {
             "line": {
              "color": "#E5ECF6",
              "width": 0.5
             },
             "pattern": {
              "fillmode": "overlay",
              "size": 10,
              "solidity": 0.2
             }
            },
            "type": "bar"
           }
          ],
          "barpolar": [
           {
            "marker": {
             "line": {
              "color": "#E5ECF6",
              "width": 0.5
             },
             "pattern": {
              "fillmode": "overlay",
              "size": 10,
              "solidity": 0.2
             }
            },
            "type": "barpolar"
           }
          ],
          "carpet": [
           {
            "aaxis": {
             "endlinecolor": "#2a3f5f",
             "gridcolor": "white",
             "linecolor": "white",
             "minorgridcolor": "white",
             "startlinecolor": "#2a3f5f"
            },
            "baxis": {
             "endlinecolor": "#2a3f5f",
             "gridcolor": "white",
             "linecolor": "white",
             "minorgridcolor": "white",
             "startlinecolor": "#2a3f5f"
            },
            "type": "carpet"
           }
          ],
          "choropleth": [
           {
            "colorbar": {
             "outlinewidth": 0,
             "ticks": ""
            },
            "type": "choropleth"
           }
          ],
          "contour": [
           {
            "colorbar": {
             "outlinewidth": 0,
             "ticks": ""
            },
            "colorscale": [
             [
              0,
              "#0d0887"
             ],
             [
              0.1111111111111111,
              "#46039f"
             ],
             [
              0.2222222222222222,
              "#7201a8"
             ],
             [
              0.3333333333333333,
              "#9c179e"
             ],
             [
              0.4444444444444444,
              "#bd3786"
             ],
             [
              0.5555555555555556,
              "#d8576b"
             ],
             [
              0.6666666666666666,
              "#ed7953"
             ],
             [
              0.7777777777777778,
              "#fb9f3a"
             ],
             [
              0.8888888888888888,
              "#fdca26"
             ],
             [
              1,
              "#f0f921"
             ]
            ],
            "type": "contour"
           }
          ],
          "contourcarpet": [
           {
            "colorbar": {
             "outlinewidth": 0,
             "ticks": ""
            },
            "type": "contourcarpet"
           }
          ],
          "heatmap": [
           {
            "colorbar": {
             "outlinewidth": 0,
             "ticks": ""
            },
            "colorscale": [
             [
              0,
              "#0d0887"
             ],
             [
              0.1111111111111111,
              "#46039f"
             ],
             [
              0.2222222222222222,
              "#7201a8"
             ],
             [
              0.3333333333333333,
              "#9c179e"
             ],
             [
              0.4444444444444444,
              "#bd3786"
             ],
             [
              0.5555555555555556,
              "#d8576b"
             ],
             [
              0.6666666666666666,
              "#ed7953"
             ],
             [
              0.7777777777777778,
              "#fb9f3a"
             ],
             [
              0.8888888888888888,
              "#fdca26"
             ],
             [
              1,
              "#f0f921"
             ]
            ],
            "type": "heatmap"
           }
          ],
          "heatmapgl": [
           {
            "colorbar": {
             "outlinewidth": 0,
             "ticks": ""
            },
            "colorscale": [
             [
              0,
              "#0d0887"
             ],
             [
              0.1111111111111111,
              "#46039f"
             ],
             [
              0.2222222222222222,
              "#7201a8"
             ],
             [
              0.3333333333333333,
              "#9c179e"
             ],
             [
              0.4444444444444444,
              "#bd3786"
             ],
             [
              0.5555555555555556,
              "#d8576b"
             ],
             [
              0.6666666666666666,
              "#ed7953"
             ],
             [
              0.7777777777777778,
              "#fb9f3a"
             ],
             [
              0.8888888888888888,
              "#fdca26"
             ],
             [
              1,
              "#f0f921"
             ]
            ],
            "type": "heatmapgl"
           }
          ],
          "histogram": [
           {
            "marker": {
             "pattern": {
              "fillmode": "overlay",
              "size": 10,
              "solidity": 0.2
             }
            },
            "type": "histogram"
           }
          ],
          "histogram2d": [
           {
            "colorbar": {
             "outlinewidth": 0,
             "ticks": ""
            },
            "colorscale": [
             [
              0,
              "#0d0887"
             ],
             [
              0.1111111111111111,
              "#46039f"
             ],
             [
              0.2222222222222222,
              "#7201a8"
             ],
             [
              0.3333333333333333,
              "#9c179e"
             ],
             [
              0.4444444444444444,
              "#bd3786"
             ],
             [
              0.5555555555555556,
              "#d8576b"
             ],
             [
              0.6666666666666666,
              "#ed7953"
             ],
             [
              0.7777777777777778,
              "#fb9f3a"
             ],
             [
              0.8888888888888888,
              "#fdca26"
             ],
             [
              1,
              "#f0f921"
             ]
            ],
            "type": "histogram2d"
           }
          ],
          "histogram2dcontour": [
           {
            "colorbar": {
             "outlinewidth": 0,
             "ticks": ""
            },
            "colorscale": [
             [
              0,
              "#0d0887"
             ],
             [
              0.1111111111111111,
              "#46039f"
             ],
             [
              0.2222222222222222,
              "#7201a8"
             ],
             [
              0.3333333333333333,
              "#9c179e"
             ],
             [
              0.4444444444444444,
              "#bd3786"
             ],
             [
              0.5555555555555556,
              "#d8576b"
             ],
             [
              0.6666666666666666,
              "#ed7953"
             ],
             [
              0.7777777777777778,
              "#fb9f3a"
             ],
             [
              0.8888888888888888,
              "#fdca26"
             ],
             [
              1,
              "#f0f921"
             ]
            ],
            "type": "histogram2dcontour"
           }
          ],
          "mesh3d": [
           {
            "colorbar": {
             "outlinewidth": 0,
             "ticks": ""
            },
            "type": "mesh3d"
           }
          ],
          "parcoords": [
           {
            "line": {
             "colorbar": {
              "outlinewidth": 0,
              "ticks": ""
             }
            },
            "type": "parcoords"
           }
          ],
          "pie": [
           {
            "automargin": true,
            "type": "pie"
           }
          ],
          "scatter": [
           {
            "fillpattern": {
             "fillmode": "overlay",
             "size": 10,
             "solidity": 0.2
            },
            "type": "scatter"
           }
          ],
          "scatter3d": [
           {
            "line": {
             "colorbar": {
              "outlinewidth": 0,
              "ticks": ""
             }
            },
            "marker": {
             "colorbar": {
              "outlinewidth": 0,
              "ticks": ""
             }
            },
            "type": "scatter3d"
           }
          ],
          "scattercarpet": [
           {
            "marker": {
             "colorbar": {
              "outlinewidth": 0,
              "ticks": ""
             }
            },
            "type": "scattercarpet"
           }
          ],
          "scattergeo": [
           {
            "marker": {
             "colorbar": {
              "outlinewidth": 0,
              "ticks": ""
             }
            },
            "type": "scattergeo"
           }
          ],
          "scattergl": [
           {
            "marker": {
             "colorbar": {
              "outlinewidth": 0,
              "ticks": ""
             }
            },
            "type": "scattergl"
           }
          ],
          "scattermapbox": [
           {
            "marker": {
             "colorbar": {
              "outlinewidth": 0,
              "ticks": ""
             }
            },
            "type": "scattermapbox"
           }
          ],
          "scatterpolar": [
           {
            "marker": {
             "colorbar": {
              "outlinewidth": 0,
              "ticks": ""
             }
            },
            "type": "scatterpolar"
           }
          ],
          "scatterpolargl": [
           {
            "marker": {
             "colorbar": {
              "outlinewidth": 0,
              "ticks": ""
             }
            },
            "type": "scatterpolargl"
           }
          ],
          "scatterternary": [
           {
            "marker": {
             "colorbar": {
              "outlinewidth": 0,
              "ticks": ""
             }
            },
            "type": "scatterternary"
           }
          ],
          "surface": [
           {
            "colorbar": {
             "outlinewidth": 0,
             "ticks": ""
            },
            "colorscale": [
             [
              0,
              "#0d0887"
             ],
             [
              0.1111111111111111,
              "#46039f"
             ],
             [
              0.2222222222222222,
              "#7201a8"
             ],
             [
              0.3333333333333333,
              "#9c179e"
             ],
             [
              0.4444444444444444,
              "#bd3786"
             ],
             [
              0.5555555555555556,
              "#d8576b"
             ],
             [
              0.6666666666666666,
              "#ed7953"
             ],
             [
              0.7777777777777778,
              "#fb9f3a"
             ],
             [
              0.8888888888888888,
              "#fdca26"
             ],
             [
              1,
              "#f0f921"
             ]
            ],
            "type": "surface"
           }
          ],
          "table": [
           {
            "cells": {
             "fill": {
              "color": "#EBF0F8"
             },
             "line": {
              "color": "white"
             }
            },
            "header": {
             "fill": {
              "color": "#C8D4E3"
             },
             "line": {
              "color": "white"
             }
            },
            "type": "table"
           }
          ]
         },
         "layout": {
          "annotationdefaults": {
           "arrowcolor": "#2a3f5f",
           "arrowhead": 0,
           "arrowwidth": 1
          },
          "autotypenumbers": "strict",
          "coloraxis": {
           "colorbar": {
            "outlinewidth": 0,
            "ticks": ""
           }
          },
          "colorscale": {
           "diverging": [
            [
             0,
             "#8e0152"
            ],
            [
             0.1,
             "#c51b7d"
            ],
            [
             0.2,
             "#de77ae"
            ],
            [
             0.3,
             "#f1b6da"
            ],
            [
             0.4,
             "#fde0ef"
            ],
            [
             0.5,
             "#f7f7f7"
            ],
            [
             0.6,
             "#e6f5d0"
            ],
            [
             0.7,
             "#b8e186"
            ],
            [
             0.8,
             "#7fbc41"
            ],
            [
             0.9,
             "#4d9221"
            ],
            [
             1,
             "#276419"
            ]
           ],
           "sequential": [
            [
             0,
             "#0d0887"
            ],
            [
             0.1111111111111111,
             "#46039f"
            ],
            [
             0.2222222222222222,
             "#7201a8"
            ],
            [
             0.3333333333333333,
             "#9c179e"
            ],
            [
             0.4444444444444444,
             "#bd3786"
            ],
            [
             0.5555555555555556,
             "#d8576b"
            ],
            [
             0.6666666666666666,
             "#ed7953"
            ],
            [
             0.7777777777777778,
             "#fb9f3a"
            ],
            [
             0.8888888888888888,
             "#fdca26"
            ],
            [
             1,
             "#f0f921"
            ]
           ],
           "sequentialminus": [
            [
             0,
             "#0d0887"
            ],
            [
             0.1111111111111111,
             "#46039f"
            ],
            [
             0.2222222222222222,
             "#7201a8"
            ],
            [
             0.3333333333333333,
             "#9c179e"
            ],
            [
             0.4444444444444444,
             "#bd3786"
            ],
            [
             0.5555555555555556,
             "#d8576b"
            ],
            [
             0.6666666666666666,
             "#ed7953"
            ],
            [
             0.7777777777777778,
             "#fb9f3a"
            ],
            [
             0.8888888888888888,
             "#fdca26"
            ],
            [
             1,
             "#f0f921"
            ]
           ]
          },
          "colorway": [
           "#636efa",
           "#EF553B",
           "#00cc96",
           "#ab63fa",
           "#FFA15A",
           "#19d3f3",
           "#FF6692",
           "#B6E880",
           "#FF97FF",
           "#FECB52"
          ],
          "font": {
           "color": "#2a3f5f"
          },
          "geo": {
           "bgcolor": "white",
           "lakecolor": "white",
           "landcolor": "#E5ECF6",
           "showlakes": true,
           "showland": true,
           "subunitcolor": "white"
          },
          "hoverlabel": {
           "align": "left"
          },
          "hovermode": "closest",
          "mapbox": {
           "style": "light"
          },
          "paper_bgcolor": "white",
          "plot_bgcolor": "#E5ECF6",
          "polar": {
           "angularaxis": {
            "gridcolor": "white",
            "linecolor": "white",
            "ticks": ""
           },
           "bgcolor": "#E5ECF6",
           "radialaxis": {
            "gridcolor": "white",
            "linecolor": "white",
            "ticks": ""
           }
          },
          "scene": {
           "xaxis": {
            "backgroundcolor": "#E5ECF6",
            "gridcolor": "white",
            "gridwidth": 2,
            "linecolor": "white",
            "showbackground": true,
            "ticks": "",
            "zerolinecolor": "white"
           },
           "yaxis": {
            "backgroundcolor": "#E5ECF6",
            "gridcolor": "white",
            "gridwidth": 2,
            "linecolor": "white",
            "showbackground": true,
            "ticks": "",
            "zerolinecolor": "white"
           },
           "zaxis": {
            "backgroundcolor": "#E5ECF6",
            "gridcolor": "white",
            "gridwidth": 2,
            "linecolor": "white",
            "showbackground": true,
            "ticks": "",
            "zerolinecolor": "white"
           }
          },
          "shapedefaults": {
           "line": {
            "color": "#2a3f5f"
           }
          },
          "ternary": {
           "aaxis": {
            "gridcolor": "white",
            "linecolor": "white",
            "ticks": ""
           },
           "baxis": {
            "gridcolor": "white",
            "linecolor": "white",
            "ticks": ""
           },
           "bgcolor": "#E5ECF6",
           "caxis": {
            "gridcolor": "white",
            "linecolor": "white",
            "ticks": ""
           }
          },
          "title": {
           "x": 0.05
          },
          "xaxis": {
           "automargin": true,
           "gridcolor": "white",
           "linecolor": "white",
           "ticks": "",
           "title": {
            "standoff": 15
           },
           "zerolinecolor": "white",
           "zerolinewidth": 2
          },
          "yaxis": {
           "automargin": true,
           "gridcolor": "white",
           "linecolor": "white",
           "ticks": "",
           "title": {
            "standoff": 15
           },
           "zerolinecolor": "white",
           "zerolinewidth": 2
          }
         }
        },
        "title": {
         "text": "Courbe de distribution de l'imbalance (tous event confondus)"
        },
        "xaxis": {
         "title": {
          "text": "imbalance"
         }
        },
        "yaxis": {
         "title": {
          "text": "number of events"
         }
        }
       }
      }
     },
     "metadata": {},
     "output_type": "display_data"
    }
   ],
   "source": [
    "nb_bins = 30\n",
    "counts, bin_edges = np.histogram(imb_trie, bins=nb_bins)\n",
    "bin_centers = (bin_edges[:-1]+bin_edges[1:])/2\n",
    "\n",
    "fig = go.Figure()\n",
    "fig.add_trace(go.Scatter(x=bin_centers,y=counts,mode='lines',name='Density Curve'))\n",
    "fig.update_layout(title=\"Courbe de distribution de l'imbalance (tous event confondus)\",xaxis_title='imbalance',yaxis_title='number of events',showlegend=False)\n",
    "fig.show()"
   ]
  },
  {
   "cell_type": "code",
   "execution_count": 6,
   "metadata": {},
   "outputs": [
    {
     "name": "stderr",
     "output_type": "stream",
     "text": [
      "100%|██████████| 65/65 [00:15<00:00,  4.33it/s]"
     ]
    },
    {
     "name": "stdout",
     "output_type": "stream",
     "text": [
      "A quel point c'est long: 140795\n"
     ]
    },
    {
     "name": "stderr",
     "output_type": "stream",
     "text": [
      "\n"
     ]
    }
   ],
   "source": [
    "imb_trade = np.array([])\n",
    "price_trade = np.array([])\n",
    "imb_add = np.array([])\n",
    "price_add = np.array([])\n",
    "imb_cancel = np.array([])\n",
    "price_cancel = np.array([])\n",
    "limite = 0\n",
    "for f in tqdm(files_csv):\n",
    "    df = pd.read_csv(f)\n",
    "    df = df[:-100]\n",
    "    df_trade = df[df['action'] == 'T']\n",
    "    df_cancel = df[df['action'] == 'C']\n",
    "    df_add = df[df['action'] == 'A']\n",
    "    imb_trade = np.concatenate([imb_trade, df_trade['imbalance'].to_numpy()])\n",
    "    price_trade = np.concatenate([price_trade, df_trade['Mean_price_diff'].to_numpy()])\n",
    "    imb_add = np.concatenate([imb_add, df_add['imbalance'].to_numpy()])\n",
    "    price_add = np.concatenate([price_add, df_add['Mean_price_diff'].to_numpy()])\n",
    "    imb_cancel = np.concatenate([imb_cancel, df_cancel['imbalance'].to_numpy()])\n",
    "    price_cancel = np.concatenate([price_cancel, df_cancel['Mean_price_diff'].to_numpy()])\n",
    "    \n",
    "imb_tot = [imb_trade,imb_add,imb_cancel]\n",
    "price_tot = [price_trade,price_add,price_cancel]\n",
    "\n",
    "print(f\"A quel point c'est long: {len(imb_trade)}\")"
   ]
  },
  {
   "cell_type": "code",
   "execution_count": 7,
   "metadata": {},
   "outputs": [],
   "source": [
    "def visu_imbalance_respec(imb_tot, price_tot, i , string, group_size, bound = 0.95):\n",
    "    indices_trie = np.argsort(imb_tot[i])\n",
    "    imb_trie = imb_tot[i][indices_trie]\n",
    "    price_trie = price_tot[i][indices_trie]\n",
    "    mask = (imb_trie >= -bound)&(imb_trie <= bound)\n",
    "    imb_trie = imb_trie[mask]\n",
    "    price_trie = price_trie[mask]\n",
    "    imb_trie_groups = [imb_trie[i:i+group_size] for i in range(0, len(imb_trie), group_size)]\n",
    "    price_trie_groups = [price_trie[i:i+group_size] for i in range(0, len(price_trie), group_size)]\n",
    "    imb_trie_means = np.array([np.mean(group) for group in imb_trie_groups])\n",
    "    price_trie_means = np.array([np.mean(group) for group in price_trie_groups])\n",
    "    imb_trie_std = np.array([np.std(group)/np.sqrt(len(group)) for group in price_trie_groups])\n",
    "\n",
    "    fig = go.Figure()\n",
    "    fig.add_trace(go.Scatter(x=imb_trie_means,y=price_trie_means + 1.96 * imb_trie_std,mode='lines',line=dict(width=0),name='Upper Bound',showlegend=False))\n",
    "    fig.add_trace(go.Scatter(x=imb_trie_means,y=price_trie_means - 1.96 * imb_trie_std,mode='lines',line=dict(width=0),fill='tonexty',fillcolor='blue',name='Intervalle de confiance à 95%',showlegend=True))\n",
    "    fig.add_trace(go.Scatter(x=imb_trie_means,y=price_trie_means,mode='lines',name='Prix',line=dict(color='red'),showlegend=True))\n",
    "    fig.update_layout(title=f'Imbalance des {string}',xaxis_title='imbalance',yaxis_title='delta_price',showlegend=True)\n",
    "    fig.show()\n",
    "\n",
    "    nb_bins = 20\n",
    "    counts, bin_edges = np.histogram(imb_trie, bins=nb_bins)\n",
    "    bin_centers = (bin_edges[:-1]+bin_edges[1:])/2\n",
    "\n",
    "    fig = go.Figure()\n",
    "    fig.add_trace(go.Scatter(x=bin_centers,y=counts,mode='lines',name='Density Curve'))\n",
    "    fig.update_layout(title=f\"Courbe de distribution de l'imbalance des {string}\",xaxis_title='imbalance',yaxis_title='number of events',showlegend=False)\n",
    "    fig.show()\n",
    "\n",
    "def visu_event_vs_imbalance(imb_tot, price_tot, string, bound = 0.9):\n",
    "    fig = go.Figure()\n",
    "    nb_bins = 25\n",
    "    counts_tot = []\n",
    "    bins_centers_tot = []\n",
    "    for i in range (len(imb_tot)):\n",
    "        indices_trie = np.argsort(imb_tot[i])\n",
    "        imb_trie = imb_tot[i][indices_trie]\n",
    "        price_trie = price_tot[i][indices_trie]\n",
    "        mask = (imb_trie >= -bound)&(imb_trie <= bound)\n",
    "        imb_trie = imb_trie[mask]\n",
    "        price_trie = price_trie[mask]\n",
    "        counts, bin_edges = np.histogram(imb_trie, bins=nb_bins)\n",
    "        counts_tot.append(counts)\n",
    "        bins_centers_tot.append((bin_edges[:-1]+bin_edges[1:])/2)\n",
    "    counts_total = np.array(counts_tot[0])+np.array(counts_tot[1])+np.array(counts_tot[2])\n",
    "    for i in range (len(imb_tot)):\n",
    "        fig.add_trace(go.Scatter(x=bins_centers_tot[i],y=np.array(counts_tot[i])/counts_total,mode='lines',name=f'{string[i]}'))\n",
    "    fig.update_layout(title=\"Courbes de distribution de l'imbalance (tous les event))\",xaxis_title='imbalance',yaxis_title=\"Probabilité de l'event\",showlegend=True)\n",
    "    fig.show()"
   ]
  },
  {
   "cell_type": "code",
   "execution_count": 8,
   "metadata": {},
   "outputs": [
    {
     "data": {
      "application/vnd.plotly.v1+json": {
       "config": {
        "plotlyServerURL": "https://plot.ly"
       },
       "data": [
        {
         "line": {
          "width": 0
         },
         "mode": "lines",
         "name": "Upper Bound",
         "showlegend": false,
         "type": "scatter",
         "x": [
          -0.8978570030523686,
          -0.756023063312476,
          -0.5568114643232397,
          -0.3516769947835675,
          -0.15571393054883673,
          0.04321365022754417,
          0.2682237026001817,
          0.5257341448605684,
          0.7546627562733993,
          0.8940985323551002,
          0.9465604872233624
         ],
         "y": [
          -0.000027531708685580344,
          0.00025587462375007254,
          0.001308117142455941,
          0.002098523089053369,
          0.002620190409503567,
          0.002609768807820759,
          0.0019367300826110432,
          0.000737131077736616,
          0.00011413984888106466,
          0.000017952287878772944,
          0.00002640437278210643
         ]
        },
        {
         "fill": "tonexty",
         "fillcolor": "blue",
         "line": {
          "width": 0
         },
         "mode": "lines",
         "name": "Intervalle de confiance à 95%",
         "showlegend": true,
         "type": "scatter",
         "x": [
          -0.8978570030523686,
          -0.756023063312476,
          -0.5568114643232397,
          -0.3516769947835675,
          -0.15571393054883673,
          0.04321365022754417,
          0.2682237026001817,
          0.5257341448605684,
          0.7546627562733993,
          0.8940985323551002,
          0.9465604872233624
         ],
         "y": [
          -0.00006346829131442958,
          0.00019512537624987895,
          0.0012098828575440037,
          0.0019924769109466592,
          0.002515809590496246,
          0.0025052311921793077,
          0.0018322699173888885,
          0.0006558689222633594,
          0.00006586015111896167,
          -0.000019952287878779647,
          -0.00008650052662825594
         ]
        },
        {
         "line": {
          "color": "red"
         },
         "mode": "lines",
         "name": "Prix",
         "showlegend": true,
         "type": "scatter",
         "x": [
          -0.8978570030523686,
          -0.756023063312476,
          -0.5568114643232397,
          -0.3516769947835675,
          -0.15571393054883673,
          0.04321365022754417,
          0.2682237026001817,
          0.5257341448605684,
          0.7546627562733993,
          0.8940985323551002,
          0.9465604872233624
         ],
         "y": [
          -0.00004550000000000496,
          0.00022549999999997575,
          0.0012589999999999724,
          0.002045500000000014,
          0.0025679999999999067,
          0.0025575000000000333,
          0.0018844999999999656,
          0.0006964999999999877,
          0.00009000000000001317,
          -1.000000000003352e-6,
          -0.000030048076923074753
         ]
        }
       ],
       "layout": {
        "showlegend": true,
        "template": {
         "data": {
          "bar": [
           {
            "error_x": {
             "color": "#2a3f5f"
            },
            "error_y": {
             "color": "#2a3f5f"
            },
            "marker": {
             "line": {
              "color": "#E5ECF6",
              "width": 0.5
             },
             "pattern": {
              "fillmode": "overlay",
              "size": 10,
              "solidity": 0.2
             }
            },
            "type": "bar"
           }
          ],
          "barpolar": [
           {
            "marker": {
             "line": {
              "color": "#E5ECF6",
              "width": 0.5
             },
             "pattern": {
              "fillmode": "overlay",
              "size": 10,
              "solidity": 0.2
             }
            },
            "type": "barpolar"
           }
          ],
          "carpet": [
           {
            "aaxis": {
             "endlinecolor": "#2a3f5f",
             "gridcolor": "white",
             "linecolor": "white",
             "minorgridcolor": "white",
             "startlinecolor": "#2a3f5f"
            },
            "baxis": {
             "endlinecolor": "#2a3f5f",
             "gridcolor": "white",
             "linecolor": "white",
             "minorgridcolor": "white",
             "startlinecolor": "#2a3f5f"
            },
            "type": "carpet"
           }
          ],
          "choropleth": [
           {
            "colorbar": {
             "outlinewidth": 0,
             "ticks": ""
            },
            "type": "choropleth"
           }
          ],
          "contour": [
           {
            "colorbar": {
             "outlinewidth": 0,
             "ticks": ""
            },
            "colorscale": [
             [
              0,
              "#0d0887"
             ],
             [
              0.1111111111111111,
              "#46039f"
             ],
             [
              0.2222222222222222,
              "#7201a8"
             ],
             [
              0.3333333333333333,
              "#9c179e"
             ],
             [
              0.4444444444444444,
              "#bd3786"
             ],
             [
              0.5555555555555556,
              "#d8576b"
             ],
             [
              0.6666666666666666,
              "#ed7953"
             ],
             [
              0.7777777777777778,
              "#fb9f3a"
             ],
             [
              0.8888888888888888,
              "#fdca26"
             ],
             [
              1,
              "#f0f921"
             ]
            ],
            "type": "contour"
           }
          ],
          "contourcarpet": [
           {
            "colorbar": {
             "outlinewidth": 0,
             "ticks": ""
            },
            "type": "contourcarpet"
           }
          ],
          "heatmap": [
           {
            "colorbar": {
             "outlinewidth": 0,
             "ticks": ""
            },
            "colorscale": [
             [
              0,
              "#0d0887"
             ],
             [
              0.1111111111111111,
              "#46039f"
             ],
             [
              0.2222222222222222,
              "#7201a8"
             ],
             [
              0.3333333333333333,
              "#9c179e"
             ],
             [
              0.4444444444444444,
              "#bd3786"
             ],
             [
              0.5555555555555556,
              "#d8576b"
             ],
             [
              0.6666666666666666,
              "#ed7953"
             ],
             [
              0.7777777777777778,
              "#fb9f3a"
             ],
             [
              0.8888888888888888,
              "#fdca26"
             ],
             [
              1,
              "#f0f921"
             ]
            ],
            "type": "heatmap"
           }
          ],
          "heatmapgl": [
           {
            "colorbar": {
             "outlinewidth": 0,
             "ticks": ""
            },
            "colorscale": [
             [
              0,
              "#0d0887"
             ],
             [
              0.1111111111111111,
              "#46039f"
             ],
             [
              0.2222222222222222,
              "#7201a8"
             ],
             [
              0.3333333333333333,
              "#9c179e"
             ],
             [
              0.4444444444444444,
              "#bd3786"
             ],
             [
              0.5555555555555556,
              "#d8576b"
             ],
             [
              0.6666666666666666,
              "#ed7953"
             ],
             [
              0.7777777777777778,
              "#fb9f3a"
             ],
             [
              0.8888888888888888,
              "#fdca26"
             ],
             [
              1,
              "#f0f921"
             ]
            ],
            "type": "heatmapgl"
           }
          ],
          "histogram": [
           {
            "marker": {
             "pattern": {
              "fillmode": "overlay",
              "size": 10,
              "solidity": 0.2
             }
            },
            "type": "histogram"
           }
          ],
          "histogram2d": [
           {
            "colorbar": {
             "outlinewidth": 0,
             "ticks": ""
            },
            "colorscale": [
             [
              0,
              "#0d0887"
             ],
             [
              0.1111111111111111,
              "#46039f"
             ],
             [
              0.2222222222222222,
              "#7201a8"
             ],
             [
              0.3333333333333333,
              "#9c179e"
             ],
             [
              0.4444444444444444,
              "#bd3786"
             ],
             [
              0.5555555555555556,
              "#d8576b"
             ],
             [
              0.6666666666666666,
              "#ed7953"
             ],
             [
              0.7777777777777778,
              "#fb9f3a"
             ],
             [
              0.8888888888888888,
              "#fdca26"
             ],
             [
              1,
              "#f0f921"
             ]
            ],
            "type": "histogram2d"
           }
          ],
          "histogram2dcontour": [
           {
            "colorbar": {
             "outlinewidth": 0,
             "ticks": ""
            },
            "colorscale": [
             [
              0,
              "#0d0887"
             ],
             [
              0.1111111111111111,
              "#46039f"
             ],
             [
              0.2222222222222222,
              "#7201a8"
             ],
             [
              0.3333333333333333,
              "#9c179e"
             ],
             [
              0.4444444444444444,
              "#bd3786"
             ],
             [
              0.5555555555555556,
              "#d8576b"
             ],
             [
              0.6666666666666666,
              "#ed7953"
             ],
             [
              0.7777777777777778,
              "#fb9f3a"
             ],
             [
              0.8888888888888888,
              "#fdca26"
             ],
             [
              1,
              "#f0f921"
             ]
            ],
            "type": "histogram2dcontour"
           }
          ],
          "mesh3d": [
           {
            "colorbar": {
             "outlinewidth": 0,
             "ticks": ""
            },
            "type": "mesh3d"
           }
          ],
          "parcoords": [
           {
            "line": {
             "colorbar": {
              "outlinewidth": 0,
              "ticks": ""
             }
            },
            "type": "parcoords"
           }
          ],
          "pie": [
           {
            "automargin": true,
            "type": "pie"
           }
          ],
          "scatter": [
           {
            "fillpattern": {
             "fillmode": "overlay",
             "size": 10,
             "solidity": 0.2
            },
            "type": "scatter"
           }
          ],
          "scatter3d": [
           {
            "line": {
             "colorbar": {
              "outlinewidth": 0,
              "ticks": ""
             }
            },
            "marker": {
             "colorbar": {
              "outlinewidth": 0,
              "ticks": ""
             }
            },
            "type": "scatter3d"
           }
          ],
          "scattercarpet": [
           {
            "marker": {
             "colorbar": {
              "outlinewidth": 0,
              "ticks": ""
             }
            },
            "type": "scattercarpet"
           }
          ],
          "scattergeo": [
           {
            "marker": {
             "colorbar": {
              "outlinewidth": 0,
              "ticks": ""
             }
            },
            "type": "scattergeo"
           }
          ],
          "scattergl": [
           {
            "marker": {
             "colorbar": {
              "outlinewidth": 0,
              "ticks": ""
             }
            },
            "type": "scattergl"
           }
          ],
          "scattermapbox": [
           {
            "marker": {
             "colorbar": {
              "outlinewidth": 0,
              "ticks": ""
             }
            },
            "type": "scattermapbox"
           }
          ],
          "scatterpolar": [
           {
            "marker": {
             "colorbar": {
              "outlinewidth": 0,
              "ticks": ""
             }
            },
            "type": "scatterpolar"
           }
          ],
          "scatterpolargl": [
           {
            "marker": {
             "colorbar": {
              "outlinewidth": 0,
              "ticks": ""
             }
            },
            "type": "scatterpolargl"
           }
          ],
          "scatterternary": [
           {
            "marker": {
             "colorbar": {
              "outlinewidth": 0,
              "ticks": ""
             }
            },
            "type": "scatterternary"
           }
          ],
          "surface": [
           {
            "colorbar": {
             "outlinewidth": 0,
             "ticks": ""
            },
            "colorscale": [
             [
              0,
              "#0d0887"
             ],
             [
              0.1111111111111111,
              "#46039f"
             ],
             [
              0.2222222222222222,
              "#7201a8"
             ],
             [
              0.3333333333333333,
              "#9c179e"
             ],
             [
              0.4444444444444444,
              "#bd3786"
             ],
             [
              0.5555555555555556,
              "#d8576b"
             ],
             [
              0.6666666666666666,
              "#ed7953"
             ],
             [
              0.7777777777777778,
              "#fb9f3a"
             ],
             [
              0.8888888888888888,
              "#fdca26"
             ],
             [
              1,
              "#f0f921"
             ]
            ],
            "type": "surface"
           }
          ],
          "table": [
           {
            "cells": {
             "fill": {
              "color": "#EBF0F8"
             },
             "line": {
              "color": "white"
             }
            },
            "header": {
             "fill": {
              "color": "#C8D4E3"
             },
             "line": {
              "color": "white"
             }
            },
            "type": "table"
           }
          ]
         },
         "layout": {
          "annotationdefaults": {
           "arrowcolor": "#2a3f5f",
           "arrowhead": 0,
           "arrowwidth": 1
          },
          "autotypenumbers": "strict",
          "coloraxis": {
           "colorbar": {
            "outlinewidth": 0,
            "ticks": ""
           }
          },
          "colorscale": {
           "diverging": [
            [
             0,
             "#8e0152"
            ],
            [
             0.1,
             "#c51b7d"
            ],
            [
             0.2,
             "#de77ae"
            ],
            [
             0.3,
             "#f1b6da"
            ],
            [
             0.4,
             "#fde0ef"
            ],
            [
             0.5,
             "#f7f7f7"
            ],
            [
             0.6,
             "#e6f5d0"
            ],
            [
             0.7,
             "#b8e186"
            ],
            [
             0.8,
             "#7fbc41"
            ],
            [
             0.9,
             "#4d9221"
            ],
            [
             1,
             "#276419"
            ]
           ],
           "sequential": [
            [
             0,
             "#0d0887"
            ],
            [
             0.1111111111111111,
             "#46039f"
            ],
            [
             0.2222222222222222,
             "#7201a8"
            ],
            [
             0.3333333333333333,
             "#9c179e"
            ],
            [
             0.4444444444444444,
             "#bd3786"
            ],
            [
             0.5555555555555556,
             "#d8576b"
            ],
            [
             0.6666666666666666,
             "#ed7953"
            ],
            [
             0.7777777777777778,
             "#fb9f3a"
            ],
            [
             0.8888888888888888,
             "#fdca26"
            ],
            [
             1,
             "#f0f921"
            ]
           ],
           "sequentialminus": [
            [
             0,
             "#0d0887"
            ],
            [
             0.1111111111111111,
             "#46039f"
            ],
            [
             0.2222222222222222,
             "#7201a8"
            ],
            [
             0.3333333333333333,
             "#9c179e"
            ],
            [
             0.4444444444444444,
             "#bd3786"
            ],
            [
             0.5555555555555556,
             "#d8576b"
            ],
            [
             0.6666666666666666,
             "#ed7953"
            ],
            [
             0.7777777777777778,
             "#fb9f3a"
            ],
            [
             0.8888888888888888,
             "#fdca26"
            ],
            [
             1,
             "#f0f921"
            ]
           ]
          },
          "colorway": [
           "#636efa",
           "#EF553B",
           "#00cc96",
           "#ab63fa",
           "#FFA15A",
           "#19d3f3",
           "#FF6692",
           "#B6E880",
           "#FF97FF",
           "#FECB52"
          ],
          "font": {
           "color": "#2a3f5f"
          },
          "geo": {
           "bgcolor": "white",
           "lakecolor": "white",
           "landcolor": "#E5ECF6",
           "showlakes": true,
           "showland": true,
           "subunitcolor": "white"
          },
          "hoverlabel": {
           "align": "left"
          },
          "hovermode": "closest",
          "mapbox": {
           "style": "light"
          },
          "paper_bgcolor": "white",
          "plot_bgcolor": "#E5ECF6",
          "polar": {
           "angularaxis": {
            "gridcolor": "white",
            "linecolor": "white",
            "ticks": ""
           },
           "bgcolor": "#E5ECF6",
           "radialaxis": {
            "gridcolor": "white",
            "linecolor": "white",
            "ticks": ""
           }
          },
          "scene": {
           "xaxis": {
            "backgroundcolor": "#E5ECF6",
            "gridcolor": "white",
            "gridwidth": 2,
            "linecolor": "white",
            "showbackground": true,
            "ticks": "",
            "zerolinecolor": "white"
           },
           "yaxis": {
            "backgroundcolor": "#E5ECF6",
            "gridcolor": "white",
            "gridwidth": 2,
            "linecolor": "white",
            "showbackground": true,
            "ticks": "",
            "zerolinecolor": "white"
           },
           "zaxis": {
            "backgroundcolor": "#E5ECF6",
            "gridcolor": "white",
            "gridwidth": 2,
            "linecolor": "white",
            "showbackground": true,
            "ticks": "",
            "zerolinecolor": "white"
           }
          },
          "shapedefaults": {
           "line": {
            "color": "#2a3f5f"
           }
          },
          "ternary": {
           "aaxis": {
            "gridcolor": "white",
            "linecolor": "white",
            "ticks": ""
           },
           "baxis": {
            "gridcolor": "white",
            "linecolor": "white",
            "ticks": ""
           },
           "bgcolor": "#E5ECF6",
           "caxis": {
            "gridcolor": "white",
            "linecolor": "white",
            "ticks": ""
           }
          },
          "title": {
           "x": 0.05
          },
          "xaxis": {
           "automargin": true,
           "gridcolor": "white",
           "linecolor": "white",
           "ticks": "",
           "title": {
            "standoff": 15
           },
           "zerolinecolor": "white",
           "zerolinewidth": 2
          },
          "yaxis": {
           "automargin": true,
           "gridcolor": "white",
           "linecolor": "white",
           "ticks": "",
           "title": {
            "standoff": 15
           },
           "zerolinecolor": "white",
           "zerolinewidth": 2
          }
         }
        },
        "title": {
         "text": "Imbalance des trades"
        },
        "xaxis": {
         "title": {
          "text": "imbalance"
         }
        },
        "yaxis": {
         "title": {
          "text": "delta_price"
         }
        }
       }
      }
     },
     "metadata": {},
     "output_type": "display_data"
    },
    {
     "data": {
      "application/vnd.plotly.v1+json": {
       "config": {
        "plotlyServerURL": "https://plot.ly"
       },
       "data": [
        {
         "mode": "lines",
         "name": "Density Curve",
         "type": "scatter",
         "x": [
          -0.9025,
          -0.8075,
          -0.7124999999999999,
          -0.6174999999999999,
          -0.5225,
          -0.42749999999999994,
          -0.3324999999999999,
          -0.23749999999999993,
          -0.14249999999999996,
          -0.04749999999999999,
          0.04749999999999999,
          0.14250000000000007,
          0.23750000000000016,
          0.33250000000000013,
          0.4275000000000001,
          0.5225000000000001,
          0.6175,
          0.7125,
          0.8075,
          0.9025
         ],
         "y": [
          8835,
          6093,
          4924,
          4524,
          4521,
          4631,
          4848,
          4928,
          4755,
          4791,
          4720,
          4246,
          3894,
          3775,
          3594,
          3537,
          3793,
          4659,
          6326,
          9438
         ]
        }
       ],
       "layout": {
        "showlegend": false,
        "template": {
         "data": {
          "bar": [
           {
            "error_x": {
             "color": "#2a3f5f"
            },
            "error_y": {
             "color": "#2a3f5f"
            },
            "marker": {
             "line": {
              "color": "#E5ECF6",
              "width": 0.5
             },
             "pattern": {
              "fillmode": "overlay",
              "size": 10,
              "solidity": 0.2
             }
            },
            "type": "bar"
           }
          ],
          "barpolar": [
           {
            "marker": {
             "line": {
              "color": "#E5ECF6",
              "width": 0.5
             },
             "pattern": {
              "fillmode": "overlay",
              "size": 10,
              "solidity": 0.2
             }
            },
            "type": "barpolar"
           }
          ],
          "carpet": [
           {
            "aaxis": {
             "endlinecolor": "#2a3f5f",
             "gridcolor": "white",
             "linecolor": "white",
             "minorgridcolor": "white",
             "startlinecolor": "#2a3f5f"
            },
            "baxis": {
             "endlinecolor": "#2a3f5f",
             "gridcolor": "white",
             "linecolor": "white",
             "minorgridcolor": "white",
             "startlinecolor": "#2a3f5f"
            },
            "type": "carpet"
           }
          ],
          "choropleth": [
           {
            "colorbar": {
             "outlinewidth": 0,
             "ticks": ""
            },
            "type": "choropleth"
           }
          ],
          "contour": [
           {
            "colorbar": {
             "outlinewidth": 0,
             "ticks": ""
            },
            "colorscale": [
             [
              0,
              "#0d0887"
             ],
             [
              0.1111111111111111,
              "#46039f"
             ],
             [
              0.2222222222222222,
              "#7201a8"
             ],
             [
              0.3333333333333333,
              "#9c179e"
             ],
             [
              0.4444444444444444,
              "#bd3786"
             ],
             [
              0.5555555555555556,
              "#d8576b"
             ],
             [
              0.6666666666666666,
              "#ed7953"
             ],
             [
              0.7777777777777778,
              "#fb9f3a"
             ],
             [
              0.8888888888888888,
              "#fdca26"
             ],
             [
              1,
              "#f0f921"
             ]
            ],
            "type": "contour"
           }
          ],
          "contourcarpet": [
           {
            "colorbar": {
             "outlinewidth": 0,
             "ticks": ""
            },
            "type": "contourcarpet"
           }
          ],
          "heatmap": [
           {
            "colorbar": {
             "outlinewidth": 0,
             "ticks": ""
            },
            "colorscale": [
             [
              0,
              "#0d0887"
             ],
             [
              0.1111111111111111,
              "#46039f"
             ],
             [
              0.2222222222222222,
              "#7201a8"
             ],
             [
              0.3333333333333333,
              "#9c179e"
             ],
             [
              0.4444444444444444,
              "#bd3786"
             ],
             [
              0.5555555555555556,
              "#d8576b"
             ],
             [
              0.6666666666666666,
              "#ed7953"
             ],
             [
              0.7777777777777778,
              "#fb9f3a"
             ],
             [
              0.8888888888888888,
              "#fdca26"
             ],
             [
              1,
              "#f0f921"
             ]
            ],
            "type": "heatmap"
           }
          ],
          "heatmapgl": [
           {
            "colorbar": {
             "outlinewidth": 0,
             "ticks": ""
            },
            "colorscale": [
             [
              0,
              "#0d0887"
             ],
             [
              0.1111111111111111,
              "#46039f"
             ],
             [
              0.2222222222222222,
              "#7201a8"
             ],
             [
              0.3333333333333333,
              "#9c179e"
             ],
             [
              0.4444444444444444,
              "#bd3786"
             ],
             [
              0.5555555555555556,
              "#d8576b"
             ],
             [
              0.6666666666666666,
              "#ed7953"
             ],
             [
              0.7777777777777778,
              "#fb9f3a"
             ],
             [
              0.8888888888888888,
              "#fdca26"
             ],
             [
              1,
              "#f0f921"
             ]
            ],
            "type": "heatmapgl"
           }
          ],
          "histogram": [
           {
            "marker": {
             "pattern": {
              "fillmode": "overlay",
              "size": 10,
              "solidity": 0.2
             }
            },
            "type": "histogram"
           }
          ],
          "histogram2d": [
           {
            "colorbar": {
             "outlinewidth": 0,
             "ticks": ""
            },
            "colorscale": [
             [
              0,
              "#0d0887"
             ],
             [
              0.1111111111111111,
              "#46039f"
             ],
             [
              0.2222222222222222,
              "#7201a8"
             ],
             [
              0.3333333333333333,
              "#9c179e"
             ],
             [
              0.4444444444444444,
              "#bd3786"
             ],
             [
              0.5555555555555556,
              "#d8576b"
             ],
             [
              0.6666666666666666,
              "#ed7953"
             ],
             [
              0.7777777777777778,
              "#fb9f3a"
             ],
             [
              0.8888888888888888,
              "#fdca26"
             ],
             [
              1,
              "#f0f921"
             ]
            ],
            "type": "histogram2d"
           }
          ],
          "histogram2dcontour": [
           {
            "colorbar": {
             "outlinewidth": 0,
             "ticks": ""
            },
            "colorscale": [
             [
              0,
              "#0d0887"
             ],
             [
              0.1111111111111111,
              "#46039f"
             ],
             [
              0.2222222222222222,
              "#7201a8"
             ],
             [
              0.3333333333333333,
              "#9c179e"
             ],
             [
              0.4444444444444444,
              "#bd3786"
             ],
             [
              0.5555555555555556,
              "#d8576b"
             ],
             [
              0.6666666666666666,
              "#ed7953"
             ],
             [
              0.7777777777777778,
              "#fb9f3a"
             ],
             [
              0.8888888888888888,
              "#fdca26"
             ],
             [
              1,
              "#f0f921"
             ]
            ],
            "type": "histogram2dcontour"
           }
          ],
          "mesh3d": [
           {
            "colorbar": {
             "outlinewidth": 0,
             "ticks": ""
            },
            "type": "mesh3d"
           }
          ],
          "parcoords": [
           {
            "line": {
             "colorbar": {
              "outlinewidth": 0,
              "ticks": ""
             }
            },
            "type": "parcoords"
           }
          ],
          "pie": [
           {
            "automargin": true,
            "type": "pie"
           }
          ],
          "scatter": [
           {
            "fillpattern": {
             "fillmode": "overlay",
             "size": 10,
             "solidity": 0.2
            },
            "type": "scatter"
           }
          ],
          "scatter3d": [
           {
            "line": {
             "colorbar": {
              "outlinewidth": 0,
              "ticks": ""
             }
            },
            "marker": {
             "colorbar": {
              "outlinewidth": 0,
              "ticks": ""
             }
            },
            "type": "scatter3d"
           }
          ],
          "scattercarpet": [
           {
            "marker": {
             "colorbar": {
              "outlinewidth": 0,
              "ticks": ""
             }
            },
            "type": "scattercarpet"
           }
          ],
          "scattergeo": [
           {
            "marker": {
             "colorbar": {
              "outlinewidth": 0,
              "ticks": ""
             }
            },
            "type": "scattergeo"
           }
          ],
          "scattergl": [
           {
            "marker": {
             "colorbar": {
              "outlinewidth": 0,
              "ticks": ""
             }
            },
            "type": "scattergl"
           }
          ],
          "scattermapbox": [
           {
            "marker": {
             "colorbar": {
              "outlinewidth": 0,
              "ticks": ""
             }
            },
            "type": "scattermapbox"
           }
          ],
          "scatterpolar": [
           {
            "marker": {
             "colorbar": {
              "outlinewidth": 0,
              "ticks": ""
             }
            },
            "type": "scatterpolar"
           }
          ],
          "scatterpolargl": [
           {
            "marker": {
             "colorbar": {
              "outlinewidth": 0,
              "ticks": ""
             }
            },
            "type": "scatterpolargl"
           }
          ],
          "scatterternary": [
           {
            "marker": {
             "colorbar": {
              "outlinewidth": 0,
              "ticks": ""
             }
            },
            "type": "scatterternary"
           }
          ],
          "surface": [
           {
            "colorbar": {
             "outlinewidth": 0,
             "ticks": ""
            },
            "colorscale": [
             [
              0,
              "#0d0887"
             ],
             [
              0.1111111111111111,
              "#46039f"
             ],
             [
              0.2222222222222222,
              "#7201a8"
             ],
             [
              0.3333333333333333,
              "#9c179e"
             ],
             [
              0.4444444444444444,
              "#bd3786"
             ],
             [
              0.5555555555555556,
              "#d8576b"
             ],
             [
              0.6666666666666666,
              "#ed7953"
             ],
             [
              0.7777777777777778,
              "#fb9f3a"
             ],
             [
              0.8888888888888888,
              "#fdca26"
             ],
             [
              1,
              "#f0f921"
             ]
            ],
            "type": "surface"
           }
          ],
          "table": [
           {
            "cells": {
             "fill": {
              "color": "#EBF0F8"
             },
             "line": {
              "color": "white"
             }
            },
            "header": {
             "fill": {
              "color": "#C8D4E3"
             },
             "line": {
              "color": "white"
             }
            },
            "type": "table"
           }
          ]
         },
         "layout": {
          "annotationdefaults": {
           "arrowcolor": "#2a3f5f",
           "arrowhead": 0,
           "arrowwidth": 1
          },
          "autotypenumbers": "strict",
          "coloraxis": {
           "colorbar": {
            "outlinewidth": 0,
            "ticks": ""
           }
          },
          "colorscale": {
           "diverging": [
            [
             0,
             "#8e0152"
            ],
            [
             0.1,
             "#c51b7d"
            ],
            [
             0.2,
             "#de77ae"
            ],
            [
             0.3,
             "#f1b6da"
            ],
            [
             0.4,
             "#fde0ef"
            ],
            [
             0.5,
             "#f7f7f7"
            ],
            [
             0.6,
             "#e6f5d0"
            ],
            [
             0.7,
             "#b8e186"
            ],
            [
             0.8,
             "#7fbc41"
            ],
            [
             0.9,
             "#4d9221"
            ],
            [
             1,
             "#276419"
            ]
           ],
           "sequential": [
            [
             0,
             "#0d0887"
            ],
            [
             0.1111111111111111,
             "#46039f"
            ],
            [
             0.2222222222222222,
             "#7201a8"
            ],
            [
             0.3333333333333333,
             "#9c179e"
            ],
            [
             0.4444444444444444,
             "#bd3786"
            ],
            [
             0.5555555555555556,
             "#d8576b"
            ],
            [
             0.6666666666666666,
             "#ed7953"
            ],
            [
             0.7777777777777778,
             "#fb9f3a"
            ],
            [
             0.8888888888888888,
             "#fdca26"
            ],
            [
             1,
             "#f0f921"
            ]
           ],
           "sequentialminus": [
            [
             0,
             "#0d0887"
            ],
            [
             0.1111111111111111,
             "#46039f"
            ],
            [
             0.2222222222222222,
             "#7201a8"
            ],
            [
             0.3333333333333333,
             "#9c179e"
            ],
            [
             0.4444444444444444,
             "#bd3786"
            ],
            [
             0.5555555555555556,
             "#d8576b"
            ],
            [
             0.6666666666666666,
             "#ed7953"
            ],
            [
             0.7777777777777778,
             "#fb9f3a"
            ],
            [
             0.8888888888888888,
             "#fdca26"
            ],
            [
             1,
             "#f0f921"
            ]
           ]
          },
          "colorway": [
           "#636efa",
           "#EF553B",
           "#00cc96",
           "#ab63fa",
           "#FFA15A",
           "#19d3f3",
           "#FF6692",
           "#B6E880",
           "#FF97FF",
           "#FECB52"
          ],
          "font": {
           "color": "#2a3f5f"
          },
          "geo": {
           "bgcolor": "white",
           "lakecolor": "white",
           "landcolor": "#E5ECF6",
           "showlakes": true,
           "showland": true,
           "subunitcolor": "white"
          },
          "hoverlabel": {
           "align": "left"
          },
          "hovermode": "closest",
          "mapbox": {
           "style": "light"
          },
          "paper_bgcolor": "white",
          "plot_bgcolor": "#E5ECF6",
          "polar": {
           "angularaxis": {
            "gridcolor": "white",
            "linecolor": "white",
            "ticks": ""
           },
           "bgcolor": "#E5ECF6",
           "radialaxis": {
            "gridcolor": "white",
            "linecolor": "white",
            "ticks": ""
           }
          },
          "scene": {
           "xaxis": {
            "backgroundcolor": "#E5ECF6",
            "gridcolor": "white",
            "gridwidth": 2,
            "linecolor": "white",
            "showbackground": true,
            "ticks": "",
            "zerolinecolor": "white"
           },
           "yaxis": {
            "backgroundcolor": "#E5ECF6",
            "gridcolor": "white",
            "gridwidth": 2,
            "linecolor": "white",
            "showbackground": true,
            "ticks": "",
            "zerolinecolor": "white"
           },
           "zaxis": {
            "backgroundcolor": "#E5ECF6",
            "gridcolor": "white",
            "gridwidth": 2,
            "linecolor": "white",
            "showbackground": true,
            "ticks": "",
            "zerolinecolor": "white"
           }
          },
          "shapedefaults": {
           "line": {
            "color": "#2a3f5f"
           }
          },
          "ternary": {
           "aaxis": {
            "gridcolor": "white",
            "linecolor": "white",
            "ticks": ""
           },
           "baxis": {
            "gridcolor": "white",
            "linecolor": "white",
            "ticks": ""
           },
           "bgcolor": "#E5ECF6",
           "caxis": {
            "gridcolor": "white",
            "linecolor": "white",
            "ticks": ""
           }
          },
          "title": {
           "x": 0.05
          },
          "xaxis": {
           "automargin": true,
           "gridcolor": "white",
           "linecolor": "white",
           "ticks": "",
           "title": {
            "standoff": 15
           },
           "zerolinecolor": "white",
           "zerolinewidth": 2
          },
          "yaxis": {
           "automargin": true,
           "gridcolor": "white",
           "linecolor": "white",
           "ticks": "",
           "title": {
            "standoff": 15
           },
           "zerolinecolor": "white",
           "zerolinewidth": 2
          }
         }
        },
        "title": {
         "text": "Courbe de distribution de l'imbalance des trades"
        },
        "xaxis": {
         "title": {
          "text": "imbalance"
         }
        },
        "yaxis": {
         "title": {
          "text": "number of events"
         }
        }
       }
      }
     },
     "metadata": {},
     "output_type": "display_data"
    },
    {
     "data": {
      "application/vnd.plotly.v1+json": {
       "config": {
        "plotlyServerURL": "https://plot.ly"
       },
       "data": [
        {
         "line": {
          "width": 0
         },
         "mode": "lines",
         "name": "Upper Bound",
         "showlegend": false,
         "type": "scatter",
         "x": [
          -0.82747146780721,
          -0.6553460493614256,
          -0.5358113771118057,
          -0.43780650777102625,
          -0.3506420996489268,
          -0.2699188251406914,
          -0.1914199581180745,
          -0.11353248775596662,
          -0.03515979060320435,
          0.04110148597902358,
          0.11978413631557824,
          0.1978993362510505,
          0.2760983155180652,
          0.3568777250762074,
          0.443384249574183,
          0.5385823382240903,
          0.6510085596146769,
          0.8021411752947595,
          0.9272900549701728
         ],
         "y": [
          -0.00006010532057435653,
          -0.00004452029536114564,
          -0.000036064991445673646,
          -0.00003055467463571088,
          -0.000022443309671553583,
          -0.000026002133450093315,
          -0.000024352089903404145,
          -0.000022904503593096277,
          -0.000016123034762504674,
          -0.00002155362804839472,
          -0.00002228828729617599,
          -0.000013658081352949348,
          -0.000010403646365663789,
          0.00002161601689471017,
          0.000042309674021441434,
          0.00011075399960307886,
          0.00025151597869534423,
          0.0004290424602099956,
          0.0006288922118146063
         ]
        },
        {
         "fill": "tonexty",
         "fillcolor": "blue",
         "line": {
          "width": 0
         },
         "mode": "lines",
         "name": "Intervalle de confiance à 95%",
         "showlegend": true,
         "type": "scatter",
         "x": [
          -0.82747146780721,
          -0.6553460493614256,
          -0.5358113771118057,
          -0.43780650777102625,
          -0.3506420996489268,
          -0.2699188251406914,
          -0.1914199581180745,
          -0.11353248775596662,
          -0.03515979060320435,
          0.04110148597902358,
          0.11978413631557824,
          0.1978993362510505,
          0.2760983155180652,
          0.3568777250762074,
          0.443384249574183,
          0.5385823382240903,
          0.6510085596146769,
          0.8021411752947595,
          0.9272900549701728
         ],
         "y": [
          -0.00006822801275896631,
          -0.00005281303797219042,
          -0.000044601675220987333,
          -0.000038911992030961806,
          -0.00003102335699511012,
          -0.000034597866549909114,
          -0.000032914576763259586,
          -0.0000313621630735669,
          -0.000024676965237493973,
          -0.000030113038618270604,
          -0.000030778379370491174,
          -0.000022208585313716743,
          -0.00001912968696767195,
          0.000011917316438615645,
          0.00003235699264521971,
          0.00009871266706358253,
          0.0002370840213046559,
          0.0004120242064566651,
          0.0005827413543993396
         ]
        },
        {
         "line": {
          "color": "red"
         },
         "mode": "lines",
         "name": "Prix",
         "showlegend": true,
         "type": "scatter",
         "x": [
          -0.82747146780721,
          -0.6553460493614256,
          -0.5358113771118057,
          -0.43780650777102625,
          -0.3506420996489268,
          -0.2699188251406914,
          -0.1914199581180745,
          -0.11353248775596662,
          -0.03515979060320435,
          0.04110148597902358,
          0.11978413631557824,
          0.1978993362510505,
          0.2760983155180652,
          0.3568777250762074,
          0.443384249574183,
          0.5385823382240903,
          0.6510085596146769,
          0.8021411752947595,
          0.9272900549701728
         ],
         "y": [
          -0.00006416666666666142,
          -0.00004866666666666803,
          -0.00004033333333333049,
          -0.000034733333333336344,
          -0.000026733333333331853,
          -0.000030300000000001218,
          -0.000028633333333331865,
          -0.00002713333333333159,
          -0.000020399999999999324,
          -0.00002583333333333266,
          -0.000026533333333333583,
          -0.000017933333333333045,
          -0.000014766666666667868,
          0.000016766666666662906,
          0.00003733333333333057,
          0.00010473333333333068,
          0.0002443000000000001,
          0.00042053333333333035,
          0.000605816783106973
         ]
        }
       ],
       "layout": {
        "showlegend": true,
        "template": {
         "data": {
          "bar": [
           {
            "error_x": {
             "color": "#2a3f5f"
            },
            "error_y": {
             "color": "#2a3f5f"
            },
            "marker": {
             "line": {
              "color": "#E5ECF6",
              "width": 0.5
             },
             "pattern": {
              "fillmode": "overlay",
              "size": 10,
              "solidity": 0.2
             }
            },
            "type": "bar"
           }
          ],
          "barpolar": [
           {
            "marker": {
             "line": {
              "color": "#E5ECF6",
              "width": 0.5
             },
             "pattern": {
              "fillmode": "overlay",
              "size": 10,
              "solidity": 0.2
             }
            },
            "type": "barpolar"
           }
          ],
          "carpet": [
           {
            "aaxis": {
             "endlinecolor": "#2a3f5f",
             "gridcolor": "white",
             "linecolor": "white",
             "minorgridcolor": "white",
             "startlinecolor": "#2a3f5f"
            },
            "baxis": {
             "endlinecolor": "#2a3f5f",
             "gridcolor": "white",
             "linecolor": "white",
             "minorgridcolor": "white",
             "startlinecolor": "#2a3f5f"
            },
            "type": "carpet"
           }
          ],
          "choropleth": [
           {
            "colorbar": {
             "outlinewidth": 0,
             "ticks": ""
            },
            "type": "choropleth"
           }
          ],
          "contour": [
           {
            "colorbar": {
             "outlinewidth": 0,
             "ticks": ""
            },
            "colorscale": [
             [
              0,
              "#0d0887"
             ],
             [
              0.1111111111111111,
              "#46039f"
             ],
             [
              0.2222222222222222,
              "#7201a8"
             ],
             [
              0.3333333333333333,
              "#9c179e"
             ],
             [
              0.4444444444444444,
              "#bd3786"
             ],
             [
              0.5555555555555556,
              "#d8576b"
             ],
             [
              0.6666666666666666,
              "#ed7953"
             ],
             [
              0.7777777777777778,
              "#fb9f3a"
             ],
             [
              0.8888888888888888,
              "#fdca26"
             ],
             [
              1,
              "#f0f921"
             ]
            ],
            "type": "contour"
           }
          ],
          "contourcarpet": [
           {
            "colorbar": {
             "outlinewidth": 0,
             "ticks": ""
            },
            "type": "contourcarpet"
           }
          ],
          "heatmap": [
           {
            "colorbar": {
             "outlinewidth": 0,
             "ticks": ""
            },
            "colorscale": [
             [
              0,
              "#0d0887"
             ],
             [
              0.1111111111111111,
              "#46039f"
             ],
             [
              0.2222222222222222,
              "#7201a8"
             ],
             [
              0.3333333333333333,
              "#9c179e"
             ],
             [
              0.4444444444444444,
              "#bd3786"
             ],
             [
              0.5555555555555556,
              "#d8576b"
             ],
             [
              0.6666666666666666,
              "#ed7953"
             ],
             [
              0.7777777777777778,
              "#fb9f3a"
             ],
             [
              0.8888888888888888,
              "#fdca26"
             ],
             [
              1,
              "#f0f921"
             ]
            ],
            "type": "heatmap"
           }
          ],
          "heatmapgl": [
           {
            "colorbar": {
             "outlinewidth": 0,
             "ticks": ""
            },
            "colorscale": [
             [
              0,
              "#0d0887"
             ],
             [
              0.1111111111111111,
              "#46039f"
             ],
             [
              0.2222222222222222,
              "#7201a8"
             ],
             [
              0.3333333333333333,
              "#9c179e"
             ],
             [
              0.4444444444444444,
              "#bd3786"
             ],
             [
              0.5555555555555556,
              "#d8576b"
             ],
             [
              0.6666666666666666,
              "#ed7953"
             ],
             [
              0.7777777777777778,
              "#fb9f3a"
             ],
             [
              0.8888888888888888,
              "#fdca26"
             ],
             [
              1,
              "#f0f921"
             ]
            ],
            "type": "heatmapgl"
           }
          ],
          "histogram": [
           {
            "marker": {
             "pattern": {
              "fillmode": "overlay",
              "size": 10,
              "solidity": 0.2
             }
            },
            "type": "histogram"
           }
          ],
          "histogram2d": [
           {
            "colorbar": {
             "outlinewidth": 0,
             "ticks": ""
            },
            "colorscale": [
             [
              0,
              "#0d0887"
             ],
             [
              0.1111111111111111,
              "#46039f"
             ],
             [
              0.2222222222222222,
              "#7201a8"
             ],
             [
              0.3333333333333333,
              "#9c179e"
             ],
             [
              0.4444444444444444,
              "#bd3786"
             ],
             [
              0.5555555555555556,
              "#d8576b"
             ],
             [
              0.6666666666666666,
              "#ed7953"
             ],
             [
              0.7777777777777778,
              "#fb9f3a"
             ],
             [
              0.8888888888888888,
              "#fdca26"
             ],
             [
              1,
              "#f0f921"
             ]
            ],
            "type": "histogram2d"
           }
          ],
          "histogram2dcontour": [
           {
            "colorbar": {
             "outlinewidth": 0,
             "ticks": ""
            },
            "colorscale": [
             [
              0,
              "#0d0887"
             ],
             [
              0.1111111111111111,
              "#46039f"
             ],
             [
              0.2222222222222222,
              "#7201a8"
             ],
             [
              0.3333333333333333,
              "#9c179e"
             ],
             [
              0.4444444444444444,
              "#bd3786"
             ],
             [
              0.5555555555555556,
              "#d8576b"
             ],
             [
              0.6666666666666666,
              "#ed7953"
             ],
             [
              0.7777777777777778,
              "#fb9f3a"
             ],
             [
              0.8888888888888888,
              "#fdca26"
             ],
             [
              1,
              "#f0f921"
             ]
            ],
            "type": "histogram2dcontour"
           }
          ],
          "mesh3d": [
           {
            "colorbar": {
             "outlinewidth": 0,
             "ticks": ""
            },
            "type": "mesh3d"
           }
          ],
          "parcoords": [
           {
            "line": {
             "colorbar": {
              "outlinewidth": 0,
              "ticks": ""
             }
            },
            "type": "parcoords"
           }
          ],
          "pie": [
           {
            "automargin": true,
            "type": "pie"
           }
          ],
          "scatter": [
           {
            "fillpattern": {
             "fillmode": "overlay",
             "size": 10,
             "solidity": 0.2
            },
            "type": "scatter"
           }
          ],
          "scatter3d": [
           {
            "line": {
             "colorbar": {
              "outlinewidth": 0,
              "ticks": ""
             }
            },
            "marker": {
             "colorbar": {
              "outlinewidth": 0,
              "ticks": ""
             }
            },
            "type": "scatter3d"
           }
          ],
          "scattercarpet": [
           {
            "marker": {
             "colorbar": {
              "outlinewidth": 0,
              "ticks": ""
             }
            },
            "type": "scattercarpet"
           }
          ],
          "scattergeo": [
           {
            "marker": {
             "colorbar": {
              "outlinewidth": 0,
              "ticks": ""
             }
            },
            "type": "scattergeo"
           }
          ],
          "scattergl": [
           {
            "marker": {
             "colorbar": {
              "outlinewidth": 0,
              "ticks": ""
             }
            },
            "type": "scattergl"
           }
          ],
          "scattermapbox": [
           {
            "marker": {
             "colorbar": {
              "outlinewidth": 0,
              "ticks": ""
             }
            },
            "type": "scattermapbox"
           }
          ],
          "scatterpolar": [
           {
            "marker": {
             "colorbar": {
              "outlinewidth": 0,
              "ticks": ""
             }
            },
            "type": "scatterpolar"
           }
          ],
          "scatterpolargl": [
           {
            "marker": {
             "colorbar": {
              "outlinewidth": 0,
              "ticks": ""
             }
            },
            "type": "scatterpolargl"
           }
          ],
          "scatterternary": [
           {
            "marker": {
             "colorbar": {
              "outlinewidth": 0,
              "ticks": ""
             }
            },
            "type": "scatterternary"
           }
          ],
          "surface": [
           {
            "colorbar": {
             "outlinewidth": 0,
             "ticks": ""
            },
            "colorscale": [
             [
              0,
              "#0d0887"
             ],
             [
              0.1111111111111111,
              "#46039f"
             ],
             [
              0.2222222222222222,
              "#7201a8"
             ],
             [
              0.3333333333333333,
              "#9c179e"
             ],
             [
              0.4444444444444444,
              "#bd3786"
             ],
             [
              0.5555555555555556,
              "#d8576b"
             ],
             [
              0.6666666666666666,
              "#ed7953"
             ],
             [
              0.7777777777777778,
              "#fb9f3a"
             ],
             [
              0.8888888888888888,
              "#fdca26"
             ],
             [
              1,
              "#f0f921"
             ]
            ],
            "type": "surface"
           }
          ],
          "table": [
           {
            "cells": {
             "fill": {
              "color": "#EBF0F8"
             },
             "line": {
              "color": "white"
             }
            },
            "header": {
             "fill": {
              "color": "#C8D4E3"
             },
             "line": {
              "color": "white"
             }
            },
            "type": "table"
           }
          ]
         },
         "layout": {
          "annotationdefaults": {
           "arrowcolor": "#2a3f5f",
           "arrowhead": 0,
           "arrowwidth": 1
          },
          "autotypenumbers": "strict",
          "coloraxis": {
           "colorbar": {
            "outlinewidth": 0,
            "ticks": ""
           }
          },
          "colorscale": {
           "diverging": [
            [
             0,
             "#8e0152"
            ],
            [
             0.1,
             "#c51b7d"
            ],
            [
             0.2,
             "#de77ae"
            ],
            [
             0.3,
             "#f1b6da"
            ],
            [
             0.4,
             "#fde0ef"
            ],
            [
             0.5,
             "#f7f7f7"
            ],
            [
             0.6,
             "#e6f5d0"
            ],
            [
             0.7,
             "#b8e186"
            ],
            [
             0.8,
             "#7fbc41"
            ],
            [
             0.9,
             "#4d9221"
            ],
            [
             1,
             "#276419"
            ]
           ],
           "sequential": [
            [
             0,
             "#0d0887"
            ],
            [
             0.1111111111111111,
             "#46039f"
            ],
            [
             0.2222222222222222,
             "#7201a8"
            ],
            [
             0.3333333333333333,
             "#9c179e"
            ],
            [
             0.4444444444444444,
             "#bd3786"
            ],
            [
             0.5555555555555556,
             "#d8576b"
            ],
            [
             0.6666666666666666,
             "#ed7953"
            ],
            [
             0.7777777777777778,
             "#fb9f3a"
            ],
            [
             0.8888888888888888,
             "#fdca26"
            ],
            [
             1,
             "#f0f921"
            ]
           ],
           "sequentialminus": [
            [
             0,
             "#0d0887"
            ],
            [
             0.1111111111111111,
             "#46039f"
            ],
            [
             0.2222222222222222,
             "#7201a8"
            ],
            [
             0.3333333333333333,
             "#9c179e"
            ],
            [
             0.4444444444444444,
             "#bd3786"
            ],
            [
             0.5555555555555556,
             "#d8576b"
            ],
            [
             0.6666666666666666,
             "#ed7953"
            ],
            [
             0.7777777777777778,
             "#fb9f3a"
            ],
            [
             0.8888888888888888,
             "#fdca26"
            ],
            [
             1,
             "#f0f921"
            ]
           ]
          },
          "colorway": [
           "#636efa",
           "#EF553B",
           "#00cc96",
           "#ab63fa",
           "#FFA15A",
           "#19d3f3",
           "#FF6692",
           "#B6E880",
           "#FF97FF",
           "#FECB52"
          ],
          "font": {
           "color": "#2a3f5f"
          },
          "geo": {
           "bgcolor": "white",
           "lakecolor": "white",
           "landcolor": "#E5ECF6",
           "showlakes": true,
           "showland": true,
           "subunitcolor": "white"
          },
          "hoverlabel": {
           "align": "left"
          },
          "hovermode": "closest",
          "mapbox": {
           "style": "light"
          },
          "paper_bgcolor": "white",
          "plot_bgcolor": "#E5ECF6",
          "polar": {
           "angularaxis": {
            "gridcolor": "white",
            "linecolor": "white",
            "ticks": ""
           },
           "bgcolor": "#E5ECF6",
           "radialaxis": {
            "gridcolor": "white",
            "linecolor": "white",
            "ticks": ""
           }
          },
          "scene": {
           "xaxis": {
            "backgroundcolor": "#E5ECF6",
            "gridcolor": "white",
            "gridwidth": 2,
            "linecolor": "white",
            "showbackground": true,
            "ticks": "",
            "zerolinecolor": "white"
           },
           "yaxis": {
            "backgroundcolor": "#E5ECF6",
            "gridcolor": "white",
            "gridwidth": 2,
            "linecolor": "white",
            "showbackground": true,
            "ticks": "",
            "zerolinecolor": "white"
           },
           "zaxis": {
            "backgroundcolor": "#E5ECF6",
            "gridcolor": "white",
            "gridwidth": 2,
            "linecolor": "white",
            "showbackground": true,
            "ticks": "",
            "zerolinecolor": "white"
           }
          },
          "shapedefaults": {
           "line": {
            "color": "#2a3f5f"
           }
          },
          "ternary": {
           "aaxis": {
            "gridcolor": "white",
            "linecolor": "white",
            "ticks": ""
           },
           "baxis": {
            "gridcolor": "white",
            "linecolor": "white",
            "ticks": ""
           },
           "bgcolor": "#E5ECF6",
           "caxis": {
            "gridcolor": "white",
            "linecolor": "white",
            "ticks": ""
           }
          },
          "title": {
           "x": 0.05
          },
          "xaxis": {
           "automargin": true,
           "gridcolor": "white",
           "linecolor": "white",
           "ticks": "",
           "title": {
            "standoff": 15
           },
           "zerolinecolor": "white",
           "zerolinewidth": 2
          },
          "yaxis": {
           "automargin": true,
           "gridcolor": "white",
           "linecolor": "white",
           "ticks": "",
           "title": {
            "standoff": 15
           },
           "zerolinecolor": "white",
           "zerolinewidth": 2
          }
         }
        },
        "title": {
         "text": "Imbalance des add"
        },
        "xaxis": {
         "title": {
          "text": "imbalance"
         }
        },
        "yaxis": {
         "title": {
          "text": "delta_price"
         }
        }
       }
      }
     },
     "metadata": {},
     "output_type": "display_data"
    },
    {
     "data": {
      "application/vnd.plotly.v1+json": {
       "config": {
        "plotlyServerURL": "https://plot.ly"
       },
       "data": [
        {
         "mode": "lines",
         "name": "Density Curve",
         "type": "scatter",
         "x": [
          -0.9025,
          -0.8075,
          -0.7124999999999999,
          -0.6174999999999999,
          -0.5225,
          -0.42749999999999994,
          -0.3324999999999999,
          -0.23749999999999993,
          -0.14249999999999996,
          -0.04749999999999999,
          0.04749999999999999,
          0.14250000000000007,
          0.23750000000000016,
          0.33250000000000013,
          0.4275000000000001,
          0.5225000000000001,
          0.6175,
          0.7125,
          0.8075,
          0.9025
         ],
         "y": [
          53271,
          68322,
          91014,
          114254,
          137579,
          158400,
          173225,
          182108,
          182584,
          180893,
          185753,
          181468,
          183390,
          174253,
          160840,
          143856,
          121262,
          99721,
          75742,
          57543
         ]
        }
       ],
       "layout": {
        "showlegend": false,
        "template": {
         "data": {
          "bar": [
           {
            "error_x": {
             "color": "#2a3f5f"
            },
            "error_y": {
             "color": "#2a3f5f"
            },
            "marker": {
             "line": {
              "color": "#E5ECF6",
              "width": 0.5
             },
             "pattern": {
              "fillmode": "overlay",
              "size": 10,
              "solidity": 0.2
             }
            },
            "type": "bar"
           }
          ],
          "barpolar": [
           {
            "marker": {
             "line": {
              "color": "#E5ECF6",
              "width": 0.5
             },
             "pattern": {
              "fillmode": "overlay",
              "size": 10,
              "solidity": 0.2
             }
            },
            "type": "barpolar"
           }
          ],
          "carpet": [
           {
            "aaxis": {
             "endlinecolor": "#2a3f5f",
             "gridcolor": "white",
             "linecolor": "white",
             "minorgridcolor": "white",
             "startlinecolor": "#2a3f5f"
            },
            "baxis": {
             "endlinecolor": "#2a3f5f",
             "gridcolor": "white",
             "linecolor": "white",
             "minorgridcolor": "white",
             "startlinecolor": "#2a3f5f"
            },
            "type": "carpet"
           }
          ],
          "choropleth": [
           {
            "colorbar": {
             "outlinewidth": 0,
             "ticks": ""
            },
            "type": "choropleth"
           }
          ],
          "contour": [
           {
            "colorbar": {
             "outlinewidth": 0,
             "ticks": ""
            },
            "colorscale": [
             [
              0,
              "#0d0887"
             ],
             [
              0.1111111111111111,
              "#46039f"
             ],
             [
              0.2222222222222222,
              "#7201a8"
             ],
             [
              0.3333333333333333,
              "#9c179e"
             ],
             [
              0.4444444444444444,
              "#bd3786"
             ],
             [
              0.5555555555555556,
              "#d8576b"
             ],
             [
              0.6666666666666666,
              "#ed7953"
             ],
             [
              0.7777777777777778,
              "#fb9f3a"
             ],
             [
              0.8888888888888888,
              "#fdca26"
             ],
             [
              1,
              "#f0f921"
             ]
            ],
            "type": "contour"
           }
          ],
          "contourcarpet": [
           {
            "colorbar": {
             "outlinewidth": 0,
             "ticks": ""
            },
            "type": "contourcarpet"
           }
          ],
          "heatmap": [
           {
            "colorbar": {
             "outlinewidth": 0,
             "ticks": ""
            },
            "colorscale": [
             [
              0,
              "#0d0887"
             ],
             [
              0.1111111111111111,
              "#46039f"
             ],
             [
              0.2222222222222222,
              "#7201a8"
             ],
             [
              0.3333333333333333,
              "#9c179e"
             ],
             [
              0.4444444444444444,
              "#bd3786"
             ],
             [
              0.5555555555555556,
              "#d8576b"
             ],
             [
              0.6666666666666666,
              "#ed7953"
             ],
             [
              0.7777777777777778,
              "#fb9f3a"
             ],
             [
              0.8888888888888888,
              "#fdca26"
             ],
             [
              1,
              "#f0f921"
             ]
            ],
            "type": "heatmap"
           }
          ],
          "heatmapgl": [
           {
            "colorbar": {
             "outlinewidth": 0,
             "ticks": ""
            },
            "colorscale": [
             [
              0,
              "#0d0887"
             ],
             [
              0.1111111111111111,
              "#46039f"
             ],
             [
              0.2222222222222222,
              "#7201a8"
             ],
             [
              0.3333333333333333,
              "#9c179e"
             ],
             [
              0.4444444444444444,
              "#bd3786"
             ],
             [
              0.5555555555555556,
              "#d8576b"
             ],
             [
              0.6666666666666666,
              "#ed7953"
             ],
             [
              0.7777777777777778,
              "#fb9f3a"
             ],
             [
              0.8888888888888888,
              "#fdca26"
             ],
             [
              1,
              "#f0f921"
             ]
            ],
            "type": "heatmapgl"
           }
          ],
          "histogram": [
           {
            "marker": {
             "pattern": {
              "fillmode": "overlay",
              "size": 10,
              "solidity": 0.2
             }
            },
            "type": "histogram"
           }
          ],
          "histogram2d": [
           {
            "colorbar": {
             "outlinewidth": 0,
             "ticks": ""
            },
            "colorscale": [
             [
              0,
              "#0d0887"
             ],
             [
              0.1111111111111111,
              "#46039f"
             ],
             [
              0.2222222222222222,
              "#7201a8"
             ],
             [
              0.3333333333333333,
              "#9c179e"
             ],
             [
              0.4444444444444444,
              "#bd3786"
             ],
             [
              0.5555555555555556,
              "#d8576b"
             ],
             [
              0.6666666666666666,
              "#ed7953"
             ],
             [
              0.7777777777777778,
              "#fb9f3a"
             ],
             [
              0.8888888888888888,
              "#fdca26"
             ],
             [
              1,
              "#f0f921"
             ]
            ],
            "type": "histogram2d"
           }
          ],
          "histogram2dcontour": [
           {
            "colorbar": {
             "outlinewidth": 0,
             "ticks": ""
            },
            "colorscale": [
             [
              0,
              "#0d0887"
             ],
             [
              0.1111111111111111,
              "#46039f"
             ],
             [
              0.2222222222222222,
              "#7201a8"
             ],
             [
              0.3333333333333333,
              "#9c179e"
             ],
             [
              0.4444444444444444,
              "#bd3786"
             ],
             [
              0.5555555555555556,
              "#d8576b"
             ],
             [
              0.6666666666666666,
              "#ed7953"
             ],
             [
              0.7777777777777778,
              "#fb9f3a"
             ],
             [
              0.8888888888888888,
              "#fdca26"
             ],
             [
              1,
              "#f0f921"
             ]
            ],
            "type": "histogram2dcontour"
           }
          ],
          "mesh3d": [
           {
            "colorbar": {
             "outlinewidth": 0,
             "ticks": ""
            },
            "type": "mesh3d"
           }
          ],
          "parcoords": [
           {
            "line": {
             "colorbar": {
              "outlinewidth": 0,
              "ticks": ""
             }
            },
            "type": "parcoords"
           }
          ],
          "pie": [
           {
            "automargin": true,
            "type": "pie"
           }
          ],
          "scatter": [
           {
            "fillpattern": {
             "fillmode": "overlay",
             "size": 10,
             "solidity": 0.2
            },
            "type": "scatter"
           }
          ],
          "scatter3d": [
           {
            "line": {
             "colorbar": {
              "outlinewidth": 0,
              "ticks": ""
             }
            },
            "marker": {
             "colorbar": {
              "outlinewidth": 0,
              "ticks": ""
             }
            },
            "type": "scatter3d"
           }
          ],
          "scattercarpet": [
           {
            "marker": {
             "colorbar": {
              "outlinewidth": 0,
              "ticks": ""
             }
            },
            "type": "scattercarpet"
           }
          ],
          "scattergeo": [
           {
            "marker": {
             "colorbar": {
              "outlinewidth": 0,
              "ticks": ""
             }
            },
            "type": "scattergeo"
           }
          ],
          "scattergl": [
           {
            "marker": {
             "colorbar": {
              "outlinewidth": 0,
              "ticks": ""
             }
            },
            "type": "scattergl"
           }
          ],
          "scattermapbox": [
           {
            "marker": {
             "colorbar": {
              "outlinewidth": 0,
              "ticks": ""
             }
            },
            "type": "scattermapbox"
           }
          ],
          "scatterpolar": [
           {
            "marker": {
             "colorbar": {
              "outlinewidth": 0,
              "ticks": ""
             }
            },
            "type": "scatterpolar"
           }
          ],
          "scatterpolargl": [
           {
            "marker": {
             "colorbar": {
              "outlinewidth": 0,
              "ticks": ""
             }
            },
            "type": "scatterpolargl"
           }
          ],
          "scatterternary": [
           {
            "marker": {
             "colorbar": {
              "outlinewidth": 0,
              "ticks": ""
             }
            },
            "type": "scatterternary"
           }
          ],
          "surface": [
           {
            "colorbar": {
             "outlinewidth": 0,
             "ticks": ""
            },
            "colorscale": [
             [
              0,
              "#0d0887"
             ],
             [
              0.1111111111111111,
              "#46039f"
             ],
             [
              0.2222222222222222,
              "#7201a8"
             ],
             [
              0.3333333333333333,
              "#9c179e"
             ],
             [
              0.4444444444444444,
              "#bd3786"
             ],
             [
              0.5555555555555556,
              "#d8576b"
             ],
             [
              0.6666666666666666,
              "#ed7953"
             ],
             [
              0.7777777777777778,
              "#fb9f3a"
             ],
             [
              0.8888888888888888,
              "#fdca26"
             ],
             [
              1,
              "#f0f921"
             ]
            ],
            "type": "surface"
           }
          ],
          "table": [
           {
            "cells": {
             "fill": {
              "color": "#EBF0F8"
             },
             "line": {
              "color": "white"
             }
            },
            "header": {
             "fill": {
              "color": "#C8D4E3"
             },
             "line": {
              "color": "white"
             }
            },
            "type": "table"
           }
          ]
         },
         "layout": {
          "annotationdefaults": {
           "arrowcolor": "#2a3f5f",
           "arrowhead": 0,
           "arrowwidth": 1
          },
          "autotypenumbers": "strict",
          "coloraxis": {
           "colorbar": {
            "outlinewidth": 0,
            "ticks": ""
           }
          },
          "colorscale": {
           "diverging": [
            [
             0,
             "#8e0152"
            ],
            [
             0.1,
             "#c51b7d"
            ],
            [
             0.2,
             "#de77ae"
            ],
            [
             0.3,
             "#f1b6da"
            ],
            [
             0.4,
             "#fde0ef"
            ],
            [
             0.5,
             "#f7f7f7"
            ],
            [
             0.6,
             "#e6f5d0"
            ],
            [
             0.7,
             "#b8e186"
            ],
            [
             0.8,
             "#7fbc41"
            ],
            [
             0.9,
             "#4d9221"
            ],
            [
             1,
             "#276419"
            ]
           ],
           "sequential": [
            [
             0,
             "#0d0887"
            ],
            [
             0.1111111111111111,
             "#46039f"
            ],
            [
             0.2222222222222222,
             "#7201a8"
            ],
            [
             0.3333333333333333,
             "#9c179e"
            ],
            [
             0.4444444444444444,
             "#bd3786"
            ],
            [
             0.5555555555555556,
             "#d8576b"
            ],
            [
             0.6666666666666666,
             "#ed7953"
            ],
            [
             0.7777777777777778,
             "#fb9f3a"
            ],
            [
             0.8888888888888888,
             "#fdca26"
            ],
            [
             1,
             "#f0f921"
            ]
           ],
           "sequentialminus": [
            [
             0,
             "#0d0887"
            ],
            [
             0.1111111111111111,
             "#46039f"
            ],
            [
             0.2222222222222222,
             "#7201a8"
            ],
            [
             0.3333333333333333,
             "#9c179e"
            ],
            [
             0.4444444444444444,
             "#bd3786"
            ],
            [
             0.5555555555555556,
             "#d8576b"
            ],
            [
             0.6666666666666666,
             "#ed7953"
            ],
            [
             0.7777777777777778,
             "#fb9f3a"
            ],
            [
             0.8888888888888888,
             "#fdca26"
            ],
            [
             1,
             "#f0f921"
            ]
           ]
          },
          "colorway": [
           "#636efa",
           "#EF553B",
           "#00cc96",
           "#ab63fa",
           "#FFA15A",
           "#19d3f3",
           "#FF6692",
           "#B6E880",
           "#FF97FF",
           "#FECB52"
          ],
          "font": {
           "color": "#2a3f5f"
          },
          "geo": {
           "bgcolor": "white",
           "lakecolor": "white",
           "landcolor": "#E5ECF6",
           "showlakes": true,
           "showland": true,
           "subunitcolor": "white"
          },
          "hoverlabel": {
           "align": "left"
          },
          "hovermode": "closest",
          "mapbox": {
           "style": "light"
          },
          "paper_bgcolor": "white",
          "plot_bgcolor": "#E5ECF6",
          "polar": {
           "angularaxis": {
            "gridcolor": "white",
            "linecolor": "white",
            "ticks": ""
           },
           "bgcolor": "#E5ECF6",
           "radialaxis": {
            "gridcolor": "white",
            "linecolor": "white",
            "ticks": ""
           }
          },
          "scene": {
           "xaxis": {
            "backgroundcolor": "#E5ECF6",
            "gridcolor": "white",
            "gridwidth": 2,
            "linecolor": "white",
            "showbackground": true,
            "ticks": "",
            "zerolinecolor": "white"
           },
           "yaxis": {
            "backgroundcolor": "#E5ECF6",
            "gridcolor": "white",
            "gridwidth": 2,
            "linecolor": "white",
            "showbackground": true,
            "ticks": "",
            "zerolinecolor": "white"
           },
           "zaxis": {
            "backgroundcolor": "#E5ECF6",
            "gridcolor": "white",
            "gridwidth": 2,
            "linecolor": "white",
            "showbackground": true,
            "ticks": "",
            "zerolinecolor": "white"
           }
          },
          "shapedefaults": {
           "line": {
            "color": "#2a3f5f"
           }
          },
          "ternary": {
           "aaxis": {
            "gridcolor": "white",
            "linecolor": "white",
            "ticks": ""
           },
           "baxis": {
            "gridcolor": "white",
            "linecolor": "white",
            "ticks": ""
           },
           "bgcolor": "#E5ECF6",
           "caxis": {
            "gridcolor": "white",
            "linecolor": "white",
            "ticks": ""
           }
          },
          "title": {
           "x": 0.05
          },
          "xaxis": {
           "automargin": true,
           "gridcolor": "white",
           "linecolor": "white",
           "ticks": "",
           "title": {
            "standoff": 15
           },
           "zerolinecolor": "white",
           "zerolinewidth": 2
          },
          "yaxis": {
           "automargin": true,
           "gridcolor": "white",
           "linecolor": "white",
           "ticks": "",
           "title": {
            "standoff": 15
           },
           "zerolinecolor": "white",
           "zerolinewidth": 2
          }
         }
        },
        "title": {
         "text": "Courbe de distribution de l'imbalance des add"
        },
        "xaxis": {
         "title": {
          "text": "imbalance"
         }
        },
        "yaxis": {
         "title": {
          "text": "number of events"
         }
        }
       }
      }
     },
     "metadata": {},
     "output_type": "display_data"
    },
    {
     "data": {
      "application/vnd.plotly.v1+json": {
       "config": {
        "plotlyServerURL": "https://plot.ly"
       },
       "data": [
        {
         "line": {
          "width": 0
         },
         "mode": "lines",
         "name": "Upper Bound",
         "showlegend": false,
         "type": "scatter",
         "x": [
          -0.8269883461492774,
          -0.6452206364238793,
          -0.5131852510762905,
          -0.4030021195595756,
          -0.3043339685948164,
          -0.2116184174906697,
          -0.12114004044188369,
          -0.03100057087131278,
          0.057141086547215225,
          0.14788493160770458,
          0.23902104283664433,
          0.333259597594011,
          0.43403913530877,
          0.5483191196842552,
          0.6898127451076609,
          0.8574917896454473
         ],
         "y": [
          -0.00006410901897161483,
          -0.00005156395839965788,
          -0.000037936029603512727,
          -0.00003052833898396696,
          -0.00002839522850859423,
          -0.000026010141806250394,
          -0.000023622053638201877,
          -0.00002078654605634445,
          -0.000015725825142532368,
          -0.000023356154086089453,
          -0.000024606952009355647,
          -0.000023135895083067508,
          -0.00002435828057836928,
          -0.00002939349747453283,
          -0.000033554051425633314,
          -0.000026566276676654622
         ]
        },
        {
         "fill": "tonexty",
         "fillcolor": "blue",
         "line": {
          "width": 0
         },
         "mode": "lines",
         "name": "Intervalle de confiance à 95%",
         "showlegend": true,
         "type": "scatter",
         "x": [
          -0.8269883461492774,
          -0.6452206364238793,
          -0.5131852510762905,
          -0.4030021195595756,
          -0.3043339685948164,
          -0.2116184174906697,
          -0.12114004044188369,
          -0.03100057087131278,
          0.057141086547215225,
          0.14788493160770458,
          0.23902104283664433,
          0.333259597594011,
          0.43403913530877,
          0.5483191196842552,
          0.6898127451076609,
          0.8574917896454473
         ],
         "y": [
          -0.00007215764769505416,
          -0.00005976937493366694,
          -0.00004633063706314831,
          -0.000038738327682702974,
          -0.000036738104824738224,
          -0.000034323191527083144,
          -0.00003191127969512319,
          -0.0000292801206103206,
          -0.00002394084152413031,
          -0.00003151051258058187,
          -0.00003285971465731433,
          -0.000031397438250264154,
          -0.000032375052754969346,
          -0.00003733983585880049,
          -0.00004171261524103041,
          -0.000036567230418619546
         ]
        },
        {
         "line": {
          "color": "red"
         },
         "mode": "lines",
         "name": "Prix",
         "showlegend": true,
         "type": "scatter",
         "x": [
          -0.8269883461492774,
          -0.6452206364238793,
          -0.5131852510762905,
          -0.4030021195595756,
          -0.3043339685948164,
          -0.2116184174906697,
          -0.12114004044188369,
          -0.03100057087131278,
          0.057141086547215225,
          0.14788493160770458,
          0.23902104283664433,
          0.333259597594011,
          0.43403913530877,
          0.5483191196842552,
          0.6898127451076609,
          0.8574917896454473
         ],
         "y": [
          -0.00006813333333333449,
          -0.00005566666666666241,
          -0.00004213333333333052,
          -0.000034633333333334966,
          -0.00003256666666666623,
          -0.00003016666666666677,
          -0.000027766666666662533,
          -0.000025033333333332523,
          -0.00001983333333333134,
          -0.00002743333333333566,
          -0.00002873333333333499,
          -0.00002726666666666583,
          -0.000028366666666669313,
          -0.00003336666666666666,
          -0.00003763333333333186,
          -0.000031566753547637086
         ]
        }
       ],
       "layout": {
        "showlegend": true,
        "template": {
         "data": {
          "bar": [
           {
            "error_x": {
             "color": "#2a3f5f"
            },
            "error_y": {
             "color": "#2a3f5f"
            },
            "marker": {
             "line": {
              "color": "#E5ECF6",
              "width": 0.5
             },
             "pattern": {
              "fillmode": "overlay",
              "size": 10,
              "solidity": 0.2
             }
            },
            "type": "bar"
           }
          ],
          "barpolar": [
           {
            "marker": {
             "line": {
              "color": "#E5ECF6",
              "width": 0.5
             },
             "pattern": {
              "fillmode": "overlay",
              "size": 10,
              "solidity": 0.2
             }
            },
            "type": "barpolar"
           }
          ],
          "carpet": [
           {
            "aaxis": {
             "endlinecolor": "#2a3f5f",
             "gridcolor": "white",
             "linecolor": "white",
             "minorgridcolor": "white",
             "startlinecolor": "#2a3f5f"
            },
            "baxis": {
             "endlinecolor": "#2a3f5f",
             "gridcolor": "white",
             "linecolor": "white",
             "minorgridcolor": "white",
             "startlinecolor": "#2a3f5f"
            },
            "type": "carpet"
           }
          ],
          "choropleth": [
           {
            "colorbar": {
             "outlinewidth": 0,
             "ticks": ""
            },
            "type": "choropleth"
           }
          ],
          "contour": [
           {
            "colorbar": {
             "outlinewidth": 0,
             "ticks": ""
            },
            "colorscale": [
             [
              0,
              "#0d0887"
             ],
             [
              0.1111111111111111,
              "#46039f"
             ],
             [
              0.2222222222222222,
              "#7201a8"
             ],
             [
              0.3333333333333333,
              "#9c179e"
             ],
             [
              0.4444444444444444,
              "#bd3786"
             ],
             [
              0.5555555555555556,
              "#d8576b"
             ],
             [
              0.6666666666666666,
              "#ed7953"
             ],
             [
              0.7777777777777778,
              "#fb9f3a"
             ],
             [
              0.8888888888888888,
              "#fdca26"
             ],
             [
              1,
              "#f0f921"
             ]
            ],
            "type": "contour"
           }
          ],
          "contourcarpet": [
           {
            "colorbar": {
             "outlinewidth": 0,
             "ticks": ""
            },
            "type": "contourcarpet"
           }
          ],
          "heatmap": [
           {
            "colorbar": {
             "outlinewidth": 0,
             "ticks": ""
            },
            "colorscale": [
             [
              0,
              "#0d0887"
             ],
             [
              0.1111111111111111,
              "#46039f"
             ],
             [
              0.2222222222222222,
              "#7201a8"
             ],
             [
              0.3333333333333333,
              "#9c179e"
             ],
             [
              0.4444444444444444,
              "#bd3786"
             ],
             [
              0.5555555555555556,
              "#d8576b"
             ],
             [
              0.6666666666666666,
              "#ed7953"
             ],
             [
              0.7777777777777778,
              "#fb9f3a"
             ],
             [
              0.8888888888888888,
              "#fdca26"
             ],
             [
              1,
              "#f0f921"
             ]
            ],
            "type": "heatmap"
           }
          ],
          "heatmapgl": [
           {
            "colorbar": {
             "outlinewidth": 0,
             "ticks": ""
            },
            "colorscale": [
             [
              0,
              "#0d0887"
             ],
             [
              0.1111111111111111,
              "#46039f"
             ],
             [
              0.2222222222222222,
              "#7201a8"
             ],
             [
              0.3333333333333333,
              "#9c179e"
             ],
             [
              0.4444444444444444,
              "#bd3786"
             ],
             [
              0.5555555555555556,
              "#d8576b"
             ],
             [
              0.6666666666666666,
              "#ed7953"
             ],
             [
              0.7777777777777778,
              "#fb9f3a"
             ],
             [
              0.8888888888888888,
              "#fdca26"
             ],
             [
              1,
              "#f0f921"
             ]
            ],
            "type": "heatmapgl"
           }
          ],
          "histogram": [
           {
            "marker": {
             "pattern": {
              "fillmode": "overlay",
              "size": 10,
              "solidity": 0.2
             }
            },
            "type": "histogram"
           }
          ],
          "histogram2d": [
           {
            "colorbar": {
             "outlinewidth": 0,
             "ticks": ""
            },
            "colorscale": [
             [
              0,
              "#0d0887"
             ],
             [
              0.1111111111111111,
              "#46039f"
             ],
             [
              0.2222222222222222,
              "#7201a8"
             ],
             [
              0.3333333333333333,
              "#9c179e"
             ],
             [
              0.4444444444444444,
              "#bd3786"
             ],
             [
              0.5555555555555556,
              "#d8576b"
             ],
             [
              0.6666666666666666,
              "#ed7953"
             ],
             [
              0.7777777777777778,
              "#fb9f3a"
             ],
             [
              0.8888888888888888,
              "#fdca26"
             ],
             [
              1,
              "#f0f921"
             ]
            ],
            "type": "histogram2d"
           }
          ],
          "histogram2dcontour": [
           {
            "colorbar": {
             "outlinewidth": 0,
             "ticks": ""
            },
            "colorscale": [
             [
              0,
              "#0d0887"
             ],
             [
              0.1111111111111111,
              "#46039f"
             ],
             [
              0.2222222222222222,
              "#7201a8"
             ],
             [
              0.3333333333333333,
              "#9c179e"
             ],
             [
              0.4444444444444444,
              "#bd3786"
             ],
             [
              0.5555555555555556,
              "#d8576b"
             ],
             [
              0.6666666666666666,
              "#ed7953"
             ],
             [
              0.7777777777777778,
              "#fb9f3a"
             ],
             [
              0.8888888888888888,
              "#fdca26"
             ],
             [
              1,
              "#f0f921"
             ]
            ],
            "type": "histogram2dcontour"
           }
          ],
          "mesh3d": [
           {
            "colorbar": {
             "outlinewidth": 0,
             "ticks": ""
            },
            "type": "mesh3d"
           }
          ],
          "parcoords": [
           {
            "line": {
             "colorbar": {
              "outlinewidth": 0,
              "ticks": ""
             }
            },
            "type": "parcoords"
           }
          ],
          "pie": [
           {
            "automargin": true,
            "type": "pie"
           }
          ],
          "scatter": [
           {
            "fillpattern": {
             "fillmode": "overlay",
             "size": 10,
             "solidity": 0.2
            },
            "type": "scatter"
           }
          ],
          "scatter3d": [
           {
            "line": {
             "colorbar": {
              "outlinewidth": 0,
              "ticks": ""
             }
            },
            "marker": {
             "colorbar": {
              "outlinewidth": 0,
              "ticks": ""
             }
            },
            "type": "scatter3d"
           }
          ],
          "scattercarpet": [
           {
            "marker": {
             "colorbar": {
              "outlinewidth": 0,
              "ticks": ""
             }
            },
            "type": "scattercarpet"
           }
          ],
          "scattergeo": [
           {
            "marker": {
             "colorbar": {
              "outlinewidth": 0,
              "ticks": ""
             }
            },
            "type": "scattergeo"
           }
          ],
          "scattergl": [
           {
            "marker": {
             "colorbar": {
              "outlinewidth": 0,
              "ticks": ""
             }
            },
            "type": "scattergl"
           }
          ],
          "scattermapbox": [
           {
            "marker": {
             "colorbar": {
              "outlinewidth": 0,
              "ticks": ""
             }
            },
            "type": "scattermapbox"
           }
          ],
          "scatterpolar": [
           {
            "marker": {
             "colorbar": {
              "outlinewidth": 0,
              "ticks": ""
             }
            },
            "type": "scatterpolar"
           }
          ],
          "scatterpolargl": [
           {
            "marker": {
             "colorbar": {
              "outlinewidth": 0,
              "ticks": ""
             }
            },
            "type": "scatterpolargl"
           }
          ],
          "scatterternary": [
           {
            "marker": {
             "colorbar": {
              "outlinewidth": 0,
              "ticks": ""
             }
            },
            "type": "scatterternary"
           }
          ],
          "surface": [
           {
            "colorbar": {
             "outlinewidth": 0,
             "ticks": ""
            },
            "colorscale": [
             [
              0,
              "#0d0887"
             ],
             [
              0.1111111111111111,
              "#46039f"
             ],
             [
              0.2222222222222222,
              "#7201a8"
             ],
             [
              0.3333333333333333,
              "#9c179e"
             ],
             [
              0.4444444444444444,
              "#bd3786"
             ],
             [
              0.5555555555555556,
              "#d8576b"
             ],
             [
              0.6666666666666666,
              "#ed7953"
             ],
             [
              0.7777777777777778,
              "#fb9f3a"
             ],
             [
              0.8888888888888888,
              "#fdca26"
             ],
             [
              1,
              "#f0f921"
             ]
            ],
            "type": "surface"
           }
          ],
          "table": [
           {
            "cells": {
             "fill": {
              "color": "#EBF0F8"
             },
             "line": {
              "color": "white"
             }
            },
            "header": {
             "fill": {
              "color": "#C8D4E3"
             },
             "line": {
              "color": "white"
             }
            },
            "type": "table"
           }
          ]
         },
         "layout": {
          "annotationdefaults": {
           "arrowcolor": "#2a3f5f",
           "arrowhead": 0,
           "arrowwidth": 1
          },
          "autotypenumbers": "strict",
          "coloraxis": {
           "colorbar": {
            "outlinewidth": 0,
            "ticks": ""
           }
          },
          "colorscale": {
           "diverging": [
            [
             0,
             "#8e0152"
            ],
            [
             0.1,
             "#c51b7d"
            ],
            [
             0.2,
             "#de77ae"
            ],
            [
             0.3,
             "#f1b6da"
            ],
            [
             0.4,
             "#fde0ef"
            ],
            [
             0.5,
             "#f7f7f7"
            ],
            [
             0.6,
             "#e6f5d0"
            ],
            [
             0.7,
             "#b8e186"
            ],
            [
             0.8,
             "#7fbc41"
            ],
            [
             0.9,
             "#4d9221"
            ],
            [
             1,
             "#276419"
            ]
           ],
           "sequential": [
            [
             0,
             "#0d0887"
            ],
            [
             0.1111111111111111,
             "#46039f"
            ],
            [
             0.2222222222222222,
             "#7201a8"
            ],
            [
             0.3333333333333333,
             "#9c179e"
            ],
            [
             0.4444444444444444,
             "#bd3786"
            ],
            [
             0.5555555555555556,
             "#d8576b"
            ],
            [
             0.6666666666666666,
             "#ed7953"
            ],
            [
             0.7777777777777778,
             "#fb9f3a"
            ],
            [
             0.8888888888888888,
             "#fdca26"
            ],
            [
             1,
             "#f0f921"
            ]
           ],
           "sequentialminus": [
            [
             0,
             "#0d0887"
            ],
            [
             0.1111111111111111,
             "#46039f"
            ],
            [
             0.2222222222222222,
             "#7201a8"
            ],
            [
             0.3333333333333333,
             "#9c179e"
            ],
            [
             0.4444444444444444,
             "#bd3786"
            ],
            [
             0.5555555555555556,
             "#d8576b"
            ],
            [
             0.6666666666666666,
             "#ed7953"
            ],
            [
             0.7777777777777778,
             "#fb9f3a"
            ],
            [
             0.8888888888888888,
             "#fdca26"
            ],
            [
             1,
             "#f0f921"
            ]
           ]
          },
          "colorway": [
           "#636efa",
           "#EF553B",
           "#00cc96",
           "#ab63fa",
           "#FFA15A",
           "#19d3f3",
           "#FF6692",
           "#B6E880",
           "#FF97FF",
           "#FECB52"
          ],
          "font": {
           "color": "#2a3f5f"
          },
          "geo": {
           "bgcolor": "white",
           "lakecolor": "white",
           "landcolor": "#E5ECF6",
           "showlakes": true,
           "showland": true,
           "subunitcolor": "white"
          },
          "hoverlabel": {
           "align": "left"
          },
          "hovermode": "closest",
          "mapbox": {
           "style": "light"
          },
          "paper_bgcolor": "white",
          "plot_bgcolor": "#E5ECF6",
          "polar": {
           "angularaxis": {
            "gridcolor": "white",
            "linecolor": "white",
            "ticks": ""
           },
           "bgcolor": "#E5ECF6",
           "radialaxis": {
            "gridcolor": "white",
            "linecolor": "white",
            "ticks": ""
           }
          },
          "scene": {
           "xaxis": {
            "backgroundcolor": "#E5ECF6",
            "gridcolor": "white",
            "gridwidth": 2,
            "linecolor": "white",
            "showbackground": true,
            "ticks": "",
            "zerolinecolor": "white"
           },
           "yaxis": {
            "backgroundcolor": "#E5ECF6",
            "gridcolor": "white",
            "gridwidth": 2,
            "linecolor": "white",
            "showbackground": true,
            "ticks": "",
            "zerolinecolor": "white"
           },
           "zaxis": {
            "backgroundcolor": "#E5ECF6",
            "gridcolor": "white",
            "gridwidth": 2,
            "linecolor": "white",
            "showbackground": true,
            "ticks": "",
            "zerolinecolor": "white"
           }
          },
          "shapedefaults": {
           "line": {
            "color": "#2a3f5f"
           }
          },
          "ternary": {
           "aaxis": {
            "gridcolor": "white",
            "linecolor": "white",
            "ticks": ""
           },
           "baxis": {
            "gridcolor": "white",
            "linecolor": "white",
            "ticks": ""
           },
           "bgcolor": "#E5ECF6",
           "caxis": {
            "gridcolor": "white",
            "linecolor": "white",
            "ticks": ""
           }
          },
          "title": {
           "x": 0.05
          },
          "xaxis": {
           "automargin": true,
           "gridcolor": "white",
           "linecolor": "white",
           "ticks": "",
           "title": {
            "standoff": 15
           },
           "zerolinecolor": "white",
           "zerolinewidth": 2
          },
          "yaxis": {
           "automargin": true,
           "gridcolor": "white",
           "linecolor": "white",
           "ticks": "",
           "title": {
            "standoff": 15
           },
           "zerolinecolor": "white",
           "zerolinewidth": 2
          }
         }
        },
        "title": {
         "text": "Imbalance des cancel"
        },
        "xaxis": {
         "title": {
          "text": "imbalance"
         }
        },
        "yaxis": {
         "title": {
          "text": "delta_price"
         }
        }
       }
      }
     },
     "metadata": {},
     "output_type": "display_data"
    },
    {
     "data": {
      "application/vnd.plotly.v1+json": {
       "config": {
        "plotlyServerURL": "https://plot.ly"
       },
       "data": [
        {
         "mode": "lines",
         "name": "Density Curve",
         "type": "scatter",
         "x": [
          -0.9025,
          -0.8075,
          -0.7124999999999999,
          -0.6174999999999999,
          -0.5225,
          -0.42749999999999994,
          -0.3324999999999999,
          -0.23749999999999993,
          -0.14249999999999996,
          -0.04749999999999999,
          0.04749999999999999,
          0.14250000000000007,
          0.23750000000000016,
          0.33250000000000013,
          0.4275000000000001,
          0.5225000000000001,
          0.6175,
          0.7125,
          0.8075,
          0.9025
         ],
         "y": [
          53862,
          65957,
          84138,
          101234,
          118933,
          134103,
          147406,
          155497,
          157508,
          156933,
          161556,
          157173,
          154854,
          148075,
          134854,
          119877,
          101493,
          83169,
          65876,
          51092
         ]
        }
       ],
       "layout": {
        "showlegend": false,
        "template": {
         "data": {
          "bar": [
           {
            "error_x": {
             "color": "#2a3f5f"
            },
            "error_y": {
             "color": "#2a3f5f"
            },
            "marker": {
             "line": {
              "color": "#E5ECF6",
              "width": 0.5
             },
             "pattern": {
              "fillmode": "overlay",
              "size": 10,
              "solidity": 0.2
             }
            },
            "type": "bar"
           }
          ],
          "barpolar": [
           {
            "marker": {
             "line": {
              "color": "#E5ECF6",
              "width": 0.5
             },
             "pattern": {
              "fillmode": "overlay",
              "size": 10,
              "solidity": 0.2
             }
            },
            "type": "barpolar"
           }
          ],
          "carpet": [
           {
            "aaxis": {
             "endlinecolor": "#2a3f5f",
             "gridcolor": "white",
             "linecolor": "white",
             "minorgridcolor": "white",
             "startlinecolor": "#2a3f5f"
            },
            "baxis": {
             "endlinecolor": "#2a3f5f",
             "gridcolor": "white",
             "linecolor": "white",
             "minorgridcolor": "white",
             "startlinecolor": "#2a3f5f"
            },
            "type": "carpet"
           }
          ],
          "choropleth": [
           {
            "colorbar": {
             "outlinewidth": 0,
             "ticks": ""
            },
            "type": "choropleth"
           }
          ],
          "contour": [
           {
            "colorbar": {
             "outlinewidth": 0,
             "ticks": ""
            },
            "colorscale": [
             [
              0,
              "#0d0887"
             ],
             [
              0.1111111111111111,
              "#46039f"
             ],
             [
              0.2222222222222222,
              "#7201a8"
             ],
             [
              0.3333333333333333,
              "#9c179e"
             ],
             [
              0.4444444444444444,
              "#bd3786"
             ],
             [
              0.5555555555555556,
              "#d8576b"
             ],
             [
              0.6666666666666666,
              "#ed7953"
             ],
             [
              0.7777777777777778,
              "#fb9f3a"
             ],
             [
              0.8888888888888888,
              "#fdca26"
             ],
             [
              1,
              "#f0f921"
             ]
            ],
            "type": "contour"
           }
          ],
          "contourcarpet": [
           {
            "colorbar": {
             "outlinewidth": 0,
             "ticks": ""
            },
            "type": "contourcarpet"
           }
          ],
          "heatmap": [
           {
            "colorbar": {
             "outlinewidth": 0,
             "ticks": ""
            },
            "colorscale": [
             [
              0,
              "#0d0887"
             ],
             [
              0.1111111111111111,
              "#46039f"
             ],
             [
              0.2222222222222222,
              "#7201a8"
             ],
             [
              0.3333333333333333,
              "#9c179e"
             ],
             [
              0.4444444444444444,
              "#bd3786"
             ],
             [
              0.5555555555555556,
              "#d8576b"
             ],
             [
              0.6666666666666666,
              "#ed7953"
             ],
             [
              0.7777777777777778,
              "#fb9f3a"
             ],
             [
              0.8888888888888888,
              "#fdca26"
             ],
             [
              1,
              "#f0f921"
             ]
            ],
            "type": "heatmap"
           }
          ],
          "heatmapgl": [
           {
            "colorbar": {
             "outlinewidth": 0,
             "ticks": ""
            },
            "colorscale": [
             [
              0,
              "#0d0887"
             ],
             [
              0.1111111111111111,
              "#46039f"
             ],
             [
              0.2222222222222222,
              "#7201a8"
             ],
             [
              0.3333333333333333,
              "#9c179e"
             ],
             [
              0.4444444444444444,
              "#bd3786"
             ],
             [
              0.5555555555555556,
              "#d8576b"
             ],
             [
              0.6666666666666666,
              "#ed7953"
             ],
             [
              0.7777777777777778,
              "#fb9f3a"
             ],
             [
              0.8888888888888888,
              "#fdca26"
             ],
             [
              1,
              "#f0f921"
             ]
            ],
            "type": "heatmapgl"
           }
          ],
          "histogram": [
           {
            "marker": {
             "pattern": {
              "fillmode": "overlay",
              "size": 10,
              "solidity": 0.2
             }
            },
            "type": "histogram"
           }
          ],
          "histogram2d": [
           {
            "colorbar": {
             "outlinewidth": 0,
             "ticks": ""
            },
            "colorscale": [
             [
              0,
              "#0d0887"
             ],
             [
              0.1111111111111111,
              "#46039f"
             ],
             [
              0.2222222222222222,
              "#7201a8"
             ],
             [
              0.3333333333333333,
              "#9c179e"
             ],
             [
              0.4444444444444444,
              "#bd3786"
             ],
             [
              0.5555555555555556,
              "#d8576b"
             ],
             [
              0.6666666666666666,
              "#ed7953"
             ],
             [
              0.7777777777777778,
              "#fb9f3a"
             ],
             [
              0.8888888888888888,
              "#fdca26"
             ],
             [
              1,
              "#f0f921"
             ]
            ],
            "type": "histogram2d"
           }
          ],
          "histogram2dcontour": [
           {
            "colorbar": {
             "outlinewidth": 0,
             "ticks": ""
            },
            "colorscale": [
             [
              0,
              "#0d0887"
             ],
             [
              0.1111111111111111,
              "#46039f"
             ],
             [
              0.2222222222222222,
              "#7201a8"
             ],
             [
              0.3333333333333333,
              "#9c179e"
             ],
             [
              0.4444444444444444,
              "#bd3786"
             ],
             [
              0.5555555555555556,
              "#d8576b"
             ],
             [
              0.6666666666666666,
              "#ed7953"
             ],
             [
              0.7777777777777778,
              "#fb9f3a"
             ],
             [
              0.8888888888888888,
              "#fdca26"
             ],
             [
              1,
              "#f0f921"
             ]
            ],
            "type": "histogram2dcontour"
           }
          ],
          "mesh3d": [
           {
            "colorbar": {
             "outlinewidth": 0,
             "ticks": ""
            },
            "type": "mesh3d"
           }
          ],
          "parcoords": [
           {
            "line": {
             "colorbar": {
              "outlinewidth": 0,
              "ticks": ""
             }
            },
            "type": "parcoords"
           }
          ],
          "pie": [
           {
            "automargin": true,
            "type": "pie"
           }
          ],
          "scatter": [
           {
            "fillpattern": {
             "fillmode": "overlay",
             "size": 10,
             "solidity": 0.2
            },
            "type": "scatter"
           }
          ],
          "scatter3d": [
           {
            "line": {
             "colorbar": {
              "outlinewidth": 0,
              "ticks": ""
             }
            },
            "marker": {
             "colorbar": {
              "outlinewidth": 0,
              "ticks": ""
             }
            },
            "type": "scatter3d"
           }
          ],
          "scattercarpet": [
           {
            "marker": {
             "colorbar": {
              "outlinewidth": 0,
              "ticks": ""
             }
            },
            "type": "scattercarpet"
           }
          ],
          "scattergeo": [
           {
            "marker": {
             "colorbar": {
              "outlinewidth": 0,
              "ticks": ""
             }
            },
            "type": "scattergeo"
           }
          ],
          "scattergl": [
           {
            "marker": {
             "colorbar": {
              "outlinewidth": 0,
              "ticks": ""
             }
            },
            "type": "scattergl"
           }
          ],
          "scattermapbox": [
           {
            "marker": {
             "colorbar": {
              "outlinewidth": 0,
              "ticks": ""
             }
            },
            "type": "scattermapbox"
           }
          ],
          "scatterpolar": [
           {
            "marker": {
             "colorbar": {
              "outlinewidth": 0,
              "ticks": ""
             }
            },
            "type": "scatterpolar"
           }
          ],
          "scatterpolargl": [
           {
            "marker": {
             "colorbar": {
              "outlinewidth": 0,
              "ticks": ""
             }
            },
            "type": "scatterpolargl"
           }
          ],
          "scatterternary": [
           {
            "marker": {
             "colorbar": {
              "outlinewidth": 0,
              "ticks": ""
             }
            },
            "type": "scatterternary"
           }
          ],
          "surface": [
           {
            "colorbar": {
             "outlinewidth": 0,
             "ticks": ""
            },
            "colorscale": [
             [
              0,
              "#0d0887"
             ],
             [
              0.1111111111111111,
              "#46039f"
             ],
             [
              0.2222222222222222,
              "#7201a8"
             ],
             [
              0.3333333333333333,
              "#9c179e"
             ],
             [
              0.4444444444444444,
              "#bd3786"
             ],
             [
              0.5555555555555556,
              "#d8576b"
             ],
             [
              0.6666666666666666,
              "#ed7953"
             ],
             [
              0.7777777777777778,
              "#fb9f3a"
             ],
             [
              0.8888888888888888,
              "#fdca26"
             ],
             [
              1,
              "#f0f921"
             ]
            ],
            "type": "surface"
           }
          ],
          "table": [
           {
            "cells": {
             "fill": {
              "color": "#EBF0F8"
             },
             "line": {
              "color": "white"
             }
            },
            "header": {
             "fill": {
              "color": "#C8D4E3"
             },
             "line": {
              "color": "white"
             }
            },
            "type": "table"
           }
          ]
         },
         "layout": {
          "annotationdefaults": {
           "arrowcolor": "#2a3f5f",
           "arrowhead": 0,
           "arrowwidth": 1
          },
          "autotypenumbers": "strict",
          "coloraxis": {
           "colorbar": {
            "outlinewidth": 0,
            "ticks": ""
           }
          },
          "colorscale": {
           "diverging": [
            [
             0,
             "#8e0152"
            ],
            [
             0.1,
             "#c51b7d"
            ],
            [
             0.2,
             "#de77ae"
            ],
            [
             0.3,
             "#f1b6da"
            ],
            [
             0.4,
             "#fde0ef"
            ],
            [
             0.5,
             "#f7f7f7"
            ],
            [
             0.6,
             "#e6f5d0"
            ],
            [
             0.7,
             "#b8e186"
            ],
            [
             0.8,
             "#7fbc41"
            ],
            [
             0.9,
             "#4d9221"
            ],
            [
             1,
             "#276419"
            ]
           ],
           "sequential": [
            [
             0,
             "#0d0887"
            ],
            [
             0.1111111111111111,
             "#46039f"
            ],
            [
             0.2222222222222222,
             "#7201a8"
            ],
            [
             0.3333333333333333,
             "#9c179e"
            ],
            [
             0.4444444444444444,
             "#bd3786"
            ],
            [
             0.5555555555555556,
             "#d8576b"
            ],
            [
             0.6666666666666666,
             "#ed7953"
            ],
            [
             0.7777777777777778,
             "#fb9f3a"
            ],
            [
             0.8888888888888888,
             "#fdca26"
            ],
            [
             1,
             "#f0f921"
            ]
           ],
           "sequentialminus": [
            [
             0,
             "#0d0887"
            ],
            [
             0.1111111111111111,
             "#46039f"
            ],
            [
             0.2222222222222222,
             "#7201a8"
            ],
            [
             0.3333333333333333,
             "#9c179e"
            ],
            [
             0.4444444444444444,
             "#bd3786"
            ],
            [
             0.5555555555555556,
             "#d8576b"
            ],
            [
             0.6666666666666666,
             "#ed7953"
            ],
            [
             0.7777777777777778,
             "#fb9f3a"
            ],
            [
             0.8888888888888888,
             "#fdca26"
            ],
            [
             1,
             "#f0f921"
            ]
           ]
          },
          "colorway": [
           "#636efa",
           "#EF553B",
           "#00cc96",
           "#ab63fa",
           "#FFA15A",
           "#19d3f3",
           "#FF6692",
           "#B6E880",
           "#FF97FF",
           "#FECB52"
          ],
          "font": {
           "color": "#2a3f5f"
          },
          "geo": {
           "bgcolor": "white",
           "lakecolor": "white",
           "landcolor": "#E5ECF6",
           "showlakes": true,
           "showland": true,
           "subunitcolor": "white"
          },
          "hoverlabel": {
           "align": "left"
          },
          "hovermode": "closest",
          "mapbox": {
           "style": "light"
          },
          "paper_bgcolor": "white",
          "plot_bgcolor": "#E5ECF6",
          "polar": {
           "angularaxis": {
            "gridcolor": "white",
            "linecolor": "white",
            "ticks": ""
           },
           "bgcolor": "#E5ECF6",
           "radialaxis": {
            "gridcolor": "white",
            "linecolor": "white",
            "ticks": ""
           }
          },
          "scene": {
           "xaxis": {
            "backgroundcolor": "#E5ECF6",
            "gridcolor": "white",
            "gridwidth": 2,
            "linecolor": "white",
            "showbackground": true,
            "ticks": "",
            "zerolinecolor": "white"
           },
           "yaxis": {
            "backgroundcolor": "#E5ECF6",
            "gridcolor": "white",
            "gridwidth": 2,
            "linecolor": "white",
            "showbackground": true,
            "ticks": "",
            "zerolinecolor": "white"
           },
           "zaxis": {
            "backgroundcolor": "#E5ECF6",
            "gridcolor": "white",
            "gridwidth": 2,
            "linecolor": "white",
            "showbackground": true,
            "ticks": "",
            "zerolinecolor": "white"
           }
          },
          "shapedefaults": {
           "line": {
            "color": "#2a3f5f"
           }
          },
          "ternary": {
           "aaxis": {
            "gridcolor": "white",
            "linecolor": "white",
            "ticks": ""
           },
           "baxis": {
            "gridcolor": "white",
            "linecolor": "white",
            "ticks": ""
           },
           "bgcolor": "#E5ECF6",
           "caxis": {
            "gridcolor": "white",
            "linecolor": "white",
            "ticks": ""
           }
          },
          "title": {
           "x": 0.05
          },
          "xaxis": {
           "automargin": true,
           "gridcolor": "white",
           "linecolor": "white",
           "ticks": "",
           "title": {
            "standoff": 15
           },
           "zerolinecolor": "white",
           "zerolinewidth": 2
          },
          "yaxis": {
           "automargin": true,
           "gridcolor": "white",
           "linecolor": "white",
           "ticks": "",
           "title": {
            "standoff": 15
           },
           "zerolinecolor": "white",
           "zerolinewidth": 2
          }
         }
        },
        "title": {
         "text": "Courbe de distribution de l'imbalance des cancel"
        },
        "xaxis": {
         "title": {
          "text": "imbalance"
         }
        },
        "yaxis": {
         "title": {
          "text": "number of events"
         }
        }
       }
      }
     },
     "metadata": {},
     "output_type": "display_data"
    },
    {
     "data": {
      "application/vnd.plotly.v1+json": {
       "config": {
        "plotlyServerURL": "https://plot.ly"
       },
       "data": [
        {
         "mode": "lines",
         "name": "Trades",
         "type": "scatter",
         "x": [
          -0.912,
          -0.836,
          -0.76,
          -0.6839999999999999,
          -0.6079999999999999,
          -0.532,
          -0.456,
          -0.3799999999999999,
          -0.304,
          -0.228,
          -0.15199999999999997,
          -0.07600000000000001,
          0,
          0.07600000000000007,
          0.15200000000000002,
          0.228,
          0.30400000000000005,
          0.38,
          0.456,
          0.532,
          0.608,
          0.6839999999999999,
          0.76,
          0.836,
          0.912
         ],
         "y": [
          0.07984018791091793,
          0.05204629699674711,
          0.03295754339541922,
          0.02503962378601199,
          0.019991223636191945,
          0.017592364739998746,
          0.015950330112369376,
          0.015237505449241589,
          0.014711485464223751,
          0.014272700772482143,
          0.013818208292381055,
          0.013925313310481163,
          0.013659146988731028,
          0.013207485214548663,
          0.012326983290902174,
          0.011454466040620222,
          0.01135835344785906,
          0.011766936401261807,
          0.012199989587491106,
          0.013491034171647685,
          0.016311471430651973,
          0.021899726253421833,
          0.03142524520061177,
          0.05164259927797834,
          0.0847153451966529
         ]
        },
        {
         "mode": "lines",
         "name": "Cancel",
         "type": "scatter",
         "x": [
          -0.912,
          -0.836,
          -0.76,
          -0.6839999999999999,
          -0.6079999999999999,
          -0.532,
          -0.456,
          -0.3799999999999999,
          -0.304,
          -0.228,
          -0.15199999999999997,
          -0.07600000000000001,
          0,
          0.07600000000000007,
          0.15200000000000002,
          0.228,
          0.30400000000000005,
          0.38,
          0.456,
          0.532,
          0.608,
          0.6839999999999999,
          0.76,
          0.836,
          0.912
         ],
         "y": [
          0.4555193344089916,
          0.4783266510326046,
          0.49892650309373093,
          0.5104587227769914,
          0.5195718467580224,
          0.5272787805972525,
          0.5307507323685016,
          0.5336508492668478,
          0.5334087958184905,
          0.530042996647719,
          0.5293072694841833,
          0.5295246386274189,
          0.5251952562056675,
          0.5303097191767577,
          0.5286885845550581,
          0.5349930843706777,
          0.5363939645265308,
          0.5345948736980533,
          0.5376542352879926,
          0.5389271080034586,
          0.5343948735375503,
          0.5351058111773603,
          0.5234395805909163,
          0.5062454873646209,
          0.4831888257043396
         ]
        },
        {
         "mode": "lines",
         "name": " Add",
         "type": "scatter",
         "x": [
          -0.912,
          -0.836,
          -0.76,
          -0.6839999999999999,
          -0.6079999999999999,
          -0.532,
          -0.456,
          -0.3799999999999999,
          -0.304,
          -0.228,
          -0.15199999999999997,
          -0.07600000000000001,
          0,
          0.07600000000000007,
          0.15200000000000002,
          0.228,
          0.30400000000000005,
          0.38,
          0.456,
          0.532,
          0.608,
          0.6839999999999999,
          0.76,
          0.836,
          0.912
         ],
         "y": [
          0.4646404776800904,
          0.4696270519706483,
          0.46811595351084984,
          0.46450165343699656,
          0.46043692960578575,
          0.45512885466274866,
          0.45329893751912903,
          0.45111164528391057,
          0.4518797187172857,
          0.45568430257979886,
          0.4568745222234356,
          0.45655004806209987,
          0.46114559680560147,
          0.4564827956086936,
          0.4589844321540397,
          0.45355244958870206,
          0.4522476820256102,
          0.45363818990068494,
          0.45014577512451626,
          0.4475818578248938,
          0.4492936550317976,
          0.4429944625692179,
          0.4451351742084719,
          0.44211191335740074,
          0.4320958290990076
         ]
        }
       ],
       "layout": {
        "showlegend": true,
        "template": {
         "data": {
          "bar": [
           {
            "error_x": {
             "color": "#2a3f5f"
            },
            "error_y": {
             "color": "#2a3f5f"
            },
            "marker": {
             "line": {
              "color": "#E5ECF6",
              "width": 0.5
             },
             "pattern": {
              "fillmode": "overlay",
              "size": 10,
              "solidity": 0.2
             }
            },
            "type": "bar"
           }
          ],
          "barpolar": [
           {
            "marker": {
             "line": {
              "color": "#E5ECF6",
              "width": 0.5
             },
             "pattern": {
              "fillmode": "overlay",
              "size": 10,
              "solidity": 0.2
             }
            },
            "type": "barpolar"
           }
          ],
          "carpet": [
           {
            "aaxis": {
             "endlinecolor": "#2a3f5f",
             "gridcolor": "white",
             "linecolor": "white",
             "minorgridcolor": "white",
             "startlinecolor": "#2a3f5f"
            },
            "baxis": {
             "endlinecolor": "#2a3f5f",
             "gridcolor": "white",
             "linecolor": "white",
             "minorgridcolor": "white",
             "startlinecolor": "#2a3f5f"
            },
            "type": "carpet"
           }
          ],
          "choropleth": [
           {
            "colorbar": {
             "outlinewidth": 0,
             "ticks": ""
            },
            "type": "choropleth"
           }
          ],
          "contour": [
           {
            "colorbar": {
             "outlinewidth": 0,
             "ticks": ""
            },
            "colorscale": [
             [
              0,
              "#0d0887"
             ],
             [
              0.1111111111111111,
              "#46039f"
             ],
             [
              0.2222222222222222,
              "#7201a8"
             ],
             [
              0.3333333333333333,
              "#9c179e"
             ],
             [
              0.4444444444444444,
              "#bd3786"
             ],
             [
              0.5555555555555556,
              "#d8576b"
             ],
             [
              0.6666666666666666,
              "#ed7953"
             ],
             [
              0.7777777777777778,
              "#fb9f3a"
             ],
             [
              0.8888888888888888,
              "#fdca26"
             ],
             [
              1,
              "#f0f921"
             ]
            ],
            "type": "contour"
           }
          ],
          "contourcarpet": [
           {
            "colorbar": {
             "outlinewidth": 0,
             "ticks": ""
            },
            "type": "contourcarpet"
           }
          ],
          "heatmap": [
           {
            "colorbar": {
             "outlinewidth": 0,
             "ticks": ""
            },
            "colorscale": [
             [
              0,
              "#0d0887"
             ],
             [
              0.1111111111111111,
              "#46039f"
             ],
             [
              0.2222222222222222,
              "#7201a8"
             ],
             [
              0.3333333333333333,
              "#9c179e"
             ],
             [
              0.4444444444444444,
              "#bd3786"
             ],
             [
              0.5555555555555556,
              "#d8576b"
             ],
             [
              0.6666666666666666,
              "#ed7953"
             ],
             [
              0.7777777777777778,
              "#fb9f3a"
             ],
             [
              0.8888888888888888,
              "#fdca26"
             ],
             [
              1,
              "#f0f921"
             ]
            ],
            "type": "heatmap"
           }
          ],
          "heatmapgl": [
           {
            "colorbar": {
             "outlinewidth": 0,
             "ticks": ""
            },
            "colorscale": [
             [
              0,
              "#0d0887"
             ],
             [
              0.1111111111111111,
              "#46039f"
             ],
             [
              0.2222222222222222,
              "#7201a8"
             ],
             [
              0.3333333333333333,
              "#9c179e"
             ],
             [
              0.4444444444444444,
              "#bd3786"
             ],
             [
              0.5555555555555556,
              "#d8576b"
             ],
             [
              0.6666666666666666,
              "#ed7953"
             ],
             [
              0.7777777777777778,
              "#fb9f3a"
             ],
             [
              0.8888888888888888,
              "#fdca26"
             ],
             [
              1,
              "#f0f921"
             ]
            ],
            "type": "heatmapgl"
           }
          ],
          "histogram": [
           {
            "marker": {
             "pattern": {
              "fillmode": "overlay",
              "size": 10,
              "solidity": 0.2
             }
            },
            "type": "histogram"
           }
          ],
          "histogram2d": [
           {
            "colorbar": {
             "outlinewidth": 0,
             "ticks": ""
            },
            "colorscale": [
             [
              0,
              "#0d0887"
             ],
             [
              0.1111111111111111,
              "#46039f"
             ],
             [
              0.2222222222222222,
              "#7201a8"
             ],
             [
              0.3333333333333333,
              "#9c179e"
             ],
             [
              0.4444444444444444,
              "#bd3786"
             ],
             [
              0.5555555555555556,
              "#d8576b"
             ],
             [
              0.6666666666666666,
              "#ed7953"
             ],
             [
              0.7777777777777778,
              "#fb9f3a"
             ],
             [
              0.8888888888888888,
              "#fdca26"
             ],
             [
              1,
              "#f0f921"
             ]
            ],
            "type": "histogram2d"
           }
          ],
          "histogram2dcontour": [
           {
            "colorbar": {
             "outlinewidth": 0,
             "ticks": ""
            },
            "colorscale": [
             [
              0,
              "#0d0887"
             ],
             [
              0.1111111111111111,
              "#46039f"
             ],
             [
              0.2222222222222222,
              "#7201a8"
             ],
             [
              0.3333333333333333,
              "#9c179e"
             ],
             [
              0.4444444444444444,
              "#bd3786"
             ],
             [
              0.5555555555555556,
              "#d8576b"
             ],
             [
              0.6666666666666666,
              "#ed7953"
             ],
             [
              0.7777777777777778,
              "#fb9f3a"
             ],
             [
              0.8888888888888888,
              "#fdca26"
             ],
             [
              1,
              "#f0f921"
             ]
            ],
            "type": "histogram2dcontour"
           }
          ],
          "mesh3d": [
           {
            "colorbar": {
             "outlinewidth": 0,
             "ticks": ""
            },
            "type": "mesh3d"
           }
          ],
          "parcoords": [
           {
            "line": {
             "colorbar": {
              "outlinewidth": 0,
              "ticks": ""
             }
            },
            "type": "parcoords"
           }
          ],
          "pie": [
           {
            "automargin": true,
            "type": "pie"
           }
          ],
          "scatter": [
           {
            "fillpattern": {
             "fillmode": "overlay",
             "size": 10,
             "solidity": 0.2
            },
            "type": "scatter"
           }
          ],
          "scatter3d": [
           {
            "line": {
             "colorbar": {
              "outlinewidth": 0,
              "ticks": ""
             }
            },
            "marker": {
             "colorbar": {
              "outlinewidth": 0,
              "ticks": ""
             }
            },
            "type": "scatter3d"
           }
          ],
          "scattercarpet": [
           {
            "marker": {
             "colorbar": {
              "outlinewidth": 0,
              "ticks": ""
             }
            },
            "type": "scattercarpet"
           }
          ],
          "scattergeo": [
           {
            "marker": {
             "colorbar": {
              "outlinewidth": 0,
              "ticks": ""
             }
            },
            "type": "scattergeo"
           }
          ],
          "scattergl": [
           {
            "marker": {
             "colorbar": {
              "outlinewidth": 0,
              "ticks": ""
             }
            },
            "type": "scattergl"
           }
          ],
          "scattermapbox": [
           {
            "marker": {
             "colorbar": {
              "outlinewidth": 0,
              "ticks": ""
             }
            },
            "type": "scattermapbox"
           }
          ],
          "scatterpolar": [
           {
            "marker": {
             "colorbar": {
              "outlinewidth": 0,
              "ticks": ""
             }
            },
            "type": "scatterpolar"
           }
          ],
          "scatterpolargl": [
           {
            "marker": {
             "colorbar": {
              "outlinewidth": 0,
              "ticks": ""
             }
            },
            "type": "scatterpolargl"
           }
          ],
          "scatterternary": [
           {
            "marker": {
             "colorbar": {
              "outlinewidth": 0,
              "ticks": ""
             }
            },
            "type": "scatterternary"
           }
          ],
          "surface": [
           {
            "colorbar": {
             "outlinewidth": 0,
             "ticks": ""
            },
            "colorscale": [
             [
              0,
              "#0d0887"
             ],
             [
              0.1111111111111111,
              "#46039f"
             ],
             [
              0.2222222222222222,
              "#7201a8"
             ],
             [
              0.3333333333333333,
              "#9c179e"
             ],
             [
              0.4444444444444444,
              "#bd3786"
             ],
             [
              0.5555555555555556,
              "#d8576b"
             ],
             [
              0.6666666666666666,
              "#ed7953"
             ],
             [
              0.7777777777777778,
              "#fb9f3a"
             ],
             [
              0.8888888888888888,
              "#fdca26"
             ],
             [
              1,
              "#f0f921"
             ]
            ],
            "type": "surface"
           }
          ],
          "table": [
           {
            "cells": {
             "fill": {
              "color": "#EBF0F8"
             },
             "line": {
              "color": "white"
             }
            },
            "header": {
             "fill": {
              "color": "#C8D4E3"
             },
             "line": {
              "color": "white"
             }
            },
            "type": "table"
           }
          ]
         },
         "layout": {
          "annotationdefaults": {
           "arrowcolor": "#2a3f5f",
           "arrowhead": 0,
           "arrowwidth": 1
          },
          "autotypenumbers": "strict",
          "coloraxis": {
           "colorbar": {
            "outlinewidth": 0,
            "ticks": ""
           }
          },
          "colorscale": {
           "diverging": [
            [
             0,
             "#8e0152"
            ],
            [
             0.1,
             "#c51b7d"
            ],
            [
             0.2,
             "#de77ae"
            ],
            [
             0.3,
             "#f1b6da"
            ],
            [
             0.4,
             "#fde0ef"
            ],
            [
             0.5,
             "#f7f7f7"
            ],
            [
             0.6,
             "#e6f5d0"
            ],
            [
             0.7,
             "#b8e186"
            ],
            [
             0.8,
             "#7fbc41"
            ],
            [
             0.9,
             "#4d9221"
            ],
            [
             1,
             "#276419"
            ]
           ],
           "sequential": [
            [
             0,
             "#0d0887"
            ],
            [
             0.1111111111111111,
             "#46039f"
            ],
            [
             0.2222222222222222,
             "#7201a8"
            ],
            [
             0.3333333333333333,
             "#9c179e"
            ],
            [
             0.4444444444444444,
             "#bd3786"
            ],
            [
             0.5555555555555556,
             "#d8576b"
            ],
            [
             0.6666666666666666,
             "#ed7953"
            ],
            [
             0.7777777777777778,
             "#fb9f3a"
            ],
            [
             0.8888888888888888,
             "#fdca26"
            ],
            [
             1,
             "#f0f921"
            ]
           ],
           "sequentialminus": [
            [
             0,
             "#0d0887"
            ],
            [
             0.1111111111111111,
             "#46039f"
            ],
            [
             0.2222222222222222,
             "#7201a8"
            ],
            [
             0.3333333333333333,
             "#9c179e"
            ],
            [
             0.4444444444444444,
             "#bd3786"
            ],
            [
             0.5555555555555556,
             "#d8576b"
            ],
            [
             0.6666666666666666,
             "#ed7953"
            ],
            [
             0.7777777777777778,
             "#fb9f3a"
            ],
            [
             0.8888888888888888,
             "#fdca26"
            ],
            [
             1,
             "#f0f921"
            ]
           ]
          },
          "colorway": [
           "#636efa",
           "#EF553B",
           "#00cc96",
           "#ab63fa",
           "#FFA15A",
           "#19d3f3",
           "#FF6692",
           "#B6E880",
           "#FF97FF",
           "#FECB52"
          ],
          "font": {
           "color": "#2a3f5f"
          },
          "geo": {
           "bgcolor": "white",
           "lakecolor": "white",
           "landcolor": "#E5ECF6",
           "showlakes": true,
           "showland": true,
           "subunitcolor": "white"
          },
          "hoverlabel": {
           "align": "left"
          },
          "hovermode": "closest",
          "mapbox": {
           "style": "light"
          },
          "paper_bgcolor": "white",
          "plot_bgcolor": "#E5ECF6",
          "polar": {
           "angularaxis": {
            "gridcolor": "white",
            "linecolor": "white",
            "ticks": ""
           },
           "bgcolor": "#E5ECF6",
           "radialaxis": {
            "gridcolor": "white",
            "linecolor": "white",
            "ticks": ""
           }
          },
          "scene": {
           "xaxis": {
            "backgroundcolor": "#E5ECF6",
            "gridcolor": "white",
            "gridwidth": 2,
            "linecolor": "white",
            "showbackground": true,
            "ticks": "",
            "zerolinecolor": "white"
           },
           "yaxis": {
            "backgroundcolor": "#E5ECF6",
            "gridcolor": "white",
            "gridwidth": 2,
            "linecolor": "white",
            "showbackground": true,
            "ticks": "",
            "zerolinecolor": "white"
           },
           "zaxis": {
            "backgroundcolor": "#E5ECF6",
            "gridcolor": "white",
            "gridwidth": 2,
            "linecolor": "white",
            "showbackground": true,
            "ticks": "",
            "zerolinecolor": "white"
           }
          },
          "shapedefaults": {
           "line": {
            "color": "#2a3f5f"
           }
          },
          "ternary": {
           "aaxis": {
            "gridcolor": "white",
            "linecolor": "white",
            "ticks": ""
           },
           "baxis": {
            "gridcolor": "white",
            "linecolor": "white",
            "ticks": ""
           },
           "bgcolor": "#E5ECF6",
           "caxis": {
            "gridcolor": "white",
            "linecolor": "white",
            "ticks": ""
           }
          },
          "title": {
           "x": 0.05
          },
          "xaxis": {
           "automargin": true,
           "gridcolor": "white",
           "linecolor": "white",
           "ticks": "",
           "title": {
            "standoff": 15
           },
           "zerolinecolor": "white",
           "zerolinewidth": 2
          },
          "yaxis": {
           "automargin": true,
           "gridcolor": "white",
           "linecolor": "white",
           "ticks": "",
           "title": {
            "standoff": 15
           },
           "zerolinecolor": "white",
           "zerolinewidth": 2
          }
         }
        },
        "title": {
         "text": "Courbes de distribution de l'imbalance (tous les event))"
        },
        "xaxis": {
         "title": {
          "text": "imbalance"
         }
        },
        "yaxis": {
         "title": {
          "text": "Probabilité de l'event"
         }
        }
       }
      }
     },
     "metadata": {},
     "output_type": "display_data"
    }
   ],
   "source": [
    "visu_imbalance_respec(imb_tot, price_tot, 0 , 'trades', 10000)\n",
    "visu_imbalance_respec(imb_tot, price_tot, 1 , 'add', 150000)\n",
    "visu_imbalance_respec(imb_tot, price_tot, 2 , 'cancel', 150000)\n",
    "visu_event_vs_imbalance(imb_tot, price_tot, ['Trades', 'Cancel',' Add'], bound = .95)"
   ]
  },
  {
   "cell_type": "code",
   "execution_count": 9,
   "metadata": {},
   "outputs": [
    {
     "name": "stderr",
     "output_type": "stream",
     "text": [
      "100%|██████████| 65/65 [00:13<00:00,  4.92it/s]\n"
     ]
    }
   ],
   "source": [
    "imb = np.array([])\n",
    "intensity = np.array([])\n",
    "limite = 0\n",
    "for f in tqdm(files_csv):\n",
    "    df = pd.read_csv(f)\n",
    "    df = df[:-100]\n",
    "    imb = np.concatenate([imb, df['imbalance'].to_numpy()])\n",
    "    intensity = np.concatenate([intensity, df['time_diff'].to_numpy()])\n",
    "\n",
    "intensity = 1/np.array(intensity)"
   ]
  },
  {
   "cell_type": "code",
   "execution_count": 10,
   "metadata": {},
   "outputs": [],
   "source": [
    "indices_trie = np.argsort(imb)\n",
    "\n",
    "bounds = 0.9\n",
    "imb_trie = imb[indices_trie]\n",
    "intensity_trie = intensity[indices_trie]\n",
    "mask = (imb_trie >= -bounds)&(imb_trie <= bounds)\n",
    "imb_trie = imb_trie[mask]\n",
    "intensity_trie = intensity_trie[mask]\n",
    "group_size = 300000\n",
    "\n",
    "imb_trie_groups = [imb_trie[i:i + group_size] for i in range(0, len(imb_trie), group_size)]\n",
    "intensity_trie_groups = [intensity_trie[i:i + group_size] for i in range(0, len(intensity_trie), group_size)]\n",
    "\n",
    "imb_trie_means = np.array([np.mean(group) for group in imb_trie_groups])\n",
    "intensity_trie_means = np.array([np.mean(group) for group in intensity_trie_groups])\n",
    "\n",
    "intensity_trie_std = np.array([np.std(group)/np.sqrt(len(group)) for group in intensity_trie_groups])"
   ]
  },
  {
   "cell_type": "code",
   "execution_count": 11,
   "metadata": {},
   "outputs": [
    {
     "data": {
      "application/vnd.plotly.v1+json": {
       "config": {
        "plotlyServerURL": "https://plot.ly"
       },
       "data": [
        {
         "line": {
          "width": 0
         },
         "mode": "lines",
         "name": "Upper Bound",
         "showlegend": false,
         "type": "scatter",
         "x": [
          -0.7939174786524058,
          -0.6330681635783623,
          -0.5135039494306939,
          -0.4130908657370117,
          -0.32256940366028114,
          -0.23787909486271175,
          -0.15504963875993086,
          -0.0726595345910426,
          0.008971951437422068,
          0.09128421485352332,
          0.17404037946510473,
          0.25736672328148197,
          0.3431840288704084,
          0.43488905363007174,
          0.5367929246441205,
          0.6579159811529749,
          0.8086948460738351
         ],
         "y": [
          78288.70839948466,
          69124.8991138841,
          68869.61421847073,
          66771.42978404074,
          62508.89868417248,
          59815.122169164344,
          56855.47682329086,
          55510.14022567938,
          53978.37752169721,
          54302.522280270794,
          55901.70934105142,
          58449.46780410688,
          61110.22636896273,
          65392.76493763008,
          68380.2434393015,
          71213.74651847432,
          79299.14358702146
         ]
        },
        {
         "fill": "tonexty",
         "fillcolor": "blue",
         "line": {
          "width": 0
         },
         "mode": "lines",
         "name": "Intervalle de confiance à 95%",
         "showlegend": true,
         "type": "scatter",
         "x": [
          -0.7939174786524058,
          -0.6330681635783623,
          -0.5135039494306939,
          -0.4130908657370117,
          -0.32256940366028114,
          -0.23787909486271175,
          -0.15504963875993086,
          -0.0726595345910426,
          0.008971951437422068,
          0.09128421485352332,
          0.17404037946510473,
          0.25736672328148197,
          0.3431840288704084,
          0.43488905363007174,
          0.5367929246441205,
          0.6579159811529749,
          0.8086948460738351
         ],
         "y": [
          77091.10763257026,
          67988.22406194649,
          67722.52256789018,
          65635.0598605509,
          61424.70341040557,
          58741.908161055384,
          55813.944182603904,
          54468.841992460104,
          52945.52420488309,
          53287.36058726055,
          54858.21921889458,
          57391.82519680933,
          60031.47271429261,
          64264.512294683336,
          67243.97388127053,
          70055.71801714036,
          78011.79257826506
         ]
        },
        {
         "line": {
          "color": "red"
         },
         "mode": "lines",
         "name": "intensity",
         "showlegend": true,
         "type": "scatter",
         "x": [
          -0.7939174786524058,
          -0.6330681635783623,
          -0.5135039494306939,
          -0.4130908657370117,
          -0.32256940366028114,
          -0.23787909486271175,
          -0.15504963875993086,
          -0.0726595345910426,
          0.008971951437422068,
          0.09128421485352332,
          0.17404037946510473,
          0.25736672328148197,
          0.3431840288704084,
          0.43488905363007174,
          0.5367929246441205,
          0.6579159811529749,
          0.8086948460738351
         ],
         "y": [
          77689.90801602746,
          68556.56158791529,
          68296.06839318045,
          66203.24482229582,
          61966.801047289024,
          59278.515165109864,
          56334.71050294738,
          54989.49110906974,
          53461.95086329015,
          53794.94143376567,
          55379.964279973,
          57920.646500458104,
          60570.84954162767,
          64828.638616156706,
          67812.10866028602,
          70634.73226780734,
          78655.46808264326
         ]
        }
       ],
       "layout": {
        "showlegend": true,
        "template": {
         "data": {
          "bar": [
           {
            "error_x": {
             "color": "#2a3f5f"
            },
            "error_y": {
             "color": "#2a3f5f"
            },
            "marker": {
             "line": {
              "color": "#E5ECF6",
              "width": 0.5
             },
             "pattern": {
              "fillmode": "overlay",
              "size": 10,
              "solidity": 0.2
             }
            },
            "type": "bar"
           }
          ],
          "barpolar": [
           {
            "marker": {
             "line": {
              "color": "#E5ECF6",
              "width": 0.5
             },
             "pattern": {
              "fillmode": "overlay",
              "size": 10,
              "solidity": 0.2
             }
            },
            "type": "barpolar"
           }
          ],
          "carpet": [
           {
            "aaxis": {
             "endlinecolor": "#2a3f5f",
             "gridcolor": "white",
             "linecolor": "white",
             "minorgridcolor": "white",
             "startlinecolor": "#2a3f5f"
            },
            "baxis": {
             "endlinecolor": "#2a3f5f",
             "gridcolor": "white",
             "linecolor": "white",
             "minorgridcolor": "white",
             "startlinecolor": "#2a3f5f"
            },
            "type": "carpet"
           }
          ],
          "choropleth": [
           {
            "colorbar": {
             "outlinewidth": 0,
             "ticks": ""
            },
            "type": "choropleth"
           }
          ],
          "contour": [
           {
            "colorbar": {
             "outlinewidth": 0,
             "ticks": ""
            },
            "colorscale": [
             [
              0,
              "#0d0887"
             ],
             [
              0.1111111111111111,
              "#46039f"
             ],
             [
              0.2222222222222222,
              "#7201a8"
             ],
             [
              0.3333333333333333,
              "#9c179e"
             ],
             [
              0.4444444444444444,
              "#bd3786"
             ],
             [
              0.5555555555555556,
              "#d8576b"
             ],
             [
              0.6666666666666666,
              "#ed7953"
             ],
             [
              0.7777777777777778,
              "#fb9f3a"
             ],
             [
              0.8888888888888888,
              "#fdca26"
             ],
             [
              1,
              "#f0f921"
             ]
            ],
            "type": "contour"
           }
          ],
          "contourcarpet": [
           {
            "colorbar": {
             "outlinewidth": 0,
             "ticks": ""
            },
            "type": "contourcarpet"
           }
          ],
          "heatmap": [
           {
            "colorbar": {
             "outlinewidth": 0,
             "ticks": ""
            },
            "colorscale": [
             [
              0,
              "#0d0887"
             ],
             [
              0.1111111111111111,
              "#46039f"
             ],
             [
              0.2222222222222222,
              "#7201a8"
             ],
             [
              0.3333333333333333,
              "#9c179e"
             ],
             [
              0.4444444444444444,
              "#bd3786"
             ],
             [
              0.5555555555555556,
              "#d8576b"
             ],
             [
              0.6666666666666666,
              "#ed7953"
             ],
             [
              0.7777777777777778,
              "#fb9f3a"
             ],
             [
              0.8888888888888888,
              "#fdca26"
             ],
             [
              1,
              "#f0f921"
             ]
            ],
            "type": "heatmap"
           }
          ],
          "heatmapgl": [
           {
            "colorbar": {
             "outlinewidth": 0,
             "ticks": ""
            },
            "colorscale": [
             [
              0,
              "#0d0887"
             ],
             [
              0.1111111111111111,
              "#46039f"
             ],
             [
              0.2222222222222222,
              "#7201a8"
             ],
             [
              0.3333333333333333,
              "#9c179e"
             ],
             [
              0.4444444444444444,
              "#bd3786"
             ],
             [
              0.5555555555555556,
              "#d8576b"
             ],
             [
              0.6666666666666666,
              "#ed7953"
             ],
             [
              0.7777777777777778,
              "#fb9f3a"
             ],
             [
              0.8888888888888888,
              "#fdca26"
             ],
             [
              1,
              "#f0f921"
             ]
            ],
            "type": "heatmapgl"
           }
          ],
          "histogram": [
           {
            "marker": {
             "pattern": {
              "fillmode": "overlay",
              "size": 10,
              "solidity": 0.2
             }
            },
            "type": "histogram"
           }
          ],
          "histogram2d": [
           {
            "colorbar": {
             "outlinewidth": 0,
             "ticks": ""
            },
            "colorscale": [
             [
              0,
              "#0d0887"
             ],
             [
              0.1111111111111111,
              "#46039f"
             ],
             [
              0.2222222222222222,
              "#7201a8"
             ],
             [
              0.3333333333333333,
              "#9c179e"
             ],
             [
              0.4444444444444444,
              "#bd3786"
             ],
             [
              0.5555555555555556,
              "#d8576b"
             ],
             [
              0.6666666666666666,
              "#ed7953"
             ],
             [
              0.7777777777777778,
              "#fb9f3a"
             ],
             [
              0.8888888888888888,
              "#fdca26"
             ],
             [
              1,
              "#f0f921"
             ]
            ],
            "type": "histogram2d"
           }
          ],
          "histogram2dcontour": [
           {
            "colorbar": {
             "outlinewidth": 0,
             "ticks": ""
            },
            "colorscale": [
             [
              0,
              "#0d0887"
             ],
             [
              0.1111111111111111,
              "#46039f"
             ],
             [
              0.2222222222222222,
              "#7201a8"
             ],
             [
              0.3333333333333333,
              "#9c179e"
             ],
             [
              0.4444444444444444,
              "#bd3786"
             ],
             [
              0.5555555555555556,
              "#d8576b"
             ],
             [
              0.6666666666666666,
              "#ed7953"
             ],
             [
              0.7777777777777778,
              "#fb9f3a"
             ],
             [
              0.8888888888888888,
              "#fdca26"
             ],
             [
              1,
              "#f0f921"
             ]
            ],
            "type": "histogram2dcontour"
           }
          ],
          "mesh3d": [
           {
            "colorbar": {
             "outlinewidth": 0,
             "ticks": ""
            },
            "type": "mesh3d"
           }
          ],
          "parcoords": [
           {
            "line": {
             "colorbar": {
              "outlinewidth": 0,
              "ticks": ""
             }
            },
            "type": "parcoords"
           }
          ],
          "pie": [
           {
            "automargin": true,
            "type": "pie"
           }
          ],
          "scatter": [
           {
            "fillpattern": {
             "fillmode": "overlay",
             "size": 10,
             "solidity": 0.2
            },
            "type": "scatter"
           }
          ],
          "scatter3d": [
           {
            "line": {
             "colorbar": {
              "outlinewidth": 0,
              "ticks": ""
             }
            },
            "marker": {
             "colorbar": {
              "outlinewidth": 0,
              "ticks": ""
             }
            },
            "type": "scatter3d"
           }
          ],
          "scattercarpet": [
           {
            "marker": {
             "colorbar": {
              "outlinewidth": 0,
              "ticks": ""
             }
            },
            "type": "scattercarpet"
           }
          ],
          "scattergeo": [
           {
            "marker": {
             "colorbar": {
              "outlinewidth": 0,
              "ticks": ""
             }
            },
            "type": "scattergeo"
           }
          ],
          "scattergl": [
           {
            "marker": {
             "colorbar": {
              "outlinewidth": 0,
              "ticks": ""
             }
            },
            "type": "scattergl"
           }
          ],
          "scattermapbox": [
           {
            "marker": {
             "colorbar": {
              "outlinewidth": 0,
              "ticks": ""
             }
            },
            "type": "scattermapbox"
           }
          ],
          "scatterpolar": [
           {
            "marker": {
             "colorbar": {
              "outlinewidth": 0,
              "ticks": ""
             }
            },
            "type": "scatterpolar"
           }
          ],
          "scatterpolargl": [
           {
            "marker": {
             "colorbar": {
              "outlinewidth": 0,
              "ticks": ""
             }
            },
            "type": "scatterpolargl"
           }
          ],
          "scatterternary": [
           {
            "marker": {
             "colorbar": {
              "outlinewidth": 0,
              "ticks": ""
             }
            },
            "type": "scatterternary"
           }
          ],
          "surface": [
           {
            "colorbar": {
             "outlinewidth": 0,
             "ticks": ""
            },
            "colorscale": [
             [
              0,
              "#0d0887"
             ],
             [
              0.1111111111111111,
              "#46039f"
             ],
             [
              0.2222222222222222,
              "#7201a8"
             ],
             [
              0.3333333333333333,
              "#9c179e"
             ],
             [
              0.4444444444444444,
              "#bd3786"
             ],
             [
              0.5555555555555556,
              "#d8576b"
             ],
             [
              0.6666666666666666,
              "#ed7953"
             ],
             [
              0.7777777777777778,
              "#fb9f3a"
             ],
             [
              0.8888888888888888,
              "#fdca26"
             ],
             [
              1,
              "#f0f921"
             ]
            ],
            "type": "surface"
           }
          ],
          "table": [
           {
            "cells": {
             "fill": {
              "color": "#EBF0F8"
             },
             "line": {
              "color": "white"
             }
            },
            "header": {
             "fill": {
              "color": "#C8D4E3"
             },
             "line": {
              "color": "white"
             }
            },
            "type": "table"
           }
          ]
         },
         "layout": {
          "annotationdefaults": {
           "arrowcolor": "#2a3f5f",
           "arrowhead": 0,
           "arrowwidth": 1
          },
          "autotypenumbers": "strict",
          "coloraxis": {
           "colorbar": {
            "outlinewidth": 0,
            "ticks": ""
           }
          },
          "colorscale": {
           "diverging": [
            [
             0,
             "#8e0152"
            ],
            [
             0.1,
             "#c51b7d"
            ],
            [
             0.2,
             "#de77ae"
            ],
            [
             0.3,
             "#f1b6da"
            ],
            [
             0.4,
             "#fde0ef"
            ],
            [
             0.5,
             "#f7f7f7"
            ],
            [
             0.6,
             "#e6f5d0"
            ],
            [
             0.7,
             "#b8e186"
            ],
            [
             0.8,
             "#7fbc41"
            ],
            [
             0.9,
             "#4d9221"
            ],
            [
             1,
             "#276419"
            ]
           ],
           "sequential": [
            [
             0,
             "#0d0887"
            ],
            [
             0.1111111111111111,
             "#46039f"
            ],
            [
             0.2222222222222222,
             "#7201a8"
            ],
            [
             0.3333333333333333,
             "#9c179e"
            ],
            [
             0.4444444444444444,
             "#bd3786"
            ],
            [
             0.5555555555555556,
             "#d8576b"
            ],
            [
             0.6666666666666666,
             "#ed7953"
            ],
            [
             0.7777777777777778,
             "#fb9f3a"
            ],
            [
             0.8888888888888888,
             "#fdca26"
            ],
            [
             1,
             "#f0f921"
            ]
           ],
           "sequentialminus": [
            [
             0,
             "#0d0887"
            ],
            [
             0.1111111111111111,
             "#46039f"
            ],
            [
             0.2222222222222222,
             "#7201a8"
            ],
            [
             0.3333333333333333,
             "#9c179e"
            ],
            [
             0.4444444444444444,
             "#bd3786"
            ],
            [
             0.5555555555555556,
             "#d8576b"
            ],
            [
             0.6666666666666666,
             "#ed7953"
            ],
            [
             0.7777777777777778,
             "#fb9f3a"
            ],
            [
             0.8888888888888888,
             "#fdca26"
            ],
            [
             1,
             "#f0f921"
            ]
           ]
          },
          "colorway": [
           "#636efa",
           "#EF553B",
           "#00cc96",
           "#ab63fa",
           "#FFA15A",
           "#19d3f3",
           "#FF6692",
           "#B6E880",
           "#FF97FF",
           "#FECB52"
          ],
          "font": {
           "color": "#2a3f5f"
          },
          "geo": {
           "bgcolor": "white",
           "lakecolor": "white",
           "landcolor": "#E5ECF6",
           "showlakes": true,
           "showland": true,
           "subunitcolor": "white"
          },
          "hoverlabel": {
           "align": "left"
          },
          "hovermode": "closest",
          "mapbox": {
           "style": "light"
          },
          "paper_bgcolor": "white",
          "plot_bgcolor": "#E5ECF6",
          "polar": {
           "angularaxis": {
            "gridcolor": "white",
            "linecolor": "white",
            "ticks": ""
           },
           "bgcolor": "#E5ECF6",
           "radialaxis": {
            "gridcolor": "white",
            "linecolor": "white",
            "ticks": ""
           }
          },
          "scene": {
           "xaxis": {
            "backgroundcolor": "#E5ECF6",
            "gridcolor": "white",
            "gridwidth": 2,
            "linecolor": "white",
            "showbackground": true,
            "ticks": "",
            "zerolinecolor": "white"
           },
           "yaxis": {
            "backgroundcolor": "#E5ECF6",
            "gridcolor": "white",
            "gridwidth": 2,
            "linecolor": "white",
            "showbackground": true,
            "ticks": "",
            "zerolinecolor": "white"
           },
           "zaxis": {
            "backgroundcolor": "#E5ECF6",
            "gridcolor": "white",
            "gridwidth": 2,
            "linecolor": "white",
            "showbackground": true,
            "ticks": "",
            "zerolinecolor": "white"
           }
          },
          "shapedefaults": {
           "line": {
            "color": "#2a3f5f"
           }
          },
          "ternary": {
           "aaxis": {
            "gridcolor": "white",
            "linecolor": "white",
            "ticks": ""
           },
           "baxis": {
            "gridcolor": "white",
            "linecolor": "white",
            "ticks": ""
           },
           "bgcolor": "#E5ECF6",
           "caxis": {
            "gridcolor": "white",
            "linecolor": "white",
            "ticks": ""
           }
          },
          "title": {
           "x": 0.05
          },
          "xaxis": {
           "automargin": true,
           "gridcolor": "white",
           "linecolor": "white",
           "ticks": "",
           "title": {
            "standoff": 15
           },
           "zerolinecolor": "white",
           "zerolinewidth": 2
          },
          "yaxis": {
           "automargin": true,
           "gridcolor": "white",
           "linecolor": "white",
           "ticks": "",
           "title": {
            "standoff": 15
           },
           "zerolinecolor": "white",
           "zerolinewidth": 2
          }
         }
        },
        "title": {
         "text": "Intensity (tous events confondus)"
        },
        "xaxis": {
         "title": {
          "text": "imbalance"
         }
        },
        "yaxis": {
         "title": {
          "text": "Intensity"
         }
        }
       }
      }
     },
     "metadata": {},
     "output_type": "display_data"
    }
   ],
   "source": [
    "fig = go.Figure()\n",
    "fig.add_trace(go.Scatter(x=imb_trie_means,y=intensity_trie_means + 1.96 * intensity_trie_std,mode='lines',line=dict(width=0),name='Upper Bound',showlegend=False))\n",
    "fig.add_trace(go.Scatter(x=imb_trie_means,y=intensity_trie_means - 1.96 * intensity_trie_std,mode='lines',line=dict(width=0),fill='tonexty',fillcolor='blue',name='Intervalle de confiance à 95%',showlegend=True))\n",
    "fig.add_trace(go.Scatter(x=imb_trie_means,y=intensity_trie_means,mode='lines',name='intensity',line=dict(color='red'),showlegend=True))\n",
    "fig.update_layout(title='Intensity (tous events confondus)',xaxis_title='imbalance',yaxis_title='Intensity',showlegend=True)\n",
    "fig.show()"
   ]
  },
  {
   "cell_type": "code",
   "execution_count": 12,
   "metadata": {},
   "outputs": [
    {
     "name": "stderr",
     "output_type": "stream",
     "text": [
      "100%|██████████| 65/65 [00:14<00:00,  4.59it/s]"
     ]
    },
    {
     "name": "stdout",
     "output_type": "stream",
     "text": [
      "A quel point c'est long: 140795\n"
     ]
    },
    {
     "name": "stderr",
     "output_type": "stream",
     "text": [
      "\n"
     ]
    }
   ],
   "source": [
    "imb_trade = np.array([])\n",
    "intensity_trade = np.array([])\n",
    "imb_add = np.array([])\n",
    "intensity_add = np.array([])\n",
    "imb_cancel = np.array([])\n",
    "intensity_cancel = np.array([])\n",
    "limite = 0\n",
    "for f in tqdm(files_csv):\n",
    "    df = pd.read_csv(f)\n",
    "    df = df[:-100]\n",
    "    df_trade = df[df['action'] == 'T']\n",
    "    df_cancel = df[df['action'] == 'C']\n",
    "    df_add = df[df['action'] == 'A']\n",
    "    imb_trade = np.concatenate([imb_trade, df_trade['imbalance'].to_numpy()])\n",
    "    intensity_trade = np.concatenate([intensity_trade, df_trade['time_diff'].to_numpy()])\n",
    "    imb_add = np.concatenate([imb_add, df_add['imbalance'].to_numpy()])\n",
    "    intensity_add = np.concatenate([intensity_add, df_add['time_diff'].to_numpy()])\n",
    "    imb_cancel = np.concatenate([imb_cancel, df_cancel['imbalance'].to_numpy()])\n",
    "    intensity_cancel = np.concatenate([intensity_cancel, df_cancel['time_diff'].to_numpy()])\n",
    "    \n",
    "imb_tot = [imb_trade,imb_add,imb_cancel]\n",
    "intensity_tot = [1/np.array(intensity_trade),1/np.array(intensity_add),1/np.array(intensity_cancel)]\n",
    "\n",
    "print(f\"A quel point c'est long: {len(imb_trade)}\")"
   ]
  },
  {
   "cell_type": "code",
   "execution_count": 13,
   "metadata": {},
   "outputs": [],
   "source": [
    "def visu_intensity_respec(imb_tot, intensity_tot, i , string, group_size, bound = 0.9):\n",
    "    indices_trie = np.argsort(imb_tot[i])\n",
    "    imb_trie = imb_tot[i][indices_trie]\n",
    "    intensity_trie = intensity_tot[i][indices_trie]\n",
    "    mask = (imb_trie >= -bound) & (imb_trie <= bound)\n",
    "    imb_trie = imb_trie[mask]\n",
    "    intensity_trie = intensity_trie[mask]\n",
    "    imb_trie_groups = [imb_trie[i:i + group_size] for i in range(0, len(imb_trie), group_size)]\n",
    "    intensity_trie_groups = [intensity_trie[i:i + group_size] for i in range(0, len(intensity_trie), group_size)]\n",
    "    imb_trie_means = np.array([np.mean(group) for group in imb_trie_groups])\n",
    "    intensity_trie_means = np.array([np.mean(group) for group in intensity_trie_groups])\n",
    "    intensity_trie_std = np.array([np.std(group)/np.sqrt(len(group)) for group in intensity_trie_groups])\n",
    "    fig = go.Figure()\n",
    "    fig.add_trace(go.Scatter(x=imb_trie_means,y=intensity_trie_means + 1.96 * intensity_trie_std,mode='lines',line=dict(width=0),name='Upper Bound',showlegend=False))\n",
    "    fig.add_trace(go.Scatter(x=imb_trie_means,y=intensity_trie_means - 1.96 * intensity_trie_std,mode='lines',line=dict(width=0),fill='tonexty',fillcolor='blue',name='Intervalle de confiance à 95%',showlegend=True))\n",
    "    fig.add_trace(go.Scatter(x=imb_trie_means,y=intensity_trie_means,mode='lines',name='intensity',line=dict(color='red'),showlegend=True))\n",
    "    fig.update_layout(title=f\"Intensity des {string} en fonction de l'imbalance\",xaxis_title='imbalance',yaxis_title='Intensity',showlegend=True)\n",
    "    fig.show()"
   ]
  },
  {
   "cell_type": "code",
   "execution_count": 14,
   "metadata": {},
   "outputs": [
    {
     "data": {
      "application/vnd.plotly.v1+json": {
       "config": {
        "plotlyServerURL": "https://plot.ly"
       },
       "data": [
        {
         "line": {
          "width": 0
         },
         "mode": "lines",
         "name": "Upper Bound",
         "showlegend": false,
         "type": "scatter",
         "x": [
          -0.8206256791700162,
          -0.5993920537901689,
          -0.3529170129523928,
          -0.11714613149736386,
          0.1277252062397558,
          0.4199522408119955,
          0.7129328965038197,
          0.8635012197543446
         ],
         "y": [
          122176.48756980328,
          87341.57868841109,
          77210.60738082697,
          66379.58037666352,
          55847.30876031172,
          64181.134824123386,
          106157.48534562622,
          150085.67232799728
         ]
        },
        {
         "fill": "tonexty",
         "fillcolor": "blue",
         "line": {
          "width": 0
         },
         "mode": "lines",
         "name": "Intervalle de confiance à 95%",
         "showlegend": true,
         "type": "scatter",
         "x": [
          -0.8206256791700162,
          -0.5993920537901689,
          -0.3529170129523928,
          -0.11714613149736386,
          0.1277252062397558,
          0.4199522408119955,
          0.7129328965038197,
          0.8635012197543446
         ],
         "y": [
          113465.2979437494,
          79836.79726610698,
          70226.13081265798,
          60015.650904100185,
          49969.38114676476,
          57675.52205360041,
          97340.158051892,
          136250.99026320945
         ]
        },
        {
         "line": {
          "color": "red"
         },
         "mode": "lines",
         "name": "intensity",
         "showlegend": true,
         "type": "scatter",
         "x": [
          -0.8206256791700162,
          -0.5993920537901689,
          -0.3529170129523928,
          -0.11714613149736386,
          0.1277252062397558,
          0.4199522408119955,
          0.7129328965038197,
          0.8635012197543446
         ],
         "y": [
          117820.89275677632,
          83589.18797725903,
          73718.36909674248,
          63197.61564038185,
          52908.34495353824,
          60928.3284388619,
          101748.82169875911,
          143168.33129560336
         ]
        }
       ],
       "layout": {
        "showlegend": true,
        "template": {
         "data": {
          "bar": [
           {
            "error_x": {
             "color": "#2a3f5f"
            },
            "error_y": {
             "color": "#2a3f5f"
            },
            "marker": {
             "line": {
              "color": "#E5ECF6",
              "width": 0.5
             },
             "pattern": {
              "fillmode": "overlay",
              "size": 10,
              "solidity": 0.2
             }
            },
            "type": "bar"
           }
          ],
          "barpolar": [
           {
            "marker": {
             "line": {
              "color": "#E5ECF6",
              "width": 0.5
             },
             "pattern": {
              "fillmode": "overlay",
              "size": 10,
              "solidity": 0.2
             }
            },
            "type": "barpolar"
           }
          ],
          "carpet": [
           {
            "aaxis": {
             "endlinecolor": "#2a3f5f",
             "gridcolor": "white",
             "linecolor": "white",
             "minorgridcolor": "white",
             "startlinecolor": "#2a3f5f"
            },
            "baxis": {
             "endlinecolor": "#2a3f5f",
             "gridcolor": "white",
             "linecolor": "white",
             "minorgridcolor": "white",
             "startlinecolor": "#2a3f5f"
            },
            "type": "carpet"
           }
          ],
          "choropleth": [
           {
            "colorbar": {
             "outlinewidth": 0,
             "ticks": ""
            },
            "type": "choropleth"
           }
          ],
          "contour": [
           {
            "colorbar": {
             "outlinewidth": 0,
             "ticks": ""
            },
            "colorscale": [
             [
              0,
              "#0d0887"
             ],
             [
              0.1111111111111111,
              "#46039f"
             ],
             [
              0.2222222222222222,
              "#7201a8"
             ],
             [
              0.3333333333333333,
              "#9c179e"
             ],
             [
              0.4444444444444444,
              "#bd3786"
             ],
             [
              0.5555555555555556,
              "#d8576b"
             ],
             [
              0.6666666666666666,
              "#ed7953"
             ],
             [
              0.7777777777777778,
              "#fb9f3a"
             ],
             [
              0.8888888888888888,
              "#fdca26"
             ],
             [
              1,
              "#f0f921"
             ]
            ],
            "type": "contour"
           }
          ],
          "contourcarpet": [
           {
            "colorbar": {
             "outlinewidth": 0,
             "ticks": ""
            },
            "type": "contourcarpet"
           }
          ],
          "heatmap": [
           {
            "colorbar": {
             "outlinewidth": 0,
             "ticks": ""
            },
            "colorscale": [
             [
              0,
              "#0d0887"
             ],
             [
              0.1111111111111111,
              "#46039f"
             ],
             [
              0.2222222222222222,
              "#7201a8"
             ],
             [
              0.3333333333333333,
              "#9c179e"
             ],
             [
              0.4444444444444444,
              "#bd3786"
             ],
             [
              0.5555555555555556,
              "#d8576b"
             ],
             [
              0.6666666666666666,
              "#ed7953"
             ],
             [
              0.7777777777777778,
              "#fb9f3a"
             ],
             [
              0.8888888888888888,
              "#fdca26"
             ],
             [
              1,
              "#f0f921"
             ]
            ],
            "type": "heatmap"
           }
          ],
          "heatmapgl": [
           {
            "colorbar": {
             "outlinewidth": 0,
             "ticks": ""
            },
            "colorscale": [
             [
              0,
              "#0d0887"
             ],
             [
              0.1111111111111111,
              "#46039f"
             ],
             [
              0.2222222222222222,
              "#7201a8"
             ],
             [
              0.3333333333333333,
              "#9c179e"
             ],
             [
              0.4444444444444444,
              "#bd3786"
             ],
             [
              0.5555555555555556,
              "#d8576b"
             ],
             [
              0.6666666666666666,
              "#ed7953"
             ],
             [
              0.7777777777777778,
              "#fb9f3a"
             ],
             [
              0.8888888888888888,
              "#fdca26"
             ],
             [
              1,
              "#f0f921"
             ]
            ],
            "type": "heatmapgl"
           }
          ],
          "histogram": [
           {
            "marker": {
             "pattern": {
              "fillmode": "overlay",
              "size": 10,
              "solidity": 0.2
             }
            },
            "type": "histogram"
           }
          ],
          "histogram2d": [
           {
            "colorbar": {
             "outlinewidth": 0,
             "ticks": ""
            },
            "colorscale": [
             [
              0,
              "#0d0887"
             ],
             [
              0.1111111111111111,
              "#46039f"
             ],
             [
              0.2222222222222222,
              "#7201a8"
             ],
             [
              0.3333333333333333,
              "#9c179e"
             ],
             [
              0.4444444444444444,
              "#bd3786"
             ],
             [
              0.5555555555555556,
              "#d8576b"
             ],
             [
              0.6666666666666666,
              "#ed7953"
             ],
             [
              0.7777777777777778,
              "#fb9f3a"
             ],
             [
              0.8888888888888888,
              "#fdca26"
             ],
             [
              1,
              "#f0f921"
             ]
            ],
            "type": "histogram2d"
           }
          ],
          "histogram2dcontour": [
           {
            "colorbar": {
             "outlinewidth": 0,
             "ticks": ""
            },
            "colorscale": [
             [
              0,
              "#0d0887"
             ],
             [
              0.1111111111111111,
              "#46039f"
             ],
             [
              0.2222222222222222,
              "#7201a8"
             ],
             [
              0.3333333333333333,
              "#9c179e"
             ],
             [
              0.4444444444444444,
              "#bd3786"
             ],
             [
              0.5555555555555556,
              "#d8576b"
             ],
             [
              0.6666666666666666,
              "#ed7953"
             ],
             [
              0.7777777777777778,
              "#fb9f3a"
             ],
             [
              0.8888888888888888,
              "#fdca26"
             ],
             [
              1,
              "#f0f921"
             ]
            ],
            "type": "histogram2dcontour"
           }
          ],
          "mesh3d": [
           {
            "colorbar": {
             "outlinewidth": 0,
             "ticks": ""
            },
            "type": "mesh3d"
           }
          ],
          "parcoords": [
           {
            "line": {
             "colorbar": {
              "outlinewidth": 0,
              "ticks": ""
             }
            },
            "type": "parcoords"
           }
          ],
          "pie": [
           {
            "automargin": true,
            "type": "pie"
           }
          ],
          "scatter": [
           {
            "fillpattern": {
             "fillmode": "overlay",
             "size": 10,
             "solidity": 0.2
            },
            "type": "scatter"
           }
          ],
          "scatter3d": [
           {
            "line": {
             "colorbar": {
              "outlinewidth": 0,
              "ticks": ""
             }
            },
            "marker": {
             "colorbar": {
              "outlinewidth": 0,
              "ticks": ""
             }
            },
            "type": "scatter3d"
           }
          ],
          "scattercarpet": [
           {
            "marker": {
             "colorbar": {
              "outlinewidth": 0,
              "ticks": ""
             }
            },
            "type": "scattercarpet"
           }
          ],
          "scattergeo": [
           {
            "marker": {
             "colorbar": {
              "outlinewidth": 0,
              "ticks": ""
             }
            },
            "type": "scattergeo"
           }
          ],
          "scattergl": [
           {
            "marker": {
             "colorbar": {
              "outlinewidth": 0,
              "ticks": ""
             }
            },
            "type": "scattergl"
           }
          ],
          "scattermapbox": [
           {
            "marker": {
             "colorbar": {
              "outlinewidth": 0,
              "ticks": ""
             }
            },
            "type": "scattermapbox"
           }
          ],
          "scatterpolar": [
           {
            "marker": {
             "colorbar": {
              "outlinewidth": 0,
              "ticks": ""
             }
            },
            "type": "scatterpolar"
           }
          ],
          "scatterpolargl": [
           {
            "marker": {
             "colorbar": {
              "outlinewidth": 0,
              "ticks": ""
             }
            },
            "type": "scatterpolargl"
           }
          ],
          "scatterternary": [
           {
            "marker": {
             "colorbar": {
              "outlinewidth": 0,
              "ticks": ""
             }
            },
            "type": "scatterternary"
           }
          ],
          "surface": [
           {
            "colorbar": {
             "outlinewidth": 0,
             "ticks": ""
            },
            "colorscale": [
             [
              0,
              "#0d0887"
             ],
             [
              0.1111111111111111,
              "#46039f"
             ],
             [
              0.2222222222222222,
              "#7201a8"
             ],
             [
              0.3333333333333333,
              "#9c179e"
             ],
             [
              0.4444444444444444,
              "#bd3786"
             ],
             [
              0.5555555555555556,
              "#d8576b"
             ],
             [
              0.6666666666666666,
              "#ed7953"
             ],
             [
              0.7777777777777778,
              "#fb9f3a"
             ],
             [
              0.8888888888888888,
              "#fdca26"
             ],
             [
              1,
              "#f0f921"
             ]
            ],
            "type": "surface"
           }
          ],
          "table": [
           {
            "cells": {
             "fill": {
              "color": "#EBF0F8"
             },
             "line": {
              "color": "white"
             }
            },
            "header": {
             "fill": {
              "color": "#C8D4E3"
             },
             "line": {
              "color": "white"
             }
            },
            "type": "table"
           }
          ]
         },
         "layout": {
          "annotationdefaults": {
           "arrowcolor": "#2a3f5f",
           "arrowhead": 0,
           "arrowwidth": 1
          },
          "autotypenumbers": "strict",
          "coloraxis": {
           "colorbar": {
            "outlinewidth": 0,
            "ticks": ""
           }
          },
          "colorscale": {
           "diverging": [
            [
             0,
             "#8e0152"
            ],
            [
             0.1,
             "#c51b7d"
            ],
            [
             0.2,
             "#de77ae"
            ],
            [
             0.3,
             "#f1b6da"
            ],
            [
             0.4,
             "#fde0ef"
            ],
            [
             0.5,
             "#f7f7f7"
            ],
            [
             0.6,
             "#e6f5d0"
            ],
            [
             0.7,
             "#b8e186"
            ],
            [
             0.8,
             "#7fbc41"
            ],
            [
             0.9,
             "#4d9221"
            ],
            [
             1,
             "#276419"
            ]
           ],
           "sequential": [
            [
             0,
             "#0d0887"
            ],
            [
             0.1111111111111111,
             "#46039f"
            ],
            [
             0.2222222222222222,
             "#7201a8"
            ],
            [
             0.3333333333333333,
             "#9c179e"
            ],
            [
             0.4444444444444444,
             "#bd3786"
            ],
            [
             0.5555555555555556,
             "#d8576b"
            ],
            [
             0.6666666666666666,
             "#ed7953"
            ],
            [
             0.7777777777777778,
             "#fb9f3a"
            ],
            [
             0.8888888888888888,
             "#fdca26"
            ],
            [
             1,
             "#f0f921"
            ]
           ],
           "sequentialminus": [
            [
             0,
             "#0d0887"
            ],
            [
             0.1111111111111111,
             "#46039f"
            ],
            [
             0.2222222222222222,
             "#7201a8"
            ],
            [
             0.3333333333333333,
             "#9c179e"
            ],
            [
             0.4444444444444444,
             "#bd3786"
            ],
            [
             0.5555555555555556,
             "#d8576b"
            ],
            [
             0.6666666666666666,
             "#ed7953"
            ],
            [
             0.7777777777777778,
             "#fb9f3a"
            ],
            [
             0.8888888888888888,
             "#fdca26"
            ],
            [
             1,
             "#f0f921"
            ]
           ]
          },
          "colorway": [
           "#636efa",
           "#EF553B",
           "#00cc96",
           "#ab63fa",
           "#FFA15A",
           "#19d3f3",
           "#FF6692",
           "#B6E880",
           "#FF97FF",
           "#FECB52"
          ],
          "font": {
           "color": "#2a3f5f"
          },
          "geo": {
           "bgcolor": "white",
           "lakecolor": "white",
           "landcolor": "#E5ECF6",
           "showlakes": true,
           "showland": true,
           "subunitcolor": "white"
          },
          "hoverlabel": {
           "align": "left"
          },
          "hovermode": "closest",
          "mapbox": {
           "style": "light"
          },
          "paper_bgcolor": "white",
          "plot_bgcolor": "#E5ECF6",
          "polar": {
           "angularaxis": {
            "gridcolor": "white",
            "linecolor": "white",
            "ticks": ""
           },
           "bgcolor": "#E5ECF6",
           "radialaxis": {
            "gridcolor": "white",
            "linecolor": "white",
            "ticks": ""
           }
          },
          "scene": {
           "xaxis": {
            "backgroundcolor": "#E5ECF6",
            "gridcolor": "white",
            "gridwidth": 2,
            "linecolor": "white",
            "showbackground": true,
            "ticks": "",
            "zerolinecolor": "white"
           },
           "yaxis": {
            "backgroundcolor": "#E5ECF6",
            "gridcolor": "white",
            "gridwidth": 2,
            "linecolor": "white",
            "showbackground": true,
            "ticks": "",
            "zerolinecolor": "white"
           },
           "zaxis": {
            "backgroundcolor": "#E5ECF6",
            "gridcolor": "white",
            "gridwidth": 2,
            "linecolor": "white",
            "showbackground": true,
            "ticks": "",
            "zerolinecolor": "white"
           }
          },
          "shapedefaults": {
           "line": {
            "color": "#2a3f5f"
           }
          },
          "ternary": {
           "aaxis": {
            "gridcolor": "white",
            "linecolor": "white",
            "ticks": ""
           },
           "baxis": {
            "gridcolor": "white",
            "linecolor": "white",
            "ticks": ""
           },
           "bgcolor": "#E5ECF6",
           "caxis": {
            "gridcolor": "white",
            "linecolor": "white",
            "ticks": ""
           }
          },
          "title": {
           "x": 0.05
          },
          "xaxis": {
           "automargin": true,
           "gridcolor": "white",
           "linecolor": "white",
           "ticks": "",
           "title": {
            "standoff": 15
           },
           "zerolinecolor": "white",
           "zerolinewidth": 2
          },
          "yaxis": {
           "automargin": true,
           "gridcolor": "white",
           "linecolor": "white",
           "ticks": "",
           "title": {
            "standoff": 15
           },
           "zerolinecolor": "white",
           "zerolinewidth": 2
          }
         }
        },
        "title": {
         "text": "Intensity des trades en fonction de l'imbalance"
        },
        "xaxis": {
         "title": {
          "text": "imbalance"
         }
        },
        "yaxis": {
         "title": {
          "text": "Intensity"
         }
        }
       }
      }
     },
     "metadata": {},
     "output_type": "display_data"
    },
    {
     "data": {
      "application/vnd.plotly.v1+json": {
       "config": {
        "plotlyServerURL": "https://plot.ly"
       },
       "data": [
        {
         "line": {
          "width": 0
         },
         "mode": "lines",
         "name": "Upper Bound",
         "showlegend": false,
         "type": "scatter",
         "x": [
          -0.8219582786428093,
          -0.7008420684249443,
          -0.6099593616317045,
          -0.534078593565338,
          -0.4676253408693808,
          -0.4068732098475578,
          -0.34941960124268456,
          -0.2954885766367406,
          -0.24286939208689096,
          -0.19056981192202807,
          -0.1386193330003199,
          -0.08683557947508676,
          -0.03417646027601201,
          0.01594904447821906,
          0.06850653024057562,
          0.12065382469148582,
          0.17288619421357085,
          0.22453503540768988,
          0.2767958823292848,
          0.33021121481743126,
          0.3857548121915918,
          0.44406981172596943,
          0.5062293187763489,
          0.5743057917618611,
          0.6515518333279479,
          0.7447155663529171,
          0.8472660790624027
         ],
         "y": [
          107127.33915563686,
          94998.05665036009,
          95366.86213092008,
          96336.49509717444,
          94440.24807160169,
          93399.44561184748,
          89527.71501197947,
          86049.73876840492,
          83725.71877949244,
          82502.62750547113,
          80127.38598024889,
          79642.95751652482,
          77360.18528292124,
          77856.47849559858,
          77702.83810010675,
          77554.37053349652,
          79270.7704727875,
          80747.51623366722,
          83280.45182019856,
          85973.61224298135,
          88756.78510821471,
          92567.35189795884,
          94629.25219568526,
          95496.94438218264,
          97835.76745691744,
          96165.78994234726,
          107375.52385851294
         ]
        },
        {
         "fill": "tonexty",
         "fillcolor": "blue",
         "line": {
          "width": 0
         },
         "mode": "lines",
         "name": "Intervalle de confiance à 95%",
         "showlegend": true,
         "type": "scatter",
         "x": [
          -0.8219582786428093,
          -0.7008420684249443,
          -0.6099593616317045,
          -0.534078593565338,
          -0.4676253408693808,
          -0.4068732098475578,
          -0.34941960124268456,
          -0.2954885766367406,
          -0.24286939208689096,
          -0.19056981192202807,
          -0.1386193330003199,
          -0.08683557947508676,
          -0.03417646027601201,
          0.01594904447821906,
          0.06850653024057562,
          0.12065382469148582,
          0.17288619421357085,
          0.22453503540768988,
          0.2767958823292848,
          0.33021121481743126,
          0.3857548121915918,
          0.44406981172596943,
          0.5062293187763489,
          0.5743057917618611,
          0.6515518333279479,
          0.7447155663529171,
          0.8472660790624027
         ],
         "y": [
          104742.28561174568,
          92690.44580783688,
          93075.60370946604,
          94021.02655730468,
          92112.43082435192,
          91075.97796429398,
          87269.04012478322,
          83832.38172145978,
          81545.18913719231,
          80314.89212709335,
          77975.34896806793,
          77452.98544815567,
          75239.92572428146,
          75696.77466552598,
          75548.87134909813,
          75443.88048011751,
          77069.5778613076,
          78596.10724200566,
          81084.76389741467,
          83748.81150278173,
          86484.27648141858,
          90247.43979730754,
          92316.4530649214,
          93171.75149578134,
          95515.67826053072,
          93898.5827609456,
          104583.51489742742
         ]
        },
        {
         "line": {
          "color": "red"
         },
         "mode": "lines",
         "name": "intensity",
         "showlegend": true,
         "type": "scatter",
         "x": [
          -0.8219582786428093,
          -0.7008420684249443,
          -0.6099593616317045,
          -0.534078593565338,
          -0.4676253408693808,
          -0.4068732098475578,
          -0.34941960124268456,
          -0.2954885766367406,
          -0.24286939208689096,
          -0.19056981192202807,
          -0.1386193330003199,
          -0.08683557947508676,
          -0.03417646027601201,
          0.01594904447821906,
          0.06850653024057562,
          0.12065382469148582,
          0.17288619421357085,
          0.22453503540768988,
          0.2767958823292848,
          0.33021121481743126,
          0.3857548121915918,
          0.44406981172596943,
          0.5062293187763489,
          0.5743057917618611,
          0.6515518333279479,
          0.7447155663529171,
          0.8472660790624027
         ],
         "y": [
          105934.81238369129,
          93844.25122909847,
          94221.23292019306,
          95178.76082723956,
          93276.3394479768,
          92237.71178807074,
          88398.37756838134,
          84941.06024493235,
          82635.45395834238,
          81408.75981628224,
          79051.36747415841,
          78547.97148234025,
          76300.05550360135,
          76776.62658056228,
          76625.85472460244,
          76499.12550680702,
          78170.17416704755,
          79671.81173783644,
          82182.60785880662,
          84861.21187288154,
          87620.53079481664,
          91407.3958476332,
          93472.85263030331,
          94334.34793898198,
          96675.72285872408,
          95032.18635164642,
          105979.51937797018
         ]
        }
       ],
       "layout": {
        "showlegend": true,
        "template": {
         "data": {
          "bar": [
           {
            "error_x": {
             "color": "#2a3f5f"
            },
            "error_y": {
             "color": "#2a3f5f"
            },
            "marker": {
             "line": {
              "color": "#E5ECF6",
              "width": 0.5
             },
             "pattern": {
              "fillmode": "overlay",
              "size": 10,
              "solidity": 0.2
             }
            },
            "type": "bar"
           }
          ],
          "barpolar": [
           {
            "marker": {
             "line": {
              "color": "#E5ECF6",
              "width": 0.5
             },
             "pattern": {
              "fillmode": "overlay",
              "size": 10,
              "solidity": 0.2
             }
            },
            "type": "barpolar"
           }
          ],
          "carpet": [
           {
            "aaxis": {
             "endlinecolor": "#2a3f5f",
             "gridcolor": "white",
             "linecolor": "white",
             "minorgridcolor": "white",
             "startlinecolor": "#2a3f5f"
            },
            "baxis": {
             "endlinecolor": "#2a3f5f",
             "gridcolor": "white",
             "linecolor": "white",
             "minorgridcolor": "white",
             "startlinecolor": "#2a3f5f"
            },
            "type": "carpet"
           }
          ],
          "choropleth": [
           {
            "colorbar": {
             "outlinewidth": 0,
             "ticks": ""
            },
            "type": "choropleth"
           }
          ],
          "contour": [
           {
            "colorbar": {
             "outlinewidth": 0,
             "ticks": ""
            },
            "colorscale": [
             [
              0,
              "#0d0887"
             ],
             [
              0.1111111111111111,
              "#46039f"
             ],
             [
              0.2222222222222222,
              "#7201a8"
             ],
             [
              0.3333333333333333,
              "#9c179e"
             ],
             [
              0.4444444444444444,
              "#bd3786"
             ],
             [
              0.5555555555555556,
              "#d8576b"
             ],
             [
              0.6666666666666666,
              "#ed7953"
             ],
             [
              0.7777777777777778,
              "#fb9f3a"
             ],
             [
              0.8888888888888888,
              "#fdca26"
             ],
             [
              1,
              "#f0f921"
             ]
            ],
            "type": "contour"
           }
          ],
          "contourcarpet": [
           {
            "colorbar": {
             "outlinewidth": 0,
             "ticks": ""
            },
            "type": "contourcarpet"
           }
          ],
          "heatmap": [
           {
            "colorbar": {
             "outlinewidth": 0,
             "ticks": ""
            },
            "colorscale": [
             [
              0,
              "#0d0887"
             ],
             [
              0.1111111111111111,
              "#46039f"
             ],
             [
              0.2222222222222222,
              "#7201a8"
             ],
             [
              0.3333333333333333,
              "#9c179e"
             ],
             [
              0.4444444444444444,
              "#bd3786"
             ],
             [
              0.5555555555555556,
              "#d8576b"
             ],
             [
              0.6666666666666666,
              "#ed7953"
             ],
             [
              0.7777777777777778,
              "#fb9f3a"
             ],
             [
              0.8888888888888888,
              "#fdca26"
             ],
             [
              1,
              "#f0f921"
             ]
            ],
            "type": "heatmap"
           }
          ],
          "heatmapgl": [
           {
            "colorbar": {
             "outlinewidth": 0,
             "ticks": ""
            },
            "colorscale": [
             [
              0,
              "#0d0887"
             ],
             [
              0.1111111111111111,
              "#46039f"
             ],
             [
              0.2222222222222222,
              "#7201a8"
             ],
             [
              0.3333333333333333,
              "#9c179e"
             ],
             [
              0.4444444444444444,
              "#bd3786"
             ],
             [
              0.5555555555555556,
              "#d8576b"
             ],
             [
              0.6666666666666666,
              "#ed7953"
             ],
             [
              0.7777777777777778,
              "#fb9f3a"
             ],
             [
              0.8888888888888888,
              "#fdca26"
             ],
             [
              1,
              "#f0f921"
             ]
            ],
            "type": "heatmapgl"
           }
          ],
          "histogram": [
           {
            "marker": {
             "pattern": {
              "fillmode": "overlay",
              "size": 10,
              "solidity": 0.2
             }
            },
            "type": "histogram"
           }
          ],
          "histogram2d": [
           {
            "colorbar": {
             "outlinewidth": 0,
             "ticks": ""
            },
            "colorscale": [
             [
              0,
              "#0d0887"
             ],
             [
              0.1111111111111111,
              "#46039f"
             ],
             [
              0.2222222222222222,
              "#7201a8"
             ],
             [
              0.3333333333333333,
              "#9c179e"
             ],
             [
              0.4444444444444444,
              "#bd3786"
             ],
             [
              0.5555555555555556,
              "#d8576b"
             ],
             [
              0.6666666666666666,
              "#ed7953"
             ],
             [
              0.7777777777777778,
              "#fb9f3a"
             ],
             [
              0.8888888888888888,
              "#fdca26"
             ],
             [
              1,
              "#f0f921"
             ]
            ],
            "type": "histogram2d"
           }
          ],
          "histogram2dcontour": [
           {
            "colorbar": {
             "outlinewidth": 0,
             "ticks": ""
            },
            "colorscale": [
             [
              0,
              "#0d0887"
             ],
             [
              0.1111111111111111,
              "#46039f"
             ],
             [
              0.2222222222222222,
              "#7201a8"
             ],
             [
              0.3333333333333333,
              "#9c179e"
             ],
             [
              0.4444444444444444,
              "#bd3786"
             ],
             [
              0.5555555555555556,
              "#d8576b"
             ],
             [
              0.6666666666666666,
              "#ed7953"
             ],
             [
              0.7777777777777778,
              "#fb9f3a"
             ],
             [
              0.8888888888888888,
              "#fdca26"
             ],
             [
              1,
              "#f0f921"
             ]
            ],
            "type": "histogram2dcontour"
           }
          ],
          "mesh3d": [
           {
            "colorbar": {
             "outlinewidth": 0,
             "ticks": ""
            },
            "type": "mesh3d"
           }
          ],
          "parcoords": [
           {
            "line": {
             "colorbar": {
              "outlinewidth": 0,
              "ticks": ""
             }
            },
            "type": "parcoords"
           }
          ],
          "pie": [
           {
            "automargin": true,
            "type": "pie"
           }
          ],
          "scatter": [
           {
            "fillpattern": {
             "fillmode": "overlay",
             "size": 10,
             "solidity": 0.2
            },
            "type": "scatter"
           }
          ],
          "scatter3d": [
           {
            "line": {
             "colorbar": {
              "outlinewidth": 0,
              "ticks": ""
             }
            },
            "marker": {
             "colorbar": {
              "outlinewidth": 0,
              "ticks": ""
             }
            },
            "type": "scatter3d"
           }
          ],
          "scattercarpet": [
           {
            "marker": {
             "colorbar": {
              "outlinewidth": 0,
              "ticks": ""
             }
            },
            "type": "scattercarpet"
           }
          ],
          "scattergeo": [
           {
            "marker": {
             "colorbar": {
              "outlinewidth": 0,
              "ticks": ""
             }
            },
            "type": "scattergeo"
           }
          ],
          "scattergl": [
           {
            "marker": {
             "colorbar": {
              "outlinewidth": 0,
              "ticks": ""
             }
            },
            "type": "scattergl"
           }
          ],
          "scattermapbox": [
           {
            "marker": {
             "colorbar": {
              "outlinewidth": 0,
              "ticks": ""
             }
            },
            "type": "scattermapbox"
           }
          ],
          "scatterpolar": [
           {
            "marker": {
             "colorbar": {
              "outlinewidth": 0,
              "ticks": ""
             }
            },
            "type": "scatterpolar"
           }
          ],
          "scatterpolargl": [
           {
            "marker": {
             "colorbar": {
              "outlinewidth": 0,
              "ticks": ""
             }
            },
            "type": "scatterpolargl"
           }
          ],
          "scatterternary": [
           {
            "marker": {
             "colorbar": {
              "outlinewidth": 0,
              "ticks": ""
             }
            },
            "type": "scatterternary"
           }
          ],
          "surface": [
           {
            "colorbar": {
             "outlinewidth": 0,
             "ticks": ""
            },
            "colorscale": [
             [
              0,
              "#0d0887"
             ],
             [
              0.1111111111111111,
              "#46039f"
             ],
             [
              0.2222222222222222,
              "#7201a8"
             ],
             [
              0.3333333333333333,
              "#9c179e"
             ],
             [
              0.4444444444444444,
              "#bd3786"
             ],
             [
              0.5555555555555556,
              "#d8576b"
             ],
             [
              0.6666666666666666,
              "#ed7953"
             ],
             [
              0.7777777777777778,
              "#fb9f3a"
             ],
             [
              0.8888888888888888,
              "#fdca26"
             ],
             [
              1,
              "#f0f921"
             ]
            ],
            "type": "surface"
           }
          ],
          "table": [
           {
            "cells": {
             "fill": {
              "color": "#EBF0F8"
             },
             "line": {
              "color": "white"
             }
            },
            "header": {
             "fill": {
              "color": "#C8D4E3"
             },
             "line": {
              "color": "white"
             }
            },
            "type": "table"
           }
          ]
         },
         "layout": {
          "annotationdefaults": {
           "arrowcolor": "#2a3f5f",
           "arrowhead": 0,
           "arrowwidth": 1
          },
          "autotypenumbers": "strict",
          "coloraxis": {
           "colorbar": {
            "outlinewidth": 0,
            "ticks": ""
           }
          },
          "colorscale": {
           "diverging": [
            [
             0,
             "#8e0152"
            ],
            [
             0.1,
             "#c51b7d"
            ],
            [
             0.2,
             "#de77ae"
            ],
            [
             0.3,
             "#f1b6da"
            ],
            [
             0.4,
             "#fde0ef"
            ],
            [
             0.5,
             "#f7f7f7"
            ],
            [
             0.6,
             "#e6f5d0"
            ],
            [
             0.7,
             "#b8e186"
            ],
            [
             0.8,
             "#7fbc41"
            ],
            [
             0.9,
             "#4d9221"
            ],
            [
             1,
             "#276419"
            ]
           ],
           "sequential": [
            [
             0,
             "#0d0887"
            ],
            [
             0.1111111111111111,
             "#46039f"
            ],
            [
             0.2222222222222222,
             "#7201a8"
            ],
            [
             0.3333333333333333,
             "#9c179e"
            ],
            [
             0.4444444444444444,
             "#bd3786"
            ],
            [
             0.5555555555555556,
             "#d8576b"
            ],
            [
             0.6666666666666666,
             "#ed7953"
            ],
            [
             0.7777777777777778,
             "#fb9f3a"
            ],
            [
             0.8888888888888888,
             "#fdca26"
            ],
            [
             1,
             "#f0f921"
            ]
           ],
           "sequentialminus": [
            [
             0,
             "#0d0887"
            ],
            [
             0.1111111111111111,
             "#46039f"
            ],
            [
             0.2222222222222222,
             "#7201a8"
            ],
            [
             0.3333333333333333,
             "#9c179e"
            ],
            [
             0.4444444444444444,
             "#bd3786"
            ],
            [
             0.5555555555555556,
             "#d8576b"
            ],
            [
             0.6666666666666666,
             "#ed7953"
            ],
            [
             0.7777777777777778,
             "#fb9f3a"
            ],
            [
             0.8888888888888888,
             "#fdca26"
            ],
            [
             1,
             "#f0f921"
            ]
           ]
          },
          "colorway": [
           "#636efa",
           "#EF553B",
           "#00cc96",
           "#ab63fa",
           "#FFA15A",
           "#19d3f3",
           "#FF6692",
           "#B6E880",
           "#FF97FF",
           "#FECB52"
          ],
          "font": {
           "color": "#2a3f5f"
          },
          "geo": {
           "bgcolor": "white",
           "lakecolor": "white",
           "landcolor": "#E5ECF6",
           "showlakes": true,
           "showland": true,
           "subunitcolor": "white"
          },
          "hoverlabel": {
           "align": "left"
          },
          "hovermode": "closest",
          "mapbox": {
           "style": "light"
          },
          "paper_bgcolor": "white",
          "plot_bgcolor": "#E5ECF6",
          "polar": {
           "angularaxis": {
            "gridcolor": "white",
            "linecolor": "white",
            "ticks": ""
           },
           "bgcolor": "#E5ECF6",
           "radialaxis": {
            "gridcolor": "white",
            "linecolor": "white",
            "ticks": ""
           }
          },
          "scene": {
           "xaxis": {
            "backgroundcolor": "#E5ECF6",
            "gridcolor": "white",
            "gridwidth": 2,
            "linecolor": "white",
            "showbackground": true,
            "ticks": "",
            "zerolinecolor": "white"
           },
           "yaxis": {
            "backgroundcolor": "#E5ECF6",
            "gridcolor": "white",
            "gridwidth": 2,
            "linecolor": "white",
            "showbackground": true,
            "ticks": "",
            "zerolinecolor": "white"
           },
           "zaxis": {
            "backgroundcolor": "#E5ECF6",
            "gridcolor": "white",
            "gridwidth": 2,
            "linecolor": "white",
            "showbackground": true,
            "ticks": "",
            "zerolinecolor": "white"
           }
          },
          "shapedefaults": {
           "line": {
            "color": "#2a3f5f"
           }
          },
          "ternary": {
           "aaxis": {
            "gridcolor": "white",
            "linecolor": "white",
            "ticks": ""
           },
           "baxis": {
            "gridcolor": "white",
            "linecolor": "white",
            "ticks": ""
           },
           "bgcolor": "#E5ECF6",
           "caxis": {
            "gridcolor": "white",
            "linecolor": "white",
            "ticks": ""
           }
          },
          "title": {
           "x": 0.05
          },
          "xaxis": {
           "automargin": true,
           "gridcolor": "white",
           "linecolor": "white",
           "ticks": "",
           "title": {
            "standoff": 15
           },
           "zerolinecolor": "white",
           "zerolinewidth": 2
          },
          "yaxis": {
           "automargin": true,
           "gridcolor": "white",
           "linecolor": "white",
           "ticks": "",
           "title": {
            "standoff": 15
           },
           "zerolinecolor": "white",
           "zerolinewidth": 2
          }
         }
        },
        "title": {
         "text": "Intensity des add en fonction de l'imbalance"
        },
        "xaxis": {
         "title": {
          "text": "imbalance"
         }
        },
        "yaxis": {
         "title": {
          "text": "Intensity"
         }
        }
       }
      }
     },
     "metadata": {},
     "output_type": "display_data"
    },
    {
     "data": {
      "application/vnd.plotly.v1+json": {
       "config": {
        "plotlyServerURL": "https://plot.ly"
       },
       "data": [
        {
         "line": {
          "width": 0
         },
         "mode": "lines",
         "name": "Upper Bound",
         "showlegend": false,
         "type": "scatter",
         "x": [
          -0.8282518197561548,
          -0.7105497684031663,
          -0.6179783371431359,
          -0.5389100499132634,
          -0.4691837579638,
          -0.4048884724483415,
          -0.34411824300592636,
          -0.28731303230731225,
          -0.2315066570776851,
          -0.17706825781455054,
          -0.12282795653209932,
          -0.06893206045937873,
          -0.014559989415374851,
          0.03700586036649473,
          0.0919975057795516,
          0.1460434907201007,
          0.20048905863196775,
          0.2557272984336751,
          0.3125259120173335,
          0.3698427706826446,
          0.4315545998517936,
          0.497742157893567,
          0.5705549412271308,
          0.6535656650176616,
          0.7555902900794613,
          0.8559288804705714
         ],
         "y": [
          53658.609631964784,
          41612.93969602871,
          39421.98050867992,
          38597.10658474895,
          37524.93616970282,
          35101.00338742908,
          33846.16231917643,
          33001.98974794482,
          31822.40304998956,
          30066.521980819383,
          29845.489093678596,
          28771.88216453876,
          28127.666362428736,
          27711.501642014973,
          28196.843151798916,
          29095.10970945652,
          29700.459844779605,
          31019.854516880583,
          31745.356740905867,
          32712.68565566702,
          35227.801499734545,
          36113.849546219586,
          38080.97361546365,
          39269.58125366101,
          42386.21775165864,
          56240.61300002207
         ]
        },
        {
         "fill": "tonexty",
         "fillcolor": "blue",
         "line": {
          "width": 0
         },
         "mode": "lines",
         "name": "Intervalle de confiance à 95%",
         "showlegend": true,
         "type": "scatter",
         "x": [
          -0.8282518197561548,
          -0.7105497684031663,
          -0.6179783371431359,
          -0.5389100499132634,
          -0.4691837579638,
          -0.4048884724483415,
          -0.34411824300592636,
          -0.28731303230731225,
          -0.2315066570776851,
          -0.17706825781455054,
          -0.12282795653209932,
          -0.06893206045937873,
          -0.014559989415374851,
          0.03700586036649473,
          0.0919975057795516,
          0.1460434907201007,
          0.20048905863196775,
          0.2557272984336751,
          0.3125259120173335,
          0.3698427706826446,
          0.4315545998517936,
          0.497742157893567,
          0.5705549412271308,
          0.6535656650176616,
          0.7555902900794613,
          0.8559288804705714
         ],
         "y": [
          51991.87262298479,
          40135.038659748665,
          37989.99692989441,
          37178.97076194176,
          36049.995959448395,
          33743.38715621576,
          32515.283480243448,
          31684.66802789587,
          30507.171931167795,
          28826.676075853287,
          28580.448218862097,
          27572.71797573565,
          26911.24233951147,
          26520.231801761616,
          27026.602007487618,
          27881.14800093871,
          28474.76139040123,
          29745.8944651246,
          30471.60717176685,
          31431.06741111501,
          33816.88839205973,
          34739.09152514355,
          36657.77535891491,
          37847.74017735707,
          40899.99202359862,
          54002.182656603414
         ]
        },
        {
         "line": {
          "color": "red"
         },
         "mode": "lines",
         "name": "intensity",
         "showlegend": true,
         "type": "scatter",
         "x": [
          -0.8282518197561548,
          -0.7105497684031663,
          -0.6179783371431359,
          -0.5389100499132634,
          -0.4691837579638,
          -0.4048884724483415,
          -0.34411824300592636,
          -0.28731303230731225,
          -0.2315066570776851,
          -0.17706825781455054,
          -0.12282795653209932,
          -0.06893206045937873,
          -0.014559989415374851,
          0.03700586036649473,
          0.0919975057795516,
          0.1460434907201007,
          0.20048905863196775,
          0.2557272984336751,
          0.3125259120173335,
          0.3698427706826446,
          0.4315545998517936,
          0.497742157893567,
          0.5705549412271308,
          0.6535656650176616,
          0.7555902900794613,
          0.8559288804705714
         ],
         "y": [
          52825.24112747479,
          40873.98917788869,
          38705.98871928717,
          37888.03867334536,
          36787.46606457561,
          34422.19527182242,
          33180.72289970994,
          32343.328887920343,
          31164.78749057868,
          29446.599028336335,
          29212.968656270343,
          28172.300070137204,
          27519.454350970103,
          27115.866721888295,
          27611.722579643265,
          28488.128855197618,
          29087.610617590417,
          30382.874491002593,
          31108.481956336356,
          32071.876533391016,
          34522.34494589714,
          35426.47053568157,
          37369.37448718928,
          38558.66071550904,
          41643.10488762863,
          55121.39782831274
         ]
        }
       ],
       "layout": {
        "showlegend": true,
        "template": {
         "data": {
          "bar": [
           {
            "error_x": {
             "color": "#2a3f5f"
            },
            "error_y": {
             "color": "#2a3f5f"
            },
            "marker": {
             "line": {
              "color": "#E5ECF6",
              "width": 0.5
             },
             "pattern": {
              "fillmode": "overlay",
              "size": 10,
              "solidity": 0.2
             }
            },
            "type": "bar"
           }
          ],
          "barpolar": [
           {
            "marker": {
             "line": {
              "color": "#E5ECF6",
              "width": 0.5
             },
             "pattern": {
              "fillmode": "overlay",
              "size": 10,
              "solidity": 0.2
             }
            },
            "type": "barpolar"
           }
          ],
          "carpet": [
           {
            "aaxis": {
             "endlinecolor": "#2a3f5f",
             "gridcolor": "white",
             "linecolor": "white",
             "minorgridcolor": "white",
             "startlinecolor": "#2a3f5f"
            },
            "baxis": {
             "endlinecolor": "#2a3f5f",
             "gridcolor": "white",
             "linecolor": "white",
             "minorgridcolor": "white",
             "startlinecolor": "#2a3f5f"
            },
            "type": "carpet"
           }
          ],
          "choropleth": [
           {
            "colorbar": {
             "outlinewidth": 0,
             "ticks": ""
            },
            "type": "choropleth"
           }
          ],
          "contour": [
           {
            "colorbar": {
             "outlinewidth": 0,
             "ticks": ""
            },
            "colorscale": [
             [
              0,
              "#0d0887"
             ],
             [
              0.1111111111111111,
              "#46039f"
             ],
             [
              0.2222222222222222,
              "#7201a8"
             ],
             [
              0.3333333333333333,
              "#9c179e"
             ],
             [
              0.4444444444444444,
              "#bd3786"
             ],
             [
              0.5555555555555556,
              "#d8576b"
             ],
             [
              0.6666666666666666,
              "#ed7953"
             ],
             [
              0.7777777777777778,
              "#fb9f3a"
             ],
             [
              0.8888888888888888,
              "#fdca26"
             ],
             [
              1,
              "#f0f921"
             ]
            ],
            "type": "contour"
           }
          ],
          "contourcarpet": [
           {
            "colorbar": {
             "outlinewidth": 0,
             "ticks": ""
            },
            "type": "contourcarpet"
           }
          ],
          "heatmap": [
           {
            "colorbar": {
             "outlinewidth": 0,
             "ticks": ""
            },
            "colorscale": [
             [
              0,
              "#0d0887"
             ],
             [
              0.1111111111111111,
              "#46039f"
             ],
             [
              0.2222222222222222,
              "#7201a8"
             ],
             [
              0.3333333333333333,
              "#9c179e"
             ],
             [
              0.4444444444444444,
              "#bd3786"
             ],
             [
              0.5555555555555556,
              "#d8576b"
             ],
             [
              0.6666666666666666,
              "#ed7953"
             ],
             [
              0.7777777777777778,
              "#fb9f3a"
             ],
             [
              0.8888888888888888,
              "#fdca26"
             ],
             [
              1,
              "#f0f921"
             ]
            ],
            "type": "heatmap"
           }
          ],
          "heatmapgl": [
           {
            "colorbar": {
             "outlinewidth": 0,
             "ticks": ""
            },
            "colorscale": [
             [
              0,
              "#0d0887"
             ],
             [
              0.1111111111111111,
              "#46039f"
             ],
             [
              0.2222222222222222,
              "#7201a8"
             ],
             [
              0.3333333333333333,
              "#9c179e"
             ],
             [
              0.4444444444444444,
              "#bd3786"
             ],
             [
              0.5555555555555556,
              "#d8576b"
             ],
             [
              0.6666666666666666,
              "#ed7953"
             ],
             [
              0.7777777777777778,
              "#fb9f3a"
             ],
             [
              0.8888888888888888,
              "#fdca26"
             ],
             [
              1,
              "#f0f921"
             ]
            ],
            "type": "heatmapgl"
           }
          ],
          "histogram": [
           {
            "marker": {
             "pattern": {
              "fillmode": "overlay",
              "size": 10,
              "solidity": 0.2
             }
            },
            "type": "histogram"
           }
          ],
          "histogram2d": [
           {
            "colorbar": {
             "outlinewidth": 0,
             "ticks": ""
            },
            "colorscale": [
             [
              0,
              "#0d0887"
             ],
             [
              0.1111111111111111,
              "#46039f"
             ],
             [
              0.2222222222222222,
              "#7201a8"
             ],
             [
              0.3333333333333333,
              "#9c179e"
             ],
             [
              0.4444444444444444,
              "#bd3786"
             ],
             [
              0.5555555555555556,
              "#d8576b"
             ],
             [
              0.6666666666666666,
              "#ed7953"
             ],
             [
              0.7777777777777778,
              "#fb9f3a"
             ],
             [
              0.8888888888888888,
              "#fdca26"
             ],
             [
              1,
              "#f0f921"
             ]
            ],
            "type": "histogram2d"
           }
          ],
          "histogram2dcontour": [
           {
            "colorbar": {
             "outlinewidth": 0,
             "ticks": ""
            },
            "colorscale": [
             [
              0,
              "#0d0887"
             ],
             [
              0.1111111111111111,
              "#46039f"
             ],
             [
              0.2222222222222222,
              "#7201a8"
             ],
             [
              0.3333333333333333,
              "#9c179e"
             ],
             [
              0.4444444444444444,
              "#bd3786"
             ],
             [
              0.5555555555555556,
              "#d8576b"
             ],
             [
              0.6666666666666666,
              "#ed7953"
             ],
             [
              0.7777777777777778,
              "#fb9f3a"
             ],
             [
              0.8888888888888888,
              "#fdca26"
             ],
             [
              1,
              "#f0f921"
             ]
            ],
            "type": "histogram2dcontour"
           }
          ],
          "mesh3d": [
           {
            "colorbar": {
             "outlinewidth": 0,
             "ticks": ""
            },
            "type": "mesh3d"
           }
          ],
          "parcoords": [
           {
            "line": {
             "colorbar": {
              "outlinewidth": 0,
              "ticks": ""
             }
            },
            "type": "parcoords"
           }
          ],
          "pie": [
           {
            "automargin": true,
            "type": "pie"
           }
          ],
          "scatter": [
           {
            "fillpattern": {
             "fillmode": "overlay",
             "size": 10,
             "solidity": 0.2
            },
            "type": "scatter"
           }
          ],
          "scatter3d": [
           {
            "line": {
             "colorbar": {
              "outlinewidth": 0,
              "ticks": ""
             }
            },
            "marker": {
             "colorbar": {
              "outlinewidth": 0,
              "ticks": ""
             }
            },
            "type": "scatter3d"
           }
          ],
          "scattercarpet": [
           {
            "marker": {
             "colorbar": {
              "outlinewidth": 0,
              "ticks": ""
             }
            },
            "type": "scattercarpet"
           }
          ],
          "scattergeo": [
           {
            "marker": {
             "colorbar": {
              "outlinewidth": 0,
              "ticks": ""
             }
            },
            "type": "scattergeo"
           }
          ],
          "scattergl": [
           {
            "marker": {
             "colorbar": {
              "outlinewidth": 0,
              "ticks": ""
             }
            },
            "type": "scattergl"
           }
          ],
          "scattermapbox": [
           {
            "marker": {
             "colorbar": {
              "outlinewidth": 0,
              "ticks": ""
             }
            },
            "type": "scattermapbox"
           }
          ],
          "scatterpolar": [
           {
            "marker": {
             "colorbar": {
              "outlinewidth": 0,
              "ticks": ""
             }
            },
            "type": "scatterpolar"
           }
          ],
          "scatterpolargl": [
           {
            "marker": {
             "colorbar": {
              "outlinewidth": 0,
              "ticks": ""
             }
            },
            "type": "scatterpolargl"
           }
          ],
          "scatterternary": [
           {
            "marker": {
             "colorbar": {
              "outlinewidth": 0,
              "ticks": ""
             }
            },
            "type": "scatterternary"
           }
          ],
          "surface": [
           {
            "colorbar": {
             "outlinewidth": 0,
             "ticks": ""
            },
            "colorscale": [
             [
              0,
              "#0d0887"
             ],
             [
              0.1111111111111111,
              "#46039f"
             ],
             [
              0.2222222222222222,
              "#7201a8"
             ],
             [
              0.3333333333333333,
              "#9c179e"
             ],
             [
              0.4444444444444444,
              "#bd3786"
             ],
             [
              0.5555555555555556,
              "#d8576b"
             ],
             [
              0.6666666666666666,
              "#ed7953"
             ],
             [
              0.7777777777777778,
              "#fb9f3a"
             ],
             [
              0.8888888888888888,
              "#fdca26"
             ],
             [
              1,
              "#f0f921"
             ]
            ],
            "type": "surface"
           }
          ],
          "table": [
           {
            "cells": {
             "fill": {
              "color": "#EBF0F8"
             },
             "line": {
              "color": "white"
             }
            },
            "header": {
             "fill": {
              "color": "#C8D4E3"
             },
             "line": {
              "color": "white"
             }
            },
            "type": "table"
           }
          ]
         },
         "layout": {
          "annotationdefaults": {
           "arrowcolor": "#2a3f5f",
           "arrowhead": 0,
           "arrowwidth": 1
          },
          "autotypenumbers": "strict",
          "coloraxis": {
           "colorbar": {
            "outlinewidth": 0,
            "ticks": ""
           }
          },
          "colorscale": {
           "diverging": [
            [
             0,
             "#8e0152"
            ],
            [
             0.1,
             "#c51b7d"
            ],
            [
             0.2,
             "#de77ae"
            ],
            [
             0.3,
             "#f1b6da"
            ],
            [
             0.4,
             "#fde0ef"
            ],
            [
             0.5,
             "#f7f7f7"
            ],
            [
             0.6,
             "#e6f5d0"
            ],
            [
             0.7,
             "#b8e186"
            ],
            [
             0.8,
             "#7fbc41"
            ],
            [
             0.9,
             "#4d9221"
            ],
            [
             1,
             "#276419"
            ]
           ],
           "sequential": [
            [
             0,
             "#0d0887"
            ],
            [
             0.1111111111111111,
             "#46039f"
            ],
            [
             0.2222222222222222,
             "#7201a8"
            ],
            [
             0.3333333333333333,
             "#9c179e"
            ],
            [
             0.4444444444444444,
             "#bd3786"
            ],
            [
             0.5555555555555556,
             "#d8576b"
            ],
            [
             0.6666666666666666,
             "#ed7953"
            ],
            [
             0.7777777777777778,
             "#fb9f3a"
            ],
            [
             0.8888888888888888,
             "#fdca26"
            ],
            [
             1,
             "#f0f921"
            ]
           ],
           "sequentialminus": [
            [
             0,
             "#0d0887"
            ],
            [
             0.1111111111111111,
             "#46039f"
            ],
            [
             0.2222222222222222,
             "#7201a8"
            ],
            [
             0.3333333333333333,
             "#9c179e"
            ],
            [
             0.4444444444444444,
             "#bd3786"
            ],
            [
             0.5555555555555556,
             "#d8576b"
            ],
            [
             0.6666666666666666,
             "#ed7953"
            ],
            [
             0.7777777777777778,
             "#fb9f3a"
            ],
            [
             0.8888888888888888,
             "#fdca26"
            ],
            [
             1,
             "#f0f921"
            ]
           ]
          },
          "colorway": [
           "#636efa",
           "#EF553B",
           "#00cc96",
           "#ab63fa",
           "#FFA15A",
           "#19d3f3",
           "#FF6692",
           "#B6E880",
           "#FF97FF",
           "#FECB52"
          ],
          "font": {
           "color": "#2a3f5f"
          },
          "geo": {
           "bgcolor": "white",
           "lakecolor": "white",
           "landcolor": "#E5ECF6",
           "showlakes": true,
           "showland": true,
           "subunitcolor": "white"
          },
          "hoverlabel": {
           "align": "left"
          },
          "hovermode": "closest",
          "mapbox": {
           "style": "light"
          },
          "paper_bgcolor": "white",
          "plot_bgcolor": "#E5ECF6",
          "polar": {
           "angularaxis": {
            "gridcolor": "white",
            "linecolor": "white",
            "ticks": ""
           },
           "bgcolor": "#E5ECF6",
           "radialaxis": {
            "gridcolor": "white",
            "linecolor": "white",
            "ticks": ""
           }
          },
          "scene": {
           "xaxis": {
            "backgroundcolor": "#E5ECF6",
            "gridcolor": "white",
            "gridwidth": 2,
            "linecolor": "white",
            "showbackground": true,
            "ticks": "",
            "zerolinecolor": "white"
           },
           "yaxis": {
            "backgroundcolor": "#E5ECF6",
            "gridcolor": "white",
            "gridwidth": 2,
            "linecolor": "white",
            "showbackground": true,
            "ticks": "",
            "zerolinecolor": "white"
           },
           "zaxis": {
            "backgroundcolor": "#E5ECF6",
            "gridcolor": "white",
            "gridwidth": 2,
            "linecolor": "white",
            "showbackground": true,
            "ticks": "",
            "zerolinecolor": "white"
           }
          },
          "shapedefaults": {
           "line": {
            "color": "#2a3f5f"
           }
          },
          "ternary": {
           "aaxis": {
            "gridcolor": "white",
            "linecolor": "white",
            "ticks": ""
           },
           "baxis": {
            "gridcolor": "white",
            "linecolor": "white",
            "ticks": ""
           },
           "bgcolor": "#E5ECF6",
           "caxis": {
            "gridcolor": "white",
            "linecolor": "white",
            "ticks": ""
           }
          },
          "title": {
           "x": 0.05
          },
          "xaxis": {
           "automargin": true,
           "gridcolor": "white",
           "linecolor": "white",
           "ticks": "",
           "title": {
            "standoff": 15
           },
           "zerolinecolor": "white",
           "zerolinewidth": 2
          },
          "yaxis": {
           "automargin": true,
           "gridcolor": "white",
           "linecolor": "white",
           "ticks": "",
           "title": {
            "standoff": 15
           },
           "zerolinecolor": "white",
           "zerolinewidth": 2
          }
         }
        },
        "title": {
         "text": "Intensity des cancel en fonction de l'imbalance"
        },
        "xaxis": {
         "title": {
          "text": "imbalance"
         }
        },
        "yaxis": {
         "title": {
          "text": "Intensity"
         }
        }
       }
      }
     },
     "metadata": {},
     "output_type": "display_data"
    }
   ],
   "source": [
    "visu_intensity_respec(imb_tot, intensity_tot, 0 , 'trades', 12000)\n",
    "visu_intensity_respec(imb_tot, intensity_tot, 1 , 'add', 100000)\n",
    "visu_intensity_respec(imb_tot, intensity_tot, 2 , 'cancel', 90000)"
   ]
  },
  {
   "cell_type": "markdown",
   "metadata": {},
   "source": [
    "# Calcul Intensités par average event size"
   ]
  },
  {
   "cell_type": "code",
   "execution_count": 15,
   "metadata": {},
   "outputs": [],
   "source": [
    "def dico_queue_size(sizes, dic):\n",
    "    for i in range (len(sizes)):\n",
    "        if sizes[i] not in dic:\n",
    "            dic[sizes[i]] = [[], [], []]\n",
    "    return dic\n",
    "\n",
    "def compute_means(dico):\n",
    "    sums = 0\n",
    "    means = 0\n",
    "    keys = np.array(list(dico.keys()))\n",
    "    for i in range (len(keys)):\n",
    "        means = means+keys[i]*len(dico[keys[i]][0])+keys[i]*len(dico[keys[i]][1])+keys[i]*len(dico[keys[i]][2])\n",
    "        sums = sums+len(dico[keys[i]][0])+len(dico[keys[i]][1])+len(dico[keys[i]][2])\n",
    "    return means/sums\n",
    "\n",
    "def filtrage(dico, nombre_bins, threshold=100):\n",
    "    dico_p = dict(reversed(list(dico.items())))\n",
    "    keys = list(dico_p.keys())\n",
    "    i = 0\n",
    "    while len(dico_p[keys[i]][0])<threshold:\n",
    "        i += 1\n",
    "    values = np.linspace(0, keys[i], nombre_bins, endpoint=True)\n",
    "    keys = np.array(list(dico.keys()))\n",
    "    \n",
    "    real_dic = {}\n",
    "    for i in range (len(keys)):\n",
    "        real_k_index = np.argmin(np.abs(values-keys[i]))\n",
    "        real_k = values[real_k_index]\n",
    "        \n",
    "        if real_k not in real_dic:\n",
    "            real_dic[real_k] = [\n",
    "                np.array(dico[keys[i]][0]),\n",
    "                np.array(dico[keys[i]][1]),\n",
    "                np.array(dico[keys[i]][2])\n",
    "            ]\n",
    "        else:\n",
    "            real_dic[real_k] = [\n",
    "                np.concatenate([real_dic[real_k][0], dico[keys[i]][0]]),\n",
    "                np.concatenate([real_dic[real_k][1], dico[keys[i]][1]]),\n",
    "                np.concatenate([real_dic[real_k][2], dico[keys[i]][2]])\n",
    "            ]\n",
    "    return real_dic\n",
    "\n",
    "def remove_nan_from_dico(dico):\n",
    "    cleaned_dico = {}\n",
    "    for key, value_lists in dico.items():\n",
    "        cleaned_value_lists = []\n",
    "        for value_list in value_lists:\n",
    "            value_array = np.array(value_list)\n",
    "            cleaned_array = value_array[~np.isnan(value_array)]\n",
    "            cleaned_value_lists.append(cleaned_array.tolist())\n",
    "        cleaned_dico[key] = cleaned_value_lists\n",
    "    return cleaned_dico"
   ]
  },
  {
   "cell_type": "code",
   "execution_count": 16,
   "metadata": {},
   "outputs": [
    {
     "name": "stderr",
     "output_type": "stream",
     "text": [
      "100%|██████████| 65/65 [00:24<00:00,  2.60it/s]\n"
     ]
    }
   ],
   "source": [
    "dic = {}\n",
    "\n",
    "average_event_size = []\n",
    "for f in tqdm(files_csv):\n",
    "    df = pd.read_csv(f)\n",
    "    df['time_diff'] = df['time_diff']*1.0 # pour le modif en float c'est un timedelta là\n",
    "    sizes = np.unique(np.array((np.unique(df['bid_sz_00'].to_numpy())).tolist() + (np.unique(df['ask_sz_00'].to_numpy())).tolist()))\n",
    "    sizes.sort()\n",
    "    dic = dico_queue_size(sizes, dic)  # Add, Cancel, Trade\n",
    "    \n",
    "    for row in df.itertuples():\n",
    "        average_event_size.append(row.size)\n",
    "        if row.side == 'A':\n",
    "            taille = row.ask_sz_00\n",
    "        elif row.side == 'B':\n",
    "            taille = row.bid_sz_00\n",
    "        if row.action == 'A':\n",
    "            dic[taille][0].append(row.time_diff)\n",
    "        elif row.action == 'C':\n",
    "            dic[taille][1].append(row.time_diff)\n",
    "        elif row.action == 'T':\n",
    "            dic[taille][2].append(row.time_diff)"
   ]
  },
  {
   "cell_type": "code",
   "execution_count": 17,
   "metadata": {},
   "outputs": [
    {
     "data": {
      "application/vnd.plotly.v1+json": {
       "config": {
        "plotlyServerURL": "https://plot.ly"
       },
       "data": [
        {
         "line": {
          "color": "blue"
         },
         "mode": "lines",
         "name": "Add",
         "showlegend": true,
         "type": "scatter",
         "x": [
          0,
          0.9590913006583152,
          1.9181826013166303,
          2.8772739019749456,
          3.8363652026332606,
          4.795456503291575,
          5.754547803949891,
          6.713639104608206,
          7.672730405266521,
          8.631821705924835,
          9.59091300658315,
          10.550004307241467,
          11.509095607899782,
          12.468186908558096,
          13.427278209216412,
          14.386369509874726,
          15.345460810533044,
          16.30455211119136,
          17.26364341184967,
          18.222734712507982,
          19.1818260131663,
          20.14091731382462,
          21.100008614482935,
          22.05909991514125,
          23.018191215799565,
          23.97728251645788,
          24.936373817116195,
          25.895465117774503,
          26.854556418432825,
          27.81364771909114
         ],
         "y": [
          0.4767136224063501,
          1.9977748434986216,
          1.7737039615514698,
          1.8223815653274675,
          2.031016621431777,
          1.932883314912109,
          2.001672959355957,
          2.2587905617362245,
          2.2165169686719715,
          2.5038084947155084,
          2.5855476116059224,
          2.8372494870854275,
          3.150049972811684,
          3.390259740916523,
          3.68288799001937,
          4.095860823589868,
          4.309573873930563,
          4.778609101980591,
          5.300523724409007,
          5.69861701680529,
          5.8876905610367745,
          6.762598006215194,
          7.110791196629906,
          6.623577840539991,
          7.489987687026093,
          8.23798700222867,
          8.962924518335234,
          8.557375415131625,
          8.518495469449066,
          10.430120748874886
         ]
        },
        {
         "line": {
          "width": 0
         },
         "mode": "lines",
         "name": "Add Upper CI",
         "showlegend": false,
         "type": "scatter",
         "x": [
          0,
          0.9590913006583152,
          1.9181826013166303,
          2.8772739019749456,
          3.8363652026332606,
          4.795456503291575,
          5.754547803949891,
          6.713639104608206,
          7.672730405266521,
          8.631821705924835,
          9.59091300658315,
          10.550004307241467,
          11.509095607899782,
          12.468186908558096,
          13.427278209216412,
          14.386369509874726,
          15.345460810533044,
          16.30455211119136,
          17.26364341184967,
          18.222734712507982,
          19.1818260131663,
          20.14091731382462,
          21.100008614482935,
          22.05909991514125,
          23.018191215799565,
          23.97728251645788,
          24.936373817116195,
          25.895465117774503,
          26.854556418432825,
          27.81364771909114
         ],
         "y": [
          0.4781821862294261,
          2.000224095220258,
          1.7762830919596169,
          1.825218535733856,
          2.033814777879645,
          1.9362925465257164,
          2.0056496357431506,
          2.2627540724894355,
          2.221389643583252,
          2.5092524300740253,
          2.591619039004185,
          2.844403734535771,
          3.1577390195848585,
          3.3990697196809947,
          3.692627045177523,
          4.106171186950719,
          4.321356811848427,
          4.791753629521417,
          5.314030969167091,
          5.713210516927849,
          5.905192153457392,
          6.781937359426555,
          7.131387758887426,
          6.645522223309545,
          7.513957464880414,
          8.26309122989964,
          8.985995292881675,
          8.5863382038206,
          8.548070236660926,
          10.441764144634435
         ]
        },
        {
         "fill": "tonexty",
         "fillcolor": "rgba(0, 0, 255, 0.2)",
         "line": {
          "width": 0
         },
         "mode": "lines",
         "name": "Add Lower CI",
         "showlegend": false,
         "type": "scatter",
         "x": [
          0,
          0.9590913006583152,
          1.9181826013166303,
          2.8772739019749456,
          3.8363652026332606,
          4.795456503291575,
          5.754547803949891,
          6.713639104608206,
          7.672730405266521,
          8.631821705924835,
          9.59091300658315,
          10.550004307241467,
          11.509095607899782,
          12.468186908558096,
          13.427278209216412,
          14.386369509874726,
          15.345460810533044,
          16.30455211119136,
          17.26364341184967,
          18.222734712507982,
          19.1818260131663,
          20.14091731382462,
          21.100008614482935,
          22.05909991514125,
          23.018191215799565,
          23.97728251645788,
          24.936373817116195,
          25.895465117774503,
          26.854556418432825,
          27.81364771909114
         ],
         "y": [
          0.4752450585832742,
          1.9953255917769857,
          1.7711248311433228,
          1.8195445949210791,
          2.028218464983909,
          1.9294740832985016,
          1.9976962829687632,
          2.2548270509830135,
          2.211644293760691,
          2.4983645593569914,
          2.57947618420766,
          2.830095239635084,
          3.142360926038509,
          3.3814497621520516,
          3.673148934861217,
          4.085550460229018,
          4.2977909360126985,
          4.765464574439766,
          5.287016479650922,
          5.684023516682731,
          5.870188968616157,
          6.743258653003833,
          7.090194634372386,
          6.601633457770438,
          7.466017909171772,
          8.212882774557698,
          8.939853743788792,
          8.52841262644265,
          8.488920702237206,
          10.418477353115335
         ]
        },
        {
         "line": {
          "color": "green"
         },
         "mode": "lines",
         "name": "Cancel",
         "showlegend": true,
         "type": "scatter",
         "x": [
          0,
          0.9590913006583152,
          1.9181826013166303,
          2.8772739019749456,
          3.8363652026332606,
          4.795456503291575,
          5.754547803949891,
          6.713639104608206,
          7.672730405266521,
          8.631821705924835,
          9.59091300658315,
          10.550004307241467,
          11.509095607899782,
          12.468186908558096,
          13.427278209216412,
          14.386369509874726,
          15.345460810533044,
          16.30455211119136,
          17.26364341184967,
          18.222734712507982,
          19.1818260131663,
          20.14091731382462,
          21.100008614482935,
          22.05909991514125,
          23.018191215799565,
          23.97728251645788,
          24.936373817116195,
          25.895465117774503,
          26.854556418432825,
          27.81364771909114
         ],
         "y": [
          2.190690070749417,
          2.797133356239079,
          2.178757598910583,
          1.97084288712447,
          1.956019140478095,
          1.7783382929908351,
          1.731061930563681,
          1.8724705998612772,
          1.780793068404353,
          1.9267041540679912,
          1.9460339223455896,
          2.025894376415896,
          2.2101792952885075,
          2.302826985963013,
          2.4510194928958025,
          2.675109936378988,
          2.6975797650170596,
          2.938511777492551,
          3.1995863454927185,
          3.3445663882162835,
          3.455896794693926,
          3.7072073407565216,
          3.900598751930766,
          3.58497118408691,
          3.998561135000909,
          4.351521688783911,
          4.775973861299468,
          4.434794889318784,
          4.457722314577014,
          5.071317148014264
         ]
        },
        {
         "line": {
          "width": 0
         },
         "mode": "lines",
         "name": "Cancel Upper CI",
         "showlegend": false,
         "type": "scatter",
         "x": [
          0,
          0.9590913006583152,
          1.9181826013166303,
          2.8772739019749456,
          3.8363652026332606,
          4.795456503291575,
          5.754547803949891,
          6.713639104608206,
          7.672730405266521,
          8.631821705924835,
          9.59091300658315,
          10.550004307241467,
          11.509095607899782,
          12.468186908558096,
          13.427278209216412,
          14.386369509874726,
          15.345460810533044,
          16.30455211119136,
          17.26364341184967,
          18.222734712507982,
          19.1818260131663,
          20.14091731382462,
          21.100008614482935,
          22.05909991514125,
          23.018191215799565,
          23.97728251645788,
          24.936373817116195,
          25.895465117774503,
          26.854556418432825,
          27.81364771909114
         ],
         "y": [
          2.197438709836411,
          2.80056261340022,
          2.1819257149531364,
          1.973910972893549,
          1.958713971978895,
          1.7814749371334897,
          1.734500990412028,
          1.875756233103837,
          1.7847078706951718,
          1.9308933134593225,
          1.950603632692845,
          2.0310027568185043,
          2.215574184933197,
          2.308811145996457,
          2.4575009862509383,
          2.6818438945534058,
          2.704955300471263,
          2.9465947464410434,
          3.20773980317732,
          3.353131436517021,
          3.4661697016209163,
          3.717809034384436,
          3.911896921545678,
          3.596848447670938,
          4.011357500782513,
          4.3647824029803335,
          4.788267328232982,
          4.449804634833883,
          4.473198768162222,
          5.076978381857878
         ]
        },
        {
         "fill": "tonexty",
         "fillcolor": "rgba(0, 255, 0, 0.2)",
         "line": {
          "width": 0
         },
         "mode": "lines",
         "name": "Cancel Lower CI",
         "showlegend": false,
         "type": "scatter",
         "x": [
          0,
          0.9590913006583152,
          1.9181826013166303,
          2.8772739019749456,
          3.8363652026332606,
          4.795456503291575,
          5.754547803949891,
          6.713639104608206,
          7.672730405266521,
          8.631821705924835,
          9.59091300658315,
          10.550004307241467,
          11.509095607899782,
          12.468186908558096,
          13.427278209216412,
          14.386369509874726,
          15.345460810533044,
          16.30455211119136,
          17.26364341184967,
          18.222734712507982,
          19.1818260131663,
          20.14091731382462,
          21.100008614482935,
          22.05909991514125,
          23.018191215799565,
          23.97728251645788,
          24.936373817116195,
          25.895465117774503,
          26.854556418432825,
          27.81364771909114
         ],
         "y": [
          2.183941431662422,
          2.7937040990779383,
          2.1755894828680296,
          1.9677748013553908,
          1.9533243089772956,
          1.7752016488481812,
          1.727622870715334,
          1.869184966618717,
          1.776878266113534,
          1.92251499467666,
          1.941464211998334,
          2.0207859960132875,
          2.204784405643818,
          2.296842825929569,
          2.444537999540666,
          2.6683759782045704,
          2.6902042295628563,
          2.9304288085440584,
          3.191432887808117,
          3.336001339915546,
          3.4456238877669354,
          3.696605647128607,
          3.889300582315854,
          3.573093920502882,
          3.9857647692193057,
          4.338260974587488,
          4.763680394365953,
          4.4197851438036855,
          4.442245860991806,
          5.065655914170649
         ]
        },
        {
         "line": {
          "color": "red"
         },
         "mode": "lines",
         "name": "Trade",
         "showlegend": true,
         "type": "scatter",
         "x": [
          0,
          0.9590913006583152,
          1.9181826013166303,
          2.8772739019749456,
          3.8363652026332606,
          4.795456503291575,
          5.754547803949891,
          6.713639104608206,
          7.672730405266521,
          8.631821705924835,
          9.59091300658315,
          10.550004307241467,
          11.509095607899782,
          12.468186908558096,
          13.427278209216412,
          14.386369509874726,
          15.345460810533044,
          16.30455211119136,
          17.26364341184967,
          27.81364771909114
         ],
         "y": [
          1.7402575206693642,
          0.27662659626277747,
          0.0953763968533584,
          0.06858695357243354,
          0.0645388614493386,
          0.0580857318728697,
          0.061577582946898614,
          0.07320014261911151,
          0.07203234067452752,
          0.08197215046260996,
          0.08607741375480417,
          0.09261581920641852,
          0.10765542823630708,
          0.10886535117949304,
          0.11936602145548718,
          0.12593080025504086,
          0.1258038892563157,
          0.14152937745125763,
          0.1459966382893718,
          0.26937506140706025
         ]
        },
        {
         "line": {
          "width": 0
         },
         "mode": "lines",
         "name": "Trade Upper CI",
         "showlegend": false,
         "type": "scatter",
         "x": [
          0,
          0.9590913006583152,
          1.9181826013166303,
          2.8772739019749456,
          3.8363652026332606,
          4.795456503291575,
          5.754547803949891,
          6.713639104608206,
          7.672730405266521,
          8.631821705924835,
          9.59091300658315,
          10.550004307241467,
          11.509095607899782,
          12.468186908558096,
          13.427278209216412,
          14.386369509874726,
          15.345460810533044,
          16.30455211119136,
          17.26364341184967,
          27.81364771909114
         ],
         "y": [
          1.745618557395754,
          0.276965737667702,
          0.0955150829986658,
          0.06869372548082604,
          0.0646277774283596,
          0.05818818384804727,
          0.06169991767642615,
          0.07332858726436646,
          0.07219069280273878,
          0.08215037938437411,
          0.08627954221915601,
          0.09284935400532676,
          0.10791820743988786,
          0.10914825028026189,
          0.11968167381040937,
          0.12624780133610156,
          0.1261478535229222,
          0.14191868253146875,
          0.14636867932338338,
          0.26967577129558706
         ]
        },
        {
         "fill": "tonexty",
         "fillcolor": "rgba(255, 0, 0, 0.2)",
         "line": {
          "width": 0
         },
         "mode": "lines",
         "name": "Trade Lower CI",
         "showlegend": false,
         "type": "scatter",
         "x": [
          0,
          0.9590913006583152,
          1.9181826013166303,
          2.8772739019749456,
          3.8363652026332606,
          4.795456503291575,
          5.754547803949891,
          6.713639104608206,
          7.672730405266521,
          8.631821705924835,
          9.59091300658315,
          10.550004307241467,
          11.509095607899782,
          12.468186908558096,
          13.427278209216412,
          14.386369509874726,
          15.345460810533044,
          16.30455211119136,
          17.26364341184967,
          27.81364771909114
         ],
         "y": [
          1.7348964839429744,
          0.27628745485785294,
          0.09523771070805104,
          0.06848018166404103,
          0.0644499454703176,
          0.057983279897692135,
          0.06145524821737108,
          0.07307169797385656,
          0.07187398854631626,
          0.0817939215408458,
          0.08587528529045232,
          0.09238228440751028,
          0.1073926490327263,
          0.1085824520787242,
          0.119050369100565,
          0.12561379917398016,
          0.12545992498970918,
          0.14114007237104656,
          0.1456245972553602,
          0.26907435151853343
         ]
        }
       ],
       "layout": {
        "showlegend": true,
        "template": {
         "data": {
          "bar": [
           {
            "error_x": {
             "color": "#2a3f5f"
            },
            "error_y": {
             "color": "#2a3f5f"
            },
            "marker": {
             "line": {
              "color": "#E5ECF6",
              "width": 0.5
             },
             "pattern": {
              "fillmode": "overlay",
              "size": 10,
              "solidity": 0.2
             }
            },
            "type": "bar"
           }
          ],
          "barpolar": [
           {
            "marker": {
             "line": {
              "color": "#E5ECF6",
              "width": 0.5
             },
             "pattern": {
              "fillmode": "overlay",
              "size": 10,
              "solidity": 0.2
             }
            },
            "type": "barpolar"
           }
          ],
          "carpet": [
           {
            "aaxis": {
             "endlinecolor": "#2a3f5f",
             "gridcolor": "white",
             "linecolor": "white",
             "minorgridcolor": "white",
             "startlinecolor": "#2a3f5f"
            },
            "baxis": {
             "endlinecolor": "#2a3f5f",
             "gridcolor": "white",
             "linecolor": "white",
             "minorgridcolor": "white",
             "startlinecolor": "#2a3f5f"
            },
            "type": "carpet"
           }
          ],
          "choropleth": [
           {
            "colorbar": {
             "outlinewidth": 0,
             "ticks": ""
            },
            "type": "choropleth"
           }
          ],
          "contour": [
           {
            "colorbar": {
             "outlinewidth": 0,
             "ticks": ""
            },
            "colorscale": [
             [
              0,
              "#0d0887"
             ],
             [
              0.1111111111111111,
              "#46039f"
             ],
             [
              0.2222222222222222,
              "#7201a8"
             ],
             [
              0.3333333333333333,
              "#9c179e"
             ],
             [
              0.4444444444444444,
              "#bd3786"
             ],
             [
              0.5555555555555556,
              "#d8576b"
             ],
             [
              0.6666666666666666,
              "#ed7953"
             ],
             [
              0.7777777777777778,
              "#fb9f3a"
             ],
             [
              0.8888888888888888,
              "#fdca26"
             ],
             [
              1,
              "#f0f921"
             ]
            ],
            "type": "contour"
           }
          ],
          "contourcarpet": [
           {
            "colorbar": {
             "outlinewidth": 0,
             "ticks": ""
            },
            "type": "contourcarpet"
           }
          ],
          "heatmap": [
           {
            "colorbar": {
             "outlinewidth": 0,
             "ticks": ""
            },
            "colorscale": [
             [
              0,
              "#0d0887"
             ],
             [
              0.1111111111111111,
              "#46039f"
             ],
             [
              0.2222222222222222,
              "#7201a8"
             ],
             [
              0.3333333333333333,
              "#9c179e"
             ],
             [
              0.4444444444444444,
              "#bd3786"
             ],
             [
              0.5555555555555556,
              "#d8576b"
             ],
             [
              0.6666666666666666,
              "#ed7953"
             ],
             [
              0.7777777777777778,
              "#fb9f3a"
             ],
             [
              0.8888888888888888,
              "#fdca26"
             ],
             [
              1,
              "#f0f921"
             ]
            ],
            "type": "heatmap"
           }
          ],
          "heatmapgl": [
           {
            "colorbar": {
             "outlinewidth": 0,
             "ticks": ""
            },
            "colorscale": [
             [
              0,
              "#0d0887"
             ],
             [
              0.1111111111111111,
              "#46039f"
             ],
             [
              0.2222222222222222,
              "#7201a8"
             ],
             [
              0.3333333333333333,
              "#9c179e"
             ],
             [
              0.4444444444444444,
              "#bd3786"
             ],
             [
              0.5555555555555556,
              "#d8576b"
             ],
             [
              0.6666666666666666,
              "#ed7953"
             ],
             [
              0.7777777777777778,
              "#fb9f3a"
             ],
             [
              0.8888888888888888,
              "#fdca26"
             ],
             [
              1,
              "#f0f921"
             ]
            ],
            "type": "heatmapgl"
           }
          ],
          "histogram": [
           {
            "marker": {
             "pattern": {
              "fillmode": "overlay",
              "size": 10,
              "solidity": 0.2
             }
            },
            "type": "histogram"
           }
          ],
          "histogram2d": [
           {
            "colorbar": {
             "outlinewidth": 0,
             "ticks": ""
            },
            "colorscale": [
             [
              0,
              "#0d0887"
             ],
             [
              0.1111111111111111,
              "#46039f"
             ],
             [
              0.2222222222222222,
              "#7201a8"
             ],
             [
              0.3333333333333333,
              "#9c179e"
             ],
             [
              0.4444444444444444,
              "#bd3786"
             ],
             [
              0.5555555555555556,
              "#d8576b"
             ],
             [
              0.6666666666666666,
              "#ed7953"
             ],
             [
              0.7777777777777778,
              "#fb9f3a"
             ],
             [
              0.8888888888888888,
              "#fdca26"
             ],
             [
              1,
              "#f0f921"
             ]
            ],
            "type": "histogram2d"
           }
          ],
          "histogram2dcontour": [
           {
            "colorbar": {
             "outlinewidth": 0,
             "ticks": ""
            },
            "colorscale": [
             [
              0,
              "#0d0887"
             ],
             [
              0.1111111111111111,
              "#46039f"
             ],
             [
              0.2222222222222222,
              "#7201a8"
             ],
             [
              0.3333333333333333,
              "#9c179e"
             ],
             [
              0.4444444444444444,
              "#bd3786"
             ],
             [
              0.5555555555555556,
              "#d8576b"
             ],
             [
              0.6666666666666666,
              "#ed7953"
             ],
             [
              0.7777777777777778,
              "#fb9f3a"
             ],
             [
              0.8888888888888888,
              "#fdca26"
             ],
             [
              1,
              "#f0f921"
             ]
            ],
            "type": "histogram2dcontour"
           }
          ],
          "mesh3d": [
           {
            "colorbar": {
             "outlinewidth": 0,
             "ticks": ""
            },
            "type": "mesh3d"
           }
          ],
          "parcoords": [
           {
            "line": {
             "colorbar": {
              "outlinewidth": 0,
              "ticks": ""
             }
            },
            "type": "parcoords"
           }
          ],
          "pie": [
           {
            "automargin": true,
            "type": "pie"
           }
          ],
          "scatter": [
           {
            "fillpattern": {
             "fillmode": "overlay",
             "size": 10,
             "solidity": 0.2
            },
            "type": "scatter"
           }
          ],
          "scatter3d": [
           {
            "line": {
             "colorbar": {
              "outlinewidth": 0,
              "ticks": ""
             }
            },
            "marker": {
             "colorbar": {
              "outlinewidth": 0,
              "ticks": ""
             }
            },
            "type": "scatter3d"
           }
          ],
          "scattercarpet": [
           {
            "marker": {
             "colorbar": {
              "outlinewidth": 0,
              "ticks": ""
             }
            },
            "type": "scattercarpet"
           }
          ],
          "scattergeo": [
           {
            "marker": {
             "colorbar": {
              "outlinewidth": 0,
              "ticks": ""
             }
            },
            "type": "scattergeo"
           }
          ],
          "scattergl": [
           {
            "marker": {
             "colorbar": {
              "outlinewidth": 0,
              "ticks": ""
             }
            },
            "type": "scattergl"
           }
          ],
          "scattermapbox": [
           {
            "marker": {
             "colorbar": {
              "outlinewidth": 0,
              "ticks": ""
             }
            },
            "type": "scattermapbox"
           }
          ],
          "scatterpolar": [
           {
            "marker": {
             "colorbar": {
              "outlinewidth": 0,
              "ticks": ""
             }
            },
            "type": "scatterpolar"
           }
          ],
          "scatterpolargl": [
           {
            "marker": {
             "colorbar": {
              "outlinewidth": 0,
              "ticks": ""
             }
            },
            "type": "scatterpolargl"
           }
          ],
          "scatterternary": [
           {
            "marker": {
             "colorbar": {
              "outlinewidth": 0,
              "ticks": ""
             }
            },
            "type": "scatterternary"
           }
          ],
          "surface": [
           {
            "colorbar": {
             "outlinewidth": 0,
             "ticks": ""
            },
            "colorscale": [
             [
              0,
              "#0d0887"
             ],
             [
              0.1111111111111111,
              "#46039f"
             ],
             [
              0.2222222222222222,
              "#7201a8"
             ],
             [
              0.3333333333333333,
              "#9c179e"
             ],
             [
              0.4444444444444444,
              "#bd3786"
             ],
             [
              0.5555555555555556,
              "#d8576b"
             ],
             [
              0.6666666666666666,
              "#ed7953"
             ],
             [
              0.7777777777777778,
              "#fb9f3a"
             ],
             [
              0.8888888888888888,
              "#fdca26"
             ],
             [
              1,
              "#f0f921"
             ]
            ],
            "type": "surface"
           }
          ],
          "table": [
           {
            "cells": {
             "fill": {
              "color": "#EBF0F8"
             },
             "line": {
              "color": "white"
             }
            },
            "header": {
             "fill": {
              "color": "#C8D4E3"
             },
             "line": {
              "color": "white"
             }
            },
            "type": "table"
           }
          ]
         },
         "layout": {
          "annotationdefaults": {
           "arrowcolor": "#2a3f5f",
           "arrowhead": 0,
           "arrowwidth": 1
          },
          "autotypenumbers": "strict",
          "coloraxis": {
           "colorbar": {
            "outlinewidth": 0,
            "ticks": ""
           }
          },
          "colorscale": {
           "diverging": [
            [
             0,
             "#8e0152"
            ],
            [
             0.1,
             "#c51b7d"
            ],
            [
             0.2,
             "#de77ae"
            ],
            [
             0.3,
             "#f1b6da"
            ],
            [
             0.4,
             "#fde0ef"
            ],
            [
             0.5,
             "#f7f7f7"
            ],
            [
             0.6,
             "#e6f5d0"
            ],
            [
             0.7,
             "#b8e186"
            ],
            [
             0.8,
             "#7fbc41"
            ],
            [
             0.9,
             "#4d9221"
            ],
            [
             1,
             "#276419"
            ]
           ],
           "sequential": [
            [
             0,
             "#0d0887"
            ],
            [
             0.1111111111111111,
             "#46039f"
            ],
            [
             0.2222222222222222,
             "#7201a8"
            ],
            [
             0.3333333333333333,
             "#9c179e"
            ],
            [
             0.4444444444444444,
             "#bd3786"
            ],
            [
             0.5555555555555556,
             "#d8576b"
            ],
            [
             0.6666666666666666,
             "#ed7953"
            ],
            [
             0.7777777777777778,
             "#fb9f3a"
            ],
            [
             0.8888888888888888,
             "#fdca26"
            ],
            [
             1,
             "#f0f921"
            ]
           ],
           "sequentialminus": [
            [
             0,
             "#0d0887"
            ],
            [
             0.1111111111111111,
             "#46039f"
            ],
            [
             0.2222222222222222,
             "#7201a8"
            ],
            [
             0.3333333333333333,
             "#9c179e"
            ],
            [
             0.4444444444444444,
             "#bd3786"
            ],
            [
             0.5555555555555556,
             "#d8576b"
            ],
            [
             0.6666666666666666,
             "#ed7953"
            ],
            [
             0.7777777777777778,
             "#fb9f3a"
            ],
            [
             0.8888888888888888,
             "#fdca26"
            ],
            [
             1,
             "#f0f921"
            ]
           ]
          },
          "colorway": [
           "#636efa",
           "#EF553B",
           "#00cc96",
           "#ab63fa",
           "#FFA15A",
           "#19d3f3",
           "#FF6692",
           "#B6E880",
           "#FF97FF",
           "#FECB52"
          ],
          "font": {
           "color": "#2a3f5f"
          },
          "geo": {
           "bgcolor": "white",
           "lakecolor": "white",
           "landcolor": "#E5ECF6",
           "showlakes": true,
           "showland": true,
           "subunitcolor": "white"
          },
          "hoverlabel": {
           "align": "left"
          },
          "hovermode": "closest",
          "mapbox": {
           "style": "light"
          },
          "paper_bgcolor": "white",
          "plot_bgcolor": "#E5ECF6",
          "polar": {
           "angularaxis": {
            "gridcolor": "white",
            "linecolor": "white",
            "ticks": ""
           },
           "bgcolor": "#E5ECF6",
           "radialaxis": {
            "gridcolor": "white",
            "linecolor": "white",
            "ticks": ""
           }
          },
          "scene": {
           "xaxis": {
            "backgroundcolor": "#E5ECF6",
            "gridcolor": "white",
            "gridwidth": 2,
            "linecolor": "white",
            "showbackground": true,
            "ticks": "",
            "zerolinecolor": "white"
           },
           "yaxis": {
            "backgroundcolor": "#E5ECF6",
            "gridcolor": "white",
            "gridwidth": 2,
            "linecolor": "white",
            "showbackground": true,
            "ticks": "",
            "zerolinecolor": "white"
           },
           "zaxis": {
            "backgroundcolor": "#E5ECF6",
            "gridcolor": "white",
            "gridwidth": 2,
            "linecolor": "white",
            "showbackground": true,
            "ticks": "",
            "zerolinecolor": "white"
           }
          },
          "shapedefaults": {
           "line": {
            "color": "#2a3f5f"
           }
          },
          "ternary": {
           "aaxis": {
            "gridcolor": "white",
            "linecolor": "white",
            "ticks": ""
           },
           "baxis": {
            "gridcolor": "white",
            "linecolor": "white",
            "ticks": ""
           },
           "bgcolor": "#E5ECF6",
           "caxis": {
            "gridcolor": "white",
            "linecolor": "white",
            "ticks": ""
           }
          },
          "title": {
           "x": 0.05
          },
          "xaxis": {
           "automargin": true,
           "gridcolor": "white",
           "linecolor": "white",
           "ticks": "",
           "title": {
            "standoff": 15
           },
           "zerolinecolor": "white",
           "zerolinewidth": 2
          },
          "yaxis": {
           "automargin": true,
           "gridcolor": "white",
           "linecolor": "white",
           "ticks": "",
           "title": {
            "standoff": 15
           },
           "zerolinecolor": "white",
           "zerolinewidth": 2
          }
         }
        },
        "title": {
         "text": "Intensité par Queue size avec intervalles d'incertitude"
        },
        "xaxis": {
         "title": {
          "text": "Size (par Mean Event Size)"
         }
        },
        "yaxis": {
         "title": {
          "text": "Intensity (num par sec)"
         }
        }
       }
      }
     },
     "metadata": {},
     "output_type": "display_data"
    }
   ],
   "source": [
    "Add = []\n",
    "Cancel = []\n",
    "Trade = []\n",
    "sizes_add = []\n",
    "sizes_cancel = []\n",
    "sizes_trade = []\n",
    "\n",
    "#dic = remove_nan_from_dico(dic)\n",
    "average_sizes = compute_means(dic)\n",
    "intensities = dict(sorted(dic.items()))\n",
    "intensities = filtrage(intensities, 30, threshold=100)\n",
    "\n",
    "threshold_trade = 1000\n",
    "threshold = 100\n",
    "\n",
    "quarter_add = []\n",
    "quarter_cancel = []\n",
    "quarter_trade = []\n",
    "\n",
    "for i in intensities:\n",
    "    tab = np.concatenate((intensities[i][0], intensities[i][1], intensities[i][2]))\n",
    "    if (len(intensities[i][0])>threshold):\n",
    "            Add.append(1/np.mean(tab)*len(intensities[i][0])/len(tab))\n",
    "            quarter_add.append(np.var(tab)*1/np.mean(tab)*len(intensities[i][0])/len(tab)*1/np.sqrt(len(tab)))\n",
    "            sizes_add.append(i)\n",
    "    if len(intensities[i][1])!=0:\n",
    "        if (len(intensities[i][1])>threshold):\n",
    "            Cancel.append(1/np.mean(tab)*len(intensities[i][1])/len(tab))\n",
    "            quarter_cancel.append(np.var(tab)*1/np.mean(tab)*len(intensities[i][1])/len(tab)*1/np.sqrt(len(tab)))\n",
    "            sizes_cancel.append(i)\n",
    "    if len(intensities[i][2])!=0:\n",
    "        if (len(intensities[i][2])>threshold_trade):\n",
    "            Trade.append(1/np.mean(tab)*len(intensities[i][2])/len(tab))\n",
    "            quarter_trade.append(np.var(tab)*1/np.mean(tab)*len(intensities[i][2])/len(tab)*1/np.sqrt(len(tab)))\n",
    "            sizes_trade.append(i)\n",
    "\n",
    "fig = go.Figure()\n",
    "\n",
    "fig.add_trace(go.Scatter(x=sizes_add/np.mean(average_event_size),y=Add,mode='lines',name='Add',showlegend=True,line=dict(color='blue')))\n",
    "fig.add_trace(go.Scatter(x=sizes_add/np.mean(average_event_size),y=np.array(Add)+1.96*np.array(quarter_add),mode='lines',name='Add Upper CI',line=dict(width=0),fill=None,showlegend=False))\n",
    "fig.add_trace(go.Scatter(x=sizes_add/np.mean(average_event_size),y=np.array(Add)-1.96*np.array(quarter_add),mode='lines',name='Add Lower CI',fill='tonexty',line=dict(width=0),fillcolor='rgba(0, 0, 255, 0.2)',showlegend=False))\n",
    "\n",
    "fig.add_trace(go.Scatter(x=sizes_cancel/np.mean(average_event_size),y=Cancel,mode='lines',name='Cancel',showlegend=True,line=dict(color='green')))\n",
    "fig.add_trace(go.Scatter(x=sizes_cancel/np.mean(average_event_size),y=np.array(Cancel)+1.96*np.array(quarter_cancel),mode='lines',name='Cancel Upper CI',line=dict(width=0),fill=None,showlegend=False))\n",
    "fig.add_trace(go.Scatter(x=sizes_cancel/np.mean(average_event_size),y=np.array(Cancel)-1.96*np.array(quarter_cancel),mode='lines',name='Cancel Lower CI',fill='tonexty',line=dict(width=0),fillcolor='rgba(0, 255, 0, 0.2)',showlegend=False))\n",
    "\n",
    "fig.add_trace(go.Scatter(x=sizes_trade/np.mean(average_event_size),y=Trade,mode='lines',name='Trade',showlegend=True,line=dict(color='red')))\n",
    "fig.add_trace(go.Scatter(x=sizes_trade/np.mean(average_event_size),y=np.array(Trade)+1.96*np.array(quarter_trade),mode='lines',name='Trade Upper CI',line=dict(width=0),fill=None,showlegend=False))\n",
    "fig.add_trace(go.Scatter(x=sizes_trade/np.mean(average_event_size),y=np.array(Trade)-1.96*np.array(quarter_trade),mode='lines',name='Trade Lower CI',fill='tonexty',line=dict(width=0),fillcolor='rgba(255, 0, 0, 0.2)',showlegend=False))\n",
    "\n",
    "fig.update_layout(title=\"Intensité par Queue size avec intervalles d'incertitude\",xaxis_title='Size (par Mean Event Size)',yaxis_title='Intensity (num par sec)',showlegend=True)\n",
    "fig.show()"
   ]
  },
  {
   "cell_type": "code",
   "execution_count": 18,
   "metadata": {},
   "outputs": [
    {
     "name": "stderr",
     "output_type": "stream",
     "text": [
      "100%|██████████| 65/65 [00:23<00:00,  2.71it/s]\n"
     ]
    }
   ],
   "source": [
    "dic = {}\n",
    "\n",
    "average_event_size = []\n",
    "for f in tqdm(files_csv):\n",
    "    df = pd.read_csv(f)\n",
    "    #df['time_diff'] = df['time_diff']*1.0 # pour le modif en float c'est un timedelta là\n",
    "    sizes = np.unique(np.array((np.unique(df['bid_sz_00'].to_numpy())).tolist() + (np.unique(df['ask_sz_00'].to_numpy())).tolist()))\n",
    "    sizes.sort()\n",
    "    dic = dico_queue_size(sizes, dic)  # Add, Cancel, Trade\n",
    "    \n",
    "    for row in df.itertuples():\n",
    "        average_event_size.append(row.size)\n",
    "        if row.side == 'A':\n",
    "            taille = row.ask_sz_00\n",
    "        elif row.side == 'B':\n",
    "            taille = row.bid_sz_00\n",
    "        if row.action == 'A':\n",
    "            dic[taille][0].append(row.imbalance)\n",
    "        elif row.action == 'C':\n",
    "            dic[taille][1].append(row.imbalance)\n",
    "        elif row.action == 'T':\n",
    "            dic[taille][2].append(row.imbalance)"
   ]
  },
  {
   "cell_type": "code",
   "execution_count": 19,
   "metadata": {},
   "outputs": [
    {
     "data": {
      "application/vnd.plotly.v1+json": {
       "config": {
        "plotlyServerURL": "https://plot.ly"
       },
       "data": [
        {
         "line": {
          "color": "blue"
         },
         "mode": "lines",
         "name": "Add",
         "showlegend": true,
         "type": "scatter",
         "x": [
          0,
          0.9590913006583152,
          1.9181826013166303,
          2.8772739019749456,
          3.8363652026332606,
          4.795456503291575,
          5.754547803949891,
          6.713639104608206,
          7.672730405266521,
          8.631821705924835,
          9.59091300658315,
          10.550004307241467,
          11.509095607899782,
          12.468186908558096,
          13.427278209216412,
          14.386369509874726,
          15.345460810533044,
          16.30455211119136,
          17.26364341184967,
          18.222734712507982,
          19.1818260131663,
          20.14091731382462,
          21.100008614482935,
          22.05909991514125,
          23.018191215799565,
          23.97728251645788,
          24.936373817116195,
          25.895465117774503,
          26.854556418432825,
          27.81364771909114
         ],
         "y": [
          0.03477728652517977,
          0.030503593981952303,
          0.007905523565684233,
          0.001617490772390272,
          0.0005466582688923742,
          -0.00020404575537379013,
          0.0008962971713628199,
          0.0011304244363087904,
          0.002629538524087135,
          0.0018531377391372728,
          0.0002683389236579395,
          -0.002628145172519709,
          -0.006825526534901884,
          -0.0013720305776292714,
          -0.0006968337293245862,
          -0.0058962348110855115,
          -0.007426228397478385,
          -0.012237323384009008,
          -0.006382047131276761,
          -0.008948667513461385,
          -0.01484759904625267,
          -0.016188851263420408,
          -0.017176646549869407,
          -0.016926645345456896,
          -0.014281240472588164,
          -0.012747994049763652,
          -0.008213299717782748,
          -0.019151979484375088,
          -0.022483357291885227,
          -0.042297037484801465
         ]
        },
        {
         "line": {
          "color": "green"
         },
         "mode": "lines",
         "name": "Cancel",
         "showlegend": true,
         "type": "scatter",
         "x": [
          0,
          0.9590913006583152,
          1.9181826013166303,
          2.8772739019749456,
          3.8363652026332606,
          4.795456503291575,
          5.754547803949891,
          6.713639104608206,
          7.672730405266521,
          8.631821705924835,
          9.59091300658315,
          10.550004307241467,
          11.509095607899782,
          12.468186908558096,
          13.427278209216412,
          14.386369509874726,
          15.345460810533044,
          16.30455211119136,
          17.26364341184967,
          18.222734712507982,
          19.1818260131663,
          20.14091731382462,
          21.100008614482935,
          22.05909991514125,
          23.018191215799565,
          23.97728251645788,
          24.936373817116195,
          25.895465117774503,
          26.854556418432825,
          27.81364771909114
         ],
         "y": [
          0.159815563678979,
          0.042708827018098985,
          0.009710876175207434,
          0.001749260552458457,
          0.0005264723222699745,
          -0.00018773113591699216,
          0.000775124579950015,
          0.0009370884393664062,
          0.002112622661130452,
          0.001426006896131102,
          0.00020196752354512224,
          -0.001876586655367312,
          -0.0047890152718489285,
          -0.0009319489600159526,
          -0.00046375373307860375,
          -0.0038509795644213383,
          -0.004648451109427607,
          -0.00752510157694031,
          -0.003852432687639912,
          -0.005252048435012169,
          -0.008715092857021616,
          -0.008874611234766608,
          -0.009422187242191862,
          -0.009161443749527171,
          -0.007624099731459827,
          -0.006733826186060662,
          -0.004376529634596833,
          -0.009925368073423292,
          -0.0117655240724248,
          -0.020565600022417228
         ]
        },
        {
         "line": {
          "color": "red"
         },
         "mode": "lines",
         "name": "Trade",
         "showlegend": true,
         "type": "scatter",
         "x": [
          0,
          0.9590913006583152,
          1.9181826013166303,
          2.8772739019749456,
          3.8363652026332606,
          4.795456503291575,
          5.754547803949891,
          6.713639104608206,
          7.672730405266521,
          8.631821705924835,
          9.59091300658315,
          10.550004307241467,
          11.509095607899782,
          12.468186908558096,
          13.427278209216412,
          14.386369509874726,
          15.345460810533044,
          16.30455211119136,
          17.26364341184967,
          18.222734712507982,
          19.1818260131663,
          20.14091731382462,
          21.100008614482935,
          22.05909991514125,
          23.018191215799565,
          23.97728251645788,
          24.936373817116195,
          25.895465117774503,
          26.854556418432825,
          27.81364771909114
         ],
         "y": [
          0.12695553804067516,
          0.00422375194305275,
          0.00042509932281751666,
          0.00006087570606534116,
          0.000017370956940425665,
          -6.131848179867013e-6,
          0.000027572842584845994,
          0.00003663342292980379,
          0.00008545471000717179,
          0.000060669849911089706,
          8.933473301571422e-6,
          -0.0000857900650803706,
          -0.00023326772222513807,
          -0.00004405756551922288,
          -0.000022585066423654183,
          -0.0001812848629951345,
          -0.00021678440658829984,
          -0.00036243616568065273,
          -0.00017578591758395058,
          -0.00024450825339768933,
          -0.0004361589617031811,
          -0.0004452704017443627,
          -0.00045497900875057865,
          -0.00046026186613052446,
          -0.00038142121174972025,
          -0.000337235237104815,
          -0.0002076954955889944,
          -0.0005408645320091895,
          -0.00056363115507577,
          -0.0010923907157099969
         ]
        }
       ],
       "layout": {
        "showlegend": true,
        "template": {
         "data": {
          "bar": [
           {
            "error_x": {
             "color": "#2a3f5f"
            },
            "error_y": {
             "color": "#2a3f5f"
            },
            "marker": {
             "line": {
              "color": "#E5ECF6",
              "width": 0.5
             },
             "pattern": {
              "fillmode": "overlay",
              "size": 10,
              "solidity": 0.2
             }
            },
            "type": "bar"
           }
          ],
          "barpolar": [
           {
            "marker": {
             "line": {
              "color": "#E5ECF6",
              "width": 0.5
             },
             "pattern": {
              "fillmode": "overlay",
              "size": 10,
              "solidity": 0.2
             }
            },
            "type": "barpolar"
           }
          ],
          "carpet": [
           {
            "aaxis": {
             "endlinecolor": "#2a3f5f",
             "gridcolor": "white",
             "linecolor": "white",
             "minorgridcolor": "white",
             "startlinecolor": "#2a3f5f"
            },
            "baxis": {
             "endlinecolor": "#2a3f5f",
             "gridcolor": "white",
             "linecolor": "white",
             "minorgridcolor": "white",
             "startlinecolor": "#2a3f5f"
            },
            "type": "carpet"
           }
          ],
          "choropleth": [
           {
            "colorbar": {
             "outlinewidth": 0,
             "ticks": ""
            },
            "type": "choropleth"
           }
          ],
          "contour": [
           {
            "colorbar": {
             "outlinewidth": 0,
             "ticks": ""
            },
            "colorscale": [
             [
              0,
              "#0d0887"
             ],
             [
              0.1111111111111111,
              "#46039f"
             ],
             [
              0.2222222222222222,
              "#7201a8"
             ],
             [
              0.3333333333333333,
              "#9c179e"
             ],
             [
              0.4444444444444444,
              "#bd3786"
             ],
             [
              0.5555555555555556,
              "#d8576b"
             ],
             [
              0.6666666666666666,
              "#ed7953"
             ],
             [
              0.7777777777777778,
              "#fb9f3a"
             ],
             [
              0.8888888888888888,
              "#fdca26"
             ],
             [
              1,
              "#f0f921"
             ]
            ],
            "type": "contour"
           }
          ],
          "contourcarpet": [
           {
            "colorbar": {
             "outlinewidth": 0,
             "ticks": ""
            },
            "type": "contourcarpet"
           }
          ],
          "heatmap": [
           {
            "colorbar": {
             "outlinewidth": 0,
             "ticks": ""
            },
            "colorscale": [
             [
              0,
              "#0d0887"
             ],
             [
              0.1111111111111111,
              "#46039f"
             ],
             [
              0.2222222222222222,
              "#7201a8"
             ],
             [
              0.3333333333333333,
              "#9c179e"
             ],
             [
              0.4444444444444444,
              "#bd3786"
             ],
             [
              0.5555555555555556,
              "#d8576b"
             ],
             [
              0.6666666666666666,
              "#ed7953"
             ],
             [
              0.7777777777777778,
              "#fb9f3a"
             ],
             [
              0.8888888888888888,
              "#fdca26"
             ],
             [
              1,
              "#f0f921"
             ]
            ],
            "type": "heatmap"
           }
          ],
          "heatmapgl": [
           {
            "colorbar": {
             "outlinewidth": 0,
             "ticks": ""
            },
            "colorscale": [
             [
              0,
              "#0d0887"
             ],
             [
              0.1111111111111111,
              "#46039f"
             ],
             [
              0.2222222222222222,
              "#7201a8"
             ],
             [
              0.3333333333333333,
              "#9c179e"
             ],
             [
              0.4444444444444444,
              "#bd3786"
             ],
             [
              0.5555555555555556,
              "#d8576b"
             ],
             [
              0.6666666666666666,
              "#ed7953"
             ],
             [
              0.7777777777777778,
              "#fb9f3a"
             ],
             [
              0.8888888888888888,
              "#fdca26"
             ],
             [
              1,
              "#f0f921"
             ]
            ],
            "type": "heatmapgl"
           }
          ],
          "histogram": [
           {
            "marker": {
             "pattern": {
              "fillmode": "overlay",
              "size": 10,
              "solidity": 0.2
             }
            },
            "type": "histogram"
           }
          ],
          "histogram2d": [
           {
            "colorbar": {
             "outlinewidth": 0,
             "ticks": ""
            },
            "colorscale": [
             [
              0,
              "#0d0887"
             ],
             [
              0.1111111111111111,
              "#46039f"
             ],
             [
              0.2222222222222222,
              "#7201a8"
             ],
             [
              0.3333333333333333,
              "#9c179e"
             ],
             [
              0.4444444444444444,
              "#bd3786"
             ],
             [
              0.5555555555555556,
              "#d8576b"
             ],
             [
              0.6666666666666666,
              "#ed7953"
             ],
             [
              0.7777777777777778,
              "#fb9f3a"
             ],
             [
              0.8888888888888888,
              "#fdca26"
             ],
             [
              1,
              "#f0f921"
             ]
            ],
            "type": "histogram2d"
           }
          ],
          "histogram2dcontour": [
           {
            "colorbar": {
             "outlinewidth": 0,
             "ticks": ""
            },
            "colorscale": [
             [
              0,
              "#0d0887"
             ],
             [
              0.1111111111111111,
              "#46039f"
             ],
             [
              0.2222222222222222,
              "#7201a8"
             ],
             [
              0.3333333333333333,
              "#9c179e"
             ],
             [
              0.4444444444444444,
              "#bd3786"
             ],
             [
              0.5555555555555556,
              "#d8576b"
             ],
             [
              0.6666666666666666,
              "#ed7953"
             ],
             [
              0.7777777777777778,
              "#fb9f3a"
             ],
             [
              0.8888888888888888,
              "#fdca26"
             ],
             [
              1,
              "#f0f921"
             ]
            ],
            "type": "histogram2dcontour"
           }
          ],
          "mesh3d": [
           {
            "colorbar": {
             "outlinewidth": 0,
             "ticks": ""
            },
            "type": "mesh3d"
           }
          ],
          "parcoords": [
           {
            "line": {
             "colorbar": {
              "outlinewidth": 0,
              "ticks": ""
             }
            },
            "type": "parcoords"
           }
          ],
          "pie": [
           {
            "automargin": true,
            "type": "pie"
           }
          ],
          "scatter": [
           {
            "fillpattern": {
             "fillmode": "overlay",
             "size": 10,
             "solidity": 0.2
            },
            "type": "scatter"
           }
          ],
          "scatter3d": [
           {
            "line": {
             "colorbar": {
              "outlinewidth": 0,
              "ticks": ""
             }
            },
            "marker": {
             "colorbar": {
              "outlinewidth": 0,
              "ticks": ""
             }
            },
            "type": "scatter3d"
           }
          ],
          "scattercarpet": [
           {
            "marker": {
             "colorbar": {
              "outlinewidth": 0,
              "ticks": ""
             }
            },
            "type": "scattercarpet"
           }
          ],
          "scattergeo": [
           {
            "marker": {
             "colorbar": {
              "outlinewidth": 0,
              "ticks": ""
             }
            },
            "type": "scattergeo"
           }
          ],
          "scattergl": [
           {
            "marker": {
             "colorbar": {
              "outlinewidth": 0,
              "ticks": ""
             }
            },
            "type": "scattergl"
           }
          ],
          "scattermapbox": [
           {
            "marker": {
             "colorbar": {
              "outlinewidth": 0,
              "ticks": ""
             }
            },
            "type": "scattermapbox"
           }
          ],
          "scatterpolar": [
           {
            "marker": {
             "colorbar": {
              "outlinewidth": 0,
              "ticks": ""
             }
            },
            "type": "scatterpolar"
           }
          ],
          "scatterpolargl": [
           {
            "marker": {
             "colorbar": {
              "outlinewidth": 0,
              "ticks": ""
             }
            },
            "type": "scatterpolargl"
           }
          ],
          "scatterternary": [
           {
            "marker": {
             "colorbar": {
              "outlinewidth": 0,
              "ticks": ""
             }
            },
            "type": "scatterternary"
           }
          ],
          "surface": [
           {
            "colorbar": {
             "outlinewidth": 0,
             "ticks": ""
            },
            "colorscale": [
             [
              0,
              "#0d0887"
             ],
             [
              0.1111111111111111,
              "#46039f"
             ],
             [
              0.2222222222222222,
              "#7201a8"
             ],
             [
              0.3333333333333333,
              "#9c179e"
             ],
             [
              0.4444444444444444,
              "#bd3786"
             ],
             [
              0.5555555555555556,
              "#d8576b"
             ],
             [
              0.6666666666666666,
              "#ed7953"
             ],
             [
              0.7777777777777778,
              "#fb9f3a"
             ],
             [
              0.8888888888888888,
              "#fdca26"
             ],
             [
              1,
              "#f0f921"
             ]
            ],
            "type": "surface"
           }
          ],
          "table": [
           {
            "cells": {
             "fill": {
              "color": "#EBF0F8"
             },
             "line": {
              "color": "white"
             }
            },
            "header": {
             "fill": {
              "color": "#C8D4E3"
             },
             "line": {
              "color": "white"
             }
            },
            "type": "table"
           }
          ]
         },
         "layout": {
          "annotationdefaults": {
           "arrowcolor": "#2a3f5f",
           "arrowhead": 0,
           "arrowwidth": 1
          },
          "autotypenumbers": "strict",
          "coloraxis": {
           "colorbar": {
            "outlinewidth": 0,
            "ticks": ""
           }
          },
          "colorscale": {
           "diverging": [
            [
             0,
             "#8e0152"
            ],
            [
             0.1,
             "#c51b7d"
            ],
            [
             0.2,
             "#de77ae"
            ],
            [
             0.3,
             "#f1b6da"
            ],
            [
             0.4,
             "#fde0ef"
            ],
            [
             0.5,
             "#f7f7f7"
            ],
            [
             0.6,
             "#e6f5d0"
            ],
            [
             0.7,
             "#b8e186"
            ],
            [
             0.8,
             "#7fbc41"
            ],
            [
             0.9,
             "#4d9221"
            ],
            [
             1,
             "#276419"
            ]
           ],
           "sequential": [
            [
             0,
             "#0d0887"
            ],
            [
             0.1111111111111111,
             "#46039f"
            ],
            [
             0.2222222222222222,
             "#7201a8"
            ],
            [
             0.3333333333333333,
             "#9c179e"
            ],
            [
             0.4444444444444444,
             "#bd3786"
            ],
            [
             0.5555555555555556,
             "#d8576b"
            ],
            [
             0.6666666666666666,
             "#ed7953"
            ],
            [
             0.7777777777777778,
             "#fb9f3a"
            ],
            [
             0.8888888888888888,
             "#fdca26"
            ],
            [
             1,
             "#f0f921"
            ]
           ],
           "sequentialminus": [
            [
             0,
             "#0d0887"
            ],
            [
             0.1111111111111111,
             "#46039f"
            ],
            [
             0.2222222222222222,
             "#7201a8"
            ],
            [
             0.3333333333333333,
             "#9c179e"
            ],
            [
             0.4444444444444444,
             "#bd3786"
            ],
            [
             0.5555555555555556,
             "#d8576b"
            ],
            [
             0.6666666666666666,
             "#ed7953"
            ],
            [
             0.7777777777777778,
             "#fb9f3a"
            ],
            [
             0.8888888888888888,
             "#fdca26"
            ],
            [
             1,
             "#f0f921"
            ]
           ]
          },
          "colorway": [
           "#636efa",
           "#EF553B",
           "#00cc96",
           "#ab63fa",
           "#FFA15A",
           "#19d3f3",
           "#FF6692",
           "#B6E880",
           "#FF97FF",
           "#FECB52"
          ],
          "font": {
           "color": "#2a3f5f"
          },
          "geo": {
           "bgcolor": "white",
           "lakecolor": "white",
           "landcolor": "#E5ECF6",
           "showlakes": true,
           "showland": true,
           "subunitcolor": "white"
          },
          "hoverlabel": {
           "align": "left"
          },
          "hovermode": "closest",
          "mapbox": {
           "style": "light"
          },
          "paper_bgcolor": "white",
          "plot_bgcolor": "#E5ECF6",
          "polar": {
           "angularaxis": {
            "gridcolor": "white",
            "linecolor": "white",
            "ticks": ""
           },
           "bgcolor": "#E5ECF6",
           "radialaxis": {
            "gridcolor": "white",
            "linecolor": "white",
            "ticks": ""
           }
          },
          "scene": {
           "xaxis": {
            "backgroundcolor": "#E5ECF6",
            "gridcolor": "white",
            "gridwidth": 2,
            "linecolor": "white",
            "showbackground": true,
            "ticks": "",
            "zerolinecolor": "white"
           },
           "yaxis": {
            "backgroundcolor": "#E5ECF6",
            "gridcolor": "white",
            "gridwidth": 2,
            "linecolor": "white",
            "showbackground": true,
            "ticks": "",
            "zerolinecolor": "white"
           },
           "zaxis": {
            "backgroundcolor": "#E5ECF6",
            "gridcolor": "white",
            "gridwidth": 2,
            "linecolor": "white",
            "showbackground": true,
            "ticks": "",
            "zerolinecolor": "white"
           }
          },
          "shapedefaults": {
           "line": {
            "color": "#2a3f5f"
           }
          },
          "ternary": {
           "aaxis": {
            "gridcolor": "white",
            "linecolor": "white",
            "ticks": ""
           },
           "baxis": {
            "gridcolor": "white",
            "linecolor": "white",
            "ticks": ""
           },
           "bgcolor": "#E5ECF6",
           "caxis": {
            "gridcolor": "white",
            "linecolor": "white",
            "ticks": ""
           }
          },
          "title": {
           "x": 0.05
          },
          "xaxis": {
           "automargin": true,
           "gridcolor": "white",
           "linecolor": "white",
           "ticks": "",
           "title": {
            "standoff": 15
           },
           "zerolinecolor": "white",
           "zerolinewidth": 2
          },
          "yaxis": {
           "automargin": true,
           "gridcolor": "white",
           "linecolor": "white",
           "ticks": "",
           "title": {
            "standoff": 15
           },
           "zerolinecolor": "white",
           "zerolinewidth": 2
          }
         }
        },
        "title": {
         "text": "Queue size avec intervalles d'incertitude en fonction de l'imbalance"
        },
        "xaxis": {
         "title": {
          "text": "imbalance"
         }
        },
        "yaxis": {
         "title": {
          "text": "Size (par Mean Event Size)"
         }
        }
       }
      }
     },
     "metadata": {},
     "output_type": "display_data"
    }
   ],
   "source": [
    "Add = []\n",
    "Cancel = []\n",
    "Trade = []\n",
    "sizes_add = []\n",
    "sizes_cancel = []\n",
    "sizes_trade = []\n",
    "\n",
    "#dic = remove_nan_from_dico(dic)\n",
    "average_sizes = compute_means(dic)\n",
    "intensities = dict(sorted(dic.items()))\n",
    "intensities = filtrage(intensities, 30, threshold=100)\n",
    "\n",
    "threshold_trade = 100\n",
    "threshold = 10\n",
    "\n",
    "quarter_add = []\n",
    "quarter_cancel = []\n",
    "quarter_trade = []\n",
    "\n",
    "for i in intensities:\n",
    "    tab = np.concatenate((intensities[i][0], intensities[i][1], intensities[i][2]))\n",
    "    if (len(intensities[i][0])>threshold):\n",
    "            Add.append(np.mean(tab)*len(intensities[i][0])/len(tab))\n",
    "            quarter_add.append(np.var(tab)*1/np.mean(tab)*len(intensities[i][0])/len(tab)*1/np.sqrt(len(tab)))\n",
    "            sizes_add.append(i)\n",
    "    if len(intensities[i][1])!=0:\n",
    "        if (len(intensities[i][1])>threshold):\n",
    "            Cancel.append(np.mean(tab)*len(intensities[i][1])/len(tab))\n",
    "            quarter_cancel.append(np.var(tab)*1/np.mean(tab)*len(intensities[i][1])/len(tab)*1/np.sqrt(len(tab)))\n",
    "            sizes_cancel.append(i)\n",
    "    if len(intensities[i][2])!=0:\n",
    "        if (len(intensities[i][2])>threshold_trade):\n",
    "            Trade.append(np.mean(tab)*len(intensities[i][2])/len(tab))\n",
    "            quarter_trade.append(np.var(tab)*1/np.mean(tab)*len(intensities[i][2])/len(tab)*1/np.sqrt(len(tab)))\n",
    "            sizes_trade.append(i)\n",
    "\n",
    "fig = go.Figure()\n",
    "\n",
    "fig.add_trace(go.Scatter(x=sizes_add/np.mean(average_event_size),y=Add,mode='lines',name='Add',showlegend=True,line=dict(color='blue')))\n",
    "#fig.add_trace(go.Scatter(y=sizes_add/np.mean(average_event_size),x=np.array(Add)+1.96*np.array(quarter_add),mode='lines',name='Add Upper CI',line=dict(width=0),fill=None,showlegend=False))\n",
    "#fig.add_trace(go.Scatter(y=sizes_add/np.mean(average_event_size),x=np.array(Add)-1.96*np.array(quarter_add),mode='lines',name='Add Lower CI',fill='tonexty',line=dict(width=0),fillcolor='rgba(0, 0, 255, 0.2)',showlegend=False))\n",
    "\n",
    "fig.add_trace(go.Scatter(x=sizes_cancel/np.mean(average_event_size),y=Cancel,mode='lines',name='Cancel',showlegend=True,line=dict(color='green')))\n",
    "#fig.add_trace(go.Scatter(y=sizes_cancel/np.mean(average_event_size),x=np.array(Cancel)+1.96*np.array(quarter_cancel),mode='lines',name='Cancel Upper CI',line=dict(width=0),fill=None,showlegend=False))\n",
    "#fig.add_trace(go.Scatter(y=sizes_cancel/np.mean(average_event_size),x=np.array(Cancel)-1.96*np.array(quarter_cancel),mode='lines',name='Cancel Lower CI',fill='tonexty',line=dict(width=0),fillcolor='rgba(0, 255, 0, 0.2)',showlegend=False))\n",
    "\n",
    "fig.add_trace(go.Scatter(x=sizes_trade/np.mean(average_event_size),y=Trade,mode='lines',name='Trade',showlegend=True,line=dict(color='red')))\n",
    "#fig.add_trace(go.Scatter(y=sizes_trade/np.mean(average_event_size),x=np.array(Trade)+1.96*np.array(quarter_trade),mode='lines',name='Trade Upper CI',line=dict(width=0),fill=None,showlegend=False))\n",
    "#fig.add_trace(go.Scatter(y=sizes_trade/np.mean(average_event_size),x=np.array(Trade)-1.96*np.array(quarter_trade),mode='lines',name='Trade Lower CI',fill='tonexty',line=dict(width=0),fillcolor='rgba(255, 0, 0, 0.2)',showlegend=False))\n",
    "\n",
    "fig.update_layout(title=\"Queue size avec intervalles d'incertitude en fonction de l'imbalance\",xaxis_title='imbalance',yaxis_title='Size (par Mean Event Size)',showlegend=True)\n",
    "fig.show()"
   ]
  },
  {
   "cell_type": "code",
   "execution_count": 20,
   "metadata": {},
   "outputs": [
    {
     "name": "stderr",
     "output_type": "stream",
     "text": [
      "100%|██████████| 65/65 [00:16<00:00,  3.83it/s]"
     ]
    },
    {
     "name": "stdout",
     "output_type": "stream",
     "text": [
      "A quel point c'est long: 2799174\n"
     ]
    },
    {
     "name": "stderr",
     "output_type": "stream",
     "text": [
      "\n"
     ]
    }
   ],
   "source": [
    "queue_size_same_trade = np.array([])\n",
    "queue_size_opposite_trade = np.array([])\n",
    "time_trade = np.array([])\n",
    "\n",
    "queue_size_same_cancel = np.array([])\n",
    "queue_size_opposite_cancel = np.array([])\n",
    "time_cancel = np.array([])\n",
    "\n",
    "queue_size_same_add = np.array([])\n",
    "queue_size_opposite_add = np.array([])\n",
    "time_add = np.array([])\n",
    "\n",
    "limite = 0\n",
    "for f in tqdm(files_csv):\n",
    "    df = pd.read_csv(f)\n",
    "    df = df[:-100]\n",
    "    df_cancel = df[df['action'] == 'C']\n",
    "    df_cancel['ts_event'] = pd.to_datetime(df_cancel['ts_event'], errors='coerce')\n",
    "    df_cancel['seconds_since_start_of_day'] = (\n",
    "        df_cancel['ts_event'].dt.hour*3600+\n",
    "        df_cancel['ts_event'].dt.minute*60+\n",
    "        df_cancel['ts_event'].dt.second+\n",
    "        df_cancel['ts_event'].dt.microsecond/1e6\n",
    "    )\n",
    "    df_add = df[df['action'] == 'A']\n",
    "    df_add['ts_event'] = pd.to_datetime(df_add['ts_event'], errors='coerce')\n",
    "    df_add['seconds_since_start_of_day'] = (\n",
    "        df_add['ts_event'].dt.hour*3600+\n",
    "        df_add['ts_event'].dt.minute*60+\n",
    "        df_add['ts_event'].dt.second+\n",
    "        df_add['ts_event'].dt.microsecond/1e6\n",
    "    )\n",
    "    df_trade = df[df['action'] == 'T']\n",
    "    df_trade['ts_event'] = pd.to_datetime(df_trade['ts_event'], errors='coerce')\n",
    "    df_trade['seconds_since_start_of_day'] = (\n",
    "        df_trade['ts_event'].dt.hour*3600+\n",
    "        df_trade['ts_event'].dt.minute*60+\n",
    "        df_trade['ts_event'].dt.second+\n",
    "        df_trade['ts_event'].dt.microsecond/1e6\n",
    "    )\n",
    "\n",
    "    queue_size_same_trade = np.concatenate([queue_size_same_trade, df_trade['size_same'].to_numpy()])\n",
    "    queue_size_opposite_trade = np.concatenate([queue_size_opposite_trade, df_trade['size_opposite'].to_numpy()])\n",
    "    time_trade = np.concatenate([time_trade, df_trade['seconds_since_start_of_day'].dropna().to_numpy()])\n",
    "    \n",
    "    queue_size_same_add = np.concatenate([queue_size_same_add, df_add['size_same'].to_numpy()])\n",
    "    queue_size_opposite_add = np.concatenate([queue_size_opposite_add, df_add['size_opposite'].to_numpy()])\n",
    "    time_add = np.concatenate([time_add, df_add['seconds_since_start_of_day'].dropna().to_numpy()])\n",
    "    \n",
    "    queue_size_same_cancel = np.concatenate([queue_size_same_cancel, df_cancel['size_same'].to_numpy()])\n",
    "    queue_size_opposite_cancel = np.concatenate([queue_size_opposite_cancel, df_cancel['size_opposite'].to_numpy()])\n",
    "    time_cancel = np.concatenate([time_cancel, df_cancel['seconds_since_start_of_day'].dropna().to_numpy()])\n",
    "\n",
    "time_add = np.array(time_add, dtype=float)\n",
    "time_trade = np.array(time_trade, dtype=float)\n",
    "time_cancel = np.array(time_cancel, dtype=float)\n",
    "print(f\"A quel point c'est long: {len(time_add)}\")"
   ]
  },
  {
   "cell_type": "code",
   "execution_count": 21,
   "metadata": {},
   "outputs": [],
   "source": [
    "indices_trie_add = np.argsort(time_add)\n",
    "\n",
    "\n",
    "time_add = time_add[indices_trie_add]\n",
    "queue_size_same_add = queue_size_same_add[indices_trie_add]\n",
    "queue_size_opposite_add = queue_size_opposite_add[indices_trie_add]\n",
    "group_size_add = 10000\n",
    "\n",
    "time_trie_groups_add = [time_add[i:i + group_size_add] for i in range(0, len(time_add), group_size_add)]\n",
    "queue_size_same_trie_groups_add = [queue_size_same_add[i:i + group_size_add] for i in range(0, len(queue_size_same_add), group_size_add)]\n",
    "queue_size_opposite_trie_groups_add = [queue_size_opposite_add[i:i + group_size_add] for i in range(0, len(queue_size_opposite_add), group_size_add)]\n",
    "\n",
    "time_trie_means_add = np.array([np.mean(group) for group in time_trie_groups_add])\n",
    "queue_size_same_trie_means_add = np.array([np.mean(group) for group in queue_size_same_trie_groups_add])\n",
    "queue_size_opposite_trie_mean_add = np.array([np.mean(group) for group in queue_size_opposite_trie_groups_add])\n",
    "\n",
    "#imb_trie_std = np.array([np.std(group)/np.sqrt(len(group)) for group in price_trie_groups])\n",
    "time_trie_means_add = pd.to_datetime(time_trie_means_add, unit='s')\n",
    "\n",
    "\n",
    "\n",
    "indices_trie_trade = np.argsort(time_trade)\n",
    "\n",
    "\n",
    "time_trade = time_trade[indices_trie_trade]\n",
    "queue_size_same_trade = queue_size_same_trade[indices_trie_trade]\n",
    "queue_size_opposite_trade = queue_size_opposite_trade[indices_trie_trade]\n",
    "group_size_trade = 1000\n",
    "\n",
    "time_trie_groups_trade = [time_trade[i:i + group_size_trade] for i in range(0, len(time_trade), group_size_trade)]\n",
    "queue_size_same_trie_groups_trade = [queue_size_same_trade[i:i + group_size_trade] for i in range(0, len(queue_size_same_trade), group_size_trade)]\n",
    "queue_size_opposite_trie_groups_trade = [queue_size_opposite_trade[i:i + group_size_trade] for i in range(0, len(queue_size_opposite_trade), group_size_trade)]\n",
    "\n",
    "time_trie_means_trade = np.array([np.mean(group) for group in time_trie_groups_trade])\n",
    "queue_size_same_trie_means_trade = np.array([np.mean(group) for group in queue_size_same_trie_groups_trade])\n",
    "queue_size_opposite_trie_means_trade = np.array([np.mean(group) for group in queue_size_opposite_trie_groups_trade])\n",
    "\n",
    "#imb_trie_std = np.array([np.std(group)/np.sqrt(len(group)) for group in price_trie_groups])\n",
    "time_trie_means_trade = pd.to_datetime(time_trie_means_trade, unit='s')\n",
    "\n",
    "\n",
    "indices_trie_cancel = np.argsort(time_cancel)\n",
    "\n",
    "\n",
    "time_cancel = time_cancel[indices_trie_cancel]\n",
    "queue_size_same_cancel = queue_size_same_cancel[indices_trie_cancel]\n",
    "queue_size_opposite_cancel = queue_size_opposite_cancel[indices_trie_cancel]\n",
    "group_size_cancel = 10000\n",
    "\n",
    "time_trie_groups_cancel = [time_cancel[i:i + group_size] for i in range(0, len(time_cancel), group_size_cancel)]\n",
    "queue_size_same_trie_groups_cancel = [queue_size_same_cancel[i:i + group_size] for i in range(0, len(queue_size_same_cancel), group_size_cancel)]\n",
    "queue_size_opposite_trie_groups_cancel = [queue_size_opposite_cancel[i:i + group_size] for i in range(0, len(queue_size_opposite_cancel), group_size_cancel)]\n",
    "\n",
    "time_trie_means_cancel = np.array([np.mean(group) for group in time_trie_groups_cancel])\n",
    "queue_size_same_trie_means_cancel = np.array([np.mean(group) for group in queue_size_same_trie_groups_cancel])\n",
    "queue_size_opposite_trie_means_cancel = np.array([np.mean(group) for group in queue_size_opposite_trie_groups_cancel])\n",
    "\n",
    "#imb_trie_std = np.array([np.std(group)/np.sqrt(len(group)) for group in price_trie_groups])\n",
    "time_trie_means_cancel = pd.to_datetime(time_trie_means_cancel, unit='s')"
   ]
  },
  {
   "cell_type": "code",
   "execution_count": 23,
   "metadata": {},
   "outputs": [
    {
     "data": {
      "application/vnd.plotly.v1+json": {
       "config": {
        "plotlyServerURL": "https://plot.ly"
       },
       "data": [
        {
         "line": {
          "color": "blue"
         },
         "mode": "lines",
         "name": "same",
         "showlegend": true,
         "type": "scatter",
         "x": [
          "1970-01-01T14:00:08.110148",
          "1970-01-01T14:00:43.501298",
          "1970-01-01T14:01:28.274637",
          "1970-01-01T14:02:15.005348",
          "1970-01-01T14:03:01.355624",
          "1970-01-01T14:03:56.140716",
          "1970-01-01T14:04:50.395903",
          "1970-01-01T14:05:44.800646",
          "1970-01-01T14:06:38.845324",
          "1970-01-01T14:07:28.150030",
          "1970-01-01T14:08:16.866067",
          "1970-01-01T14:09:12.700303",
          "1970-01-01T14:10:12.632437",
          "1970-01-01T14:11:09.834800",
          "1970-01-01T14:12:03.070283",
          "1970-01-01T14:13:06.204324",
          "1970-01-01T14:14:10.901009",
          "1970-01-01T14:15:09.901934",
          "1970-01-01T14:16:08.854158",
          "1970-01-01T14:17:17.583836",
          "1970-01-01T14:18:23.730832",
          "1970-01-01T14:19:34.565262",
          "1970-01-01T14:20:40.627533",
          "1970-01-01T14:21:55.237699",
          "1970-01-01T14:23:11.278442",
          "1970-01-01T14:24:23.808402",
          "1970-01-01T14:25:30.470456",
          "1970-01-01T14:26:39.090668",
          "1970-01-01T14:27:56.698203",
          "1970-01-01T14:29:12.885038",
          "1970-01-01T14:30:21.863952",
          "1970-01-01T14:31:23.943517",
          "1970-01-01T14:32:37.573736",
          "1970-01-01T14:34:02.015525",
          "1970-01-01T14:35:16.675226",
          "1970-01-01T14:36:34.746599",
          "1970-01-01T14:37:55.912837",
          "1970-01-01T14:39:18.604027",
          "1970-01-01T14:40:47.778383",
          "1970-01-01T14:42:19.552880",
          "1970-01-01T14:43:45.042071",
          "1970-01-01T14:45:15.342079",
          "1970-01-01T14:46:45.878583",
          "1970-01-01T14:48:10.020622",
          "1970-01-01T14:49:31.349013",
          "1970-01-01T14:50:50.939434",
          "1970-01-01T14:52:17.182929",
          "1970-01-01T14:53:53.974370",
          "1970-01-01T14:55:34.022851",
          "1970-01-01T14:57:21.605696",
          "1970-01-01T14:59:08.131357",
          "1970-01-01T15:00:44.626888",
          "1970-01-01T15:02:23.667683",
          "1970-01-01T15:04:15.760275",
          "1970-01-01T15:06:08.259998",
          "1970-01-01T15:08:01.657958",
          "1970-01-01T15:09:58.903263",
          "1970-01-01T15:11:49.316066",
          "1970-01-01T15:13:44.326575",
          "1970-01-01T15:15:52.138298",
          "1970-01-01T15:17:53.926842",
          "1970-01-01T15:19:46.299125",
          "1970-01-01T15:21:42.218968",
          "1970-01-01T15:23:37.712165",
          "1970-01-01T15:25:20.339577",
          "1970-01-01T15:27:06.975094",
          "1970-01-01T15:29:04.303812",
          "1970-01-01T15:30:52.993996",
          "1970-01-01T15:32:31.646743",
          "1970-01-01T15:34:27.810538",
          "1970-01-01T15:36:38.454104",
          "1970-01-01T15:38:47.909192",
          "1970-01-01T15:40:51.207088",
          "1970-01-01T15:43:02.412977",
          "1970-01-01T15:45:25.912221",
          "1970-01-01T15:47:49.956960",
          "1970-01-01T15:50:09.427819",
          "1970-01-01T15:52:24.796027",
          "1970-01-01T15:55:06.289228",
          "1970-01-01T15:57:28.081738",
          "1970-01-01T15:59:53.618376",
          "1970-01-01T16:02:06.781999",
          "1970-01-01T16:04:27.917708",
          "1970-01-01T16:06:48.574596",
          "1970-01-01T16:09:12.040271",
          "1970-01-01T16:11:51.229951",
          "1970-01-01T16:14:36.078613",
          "1970-01-01T16:17:09.067856",
          "1970-01-01T16:19:47.920181",
          "1970-01-01T16:22:24.021917",
          "1970-01-01T16:25:11.695552",
          "1970-01-01T16:28:18.095630",
          "1970-01-01T16:31:13.572674",
          "1970-01-01T16:34:03.002928",
          "1970-01-01T16:36:58.966587",
          "1970-01-01T16:39:57.578803",
          "1970-01-01T16:42:40.844766",
          "1970-01-01T16:45:31.987856",
          "1970-01-01T16:48:38.245100",
          "1970-01-01T16:51:36.622928",
          "1970-01-01T16:54:28.340113",
          "1970-01-01T16:57:32.587634",
          "1970-01-01T17:00:30.912722",
          "1970-01-01T17:03:24.598453",
          "1970-01-01T17:06:27.874929",
          "1970-01-01T17:09:34.714525",
          "1970-01-01T17:12:58.820676",
          "1970-01-01T17:16:14.846022",
          "1970-01-01T17:19:18.513887",
          "1970-01-01T17:22:21.331397",
          "1970-01-01T17:25:28.806743",
          "1970-01-01T17:28:51.074756",
          "1970-01-01T17:32:10.240399",
          "1970-01-01T17:35:22.144721",
          "1970-01-01T17:38:39.702997",
          "1970-01-01T17:42:08.420237",
          "1970-01-01T17:45:32.450466",
          "1970-01-01T17:48:44.112863",
          "1970-01-01T17:51:52.359776",
          "1970-01-01T17:55:11.088437",
          "1970-01-01T17:58:27.443786",
          "1970-01-01T18:00:50.019803",
          "1970-01-01T18:03:09.119525",
          "1970-01-01T18:06:27.165360",
          "1970-01-01T18:09:43.561381",
          "1970-01-01T18:13:11.267885",
          "1970-01-01T18:16:18.493064",
          "1970-01-01T18:19:32.624534",
          "1970-01-01T18:23:10.817029",
          "1970-01-01T18:26:24.514958",
          "1970-01-01T18:29:09.202970",
          "1970-01-01T18:31:47.023097",
          "1970-01-01T18:34:33.751287",
          "1970-01-01T18:37:35.362701",
          "1970-01-01T18:40:43.100515",
          "1970-01-01T18:43:50.447828",
          "1970-01-01T18:46:42.379045",
          "1970-01-01T18:49:41.478162",
          "1970-01-01T18:52:39.509919",
          "1970-01-01T18:55:46.491159",
          "1970-01-01T18:58:31.004577"
         ],
         "y": [
          329.458,
          594.814,
          555.271,
          365.808,
          410.891,
          476.426,
          403.136,
          482.787,
          480.293,
          550.716,
          506.225,
          458.951,
          467.598,
          482.634,
          484.987,
          515.894,
          508.747,
          483.565,
          558.411,
          567.615,
          561.1,
          601.313,
          620.5,
          531.708,
          499.419,
          597.514,
          542.776,
          524.7,
          532.917,
          538.77,
          626.127,
          520.363,
          602.557,
          624.59,
          663.082,
          726.378,
          616.105,
          629.151,
          609.134,
          617.868,
          656.446,
          575.25,
          690.684,
          653.816,
          626.197,
          734.677,
          656.516,
          647,
          648.37,
          636.691,
          631.29,
          663.174,
          662.48,
          673.045,
          637.425,
          668.228,
          724.792,
          763.17,
          745.978,
          742.947,
          813.104,
          762.95,
          760.964,
          747.102,
          760.447,
          783.616,
          796.314,
          757.895,
          730.428,
          767.697,
          737.526,
          679.54,
          754.661,
          740.873,
          748.465,
          738.821,
          786.799,
          715.823,
          770.329,
          771.231,
          857.002,
          783.149,
          813.358,
          836.574,
          890.713,
          879.243,
          846.835,
          896.489,
          844.518,
          982.083,
          907.726,
          871.768,
          849.927,
          947.112,
          883.058,
          993.443,
          900.596,
          941.192,
          1058.776,
          1003.912,
          893.808,
          924.701,
          971.467,
          893.421,
          867.81,
          891.414,
          997.044,
          1033.734,
          985.524,
          1010.145,
          1021.78,
          916.457,
          1145.44,
          1008.2,
          1025.94,
          955.254,
          1106.774,
          1154.79,
          1071.805,
          1139.734,
          1047.193,
          752.538,
          859.948,
          999.299,
          1019.228,
          1108.382,
          1198.684,
          1019.034,
          1221.477,
          1205.37,
          1086.728,
          1053.813,
          965.305,
          1057.534,
          987.158,
          1054.888,
          1081.839,
          1137.203,
          1104.95,
          1117.423,
          1083.525786163522
         ]
        },
        {
         "line": {
          "color": "red"
         },
         "mode": "lines",
         "name": "Opposite",
         "showlegend": true,
         "type": "scatter",
         "x": [
          "1970-01-01T14:00:08.110148",
          "1970-01-01T14:00:43.501298",
          "1970-01-01T14:01:28.274637",
          "1970-01-01T14:02:15.005348",
          "1970-01-01T14:03:01.355624",
          "1970-01-01T14:03:56.140716",
          "1970-01-01T14:04:50.395903",
          "1970-01-01T14:05:44.800646",
          "1970-01-01T14:06:38.845324",
          "1970-01-01T14:07:28.150030",
          "1970-01-01T14:08:16.866067",
          "1970-01-01T14:09:12.700303",
          "1970-01-01T14:10:12.632437",
          "1970-01-01T14:11:09.834800",
          "1970-01-01T14:12:03.070283",
          "1970-01-01T14:13:06.204324",
          "1970-01-01T14:14:10.901009",
          "1970-01-01T14:15:09.901934",
          "1970-01-01T14:16:08.854158",
          "1970-01-01T14:17:17.583836",
          "1970-01-01T14:18:23.730832",
          "1970-01-01T14:19:34.565262",
          "1970-01-01T14:20:40.627533",
          "1970-01-01T14:21:55.237699",
          "1970-01-01T14:23:11.278442",
          "1970-01-01T14:24:23.808402",
          "1970-01-01T14:25:30.470456",
          "1970-01-01T14:26:39.090668",
          "1970-01-01T14:27:56.698203",
          "1970-01-01T14:29:12.885038",
          "1970-01-01T14:30:21.863952",
          "1970-01-01T14:31:23.943517",
          "1970-01-01T14:32:37.573736",
          "1970-01-01T14:34:02.015525",
          "1970-01-01T14:35:16.675226",
          "1970-01-01T14:36:34.746599",
          "1970-01-01T14:37:55.912837",
          "1970-01-01T14:39:18.604027",
          "1970-01-01T14:40:47.778383",
          "1970-01-01T14:42:19.552880",
          "1970-01-01T14:43:45.042071",
          "1970-01-01T14:45:15.342079",
          "1970-01-01T14:46:45.878583",
          "1970-01-01T14:48:10.020622",
          "1970-01-01T14:49:31.349013",
          "1970-01-01T14:50:50.939434",
          "1970-01-01T14:52:17.182929",
          "1970-01-01T14:53:53.974370",
          "1970-01-01T14:55:34.022851",
          "1970-01-01T14:57:21.605696",
          "1970-01-01T14:59:08.131357",
          "1970-01-01T15:00:44.626888",
          "1970-01-01T15:02:23.667683",
          "1970-01-01T15:04:15.760275",
          "1970-01-01T15:06:08.259998",
          "1970-01-01T15:08:01.657958",
          "1970-01-01T15:09:58.903263",
          "1970-01-01T15:11:49.316066",
          "1970-01-01T15:13:44.326575",
          "1970-01-01T15:15:52.138298",
          "1970-01-01T15:17:53.926842",
          "1970-01-01T15:19:46.299125",
          "1970-01-01T15:21:42.218968",
          "1970-01-01T15:23:37.712165",
          "1970-01-01T15:25:20.339577",
          "1970-01-01T15:27:06.975094",
          "1970-01-01T15:29:04.303812",
          "1970-01-01T15:30:52.993996",
          "1970-01-01T15:32:31.646743",
          "1970-01-01T15:34:27.810538",
          "1970-01-01T15:36:38.454104",
          "1970-01-01T15:38:47.909192",
          "1970-01-01T15:40:51.207088",
          "1970-01-01T15:43:02.412977",
          "1970-01-01T15:45:25.912221",
          "1970-01-01T15:47:49.956960",
          "1970-01-01T15:50:09.427819",
          "1970-01-01T15:52:24.796027",
          "1970-01-01T15:55:06.289228",
          "1970-01-01T15:57:28.081738",
          "1970-01-01T15:59:53.618376",
          "1970-01-01T16:02:06.781999",
          "1970-01-01T16:04:27.917708",
          "1970-01-01T16:06:48.574596",
          "1970-01-01T16:09:12.040271",
          "1970-01-01T16:11:51.229951",
          "1970-01-01T16:14:36.078613",
          "1970-01-01T16:17:09.067856",
          "1970-01-01T16:19:47.920181",
          "1970-01-01T16:22:24.021917",
          "1970-01-01T16:25:11.695552",
          "1970-01-01T16:28:18.095630",
          "1970-01-01T16:31:13.572674",
          "1970-01-01T16:34:03.002928",
          "1970-01-01T16:36:58.966587",
          "1970-01-01T16:39:57.578803",
          "1970-01-01T16:42:40.844766",
          "1970-01-01T16:45:31.987856",
          "1970-01-01T16:48:38.245100",
          "1970-01-01T16:51:36.622928",
          "1970-01-01T16:54:28.340113",
          "1970-01-01T16:57:32.587634",
          "1970-01-01T17:00:30.912722",
          "1970-01-01T17:03:24.598453",
          "1970-01-01T17:06:27.874929",
          "1970-01-01T17:09:34.714525",
          "1970-01-01T17:12:58.820676",
          "1970-01-01T17:16:14.846022",
          "1970-01-01T17:19:18.513887",
          "1970-01-01T17:22:21.331397",
          "1970-01-01T17:25:28.806743",
          "1970-01-01T17:28:51.074756",
          "1970-01-01T17:32:10.240399",
          "1970-01-01T17:35:22.144721",
          "1970-01-01T17:38:39.702997",
          "1970-01-01T17:42:08.420237",
          "1970-01-01T17:45:32.450466",
          "1970-01-01T17:48:44.112863",
          "1970-01-01T17:51:52.359776",
          "1970-01-01T17:55:11.088437",
          "1970-01-01T17:58:27.443786",
          "1970-01-01T18:00:50.019803",
          "1970-01-01T18:03:09.119525",
          "1970-01-01T18:06:27.165360",
          "1970-01-01T18:09:43.561381",
          "1970-01-01T18:13:11.267885",
          "1970-01-01T18:16:18.493064",
          "1970-01-01T18:19:32.624534",
          "1970-01-01T18:23:10.817029",
          "1970-01-01T18:26:24.514958",
          "1970-01-01T18:29:09.202970",
          "1970-01-01T18:31:47.023097",
          "1970-01-01T18:34:33.751287",
          "1970-01-01T18:37:35.362701",
          "1970-01-01T18:40:43.100515",
          "1970-01-01T18:43:50.447828",
          "1970-01-01T18:46:42.379045",
          "1970-01-01T18:49:41.478162",
          "1970-01-01T18:52:39.509919",
          "1970-01-01T18:55:46.491159",
          "1970-01-01T18:58:31.004577"
         ],
         "y": [
          509.351,
          837.355,
          725.854,
          568.47,
          639.956,
          643.736,
          626.312,
          690.425,
          720.972,
          712.156,
          693.876,
          689.456,
          703.707,
          726.697,
          864.451,
          778.759,
          753.606,
          775.288,
          819.129,
          799.165,
          774.724,
          849.309,
          853.751,
          891.984,
          785.906,
          873.866,
          912.919,
          841.82,
          851.182,
          863.557,
          916.451,
          842.556,
          900.503,
          886.143,
          943.793,
          888.495,
          930.432,
          930.734,
          884.728,
          956.091,
          918.879,
          892.382,
          993.132,
          999.195,
          945.345,
          1009.038,
          965.769,
          950.498,
          854.729,
          967.449,
          927.082,
          978.335,
          1017.32,
          960.859,
          1000.487,
          973.705,
          971.629,
          1103.163,
          1075.73,
          1025.159,
          1148.663,
          1060.218,
          1136.033,
          1212.63,
          1043.139,
          1183.165,
          1148.014,
          1179.039,
          1064.842,
          1011.71,
          1128.669,
          1050.147,
          1111.899,
          1179.846,
          991.863,
          1111.326,
          1168.961,
          1025.617,
          1098.081,
          1150.862,
          1214.999,
          1238.766,
          1087.19,
          1184.681,
          1221.754,
          1137.999,
          1236.567,
          1198.575,
          1332.629,
          1395.238,
          1366.548,
          1176.753,
          1255.032,
          1311.183,
          1288.501,
          1241.97,
          1429.864,
          1299.419,
          1513.622,
          1421.304,
          1282.049,
          1372.282,
          1381.205,
          1315.347,
          1211.356,
          1252.676,
          1325.483,
          1534.708,
          1411.05,
          1497.065,
          1473.246,
          1404.177,
          1482.835,
          1525.872,
          1393.496,
          1440.124,
          1483.45,
          1566.359,
          1515.37,
          1543.087,
          1382.053,
          1140.67,
          1458.945,
          1614.062,
          1429.863,
          1352.047,
          1511.682,
          1492.037,
          1561.198,
          1847.373,
          1835.788,
          1585.859,
          1538.196,
          1508.306,
          1604.051,
          1377.518,
          1609.352,
          1609.84,
          1565.391,
          1691.342,
          1634.240251572327
         ]
        }
       ],
       "layout": {
        "showlegend": true,
        "template": {
         "data": {
          "bar": [
           {
            "error_x": {
             "color": "#2a3f5f"
            },
            "error_y": {
             "color": "#2a3f5f"
            },
            "marker": {
             "line": {
              "color": "#E5ECF6",
              "width": 0.5
             },
             "pattern": {
              "fillmode": "overlay",
              "size": 10,
              "solidity": 0.2
             }
            },
            "type": "bar"
           }
          ],
          "barpolar": [
           {
            "marker": {
             "line": {
              "color": "#E5ECF6",
              "width": 0.5
             },
             "pattern": {
              "fillmode": "overlay",
              "size": 10,
              "solidity": 0.2
             }
            },
            "type": "barpolar"
           }
          ],
          "carpet": [
           {
            "aaxis": {
             "endlinecolor": "#2a3f5f",
             "gridcolor": "white",
             "linecolor": "white",
             "minorgridcolor": "white",
             "startlinecolor": "#2a3f5f"
            },
            "baxis": {
             "endlinecolor": "#2a3f5f",
             "gridcolor": "white",
             "linecolor": "white",
             "minorgridcolor": "white",
             "startlinecolor": "#2a3f5f"
            },
            "type": "carpet"
           }
          ],
          "choropleth": [
           {
            "colorbar": {
             "outlinewidth": 0,
             "ticks": ""
            },
            "type": "choropleth"
           }
          ],
          "contour": [
           {
            "colorbar": {
             "outlinewidth": 0,
             "ticks": ""
            },
            "colorscale": [
             [
              0,
              "#0d0887"
             ],
             [
              0.1111111111111111,
              "#46039f"
             ],
             [
              0.2222222222222222,
              "#7201a8"
             ],
             [
              0.3333333333333333,
              "#9c179e"
             ],
             [
              0.4444444444444444,
              "#bd3786"
             ],
             [
              0.5555555555555556,
              "#d8576b"
             ],
             [
              0.6666666666666666,
              "#ed7953"
             ],
             [
              0.7777777777777778,
              "#fb9f3a"
             ],
             [
              0.8888888888888888,
              "#fdca26"
             ],
             [
              1,
              "#f0f921"
             ]
            ],
            "type": "contour"
           }
          ],
          "contourcarpet": [
           {
            "colorbar": {
             "outlinewidth": 0,
             "ticks": ""
            },
            "type": "contourcarpet"
           }
          ],
          "heatmap": [
           {
            "colorbar": {
             "outlinewidth": 0,
             "ticks": ""
            },
            "colorscale": [
             [
              0,
              "#0d0887"
             ],
             [
              0.1111111111111111,
              "#46039f"
             ],
             [
              0.2222222222222222,
              "#7201a8"
             ],
             [
              0.3333333333333333,
              "#9c179e"
             ],
             [
              0.4444444444444444,
              "#bd3786"
             ],
             [
              0.5555555555555556,
              "#d8576b"
             ],
             [
              0.6666666666666666,
              "#ed7953"
             ],
             [
              0.7777777777777778,
              "#fb9f3a"
             ],
             [
              0.8888888888888888,
              "#fdca26"
             ],
             [
              1,
              "#f0f921"
             ]
            ],
            "type": "heatmap"
           }
          ],
          "heatmapgl": [
           {
            "colorbar": {
             "outlinewidth": 0,
             "ticks": ""
            },
            "colorscale": [
             [
              0,
              "#0d0887"
             ],
             [
              0.1111111111111111,
              "#46039f"
             ],
             [
              0.2222222222222222,
              "#7201a8"
             ],
             [
              0.3333333333333333,
              "#9c179e"
             ],
             [
              0.4444444444444444,
              "#bd3786"
             ],
             [
              0.5555555555555556,
              "#d8576b"
             ],
             [
              0.6666666666666666,
              "#ed7953"
             ],
             [
              0.7777777777777778,
              "#fb9f3a"
             ],
             [
              0.8888888888888888,
              "#fdca26"
             ],
             [
              1,
              "#f0f921"
             ]
            ],
            "type": "heatmapgl"
           }
          ],
          "histogram": [
           {
            "marker": {
             "pattern": {
              "fillmode": "overlay",
              "size": 10,
              "solidity": 0.2
             }
            },
            "type": "histogram"
           }
          ],
          "histogram2d": [
           {
            "colorbar": {
             "outlinewidth": 0,
             "ticks": ""
            },
            "colorscale": [
             [
              0,
              "#0d0887"
             ],
             [
              0.1111111111111111,
              "#46039f"
             ],
             [
              0.2222222222222222,
              "#7201a8"
             ],
             [
              0.3333333333333333,
              "#9c179e"
             ],
             [
              0.4444444444444444,
              "#bd3786"
             ],
             [
              0.5555555555555556,
              "#d8576b"
             ],
             [
              0.6666666666666666,
              "#ed7953"
             ],
             [
              0.7777777777777778,
              "#fb9f3a"
             ],
             [
              0.8888888888888888,
              "#fdca26"
             ],
             [
              1,
              "#f0f921"
             ]
            ],
            "type": "histogram2d"
           }
          ],
          "histogram2dcontour": [
           {
            "colorbar": {
             "outlinewidth": 0,
             "ticks": ""
            },
            "colorscale": [
             [
              0,
              "#0d0887"
             ],
             [
              0.1111111111111111,
              "#46039f"
             ],
             [
              0.2222222222222222,
              "#7201a8"
             ],
             [
              0.3333333333333333,
              "#9c179e"
             ],
             [
              0.4444444444444444,
              "#bd3786"
             ],
             [
              0.5555555555555556,
              "#d8576b"
             ],
             [
              0.6666666666666666,
              "#ed7953"
             ],
             [
              0.7777777777777778,
              "#fb9f3a"
             ],
             [
              0.8888888888888888,
              "#fdca26"
             ],
             [
              1,
              "#f0f921"
             ]
            ],
            "type": "histogram2dcontour"
           }
          ],
          "mesh3d": [
           {
            "colorbar": {
             "outlinewidth": 0,
             "ticks": ""
            },
            "type": "mesh3d"
           }
          ],
          "parcoords": [
           {
            "line": {
             "colorbar": {
              "outlinewidth": 0,
              "ticks": ""
             }
            },
            "type": "parcoords"
           }
          ],
          "pie": [
           {
            "automargin": true,
            "type": "pie"
           }
          ],
          "scatter": [
           {
            "fillpattern": {
             "fillmode": "overlay",
             "size": 10,
             "solidity": 0.2
            },
            "type": "scatter"
           }
          ],
          "scatter3d": [
           {
            "line": {
             "colorbar": {
              "outlinewidth": 0,
              "ticks": ""
             }
            },
            "marker": {
             "colorbar": {
              "outlinewidth": 0,
              "ticks": ""
             }
            },
            "type": "scatter3d"
           }
          ],
          "scattercarpet": [
           {
            "marker": {
             "colorbar": {
              "outlinewidth": 0,
              "ticks": ""
             }
            },
            "type": "scattercarpet"
           }
          ],
          "scattergeo": [
           {
            "marker": {
             "colorbar": {
              "outlinewidth": 0,
              "ticks": ""
             }
            },
            "type": "scattergeo"
           }
          ],
          "scattergl": [
           {
            "marker": {
             "colorbar": {
              "outlinewidth": 0,
              "ticks": ""
             }
            },
            "type": "scattergl"
           }
          ],
          "scattermapbox": [
           {
            "marker": {
             "colorbar": {
              "outlinewidth": 0,
              "ticks": ""
             }
            },
            "type": "scattermapbox"
           }
          ],
          "scatterpolar": [
           {
            "marker": {
             "colorbar": {
              "outlinewidth": 0,
              "ticks": ""
             }
            },
            "type": "scatterpolar"
           }
          ],
          "scatterpolargl": [
           {
            "marker": {
             "colorbar": {
              "outlinewidth": 0,
              "ticks": ""
             }
            },
            "type": "scatterpolargl"
           }
          ],
          "scatterternary": [
           {
            "marker": {
             "colorbar": {
              "outlinewidth": 0,
              "ticks": ""
             }
            },
            "type": "scatterternary"
           }
          ],
          "surface": [
           {
            "colorbar": {
             "outlinewidth": 0,
             "ticks": ""
            },
            "colorscale": [
             [
              0,
              "#0d0887"
             ],
             [
              0.1111111111111111,
              "#46039f"
             ],
             [
              0.2222222222222222,
              "#7201a8"
             ],
             [
              0.3333333333333333,
              "#9c179e"
             ],
             [
              0.4444444444444444,
              "#bd3786"
             ],
             [
              0.5555555555555556,
              "#d8576b"
             ],
             [
              0.6666666666666666,
              "#ed7953"
             ],
             [
              0.7777777777777778,
              "#fb9f3a"
             ],
             [
              0.8888888888888888,
              "#fdca26"
             ],
             [
              1,
              "#f0f921"
             ]
            ],
            "type": "surface"
           }
          ],
          "table": [
           {
            "cells": {
             "fill": {
              "color": "#EBF0F8"
             },
             "line": {
              "color": "white"
             }
            },
            "header": {
             "fill": {
              "color": "#C8D4E3"
             },
             "line": {
              "color": "white"
             }
            },
            "type": "table"
           }
          ]
         },
         "layout": {
          "annotationdefaults": {
           "arrowcolor": "#2a3f5f",
           "arrowhead": 0,
           "arrowwidth": 1
          },
          "autotypenumbers": "strict",
          "coloraxis": {
           "colorbar": {
            "outlinewidth": 0,
            "ticks": ""
           }
          },
          "colorscale": {
           "diverging": [
            [
             0,
             "#8e0152"
            ],
            [
             0.1,
             "#c51b7d"
            ],
            [
             0.2,
             "#de77ae"
            ],
            [
             0.3,
             "#f1b6da"
            ],
            [
             0.4,
             "#fde0ef"
            ],
            [
             0.5,
             "#f7f7f7"
            ],
            [
             0.6,
             "#e6f5d0"
            ],
            [
             0.7,
             "#b8e186"
            ],
            [
             0.8,
             "#7fbc41"
            ],
            [
             0.9,
             "#4d9221"
            ],
            [
             1,
             "#276419"
            ]
           ],
           "sequential": [
            [
             0,
             "#0d0887"
            ],
            [
             0.1111111111111111,
             "#46039f"
            ],
            [
             0.2222222222222222,
             "#7201a8"
            ],
            [
             0.3333333333333333,
             "#9c179e"
            ],
            [
             0.4444444444444444,
             "#bd3786"
            ],
            [
             0.5555555555555556,
             "#d8576b"
            ],
            [
             0.6666666666666666,
             "#ed7953"
            ],
            [
             0.7777777777777778,
             "#fb9f3a"
            ],
            [
             0.8888888888888888,
             "#fdca26"
            ],
            [
             1,
             "#f0f921"
            ]
           ],
           "sequentialminus": [
            [
             0,
             "#0d0887"
            ],
            [
             0.1111111111111111,
             "#46039f"
            ],
            [
             0.2222222222222222,
             "#7201a8"
            ],
            [
             0.3333333333333333,
             "#9c179e"
            ],
            [
             0.4444444444444444,
             "#bd3786"
            ],
            [
             0.5555555555555556,
             "#d8576b"
            ],
            [
             0.6666666666666666,
             "#ed7953"
            ],
            [
             0.7777777777777778,
             "#fb9f3a"
            ],
            [
             0.8888888888888888,
             "#fdca26"
            ],
            [
             1,
             "#f0f921"
            ]
           ]
          },
          "colorway": [
           "#636efa",
           "#EF553B",
           "#00cc96",
           "#ab63fa",
           "#FFA15A",
           "#19d3f3",
           "#FF6692",
           "#B6E880",
           "#FF97FF",
           "#FECB52"
          ],
          "font": {
           "color": "#2a3f5f"
          },
          "geo": {
           "bgcolor": "white",
           "lakecolor": "white",
           "landcolor": "#E5ECF6",
           "showlakes": true,
           "showland": true,
           "subunitcolor": "white"
          },
          "hoverlabel": {
           "align": "left"
          },
          "hovermode": "closest",
          "mapbox": {
           "style": "light"
          },
          "paper_bgcolor": "white",
          "plot_bgcolor": "#E5ECF6",
          "polar": {
           "angularaxis": {
            "gridcolor": "white",
            "linecolor": "white",
            "ticks": ""
           },
           "bgcolor": "#E5ECF6",
           "radialaxis": {
            "gridcolor": "white",
            "linecolor": "white",
            "ticks": ""
           }
          },
          "scene": {
           "xaxis": {
            "backgroundcolor": "#E5ECF6",
            "gridcolor": "white",
            "gridwidth": 2,
            "linecolor": "white",
            "showbackground": true,
            "ticks": "",
            "zerolinecolor": "white"
           },
           "yaxis": {
            "backgroundcolor": "#E5ECF6",
            "gridcolor": "white",
            "gridwidth": 2,
            "linecolor": "white",
            "showbackground": true,
            "ticks": "",
            "zerolinecolor": "white"
           },
           "zaxis": {
            "backgroundcolor": "#E5ECF6",
            "gridcolor": "white",
            "gridwidth": 2,
            "linecolor": "white",
            "showbackground": true,
            "ticks": "",
            "zerolinecolor": "white"
           }
          },
          "shapedefaults": {
           "line": {
            "color": "#2a3f5f"
           }
          },
          "ternary": {
           "aaxis": {
            "gridcolor": "white",
            "linecolor": "white",
            "ticks": ""
           },
           "baxis": {
            "gridcolor": "white",
            "linecolor": "white",
            "ticks": ""
           },
           "bgcolor": "#E5ECF6",
           "caxis": {
            "gridcolor": "white",
            "linecolor": "white",
            "ticks": ""
           }
          },
          "title": {
           "x": 0.05
          },
          "xaxis": {
           "automargin": true,
           "gridcolor": "white",
           "linecolor": "white",
           "ticks": "",
           "title": {
            "standoff": 15
           },
           "zerolinecolor": "white",
           "zerolinewidth": 2
          },
          "yaxis": {
           "automargin": true,
           "gridcolor": "white",
           "linecolor": "white",
           "ticks": "",
           "title": {
            "standoff": 15
           },
           "zerolinecolor": "white",
           "zerolinewidth": 2
          }
         }
        },
        "title": {
         "text": "Queue size aux trades"
        },
        "xaxis": {
         "title": {
          "text": "time"
         }
        },
        "yaxis": {
         "title": {
          "text": "Queue size"
         }
        }
       }
      }
     },
     "metadata": {},
     "output_type": "display_data"
    },
    {
     "data": {
      "application/vnd.plotly.v1+json": {
       "config": {
        "plotlyServerURL": "https://plot.ly"
       },
       "data": [
        {
         "line": {
          "color": "blue"
         },
         "mode": "markers",
         "name": "same",
         "showlegend": true,
         "type": "scatter",
         "x": [
          509.351,
          837.355,
          725.854,
          568.47,
          639.956,
          643.736,
          626.312,
          690.425,
          720.972,
          712.156,
          693.876,
          689.456,
          703.707,
          726.697,
          864.451,
          778.759,
          753.606,
          775.288,
          819.129,
          799.165,
          774.724,
          849.309,
          853.751,
          891.984,
          785.906,
          873.866,
          912.919,
          841.82,
          851.182,
          863.557,
          916.451,
          842.556,
          900.503,
          886.143,
          943.793,
          888.495,
          930.432,
          930.734,
          884.728,
          956.091,
          918.879,
          892.382,
          993.132,
          999.195,
          945.345,
          1009.038,
          965.769,
          950.498,
          854.729,
          967.449,
          927.082,
          978.335,
          1017.32,
          960.859,
          1000.487,
          973.705,
          971.629,
          1103.163,
          1075.73,
          1025.159,
          1148.663,
          1060.218,
          1136.033,
          1212.63,
          1043.139,
          1183.165,
          1148.014,
          1179.039,
          1064.842,
          1011.71,
          1128.669,
          1050.147,
          1111.899,
          1179.846,
          991.863,
          1111.326,
          1168.961,
          1025.617,
          1098.081,
          1150.862,
          1214.999,
          1238.766,
          1087.19,
          1184.681,
          1221.754,
          1137.999,
          1236.567,
          1198.575,
          1332.629,
          1395.238,
          1366.548,
          1176.753,
          1255.032,
          1311.183,
          1288.501,
          1241.97,
          1429.864,
          1299.419,
          1513.622,
          1421.304,
          1282.049,
          1372.282,
          1381.205,
          1315.347,
          1211.356,
          1252.676,
          1325.483,
          1534.708,
          1411.05,
          1497.065,
          1473.246,
          1404.177,
          1482.835,
          1525.872,
          1393.496,
          1440.124,
          1483.45,
          1566.359,
          1515.37,
          1543.087,
          1382.053,
          1140.67,
          1458.945,
          1614.062,
          1429.863,
          1352.047,
          1511.682,
          1492.037,
          1561.198,
          1847.373,
          1835.788,
          1585.859,
          1538.196,
          1508.306,
          1604.051,
          1377.518,
          1609.352,
          1609.84,
          1565.391,
          1691.342,
          1634.240251572327
         ],
         "y": [
          329.458,
          594.814,
          555.271,
          365.808,
          410.891,
          476.426,
          403.136,
          482.787,
          480.293,
          550.716,
          506.225,
          458.951,
          467.598,
          482.634,
          484.987,
          515.894,
          508.747,
          483.565,
          558.411,
          567.615,
          561.1,
          601.313,
          620.5,
          531.708,
          499.419,
          597.514,
          542.776,
          524.7,
          532.917,
          538.77,
          626.127,
          520.363,
          602.557,
          624.59,
          663.082,
          726.378,
          616.105,
          629.151,
          609.134,
          617.868,
          656.446,
          575.25,
          690.684,
          653.816,
          626.197,
          734.677,
          656.516,
          647,
          648.37,
          636.691,
          631.29,
          663.174,
          662.48,
          673.045,
          637.425,
          668.228,
          724.792,
          763.17,
          745.978,
          742.947,
          813.104,
          762.95,
          760.964,
          747.102,
          760.447,
          783.616,
          796.314,
          757.895,
          730.428,
          767.697,
          737.526,
          679.54,
          754.661,
          740.873,
          748.465,
          738.821,
          786.799,
          715.823,
          770.329,
          771.231,
          857.002,
          783.149,
          813.358,
          836.574,
          890.713,
          879.243,
          846.835,
          896.489,
          844.518,
          982.083,
          907.726,
          871.768,
          849.927,
          947.112,
          883.058,
          993.443,
          900.596,
          941.192,
          1058.776,
          1003.912,
          893.808,
          924.701,
          971.467,
          893.421,
          867.81,
          891.414,
          997.044,
          1033.734,
          985.524,
          1010.145,
          1021.78,
          916.457,
          1145.44,
          1008.2,
          1025.94,
          955.254,
          1106.774,
          1154.79,
          1071.805,
          1139.734,
          1047.193,
          752.538,
          859.948,
          999.299,
          1019.228,
          1108.382,
          1198.684,
          1019.034,
          1221.477,
          1205.37,
          1086.728,
          1053.813,
          965.305,
          1057.534,
          987.158,
          1054.888,
          1081.839,
          1137.203,
          1104.95,
          1117.423,
          1083.525786163522
         ]
        }
       ],
       "layout": {
        "showlegend": true,
        "template": {
         "data": {
          "bar": [
           {
            "error_x": {
             "color": "#2a3f5f"
            },
            "error_y": {
             "color": "#2a3f5f"
            },
            "marker": {
             "line": {
              "color": "#E5ECF6",
              "width": 0.5
             },
             "pattern": {
              "fillmode": "overlay",
              "size": 10,
              "solidity": 0.2
             }
            },
            "type": "bar"
           }
          ],
          "barpolar": [
           {
            "marker": {
             "line": {
              "color": "#E5ECF6",
              "width": 0.5
             },
             "pattern": {
              "fillmode": "overlay",
              "size": 10,
              "solidity": 0.2
             }
            },
            "type": "barpolar"
           }
          ],
          "carpet": [
           {
            "aaxis": {
             "endlinecolor": "#2a3f5f",
             "gridcolor": "white",
             "linecolor": "white",
             "minorgridcolor": "white",
             "startlinecolor": "#2a3f5f"
            },
            "baxis": {
             "endlinecolor": "#2a3f5f",
             "gridcolor": "white",
             "linecolor": "white",
             "minorgridcolor": "white",
             "startlinecolor": "#2a3f5f"
            },
            "type": "carpet"
           }
          ],
          "choropleth": [
           {
            "colorbar": {
             "outlinewidth": 0,
             "ticks": ""
            },
            "type": "choropleth"
           }
          ],
          "contour": [
           {
            "colorbar": {
             "outlinewidth": 0,
             "ticks": ""
            },
            "colorscale": [
             [
              0,
              "#0d0887"
             ],
             [
              0.1111111111111111,
              "#46039f"
             ],
             [
              0.2222222222222222,
              "#7201a8"
             ],
             [
              0.3333333333333333,
              "#9c179e"
             ],
             [
              0.4444444444444444,
              "#bd3786"
             ],
             [
              0.5555555555555556,
              "#d8576b"
             ],
             [
              0.6666666666666666,
              "#ed7953"
             ],
             [
              0.7777777777777778,
              "#fb9f3a"
             ],
             [
              0.8888888888888888,
              "#fdca26"
             ],
             [
              1,
              "#f0f921"
             ]
            ],
            "type": "contour"
           }
          ],
          "contourcarpet": [
           {
            "colorbar": {
             "outlinewidth": 0,
             "ticks": ""
            },
            "type": "contourcarpet"
           }
          ],
          "heatmap": [
           {
            "colorbar": {
             "outlinewidth": 0,
             "ticks": ""
            },
            "colorscale": [
             [
              0,
              "#0d0887"
             ],
             [
              0.1111111111111111,
              "#46039f"
             ],
             [
              0.2222222222222222,
              "#7201a8"
             ],
             [
              0.3333333333333333,
              "#9c179e"
             ],
             [
              0.4444444444444444,
              "#bd3786"
             ],
             [
              0.5555555555555556,
              "#d8576b"
             ],
             [
              0.6666666666666666,
              "#ed7953"
             ],
             [
              0.7777777777777778,
              "#fb9f3a"
             ],
             [
              0.8888888888888888,
              "#fdca26"
             ],
             [
              1,
              "#f0f921"
             ]
            ],
            "type": "heatmap"
           }
          ],
          "heatmapgl": [
           {
            "colorbar": {
             "outlinewidth": 0,
             "ticks": ""
            },
            "colorscale": [
             [
              0,
              "#0d0887"
             ],
             [
              0.1111111111111111,
              "#46039f"
             ],
             [
              0.2222222222222222,
              "#7201a8"
             ],
             [
              0.3333333333333333,
              "#9c179e"
             ],
             [
              0.4444444444444444,
              "#bd3786"
             ],
             [
              0.5555555555555556,
              "#d8576b"
             ],
             [
              0.6666666666666666,
              "#ed7953"
             ],
             [
              0.7777777777777778,
              "#fb9f3a"
             ],
             [
              0.8888888888888888,
              "#fdca26"
             ],
             [
              1,
              "#f0f921"
             ]
            ],
            "type": "heatmapgl"
           }
          ],
          "histogram": [
           {
            "marker": {
             "pattern": {
              "fillmode": "overlay",
              "size": 10,
              "solidity": 0.2
             }
            },
            "type": "histogram"
           }
          ],
          "histogram2d": [
           {
            "colorbar": {
             "outlinewidth": 0,
             "ticks": ""
            },
            "colorscale": [
             [
              0,
              "#0d0887"
             ],
             [
              0.1111111111111111,
              "#46039f"
             ],
             [
              0.2222222222222222,
              "#7201a8"
             ],
             [
              0.3333333333333333,
              "#9c179e"
             ],
             [
              0.4444444444444444,
              "#bd3786"
             ],
             [
              0.5555555555555556,
              "#d8576b"
             ],
             [
              0.6666666666666666,
              "#ed7953"
             ],
             [
              0.7777777777777778,
              "#fb9f3a"
             ],
             [
              0.8888888888888888,
              "#fdca26"
             ],
             [
              1,
              "#f0f921"
             ]
            ],
            "type": "histogram2d"
           }
          ],
          "histogram2dcontour": [
           {
            "colorbar": {
             "outlinewidth": 0,
             "ticks": ""
            },
            "colorscale": [
             [
              0,
              "#0d0887"
             ],
             [
              0.1111111111111111,
              "#46039f"
             ],
             [
              0.2222222222222222,
              "#7201a8"
             ],
             [
              0.3333333333333333,
              "#9c179e"
             ],
             [
              0.4444444444444444,
              "#bd3786"
             ],
             [
              0.5555555555555556,
              "#d8576b"
             ],
             [
              0.6666666666666666,
              "#ed7953"
             ],
             [
              0.7777777777777778,
              "#fb9f3a"
             ],
             [
              0.8888888888888888,
              "#fdca26"
             ],
             [
              1,
              "#f0f921"
             ]
            ],
            "type": "histogram2dcontour"
           }
          ],
          "mesh3d": [
           {
            "colorbar": {
             "outlinewidth": 0,
             "ticks": ""
            },
            "type": "mesh3d"
           }
          ],
          "parcoords": [
           {
            "line": {
             "colorbar": {
              "outlinewidth": 0,
              "ticks": ""
             }
            },
            "type": "parcoords"
           }
          ],
          "pie": [
           {
            "automargin": true,
            "type": "pie"
           }
          ],
          "scatter": [
           {
            "fillpattern": {
             "fillmode": "overlay",
             "size": 10,
             "solidity": 0.2
            },
            "type": "scatter"
           }
          ],
          "scatter3d": [
           {
            "line": {
             "colorbar": {
              "outlinewidth": 0,
              "ticks": ""
             }
            },
            "marker": {
             "colorbar": {
              "outlinewidth": 0,
              "ticks": ""
             }
            },
            "type": "scatter3d"
           }
          ],
          "scattercarpet": [
           {
            "marker": {
             "colorbar": {
              "outlinewidth": 0,
              "ticks": ""
             }
            },
            "type": "scattercarpet"
           }
          ],
          "scattergeo": [
           {
            "marker": {
             "colorbar": {
              "outlinewidth": 0,
              "ticks": ""
             }
            },
            "type": "scattergeo"
           }
          ],
          "scattergl": [
           {
            "marker": {
             "colorbar": {
              "outlinewidth": 0,
              "ticks": ""
             }
            },
            "type": "scattergl"
           }
          ],
          "scattermapbox": [
           {
            "marker": {
             "colorbar": {
              "outlinewidth": 0,
              "ticks": ""
             }
            },
            "type": "scattermapbox"
           }
          ],
          "scatterpolar": [
           {
            "marker": {
             "colorbar": {
              "outlinewidth": 0,
              "ticks": ""
             }
            },
            "type": "scatterpolar"
           }
          ],
          "scatterpolargl": [
           {
            "marker": {
             "colorbar": {
              "outlinewidth": 0,
              "ticks": ""
             }
            },
            "type": "scatterpolargl"
           }
          ],
          "scatterternary": [
           {
            "marker": {
             "colorbar": {
              "outlinewidth": 0,
              "ticks": ""
             }
            },
            "type": "scatterternary"
           }
          ],
          "surface": [
           {
            "colorbar": {
             "outlinewidth": 0,
             "ticks": ""
            },
            "colorscale": [
             [
              0,
              "#0d0887"
             ],
             [
              0.1111111111111111,
              "#46039f"
             ],
             [
              0.2222222222222222,
              "#7201a8"
             ],
             [
              0.3333333333333333,
              "#9c179e"
             ],
             [
              0.4444444444444444,
              "#bd3786"
             ],
             [
              0.5555555555555556,
              "#d8576b"
             ],
             [
              0.6666666666666666,
              "#ed7953"
             ],
             [
              0.7777777777777778,
              "#fb9f3a"
             ],
             [
              0.8888888888888888,
              "#fdca26"
             ],
             [
              1,
              "#f0f921"
             ]
            ],
            "type": "surface"
           }
          ],
          "table": [
           {
            "cells": {
             "fill": {
              "color": "#EBF0F8"
             },
             "line": {
              "color": "white"
             }
            },
            "header": {
             "fill": {
              "color": "#C8D4E3"
             },
             "line": {
              "color": "white"
             }
            },
            "type": "table"
           }
          ]
         },
         "layout": {
          "annotationdefaults": {
           "arrowcolor": "#2a3f5f",
           "arrowhead": 0,
           "arrowwidth": 1
          },
          "autotypenumbers": "strict",
          "coloraxis": {
           "colorbar": {
            "outlinewidth": 0,
            "ticks": ""
           }
          },
          "colorscale": {
           "diverging": [
            [
             0,
             "#8e0152"
            ],
            [
             0.1,
             "#c51b7d"
            ],
            [
             0.2,
             "#de77ae"
            ],
            [
             0.3,
             "#f1b6da"
            ],
            [
             0.4,
             "#fde0ef"
            ],
            [
             0.5,
             "#f7f7f7"
            ],
            [
             0.6,
             "#e6f5d0"
            ],
            [
             0.7,
             "#b8e186"
            ],
            [
             0.8,
             "#7fbc41"
            ],
            [
             0.9,
             "#4d9221"
            ],
            [
             1,
             "#276419"
            ]
           ],
           "sequential": [
            [
             0,
             "#0d0887"
            ],
            [
             0.1111111111111111,
             "#46039f"
            ],
            [
             0.2222222222222222,
             "#7201a8"
            ],
            [
             0.3333333333333333,
             "#9c179e"
            ],
            [
             0.4444444444444444,
             "#bd3786"
            ],
            [
             0.5555555555555556,
             "#d8576b"
            ],
            [
             0.6666666666666666,
             "#ed7953"
            ],
            [
             0.7777777777777778,
             "#fb9f3a"
            ],
            [
             0.8888888888888888,
             "#fdca26"
            ],
            [
             1,
             "#f0f921"
            ]
           ],
           "sequentialminus": [
            [
             0,
             "#0d0887"
            ],
            [
             0.1111111111111111,
             "#46039f"
            ],
            [
             0.2222222222222222,
             "#7201a8"
            ],
            [
             0.3333333333333333,
             "#9c179e"
            ],
            [
             0.4444444444444444,
             "#bd3786"
            ],
            [
             0.5555555555555556,
             "#d8576b"
            ],
            [
             0.6666666666666666,
             "#ed7953"
            ],
            [
             0.7777777777777778,
             "#fb9f3a"
            ],
            [
             0.8888888888888888,
             "#fdca26"
            ],
            [
             1,
             "#f0f921"
            ]
           ]
          },
          "colorway": [
           "#636efa",
           "#EF553B",
           "#00cc96",
           "#ab63fa",
           "#FFA15A",
           "#19d3f3",
           "#FF6692",
           "#B6E880",
           "#FF97FF",
           "#FECB52"
          ],
          "font": {
           "color": "#2a3f5f"
          },
          "geo": {
           "bgcolor": "white",
           "lakecolor": "white",
           "landcolor": "#E5ECF6",
           "showlakes": true,
           "showland": true,
           "subunitcolor": "white"
          },
          "hoverlabel": {
           "align": "left"
          },
          "hovermode": "closest",
          "mapbox": {
           "style": "light"
          },
          "paper_bgcolor": "white",
          "plot_bgcolor": "#E5ECF6",
          "polar": {
           "angularaxis": {
            "gridcolor": "white",
            "linecolor": "white",
            "ticks": ""
           },
           "bgcolor": "#E5ECF6",
           "radialaxis": {
            "gridcolor": "white",
            "linecolor": "white",
            "ticks": ""
           }
          },
          "scene": {
           "xaxis": {
            "backgroundcolor": "#E5ECF6",
            "gridcolor": "white",
            "gridwidth": 2,
            "linecolor": "white",
            "showbackground": true,
            "ticks": "",
            "zerolinecolor": "white"
           },
           "yaxis": {
            "backgroundcolor": "#E5ECF6",
            "gridcolor": "white",
            "gridwidth": 2,
            "linecolor": "white",
            "showbackground": true,
            "ticks": "",
            "zerolinecolor": "white"
           },
           "zaxis": {
            "backgroundcolor": "#E5ECF6",
            "gridcolor": "white",
            "gridwidth": 2,
            "linecolor": "white",
            "showbackground": true,
            "ticks": "",
            "zerolinecolor": "white"
           }
          },
          "shapedefaults": {
           "line": {
            "color": "#2a3f5f"
           }
          },
          "ternary": {
           "aaxis": {
            "gridcolor": "white",
            "linecolor": "white",
            "ticks": ""
           },
           "baxis": {
            "gridcolor": "white",
            "linecolor": "white",
            "ticks": ""
           },
           "bgcolor": "#E5ECF6",
           "caxis": {
            "gridcolor": "white",
            "linecolor": "white",
            "ticks": ""
           }
          },
          "title": {
           "x": 0.05
          },
          "xaxis": {
           "automargin": true,
           "gridcolor": "white",
           "linecolor": "white",
           "ticks": "",
           "title": {
            "standoff": 15
           },
           "zerolinecolor": "white",
           "zerolinewidth": 2
          },
          "yaxis": {
           "automargin": true,
           "gridcolor": "white",
           "linecolor": "white",
           "ticks": "",
           "title": {
            "standoff": 15
           },
           "zerolinecolor": "white",
           "zerolinewidth": 2
          }
         }
        },
        "title": {
         "text": "Heatmap Queue size aux trades"
        },
        "xaxis": {
         "title": {
          "text": "Queue size opposite"
         }
        },
        "yaxis": {
         "title": {
          "text": "Queue size same"
         }
        }
       }
      }
     },
     "metadata": {},
     "output_type": "display_data"
    },
    {
     "data": {
      "application/vnd.plotly.v1+json": {
       "config": {
        "plotlyServerURL": "https://plot.ly"
       },
       "data": [
        {
         "line": {
          "color": "blue"
         },
         "mode": "lines",
         "name": "same",
         "showlegend": true,
         "type": "scatter",
         "x": [
          "1970-01-01T14:00:09.557633",
          "1970-01-01T14:00:39.610943",
          "1970-01-01T14:01:10.977297",
          "1970-01-01T14:01:42.934103",
          "1970-01-01T14:02:13.877889",
          "1970-01-01T14:02:45.385427",
          "1970-01-01T14:03:17.700529",
          "1970-01-01T14:03:51.446661",
          "1970-01-01T14:04:23.556418",
          "1970-01-01T14:04:56.744087",
          "1970-01-01T14:05:29.099985",
          "1970-01-01T14:06:04.112152",
          "1970-01-01T14:06:39.684313",
          "1970-01-01T14:07:15.850295",
          "1970-01-01T14:07:50.180094",
          "1970-01-01T14:08:25.792807",
          "1970-01-01T14:09:04.475928",
          "1970-01-01T14:09:43.865568",
          "1970-01-01T14:10:21.120417",
          "1970-01-01T14:10:56.742881",
          "1970-01-01T14:11:32.299305",
          "1970-01-01T14:12:08.593471",
          "1970-01-01T14:12:49.443436",
          "1970-01-01T14:13:28.181777",
          "1970-01-01T14:14:07.522032",
          "1970-01-01T14:14:47.128731",
          "1970-01-01T14:15:22.027095",
          "1970-01-01T14:15:59.756048",
          "1970-01-01T14:16:38.271454",
          "1970-01-01T14:17:22.600082",
          "1970-01-01T14:18:06.597658",
          "1970-01-01T14:18:49.008237",
          "1970-01-01T14:19:34.332406",
          "1970-01-01T14:20:17.092289",
          "1970-01-01T14:20:56.784173",
          "1970-01-01T14:21:42.009882",
          "1970-01-01T14:22:29.033161",
          "1970-01-01T14:23:14.085848",
          "1970-01-01T14:23:59.338809",
          "1970-01-01T14:24:41.144652",
          "1970-01-01T14:25:22.109407",
          "1970-01-01T14:26:02.993943",
          "1970-01-01T14:26:47.764834",
          "1970-01-01T14:27:35.700604",
          "1970-01-01T14:28:19.678313",
          "1970-01-01T14:29:06.339092",
          "1970-01-01T14:29:53.599758",
          "1970-01-01T14:30:35.403917",
          "1970-01-01T14:31:12.793092",
          "1970-01-01T14:31:50.291096",
          "1970-01-01T14:32:32.483040",
          "1970-01-01T14:33:17.136962",
          "1970-01-01T14:34:02.187369",
          "1970-01-01T14:34:44.329696",
          "1970-01-01T14:35:26.922649",
          "1970-01-01T14:36:11.122456",
          "1970-01-01T14:36:53.247398",
          "1970-01-01T14:37:37.481495",
          "1970-01-01T14:38:18.661486",
          "1970-01-01T14:39:04.622848",
          "1970-01-01T14:39:49.966114",
          "1970-01-01T14:40:33.049713",
          "1970-01-01T14:41:19.968228",
          "1970-01-01T14:42:07.395973",
          "1970-01-01T14:42:54.453547",
          "1970-01-01T14:43:37.049271",
          "1970-01-01T14:44:22.232623",
          "1970-01-01T14:45:09.990990",
          "1970-01-01T14:45:57.733653",
          "1970-01-01T14:46:47.037715",
          "1970-01-01T14:47:35.417889",
          "1970-01-01T14:48:18.217352",
          "1970-01-01T14:49:01.311517",
          "1970-01-01T14:49:50.800388",
          "1970-01-01T14:50:32.780198",
          "1970-01-01T14:51:17.719256",
          "1970-01-01T14:52:06.386385",
          "1970-01-01T14:52:56.825259",
          "1970-01-01T14:53:47.894169",
          "1970-01-01T14:54:40.767892",
          "1970-01-01T14:55:30.337349",
          "1970-01-01T14:56:19.783141",
          "1970-01-01T14:57:12.041723",
          "1970-01-01T14:58:04.138596",
          "1970-01-01T14:58:56.145709",
          "1970-01-01T14:59:44.526873",
          "1970-01-01T15:00:28.900159",
          "1970-01-01T15:01:14.555165",
          "1970-01-01T15:02:04.554972",
          "1970-01-01T15:02:56.583038",
          "1970-01-01T15:03:52.587880",
          "1970-01-01T15:04:49.044150",
          "1970-01-01T15:05:42.707919",
          "1970-01-01T15:06:35.766253",
          "1970-01-01T15:07:28.792414",
          "1970-01-01T15:08:26.431962",
          "1970-01-01T15:09:23.159610",
          "1970-01-01T15:10:19.145494",
          "1970-01-01T15:11:13.545840",
          "1970-01-01T15:12:09.233880",
          "1970-01-01T15:13:04.843455",
          "1970-01-01T15:14:02.234101",
          "1970-01-01T15:15:02.576101",
          "1970-01-01T15:16:02.462388",
          "1970-01-01T15:17:01.286779",
          "1970-01-01T15:18:01.698802",
          "1970-01-01T15:19:03.636134",
          "1970-01-01T15:20:03.179721",
          "1970-01-01T15:21:02.170977",
          "1970-01-01T15:22:02.974039",
          "1970-01-01T15:23:02.269262",
          "1970-01-01T15:24:01.202159",
          "1970-01-01T15:24:54.806057",
          "1970-01-01T15:25:48.907542",
          "1970-01-01T15:26:45.898542",
          "1970-01-01T15:27:46.675923",
          "1970-01-01T15:28:46.138125",
          "1970-01-01T15:29:50.175929",
          "1970-01-01T15:30:45.772575",
          "1970-01-01T15:31:36.358098",
          "1970-01-01T15:32:27.632710",
          "1970-01-01T15:33:23.792382",
          "1970-01-01T15:34:23.011559",
          "1970-01-01T15:35:24.138526",
          "1970-01-01T15:36:30.383979",
          "1970-01-01T15:37:36.972917",
          "1970-01-01T15:38:39.295780",
          "1970-01-01T15:39:43.449904",
          "1970-01-01T15:40:43.416931",
          "1970-01-01T15:41:42.391003",
          "1970-01-01T15:42:44.765807",
          "1970-01-01T15:43:55.381605",
          "1970-01-01T15:45:03.835314",
          "1970-01-01T15:46:03.705810",
          "1970-01-01T15:47:09.911138",
          "1970-01-01T15:48:15.702172",
          "1970-01-01T15:49:25.408551",
          "1970-01-01T15:50:29.504478",
          "1970-01-01T15:51:33.245308",
          "1970-01-01T15:52:40.919682",
          "1970-01-01T15:53:55.913316",
          "1970-01-01T15:55:11.120778",
          "1970-01-01T15:56:19.579056",
          "1970-01-01T15:57:25.570099",
          "1970-01-01T15:58:31.277329",
          "1970-01-01T15:59:38.865267",
          "1970-01-01T16:00:41.681129",
          "1970-01-01T16:01:46.966168",
          "1970-01-01T16:02:54.294863",
          "1970-01-01T16:04:06.283884",
          "1970-01-01T16:05:15.310896",
          "1970-01-01T16:06:23.626831",
          "1970-01-01T16:07:34.200356",
          "1970-01-01T16:08:44.317754",
          "1970-01-01T16:09:55.145531",
          "1970-01-01T16:11:11.737063",
          "1970-01-01T16:12:30.095071",
          "1970-01-01T16:13:44.107319",
          "1970-01-01T16:14:59.826932",
          "1970-01-01T16:16:13.377871",
          "1970-01-01T16:17:26.637686",
          "1970-01-01T16:18:38.964373",
          "1970-01-01T16:19:56.150329",
          "1970-01-01T16:21:08.098422",
          "1970-01-01T16:22:21.610614",
          "1970-01-01T16:23:35.414555",
          "1970-01-01T16:24:52.837189",
          "1970-01-01T16:26:15.479816",
          "1970-01-01T16:27:34.162828",
          "1970-01-01T16:28:56.131192",
          "1970-01-01T16:30:14.078991",
          "1970-01-01T16:31:25.870202",
          "1970-01-01T16:32:38.877406",
          "1970-01-01T16:33:55.037424",
          "1970-01-01T16:35:16.802682",
          "1970-01-01T16:36:30.336625",
          "1970-01-01T16:37:50.955114",
          "1970-01-01T16:39:08.482321",
          "1970-01-01T16:40:34.069660",
          "1970-01-01T16:41:51.092331",
          "1970-01-01T16:43:03.958790",
          "1970-01-01T16:44:26.151518",
          "1970-01-01T16:45:45.132537",
          "1970-01-01T16:47:06.833445",
          "1970-01-01T16:48:28.074583",
          "1970-01-01T16:49:45.759131",
          "1970-01-01T16:51:06.856354",
          "1970-01-01T16:52:25.623268",
          "1970-01-01T16:53:44.446205",
          "1970-01-01T16:55:10.714978",
          "1970-01-01T16:56:31.114309",
          "1970-01-01T16:57:50.503423",
          "1970-01-01T16:59:15.626890",
          "1970-01-01T17:00:35.096328",
          "1970-01-01T17:01:55.622891",
          "1970-01-01T17:03:13.399317",
          "1970-01-01T17:04:35.038347",
          "1970-01-01T17:05:53.610413",
          "1970-01-01T17:07:13.132683",
          "1970-01-01T17:08:39.932667",
          "1970-01-01T17:10:03.200652",
          "1970-01-01T17:11:24.486310",
          "1970-01-01T17:12:53.296547",
          "1970-01-01T17:14:27.174273",
          "1970-01-01T17:15:51.163105",
          "1970-01-01T17:17:12.968752",
          "1970-01-01T17:18:38.279797",
          "1970-01-01T17:20:00.447086",
          "1970-01-01T17:21:24.001893",
          "1970-01-01T17:22:53.590505",
          "1970-01-01T17:24:23.486785",
          "1970-01-01T17:25:46.404038",
          "1970-01-01T17:27:07.352406",
          "1970-01-01T17:28:37.323693",
          "1970-01-01T17:30:01.295408",
          "1970-01-01T17:31:19.114912",
          "1970-01-01T17:32:38.059996",
          "1970-01-01T17:34:02.866315",
          "1970-01-01T17:35:27.796250",
          "1970-01-01T17:36:44.404182",
          "1970-01-01T17:38:03.455982",
          "1970-01-01T17:39:28.683167",
          "1970-01-01T17:40:56.196561",
          "1970-01-01T17:42:17.372553",
          "1970-01-01T17:43:40.049384",
          "1970-01-01T17:45:06.524885",
          "1970-01-01T17:46:33.240239",
          "1970-01-01T17:47:55.158572",
          "1970-01-01T17:49:23.166596",
          "1970-01-01T17:50:43.079978",
          "1970-01-01T17:51:59.940636",
          "1970-01-01T17:53:25.384178",
          "1970-01-01T17:54:49.964852",
          "1970-01-01T17:56:12.547204",
          "1970-01-01T17:57:36.952751",
          "1970-01-01T17:59:07.390494",
          "1970-01-01T18:00:25.949332",
          "1970-01-01T18:01:34.128677",
          "1970-01-01T18:02:50.506069",
          "1970-01-01T18:04:12.746223",
          "1970-01-01T18:05:41.177118",
          "1970-01-01T18:07:10.932598",
          "1970-01-01T18:08:39.749551",
          "1970-01-01T18:10:06.727712",
          "1970-01-01T18:11:36.630320",
          "1970-01-01T18:12:58.922426",
          "1970-01-01T18:14:21.369469",
          "1970-01-01T18:15:37.893527",
          "1970-01-01T18:16:58.928517",
          "1970-01-01T18:18:22.259796",
          "1970-01-01T18:19:53.550062",
          "1970-01-01T18:21:20.105774",
          "1970-01-01T18:22:40.903254",
          "1970-01-01T18:24:04.342407",
          "1970-01-01T18:25:27.350811",
          "1970-01-01T18:26:45.817318",
          "1970-01-01T18:28:01.960469",
          "1970-01-01T18:29:17.250563",
          "1970-01-01T18:30:29.788487",
          "1970-01-01T18:31:43.214545",
          "1970-01-01T18:33:08.414732",
          "1970-01-01T18:34:30.478579",
          "1970-01-01T18:35:52.083814",
          "1970-01-01T18:37:17.395716",
          "1970-01-01T18:38:38.675412",
          "1970-01-01T18:40:09.253105",
          "1970-01-01T18:41:29.779554",
          "1970-01-01T18:42:53.329152",
          "1970-01-01T18:44:11.008907",
          "1970-01-01T18:45:31.833815",
          "1970-01-01T18:46:47.273020",
          "1970-01-01T18:48:04.712239",
          "1970-01-01T18:49:29.800358",
          "1970-01-01T18:50:46.913149",
          "1970-01-01T18:52:05.605783",
          "1970-01-01T18:53:28.463329",
          "1970-01-01T18:54:51.369801",
          "1970-01-01T18:56:14.349488",
          "1970-01-01T18:57:40.714210",
          "1970-01-01T18:58:57.996894"
         ],
         "y": [
          631.4475,
          621.7968,
          765.6384,
          717.8674,
          658.1939,
          674.4046,
          659.1419,
          673.9411,
          676.4127,
          677.1794,
          709.7647,
          718.6519,
          752.3086,
          803.624,
          824.6296,
          740.3572,
          725.7944,
          806.8027,
          742.5801,
          795.8926,
          763.2966,
          889.8665,
          801.3782,
          766.5118,
          797.2418,
          820.8827,
          804.6727,
          818.7929,
          849.9297,
          832.6638,
          870.1316,
          825.0352,
          864.3402,
          865.0947,
          908.792,
          882.4751,
          851.8552,
          840.4472,
          871.3757,
          919.6095,
          866.297,
          931.0575,
          875.5116,
          916.66,
          871.0028,
          879.0085,
          925.349,
          999.6098,
          929.0345,
          970.2411,
          966.8241,
          948.3884,
          944.2558,
          911.6828,
          913.1153,
          919.3424,
          966.7573,
          978.18,
          953.4361,
          967.1234,
          929.787,
          1003.1962,
          926.8989,
          987.1257,
          1014.2152,
          1048.3462,
          951.1036,
          943.2749,
          978.673,
          1035.8088,
          1067.3548,
          1077.5936,
          975.2541,
          992.621,
          1035.0225,
          1092.1079,
          1017.7526,
          1079.0567,
          1021.1426,
          1043.6635,
          988.5407,
          933.6558,
          1022.1726,
          1027.3797,
          1027.4358,
          1033.0693,
          997.0649,
          998.0879,
          1051.8826,
          1017.1948,
          1080.7712,
          1053.874,
          1048.6381,
          1038.2637,
          1087.7811,
          1112.0381,
          1076.4082,
          1075.4888,
          1091.4068,
          1126.4928,
          1095.5467,
          1204.3113,
          1124.2993,
          1138.0917,
          1183.0682,
          1227.0317,
          1241.4958,
          1197.8642,
          1208.1718,
          1178.0903,
          1201.985,
          1213.9324,
          1118.9277,
          1196.9506,
          1243.1593,
          1263.6012,
          1222.6659,
          1367.8895,
          1275.842,
          1234.6169,
          1184.6389,
          1204.4914,
          1104.2187,
          1201.1194,
          1189.7436,
          1245.9478,
          1137.4173,
          1164.1647,
          1205.0354,
          1217.9027,
          1180.9631,
          1208.2809,
          1213.4664,
          1156.5894,
          1265.9533,
          1179.1039,
          1212.5207,
          1256.2086,
          1169.7132,
          1212.6011,
          1203.852,
          1227.8802,
          1176.9465,
          1187.929,
          1281.6898,
          1305.7054,
          1274.6749,
          1302.8516,
          1269.5909,
          1286.9019,
          1266.8936,
          1299.9846,
          1373.098,
          1338.6982,
          1397.3813,
          1295.3089,
          1369.7704,
          1367.1422,
          1268.7493,
          1290.8103,
          1340.4087,
          1381.6182,
          1284.5426,
          1391.3167,
          1456.4782,
          1510.6054,
          1510.6718,
          1395.3153,
          1353.0564,
          1285.5952,
          1316.8575,
          1313.8017,
          1325.8419,
          1312.5692,
          1431.4706,
          1365.8108,
          1397.9847,
          1321.2985,
          1338.5709,
          1432.1716,
          1304.2155,
          1390.0809,
          1362.5411,
          1463.5742,
          1487.7929,
          1500.6184,
          1467.4855,
          1575.3509,
          1443.5198,
          1402.2485,
          1423.2992,
          1406.3839,
          1457.4084,
          1494.1938,
          1377.4098,
          1363.7696,
          1342.0921,
          1395.4694,
          1292.4731,
          1379.6036,
          1380.2827,
          1423.3583,
          1441.4947,
          1457.2092,
          1569.3458,
          1502.9183,
          1518.7547,
          1534.2237,
          1508.8995,
          1523.6545,
          1603.7874,
          1556.8411,
          1505.6845,
          1436.8845,
          1460.9182,
          1531.8232,
          1524.0716,
          1453.225,
          1538.9961,
          1521.7251,
          1628.0592,
          1572.8277,
          1500.4521,
          1596.217,
          1608.7237,
          1636.3268,
          1560.6054,
          1574.7081,
          1712.3386,
          1691.3198,
          1612.1495,
          1542.163,
          1678.1701,
          1678.0179,
          1660.7187,
          1611.3876,
          1568.8479,
          1547.8667,
          1568.2591,
          1495.6442,
          1579.2108,
          1641.2719,
          1610.0698,
          1584.6468,
          1626.1716,
          1715.206,
          1615.7157,
          1635.8389,
          1716.6045,
          1688.7751,
          1580.3752,
          1732.1477,
          1668.8867,
          1801.414,
          1728.0075,
          1930.4951,
          1864.5488,
          1785.8594,
          1767.4741,
          1622.6257,
          1759.7719,
          1668.4331,
          1626.4849,
          1690.4697,
          1712.6933,
          1639.0216,
          1669.6483,
          1695.3865,
          1640.1758,
          1756.7006,
          1722.5264,
          1613.3124,
          1768.5502,
          1826.7757,
          1712.026,
          1717.6276,
          1799.6994,
          1781.757,
          1973.1009,
          1885.3532810115544
         ]
        },
        {
         "line": {
          "color": "red"
         },
         "mode": "lines",
         "name": "Opposite",
         "showlegend": true,
         "type": "scatter",
         "x": [
          "1970-01-01T14:00:09.557633",
          "1970-01-01T14:00:39.610943",
          "1970-01-01T14:01:10.977297",
          "1970-01-01T14:01:42.934103",
          "1970-01-01T14:02:13.877889",
          "1970-01-01T14:02:45.385427",
          "1970-01-01T14:03:17.700529",
          "1970-01-01T14:03:51.446661",
          "1970-01-01T14:04:23.556418",
          "1970-01-01T14:04:56.744087",
          "1970-01-01T14:05:29.099985",
          "1970-01-01T14:06:04.112152",
          "1970-01-01T14:06:39.684313",
          "1970-01-01T14:07:15.850295",
          "1970-01-01T14:07:50.180094",
          "1970-01-01T14:08:25.792807",
          "1970-01-01T14:09:04.475928",
          "1970-01-01T14:09:43.865568",
          "1970-01-01T14:10:21.120417",
          "1970-01-01T14:10:56.742881",
          "1970-01-01T14:11:32.299305",
          "1970-01-01T14:12:08.593471",
          "1970-01-01T14:12:49.443436",
          "1970-01-01T14:13:28.181777",
          "1970-01-01T14:14:07.522032",
          "1970-01-01T14:14:47.128731",
          "1970-01-01T14:15:22.027095",
          "1970-01-01T14:15:59.756048",
          "1970-01-01T14:16:38.271454",
          "1970-01-01T14:17:22.600082",
          "1970-01-01T14:18:06.597658",
          "1970-01-01T14:18:49.008237",
          "1970-01-01T14:19:34.332406",
          "1970-01-01T14:20:17.092289",
          "1970-01-01T14:20:56.784173",
          "1970-01-01T14:21:42.009882",
          "1970-01-01T14:22:29.033161",
          "1970-01-01T14:23:14.085848",
          "1970-01-01T14:23:59.338809",
          "1970-01-01T14:24:41.144652",
          "1970-01-01T14:25:22.109407",
          "1970-01-01T14:26:02.993943",
          "1970-01-01T14:26:47.764834",
          "1970-01-01T14:27:35.700604",
          "1970-01-01T14:28:19.678313",
          "1970-01-01T14:29:06.339092",
          "1970-01-01T14:29:53.599758",
          "1970-01-01T14:30:35.403917",
          "1970-01-01T14:31:12.793092",
          "1970-01-01T14:31:50.291096",
          "1970-01-01T14:32:32.483040",
          "1970-01-01T14:33:17.136962",
          "1970-01-01T14:34:02.187369",
          "1970-01-01T14:34:44.329696",
          "1970-01-01T14:35:26.922649",
          "1970-01-01T14:36:11.122456",
          "1970-01-01T14:36:53.247398",
          "1970-01-01T14:37:37.481495",
          "1970-01-01T14:38:18.661486",
          "1970-01-01T14:39:04.622848",
          "1970-01-01T14:39:49.966114",
          "1970-01-01T14:40:33.049713",
          "1970-01-01T14:41:19.968228",
          "1970-01-01T14:42:07.395973",
          "1970-01-01T14:42:54.453547",
          "1970-01-01T14:43:37.049271",
          "1970-01-01T14:44:22.232623",
          "1970-01-01T14:45:09.990990",
          "1970-01-01T14:45:57.733653",
          "1970-01-01T14:46:47.037715",
          "1970-01-01T14:47:35.417889",
          "1970-01-01T14:48:18.217352",
          "1970-01-01T14:49:01.311517",
          "1970-01-01T14:49:50.800388",
          "1970-01-01T14:50:32.780198",
          "1970-01-01T14:51:17.719256",
          "1970-01-01T14:52:06.386385",
          "1970-01-01T14:52:56.825259",
          "1970-01-01T14:53:47.894169",
          "1970-01-01T14:54:40.767892",
          "1970-01-01T14:55:30.337349",
          "1970-01-01T14:56:19.783141",
          "1970-01-01T14:57:12.041723",
          "1970-01-01T14:58:04.138596",
          "1970-01-01T14:58:56.145709",
          "1970-01-01T14:59:44.526873",
          "1970-01-01T15:00:28.900159",
          "1970-01-01T15:01:14.555165",
          "1970-01-01T15:02:04.554972",
          "1970-01-01T15:02:56.583038",
          "1970-01-01T15:03:52.587880",
          "1970-01-01T15:04:49.044150",
          "1970-01-01T15:05:42.707919",
          "1970-01-01T15:06:35.766253",
          "1970-01-01T15:07:28.792414",
          "1970-01-01T15:08:26.431962",
          "1970-01-01T15:09:23.159610",
          "1970-01-01T15:10:19.145494",
          "1970-01-01T15:11:13.545840",
          "1970-01-01T15:12:09.233880",
          "1970-01-01T15:13:04.843455",
          "1970-01-01T15:14:02.234101",
          "1970-01-01T15:15:02.576101",
          "1970-01-01T15:16:02.462388",
          "1970-01-01T15:17:01.286779",
          "1970-01-01T15:18:01.698802",
          "1970-01-01T15:19:03.636134",
          "1970-01-01T15:20:03.179721",
          "1970-01-01T15:21:02.170977",
          "1970-01-01T15:22:02.974039",
          "1970-01-01T15:23:02.269262",
          "1970-01-01T15:24:01.202159",
          "1970-01-01T15:24:54.806057",
          "1970-01-01T15:25:48.907542",
          "1970-01-01T15:26:45.898542",
          "1970-01-01T15:27:46.675923",
          "1970-01-01T15:28:46.138125",
          "1970-01-01T15:29:50.175929",
          "1970-01-01T15:30:45.772575",
          "1970-01-01T15:31:36.358098",
          "1970-01-01T15:32:27.632710",
          "1970-01-01T15:33:23.792382",
          "1970-01-01T15:34:23.011559",
          "1970-01-01T15:35:24.138526",
          "1970-01-01T15:36:30.383979",
          "1970-01-01T15:37:36.972917",
          "1970-01-01T15:38:39.295780",
          "1970-01-01T15:39:43.449904",
          "1970-01-01T15:40:43.416931",
          "1970-01-01T15:41:42.391003",
          "1970-01-01T15:42:44.765807",
          "1970-01-01T15:43:55.381605",
          "1970-01-01T15:45:03.835314",
          "1970-01-01T15:46:03.705810",
          "1970-01-01T15:47:09.911138",
          "1970-01-01T15:48:15.702172",
          "1970-01-01T15:49:25.408551",
          "1970-01-01T15:50:29.504478",
          "1970-01-01T15:51:33.245308",
          "1970-01-01T15:52:40.919682",
          "1970-01-01T15:53:55.913316",
          "1970-01-01T15:55:11.120778",
          "1970-01-01T15:56:19.579056",
          "1970-01-01T15:57:25.570099",
          "1970-01-01T15:58:31.277329",
          "1970-01-01T15:59:38.865267",
          "1970-01-01T16:00:41.681129",
          "1970-01-01T16:01:46.966168",
          "1970-01-01T16:02:54.294863",
          "1970-01-01T16:04:06.283884",
          "1970-01-01T16:05:15.310896",
          "1970-01-01T16:06:23.626831",
          "1970-01-01T16:07:34.200356",
          "1970-01-01T16:08:44.317754",
          "1970-01-01T16:09:55.145531",
          "1970-01-01T16:11:11.737063",
          "1970-01-01T16:12:30.095071",
          "1970-01-01T16:13:44.107319",
          "1970-01-01T16:14:59.826932",
          "1970-01-01T16:16:13.377871",
          "1970-01-01T16:17:26.637686",
          "1970-01-01T16:18:38.964373",
          "1970-01-01T16:19:56.150329",
          "1970-01-01T16:21:08.098422",
          "1970-01-01T16:22:21.610614",
          "1970-01-01T16:23:35.414555",
          "1970-01-01T16:24:52.837189",
          "1970-01-01T16:26:15.479816",
          "1970-01-01T16:27:34.162828",
          "1970-01-01T16:28:56.131192",
          "1970-01-01T16:30:14.078991",
          "1970-01-01T16:31:25.870202",
          "1970-01-01T16:32:38.877406",
          "1970-01-01T16:33:55.037424",
          "1970-01-01T16:35:16.802682",
          "1970-01-01T16:36:30.336625",
          "1970-01-01T16:37:50.955114",
          "1970-01-01T16:39:08.482321",
          "1970-01-01T16:40:34.069660",
          "1970-01-01T16:41:51.092331",
          "1970-01-01T16:43:03.958790",
          "1970-01-01T16:44:26.151518",
          "1970-01-01T16:45:45.132537",
          "1970-01-01T16:47:06.833445",
          "1970-01-01T16:48:28.074583",
          "1970-01-01T16:49:45.759131",
          "1970-01-01T16:51:06.856354",
          "1970-01-01T16:52:25.623268",
          "1970-01-01T16:53:44.446205",
          "1970-01-01T16:55:10.714978",
          "1970-01-01T16:56:31.114309",
          "1970-01-01T16:57:50.503423",
          "1970-01-01T16:59:15.626890",
          "1970-01-01T17:00:35.096328",
          "1970-01-01T17:01:55.622891",
          "1970-01-01T17:03:13.399317",
          "1970-01-01T17:04:35.038347",
          "1970-01-01T17:05:53.610413",
          "1970-01-01T17:07:13.132683",
          "1970-01-01T17:08:39.932667",
          "1970-01-01T17:10:03.200652",
          "1970-01-01T17:11:24.486310",
          "1970-01-01T17:12:53.296547",
          "1970-01-01T17:14:27.174273",
          "1970-01-01T17:15:51.163105",
          "1970-01-01T17:17:12.968752",
          "1970-01-01T17:18:38.279797",
          "1970-01-01T17:20:00.447086",
          "1970-01-01T17:21:24.001893",
          "1970-01-01T17:22:53.590505",
          "1970-01-01T17:24:23.486785",
          "1970-01-01T17:25:46.404038",
          "1970-01-01T17:27:07.352406",
          "1970-01-01T17:28:37.323693",
          "1970-01-01T17:30:01.295408",
          "1970-01-01T17:31:19.114912",
          "1970-01-01T17:32:38.059996",
          "1970-01-01T17:34:02.866315",
          "1970-01-01T17:35:27.796250",
          "1970-01-01T17:36:44.404182",
          "1970-01-01T17:38:03.455982",
          "1970-01-01T17:39:28.683167",
          "1970-01-01T17:40:56.196561",
          "1970-01-01T17:42:17.372553",
          "1970-01-01T17:43:40.049384",
          "1970-01-01T17:45:06.524885",
          "1970-01-01T17:46:33.240239",
          "1970-01-01T17:47:55.158572",
          "1970-01-01T17:49:23.166596",
          "1970-01-01T17:50:43.079978",
          "1970-01-01T17:51:59.940636",
          "1970-01-01T17:53:25.384178",
          "1970-01-01T17:54:49.964852",
          "1970-01-01T17:56:12.547204",
          "1970-01-01T17:57:36.952751",
          "1970-01-01T17:59:07.390494",
          "1970-01-01T18:00:25.949332",
          "1970-01-01T18:01:34.128677",
          "1970-01-01T18:02:50.506069",
          "1970-01-01T18:04:12.746223",
          "1970-01-01T18:05:41.177118",
          "1970-01-01T18:07:10.932598",
          "1970-01-01T18:08:39.749551",
          "1970-01-01T18:10:06.727712",
          "1970-01-01T18:11:36.630320",
          "1970-01-01T18:12:58.922426",
          "1970-01-01T18:14:21.369469",
          "1970-01-01T18:15:37.893527",
          "1970-01-01T18:16:58.928517",
          "1970-01-01T18:18:22.259796",
          "1970-01-01T18:19:53.550062",
          "1970-01-01T18:21:20.105774",
          "1970-01-01T18:22:40.903254",
          "1970-01-01T18:24:04.342407",
          "1970-01-01T18:25:27.350811",
          "1970-01-01T18:26:45.817318",
          "1970-01-01T18:28:01.960469",
          "1970-01-01T18:29:17.250563",
          "1970-01-01T18:30:29.788487",
          "1970-01-01T18:31:43.214545",
          "1970-01-01T18:33:08.414732",
          "1970-01-01T18:34:30.478579",
          "1970-01-01T18:35:52.083814",
          "1970-01-01T18:37:17.395716",
          "1970-01-01T18:38:38.675412",
          "1970-01-01T18:40:09.253105",
          "1970-01-01T18:41:29.779554",
          "1970-01-01T18:42:53.329152",
          "1970-01-01T18:44:11.008907",
          "1970-01-01T18:45:31.833815",
          "1970-01-01T18:46:47.273020",
          "1970-01-01T18:48:04.712239",
          "1970-01-01T18:49:29.800358",
          "1970-01-01T18:50:46.913149",
          "1970-01-01T18:52:05.605783",
          "1970-01-01T18:53:28.463329",
          "1970-01-01T18:54:51.369801",
          "1970-01-01T18:56:14.349488",
          "1970-01-01T18:57:40.714210",
          "1970-01-01T18:58:57.996894"
         ],
         "y": [
          436.7763,
          502.607,
          545.3955,
          481.6,
          445.9515,
          473.3928,
          459.8294,
          477.2965,
          503.6528,
          472.0914,
          492.7155,
          500.9598,
          514.2277,
          541.1823,
          548.8528,
          514.2395,
          500.6742,
          541.087,
          505.5125,
          562.0144,
          559.9294,
          594.0314,
          559.5225,
          531.0555,
          539.344,
          547.3604,
          564.6251,
          571.6538,
          577.0696,
          597.6193,
          593.4031,
          601.9996,
          591.8967,
          626.0563,
          622.6543,
          613.9838,
          587.5876,
          568.3982,
          599.3934,
          629.5146,
          589.2929,
          664.2774,
          621.5518,
          648.3305,
          601.6132,
          623.8584,
          638.4379,
          685.7882,
          630.7224,
          688.0921,
          651.2516,
          645.2025,
          662.2424,
          637.3228,
          640.2565,
          624.8494,
          660.8358,
          671.1983,
          660.503,
          662.6409,
          624.6375,
          657.3166,
          655.6591,
          674.5936,
          706.279,
          725.9094,
          669.0737,
          658.8244,
          653.1853,
          732.3544,
          761.7393,
          772.6914,
          690.0471,
          706.6236,
          778.2361,
          818.8613,
          716.5674,
          736.5468,
          713.9548,
          748.493,
          656.6654,
          662.8047,
          716.1002,
          704.6659,
          712.6064,
          680.8872,
          682.9952,
          701.5227,
          704.9364,
          707.9739,
          733.0654,
          712.4944,
          715.475,
          708.2746,
          717.7994,
          745.4603,
          782.6586,
          763.9182,
          760.6508,
          760.4108,
          793.7517,
          840.9639,
          813.1281,
          770.1338,
          840.1578,
          872.1656,
          857.1061,
          838.9582,
          861.0771,
          823.8521,
          833.8121,
          857.1536,
          799.7518,
          821.4763,
          862.4522,
          859.1479,
          851.9584,
          915.2075,
          833.677,
          821.0082,
          828.1632,
          827.3137,
          765.0415,
          818.27,
          821.8588,
          870.2057,
          812.7839,
          840.7053,
          866.2522,
          835.9919,
          830.6846,
          829.8097,
          827.2043,
          779.6688,
          849.4712,
          878.42,
          817.4849,
          882.7194,
          826.5083,
          838.264,
          843.5594,
          822.1264,
          858.1927,
          859.268,
          919.7496,
          885.2906,
          890.7256,
          912.6708,
          882.1138,
          898.6426,
          883.4093,
          893.7174,
          996.9993,
          980.1098,
          958.1074,
          897.5552,
          985.8497,
          956.6242,
          879.0774,
          902.3219,
          977.746,
          948.5849,
          930.9985,
          974.4696,
          984.5002,
          1019.0016,
          1030.4571,
          943.2345,
          949.6583,
          936.5038,
          904.5186,
          935.9848,
          919.9345,
          961.3996,
          1061.0965,
          956.9884,
          968.6353,
          943.6835,
          955.3234,
          991.5547,
          912.1515,
          966.6566,
          974.5391,
          1032.0882,
          1009.258,
          1013.3093,
          1056.9625,
          1087.8385,
          1054.7799,
          981.3358,
          1020.1311,
          1006.793,
          1024.7764,
          997.8626,
          970.3634,
          975.192,
          954.4524,
          968.9218,
          945.8878,
          968.0434,
          961.2505,
          1027.8226,
          1056.2103,
          1069.175,
          1050.6968,
          1083.1549,
          1067.7605,
          1054.0485,
          1068.8371,
          1071.6969,
          1118.1827,
          1108.4984,
          1060.1781,
          1021.579,
          1008.7161,
          1089.0492,
          1033.0604,
          1021.0062,
          1082.1323,
          1061.3934,
          1101.4244,
          1074.9799,
          1049.0892,
          1097.8998,
          1125.0034,
          1127.9877,
          1080.3743,
          1132.9415,
          1178.8756,
          1141.9821,
          1133.4992,
          1054.578,
          1138.561,
          1214.6883,
          1165.7703,
          1144.9555,
          1089.9356,
          1083.8674,
          1105.6415,
          1093.4426,
          1134.5841,
          1136.2845,
          1091.6068,
          1055.5843,
          1179.5198,
          1151.6326,
          1183.1302,
          1144.9885,
          1255.787,
          1172.5,
          1095.9496,
          1142.6417,
          1211.8273,
          1266.7886,
          1236.7652,
          1287.4674,
          1294.4035,
          1203.7493,
          1222.6311,
          1180.5367,
          1187.8285,
          1209.1748,
          1159.2932,
          1180.5444,
          1158.6538,
          1126.0001,
          1217.9454,
          1150.7717,
          1165.333,
          1184.0118,
          1191.4212,
          1161.1092,
          1258.5365,
          1252.1908,
          1180.185,
          1200.5667,
          1251.8325,
          1289.9912,
          1410.1029,
          1301.157401351646
         ]
        }
       ],
       "layout": {
        "showlegend": true,
        "template": {
         "data": {
          "bar": [
           {
            "error_x": {
             "color": "#2a3f5f"
            },
            "error_y": {
             "color": "#2a3f5f"
            },
            "marker": {
             "line": {
              "color": "#E5ECF6",
              "width": 0.5
             },
             "pattern": {
              "fillmode": "overlay",
              "size": 10,
              "solidity": 0.2
             }
            },
            "type": "bar"
           }
          ],
          "barpolar": [
           {
            "marker": {
             "line": {
              "color": "#E5ECF6",
              "width": 0.5
             },
             "pattern": {
              "fillmode": "overlay",
              "size": 10,
              "solidity": 0.2
             }
            },
            "type": "barpolar"
           }
          ],
          "carpet": [
           {
            "aaxis": {
             "endlinecolor": "#2a3f5f",
             "gridcolor": "white",
             "linecolor": "white",
             "minorgridcolor": "white",
             "startlinecolor": "#2a3f5f"
            },
            "baxis": {
             "endlinecolor": "#2a3f5f",
             "gridcolor": "white",
             "linecolor": "white",
             "minorgridcolor": "white",
             "startlinecolor": "#2a3f5f"
            },
            "type": "carpet"
           }
          ],
          "choropleth": [
           {
            "colorbar": {
             "outlinewidth": 0,
             "ticks": ""
            },
            "type": "choropleth"
           }
          ],
          "contour": [
           {
            "colorbar": {
             "outlinewidth": 0,
             "ticks": ""
            },
            "colorscale": [
             [
              0,
              "#0d0887"
             ],
             [
              0.1111111111111111,
              "#46039f"
             ],
             [
              0.2222222222222222,
              "#7201a8"
             ],
             [
              0.3333333333333333,
              "#9c179e"
             ],
             [
              0.4444444444444444,
              "#bd3786"
             ],
             [
              0.5555555555555556,
              "#d8576b"
             ],
             [
              0.6666666666666666,
              "#ed7953"
             ],
             [
              0.7777777777777778,
              "#fb9f3a"
             ],
             [
              0.8888888888888888,
              "#fdca26"
             ],
             [
              1,
              "#f0f921"
             ]
            ],
            "type": "contour"
           }
          ],
          "contourcarpet": [
           {
            "colorbar": {
             "outlinewidth": 0,
             "ticks": ""
            },
            "type": "contourcarpet"
           }
          ],
          "heatmap": [
           {
            "colorbar": {
             "outlinewidth": 0,
             "ticks": ""
            },
            "colorscale": [
             [
              0,
              "#0d0887"
             ],
             [
              0.1111111111111111,
              "#46039f"
             ],
             [
              0.2222222222222222,
              "#7201a8"
             ],
             [
              0.3333333333333333,
              "#9c179e"
             ],
             [
              0.4444444444444444,
              "#bd3786"
             ],
             [
              0.5555555555555556,
              "#d8576b"
             ],
             [
              0.6666666666666666,
              "#ed7953"
             ],
             [
              0.7777777777777778,
              "#fb9f3a"
             ],
             [
              0.8888888888888888,
              "#fdca26"
             ],
             [
              1,
              "#f0f921"
             ]
            ],
            "type": "heatmap"
           }
          ],
          "heatmapgl": [
           {
            "colorbar": {
             "outlinewidth": 0,
             "ticks": ""
            },
            "colorscale": [
             [
              0,
              "#0d0887"
             ],
             [
              0.1111111111111111,
              "#46039f"
             ],
             [
              0.2222222222222222,
              "#7201a8"
             ],
             [
              0.3333333333333333,
              "#9c179e"
             ],
             [
              0.4444444444444444,
              "#bd3786"
             ],
             [
              0.5555555555555556,
              "#d8576b"
             ],
             [
              0.6666666666666666,
              "#ed7953"
             ],
             [
              0.7777777777777778,
              "#fb9f3a"
             ],
             [
              0.8888888888888888,
              "#fdca26"
             ],
             [
              1,
              "#f0f921"
             ]
            ],
            "type": "heatmapgl"
           }
          ],
          "histogram": [
           {
            "marker": {
             "pattern": {
              "fillmode": "overlay",
              "size": 10,
              "solidity": 0.2
             }
            },
            "type": "histogram"
           }
          ],
          "histogram2d": [
           {
            "colorbar": {
             "outlinewidth": 0,
             "ticks": ""
            },
            "colorscale": [
             [
              0,
              "#0d0887"
             ],
             [
              0.1111111111111111,
              "#46039f"
             ],
             [
              0.2222222222222222,
              "#7201a8"
             ],
             [
              0.3333333333333333,
              "#9c179e"
             ],
             [
              0.4444444444444444,
              "#bd3786"
             ],
             [
              0.5555555555555556,
              "#d8576b"
             ],
             [
              0.6666666666666666,
              "#ed7953"
             ],
             [
              0.7777777777777778,
              "#fb9f3a"
             ],
             [
              0.8888888888888888,
              "#fdca26"
             ],
             [
              1,
              "#f0f921"
             ]
            ],
            "type": "histogram2d"
           }
          ],
          "histogram2dcontour": [
           {
            "colorbar": {
             "outlinewidth": 0,
             "ticks": ""
            },
            "colorscale": [
             [
              0,
              "#0d0887"
             ],
             [
              0.1111111111111111,
              "#46039f"
             ],
             [
              0.2222222222222222,
              "#7201a8"
             ],
             [
              0.3333333333333333,
              "#9c179e"
             ],
             [
              0.4444444444444444,
              "#bd3786"
             ],
             [
              0.5555555555555556,
              "#d8576b"
             ],
             [
              0.6666666666666666,
              "#ed7953"
             ],
             [
              0.7777777777777778,
              "#fb9f3a"
             ],
             [
              0.8888888888888888,
              "#fdca26"
             ],
             [
              1,
              "#f0f921"
             ]
            ],
            "type": "histogram2dcontour"
           }
          ],
          "mesh3d": [
           {
            "colorbar": {
             "outlinewidth": 0,
             "ticks": ""
            },
            "type": "mesh3d"
           }
          ],
          "parcoords": [
           {
            "line": {
             "colorbar": {
              "outlinewidth": 0,
              "ticks": ""
             }
            },
            "type": "parcoords"
           }
          ],
          "pie": [
           {
            "automargin": true,
            "type": "pie"
           }
          ],
          "scatter": [
           {
            "fillpattern": {
             "fillmode": "overlay",
             "size": 10,
             "solidity": 0.2
            },
            "type": "scatter"
           }
          ],
          "scatter3d": [
           {
            "line": {
             "colorbar": {
              "outlinewidth": 0,
              "ticks": ""
             }
            },
            "marker": {
             "colorbar": {
              "outlinewidth": 0,
              "ticks": ""
             }
            },
            "type": "scatter3d"
           }
          ],
          "scattercarpet": [
           {
            "marker": {
             "colorbar": {
              "outlinewidth": 0,
              "ticks": ""
             }
            },
            "type": "scattercarpet"
           }
          ],
          "scattergeo": [
           {
            "marker": {
             "colorbar": {
              "outlinewidth": 0,
              "ticks": ""
             }
            },
            "type": "scattergeo"
           }
          ],
          "scattergl": [
           {
            "marker": {
             "colorbar": {
              "outlinewidth": 0,
              "ticks": ""
             }
            },
            "type": "scattergl"
           }
          ],
          "scattermapbox": [
           {
            "marker": {
             "colorbar": {
              "outlinewidth": 0,
              "ticks": ""
             }
            },
            "type": "scattermapbox"
           }
          ],
          "scatterpolar": [
           {
            "marker": {
             "colorbar": {
              "outlinewidth": 0,
              "ticks": ""
             }
            },
            "type": "scatterpolar"
           }
          ],
          "scatterpolargl": [
           {
            "marker": {
             "colorbar": {
              "outlinewidth": 0,
              "ticks": ""
             }
            },
            "type": "scatterpolargl"
           }
          ],
          "scatterternary": [
           {
            "marker": {
             "colorbar": {
              "outlinewidth": 0,
              "ticks": ""
             }
            },
            "type": "scatterternary"
           }
          ],
          "surface": [
           {
            "colorbar": {
             "outlinewidth": 0,
             "ticks": ""
            },
            "colorscale": [
             [
              0,
              "#0d0887"
             ],
             [
              0.1111111111111111,
              "#46039f"
             ],
             [
              0.2222222222222222,
              "#7201a8"
             ],
             [
              0.3333333333333333,
              "#9c179e"
             ],
             [
              0.4444444444444444,
              "#bd3786"
             ],
             [
              0.5555555555555556,
              "#d8576b"
             ],
             [
              0.6666666666666666,
              "#ed7953"
             ],
             [
              0.7777777777777778,
              "#fb9f3a"
             ],
             [
              0.8888888888888888,
              "#fdca26"
             ],
             [
              1,
              "#f0f921"
             ]
            ],
            "type": "surface"
           }
          ],
          "table": [
           {
            "cells": {
             "fill": {
              "color": "#EBF0F8"
             },
             "line": {
              "color": "white"
             }
            },
            "header": {
             "fill": {
              "color": "#C8D4E3"
             },
             "line": {
              "color": "white"
             }
            },
            "type": "table"
           }
          ]
         },
         "layout": {
          "annotationdefaults": {
           "arrowcolor": "#2a3f5f",
           "arrowhead": 0,
           "arrowwidth": 1
          },
          "autotypenumbers": "strict",
          "coloraxis": {
           "colorbar": {
            "outlinewidth": 0,
            "ticks": ""
           }
          },
          "colorscale": {
           "diverging": [
            [
             0,
             "#8e0152"
            ],
            [
             0.1,
             "#c51b7d"
            ],
            [
             0.2,
             "#de77ae"
            ],
            [
             0.3,
             "#f1b6da"
            ],
            [
             0.4,
             "#fde0ef"
            ],
            [
             0.5,
             "#f7f7f7"
            ],
            [
             0.6,
             "#e6f5d0"
            ],
            [
             0.7,
             "#b8e186"
            ],
            [
             0.8,
             "#7fbc41"
            ],
            [
             0.9,
             "#4d9221"
            ],
            [
             1,
             "#276419"
            ]
           ],
           "sequential": [
            [
             0,
             "#0d0887"
            ],
            [
             0.1111111111111111,
             "#46039f"
            ],
            [
             0.2222222222222222,
             "#7201a8"
            ],
            [
             0.3333333333333333,
             "#9c179e"
            ],
            [
             0.4444444444444444,
             "#bd3786"
            ],
            [
             0.5555555555555556,
             "#d8576b"
            ],
            [
             0.6666666666666666,
             "#ed7953"
            ],
            [
             0.7777777777777778,
             "#fb9f3a"
            ],
            [
             0.8888888888888888,
             "#fdca26"
            ],
            [
             1,
             "#f0f921"
            ]
           ],
           "sequentialminus": [
            [
             0,
             "#0d0887"
            ],
            [
             0.1111111111111111,
             "#46039f"
            ],
            [
             0.2222222222222222,
             "#7201a8"
            ],
            [
             0.3333333333333333,
             "#9c179e"
            ],
            [
             0.4444444444444444,
             "#bd3786"
            ],
            [
             0.5555555555555556,
             "#d8576b"
            ],
            [
             0.6666666666666666,
             "#ed7953"
            ],
            [
             0.7777777777777778,
             "#fb9f3a"
            ],
            [
             0.8888888888888888,
             "#fdca26"
            ],
            [
             1,
             "#f0f921"
            ]
           ]
          },
          "colorway": [
           "#636efa",
           "#EF553B",
           "#00cc96",
           "#ab63fa",
           "#FFA15A",
           "#19d3f3",
           "#FF6692",
           "#B6E880",
           "#FF97FF",
           "#FECB52"
          ],
          "font": {
           "color": "#2a3f5f"
          },
          "geo": {
           "bgcolor": "white",
           "lakecolor": "white",
           "landcolor": "#E5ECF6",
           "showlakes": true,
           "showland": true,
           "subunitcolor": "white"
          },
          "hoverlabel": {
           "align": "left"
          },
          "hovermode": "closest",
          "mapbox": {
           "style": "light"
          },
          "paper_bgcolor": "white",
          "plot_bgcolor": "#E5ECF6",
          "polar": {
           "angularaxis": {
            "gridcolor": "white",
            "linecolor": "white",
            "ticks": ""
           },
           "bgcolor": "#E5ECF6",
           "radialaxis": {
            "gridcolor": "white",
            "linecolor": "white",
            "ticks": ""
           }
          },
          "scene": {
           "xaxis": {
            "backgroundcolor": "#E5ECF6",
            "gridcolor": "white",
            "gridwidth": 2,
            "linecolor": "white",
            "showbackground": true,
            "ticks": "",
            "zerolinecolor": "white"
           },
           "yaxis": {
            "backgroundcolor": "#E5ECF6",
            "gridcolor": "white",
            "gridwidth": 2,
            "linecolor": "white",
            "showbackground": true,
            "ticks": "",
            "zerolinecolor": "white"
           },
           "zaxis": {
            "backgroundcolor": "#E5ECF6",
            "gridcolor": "white",
            "gridwidth": 2,
            "linecolor": "white",
            "showbackground": true,
            "ticks": "",
            "zerolinecolor": "white"
           }
          },
          "shapedefaults": {
           "line": {
            "color": "#2a3f5f"
           }
          },
          "ternary": {
           "aaxis": {
            "gridcolor": "white",
            "linecolor": "white",
            "ticks": ""
           },
           "baxis": {
            "gridcolor": "white",
            "linecolor": "white",
            "ticks": ""
           },
           "bgcolor": "#E5ECF6",
           "caxis": {
            "gridcolor": "white",
            "linecolor": "white",
            "ticks": ""
           }
          },
          "title": {
           "x": 0.05
          },
          "xaxis": {
           "automargin": true,
           "gridcolor": "white",
           "linecolor": "white",
           "ticks": "",
           "title": {
            "standoff": 15
           },
           "zerolinecolor": "white",
           "zerolinewidth": 2
          },
          "yaxis": {
           "automargin": true,
           "gridcolor": "white",
           "linecolor": "white",
           "ticks": "",
           "title": {
            "standoff": 15
           },
           "zerolinecolor": "white",
           "zerolinewidth": 2
          }
         }
        },
        "title": {
         "text": "Queue size aux add"
        },
        "xaxis": {
         "title": {
          "text": "time"
         }
        },
        "yaxis": {
         "title": {
          "text": "Queue size"
         }
        }
       }
      }
     },
     "metadata": {},
     "output_type": "display_data"
    },
    {
     "data": {
      "application/vnd.plotly.v1+json": {
       "config": {
        "plotlyServerURL": "https://plot.ly"
       },
       "data": [
        {
         "line": {
          "color": "blue"
         },
         "mode": "markers",
         "name": "same",
         "showlegend": true,
         "type": "scatter",
         "x": [
          436.7763,
          502.607,
          545.3955,
          481.6,
          445.9515,
          473.3928,
          459.8294,
          477.2965,
          503.6528,
          472.0914,
          492.7155,
          500.9598,
          514.2277,
          541.1823,
          548.8528,
          514.2395,
          500.6742,
          541.087,
          505.5125,
          562.0144,
          559.9294,
          594.0314,
          559.5225,
          531.0555,
          539.344,
          547.3604,
          564.6251,
          571.6538,
          577.0696,
          597.6193,
          593.4031,
          601.9996,
          591.8967,
          626.0563,
          622.6543,
          613.9838,
          587.5876,
          568.3982,
          599.3934,
          629.5146,
          589.2929,
          664.2774,
          621.5518,
          648.3305,
          601.6132,
          623.8584,
          638.4379,
          685.7882,
          630.7224,
          688.0921,
          651.2516,
          645.2025,
          662.2424,
          637.3228,
          640.2565,
          624.8494,
          660.8358,
          671.1983,
          660.503,
          662.6409,
          624.6375,
          657.3166,
          655.6591,
          674.5936,
          706.279,
          725.9094,
          669.0737,
          658.8244,
          653.1853,
          732.3544,
          761.7393,
          772.6914,
          690.0471,
          706.6236,
          778.2361,
          818.8613,
          716.5674,
          736.5468,
          713.9548,
          748.493,
          656.6654,
          662.8047,
          716.1002,
          704.6659,
          712.6064,
          680.8872,
          682.9952,
          701.5227,
          704.9364,
          707.9739,
          733.0654,
          712.4944,
          715.475,
          708.2746,
          717.7994,
          745.4603,
          782.6586,
          763.9182,
          760.6508,
          760.4108,
          793.7517,
          840.9639,
          813.1281,
          770.1338,
          840.1578,
          872.1656,
          857.1061,
          838.9582,
          861.0771,
          823.8521,
          833.8121,
          857.1536,
          799.7518,
          821.4763,
          862.4522,
          859.1479,
          851.9584,
          915.2075,
          833.677,
          821.0082,
          828.1632,
          827.3137,
          765.0415,
          818.27,
          821.8588,
          870.2057,
          812.7839,
          840.7053,
          866.2522,
          835.9919,
          830.6846,
          829.8097,
          827.2043,
          779.6688,
          849.4712,
          878.42,
          817.4849,
          882.7194,
          826.5083,
          838.264,
          843.5594,
          822.1264,
          858.1927,
          859.268,
          919.7496,
          885.2906,
          890.7256,
          912.6708,
          882.1138,
          898.6426,
          883.4093,
          893.7174,
          996.9993,
          980.1098,
          958.1074,
          897.5552,
          985.8497,
          956.6242,
          879.0774,
          902.3219,
          977.746,
          948.5849,
          930.9985,
          974.4696,
          984.5002,
          1019.0016,
          1030.4571,
          943.2345,
          949.6583,
          936.5038,
          904.5186,
          935.9848,
          919.9345,
          961.3996,
          1061.0965,
          956.9884,
          968.6353,
          943.6835,
          955.3234,
          991.5547,
          912.1515,
          966.6566,
          974.5391,
          1032.0882,
          1009.258,
          1013.3093,
          1056.9625,
          1087.8385,
          1054.7799,
          981.3358,
          1020.1311,
          1006.793,
          1024.7764,
          997.8626,
          970.3634,
          975.192,
          954.4524,
          968.9218,
          945.8878,
          968.0434,
          961.2505,
          1027.8226,
          1056.2103,
          1069.175,
          1050.6968,
          1083.1549,
          1067.7605,
          1054.0485,
          1068.8371,
          1071.6969,
          1118.1827,
          1108.4984,
          1060.1781,
          1021.579,
          1008.7161,
          1089.0492,
          1033.0604,
          1021.0062,
          1082.1323,
          1061.3934,
          1101.4244,
          1074.9799,
          1049.0892,
          1097.8998,
          1125.0034,
          1127.9877,
          1080.3743,
          1132.9415,
          1178.8756,
          1141.9821,
          1133.4992,
          1054.578,
          1138.561,
          1214.6883,
          1165.7703,
          1144.9555,
          1089.9356,
          1083.8674,
          1105.6415,
          1093.4426,
          1134.5841,
          1136.2845,
          1091.6068,
          1055.5843,
          1179.5198,
          1151.6326,
          1183.1302,
          1144.9885,
          1255.787,
          1172.5,
          1095.9496,
          1142.6417,
          1211.8273,
          1266.7886,
          1236.7652,
          1287.4674,
          1294.4035,
          1203.7493,
          1222.6311,
          1180.5367,
          1187.8285,
          1209.1748,
          1159.2932,
          1180.5444,
          1158.6538,
          1126.0001,
          1217.9454,
          1150.7717,
          1165.333,
          1184.0118,
          1191.4212,
          1161.1092,
          1258.5365,
          1252.1908,
          1180.185,
          1200.5667,
          1251.8325,
          1289.9912,
          1410.1029,
          1301.157401351646
         ],
         "y": [
          631.4475,
          621.7968,
          765.6384,
          717.8674,
          658.1939,
          674.4046,
          659.1419,
          673.9411,
          676.4127,
          677.1794,
          709.7647,
          718.6519,
          752.3086,
          803.624,
          824.6296,
          740.3572,
          725.7944,
          806.8027,
          742.5801,
          795.8926,
          763.2966,
          889.8665,
          801.3782,
          766.5118,
          797.2418,
          820.8827,
          804.6727,
          818.7929,
          849.9297,
          832.6638,
          870.1316,
          825.0352,
          864.3402,
          865.0947,
          908.792,
          882.4751,
          851.8552,
          840.4472,
          871.3757,
          919.6095,
          866.297,
          931.0575,
          875.5116,
          916.66,
          871.0028,
          879.0085,
          925.349,
          999.6098,
          929.0345,
          970.2411,
          966.8241,
          948.3884,
          944.2558,
          911.6828,
          913.1153,
          919.3424,
          966.7573,
          978.18,
          953.4361,
          967.1234,
          929.787,
          1003.1962,
          926.8989,
          987.1257,
          1014.2152,
          1048.3462,
          951.1036,
          943.2749,
          978.673,
          1035.8088,
          1067.3548,
          1077.5936,
          975.2541,
          992.621,
          1035.0225,
          1092.1079,
          1017.7526,
          1079.0567,
          1021.1426,
          1043.6635,
          988.5407,
          933.6558,
          1022.1726,
          1027.3797,
          1027.4358,
          1033.0693,
          997.0649,
          998.0879,
          1051.8826,
          1017.1948,
          1080.7712,
          1053.874,
          1048.6381,
          1038.2637,
          1087.7811,
          1112.0381,
          1076.4082,
          1075.4888,
          1091.4068,
          1126.4928,
          1095.5467,
          1204.3113,
          1124.2993,
          1138.0917,
          1183.0682,
          1227.0317,
          1241.4958,
          1197.8642,
          1208.1718,
          1178.0903,
          1201.985,
          1213.9324,
          1118.9277,
          1196.9506,
          1243.1593,
          1263.6012,
          1222.6659,
          1367.8895,
          1275.842,
          1234.6169,
          1184.6389,
          1204.4914,
          1104.2187,
          1201.1194,
          1189.7436,
          1245.9478,
          1137.4173,
          1164.1647,
          1205.0354,
          1217.9027,
          1180.9631,
          1208.2809,
          1213.4664,
          1156.5894,
          1265.9533,
          1179.1039,
          1212.5207,
          1256.2086,
          1169.7132,
          1212.6011,
          1203.852,
          1227.8802,
          1176.9465,
          1187.929,
          1281.6898,
          1305.7054,
          1274.6749,
          1302.8516,
          1269.5909,
          1286.9019,
          1266.8936,
          1299.9846,
          1373.098,
          1338.6982,
          1397.3813,
          1295.3089,
          1369.7704,
          1367.1422,
          1268.7493,
          1290.8103,
          1340.4087,
          1381.6182,
          1284.5426,
          1391.3167,
          1456.4782,
          1510.6054,
          1510.6718,
          1395.3153,
          1353.0564,
          1285.5952,
          1316.8575,
          1313.8017,
          1325.8419,
          1312.5692,
          1431.4706,
          1365.8108,
          1397.9847,
          1321.2985,
          1338.5709,
          1432.1716,
          1304.2155,
          1390.0809,
          1362.5411,
          1463.5742,
          1487.7929,
          1500.6184,
          1467.4855,
          1575.3509,
          1443.5198,
          1402.2485,
          1423.2992,
          1406.3839,
          1457.4084,
          1494.1938,
          1377.4098,
          1363.7696,
          1342.0921,
          1395.4694,
          1292.4731,
          1379.6036,
          1380.2827,
          1423.3583,
          1441.4947,
          1457.2092,
          1569.3458,
          1502.9183,
          1518.7547,
          1534.2237,
          1508.8995,
          1523.6545,
          1603.7874,
          1556.8411,
          1505.6845,
          1436.8845,
          1460.9182,
          1531.8232,
          1524.0716,
          1453.225,
          1538.9961,
          1521.7251,
          1628.0592,
          1572.8277,
          1500.4521,
          1596.217,
          1608.7237,
          1636.3268,
          1560.6054,
          1574.7081,
          1712.3386,
          1691.3198,
          1612.1495,
          1542.163,
          1678.1701,
          1678.0179,
          1660.7187,
          1611.3876,
          1568.8479,
          1547.8667,
          1568.2591,
          1495.6442,
          1579.2108,
          1641.2719,
          1610.0698,
          1584.6468,
          1626.1716,
          1715.206,
          1615.7157,
          1635.8389,
          1716.6045,
          1688.7751,
          1580.3752,
          1732.1477,
          1668.8867,
          1801.414,
          1728.0075,
          1930.4951,
          1864.5488,
          1785.8594,
          1767.4741,
          1622.6257,
          1759.7719,
          1668.4331,
          1626.4849,
          1690.4697,
          1712.6933,
          1639.0216,
          1669.6483,
          1695.3865,
          1640.1758,
          1756.7006,
          1722.5264,
          1613.3124,
          1768.5502,
          1826.7757,
          1712.026,
          1717.6276,
          1799.6994,
          1781.757,
          1973.1009,
          1885.3532810115544
         ]
        }
       ],
       "layout": {
        "showlegend": true,
        "template": {
         "data": {
          "bar": [
           {
            "error_x": {
             "color": "#2a3f5f"
            },
            "error_y": {
             "color": "#2a3f5f"
            },
            "marker": {
             "line": {
              "color": "#E5ECF6",
              "width": 0.5
             },
             "pattern": {
              "fillmode": "overlay",
              "size": 10,
              "solidity": 0.2
             }
            },
            "type": "bar"
           }
          ],
          "barpolar": [
           {
            "marker": {
             "line": {
              "color": "#E5ECF6",
              "width": 0.5
             },
             "pattern": {
              "fillmode": "overlay",
              "size": 10,
              "solidity": 0.2
             }
            },
            "type": "barpolar"
           }
          ],
          "carpet": [
           {
            "aaxis": {
             "endlinecolor": "#2a3f5f",
             "gridcolor": "white",
             "linecolor": "white",
             "minorgridcolor": "white",
             "startlinecolor": "#2a3f5f"
            },
            "baxis": {
             "endlinecolor": "#2a3f5f",
             "gridcolor": "white",
             "linecolor": "white",
             "minorgridcolor": "white",
             "startlinecolor": "#2a3f5f"
            },
            "type": "carpet"
           }
          ],
          "choropleth": [
           {
            "colorbar": {
             "outlinewidth": 0,
             "ticks": ""
            },
            "type": "choropleth"
           }
          ],
          "contour": [
           {
            "colorbar": {
             "outlinewidth": 0,
             "ticks": ""
            },
            "colorscale": [
             [
              0,
              "#0d0887"
             ],
             [
              0.1111111111111111,
              "#46039f"
             ],
             [
              0.2222222222222222,
              "#7201a8"
             ],
             [
              0.3333333333333333,
              "#9c179e"
             ],
             [
              0.4444444444444444,
              "#bd3786"
             ],
             [
              0.5555555555555556,
              "#d8576b"
             ],
             [
              0.6666666666666666,
              "#ed7953"
             ],
             [
              0.7777777777777778,
              "#fb9f3a"
             ],
             [
              0.8888888888888888,
              "#fdca26"
             ],
             [
              1,
              "#f0f921"
             ]
            ],
            "type": "contour"
           }
          ],
          "contourcarpet": [
           {
            "colorbar": {
             "outlinewidth": 0,
             "ticks": ""
            },
            "type": "contourcarpet"
           }
          ],
          "heatmap": [
           {
            "colorbar": {
             "outlinewidth": 0,
             "ticks": ""
            },
            "colorscale": [
             [
              0,
              "#0d0887"
             ],
             [
              0.1111111111111111,
              "#46039f"
             ],
             [
              0.2222222222222222,
              "#7201a8"
             ],
             [
              0.3333333333333333,
              "#9c179e"
             ],
             [
              0.4444444444444444,
              "#bd3786"
             ],
             [
              0.5555555555555556,
              "#d8576b"
             ],
             [
              0.6666666666666666,
              "#ed7953"
             ],
             [
              0.7777777777777778,
              "#fb9f3a"
             ],
             [
              0.8888888888888888,
              "#fdca26"
             ],
             [
              1,
              "#f0f921"
             ]
            ],
            "type": "heatmap"
           }
          ],
          "heatmapgl": [
           {
            "colorbar": {
             "outlinewidth": 0,
             "ticks": ""
            },
            "colorscale": [
             [
              0,
              "#0d0887"
             ],
             [
              0.1111111111111111,
              "#46039f"
             ],
             [
              0.2222222222222222,
              "#7201a8"
             ],
             [
              0.3333333333333333,
              "#9c179e"
             ],
             [
              0.4444444444444444,
              "#bd3786"
             ],
             [
              0.5555555555555556,
              "#d8576b"
             ],
             [
              0.6666666666666666,
              "#ed7953"
             ],
             [
              0.7777777777777778,
              "#fb9f3a"
             ],
             [
              0.8888888888888888,
              "#fdca26"
             ],
             [
              1,
              "#f0f921"
             ]
            ],
            "type": "heatmapgl"
           }
          ],
          "histogram": [
           {
            "marker": {
             "pattern": {
              "fillmode": "overlay",
              "size": 10,
              "solidity": 0.2
             }
            },
            "type": "histogram"
           }
          ],
          "histogram2d": [
           {
            "colorbar": {
             "outlinewidth": 0,
             "ticks": ""
            },
            "colorscale": [
             [
              0,
              "#0d0887"
             ],
             [
              0.1111111111111111,
              "#46039f"
             ],
             [
              0.2222222222222222,
              "#7201a8"
             ],
             [
              0.3333333333333333,
              "#9c179e"
             ],
             [
              0.4444444444444444,
              "#bd3786"
             ],
             [
              0.5555555555555556,
              "#d8576b"
             ],
             [
              0.6666666666666666,
              "#ed7953"
             ],
             [
              0.7777777777777778,
              "#fb9f3a"
             ],
             [
              0.8888888888888888,
              "#fdca26"
             ],
             [
              1,
              "#f0f921"
             ]
            ],
            "type": "histogram2d"
           }
          ],
          "histogram2dcontour": [
           {
            "colorbar": {
             "outlinewidth": 0,
             "ticks": ""
            },
            "colorscale": [
             [
              0,
              "#0d0887"
             ],
             [
              0.1111111111111111,
              "#46039f"
             ],
             [
              0.2222222222222222,
              "#7201a8"
             ],
             [
              0.3333333333333333,
              "#9c179e"
             ],
             [
              0.4444444444444444,
              "#bd3786"
             ],
             [
              0.5555555555555556,
              "#d8576b"
             ],
             [
              0.6666666666666666,
              "#ed7953"
             ],
             [
              0.7777777777777778,
              "#fb9f3a"
             ],
             [
              0.8888888888888888,
              "#fdca26"
             ],
             [
              1,
              "#f0f921"
             ]
            ],
            "type": "histogram2dcontour"
           }
          ],
          "mesh3d": [
           {
            "colorbar": {
             "outlinewidth": 0,
             "ticks": ""
            },
            "type": "mesh3d"
           }
          ],
          "parcoords": [
           {
            "line": {
             "colorbar": {
              "outlinewidth": 0,
              "ticks": ""
             }
            },
            "type": "parcoords"
           }
          ],
          "pie": [
           {
            "automargin": true,
            "type": "pie"
           }
          ],
          "scatter": [
           {
            "fillpattern": {
             "fillmode": "overlay",
             "size": 10,
             "solidity": 0.2
            },
            "type": "scatter"
           }
          ],
          "scatter3d": [
           {
            "line": {
             "colorbar": {
              "outlinewidth": 0,
              "ticks": ""
             }
            },
            "marker": {
             "colorbar": {
              "outlinewidth": 0,
              "ticks": ""
             }
            },
            "type": "scatter3d"
           }
          ],
          "scattercarpet": [
           {
            "marker": {
             "colorbar": {
              "outlinewidth": 0,
              "ticks": ""
             }
            },
            "type": "scattercarpet"
           }
          ],
          "scattergeo": [
           {
            "marker": {
             "colorbar": {
              "outlinewidth": 0,
              "ticks": ""
             }
            },
            "type": "scattergeo"
           }
          ],
          "scattergl": [
           {
            "marker": {
             "colorbar": {
              "outlinewidth": 0,
              "ticks": ""
             }
            },
            "type": "scattergl"
           }
          ],
          "scattermapbox": [
           {
            "marker": {
             "colorbar": {
              "outlinewidth": 0,
              "ticks": ""
             }
            },
            "type": "scattermapbox"
           }
          ],
          "scatterpolar": [
           {
            "marker": {
             "colorbar": {
              "outlinewidth": 0,
              "ticks": ""
             }
            },
            "type": "scatterpolar"
           }
          ],
          "scatterpolargl": [
           {
            "marker": {
             "colorbar": {
              "outlinewidth": 0,
              "ticks": ""
             }
            },
            "type": "scatterpolargl"
           }
          ],
          "scatterternary": [
           {
            "marker": {
             "colorbar": {
              "outlinewidth": 0,
              "ticks": ""
             }
            },
            "type": "scatterternary"
           }
          ],
          "surface": [
           {
            "colorbar": {
             "outlinewidth": 0,
             "ticks": ""
            },
            "colorscale": [
             [
              0,
              "#0d0887"
             ],
             [
              0.1111111111111111,
              "#46039f"
             ],
             [
              0.2222222222222222,
              "#7201a8"
             ],
             [
              0.3333333333333333,
              "#9c179e"
             ],
             [
              0.4444444444444444,
              "#bd3786"
             ],
             [
              0.5555555555555556,
              "#d8576b"
             ],
             [
              0.6666666666666666,
              "#ed7953"
             ],
             [
              0.7777777777777778,
              "#fb9f3a"
             ],
             [
              0.8888888888888888,
              "#fdca26"
             ],
             [
              1,
              "#f0f921"
             ]
            ],
            "type": "surface"
           }
          ],
          "table": [
           {
            "cells": {
             "fill": {
              "color": "#EBF0F8"
             },
             "line": {
              "color": "white"
             }
            },
            "header": {
             "fill": {
              "color": "#C8D4E3"
             },
             "line": {
              "color": "white"
             }
            },
            "type": "table"
           }
          ]
         },
         "layout": {
          "annotationdefaults": {
           "arrowcolor": "#2a3f5f",
           "arrowhead": 0,
           "arrowwidth": 1
          },
          "autotypenumbers": "strict",
          "coloraxis": {
           "colorbar": {
            "outlinewidth": 0,
            "ticks": ""
           }
          },
          "colorscale": {
           "diverging": [
            [
             0,
             "#8e0152"
            ],
            [
             0.1,
             "#c51b7d"
            ],
            [
             0.2,
             "#de77ae"
            ],
            [
             0.3,
             "#f1b6da"
            ],
            [
             0.4,
             "#fde0ef"
            ],
            [
             0.5,
             "#f7f7f7"
            ],
            [
             0.6,
             "#e6f5d0"
            ],
            [
             0.7,
             "#b8e186"
            ],
            [
             0.8,
             "#7fbc41"
            ],
            [
             0.9,
             "#4d9221"
            ],
            [
             1,
             "#276419"
            ]
           ],
           "sequential": [
            [
             0,
             "#0d0887"
            ],
            [
             0.1111111111111111,
             "#46039f"
            ],
            [
             0.2222222222222222,
             "#7201a8"
            ],
            [
             0.3333333333333333,
             "#9c179e"
            ],
            [
             0.4444444444444444,
             "#bd3786"
            ],
            [
             0.5555555555555556,
             "#d8576b"
            ],
            [
             0.6666666666666666,
             "#ed7953"
            ],
            [
             0.7777777777777778,
             "#fb9f3a"
            ],
            [
             0.8888888888888888,
             "#fdca26"
            ],
            [
             1,
             "#f0f921"
            ]
           ],
           "sequentialminus": [
            [
             0,
             "#0d0887"
            ],
            [
             0.1111111111111111,
             "#46039f"
            ],
            [
             0.2222222222222222,
             "#7201a8"
            ],
            [
             0.3333333333333333,
             "#9c179e"
            ],
            [
             0.4444444444444444,
             "#bd3786"
            ],
            [
             0.5555555555555556,
             "#d8576b"
            ],
            [
             0.6666666666666666,
             "#ed7953"
            ],
            [
             0.7777777777777778,
             "#fb9f3a"
            ],
            [
             0.8888888888888888,
             "#fdca26"
            ],
            [
             1,
             "#f0f921"
            ]
           ]
          },
          "colorway": [
           "#636efa",
           "#EF553B",
           "#00cc96",
           "#ab63fa",
           "#FFA15A",
           "#19d3f3",
           "#FF6692",
           "#B6E880",
           "#FF97FF",
           "#FECB52"
          ],
          "font": {
           "color": "#2a3f5f"
          },
          "geo": {
           "bgcolor": "white",
           "lakecolor": "white",
           "landcolor": "#E5ECF6",
           "showlakes": true,
           "showland": true,
           "subunitcolor": "white"
          },
          "hoverlabel": {
           "align": "left"
          },
          "hovermode": "closest",
          "mapbox": {
           "style": "light"
          },
          "paper_bgcolor": "white",
          "plot_bgcolor": "#E5ECF6",
          "polar": {
           "angularaxis": {
            "gridcolor": "white",
            "linecolor": "white",
            "ticks": ""
           },
           "bgcolor": "#E5ECF6",
           "radialaxis": {
            "gridcolor": "white",
            "linecolor": "white",
            "ticks": ""
           }
          },
          "scene": {
           "xaxis": {
            "backgroundcolor": "#E5ECF6",
            "gridcolor": "white",
            "gridwidth": 2,
            "linecolor": "white",
            "showbackground": true,
            "ticks": "",
            "zerolinecolor": "white"
           },
           "yaxis": {
            "backgroundcolor": "#E5ECF6",
            "gridcolor": "white",
            "gridwidth": 2,
            "linecolor": "white",
            "showbackground": true,
            "ticks": "",
            "zerolinecolor": "white"
           },
           "zaxis": {
            "backgroundcolor": "#E5ECF6",
            "gridcolor": "white",
            "gridwidth": 2,
            "linecolor": "white",
            "showbackground": true,
            "ticks": "",
            "zerolinecolor": "white"
           }
          },
          "shapedefaults": {
           "line": {
            "color": "#2a3f5f"
           }
          },
          "ternary": {
           "aaxis": {
            "gridcolor": "white",
            "linecolor": "white",
            "ticks": ""
           },
           "baxis": {
            "gridcolor": "white",
            "linecolor": "white",
            "ticks": ""
           },
           "bgcolor": "#E5ECF6",
           "caxis": {
            "gridcolor": "white",
            "linecolor": "white",
            "ticks": ""
           }
          },
          "title": {
           "x": 0.05
          },
          "xaxis": {
           "automargin": true,
           "gridcolor": "white",
           "linecolor": "white",
           "ticks": "",
           "title": {
            "standoff": 15
           },
           "zerolinecolor": "white",
           "zerolinewidth": 2
          },
          "yaxis": {
           "automargin": true,
           "gridcolor": "white",
           "linecolor": "white",
           "ticks": "",
           "title": {
            "standoff": 15
           },
           "zerolinecolor": "white",
           "zerolinewidth": 2
          }
         }
        },
        "title": {
         "text": "Heatmap Queue size aux add"
        },
        "xaxis": {
         "title": {
          "text": "Queue size opposite"
         }
        },
        "yaxis": {
         "title": {
          "text": "Queue size same"
         }
        }
       }
      }
     },
     "metadata": {},
     "output_type": "display_data"
    },
    {
     "data": {
      "application/vnd.plotly.v1+json": {
       "config": {
        "plotlyServerURL": "https://plot.ly"
       },
       "data": [
        {
         "line": {
          "color": "blue"
         },
         "mode": "lines",
         "name": "same",
         "showlegend": true,
         "type": "scatter",
         "x": [
          "1970-01-01T14:09:48.912257",
          "1970-01-01T14:10:31.100991",
          "1970-01-01T14:11:13.859301",
          "1970-01-01T14:11:57.196730",
          "1970-01-01T14:12:40.981506",
          "1970-01-01T14:13:25.179789",
          "1970-01-01T14:14:09.709710",
          "1970-01-01T14:14:54.550017",
          "1970-01-01T14:15:39.946208",
          "1970-01-01T14:16:25.842230",
          "1970-01-01T14:17:12.145968",
          "1970-01-01T14:17:58.923495",
          "1970-01-01T14:18:45.925006",
          "1970-01-01T14:19:33.005955",
          "1970-01-01T14:20:20.245655",
          "1970-01-01T14:21:07.641794",
          "1970-01-01T14:21:55.253381",
          "1970-01-01T14:22:43.111407",
          "1970-01-01T14:23:31.247350",
          "1970-01-01T14:24:19.634376",
          "1970-01-01T14:25:08.135453",
          "1970-01-01T14:25:56.813647",
          "1970-01-01T14:26:45.580319",
          "1970-01-01T14:27:34.600956",
          "1970-01-01T14:28:23.897208",
          "1970-01-01T14:29:13.452440",
          "1970-01-01T14:30:03.181105",
          "1970-01-01T14:30:52.984334",
          "1970-01-01T14:31:42.792484",
          "1970-01-01T14:32:32.608389",
          "1970-01-01T14:33:22.628713",
          "1970-01-01T14:34:12.870552",
          "1970-01-01T14:35:03.241997",
          "1970-01-01T14:35:53.551642",
          "1970-01-01T14:36:43.834408",
          "1970-01-01T14:37:34.351117",
          "1970-01-01T14:38:24.929397",
          "1970-01-01T14:39:15.725423",
          "1970-01-01T14:40:06.631603",
          "1970-01-01T14:40:57.726612",
          "1970-01-01T14:41:49.093539",
          "1970-01-01T14:42:40.568607",
          "1970-01-01T14:43:32.321877",
          "1970-01-01T14:44:24.631348",
          "1970-01-01T14:45:17.394747",
          "1970-01-01T14:46:10.441203",
          "1970-01-01T14:47:03.480204",
          "1970-01-01T14:47:56.599532",
          "1970-01-01T14:48:50.003842",
          "1970-01-01T14:49:43.725698",
          "1970-01-01T14:50:37.988356",
          "1970-01-01T14:51:32.701140",
          "1970-01-01T14:52:27.804809",
          "1970-01-01T14:53:23.211069",
          "1970-01-01T14:54:19.093284",
          "1970-01-01T14:55:15.459764",
          "1970-01-01T14:56:12.127957",
          "1970-01-01T14:57:09.079459",
          "1970-01-01T14:58:06.482663",
          "1970-01-01T14:59:04.287902",
          "1970-01-01T15:00:02.587952",
          "1970-01-01T15:01:01.334635",
          "1970-01-01T15:02:00.460413",
          "1970-01-01T15:03:00.217211",
          "1970-01-01T15:04:00.669544",
          "1970-01-01T15:05:01.579276",
          "1970-01-01T15:06:03.185688",
          "1970-01-01T15:07:05.345389",
          "1970-01-01T15:08:07.883638",
          "1970-01-01T15:09:10.572456",
          "1970-01-01T15:10:13.411931",
          "1970-01-01T15:11:16.635713",
          "1970-01-01T15:12:20.316182",
          "1970-01-01T15:13:24.445916",
          "1970-01-01T15:14:28.845926",
          "1970-01-01T15:15:33.302996",
          "1970-01-01T15:16:38.052461",
          "1970-01-01T15:17:43.270289",
          "1970-01-01T15:18:48.937454",
          "1970-01-01T15:19:55.020772",
          "1970-01-01T15:21:01.570445",
          "1970-01-01T15:22:08.392368",
          "1970-01-01T15:23:15.672492",
          "1970-01-01T15:24:23.182243",
          "1970-01-01T15:25:30.838453",
          "1970-01-01T15:26:38.845552",
          "1970-01-01T15:27:47.453849",
          "1970-01-01T15:28:56.279046",
          "1970-01-01T15:30:05.507031",
          "1970-01-01T15:31:15.134563",
          "1970-01-01T15:32:25.110268",
          "1970-01-01T15:33:35.237206",
          "1970-01-01T15:34:45.590535",
          "1970-01-01T15:35:56.382267",
          "1970-01-01T15:37:07.693756",
          "1970-01-01T15:38:19.382222",
          "1970-01-01T15:39:31.307012",
          "1970-01-01T15:40:43.368414",
          "1970-01-01T15:41:55.654176",
          "1970-01-01T15:43:08.297765",
          "1970-01-01T15:44:21.259415",
          "1970-01-01T15:45:34.633621",
          "1970-01-01T15:46:48.275174",
          "1970-01-01T15:48:02.092618",
          "1970-01-01T15:49:16.347255",
          "1970-01-01T15:50:31.350668",
          "1970-01-01T15:51:47.180406",
          "1970-01-01T15:53:03.811141",
          "1970-01-01T15:54:21.010185",
          "1970-01-01T15:55:38.695185",
          "1970-01-01T15:56:56.568258",
          "1970-01-01T15:58:14.875077",
          "1970-01-01T15:59:33.607446",
          "1970-01-01T16:00:52.927785",
          "1970-01-01T16:02:12.744819",
          "1970-01-01T16:03:32.856952",
          "1970-01-01T16:04:53.207236",
          "1970-01-01T16:06:14.391221",
          "1970-01-01T16:07:36.081103",
          "1970-01-01T16:08:58.307388",
          "1970-01-01T16:10:20.703154",
          "1970-01-01T16:11:43.464706",
          "1970-01-01T16:13:06.533062",
          "1970-01-01T16:14:29.963929",
          "1970-01-01T16:15:53.347390",
          "1970-01-01T16:17:17.161807",
          "1970-01-01T16:18:41.416281",
          "1970-01-01T16:20:06.392852",
          "1970-01-01T16:21:31.610774",
          "1970-01-01T16:22:57.405422",
          "1970-01-01T16:24:23.773940",
          "1970-01-01T16:25:50.525907",
          "1970-01-01T16:27:17.768757",
          "1970-01-01T16:28:45.445305",
          "1970-01-01T16:30:13.530119",
          "1970-01-01T16:31:41.934334",
          "1970-01-01T16:33:10.722922",
          "1970-01-01T16:34:39.670175",
          "1970-01-01T16:36:08.825713",
          "1970-01-01T16:37:38.298377",
          "1970-01-01T16:39:07.988574",
          "1970-01-01T16:40:37.847627",
          "1970-01-01T16:42:07.936724",
          "1970-01-01T16:43:38.232566",
          "1970-01-01T16:45:08.809817",
          "1970-01-01T16:46:39.869700",
          "1970-01-01T16:48:11.096682",
          "1970-01-01T16:49:42.481589",
          "1970-01-01T16:51:14.377357",
          "1970-01-01T16:52:46.506513",
          "1970-01-01T16:54:18.993805",
          "1970-01-01T16:55:51.936134",
          "1970-01-01T16:57:25.209079",
          "1970-01-01T16:58:58.695614",
          "1970-01-01T17:00:32.856539",
          "1970-01-01T17:02:07.259757",
          "1970-01-01T17:03:41.824300",
          "1970-01-01T17:05:16.601867",
          "1970-01-01T17:06:51.771679",
          "1970-01-01T17:08:26.862931",
          "1970-01-01T17:10:02.039262",
          "1970-01-01T17:11:37.456499",
          "1970-01-01T17:13:12.776780",
          "1970-01-01T17:14:48.129534",
          "1970-01-01T17:16:23.714837",
          "1970-01-01T17:17:59.605130",
          "1970-01-01T17:19:35.412260",
          "1970-01-01T17:21:11.386359",
          "1970-01-01T17:22:47.627557",
          "1970-01-01T17:24:23.916498",
          "1970-01-01T17:26:00.609963",
          "1970-01-01T17:27:37.361728",
          "1970-01-01T17:29:14.161516",
          "1970-01-01T17:30:51.161556",
          "1970-01-01T17:32:28.343380",
          "1970-01-01T17:34:05.520851",
          "1970-01-01T17:35:43.124018",
          "1970-01-01T17:37:20.372381",
          "1970-01-01T17:38:56.947227",
          "1970-01-01T17:40:33.295371",
          "1970-01-01T17:42:09.832138",
          "1970-01-01T17:43:46.624861",
          "1970-01-01T17:45:23.691039",
          "1970-01-01T17:47:00.833279",
          "1970-01-01T17:48:37.874059",
          "1970-01-01T17:50:14.732974",
          "1970-01-01T17:51:51.500896",
          "1970-01-01T17:53:27.913352",
          "1970-01-01T17:55:04.453834",
          "1970-01-01T17:56:41.512197",
          "1970-01-01T17:58:18.726475",
          "1970-01-01T17:59:55.740344",
          "1970-01-01T18:01:32.970480",
          "1970-01-01T18:03:10.269395",
          "1970-01-01T18:04:47.261963",
          "1970-01-01T18:06:23.856910",
          "1970-01-01T18:08:00.051948",
          "1970-01-01T18:09:36.138209",
          "1970-01-01T18:11:12.061147",
          "1970-01-01T18:12:47.940208",
          "1970-01-01T18:14:23.655606",
          "1970-01-01T18:15:59.529092",
          "1970-01-01T18:17:35.724370",
          "1970-01-01T18:19:11.856363",
          "1970-01-01T18:20:47.888371",
          "1970-01-01T18:22:23.761268",
          "1970-01-01T18:23:59.035807",
          "1970-01-01T18:25:34.541773",
          "1970-01-01T18:27:10.392985",
          "1970-01-01T18:28:46.154692",
          "1970-01-01T18:30:21.771618",
          "1970-01-01T18:31:57.134920",
          "1970-01-01T18:33:32.379887",
          "1970-01-01T18:35:07.515080",
          "1970-01-01T18:36:14.475247",
          "1970-01-01T18:37:01.826554",
          "1970-01-01T18:37:49.287619",
          "1970-01-01T18:38:36.862836",
          "1970-01-01T18:39:24.320642",
          "1970-01-01T18:40:11.403582",
          "1970-01-01T18:40:58.315890",
          "1970-01-01T18:41:45.236826",
          "1970-01-01T18:42:32.006610",
          "1970-01-01T18:43:18.756832",
          "1970-01-01T18:44:05.674197",
          "1970-01-01T18:44:52.880952",
          "1970-01-01T18:45:40.813299",
          "1970-01-01T18:46:28.753895",
          "1970-01-01T18:47:16.690014",
          "1970-01-01T18:48:04.601149",
          "1970-01-01T18:48:52.360603",
          "1970-01-01T18:49:40.060766",
          "1970-01-01T18:50:27.027827",
          "1970-01-01T18:51:13.831101",
          "1970-01-01T18:52:00.624879",
          "1970-01-01T18:52:47.384140",
          "1970-01-01T18:53:34.842269",
          "1970-01-01T18:54:22.405872",
          "1970-01-01T18:55:09.883895",
          "1970-01-01T18:55:58.477021",
          "1970-01-01T18:56:47.597976",
          "1970-01-01T18:57:37.072784",
          "1970-01-01T18:58:26.605485",
          "1970-01-01T18:59:16.187129"
         ],
         "y": [
          600.88022,
          608.2896,
          611.9516566666666,
          615.38554,
          621.4523033333334,
          628.3314033333334,
          634.7569766666667,
          641.10086,
          646.9164466666666,
          652.7082833333334,
          656.79326,
          661.34045,
          666.8993933333334,
          669.3693466666666,
          676.8286566666667,
          681.77907,
          686.4287633333333,
          691.9437033333334,
          696.4169033333334,
          696.57478,
          702.1483333333333,
          706.70952,
          710.55622,
          714.98531,
          719.9062866666667,
          722.5691,
          725.7899566666666,
          730.2727066666666,
          736.2247,
          737.53523,
          739.9497366666667,
          743.3728633333334,
          750.0708566666667,
          755.9465266666666,
          759.2339433333333,
          761.31591,
          767.9504733333333,
          771.66881,
          776.2821,
          779.4598366666667,
          784.5156266666667,
          786.26905,
          784.9762533333334,
          788.85186,
          789.52999,
          792.05808,
          793.3597466666666,
          794.5035833333334,
          797.9039866666667,
          800.7943333333334,
          803.8749566666667,
          806.9270333333334,
          809.3361233333334,
          812.1499133333333,
          815.7818866666667,
          820.35624,
          823.96608,
          825.80431,
          829.2479666666667,
          835.1987566666667,
          839.5278566666667,
          842.94021,
          846.1625166666666,
          851.9022033333333,
          858.62643,
          864.7762433333334,
          867.0950833333334,
          870.7593833333333,
          877.79721,
          881.6864866666666,
          887.0006166666667,
          895.6545066666666,
          903.8276433333332,
          912.2008466666666,
          920.6735433333332,
          925.86391,
          932.4170466666668,
          937.1359066666666,
          941.2281166666668,
          945.9641766666666,
          950.3553033333334,
          953.71442,
          957.14325,
          961.8742166666668,
          964.0367966666666,
          966.8403333333332,
          971.04913,
          973.15497,
          976.1401566666668,
          977.7896866666666,
          980.9848966666668,
          982.22892,
          981.8921866666668,
          981.05219,
          981.1181866666668,
          981.1580666666666,
          981.97647,
          986.11093,
          985.9303,
          989.9957033333334,
          991.4129,
          992.4316966666668,
          993.1854766666668,
          992.6503766666668,
          995.0568,
          997.6507466666668,
          1002.54962,
          1007.6457466666668,
          1012.6744833333332,
          1015.1367966666668,
          1016.9867,
          1022.15541,
          1027.7791466666667,
          1031.8099366666668,
          1040.0302966666666,
          1047.6780633333333,
          1056.7087066666666,
          1063.30483,
          1065.4063333333334,
          1068.4853,
          1072.4079533333334,
          1076.92539,
          1079.31318,
          1085.0657333333334,
          1089.5914833333334,
          1095.2520433333334,
          1097.6394433333332,
          1102.4254466666666,
          1104.7777533333333,
          1107.6971633333333,
          1110.1288333333334,
          1116.1078666666667,
          1123.162373333333,
          1128.6363066666668,
          1133.1820666666667,
          1138.816,
          1140.3501933333334,
          1143.27132,
          1146.11774,
          1150.0829633333333,
          1155.677233333333,
          1155.6859566666667,
          1156.73072,
          1157.8462233333332,
          1154.3020066666666,
          1152.46349,
          1147.9203433333332,
          1149.5644266666666,
          1153.77713,
          1160.29001,
          1165.2419733333334,
          1170.41283,
          1177.71509,
          1182.0725733333334,
          1188.558716666667,
          1192.91402,
          1199.4142033333333,
          1198.11251,
          1202.4137466666666,
          1208.1393633333332,
          1211.6334933333333,
          1211.1404733333334,
          1212.4425833333332,
          1215.0440666666666,
          1215.1834666666666,
          1217.678586666667,
          1223.036653333333,
          1228.1982833333334,
          1231.9551666666666,
          1237.5222266666667,
          1244.7167833333333,
          1254.7584466666667,
          1260.9830833333333,
          1267.5839766666666,
          1276.2721333333334,
          1285.8819166666667,
          1291.7691266666666,
          1296.4961166666667,
          1298.85895,
          1300.3896366666668,
          1302.5505433333333,
          1306.6589566666669,
          1309.5264066666666,
          1311.59357,
          1314.143636666667,
          1317.1946466666666,
          1321.72189,
          1330.04161,
          1335.9831066666666,
          1336.9977266666667,
          1343.1412866666667,
          1354.2853966666669,
          1358.4066366666666,
          1368.3494333333333,
          1378.3042533333332,
          1383.2649566666666,
          1387.14081,
          1389.933626666667,
          1394.3547833333334,
          1396.0978066666669,
          1395.88399,
          1396.4320766666667,
          1398.536196666667,
          1400.66753,
          1401.4413166666666,
          1403.11126,
          1408.3205666666668,
          1410.06197,
          1418.500716666667,
          1424.81645,
          1428.30087,
          1432.0769933333331,
          1438.5374433333334,
          1447.6158833333334,
          1451.1542622638688,
          1454.197394726098,
          1456.4967276627413,
          1458.043624770934,
          1459.6572116671127,
          1464.6071703616317,
          1467.6095995147705,
          1463.4336370451017,
          1466.2742952418316,
          1459.0814585823748,
          1453.3399359146078,
          1453.641486888701,
          1454.1554710652667,
          1456.2099368739184,
          1457.7628604427834,
          1463.414492492159,
          1465.7134868322944,
          1469.6942295916724,
          1477.4638788601071,
          1483.3104518037574,
          1494.5007756385735,
          1497.6717152503686,
          1501.593461600734,
          1521.728445317861,
          1519.8472170892155,
          1526.8816529150422,
          1553.2032477429946,
          1580.6860175816885,
          1611.4575658826864,
          1580.1980077745384
         ]
        },
        {
         "line": {
          "color": "red"
         },
         "mode": "lines",
         "name": "Opposite",
         "showlegend": true,
         "type": "scatter",
         "x": [
          "1970-01-01T14:09:48.912257",
          "1970-01-01T14:10:31.100991",
          "1970-01-01T14:11:13.859301",
          "1970-01-01T14:11:57.196730",
          "1970-01-01T14:12:40.981506",
          "1970-01-01T14:13:25.179789",
          "1970-01-01T14:14:09.709710",
          "1970-01-01T14:14:54.550017",
          "1970-01-01T14:15:39.946208",
          "1970-01-01T14:16:25.842230",
          "1970-01-01T14:17:12.145968",
          "1970-01-01T14:17:58.923495",
          "1970-01-01T14:18:45.925006",
          "1970-01-01T14:19:33.005955",
          "1970-01-01T14:20:20.245655",
          "1970-01-01T14:21:07.641794",
          "1970-01-01T14:21:55.253381",
          "1970-01-01T14:22:43.111407",
          "1970-01-01T14:23:31.247350",
          "1970-01-01T14:24:19.634376",
          "1970-01-01T14:25:08.135453",
          "1970-01-01T14:25:56.813647",
          "1970-01-01T14:26:45.580319",
          "1970-01-01T14:27:34.600956",
          "1970-01-01T14:28:23.897208",
          "1970-01-01T14:29:13.452440",
          "1970-01-01T14:30:03.181105",
          "1970-01-01T14:30:52.984334",
          "1970-01-01T14:31:42.792484",
          "1970-01-01T14:32:32.608389",
          "1970-01-01T14:33:22.628713",
          "1970-01-01T14:34:12.870552",
          "1970-01-01T14:35:03.241997",
          "1970-01-01T14:35:53.551642",
          "1970-01-01T14:36:43.834408",
          "1970-01-01T14:37:34.351117",
          "1970-01-01T14:38:24.929397",
          "1970-01-01T14:39:15.725423",
          "1970-01-01T14:40:06.631603",
          "1970-01-01T14:40:57.726612",
          "1970-01-01T14:41:49.093539",
          "1970-01-01T14:42:40.568607",
          "1970-01-01T14:43:32.321877",
          "1970-01-01T14:44:24.631348",
          "1970-01-01T14:45:17.394747",
          "1970-01-01T14:46:10.441203",
          "1970-01-01T14:47:03.480204",
          "1970-01-01T14:47:56.599532",
          "1970-01-01T14:48:50.003842",
          "1970-01-01T14:49:43.725698",
          "1970-01-01T14:50:37.988356",
          "1970-01-01T14:51:32.701140",
          "1970-01-01T14:52:27.804809",
          "1970-01-01T14:53:23.211069",
          "1970-01-01T14:54:19.093284",
          "1970-01-01T14:55:15.459764",
          "1970-01-01T14:56:12.127957",
          "1970-01-01T14:57:09.079459",
          "1970-01-01T14:58:06.482663",
          "1970-01-01T14:59:04.287902",
          "1970-01-01T15:00:02.587952",
          "1970-01-01T15:01:01.334635",
          "1970-01-01T15:02:00.460413",
          "1970-01-01T15:03:00.217211",
          "1970-01-01T15:04:00.669544",
          "1970-01-01T15:05:01.579276",
          "1970-01-01T15:06:03.185688",
          "1970-01-01T15:07:05.345389",
          "1970-01-01T15:08:07.883638",
          "1970-01-01T15:09:10.572456",
          "1970-01-01T15:10:13.411931",
          "1970-01-01T15:11:16.635713",
          "1970-01-01T15:12:20.316182",
          "1970-01-01T15:13:24.445916",
          "1970-01-01T15:14:28.845926",
          "1970-01-01T15:15:33.302996",
          "1970-01-01T15:16:38.052461",
          "1970-01-01T15:17:43.270289",
          "1970-01-01T15:18:48.937454",
          "1970-01-01T15:19:55.020772",
          "1970-01-01T15:21:01.570445",
          "1970-01-01T15:22:08.392368",
          "1970-01-01T15:23:15.672492",
          "1970-01-01T15:24:23.182243",
          "1970-01-01T15:25:30.838453",
          "1970-01-01T15:26:38.845552",
          "1970-01-01T15:27:47.453849",
          "1970-01-01T15:28:56.279046",
          "1970-01-01T15:30:05.507031",
          "1970-01-01T15:31:15.134563",
          "1970-01-01T15:32:25.110268",
          "1970-01-01T15:33:35.237206",
          "1970-01-01T15:34:45.590535",
          "1970-01-01T15:35:56.382267",
          "1970-01-01T15:37:07.693756",
          "1970-01-01T15:38:19.382222",
          "1970-01-01T15:39:31.307012",
          "1970-01-01T15:40:43.368414",
          "1970-01-01T15:41:55.654176",
          "1970-01-01T15:43:08.297765",
          "1970-01-01T15:44:21.259415",
          "1970-01-01T15:45:34.633621",
          "1970-01-01T15:46:48.275174",
          "1970-01-01T15:48:02.092618",
          "1970-01-01T15:49:16.347255",
          "1970-01-01T15:50:31.350668",
          "1970-01-01T15:51:47.180406",
          "1970-01-01T15:53:03.811141",
          "1970-01-01T15:54:21.010185",
          "1970-01-01T15:55:38.695185",
          "1970-01-01T15:56:56.568258",
          "1970-01-01T15:58:14.875077",
          "1970-01-01T15:59:33.607446",
          "1970-01-01T16:00:52.927785",
          "1970-01-01T16:02:12.744819",
          "1970-01-01T16:03:32.856952",
          "1970-01-01T16:04:53.207236",
          "1970-01-01T16:06:14.391221",
          "1970-01-01T16:07:36.081103",
          "1970-01-01T16:08:58.307388",
          "1970-01-01T16:10:20.703154",
          "1970-01-01T16:11:43.464706",
          "1970-01-01T16:13:06.533062",
          "1970-01-01T16:14:29.963929",
          "1970-01-01T16:15:53.347390",
          "1970-01-01T16:17:17.161807",
          "1970-01-01T16:18:41.416281",
          "1970-01-01T16:20:06.392852",
          "1970-01-01T16:21:31.610774",
          "1970-01-01T16:22:57.405422",
          "1970-01-01T16:24:23.773940",
          "1970-01-01T16:25:50.525907",
          "1970-01-01T16:27:17.768757",
          "1970-01-01T16:28:45.445305",
          "1970-01-01T16:30:13.530119",
          "1970-01-01T16:31:41.934334",
          "1970-01-01T16:33:10.722922",
          "1970-01-01T16:34:39.670175",
          "1970-01-01T16:36:08.825713",
          "1970-01-01T16:37:38.298377",
          "1970-01-01T16:39:07.988574",
          "1970-01-01T16:40:37.847627",
          "1970-01-01T16:42:07.936724",
          "1970-01-01T16:43:38.232566",
          "1970-01-01T16:45:08.809817",
          "1970-01-01T16:46:39.869700",
          "1970-01-01T16:48:11.096682",
          "1970-01-01T16:49:42.481589",
          "1970-01-01T16:51:14.377357",
          "1970-01-01T16:52:46.506513",
          "1970-01-01T16:54:18.993805",
          "1970-01-01T16:55:51.936134",
          "1970-01-01T16:57:25.209079",
          "1970-01-01T16:58:58.695614",
          "1970-01-01T17:00:32.856539",
          "1970-01-01T17:02:07.259757",
          "1970-01-01T17:03:41.824300",
          "1970-01-01T17:05:16.601867",
          "1970-01-01T17:06:51.771679",
          "1970-01-01T17:08:26.862931",
          "1970-01-01T17:10:02.039262",
          "1970-01-01T17:11:37.456499",
          "1970-01-01T17:13:12.776780",
          "1970-01-01T17:14:48.129534",
          "1970-01-01T17:16:23.714837",
          "1970-01-01T17:17:59.605130",
          "1970-01-01T17:19:35.412260",
          "1970-01-01T17:21:11.386359",
          "1970-01-01T17:22:47.627557",
          "1970-01-01T17:24:23.916498",
          "1970-01-01T17:26:00.609963",
          "1970-01-01T17:27:37.361728",
          "1970-01-01T17:29:14.161516",
          "1970-01-01T17:30:51.161556",
          "1970-01-01T17:32:28.343380",
          "1970-01-01T17:34:05.520851",
          "1970-01-01T17:35:43.124018",
          "1970-01-01T17:37:20.372381",
          "1970-01-01T17:38:56.947227",
          "1970-01-01T17:40:33.295371",
          "1970-01-01T17:42:09.832138",
          "1970-01-01T17:43:46.624861",
          "1970-01-01T17:45:23.691039",
          "1970-01-01T17:47:00.833279",
          "1970-01-01T17:48:37.874059",
          "1970-01-01T17:50:14.732974",
          "1970-01-01T17:51:51.500896",
          "1970-01-01T17:53:27.913352",
          "1970-01-01T17:55:04.453834",
          "1970-01-01T17:56:41.512197",
          "1970-01-01T17:58:18.726475",
          "1970-01-01T17:59:55.740344",
          "1970-01-01T18:01:32.970480",
          "1970-01-01T18:03:10.269395",
          "1970-01-01T18:04:47.261963",
          "1970-01-01T18:06:23.856910",
          "1970-01-01T18:08:00.051948",
          "1970-01-01T18:09:36.138209",
          "1970-01-01T18:11:12.061147",
          "1970-01-01T18:12:47.940208",
          "1970-01-01T18:14:23.655606",
          "1970-01-01T18:15:59.529092",
          "1970-01-01T18:17:35.724370",
          "1970-01-01T18:19:11.856363",
          "1970-01-01T18:20:47.888371",
          "1970-01-01T18:22:23.761268",
          "1970-01-01T18:23:59.035807",
          "1970-01-01T18:25:34.541773",
          "1970-01-01T18:27:10.392985",
          "1970-01-01T18:28:46.154692",
          "1970-01-01T18:30:21.771618",
          "1970-01-01T18:31:57.134920",
          "1970-01-01T18:33:32.379887",
          "1970-01-01T18:35:07.515080",
          "1970-01-01T18:36:14.475247",
          "1970-01-01T18:37:01.826554",
          "1970-01-01T18:37:49.287619",
          "1970-01-01T18:38:36.862836",
          "1970-01-01T18:39:24.320642",
          "1970-01-01T18:40:11.403582",
          "1970-01-01T18:40:58.315890",
          "1970-01-01T18:41:45.236826",
          "1970-01-01T18:42:32.006610",
          "1970-01-01T18:43:18.756832",
          "1970-01-01T18:44:05.674197",
          "1970-01-01T18:44:52.880952",
          "1970-01-01T18:45:40.813299",
          "1970-01-01T18:46:28.753895",
          "1970-01-01T18:47:16.690014",
          "1970-01-01T18:48:04.601149",
          "1970-01-01T18:48:52.360603",
          "1970-01-01T18:49:40.060766",
          "1970-01-01T18:50:27.027827",
          "1970-01-01T18:51:13.831101",
          "1970-01-01T18:52:00.624879",
          "1970-01-01T18:52:47.384140",
          "1970-01-01T18:53:34.842269",
          "1970-01-01T18:54:22.405872",
          "1970-01-01T18:55:09.883895",
          "1970-01-01T18:55:58.477021",
          "1970-01-01T18:56:47.597976",
          "1970-01-01T18:57:37.072784",
          "1970-01-01T18:58:26.605485",
          "1970-01-01T18:59:16.187129"
         ],
         "y": [
          513.0132133333333,
          517.9560366666667,
          520.86542,
          521.9994166666667,
          526.6943866666667,
          530.9521966666666,
          536.1885266666667,
          541.4961333333333,
          545.67198,
          550.5157333333333,
          554.04889,
          558.3460933333333,
          563.2635333333334,
          565.94539,
          572.7107766666667,
          576.2457733333333,
          581.68044,
          585.9592833333334,
          588.76782,
          590.3437533333333,
          593.7570166666667,
          598.2915733333333,
          601.4170966666667,
          604.75563,
          607.80176,
          610.49466,
          613.4846666666666,
          617.0504,
          621.4210266666666,
          623.2319733333334,
          623.8974266666667,
          627.70788,
          632.53432,
          638.8674966666666,
          641.9324133333333,
          644.55606,
          652.2263133333333,
          654.94522,
          658.46553,
          661.46521,
          665.60963,
          666.6019966666667,
          666.31713,
          669.2430533333334,
          668.79034,
          671.0671666666667,
          671.8458333333333,
          672.80586,
          675.3674866666667,
          678.0980033333333,
          680.7648033333334,
          682.2405633333333,
          684.3627733333333,
          686.5556766666666,
          689.8812966666667,
          693.0427133333334,
          695.9994333333333,
          697.5078566666666,
          699.36639,
          704.6328533333333,
          709.2444466666667,
          711.8198133333333,
          714.31607,
          717.6114366666667,
          722.7287933333333,
          727.7599966666667,
          727.7201233333333,
          730.27761,
          735.3850866666667,
          737.9234366666667,
          740.8833466666666,
          746.6857866666667,
          752.8589633333333,
          759.18435,
          765.2938,
          769.30218,
          772.74837,
          777.40835,
          779.79128,
          783.7795,
          787.6851066666667,
          791.1990066666667,
          795.52174,
          800.8458233333333,
          802.4719333333334,
          805.6389666666666,
          808.2742333333333,
          809.83756,
          811.7183566666666,
          813.53303,
          815.09602,
          816.58896,
          816.705,
          816.28876,
          815.8970566666667,
          815.7504233333333,
          816.1243966666667,
          820.06146,
          819.8239033333333,
          822.9232233333333,
          825.4757766666667,
          826.8911533333334,
          828.06901,
          827.5822066666667,
          831.3772933333333,
          834.41313,
          839.1617333333334,
          843.2905466666666,
          848.5485166666666,
          850.6373933333333,
          852.5304366666667,
          857.1084266666667,
          860.21224,
          862.37295,
          868.1600533333333,
          873.38405,
          879.9247933333334,
          885.4089566666667,
          888.6188166666667,
          890.16413,
          892.6731766666667,
          895.69411,
          898.9085966666667,
          904.73977,
          909.27258,
          913.1822766666668,
          915.3649666666666,
          917.3479233333334,
          919.1502133333332,
          920.63461,
          922.18688,
          925.8898233333332,
          929.5430433333332,
          933.7123666666666,
          935.8610166666666,
          940.19339,
          941.8530233333332,
          943.4310633333332,
          945.1113166666668,
          949.5045566666666,
          953.0413933333332,
          952.67555,
          954.1543033333334,
          954.3611666666668,
          953.4186433333332,
          952.0228233333332,
          949.9970933333332,
          952.74927,
          957.43567,
          961.6206766666668,
          966.1337666666668,
          970.4901233333334,
          974.19347,
          975.8042766666666,
          980.54299,
          984.4602466666666,
          988.70355,
          990.55547,
          993.8151533333332,
          998.9670266666668,
          1000.95946,
          1002.3780333333332,
          1005.52731,
          1008.0303633333332,
          1008.9066066666668,
          1008.8007433333332,
          1013.5492633333332,
          1017.9411733333334,
          1022.3591266666666,
          1025.01079,
          1030.3288966666669,
          1036.9896633333333,
          1041.1175133333334,
          1045.5526133333333,
          1054.16563,
          1060.9563033333334,
          1065.3830433333333,
          1068.5028433333334,
          1068.9403666666667,
          1071.3588,
          1073.4059866666666,
          1076.29985,
          1078.30837,
          1079.4819333333332,
          1081.6459533333334,
          1084.1367,
          1087.6681,
          1093.8726266666667,
          1097.9321633333334,
          1097.5914766666667,
          1102.8258966666667,
          1110.1011,
          1114.2584233333334,
          1120.6385166666666,
          1128.197233333333,
          1133.36034,
          1135.4495166666666,
          1136.9542633333333,
          1139.38705,
          1141.116263333333,
          1140.74219,
          1139.6136066666666,
          1141.0651566666666,
          1144.603836666667,
          1142.5923566666668,
          1143.363113333333,
          1144.97071,
          1146.669756666667,
          1151.8656466666666,
          1155.2127266666666,
          1158.4205466666667,
          1161.6204466666666,
          1169.0785433333333,
          1177.0944633333334,
          1179.492373757293,
          1181.0520350842614,
          1182.3770593471377,
          1181.8059716185312,
          1184.094460797431,
          1189.13358403382,
          1191.2302619214406,
          1189.0201368933945,
          1188.5016626501522,
          1184.4219169491855,
          1179.4125935007933,
          1179.6273056116795,
          1179.9761882882676,
          1181.4264544590412,
          1181.6825767603625,
          1184.6304157761804,
          1187.5739732768648,
          1195.5232202133488,
          1201.880700340005,
          1205.476795113143,
          1214.3083747715584,
          1220.446217128727,
          1232.0181472286686,
          1243.2149853390729,
          1247.1460381402912,
          1260.037084051138,
          1280.725495368742,
          1306.88799966827,
          1309.035349957495,
          1276.878279883382
         ]
        }
       ],
       "layout": {
        "showlegend": true,
        "template": {
         "data": {
          "bar": [
           {
            "error_x": {
             "color": "#2a3f5f"
            },
            "error_y": {
             "color": "#2a3f5f"
            },
            "marker": {
             "line": {
              "color": "#E5ECF6",
              "width": 0.5
             },
             "pattern": {
              "fillmode": "overlay",
              "size": 10,
              "solidity": 0.2
             }
            },
            "type": "bar"
           }
          ],
          "barpolar": [
           {
            "marker": {
             "line": {
              "color": "#E5ECF6",
              "width": 0.5
             },
             "pattern": {
              "fillmode": "overlay",
              "size": 10,
              "solidity": 0.2
             }
            },
            "type": "barpolar"
           }
          ],
          "carpet": [
           {
            "aaxis": {
             "endlinecolor": "#2a3f5f",
             "gridcolor": "white",
             "linecolor": "white",
             "minorgridcolor": "white",
             "startlinecolor": "#2a3f5f"
            },
            "baxis": {
             "endlinecolor": "#2a3f5f",
             "gridcolor": "white",
             "linecolor": "white",
             "minorgridcolor": "white",
             "startlinecolor": "#2a3f5f"
            },
            "type": "carpet"
           }
          ],
          "choropleth": [
           {
            "colorbar": {
             "outlinewidth": 0,
             "ticks": ""
            },
            "type": "choropleth"
           }
          ],
          "contour": [
           {
            "colorbar": {
             "outlinewidth": 0,
             "ticks": ""
            },
            "colorscale": [
             [
              0,
              "#0d0887"
             ],
             [
              0.1111111111111111,
              "#46039f"
             ],
             [
              0.2222222222222222,
              "#7201a8"
             ],
             [
              0.3333333333333333,
              "#9c179e"
             ],
             [
              0.4444444444444444,
              "#bd3786"
             ],
             [
              0.5555555555555556,
              "#d8576b"
             ],
             [
              0.6666666666666666,
              "#ed7953"
             ],
             [
              0.7777777777777778,
              "#fb9f3a"
             ],
             [
              0.8888888888888888,
              "#fdca26"
             ],
             [
              1,
              "#f0f921"
             ]
            ],
            "type": "contour"
           }
          ],
          "contourcarpet": [
           {
            "colorbar": {
             "outlinewidth": 0,
             "ticks": ""
            },
            "type": "contourcarpet"
           }
          ],
          "heatmap": [
           {
            "colorbar": {
             "outlinewidth": 0,
             "ticks": ""
            },
            "colorscale": [
             [
              0,
              "#0d0887"
             ],
             [
              0.1111111111111111,
              "#46039f"
             ],
             [
              0.2222222222222222,
              "#7201a8"
             ],
             [
              0.3333333333333333,
              "#9c179e"
             ],
             [
              0.4444444444444444,
              "#bd3786"
             ],
             [
              0.5555555555555556,
              "#d8576b"
             ],
             [
              0.6666666666666666,
              "#ed7953"
             ],
             [
              0.7777777777777778,
              "#fb9f3a"
             ],
             [
              0.8888888888888888,
              "#fdca26"
             ],
             [
              1,
              "#f0f921"
             ]
            ],
            "type": "heatmap"
           }
          ],
          "heatmapgl": [
           {
            "colorbar": {
             "outlinewidth": 0,
             "ticks": ""
            },
            "colorscale": [
             [
              0,
              "#0d0887"
             ],
             [
              0.1111111111111111,
              "#46039f"
             ],
             [
              0.2222222222222222,
              "#7201a8"
             ],
             [
              0.3333333333333333,
              "#9c179e"
             ],
             [
              0.4444444444444444,
              "#bd3786"
             ],
             [
              0.5555555555555556,
              "#d8576b"
             ],
             [
              0.6666666666666666,
              "#ed7953"
             ],
             [
              0.7777777777777778,
              "#fb9f3a"
             ],
             [
              0.8888888888888888,
              "#fdca26"
             ],
             [
              1,
              "#f0f921"
             ]
            ],
            "type": "heatmapgl"
           }
          ],
          "histogram": [
           {
            "marker": {
             "pattern": {
              "fillmode": "overlay",
              "size": 10,
              "solidity": 0.2
             }
            },
            "type": "histogram"
           }
          ],
          "histogram2d": [
           {
            "colorbar": {
             "outlinewidth": 0,
             "ticks": ""
            },
            "colorscale": [
             [
              0,
              "#0d0887"
             ],
             [
              0.1111111111111111,
              "#46039f"
             ],
             [
              0.2222222222222222,
              "#7201a8"
             ],
             [
              0.3333333333333333,
              "#9c179e"
             ],
             [
              0.4444444444444444,
              "#bd3786"
             ],
             [
              0.5555555555555556,
              "#d8576b"
             ],
             [
              0.6666666666666666,
              "#ed7953"
             ],
             [
              0.7777777777777778,
              "#fb9f3a"
             ],
             [
              0.8888888888888888,
              "#fdca26"
             ],
             [
              1,
              "#f0f921"
             ]
            ],
            "type": "histogram2d"
           }
          ],
          "histogram2dcontour": [
           {
            "colorbar": {
             "outlinewidth": 0,
             "ticks": ""
            },
            "colorscale": [
             [
              0,
              "#0d0887"
             ],
             [
              0.1111111111111111,
              "#46039f"
             ],
             [
              0.2222222222222222,
              "#7201a8"
             ],
             [
              0.3333333333333333,
              "#9c179e"
             ],
             [
              0.4444444444444444,
              "#bd3786"
             ],
             [
              0.5555555555555556,
              "#d8576b"
             ],
             [
              0.6666666666666666,
              "#ed7953"
             ],
             [
              0.7777777777777778,
              "#fb9f3a"
             ],
             [
              0.8888888888888888,
              "#fdca26"
             ],
             [
              1,
              "#f0f921"
             ]
            ],
            "type": "histogram2dcontour"
           }
          ],
          "mesh3d": [
           {
            "colorbar": {
             "outlinewidth": 0,
             "ticks": ""
            },
            "type": "mesh3d"
           }
          ],
          "parcoords": [
           {
            "line": {
             "colorbar": {
              "outlinewidth": 0,
              "ticks": ""
             }
            },
            "type": "parcoords"
           }
          ],
          "pie": [
           {
            "automargin": true,
            "type": "pie"
           }
          ],
          "scatter": [
           {
            "fillpattern": {
             "fillmode": "overlay",
             "size": 10,
             "solidity": 0.2
            },
            "type": "scatter"
           }
          ],
          "scatter3d": [
           {
            "line": {
             "colorbar": {
              "outlinewidth": 0,
              "ticks": ""
             }
            },
            "marker": {
             "colorbar": {
              "outlinewidth": 0,
              "ticks": ""
             }
            },
            "type": "scatter3d"
           }
          ],
          "scattercarpet": [
           {
            "marker": {
             "colorbar": {
              "outlinewidth": 0,
              "ticks": ""
             }
            },
            "type": "scattercarpet"
           }
          ],
          "scattergeo": [
           {
            "marker": {
             "colorbar": {
              "outlinewidth": 0,
              "ticks": ""
             }
            },
            "type": "scattergeo"
           }
          ],
          "scattergl": [
           {
            "marker": {
             "colorbar": {
              "outlinewidth": 0,
              "ticks": ""
             }
            },
            "type": "scattergl"
           }
          ],
          "scattermapbox": [
           {
            "marker": {
             "colorbar": {
              "outlinewidth": 0,
              "ticks": ""
             }
            },
            "type": "scattermapbox"
           }
          ],
          "scatterpolar": [
           {
            "marker": {
             "colorbar": {
              "outlinewidth": 0,
              "ticks": ""
             }
            },
            "type": "scatterpolar"
           }
          ],
          "scatterpolargl": [
           {
            "marker": {
             "colorbar": {
              "outlinewidth": 0,
              "ticks": ""
             }
            },
            "type": "scatterpolargl"
           }
          ],
          "scatterternary": [
           {
            "marker": {
             "colorbar": {
              "outlinewidth": 0,
              "ticks": ""
             }
            },
            "type": "scatterternary"
           }
          ],
          "surface": [
           {
            "colorbar": {
             "outlinewidth": 0,
             "ticks": ""
            },
            "colorscale": [
             [
              0,
              "#0d0887"
             ],
             [
              0.1111111111111111,
              "#46039f"
             ],
             [
              0.2222222222222222,
              "#7201a8"
             ],
             [
              0.3333333333333333,
              "#9c179e"
             ],
             [
              0.4444444444444444,
              "#bd3786"
             ],
             [
              0.5555555555555556,
              "#d8576b"
             ],
             [
              0.6666666666666666,
              "#ed7953"
             ],
             [
              0.7777777777777778,
              "#fb9f3a"
             ],
             [
              0.8888888888888888,
              "#fdca26"
             ],
             [
              1,
              "#f0f921"
             ]
            ],
            "type": "surface"
           }
          ],
          "table": [
           {
            "cells": {
             "fill": {
              "color": "#EBF0F8"
             },
             "line": {
              "color": "white"
             }
            },
            "header": {
             "fill": {
              "color": "#C8D4E3"
             },
             "line": {
              "color": "white"
             }
            },
            "type": "table"
           }
          ]
         },
         "layout": {
          "annotationdefaults": {
           "arrowcolor": "#2a3f5f",
           "arrowhead": 0,
           "arrowwidth": 1
          },
          "autotypenumbers": "strict",
          "coloraxis": {
           "colorbar": {
            "outlinewidth": 0,
            "ticks": ""
           }
          },
          "colorscale": {
           "diverging": [
            [
             0,
             "#8e0152"
            ],
            [
             0.1,
             "#c51b7d"
            ],
            [
             0.2,
             "#de77ae"
            ],
            [
             0.3,
             "#f1b6da"
            ],
            [
             0.4,
             "#fde0ef"
            ],
            [
             0.5,
             "#f7f7f7"
            ],
            [
             0.6,
             "#e6f5d0"
            ],
            [
             0.7,
             "#b8e186"
            ],
            [
             0.8,
             "#7fbc41"
            ],
            [
             0.9,
             "#4d9221"
            ],
            [
             1,
             "#276419"
            ]
           ],
           "sequential": [
            [
             0,
             "#0d0887"
            ],
            [
             0.1111111111111111,
             "#46039f"
            ],
            [
             0.2222222222222222,
             "#7201a8"
            ],
            [
             0.3333333333333333,
             "#9c179e"
            ],
            [
             0.4444444444444444,
             "#bd3786"
            ],
            [
             0.5555555555555556,
             "#d8576b"
            ],
            [
             0.6666666666666666,
             "#ed7953"
            ],
            [
             0.7777777777777778,
             "#fb9f3a"
            ],
            [
             0.8888888888888888,
             "#fdca26"
            ],
            [
             1,
             "#f0f921"
            ]
           ],
           "sequentialminus": [
            [
             0,
             "#0d0887"
            ],
            [
             0.1111111111111111,
             "#46039f"
            ],
            [
             0.2222222222222222,
             "#7201a8"
            ],
            [
             0.3333333333333333,
             "#9c179e"
            ],
            [
             0.4444444444444444,
             "#bd3786"
            ],
            [
             0.5555555555555556,
             "#d8576b"
            ],
            [
             0.6666666666666666,
             "#ed7953"
            ],
            [
             0.7777777777777778,
             "#fb9f3a"
            ],
            [
             0.8888888888888888,
             "#fdca26"
            ],
            [
             1,
             "#f0f921"
            ]
           ]
          },
          "colorway": [
           "#636efa",
           "#EF553B",
           "#00cc96",
           "#ab63fa",
           "#FFA15A",
           "#19d3f3",
           "#FF6692",
           "#B6E880",
           "#FF97FF",
           "#FECB52"
          ],
          "font": {
           "color": "#2a3f5f"
          },
          "geo": {
           "bgcolor": "white",
           "lakecolor": "white",
           "landcolor": "#E5ECF6",
           "showlakes": true,
           "showland": true,
           "subunitcolor": "white"
          },
          "hoverlabel": {
           "align": "left"
          },
          "hovermode": "closest",
          "mapbox": {
           "style": "light"
          },
          "paper_bgcolor": "white",
          "plot_bgcolor": "#E5ECF6",
          "polar": {
           "angularaxis": {
            "gridcolor": "white",
            "linecolor": "white",
            "ticks": ""
           },
           "bgcolor": "#E5ECF6",
           "radialaxis": {
            "gridcolor": "white",
            "linecolor": "white",
            "ticks": ""
           }
          },
          "scene": {
           "xaxis": {
            "backgroundcolor": "#E5ECF6",
            "gridcolor": "white",
            "gridwidth": 2,
            "linecolor": "white",
            "showbackground": true,
            "ticks": "",
            "zerolinecolor": "white"
           },
           "yaxis": {
            "backgroundcolor": "#E5ECF6",
            "gridcolor": "white",
            "gridwidth": 2,
            "linecolor": "white",
            "showbackground": true,
            "ticks": "",
            "zerolinecolor": "white"
           },
           "zaxis": {
            "backgroundcolor": "#E5ECF6",
            "gridcolor": "white",
            "gridwidth": 2,
            "linecolor": "white",
            "showbackground": true,
            "ticks": "",
            "zerolinecolor": "white"
           }
          },
          "shapedefaults": {
           "line": {
            "color": "#2a3f5f"
           }
          },
          "ternary": {
           "aaxis": {
            "gridcolor": "white",
            "linecolor": "white",
            "ticks": ""
           },
           "baxis": {
            "gridcolor": "white",
            "linecolor": "white",
            "ticks": ""
           },
           "bgcolor": "#E5ECF6",
           "caxis": {
            "gridcolor": "white",
            "linecolor": "white",
            "ticks": ""
           }
          },
          "title": {
           "x": 0.05
          },
          "xaxis": {
           "automargin": true,
           "gridcolor": "white",
           "linecolor": "white",
           "ticks": "",
           "title": {
            "standoff": 15
           },
           "zerolinecolor": "white",
           "zerolinewidth": 2
          },
          "yaxis": {
           "automargin": true,
           "gridcolor": "white",
           "linecolor": "white",
           "ticks": "",
           "title": {
            "standoff": 15
           },
           "zerolinecolor": "white",
           "zerolinewidth": 2
          }
         }
        },
        "title": {
         "text": "Queue size aux cancel"
        },
        "xaxis": {
         "title": {
          "text": "time"
         }
        },
        "yaxis": {
         "title": {
          "text": "Queue size"
         }
        }
       }
      }
     },
     "metadata": {},
     "output_type": "display_data"
    },
    {
     "data": {
      "application/vnd.plotly.v1+json": {
       "config": {
        "plotlyServerURL": "https://plot.ly"
       },
       "data": [
        {
         "line": {
          "color": "blue"
         },
         "mode": "markers",
         "name": "same",
         "showlegend": true,
         "type": "scatter",
         "x": [
          513.0132133333333,
          517.9560366666667,
          520.86542,
          521.9994166666667,
          526.6943866666667,
          530.9521966666666,
          536.1885266666667,
          541.4961333333333,
          545.67198,
          550.5157333333333,
          554.04889,
          558.3460933333333,
          563.2635333333334,
          565.94539,
          572.7107766666667,
          576.2457733333333,
          581.68044,
          585.9592833333334,
          588.76782,
          590.3437533333333,
          593.7570166666667,
          598.2915733333333,
          601.4170966666667,
          604.75563,
          607.80176,
          610.49466,
          613.4846666666666,
          617.0504,
          621.4210266666666,
          623.2319733333334,
          623.8974266666667,
          627.70788,
          632.53432,
          638.8674966666666,
          641.9324133333333,
          644.55606,
          652.2263133333333,
          654.94522,
          658.46553,
          661.46521,
          665.60963,
          666.6019966666667,
          666.31713,
          669.2430533333334,
          668.79034,
          671.0671666666667,
          671.8458333333333,
          672.80586,
          675.3674866666667,
          678.0980033333333,
          680.7648033333334,
          682.2405633333333,
          684.3627733333333,
          686.5556766666666,
          689.8812966666667,
          693.0427133333334,
          695.9994333333333,
          697.5078566666666,
          699.36639,
          704.6328533333333,
          709.2444466666667,
          711.8198133333333,
          714.31607,
          717.6114366666667,
          722.7287933333333,
          727.7599966666667,
          727.7201233333333,
          730.27761,
          735.3850866666667,
          737.9234366666667,
          740.8833466666666,
          746.6857866666667,
          752.8589633333333,
          759.18435,
          765.2938,
          769.30218,
          772.74837,
          777.40835,
          779.79128,
          783.7795,
          787.6851066666667,
          791.1990066666667,
          795.52174,
          800.8458233333333,
          802.4719333333334,
          805.6389666666666,
          808.2742333333333,
          809.83756,
          811.7183566666666,
          813.53303,
          815.09602,
          816.58896,
          816.705,
          816.28876,
          815.8970566666667,
          815.7504233333333,
          816.1243966666667,
          820.06146,
          819.8239033333333,
          822.9232233333333,
          825.4757766666667,
          826.8911533333334,
          828.06901,
          827.5822066666667,
          831.3772933333333,
          834.41313,
          839.1617333333334,
          843.2905466666666,
          848.5485166666666,
          850.6373933333333,
          852.5304366666667,
          857.1084266666667,
          860.21224,
          862.37295,
          868.1600533333333,
          873.38405,
          879.9247933333334,
          885.4089566666667,
          888.6188166666667,
          890.16413,
          892.6731766666667,
          895.69411,
          898.9085966666667,
          904.73977,
          909.27258,
          913.1822766666668,
          915.3649666666666,
          917.3479233333334,
          919.1502133333332,
          920.63461,
          922.18688,
          925.8898233333332,
          929.5430433333332,
          933.7123666666666,
          935.8610166666666,
          940.19339,
          941.8530233333332,
          943.4310633333332,
          945.1113166666668,
          949.5045566666666,
          953.0413933333332,
          952.67555,
          954.1543033333334,
          954.3611666666668,
          953.4186433333332,
          952.0228233333332,
          949.9970933333332,
          952.74927,
          957.43567,
          961.6206766666668,
          966.1337666666668,
          970.4901233333334,
          974.19347,
          975.8042766666666,
          980.54299,
          984.4602466666666,
          988.70355,
          990.55547,
          993.8151533333332,
          998.9670266666668,
          1000.95946,
          1002.3780333333332,
          1005.52731,
          1008.0303633333332,
          1008.9066066666668,
          1008.8007433333332,
          1013.5492633333332,
          1017.9411733333334,
          1022.3591266666666,
          1025.01079,
          1030.3288966666669,
          1036.9896633333333,
          1041.1175133333334,
          1045.5526133333333,
          1054.16563,
          1060.9563033333334,
          1065.3830433333333,
          1068.5028433333334,
          1068.9403666666667,
          1071.3588,
          1073.4059866666666,
          1076.29985,
          1078.30837,
          1079.4819333333332,
          1081.6459533333334,
          1084.1367,
          1087.6681,
          1093.8726266666667,
          1097.9321633333334,
          1097.5914766666667,
          1102.8258966666667,
          1110.1011,
          1114.2584233333334,
          1120.6385166666666,
          1128.197233333333,
          1133.36034,
          1135.4495166666666,
          1136.9542633333333,
          1139.38705,
          1141.116263333333,
          1140.74219,
          1139.6136066666666,
          1141.0651566666666,
          1144.603836666667,
          1142.5923566666668,
          1143.363113333333,
          1144.97071,
          1146.669756666667,
          1151.8656466666666,
          1155.2127266666666,
          1158.4205466666667,
          1161.6204466666666,
          1169.0785433333333,
          1177.0944633333334,
          1179.492373757293,
          1181.0520350842614,
          1182.3770593471377,
          1181.8059716185312,
          1184.094460797431,
          1189.13358403382,
          1191.2302619214406,
          1189.0201368933945,
          1188.5016626501522,
          1184.4219169491855,
          1179.4125935007933,
          1179.6273056116795,
          1179.9761882882676,
          1181.4264544590412,
          1181.6825767603625,
          1184.6304157761804,
          1187.5739732768648,
          1195.5232202133488,
          1201.880700340005,
          1205.476795113143,
          1214.3083747715584,
          1220.446217128727,
          1232.0181472286686,
          1243.2149853390729,
          1247.1460381402912,
          1260.037084051138,
          1280.725495368742,
          1306.88799966827,
          1309.035349957495,
          1276.878279883382
         ],
         "y": [
          600.88022,
          608.2896,
          611.9516566666666,
          615.38554,
          621.4523033333334,
          628.3314033333334,
          634.7569766666667,
          641.10086,
          646.9164466666666,
          652.7082833333334,
          656.79326,
          661.34045,
          666.8993933333334,
          669.3693466666666,
          676.8286566666667,
          681.77907,
          686.4287633333333,
          691.9437033333334,
          696.4169033333334,
          696.57478,
          702.1483333333333,
          706.70952,
          710.55622,
          714.98531,
          719.9062866666667,
          722.5691,
          725.7899566666666,
          730.2727066666666,
          736.2247,
          737.53523,
          739.9497366666667,
          743.3728633333334,
          750.0708566666667,
          755.9465266666666,
          759.2339433333333,
          761.31591,
          767.9504733333333,
          771.66881,
          776.2821,
          779.4598366666667,
          784.5156266666667,
          786.26905,
          784.9762533333334,
          788.85186,
          789.52999,
          792.05808,
          793.3597466666666,
          794.5035833333334,
          797.9039866666667,
          800.7943333333334,
          803.8749566666667,
          806.9270333333334,
          809.3361233333334,
          812.1499133333333,
          815.7818866666667,
          820.35624,
          823.96608,
          825.80431,
          829.2479666666667,
          835.1987566666667,
          839.5278566666667,
          842.94021,
          846.1625166666666,
          851.9022033333333,
          858.62643,
          864.7762433333334,
          867.0950833333334,
          870.7593833333333,
          877.79721,
          881.6864866666666,
          887.0006166666667,
          895.6545066666666,
          903.8276433333332,
          912.2008466666666,
          920.6735433333332,
          925.86391,
          932.4170466666668,
          937.1359066666666,
          941.2281166666668,
          945.9641766666666,
          950.3553033333334,
          953.71442,
          957.14325,
          961.8742166666668,
          964.0367966666666,
          966.8403333333332,
          971.04913,
          973.15497,
          976.1401566666668,
          977.7896866666666,
          980.9848966666668,
          982.22892,
          981.8921866666668,
          981.05219,
          981.1181866666668,
          981.1580666666666,
          981.97647,
          986.11093,
          985.9303,
          989.9957033333334,
          991.4129,
          992.4316966666668,
          993.1854766666668,
          992.6503766666668,
          995.0568,
          997.6507466666668,
          1002.54962,
          1007.6457466666668,
          1012.6744833333332,
          1015.1367966666668,
          1016.9867,
          1022.15541,
          1027.7791466666667,
          1031.8099366666668,
          1040.0302966666666,
          1047.6780633333333,
          1056.7087066666666,
          1063.30483,
          1065.4063333333334,
          1068.4853,
          1072.4079533333334,
          1076.92539,
          1079.31318,
          1085.0657333333334,
          1089.5914833333334,
          1095.2520433333334,
          1097.6394433333332,
          1102.4254466666666,
          1104.7777533333333,
          1107.6971633333333,
          1110.1288333333334,
          1116.1078666666667,
          1123.162373333333,
          1128.6363066666668,
          1133.1820666666667,
          1138.816,
          1140.3501933333334,
          1143.27132,
          1146.11774,
          1150.0829633333333,
          1155.677233333333,
          1155.6859566666667,
          1156.73072,
          1157.8462233333332,
          1154.3020066666666,
          1152.46349,
          1147.9203433333332,
          1149.5644266666666,
          1153.77713,
          1160.29001,
          1165.2419733333334,
          1170.41283,
          1177.71509,
          1182.0725733333334,
          1188.558716666667,
          1192.91402,
          1199.4142033333333,
          1198.11251,
          1202.4137466666666,
          1208.1393633333332,
          1211.6334933333333,
          1211.1404733333334,
          1212.4425833333332,
          1215.0440666666666,
          1215.1834666666666,
          1217.678586666667,
          1223.036653333333,
          1228.1982833333334,
          1231.9551666666666,
          1237.5222266666667,
          1244.7167833333333,
          1254.7584466666667,
          1260.9830833333333,
          1267.5839766666666,
          1276.2721333333334,
          1285.8819166666667,
          1291.7691266666666,
          1296.4961166666667,
          1298.85895,
          1300.3896366666668,
          1302.5505433333333,
          1306.6589566666669,
          1309.5264066666666,
          1311.59357,
          1314.143636666667,
          1317.1946466666666,
          1321.72189,
          1330.04161,
          1335.9831066666666,
          1336.9977266666667,
          1343.1412866666667,
          1354.2853966666669,
          1358.4066366666666,
          1368.3494333333333,
          1378.3042533333332,
          1383.2649566666666,
          1387.14081,
          1389.933626666667,
          1394.3547833333334,
          1396.0978066666669,
          1395.88399,
          1396.4320766666667,
          1398.536196666667,
          1400.66753,
          1401.4413166666666,
          1403.11126,
          1408.3205666666668,
          1410.06197,
          1418.500716666667,
          1424.81645,
          1428.30087,
          1432.0769933333331,
          1438.5374433333334,
          1447.6158833333334,
          1451.1542622638688,
          1454.197394726098,
          1456.4967276627413,
          1458.043624770934,
          1459.6572116671127,
          1464.6071703616317,
          1467.6095995147705,
          1463.4336370451017,
          1466.2742952418316,
          1459.0814585823748,
          1453.3399359146078,
          1453.641486888701,
          1454.1554710652667,
          1456.2099368739184,
          1457.7628604427834,
          1463.414492492159,
          1465.7134868322944,
          1469.6942295916724,
          1477.4638788601071,
          1483.3104518037574,
          1494.5007756385735,
          1497.6717152503686,
          1501.593461600734,
          1521.728445317861,
          1519.8472170892155,
          1526.8816529150422,
          1553.2032477429946,
          1580.6860175816885,
          1611.4575658826864,
          1580.1980077745384
         ]
        }
       ],
       "layout": {
        "showlegend": true,
        "template": {
         "data": {
          "bar": [
           {
            "error_x": {
             "color": "#2a3f5f"
            },
            "error_y": {
             "color": "#2a3f5f"
            },
            "marker": {
             "line": {
              "color": "#E5ECF6",
              "width": 0.5
             },
             "pattern": {
              "fillmode": "overlay",
              "size": 10,
              "solidity": 0.2
             }
            },
            "type": "bar"
           }
          ],
          "barpolar": [
           {
            "marker": {
             "line": {
              "color": "#E5ECF6",
              "width": 0.5
             },
             "pattern": {
              "fillmode": "overlay",
              "size": 10,
              "solidity": 0.2
             }
            },
            "type": "barpolar"
           }
          ],
          "carpet": [
           {
            "aaxis": {
             "endlinecolor": "#2a3f5f",
             "gridcolor": "white",
             "linecolor": "white",
             "minorgridcolor": "white",
             "startlinecolor": "#2a3f5f"
            },
            "baxis": {
             "endlinecolor": "#2a3f5f",
             "gridcolor": "white",
             "linecolor": "white",
             "minorgridcolor": "white",
             "startlinecolor": "#2a3f5f"
            },
            "type": "carpet"
           }
          ],
          "choropleth": [
           {
            "colorbar": {
             "outlinewidth": 0,
             "ticks": ""
            },
            "type": "choropleth"
           }
          ],
          "contour": [
           {
            "colorbar": {
             "outlinewidth": 0,
             "ticks": ""
            },
            "colorscale": [
             [
              0,
              "#0d0887"
             ],
             [
              0.1111111111111111,
              "#46039f"
             ],
             [
              0.2222222222222222,
              "#7201a8"
             ],
             [
              0.3333333333333333,
              "#9c179e"
             ],
             [
              0.4444444444444444,
              "#bd3786"
             ],
             [
              0.5555555555555556,
              "#d8576b"
             ],
             [
              0.6666666666666666,
              "#ed7953"
             ],
             [
              0.7777777777777778,
              "#fb9f3a"
             ],
             [
              0.8888888888888888,
              "#fdca26"
             ],
             [
              1,
              "#f0f921"
             ]
            ],
            "type": "contour"
           }
          ],
          "contourcarpet": [
           {
            "colorbar": {
             "outlinewidth": 0,
             "ticks": ""
            },
            "type": "contourcarpet"
           }
          ],
          "heatmap": [
           {
            "colorbar": {
             "outlinewidth": 0,
             "ticks": ""
            },
            "colorscale": [
             [
              0,
              "#0d0887"
             ],
             [
              0.1111111111111111,
              "#46039f"
             ],
             [
              0.2222222222222222,
              "#7201a8"
             ],
             [
              0.3333333333333333,
              "#9c179e"
             ],
             [
              0.4444444444444444,
              "#bd3786"
             ],
             [
              0.5555555555555556,
              "#d8576b"
             ],
             [
              0.6666666666666666,
              "#ed7953"
             ],
             [
              0.7777777777777778,
              "#fb9f3a"
             ],
             [
              0.8888888888888888,
              "#fdca26"
             ],
             [
              1,
              "#f0f921"
             ]
            ],
            "type": "heatmap"
           }
          ],
          "heatmapgl": [
           {
            "colorbar": {
             "outlinewidth": 0,
             "ticks": ""
            },
            "colorscale": [
             [
              0,
              "#0d0887"
             ],
             [
              0.1111111111111111,
              "#46039f"
             ],
             [
              0.2222222222222222,
              "#7201a8"
             ],
             [
              0.3333333333333333,
              "#9c179e"
             ],
             [
              0.4444444444444444,
              "#bd3786"
             ],
             [
              0.5555555555555556,
              "#d8576b"
             ],
             [
              0.6666666666666666,
              "#ed7953"
             ],
             [
              0.7777777777777778,
              "#fb9f3a"
             ],
             [
              0.8888888888888888,
              "#fdca26"
             ],
             [
              1,
              "#f0f921"
             ]
            ],
            "type": "heatmapgl"
           }
          ],
          "histogram": [
           {
            "marker": {
             "pattern": {
              "fillmode": "overlay",
              "size": 10,
              "solidity": 0.2
             }
            },
            "type": "histogram"
           }
          ],
          "histogram2d": [
           {
            "colorbar": {
             "outlinewidth": 0,
             "ticks": ""
            },
            "colorscale": [
             [
              0,
              "#0d0887"
             ],
             [
              0.1111111111111111,
              "#46039f"
             ],
             [
              0.2222222222222222,
              "#7201a8"
             ],
             [
              0.3333333333333333,
              "#9c179e"
             ],
             [
              0.4444444444444444,
              "#bd3786"
             ],
             [
              0.5555555555555556,
              "#d8576b"
             ],
             [
              0.6666666666666666,
              "#ed7953"
             ],
             [
              0.7777777777777778,
              "#fb9f3a"
             ],
             [
              0.8888888888888888,
              "#fdca26"
             ],
             [
              1,
              "#f0f921"
             ]
            ],
            "type": "histogram2d"
           }
          ],
          "histogram2dcontour": [
           {
            "colorbar": {
             "outlinewidth": 0,
             "ticks": ""
            },
            "colorscale": [
             [
              0,
              "#0d0887"
             ],
             [
              0.1111111111111111,
              "#46039f"
             ],
             [
              0.2222222222222222,
              "#7201a8"
             ],
             [
              0.3333333333333333,
              "#9c179e"
             ],
             [
              0.4444444444444444,
              "#bd3786"
             ],
             [
              0.5555555555555556,
              "#d8576b"
             ],
             [
              0.6666666666666666,
              "#ed7953"
             ],
             [
              0.7777777777777778,
              "#fb9f3a"
             ],
             [
              0.8888888888888888,
              "#fdca26"
             ],
             [
              1,
              "#f0f921"
             ]
            ],
            "type": "histogram2dcontour"
           }
          ],
          "mesh3d": [
           {
            "colorbar": {
             "outlinewidth": 0,
             "ticks": ""
            },
            "type": "mesh3d"
           }
          ],
          "parcoords": [
           {
            "line": {
             "colorbar": {
              "outlinewidth": 0,
              "ticks": ""
             }
            },
            "type": "parcoords"
           }
          ],
          "pie": [
           {
            "automargin": true,
            "type": "pie"
           }
          ],
          "scatter": [
           {
            "fillpattern": {
             "fillmode": "overlay",
             "size": 10,
             "solidity": 0.2
            },
            "type": "scatter"
           }
          ],
          "scatter3d": [
           {
            "line": {
             "colorbar": {
              "outlinewidth": 0,
              "ticks": ""
             }
            },
            "marker": {
             "colorbar": {
              "outlinewidth": 0,
              "ticks": ""
             }
            },
            "type": "scatter3d"
           }
          ],
          "scattercarpet": [
           {
            "marker": {
             "colorbar": {
              "outlinewidth": 0,
              "ticks": ""
             }
            },
            "type": "scattercarpet"
           }
          ],
          "scattergeo": [
           {
            "marker": {
             "colorbar": {
              "outlinewidth": 0,
              "ticks": ""
             }
            },
            "type": "scattergeo"
           }
          ],
          "scattergl": [
           {
            "marker": {
             "colorbar": {
              "outlinewidth": 0,
              "ticks": ""
             }
            },
            "type": "scattergl"
           }
          ],
          "scattermapbox": [
           {
            "marker": {
             "colorbar": {
              "outlinewidth": 0,
              "ticks": ""
             }
            },
            "type": "scattermapbox"
           }
          ],
          "scatterpolar": [
           {
            "marker": {
             "colorbar": {
              "outlinewidth": 0,
              "ticks": ""
             }
            },
            "type": "scatterpolar"
           }
          ],
          "scatterpolargl": [
           {
            "marker": {
             "colorbar": {
              "outlinewidth": 0,
              "ticks": ""
             }
            },
            "type": "scatterpolargl"
           }
          ],
          "scatterternary": [
           {
            "marker": {
             "colorbar": {
              "outlinewidth": 0,
              "ticks": ""
             }
            },
            "type": "scatterternary"
           }
          ],
          "surface": [
           {
            "colorbar": {
             "outlinewidth": 0,
             "ticks": ""
            },
            "colorscale": [
             [
              0,
              "#0d0887"
             ],
             [
              0.1111111111111111,
              "#46039f"
             ],
             [
              0.2222222222222222,
              "#7201a8"
             ],
             [
              0.3333333333333333,
              "#9c179e"
             ],
             [
              0.4444444444444444,
              "#bd3786"
             ],
             [
              0.5555555555555556,
              "#d8576b"
             ],
             [
              0.6666666666666666,
              "#ed7953"
             ],
             [
              0.7777777777777778,
              "#fb9f3a"
             ],
             [
              0.8888888888888888,
              "#fdca26"
             ],
             [
              1,
              "#f0f921"
             ]
            ],
            "type": "surface"
           }
          ],
          "table": [
           {
            "cells": {
             "fill": {
              "color": "#EBF0F8"
             },
             "line": {
              "color": "white"
             }
            },
            "header": {
             "fill": {
              "color": "#C8D4E3"
             },
             "line": {
              "color": "white"
             }
            },
            "type": "table"
           }
          ]
         },
         "layout": {
          "annotationdefaults": {
           "arrowcolor": "#2a3f5f",
           "arrowhead": 0,
           "arrowwidth": 1
          },
          "autotypenumbers": "strict",
          "coloraxis": {
           "colorbar": {
            "outlinewidth": 0,
            "ticks": ""
           }
          },
          "colorscale": {
           "diverging": [
            [
             0,
             "#8e0152"
            ],
            [
             0.1,
             "#c51b7d"
            ],
            [
             0.2,
             "#de77ae"
            ],
            [
             0.3,
             "#f1b6da"
            ],
            [
             0.4,
             "#fde0ef"
            ],
            [
             0.5,
             "#f7f7f7"
            ],
            [
             0.6,
             "#e6f5d0"
            ],
            [
             0.7,
             "#b8e186"
            ],
            [
             0.8,
             "#7fbc41"
            ],
            [
             0.9,
             "#4d9221"
            ],
            [
             1,
             "#276419"
            ]
           ],
           "sequential": [
            [
             0,
             "#0d0887"
            ],
            [
             0.1111111111111111,
             "#46039f"
            ],
            [
             0.2222222222222222,
             "#7201a8"
            ],
            [
             0.3333333333333333,
             "#9c179e"
            ],
            [
             0.4444444444444444,
             "#bd3786"
            ],
            [
             0.5555555555555556,
             "#d8576b"
            ],
            [
             0.6666666666666666,
             "#ed7953"
            ],
            [
             0.7777777777777778,
             "#fb9f3a"
            ],
            [
             0.8888888888888888,
             "#fdca26"
            ],
            [
             1,
             "#f0f921"
            ]
           ],
           "sequentialminus": [
            [
             0,
             "#0d0887"
            ],
            [
             0.1111111111111111,
             "#46039f"
            ],
            [
             0.2222222222222222,
             "#7201a8"
            ],
            [
             0.3333333333333333,
             "#9c179e"
            ],
            [
             0.4444444444444444,
             "#bd3786"
            ],
            [
             0.5555555555555556,
             "#d8576b"
            ],
            [
             0.6666666666666666,
             "#ed7953"
            ],
            [
             0.7777777777777778,
             "#fb9f3a"
            ],
            [
             0.8888888888888888,
             "#fdca26"
            ],
            [
             1,
             "#f0f921"
            ]
           ]
          },
          "colorway": [
           "#636efa",
           "#EF553B",
           "#00cc96",
           "#ab63fa",
           "#FFA15A",
           "#19d3f3",
           "#FF6692",
           "#B6E880",
           "#FF97FF",
           "#FECB52"
          ],
          "font": {
           "color": "#2a3f5f"
          },
          "geo": {
           "bgcolor": "white",
           "lakecolor": "white",
           "landcolor": "#E5ECF6",
           "showlakes": true,
           "showland": true,
           "subunitcolor": "white"
          },
          "hoverlabel": {
           "align": "left"
          },
          "hovermode": "closest",
          "mapbox": {
           "style": "light"
          },
          "paper_bgcolor": "white",
          "plot_bgcolor": "#E5ECF6",
          "polar": {
           "angularaxis": {
            "gridcolor": "white",
            "linecolor": "white",
            "ticks": ""
           },
           "bgcolor": "#E5ECF6",
           "radialaxis": {
            "gridcolor": "white",
            "linecolor": "white",
            "ticks": ""
           }
          },
          "scene": {
           "xaxis": {
            "backgroundcolor": "#E5ECF6",
            "gridcolor": "white",
            "gridwidth": 2,
            "linecolor": "white",
            "showbackground": true,
            "ticks": "",
            "zerolinecolor": "white"
           },
           "yaxis": {
            "backgroundcolor": "#E5ECF6",
            "gridcolor": "white",
            "gridwidth": 2,
            "linecolor": "white",
            "showbackground": true,
            "ticks": "",
            "zerolinecolor": "white"
           },
           "zaxis": {
            "backgroundcolor": "#E5ECF6",
            "gridcolor": "white",
            "gridwidth": 2,
            "linecolor": "white",
            "showbackground": true,
            "ticks": "",
            "zerolinecolor": "white"
           }
          },
          "shapedefaults": {
           "line": {
            "color": "#2a3f5f"
           }
          },
          "ternary": {
           "aaxis": {
            "gridcolor": "white",
            "linecolor": "white",
            "ticks": ""
           },
           "baxis": {
            "gridcolor": "white",
            "linecolor": "white",
            "ticks": ""
           },
           "bgcolor": "#E5ECF6",
           "caxis": {
            "gridcolor": "white",
            "linecolor": "white",
            "ticks": ""
           }
          },
          "title": {
           "x": 0.05
          },
          "xaxis": {
           "automargin": true,
           "gridcolor": "white",
           "linecolor": "white",
           "ticks": "",
           "title": {
            "standoff": 15
           },
           "zerolinecolor": "white",
           "zerolinewidth": 2
          },
          "yaxis": {
           "automargin": true,
           "gridcolor": "white",
           "linecolor": "white",
           "ticks": "",
           "title": {
            "standoff": 15
           },
           "zerolinecolor": "white",
           "zerolinewidth": 2
          }
         }
        },
        "title": {
         "text": "Heatmap Queue size aux cancel"
        },
        "xaxis": {
         "title": {
          "text": "Queue size opposite"
         }
        },
        "yaxis": {
         "title": {
          "text": "Queue size same"
         }
        }
       }
      }
     },
     "metadata": {},
     "output_type": "display_data"
    },
    {
     "data": {
      "application/vnd.plotly.v1+json": {
       "config": {
        "plotlyServerURL": "https://plot.ly"
       },
       "data": [
        {
         "line": {
          "color": "red"
         },
         "mode": "markers",
         "name": "add",
         "showlegend": true,
         "type": "scatter",
         "x": [
          436.7763,
          502.607,
          545.3955,
          481.6,
          445.9515,
          473.3928,
          459.8294,
          477.2965,
          503.6528,
          472.0914,
          492.7155,
          500.9598,
          514.2277,
          541.1823,
          548.8528,
          514.2395,
          500.6742,
          541.087,
          505.5125,
          562.0144,
          559.9294,
          594.0314,
          559.5225,
          531.0555,
          539.344,
          547.3604,
          564.6251,
          571.6538,
          577.0696,
          597.6193,
          593.4031,
          601.9996,
          591.8967,
          626.0563,
          622.6543,
          613.9838,
          587.5876,
          568.3982,
          599.3934,
          629.5146,
          589.2929,
          664.2774,
          621.5518,
          648.3305,
          601.6132,
          623.8584,
          638.4379,
          685.7882,
          630.7224,
          688.0921,
          651.2516,
          645.2025,
          662.2424,
          637.3228,
          640.2565,
          624.8494,
          660.8358,
          671.1983,
          660.503,
          662.6409,
          624.6375,
          657.3166,
          655.6591,
          674.5936,
          706.279,
          725.9094,
          669.0737,
          658.8244,
          653.1853,
          732.3544,
          761.7393,
          772.6914,
          690.0471,
          706.6236,
          778.2361,
          818.8613,
          716.5674,
          736.5468,
          713.9548,
          748.493,
          656.6654,
          662.8047,
          716.1002,
          704.6659,
          712.6064,
          680.8872,
          682.9952,
          701.5227,
          704.9364,
          707.9739,
          733.0654,
          712.4944,
          715.475,
          708.2746,
          717.7994,
          745.4603,
          782.6586,
          763.9182,
          760.6508,
          760.4108,
          793.7517,
          840.9639,
          813.1281,
          770.1338,
          840.1578,
          872.1656,
          857.1061,
          838.9582,
          861.0771,
          823.8521,
          833.8121,
          857.1536,
          799.7518,
          821.4763,
          862.4522,
          859.1479,
          851.9584,
          915.2075,
          833.677,
          821.0082,
          828.1632,
          827.3137,
          765.0415,
          818.27,
          821.8588,
          870.2057,
          812.7839,
          840.7053,
          866.2522,
          835.9919,
          830.6846,
          829.8097,
          827.2043,
          779.6688,
          849.4712,
          878.42,
          817.4849,
          882.7194,
          826.5083,
          838.264,
          843.5594,
          822.1264,
          858.1927,
          859.268,
          919.7496,
          885.2906,
          890.7256,
          912.6708,
          882.1138,
          898.6426,
          883.4093,
          893.7174,
          996.9993,
          980.1098,
          958.1074,
          897.5552,
          985.8497,
          956.6242,
          879.0774,
          902.3219,
          977.746,
          948.5849,
          930.9985,
          974.4696,
          984.5002,
          1019.0016,
          1030.4571,
          943.2345,
          949.6583,
          936.5038,
          904.5186,
          935.9848,
          919.9345,
          961.3996,
          1061.0965,
          956.9884,
          968.6353,
          943.6835,
          955.3234,
          991.5547,
          912.1515,
          966.6566,
          974.5391,
          1032.0882,
          1009.258,
          1013.3093,
          1056.9625,
          1087.8385,
          1054.7799,
          981.3358,
          1020.1311,
          1006.793,
          1024.7764,
          997.8626,
          970.3634,
          975.192,
          954.4524,
          968.9218,
          945.8878,
          968.0434,
          961.2505,
          1027.8226,
          1056.2103,
          1069.175,
          1050.6968,
          1083.1549,
          1067.7605,
          1054.0485,
          1068.8371,
          1071.6969,
          1118.1827,
          1108.4984,
          1060.1781,
          1021.579,
          1008.7161,
          1089.0492,
          1033.0604,
          1021.0062,
          1082.1323,
          1061.3934,
          1101.4244,
          1074.9799,
          1049.0892,
          1097.8998,
          1125.0034,
          1127.9877,
          1080.3743,
          1132.9415,
          1178.8756,
          1141.9821,
          1133.4992,
          1054.578,
          1138.561,
          1214.6883,
          1165.7703,
          1144.9555,
          1089.9356,
          1083.8674,
          1105.6415,
          1093.4426,
          1134.5841,
          1136.2845,
          1091.6068,
          1055.5843,
          1179.5198,
          1151.6326,
          1183.1302,
          1144.9885,
          1255.787,
          1172.5,
          1095.9496,
          1142.6417,
          1211.8273,
          1266.7886,
          1236.7652,
          1287.4674,
          1294.4035,
          1203.7493,
          1222.6311,
          1180.5367,
          1187.8285,
          1209.1748,
          1159.2932,
          1180.5444,
          1158.6538,
          1126.0001,
          1217.9454,
          1150.7717,
          1165.333,
          1184.0118,
          1191.4212,
          1161.1092,
          1258.5365,
          1252.1908,
          1180.185,
          1200.5667,
          1251.8325,
          1289.9912,
          1410.1029,
          1301.157401351646
         ],
         "y": [
          631.4475,
          621.7968,
          765.6384,
          717.8674,
          658.1939,
          674.4046,
          659.1419,
          673.9411,
          676.4127,
          677.1794,
          709.7647,
          718.6519,
          752.3086,
          803.624,
          824.6296,
          740.3572,
          725.7944,
          806.8027,
          742.5801,
          795.8926,
          763.2966,
          889.8665,
          801.3782,
          766.5118,
          797.2418,
          820.8827,
          804.6727,
          818.7929,
          849.9297,
          832.6638,
          870.1316,
          825.0352,
          864.3402,
          865.0947,
          908.792,
          882.4751,
          851.8552,
          840.4472,
          871.3757,
          919.6095,
          866.297,
          931.0575,
          875.5116,
          916.66,
          871.0028,
          879.0085,
          925.349,
          999.6098,
          929.0345,
          970.2411,
          966.8241,
          948.3884,
          944.2558,
          911.6828,
          913.1153,
          919.3424,
          966.7573,
          978.18,
          953.4361,
          967.1234,
          929.787,
          1003.1962,
          926.8989,
          987.1257,
          1014.2152,
          1048.3462,
          951.1036,
          943.2749,
          978.673,
          1035.8088,
          1067.3548,
          1077.5936,
          975.2541,
          992.621,
          1035.0225,
          1092.1079,
          1017.7526,
          1079.0567,
          1021.1426,
          1043.6635,
          988.5407,
          933.6558,
          1022.1726,
          1027.3797,
          1027.4358,
          1033.0693,
          997.0649,
          998.0879,
          1051.8826,
          1017.1948,
          1080.7712,
          1053.874,
          1048.6381,
          1038.2637,
          1087.7811,
          1112.0381,
          1076.4082,
          1075.4888,
          1091.4068,
          1126.4928,
          1095.5467,
          1204.3113,
          1124.2993,
          1138.0917,
          1183.0682,
          1227.0317,
          1241.4958,
          1197.8642,
          1208.1718,
          1178.0903,
          1201.985,
          1213.9324,
          1118.9277,
          1196.9506,
          1243.1593,
          1263.6012,
          1222.6659,
          1367.8895,
          1275.842,
          1234.6169,
          1184.6389,
          1204.4914,
          1104.2187,
          1201.1194,
          1189.7436,
          1245.9478,
          1137.4173,
          1164.1647,
          1205.0354,
          1217.9027,
          1180.9631,
          1208.2809,
          1213.4664,
          1156.5894,
          1265.9533,
          1179.1039,
          1212.5207,
          1256.2086,
          1169.7132,
          1212.6011,
          1203.852,
          1227.8802,
          1176.9465,
          1187.929,
          1281.6898,
          1305.7054,
          1274.6749,
          1302.8516,
          1269.5909,
          1286.9019,
          1266.8936,
          1299.9846,
          1373.098,
          1338.6982,
          1397.3813,
          1295.3089,
          1369.7704,
          1367.1422,
          1268.7493,
          1290.8103,
          1340.4087,
          1381.6182,
          1284.5426,
          1391.3167,
          1456.4782,
          1510.6054,
          1510.6718,
          1395.3153,
          1353.0564,
          1285.5952,
          1316.8575,
          1313.8017,
          1325.8419,
          1312.5692,
          1431.4706,
          1365.8108,
          1397.9847,
          1321.2985,
          1338.5709,
          1432.1716,
          1304.2155,
          1390.0809,
          1362.5411,
          1463.5742,
          1487.7929,
          1500.6184,
          1467.4855,
          1575.3509,
          1443.5198,
          1402.2485,
          1423.2992,
          1406.3839,
          1457.4084,
          1494.1938,
          1377.4098,
          1363.7696,
          1342.0921,
          1395.4694,
          1292.4731,
          1379.6036,
          1380.2827,
          1423.3583,
          1441.4947,
          1457.2092,
          1569.3458,
          1502.9183,
          1518.7547,
          1534.2237,
          1508.8995,
          1523.6545,
          1603.7874,
          1556.8411,
          1505.6845,
          1436.8845,
          1460.9182,
          1531.8232,
          1524.0716,
          1453.225,
          1538.9961,
          1521.7251,
          1628.0592,
          1572.8277,
          1500.4521,
          1596.217,
          1608.7237,
          1636.3268,
          1560.6054,
          1574.7081,
          1712.3386,
          1691.3198,
          1612.1495,
          1542.163,
          1678.1701,
          1678.0179,
          1660.7187,
          1611.3876,
          1568.8479,
          1547.8667,
          1568.2591,
          1495.6442,
          1579.2108,
          1641.2719,
          1610.0698,
          1584.6468,
          1626.1716,
          1715.206,
          1615.7157,
          1635.8389,
          1716.6045,
          1688.7751,
          1580.3752,
          1732.1477,
          1668.8867,
          1801.414,
          1728.0075,
          1930.4951,
          1864.5488,
          1785.8594,
          1767.4741,
          1622.6257,
          1759.7719,
          1668.4331,
          1626.4849,
          1690.4697,
          1712.6933,
          1639.0216,
          1669.6483,
          1695.3865,
          1640.1758,
          1756.7006,
          1722.5264,
          1613.3124,
          1768.5502,
          1826.7757,
          1712.026,
          1717.6276,
          1799.6994,
          1781.757,
          1973.1009,
          1885.3532810115544
         ]
        },
        {
         "line": {
          "color": "green"
         },
         "mode": "markers",
         "name": "cancel",
         "showlegend": true,
         "type": "scatter",
         "x": [
          513.0132133333333,
          517.9560366666667,
          520.86542,
          521.9994166666667,
          526.6943866666667,
          530.9521966666666,
          536.1885266666667,
          541.4961333333333,
          545.67198,
          550.5157333333333,
          554.04889,
          558.3460933333333,
          563.2635333333334,
          565.94539,
          572.7107766666667,
          576.2457733333333,
          581.68044,
          585.9592833333334,
          588.76782,
          590.3437533333333,
          593.7570166666667,
          598.2915733333333,
          601.4170966666667,
          604.75563,
          607.80176,
          610.49466,
          613.4846666666666,
          617.0504,
          621.4210266666666,
          623.2319733333334,
          623.8974266666667,
          627.70788,
          632.53432,
          638.8674966666666,
          641.9324133333333,
          644.55606,
          652.2263133333333,
          654.94522,
          658.46553,
          661.46521,
          665.60963,
          666.6019966666667,
          666.31713,
          669.2430533333334,
          668.79034,
          671.0671666666667,
          671.8458333333333,
          672.80586,
          675.3674866666667,
          678.0980033333333,
          680.7648033333334,
          682.2405633333333,
          684.3627733333333,
          686.5556766666666,
          689.8812966666667,
          693.0427133333334,
          695.9994333333333,
          697.5078566666666,
          699.36639,
          704.6328533333333,
          709.2444466666667,
          711.8198133333333,
          714.31607,
          717.6114366666667,
          722.7287933333333,
          727.7599966666667,
          727.7201233333333,
          730.27761,
          735.3850866666667,
          737.9234366666667,
          740.8833466666666,
          746.6857866666667,
          752.8589633333333,
          759.18435,
          765.2938,
          769.30218,
          772.74837,
          777.40835,
          779.79128,
          783.7795,
          787.6851066666667,
          791.1990066666667,
          795.52174,
          800.8458233333333,
          802.4719333333334,
          805.6389666666666,
          808.2742333333333,
          809.83756,
          811.7183566666666,
          813.53303,
          815.09602,
          816.58896,
          816.705,
          816.28876,
          815.8970566666667,
          815.7504233333333,
          816.1243966666667,
          820.06146,
          819.8239033333333,
          822.9232233333333,
          825.4757766666667,
          826.8911533333334,
          828.06901,
          827.5822066666667,
          831.3772933333333,
          834.41313,
          839.1617333333334,
          843.2905466666666,
          848.5485166666666,
          850.6373933333333,
          852.5304366666667,
          857.1084266666667,
          860.21224,
          862.37295,
          868.1600533333333,
          873.38405,
          879.9247933333334,
          885.4089566666667,
          888.6188166666667,
          890.16413,
          892.6731766666667,
          895.69411,
          898.9085966666667,
          904.73977,
          909.27258,
          913.1822766666668,
          915.3649666666666,
          917.3479233333334,
          919.1502133333332,
          920.63461,
          922.18688,
          925.8898233333332,
          929.5430433333332,
          933.7123666666666,
          935.8610166666666,
          940.19339,
          941.8530233333332,
          943.4310633333332,
          945.1113166666668,
          949.5045566666666,
          953.0413933333332,
          952.67555,
          954.1543033333334,
          954.3611666666668,
          953.4186433333332,
          952.0228233333332,
          949.9970933333332,
          952.74927,
          957.43567,
          961.6206766666668,
          966.1337666666668,
          970.4901233333334,
          974.19347,
          975.8042766666666,
          980.54299,
          984.4602466666666,
          988.70355,
          990.55547,
          993.8151533333332,
          998.9670266666668,
          1000.95946,
          1002.3780333333332,
          1005.52731,
          1008.0303633333332,
          1008.9066066666668,
          1008.8007433333332,
          1013.5492633333332,
          1017.9411733333334,
          1022.3591266666666,
          1025.01079,
          1030.3288966666669,
          1036.9896633333333,
          1041.1175133333334,
          1045.5526133333333,
          1054.16563,
          1060.9563033333334,
          1065.3830433333333,
          1068.5028433333334,
          1068.9403666666667,
          1071.3588,
          1073.4059866666666,
          1076.29985,
          1078.30837,
          1079.4819333333332,
          1081.6459533333334,
          1084.1367,
          1087.6681,
          1093.8726266666667,
          1097.9321633333334,
          1097.5914766666667,
          1102.8258966666667,
          1110.1011,
          1114.2584233333334,
          1120.6385166666666,
          1128.197233333333,
          1133.36034,
          1135.4495166666666,
          1136.9542633333333,
          1139.38705,
          1141.116263333333,
          1140.74219,
          1139.6136066666666,
          1141.0651566666666,
          1144.603836666667,
          1142.5923566666668,
          1143.363113333333,
          1144.97071,
          1146.669756666667,
          1151.8656466666666,
          1155.2127266666666,
          1158.4205466666667,
          1161.6204466666666,
          1169.0785433333333,
          1177.0944633333334,
          1179.492373757293,
          1181.0520350842614,
          1182.3770593471377,
          1181.8059716185312,
          1184.094460797431,
          1189.13358403382,
          1191.2302619214406,
          1189.0201368933945,
          1188.5016626501522,
          1184.4219169491855,
          1179.4125935007933,
          1179.6273056116795,
          1179.9761882882676,
          1181.4264544590412,
          1181.6825767603625,
          1184.6304157761804,
          1187.5739732768648,
          1195.5232202133488,
          1201.880700340005,
          1205.476795113143,
          1214.3083747715584,
          1220.446217128727,
          1232.0181472286686,
          1243.2149853390729,
          1247.1460381402912,
          1260.037084051138,
          1280.725495368742,
          1306.88799966827,
          1309.035349957495,
          1276.878279883382
         ],
         "y": [
          600.88022,
          608.2896,
          611.9516566666666,
          615.38554,
          621.4523033333334,
          628.3314033333334,
          634.7569766666667,
          641.10086,
          646.9164466666666,
          652.7082833333334,
          656.79326,
          661.34045,
          666.8993933333334,
          669.3693466666666,
          676.8286566666667,
          681.77907,
          686.4287633333333,
          691.9437033333334,
          696.4169033333334,
          696.57478,
          702.1483333333333,
          706.70952,
          710.55622,
          714.98531,
          719.9062866666667,
          722.5691,
          725.7899566666666,
          730.2727066666666,
          736.2247,
          737.53523,
          739.9497366666667,
          743.3728633333334,
          750.0708566666667,
          755.9465266666666,
          759.2339433333333,
          761.31591,
          767.9504733333333,
          771.66881,
          776.2821,
          779.4598366666667,
          784.5156266666667,
          786.26905,
          784.9762533333334,
          788.85186,
          789.52999,
          792.05808,
          793.3597466666666,
          794.5035833333334,
          797.9039866666667,
          800.7943333333334,
          803.8749566666667,
          806.9270333333334,
          809.3361233333334,
          812.1499133333333,
          815.7818866666667,
          820.35624,
          823.96608,
          825.80431,
          829.2479666666667,
          835.1987566666667,
          839.5278566666667,
          842.94021,
          846.1625166666666,
          851.9022033333333,
          858.62643,
          864.7762433333334,
          867.0950833333334,
          870.7593833333333,
          877.79721,
          881.6864866666666,
          887.0006166666667,
          895.6545066666666,
          903.8276433333332,
          912.2008466666666,
          920.6735433333332,
          925.86391,
          932.4170466666668,
          937.1359066666666,
          941.2281166666668,
          945.9641766666666,
          950.3553033333334,
          953.71442,
          957.14325,
          961.8742166666668,
          964.0367966666666,
          966.8403333333332,
          971.04913,
          973.15497,
          976.1401566666668,
          977.7896866666666,
          980.9848966666668,
          982.22892,
          981.8921866666668,
          981.05219,
          981.1181866666668,
          981.1580666666666,
          981.97647,
          986.11093,
          985.9303,
          989.9957033333334,
          991.4129,
          992.4316966666668,
          993.1854766666668,
          992.6503766666668,
          995.0568,
          997.6507466666668,
          1002.54962,
          1007.6457466666668,
          1012.6744833333332,
          1015.1367966666668,
          1016.9867,
          1022.15541,
          1027.7791466666667,
          1031.8099366666668,
          1040.0302966666666,
          1047.6780633333333,
          1056.7087066666666,
          1063.30483,
          1065.4063333333334,
          1068.4853,
          1072.4079533333334,
          1076.92539,
          1079.31318,
          1085.0657333333334,
          1089.5914833333334,
          1095.2520433333334,
          1097.6394433333332,
          1102.4254466666666,
          1104.7777533333333,
          1107.6971633333333,
          1110.1288333333334,
          1116.1078666666667,
          1123.162373333333,
          1128.6363066666668,
          1133.1820666666667,
          1138.816,
          1140.3501933333334,
          1143.27132,
          1146.11774,
          1150.0829633333333,
          1155.677233333333,
          1155.6859566666667,
          1156.73072,
          1157.8462233333332,
          1154.3020066666666,
          1152.46349,
          1147.9203433333332,
          1149.5644266666666,
          1153.77713,
          1160.29001,
          1165.2419733333334,
          1170.41283,
          1177.71509,
          1182.0725733333334,
          1188.558716666667,
          1192.91402,
          1199.4142033333333,
          1198.11251,
          1202.4137466666666,
          1208.1393633333332,
          1211.6334933333333,
          1211.1404733333334,
          1212.4425833333332,
          1215.0440666666666,
          1215.1834666666666,
          1217.678586666667,
          1223.036653333333,
          1228.1982833333334,
          1231.9551666666666,
          1237.5222266666667,
          1244.7167833333333,
          1254.7584466666667,
          1260.9830833333333,
          1267.5839766666666,
          1276.2721333333334,
          1285.8819166666667,
          1291.7691266666666,
          1296.4961166666667,
          1298.85895,
          1300.3896366666668,
          1302.5505433333333,
          1306.6589566666669,
          1309.5264066666666,
          1311.59357,
          1314.143636666667,
          1317.1946466666666,
          1321.72189,
          1330.04161,
          1335.9831066666666,
          1336.9977266666667,
          1343.1412866666667,
          1354.2853966666669,
          1358.4066366666666,
          1368.3494333333333,
          1378.3042533333332,
          1383.2649566666666,
          1387.14081,
          1389.933626666667,
          1394.3547833333334,
          1396.0978066666669,
          1395.88399,
          1396.4320766666667,
          1398.536196666667,
          1400.66753,
          1401.4413166666666,
          1403.11126,
          1408.3205666666668,
          1410.06197,
          1418.500716666667,
          1424.81645,
          1428.30087,
          1432.0769933333331,
          1438.5374433333334,
          1447.6158833333334,
          1451.1542622638688,
          1454.197394726098,
          1456.4967276627413,
          1458.043624770934,
          1459.6572116671127,
          1464.6071703616317,
          1467.6095995147705,
          1463.4336370451017,
          1466.2742952418316,
          1459.0814585823748,
          1453.3399359146078,
          1453.641486888701,
          1454.1554710652667,
          1456.2099368739184,
          1457.7628604427834,
          1463.414492492159,
          1465.7134868322944,
          1469.6942295916724,
          1477.4638788601071,
          1483.3104518037574,
          1494.5007756385735,
          1497.6717152503686,
          1501.593461600734,
          1521.728445317861,
          1519.8472170892155,
          1526.8816529150422,
          1553.2032477429946,
          1580.6860175816885,
          1611.4575658826864,
          1580.1980077745384
         ]
        },
        {
         "line": {
          "color": "blue"
         },
         "mode": "markers",
         "name": "trade",
         "showlegend": true,
         "type": "scatter",
         "x": [
          509.351,
          837.355,
          725.854,
          568.47,
          639.956,
          643.736,
          626.312,
          690.425,
          720.972,
          712.156,
          693.876,
          689.456,
          703.707,
          726.697,
          864.451,
          778.759,
          753.606,
          775.288,
          819.129,
          799.165,
          774.724,
          849.309,
          853.751,
          891.984,
          785.906,
          873.866,
          912.919,
          841.82,
          851.182,
          863.557,
          916.451,
          842.556,
          900.503,
          886.143,
          943.793,
          888.495,
          930.432,
          930.734,
          884.728,
          956.091,
          918.879,
          892.382,
          993.132,
          999.195,
          945.345,
          1009.038,
          965.769,
          950.498,
          854.729,
          967.449,
          927.082,
          978.335,
          1017.32,
          960.859,
          1000.487,
          973.705,
          971.629,
          1103.163,
          1075.73,
          1025.159,
          1148.663,
          1060.218,
          1136.033,
          1212.63,
          1043.139,
          1183.165,
          1148.014,
          1179.039,
          1064.842,
          1011.71,
          1128.669,
          1050.147,
          1111.899,
          1179.846,
          991.863,
          1111.326,
          1168.961,
          1025.617,
          1098.081,
          1150.862,
          1214.999,
          1238.766,
          1087.19,
          1184.681,
          1221.754,
          1137.999,
          1236.567,
          1198.575,
          1332.629,
          1395.238,
          1366.548,
          1176.753,
          1255.032,
          1311.183,
          1288.501,
          1241.97,
          1429.864,
          1299.419,
          1513.622,
          1421.304,
          1282.049,
          1372.282,
          1381.205,
          1315.347,
          1211.356,
          1252.676,
          1325.483,
          1534.708,
          1411.05,
          1497.065,
          1473.246,
          1404.177,
          1482.835,
          1525.872,
          1393.496,
          1440.124,
          1483.45,
          1566.359,
          1515.37,
          1543.087,
          1382.053,
          1140.67,
          1458.945,
          1614.062,
          1429.863,
          1352.047,
          1511.682,
          1492.037,
          1561.198,
          1847.373,
          1835.788,
          1585.859,
          1538.196,
          1508.306,
          1604.051,
          1377.518,
          1609.352,
          1609.84,
          1565.391,
          1691.342,
          1634.240251572327
         ],
         "y": [
          329.458,
          594.814,
          555.271,
          365.808,
          410.891,
          476.426,
          403.136,
          482.787,
          480.293,
          550.716,
          506.225,
          458.951,
          467.598,
          482.634,
          484.987,
          515.894,
          508.747,
          483.565,
          558.411,
          567.615,
          561.1,
          601.313,
          620.5,
          531.708,
          499.419,
          597.514,
          542.776,
          524.7,
          532.917,
          538.77,
          626.127,
          520.363,
          602.557,
          624.59,
          663.082,
          726.378,
          616.105,
          629.151,
          609.134,
          617.868,
          656.446,
          575.25,
          690.684,
          653.816,
          626.197,
          734.677,
          656.516,
          647,
          648.37,
          636.691,
          631.29,
          663.174,
          662.48,
          673.045,
          637.425,
          668.228,
          724.792,
          763.17,
          745.978,
          742.947,
          813.104,
          762.95,
          760.964,
          747.102,
          760.447,
          783.616,
          796.314,
          757.895,
          730.428,
          767.697,
          737.526,
          679.54,
          754.661,
          740.873,
          748.465,
          738.821,
          786.799,
          715.823,
          770.329,
          771.231,
          857.002,
          783.149,
          813.358,
          836.574,
          890.713,
          879.243,
          846.835,
          896.489,
          844.518,
          982.083,
          907.726,
          871.768,
          849.927,
          947.112,
          883.058,
          993.443,
          900.596,
          941.192,
          1058.776,
          1003.912,
          893.808,
          924.701,
          971.467,
          893.421,
          867.81,
          891.414,
          997.044,
          1033.734,
          985.524,
          1010.145,
          1021.78,
          916.457,
          1145.44,
          1008.2,
          1025.94,
          955.254,
          1106.774,
          1154.79,
          1071.805,
          1139.734,
          1047.193,
          752.538,
          859.948,
          999.299,
          1019.228,
          1108.382,
          1198.684,
          1019.034,
          1221.477,
          1205.37,
          1086.728,
          1053.813,
          965.305,
          1057.534,
          987.158,
          1054.888,
          1081.839,
          1137.203,
          1104.95,
          1117.423,
          1083.525786163522
         ]
        }
       ],
       "layout": {
        "showlegend": true,
        "template": {
         "data": {
          "bar": [
           {
            "error_x": {
             "color": "#2a3f5f"
            },
            "error_y": {
             "color": "#2a3f5f"
            },
            "marker": {
             "line": {
              "color": "#E5ECF6",
              "width": 0.5
             },
             "pattern": {
              "fillmode": "overlay",
              "size": 10,
              "solidity": 0.2
             }
            },
            "type": "bar"
           }
          ],
          "barpolar": [
           {
            "marker": {
             "line": {
              "color": "#E5ECF6",
              "width": 0.5
             },
             "pattern": {
              "fillmode": "overlay",
              "size": 10,
              "solidity": 0.2
             }
            },
            "type": "barpolar"
           }
          ],
          "carpet": [
           {
            "aaxis": {
             "endlinecolor": "#2a3f5f",
             "gridcolor": "white",
             "linecolor": "white",
             "minorgridcolor": "white",
             "startlinecolor": "#2a3f5f"
            },
            "baxis": {
             "endlinecolor": "#2a3f5f",
             "gridcolor": "white",
             "linecolor": "white",
             "minorgridcolor": "white",
             "startlinecolor": "#2a3f5f"
            },
            "type": "carpet"
           }
          ],
          "choropleth": [
           {
            "colorbar": {
             "outlinewidth": 0,
             "ticks": ""
            },
            "type": "choropleth"
           }
          ],
          "contour": [
           {
            "colorbar": {
             "outlinewidth": 0,
             "ticks": ""
            },
            "colorscale": [
             [
              0,
              "#0d0887"
             ],
             [
              0.1111111111111111,
              "#46039f"
             ],
             [
              0.2222222222222222,
              "#7201a8"
             ],
             [
              0.3333333333333333,
              "#9c179e"
             ],
             [
              0.4444444444444444,
              "#bd3786"
             ],
             [
              0.5555555555555556,
              "#d8576b"
             ],
             [
              0.6666666666666666,
              "#ed7953"
             ],
             [
              0.7777777777777778,
              "#fb9f3a"
             ],
             [
              0.8888888888888888,
              "#fdca26"
             ],
             [
              1,
              "#f0f921"
             ]
            ],
            "type": "contour"
           }
          ],
          "contourcarpet": [
           {
            "colorbar": {
             "outlinewidth": 0,
             "ticks": ""
            },
            "type": "contourcarpet"
           }
          ],
          "heatmap": [
           {
            "colorbar": {
             "outlinewidth": 0,
             "ticks": ""
            },
            "colorscale": [
             [
              0,
              "#0d0887"
             ],
             [
              0.1111111111111111,
              "#46039f"
             ],
             [
              0.2222222222222222,
              "#7201a8"
             ],
             [
              0.3333333333333333,
              "#9c179e"
             ],
             [
              0.4444444444444444,
              "#bd3786"
             ],
             [
              0.5555555555555556,
              "#d8576b"
             ],
             [
              0.6666666666666666,
              "#ed7953"
             ],
             [
              0.7777777777777778,
              "#fb9f3a"
             ],
             [
              0.8888888888888888,
              "#fdca26"
             ],
             [
              1,
              "#f0f921"
             ]
            ],
            "type": "heatmap"
           }
          ],
          "heatmapgl": [
           {
            "colorbar": {
             "outlinewidth": 0,
             "ticks": ""
            },
            "colorscale": [
             [
              0,
              "#0d0887"
             ],
             [
              0.1111111111111111,
              "#46039f"
             ],
             [
              0.2222222222222222,
              "#7201a8"
             ],
             [
              0.3333333333333333,
              "#9c179e"
             ],
             [
              0.4444444444444444,
              "#bd3786"
             ],
             [
              0.5555555555555556,
              "#d8576b"
             ],
             [
              0.6666666666666666,
              "#ed7953"
             ],
             [
              0.7777777777777778,
              "#fb9f3a"
             ],
             [
              0.8888888888888888,
              "#fdca26"
             ],
             [
              1,
              "#f0f921"
             ]
            ],
            "type": "heatmapgl"
           }
          ],
          "histogram": [
           {
            "marker": {
             "pattern": {
              "fillmode": "overlay",
              "size": 10,
              "solidity": 0.2
             }
            },
            "type": "histogram"
           }
          ],
          "histogram2d": [
           {
            "colorbar": {
             "outlinewidth": 0,
             "ticks": ""
            },
            "colorscale": [
             [
              0,
              "#0d0887"
             ],
             [
              0.1111111111111111,
              "#46039f"
             ],
             [
              0.2222222222222222,
              "#7201a8"
             ],
             [
              0.3333333333333333,
              "#9c179e"
             ],
             [
              0.4444444444444444,
              "#bd3786"
             ],
             [
              0.5555555555555556,
              "#d8576b"
             ],
             [
              0.6666666666666666,
              "#ed7953"
             ],
             [
              0.7777777777777778,
              "#fb9f3a"
             ],
             [
              0.8888888888888888,
              "#fdca26"
             ],
             [
              1,
              "#f0f921"
             ]
            ],
            "type": "histogram2d"
           }
          ],
          "histogram2dcontour": [
           {
            "colorbar": {
             "outlinewidth": 0,
             "ticks": ""
            },
            "colorscale": [
             [
              0,
              "#0d0887"
             ],
             [
              0.1111111111111111,
              "#46039f"
             ],
             [
              0.2222222222222222,
              "#7201a8"
             ],
             [
              0.3333333333333333,
              "#9c179e"
             ],
             [
              0.4444444444444444,
              "#bd3786"
             ],
             [
              0.5555555555555556,
              "#d8576b"
             ],
             [
              0.6666666666666666,
              "#ed7953"
             ],
             [
              0.7777777777777778,
              "#fb9f3a"
             ],
             [
              0.8888888888888888,
              "#fdca26"
             ],
             [
              1,
              "#f0f921"
             ]
            ],
            "type": "histogram2dcontour"
           }
          ],
          "mesh3d": [
           {
            "colorbar": {
             "outlinewidth": 0,
             "ticks": ""
            },
            "type": "mesh3d"
           }
          ],
          "parcoords": [
           {
            "line": {
             "colorbar": {
              "outlinewidth": 0,
              "ticks": ""
             }
            },
            "type": "parcoords"
           }
          ],
          "pie": [
           {
            "automargin": true,
            "type": "pie"
           }
          ],
          "scatter": [
           {
            "fillpattern": {
             "fillmode": "overlay",
             "size": 10,
             "solidity": 0.2
            },
            "type": "scatter"
           }
          ],
          "scatter3d": [
           {
            "line": {
             "colorbar": {
              "outlinewidth": 0,
              "ticks": ""
             }
            },
            "marker": {
             "colorbar": {
              "outlinewidth": 0,
              "ticks": ""
             }
            },
            "type": "scatter3d"
           }
          ],
          "scattercarpet": [
           {
            "marker": {
             "colorbar": {
              "outlinewidth": 0,
              "ticks": ""
             }
            },
            "type": "scattercarpet"
           }
          ],
          "scattergeo": [
           {
            "marker": {
             "colorbar": {
              "outlinewidth": 0,
              "ticks": ""
             }
            },
            "type": "scattergeo"
           }
          ],
          "scattergl": [
           {
            "marker": {
             "colorbar": {
              "outlinewidth": 0,
              "ticks": ""
             }
            },
            "type": "scattergl"
           }
          ],
          "scattermapbox": [
           {
            "marker": {
             "colorbar": {
              "outlinewidth": 0,
              "ticks": ""
             }
            },
            "type": "scattermapbox"
           }
          ],
          "scatterpolar": [
           {
            "marker": {
             "colorbar": {
              "outlinewidth": 0,
              "ticks": ""
             }
            },
            "type": "scatterpolar"
           }
          ],
          "scatterpolargl": [
           {
            "marker": {
             "colorbar": {
              "outlinewidth": 0,
              "ticks": ""
             }
            },
            "type": "scatterpolargl"
           }
          ],
          "scatterternary": [
           {
            "marker": {
             "colorbar": {
              "outlinewidth": 0,
              "ticks": ""
             }
            },
            "type": "scatterternary"
           }
          ],
          "surface": [
           {
            "colorbar": {
             "outlinewidth": 0,
             "ticks": ""
            },
            "colorscale": [
             [
              0,
              "#0d0887"
             ],
             [
              0.1111111111111111,
              "#46039f"
             ],
             [
              0.2222222222222222,
              "#7201a8"
             ],
             [
              0.3333333333333333,
              "#9c179e"
             ],
             [
              0.4444444444444444,
              "#bd3786"
             ],
             [
              0.5555555555555556,
              "#d8576b"
             ],
             [
              0.6666666666666666,
              "#ed7953"
             ],
             [
              0.7777777777777778,
              "#fb9f3a"
             ],
             [
              0.8888888888888888,
              "#fdca26"
             ],
             [
              1,
              "#f0f921"
             ]
            ],
            "type": "surface"
           }
          ],
          "table": [
           {
            "cells": {
             "fill": {
              "color": "#EBF0F8"
             },
             "line": {
              "color": "white"
             }
            },
            "header": {
             "fill": {
              "color": "#C8D4E3"
             },
             "line": {
              "color": "white"
             }
            },
            "type": "table"
           }
          ]
         },
         "layout": {
          "annotationdefaults": {
           "arrowcolor": "#2a3f5f",
           "arrowhead": 0,
           "arrowwidth": 1
          },
          "autotypenumbers": "strict",
          "coloraxis": {
           "colorbar": {
            "outlinewidth": 0,
            "ticks": ""
           }
          },
          "colorscale": {
           "diverging": [
            [
             0,
             "#8e0152"
            ],
            [
             0.1,
             "#c51b7d"
            ],
            [
             0.2,
             "#de77ae"
            ],
            [
             0.3,
             "#f1b6da"
            ],
            [
             0.4,
             "#fde0ef"
            ],
            [
             0.5,
             "#f7f7f7"
            ],
            [
             0.6,
             "#e6f5d0"
            ],
            [
             0.7,
             "#b8e186"
            ],
            [
             0.8,
             "#7fbc41"
            ],
            [
             0.9,
             "#4d9221"
            ],
            [
             1,
             "#276419"
            ]
           ],
           "sequential": [
            [
             0,
             "#0d0887"
            ],
            [
             0.1111111111111111,
             "#46039f"
            ],
            [
             0.2222222222222222,
             "#7201a8"
            ],
            [
             0.3333333333333333,
             "#9c179e"
            ],
            [
             0.4444444444444444,
             "#bd3786"
            ],
            [
             0.5555555555555556,
             "#d8576b"
            ],
            [
             0.6666666666666666,
             "#ed7953"
            ],
            [
             0.7777777777777778,
             "#fb9f3a"
            ],
            [
             0.8888888888888888,
             "#fdca26"
            ],
            [
             1,
             "#f0f921"
            ]
           ],
           "sequentialminus": [
            [
             0,
             "#0d0887"
            ],
            [
             0.1111111111111111,
             "#46039f"
            ],
            [
             0.2222222222222222,
             "#7201a8"
            ],
            [
             0.3333333333333333,
             "#9c179e"
            ],
            [
             0.4444444444444444,
             "#bd3786"
            ],
            [
             0.5555555555555556,
             "#d8576b"
            ],
            [
             0.6666666666666666,
             "#ed7953"
            ],
            [
             0.7777777777777778,
             "#fb9f3a"
            ],
            [
             0.8888888888888888,
             "#fdca26"
            ],
            [
             1,
             "#f0f921"
            ]
           ]
          },
          "colorway": [
           "#636efa",
           "#EF553B",
           "#00cc96",
           "#ab63fa",
           "#FFA15A",
           "#19d3f3",
           "#FF6692",
           "#B6E880",
           "#FF97FF",
           "#FECB52"
          ],
          "font": {
           "color": "#2a3f5f"
          },
          "geo": {
           "bgcolor": "white",
           "lakecolor": "white",
           "landcolor": "#E5ECF6",
           "showlakes": true,
           "showland": true,
           "subunitcolor": "white"
          },
          "hoverlabel": {
           "align": "left"
          },
          "hovermode": "closest",
          "mapbox": {
           "style": "light"
          },
          "paper_bgcolor": "white",
          "plot_bgcolor": "#E5ECF6",
          "polar": {
           "angularaxis": {
            "gridcolor": "white",
            "linecolor": "white",
            "ticks": ""
           },
           "bgcolor": "#E5ECF6",
           "radialaxis": {
            "gridcolor": "white",
            "linecolor": "white",
            "ticks": ""
           }
          },
          "scene": {
           "xaxis": {
            "backgroundcolor": "#E5ECF6",
            "gridcolor": "white",
            "gridwidth": 2,
            "linecolor": "white",
            "showbackground": true,
            "ticks": "",
            "zerolinecolor": "white"
           },
           "yaxis": {
            "backgroundcolor": "#E5ECF6",
            "gridcolor": "white",
            "gridwidth": 2,
            "linecolor": "white",
            "showbackground": true,
            "ticks": "",
            "zerolinecolor": "white"
           },
           "zaxis": {
            "backgroundcolor": "#E5ECF6",
            "gridcolor": "white",
            "gridwidth": 2,
            "linecolor": "white",
            "showbackground": true,
            "ticks": "",
            "zerolinecolor": "white"
           }
          },
          "shapedefaults": {
           "line": {
            "color": "#2a3f5f"
           }
          },
          "ternary": {
           "aaxis": {
            "gridcolor": "white",
            "linecolor": "white",
            "ticks": ""
           },
           "baxis": {
            "gridcolor": "white",
            "linecolor": "white",
            "ticks": ""
           },
           "bgcolor": "#E5ECF6",
           "caxis": {
            "gridcolor": "white",
            "linecolor": "white",
            "ticks": ""
           }
          },
          "title": {
           "x": 0.05
          },
          "xaxis": {
           "automargin": true,
           "gridcolor": "white",
           "linecolor": "white",
           "ticks": "",
           "title": {
            "standoff": 15
           },
           "zerolinecolor": "white",
           "zerolinewidth": 2
          },
          "yaxis": {
           "automargin": true,
           "gridcolor": "white",
           "linecolor": "white",
           "ticks": "",
           "title": {
            "standoff": 15
           },
           "zerolinecolor": "white",
           "zerolinewidth": 2
          }
         }
        },
        "title": {
         "text": "Heatmap Queue size"
        },
        "xaxis": {
         "title": {
          "text": "Queue size opposite"
         }
        },
        "yaxis": {
         "title": {
          "text": "Queue size same"
         }
        }
       }
      }
     },
     "metadata": {},
     "output_type": "display_data"
    }
   ],
   "source": [
    "fig = go.Figure()\n",
    "fig.add_trace(go.Scatter(x=time_trie_means_trade,y=queue_size_same_trie_means_trade,mode='lines',name='same',line=dict(color='blue'),showlegend=True))\n",
    "fig.add_trace(go.Scatter(x=time_trie_means_trade,y=queue_size_opposite_trie_means_trade,mode='lines',name='Opposite',line=dict(color='red'),showlegend=True))\n",
    "fig.update_layout(title='Queue size aux trades',xaxis_title='time',yaxis_title='Queue size',showlegend=True)\n",
    "fig.show()\n",
    "\n",
    "fig = go.Figure()\n",
    "fig.add_trace(go.Scatter(x=queue_size_opposite_trie_means_trade,y=queue_size_same_trie_means_trade,mode='markers',name='same',line=dict(color='blue'),showlegend=True))\n",
    "fig.update_layout(title='Heatmap Queue size aux trades',xaxis_title='Queue size opposite',yaxis_title='Queue size same',showlegend=True)\n",
    "fig.show()\n",
    "\n",
    "fig = go.Figure()\n",
    "fig.add_trace(go.Scatter(x=time_trie_means_add,y=queue_size_same_trie_means_add,mode='lines',name='same',line=dict(color='blue'),showlegend=True))\n",
    "fig.add_trace(go.Scatter(x=time_trie_means_add,y=queue_size_opposite_trie_mean_add,mode='lines',name='Opposite',line=dict(color='red'),showlegend=True))\n",
    "fig.update_layout(title='Queue size aux add',xaxis_title='time',yaxis_title='Queue size',showlegend=True)\n",
    "fig.show()\n",
    "\n",
    "fig = go.Figure()\n",
    "fig.add_trace(go.Scatter(x=queue_size_opposite_trie_mean_add,y=queue_size_same_trie_means_add,mode='markers',name='same',line=dict(color='blue'),showlegend=True))\n",
    "fig.update_layout(title='Heatmap Queue size aux add',xaxis_title='Queue size opposite',yaxis_title='Queue size same',showlegend=True)\n",
    "fig.show()\n",
    "\n",
    "fig = go.Figure()\n",
    "fig.add_trace(go.Scatter(x=time_trie_means_cancel,y=queue_size_same_trie_means_cancel,mode='lines',name='same',line=dict(color='blue'),showlegend=True))\n",
    "fig.add_trace(go.Scatter(x=time_trie_means_cancel,y=queue_size_opposite_trie_means_cancel,mode='lines',name='Opposite',line=dict(color='red'),showlegend=True))\n",
    "fig.update_layout(title='Queue size aux cancel',xaxis_title='time',yaxis_title='Queue size',showlegend=True)\n",
    "fig.show()\n",
    "\n",
    "fig = go.Figure()\n",
    "fig.add_trace(go.Scatter(x=queue_size_opposite_trie_means_cancel,y=queue_size_same_trie_means_cancel,mode='markers',name='same',line=dict(color='blue'),showlegend=True))\n",
    "fig.update_layout(title='Heatmap Queue size aux cancel',xaxis_title='Queue size opposite',yaxis_title='Queue size same',showlegend=True)\n",
    "fig.show()\n",
    "\n",
    "fig = go.Figure()\n",
    "fig.add_trace(go.Scatter(x=queue_size_opposite_trie_mean_add,y=queue_size_same_trie_means_add,mode='markers',name='add',line=dict(color='red'),showlegend=True))\n",
    "fig.add_trace(go.Scatter(x=queue_size_opposite_trie_means_cancel,y=queue_size_same_trie_means_cancel,mode='markers',name='cancel',line=dict(color='green'),showlegend=True))\n",
    "fig.add_trace(go.Scatter(x=queue_size_opposite_trie_means_trade,y=queue_size_same_trie_means_trade,mode='markers',name='trade',line=dict(color='blue'),showlegend=True))\n",
    "fig.update_layout(title='Heatmap Queue size',xaxis_title='Queue size opposite',yaxis_title='Queue size same',showlegend=True)\n",
    "fig.show()"
   ]
  },
  {
   "cell_type": "code",
   "execution_count": null,
   "metadata": {},
   "outputs": [],
   "source": [
    "dic = {}\n",
    "\n",
    "average_event_size = []\n",
    "for f in tqdm(files_csv):\n",
    "    df = pd.read_csv(f)\n",
    "    #df['time_diff'] = df['time_diff']*1.0 # pour le modif en float c'est un timedelta là\n",
    "    sizes = np.unique(np.array((np.unique(df['bid_sz_00'].to_numpy())).tolist() + (np.unique(df['ask_sz_00'].to_numpy())).tolist()))\n",
    "    sizes.sort()\n",
    "    dic = dico_queue_size(sizes, dic)  # Add, Cancel, Trade\n",
    "    \n",
    "    for row in df.itertuples():\n",
    "        average_event_size.append(row.size)\n",
    "        if row.side == 'A':\n",
    "            taille = row.ask_sz_00\n",
    "        elif row.side == 'B':\n",
    "            taille = row.bid_sz_00\n",
    "        if row.action == 'A':\n",
    "            dic[taille][0].append(row.diff_price)\n",
    "        elif row.action == 'C':\n",
    "            dic[taille][1].append(row.diff_price)\n",
    "        elif row.action == 'T':\n",
    "            dic[taille][2].append(row.diff_price)"
   ]
  },
  {
   "cell_type": "code",
   "execution_count": null,
   "metadata": {},
   "outputs": [],
   "source": [
    "Add = []\n",
    "Cancel = []\n",
    "Trade = []\n",
    "sizes_add = []\n",
    "sizes_cancel = []\n",
    "sizes_trade = []\n",
    "\n",
    "#dic = remove_nan_from_dico(dic)\n",
    "average_sizes = compute_means(dic)\n",
    "intensities = dict(sorted(dic.items()))\n",
    "intensities = filtrage(intensities, 30, threshold=100)\n",
    "\n",
    "threshold_trade = 100\n",
    "threshold = 10\n",
    "\n",
    "quarter_add = []\n",
    "quarter_cancel = []\n",
    "quarter_trade = []\n",
    "\n",
    "for i in intensities:\n",
    "    tab = np.concatenate((intensities[i][0], intensities[i][1], intensities[i][2]))\n",
    "    if (len(intensities[i][0])>threshold):\n",
    "            Add.append(np.mean(tab)*len(intensities[i][0])/len(tab))\n",
    "            quarter_add.append(np.var(tab)*1/np.mean(tab)*len(intensities[i][0])/len(tab)*1/np.sqrt(len(tab)))\n",
    "            sizes_add.append(i)\n",
    "    if len(intensities[i][1])!=0:\n",
    "        if (len(intensities[i][1])>threshold):\n",
    "            Cancel.append(np.mean(tab)*len(intensities[i][1])/len(tab))\n",
    "            quarter_cancel.append(np.var(tab)*1/np.mean(tab)*len(intensities[i][1])/len(tab)*1/np.sqrt(len(tab)))\n",
    "            sizes_cancel.append(i)\n",
    "    if len(intensities[i][2])!=0:\n",
    "        if (len(intensities[i][2])>threshold_trade):\n",
    "            Trade.append(np.mean(tab)*len(intensities[i][2])/len(tab))\n",
    "            quarter_trade.append(np.var(tab)*1/np.mean(tab)*len(intensities[i][2])/len(tab)*1/np.sqrt(len(tab)))\n",
    "            sizes_trade.append(i)\n",
    "\n",
    "fig = go.Figure()\n",
    "\n",
    "fig.add_trace(go.Scatter(x=sizes_add/np.mean(average_event_size),y=Add,mode='lines',name='Add',showlegend=True,line=dict(color='blue')))\n",
    "#fig.add_trace(go.Scatter(y=sizes_add/np.mean(average_event_size),x=np.array(Add)+1.96*np.array(quarter_add),mode='lines',name='Add Upper CI',line=dict(width=0),fill=None,showlegend=False))\n",
    "#fig.add_trace(go.Scatter(y=sizes_add/np.mean(average_event_size),x=np.array(Add)-1.96*np.array(quarter_add),mode='lines',name='Add Lower CI',fill='tonexty',line=dict(width=0),fillcolor='rgba(0, 0, 255, 0.2)',showlegend=False))\n",
    "\n",
    "fig.add_trace(go.Scatter(x=sizes_cancel/np.mean(average_event_size),y=Cancel,mode='lines',name='Cancel',showlegend=True,line=dict(color='green')))\n",
    "#fig.add_trace(go.Scatter(y=sizes_cancel/np.mean(average_event_size),x=np.array(Cancel)+1.96*np.array(quarter_cancel),mode='lines',name='Cancel Upper CI',line=dict(width=0),fill=None,showlegend=False))\n",
    "#fig.add_trace(go.Scatter(y=sizes_cancel/np.mean(average_event_size),x=np.array(Cancel)-1.96*np.array(quarter_cancel),mode='lines',name='Cancel Lower CI',fill='tonexty',line=dict(width=0),fillcolor='rgba(0, 255, 0, 0.2)',showlegend=False))\n",
    "\n",
    "fig.add_trace(go.Scatter(x=sizes_trade/np.mean(average_event_size),y=Trade,mode='lines',name='Trade',showlegend=True,line=dict(color='red')))\n",
    "#fig.add_trace(go.Scatter(y=sizes_trade/np.mean(average_event_size),x=np.array(Trade)+1.96*np.array(quarter_trade),mode='lines',name='Trade Upper CI',line=dict(width=0),fill=None,showlegend=False))\n",
    "#fig.add_trace(go.Scatter(y=sizes_trade/np.mean(average_event_size),x=np.array(Trade)-1.96*np.array(quarter_trade),mode='lines',name='Trade Lower CI',fill='tonexty',line=dict(width=0),fillcolor='rgba(255, 0, 0, 0.2)',showlegend=False))\n",
    "\n",
    "fig.update_layout(title=\"Delta Prix forward en fonction des queues size\",xaxis_title='Size (par Mean Event Size)',yaxis_title='price difference',showlegend=True)\n",
    "fig.show()"
   ]
  },
  {
   "cell_type": "code",
   "execution_count": null,
   "metadata": {},
   "outputs": [],
   "source": [
    "print(df.columns)"
   ]
  },
  {
   "cell_type": "code",
   "execution_count": null,
   "metadata": {},
   "outputs": [],
   "source": []
  }
 ],
 "metadata": {
  "kernelspec": {
   "display_name": "IA_m1 (Python 3.9)",
   "language": "python",
   "name": "ia_m1"
  },
  "language_info": {
   "codemirror_mode": {
    "name": "ipython",
    "version": 3
   },
   "file_extension": ".py",
   "mimetype": "text/x-python",
   "name": "python",
   "nbconvert_exporter": "python",
   "pygments_lexer": "ipython3",
   "version": "3.9.16"
  }
 },
 "nbformat": 4,
 "nbformat_minor": 2
}
