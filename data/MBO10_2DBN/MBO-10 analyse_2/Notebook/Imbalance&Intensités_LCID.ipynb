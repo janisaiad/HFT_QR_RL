{
 "cells": [
  {
   "cell_type": "markdown",
   "metadata": {},
   "source": [
    "# LCID\n"
   ]
  },
  {
   "cell_type": "code",
   "execution_count": 1,
   "metadata": {},
   "outputs": [],
   "source": [
    "import glob\n",
    "import os\n",
    "import pandas as pd\n",
    "import warnings\n",
    "warnings.filterwarnings(\"ignore\", category=pd.errors.SettingWithCopyWarning)\n",
    "pd.set_option('display.max_columns', None)\n",
    "pd.set_option('display.expand_frame_repr', False)\n",
    "pd.set_option('display.max_rows', None)\n",
    "import numpy as np\n",
    "import plotly.graph_objects as go\n",
    "from tqdm import tqdm\n",
    "import matplotlib.pyplot as plt"
   ]
  },
  {
   "cell_type": "markdown",
   "metadata": {},
   "source": [
    "# Étude de l'imbalance"
   ]
  },
  {
   "cell_type": "code",
   "execution_count": 2,
   "metadata": {},
   "outputs": [
    {
     "name": "stderr",
     "output_type": "stream",
     "text": [
      "100%|██████████| 65/65 [00:06<00:00,  9.61it/s]"
     ]
    },
    {
     "name": "stdout",
     "output_type": "stream",
     "text": [
      "A quel point c'est long: 2014612\n"
     ]
    },
    {
     "name": "stderr",
     "output_type": "stream",
     "text": [
      "\n"
     ]
    }
   ],
   "source": [
    "files_csv = glob.glob(os.path.join(\"/Volumes/T9/CSV_LCID_NASDAQ_PL\", \"*.csv\"))\n",
    "imb = np.array([])\n",
    "price = np.array([])\n",
    "limite = 0\n",
    "for f in tqdm(files_csv):\n",
    "    df = pd.read_csv(f)\n",
    "    df = df[:-100]\n",
    "    imb = np.concatenate([imb, df['imbalance'].to_numpy()])\n",
    "    price = np.concatenate([price, df['Mean_price_diff'].to_numpy()])\n",
    "\n",
    "print(f\"A quel point c'est long: {len(imb)}\")\n",
    "# ATTENTION L'imbalance est moins l'imbalance et les mid price sont - les midprices, dcp ca chage rien au graphe mais a modif au cas ou"
   ]
  },
  {
   "cell_type": "code",
   "execution_count": 3,
   "metadata": {},
   "outputs": [],
   "source": [
    "indices_trie = np.argsort(imb)\n",
    "\n",
    "bounds = 0.85\n",
    "imb_trie = imb[indices_trie]\n",
    "price_trie = price[indices_trie]\n",
    "mask = (imb_trie >= -bounds)&(imb_trie <= bounds)\n",
    "imb_trie = imb_trie[mask]\n",
    "price_trie = price_trie[mask]\n",
    "group_size = 70000\n",
    "\n",
    "imb_trie_groups = [imb_trie[i:i + group_size] for i in range(0, len(imb_trie), group_size)]\n",
    "price_trie_groups = [price_trie[i:i + group_size] for i in range(0, len(price_trie), group_size)]\n",
    "\n",
    "imb_trie_means = np.array([np.mean(group) for group in imb_trie_groups])\n",
    "price_trie_means = np.array([np.mean(group) for group in price_trie_groups])\n",
    "\n",
    "imb_trie_std = np.array([np.std(group)/np.sqrt(len(group)) for group in price_trie_groups])"
   ]
  },
  {
   "cell_type": "code",
   "execution_count": 4,
   "metadata": {},
   "outputs": [
    {
     "data": {
      "application/vnd.plotly.v1+json": {
       "config": {
        "plotlyServerURL": "https://plot.ly"
       },
       "data": [
        {
         "line": {
          "width": 0
         },
         "mode": "lines",
         "name": "Upper Bound",
         "showlegend": false,
         "type": "scatter",
         "x": [
          -0.7796031381771209,
          -0.6622992572637019,
          -0.5694302383589843,
          -0.4954271861002344,
          -0.42821107998608315,
          -0.36695705017420993,
          -0.3095405772041923,
          -0.2562021724638699,
          -0.20542009879044104,
          -0.155763305501234,
          -0.10612997902782044,
          -0.056555232576112405,
          -0.008410352463803181,
          0.04079820035537917,
          0.09078717618980219,
          0.14129740244292815,
          0.19145428240117673,
          0.24232933662597414,
          0.2944071695844896,
          0.34895501598612905,
          0.4062087024404477,
          0.4661628722131481,
          0.5303484500249492,
          0.6037224942152286,
          0.6910795057899697,
          0.7938975623912332
         ],
         "y": [
          -0.00004755786818711621,
          -0.000017473897739186423,
          -0.000005260250510879071,
          9.331561649526559e-7,
          0.000011184329476738313,
          0.000013073411253442232,
          0.000009630790372857238,
          0.000012555741656819683,
          0.000010456910008689933,
          0.000007715205197740423,
          0.000006653590809696804,
          0.000008282694125577572,
          0.000006274377081881707,
          0.000006048698987042818,
          0.000004080278865631543,
          0.000005722624552483111,
          0.000002003769470186542,
          0.0000029072073379862756,
          0.0000031685503405893828,
          0.000005532189881282703,
          0.000011208001839421697,
          0.000022713523544195133,
          0.000036164849073578686,
          0.00005194574879443792,
          0.00008915543935439116,
          0.00010177381177620506
         ]
        },
        {
         "fill": "tonexty",
         "fillcolor": "blue",
         "line": {
          "width": 0
         },
         "mode": "lines",
         "name": "Intervalle de confiance à 95%",
         "showlegend": true,
         "type": "scatter",
         "x": [
          -0.7796031381771209,
          -0.6622992572637019,
          -0.5694302383589843,
          -0.4954271861002344,
          -0.42821107998608315,
          -0.36695705017420993,
          -0.3095405772041923,
          -0.2562021724638699,
          -0.20542009879044104,
          -0.155763305501234,
          -0.10612997902782044,
          -0.056555232576112405,
          -0.008410352463803181,
          0.04079820035537917,
          0.09078717618980219,
          0.14129740244292815,
          0.19145428240117673,
          0.24232933662597414,
          0.2944071695844896,
          0.34895501598612905,
          0.4062087024404477,
          0.4661628722131481,
          0.5303484500249492,
          0.6037224942152286,
          0.6910795057899697,
          0.7938975623912332
         ],
         "y": [
          -0.00005772784609859651,
          -0.000028240387975098765,
          -0.000016168320917692412,
          -0.000010076013307809444,
          5.299562375469897e-7,
          0.000001926588746557312,
          -9.165046585712731e-7,
          0.000002158544057466404,
          2.573757055956409e-7,
          -0.00000228663376916948,
          -0.000003367876523982283,
          -0.0000017112655541488188,
          -0.000003274377081882149,
          -0.0000033344132727565636,
          -0.000005223136008488484,
          -0.000003294053123911769,
          -0.000007146626613043795,
          -0.0000059072073379861266,
          -0.000005882836054874997,
          -0.000003532189881282255,
          0.0000017919981605780687,
          0.000012715047884375948,
          0.000025549436640705576,
          0.00004033996549127411,
          0.00007584456064560586,
          0.0000860021995292154
         ]
        },
        {
         "line": {
          "color": "red"
         },
         "mode": "lines",
         "name": "Prix",
         "showlegend": true,
         "type": "scatter",
         "x": [
          -0.7796031381771209,
          -0.6622992572637019,
          -0.5694302383589843,
          -0.4954271861002344,
          -0.42821107998608315,
          -0.36695705017420993,
          -0.3095405772041923,
          -0.2562021724638699,
          -0.20542009879044104,
          -0.155763305501234,
          -0.10612997902782044,
          -0.056555232576112405,
          -0.008410352463803181,
          0.04079820035537917,
          0.09078717618980219,
          0.14129740244292815,
          0.19145428240117673,
          0.24232933662597414,
          0.2944071695844896,
          0.34895501598612905,
          0.4062087024404477,
          0.4661628722131481,
          0.5303484500249492,
          0.6037224942152286,
          0.6910795057899697,
          0.7938975623912332
         ],
         "y": [
          -0.00005264285714285636,
          -0.000022857142857142594,
          -0.000010714285714285741,
          -0.000004571428571428394,
          0.0000058571428571426515,
          0.000007499999999999772,
          0.000004357142857142982,
          0.000007357142857143043,
          0.000005357142857142787,
          0.0000027142857142854718,
          0.0000016428571428572608,
          0.0000032857142857143763,
          0.000001499999999999779,
          0.0000013571428571431272,
          -5.714285714284703e-7,
          0.0000012142857142856714,
          -0.0000025714285714286267,
          -0.0000014999999999999257,
          -0.0000013571428571428072,
          0.0000010000000000002244,
          0.000006499999999999883,
          0.00001771428571428554,
          0.00003085714285714213,
          0.000046142857142856014,
          0.00008249999999999851,
          0.00009388800565271023
         ]
        }
       ],
       "layout": {
        "showlegend": true,
        "template": {
         "data": {
          "bar": [
           {
            "error_x": {
             "color": "#2a3f5f"
            },
            "error_y": {
             "color": "#2a3f5f"
            },
            "marker": {
             "line": {
              "color": "#E5ECF6",
              "width": 0.5
             },
             "pattern": {
              "fillmode": "overlay",
              "size": 10,
              "solidity": 0.2
             }
            },
            "type": "bar"
           }
          ],
          "barpolar": [
           {
            "marker": {
             "line": {
              "color": "#E5ECF6",
              "width": 0.5
             },
             "pattern": {
              "fillmode": "overlay",
              "size": 10,
              "solidity": 0.2
             }
            },
            "type": "barpolar"
           }
          ],
          "carpet": [
           {
            "aaxis": {
             "endlinecolor": "#2a3f5f",
             "gridcolor": "white",
             "linecolor": "white",
             "minorgridcolor": "white",
             "startlinecolor": "#2a3f5f"
            },
            "baxis": {
             "endlinecolor": "#2a3f5f",
             "gridcolor": "white",
             "linecolor": "white",
             "minorgridcolor": "white",
             "startlinecolor": "#2a3f5f"
            },
            "type": "carpet"
           }
          ],
          "choropleth": [
           {
            "colorbar": {
             "outlinewidth": 0,
             "ticks": ""
            },
            "type": "choropleth"
           }
          ],
          "contour": [
           {
            "colorbar": {
             "outlinewidth": 0,
             "ticks": ""
            },
            "colorscale": [
             [
              0,
              "#0d0887"
             ],
             [
              0.1111111111111111,
              "#46039f"
             ],
             [
              0.2222222222222222,
              "#7201a8"
             ],
             [
              0.3333333333333333,
              "#9c179e"
             ],
             [
              0.4444444444444444,
              "#bd3786"
             ],
             [
              0.5555555555555556,
              "#d8576b"
             ],
             [
              0.6666666666666666,
              "#ed7953"
             ],
             [
              0.7777777777777778,
              "#fb9f3a"
             ],
             [
              0.8888888888888888,
              "#fdca26"
             ],
             [
              1,
              "#f0f921"
             ]
            ],
            "type": "contour"
           }
          ],
          "contourcarpet": [
           {
            "colorbar": {
             "outlinewidth": 0,
             "ticks": ""
            },
            "type": "contourcarpet"
           }
          ],
          "heatmap": [
           {
            "colorbar": {
             "outlinewidth": 0,
             "ticks": ""
            },
            "colorscale": [
             [
              0,
              "#0d0887"
             ],
             [
              0.1111111111111111,
              "#46039f"
             ],
             [
              0.2222222222222222,
              "#7201a8"
             ],
             [
              0.3333333333333333,
              "#9c179e"
             ],
             [
              0.4444444444444444,
              "#bd3786"
             ],
             [
              0.5555555555555556,
              "#d8576b"
             ],
             [
              0.6666666666666666,
              "#ed7953"
             ],
             [
              0.7777777777777778,
              "#fb9f3a"
             ],
             [
              0.8888888888888888,
              "#fdca26"
             ],
             [
              1,
              "#f0f921"
             ]
            ],
            "type": "heatmap"
           }
          ],
          "heatmapgl": [
           {
            "colorbar": {
             "outlinewidth": 0,
             "ticks": ""
            },
            "colorscale": [
             [
              0,
              "#0d0887"
             ],
             [
              0.1111111111111111,
              "#46039f"
             ],
             [
              0.2222222222222222,
              "#7201a8"
             ],
             [
              0.3333333333333333,
              "#9c179e"
             ],
             [
              0.4444444444444444,
              "#bd3786"
             ],
             [
              0.5555555555555556,
              "#d8576b"
             ],
             [
              0.6666666666666666,
              "#ed7953"
             ],
             [
              0.7777777777777778,
              "#fb9f3a"
             ],
             [
              0.8888888888888888,
              "#fdca26"
             ],
             [
              1,
              "#f0f921"
             ]
            ],
            "type": "heatmapgl"
           }
          ],
          "histogram": [
           {
            "marker": {
             "pattern": {
              "fillmode": "overlay",
              "size": 10,
              "solidity": 0.2
             }
            },
            "type": "histogram"
           }
          ],
          "histogram2d": [
           {
            "colorbar": {
             "outlinewidth": 0,
             "ticks": ""
            },
            "colorscale": [
             [
              0,
              "#0d0887"
             ],
             [
              0.1111111111111111,
              "#46039f"
             ],
             [
              0.2222222222222222,
              "#7201a8"
             ],
             [
              0.3333333333333333,
              "#9c179e"
             ],
             [
              0.4444444444444444,
              "#bd3786"
             ],
             [
              0.5555555555555556,
              "#d8576b"
             ],
             [
              0.6666666666666666,
              "#ed7953"
             ],
             [
              0.7777777777777778,
              "#fb9f3a"
             ],
             [
              0.8888888888888888,
              "#fdca26"
             ],
             [
              1,
              "#f0f921"
             ]
            ],
            "type": "histogram2d"
           }
          ],
          "histogram2dcontour": [
           {
            "colorbar": {
             "outlinewidth": 0,
             "ticks": ""
            },
            "colorscale": [
             [
              0,
              "#0d0887"
             ],
             [
              0.1111111111111111,
              "#46039f"
             ],
             [
              0.2222222222222222,
              "#7201a8"
             ],
             [
              0.3333333333333333,
              "#9c179e"
             ],
             [
              0.4444444444444444,
              "#bd3786"
             ],
             [
              0.5555555555555556,
              "#d8576b"
             ],
             [
              0.6666666666666666,
              "#ed7953"
             ],
             [
              0.7777777777777778,
              "#fb9f3a"
             ],
             [
              0.8888888888888888,
              "#fdca26"
             ],
             [
              1,
              "#f0f921"
             ]
            ],
            "type": "histogram2dcontour"
           }
          ],
          "mesh3d": [
           {
            "colorbar": {
             "outlinewidth": 0,
             "ticks": ""
            },
            "type": "mesh3d"
           }
          ],
          "parcoords": [
           {
            "line": {
             "colorbar": {
              "outlinewidth": 0,
              "ticks": ""
             }
            },
            "type": "parcoords"
           }
          ],
          "pie": [
           {
            "automargin": true,
            "type": "pie"
           }
          ],
          "scatter": [
           {
            "fillpattern": {
             "fillmode": "overlay",
             "size": 10,
             "solidity": 0.2
            },
            "type": "scatter"
           }
          ],
          "scatter3d": [
           {
            "line": {
             "colorbar": {
              "outlinewidth": 0,
              "ticks": ""
             }
            },
            "marker": {
             "colorbar": {
              "outlinewidth": 0,
              "ticks": ""
             }
            },
            "type": "scatter3d"
           }
          ],
          "scattercarpet": [
           {
            "marker": {
             "colorbar": {
              "outlinewidth": 0,
              "ticks": ""
             }
            },
            "type": "scattercarpet"
           }
          ],
          "scattergeo": [
           {
            "marker": {
             "colorbar": {
              "outlinewidth": 0,
              "ticks": ""
             }
            },
            "type": "scattergeo"
           }
          ],
          "scattergl": [
           {
            "marker": {
             "colorbar": {
              "outlinewidth": 0,
              "ticks": ""
             }
            },
            "type": "scattergl"
           }
          ],
          "scattermapbox": [
           {
            "marker": {
             "colorbar": {
              "outlinewidth": 0,
              "ticks": ""
             }
            },
            "type": "scattermapbox"
           }
          ],
          "scatterpolar": [
           {
            "marker": {
             "colorbar": {
              "outlinewidth": 0,
              "ticks": ""
             }
            },
            "type": "scatterpolar"
           }
          ],
          "scatterpolargl": [
           {
            "marker": {
             "colorbar": {
              "outlinewidth": 0,
              "ticks": ""
             }
            },
            "type": "scatterpolargl"
           }
          ],
          "scatterternary": [
           {
            "marker": {
             "colorbar": {
              "outlinewidth": 0,
              "ticks": ""
             }
            },
            "type": "scatterternary"
           }
          ],
          "surface": [
           {
            "colorbar": {
             "outlinewidth": 0,
             "ticks": ""
            },
            "colorscale": [
             [
              0,
              "#0d0887"
             ],
             [
              0.1111111111111111,
              "#46039f"
             ],
             [
              0.2222222222222222,
              "#7201a8"
             ],
             [
              0.3333333333333333,
              "#9c179e"
             ],
             [
              0.4444444444444444,
              "#bd3786"
             ],
             [
              0.5555555555555556,
              "#d8576b"
             ],
             [
              0.6666666666666666,
              "#ed7953"
             ],
             [
              0.7777777777777778,
              "#fb9f3a"
             ],
             [
              0.8888888888888888,
              "#fdca26"
             ],
             [
              1,
              "#f0f921"
             ]
            ],
            "type": "surface"
           }
          ],
          "table": [
           {
            "cells": {
             "fill": {
              "color": "#EBF0F8"
             },
             "line": {
              "color": "white"
             }
            },
            "header": {
             "fill": {
              "color": "#C8D4E3"
             },
             "line": {
              "color": "white"
             }
            },
            "type": "table"
           }
          ]
         },
         "layout": {
          "annotationdefaults": {
           "arrowcolor": "#2a3f5f",
           "arrowhead": 0,
           "arrowwidth": 1
          },
          "autotypenumbers": "strict",
          "coloraxis": {
           "colorbar": {
            "outlinewidth": 0,
            "ticks": ""
           }
          },
          "colorscale": {
           "diverging": [
            [
             0,
             "#8e0152"
            ],
            [
             0.1,
             "#c51b7d"
            ],
            [
             0.2,
             "#de77ae"
            ],
            [
             0.3,
             "#f1b6da"
            ],
            [
             0.4,
             "#fde0ef"
            ],
            [
             0.5,
             "#f7f7f7"
            ],
            [
             0.6,
             "#e6f5d0"
            ],
            [
             0.7,
             "#b8e186"
            ],
            [
             0.8,
             "#7fbc41"
            ],
            [
             0.9,
             "#4d9221"
            ],
            [
             1,
             "#276419"
            ]
           ],
           "sequential": [
            [
             0,
             "#0d0887"
            ],
            [
             0.1111111111111111,
             "#46039f"
            ],
            [
             0.2222222222222222,
             "#7201a8"
            ],
            [
             0.3333333333333333,
             "#9c179e"
            ],
            [
             0.4444444444444444,
             "#bd3786"
            ],
            [
             0.5555555555555556,
             "#d8576b"
            ],
            [
             0.6666666666666666,
             "#ed7953"
            ],
            [
             0.7777777777777778,
             "#fb9f3a"
            ],
            [
             0.8888888888888888,
             "#fdca26"
            ],
            [
             1,
             "#f0f921"
            ]
           ],
           "sequentialminus": [
            [
             0,
             "#0d0887"
            ],
            [
             0.1111111111111111,
             "#46039f"
            ],
            [
             0.2222222222222222,
             "#7201a8"
            ],
            [
             0.3333333333333333,
             "#9c179e"
            ],
            [
             0.4444444444444444,
             "#bd3786"
            ],
            [
             0.5555555555555556,
             "#d8576b"
            ],
            [
             0.6666666666666666,
             "#ed7953"
            ],
            [
             0.7777777777777778,
             "#fb9f3a"
            ],
            [
             0.8888888888888888,
             "#fdca26"
            ],
            [
             1,
             "#f0f921"
            ]
           ]
          },
          "colorway": [
           "#636efa",
           "#EF553B",
           "#00cc96",
           "#ab63fa",
           "#FFA15A",
           "#19d3f3",
           "#FF6692",
           "#B6E880",
           "#FF97FF",
           "#FECB52"
          ],
          "font": {
           "color": "#2a3f5f"
          },
          "geo": {
           "bgcolor": "white",
           "lakecolor": "white",
           "landcolor": "#E5ECF6",
           "showlakes": true,
           "showland": true,
           "subunitcolor": "white"
          },
          "hoverlabel": {
           "align": "left"
          },
          "hovermode": "closest",
          "mapbox": {
           "style": "light"
          },
          "paper_bgcolor": "white",
          "plot_bgcolor": "#E5ECF6",
          "polar": {
           "angularaxis": {
            "gridcolor": "white",
            "linecolor": "white",
            "ticks": ""
           },
           "bgcolor": "#E5ECF6",
           "radialaxis": {
            "gridcolor": "white",
            "linecolor": "white",
            "ticks": ""
           }
          },
          "scene": {
           "xaxis": {
            "backgroundcolor": "#E5ECF6",
            "gridcolor": "white",
            "gridwidth": 2,
            "linecolor": "white",
            "showbackground": true,
            "ticks": "",
            "zerolinecolor": "white"
           },
           "yaxis": {
            "backgroundcolor": "#E5ECF6",
            "gridcolor": "white",
            "gridwidth": 2,
            "linecolor": "white",
            "showbackground": true,
            "ticks": "",
            "zerolinecolor": "white"
           },
           "zaxis": {
            "backgroundcolor": "#E5ECF6",
            "gridcolor": "white",
            "gridwidth": 2,
            "linecolor": "white",
            "showbackground": true,
            "ticks": "",
            "zerolinecolor": "white"
           }
          },
          "shapedefaults": {
           "line": {
            "color": "#2a3f5f"
           }
          },
          "ternary": {
           "aaxis": {
            "gridcolor": "white",
            "linecolor": "white",
            "ticks": ""
           },
           "baxis": {
            "gridcolor": "white",
            "linecolor": "white",
            "ticks": ""
           },
           "bgcolor": "#E5ECF6",
           "caxis": {
            "gridcolor": "white",
            "linecolor": "white",
            "ticks": ""
           }
          },
          "title": {
           "x": 0.05
          },
          "xaxis": {
           "automargin": true,
           "gridcolor": "white",
           "linecolor": "white",
           "ticks": "",
           "title": {
            "standoff": 15
           },
           "zerolinecolor": "white",
           "zerolinewidth": 2
          },
          "yaxis": {
           "automargin": true,
           "gridcolor": "white",
           "linecolor": "white",
           "ticks": "",
           "title": {
            "standoff": 15
           },
           "zerolinecolor": "white",
           "zerolinewidth": 2
          }
         }
        },
        "title": {
         "text": "Imbalance non recentré"
        },
        "xaxis": {
         "title": {
          "text": "imbalance"
         }
        },
        "yaxis": {
         "title": {
          "text": "delta_price"
         }
        }
       }
      }
     },
     "metadata": {},
     "output_type": "display_data"
    }
   ],
   "source": [
    "fig = go.Figure()\n",
    "fig.add_trace(go.Scatter(x=imb_trie_means,y=price_trie_means + 1.96 * imb_trie_std,mode='lines',line=dict(width=0),name='Upper Bound',showlegend=False))\n",
    "fig.add_trace(go.Scatter(x=imb_trie_means,y=price_trie_means - 1.96 * imb_trie_std,mode='lines',line=dict(width=0),fill='tonexty',fillcolor='blue',name='Intervalle de confiance à 95%',showlegend=True))\n",
    "fig.add_trace(go.Scatter(x=imb_trie_means,y=price_trie_means,mode='lines',name='Prix',line=dict(color='red'),showlegend=True))\n",
    "fig.update_layout(title='Imbalance non recentré',xaxis_title='imbalance',yaxis_title='delta_price',showlegend=True)\n",
    "fig.show()"
   ]
  },
  {
   "cell_type": "code",
   "execution_count": 5,
   "metadata": {},
   "outputs": [
    {
     "data": {
      "application/vnd.plotly.v1+json": {
       "config": {
        "plotlyServerURL": "https://plot.ly"
       },
       "data": [
        {
         "mode": "lines",
         "name": "Density Curve",
         "type": "scatter",
         "x": [
          -0.8216666666666667,
          -0.765,
          -0.7083333333333333,
          -0.6516666666666666,
          -0.595,
          -0.5383333333333333,
          -0.4816666666666667,
          -0.425,
          -0.3683333333333333,
          -0.31166666666666665,
          -0.255,
          -0.19833333333333336,
          -0.14166666666666672,
          -0.08500000000000002,
          -0.02833333333333332,
          0.02833333333333332,
          0.08499999999999996,
          0.14166666666666666,
          0.19833333333333336,
          0.255,
          0.31166666666666665,
          0.3683333333333333,
          0.42499999999999993,
          0.4816666666666666,
          0.5383333333333332,
          0.5949999999999999,
          0.6516666666666666,
          0.7083333333333334,
          0.765,
          0.8216666666666667
         ],
         "y": [
          27154,
          30173,
          35408,
          39140,
          44708,
          53966,
          56902,
          63524,
          65817,
          71742,
          77044,
          78947,
          80682,
          79591,
          82379,
          80134,
          78600,
          79157,
          78819,
          76622,
          73166,
          69712,
          67490,
          63067,
          57218,
          51504,
          45196,
          38126,
          32823,
          27799
         ]
        }
       ],
       "layout": {
        "showlegend": false,
        "template": {
         "data": {
          "bar": [
           {
            "error_x": {
             "color": "#2a3f5f"
            },
            "error_y": {
             "color": "#2a3f5f"
            },
            "marker": {
             "line": {
              "color": "#E5ECF6",
              "width": 0.5
             },
             "pattern": {
              "fillmode": "overlay",
              "size": 10,
              "solidity": 0.2
             }
            },
            "type": "bar"
           }
          ],
          "barpolar": [
           {
            "marker": {
             "line": {
              "color": "#E5ECF6",
              "width": 0.5
             },
             "pattern": {
              "fillmode": "overlay",
              "size": 10,
              "solidity": 0.2
             }
            },
            "type": "barpolar"
           }
          ],
          "carpet": [
           {
            "aaxis": {
             "endlinecolor": "#2a3f5f",
             "gridcolor": "white",
             "linecolor": "white",
             "minorgridcolor": "white",
             "startlinecolor": "#2a3f5f"
            },
            "baxis": {
             "endlinecolor": "#2a3f5f",
             "gridcolor": "white",
             "linecolor": "white",
             "minorgridcolor": "white",
             "startlinecolor": "#2a3f5f"
            },
            "type": "carpet"
           }
          ],
          "choropleth": [
           {
            "colorbar": {
             "outlinewidth": 0,
             "ticks": ""
            },
            "type": "choropleth"
           }
          ],
          "contour": [
           {
            "colorbar": {
             "outlinewidth": 0,
             "ticks": ""
            },
            "colorscale": [
             [
              0,
              "#0d0887"
             ],
             [
              0.1111111111111111,
              "#46039f"
             ],
             [
              0.2222222222222222,
              "#7201a8"
             ],
             [
              0.3333333333333333,
              "#9c179e"
             ],
             [
              0.4444444444444444,
              "#bd3786"
             ],
             [
              0.5555555555555556,
              "#d8576b"
             ],
             [
              0.6666666666666666,
              "#ed7953"
             ],
             [
              0.7777777777777778,
              "#fb9f3a"
             ],
             [
              0.8888888888888888,
              "#fdca26"
             ],
             [
              1,
              "#f0f921"
             ]
            ],
            "type": "contour"
           }
          ],
          "contourcarpet": [
           {
            "colorbar": {
             "outlinewidth": 0,
             "ticks": ""
            },
            "type": "contourcarpet"
           }
          ],
          "heatmap": [
           {
            "colorbar": {
             "outlinewidth": 0,
             "ticks": ""
            },
            "colorscale": [
             [
              0,
              "#0d0887"
             ],
             [
              0.1111111111111111,
              "#46039f"
             ],
             [
              0.2222222222222222,
              "#7201a8"
             ],
             [
              0.3333333333333333,
              "#9c179e"
             ],
             [
              0.4444444444444444,
              "#bd3786"
             ],
             [
              0.5555555555555556,
              "#d8576b"
             ],
             [
              0.6666666666666666,
              "#ed7953"
             ],
             [
              0.7777777777777778,
              "#fb9f3a"
             ],
             [
              0.8888888888888888,
              "#fdca26"
             ],
             [
              1,
              "#f0f921"
             ]
            ],
            "type": "heatmap"
           }
          ],
          "heatmapgl": [
           {
            "colorbar": {
             "outlinewidth": 0,
             "ticks": ""
            },
            "colorscale": [
             [
              0,
              "#0d0887"
             ],
             [
              0.1111111111111111,
              "#46039f"
             ],
             [
              0.2222222222222222,
              "#7201a8"
             ],
             [
              0.3333333333333333,
              "#9c179e"
             ],
             [
              0.4444444444444444,
              "#bd3786"
             ],
             [
              0.5555555555555556,
              "#d8576b"
             ],
             [
              0.6666666666666666,
              "#ed7953"
             ],
             [
              0.7777777777777778,
              "#fb9f3a"
             ],
             [
              0.8888888888888888,
              "#fdca26"
             ],
             [
              1,
              "#f0f921"
             ]
            ],
            "type": "heatmapgl"
           }
          ],
          "histogram": [
           {
            "marker": {
             "pattern": {
              "fillmode": "overlay",
              "size": 10,
              "solidity": 0.2
             }
            },
            "type": "histogram"
           }
          ],
          "histogram2d": [
           {
            "colorbar": {
             "outlinewidth": 0,
             "ticks": ""
            },
            "colorscale": [
             [
              0,
              "#0d0887"
             ],
             [
              0.1111111111111111,
              "#46039f"
             ],
             [
              0.2222222222222222,
              "#7201a8"
             ],
             [
              0.3333333333333333,
              "#9c179e"
             ],
             [
              0.4444444444444444,
              "#bd3786"
             ],
             [
              0.5555555555555556,
              "#d8576b"
             ],
             [
              0.6666666666666666,
              "#ed7953"
             ],
             [
              0.7777777777777778,
              "#fb9f3a"
             ],
             [
              0.8888888888888888,
              "#fdca26"
             ],
             [
              1,
              "#f0f921"
             ]
            ],
            "type": "histogram2d"
           }
          ],
          "histogram2dcontour": [
           {
            "colorbar": {
             "outlinewidth": 0,
             "ticks": ""
            },
            "colorscale": [
             [
              0,
              "#0d0887"
             ],
             [
              0.1111111111111111,
              "#46039f"
             ],
             [
              0.2222222222222222,
              "#7201a8"
             ],
             [
              0.3333333333333333,
              "#9c179e"
             ],
             [
              0.4444444444444444,
              "#bd3786"
             ],
             [
              0.5555555555555556,
              "#d8576b"
             ],
             [
              0.6666666666666666,
              "#ed7953"
             ],
             [
              0.7777777777777778,
              "#fb9f3a"
             ],
             [
              0.8888888888888888,
              "#fdca26"
             ],
             [
              1,
              "#f0f921"
             ]
            ],
            "type": "histogram2dcontour"
           }
          ],
          "mesh3d": [
           {
            "colorbar": {
             "outlinewidth": 0,
             "ticks": ""
            },
            "type": "mesh3d"
           }
          ],
          "parcoords": [
           {
            "line": {
             "colorbar": {
              "outlinewidth": 0,
              "ticks": ""
             }
            },
            "type": "parcoords"
           }
          ],
          "pie": [
           {
            "automargin": true,
            "type": "pie"
           }
          ],
          "scatter": [
           {
            "fillpattern": {
             "fillmode": "overlay",
             "size": 10,
             "solidity": 0.2
            },
            "type": "scatter"
           }
          ],
          "scatter3d": [
           {
            "line": {
             "colorbar": {
              "outlinewidth": 0,
              "ticks": ""
             }
            },
            "marker": {
             "colorbar": {
              "outlinewidth": 0,
              "ticks": ""
             }
            },
            "type": "scatter3d"
           }
          ],
          "scattercarpet": [
           {
            "marker": {
             "colorbar": {
              "outlinewidth": 0,
              "ticks": ""
             }
            },
            "type": "scattercarpet"
           }
          ],
          "scattergeo": [
           {
            "marker": {
             "colorbar": {
              "outlinewidth": 0,
              "ticks": ""
             }
            },
            "type": "scattergeo"
           }
          ],
          "scattergl": [
           {
            "marker": {
             "colorbar": {
              "outlinewidth": 0,
              "ticks": ""
             }
            },
            "type": "scattergl"
           }
          ],
          "scattermapbox": [
           {
            "marker": {
             "colorbar": {
              "outlinewidth": 0,
              "ticks": ""
             }
            },
            "type": "scattermapbox"
           }
          ],
          "scatterpolar": [
           {
            "marker": {
             "colorbar": {
              "outlinewidth": 0,
              "ticks": ""
             }
            },
            "type": "scatterpolar"
           }
          ],
          "scatterpolargl": [
           {
            "marker": {
             "colorbar": {
              "outlinewidth": 0,
              "ticks": ""
             }
            },
            "type": "scatterpolargl"
           }
          ],
          "scatterternary": [
           {
            "marker": {
             "colorbar": {
              "outlinewidth": 0,
              "ticks": ""
             }
            },
            "type": "scatterternary"
           }
          ],
          "surface": [
           {
            "colorbar": {
             "outlinewidth": 0,
             "ticks": ""
            },
            "colorscale": [
             [
              0,
              "#0d0887"
             ],
             [
              0.1111111111111111,
              "#46039f"
             ],
             [
              0.2222222222222222,
              "#7201a8"
             ],
             [
              0.3333333333333333,
              "#9c179e"
             ],
             [
              0.4444444444444444,
              "#bd3786"
             ],
             [
              0.5555555555555556,
              "#d8576b"
             ],
             [
              0.6666666666666666,
              "#ed7953"
             ],
             [
              0.7777777777777778,
              "#fb9f3a"
             ],
             [
              0.8888888888888888,
              "#fdca26"
             ],
             [
              1,
              "#f0f921"
             ]
            ],
            "type": "surface"
           }
          ],
          "table": [
           {
            "cells": {
             "fill": {
              "color": "#EBF0F8"
             },
             "line": {
              "color": "white"
             }
            },
            "header": {
             "fill": {
              "color": "#C8D4E3"
             },
             "line": {
              "color": "white"
             }
            },
            "type": "table"
           }
          ]
         },
         "layout": {
          "annotationdefaults": {
           "arrowcolor": "#2a3f5f",
           "arrowhead": 0,
           "arrowwidth": 1
          },
          "autotypenumbers": "strict",
          "coloraxis": {
           "colorbar": {
            "outlinewidth": 0,
            "ticks": ""
           }
          },
          "colorscale": {
           "diverging": [
            [
             0,
             "#8e0152"
            ],
            [
             0.1,
             "#c51b7d"
            ],
            [
             0.2,
             "#de77ae"
            ],
            [
             0.3,
             "#f1b6da"
            ],
            [
             0.4,
             "#fde0ef"
            ],
            [
             0.5,
             "#f7f7f7"
            ],
            [
             0.6,
             "#e6f5d0"
            ],
            [
             0.7,
             "#b8e186"
            ],
            [
             0.8,
             "#7fbc41"
            ],
            [
             0.9,
             "#4d9221"
            ],
            [
             1,
             "#276419"
            ]
           ],
           "sequential": [
            [
             0,
             "#0d0887"
            ],
            [
             0.1111111111111111,
             "#46039f"
            ],
            [
             0.2222222222222222,
             "#7201a8"
            ],
            [
             0.3333333333333333,
             "#9c179e"
            ],
            [
             0.4444444444444444,
             "#bd3786"
            ],
            [
             0.5555555555555556,
             "#d8576b"
            ],
            [
             0.6666666666666666,
             "#ed7953"
            ],
            [
             0.7777777777777778,
             "#fb9f3a"
            ],
            [
             0.8888888888888888,
             "#fdca26"
            ],
            [
             1,
             "#f0f921"
            ]
           ],
           "sequentialminus": [
            [
             0,
             "#0d0887"
            ],
            [
             0.1111111111111111,
             "#46039f"
            ],
            [
             0.2222222222222222,
             "#7201a8"
            ],
            [
             0.3333333333333333,
             "#9c179e"
            ],
            [
             0.4444444444444444,
             "#bd3786"
            ],
            [
             0.5555555555555556,
             "#d8576b"
            ],
            [
             0.6666666666666666,
             "#ed7953"
            ],
            [
             0.7777777777777778,
             "#fb9f3a"
            ],
            [
             0.8888888888888888,
             "#fdca26"
            ],
            [
             1,
             "#f0f921"
            ]
           ]
          },
          "colorway": [
           "#636efa",
           "#EF553B",
           "#00cc96",
           "#ab63fa",
           "#FFA15A",
           "#19d3f3",
           "#FF6692",
           "#B6E880",
           "#FF97FF",
           "#FECB52"
          ],
          "font": {
           "color": "#2a3f5f"
          },
          "geo": {
           "bgcolor": "white",
           "lakecolor": "white",
           "landcolor": "#E5ECF6",
           "showlakes": true,
           "showland": true,
           "subunitcolor": "white"
          },
          "hoverlabel": {
           "align": "left"
          },
          "hovermode": "closest",
          "mapbox": {
           "style": "light"
          },
          "paper_bgcolor": "white",
          "plot_bgcolor": "#E5ECF6",
          "polar": {
           "angularaxis": {
            "gridcolor": "white",
            "linecolor": "white",
            "ticks": ""
           },
           "bgcolor": "#E5ECF6",
           "radialaxis": {
            "gridcolor": "white",
            "linecolor": "white",
            "ticks": ""
           }
          },
          "scene": {
           "xaxis": {
            "backgroundcolor": "#E5ECF6",
            "gridcolor": "white",
            "gridwidth": 2,
            "linecolor": "white",
            "showbackground": true,
            "ticks": "",
            "zerolinecolor": "white"
           },
           "yaxis": {
            "backgroundcolor": "#E5ECF6",
            "gridcolor": "white",
            "gridwidth": 2,
            "linecolor": "white",
            "showbackground": true,
            "ticks": "",
            "zerolinecolor": "white"
           },
           "zaxis": {
            "backgroundcolor": "#E5ECF6",
            "gridcolor": "white",
            "gridwidth": 2,
            "linecolor": "white",
            "showbackground": true,
            "ticks": "",
            "zerolinecolor": "white"
           }
          },
          "shapedefaults": {
           "line": {
            "color": "#2a3f5f"
           }
          },
          "ternary": {
           "aaxis": {
            "gridcolor": "white",
            "linecolor": "white",
            "ticks": ""
           },
           "baxis": {
            "gridcolor": "white",
            "linecolor": "white",
            "ticks": ""
           },
           "bgcolor": "#E5ECF6",
           "caxis": {
            "gridcolor": "white",
            "linecolor": "white",
            "ticks": ""
           }
          },
          "title": {
           "x": 0.05
          },
          "xaxis": {
           "automargin": true,
           "gridcolor": "white",
           "linecolor": "white",
           "ticks": "",
           "title": {
            "standoff": 15
           },
           "zerolinecolor": "white",
           "zerolinewidth": 2
          },
          "yaxis": {
           "automargin": true,
           "gridcolor": "white",
           "linecolor": "white",
           "ticks": "",
           "title": {
            "standoff": 15
           },
           "zerolinecolor": "white",
           "zerolinewidth": 2
          }
         }
        },
        "title": {
         "text": "Courbe de distribution de l'imbalance (tous event confondus)"
        },
        "xaxis": {
         "title": {
          "text": "imbalance"
         }
        },
        "yaxis": {
         "title": {
          "text": "number of events"
         }
        }
       }
      }
     },
     "metadata": {},
     "output_type": "display_data"
    }
   ],
   "source": [
    "nb_bins = 30\n",
    "counts, bin_edges = np.histogram(imb_trie, bins=nb_bins)\n",
    "bin_centers = (bin_edges[:-1]+bin_edges[1:])/2\n",
    "\n",
    "fig = go.Figure()\n",
    "fig.add_trace(go.Scatter(x=bin_centers,y=counts,mode='lines',name='Density Curve'))\n",
    "fig.update_layout(title=f\"Courbe de distribution de l'imbalance (tous event confondus)\",xaxis_title='imbalance',yaxis_title='number of events',showlegend=False)\n",
    "fig.show()"
   ]
  },
  {
   "cell_type": "code",
   "execution_count": 6,
   "metadata": {},
   "outputs": [
    {
     "name": "stderr",
     "output_type": "stream",
     "text": [
      "100%|██████████| 65/65 [00:06<00:00, 10.56it/s]"
     ]
    },
    {
     "name": "stdout",
     "output_type": "stream",
     "text": [
      "A quel point c'est long: 52463\n"
     ]
    },
    {
     "name": "stderr",
     "output_type": "stream",
     "text": [
      "\n"
     ]
    }
   ],
   "source": [
    "imb_trade = np.array([])\n",
    "price_trade = np.array([])\n",
    "imb_add = np.array([])\n",
    "price_add = np.array([])\n",
    "imb_cancel = np.array([])\n",
    "price_cancel = np.array([])\n",
    "limite = 0\n",
    "for f in tqdm(files_csv):\n",
    "    df = pd.read_csv(f)\n",
    "    df = df[:-100]\n",
    "    df_trade = df[df['action'] == 'T']\n",
    "    df_cancel = df[df['action'] == 'C']\n",
    "    df_add = df[df['action'] == 'A']\n",
    "    imb_trade = np.concatenate([imb_trade, df_trade['imbalance'].to_numpy()])\n",
    "    price_trade = np.concatenate([price_trade, df_trade['Mean_price_diff'].to_numpy()])\n",
    "    imb_add = np.concatenate([imb_add, df_add['imbalance'].to_numpy()])\n",
    "    price_add = np.concatenate([price_add, df_add['Mean_price_diff'].to_numpy()])\n",
    "    imb_cancel = np.concatenate([imb_cancel, df_cancel['imbalance'].to_numpy()])\n",
    "    price_cancel = np.concatenate([price_cancel, df_cancel['Mean_price_diff'].to_numpy()])\n",
    "    \n",
    "imb_tot = [imb_trade,imb_add,imb_cancel]\n",
    "price_tot = [price_trade,price_add,price_cancel]\n",
    "\n",
    "print(f\"A quel point c'est long: {len(imb_trade)}\")"
   ]
  },
  {
   "cell_type": "code",
   "execution_count": 7,
   "metadata": {},
   "outputs": [],
   "source": [
    "def visu_imbalance_respec(imb_tot, price_tot, i , string, group_size, bound = 0.95):\n",
    "    indices_trie = np.argsort(imb_tot[i])\n",
    "    imb_trie = imb_tot[i][indices_trie]\n",
    "    price_trie = price_tot[i][indices_trie]\n",
    "    mask = (imb_trie >= -bound)&(imb_trie <= bound)\n",
    "    imb_trie = imb_trie[mask]\n",
    "    price_trie = price_trie[mask]\n",
    "    imb_trie_groups = [imb_trie[i:i+group_size] for i in range(0, len(imb_trie), group_size)]\n",
    "    price_trie_groups = [price_trie[i:i+group_size] for i in range(0, len(price_trie), group_size)]\n",
    "    imb_trie_means = np.array([np.mean(group) for group in imb_trie_groups])\n",
    "    price_trie_means = np.array([np.mean(group) for group in price_trie_groups])\n",
    "    imb_trie_std = np.array([np.std(group)/np.sqrt(len(group)) for group in price_trie_groups])\n",
    "\n",
    "    fig = go.Figure()\n",
    "    fig.add_trace(go.Scatter(x=imb_trie_means,y=price_trie_means + 1.96 * imb_trie_std,mode='lines',line=dict(width=0),name='Upper Bound',showlegend=False))\n",
    "    fig.add_trace(go.Scatter(x=imb_trie_means,y=price_trie_means - 1.96 * imb_trie_std,mode='lines',line=dict(width=0),fill='tonexty',fillcolor='blue',name='Intervalle de confiance à 95%',showlegend=True))\n",
    "    fig.add_trace(go.Scatter(x=imb_trie_means,y=price_trie_means,mode='lines',name='Prix',line=dict(color='red'),showlegend=True))\n",
    "    fig.update_layout(title=f'Imbalance des {string}',xaxis_title='imbalance',yaxis_title='delta_price',showlegend=True)\n",
    "    fig.show()\n",
    "\n",
    "    nb_bins = 20\n",
    "    counts, bin_edges = np.histogram(imb_trie, bins=nb_bins)\n",
    "    bin_centers = (bin_edges[:-1]+bin_edges[1:])/2\n",
    "\n",
    "    fig = go.Figure()\n",
    "    fig.add_trace(go.Scatter(x=bin_centers,y=counts,mode='lines',name='Density Curve'))\n",
    "    fig.update_layout(title=f\"Courbe de distribution de l'imbalance des {string}\",xaxis_title='imbalance',yaxis_title='number of events',showlegend=False)\n",
    "    fig.show()\n",
    "\n",
    "def visu_event_vs_imbalance(imb_tot, price_tot, string, bound = 0.9):\n",
    "    fig = go.Figure()\n",
    "    nb_bins = 25\n",
    "    counts_tot = []\n",
    "    bins_centers_tot = []\n",
    "    for i in range (len(imb_tot)):\n",
    "        indices_trie = np.argsort(imb_tot[i])\n",
    "        imb_trie = imb_tot[i][indices_trie]\n",
    "        price_trie = price_tot[i][indices_trie]\n",
    "        mask = (imb_trie >= -bound)&(imb_trie <= bound)\n",
    "        imb_trie = imb_trie[mask]\n",
    "        price_trie = price_trie[mask]\n",
    "        counts, bin_edges = np.histogram(imb_trie, bins=nb_bins)\n",
    "        counts_tot.append(counts)\n",
    "        bins_centers_tot.append((bin_edges[:-1]+bin_edges[1:])/2)\n",
    "    counts_total = np.array(counts_tot[0])+np.array(counts_tot[1])+np.array(counts_tot[2])\n",
    "    for i in range (len(imb_tot)):\n",
    "        fig.add_trace(go.Scatter(x=bins_centers_tot[i],y=np.array(counts_tot[i])/counts_total,mode='lines',name=f'{string[i]}'))\n",
    "    fig.update_layout(title=f\"Courbes de distribution de l'imbalance (tous les event))\",xaxis_title='imbalance',yaxis_title=\"Probabilité de l'event\",showlegend=True)\n",
    "    fig.show()"
   ]
  },
  {
   "cell_type": "code",
   "execution_count": 8,
   "metadata": {},
   "outputs": [
    {
     "data": {
      "application/vnd.plotly.v1+json": {
       "config": {
        "plotlyServerURL": "https://plot.ly"
       },
       "data": [
        {
         "line": {
          "width": 0
         },
         "mode": "lines",
         "name": "Upper Bound",
         "showlegend": false,
         "type": "scatter",
         "x": [
          -0.843660799037974,
          -0.5634673740576338,
          -0.29150696258950853,
          -0.03196522592962844,
          0.2536119768475863,
          0.5693808176466827,
          0.8544346232929785
         ],
         "y": [
          0.00011515036330574324,
          0.0011913536288188386,
          0.0016841585984630162,
          0.0015587459555586303,
          0.0008626089130469825,
          0.0002521122727169227,
          0.00003709168680023612
         ]
        },
        {
         "fill": "tonexty",
         "fillcolor": "blue",
         "line": {
          "width": 0
         },
         "mode": "lines",
         "name": "Intervalle de confiance à 95%",
         "showlegend": true,
         "type": "scatter",
         "x": [
          -0.843660799037974,
          -0.5634673740576338,
          -0.29150696258950853,
          -0.03196522592962844,
          0.2536119768475863,
          0.5693808176466827,
          0.8544346232929785
         ],
         "y": [
          0.00005284963669425103,
          0.0010666463711811233,
          0.001549841401536936,
          0.0014272540444413319,
          0.000755391086952999,
          0.0001858877272830739,
          -3.869559682625135e-7
         ]
        },
        {
         "line": {
          "color": "red"
         },
         "mode": "lines",
         "name": "Prix",
         "showlegend": true,
         "type": "scatter",
         "x": [
          -0.843660799037974,
          -0.5634673740576338,
          -0.29150696258950853,
          -0.03196522592962844,
          0.2536119768475863,
          0.5693808176466827,
          0.8544346232929785
         ],
         "y": [
          0.00008399999999999714,
          0.001128999999999981,
          0.001616999999999976,
          0.001492999999999981,
          0.0008089999999999907,
          0.0002189999999999983,
          0.000018352365415986806
         ]
        }
       ],
       "layout": {
        "showlegend": true,
        "template": {
         "data": {
          "bar": [
           {
            "error_x": {
             "color": "#2a3f5f"
            },
            "error_y": {
             "color": "#2a3f5f"
            },
            "marker": {
             "line": {
              "color": "#E5ECF6",
              "width": 0.5
             },
             "pattern": {
              "fillmode": "overlay",
              "size": 10,
              "solidity": 0.2
             }
            },
            "type": "bar"
           }
          ],
          "barpolar": [
           {
            "marker": {
             "line": {
              "color": "#E5ECF6",
              "width": 0.5
             },
             "pattern": {
              "fillmode": "overlay",
              "size": 10,
              "solidity": 0.2
             }
            },
            "type": "barpolar"
           }
          ],
          "carpet": [
           {
            "aaxis": {
             "endlinecolor": "#2a3f5f",
             "gridcolor": "white",
             "linecolor": "white",
             "minorgridcolor": "white",
             "startlinecolor": "#2a3f5f"
            },
            "baxis": {
             "endlinecolor": "#2a3f5f",
             "gridcolor": "white",
             "linecolor": "white",
             "minorgridcolor": "white",
             "startlinecolor": "#2a3f5f"
            },
            "type": "carpet"
           }
          ],
          "choropleth": [
           {
            "colorbar": {
             "outlinewidth": 0,
             "ticks": ""
            },
            "type": "choropleth"
           }
          ],
          "contour": [
           {
            "colorbar": {
             "outlinewidth": 0,
             "ticks": ""
            },
            "colorscale": [
             [
              0,
              "#0d0887"
             ],
             [
              0.1111111111111111,
              "#46039f"
             ],
             [
              0.2222222222222222,
              "#7201a8"
             ],
             [
              0.3333333333333333,
              "#9c179e"
             ],
             [
              0.4444444444444444,
              "#bd3786"
             ],
             [
              0.5555555555555556,
              "#d8576b"
             ],
             [
              0.6666666666666666,
              "#ed7953"
             ],
             [
              0.7777777777777778,
              "#fb9f3a"
             ],
             [
              0.8888888888888888,
              "#fdca26"
             ],
             [
              1,
              "#f0f921"
             ]
            ],
            "type": "contour"
           }
          ],
          "contourcarpet": [
           {
            "colorbar": {
             "outlinewidth": 0,
             "ticks": ""
            },
            "type": "contourcarpet"
           }
          ],
          "heatmap": [
           {
            "colorbar": {
             "outlinewidth": 0,
             "ticks": ""
            },
            "colorscale": [
             [
              0,
              "#0d0887"
             ],
             [
              0.1111111111111111,
              "#46039f"
             ],
             [
              0.2222222222222222,
              "#7201a8"
             ],
             [
              0.3333333333333333,
              "#9c179e"
             ],
             [
              0.4444444444444444,
              "#bd3786"
             ],
             [
              0.5555555555555556,
              "#d8576b"
             ],
             [
              0.6666666666666666,
              "#ed7953"
             ],
             [
              0.7777777777777778,
              "#fb9f3a"
             ],
             [
              0.8888888888888888,
              "#fdca26"
             ],
             [
              1,
              "#f0f921"
             ]
            ],
            "type": "heatmap"
           }
          ],
          "heatmapgl": [
           {
            "colorbar": {
             "outlinewidth": 0,
             "ticks": ""
            },
            "colorscale": [
             [
              0,
              "#0d0887"
             ],
             [
              0.1111111111111111,
              "#46039f"
             ],
             [
              0.2222222222222222,
              "#7201a8"
             ],
             [
              0.3333333333333333,
              "#9c179e"
             ],
             [
              0.4444444444444444,
              "#bd3786"
             ],
             [
              0.5555555555555556,
              "#d8576b"
             ],
             [
              0.6666666666666666,
              "#ed7953"
             ],
             [
              0.7777777777777778,
              "#fb9f3a"
             ],
             [
              0.8888888888888888,
              "#fdca26"
             ],
             [
              1,
              "#f0f921"
             ]
            ],
            "type": "heatmapgl"
           }
          ],
          "histogram": [
           {
            "marker": {
             "pattern": {
              "fillmode": "overlay",
              "size": 10,
              "solidity": 0.2
             }
            },
            "type": "histogram"
           }
          ],
          "histogram2d": [
           {
            "colorbar": {
             "outlinewidth": 0,
             "ticks": ""
            },
            "colorscale": [
             [
              0,
              "#0d0887"
             ],
             [
              0.1111111111111111,
              "#46039f"
             ],
             [
              0.2222222222222222,
              "#7201a8"
             ],
             [
              0.3333333333333333,
              "#9c179e"
             ],
             [
              0.4444444444444444,
              "#bd3786"
             ],
             [
              0.5555555555555556,
              "#d8576b"
             ],
             [
              0.6666666666666666,
              "#ed7953"
             ],
             [
              0.7777777777777778,
              "#fb9f3a"
             ],
             [
              0.8888888888888888,
              "#fdca26"
             ],
             [
              1,
              "#f0f921"
             ]
            ],
            "type": "histogram2d"
           }
          ],
          "histogram2dcontour": [
           {
            "colorbar": {
             "outlinewidth": 0,
             "ticks": ""
            },
            "colorscale": [
             [
              0,
              "#0d0887"
             ],
             [
              0.1111111111111111,
              "#46039f"
             ],
             [
              0.2222222222222222,
              "#7201a8"
             ],
             [
              0.3333333333333333,
              "#9c179e"
             ],
             [
              0.4444444444444444,
              "#bd3786"
             ],
             [
              0.5555555555555556,
              "#d8576b"
             ],
             [
              0.6666666666666666,
              "#ed7953"
             ],
             [
              0.7777777777777778,
              "#fb9f3a"
             ],
             [
              0.8888888888888888,
              "#fdca26"
             ],
             [
              1,
              "#f0f921"
             ]
            ],
            "type": "histogram2dcontour"
           }
          ],
          "mesh3d": [
           {
            "colorbar": {
             "outlinewidth": 0,
             "ticks": ""
            },
            "type": "mesh3d"
           }
          ],
          "parcoords": [
           {
            "line": {
             "colorbar": {
              "outlinewidth": 0,
              "ticks": ""
             }
            },
            "type": "parcoords"
           }
          ],
          "pie": [
           {
            "automargin": true,
            "type": "pie"
           }
          ],
          "scatter": [
           {
            "fillpattern": {
             "fillmode": "overlay",
             "size": 10,
             "solidity": 0.2
            },
            "type": "scatter"
           }
          ],
          "scatter3d": [
           {
            "line": {
             "colorbar": {
              "outlinewidth": 0,
              "ticks": ""
             }
            },
            "marker": {
             "colorbar": {
              "outlinewidth": 0,
              "ticks": ""
             }
            },
            "type": "scatter3d"
           }
          ],
          "scattercarpet": [
           {
            "marker": {
             "colorbar": {
              "outlinewidth": 0,
              "ticks": ""
             }
            },
            "type": "scattercarpet"
           }
          ],
          "scattergeo": [
           {
            "marker": {
             "colorbar": {
              "outlinewidth": 0,
              "ticks": ""
             }
            },
            "type": "scattergeo"
           }
          ],
          "scattergl": [
           {
            "marker": {
             "colorbar": {
              "outlinewidth": 0,
              "ticks": ""
             }
            },
            "type": "scattergl"
           }
          ],
          "scattermapbox": [
           {
            "marker": {
             "colorbar": {
              "outlinewidth": 0,
              "ticks": ""
             }
            },
            "type": "scattermapbox"
           }
          ],
          "scatterpolar": [
           {
            "marker": {
             "colorbar": {
              "outlinewidth": 0,
              "ticks": ""
             }
            },
            "type": "scatterpolar"
           }
          ],
          "scatterpolargl": [
           {
            "marker": {
             "colorbar": {
              "outlinewidth": 0,
              "ticks": ""
             }
            },
            "type": "scatterpolargl"
           }
          ],
          "scatterternary": [
           {
            "marker": {
             "colorbar": {
              "outlinewidth": 0,
              "ticks": ""
             }
            },
            "type": "scatterternary"
           }
          ],
          "surface": [
           {
            "colorbar": {
             "outlinewidth": 0,
             "ticks": ""
            },
            "colorscale": [
             [
              0,
              "#0d0887"
             ],
             [
              0.1111111111111111,
              "#46039f"
             ],
             [
              0.2222222222222222,
              "#7201a8"
             ],
             [
              0.3333333333333333,
              "#9c179e"
             ],
             [
              0.4444444444444444,
              "#bd3786"
             ],
             [
              0.5555555555555556,
              "#d8576b"
             ],
             [
              0.6666666666666666,
              "#ed7953"
             ],
             [
              0.7777777777777778,
              "#fb9f3a"
             ],
             [
              0.8888888888888888,
              "#fdca26"
             ],
             [
              1,
              "#f0f921"
             ]
            ],
            "type": "surface"
           }
          ],
          "table": [
           {
            "cells": {
             "fill": {
              "color": "#EBF0F8"
             },
             "line": {
              "color": "white"
             }
            },
            "header": {
             "fill": {
              "color": "#C8D4E3"
             },
             "line": {
              "color": "white"
             }
            },
            "type": "table"
           }
          ]
         },
         "layout": {
          "annotationdefaults": {
           "arrowcolor": "#2a3f5f",
           "arrowhead": 0,
           "arrowwidth": 1
          },
          "autotypenumbers": "strict",
          "coloraxis": {
           "colorbar": {
            "outlinewidth": 0,
            "ticks": ""
           }
          },
          "colorscale": {
           "diverging": [
            [
             0,
             "#8e0152"
            ],
            [
             0.1,
             "#c51b7d"
            ],
            [
             0.2,
             "#de77ae"
            ],
            [
             0.3,
             "#f1b6da"
            ],
            [
             0.4,
             "#fde0ef"
            ],
            [
             0.5,
             "#f7f7f7"
            ],
            [
             0.6,
             "#e6f5d0"
            ],
            [
             0.7,
             "#b8e186"
            ],
            [
             0.8,
             "#7fbc41"
            ],
            [
             0.9,
             "#4d9221"
            ],
            [
             1,
             "#276419"
            ]
           ],
           "sequential": [
            [
             0,
             "#0d0887"
            ],
            [
             0.1111111111111111,
             "#46039f"
            ],
            [
             0.2222222222222222,
             "#7201a8"
            ],
            [
             0.3333333333333333,
             "#9c179e"
            ],
            [
             0.4444444444444444,
             "#bd3786"
            ],
            [
             0.5555555555555556,
             "#d8576b"
            ],
            [
             0.6666666666666666,
             "#ed7953"
            ],
            [
             0.7777777777777778,
             "#fb9f3a"
            ],
            [
             0.8888888888888888,
             "#fdca26"
            ],
            [
             1,
             "#f0f921"
            ]
           ],
           "sequentialminus": [
            [
             0,
             "#0d0887"
            ],
            [
             0.1111111111111111,
             "#46039f"
            ],
            [
             0.2222222222222222,
             "#7201a8"
            ],
            [
             0.3333333333333333,
             "#9c179e"
            ],
            [
             0.4444444444444444,
             "#bd3786"
            ],
            [
             0.5555555555555556,
             "#d8576b"
            ],
            [
             0.6666666666666666,
             "#ed7953"
            ],
            [
             0.7777777777777778,
             "#fb9f3a"
            ],
            [
             0.8888888888888888,
             "#fdca26"
            ],
            [
             1,
             "#f0f921"
            ]
           ]
          },
          "colorway": [
           "#636efa",
           "#EF553B",
           "#00cc96",
           "#ab63fa",
           "#FFA15A",
           "#19d3f3",
           "#FF6692",
           "#B6E880",
           "#FF97FF",
           "#FECB52"
          ],
          "font": {
           "color": "#2a3f5f"
          },
          "geo": {
           "bgcolor": "white",
           "lakecolor": "white",
           "landcolor": "#E5ECF6",
           "showlakes": true,
           "showland": true,
           "subunitcolor": "white"
          },
          "hoverlabel": {
           "align": "left"
          },
          "hovermode": "closest",
          "mapbox": {
           "style": "light"
          },
          "paper_bgcolor": "white",
          "plot_bgcolor": "#E5ECF6",
          "polar": {
           "angularaxis": {
            "gridcolor": "white",
            "linecolor": "white",
            "ticks": ""
           },
           "bgcolor": "#E5ECF6",
           "radialaxis": {
            "gridcolor": "white",
            "linecolor": "white",
            "ticks": ""
           }
          },
          "scene": {
           "xaxis": {
            "backgroundcolor": "#E5ECF6",
            "gridcolor": "white",
            "gridwidth": 2,
            "linecolor": "white",
            "showbackground": true,
            "ticks": "",
            "zerolinecolor": "white"
           },
           "yaxis": {
            "backgroundcolor": "#E5ECF6",
            "gridcolor": "white",
            "gridwidth": 2,
            "linecolor": "white",
            "showbackground": true,
            "ticks": "",
            "zerolinecolor": "white"
           },
           "zaxis": {
            "backgroundcolor": "#E5ECF6",
            "gridcolor": "white",
            "gridwidth": 2,
            "linecolor": "white",
            "showbackground": true,
            "ticks": "",
            "zerolinecolor": "white"
           }
          },
          "shapedefaults": {
           "line": {
            "color": "#2a3f5f"
           }
          },
          "ternary": {
           "aaxis": {
            "gridcolor": "white",
            "linecolor": "white",
            "ticks": ""
           },
           "baxis": {
            "gridcolor": "white",
            "linecolor": "white",
            "ticks": ""
           },
           "bgcolor": "#E5ECF6",
           "caxis": {
            "gridcolor": "white",
            "linecolor": "white",
            "ticks": ""
           }
          },
          "title": {
           "x": 0.05
          },
          "xaxis": {
           "automargin": true,
           "gridcolor": "white",
           "linecolor": "white",
           "ticks": "",
           "title": {
            "standoff": 15
           },
           "zerolinecolor": "white",
           "zerolinewidth": 2
          },
          "yaxis": {
           "automargin": true,
           "gridcolor": "white",
           "linecolor": "white",
           "ticks": "",
           "title": {
            "standoff": 15
           },
           "zerolinecolor": "white",
           "zerolinewidth": 2
          }
         }
        },
        "title": {
         "text": "Imbalance des trades"
        },
        "xaxis": {
         "title": {
          "text": "imbalance"
         }
        },
        "yaxis": {
         "title": {
          "text": "delta_price"
         }
        }
       }
      }
     },
     "metadata": {},
     "output_type": "display_data"
    },
    {
     "data": {
      "application/vnd.plotly.v1+json": {
       "config": {
        "plotlyServerURL": "https://plot.ly"
       },
       "data": [
        {
         "mode": "lines",
         "name": "Density Curve",
         "type": "scatter",
         "x": [
          -0.9025000679384749,
          -0.8075002038154246,
          -0.7125003396923746,
          -0.6175004755693244,
          -0.5225006114462742,
          -0.4275007473232241,
          -0.33250088320017396,
          -0.2375010190771238,
          -0.14250115495407362,
          -0.047501290831023446,
          0.047498573292026725,
          0.14249843741507684,
          0.237498301538127,
          0.3324981656611772,
          0.42749802978422735,
          0.5224978939072775,
          0.6174977580303276,
          0.7124976221533778,
          0.8074974862764279,
          0.9024973503994781
         ],
         "y": [
          2433,
          1719,
          1656,
          1546,
          1662,
          1759,
          1846,
          1891,
          1798,
          1833,
          1718,
          1629,
          1512,
          1530,
          1502,
          1491,
          1424,
          1561,
          1774,
          2620
         ]
        }
       ],
       "layout": {
        "showlegend": false,
        "template": {
         "data": {
          "bar": [
           {
            "error_x": {
             "color": "#2a3f5f"
            },
            "error_y": {
             "color": "#2a3f5f"
            },
            "marker": {
             "line": {
              "color": "#E5ECF6",
              "width": 0.5
             },
             "pattern": {
              "fillmode": "overlay",
              "size": 10,
              "solidity": 0.2
             }
            },
            "type": "bar"
           }
          ],
          "barpolar": [
           {
            "marker": {
             "line": {
              "color": "#E5ECF6",
              "width": 0.5
             },
             "pattern": {
              "fillmode": "overlay",
              "size": 10,
              "solidity": 0.2
             }
            },
            "type": "barpolar"
           }
          ],
          "carpet": [
           {
            "aaxis": {
             "endlinecolor": "#2a3f5f",
             "gridcolor": "white",
             "linecolor": "white",
             "minorgridcolor": "white",
             "startlinecolor": "#2a3f5f"
            },
            "baxis": {
             "endlinecolor": "#2a3f5f",
             "gridcolor": "white",
             "linecolor": "white",
             "minorgridcolor": "white",
             "startlinecolor": "#2a3f5f"
            },
            "type": "carpet"
           }
          ],
          "choropleth": [
           {
            "colorbar": {
             "outlinewidth": 0,
             "ticks": ""
            },
            "type": "choropleth"
           }
          ],
          "contour": [
           {
            "colorbar": {
             "outlinewidth": 0,
             "ticks": ""
            },
            "colorscale": [
             [
              0,
              "#0d0887"
             ],
             [
              0.1111111111111111,
              "#46039f"
             ],
             [
              0.2222222222222222,
              "#7201a8"
             ],
             [
              0.3333333333333333,
              "#9c179e"
             ],
             [
              0.4444444444444444,
              "#bd3786"
             ],
             [
              0.5555555555555556,
              "#d8576b"
             ],
             [
              0.6666666666666666,
              "#ed7953"
             ],
             [
              0.7777777777777778,
              "#fb9f3a"
             ],
             [
              0.8888888888888888,
              "#fdca26"
             ],
             [
              1,
              "#f0f921"
             ]
            ],
            "type": "contour"
           }
          ],
          "contourcarpet": [
           {
            "colorbar": {
             "outlinewidth": 0,
             "ticks": ""
            },
            "type": "contourcarpet"
           }
          ],
          "heatmap": [
           {
            "colorbar": {
             "outlinewidth": 0,
             "ticks": ""
            },
            "colorscale": [
             [
              0,
              "#0d0887"
             ],
             [
              0.1111111111111111,
              "#46039f"
             ],
             [
              0.2222222222222222,
              "#7201a8"
             ],
             [
              0.3333333333333333,
              "#9c179e"
             ],
             [
              0.4444444444444444,
              "#bd3786"
             ],
             [
              0.5555555555555556,
              "#d8576b"
             ],
             [
              0.6666666666666666,
              "#ed7953"
             ],
             [
              0.7777777777777778,
              "#fb9f3a"
             ],
             [
              0.8888888888888888,
              "#fdca26"
             ],
             [
              1,
              "#f0f921"
             ]
            ],
            "type": "heatmap"
           }
          ],
          "heatmapgl": [
           {
            "colorbar": {
             "outlinewidth": 0,
             "ticks": ""
            },
            "colorscale": [
             [
              0,
              "#0d0887"
             ],
             [
              0.1111111111111111,
              "#46039f"
             ],
             [
              0.2222222222222222,
              "#7201a8"
             ],
             [
              0.3333333333333333,
              "#9c179e"
             ],
             [
              0.4444444444444444,
              "#bd3786"
             ],
             [
              0.5555555555555556,
              "#d8576b"
             ],
             [
              0.6666666666666666,
              "#ed7953"
             ],
             [
              0.7777777777777778,
              "#fb9f3a"
             ],
             [
              0.8888888888888888,
              "#fdca26"
             ],
             [
              1,
              "#f0f921"
             ]
            ],
            "type": "heatmapgl"
           }
          ],
          "histogram": [
           {
            "marker": {
             "pattern": {
              "fillmode": "overlay",
              "size": 10,
              "solidity": 0.2
             }
            },
            "type": "histogram"
           }
          ],
          "histogram2d": [
           {
            "colorbar": {
             "outlinewidth": 0,
             "ticks": ""
            },
            "colorscale": [
             [
              0,
              "#0d0887"
             ],
             [
              0.1111111111111111,
              "#46039f"
             ],
             [
              0.2222222222222222,
              "#7201a8"
             ],
             [
              0.3333333333333333,
              "#9c179e"
             ],
             [
              0.4444444444444444,
              "#bd3786"
             ],
             [
              0.5555555555555556,
              "#d8576b"
             ],
             [
              0.6666666666666666,
              "#ed7953"
             ],
             [
              0.7777777777777778,
              "#fb9f3a"
             ],
             [
              0.8888888888888888,
              "#fdca26"
             ],
             [
              1,
              "#f0f921"
             ]
            ],
            "type": "histogram2d"
           }
          ],
          "histogram2dcontour": [
           {
            "colorbar": {
             "outlinewidth": 0,
             "ticks": ""
            },
            "colorscale": [
             [
              0,
              "#0d0887"
             ],
             [
              0.1111111111111111,
              "#46039f"
             ],
             [
              0.2222222222222222,
              "#7201a8"
             ],
             [
              0.3333333333333333,
              "#9c179e"
             ],
             [
              0.4444444444444444,
              "#bd3786"
             ],
             [
              0.5555555555555556,
              "#d8576b"
             ],
             [
              0.6666666666666666,
              "#ed7953"
             ],
             [
              0.7777777777777778,
              "#fb9f3a"
             ],
             [
              0.8888888888888888,
              "#fdca26"
             ],
             [
              1,
              "#f0f921"
             ]
            ],
            "type": "histogram2dcontour"
           }
          ],
          "mesh3d": [
           {
            "colorbar": {
             "outlinewidth": 0,
             "ticks": ""
            },
            "type": "mesh3d"
           }
          ],
          "parcoords": [
           {
            "line": {
             "colorbar": {
              "outlinewidth": 0,
              "ticks": ""
             }
            },
            "type": "parcoords"
           }
          ],
          "pie": [
           {
            "automargin": true,
            "type": "pie"
           }
          ],
          "scatter": [
           {
            "fillpattern": {
             "fillmode": "overlay",
             "size": 10,
             "solidity": 0.2
            },
            "type": "scatter"
           }
          ],
          "scatter3d": [
           {
            "line": {
             "colorbar": {
              "outlinewidth": 0,
              "ticks": ""
             }
            },
            "marker": {
             "colorbar": {
              "outlinewidth": 0,
              "ticks": ""
             }
            },
            "type": "scatter3d"
           }
          ],
          "scattercarpet": [
           {
            "marker": {
             "colorbar": {
              "outlinewidth": 0,
              "ticks": ""
             }
            },
            "type": "scattercarpet"
           }
          ],
          "scattergeo": [
           {
            "marker": {
             "colorbar": {
              "outlinewidth": 0,
              "ticks": ""
             }
            },
            "type": "scattergeo"
           }
          ],
          "scattergl": [
           {
            "marker": {
             "colorbar": {
              "outlinewidth": 0,
              "ticks": ""
             }
            },
            "type": "scattergl"
           }
          ],
          "scattermapbox": [
           {
            "marker": {
             "colorbar": {
              "outlinewidth": 0,
              "ticks": ""
             }
            },
            "type": "scattermapbox"
           }
          ],
          "scatterpolar": [
           {
            "marker": {
             "colorbar": {
              "outlinewidth": 0,
              "ticks": ""
             }
            },
            "type": "scatterpolar"
           }
          ],
          "scatterpolargl": [
           {
            "marker": {
             "colorbar": {
              "outlinewidth": 0,
              "ticks": ""
             }
            },
            "type": "scatterpolargl"
           }
          ],
          "scatterternary": [
           {
            "marker": {
             "colorbar": {
              "outlinewidth": 0,
              "ticks": ""
             }
            },
            "type": "scatterternary"
           }
          ],
          "surface": [
           {
            "colorbar": {
             "outlinewidth": 0,
             "ticks": ""
            },
            "colorscale": [
             [
              0,
              "#0d0887"
             ],
             [
              0.1111111111111111,
              "#46039f"
             ],
             [
              0.2222222222222222,
              "#7201a8"
             ],
             [
              0.3333333333333333,
              "#9c179e"
             ],
             [
              0.4444444444444444,
              "#bd3786"
             ],
             [
              0.5555555555555556,
              "#d8576b"
             ],
             [
              0.6666666666666666,
              "#ed7953"
             ],
             [
              0.7777777777777778,
              "#fb9f3a"
             ],
             [
              0.8888888888888888,
              "#fdca26"
             ],
             [
              1,
              "#f0f921"
             ]
            ],
            "type": "surface"
           }
          ],
          "table": [
           {
            "cells": {
             "fill": {
              "color": "#EBF0F8"
             },
             "line": {
              "color": "white"
             }
            },
            "header": {
             "fill": {
              "color": "#C8D4E3"
             },
             "line": {
              "color": "white"
             }
            },
            "type": "table"
           }
          ]
         },
         "layout": {
          "annotationdefaults": {
           "arrowcolor": "#2a3f5f",
           "arrowhead": 0,
           "arrowwidth": 1
          },
          "autotypenumbers": "strict",
          "coloraxis": {
           "colorbar": {
            "outlinewidth": 0,
            "ticks": ""
           }
          },
          "colorscale": {
           "diverging": [
            [
             0,
             "#8e0152"
            ],
            [
             0.1,
             "#c51b7d"
            ],
            [
             0.2,
             "#de77ae"
            ],
            [
             0.3,
             "#f1b6da"
            ],
            [
             0.4,
             "#fde0ef"
            ],
            [
             0.5,
             "#f7f7f7"
            ],
            [
             0.6,
             "#e6f5d0"
            ],
            [
             0.7,
             "#b8e186"
            ],
            [
             0.8,
             "#7fbc41"
            ],
            [
             0.9,
             "#4d9221"
            ],
            [
             1,
             "#276419"
            ]
           ],
           "sequential": [
            [
             0,
             "#0d0887"
            ],
            [
             0.1111111111111111,
             "#46039f"
            ],
            [
             0.2222222222222222,
             "#7201a8"
            ],
            [
             0.3333333333333333,
             "#9c179e"
            ],
            [
             0.4444444444444444,
             "#bd3786"
            ],
            [
             0.5555555555555556,
             "#d8576b"
            ],
            [
             0.6666666666666666,
             "#ed7953"
            ],
            [
             0.7777777777777778,
             "#fb9f3a"
            ],
            [
             0.8888888888888888,
             "#fdca26"
            ],
            [
             1,
             "#f0f921"
            ]
           ],
           "sequentialminus": [
            [
             0,
             "#0d0887"
            ],
            [
             0.1111111111111111,
             "#46039f"
            ],
            [
             0.2222222222222222,
             "#7201a8"
            ],
            [
             0.3333333333333333,
             "#9c179e"
            ],
            [
             0.4444444444444444,
             "#bd3786"
            ],
            [
             0.5555555555555556,
             "#d8576b"
            ],
            [
             0.6666666666666666,
             "#ed7953"
            ],
            [
             0.7777777777777778,
             "#fb9f3a"
            ],
            [
             0.8888888888888888,
             "#fdca26"
            ],
            [
             1,
             "#f0f921"
            ]
           ]
          },
          "colorway": [
           "#636efa",
           "#EF553B",
           "#00cc96",
           "#ab63fa",
           "#FFA15A",
           "#19d3f3",
           "#FF6692",
           "#B6E880",
           "#FF97FF",
           "#FECB52"
          ],
          "font": {
           "color": "#2a3f5f"
          },
          "geo": {
           "bgcolor": "white",
           "lakecolor": "white",
           "landcolor": "#E5ECF6",
           "showlakes": true,
           "showland": true,
           "subunitcolor": "white"
          },
          "hoverlabel": {
           "align": "left"
          },
          "hovermode": "closest",
          "mapbox": {
           "style": "light"
          },
          "paper_bgcolor": "white",
          "plot_bgcolor": "#E5ECF6",
          "polar": {
           "angularaxis": {
            "gridcolor": "white",
            "linecolor": "white",
            "ticks": ""
           },
           "bgcolor": "#E5ECF6",
           "radialaxis": {
            "gridcolor": "white",
            "linecolor": "white",
            "ticks": ""
           }
          },
          "scene": {
           "xaxis": {
            "backgroundcolor": "#E5ECF6",
            "gridcolor": "white",
            "gridwidth": 2,
            "linecolor": "white",
            "showbackground": true,
            "ticks": "",
            "zerolinecolor": "white"
           },
           "yaxis": {
            "backgroundcolor": "#E5ECF6",
            "gridcolor": "white",
            "gridwidth": 2,
            "linecolor": "white",
            "showbackground": true,
            "ticks": "",
            "zerolinecolor": "white"
           },
           "zaxis": {
            "backgroundcolor": "#E5ECF6",
            "gridcolor": "white",
            "gridwidth": 2,
            "linecolor": "white",
            "showbackground": true,
            "ticks": "",
            "zerolinecolor": "white"
           }
          },
          "shapedefaults": {
           "line": {
            "color": "#2a3f5f"
           }
          },
          "ternary": {
           "aaxis": {
            "gridcolor": "white",
            "linecolor": "white",
            "ticks": ""
           },
           "baxis": {
            "gridcolor": "white",
            "linecolor": "white",
            "ticks": ""
           },
           "bgcolor": "#E5ECF6",
           "caxis": {
            "gridcolor": "white",
            "linecolor": "white",
            "ticks": ""
           }
          },
          "title": {
           "x": 0.05
          },
          "xaxis": {
           "automargin": true,
           "gridcolor": "white",
           "linecolor": "white",
           "ticks": "",
           "title": {
            "standoff": 15
           },
           "zerolinecolor": "white",
           "zerolinewidth": 2
          },
          "yaxis": {
           "automargin": true,
           "gridcolor": "white",
           "linecolor": "white",
           "ticks": "",
           "title": {
            "standoff": 15
           },
           "zerolinecolor": "white",
           "zerolinewidth": 2
          }
         }
        },
        "title": {
         "text": "Courbe de distribution de l'imbalance des trades"
        },
        "xaxis": {
         "title": {
          "text": "imbalance"
         }
        },
        "yaxis": {
         "title": {
          "text": "number of events"
         }
        }
       }
      }
     },
     "metadata": {},
     "output_type": "display_data"
    },
    {
     "data": {
      "application/vnd.plotly.v1+json": {
       "config": {
        "plotlyServerURL": "https://plot.ly"
       },
       "data": [
        {
         "line": {
          "width": 0
         },
         "mode": "lines",
         "name": "Upper Bound",
         "showlegend": false,
         "type": "scatter",
         "x": [
          -0.8400004068438546,
          -0.6635841598960929,
          -0.5421562662698933,
          -0.44769805465931595,
          -0.3645520511698226,
          -0.28833423734627706,
          -0.21834651217962034,
          -0.15101816365856296,
          -0.08305181307891289,
          -0.016680339266540094,
          0.050598909784231726,
          0.11931438552804915,
          0.1880481083512431,
          0.2569632286084176,
          0.3287470091464503,
          0.4049556976750591,
          0.4854961374206614,
          0.5755251526374929,
          0.6869696765181084,
          0.8493037459201894
         ],
         "y": [
          -0.000058940937672397466,
          -0.00003266579570395368,
          -0.000022595955859920854,
          -0.000014466263131483489,
          -0.00001248460958047341,
          -0.00000894043832015469,
          -0.00000966482008108843,
          -0.00001060983553166065,
          -0.000013145519983415313,
          -0.000006252470989564008,
          -0.000007754436355002137,
          -0.000004850047570458949,
          -0.0000027195593162481963,
          -1.7763276100962943e-7,
          0.000007960470932267092,
          0.000023302523250354356,
          0.000049573597572125485,
          0.00008298757917829203,
          0.00016737135434216383,
          0.00019116060199555487
         ]
        },
        {
         "fill": "tonexty",
         "fillcolor": "blue",
         "line": {
          "width": 0
         },
         "mode": "lines",
         "name": "Intervalle de confiance à 95%",
         "showlegend": true,
         "type": "scatter",
         "x": [
          -0.8400004068438546,
          -0.6635841598960929,
          -0.5421562662698933,
          -0.44769805465931595,
          -0.3645520511698226,
          -0.28833423734627706,
          -0.21834651217962034,
          -0.15101816365856296,
          -0.08305181307891289,
          -0.016680339266540094,
          0.050598909784231726,
          0.11931438552804915,
          0.1880481083512431,
          0.2569632286084176,
          0.3287470091464503,
          0.4049556976750591,
          0.4854961374206614,
          0.5755251526374929,
          0.6869696765181084,
          0.8493037459201894
         ],
         "y": [
          -0.00007065906232760045,
          -0.00004433420429604522,
          -0.00003440404414007853,
          -0.00002573373686851596,
          -0.000024115390419526138,
          -0.000020059561679844337,
          -0.000020735179918911083,
          -0.000021190164468339174,
          -0.000023854480016583643,
          -0.000016547529010435835,
          -0.00001764556364499678,
          -0.000014749952429541022,
          -0.000012880440683751537,
          -0.000010622367238990212,
          -0.0000027604709322668455,
          0.000011097476749645091,
          0.000036026402427872395,
          0.00006781242082170437,
          0.00014842864565783073,
          0.00016979884052499496
         ]
        },
        {
         "line": {
          "color": "red"
         },
         "mode": "lines",
         "name": "Prix",
         "showlegend": true,
         "type": "scatter",
         "x": [
          -0.8400004068438546,
          -0.6635841598960929,
          -0.5421562662698933,
          -0.44769805465931595,
          -0.3645520511698226,
          -0.28833423734627706,
          -0.21834651217962034,
          -0.15101816365856296,
          -0.08305181307891289,
          -0.016680339266540094,
          0.050598909784231726,
          0.11931438552804915,
          0.1880481083512431,
          0.2569632286084176,
          0.3287470091464503,
          0.4049556976750591,
          0.4854961374206614,
          0.5755251526374929,
          0.6869696765181084,
          0.8493037459201894
         ],
         "y": [
          -0.00006479999999999896,
          -0.00003849999999999945,
          -0.000028499999999999693,
          -0.000020099999999999723,
          -0.000018299999999999774,
          -0.000014499999999999514,
          -0.000015199999999999756,
          -0.000015899999999999912,
          -0.000018499999999999477,
          -0.000011399999999999921,
          -0.000012699999999999458,
          -0.000009799999999999986,
          -0.000007799999999999866,
          -0.000005399999999999921,
          0.000002600000000000123,
          0.000017199999999999724,
          0.00004279999999999894,
          0.0000753999999999982,
          0.00015789999999999728,
          0.0001804797212602749
         ]
        }
       ],
       "layout": {
        "showlegend": true,
        "template": {
         "data": {
          "bar": [
           {
            "error_x": {
             "color": "#2a3f5f"
            },
            "error_y": {
             "color": "#2a3f5f"
            },
            "marker": {
             "line": {
              "color": "#E5ECF6",
              "width": 0.5
             },
             "pattern": {
              "fillmode": "overlay",
              "size": 10,
              "solidity": 0.2
             }
            },
            "type": "bar"
           }
          ],
          "barpolar": [
           {
            "marker": {
             "line": {
              "color": "#E5ECF6",
              "width": 0.5
             },
             "pattern": {
              "fillmode": "overlay",
              "size": 10,
              "solidity": 0.2
             }
            },
            "type": "barpolar"
           }
          ],
          "carpet": [
           {
            "aaxis": {
             "endlinecolor": "#2a3f5f",
             "gridcolor": "white",
             "linecolor": "white",
             "minorgridcolor": "white",
             "startlinecolor": "#2a3f5f"
            },
            "baxis": {
             "endlinecolor": "#2a3f5f",
             "gridcolor": "white",
             "linecolor": "white",
             "minorgridcolor": "white",
             "startlinecolor": "#2a3f5f"
            },
            "type": "carpet"
           }
          ],
          "choropleth": [
           {
            "colorbar": {
             "outlinewidth": 0,
             "ticks": ""
            },
            "type": "choropleth"
           }
          ],
          "contour": [
           {
            "colorbar": {
             "outlinewidth": 0,
             "ticks": ""
            },
            "colorscale": [
             [
              0,
              "#0d0887"
             ],
             [
              0.1111111111111111,
              "#46039f"
             ],
             [
              0.2222222222222222,
              "#7201a8"
             ],
             [
              0.3333333333333333,
              "#9c179e"
             ],
             [
              0.4444444444444444,
              "#bd3786"
             ],
             [
              0.5555555555555556,
              "#d8576b"
             ],
             [
              0.6666666666666666,
              "#ed7953"
             ],
             [
              0.7777777777777778,
              "#fb9f3a"
             ],
             [
              0.8888888888888888,
              "#fdca26"
             ],
             [
              1,
              "#f0f921"
             ]
            ],
            "type": "contour"
           }
          ],
          "contourcarpet": [
           {
            "colorbar": {
             "outlinewidth": 0,
             "ticks": ""
            },
            "type": "contourcarpet"
           }
          ],
          "heatmap": [
           {
            "colorbar": {
             "outlinewidth": 0,
             "ticks": ""
            },
            "colorscale": [
             [
              0,
              "#0d0887"
             ],
             [
              0.1111111111111111,
              "#46039f"
             ],
             [
              0.2222222222222222,
              "#7201a8"
             ],
             [
              0.3333333333333333,
              "#9c179e"
             ],
             [
              0.4444444444444444,
              "#bd3786"
             ],
             [
              0.5555555555555556,
              "#d8576b"
             ],
             [
              0.6666666666666666,
              "#ed7953"
             ],
             [
              0.7777777777777778,
              "#fb9f3a"
             ],
             [
              0.8888888888888888,
              "#fdca26"
             ],
             [
              1,
              "#f0f921"
             ]
            ],
            "type": "heatmap"
           }
          ],
          "heatmapgl": [
           {
            "colorbar": {
             "outlinewidth": 0,
             "ticks": ""
            },
            "colorscale": [
             [
              0,
              "#0d0887"
             ],
             [
              0.1111111111111111,
              "#46039f"
             ],
             [
              0.2222222222222222,
              "#7201a8"
             ],
             [
              0.3333333333333333,
              "#9c179e"
             ],
             [
              0.4444444444444444,
              "#bd3786"
             ],
             [
              0.5555555555555556,
              "#d8576b"
             ],
             [
              0.6666666666666666,
              "#ed7953"
             ],
             [
              0.7777777777777778,
              "#fb9f3a"
             ],
             [
              0.8888888888888888,
              "#fdca26"
             ],
             [
              1,
              "#f0f921"
             ]
            ],
            "type": "heatmapgl"
           }
          ],
          "histogram": [
           {
            "marker": {
             "pattern": {
              "fillmode": "overlay",
              "size": 10,
              "solidity": 0.2
             }
            },
            "type": "histogram"
           }
          ],
          "histogram2d": [
           {
            "colorbar": {
             "outlinewidth": 0,
             "ticks": ""
            },
            "colorscale": [
             [
              0,
              "#0d0887"
             ],
             [
              0.1111111111111111,
              "#46039f"
             ],
             [
              0.2222222222222222,
              "#7201a8"
             ],
             [
              0.3333333333333333,
              "#9c179e"
             ],
             [
              0.4444444444444444,
              "#bd3786"
             ],
             [
              0.5555555555555556,
              "#d8576b"
             ],
             [
              0.6666666666666666,
              "#ed7953"
             ],
             [
              0.7777777777777778,
              "#fb9f3a"
             ],
             [
              0.8888888888888888,
              "#fdca26"
             ],
             [
              1,
              "#f0f921"
             ]
            ],
            "type": "histogram2d"
           }
          ],
          "histogram2dcontour": [
           {
            "colorbar": {
             "outlinewidth": 0,
             "ticks": ""
            },
            "colorscale": [
             [
              0,
              "#0d0887"
             ],
             [
              0.1111111111111111,
              "#46039f"
             ],
             [
              0.2222222222222222,
              "#7201a8"
             ],
             [
              0.3333333333333333,
              "#9c179e"
             ],
             [
              0.4444444444444444,
              "#bd3786"
             ],
             [
              0.5555555555555556,
              "#d8576b"
             ],
             [
              0.6666666666666666,
              "#ed7953"
             ],
             [
              0.7777777777777778,
              "#fb9f3a"
             ],
             [
              0.8888888888888888,
              "#fdca26"
             ],
             [
              1,
              "#f0f921"
             ]
            ],
            "type": "histogram2dcontour"
           }
          ],
          "mesh3d": [
           {
            "colorbar": {
             "outlinewidth": 0,
             "ticks": ""
            },
            "type": "mesh3d"
           }
          ],
          "parcoords": [
           {
            "line": {
             "colorbar": {
              "outlinewidth": 0,
              "ticks": ""
             }
            },
            "type": "parcoords"
           }
          ],
          "pie": [
           {
            "automargin": true,
            "type": "pie"
           }
          ],
          "scatter": [
           {
            "fillpattern": {
             "fillmode": "overlay",
             "size": 10,
             "solidity": 0.2
            },
            "type": "scatter"
           }
          ],
          "scatter3d": [
           {
            "line": {
             "colorbar": {
              "outlinewidth": 0,
              "ticks": ""
             }
            },
            "marker": {
             "colorbar": {
              "outlinewidth": 0,
              "ticks": ""
             }
            },
            "type": "scatter3d"
           }
          ],
          "scattercarpet": [
           {
            "marker": {
             "colorbar": {
              "outlinewidth": 0,
              "ticks": ""
             }
            },
            "type": "scattercarpet"
           }
          ],
          "scattergeo": [
           {
            "marker": {
             "colorbar": {
              "outlinewidth": 0,
              "ticks": ""
             }
            },
            "type": "scattergeo"
           }
          ],
          "scattergl": [
           {
            "marker": {
             "colorbar": {
              "outlinewidth": 0,
              "ticks": ""
             }
            },
            "type": "scattergl"
           }
          ],
          "scattermapbox": [
           {
            "marker": {
             "colorbar": {
              "outlinewidth": 0,
              "ticks": ""
             }
            },
            "type": "scattermapbox"
           }
          ],
          "scatterpolar": [
           {
            "marker": {
             "colorbar": {
              "outlinewidth": 0,
              "ticks": ""
             }
            },
            "type": "scatterpolar"
           }
          ],
          "scatterpolargl": [
           {
            "marker": {
             "colorbar": {
              "outlinewidth": 0,
              "ticks": ""
             }
            },
            "type": "scatterpolargl"
           }
          ],
          "scatterternary": [
           {
            "marker": {
             "colorbar": {
              "outlinewidth": 0,
              "ticks": ""
             }
            },
            "type": "scatterternary"
           }
          ],
          "surface": [
           {
            "colorbar": {
             "outlinewidth": 0,
             "ticks": ""
            },
            "colorscale": [
             [
              0,
              "#0d0887"
             ],
             [
              0.1111111111111111,
              "#46039f"
             ],
             [
              0.2222222222222222,
              "#7201a8"
             ],
             [
              0.3333333333333333,
              "#9c179e"
             ],
             [
              0.4444444444444444,
              "#bd3786"
             ],
             [
              0.5555555555555556,
              "#d8576b"
             ],
             [
              0.6666666666666666,
              "#ed7953"
             ],
             [
              0.7777777777777778,
              "#fb9f3a"
             ],
             [
              0.8888888888888888,
              "#fdca26"
             ],
             [
              1,
              "#f0f921"
             ]
            ],
            "type": "surface"
           }
          ],
          "table": [
           {
            "cells": {
             "fill": {
              "color": "#EBF0F8"
             },
             "line": {
              "color": "white"
             }
            },
            "header": {
             "fill": {
              "color": "#C8D4E3"
             },
             "line": {
              "color": "white"
             }
            },
            "type": "table"
           }
          ]
         },
         "layout": {
          "annotationdefaults": {
           "arrowcolor": "#2a3f5f",
           "arrowhead": 0,
           "arrowwidth": 1
          },
          "autotypenumbers": "strict",
          "coloraxis": {
           "colorbar": {
            "outlinewidth": 0,
            "ticks": ""
           }
          },
          "colorscale": {
           "diverging": [
            [
             0,
             "#8e0152"
            ],
            [
             0.1,
             "#c51b7d"
            ],
            [
             0.2,
             "#de77ae"
            ],
            [
             0.3,
             "#f1b6da"
            ],
            [
             0.4,
             "#fde0ef"
            ],
            [
             0.5,
             "#f7f7f7"
            ],
            [
             0.6,
             "#e6f5d0"
            ],
            [
             0.7,
             "#b8e186"
            ],
            [
             0.8,
             "#7fbc41"
            ],
            [
             0.9,
             "#4d9221"
            ],
            [
             1,
             "#276419"
            ]
           ],
           "sequential": [
            [
             0,
             "#0d0887"
            ],
            [
             0.1111111111111111,
             "#46039f"
            ],
            [
             0.2222222222222222,
             "#7201a8"
            ],
            [
             0.3333333333333333,
             "#9c179e"
            ],
            [
             0.4444444444444444,
             "#bd3786"
            ],
            [
             0.5555555555555556,
             "#d8576b"
            ],
            [
             0.6666666666666666,
             "#ed7953"
            ],
            [
             0.7777777777777778,
             "#fb9f3a"
            ],
            [
             0.8888888888888888,
             "#fdca26"
            ],
            [
             1,
             "#f0f921"
            ]
           ],
           "sequentialminus": [
            [
             0,
             "#0d0887"
            ],
            [
             0.1111111111111111,
             "#46039f"
            ],
            [
             0.2222222222222222,
             "#7201a8"
            ],
            [
             0.3333333333333333,
             "#9c179e"
            ],
            [
             0.4444444444444444,
             "#bd3786"
            ],
            [
             0.5555555555555556,
             "#d8576b"
            ],
            [
             0.6666666666666666,
             "#ed7953"
            ],
            [
             0.7777777777777778,
             "#fb9f3a"
            ],
            [
             0.8888888888888888,
             "#fdca26"
            ],
            [
             1,
             "#f0f921"
            ]
           ]
          },
          "colorway": [
           "#636efa",
           "#EF553B",
           "#00cc96",
           "#ab63fa",
           "#FFA15A",
           "#19d3f3",
           "#FF6692",
           "#B6E880",
           "#FF97FF",
           "#FECB52"
          ],
          "font": {
           "color": "#2a3f5f"
          },
          "geo": {
           "bgcolor": "white",
           "lakecolor": "white",
           "landcolor": "#E5ECF6",
           "showlakes": true,
           "showland": true,
           "subunitcolor": "white"
          },
          "hoverlabel": {
           "align": "left"
          },
          "hovermode": "closest",
          "mapbox": {
           "style": "light"
          },
          "paper_bgcolor": "white",
          "plot_bgcolor": "#E5ECF6",
          "polar": {
           "angularaxis": {
            "gridcolor": "white",
            "linecolor": "white",
            "ticks": ""
           },
           "bgcolor": "#E5ECF6",
           "radialaxis": {
            "gridcolor": "white",
            "linecolor": "white",
            "ticks": ""
           }
          },
          "scene": {
           "xaxis": {
            "backgroundcolor": "#E5ECF6",
            "gridcolor": "white",
            "gridwidth": 2,
            "linecolor": "white",
            "showbackground": true,
            "ticks": "",
            "zerolinecolor": "white"
           },
           "yaxis": {
            "backgroundcolor": "#E5ECF6",
            "gridcolor": "white",
            "gridwidth": 2,
            "linecolor": "white",
            "showbackground": true,
            "ticks": "",
            "zerolinecolor": "white"
           },
           "zaxis": {
            "backgroundcolor": "#E5ECF6",
            "gridcolor": "white",
            "gridwidth": 2,
            "linecolor": "white",
            "showbackground": true,
            "ticks": "",
            "zerolinecolor": "white"
           }
          },
          "shapedefaults": {
           "line": {
            "color": "#2a3f5f"
           }
          },
          "ternary": {
           "aaxis": {
            "gridcolor": "white",
            "linecolor": "white",
            "ticks": ""
           },
           "baxis": {
            "gridcolor": "white",
            "linecolor": "white",
            "ticks": ""
           },
           "bgcolor": "#E5ECF6",
           "caxis": {
            "gridcolor": "white",
            "linecolor": "white",
            "ticks": ""
           }
          },
          "title": {
           "x": 0.05
          },
          "xaxis": {
           "automargin": true,
           "gridcolor": "white",
           "linecolor": "white",
           "ticks": "",
           "title": {
            "standoff": 15
           },
           "zerolinecolor": "white",
           "zerolinewidth": 2
          },
          "yaxis": {
           "automargin": true,
           "gridcolor": "white",
           "linecolor": "white",
           "ticks": "",
           "title": {
            "standoff": 15
           },
           "zerolinecolor": "white",
           "zerolinewidth": 2
          }
         }
        },
        "title": {
         "text": "Imbalance des add"
        },
        "xaxis": {
         "title": {
          "text": "imbalance"
         }
        },
        "yaxis": {
         "title": {
          "text": "delta_price"
         }
        }
       }
      }
     },
     "metadata": {},
     "output_type": "display_data"
    },
    {
     "data": {
      "application/vnd.plotly.v1+json": {
       "config": {
        "plotlyServerURL": "https://plot.ly"
       },
       "data": [
        {
         "mode": "lines",
         "name": "Density Curve",
         "type": "scatter",
         "x": [
          -0.9025001488272413,
          -0.8075004464817239,
          -0.7125007441362067,
          -0.6175010417906894,
          -0.5225013394451721,
          -0.4275016370996547,
          -0.3325019347541374,
          -0.23750223240862012,
          -0.14250253006310276,
          -0.04750282771758546,
          0.04749687462793184,
          0.1424965769734492,
          0.23749627931896655,
          0.3324959816644838,
          0.42749568401000104,
          0.5224953863555184,
          0.6174950887010358,
          0.7124947910465531,
          0.8074944933920704,
          0.9024941957375876
         ],
         "y": [
          21042,
          23005,
          30040,
          37198,
          48375,
          55731,
          61751,
          68658,
          70452,
          71372,
          69866,
          69003,
          68562,
          63985,
          59770,
          53661,
          44696,
          33636,
          24760,
          21506
         ]
        }
       ],
       "layout": {
        "showlegend": false,
        "template": {
         "data": {
          "bar": [
           {
            "error_x": {
             "color": "#2a3f5f"
            },
            "error_y": {
             "color": "#2a3f5f"
            },
            "marker": {
             "line": {
              "color": "#E5ECF6",
              "width": 0.5
             },
             "pattern": {
              "fillmode": "overlay",
              "size": 10,
              "solidity": 0.2
             }
            },
            "type": "bar"
           }
          ],
          "barpolar": [
           {
            "marker": {
             "line": {
              "color": "#E5ECF6",
              "width": 0.5
             },
             "pattern": {
              "fillmode": "overlay",
              "size": 10,
              "solidity": 0.2
             }
            },
            "type": "barpolar"
           }
          ],
          "carpet": [
           {
            "aaxis": {
             "endlinecolor": "#2a3f5f",
             "gridcolor": "white",
             "linecolor": "white",
             "minorgridcolor": "white",
             "startlinecolor": "#2a3f5f"
            },
            "baxis": {
             "endlinecolor": "#2a3f5f",
             "gridcolor": "white",
             "linecolor": "white",
             "minorgridcolor": "white",
             "startlinecolor": "#2a3f5f"
            },
            "type": "carpet"
           }
          ],
          "choropleth": [
           {
            "colorbar": {
             "outlinewidth": 0,
             "ticks": ""
            },
            "type": "choropleth"
           }
          ],
          "contour": [
           {
            "colorbar": {
             "outlinewidth": 0,
             "ticks": ""
            },
            "colorscale": [
             [
              0,
              "#0d0887"
             ],
             [
              0.1111111111111111,
              "#46039f"
             ],
             [
              0.2222222222222222,
              "#7201a8"
             ],
             [
              0.3333333333333333,
              "#9c179e"
             ],
             [
              0.4444444444444444,
              "#bd3786"
             ],
             [
              0.5555555555555556,
              "#d8576b"
             ],
             [
              0.6666666666666666,
              "#ed7953"
             ],
             [
              0.7777777777777778,
              "#fb9f3a"
             ],
             [
              0.8888888888888888,
              "#fdca26"
             ],
             [
              1,
              "#f0f921"
             ]
            ],
            "type": "contour"
           }
          ],
          "contourcarpet": [
           {
            "colorbar": {
             "outlinewidth": 0,
             "ticks": ""
            },
            "type": "contourcarpet"
           }
          ],
          "heatmap": [
           {
            "colorbar": {
             "outlinewidth": 0,
             "ticks": ""
            },
            "colorscale": [
             [
              0,
              "#0d0887"
             ],
             [
              0.1111111111111111,
              "#46039f"
             ],
             [
              0.2222222222222222,
              "#7201a8"
             ],
             [
              0.3333333333333333,
              "#9c179e"
             ],
             [
              0.4444444444444444,
              "#bd3786"
             ],
             [
              0.5555555555555556,
              "#d8576b"
             ],
             [
              0.6666666666666666,
              "#ed7953"
             ],
             [
              0.7777777777777778,
              "#fb9f3a"
             ],
             [
              0.8888888888888888,
              "#fdca26"
             ],
             [
              1,
              "#f0f921"
             ]
            ],
            "type": "heatmap"
           }
          ],
          "heatmapgl": [
           {
            "colorbar": {
             "outlinewidth": 0,
             "ticks": ""
            },
            "colorscale": [
             [
              0,
              "#0d0887"
             ],
             [
              0.1111111111111111,
              "#46039f"
             ],
             [
              0.2222222222222222,
              "#7201a8"
             ],
             [
              0.3333333333333333,
              "#9c179e"
             ],
             [
              0.4444444444444444,
              "#bd3786"
             ],
             [
              0.5555555555555556,
              "#d8576b"
             ],
             [
              0.6666666666666666,
              "#ed7953"
             ],
             [
              0.7777777777777778,
              "#fb9f3a"
             ],
             [
              0.8888888888888888,
              "#fdca26"
             ],
             [
              1,
              "#f0f921"
             ]
            ],
            "type": "heatmapgl"
           }
          ],
          "histogram": [
           {
            "marker": {
             "pattern": {
              "fillmode": "overlay",
              "size": 10,
              "solidity": 0.2
             }
            },
            "type": "histogram"
           }
          ],
          "histogram2d": [
           {
            "colorbar": {
             "outlinewidth": 0,
             "ticks": ""
            },
            "colorscale": [
             [
              0,
              "#0d0887"
             ],
             [
              0.1111111111111111,
              "#46039f"
             ],
             [
              0.2222222222222222,
              "#7201a8"
             ],
             [
              0.3333333333333333,
              "#9c179e"
             ],
             [
              0.4444444444444444,
              "#bd3786"
             ],
             [
              0.5555555555555556,
              "#d8576b"
             ],
             [
              0.6666666666666666,
              "#ed7953"
             ],
             [
              0.7777777777777778,
              "#fb9f3a"
             ],
             [
              0.8888888888888888,
              "#fdca26"
             ],
             [
              1,
              "#f0f921"
             ]
            ],
            "type": "histogram2d"
           }
          ],
          "histogram2dcontour": [
           {
            "colorbar": {
             "outlinewidth": 0,
             "ticks": ""
            },
            "colorscale": [
             [
              0,
              "#0d0887"
             ],
             [
              0.1111111111111111,
              "#46039f"
             ],
             [
              0.2222222222222222,
              "#7201a8"
             ],
             [
              0.3333333333333333,
              "#9c179e"
             ],
             [
              0.4444444444444444,
              "#bd3786"
             ],
             [
              0.5555555555555556,
              "#d8576b"
             ],
             [
              0.6666666666666666,
              "#ed7953"
             ],
             [
              0.7777777777777778,
              "#fb9f3a"
             ],
             [
              0.8888888888888888,
              "#fdca26"
             ],
             [
              1,
              "#f0f921"
             ]
            ],
            "type": "histogram2dcontour"
           }
          ],
          "mesh3d": [
           {
            "colorbar": {
             "outlinewidth": 0,
             "ticks": ""
            },
            "type": "mesh3d"
           }
          ],
          "parcoords": [
           {
            "line": {
             "colorbar": {
              "outlinewidth": 0,
              "ticks": ""
             }
            },
            "type": "parcoords"
           }
          ],
          "pie": [
           {
            "automargin": true,
            "type": "pie"
           }
          ],
          "scatter": [
           {
            "fillpattern": {
             "fillmode": "overlay",
             "size": 10,
             "solidity": 0.2
            },
            "type": "scatter"
           }
          ],
          "scatter3d": [
           {
            "line": {
             "colorbar": {
              "outlinewidth": 0,
              "ticks": ""
             }
            },
            "marker": {
             "colorbar": {
              "outlinewidth": 0,
              "ticks": ""
             }
            },
            "type": "scatter3d"
           }
          ],
          "scattercarpet": [
           {
            "marker": {
             "colorbar": {
              "outlinewidth": 0,
              "ticks": ""
             }
            },
            "type": "scattercarpet"
           }
          ],
          "scattergeo": [
           {
            "marker": {
             "colorbar": {
              "outlinewidth": 0,
              "ticks": ""
             }
            },
            "type": "scattergeo"
           }
          ],
          "scattergl": [
           {
            "marker": {
             "colorbar": {
              "outlinewidth": 0,
              "ticks": ""
             }
            },
            "type": "scattergl"
           }
          ],
          "scattermapbox": [
           {
            "marker": {
             "colorbar": {
              "outlinewidth": 0,
              "ticks": ""
             }
            },
            "type": "scattermapbox"
           }
          ],
          "scatterpolar": [
           {
            "marker": {
             "colorbar": {
              "outlinewidth": 0,
              "ticks": ""
             }
            },
            "type": "scatterpolar"
           }
          ],
          "scatterpolargl": [
           {
            "marker": {
             "colorbar": {
              "outlinewidth": 0,
              "ticks": ""
             }
            },
            "type": "scatterpolargl"
           }
          ],
          "scatterternary": [
           {
            "marker": {
             "colorbar": {
              "outlinewidth": 0,
              "ticks": ""
             }
            },
            "type": "scatterternary"
           }
          ],
          "surface": [
           {
            "colorbar": {
             "outlinewidth": 0,
             "ticks": ""
            },
            "colorscale": [
             [
              0,
              "#0d0887"
             ],
             [
              0.1111111111111111,
              "#46039f"
             ],
             [
              0.2222222222222222,
              "#7201a8"
             ],
             [
              0.3333333333333333,
              "#9c179e"
             ],
             [
              0.4444444444444444,
              "#bd3786"
             ],
             [
              0.5555555555555556,
              "#d8576b"
             ],
             [
              0.6666666666666666,
              "#ed7953"
             ],
             [
              0.7777777777777778,
              "#fb9f3a"
             ],
             [
              0.8888888888888888,
              "#fdca26"
             ],
             [
              1,
              "#f0f921"
             ]
            ],
            "type": "surface"
           }
          ],
          "table": [
           {
            "cells": {
             "fill": {
              "color": "#EBF0F8"
             },
             "line": {
              "color": "white"
             }
            },
            "header": {
             "fill": {
              "color": "#C8D4E3"
             },
             "line": {
              "color": "white"
             }
            },
            "type": "table"
           }
          ]
         },
         "layout": {
          "annotationdefaults": {
           "arrowcolor": "#2a3f5f",
           "arrowhead": 0,
           "arrowwidth": 1
          },
          "autotypenumbers": "strict",
          "coloraxis": {
           "colorbar": {
            "outlinewidth": 0,
            "ticks": ""
           }
          },
          "colorscale": {
           "diverging": [
            [
             0,
             "#8e0152"
            ],
            [
             0.1,
             "#c51b7d"
            ],
            [
             0.2,
             "#de77ae"
            ],
            [
             0.3,
             "#f1b6da"
            ],
            [
             0.4,
             "#fde0ef"
            ],
            [
             0.5,
             "#f7f7f7"
            ],
            [
             0.6,
             "#e6f5d0"
            ],
            [
             0.7,
             "#b8e186"
            ],
            [
             0.8,
             "#7fbc41"
            ],
            [
             0.9,
             "#4d9221"
            ],
            [
             1,
             "#276419"
            ]
           ],
           "sequential": [
            [
             0,
             "#0d0887"
            ],
            [
             0.1111111111111111,
             "#46039f"
            ],
            [
             0.2222222222222222,
             "#7201a8"
            ],
            [
             0.3333333333333333,
             "#9c179e"
            ],
            [
             0.4444444444444444,
             "#bd3786"
            ],
            [
             0.5555555555555556,
             "#d8576b"
            ],
            [
             0.6666666666666666,
             "#ed7953"
            ],
            [
             0.7777777777777778,
             "#fb9f3a"
            ],
            [
             0.8888888888888888,
             "#fdca26"
            ],
            [
             1,
             "#f0f921"
            ]
           ],
           "sequentialminus": [
            [
             0,
             "#0d0887"
            ],
            [
             0.1111111111111111,
             "#46039f"
            ],
            [
             0.2222222222222222,
             "#7201a8"
            ],
            [
             0.3333333333333333,
             "#9c179e"
            ],
            [
             0.4444444444444444,
             "#bd3786"
            ],
            [
             0.5555555555555556,
             "#d8576b"
            ],
            [
             0.6666666666666666,
             "#ed7953"
            ],
            [
             0.7777777777777778,
             "#fb9f3a"
            ],
            [
             0.8888888888888888,
             "#fdca26"
            ],
            [
             1,
             "#f0f921"
            ]
           ]
          },
          "colorway": [
           "#636efa",
           "#EF553B",
           "#00cc96",
           "#ab63fa",
           "#FFA15A",
           "#19d3f3",
           "#FF6692",
           "#B6E880",
           "#FF97FF",
           "#FECB52"
          ],
          "font": {
           "color": "#2a3f5f"
          },
          "geo": {
           "bgcolor": "white",
           "lakecolor": "white",
           "landcolor": "#E5ECF6",
           "showlakes": true,
           "showland": true,
           "subunitcolor": "white"
          },
          "hoverlabel": {
           "align": "left"
          },
          "hovermode": "closest",
          "mapbox": {
           "style": "light"
          },
          "paper_bgcolor": "white",
          "plot_bgcolor": "#E5ECF6",
          "polar": {
           "angularaxis": {
            "gridcolor": "white",
            "linecolor": "white",
            "ticks": ""
           },
           "bgcolor": "#E5ECF6",
           "radialaxis": {
            "gridcolor": "white",
            "linecolor": "white",
            "ticks": ""
           }
          },
          "scene": {
           "xaxis": {
            "backgroundcolor": "#E5ECF6",
            "gridcolor": "white",
            "gridwidth": 2,
            "linecolor": "white",
            "showbackground": true,
            "ticks": "",
            "zerolinecolor": "white"
           },
           "yaxis": {
            "backgroundcolor": "#E5ECF6",
            "gridcolor": "white",
            "gridwidth": 2,
            "linecolor": "white",
            "showbackground": true,
            "ticks": "",
            "zerolinecolor": "white"
           },
           "zaxis": {
            "backgroundcolor": "#E5ECF6",
            "gridcolor": "white",
            "gridwidth": 2,
            "linecolor": "white",
            "showbackground": true,
            "ticks": "",
            "zerolinecolor": "white"
           }
          },
          "shapedefaults": {
           "line": {
            "color": "#2a3f5f"
           }
          },
          "ternary": {
           "aaxis": {
            "gridcolor": "white",
            "linecolor": "white",
            "ticks": ""
           },
           "baxis": {
            "gridcolor": "white",
            "linecolor": "white",
            "ticks": ""
           },
           "bgcolor": "#E5ECF6",
           "caxis": {
            "gridcolor": "white",
            "linecolor": "white",
            "ticks": ""
           }
          },
          "title": {
           "x": 0.05
          },
          "xaxis": {
           "automargin": true,
           "gridcolor": "white",
           "linecolor": "white",
           "ticks": "",
           "title": {
            "standoff": 15
           },
           "zerolinecolor": "white",
           "zerolinewidth": 2
          },
          "yaxis": {
           "automargin": true,
           "gridcolor": "white",
           "linecolor": "white",
           "ticks": "",
           "title": {
            "standoff": 15
           },
           "zerolinecolor": "white",
           "zerolinewidth": 2
          }
         }
        },
        "title": {
         "text": "Courbe de distribution de l'imbalance des add"
        },
        "xaxis": {
         "title": {
          "text": "imbalance"
         }
        },
        "yaxis": {
         "title": {
          "text": "number of events"
         }
        }
       }
      }
     },
     "metadata": {},
     "output_type": "display_data"
    },
    {
     "data": {
      "application/vnd.plotly.v1+json": {
       "config": {
        "plotlyServerURL": "https://plot.ly"
       },
       "data": [
        {
         "line": {
          "width": 0
         },
         "mode": "lines",
         "name": "Upper Bound",
         "showlegend": false,
         "type": "scatter",
         "x": [
          -0.8618842591484288,
          -0.7006298689780383,
          -0.577664835652245,
          -0.4839370484912186,
          -0.40104777068981284,
          -0.32639712095913065,
          -0.2588088364686867,
          -0.19516827306147816,
          -0.1338296692451146,
          -0.07229824254278298,
          -0.012768929520035726,
          0.047519996573380976,
          0.10943952382677412,
          0.17107950344425335,
          0.23378349845095253,
          0.29861778870396977,
          0.3675008963492876,
          0.4411447264996602,
          0.5215779319764522,
          0.6170319437008086,
          0.7400454160029941,
          0.8843236344005938
         ],
         "y": [
          -0.00007413343014598895,
          -0.00004392748127740943,
          -0.0000319710348815919,
          -0.000025935194983413308,
          -0.00002220565410206692,
          -0.000016502802341926336,
          -0.000015675074634812655,
          -0.000014754207805444295,
          -0.00001608078829441028,
          -0.000015613522204647577,
          -0.00001837618595060249,
          -0.00001850682706133825,
          -0.000012617544463395269,
          -0.00001585289133539995,
          -0.0000158532829531826,
          -0.000014521813086977049,
          -0.000007087495099816068,
          -0.000013684732392310938,
          -0.0000069739040951190865,
          -0.000005685761962541577,
          -0.000004255076501814833,
          -0.0000035606125520474297
         ]
        },
        {
         "fill": "tonexty",
         "fillcolor": "blue",
         "line": {
          "width": 0
         },
         "mode": "lines",
         "name": "Intervalle de confiance à 95%",
         "showlegend": true,
         "type": "scatter",
         "x": [
          -0.8618842591484288,
          -0.7006298689780383,
          -0.577664835652245,
          -0.4839370484912186,
          -0.40104777068981284,
          -0.32639712095913065,
          -0.2588088364686867,
          -0.19516827306147816,
          -0.1338296692451146,
          -0.07229824254278298,
          -0.012768929520035726,
          0.047519996573380976,
          0.10943952382677412,
          0.17107950344425335,
          0.23378349845095253,
          0.29861778870396977,
          0.3675008963492876,
          0.4411447264996602,
          0.5215779319764522,
          0.6170319437008086,
          0.7400454160029941,
          0.8843236344005938
         ],
         "y": [
          -0.00008786656985400894,
          -0.00005657251872258906,
          -0.0000437789651184072,
          -0.00003856480501658517,
          -0.00003404434589793254,
          -0.00002849719765807276,
          -0.000027324925365186764,
          -0.000025995792194554914,
          -0.000026919211705589478,
          -0.000026886477795352073,
          -0.000029123814049396944,
          -0.00002924317293866064,
          -0.00002313245553660442,
          -0.00002664710866459973,
          -0.000026146717046817085,
          -0.000024978186913021932,
          -0.000017162504900183334,
          -0.000023815267607688035,
          -0.00001752609590488057,
          -0.00001681423803745845,
          -0.000015744923498184957,
          -0.000017762082361457678
         ]
        },
        {
         "line": {
          "color": "red"
         },
         "mode": "lines",
         "name": "Prix",
         "showlegend": true,
         "type": "scatter",
         "x": [
          -0.8618842591484288,
          -0.7006298689780383,
          -0.577664835652245,
          -0.4839370484912186,
          -0.40104777068981284,
          -0.32639712095913065,
          -0.2588088364686867,
          -0.19516827306147816,
          -0.1338296692451146,
          -0.07229824254278298,
          -0.012768929520035726,
          0.047519996573380976,
          0.10943952382677412,
          0.17107950344425335,
          0.23378349845095253,
          0.29861778870396977,
          0.3675008963492876,
          0.4411447264996602,
          0.5215779319764522,
          0.6170319437008086,
          0.7400454160029941,
          0.8843236344005938
         ],
         "y": [
          -0.00008099999999999895,
          -0.00005024999999999924,
          -0.00003787499999999955,
          -0.00003224999999999924,
          -0.000028124999999999728,
          -0.000022499999999999547,
          -0.00002149999999999971,
          -0.000020374999999999604,
          -0.00002149999999999988,
          -0.000021249999999999825,
          -0.000023749999999999717,
          -0.000023874999999999445,
          -0.000017874999999999845,
          -0.00002124999999999984,
          -0.000020999999999999843,
          -0.00001974999999999949,
          -0.000012124999999999702,
          -0.000018749999999999487,
          -0.000012249999999999829,
          -0.000011250000000000013,
          -0.000009999999999999896,
          -0.000010661347456752553
         ]
        }
       ],
       "layout": {
        "showlegend": true,
        "template": {
         "data": {
          "bar": [
           {
            "error_x": {
             "color": "#2a3f5f"
            },
            "error_y": {
             "color": "#2a3f5f"
            },
            "marker": {
             "line": {
              "color": "#E5ECF6",
              "width": 0.5
             },
             "pattern": {
              "fillmode": "overlay",
              "size": 10,
              "solidity": 0.2
             }
            },
            "type": "bar"
           }
          ],
          "barpolar": [
           {
            "marker": {
             "line": {
              "color": "#E5ECF6",
              "width": 0.5
             },
             "pattern": {
              "fillmode": "overlay",
              "size": 10,
              "solidity": 0.2
             }
            },
            "type": "barpolar"
           }
          ],
          "carpet": [
           {
            "aaxis": {
             "endlinecolor": "#2a3f5f",
             "gridcolor": "white",
             "linecolor": "white",
             "minorgridcolor": "white",
             "startlinecolor": "#2a3f5f"
            },
            "baxis": {
             "endlinecolor": "#2a3f5f",
             "gridcolor": "white",
             "linecolor": "white",
             "minorgridcolor": "white",
             "startlinecolor": "#2a3f5f"
            },
            "type": "carpet"
           }
          ],
          "choropleth": [
           {
            "colorbar": {
             "outlinewidth": 0,
             "ticks": ""
            },
            "type": "choropleth"
           }
          ],
          "contour": [
           {
            "colorbar": {
             "outlinewidth": 0,
             "ticks": ""
            },
            "colorscale": [
             [
              0,
              "#0d0887"
             ],
             [
              0.1111111111111111,
              "#46039f"
             ],
             [
              0.2222222222222222,
              "#7201a8"
             ],
             [
              0.3333333333333333,
              "#9c179e"
             ],
             [
              0.4444444444444444,
              "#bd3786"
             ],
             [
              0.5555555555555556,
              "#d8576b"
             ],
             [
              0.6666666666666666,
              "#ed7953"
             ],
             [
              0.7777777777777778,
              "#fb9f3a"
             ],
             [
              0.8888888888888888,
              "#fdca26"
             ],
             [
              1,
              "#f0f921"
             ]
            ],
            "type": "contour"
           }
          ],
          "contourcarpet": [
           {
            "colorbar": {
             "outlinewidth": 0,
             "ticks": ""
            },
            "type": "contourcarpet"
           }
          ],
          "heatmap": [
           {
            "colorbar": {
             "outlinewidth": 0,
             "ticks": ""
            },
            "colorscale": [
             [
              0,
              "#0d0887"
             ],
             [
              0.1111111111111111,
              "#46039f"
             ],
             [
              0.2222222222222222,
              "#7201a8"
             ],
             [
              0.3333333333333333,
              "#9c179e"
             ],
             [
              0.4444444444444444,
              "#bd3786"
             ],
             [
              0.5555555555555556,
              "#d8576b"
             ],
             [
              0.6666666666666666,
              "#ed7953"
             ],
             [
              0.7777777777777778,
              "#fb9f3a"
             ],
             [
              0.8888888888888888,
              "#fdca26"
             ],
             [
              1,
              "#f0f921"
             ]
            ],
            "type": "heatmap"
           }
          ],
          "heatmapgl": [
           {
            "colorbar": {
             "outlinewidth": 0,
             "ticks": ""
            },
            "colorscale": [
             [
              0,
              "#0d0887"
             ],
             [
              0.1111111111111111,
              "#46039f"
             ],
             [
              0.2222222222222222,
              "#7201a8"
             ],
             [
              0.3333333333333333,
              "#9c179e"
             ],
             [
              0.4444444444444444,
              "#bd3786"
             ],
             [
              0.5555555555555556,
              "#d8576b"
             ],
             [
              0.6666666666666666,
              "#ed7953"
             ],
             [
              0.7777777777777778,
              "#fb9f3a"
             ],
             [
              0.8888888888888888,
              "#fdca26"
             ],
             [
              1,
              "#f0f921"
             ]
            ],
            "type": "heatmapgl"
           }
          ],
          "histogram": [
           {
            "marker": {
             "pattern": {
              "fillmode": "overlay",
              "size": 10,
              "solidity": 0.2
             }
            },
            "type": "histogram"
           }
          ],
          "histogram2d": [
           {
            "colorbar": {
             "outlinewidth": 0,
             "ticks": ""
            },
            "colorscale": [
             [
              0,
              "#0d0887"
             ],
             [
              0.1111111111111111,
              "#46039f"
             ],
             [
              0.2222222222222222,
              "#7201a8"
             ],
             [
              0.3333333333333333,
              "#9c179e"
             ],
             [
              0.4444444444444444,
              "#bd3786"
             ],
             [
              0.5555555555555556,
              "#d8576b"
             ],
             [
              0.6666666666666666,
              "#ed7953"
             ],
             [
              0.7777777777777778,
              "#fb9f3a"
             ],
             [
              0.8888888888888888,
              "#fdca26"
             ],
             [
              1,
              "#f0f921"
             ]
            ],
            "type": "histogram2d"
           }
          ],
          "histogram2dcontour": [
           {
            "colorbar": {
             "outlinewidth": 0,
             "ticks": ""
            },
            "colorscale": [
             [
              0,
              "#0d0887"
             ],
             [
              0.1111111111111111,
              "#46039f"
             ],
             [
              0.2222222222222222,
              "#7201a8"
             ],
             [
              0.3333333333333333,
              "#9c179e"
             ],
             [
              0.4444444444444444,
              "#bd3786"
             ],
             [
              0.5555555555555556,
              "#d8576b"
             ],
             [
              0.6666666666666666,
              "#ed7953"
             ],
             [
              0.7777777777777778,
              "#fb9f3a"
             ],
             [
              0.8888888888888888,
              "#fdca26"
             ],
             [
              1,
              "#f0f921"
             ]
            ],
            "type": "histogram2dcontour"
           }
          ],
          "mesh3d": [
           {
            "colorbar": {
             "outlinewidth": 0,
             "ticks": ""
            },
            "type": "mesh3d"
           }
          ],
          "parcoords": [
           {
            "line": {
             "colorbar": {
              "outlinewidth": 0,
              "ticks": ""
             }
            },
            "type": "parcoords"
           }
          ],
          "pie": [
           {
            "automargin": true,
            "type": "pie"
           }
          ],
          "scatter": [
           {
            "fillpattern": {
             "fillmode": "overlay",
             "size": 10,
             "solidity": 0.2
            },
            "type": "scatter"
           }
          ],
          "scatter3d": [
           {
            "line": {
             "colorbar": {
              "outlinewidth": 0,
              "ticks": ""
             }
            },
            "marker": {
             "colorbar": {
              "outlinewidth": 0,
              "ticks": ""
             }
            },
            "type": "scatter3d"
           }
          ],
          "scattercarpet": [
           {
            "marker": {
             "colorbar": {
              "outlinewidth": 0,
              "ticks": ""
             }
            },
            "type": "scattercarpet"
           }
          ],
          "scattergeo": [
           {
            "marker": {
             "colorbar": {
              "outlinewidth": 0,
              "ticks": ""
             }
            },
            "type": "scattergeo"
           }
          ],
          "scattergl": [
           {
            "marker": {
             "colorbar": {
              "outlinewidth": 0,
              "ticks": ""
             }
            },
            "type": "scattergl"
           }
          ],
          "scattermapbox": [
           {
            "marker": {
             "colorbar": {
              "outlinewidth": 0,
              "ticks": ""
             }
            },
            "type": "scattermapbox"
           }
          ],
          "scatterpolar": [
           {
            "marker": {
             "colorbar": {
              "outlinewidth": 0,
              "ticks": ""
             }
            },
            "type": "scatterpolar"
           }
          ],
          "scatterpolargl": [
           {
            "marker": {
             "colorbar": {
              "outlinewidth": 0,
              "ticks": ""
             }
            },
            "type": "scatterpolargl"
           }
          ],
          "scatterternary": [
           {
            "marker": {
             "colorbar": {
              "outlinewidth": 0,
              "ticks": ""
             }
            },
            "type": "scatterternary"
           }
          ],
          "surface": [
           {
            "colorbar": {
             "outlinewidth": 0,
             "ticks": ""
            },
            "colorscale": [
             [
              0,
              "#0d0887"
             ],
             [
              0.1111111111111111,
              "#46039f"
             ],
             [
              0.2222222222222222,
              "#7201a8"
             ],
             [
              0.3333333333333333,
              "#9c179e"
             ],
             [
              0.4444444444444444,
              "#bd3786"
             ],
             [
              0.5555555555555556,
              "#d8576b"
             ],
             [
              0.6666666666666666,
              "#ed7953"
             ],
             [
              0.7777777777777778,
              "#fb9f3a"
             ],
             [
              0.8888888888888888,
              "#fdca26"
             ],
             [
              1,
              "#f0f921"
             ]
            ],
            "type": "surface"
           }
          ],
          "table": [
           {
            "cells": {
             "fill": {
              "color": "#EBF0F8"
             },
             "line": {
              "color": "white"
             }
            },
            "header": {
             "fill": {
              "color": "#C8D4E3"
             },
             "line": {
              "color": "white"
             }
            },
            "type": "table"
           }
          ]
         },
         "layout": {
          "annotationdefaults": {
           "arrowcolor": "#2a3f5f",
           "arrowhead": 0,
           "arrowwidth": 1
          },
          "autotypenumbers": "strict",
          "coloraxis": {
           "colorbar": {
            "outlinewidth": 0,
            "ticks": ""
           }
          },
          "colorscale": {
           "diverging": [
            [
             0,
             "#8e0152"
            ],
            [
             0.1,
             "#c51b7d"
            ],
            [
             0.2,
             "#de77ae"
            ],
            [
             0.3,
             "#f1b6da"
            ],
            [
             0.4,
             "#fde0ef"
            ],
            [
             0.5,
             "#f7f7f7"
            ],
            [
             0.6,
             "#e6f5d0"
            ],
            [
             0.7,
             "#b8e186"
            ],
            [
             0.8,
             "#7fbc41"
            ],
            [
             0.9,
             "#4d9221"
            ],
            [
             1,
             "#276419"
            ]
           ],
           "sequential": [
            [
             0,
             "#0d0887"
            ],
            [
             0.1111111111111111,
             "#46039f"
            ],
            [
             0.2222222222222222,
             "#7201a8"
            ],
            [
             0.3333333333333333,
             "#9c179e"
            ],
            [
             0.4444444444444444,
             "#bd3786"
            ],
            [
             0.5555555555555556,
             "#d8576b"
            ],
            [
             0.6666666666666666,
             "#ed7953"
            ],
            [
             0.7777777777777778,
             "#fb9f3a"
            ],
            [
             0.8888888888888888,
             "#fdca26"
            ],
            [
             1,
             "#f0f921"
            ]
           ],
           "sequentialminus": [
            [
             0,
             "#0d0887"
            ],
            [
             0.1111111111111111,
             "#46039f"
            ],
            [
             0.2222222222222222,
             "#7201a8"
            ],
            [
             0.3333333333333333,
             "#9c179e"
            ],
            [
             0.4444444444444444,
             "#bd3786"
            ],
            [
             0.5555555555555556,
             "#d8576b"
            ],
            [
             0.6666666666666666,
             "#ed7953"
            ],
            [
             0.7777777777777778,
             "#fb9f3a"
            ],
            [
             0.8888888888888888,
             "#fdca26"
            ],
            [
             1,
             "#f0f921"
            ]
           ]
          },
          "colorway": [
           "#636efa",
           "#EF553B",
           "#00cc96",
           "#ab63fa",
           "#FFA15A",
           "#19d3f3",
           "#FF6692",
           "#B6E880",
           "#FF97FF",
           "#FECB52"
          ],
          "font": {
           "color": "#2a3f5f"
          },
          "geo": {
           "bgcolor": "white",
           "lakecolor": "white",
           "landcolor": "#E5ECF6",
           "showlakes": true,
           "showland": true,
           "subunitcolor": "white"
          },
          "hoverlabel": {
           "align": "left"
          },
          "hovermode": "closest",
          "mapbox": {
           "style": "light"
          },
          "paper_bgcolor": "white",
          "plot_bgcolor": "#E5ECF6",
          "polar": {
           "angularaxis": {
            "gridcolor": "white",
            "linecolor": "white",
            "ticks": ""
           },
           "bgcolor": "#E5ECF6",
           "radialaxis": {
            "gridcolor": "white",
            "linecolor": "white",
            "ticks": ""
           }
          },
          "scene": {
           "xaxis": {
            "backgroundcolor": "#E5ECF6",
            "gridcolor": "white",
            "gridwidth": 2,
            "linecolor": "white",
            "showbackground": true,
            "ticks": "",
            "zerolinecolor": "white"
           },
           "yaxis": {
            "backgroundcolor": "#E5ECF6",
            "gridcolor": "white",
            "gridwidth": 2,
            "linecolor": "white",
            "showbackground": true,
            "ticks": "",
            "zerolinecolor": "white"
           },
           "zaxis": {
            "backgroundcolor": "#E5ECF6",
            "gridcolor": "white",
            "gridwidth": 2,
            "linecolor": "white",
            "showbackground": true,
            "ticks": "",
            "zerolinecolor": "white"
           }
          },
          "shapedefaults": {
           "line": {
            "color": "#2a3f5f"
           }
          },
          "ternary": {
           "aaxis": {
            "gridcolor": "white",
            "linecolor": "white",
            "ticks": ""
           },
           "baxis": {
            "gridcolor": "white",
            "linecolor": "white",
            "ticks": ""
           },
           "bgcolor": "#E5ECF6",
           "caxis": {
            "gridcolor": "white",
            "linecolor": "white",
            "ticks": ""
           }
          },
          "title": {
           "x": 0.05
          },
          "xaxis": {
           "automargin": true,
           "gridcolor": "white",
           "linecolor": "white",
           "ticks": "",
           "title": {
            "standoff": 15
           },
           "zerolinecolor": "white",
           "zerolinewidth": 2
          },
          "yaxis": {
           "automargin": true,
           "gridcolor": "white",
           "linecolor": "white",
           "ticks": "",
           "title": {
            "standoff": 15
           },
           "zerolinecolor": "white",
           "zerolinewidth": 2
          }
         }
        },
        "title": {
         "text": "Imbalance des cancel"
        },
        "xaxis": {
         "title": {
          "text": "imbalance"
         }
        },
        "yaxis": {
         "title": {
          "text": "delta_price"
         }
        }
       }
      }
     },
     "metadata": {},
     "output_type": "display_data"
    },
    {
     "data": {
      "application/vnd.plotly.v1+json": {
       "config": {
        "plotlyServerURL": "https://plot.ly"
       },
       "data": [
        {
         "mode": "lines",
         "name": "Density Curve",
         "type": "scatter",
         "x": [
          -0.9025000625031251,
          -0.8075001875093755,
          -0.7125003125156257,
          -0.6175004375218761,
          -0.5225005625281264,
          -0.42750068753437676,
          -0.3325008125406271,
          -0.2375009375468774,
          -0.14250106255312767,
          -0.04750118755937799,
          0.047498687434371634,
          0.1424985624281213,
          0.23749843742187104,
          0.33249831241562067,
          0.4274981874093703,
          0.52249806240312,
          0.6174979373968698,
          0.7124978123906195,
          0.8074976873843691,
          0.9024975623781187
         ],
         "y": [
          21480,
          22194,
          26697,
          31967,
          41856,
          46766,
          52819,
          59411,
          62062,
          63354,
          62027,
          61606,
          59575,
          55349,
          50180,
          44134,
          36318,
          28177,
          22301,
          20804
         ]
        }
       ],
       "layout": {
        "showlegend": false,
        "template": {
         "data": {
          "bar": [
           {
            "error_x": {
             "color": "#2a3f5f"
            },
            "error_y": {
             "color": "#2a3f5f"
            },
            "marker": {
             "line": {
              "color": "#E5ECF6",
              "width": 0.5
             },
             "pattern": {
              "fillmode": "overlay",
              "size": 10,
              "solidity": 0.2
             }
            },
            "type": "bar"
           }
          ],
          "barpolar": [
           {
            "marker": {
             "line": {
              "color": "#E5ECF6",
              "width": 0.5
             },
             "pattern": {
              "fillmode": "overlay",
              "size": 10,
              "solidity": 0.2
             }
            },
            "type": "barpolar"
           }
          ],
          "carpet": [
           {
            "aaxis": {
             "endlinecolor": "#2a3f5f",
             "gridcolor": "white",
             "linecolor": "white",
             "minorgridcolor": "white",
             "startlinecolor": "#2a3f5f"
            },
            "baxis": {
             "endlinecolor": "#2a3f5f",
             "gridcolor": "white",
             "linecolor": "white",
             "minorgridcolor": "white",
             "startlinecolor": "#2a3f5f"
            },
            "type": "carpet"
           }
          ],
          "choropleth": [
           {
            "colorbar": {
             "outlinewidth": 0,
             "ticks": ""
            },
            "type": "choropleth"
           }
          ],
          "contour": [
           {
            "colorbar": {
             "outlinewidth": 0,
             "ticks": ""
            },
            "colorscale": [
             [
              0,
              "#0d0887"
             ],
             [
              0.1111111111111111,
              "#46039f"
             ],
             [
              0.2222222222222222,
              "#7201a8"
             ],
             [
              0.3333333333333333,
              "#9c179e"
             ],
             [
              0.4444444444444444,
              "#bd3786"
             ],
             [
              0.5555555555555556,
              "#d8576b"
             ],
             [
              0.6666666666666666,
              "#ed7953"
             ],
             [
              0.7777777777777778,
              "#fb9f3a"
             ],
             [
              0.8888888888888888,
              "#fdca26"
             ],
             [
              1,
              "#f0f921"
             ]
            ],
            "type": "contour"
           }
          ],
          "contourcarpet": [
           {
            "colorbar": {
             "outlinewidth": 0,
             "ticks": ""
            },
            "type": "contourcarpet"
           }
          ],
          "heatmap": [
           {
            "colorbar": {
             "outlinewidth": 0,
             "ticks": ""
            },
            "colorscale": [
             [
              0,
              "#0d0887"
             ],
             [
              0.1111111111111111,
              "#46039f"
             ],
             [
              0.2222222222222222,
              "#7201a8"
             ],
             [
              0.3333333333333333,
              "#9c179e"
             ],
             [
              0.4444444444444444,
              "#bd3786"
             ],
             [
              0.5555555555555556,
              "#d8576b"
             ],
             [
              0.6666666666666666,
              "#ed7953"
             ],
             [
              0.7777777777777778,
              "#fb9f3a"
             ],
             [
              0.8888888888888888,
              "#fdca26"
             ],
             [
              1,
              "#f0f921"
             ]
            ],
            "type": "heatmap"
           }
          ],
          "heatmapgl": [
           {
            "colorbar": {
             "outlinewidth": 0,
             "ticks": ""
            },
            "colorscale": [
             [
              0,
              "#0d0887"
             ],
             [
              0.1111111111111111,
              "#46039f"
             ],
             [
              0.2222222222222222,
              "#7201a8"
             ],
             [
              0.3333333333333333,
              "#9c179e"
             ],
             [
              0.4444444444444444,
              "#bd3786"
             ],
             [
              0.5555555555555556,
              "#d8576b"
             ],
             [
              0.6666666666666666,
              "#ed7953"
             ],
             [
              0.7777777777777778,
              "#fb9f3a"
             ],
             [
              0.8888888888888888,
              "#fdca26"
             ],
             [
              1,
              "#f0f921"
             ]
            ],
            "type": "heatmapgl"
           }
          ],
          "histogram": [
           {
            "marker": {
             "pattern": {
              "fillmode": "overlay",
              "size": 10,
              "solidity": 0.2
             }
            },
            "type": "histogram"
           }
          ],
          "histogram2d": [
           {
            "colorbar": {
             "outlinewidth": 0,
             "ticks": ""
            },
            "colorscale": [
             [
              0,
              "#0d0887"
             ],
             [
              0.1111111111111111,
              "#46039f"
             ],
             [
              0.2222222222222222,
              "#7201a8"
             ],
             [
              0.3333333333333333,
              "#9c179e"
             ],
             [
              0.4444444444444444,
              "#bd3786"
             ],
             [
              0.5555555555555556,
              "#d8576b"
             ],
             [
              0.6666666666666666,
              "#ed7953"
             ],
             [
              0.7777777777777778,
              "#fb9f3a"
             ],
             [
              0.8888888888888888,
              "#fdca26"
             ],
             [
              1,
              "#f0f921"
             ]
            ],
            "type": "histogram2d"
           }
          ],
          "histogram2dcontour": [
           {
            "colorbar": {
             "outlinewidth": 0,
             "ticks": ""
            },
            "colorscale": [
             [
              0,
              "#0d0887"
             ],
             [
              0.1111111111111111,
              "#46039f"
             ],
             [
              0.2222222222222222,
              "#7201a8"
             ],
             [
              0.3333333333333333,
              "#9c179e"
             ],
             [
              0.4444444444444444,
              "#bd3786"
             ],
             [
              0.5555555555555556,
              "#d8576b"
             ],
             [
              0.6666666666666666,
              "#ed7953"
             ],
             [
              0.7777777777777778,
              "#fb9f3a"
             ],
             [
              0.8888888888888888,
              "#fdca26"
             ],
             [
              1,
              "#f0f921"
             ]
            ],
            "type": "histogram2dcontour"
           }
          ],
          "mesh3d": [
           {
            "colorbar": {
             "outlinewidth": 0,
             "ticks": ""
            },
            "type": "mesh3d"
           }
          ],
          "parcoords": [
           {
            "line": {
             "colorbar": {
              "outlinewidth": 0,
              "ticks": ""
             }
            },
            "type": "parcoords"
           }
          ],
          "pie": [
           {
            "automargin": true,
            "type": "pie"
           }
          ],
          "scatter": [
           {
            "fillpattern": {
             "fillmode": "overlay",
             "size": 10,
             "solidity": 0.2
            },
            "type": "scatter"
           }
          ],
          "scatter3d": [
           {
            "line": {
             "colorbar": {
              "outlinewidth": 0,
              "ticks": ""
             }
            },
            "marker": {
             "colorbar": {
              "outlinewidth": 0,
              "ticks": ""
             }
            },
            "type": "scatter3d"
           }
          ],
          "scattercarpet": [
           {
            "marker": {
             "colorbar": {
              "outlinewidth": 0,
              "ticks": ""
             }
            },
            "type": "scattercarpet"
           }
          ],
          "scattergeo": [
           {
            "marker": {
             "colorbar": {
              "outlinewidth": 0,
              "ticks": ""
             }
            },
            "type": "scattergeo"
           }
          ],
          "scattergl": [
           {
            "marker": {
             "colorbar": {
              "outlinewidth": 0,
              "ticks": ""
             }
            },
            "type": "scattergl"
           }
          ],
          "scattermapbox": [
           {
            "marker": {
             "colorbar": {
              "outlinewidth": 0,
              "ticks": ""
             }
            },
            "type": "scattermapbox"
           }
          ],
          "scatterpolar": [
           {
            "marker": {
             "colorbar": {
              "outlinewidth": 0,
              "ticks": ""
             }
            },
            "type": "scatterpolar"
           }
          ],
          "scatterpolargl": [
           {
            "marker": {
             "colorbar": {
              "outlinewidth": 0,
              "ticks": ""
             }
            },
            "type": "scatterpolargl"
           }
          ],
          "scatterternary": [
           {
            "marker": {
             "colorbar": {
              "outlinewidth": 0,
              "ticks": ""
             }
            },
            "type": "scatterternary"
           }
          ],
          "surface": [
           {
            "colorbar": {
             "outlinewidth": 0,
             "ticks": ""
            },
            "colorscale": [
             [
              0,
              "#0d0887"
             ],
             [
              0.1111111111111111,
              "#46039f"
             ],
             [
              0.2222222222222222,
              "#7201a8"
             ],
             [
              0.3333333333333333,
              "#9c179e"
             ],
             [
              0.4444444444444444,
              "#bd3786"
             ],
             [
              0.5555555555555556,
              "#d8576b"
             ],
             [
              0.6666666666666666,
              "#ed7953"
             ],
             [
              0.7777777777777778,
              "#fb9f3a"
             ],
             [
              0.8888888888888888,
              "#fdca26"
             ],
             [
              1,
              "#f0f921"
             ]
            ],
            "type": "surface"
           }
          ],
          "table": [
           {
            "cells": {
             "fill": {
              "color": "#EBF0F8"
             },
             "line": {
              "color": "white"
             }
            },
            "header": {
             "fill": {
              "color": "#C8D4E3"
             },
             "line": {
              "color": "white"
             }
            },
            "type": "table"
           }
          ]
         },
         "layout": {
          "annotationdefaults": {
           "arrowcolor": "#2a3f5f",
           "arrowhead": 0,
           "arrowwidth": 1
          },
          "autotypenumbers": "strict",
          "coloraxis": {
           "colorbar": {
            "outlinewidth": 0,
            "ticks": ""
           }
          },
          "colorscale": {
           "diverging": [
            [
             0,
             "#8e0152"
            ],
            [
             0.1,
             "#c51b7d"
            ],
            [
             0.2,
             "#de77ae"
            ],
            [
             0.3,
             "#f1b6da"
            ],
            [
             0.4,
             "#fde0ef"
            ],
            [
             0.5,
             "#f7f7f7"
            ],
            [
             0.6,
             "#e6f5d0"
            ],
            [
             0.7,
             "#b8e186"
            ],
            [
             0.8,
             "#7fbc41"
            ],
            [
             0.9,
             "#4d9221"
            ],
            [
             1,
             "#276419"
            ]
           ],
           "sequential": [
            [
             0,
             "#0d0887"
            ],
            [
             0.1111111111111111,
             "#46039f"
            ],
            [
             0.2222222222222222,
             "#7201a8"
            ],
            [
             0.3333333333333333,
             "#9c179e"
            ],
            [
             0.4444444444444444,
             "#bd3786"
            ],
            [
             0.5555555555555556,
             "#d8576b"
            ],
            [
             0.6666666666666666,
             "#ed7953"
            ],
            [
             0.7777777777777778,
             "#fb9f3a"
            ],
            [
             0.8888888888888888,
             "#fdca26"
            ],
            [
             1,
             "#f0f921"
            ]
           ],
           "sequentialminus": [
            [
             0,
             "#0d0887"
            ],
            [
             0.1111111111111111,
             "#46039f"
            ],
            [
             0.2222222222222222,
             "#7201a8"
            ],
            [
             0.3333333333333333,
             "#9c179e"
            ],
            [
             0.4444444444444444,
             "#bd3786"
            ],
            [
             0.5555555555555556,
             "#d8576b"
            ],
            [
             0.6666666666666666,
             "#ed7953"
            ],
            [
             0.7777777777777778,
             "#fb9f3a"
            ],
            [
             0.8888888888888888,
             "#fdca26"
            ],
            [
             1,
             "#f0f921"
            ]
           ]
          },
          "colorway": [
           "#636efa",
           "#EF553B",
           "#00cc96",
           "#ab63fa",
           "#FFA15A",
           "#19d3f3",
           "#FF6692",
           "#B6E880",
           "#FF97FF",
           "#FECB52"
          ],
          "font": {
           "color": "#2a3f5f"
          },
          "geo": {
           "bgcolor": "white",
           "lakecolor": "white",
           "landcolor": "#E5ECF6",
           "showlakes": true,
           "showland": true,
           "subunitcolor": "white"
          },
          "hoverlabel": {
           "align": "left"
          },
          "hovermode": "closest",
          "mapbox": {
           "style": "light"
          },
          "paper_bgcolor": "white",
          "plot_bgcolor": "#E5ECF6",
          "polar": {
           "angularaxis": {
            "gridcolor": "white",
            "linecolor": "white",
            "ticks": ""
           },
           "bgcolor": "#E5ECF6",
           "radialaxis": {
            "gridcolor": "white",
            "linecolor": "white",
            "ticks": ""
           }
          },
          "scene": {
           "xaxis": {
            "backgroundcolor": "#E5ECF6",
            "gridcolor": "white",
            "gridwidth": 2,
            "linecolor": "white",
            "showbackground": true,
            "ticks": "",
            "zerolinecolor": "white"
           },
           "yaxis": {
            "backgroundcolor": "#E5ECF6",
            "gridcolor": "white",
            "gridwidth": 2,
            "linecolor": "white",
            "showbackground": true,
            "ticks": "",
            "zerolinecolor": "white"
           },
           "zaxis": {
            "backgroundcolor": "#E5ECF6",
            "gridcolor": "white",
            "gridwidth": 2,
            "linecolor": "white",
            "showbackground": true,
            "ticks": "",
            "zerolinecolor": "white"
           }
          },
          "shapedefaults": {
           "line": {
            "color": "#2a3f5f"
           }
          },
          "ternary": {
           "aaxis": {
            "gridcolor": "white",
            "linecolor": "white",
            "ticks": ""
           },
           "baxis": {
            "gridcolor": "white",
            "linecolor": "white",
            "ticks": ""
           },
           "bgcolor": "#E5ECF6",
           "caxis": {
            "gridcolor": "white",
            "linecolor": "white",
            "ticks": ""
           }
          },
          "title": {
           "x": 0.05
          },
          "xaxis": {
           "automargin": true,
           "gridcolor": "white",
           "linecolor": "white",
           "ticks": "",
           "title": {
            "standoff": 15
           },
           "zerolinecolor": "white",
           "zerolinewidth": 2
          },
          "yaxis": {
           "automargin": true,
           "gridcolor": "white",
           "linecolor": "white",
           "ticks": "",
           "title": {
            "standoff": 15
           },
           "zerolinecolor": "white",
           "zerolinewidth": 2
          }
         }
        },
        "title": {
         "text": "Courbe de distribution de l'imbalance des cancel"
        },
        "xaxis": {
         "title": {
          "text": "imbalance"
         }
        },
        "yaxis": {
         "title": {
          "text": "number of events"
         }
        }
       }
      }
     },
     "metadata": {},
     "output_type": "display_data"
    },
    {
     "data": {
      "application/vnd.plotly.v1+json": {
       "config": {
        "plotlyServerURL": "https://plot.ly"
       },
       "data": [
        {
         "mode": "lines",
         "name": "Trades",
         "type": "scatter",
         "x": [
          -0.9120000543507799,
          -0.8360001630523397,
          -0.7600002717538996,
          -0.6840003804554595,
          -0.6080004891570193,
          -0.5320005978585792,
          -0.4560007065601391,
          -0.38000081526169893,
          -0.30400092396325884,
          -0.2280010326648187,
          -0.15200114136637854,
          -0.07600125006793845,
          -0.0000013587694983052678,
          0.0759985325289419,
          0.15199842382738205,
          0.22799831512582214,
          0.30399820642426223,
          0.3799980977227023,
          0.4559979890211425,
          0.5319978803195827,
          0.6079977716180228,
          0.6839976629164629,
          0.759997554214903,
          0.8359974455133431,
          0.9119973368117832
         ],
         "y": [
          0.05669304410381274,
          0.04013078836318922,
          0.031784959813515284,
          0.026559356136820925,
          0.021317196444841754,
          0.018160039651944047,
          0.017395795281343295,
          0.016597322720694644,
          0.014819455284886826,
          0.014777525170509906,
          0.013551817407091778,
          0.013275484851855972,
          0.012873803690551563,
          0.013010695793491818,
          0.012283298296552569,
          0.011829887750496914,
          0.012340567342940529,
          0.012926082988888293,
          0.013765649339410373,
          0.01512615777706803,
          0.016659978896369283,
          0.02234879305668565,
          0.03003641462918146,
          0.04063088383769476,
          0.061038062283737024
         ]
        },
        {
         "mode": "lines",
         "name": "Cancel",
         "type": "scatter",
         "x": [
          -0.912000119061793,
          -0.8360003571853791,
          -0.7600005953089654,
          -0.6840008334325516,
          -0.6080010715561377,
          -0.5320013096797238,
          -0.45600154780331,
          -0.38000178592689615,
          -0.30400202405048227,
          -0.22800226217406844,
          -0.1520025002976546,
          -0.07600273842124072,
          -0.00000297654482689369,
          0.07599678533158688,
          0.1519965472080007,
          0.2279963090844146,
          0.3039960709608285,
          0.37999583283724236,
          0.45599559471365614,
          0.5319953565900699,
          0.6079951184664838,
          0.6839948803428977,
          0.7599946422193116,
          0.8359944040957255,
          0.9119941659721393
         ],
         "y": [
          0.4664656078800288,
          0.4838331051057765,
          0.506398271131292,
          0.514466800804829,
          0.5275834207223778,
          0.525952748100011,
          0.5347852923022661,
          0.5297462916063675,
          0.5291254159306576,
          0.5299849072464322,
          0.5248064026084701,
          0.5231764749508658,
          0.5212101191950891,
          0.5229694999811029,
          0.5227424843748527,
          0.5290610026598043,
          0.5283318017026347,
          0.5325352944334103,
          0.5373449489413258,
          0.5415649952091983,
          0.5423930328295213,
          0.5368411536027484,
          0.5171103521588672,
          0.4995770458700576,
          0.47725951557093427
         ]
        },
        {
         "mode": "lines",
         "name": " Add",
         "type": "scatter",
         "x": [
          -0.9120000500025001,
          -0.8360001500075003,
          -0.7600002500125006,
          -0.6840003500175009,
          -0.6080004500225011,
          -0.5320005500275014,
          -0.4560006500325016,
          -0.3800007500375019,
          -0.3040008500425021,
          -0.22800095004750237,
          -0.15200105005250264,
          -0.07600115005750285,
          -0.0000012500625031219847,
          0.07599864993249655,
          0.15199854992749628,
          0.22799844992249607,
          0.30399834991749586,
          0.37999824991249564,
          0.4559981499074953,
          0.531998049902495,
          0.6079979498974948,
          0.6839978498924946,
          0.7599977498874944,
          0.8359976498824941,
          0.9119975498774938
         ],
         "y": [
          0.47684134801615846,
          0.4760361065310343,
          0.4618167690551927,
          0.4589738430583501,
          0.45109938283278034,
          0.45588721224804496,
          0.4478189124163906,
          0.45365638567293776,
          0.4560551287844555,
          0.4552375675830579,
          0.4616417799844381,
          0.46354804019727813,
          0.4659160771143594,
          0.46401980422540534,
          0.46497421732859473,
          0.4591091095896988,
          0.45932763095442475,
          0.45453862257770145,
          0.44888940171926384,
          0.44330884701373363,
          0.4409469882741094,
          0.44081005334056594,
          0.45285323321195126,
          0.45979207029224767,
          0.4617024221453287
         ]
        }
       ],
       "layout": {
        "showlegend": true,
        "template": {
         "data": {
          "bar": [
           {
            "error_x": {
             "color": "#2a3f5f"
            },
            "error_y": {
             "color": "#2a3f5f"
            },
            "marker": {
             "line": {
              "color": "#E5ECF6",
              "width": 0.5
             },
             "pattern": {
              "fillmode": "overlay",
              "size": 10,
              "solidity": 0.2
             }
            },
            "type": "bar"
           }
          ],
          "barpolar": [
           {
            "marker": {
             "line": {
              "color": "#E5ECF6",
              "width": 0.5
             },
             "pattern": {
              "fillmode": "overlay",
              "size": 10,
              "solidity": 0.2
             }
            },
            "type": "barpolar"
           }
          ],
          "carpet": [
           {
            "aaxis": {
             "endlinecolor": "#2a3f5f",
             "gridcolor": "white",
             "linecolor": "white",
             "minorgridcolor": "white",
             "startlinecolor": "#2a3f5f"
            },
            "baxis": {
             "endlinecolor": "#2a3f5f",
             "gridcolor": "white",
             "linecolor": "white",
             "minorgridcolor": "white",
             "startlinecolor": "#2a3f5f"
            },
            "type": "carpet"
           }
          ],
          "choropleth": [
           {
            "colorbar": {
             "outlinewidth": 0,
             "ticks": ""
            },
            "type": "choropleth"
           }
          ],
          "contour": [
           {
            "colorbar": {
             "outlinewidth": 0,
             "ticks": ""
            },
            "colorscale": [
             [
              0,
              "#0d0887"
             ],
             [
              0.1111111111111111,
              "#46039f"
             ],
             [
              0.2222222222222222,
              "#7201a8"
             ],
             [
              0.3333333333333333,
              "#9c179e"
             ],
             [
              0.4444444444444444,
              "#bd3786"
             ],
             [
              0.5555555555555556,
              "#d8576b"
             ],
             [
              0.6666666666666666,
              "#ed7953"
             ],
             [
              0.7777777777777778,
              "#fb9f3a"
             ],
             [
              0.8888888888888888,
              "#fdca26"
             ],
             [
              1,
              "#f0f921"
             ]
            ],
            "type": "contour"
           }
          ],
          "contourcarpet": [
           {
            "colorbar": {
             "outlinewidth": 0,
             "ticks": ""
            },
            "type": "contourcarpet"
           }
          ],
          "heatmap": [
           {
            "colorbar": {
             "outlinewidth": 0,
             "ticks": ""
            },
            "colorscale": [
             [
              0,
              "#0d0887"
             ],
             [
              0.1111111111111111,
              "#46039f"
             ],
             [
              0.2222222222222222,
              "#7201a8"
             ],
             [
              0.3333333333333333,
              "#9c179e"
             ],
             [
              0.4444444444444444,
              "#bd3786"
             ],
             [
              0.5555555555555556,
              "#d8576b"
             ],
             [
              0.6666666666666666,
              "#ed7953"
             ],
             [
              0.7777777777777778,
              "#fb9f3a"
             ],
             [
              0.8888888888888888,
              "#fdca26"
             ],
             [
              1,
              "#f0f921"
             ]
            ],
            "type": "heatmap"
           }
          ],
          "heatmapgl": [
           {
            "colorbar": {
             "outlinewidth": 0,
             "ticks": ""
            },
            "colorscale": [
             [
              0,
              "#0d0887"
             ],
             [
              0.1111111111111111,
              "#46039f"
             ],
             [
              0.2222222222222222,
              "#7201a8"
             ],
             [
              0.3333333333333333,
              "#9c179e"
             ],
             [
              0.4444444444444444,
              "#bd3786"
             ],
             [
              0.5555555555555556,
              "#d8576b"
             ],
             [
              0.6666666666666666,
              "#ed7953"
             ],
             [
              0.7777777777777778,
              "#fb9f3a"
             ],
             [
              0.8888888888888888,
              "#fdca26"
             ],
             [
              1,
              "#f0f921"
             ]
            ],
            "type": "heatmapgl"
           }
          ],
          "histogram": [
           {
            "marker": {
             "pattern": {
              "fillmode": "overlay",
              "size": 10,
              "solidity": 0.2
             }
            },
            "type": "histogram"
           }
          ],
          "histogram2d": [
           {
            "colorbar": {
             "outlinewidth": 0,
             "ticks": ""
            },
            "colorscale": [
             [
              0,
              "#0d0887"
             ],
             [
              0.1111111111111111,
              "#46039f"
             ],
             [
              0.2222222222222222,
              "#7201a8"
             ],
             [
              0.3333333333333333,
              "#9c179e"
             ],
             [
              0.4444444444444444,
              "#bd3786"
             ],
             [
              0.5555555555555556,
              "#d8576b"
             ],
             [
              0.6666666666666666,
              "#ed7953"
             ],
             [
              0.7777777777777778,
              "#fb9f3a"
             ],
             [
              0.8888888888888888,
              "#fdca26"
             ],
             [
              1,
              "#f0f921"
             ]
            ],
            "type": "histogram2d"
           }
          ],
          "histogram2dcontour": [
           {
            "colorbar": {
             "outlinewidth": 0,
             "ticks": ""
            },
            "colorscale": [
             [
              0,
              "#0d0887"
             ],
             [
              0.1111111111111111,
              "#46039f"
             ],
             [
              0.2222222222222222,
              "#7201a8"
             ],
             [
              0.3333333333333333,
              "#9c179e"
             ],
             [
              0.4444444444444444,
              "#bd3786"
             ],
             [
              0.5555555555555556,
              "#d8576b"
             ],
             [
              0.6666666666666666,
              "#ed7953"
             ],
             [
              0.7777777777777778,
              "#fb9f3a"
             ],
             [
              0.8888888888888888,
              "#fdca26"
             ],
             [
              1,
              "#f0f921"
             ]
            ],
            "type": "histogram2dcontour"
           }
          ],
          "mesh3d": [
           {
            "colorbar": {
             "outlinewidth": 0,
             "ticks": ""
            },
            "type": "mesh3d"
           }
          ],
          "parcoords": [
           {
            "line": {
             "colorbar": {
              "outlinewidth": 0,
              "ticks": ""
             }
            },
            "type": "parcoords"
           }
          ],
          "pie": [
           {
            "automargin": true,
            "type": "pie"
           }
          ],
          "scatter": [
           {
            "fillpattern": {
             "fillmode": "overlay",
             "size": 10,
             "solidity": 0.2
            },
            "type": "scatter"
           }
          ],
          "scatter3d": [
           {
            "line": {
             "colorbar": {
              "outlinewidth": 0,
              "ticks": ""
             }
            },
            "marker": {
             "colorbar": {
              "outlinewidth": 0,
              "ticks": ""
             }
            },
            "type": "scatter3d"
           }
          ],
          "scattercarpet": [
           {
            "marker": {
             "colorbar": {
              "outlinewidth": 0,
              "ticks": ""
             }
            },
            "type": "scattercarpet"
           }
          ],
          "scattergeo": [
           {
            "marker": {
             "colorbar": {
              "outlinewidth": 0,
              "ticks": ""
             }
            },
            "type": "scattergeo"
           }
          ],
          "scattergl": [
           {
            "marker": {
             "colorbar": {
              "outlinewidth": 0,
              "ticks": ""
             }
            },
            "type": "scattergl"
           }
          ],
          "scattermapbox": [
           {
            "marker": {
             "colorbar": {
              "outlinewidth": 0,
              "ticks": ""
             }
            },
            "type": "scattermapbox"
           }
          ],
          "scatterpolar": [
           {
            "marker": {
             "colorbar": {
              "outlinewidth": 0,
              "ticks": ""
             }
            },
            "type": "scatterpolar"
           }
          ],
          "scatterpolargl": [
           {
            "marker": {
             "colorbar": {
              "outlinewidth": 0,
              "ticks": ""
             }
            },
            "type": "scatterpolargl"
           }
          ],
          "scatterternary": [
           {
            "marker": {
             "colorbar": {
              "outlinewidth": 0,
              "ticks": ""
             }
            },
            "type": "scatterternary"
           }
          ],
          "surface": [
           {
            "colorbar": {
             "outlinewidth": 0,
             "ticks": ""
            },
            "colorscale": [
             [
              0,
              "#0d0887"
             ],
             [
              0.1111111111111111,
              "#46039f"
             ],
             [
              0.2222222222222222,
              "#7201a8"
             ],
             [
              0.3333333333333333,
              "#9c179e"
             ],
             [
              0.4444444444444444,
              "#bd3786"
             ],
             [
              0.5555555555555556,
              "#d8576b"
             ],
             [
              0.6666666666666666,
              "#ed7953"
             ],
             [
              0.7777777777777778,
              "#fb9f3a"
             ],
             [
              0.8888888888888888,
              "#fdca26"
             ],
             [
              1,
              "#f0f921"
             ]
            ],
            "type": "surface"
           }
          ],
          "table": [
           {
            "cells": {
             "fill": {
              "color": "#EBF0F8"
             },
             "line": {
              "color": "white"
             }
            },
            "header": {
             "fill": {
              "color": "#C8D4E3"
             },
             "line": {
              "color": "white"
             }
            },
            "type": "table"
           }
          ]
         },
         "layout": {
          "annotationdefaults": {
           "arrowcolor": "#2a3f5f",
           "arrowhead": 0,
           "arrowwidth": 1
          },
          "autotypenumbers": "strict",
          "coloraxis": {
           "colorbar": {
            "outlinewidth": 0,
            "ticks": ""
           }
          },
          "colorscale": {
           "diverging": [
            [
             0,
             "#8e0152"
            ],
            [
             0.1,
             "#c51b7d"
            ],
            [
             0.2,
             "#de77ae"
            ],
            [
             0.3,
             "#f1b6da"
            ],
            [
             0.4,
             "#fde0ef"
            ],
            [
             0.5,
             "#f7f7f7"
            ],
            [
             0.6,
             "#e6f5d0"
            ],
            [
             0.7,
             "#b8e186"
            ],
            [
             0.8,
             "#7fbc41"
            ],
            [
             0.9,
             "#4d9221"
            ],
            [
             1,
             "#276419"
            ]
           ],
           "sequential": [
            [
             0,
             "#0d0887"
            ],
            [
             0.1111111111111111,
             "#46039f"
            ],
            [
             0.2222222222222222,
             "#7201a8"
            ],
            [
             0.3333333333333333,
             "#9c179e"
            ],
            [
             0.4444444444444444,
             "#bd3786"
            ],
            [
             0.5555555555555556,
             "#d8576b"
            ],
            [
             0.6666666666666666,
             "#ed7953"
            ],
            [
             0.7777777777777778,
             "#fb9f3a"
            ],
            [
             0.8888888888888888,
             "#fdca26"
            ],
            [
             1,
             "#f0f921"
            ]
           ],
           "sequentialminus": [
            [
             0,
             "#0d0887"
            ],
            [
             0.1111111111111111,
             "#46039f"
            ],
            [
             0.2222222222222222,
             "#7201a8"
            ],
            [
             0.3333333333333333,
             "#9c179e"
            ],
            [
             0.4444444444444444,
             "#bd3786"
            ],
            [
             0.5555555555555556,
             "#d8576b"
            ],
            [
             0.6666666666666666,
             "#ed7953"
            ],
            [
             0.7777777777777778,
             "#fb9f3a"
            ],
            [
             0.8888888888888888,
             "#fdca26"
            ],
            [
             1,
             "#f0f921"
            ]
           ]
          },
          "colorway": [
           "#636efa",
           "#EF553B",
           "#00cc96",
           "#ab63fa",
           "#FFA15A",
           "#19d3f3",
           "#FF6692",
           "#B6E880",
           "#FF97FF",
           "#FECB52"
          ],
          "font": {
           "color": "#2a3f5f"
          },
          "geo": {
           "bgcolor": "white",
           "lakecolor": "white",
           "landcolor": "#E5ECF6",
           "showlakes": true,
           "showland": true,
           "subunitcolor": "white"
          },
          "hoverlabel": {
           "align": "left"
          },
          "hovermode": "closest",
          "mapbox": {
           "style": "light"
          },
          "paper_bgcolor": "white",
          "plot_bgcolor": "#E5ECF6",
          "polar": {
           "angularaxis": {
            "gridcolor": "white",
            "linecolor": "white",
            "ticks": ""
           },
           "bgcolor": "#E5ECF6",
           "radialaxis": {
            "gridcolor": "white",
            "linecolor": "white",
            "ticks": ""
           }
          },
          "scene": {
           "xaxis": {
            "backgroundcolor": "#E5ECF6",
            "gridcolor": "white",
            "gridwidth": 2,
            "linecolor": "white",
            "showbackground": true,
            "ticks": "",
            "zerolinecolor": "white"
           },
           "yaxis": {
            "backgroundcolor": "#E5ECF6",
            "gridcolor": "white",
            "gridwidth": 2,
            "linecolor": "white",
            "showbackground": true,
            "ticks": "",
            "zerolinecolor": "white"
           },
           "zaxis": {
            "backgroundcolor": "#E5ECF6",
            "gridcolor": "white",
            "gridwidth": 2,
            "linecolor": "white",
            "showbackground": true,
            "ticks": "",
            "zerolinecolor": "white"
           }
          },
          "shapedefaults": {
           "line": {
            "color": "#2a3f5f"
           }
          },
          "ternary": {
           "aaxis": {
            "gridcolor": "white",
            "linecolor": "white",
            "ticks": ""
           },
           "baxis": {
            "gridcolor": "white",
            "linecolor": "white",
            "ticks": ""
           },
           "bgcolor": "#E5ECF6",
           "caxis": {
            "gridcolor": "white",
            "linecolor": "white",
            "ticks": ""
           }
          },
          "title": {
           "x": 0.05
          },
          "xaxis": {
           "automargin": true,
           "gridcolor": "white",
           "linecolor": "white",
           "ticks": "",
           "title": {
            "standoff": 15
           },
           "zerolinecolor": "white",
           "zerolinewidth": 2
          },
          "yaxis": {
           "automargin": true,
           "gridcolor": "white",
           "linecolor": "white",
           "ticks": "",
           "title": {
            "standoff": 15
           },
           "zerolinecolor": "white",
           "zerolinewidth": 2
          }
         }
        },
        "title": {
         "text": "Courbes de distribution de l'imbalance (tous les event))"
        },
        "xaxis": {
         "title": {
          "text": "imbalance"
         }
        },
        "yaxis": {
         "title": {
          "text": "Probabilité de l'event"
         }
        }
       }
      }
     },
     "metadata": {},
     "output_type": "display_data"
    }
   ],
   "source": [
    "visu_imbalance_respec(imb_tot, price_tot, 0 , 'trades', 5000)\n",
    "visu_imbalance_respec(imb_tot, price_tot, 1 , 'add', 50000)\n",
    "visu_imbalance_respec(imb_tot, price_tot, 2 , 'cancel', 40000)\n",
    "visu_event_vs_imbalance(imb_tot, price_tot, ['Trades', 'Cancel',' Add'], bound = .95)"
   ]
  },
  {
   "cell_type": "code",
   "execution_count": 9,
   "metadata": {},
   "outputs": [
    {
     "name": "stderr",
     "output_type": "stream",
     "text": [
      "100%|██████████| 65/65 [00:05<00:00, 11.42it/s]\n"
     ]
    }
   ],
   "source": [
    "imb = np.array([])\n",
    "intensity = np.array([])\n",
    "limite = 0\n",
    "for f in tqdm(files_csv):\n",
    "    df = pd.read_csv(f)\n",
    "    df = df[:-100]\n",
    "    imb = np.concatenate([imb, df['imbalance'].to_numpy()])\n",
    "    intensity = np.concatenate([intensity, df['time_diff'].to_numpy()])\n",
    "\n",
    "intensity = 1/np.array(intensity)"
   ]
  },
  {
   "cell_type": "code",
   "execution_count": 10,
   "metadata": {},
   "outputs": [],
   "source": [
    "indices_trie = np.argsort(imb)\n",
    "\n",
    "bounds = 0.95\n",
    "imb_trie = imb[indices_trie]\n",
    "intensity_trie = intensity[indices_trie]\n",
    "mask = (imb_trie >= -bounds)&(imb_trie <= bounds)\n",
    "imb_trie = imb_trie[mask]\n",
    "intensity_trie = intensity_trie[mask]\n",
    "group_size = 300000\n",
    "\n",
    "imb_trie_groups = [imb_trie[i:i + group_size] for i in range(0, len(imb_trie), group_size)]\n",
    "intensity_trie_groups = [intensity_trie[i:i + group_size] for i in range(0, len(intensity_trie), group_size)]\n",
    "\n",
    "imb_trie_means = np.array([np.mean(group) for group in imb_trie_groups])\n",
    "intensity_trie_means = np.array([np.mean(group) for group in intensity_trie_groups])\n",
    "\n",
    "intensity_trie_std = np.array([np.std(group)/np.sqrt(len(group)) for group in intensity_trie_groups])"
   ]
  },
  {
   "cell_type": "code",
   "execution_count": 11,
   "metadata": {},
   "outputs": [
    {
     "data": {
      "application/vnd.plotly.v1+json": {
       "config": {
        "plotlyServerURL": "https://plot.ly"
       },
       "data": [
        {
         "line": {
          "width": 0
         },
         "mode": "lines",
         "name": "Upper Bound",
         "showlegend": false,
         "type": "scatter",
         "x": [
          -0.6836597867320311,
          -0.35493596488930523,
          -0.12902976009526607,
          0.08237457700159877,
          0.30210981009285676,
          0.566145724212294,
          0.8454443929744603
         ],
         "y": [
          59070.15516669526,
          50721.5880173372,
          40397.540275026906,
          39356.69406426652,
          47994.62731486747,
          65929.4953835644,
          73120.84696625394
         ]
        },
        {
         "fill": "tonexty",
         "fillcolor": "blue",
         "line": {
          "width": 0
         },
         "mode": "lines",
         "name": "Intervalle de confiance à 95%",
         "showlegend": true,
         "type": "scatter",
         "x": [
          -0.6836597867320311,
          -0.35493596488930523,
          -0.12902976009526607,
          0.08237457700159877,
          0.30210981009285676,
          0.566145724212294,
          0.8454443929744603
         ],
         "y": [
          58038.84013055201,
          49759.05948160836,
          39552.40918717294,
          38520.71991759606,
          47061.142702341655,
          64831.085505280964,
          71187.10959199764
         ]
        },
        {
         "line": {
          "color": "red"
         },
         "mode": "lines",
         "name": "intensity",
         "showlegend": true,
         "type": "scatter",
         "x": [
          -0.6836597867320311,
          -0.35493596488930523,
          -0.12902976009526607,
          0.08237457700159877,
          0.30210981009285676,
          0.566145724212294,
          0.8454443929744603
         ],
         "y": [
          58554.497648623634,
          50240.32374947278,
          39974.97473109992,
          38938.70699093129,
          47527.885008604564,
          65380.29044442268,
          72153.97827912579
         ]
        }
       ],
       "layout": {
        "showlegend": true,
        "template": {
         "data": {
          "bar": [
           {
            "error_x": {
             "color": "#2a3f5f"
            },
            "error_y": {
             "color": "#2a3f5f"
            },
            "marker": {
             "line": {
              "color": "#E5ECF6",
              "width": 0.5
             },
             "pattern": {
              "fillmode": "overlay",
              "size": 10,
              "solidity": 0.2
             }
            },
            "type": "bar"
           }
          ],
          "barpolar": [
           {
            "marker": {
             "line": {
              "color": "#E5ECF6",
              "width": 0.5
             },
             "pattern": {
              "fillmode": "overlay",
              "size": 10,
              "solidity": 0.2
             }
            },
            "type": "barpolar"
           }
          ],
          "carpet": [
           {
            "aaxis": {
             "endlinecolor": "#2a3f5f",
             "gridcolor": "white",
             "linecolor": "white",
             "minorgridcolor": "white",
             "startlinecolor": "#2a3f5f"
            },
            "baxis": {
             "endlinecolor": "#2a3f5f",
             "gridcolor": "white",
             "linecolor": "white",
             "minorgridcolor": "white",
             "startlinecolor": "#2a3f5f"
            },
            "type": "carpet"
           }
          ],
          "choropleth": [
           {
            "colorbar": {
             "outlinewidth": 0,
             "ticks": ""
            },
            "type": "choropleth"
           }
          ],
          "contour": [
           {
            "colorbar": {
             "outlinewidth": 0,
             "ticks": ""
            },
            "colorscale": [
             [
              0,
              "#0d0887"
             ],
             [
              0.1111111111111111,
              "#46039f"
             ],
             [
              0.2222222222222222,
              "#7201a8"
             ],
             [
              0.3333333333333333,
              "#9c179e"
             ],
             [
              0.4444444444444444,
              "#bd3786"
             ],
             [
              0.5555555555555556,
              "#d8576b"
             ],
             [
              0.6666666666666666,
              "#ed7953"
             ],
             [
              0.7777777777777778,
              "#fb9f3a"
             ],
             [
              0.8888888888888888,
              "#fdca26"
             ],
             [
              1,
              "#f0f921"
             ]
            ],
            "type": "contour"
           }
          ],
          "contourcarpet": [
           {
            "colorbar": {
             "outlinewidth": 0,
             "ticks": ""
            },
            "type": "contourcarpet"
           }
          ],
          "heatmap": [
           {
            "colorbar": {
             "outlinewidth": 0,
             "ticks": ""
            },
            "colorscale": [
             [
              0,
              "#0d0887"
             ],
             [
              0.1111111111111111,
              "#46039f"
             ],
             [
              0.2222222222222222,
              "#7201a8"
             ],
             [
              0.3333333333333333,
              "#9c179e"
             ],
             [
              0.4444444444444444,
              "#bd3786"
             ],
             [
              0.5555555555555556,
              "#d8576b"
             ],
             [
              0.6666666666666666,
              "#ed7953"
             ],
             [
              0.7777777777777778,
              "#fb9f3a"
             ],
             [
              0.8888888888888888,
              "#fdca26"
             ],
             [
              1,
              "#f0f921"
             ]
            ],
            "type": "heatmap"
           }
          ],
          "heatmapgl": [
           {
            "colorbar": {
             "outlinewidth": 0,
             "ticks": ""
            },
            "colorscale": [
             [
              0,
              "#0d0887"
             ],
             [
              0.1111111111111111,
              "#46039f"
             ],
             [
              0.2222222222222222,
              "#7201a8"
             ],
             [
              0.3333333333333333,
              "#9c179e"
             ],
             [
              0.4444444444444444,
              "#bd3786"
             ],
             [
              0.5555555555555556,
              "#d8576b"
             ],
             [
              0.6666666666666666,
              "#ed7953"
             ],
             [
              0.7777777777777778,
              "#fb9f3a"
             ],
             [
              0.8888888888888888,
              "#fdca26"
             ],
             [
              1,
              "#f0f921"
             ]
            ],
            "type": "heatmapgl"
           }
          ],
          "histogram": [
           {
            "marker": {
             "pattern": {
              "fillmode": "overlay",
              "size": 10,
              "solidity": 0.2
             }
            },
            "type": "histogram"
           }
          ],
          "histogram2d": [
           {
            "colorbar": {
             "outlinewidth": 0,
             "ticks": ""
            },
            "colorscale": [
             [
              0,
              "#0d0887"
             ],
             [
              0.1111111111111111,
              "#46039f"
             ],
             [
              0.2222222222222222,
              "#7201a8"
             ],
             [
              0.3333333333333333,
              "#9c179e"
             ],
             [
              0.4444444444444444,
              "#bd3786"
             ],
             [
              0.5555555555555556,
              "#d8576b"
             ],
             [
              0.6666666666666666,
              "#ed7953"
             ],
             [
              0.7777777777777778,
              "#fb9f3a"
             ],
             [
              0.8888888888888888,
              "#fdca26"
             ],
             [
              1,
              "#f0f921"
             ]
            ],
            "type": "histogram2d"
           }
          ],
          "histogram2dcontour": [
           {
            "colorbar": {
             "outlinewidth": 0,
             "ticks": ""
            },
            "colorscale": [
             [
              0,
              "#0d0887"
             ],
             [
              0.1111111111111111,
              "#46039f"
             ],
             [
              0.2222222222222222,
              "#7201a8"
             ],
             [
              0.3333333333333333,
              "#9c179e"
             ],
             [
              0.4444444444444444,
              "#bd3786"
             ],
             [
              0.5555555555555556,
              "#d8576b"
             ],
             [
              0.6666666666666666,
              "#ed7953"
             ],
             [
              0.7777777777777778,
              "#fb9f3a"
             ],
             [
              0.8888888888888888,
              "#fdca26"
             ],
             [
              1,
              "#f0f921"
             ]
            ],
            "type": "histogram2dcontour"
           }
          ],
          "mesh3d": [
           {
            "colorbar": {
             "outlinewidth": 0,
             "ticks": ""
            },
            "type": "mesh3d"
           }
          ],
          "parcoords": [
           {
            "line": {
             "colorbar": {
              "outlinewidth": 0,
              "ticks": ""
             }
            },
            "type": "parcoords"
           }
          ],
          "pie": [
           {
            "automargin": true,
            "type": "pie"
           }
          ],
          "scatter": [
           {
            "fillpattern": {
             "fillmode": "overlay",
             "size": 10,
             "solidity": 0.2
            },
            "type": "scatter"
           }
          ],
          "scatter3d": [
           {
            "line": {
             "colorbar": {
              "outlinewidth": 0,
              "ticks": ""
             }
            },
            "marker": {
             "colorbar": {
              "outlinewidth": 0,
              "ticks": ""
             }
            },
            "type": "scatter3d"
           }
          ],
          "scattercarpet": [
           {
            "marker": {
             "colorbar": {
              "outlinewidth": 0,
              "ticks": ""
             }
            },
            "type": "scattercarpet"
           }
          ],
          "scattergeo": [
           {
            "marker": {
             "colorbar": {
              "outlinewidth": 0,
              "ticks": ""
             }
            },
            "type": "scattergeo"
           }
          ],
          "scattergl": [
           {
            "marker": {
             "colorbar": {
              "outlinewidth": 0,
              "ticks": ""
             }
            },
            "type": "scattergl"
           }
          ],
          "scattermapbox": [
           {
            "marker": {
             "colorbar": {
              "outlinewidth": 0,
              "ticks": ""
             }
            },
            "type": "scattermapbox"
           }
          ],
          "scatterpolar": [
           {
            "marker": {
             "colorbar": {
              "outlinewidth": 0,
              "ticks": ""
             }
            },
            "type": "scatterpolar"
           }
          ],
          "scatterpolargl": [
           {
            "marker": {
             "colorbar": {
              "outlinewidth": 0,
              "ticks": ""
             }
            },
            "type": "scatterpolargl"
           }
          ],
          "scatterternary": [
           {
            "marker": {
             "colorbar": {
              "outlinewidth": 0,
              "ticks": ""
             }
            },
            "type": "scatterternary"
           }
          ],
          "surface": [
           {
            "colorbar": {
             "outlinewidth": 0,
             "ticks": ""
            },
            "colorscale": [
             [
              0,
              "#0d0887"
             ],
             [
              0.1111111111111111,
              "#46039f"
             ],
             [
              0.2222222222222222,
              "#7201a8"
             ],
             [
              0.3333333333333333,
              "#9c179e"
             ],
             [
              0.4444444444444444,
              "#bd3786"
             ],
             [
              0.5555555555555556,
              "#d8576b"
             ],
             [
              0.6666666666666666,
              "#ed7953"
             ],
             [
              0.7777777777777778,
              "#fb9f3a"
             ],
             [
              0.8888888888888888,
              "#fdca26"
             ],
             [
              1,
              "#f0f921"
             ]
            ],
            "type": "surface"
           }
          ],
          "table": [
           {
            "cells": {
             "fill": {
              "color": "#EBF0F8"
             },
             "line": {
              "color": "white"
             }
            },
            "header": {
             "fill": {
              "color": "#C8D4E3"
             },
             "line": {
              "color": "white"
             }
            },
            "type": "table"
           }
          ]
         },
         "layout": {
          "annotationdefaults": {
           "arrowcolor": "#2a3f5f",
           "arrowhead": 0,
           "arrowwidth": 1
          },
          "autotypenumbers": "strict",
          "coloraxis": {
           "colorbar": {
            "outlinewidth": 0,
            "ticks": ""
           }
          },
          "colorscale": {
           "diverging": [
            [
             0,
             "#8e0152"
            ],
            [
             0.1,
             "#c51b7d"
            ],
            [
             0.2,
             "#de77ae"
            ],
            [
             0.3,
             "#f1b6da"
            ],
            [
             0.4,
             "#fde0ef"
            ],
            [
             0.5,
             "#f7f7f7"
            ],
            [
             0.6,
             "#e6f5d0"
            ],
            [
             0.7,
             "#b8e186"
            ],
            [
             0.8,
             "#7fbc41"
            ],
            [
             0.9,
             "#4d9221"
            ],
            [
             1,
             "#276419"
            ]
           ],
           "sequential": [
            [
             0,
             "#0d0887"
            ],
            [
             0.1111111111111111,
             "#46039f"
            ],
            [
             0.2222222222222222,
             "#7201a8"
            ],
            [
             0.3333333333333333,
             "#9c179e"
            ],
            [
             0.4444444444444444,
             "#bd3786"
            ],
            [
             0.5555555555555556,
             "#d8576b"
            ],
            [
             0.6666666666666666,
             "#ed7953"
            ],
            [
             0.7777777777777778,
             "#fb9f3a"
            ],
            [
             0.8888888888888888,
             "#fdca26"
            ],
            [
             1,
             "#f0f921"
            ]
           ],
           "sequentialminus": [
            [
             0,
             "#0d0887"
            ],
            [
             0.1111111111111111,
             "#46039f"
            ],
            [
             0.2222222222222222,
             "#7201a8"
            ],
            [
             0.3333333333333333,
             "#9c179e"
            ],
            [
             0.4444444444444444,
             "#bd3786"
            ],
            [
             0.5555555555555556,
             "#d8576b"
            ],
            [
             0.6666666666666666,
             "#ed7953"
            ],
            [
             0.7777777777777778,
             "#fb9f3a"
            ],
            [
             0.8888888888888888,
             "#fdca26"
            ],
            [
             1,
             "#f0f921"
            ]
           ]
          },
          "colorway": [
           "#636efa",
           "#EF553B",
           "#00cc96",
           "#ab63fa",
           "#FFA15A",
           "#19d3f3",
           "#FF6692",
           "#B6E880",
           "#FF97FF",
           "#FECB52"
          ],
          "font": {
           "color": "#2a3f5f"
          },
          "geo": {
           "bgcolor": "white",
           "lakecolor": "white",
           "landcolor": "#E5ECF6",
           "showlakes": true,
           "showland": true,
           "subunitcolor": "white"
          },
          "hoverlabel": {
           "align": "left"
          },
          "hovermode": "closest",
          "mapbox": {
           "style": "light"
          },
          "paper_bgcolor": "white",
          "plot_bgcolor": "#E5ECF6",
          "polar": {
           "angularaxis": {
            "gridcolor": "white",
            "linecolor": "white",
            "ticks": ""
           },
           "bgcolor": "#E5ECF6",
           "radialaxis": {
            "gridcolor": "white",
            "linecolor": "white",
            "ticks": ""
           }
          },
          "scene": {
           "xaxis": {
            "backgroundcolor": "#E5ECF6",
            "gridcolor": "white",
            "gridwidth": 2,
            "linecolor": "white",
            "showbackground": true,
            "ticks": "",
            "zerolinecolor": "white"
           },
           "yaxis": {
            "backgroundcolor": "#E5ECF6",
            "gridcolor": "white",
            "gridwidth": 2,
            "linecolor": "white",
            "showbackground": true,
            "ticks": "",
            "zerolinecolor": "white"
           },
           "zaxis": {
            "backgroundcolor": "#E5ECF6",
            "gridcolor": "white",
            "gridwidth": 2,
            "linecolor": "white",
            "showbackground": true,
            "ticks": "",
            "zerolinecolor": "white"
           }
          },
          "shapedefaults": {
           "line": {
            "color": "#2a3f5f"
           }
          },
          "ternary": {
           "aaxis": {
            "gridcolor": "white",
            "linecolor": "white",
            "ticks": ""
           },
           "baxis": {
            "gridcolor": "white",
            "linecolor": "white",
            "ticks": ""
           },
           "bgcolor": "#E5ECF6",
           "caxis": {
            "gridcolor": "white",
            "linecolor": "white",
            "ticks": ""
           }
          },
          "title": {
           "x": 0.05
          },
          "xaxis": {
           "automargin": true,
           "gridcolor": "white",
           "linecolor": "white",
           "ticks": "",
           "title": {
            "standoff": 15
           },
           "zerolinecolor": "white",
           "zerolinewidth": 2
          },
          "yaxis": {
           "automargin": true,
           "gridcolor": "white",
           "linecolor": "white",
           "ticks": "",
           "title": {
            "standoff": 15
           },
           "zerolinecolor": "white",
           "zerolinewidth": 2
          }
         }
        },
        "title": {
         "text": "Intensity (tous events confondus)"
        },
        "xaxis": {
         "title": {
          "text": "imbalance"
         }
        },
        "yaxis": {
         "title": {
          "text": "Intensity"
         }
        }
       }
      }
     },
     "metadata": {},
     "output_type": "display_data"
    }
   ],
   "source": [
    "fig = go.Figure()\n",
    "fig.add_trace(go.Scatter(x=imb_trie_means,y=intensity_trie_means + 1.96 * intensity_trie_std,mode='lines',line=dict(width=0),name='Upper Bound',showlegend=False))\n",
    "fig.add_trace(go.Scatter(x=imb_trie_means,y=intensity_trie_means - 1.96 * intensity_trie_std,mode='lines',line=dict(width=0),fill='tonexty',fillcolor='blue',name='Intervalle de confiance à 95%',showlegend=True))\n",
    "fig.add_trace(go.Scatter(x=imb_trie_means,y=intensity_trie_means,mode='lines',name='intensity',line=dict(color='red'),showlegend=True))\n",
    "fig.update_layout(title='Intensity (tous events confondus)',xaxis_title='imbalance',yaxis_title='Intensity',showlegend=True)\n",
    "fig.show()"
   ]
  },
  {
   "cell_type": "code",
   "execution_count": 12,
   "metadata": {},
   "outputs": [
    {
     "name": "stderr",
     "output_type": "stream",
     "text": [
      "100%|██████████| 65/65 [00:06<00:00, 10.55it/s]"
     ]
    },
    {
     "name": "stdout",
     "output_type": "stream",
     "text": [
      "A quel point c'est long: 52463\n"
     ]
    },
    {
     "name": "stderr",
     "output_type": "stream",
     "text": [
      "\n"
     ]
    }
   ],
   "source": [
    "imb_trade = np.array([])\n",
    "intensity_trade = np.array([])\n",
    "imb_add = np.array([])\n",
    "intensity_add = np.array([])\n",
    "imb_cancel = np.array([])\n",
    "intensity_cancel = np.array([])\n",
    "limite = 0\n",
    "for f in tqdm(files_csv):\n",
    "    df = pd.read_csv(f)\n",
    "    df = df[:-100]\n",
    "    df_trade = df[df['action'] == 'T']\n",
    "    df_cancel = df[df['action'] == 'C']\n",
    "    df_add = df[df['action'] == 'A']\n",
    "    imb_trade = np.concatenate([imb_trade, df_trade['imbalance'].to_numpy()])\n",
    "    intensity_trade = np.concatenate([intensity_trade, df_trade['time_diff'].to_numpy()])\n",
    "    imb_add = np.concatenate([imb_add, df_add['imbalance'].to_numpy()])\n",
    "    intensity_add = np.concatenate([intensity_add, df_add['time_diff'].to_numpy()])\n",
    "    imb_cancel = np.concatenate([imb_cancel, df_cancel['imbalance'].to_numpy()])\n",
    "    intensity_cancel = np.concatenate([intensity_cancel, df_cancel['time_diff'].to_numpy()])\n",
    "    \n",
    "imb_tot = [imb_trade,imb_add,imb_cancel]\n",
    "intensity_tot = [1/np.array(intensity_trade),1/np.array(intensity_add),1/np.array(intensity_cancel)]\n",
    "\n",
    "print(f\"A quel point c'est long: {len(imb_trade)}\")"
   ]
  },
  {
   "cell_type": "code",
   "execution_count": 13,
   "metadata": {},
   "outputs": [],
   "source": [
    "def visu_intensity_respec(imb_tot, intensity_tot, i , string, group_size, bound = 0.9):\n",
    "    indices_trie = np.argsort(imb_tot[i])\n",
    "    imb_trie = imb_tot[i][indices_trie]\n",
    "    intensity_trie = intensity_tot[i][indices_trie]\n",
    "    mask = (imb_trie >= -bound) & (imb_trie <= bound)\n",
    "    imb_trie = imb_trie[mask]\n",
    "    intensity_trie = intensity_trie[mask]\n",
    "    imb_trie_groups = [imb_trie[i:i + group_size] for i in range(0, len(imb_trie), group_size)]\n",
    "    intensity_trie_groups = [intensity_trie[i:i + group_size] for i in range(0, len(intensity_trie), group_size)]\n",
    "    imb_trie_means = np.array([np.mean(group) for group in imb_trie_groups])\n",
    "    intensity_trie_means = np.array([np.mean(group) for group in intensity_trie_groups])\n",
    "    intensity_trie_std = np.array([np.std(group)/np.sqrt(len(group)) for group in intensity_trie_groups])\n",
    "    fig = go.Figure()\n",
    "    fig.add_trace(go.Scatter(x=imb_trie_means,y=intensity_trie_means + 1.96 * intensity_trie_std,mode='lines',line=dict(width=0),name='Upper Bound',showlegend=False))\n",
    "    fig.add_trace(go.Scatter(x=imb_trie_means,y=intensity_trie_means - 1.96 * intensity_trie_std,mode='lines',line=dict(width=0),fill='tonexty',fillcolor='blue',name='Intervalle de confiance à 95%',showlegend=True))\n",
    "    fig.add_trace(go.Scatter(x=imb_trie_means,y=intensity_trie_means,mode='lines',name='intensity',line=dict(color='red'),showlegend=True))\n",
    "    fig.update_layout(title=f\"Intensity des {string} en fonction de l'imbalance\",xaxis_title='imbalance',yaxis_title='Intensity',showlegend=True)\n",
    "    fig.show()"
   ]
  },
  {
   "cell_type": "code",
   "execution_count": 14,
   "metadata": {},
   "outputs": [
    {
     "data": {
      "application/vnd.plotly.v1+json": {
       "config": {
        "plotlyServerURL": "https://plot.ly"
       },
       "data": [
        {
         "line": {
          "width": 0
         },
         "mode": "lines",
         "name": "Upper Bound",
         "showlegend": false,
         "type": "scatter",
         "x": [
          -0.772055339775562,
          -0.4836783808742448,
          -0.2200787640480522,
          0.04385619369093109,
          0.3398897862705719,
          0.6576213966727219,
          0.8567445846369105
         ],
         "y": [
          80071.91197498419,
          75082.34200653026,
          59904.98150772234,
          39736.58742500353,
          34666.690327768694,
          52704.518036739806,
          93449.170135305
         ]
        },
        {
         "fill": "tonexty",
         "fillcolor": "blue",
         "line": {
          "width": 0
         },
         "mode": "lines",
         "name": "Intervalle de confiance à 95%",
         "showlegend": true,
         "type": "scatter",
         "x": [
          -0.772055339775562,
          -0.4836783808742448,
          -0.2200787640480522,
          0.04385619369093109,
          0.3398897862705719,
          0.6576213966727219,
          0.8567445846369105
         ],
         "y": [
          68316.66806625258,
          64880.51467992488,
          50325.30055700191,
          32819.92486460399,
          28210.087564905443,
          43698.80936296358,
          74651.46360994151
         ]
        },
        {
         "line": {
          "color": "red"
         },
         "mode": "lines",
         "name": "intensity",
         "showlegend": true,
         "type": "scatter",
         "x": [
          -0.772055339775562,
          -0.4836783808742448,
          -0.2200787640480522,
          0.04385619369093109,
          0.3398897862705719,
          0.6576213966727219,
          0.8567445846369105
         ],
         "y": [
          74194.29002061838,
          69981.42834322757,
          55115.141032362124,
          36278.25614480376,
          31438.38894633707,
          48201.66369985169,
          84050.31687262325
         ]
        }
       ],
       "layout": {
        "showlegend": true,
        "template": {
         "data": {
          "bar": [
           {
            "error_x": {
             "color": "#2a3f5f"
            },
            "error_y": {
             "color": "#2a3f5f"
            },
            "marker": {
             "line": {
              "color": "#E5ECF6",
              "width": 0.5
             },
             "pattern": {
              "fillmode": "overlay",
              "size": 10,
              "solidity": 0.2
             }
            },
            "type": "bar"
           }
          ],
          "barpolar": [
           {
            "marker": {
             "line": {
              "color": "#E5ECF6",
              "width": 0.5
             },
             "pattern": {
              "fillmode": "overlay",
              "size": 10,
              "solidity": 0.2
             }
            },
            "type": "barpolar"
           }
          ],
          "carpet": [
           {
            "aaxis": {
             "endlinecolor": "#2a3f5f",
             "gridcolor": "white",
             "linecolor": "white",
             "minorgridcolor": "white",
             "startlinecolor": "#2a3f5f"
            },
            "baxis": {
             "endlinecolor": "#2a3f5f",
             "gridcolor": "white",
             "linecolor": "white",
             "minorgridcolor": "white",
             "startlinecolor": "#2a3f5f"
            },
            "type": "carpet"
           }
          ],
          "choropleth": [
           {
            "colorbar": {
             "outlinewidth": 0,
             "ticks": ""
            },
            "type": "choropleth"
           }
          ],
          "contour": [
           {
            "colorbar": {
             "outlinewidth": 0,
             "ticks": ""
            },
            "colorscale": [
             [
              0,
              "#0d0887"
             ],
             [
              0.1111111111111111,
              "#46039f"
             ],
             [
              0.2222222222222222,
              "#7201a8"
             ],
             [
              0.3333333333333333,
              "#9c179e"
             ],
             [
              0.4444444444444444,
              "#bd3786"
             ],
             [
              0.5555555555555556,
              "#d8576b"
             ],
             [
              0.6666666666666666,
              "#ed7953"
             ],
             [
              0.7777777777777778,
              "#fb9f3a"
             ],
             [
              0.8888888888888888,
              "#fdca26"
             ],
             [
              1,
              "#f0f921"
             ]
            ],
            "type": "contour"
           }
          ],
          "contourcarpet": [
           {
            "colorbar": {
             "outlinewidth": 0,
             "ticks": ""
            },
            "type": "contourcarpet"
           }
          ],
          "heatmap": [
           {
            "colorbar": {
             "outlinewidth": 0,
             "ticks": ""
            },
            "colorscale": [
             [
              0,
              "#0d0887"
             ],
             [
              0.1111111111111111,
              "#46039f"
             ],
             [
              0.2222222222222222,
              "#7201a8"
             ],
             [
              0.3333333333333333,
              "#9c179e"
             ],
             [
              0.4444444444444444,
              "#bd3786"
             ],
             [
              0.5555555555555556,
              "#d8576b"
             ],
             [
              0.6666666666666666,
              "#ed7953"
             ],
             [
              0.7777777777777778,
              "#fb9f3a"
             ],
             [
              0.8888888888888888,
              "#fdca26"
             ],
             [
              1,
              "#f0f921"
             ]
            ],
            "type": "heatmap"
           }
          ],
          "heatmapgl": [
           {
            "colorbar": {
             "outlinewidth": 0,
             "ticks": ""
            },
            "colorscale": [
             [
              0,
              "#0d0887"
             ],
             [
              0.1111111111111111,
              "#46039f"
             ],
             [
              0.2222222222222222,
              "#7201a8"
             ],
             [
              0.3333333333333333,
              "#9c179e"
             ],
             [
              0.4444444444444444,
              "#bd3786"
             ],
             [
              0.5555555555555556,
              "#d8576b"
             ],
             [
              0.6666666666666666,
              "#ed7953"
             ],
             [
              0.7777777777777778,
              "#fb9f3a"
             ],
             [
              0.8888888888888888,
              "#fdca26"
             ],
             [
              1,
              "#f0f921"
             ]
            ],
            "type": "heatmapgl"
           }
          ],
          "histogram": [
           {
            "marker": {
             "pattern": {
              "fillmode": "overlay",
              "size": 10,
              "solidity": 0.2
             }
            },
            "type": "histogram"
           }
          ],
          "histogram2d": [
           {
            "colorbar": {
             "outlinewidth": 0,
             "ticks": ""
            },
            "colorscale": [
             [
              0,
              "#0d0887"
             ],
             [
              0.1111111111111111,
              "#46039f"
             ],
             [
              0.2222222222222222,
              "#7201a8"
             ],
             [
              0.3333333333333333,
              "#9c179e"
             ],
             [
              0.4444444444444444,
              "#bd3786"
             ],
             [
              0.5555555555555556,
              "#d8576b"
             ],
             [
              0.6666666666666666,
              "#ed7953"
             ],
             [
              0.7777777777777778,
              "#fb9f3a"
             ],
             [
              0.8888888888888888,
              "#fdca26"
             ],
             [
              1,
              "#f0f921"
             ]
            ],
            "type": "histogram2d"
           }
          ],
          "histogram2dcontour": [
           {
            "colorbar": {
             "outlinewidth": 0,
             "ticks": ""
            },
            "colorscale": [
             [
              0,
              "#0d0887"
             ],
             [
              0.1111111111111111,
              "#46039f"
             ],
             [
              0.2222222222222222,
              "#7201a8"
             ],
             [
              0.3333333333333333,
              "#9c179e"
             ],
             [
              0.4444444444444444,
              "#bd3786"
             ],
             [
              0.5555555555555556,
              "#d8576b"
             ],
             [
              0.6666666666666666,
              "#ed7953"
             ],
             [
              0.7777777777777778,
              "#fb9f3a"
             ],
             [
              0.8888888888888888,
              "#fdca26"
             ],
             [
              1,
              "#f0f921"
             ]
            ],
            "type": "histogram2dcontour"
           }
          ],
          "mesh3d": [
           {
            "colorbar": {
             "outlinewidth": 0,
             "ticks": ""
            },
            "type": "mesh3d"
           }
          ],
          "parcoords": [
           {
            "line": {
             "colorbar": {
              "outlinewidth": 0,
              "ticks": ""
             }
            },
            "type": "parcoords"
           }
          ],
          "pie": [
           {
            "automargin": true,
            "type": "pie"
           }
          ],
          "scatter": [
           {
            "fillpattern": {
             "fillmode": "overlay",
             "size": 10,
             "solidity": 0.2
            },
            "type": "scatter"
           }
          ],
          "scatter3d": [
           {
            "line": {
             "colorbar": {
              "outlinewidth": 0,
              "ticks": ""
             }
            },
            "marker": {
             "colorbar": {
              "outlinewidth": 0,
              "ticks": ""
             }
            },
            "type": "scatter3d"
           }
          ],
          "scattercarpet": [
           {
            "marker": {
             "colorbar": {
              "outlinewidth": 0,
              "ticks": ""
             }
            },
            "type": "scattercarpet"
           }
          ],
          "scattergeo": [
           {
            "marker": {
             "colorbar": {
              "outlinewidth": 0,
              "ticks": ""
             }
            },
            "type": "scattergeo"
           }
          ],
          "scattergl": [
           {
            "marker": {
             "colorbar": {
              "outlinewidth": 0,
              "ticks": ""
             }
            },
            "type": "scattergl"
           }
          ],
          "scattermapbox": [
           {
            "marker": {
             "colorbar": {
              "outlinewidth": 0,
              "ticks": ""
             }
            },
            "type": "scattermapbox"
           }
          ],
          "scatterpolar": [
           {
            "marker": {
             "colorbar": {
              "outlinewidth": 0,
              "ticks": ""
             }
            },
            "type": "scatterpolar"
           }
          ],
          "scatterpolargl": [
           {
            "marker": {
             "colorbar": {
              "outlinewidth": 0,
              "ticks": ""
             }
            },
            "type": "scatterpolargl"
           }
          ],
          "scatterternary": [
           {
            "marker": {
             "colorbar": {
              "outlinewidth": 0,
              "ticks": ""
             }
            },
            "type": "scatterternary"
           }
          ],
          "surface": [
           {
            "colorbar": {
             "outlinewidth": 0,
             "ticks": ""
            },
            "colorscale": [
             [
              0,
              "#0d0887"
             ],
             [
              0.1111111111111111,
              "#46039f"
             ],
             [
              0.2222222222222222,
              "#7201a8"
             ],
             [
              0.3333333333333333,
              "#9c179e"
             ],
             [
              0.4444444444444444,
              "#bd3786"
             ],
             [
              0.5555555555555556,
              "#d8576b"
             ],
             [
              0.6666666666666666,
              "#ed7953"
             ],
             [
              0.7777777777777778,
              "#fb9f3a"
             ],
             [
              0.8888888888888888,
              "#fdca26"
             ],
             [
              1,
              "#f0f921"
             ]
            ],
            "type": "surface"
           }
          ],
          "table": [
           {
            "cells": {
             "fill": {
              "color": "#EBF0F8"
             },
             "line": {
              "color": "white"
             }
            },
            "header": {
             "fill": {
              "color": "#C8D4E3"
             },
             "line": {
              "color": "white"
             }
            },
            "type": "table"
           }
          ]
         },
         "layout": {
          "annotationdefaults": {
           "arrowcolor": "#2a3f5f",
           "arrowhead": 0,
           "arrowwidth": 1
          },
          "autotypenumbers": "strict",
          "coloraxis": {
           "colorbar": {
            "outlinewidth": 0,
            "ticks": ""
           }
          },
          "colorscale": {
           "diverging": [
            [
             0,
             "#8e0152"
            ],
            [
             0.1,
             "#c51b7d"
            ],
            [
             0.2,
             "#de77ae"
            ],
            [
             0.3,
             "#f1b6da"
            ],
            [
             0.4,
             "#fde0ef"
            ],
            [
             0.5,
             "#f7f7f7"
            ],
            [
             0.6,
             "#e6f5d0"
            ],
            [
             0.7,
             "#b8e186"
            ],
            [
             0.8,
             "#7fbc41"
            ],
            [
             0.9,
             "#4d9221"
            ],
            [
             1,
             "#276419"
            ]
           ],
           "sequential": [
            [
             0,
             "#0d0887"
            ],
            [
             0.1111111111111111,
             "#46039f"
            ],
            [
             0.2222222222222222,
             "#7201a8"
            ],
            [
             0.3333333333333333,
             "#9c179e"
            ],
            [
             0.4444444444444444,
             "#bd3786"
            ],
            [
             0.5555555555555556,
             "#d8576b"
            ],
            [
             0.6666666666666666,
             "#ed7953"
            ],
            [
             0.7777777777777778,
             "#fb9f3a"
            ],
            [
             0.8888888888888888,
             "#fdca26"
            ],
            [
             1,
             "#f0f921"
            ]
           ],
           "sequentialminus": [
            [
             0,
             "#0d0887"
            ],
            [
             0.1111111111111111,
             "#46039f"
            ],
            [
             0.2222222222222222,
             "#7201a8"
            ],
            [
             0.3333333333333333,
             "#9c179e"
            ],
            [
             0.4444444444444444,
             "#bd3786"
            ],
            [
             0.5555555555555556,
             "#d8576b"
            ],
            [
             0.6666666666666666,
             "#ed7953"
            ],
            [
             0.7777777777777778,
             "#fb9f3a"
            ],
            [
             0.8888888888888888,
             "#fdca26"
            ],
            [
             1,
             "#f0f921"
            ]
           ]
          },
          "colorway": [
           "#636efa",
           "#EF553B",
           "#00cc96",
           "#ab63fa",
           "#FFA15A",
           "#19d3f3",
           "#FF6692",
           "#B6E880",
           "#FF97FF",
           "#FECB52"
          ],
          "font": {
           "color": "#2a3f5f"
          },
          "geo": {
           "bgcolor": "white",
           "lakecolor": "white",
           "landcolor": "#E5ECF6",
           "showlakes": true,
           "showland": true,
           "subunitcolor": "white"
          },
          "hoverlabel": {
           "align": "left"
          },
          "hovermode": "closest",
          "mapbox": {
           "style": "light"
          },
          "paper_bgcolor": "white",
          "plot_bgcolor": "#E5ECF6",
          "polar": {
           "angularaxis": {
            "gridcolor": "white",
            "linecolor": "white",
            "ticks": ""
           },
           "bgcolor": "#E5ECF6",
           "radialaxis": {
            "gridcolor": "white",
            "linecolor": "white",
            "ticks": ""
           }
          },
          "scene": {
           "xaxis": {
            "backgroundcolor": "#E5ECF6",
            "gridcolor": "white",
            "gridwidth": 2,
            "linecolor": "white",
            "showbackground": true,
            "ticks": "",
            "zerolinecolor": "white"
           },
           "yaxis": {
            "backgroundcolor": "#E5ECF6",
            "gridcolor": "white",
            "gridwidth": 2,
            "linecolor": "white",
            "showbackground": true,
            "ticks": "",
            "zerolinecolor": "white"
           },
           "zaxis": {
            "backgroundcolor": "#E5ECF6",
            "gridcolor": "white",
            "gridwidth": 2,
            "linecolor": "white",
            "showbackground": true,
            "ticks": "",
            "zerolinecolor": "white"
           }
          },
          "shapedefaults": {
           "line": {
            "color": "#2a3f5f"
           }
          },
          "ternary": {
           "aaxis": {
            "gridcolor": "white",
            "linecolor": "white",
            "ticks": ""
           },
           "baxis": {
            "gridcolor": "white",
            "linecolor": "white",
            "ticks": ""
           },
           "bgcolor": "#E5ECF6",
           "caxis": {
            "gridcolor": "white",
            "linecolor": "white",
            "ticks": ""
           }
          },
          "title": {
           "x": 0.05
          },
          "xaxis": {
           "automargin": true,
           "gridcolor": "white",
           "linecolor": "white",
           "ticks": "",
           "title": {
            "standoff": 15
           },
           "zerolinecolor": "white",
           "zerolinewidth": 2
          },
          "yaxis": {
           "automargin": true,
           "gridcolor": "white",
           "linecolor": "white",
           "ticks": "",
           "title": {
            "standoff": 15
           },
           "zerolinecolor": "white",
           "zerolinewidth": 2
          }
         }
        },
        "title": {
         "text": "Intensity des trades en fonction de l'imbalance"
        },
        "xaxis": {
         "title": {
          "text": "imbalance"
         }
        },
        "yaxis": {
         "title": {
          "text": "Intensity"
         }
        }
       }
      }
     },
     "metadata": {},
     "output_type": "display_data"
    },
    {
     "data": {
      "application/vnd.plotly.v1+json": {
       "config": {
        "plotlyServerURL": "https://plot.ly"
       },
       "data": [
        {
         "line": {
          "width": 0
         },
         "mode": "lines",
         "name": "Upper Bound",
         "showlegend": false,
         "type": "scatter",
         "x": [
          -0.7132464066987262,
          -0.4739515116825195,
          -0.30940722519808583,
          -0.16949404038452823,
          -0.034825154155115154,
          0.10038249334322634,
          0.23809262564728023,
          0.3840399032784471,
          0.5513355686121137,
          0.7598728508573352
         ],
         "y": [
          76732.24532410501,
          75144.66364212043,
          65305.896470496904,
          55416.70676497718,
          50793.64116507833,
          52933.44228620048,
          58545.37830519652,
          74947.9137608357,
          91695.10963769267,
          93473.70523936026
         ]
        },
        {
         "fill": "tonexty",
         "fillcolor": "blue",
         "line": {
          "width": 0
         },
         "mode": "lines",
         "name": "Intervalle de confiance à 95%",
         "showlegend": true,
         "type": "scatter",
         "x": [
          -0.7132464066987262,
          -0.4739515116825195,
          -0.30940722519808583,
          -0.16949404038452823,
          -0.034825154155115154,
          0.10038249334322634,
          0.23809262564728023,
          0.3840399032784471,
          0.5513355686121137,
          0.7598728508573352
         ],
         "y": [
          74693.03800026815,
          73082.44685146821,
          63376.742955464804,
          53642.67620812339,
          49089.96506896279,
          51205.74329442929,
          56717.01566591794,
          72878.90594566298,
          89440.70031583063,
          90889.41294790861
         ]
        },
        {
         "line": {
          "color": "red"
         },
         "mode": "lines",
         "name": "intensity",
         "showlegend": true,
         "type": "scatter",
         "x": [
          -0.7132464066987262,
          -0.4739515116825195,
          -0.30940722519808583,
          -0.16949404038452823,
          -0.034825154155115154,
          0.10038249334322634,
          0.23809262564728023,
          0.3840399032784471,
          0.5513355686121137,
          0.7598728508573352
         ],
         "y": [
          75712.64166218658,
          74113.55524679432,
          64341.319712980854,
          54529.691486550284,
          49941.80311702056,
          52069.592790314884,
          57631.19698555723,
          73913.40985324934,
          90567.90497676165,
          92181.55909363444
         ]
        }
       ],
       "layout": {
        "showlegend": true,
        "template": {
         "data": {
          "bar": [
           {
            "error_x": {
             "color": "#2a3f5f"
            },
            "error_y": {
             "color": "#2a3f5f"
            },
            "marker": {
             "line": {
              "color": "#E5ECF6",
              "width": 0.5
             },
             "pattern": {
              "fillmode": "overlay",
              "size": 10,
              "solidity": 0.2
             }
            },
            "type": "bar"
           }
          ],
          "barpolar": [
           {
            "marker": {
             "line": {
              "color": "#E5ECF6",
              "width": 0.5
             },
             "pattern": {
              "fillmode": "overlay",
              "size": 10,
              "solidity": 0.2
             }
            },
            "type": "barpolar"
           }
          ],
          "carpet": [
           {
            "aaxis": {
             "endlinecolor": "#2a3f5f",
             "gridcolor": "white",
             "linecolor": "white",
             "minorgridcolor": "white",
             "startlinecolor": "#2a3f5f"
            },
            "baxis": {
             "endlinecolor": "#2a3f5f",
             "gridcolor": "white",
             "linecolor": "white",
             "minorgridcolor": "white",
             "startlinecolor": "#2a3f5f"
            },
            "type": "carpet"
           }
          ],
          "choropleth": [
           {
            "colorbar": {
             "outlinewidth": 0,
             "ticks": ""
            },
            "type": "choropleth"
           }
          ],
          "contour": [
           {
            "colorbar": {
             "outlinewidth": 0,
             "ticks": ""
            },
            "colorscale": [
             [
              0,
              "#0d0887"
             ],
             [
              0.1111111111111111,
              "#46039f"
             ],
             [
              0.2222222222222222,
              "#7201a8"
             ],
             [
              0.3333333333333333,
              "#9c179e"
             ],
             [
              0.4444444444444444,
              "#bd3786"
             ],
             [
              0.5555555555555556,
              "#d8576b"
             ],
             [
              0.6666666666666666,
              "#ed7953"
             ],
             [
              0.7777777777777778,
              "#fb9f3a"
             ],
             [
              0.8888888888888888,
              "#fdca26"
             ],
             [
              1,
              "#f0f921"
             ]
            ],
            "type": "contour"
           }
          ],
          "contourcarpet": [
           {
            "colorbar": {
             "outlinewidth": 0,
             "ticks": ""
            },
            "type": "contourcarpet"
           }
          ],
          "heatmap": [
           {
            "colorbar": {
             "outlinewidth": 0,
             "ticks": ""
            },
            "colorscale": [
             [
              0,
              "#0d0887"
             ],
             [
              0.1111111111111111,
              "#46039f"
             ],
             [
              0.2222222222222222,
              "#7201a8"
             ],
             [
              0.3333333333333333,
              "#9c179e"
             ],
             [
              0.4444444444444444,
              "#bd3786"
             ],
             [
              0.5555555555555556,
              "#d8576b"
             ],
             [
              0.6666666666666666,
              "#ed7953"
             ],
             [
              0.7777777777777778,
              "#fb9f3a"
             ],
             [
              0.8888888888888888,
              "#fdca26"
             ],
             [
              1,
              "#f0f921"
             ]
            ],
            "type": "heatmap"
           }
          ],
          "heatmapgl": [
           {
            "colorbar": {
             "outlinewidth": 0,
             "ticks": ""
            },
            "colorscale": [
             [
              0,
              "#0d0887"
             ],
             [
              0.1111111111111111,
              "#46039f"
             ],
             [
              0.2222222222222222,
              "#7201a8"
             ],
             [
              0.3333333333333333,
              "#9c179e"
             ],
             [
              0.4444444444444444,
              "#bd3786"
             ],
             [
              0.5555555555555556,
              "#d8576b"
             ],
             [
              0.6666666666666666,
              "#ed7953"
             ],
             [
              0.7777777777777778,
              "#fb9f3a"
             ],
             [
              0.8888888888888888,
              "#fdca26"
             ],
             [
              1,
              "#f0f921"
             ]
            ],
            "type": "heatmapgl"
           }
          ],
          "histogram": [
           {
            "marker": {
             "pattern": {
              "fillmode": "overlay",
              "size": 10,
              "solidity": 0.2
             }
            },
            "type": "histogram"
           }
          ],
          "histogram2d": [
           {
            "colorbar": {
             "outlinewidth": 0,
             "ticks": ""
            },
            "colorscale": [
             [
              0,
              "#0d0887"
             ],
             [
              0.1111111111111111,
              "#46039f"
             ],
             [
              0.2222222222222222,
              "#7201a8"
             ],
             [
              0.3333333333333333,
              "#9c179e"
             ],
             [
              0.4444444444444444,
              "#bd3786"
             ],
             [
              0.5555555555555556,
              "#d8576b"
             ],
             [
              0.6666666666666666,
              "#ed7953"
             ],
             [
              0.7777777777777778,
              "#fb9f3a"
             ],
             [
              0.8888888888888888,
              "#fdca26"
             ],
             [
              1,
              "#f0f921"
             ]
            ],
            "type": "histogram2d"
           }
          ],
          "histogram2dcontour": [
           {
            "colorbar": {
             "outlinewidth": 0,
             "ticks": ""
            },
            "colorscale": [
             [
              0,
              "#0d0887"
             ],
             [
              0.1111111111111111,
              "#46039f"
             ],
             [
              0.2222222222222222,
              "#7201a8"
             ],
             [
              0.3333333333333333,
              "#9c179e"
             ],
             [
              0.4444444444444444,
              "#bd3786"
             ],
             [
              0.5555555555555556,
              "#d8576b"
             ],
             [
              0.6666666666666666,
              "#ed7953"
             ],
             [
              0.7777777777777778,
              "#fb9f3a"
             ],
             [
              0.8888888888888888,
              "#fdca26"
             ],
             [
              1,
              "#f0f921"
             ]
            ],
            "type": "histogram2dcontour"
           }
          ],
          "mesh3d": [
           {
            "colorbar": {
             "outlinewidth": 0,
             "ticks": ""
            },
            "type": "mesh3d"
           }
          ],
          "parcoords": [
           {
            "line": {
             "colorbar": {
              "outlinewidth": 0,
              "ticks": ""
             }
            },
            "type": "parcoords"
           }
          ],
          "pie": [
           {
            "automargin": true,
            "type": "pie"
           }
          ],
          "scatter": [
           {
            "fillpattern": {
             "fillmode": "overlay",
             "size": 10,
             "solidity": 0.2
            },
            "type": "scatter"
           }
          ],
          "scatter3d": [
           {
            "line": {
             "colorbar": {
              "outlinewidth": 0,
              "ticks": ""
             }
            },
            "marker": {
             "colorbar": {
              "outlinewidth": 0,
              "ticks": ""
             }
            },
            "type": "scatter3d"
           }
          ],
          "scattercarpet": [
           {
            "marker": {
             "colorbar": {
              "outlinewidth": 0,
              "ticks": ""
             }
            },
            "type": "scattercarpet"
           }
          ],
          "scattergeo": [
           {
            "marker": {
             "colorbar": {
              "outlinewidth": 0,
              "ticks": ""
             }
            },
            "type": "scattergeo"
           }
          ],
          "scattergl": [
           {
            "marker": {
             "colorbar": {
              "outlinewidth": 0,
              "ticks": ""
             }
            },
            "type": "scattergl"
           }
          ],
          "scattermapbox": [
           {
            "marker": {
             "colorbar": {
              "outlinewidth": 0,
              "ticks": ""
             }
            },
            "type": "scattermapbox"
           }
          ],
          "scatterpolar": [
           {
            "marker": {
             "colorbar": {
              "outlinewidth": 0,
              "ticks": ""
             }
            },
            "type": "scatterpolar"
           }
          ],
          "scatterpolargl": [
           {
            "marker": {
             "colorbar": {
              "outlinewidth": 0,
              "ticks": ""
             }
            },
            "type": "scatterpolargl"
           }
          ],
          "scatterternary": [
           {
            "marker": {
             "colorbar": {
              "outlinewidth": 0,
              "ticks": ""
             }
            },
            "type": "scatterternary"
           }
          ],
          "surface": [
           {
            "colorbar": {
             "outlinewidth": 0,
             "ticks": ""
            },
            "colorscale": [
             [
              0,
              "#0d0887"
             ],
             [
              0.1111111111111111,
              "#46039f"
             ],
             [
              0.2222222222222222,
              "#7201a8"
             ],
             [
              0.3333333333333333,
              "#9c179e"
             ],
             [
              0.4444444444444444,
              "#bd3786"
             ],
             [
              0.5555555555555556,
              "#d8576b"
             ],
             [
              0.6666666666666666,
              "#ed7953"
             ],
             [
              0.7777777777777778,
              "#fb9f3a"
             ],
             [
              0.8888888888888888,
              "#fdca26"
             ],
             [
              1,
              "#f0f921"
             ]
            ],
            "type": "surface"
           }
          ],
          "table": [
           {
            "cells": {
             "fill": {
              "color": "#EBF0F8"
             },
             "line": {
              "color": "white"
             }
            },
            "header": {
             "fill": {
              "color": "#C8D4E3"
             },
             "line": {
              "color": "white"
             }
            },
            "type": "table"
           }
          ]
         },
         "layout": {
          "annotationdefaults": {
           "arrowcolor": "#2a3f5f",
           "arrowhead": 0,
           "arrowwidth": 1
          },
          "autotypenumbers": "strict",
          "coloraxis": {
           "colorbar": {
            "outlinewidth": 0,
            "ticks": ""
           }
          },
          "colorscale": {
           "diverging": [
            [
             0,
             "#8e0152"
            ],
            [
             0.1,
             "#c51b7d"
            ],
            [
             0.2,
             "#de77ae"
            ],
            [
             0.3,
             "#f1b6da"
            ],
            [
             0.4,
             "#fde0ef"
            ],
            [
             0.5,
             "#f7f7f7"
            ],
            [
             0.6,
             "#e6f5d0"
            ],
            [
             0.7,
             "#b8e186"
            ],
            [
             0.8,
             "#7fbc41"
            ],
            [
             0.9,
             "#4d9221"
            ],
            [
             1,
             "#276419"
            ]
           ],
           "sequential": [
            [
             0,
             "#0d0887"
            ],
            [
             0.1111111111111111,
             "#46039f"
            ],
            [
             0.2222222222222222,
             "#7201a8"
            ],
            [
             0.3333333333333333,
             "#9c179e"
            ],
            [
             0.4444444444444444,
             "#bd3786"
            ],
            [
             0.5555555555555556,
             "#d8576b"
            ],
            [
             0.6666666666666666,
             "#ed7953"
            ],
            [
             0.7777777777777778,
             "#fb9f3a"
            ],
            [
             0.8888888888888888,
             "#fdca26"
            ],
            [
             1,
             "#f0f921"
            ]
           ],
           "sequentialminus": [
            [
             0,
             "#0d0887"
            ],
            [
             0.1111111111111111,
             "#46039f"
            ],
            [
             0.2222222222222222,
             "#7201a8"
            ],
            [
             0.3333333333333333,
             "#9c179e"
            ],
            [
             0.4444444444444444,
             "#bd3786"
            ],
            [
             0.5555555555555556,
             "#d8576b"
            ],
            [
             0.6666666666666666,
             "#ed7953"
            ],
            [
             0.7777777777777778,
             "#fb9f3a"
            ],
            [
             0.8888888888888888,
             "#fdca26"
            ],
            [
             1,
             "#f0f921"
            ]
           ]
          },
          "colorway": [
           "#636efa",
           "#EF553B",
           "#00cc96",
           "#ab63fa",
           "#FFA15A",
           "#19d3f3",
           "#FF6692",
           "#B6E880",
           "#FF97FF",
           "#FECB52"
          ],
          "font": {
           "color": "#2a3f5f"
          },
          "geo": {
           "bgcolor": "white",
           "lakecolor": "white",
           "landcolor": "#E5ECF6",
           "showlakes": true,
           "showland": true,
           "subunitcolor": "white"
          },
          "hoverlabel": {
           "align": "left"
          },
          "hovermode": "closest",
          "mapbox": {
           "style": "light"
          },
          "paper_bgcolor": "white",
          "plot_bgcolor": "#E5ECF6",
          "polar": {
           "angularaxis": {
            "gridcolor": "white",
            "linecolor": "white",
            "ticks": ""
           },
           "bgcolor": "#E5ECF6",
           "radialaxis": {
            "gridcolor": "white",
            "linecolor": "white",
            "ticks": ""
           }
          },
          "scene": {
           "xaxis": {
            "backgroundcolor": "#E5ECF6",
            "gridcolor": "white",
            "gridwidth": 2,
            "linecolor": "white",
            "showbackground": true,
            "ticks": "",
            "zerolinecolor": "white"
           },
           "yaxis": {
            "backgroundcolor": "#E5ECF6",
            "gridcolor": "white",
            "gridwidth": 2,
            "linecolor": "white",
            "showbackground": true,
            "ticks": "",
            "zerolinecolor": "white"
           },
           "zaxis": {
            "backgroundcolor": "#E5ECF6",
            "gridcolor": "white",
            "gridwidth": 2,
            "linecolor": "white",
            "showbackground": true,
            "ticks": "",
            "zerolinecolor": "white"
           }
          },
          "shapedefaults": {
           "line": {
            "color": "#2a3f5f"
           }
          },
          "ternary": {
           "aaxis": {
            "gridcolor": "white",
            "linecolor": "white",
            "ticks": ""
           },
           "baxis": {
            "gridcolor": "white",
            "linecolor": "white",
            "ticks": ""
           },
           "bgcolor": "#E5ECF6",
           "caxis": {
            "gridcolor": "white",
            "linecolor": "white",
            "ticks": ""
           }
          },
          "title": {
           "x": 0.05
          },
          "xaxis": {
           "automargin": true,
           "gridcolor": "white",
           "linecolor": "white",
           "ticks": "",
           "title": {
            "standoff": 15
           },
           "zerolinecolor": "white",
           "zerolinewidth": 2
          },
          "yaxis": {
           "automargin": true,
           "gridcolor": "white",
           "linecolor": "white",
           "ticks": "",
           "title": {
            "standoff": 15
           },
           "zerolinecolor": "white",
           "zerolinewidth": 2
          }
         }
        },
        "title": {
         "text": "Intensity des add en fonction de l'imbalance"
        },
        "xaxis": {
         "title": {
          "text": "imbalance"
         }
        },
        "yaxis": {
         "title": {
          "text": "Intensity"
         }
        }
       }
      }
     },
     "metadata": {},
     "output_type": "display_data"
    },
    {
     "data": {
      "application/vnd.plotly.v1+json": {
       "config": {
        "plotlyServerURL": "https://plot.ly"
       },
       "data": [
        {
         "line": {
          "width": 0
         },
         "mode": "lines",
         "name": "Upper Bound",
         "showlegend": false,
         "type": "scatter",
         "x": [
          -0.7199687951291452,
          -0.4712457111282102,
          -0.29883637784026157,
          -0.15447005820148715,
          -0.01781882732600671,
          0.11937561934501296,
          0.26066010554230745,
          0.4166916707714744,
          0.6120072102818503,
          0.8177025257210682
         ],
         "y": [
          35515.622648986166,
          33376.22785906524,
          28713.019831850277,
          25759.815555402707,
          24917.708580968952,
          25481.51514632311,
          27644.824847378284,
          32775.25360454327,
          38500.48622607543,
          42107.28557541591
         ]
        },
        {
         "fill": "tonexty",
         "fillcolor": "blue",
         "line": {
          "width": 0
         },
         "mode": "lines",
         "name": "Intervalle de confiance à 95%",
         "showlegend": true,
         "type": "scatter",
         "x": [
          -0.7199687951291452,
          -0.4712457111282102,
          -0.29883637784026157,
          -0.15447005820148715,
          -0.01781882732600671,
          0.11937561934501296,
          0.26066010554230745,
          0.4166916707714744,
          0.6120072102818503,
          0.8177025257210682
         ],
         "y": [
          34201.01093072765,
          32123.267788026355,
          27553.984679104386,
          24699.283090555666,
          23872.373511406266,
          24402.838595074645,
          26532.771650747683,
          31514.507444368104,
          37130.53305031663,
          39894.723927789455
         ]
        },
        {
         "line": {
          "color": "red"
         },
         "mode": "lines",
         "name": "intensity",
         "showlegend": true,
         "type": "scatter",
         "x": [
          -0.7199687951291452,
          -0.4712457111282102,
          -0.29883637784026157,
          -0.15447005820148715,
          -0.01781882732600671,
          0.11937561934501296,
          0.26066010554230745,
          0.4166916707714744,
          0.6120072102818503,
          0.8177025257210682
         ],
         "y": [
          34858.31678985691,
          32749.7478235458,
          28133.50225547733,
          25229.549322979186,
          24395.04104618761,
          24942.176870698877,
          27088.798249062984,
          32144.88052445569,
          37815.50963819603,
          41001.00475160268
         ]
        }
       ],
       "layout": {
        "showlegend": true,
        "template": {
         "data": {
          "bar": [
           {
            "error_x": {
             "color": "#2a3f5f"
            },
            "error_y": {
             "color": "#2a3f5f"
            },
            "marker": {
             "line": {
              "color": "#E5ECF6",
              "width": 0.5
             },
             "pattern": {
              "fillmode": "overlay",
              "size": 10,
              "solidity": 0.2
             }
            },
            "type": "bar"
           }
          ],
          "barpolar": [
           {
            "marker": {
             "line": {
              "color": "#E5ECF6",
              "width": 0.5
             },
             "pattern": {
              "fillmode": "overlay",
              "size": 10,
              "solidity": 0.2
             }
            },
            "type": "barpolar"
           }
          ],
          "carpet": [
           {
            "aaxis": {
             "endlinecolor": "#2a3f5f",
             "gridcolor": "white",
             "linecolor": "white",
             "minorgridcolor": "white",
             "startlinecolor": "#2a3f5f"
            },
            "baxis": {
             "endlinecolor": "#2a3f5f",
             "gridcolor": "white",
             "linecolor": "white",
             "minorgridcolor": "white",
             "startlinecolor": "#2a3f5f"
            },
            "type": "carpet"
           }
          ],
          "choropleth": [
           {
            "colorbar": {
             "outlinewidth": 0,
             "ticks": ""
            },
            "type": "choropleth"
           }
          ],
          "contour": [
           {
            "colorbar": {
             "outlinewidth": 0,
             "ticks": ""
            },
            "colorscale": [
             [
              0,
              "#0d0887"
             ],
             [
              0.1111111111111111,
              "#46039f"
             ],
             [
              0.2222222222222222,
              "#7201a8"
             ],
             [
              0.3333333333333333,
              "#9c179e"
             ],
             [
              0.4444444444444444,
              "#bd3786"
             ],
             [
              0.5555555555555556,
              "#d8576b"
             ],
             [
              0.6666666666666666,
              "#ed7953"
             ],
             [
              0.7777777777777778,
              "#fb9f3a"
             ],
             [
              0.8888888888888888,
              "#fdca26"
             ],
             [
              1,
              "#f0f921"
             ]
            ],
            "type": "contour"
           }
          ],
          "contourcarpet": [
           {
            "colorbar": {
             "outlinewidth": 0,
             "ticks": ""
            },
            "type": "contourcarpet"
           }
          ],
          "heatmap": [
           {
            "colorbar": {
             "outlinewidth": 0,
             "ticks": ""
            },
            "colorscale": [
             [
              0,
              "#0d0887"
             ],
             [
              0.1111111111111111,
              "#46039f"
             ],
             [
              0.2222222222222222,
              "#7201a8"
             ],
             [
              0.3333333333333333,
              "#9c179e"
             ],
             [
              0.4444444444444444,
              "#bd3786"
             ],
             [
              0.5555555555555556,
              "#d8576b"
             ],
             [
              0.6666666666666666,
              "#ed7953"
             ],
             [
              0.7777777777777778,
              "#fb9f3a"
             ],
             [
              0.8888888888888888,
              "#fdca26"
             ],
             [
              1,
              "#f0f921"
             ]
            ],
            "type": "heatmap"
           }
          ],
          "heatmapgl": [
           {
            "colorbar": {
             "outlinewidth": 0,
             "ticks": ""
            },
            "colorscale": [
             [
              0,
              "#0d0887"
             ],
             [
              0.1111111111111111,
              "#46039f"
             ],
             [
              0.2222222222222222,
              "#7201a8"
             ],
             [
              0.3333333333333333,
              "#9c179e"
             ],
             [
              0.4444444444444444,
              "#bd3786"
             ],
             [
              0.5555555555555556,
              "#d8576b"
             ],
             [
              0.6666666666666666,
              "#ed7953"
             ],
             [
              0.7777777777777778,
              "#fb9f3a"
             ],
             [
              0.8888888888888888,
              "#fdca26"
             ],
             [
              1,
              "#f0f921"
             ]
            ],
            "type": "heatmapgl"
           }
          ],
          "histogram": [
           {
            "marker": {
             "pattern": {
              "fillmode": "overlay",
              "size": 10,
              "solidity": 0.2
             }
            },
            "type": "histogram"
           }
          ],
          "histogram2d": [
           {
            "colorbar": {
             "outlinewidth": 0,
             "ticks": ""
            },
            "colorscale": [
             [
              0,
              "#0d0887"
             ],
             [
              0.1111111111111111,
              "#46039f"
             ],
             [
              0.2222222222222222,
              "#7201a8"
             ],
             [
              0.3333333333333333,
              "#9c179e"
             ],
             [
              0.4444444444444444,
              "#bd3786"
             ],
             [
              0.5555555555555556,
              "#d8576b"
             ],
             [
              0.6666666666666666,
              "#ed7953"
             ],
             [
              0.7777777777777778,
              "#fb9f3a"
             ],
             [
              0.8888888888888888,
              "#fdca26"
             ],
             [
              1,
              "#f0f921"
             ]
            ],
            "type": "histogram2d"
           }
          ],
          "histogram2dcontour": [
           {
            "colorbar": {
             "outlinewidth": 0,
             "ticks": ""
            },
            "colorscale": [
             [
              0,
              "#0d0887"
             ],
             [
              0.1111111111111111,
              "#46039f"
             ],
             [
              0.2222222222222222,
              "#7201a8"
             ],
             [
              0.3333333333333333,
              "#9c179e"
             ],
             [
              0.4444444444444444,
              "#bd3786"
             ],
             [
              0.5555555555555556,
              "#d8576b"
             ],
             [
              0.6666666666666666,
              "#ed7953"
             ],
             [
              0.7777777777777778,
              "#fb9f3a"
             ],
             [
              0.8888888888888888,
              "#fdca26"
             ],
             [
              1,
              "#f0f921"
             ]
            ],
            "type": "histogram2dcontour"
           }
          ],
          "mesh3d": [
           {
            "colorbar": {
             "outlinewidth": 0,
             "ticks": ""
            },
            "type": "mesh3d"
           }
          ],
          "parcoords": [
           {
            "line": {
             "colorbar": {
              "outlinewidth": 0,
              "ticks": ""
             }
            },
            "type": "parcoords"
           }
          ],
          "pie": [
           {
            "automargin": true,
            "type": "pie"
           }
          ],
          "scatter": [
           {
            "fillpattern": {
             "fillmode": "overlay",
             "size": 10,
             "solidity": 0.2
            },
            "type": "scatter"
           }
          ],
          "scatter3d": [
           {
            "line": {
             "colorbar": {
              "outlinewidth": 0,
              "ticks": ""
             }
            },
            "marker": {
             "colorbar": {
              "outlinewidth": 0,
              "ticks": ""
             }
            },
            "type": "scatter3d"
           }
          ],
          "scattercarpet": [
           {
            "marker": {
             "colorbar": {
              "outlinewidth": 0,
              "ticks": ""
             }
            },
            "type": "scattercarpet"
           }
          ],
          "scattergeo": [
           {
            "marker": {
             "colorbar": {
              "outlinewidth": 0,
              "ticks": ""
             }
            },
            "type": "scattergeo"
           }
          ],
          "scattergl": [
           {
            "marker": {
             "colorbar": {
              "outlinewidth": 0,
              "ticks": ""
             }
            },
            "type": "scattergl"
           }
          ],
          "scattermapbox": [
           {
            "marker": {
             "colorbar": {
              "outlinewidth": 0,
              "ticks": ""
             }
            },
            "type": "scattermapbox"
           }
          ],
          "scatterpolar": [
           {
            "marker": {
             "colorbar": {
              "outlinewidth": 0,
              "ticks": ""
             }
            },
            "type": "scatterpolar"
           }
          ],
          "scatterpolargl": [
           {
            "marker": {
             "colorbar": {
              "outlinewidth": 0,
              "ticks": ""
             }
            },
            "type": "scatterpolargl"
           }
          ],
          "scatterternary": [
           {
            "marker": {
             "colorbar": {
              "outlinewidth": 0,
              "ticks": ""
             }
            },
            "type": "scatterternary"
           }
          ],
          "surface": [
           {
            "colorbar": {
             "outlinewidth": 0,
             "ticks": ""
            },
            "colorscale": [
             [
              0,
              "#0d0887"
             ],
             [
              0.1111111111111111,
              "#46039f"
             ],
             [
              0.2222222222222222,
              "#7201a8"
             ],
             [
              0.3333333333333333,
              "#9c179e"
             ],
             [
              0.4444444444444444,
              "#bd3786"
             ],
             [
              0.5555555555555556,
              "#d8576b"
             ],
             [
              0.6666666666666666,
              "#ed7953"
             ],
             [
              0.7777777777777778,
              "#fb9f3a"
             ],
             [
              0.8888888888888888,
              "#fdca26"
             ],
             [
              1,
              "#f0f921"
             ]
            ],
            "type": "surface"
           }
          ],
          "table": [
           {
            "cells": {
             "fill": {
              "color": "#EBF0F8"
             },
             "line": {
              "color": "white"
             }
            },
            "header": {
             "fill": {
              "color": "#C8D4E3"
             },
             "line": {
              "color": "white"
             }
            },
            "type": "table"
           }
          ]
         },
         "layout": {
          "annotationdefaults": {
           "arrowcolor": "#2a3f5f",
           "arrowhead": 0,
           "arrowwidth": 1
          },
          "autotypenumbers": "strict",
          "coloraxis": {
           "colorbar": {
            "outlinewidth": 0,
            "ticks": ""
           }
          },
          "colorscale": {
           "diverging": [
            [
             0,
             "#8e0152"
            ],
            [
             0.1,
             "#c51b7d"
            ],
            [
             0.2,
             "#de77ae"
            ],
            [
             0.3,
             "#f1b6da"
            ],
            [
             0.4,
             "#fde0ef"
            ],
            [
             0.5,
             "#f7f7f7"
            ],
            [
             0.6,
             "#e6f5d0"
            ],
            [
             0.7,
             "#b8e186"
            ],
            [
             0.8,
             "#7fbc41"
            ],
            [
             0.9,
             "#4d9221"
            ],
            [
             1,
             "#276419"
            ]
           ],
           "sequential": [
            [
             0,
             "#0d0887"
            ],
            [
             0.1111111111111111,
             "#46039f"
            ],
            [
             0.2222222222222222,
             "#7201a8"
            ],
            [
             0.3333333333333333,
             "#9c179e"
            ],
            [
             0.4444444444444444,
             "#bd3786"
            ],
            [
             0.5555555555555556,
             "#d8576b"
            ],
            [
             0.6666666666666666,
             "#ed7953"
            ],
            [
             0.7777777777777778,
             "#fb9f3a"
            ],
            [
             0.8888888888888888,
             "#fdca26"
            ],
            [
             1,
             "#f0f921"
            ]
           ],
           "sequentialminus": [
            [
             0,
             "#0d0887"
            ],
            [
             0.1111111111111111,
             "#46039f"
            ],
            [
             0.2222222222222222,
             "#7201a8"
            ],
            [
             0.3333333333333333,
             "#9c179e"
            ],
            [
             0.4444444444444444,
             "#bd3786"
            ],
            [
             0.5555555555555556,
             "#d8576b"
            ],
            [
             0.6666666666666666,
             "#ed7953"
            ],
            [
             0.7777777777777778,
             "#fb9f3a"
            ],
            [
             0.8888888888888888,
             "#fdca26"
            ],
            [
             1,
             "#f0f921"
            ]
           ]
          },
          "colorway": [
           "#636efa",
           "#EF553B",
           "#00cc96",
           "#ab63fa",
           "#FFA15A",
           "#19d3f3",
           "#FF6692",
           "#B6E880",
           "#FF97FF",
           "#FECB52"
          ],
          "font": {
           "color": "#2a3f5f"
          },
          "geo": {
           "bgcolor": "white",
           "lakecolor": "white",
           "landcolor": "#E5ECF6",
           "showlakes": true,
           "showland": true,
           "subunitcolor": "white"
          },
          "hoverlabel": {
           "align": "left"
          },
          "hovermode": "closest",
          "mapbox": {
           "style": "light"
          },
          "paper_bgcolor": "white",
          "plot_bgcolor": "#E5ECF6",
          "polar": {
           "angularaxis": {
            "gridcolor": "white",
            "linecolor": "white",
            "ticks": ""
           },
           "bgcolor": "#E5ECF6",
           "radialaxis": {
            "gridcolor": "white",
            "linecolor": "white",
            "ticks": ""
           }
          },
          "scene": {
           "xaxis": {
            "backgroundcolor": "#E5ECF6",
            "gridcolor": "white",
            "gridwidth": 2,
            "linecolor": "white",
            "showbackground": true,
            "ticks": "",
            "zerolinecolor": "white"
           },
           "yaxis": {
            "backgroundcolor": "#E5ECF6",
            "gridcolor": "white",
            "gridwidth": 2,
            "linecolor": "white",
            "showbackground": true,
            "ticks": "",
            "zerolinecolor": "white"
           },
           "zaxis": {
            "backgroundcolor": "#E5ECF6",
            "gridcolor": "white",
            "gridwidth": 2,
            "linecolor": "white",
            "showbackground": true,
            "ticks": "",
            "zerolinecolor": "white"
           }
          },
          "shapedefaults": {
           "line": {
            "color": "#2a3f5f"
           }
          },
          "ternary": {
           "aaxis": {
            "gridcolor": "white",
            "linecolor": "white",
            "ticks": ""
           },
           "baxis": {
            "gridcolor": "white",
            "linecolor": "white",
            "ticks": ""
           },
           "bgcolor": "#E5ECF6",
           "caxis": {
            "gridcolor": "white",
            "linecolor": "white",
            "ticks": ""
           }
          },
          "title": {
           "x": 0.05
          },
          "xaxis": {
           "automargin": true,
           "gridcolor": "white",
           "linecolor": "white",
           "ticks": "",
           "title": {
            "standoff": 15
           },
           "zerolinecolor": "white",
           "zerolinewidth": 2
          },
          "yaxis": {
           "automargin": true,
           "gridcolor": "white",
           "linecolor": "white",
           "ticks": "",
           "title": {
            "standoff": 15
           },
           "zerolinecolor": "white",
           "zerolinewidth": 2
          }
         }
        },
        "title": {
         "text": "Intensity des cancel en fonction de l'imbalance"
        },
        "xaxis": {
         "title": {
          "text": "imbalance"
         }
        },
        "yaxis": {
         "title": {
          "text": "Intensity"
         }
        }
       }
      }
     },
     "metadata": {},
     "output_type": "display_data"
    }
   ],
   "source": [
    "visu_intensity_respec(imb_tot, intensity_tot, 0 , 'trades', 5000)\n",
    "visu_intensity_respec(imb_tot, intensity_tot, 1 , 'add', 100000)\n",
    "visu_intensity_respec(imb_tot, intensity_tot, 2 , 'cancel', 90000)"
   ]
  },
  {
   "cell_type": "markdown",
   "metadata": {},
   "source": [
    "# Calcul Intensités par average event size"
   ]
  },
  {
   "cell_type": "code",
   "execution_count": 15,
   "metadata": {},
   "outputs": [],
   "source": [
    "def dico_queue_size(sizes, dic):\n",
    "    for i in range (len(sizes)):\n",
    "        if sizes[i] not in dic:\n",
    "            dic[sizes[i]] = [[], [], []]\n",
    "    return dic\n",
    "\n",
    "def compute_means(dico):\n",
    "    sums = 0\n",
    "    means = 0\n",
    "    keys = np.array(list(dico.keys()))\n",
    "    for i in range (len(keys)):\n",
    "        means = means+keys[i]*len(dico[keys[i]][0])+keys[i]*len(dico[keys[i]][1])+keys[i]*len(dico[keys[i]][2])\n",
    "        sums = sums+len(dico[keys[i]][0])+len(dico[keys[i]][1])+len(dico[keys[i]][2])\n",
    "    return means/sums\n",
    "\n",
    "def filtrage(dico, nombre_bins, threshold=100):\n",
    "    dico_p = dict(reversed(list(dico.items())))\n",
    "    keys = list(dico_p.keys())\n",
    "    i = 0\n",
    "    while len(dico_p[keys[i]][0])<threshold:\n",
    "        i += 1\n",
    "    values = np.linspace(0, keys[i], nombre_bins, endpoint=True)\n",
    "    keys = np.array(list(dico.keys()))\n",
    "    \n",
    "    real_dic = {}\n",
    "    for i in range (len(keys)):\n",
    "        real_k_index = np.argmin(np.abs(values-keys[i]))\n",
    "        real_k = values[real_k_index]\n",
    "        \n",
    "        if real_k not in real_dic:\n",
    "            real_dic[real_k] = [\n",
    "                np.array(dico[keys[i]][0]),\n",
    "                np.array(dico[keys[i]][1]),\n",
    "                np.array(dico[keys[i]][2])\n",
    "            ]\n",
    "        else:\n",
    "            real_dic[real_k] = [\n",
    "                np.concatenate([real_dic[real_k][0], dico[keys[i]][0]]),\n",
    "                np.concatenate([real_dic[real_k][1], dico[keys[i]][1]]),\n",
    "                np.concatenate([real_dic[real_k][2], dico[keys[i]][2]])\n",
    "            ]\n",
    "    return real_dic\n",
    "\n",
    "def remove_nan_from_dico(dico):\n",
    "    cleaned_dico = {}\n",
    "    for key, value_lists in dico.items():\n",
    "        cleaned_value_lists = []\n",
    "        for value_list in value_lists:\n",
    "            value_array = np.array(value_list)\n",
    "            cleaned_array = value_array[~np.isnan(value_array)]\n",
    "            cleaned_value_lists.append(cleaned_array.tolist())\n",
    "        cleaned_dico[key] = cleaned_value_lists\n",
    "    return cleaned_dico"
   ]
  },
  {
   "cell_type": "code",
   "execution_count": 16,
   "metadata": {},
   "outputs": [
    {
     "name": "stderr",
     "output_type": "stream",
     "text": [
      "100%|██████████| 65/65 [00:11<00:00,  5.73it/s]\n"
     ]
    }
   ],
   "source": [
    "dic = {}\n",
    "\n",
    "average_event_size = []\n",
    "for f in tqdm(files_csv):\n",
    "    df = pd.read_csv(f)\n",
    "    df['time_diff'] = df['time_diff']*1.0 # pour le modif en float c'est un timedelta là\n",
    "    sizes = np.unique(np.array((np.unique(df['bid_sz_00'].to_numpy())).tolist() + (np.unique(df['ask_sz_00'].to_numpy())).tolist()))\n",
    "    sizes.sort()\n",
    "    dic = dico_queue_size(sizes, dic)  # Add, Cancel, Trade\n",
    "    \n",
    "    for row in df.itertuples():\n",
    "        average_event_size.append(row.size)\n",
    "        if row.side == 'A':\n",
    "            taille = row.ask_sz_00\n",
    "        elif row.side == 'B':\n",
    "            taille = row.bid_sz_00\n",
    "        if row.action == 'A':\n",
    "            dic[taille][0].append(row.time_diff)\n",
    "        elif row.action == 'C':\n",
    "            dic[taille][1].append(row.time_diff)\n",
    "        elif row.action == 'T':\n",
    "            dic[taille][2].append(row.time_diff)"
   ]
  },
  {
   "cell_type": "code",
   "execution_count": 17,
   "metadata": {},
   "outputs": [
    {
     "data": {
      "application/vnd.plotly.v1+json": {
       "config": {
        "plotlyServerURL": "https://plot.ly"
       },
       "data": [
        {
         "line": {
          "color": "blue"
         },
         "mode": "lines",
         "name": "Add",
         "showlegend": true,
         "type": "scatter",
         "x": [
          0,
          2.9442554170639075,
          5.888510834127815,
          8.832766251191723,
          11.77702166825563,
          14.721277085319537,
          17.665532502383446,
          20.609787919447353,
          23.55404333651126,
          26.498298753575167,
          29.442554170639074,
          32.386809587702984,
          35.33106500476689,
          38.2753204218308,
          41.219575838894706,
          44.16383125595861,
          47.10808667302252,
          50.05234209008643,
          52.996597507150334,
          55.94085292421424,
          58.88510834127815,
          61.82936375834206,
          64.77361917540597,
          67.71787459246987,
          70.66213000953378,
          73.60638542659768,
          76.5506408436616,
          79.4948962607255,
          82.43915167778941,
          85.38340709485331
         ],
         "y": [
          0.8688637430938175,
          0.6847649795969544,
          0.6999307289130128,
          0.7647106955392794,
          0.8186675893999225,
          0.9605962551027459,
          1.1128861605341458,
          1.2691722601528583,
          1.5189779293307135,
          1.7265664361156687,
          1.8063222457020838,
          2.0009501881142113,
          2.203551925063765,
          2.2277205842750782,
          2.0589560712002415,
          2.271618906816776,
          1.8589027181106454,
          1.802443981142555,
          1.439543674888097,
          1.9564574434061504,
          2.717785930993985,
          1.2194153856692682,
          1.6184090670349178,
          1.3464643986435478,
          1.5509184616340042,
          1.831437528846547,
          1.5739042592386046,
          1.4355719584600206,
          1.744385270361614,
          2.431483611179261
         ]
        },
        {
         "line": {
          "width": 0
         },
         "mode": "lines",
         "name": "Add Upper CI",
         "showlegend": false,
         "type": "scatter",
         "x": [
          0,
          2.9442554170639075,
          5.888510834127815,
          8.832766251191723,
          11.77702166825563,
          14.721277085319537,
          17.665532502383446,
          20.609787919447353,
          23.55404333651126,
          26.498298753575167,
          29.442554170639074,
          32.386809587702984,
          35.33106500476689,
          38.2753204218308,
          41.219575838894706,
          44.16383125595861,
          47.10808667302252,
          50.05234209008643,
          52.996597507150334,
          55.94085292421424,
          58.88510834127815,
          61.82936375834206,
          64.77361917540597,
          67.71787459246987,
          70.66213000953378,
          73.60638542659768,
          76.5506408436616,
          79.4948962607255,
          82.43915167778941,
          85.38340709485331
         ],
         "y": [
          0.8775389032328101,
          0.6920706052534845,
          0.7074719459960309,
          0.7737085849906227,
          0.8300020668145444,
          0.9745509984374191,
          1.1297707678204512,
          1.2899165927335163,
          1.5443817513459794,
          1.755622258801538,
          1.8379223792491284,
          2.0352257302083703,
          2.237336383477607,
          2.2671881812060763,
          2.1022439546001945,
          2.3114257676308005,
          1.9008672371932818,
          1.8508897566376903,
          1.5120418158961897,
          2.0302319874120265,
          2.791523462315586,
          1.3130744203370242,
          1.7349032825030393,
          1.4198773307494077,
          1.624098591863771,
          1.8858623692451455,
          1.6343696398482426,
          1.5078900616732818,
          1.804722217444046,
          2.4536322437438307
         ]
        },
        {
         "fill": "tonexty",
         "fillcolor": "rgba(0, 0, 255, 0.2)",
         "line": {
          "width": 0
         },
         "mode": "lines",
         "name": "Add Lower CI",
         "showlegend": false,
         "type": "scatter",
         "x": [
          0,
          2.9442554170639075,
          5.888510834127815,
          8.832766251191723,
          11.77702166825563,
          14.721277085319537,
          17.665532502383446,
          20.609787919447353,
          23.55404333651126,
          26.498298753575167,
          29.442554170639074,
          32.386809587702984,
          35.33106500476689,
          38.2753204218308,
          41.219575838894706,
          44.16383125595861,
          47.10808667302252,
          50.05234209008643,
          52.996597507150334,
          55.94085292421424,
          58.88510834127815,
          61.82936375834206,
          64.77361917540597,
          67.71787459246987,
          70.66213000953378,
          73.60638542659768,
          76.5506408436616,
          79.4948962607255,
          82.43915167778941,
          85.38340709485331
         ],
         "y": [
          0.8601885829548249,
          0.6774593539404242,
          0.6923895118299946,
          0.7557128060879361,
          0.8073331119853006,
          0.9466415117680728,
          1.0960015532478404,
          1.2484279275722003,
          1.4935741073154476,
          1.6975106134297995,
          1.7747221121550392,
          1.9666746460200524,
          2.1697674666499234,
          2.18825298734408,
          2.0156681878002884,
          2.2318120460027515,
          1.8169381990280091,
          1.7539982056474197,
          1.3670455338800043,
          1.8826828994002742,
          2.6440483996723843,
          1.1257563510015123,
          1.5019148515667964,
          1.273051466537688,
          1.4777383314042374,
          1.7770126884479485,
          1.5134388786289665,
          1.3632538552467595,
          1.684048323279182,
          2.4093349786146914
         ]
        },
        {
         "line": {
          "color": "green"
         },
         "mode": "lines",
         "name": "Cancel",
         "showlegend": true,
         "type": "scatter",
         "x": [
          0,
          2.9442554170639075,
          5.888510834127815,
          8.832766251191723,
          11.77702166825563,
          14.721277085319537,
          17.665532502383446,
          20.609787919447353,
          23.55404333651126,
          26.498298753575167,
          29.442554170639074,
          32.386809587702984,
          35.33106500476689,
          38.2753204218308,
          41.219575838894706,
          44.16383125595861,
          47.10808667302252,
          50.05234209008643,
          52.996597507150334,
          55.94085292421424,
          58.88510834127815,
          61.82936375834206,
          64.77361917540597,
          67.71787459246987,
          70.66213000953378,
          73.60638542659768,
          76.5506408436616,
          79.4948962607255,
          82.43915167778941,
          85.38340709485331
         ],
         "y": [
          1.0899112797647987,
          0.7065417317820306,
          0.6789898544949898,
          0.6935162441801938,
          0.7030757532313977,
          0.7843547291244012,
          0.8563519310819626,
          0.9330685573681587,
          1.0573622047611069,
          1.1937845042631474,
          1.2082815385589987,
          1.3040845596305641,
          1.4315056109188402,
          1.4183035913992479,
          1.3189608528918466,
          1.4707899759978866,
          1.239626700587154,
          1.2042959614530486,
          0.9433503214905085,
          1.2641151333825,
          1.5923395225052912,
          0.8801262210519885,
          1.1873446615023948,
          1.0734724408965868,
          1.2410626590453924,
          1.3478111684152076,
          1.2799878442568708,
          1.2237186842667964,
          1.606310887676251,
          1.969156783836476
         ]
        },
        {
         "line": {
          "width": 0
         },
         "mode": "lines",
         "name": "Cancel Upper CI",
         "showlegend": false,
         "type": "scatter",
         "x": [
          0,
          2.9442554170639075,
          5.888510834127815,
          8.832766251191723,
          11.77702166825563,
          14.721277085319537,
          17.665532502383446,
          20.609787919447353,
          23.55404333651126,
          26.498298753575167,
          29.442554170639074,
          32.386809587702984,
          35.33106500476689,
          38.2753204218308,
          41.219575838894706,
          44.16383125595861,
          47.10808667302252,
          50.05234209008643,
          52.996597507150334,
          55.94085292421424,
          58.88510834127815,
          61.82936375834206,
          64.77361917540597,
          67.71787459246987,
          70.66213000953378,
          73.60638542659768,
          76.5506408436616,
          79.4948962607255,
          82.43915167778941,
          85.38340709485331
         ],
         "y": [
          1.1007934865140256,
          0.7140796894126241,
          0.6863054497080555,
          0.7016764314696413,
          0.7128098581953071,
          0.7957491821738745,
          0.869344424445568,
          0.9483193511983585,
          1.0750458331646187,
          1.213874313815477,
          1.2294194379962347,
          1.326423049355831,
          1.4534531952853258,
          1.4434310848857563,
          1.3466909363101889,
          1.4965634592549235,
          1.2676111334600089,
          1.2366648186206757,
          0.9908592271392133,
          1.3117826754752422,
          1.6355420367564464,
          0.947725640592088,
          1.2728105598647892,
          1.132001102701863,
          1.2996222347155122,
          1.387864081262661,
          1.3291617071042479,
          1.2853645067497987,
          1.6618719478814685,
          1.987094034108984
         ]
        },
        {
         "fill": "tonexty",
         "fillcolor": "rgba(0, 255, 0, 0.2)",
         "line": {
          "width": 0
         },
         "mode": "lines",
         "name": "Cancel Lower CI",
         "showlegend": false,
         "type": "scatter",
         "x": [
          0,
          2.9442554170639075,
          5.888510834127815,
          8.832766251191723,
          11.77702166825563,
          14.721277085319537,
          17.665532502383446,
          20.609787919447353,
          23.55404333651126,
          26.498298753575167,
          29.442554170639074,
          32.386809587702984,
          35.33106500476689,
          38.2753204218308,
          41.219575838894706,
          44.16383125595861,
          47.10808667302252,
          50.05234209008643,
          52.996597507150334,
          55.94085292421424,
          58.88510834127815,
          61.82936375834206,
          64.77361917540597,
          67.71787459246987,
          70.66213000953378,
          73.60638542659768,
          76.5506408436616,
          79.4948962607255,
          82.43915167778941,
          85.38340709485331
         ],
         "y": [
          1.0790290730155718,
          0.6990037741514371,
          0.6716742592819241,
          0.6853560568907462,
          0.6933416482674883,
          0.7729602760749279,
          0.8433594377183572,
          0.917817763537959,
          1.039678576357595,
          1.1736946947108178,
          1.1871436391217627,
          1.2817460699052972,
          1.4095580265523546,
          1.3931760979127394,
          1.2912307694735043,
          1.4450164927408498,
          1.211642267714299,
          1.1719271042854216,
          0.8958414158418037,
          1.2164475912897579,
          1.549137008254136,
          0.8125268015118889,
          1.1018787631400004,
          1.0149437790913105,
          1.1825030833752725,
          1.3077582555677543,
          1.2308139814094938,
          1.162072861783794,
          1.5507498274710336,
          1.9512195335639682
         ]
        },
        {
         "line": {
          "color": "red"
         },
         "mode": "lines",
         "name": "Trade",
         "showlegend": true,
         "type": "scatter",
         "x": [
          0,
          2.9442554170639075,
          5.888510834127815,
          8.832766251191723,
          11.77702166825563,
          14.721277085319537,
          17.665532502383446,
          20.609787919447353,
          23.55404333651126
         ],
         "y": [
          0.4091818972869488,
          0.040454486101212245,
          0.02622304565575289,
          0.02669551599030257,
          0.028295783332761188,
          0.03179210978820083,
          0.034170563366394215,
          0.04051521976166017,
          0.05172075551501772
         ]
        },
        {
         "line": {
          "width": 0
         },
         "mode": "lines",
         "name": "Trade Upper CI",
         "showlegend": false,
         "type": "scatter",
         "x": [
          0,
          2.9442554170639075,
          5.888510834127815,
          8.832766251191723,
          11.77702166825563,
          14.721277085319537,
          17.665532502383446,
          20.609787919447353,
          23.55404333651126
         ],
         "y": [
          0.41326736927626373,
          0.04088608722041188,
          0.026505578871825624,
          0.02700962602319274,
          0.028687539304619435,
          0.03225395911335215,
          0.034688996036018264,
          0.04117743183460061,
          0.05258574824613497
         ]
        },
        {
         "fill": "tonexty",
         "fillcolor": "rgba(255, 0, 0, 0.2)",
         "line": {
          "width": 0
         },
         "mode": "lines",
         "name": "Trade Lower CI",
         "showlegend": false,
         "type": "scatter",
         "x": [
          0,
          2.9442554170639075,
          5.888510834127815,
          8.832766251191723,
          11.77702166825563,
          14.721277085319537,
          17.665532502383446,
          20.609787919447353,
          23.55404333651126
         ],
         "y": [
          0.4050964252976339,
          0.04002288498201261,
          0.025940512439680156,
          0.026381405957412396,
          0.02790402736090294,
          0.03133026046304951,
          0.033652130696770165,
          0.03985300768871973,
          0.05085576278390048
         ]
        }
       ],
       "layout": {
        "showlegend": true,
        "template": {
         "data": {
          "bar": [
           {
            "error_x": {
             "color": "#2a3f5f"
            },
            "error_y": {
             "color": "#2a3f5f"
            },
            "marker": {
             "line": {
              "color": "#E5ECF6",
              "width": 0.5
             },
             "pattern": {
              "fillmode": "overlay",
              "size": 10,
              "solidity": 0.2
             }
            },
            "type": "bar"
           }
          ],
          "barpolar": [
           {
            "marker": {
             "line": {
              "color": "#E5ECF6",
              "width": 0.5
             },
             "pattern": {
              "fillmode": "overlay",
              "size": 10,
              "solidity": 0.2
             }
            },
            "type": "barpolar"
           }
          ],
          "carpet": [
           {
            "aaxis": {
             "endlinecolor": "#2a3f5f",
             "gridcolor": "white",
             "linecolor": "white",
             "minorgridcolor": "white",
             "startlinecolor": "#2a3f5f"
            },
            "baxis": {
             "endlinecolor": "#2a3f5f",
             "gridcolor": "white",
             "linecolor": "white",
             "minorgridcolor": "white",
             "startlinecolor": "#2a3f5f"
            },
            "type": "carpet"
           }
          ],
          "choropleth": [
           {
            "colorbar": {
             "outlinewidth": 0,
             "ticks": ""
            },
            "type": "choropleth"
           }
          ],
          "contour": [
           {
            "colorbar": {
             "outlinewidth": 0,
             "ticks": ""
            },
            "colorscale": [
             [
              0,
              "#0d0887"
             ],
             [
              0.1111111111111111,
              "#46039f"
             ],
             [
              0.2222222222222222,
              "#7201a8"
             ],
             [
              0.3333333333333333,
              "#9c179e"
             ],
             [
              0.4444444444444444,
              "#bd3786"
             ],
             [
              0.5555555555555556,
              "#d8576b"
             ],
             [
              0.6666666666666666,
              "#ed7953"
             ],
             [
              0.7777777777777778,
              "#fb9f3a"
             ],
             [
              0.8888888888888888,
              "#fdca26"
             ],
             [
              1,
              "#f0f921"
             ]
            ],
            "type": "contour"
           }
          ],
          "contourcarpet": [
           {
            "colorbar": {
             "outlinewidth": 0,
             "ticks": ""
            },
            "type": "contourcarpet"
           }
          ],
          "heatmap": [
           {
            "colorbar": {
             "outlinewidth": 0,
             "ticks": ""
            },
            "colorscale": [
             [
              0,
              "#0d0887"
             ],
             [
              0.1111111111111111,
              "#46039f"
             ],
             [
              0.2222222222222222,
              "#7201a8"
             ],
             [
              0.3333333333333333,
              "#9c179e"
             ],
             [
              0.4444444444444444,
              "#bd3786"
             ],
             [
              0.5555555555555556,
              "#d8576b"
             ],
             [
              0.6666666666666666,
              "#ed7953"
             ],
             [
              0.7777777777777778,
              "#fb9f3a"
             ],
             [
              0.8888888888888888,
              "#fdca26"
             ],
             [
              1,
              "#f0f921"
             ]
            ],
            "type": "heatmap"
           }
          ],
          "heatmapgl": [
           {
            "colorbar": {
             "outlinewidth": 0,
             "ticks": ""
            },
            "colorscale": [
             [
              0,
              "#0d0887"
             ],
             [
              0.1111111111111111,
              "#46039f"
             ],
             [
              0.2222222222222222,
              "#7201a8"
             ],
             [
              0.3333333333333333,
              "#9c179e"
             ],
             [
              0.4444444444444444,
              "#bd3786"
             ],
             [
              0.5555555555555556,
              "#d8576b"
             ],
             [
              0.6666666666666666,
              "#ed7953"
             ],
             [
              0.7777777777777778,
              "#fb9f3a"
             ],
             [
              0.8888888888888888,
              "#fdca26"
             ],
             [
              1,
              "#f0f921"
             ]
            ],
            "type": "heatmapgl"
           }
          ],
          "histogram": [
           {
            "marker": {
             "pattern": {
              "fillmode": "overlay",
              "size": 10,
              "solidity": 0.2
             }
            },
            "type": "histogram"
           }
          ],
          "histogram2d": [
           {
            "colorbar": {
             "outlinewidth": 0,
             "ticks": ""
            },
            "colorscale": [
             [
              0,
              "#0d0887"
             ],
             [
              0.1111111111111111,
              "#46039f"
             ],
             [
              0.2222222222222222,
              "#7201a8"
             ],
             [
              0.3333333333333333,
              "#9c179e"
             ],
             [
              0.4444444444444444,
              "#bd3786"
             ],
             [
              0.5555555555555556,
              "#d8576b"
             ],
             [
              0.6666666666666666,
              "#ed7953"
             ],
             [
              0.7777777777777778,
              "#fb9f3a"
             ],
             [
              0.8888888888888888,
              "#fdca26"
             ],
             [
              1,
              "#f0f921"
             ]
            ],
            "type": "histogram2d"
           }
          ],
          "histogram2dcontour": [
           {
            "colorbar": {
             "outlinewidth": 0,
             "ticks": ""
            },
            "colorscale": [
             [
              0,
              "#0d0887"
             ],
             [
              0.1111111111111111,
              "#46039f"
             ],
             [
              0.2222222222222222,
              "#7201a8"
             ],
             [
              0.3333333333333333,
              "#9c179e"
             ],
             [
              0.4444444444444444,
              "#bd3786"
             ],
             [
              0.5555555555555556,
              "#d8576b"
             ],
             [
              0.6666666666666666,
              "#ed7953"
             ],
             [
              0.7777777777777778,
              "#fb9f3a"
             ],
             [
              0.8888888888888888,
              "#fdca26"
             ],
             [
              1,
              "#f0f921"
             ]
            ],
            "type": "histogram2dcontour"
           }
          ],
          "mesh3d": [
           {
            "colorbar": {
             "outlinewidth": 0,
             "ticks": ""
            },
            "type": "mesh3d"
           }
          ],
          "parcoords": [
           {
            "line": {
             "colorbar": {
              "outlinewidth": 0,
              "ticks": ""
             }
            },
            "type": "parcoords"
           }
          ],
          "pie": [
           {
            "automargin": true,
            "type": "pie"
           }
          ],
          "scatter": [
           {
            "fillpattern": {
             "fillmode": "overlay",
             "size": 10,
             "solidity": 0.2
            },
            "type": "scatter"
           }
          ],
          "scatter3d": [
           {
            "line": {
             "colorbar": {
              "outlinewidth": 0,
              "ticks": ""
             }
            },
            "marker": {
             "colorbar": {
              "outlinewidth": 0,
              "ticks": ""
             }
            },
            "type": "scatter3d"
           }
          ],
          "scattercarpet": [
           {
            "marker": {
             "colorbar": {
              "outlinewidth": 0,
              "ticks": ""
             }
            },
            "type": "scattercarpet"
           }
          ],
          "scattergeo": [
           {
            "marker": {
             "colorbar": {
              "outlinewidth": 0,
              "ticks": ""
             }
            },
            "type": "scattergeo"
           }
          ],
          "scattergl": [
           {
            "marker": {
             "colorbar": {
              "outlinewidth": 0,
              "ticks": ""
             }
            },
            "type": "scattergl"
           }
          ],
          "scattermapbox": [
           {
            "marker": {
             "colorbar": {
              "outlinewidth": 0,
              "ticks": ""
             }
            },
            "type": "scattermapbox"
           }
          ],
          "scatterpolar": [
           {
            "marker": {
             "colorbar": {
              "outlinewidth": 0,
              "ticks": ""
             }
            },
            "type": "scatterpolar"
           }
          ],
          "scatterpolargl": [
           {
            "marker": {
             "colorbar": {
              "outlinewidth": 0,
              "ticks": ""
             }
            },
            "type": "scatterpolargl"
           }
          ],
          "scatterternary": [
           {
            "marker": {
             "colorbar": {
              "outlinewidth": 0,
              "ticks": ""
             }
            },
            "type": "scatterternary"
           }
          ],
          "surface": [
           {
            "colorbar": {
             "outlinewidth": 0,
             "ticks": ""
            },
            "colorscale": [
             [
              0,
              "#0d0887"
             ],
             [
              0.1111111111111111,
              "#46039f"
             ],
             [
              0.2222222222222222,
              "#7201a8"
             ],
             [
              0.3333333333333333,
              "#9c179e"
             ],
             [
              0.4444444444444444,
              "#bd3786"
             ],
             [
              0.5555555555555556,
              "#d8576b"
             ],
             [
              0.6666666666666666,
              "#ed7953"
             ],
             [
              0.7777777777777778,
              "#fb9f3a"
             ],
             [
              0.8888888888888888,
              "#fdca26"
             ],
             [
              1,
              "#f0f921"
             ]
            ],
            "type": "surface"
           }
          ],
          "table": [
           {
            "cells": {
             "fill": {
              "color": "#EBF0F8"
             },
             "line": {
              "color": "white"
             }
            },
            "header": {
             "fill": {
              "color": "#C8D4E3"
             },
             "line": {
              "color": "white"
             }
            },
            "type": "table"
           }
          ]
         },
         "layout": {
          "annotationdefaults": {
           "arrowcolor": "#2a3f5f",
           "arrowhead": 0,
           "arrowwidth": 1
          },
          "autotypenumbers": "strict",
          "coloraxis": {
           "colorbar": {
            "outlinewidth": 0,
            "ticks": ""
           }
          },
          "colorscale": {
           "diverging": [
            [
             0,
             "#8e0152"
            ],
            [
             0.1,
             "#c51b7d"
            ],
            [
             0.2,
             "#de77ae"
            ],
            [
             0.3,
             "#f1b6da"
            ],
            [
             0.4,
             "#fde0ef"
            ],
            [
             0.5,
             "#f7f7f7"
            ],
            [
             0.6,
             "#e6f5d0"
            ],
            [
             0.7,
             "#b8e186"
            ],
            [
             0.8,
             "#7fbc41"
            ],
            [
             0.9,
             "#4d9221"
            ],
            [
             1,
             "#276419"
            ]
           ],
           "sequential": [
            [
             0,
             "#0d0887"
            ],
            [
             0.1111111111111111,
             "#46039f"
            ],
            [
             0.2222222222222222,
             "#7201a8"
            ],
            [
             0.3333333333333333,
             "#9c179e"
            ],
            [
             0.4444444444444444,
             "#bd3786"
            ],
            [
             0.5555555555555556,
             "#d8576b"
            ],
            [
             0.6666666666666666,
             "#ed7953"
            ],
            [
             0.7777777777777778,
             "#fb9f3a"
            ],
            [
             0.8888888888888888,
             "#fdca26"
            ],
            [
             1,
             "#f0f921"
            ]
           ],
           "sequentialminus": [
            [
             0,
             "#0d0887"
            ],
            [
             0.1111111111111111,
             "#46039f"
            ],
            [
             0.2222222222222222,
             "#7201a8"
            ],
            [
             0.3333333333333333,
             "#9c179e"
            ],
            [
             0.4444444444444444,
             "#bd3786"
            ],
            [
             0.5555555555555556,
             "#d8576b"
            ],
            [
             0.6666666666666666,
             "#ed7953"
            ],
            [
             0.7777777777777778,
             "#fb9f3a"
            ],
            [
             0.8888888888888888,
             "#fdca26"
            ],
            [
             1,
             "#f0f921"
            ]
           ]
          },
          "colorway": [
           "#636efa",
           "#EF553B",
           "#00cc96",
           "#ab63fa",
           "#FFA15A",
           "#19d3f3",
           "#FF6692",
           "#B6E880",
           "#FF97FF",
           "#FECB52"
          ],
          "font": {
           "color": "#2a3f5f"
          },
          "geo": {
           "bgcolor": "white",
           "lakecolor": "white",
           "landcolor": "#E5ECF6",
           "showlakes": true,
           "showland": true,
           "subunitcolor": "white"
          },
          "hoverlabel": {
           "align": "left"
          },
          "hovermode": "closest",
          "mapbox": {
           "style": "light"
          },
          "paper_bgcolor": "white",
          "plot_bgcolor": "#E5ECF6",
          "polar": {
           "angularaxis": {
            "gridcolor": "white",
            "linecolor": "white",
            "ticks": ""
           },
           "bgcolor": "#E5ECF6",
           "radialaxis": {
            "gridcolor": "white",
            "linecolor": "white",
            "ticks": ""
           }
          },
          "scene": {
           "xaxis": {
            "backgroundcolor": "#E5ECF6",
            "gridcolor": "white",
            "gridwidth": 2,
            "linecolor": "white",
            "showbackground": true,
            "ticks": "",
            "zerolinecolor": "white"
           },
           "yaxis": {
            "backgroundcolor": "#E5ECF6",
            "gridcolor": "white",
            "gridwidth": 2,
            "linecolor": "white",
            "showbackground": true,
            "ticks": "",
            "zerolinecolor": "white"
           },
           "zaxis": {
            "backgroundcolor": "#E5ECF6",
            "gridcolor": "white",
            "gridwidth": 2,
            "linecolor": "white",
            "showbackground": true,
            "ticks": "",
            "zerolinecolor": "white"
           }
          },
          "shapedefaults": {
           "line": {
            "color": "#2a3f5f"
           }
          },
          "ternary": {
           "aaxis": {
            "gridcolor": "white",
            "linecolor": "white",
            "ticks": ""
           },
           "baxis": {
            "gridcolor": "white",
            "linecolor": "white",
            "ticks": ""
           },
           "bgcolor": "#E5ECF6",
           "caxis": {
            "gridcolor": "white",
            "linecolor": "white",
            "ticks": ""
           }
          },
          "title": {
           "x": 0.05
          },
          "xaxis": {
           "automargin": true,
           "gridcolor": "white",
           "linecolor": "white",
           "ticks": "",
           "title": {
            "standoff": 15
           },
           "zerolinecolor": "white",
           "zerolinewidth": 2
          },
          "yaxis": {
           "automargin": true,
           "gridcolor": "white",
           "linecolor": "white",
           "ticks": "",
           "title": {
            "standoff": 15
           },
           "zerolinecolor": "white",
           "zerolinewidth": 2
          }
         }
        },
        "title": {
         "text": "Intensité par Queue size avec intervalles d'incertitude"
        },
        "xaxis": {
         "title": {
          "text": "Size (par Mean Event Size)"
         }
        },
        "yaxis": {
         "title": {
          "text": "Intensity (num par sec)"
         }
        }
       }
      }
     },
     "metadata": {},
     "output_type": "display_data"
    }
   ],
   "source": [
    "Add = []\n",
    "Cancel = []\n",
    "Trade = []\n",
    "sizes_add = []\n",
    "sizes_cancel = []\n",
    "sizes_trade = []\n",
    "threshold = 100\n",
    "\n",
    "#dic = remove_nan_from_dico(dic)\n",
    "average_sizes = compute_means(dic)\n",
    "intensities = dict(sorted(dic.items()))\n",
    "intensities = filtrage(intensities, 30, threshold=100)\n",
    "\n",
    "threshold_trade = 1000\n",
    "threshold = 100\n",
    "\n",
    "quarter_add = []\n",
    "quarter_cancel = []\n",
    "quarter_trade = []\n",
    "\n",
    "for i in intensities:\n",
    "    tab = np.concatenate((intensities[i][0], intensities[i][1], intensities[i][2]))\n",
    "    if (len(intensities[i][0])>threshold):\n",
    "            Add.append(1/np.mean(tab)*len(intensities[i][0])/len(tab))\n",
    "            quarter_add.append(np.var(tab)*1/np.mean(tab)*len(intensities[i][0])/len(tab)*1/np.sqrt(len(tab)))\n",
    "            sizes_add.append(i)\n",
    "    if len(intensities[i][1])!=0:\n",
    "        if (len(intensities[i][1])>threshold):\n",
    "            Cancel.append(1/np.mean(tab)*len(intensities[i][1])/len(tab))\n",
    "            quarter_cancel.append(np.var(tab)*1/np.mean(tab)*len(intensities[i][1])/len(tab)*1/np.sqrt(len(tab)))\n",
    "            sizes_cancel.append(i)\n",
    "    if len(intensities[i][2])!=0:\n",
    "        if (len(intensities[i][2])>threshold_trade):\n",
    "            Trade.append(1/np.mean(tab)*len(intensities[i][2])/len(tab))\n",
    "            quarter_trade.append(np.var(tab)*1/np.mean(tab)*len(intensities[i][2])/len(tab)*1/np.sqrt(len(tab)))\n",
    "            sizes_trade.append(i)\n",
    "\n",
    "fig = go.Figure()\n",
    "\n",
    "fig.add_trace(go.Scatter(x=sizes_add/np.mean(average_event_size),y=Add,mode='lines',name='Add',showlegend=True,line=dict(color='blue')))\n",
    "fig.add_trace(go.Scatter(x=sizes_add/np.mean(average_event_size),y=np.array(Add)+1.96*np.array(quarter_add),mode='lines',name='Add Upper CI',line=dict(width=0),fill=None,showlegend=False))\n",
    "fig.add_trace(go.Scatter(x=sizes_add/np.mean(average_event_size),y=np.array(Add)-1.96*np.array(quarter_add),mode='lines',name='Add Lower CI',fill='tonexty',line=dict(width=0),fillcolor='rgba(0, 0, 255, 0.2)',showlegend=False))\n",
    "\n",
    "fig.add_trace(go.Scatter(x=sizes_cancel/np.mean(average_event_size),y=Cancel,mode='lines',name='Cancel',showlegend=True,line=dict(color='green')))\n",
    "fig.add_trace(go.Scatter(x=sizes_cancel/np.mean(average_event_size),y=np.array(Cancel)+1.96*np.array(quarter_cancel),mode='lines',name='Cancel Upper CI',line=dict(width=0),fill=None,showlegend=False))\n",
    "fig.add_trace(go.Scatter(x=sizes_cancel/np.mean(average_event_size),y=np.array(Cancel)-1.96*np.array(quarter_cancel),mode='lines',name='Cancel Lower CI',fill='tonexty',line=dict(width=0),fillcolor='rgba(0, 255, 0, 0.2)',showlegend=False))\n",
    "\n",
    "fig.add_trace(go.Scatter(x=sizes_trade/np.mean(average_event_size),y=Trade,mode='lines',name='Trade',showlegend=True,line=dict(color='red')))\n",
    "fig.add_trace(go.Scatter(x=sizes_trade/np.mean(average_event_size),y=np.array(Trade)+1.96*np.array(quarter_trade),mode='lines',name='Trade Upper CI',line=dict(width=0),fill=None,showlegend=False))\n",
    "fig.add_trace(go.Scatter(x=sizes_trade/np.mean(average_event_size),y=np.array(Trade)-1.96*np.array(quarter_trade),mode='lines',name='Trade Lower CI',fill='tonexty',line=dict(width=0),fillcolor='rgba(255, 0, 0, 0.2)',showlegend=False))\n",
    "\n",
    "fig.update_layout(title=\"Intensité par Queue size avec intervalles d'incertitude\",xaxis_title='Size (par Mean Event Size)',yaxis_title='Intensity (num par sec)',showlegend=True)\n",
    "fig.show()"
   ]
  },
  {
   "cell_type": "code",
   "execution_count": 18,
   "metadata": {},
   "outputs": [
    {
     "name": "stderr",
     "output_type": "stream",
     "text": [
      "100%|██████████| 65/65 [00:11<00:00,  5.61it/s]\n"
     ]
    }
   ],
   "source": [
    "dic = {}\n",
    "\n",
    "average_event_size = []\n",
    "for f in tqdm(files_csv):\n",
    "    df = pd.read_csv(f)\n",
    "    #df['time_diff'] = df['time_diff']*1.0 # pour le modif en float c'est un timedelta là\n",
    "    sizes = np.unique(np.array((np.unique(df['bid_sz_00'].to_numpy())).tolist() + (np.unique(df['ask_sz_00'].to_numpy())).tolist()))\n",
    "    sizes.sort()\n",
    "    dic = dico_queue_size(sizes, dic)  # Add, Cancel, Trade\n",
    "    \n",
    "    for row in df.itertuples():\n",
    "        average_event_size.append(row.size)\n",
    "        if row.side == 'A':\n",
    "            taille = row.ask_sz_00\n",
    "        elif row.side == 'B':\n",
    "            taille = row.bid_sz_00\n",
    "        if row.action == 'A':\n",
    "            dic[taille][0].append(row.imbalance)\n",
    "        elif row.action == 'C':\n",
    "            dic[taille][1].append(row.imbalance)\n",
    "        elif row.action == 'T':\n",
    "            dic[taille][2].append(row.imbalance)"
   ]
  },
  {
   "cell_type": "code",
   "execution_count": 19,
   "metadata": {},
   "outputs": [
    {
     "data": {
      "application/vnd.plotly.v1+json": {
       "config": {
        "plotlyServerURL": "https://plot.ly"
       },
       "data": [
        {
         "line": {
          "color": "blue"
         },
         "mode": "lines",
         "name": "Add",
         "showlegend": true,
         "type": "scatter",
         "x": [
          0,
          2.9442554170639075,
          5.888510834127815,
          8.832766251191723,
          11.77702166825563,
          14.721277085319537,
          17.665532502383446,
          20.609787919447353,
          23.55404333651126,
          26.498298753575167,
          29.442554170639074,
          32.386809587702984,
          35.33106500476689,
          38.2753204218308,
          41.219575838894706,
          44.16383125595861,
          47.10808667302252,
          50.05234209008643,
          52.996597507150334,
          55.94085292421424,
          58.88510834127815,
          61.82936375834206,
          64.77361917540597,
          67.71787459246987,
          70.66213000953378,
          73.60638542659768,
          76.5506408436616,
          79.4948962607255,
          82.43915167778941,
          85.38340709485331
         ],
         "y": [
          0.03364428599291818,
          0.009519528263908963,
          0.003001306095218049,
          0.004042590215301656,
          0.0028019205999111714,
          0.0008900450019566493,
          0.01681494269759138,
          0.01771393232691614,
          0.004657673590245452,
          0.020592154582812206,
          0.016357948435340466,
          0.032969777230687426,
          0.026498391746759102,
          0.023244015609963635,
          0.02081028757934844,
          0.023917399751201742,
          -0.021047592444958328,
          0.012741017845594598,
          0.04897497673598417,
          0.015873088149899926,
          0.020887530084260433,
          -0.03123909179522476,
          -0.030377522977525533,
          -0.1170790362729919,
          -0.15876646163030889,
          -0.11498702425883829,
          -0.11738336427555403,
          -0.09920442135794462,
          -0.14003928582413738,
          -0.1835214968948227
         ]
        },
        {
         "line": {
          "color": "green"
         },
         "mode": "lines",
         "name": "Cancel",
         "showlegend": true,
         "type": "scatter",
         "x": [
          0,
          2.9442554170639075,
          5.888510834127815,
          8.832766251191723,
          11.77702166825563,
          14.721277085319537,
          17.665532502383446,
          20.609787919447353,
          23.55404333651126,
          26.498298753575167,
          29.442554170639074,
          32.386809587702984,
          35.33106500476689,
          38.2753204218308,
          41.219575838894706,
          44.16383125595861,
          47.10808667302252,
          50.05234209008643,
          52.996597507150334,
          55.94085292421424,
          58.88510834127815,
          61.82936375834206,
          64.77361917540597,
          67.71787459246987,
          70.66213000953378,
          73.60638542659768,
          76.5506408436616,
          79.4948962607255,
          82.43915167778941,
          85.38340709485331
         ],
         "y": [
          0.04220372537671294,
          0.009822266304110715,
          0.002911511532079475,
          0.003666225671001613,
          0.002406303195318976,
          0.0007267475827745806,
          0.01293888733705132,
          0.013022907764783778,
          0.0032422117012651263,
          0.014237850647471807,
          0.010942126827120846,
          0.02148748013638443,
          0.01721429662462502,
          0.01479856632418711,
          0.01333100547336185,
          0.01548563964687903,
          -0.014035784295568393,
          0.008512861701546134,
          0.03209389256805442,
          0.010255991517438516,
          0.012237917380241149,
          -0.022547151802367372,
          -0.022286448137066126,
          -0.09334158331434683,
          -0.12704673515237191,
          -0.08462248538529225,
          -0.09546278212841887,
          -0.08456441578018864,
          -0.12895467150733655,
          -0.14862637729850686
         ]
        },
        {
         "line": {
          "color": "red"
         },
         "mode": "lines",
         "name": "Trade",
         "showlegend": true,
         "type": "scatter",
         "x": [
          0,
          2.9442554170639075,
          5.888510834127815,
          8.832766251191723,
          11.77702166825563,
          14.721277085319537,
          17.665532502383446,
          20.609787919447353,
          23.55404333651126
         ],
         "y": [
          0.015844409304532913,
          0.000562393865511453,
          0.00011244453702442543,
          0.00014112399939524944,
          0.00009684338214586008,
          0.000029457129640400915,
          0.0005162936563741236,
          0.0005654739577917866,
          0.0001585924274330856
         ]
        }
       ],
       "layout": {
        "showlegend": true,
        "template": {
         "data": {
          "bar": [
           {
            "error_x": {
             "color": "#2a3f5f"
            },
            "error_y": {
             "color": "#2a3f5f"
            },
            "marker": {
             "line": {
              "color": "#E5ECF6",
              "width": 0.5
             },
             "pattern": {
              "fillmode": "overlay",
              "size": 10,
              "solidity": 0.2
             }
            },
            "type": "bar"
           }
          ],
          "barpolar": [
           {
            "marker": {
             "line": {
              "color": "#E5ECF6",
              "width": 0.5
             },
             "pattern": {
              "fillmode": "overlay",
              "size": 10,
              "solidity": 0.2
             }
            },
            "type": "barpolar"
           }
          ],
          "carpet": [
           {
            "aaxis": {
             "endlinecolor": "#2a3f5f",
             "gridcolor": "white",
             "linecolor": "white",
             "minorgridcolor": "white",
             "startlinecolor": "#2a3f5f"
            },
            "baxis": {
             "endlinecolor": "#2a3f5f",
             "gridcolor": "white",
             "linecolor": "white",
             "minorgridcolor": "white",
             "startlinecolor": "#2a3f5f"
            },
            "type": "carpet"
           }
          ],
          "choropleth": [
           {
            "colorbar": {
             "outlinewidth": 0,
             "ticks": ""
            },
            "type": "choropleth"
           }
          ],
          "contour": [
           {
            "colorbar": {
             "outlinewidth": 0,
             "ticks": ""
            },
            "colorscale": [
             [
              0,
              "#0d0887"
             ],
             [
              0.1111111111111111,
              "#46039f"
             ],
             [
              0.2222222222222222,
              "#7201a8"
             ],
             [
              0.3333333333333333,
              "#9c179e"
             ],
             [
              0.4444444444444444,
              "#bd3786"
             ],
             [
              0.5555555555555556,
              "#d8576b"
             ],
             [
              0.6666666666666666,
              "#ed7953"
             ],
             [
              0.7777777777777778,
              "#fb9f3a"
             ],
             [
              0.8888888888888888,
              "#fdca26"
             ],
             [
              1,
              "#f0f921"
             ]
            ],
            "type": "contour"
           }
          ],
          "contourcarpet": [
           {
            "colorbar": {
             "outlinewidth": 0,
             "ticks": ""
            },
            "type": "contourcarpet"
           }
          ],
          "heatmap": [
           {
            "colorbar": {
             "outlinewidth": 0,
             "ticks": ""
            },
            "colorscale": [
             [
              0,
              "#0d0887"
             ],
             [
              0.1111111111111111,
              "#46039f"
             ],
             [
              0.2222222222222222,
              "#7201a8"
             ],
             [
              0.3333333333333333,
              "#9c179e"
             ],
             [
              0.4444444444444444,
              "#bd3786"
             ],
             [
              0.5555555555555556,
              "#d8576b"
             ],
             [
              0.6666666666666666,
              "#ed7953"
             ],
             [
              0.7777777777777778,
              "#fb9f3a"
             ],
             [
              0.8888888888888888,
              "#fdca26"
             ],
             [
              1,
              "#f0f921"
             ]
            ],
            "type": "heatmap"
           }
          ],
          "heatmapgl": [
           {
            "colorbar": {
             "outlinewidth": 0,
             "ticks": ""
            },
            "colorscale": [
             [
              0,
              "#0d0887"
             ],
             [
              0.1111111111111111,
              "#46039f"
             ],
             [
              0.2222222222222222,
              "#7201a8"
             ],
             [
              0.3333333333333333,
              "#9c179e"
             ],
             [
              0.4444444444444444,
              "#bd3786"
             ],
             [
              0.5555555555555556,
              "#d8576b"
             ],
             [
              0.6666666666666666,
              "#ed7953"
             ],
             [
              0.7777777777777778,
              "#fb9f3a"
             ],
             [
              0.8888888888888888,
              "#fdca26"
             ],
             [
              1,
              "#f0f921"
             ]
            ],
            "type": "heatmapgl"
           }
          ],
          "histogram": [
           {
            "marker": {
             "pattern": {
              "fillmode": "overlay",
              "size": 10,
              "solidity": 0.2
             }
            },
            "type": "histogram"
           }
          ],
          "histogram2d": [
           {
            "colorbar": {
             "outlinewidth": 0,
             "ticks": ""
            },
            "colorscale": [
             [
              0,
              "#0d0887"
             ],
             [
              0.1111111111111111,
              "#46039f"
             ],
             [
              0.2222222222222222,
              "#7201a8"
             ],
             [
              0.3333333333333333,
              "#9c179e"
             ],
             [
              0.4444444444444444,
              "#bd3786"
             ],
             [
              0.5555555555555556,
              "#d8576b"
             ],
             [
              0.6666666666666666,
              "#ed7953"
             ],
             [
              0.7777777777777778,
              "#fb9f3a"
             ],
             [
              0.8888888888888888,
              "#fdca26"
             ],
             [
              1,
              "#f0f921"
             ]
            ],
            "type": "histogram2d"
           }
          ],
          "histogram2dcontour": [
           {
            "colorbar": {
             "outlinewidth": 0,
             "ticks": ""
            },
            "colorscale": [
             [
              0,
              "#0d0887"
             ],
             [
              0.1111111111111111,
              "#46039f"
             ],
             [
              0.2222222222222222,
              "#7201a8"
             ],
             [
              0.3333333333333333,
              "#9c179e"
             ],
             [
              0.4444444444444444,
              "#bd3786"
             ],
             [
              0.5555555555555556,
              "#d8576b"
             ],
             [
              0.6666666666666666,
              "#ed7953"
             ],
             [
              0.7777777777777778,
              "#fb9f3a"
             ],
             [
              0.8888888888888888,
              "#fdca26"
             ],
             [
              1,
              "#f0f921"
             ]
            ],
            "type": "histogram2dcontour"
           }
          ],
          "mesh3d": [
           {
            "colorbar": {
             "outlinewidth": 0,
             "ticks": ""
            },
            "type": "mesh3d"
           }
          ],
          "parcoords": [
           {
            "line": {
             "colorbar": {
              "outlinewidth": 0,
              "ticks": ""
             }
            },
            "type": "parcoords"
           }
          ],
          "pie": [
           {
            "automargin": true,
            "type": "pie"
           }
          ],
          "scatter": [
           {
            "fillpattern": {
             "fillmode": "overlay",
             "size": 10,
             "solidity": 0.2
            },
            "type": "scatter"
           }
          ],
          "scatter3d": [
           {
            "line": {
             "colorbar": {
              "outlinewidth": 0,
              "ticks": ""
             }
            },
            "marker": {
             "colorbar": {
              "outlinewidth": 0,
              "ticks": ""
             }
            },
            "type": "scatter3d"
           }
          ],
          "scattercarpet": [
           {
            "marker": {
             "colorbar": {
              "outlinewidth": 0,
              "ticks": ""
             }
            },
            "type": "scattercarpet"
           }
          ],
          "scattergeo": [
           {
            "marker": {
             "colorbar": {
              "outlinewidth": 0,
              "ticks": ""
             }
            },
            "type": "scattergeo"
           }
          ],
          "scattergl": [
           {
            "marker": {
             "colorbar": {
              "outlinewidth": 0,
              "ticks": ""
             }
            },
            "type": "scattergl"
           }
          ],
          "scattermapbox": [
           {
            "marker": {
             "colorbar": {
              "outlinewidth": 0,
              "ticks": ""
             }
            },
            "type": "scattermapbox"
           }
          ],
          "scatterpolar": [
           {
            "marker": {
             "colorbar": {
              "outlinewidth": 0,
              "ticks": ""
             }
            },
            "type": "scatterpolar"
           }
          ],
          "scatterpolargl": [
           {
            "marker": {
             "colorbar": {
              "outlinewidth": 0,
              "ticks": ""
             }
            },
            "type": "scatterpolargl"
           }
          ],
          "scatterternary": [
           {
            "marker": {
             "colorbar": {
              "outlinewidth": 0,
              "ticks": ""
             }
            },
            "type": "scatterternary"
           }
          ],
          "surface": [
           {
            "colorbar": {
             "outlinewidth": 0,
             "ticks": ""
            },
            "colorscale": [
             [
              0,
              "#0d0887"
             ],
             [
              0.1111111111111111,
              "#46039f"
             ],
             [
              0.2222222222222222,
              "#7201a8"
             ],
             [
              0.3333333333333333,
              "#9c179e"
             ],
             [
              0.4444444444444444,
              "#bd3786"
             ],
             [
              0.5555555555555556,
              "#d8576b"
             ],
             [
              0.6666666666666666,
              "#ed7953"
             ],
             [
              0.7777777777777778,
              "#fb9f3a"
             ],
             [
              0.8888888888888888,
              "#fdca26"
             ],
             [
              1,
              "#f0f921"
             ]
            ],
            "type": "surface"
           }
          ],
          "table": [
           {
            "cells": {
             "fill": {
              "color": "#EBF0F8"
             },
             "line": {
              "color": "white"
             }
            },
            "header": {
             "fill": {
              "color": "#C8D4E3"
             },
             "line": {
              "color": "white"
             }
            },
            "type": "table"
           }
          ]
         },
         "layout": {
          "annotationdefaults": {
           "arrowcolor": "#2a3f5f",
           "arrowhead": 0,
           "arrowwidth": 1
          },
          "autotypenumbers": "strict",
          "coloraxis": {
           "colorbar": {
            "outlinewidth": 0,
            "ticks": ""
           }
          },
          "colorscale": {
           "diverging": [
            [
             0,
             "#8e0152"
            ],
            [
             0.1,
             "#c51b7d"
            ],
            [
             0.2,
             "#de77ae"
            ],
            [
             0.3,
             "#f1b6da"
            ],
            [
             0.4,
             "#fde0ef"
            ],
            [
             0.5,
             "#f7f7f7"
            ],
            [
             0.6,
             "#e6f5d0"
            ],
            [
             0.7,
             "#b8e186"
            ],
            [
             0.8,
             "#7fbc41"
            ],
            [
             0.9,
             "#4d9221"
            ],
            [
             1,
             "#276419"
            ]
           ],
           "sequential": [
            [
             0,
             "#0d0887"
            ],
            [
             0.1111111111111111,
             "#46039f"
            ],
            [
             0.2222222222222222,
             "#7201a8"
            ],
            [
             0.3333333333333333,
             "#9c179e"
            ],
            [
             0.4444444444444444,
             "#bd3786"
            ],
            [
             0.5555555555555556,
             "#d8576b"
            ],
            [
             0.6666666666666666,
             "#ed7953"
            ],
            [
             0.7777777777777778,
             "#fb9f3a"
            ],
            [
             0.8888888888888888,
             "#fdca26"
            ],
            [
             1,
             "#f0f921"
            ]
           ],
           "sequentialminus": [
            [
             0,
             "#0d0887"
            ],
            [
             0.1111111111111111,
             "#46039f"
            ],
            [
             0.2222222222222222,
             "#7201a8"
            ],
            [
             0.3333333333333333,
             "#9c179e"
            ],
            [
             0.4444444444444444,
             "#bd3786"
            ],
            [
             0.5555555555555556,
             "#d8576b"
            ],
            [
             0.6666666666666666,
             "#ed7953"
            ],
            [
             0.7777777777777778,
             "#fb9f3a"
            ],
            [
             0.8888888888888888,
             "#fdca26"
            ],
            [
             1,
             "#f0f921"
            ]
           ]
          },
          "colorway": [
           "#636efa",
           "#EF553B",
           "#00cc96",
           "#ab63fa",
           "#FFA15A",
           "#19d3f3",
           "#FF6692",
           "#B6E880",
           "#FF97FF",
           "#FECB52"
          ],
          "font": {
           "color": "#2a3f5f"
          },
          "geo": {
           "bgcolor": "white",
           "lakecolor": "white",
           "landcolor": "#E5ECF6",
           "showlakes": true,
           "showland": true,
           "subunitcolor": "white"
          },
          "hoverlabel": {
           "align": "left"
          },
          "hovermode": "closest",
          "mapbox": {
           "style": "light"
          },
          "paper_bgcolor": "white",
          "plot_bgcolor": "#E5ECF6",
          "polar": {
           "angularaxis": {
            "gridcolor": "white",
            "linecolor": "white",
            "ticks": ""
           },
           "bgcolor": "#E5ECF6",
           "radialaxis": {
            "gridcolor": "white",
            "linecolor": "white",
            "ticks": ""
           }
          },
          "scene": {
           "xaxis": {
            "backgroundcolor": "#E5ECF6",
            "gridcolor": "white",
            "gridwidth": 2,
            "linecolor": "white",
            "showbackground": true,
            "ticks": "",
            "zerolinecolor": "white"
           },
           "yaxis": {
            "backgroundcolor": "#E5ECF6",
            "gridcolor": "white",
            "gridwidth": 2,
            "linecolor": "white",
            "showbackground": true,
            "ticks": "",
            "zerolinecolor": "white"
           },
           "zaxis": {
            "backgroundcolor": "#E5ECF6",
            "gridcolor": "white",
            "gridwidth": 2,
            "linecolor": "white",
            "showbackground": true,
            "ticks": "",
            "zerolinecolor": "white"
           }
          },
          "shapedefaults": {
           "line": {
            "color": "#2a3f5f"
           }
          },
          "ternary": {
           "aaxis": {
            "gridcolor": "white",
            "linecolor": "white",
            "ticks": ""
           },
           "baxis": {
            "gridcolor": "white",
            "linecolor": "white",
            "ticks": ""
           },
           "bgcolor": "#E5ECF6",
           "caxis": {
            "gridcolor": "white",
            "linecolor": "white",
            "ticks": ""
           }
          },
          "title": {
           "x": 0.05
          },
          "xaxis": {
           "automargin": true,
           "gridcolor": "white",
           "linecolor": "white",
           "ticks": "",
           "title": {
            "standoff": 15
           },
           "zerolinecolor": "white",
           "zerolinewidth": 2
          },
          "yaxis": {
           "automargin": true,
           "gridcolor": "white",
           "linecolor": "white",
           "ticks": "",
           "title": {
            "standoff": 15
           },
           "zerolinecolor": "white",
           "zerolinewidth": 2
          }
         }
        },
        "title": {
         "text": "Queue size avec intervalles d'incertitude en fonction de l'imbalance"
        },
        "xaxis": {
         "title": {
          "text": "imbalance"
         }
        },
        "yaxis": {
         "title": {
          "text": "Size (par Mean Event Size)"
         }
        }
       }
      }
     },
     "metadata": {},
     "output_type": "display_data"
    }
   ],
   "source": [
    "Add = []\n",
    "Cancel = []\n",
    "Trade = []\n",
    "sizes_add = []\n",
    "sizes_cancel = []\n",
    "sizes_trade = []\n",
    "\n",
    "#dic = remove_nan_from_dico(dic)\n",
    "average_sizes = compute_means(dic)\n",
    "intensities = dict(sorted(dic.items()))\n",
    "intensities = filtrage(intensities, 30, threshold=100)\n",
    "\n",
    "threshold_trade = 1000\n",
    "threshold = 10\n",
    "\n",
    "quarter_add = []\n",
    "quarter_cancel = []\n",
    "quarter_trade = []\n",
    "\n",
    "for i in intensities:\n",
    "    tab = np.concatenate((intensities[i][0], intensities[i][1], intensities[i][2]))\n",
    "    if (len(intensities[i][0])>threshold):\n",
    "            Add.append(np.mean(tab)*len(intensities[i][0])/len(tab))\n",
    "            quarter_add.append(np.var(tab)*1/np.mean(tab)*len(intensities[i][0])/len(tab)*1/np.sqrt(len(tab)))\n",
    "            sizes_add.append(i)\n",
    "    if len(intensities[i][1])!=0:\n",
    "        if (len(intensities[i][1])>threshold):\n",
    "            Cancel.append(np.mean(tab)*len(intensities[i][1])/len(tab))\n",
    "            quarter_cancel.append(np.var(tab)*1/np.mean(tab)*len(intensities[i][1])/len(tab)*1/np.sqrt(len(tab)))\n",
    "            sizes_cancel.append(i)\n",
    "    if len(intensities[i][2])!=0:\n",
    "        if (len(intensities[i][2])>threshold_trade):\n",
    "            Trade.append(np.mean(tab)*len(intensities[i][2])/len(tab))\n",
    "            quarter_trade.append(np.var(tab)*1/np.mean(tab)*len(intensities[i][2])/len(tab)*1/np.sqrt(len(tab)))\n",
    "            sizes_trade.append(i)\n",
    "\n",
    "fig = go.Figure()\n",
    "\n",
    "fig.add_trace(go.Scatter(x=sizes_add/np.mean(average_event_size),y=Add,mode='lines',name='Add',showlegend=True,line=dict(color='blue')))\n",
    "#fig.add_trace(go.Scatter(y=sizes_add/np.mean(average_event_size),x=np.array(Add)+1.96*np.array(quarter_add),mode='lines',name='Add Upper CI',line=dict(width=0),fill=None,showlegend=False))\n",
    "#fig.add_trace(go.Scatter(y=sizes_add/np.mean(average_event_size),x=np.array(Add)-1.96*np.array(quarter_add),mode='lines',name='Add Lower CI',fill='tonexty',line=dict(width=0),fillcolor='rgba(0, 0, 255, 0.2)',showlegend=False))\n",
    "\n",
    "fig.add_trace(go.Scatter(x=sizes_cancel/np.mean(average_event_size),y=Cancel,mode='lines',name='Cancel',showlegend=True,line=dict(color='green')))\n",
    "#fig.add_trace(go.Scatter(y=sizes_cancel/np.mean(average_event_size),x=np.array(Cancel)+1.96*np.array(quarter_cancel),mode='lines',name='Cancel Upper CI',line=dict(width=0),fill=None,showlegend=False))\n",
    "#fig.add_trace(go.Scatter(y=sizes_cancel/np.mean(average_event_size),x=np.array(Cancel)-1.96*np.array(quarter_cancel),mode='lines',name='Cancel Lower CI',fill='tonexty',line=dict(width=0),fillcolor='rgba(0, 255, 0, 0.2)',showlegend=False))\n",
    "\n",
    "fig.add_trace(go.Scatter(x=sizes_trade/np.mean(average_event_size),y=Trade,mode='lines',name='Trade',showlegend=True,line=dict(color='red')))\n",
    "#fig.add_trace(go.Scatter(y=sizes_trade/np.mean(average_event_size),x=np.array(Trade)+1.96*np.array(quarter_trade),mode='lines',name='Trade Upper CI',line=dict(width=0),fill=None,showlegend=False))\n",
    "#fig.add_trace(go.Scatter(y=sizes_trade/np.mean(average_event_size),x=np.array(Trade)-1.96*np.array(quarter_trade),mode='lines',name='Trade Lower CI',fill='tonexty',line=dict(width=0),fillcolor='rgba(255, 0, 0, 0.2)',showlegend=False))\n",
    "\n",
    "fig.update_layout(title=\"Queue size avec intervalles d'incertitude en fonction de l'imbalance\",xaxis_title='imbalance',yaxis_title='Size (par Mean Event Size)',showlegend=True)\n",
    "fig.show()"
   ]
  },
  {
   "cell_type": "code",
   "execution_count": 20,
   "metadata": {},
   "outputs": [
    {
     "name": "stderr",
     "output_type": "stream",
     "text": [
      "100%|██████████| 65/65 [00:07<00:00,  8.63it/s]"
     ]
    },
    {
     "name": "stdout",
     "output_type": "stream",
     "text": [
      "A quel point c'est long: 1048824\n"
     ]
    },
    {
     "name": "stderr",
     "output_type": "stream",
     "text": [
      "\n"
     ]
    }
   ],
   "source": [
    "queue_size_same_trade = np.array([])\n",
    "queue_size_opposite_trade = np.array([])\n",
    "time_trade = np.array([])\n",
    "\n",
    "queue_size_same_cancel = np.array([])\n",
    "queue_size_opposite_cancel = np.array([])\n",
    "time_cancel = np.array([])\n",
    "\n",
    "queue_size_same_add = np.array([])\n",
    "queue_size_opposite_add = np.array([])\n",
    "time_add = np.array([])\n",
    "\n",
    "limite = 0\n",
    "for f in tqdm(files_csv):\n",
    "    df = pd.read_csv(f)\n",
    "    df = df[:-100]\n",
    "    df_cancel = df[df['action'] == 'C']\n",
    "    df_cancel['ts_event'] = pd.to_datetime(df_cancel['ts_event'], errors='coerce')\n",
    "    df_cancel['seconds_since_start_of_day'] = (\n",
    "        df_cancel['ts_event'].dt.hour*3600+\n",
    "        df_cancel['ts_event'].dt.minute*60+\n",
    "        df_cancel['ts_event'].dt.second+\n",
    "        df_cancel['ts_event'].dt.microsecond/1e6\n",
    "    )\n",
    "    df_add = df[df['action'] == 'A']\n",
    "    df_add['ts_event'] = pd.to_datetime(df_add['ts_event'], errors='coerce')\n",
    "    df_add['seconds_since_start_of_day'] = (\n",
    "        df_add['ts_event'].dt.hour*3600+\n",
    "        df_add['ts_event'].dt.minute*60+\n",
    "        df_add['ts_event'].dt.second+\n",
    "        df_add['ts_event'].dt.microsecond/1e6\n",
    "    )\n",
    "    df_trade = df[df['action'] == 'T']\n",
    "    df_trade['ts_event'] = pd.to_datetime(df_trade['ts_event'], errors='coerce')\n",
    "    df_trade['seconds_since_start_of_day'] = (\n",
    "        df_trade['ts_event'].dt.hour*3600+\n",
    "        df_trade['ts_event'].dt.minute*60+\n",
    "        df_trade['ts_event'].dt.second+\n",
    "        df_trade['ts_event'].dt.microsecond/1e6\n",
    "    )\n",
    "\n",
    "    queue_size_same_trade = np.concatenate([queue_size_same_trade, df_trade['size_same'].to_numpy()])\n",
    "    queue_size_opposite_trade = np.concatenate([queue_size_opposite_trade, df_trade['size_opposite'].to_numpy()])\n",
    "    time_trade = np.concatenate([time_trade, df_trade['seconds_since_start_of_day'].dropna().to_numpy()])\n",
    "    \n",
    "    queue_size_same_add = np.concatenate([queue_size_same_add, df_add['size_same'].to_numpy()])\n",
    "    queue_size_opposite_add = np.concatenate([queue_size_opposite_add, df_add['size_opposite'].to_numpy()])\n",
    "    time_add = np.concatenate([time_add, df_add['seconds_since_start_of_day'].dropna().to_numpy()])\n",
    "    \n",
    "    queue_size_same_cancel = np.concatenate([queue_size_same_cancel, df_cancel['size_same'].to_numpy()])\n",
    "    queue_size_opposite_cancel = np.concatenate([queue_size_opposite_cancel, df_cancel['size_opposite'].to_numpy()])\n",
    "    time_cancel = np.concatenate([time_cancel, df_cancel['seconds_since_start_of_day'].dropna().to_numpy()])\n",
    "\n",
    "time_add = np.array(time_add, dtype=float)\n",
    "time_trade = np.array(time_trade, dtype=float)\n",
    "time_cancel = np.array(time_cancel, dtype=float)\n",
    "print(f\"A quel point c'est long: {len(time_add)}\")"
   ]
  },
  {
   "cell_type": "code",
   "execution_count": 27,
   "metadata": {},
   "outputs": [],
   "source": [
    "indices_trie_add = np.argsort(time_add)\n",
    "\n",
    "\n",
    "time_add = time_add[indices_trie_add]\n",
    "queue_size_same_add = queue_size_same_add[indices_trie_add]\n",
    "queue_size_opposite_add = queue_size_opposite_add[indices_trie_add]\n",
    "group_size_add = 10000\n",
    "\n",
    "time_trie_groups_add = [time_add[i:i + group_size_add] for i in range(0, len(time_add), group_size_add)]\n",
    "queue_size_same_trie_groups_add = [queue_size_same_add[i:i + group_size_add] for i in range(0, len(queue_size_same_add), group_size_add)]\n",
    "queue_size_opposite_trie_groups_add = [queue_size_opposite_add[i:i + group_size_add] for i in range(0, len(queue_size_opposite_add), group_size_add)]\n",
    "\n",
    "time_trie_means_add = np.array([np.mean(group) for group in time_trie_groups_add])\n",
    "queue_size_same_trie_means_add = np.array([np.mean(group) for group in queue_size_same_trie_groups_add])\n",
    "queue_size_opposite_trie_mean_add = np.array([np.mean(group) for group in queue_size_opposite_trie_groups_add])\n",
    "\n",
    "#imb_trie_std = np.array([np.std(group)/np.sqrt(len(group)) for group in price_trie_groups])\n",
    "time_trie_means_add = pd.to_datetime(time_trie_means_add, unit='s')\n",
    "\n",
    "\n",
    "\n",
    "indices_trie_trade = np.argsort(time_trade)\n",
    "\n",
    "\n",
    "time_trade = time_trade[indices_trie_trade]\n",
    "queue_size_same_trade = queue_size_same_trade[indices_trie_trade]\n",
    "queue_size_opposite_trade = queue_size_opposite_trade[indices_trie_trade]\n",
    "group_size_trade = 700\n",
    "\n",
    "time_trie_groups_trade = [time_trade[i:i + group_size_trade] for i in range(0, len(time_trade), group_size_trade)]\n",
    "queue_size_same_trie_groups_trade = [queue_size_same_trade[i:i + group_size_trade] for i in range(0, len(queue_size_same_trade), group_size_trade)]\n",
    "queue_size_opposite_trie_groups_trade = [queue_size_opposite_trade[i:i + group_size_trade] for i in range(0, len(queue_size_opposite_trade), group_size_trade)]\n",
    "\n",
    "time_trie_means_trade = np.array([np.mean(group) for group in time_trie_groups_trade])\n",
    "queue_size_same_trie_means_trade = np.array([np.mean(group) for group in queue_size_same_trie_groups_trade])\n",
    "queue_size_opposite_trie_means_trade = np.array([np.mean(group) for group in queue_size_opposite_trie_groups_trade])\n",
    "\n",
    "#imb_trie_std = np.array([np.std(group)/np.sqrt(len(group)) for group in price_trie_groups])\n",
    "time_trie_means_trade = pd.to_datetime(time_trie_means_trade, unit='s')\n",
    "\n",
    "\n",
    "indices_trie_cancel = np.argsort(time_cancel)\n",
    "\n",
    "\n",
    "time_cancel = time_cancel[indices_trie_cancel]\n",
    "queue_size_same_cancel = queue_size_same_cancel[indices_trie_cancel]\n",
    "queue_size_opposite_cancel = queue_size_opposite_cancel[indices_trie_cancel]\n",
    "group_size_cancel = 1000\n",
    "\n",
    "time_trie_groups_cancel = [time_cancel[i:i + group_size] for i in range(0, len(time_cancel), group_size_cancel)]\n",
    "queue_size_same_trie_groups_cancel = [queue_size_same_cancel[i:i + group_size] for i in range(0, len(queue_size_same_cancel), group_size_cancel)]\n",
    "queue_size_opposite_trie_groups_cancel = [queue_size_opposite_cancel[i:i + group_size] for i in range(0, len(queue_size_opposite_cancel), group_size_cancel)]\n",
    "\n",
    "time_trie_means_cancel = np.array([np.mean(group) for group in time_trie_groups_cancel])\n",
    "queue_size_same_trie_means_cancel = np.array([np.mean(group) for group in queue_size_same_trie_groups_cancel])\n",
    "queue_size_opposite_trie_means_cancel = np.array([np.mean(group) for group in queue_size_opposite_trie_groups_cancel])\n",
    "\n",
    "#imb_trie_std = np.array([np.std(group)/np.sqrt(len(group)) for group in price_trie_groups])\n",
    "time_trie_means_cancel = pd.to_datetime(time_trie_means_cancel, unit='s')"
   ]
  },
  {
   "cell_type": "code",
   "execution_count": 28,
   "metadata": {},
   "outputs": [
    {
     "data": {
      "application/vnd.plotly.v1+json": {
       "config": {
        "plotlyServerURL": "https://plot.ly"
       },
       "data": [
        {
         "line": {
          "color": "blue"
         },
         "mode": "lines",
         "name": "same",
         "showlegend": true,
         "type": "scatter",
         "x": [
          "1970-01-01T14:00:24.222876",
          "1970-01-01T14:01:51.048264",
          "1970-01-01T14:03:25.426493",
          "1970-01-01T14:05:18.851909",
          "1970-01-01T14:07:11.509792",
          "1970-01-01T14:08:58.954944",
          "1970-01-01T14:10:50.357039",
          "1970-01-01T14:13:11.628732",
          "1970-01-01T14:15:34.924078",
          "1970-01-01T14:18:15.198724",
          "1970-01-01T14:21:00.399145",
          "1970-01-01T14:23:22.343647",
          "1970-01-01T14:26:12.231301",
          "1970-01-01T14:28:55.372755",
          "1970-01-01T14:31:21.105121",
          "1970-01-01T14:34:09.665107",
          "1970-01-01T14:36:53.537033",
          "1970-01-01T14:39:57.542910",
          "1970-01-01T14:42:47.979164",
          "1970-01-01T14:46:02.268582",
          "1970-01-01T14:48:47.507256",
          "1970-01-01T14:51:22.035209",
          "1970-01-01T14:54:12.319816",
          "1970-01-01T14:56:52.989680",
          "1970-01-01T14:59:45.483117",
          "1970-01-01T15:02:50.045994",
          "1970-01-01T15:06:11.763001",
          "1970-01-01T15:09:49.507644",
          "1970-01-01T15:13:17.712482",
          "1970-01-01T15:16:40.164331",
          "1970-01-01T15:20:33.455110",
          "1970-01-01T15:24:15.108559",
          "1970-01-01T15:28:11.355127",
          "1970-01-01T15:31:55.040409",
          "1970-01-01T15:35:50.640239",
          "1970-01-01T15:40:04.486564",
          "1970-01-01T15:44:03.690193",
          "1970-01-01T15:48:54.225714",
          "1970-01-01T15:53:45.860459",
          "1970-01-01T15:58:27.504542",
          "1970-01-01T16:02:53.229115",
          "1970-01-01T16:07:01.738459",
          "1970-01-01T16:11:15.255917",
          "1970-01-01T16:15:59.074516",
          "1970-01-01T16:20:34.886210",
          "1970-01-01T16:25:39.794128",
          "1970-01-01T16:31:15.275991",
          "1970-01-01T16:37:22.217014",
          "1970-01-01T16:42:19.625346",
          "1970-01-01T16:47:12.779231",
          "1970-01-01T16:52:34.810600",
          "1970-01-01T16:57:57.126190",
          "1970-01-01T17:02:10.323983",
          "1970-01-01T17:06:13.141729",
          "1970-01-01T17:10:55.316532",
          "1970-01-01T17:16:36.815250",
          "1970-01-01T17:23:29.294261",
          "1970-01-01T17:28:38.147810",
          "1970-01-01T17:32:34.939599",
          "1970-01-01T17:37:14.431754",
          "1970-01-01T17:42:04.924529",
          "1970-01-01T17:47:15.868945",
          "1970-01-01T17:53:32.381014",
          "1970-01-01T17:59:47.420950",
          "1970-01-01T18:04:06.407342",
          "1970-01-01T18:08:09.047561",
          "1970-01-01T18:12:25.904738",
          "1970-01-01T18:18:18.111634",
          "1970-01-01T18:23:32.871363",
          "1970-01-01T18:28:55.825556",
          "1970-01-01T18:34:20.137532",
          "1970-01-01T18:40:43.619658",
          "1970-01-01T18:45:44.561640",
          "1970-01-01T18:51:25.305031",
          "1970-01-01T18:56:31.423564"
         ],
         "y": [
          10333.87,
          12877.184285714286,
          15999.635714285714,
          15390.914285714285,
          21019.657142857144,
          24927.17,
          18546.914285714287,
          17519.722857142857,
          23514.845714285715,
          17246,
          19023.794285714284,
          21800.55857142857,
          27697.022857142856,
          23965.897142857142,
          24462.661428571428,
          21093.93857142857,
          18520.731428571427,
          21303.28714285714,
          19303.11,
          21833.237142857142,
          22185.972857142857,
          15893.115714285714,
          21983.497142857144,
          26438.931428571428,
          23370.637142857144,
          36516.834285714285,
          22470.44,
          25519.325714285715,
          26386.02142857143,
          22790.545714285716,
          28544.735714285714,
          23251.51,
          21708.755714285715,
          21797.347142857143,
          19230.71285714286,
          22539.4,
          23172.674285714285,
          23122.257142857143,
          21388.347142857143,
          20955.448571428573,
          21598.29,
          26929.207142857143,
          31974.01142857143,
          26201.61857142857,
          22628.15,
          23689.204285714284,
          23120.782857142858,
          20073.01142857143,
          20077.9,
          24591.891428571427,
          19746.26142857143,
          23885.544285714284,
          29538.141428571427,
          29813.415714285715,
          21966.002857142856,
          23731.025714285715,
          25987.27857142857,
          27071.681428571428,
          20624.501428571428,
          28063.998571428572,
          25555.87714285714,
          22541.082857142857,
          21016.66857142857,
          21927.605714285713,
          23547.394285714287,
          21007.51,
          30139.084285714285,
          25056.745714285713,
          26254.172857142858,
          23919.584285714285,
          21792.335714285713,
          28429.57,
          19597.87,
          33317.33571428571,
          23796.82051282051
         ]
        },
        {
         "line": {
          "color": "red"
         },
         "mode": "lines",
         "name": "Opposite",
         "showlegend": true,
         "type": "scatter",
         "x": [
          "1970-01-01T14:00:24.222876",
          "1970-01-01T14:01:51.048264",
          "1970-01-01T14:03:25.426493",
          "1970-01-01T14:05:18.851909",
          "1970-01-01T14:07:11.509792",
          "1970-01-01T14:08:58.954944",
          "1970-01-01T14:10:50.357039",
          "1970-01-01T14:13:11.628732",
          "1970-01-01T14:15:34.924078",
          "1970-01-01T14:18:15.198724",
          "1970-01-01T14:21:00.399145",
          "1970-01-01T14:23:22.343647",
          "1970-01-01T14:26:12.231301",
          "1970-01-01T14:28:55.372755",
          "1970-01-01T14:31:21.105121",
          "1970-01-01T14:34:09.665107",
          "1970-01-01T14:36:53.537033",
          "1970-01-01T14:39:57.542910",
          "1970-01-01T14:42:47.979164",
          "1970-01-01T14:46:02.268582",
          "1970-01-01T14:48:47.507256",
          "1970-01-01T14:51:22.035209",
          "1970-01-01T14:54:12.319816",
          "1970-01-01T14:56:52.989680",
          "1970-01-01T14:59:45.483117",
          "1970-01-01T15:02:50.045994",
          "1970-01-01T15:06:11.763001",
          "1970-01-01T15:09:49.507644",
          "1970-01-01T15:13:17.712482",
          "1970-01-01T15:16:40.164331",
          "1970-01-01T15:20:33.455110",
          "1970-01-01T15:24:15.108559",
          "1970-01-01T15:28:11.355127",
          "1970-01-01T15:31:55.040409",
          "1970-01-01T15:35:50.640239",
          "1970-01-01T15:40:04.486564",
          "1970-01-01T15:44:03.690193",
          "1970-01-01T15:48:54.225714",
          "1970-01-01T15:53:45.860459",
          "1970-01-01T15:58:27.504542",
          "1970-01-01T16:02:53.229115",
          "1970-01-01T16:07:01.738459",
          "1970-01-01T16:11:15.255917",
          "1970-01-01T16:15:59.074516",
          "1970-01-01T16:20:34.886210",
          "1970-01-01T16:25:39.794128",
          "1970-01-01T16:31:15.275991",
          "1970-01-01T16:37:22.217014",
          "1970-01-01T16:42:19.625346",
          "1970-01-01T16:47:12.779231",
          "1970-01-01T16:52:34.810600",
          "1970-01-01T16:57:57.126190",
          "1970-01-01T17:02:10.323983",
          "1970-01-01T17:06:13.141729",
          "1970-01-01T17:10:55.316532",
          "1970-01-01T17:16:36.815250",
          "1970-01-01T17:23:29.294261",
          "1970-01-01T17:28:38.147810",
          "1970-01-01T17:32:34.939599",
          "1970-01-01T17:37:14.431754",
          "1970-01-01T17:42:04.924529",
          "1970-01-01T17:47:15.868945",
          "1970-01-01T17:53:32.381014",
          "1970-01-01T17:59:47.420950",
          "1970-01-01T18:04:06.407342",
          "1970-01-01T18:08:09.047561",
          "1970-01-01T18:12:25.904738",
          "1970-01-01T18:18:18.111634",
          "1970-01-01T18:23:32.871363",
          "1970-01-01T18:28:55.825556",
          "1970-01-01T18:34:20.137532",
          "1970-01-01T18:40:43.619658",
          "1970-01-01T18:45:44.561640",
          "1970-01-01T18:51:25.305031",
          "1970-01-01T18:56:31.423564"
         ],
         "y": [
          19212.288571428573,
          18815.015714285713,
          20059.89285714286,
          27112.047142857144,
          21902.322857142855,
          22265.935714285715,
          23089.11142857143,
          25565.015714285713,
          30903.825714285715,
          24635.01,
          27395.08,
          29798.854285714286,
          28547.198571428573,
          31640.194285714286,
          32345.985714285714,
          26254.404285714285,
          25903.665714285715,
          30116.195714285714,
          25165.46285714286,
          27410.014285714286,
          27672.498571428572,
          27608.894285714287,
          29197.972857142857,
          75983.41571428571,
          33606.08142857143,
          27000.557142857142,
          31987.62714285714,
          32904.55428571429,
          60941.787142857145,
          42017.52285714286,
          35482.01,
          33242.22142857143,
          29544.61857142857,
          31958.91,
          33756.06,
          33612.485714285714,
          31476.404285714285,
          32843.76714285714,
          34673.51714285714,
          33888.24285714285,
          31968.09857142857,
          40717.99857142857,
          41994.42428571429,
          33369.77857142857,
          33422.71,
          31187.838571428572,
          30918.94,
          31855.415714285715,
          31278.821428571428,
          34366.04714285714,
          33609.70857142857,
          39175.602857142854,
          36395.852857142854,
          31216.66,
          36735.72857142857,
          36406.10571428572,
          40972.612857142856,
          64150.75,
          33723.374285714286,
          51303.10571428572,
          39060.76571428571,
          36927.96428571428,
          51091.852857142854,
          30671.27142857143,
          35545.96571428572,
          41627.647142857146,
          44277.23714285714,
          37384.50428571428,
          32912.68571428571,
          39977.30285714286,
          37180.33,
          34979.665714285715,
          33603.96428571428,
          63274.70285714286,
          55498.79788838612
         ]
        }
       ],
       "layout": {
        "showlegend": true,
        "template": {
         "data": {
          "bar": [
           {
            "error_x": {
             "color": "#2a3f5f"
            },
            "error_y": {
             "color": "#2a3f5f"
            },
            "marker": {
             "line": {
              "color": "#E5ECF6",
              "width": 0.5
             },
             "pattern": {
              "fillmode": "overlay",
              "size": 10,
              "solidity": 0.2
             }
            },
            "type": "bar"
           }
          ],
          "barpolar": [
           {
            "marker": {
             "line": {
              "color": "#E5ECF6",
              "width": 0.5
             },
             "pattern": {
              "fillmode": "overlay",
              "size": 10,
              "solidity": 0.2
             }
            },
            "type": "barpolar"
           }
          ],
          "carpet": [
           {
            "aaxis": {
             "endlinecolor": "#2a3f5f",
             "gridcolor": "white",
             "linecolor": "white",
             "minorgridcolor": "white",
             "startlinecolor": "#2a3f5f"
            },
            "baxis": {
             "endlinecolor": "#2a3f5f",
             "gridcolor": "white",
             "linecolor": "white",
             "minorgridcolor": "white",
             "startlinecolor": "#2a3f5f"
            },
            "type": "carpet"
           }
          ],
          "choropleth": [
           {
            "colorbar": {
             "outlinewidth": 0,
             "ticks": ""
            },
            "type": "choropleth"
           }
          ],
          "contour": [
           {
            "colorbar": {
             "outlinewidth": 0,
             "ticks": ""
            },
            "colorscale": [
             [
              0,
              "#0d0887"
             ],
             [
              0.1111111111111111,
              "#46039f"
             ],
             [
              0.2222222222222222,
              "#7201a8"
             ],
             [
              0.3333333333333333,
              "#9c179e"
             ],
             [
              0.4444444444444444,
              "#bd3786"
             ],
             [
              0.5555555555555556,
              "#d8576b"
             ],
             [
              0.6666666666666666,
              "#ed7953"
             ],
             [
              0.7777777777777778,
              "#fb9f3a"
             ],
             [
              0.8888888888888888,
              "#fdca26"
             ],
             [
              1,
              "#f0f921"
             ]
            ],
            "type": "contour"
           }
          ],
          "contourcarpet": [
           {
            "colorbar": {
             "outlinewidth": 0,
             "ticks": ""
            },
            "type": "contourcarpet"
           }
          ],
          "heatmap": [
           {
            "colorbar": {
             "outlinewidth": 0,
             "ticks": ""
            },
            "colorscale": [
             [
              0,
              "#0d0887"
             ],
             [
              0.1111111111111111,
              "#46039f"
             ],
             [
              0.2222222222222222,
              "#7201a8"
             ],
             [
              0.3333333333333333,
              "#9c179e"
             ],
             [
              0.4444444444444444,
              "#bd3786"
             ],
             [
              0.5555555555555556,
              "#d8576b"
             ],
             [
              0.6666666666666666,
              "#ed7953"
             ],
             [
              0.7777777777777778,
              "#fb9f3a"
             ],
             [
              0.8888888888888888,
              "#fdca26"
             ],
             [
              1,
              "#f0f921"
             ]
            ],
            "type": "heatmap"
           }
          ],
          "heatmapgl": [
           {
            "colorbar": {
             "outlinewidth": 0,
             "ticks": ""
            },
            "colorscale": [
             [
              0,
              "#0d0887"
             ],
             [
              0.1111111111111111,
              "#46039f"
             ],
             [
              0.2222222222222222,
              "#7201a8"
             ],
             [
              0.3333333333333333,
              "#9c179e"
             ],
             [
              0.4444444444444444,
              "#bd3786"
             ],
             [
              0.5555555555555556,
              "#d8576b"
             ],
             [
              0.6666666666666666,
              "#ed7953"
             ],
             [
              0.7777777777777778,
              "#fb9f3a"
             ],
             [
              0.8888888888888888,
              "#fdca26"
             ],
             [
              1,
              "#f0f921"
             ]
            ],
            "type": "heatmapgl"
           }
          ],
          "histogram": [
           {
            "marker": {
             "pattern": {
              "fillmode": "overlay",
              "size": 10,
              "solidity": 0.2
             }
            },
            "type": "histogram"
           }
          ],
          "histogram2d": [
           {
            "colorbar": {
             "outlinewidth": 0,
             "ticks": ""
            },
            "colorscale": [
             [
              0,
              "#0d0887"
             ],
             [
              0.1111111111111111,
              "#46039f"
             ],
             [
              0.2222222222222222,
              "#7201a8"
             ],
             [
              0.3333333333333333,
              "#9c179e"
             ],
             [
              0.4444444444444444,
              "#bd3786"
             ],
             [
              0.5555555555555556,
              "#d8576b"
             ],
             [
              0.6666666666666666,
              "#ed7953"
             ],
             [
              0.7777777777777778,
              "#fb9f3a"
             ],
             [
              0.8888888888888888,
              "#fdca26"
             ],
             [
              1,
              "#f0f921"
             ]
            ],
            "type": "histogram2d"
           }
          ],
          "histogram2dcontour": [
           {
            "colorbar": {
             "outlinewidth": 0,
             "ticks": ""
            },
            "colorscale": [
             [
              0,
              "#0d0887"
             ],
             [
              0.1111111111111111,
              "#46039f"
             ],
             [
              0.2222222222222222,
              "#7201a8"
             ],
             [
              0.3333333333333333,
              "#9c179e"
             ],
             [
              0.4444444444444444,
              "#bd3786"
             ],
             [
              0.5555555555555556,
              "#d8576b"
             ],
             [
              0.6666666666666666,
              "#ed7953"
             ],
             [
              0.7777777777777778,
              "#fb9f3a"
             ],
             [
              0.8888888888888888,
              "#fdca26"
             ],
             [
              1,
              "#f0f921"
             ]
            ],
            "type": "histogram2dcontour"
           }
          ],
          "mesh3d": [
           {
            "colorbar": {
             "outlinewidth": 0,
             "ticks": ""
            },
            "type": "mesh3d"
           }
          ],
          "parcoords": [
           {
            "line": {
             "colorbar": {
              "outlinewidth": 0,
              "ticks": ""
             }
            },
            "type": "parcoords"
           }
          ],
          "pie": [
           {
            "automargin": true,
            "type": "pie"
           }
          ],
          "scatter": [
           {
            "fillpattern": {
             "fillmode": "overlay",
             "size": 10,
             "solidity": 0.2
            },
            "type": "scatter"
           }
          ],
          "scatter3d": [
           {
            "line": {
             "colorbar": {
              "outlinewidth": 0,
              "ticks": ""
             }
            },
            "marker": {
             "colorbar": {
              "outlinewidth": 0,
              "ticks": ""
             }
            },
            "type": "scatter3d"
           }
          ],
          "scattercarpet": [
           {
            "marker": {
             "colorbar": {
              "outlinewidth": 0,
              "ticks": ""
             }
            },
            "type": "scattercarpet"
           }
          ],
          "scattergeo": [
           {
            "marker": {
             "colorbar": {
              "outlinewidth": 0,
              "ticks": ""
             }
            },
            "type": "scattergeo"
           }
          ],
          "scattergl": [
           {
            "marker": {
             "colorbar": {
              "outlinewidth": 0,
              "ticks": ""
             }
            },
            "type": "scattergl"
           }
          ],
          "scattermapbox": [
           {
            "marker": {
             "colorbar": {
              "outlinewidth": 0,
              "ticks": ""
             }
            },
            "type": "scattermapbox"
           }
          ],
          "scatterpolar": [
           {
            "marker": {
             "colorbar": {
              "outlinewidth": 0,
              "ticks": ""
             }
            },
            "type": "scatterpolar"
           }
          ],
          "scatterpolargl": [
           {
            "marker": {
             "colorbar": {
              "outlinewidth": 0,
              "ticks": ""
             }
            },
            "type": "scatterpolargl"
           }
          ],
          "scatterternary": [
           {
            "marker": {
             "colorbar": {
              "outlinewidth": 0,
              "ticks": ""
             }
            },
            "type": "scatterternary"
           }
          ],
          "surface": [
           {
            "colorbar": {
             "outlinewidth": 0,
             "ticks": ""
            },
            "colorscale": [
             [
              0,
              "#0d0887"
             ],
             [
              0.1111111111111111,
              "#46039f"
             ],
             [
              0.2222222222222222,
              "#7201a8"
             ],
             [
              0.3333333333333333,
              "#9c179e"
             ],
             [
              0.4444444444444444,
              "#bd3786"
             ],
             [
              0.5555555555555556,
              "#d8576b"
             ],
             [
              0.6666666666666666,
              "#ed7953"
             ],
             [
              0.7777777777777778,
              "#fb9f3a"
             ],
             [
              0.8888888888888888,
              "#fdca26"
             ],
             [
              1,
              "#f0f921"
             ]
            ],
            "type": "surface"
           }
          ],
          "table": [
           {
            "cells": {
             "fill": {
              "color": "#EBF0F8"
             },
             "line": {
              "color": "white"
             }
            },
            "header": {
             "fill": {
              "color": "#C8D4E3"
             },
             "line": {
              "color": "white"
             }
            },
            "type": "table"
           }
          ]
         },
         "layout": {
          "annotationdefaults": {
           "arrowcolor": "#2a3f5f",
           "arrowhead": 0,
           "arrowwidth": 1
          },
          "autotypenumbers": "strict",
          "coloraxis": {
           "colorbar": {
            "outlinewidth": 0,
            "ticks": ""
           }
          },
          "colorscale": {
           "diverging": [
            [
             0,
             "#8e0152"
            ],
            [
             0.1,
             "#c51b7d"
            ],
            [
             0.2,
             "#de77ae"
            ],
            [
             0.3,
             "#f1b6da"
            ],
            [
             0.4,
             "#fde0ef"
            ],
            [
             0.5,
             "#f7f7f7"
            ],
            [
             0.6,
             "#e6f5d0"
            ],
            [
             0.7,
             "#b8e186"
            ],
            [
             0.8,
             "#7fbc41"
            ],
            [
             0.9,
             "#4d9221"
            ],
            [
             1,
             "#276419"
            ]
           ],
           "sequential": [
            [
             0,
             "#0d0887"
            ],
            [
             0.1111111111111111,
             "#46039f"
            ],
            [
             0.2222222222222222,
             "#7201a8"
            ],
            [
             0.3333333333333333,
             "#9c179e"
            ],
            [
             0.4444444444444444,
             "#bd3786"
            ],
            [
             0.5555555555555556,
             "#d8576b"
            ],
            [
             0.6666666666666666,
             "#ed7953"
            ],
            [
             0.7777777777777778,
             "#fb9f3a"
            ],
            [
             0.8888888888888888,
             "#fdca26"
            ],
            [
             1,
             "#f0f921"
            ]
           ],
           "sequentialminus": [
            [
             0,
             "#0d0887"
            ],
            [
             0.1111111111111111,
             "#46039f"
            ],
            [
             0.2222222222222222,
             "#7201a8"
            ],
            [
             0.3333333333333333,
             "#9c179e"
            ],
            [
             0.4444444444444444,
             "#bd3786"
            ],
            [
             0.5555555555555556,
             "#d8576b"
            ],
            [
             0.6666666666666666,
             "#ed7953"
            ],
            [
             0.7777777777777778,
             "#fb9f3a"
            ],
            [
             0.8888888888888888,
             "#fdca26"
            ],
            [
             1,
             "#f0f921"
            ]
           ]
          },
          "colorway": [
           "#636efa",
           "#EF553B",
           "#00cc96",
           "#ab63fa",
           "#FFA15A",
           "#19d3f3",
           "#FF6692",
           "#B6E880",
           "#FF97FF",
           "#FECB52"
          ],
          "font": {
           "color": "#2a3f5f"
          },
          "geo": {
           "bgcolor": "white",
           "lakecolor": "white",
           "landcolor": "#E5ECF6",
           "showlakes": true,
           "showland": true,
           "subunitcolor": "white"
          },
          "hoverlabel": {
           "align": "left"
          },
          "hovermode": "closest",
          "mapbox": {
           "style": "light"
          },
          "paper_bgcolor": "white",
          "plot_bgcolor": "#E5ECF6",
          "polar": {
           "angularaxis": {
            "gridcolor": "white",
            "linecolor": "white",
            "ticks": ""
           },
           "bgcolor": "#E5ECF6",
           "radialaxis": {
            "gridcolor": "white",
            "linecolor": "white",
            "ticks": ""
           }
          },
          "scene": {
           "xaxis": {
            "backgroundcolor": "#E5ECF6",
            "gridcolor": "white",
            "gridwidth": 2,
            "linecolor": "white",
            "showbackground": true,
            "ticks": "",
            "zerolinecolor": "white"
           },
           "yaxis": {
            "backgroundcolor": "#E5ECF6",
            "gridcolor": "white",
            "gridwidth": 2,
            "linecolor": "white",
            "showbackground": true,
            "ticks": "",
            "zerolinecolor": "white"
           },
           "zaxis": {
            "backgroundcolor": "#E5ECF6",
            "gridcolor": "white",
            "gridwidth": 2,
            "linecolor": "white",
            "showbackground": true,
            "ticks": "",
            "zerolinecolor": "white"
           }
          },
          "shapedefaults": {
           "line": {
            "color": "#2a3f5f"
           }
          },
          "ternary": {
           "aaxis": {
            "gridcolor": "white",
            "linecolor": "white",
            "ticks": ""
           },
           "baxis": {
            "gridcolor": "white",
            "linecolor": "white",
            "ticks": ""
           },
           "bgcolor": "#E5ECF6",
           "caxis": {
            "gridcolor": "white",
            "linecolor": "white",
            "ticks": ""
           }
          },
          "title": {
           "x": 0.05
          },
          "xaxis": {
           "automargin": true,
           "gridcolor": "white",
           "linecolor": "white",
           "ticks": "",
           "title": {
            "standoff": 15
           },
           "zerolinecolor": "white",
           "zerolinewidth": 2
          },
          "yaxis": {
           "automargin": true,
           "gridcolor": "white",
           "linecolor": "white",
           "ticks": "",
           "title": {
            "standoff": 15
           },
           "zerolinecolor": "white",
           "zerolinewidth": 2
          }
         }
        },
        "title": {
         "text": "Queue size aux trades"
        },
        "xaxis": {
         "title": {
          "text": "time"
         }
        },
        "yaxis": {
         "title": {
          "text": "Queue size"
         }
        }
       }
      }
     },
     "metadata": {},
     "output_type": "display_data"
    },
    {
     "data": {
      "application/vnd.plotly.v1+json": {
       "config": {
        "plotlyServerURL": "https://plot.ly"
       },
       "data": [
        {
         "line": {
          "color": "blue"
         },
         "mode": "markers",
         "name": "same",
         "showlegend": true,
         "type": "scatter",
         "x": [
          19212.288571428573,
          18815.015714285713,
          20059.89285714286,
          27112.047142857144,
          21902.322857142855,
          22265.935714285715,
          23089.11142857143,
          25565.015714285713,
          30903.825714285715,
          24635.01,
          27395.08,
          29798.854285714286,
          28547.198571428573,
          31640.194285714286,
          32345.985714285714,
          26254.404285714285,
          25903.665714285715,
          30116.195714285714,
          25165.46285714286,
          27410.014285714286,
          27672.498571428572,
          27608.894285714287,
          29197.972857142857,
          75983.41571428571,
          33606.08142857143,
          27000.557142857142,
          31987.62714285714,
          32904.55428571429,
          60941.787142857145,
          42017.52285714286,
          35482.01,
          33242.22142857143,
          29544.61857142857,
          31958.91,
          33756.06,
          33612.485714285714,
          31476.404285714285,
          32843.76714285714,
          34673.51714285714,
          33888.24285714285,
          31968.09857142857,
          40717.99857142857,
          41994.42428571429,
          33369.77857142857,
          33422.71,
          31187.838571428572,
          30918.94,
          31855.415714285715,
          31278.821428571428,
          34366.04714285714,
          33609.70857142857,
          39175.602857142854,
          36395.852857142854,
          31216.66,
          36735.72857142857,
          36406.10571428572,
          40972.612857142856,
          64150.75,
          33723.374285714286,
          51303.10571428572,
          39060.76571428571,
          36927.96428571428,
          51091.852857142854,
          30671.27142857143,
          35545.96571428572,
          41627.647142857146,
          44277.23714285714,
          37384.50428571428,
          32912.68571428571,
          39977.30285714286,
          37180.33,
          34979.665714285715,
          33603.96428571428,
          63274.70285714286,
          55498.79788838612
         ],
         "y": [
          10333.87,
          12877.184285714286,
          15999.635714285714,
          15390.914285714285,
          21019.657142857144,
          24927.17,
          18546.914285714287,
          17519.722857142857,
          23514.845714285715,
          17246,
          19023.794285714284,
          21800.55857142857,
          27697.022857142856,
          23965.897142857142,
          24462.661428571428,
          21093.93857142857,
          18520.731428571427,
          21303.28714285714,
          19303.11,
          21833.237142857142,
          22185.972857142857,
          15893.115714285714,
          21983.497142857144,
          26438.931428571428,
          23370.637142857144,
          36516.834285714285,
          22470.44,
          25519.325714285715,
          26386.02142857143,
          22790.545714285716,
          28544.735714285714,
          23251.51,
          21708.755714285715,
          21797.347142857143,
          19230.71285714286,
          22539.4,
          23172.674285714285,
          23122.257142857143,
          21388.347142857143,
          20955.448571428573,
          21598.29,
          26929.207142857143,
          31974.01142857143,
          26201.61857142857,
          22628.15,
          23689.204285714284,
          23120.782857142858,
          20073.01142857143,
          20077.9,
          24591.891428571427,
          19746.26142857143,
          23885.544285714284,
          29538.141428571427,
          29813.415714285715,
          21966.002857142856,
          23731.025714285715,
          25987.27857142857,
          27071.681428571428,
          20624.501428571428,
          28063.998571428572,
          25555.87714285714,
          22541.082857142857,
          21016.66857142857,
          21927.605714285713,
          23547.394285714287,
          21007.51,
          30139.084285714285,
          25056.745714285713,
          26254.172857142858,
          23919.584285714285,
          21792.335714285713,
          28429.57,
          19597.87,
          33317.33571428571,
          23796.82051282051
         ]
        }
       ],
       "layout": {
        "showlegend": true,
        "template": {
         "data": {
          "bar": [
           {
            "error_x": {
             "color": "#2a3f5f"
            },
            "error_y": {
             "color": "#2a3f5f"
            },
            "marker": {
             "line": {
              "color": "#E5ECF6",
              "width": 0.5
             },
             "pattern": {
              "fillmode": "overlay",
              "size": 10,
              "solidity": 0.2
             }
            },
            "type": "bar"
           }
          ],
          "barpolar": [
           {
            "marker": {
             "line": {
              "color": "#E5ECF6",
              "width": 0.5
             },
             "pattern": {
              "fillmode": "overlay",
              "size": 10,
              "solidity": 0.2
             }
            },
            "type": "barpolar"
           }
          ],
          "carpet": [
           {
            "aaxis": {
             "endlinecolor": "#2a3f5f",
             "gridcolor": "white",
             "linecolor": "white",
             "minorgridcolor": "white",
             "startlinecolor": "#2a3f5f"
            },
            "baxis": {
             "endlinecolor": "#2a3f5f",
             "gridcolor": "white",
             "linecolor": "white",
             "minorgridcolor": "white",
             "startlinecolor": "#2a3f5f"
            },
            "type": "carpet"
           }
          ],
          "choropleth": [
           {
            "colorbar": {
             "outlinewidth": 0,
             "ticks": ""
            },
            "type": "choropleth"
           }
          ],
          "contour": [
           {
            "colorbar": {
             "outlinewidth": 0,
             "ticks": ""
            },
            "colorscale": [
             [
              0,
              "#0d0887"
             ],
             [
              0.1111111111111111,
              "#46039f"
             ],
             [
              0.2222222222222222,
              "#7201a8"
             ],
             [
              0.3333333333333333,
              "#9c179e"
             ],
             [
              0.4444444444444444,
              "#bd3786"
             ],
             [
              0.5555555555555556,
              "#d8576b"
             ],
             [
              0.6666666666666666,
              "#ed7953"
             ],
             [
              0.7777777777777778,
              "#fb9f3a"
             ],
             [
              0.8888888888888888,
              "#fdca26"
             ],
             [
              1,
              "#f0f921"
             ]
            ],
            "type": "contour"
           }
          ],
          "contourcarpet": [
           {
            "colorbar": {
             "outlinewidth": 0,
             "ticks": ""
            },
            "type": "contourcarpet"
           }
          ],
          "heatmap": [
           {
            "colorbar": {
             "outlinewidth": 0,
             "ticks": ""
            },
            "colorscale": [
             [
              0,
              "#0d0887"
             ],
             [
              0.1111111111111111,
              "#46039f"
             ],
             [
              0.2222222222222222,
              "#7201a8"
             ],
             [
              0.3333333333333333,
              "#9c179e"
             ],
             [
              0.4444444444444444,
              "#bd3786"
             ],
             [
              0.5555555555555556,
              "#d8576b"
             ],
             [
              0.6666666666666666,
              "#ed7953"
             ],
             [
              0.7777777777777778,
              "#fb9f3a"
             ],
             [
              0.8888888888888888,
              "#fdca26"
             ],
             [
              1,
              "#f0f921"
             ]
            ],
            "type": "heatmap"
           }
          ],
          "heatmapgl": [
           {
            "colorbar": {
             "outlinewidth": 0,
             "ticks": ""
            },
            "colorscale": [
             [
              0,
              "#0d0887"
             ],
             [
              0.1111111111111111,
              "#46039f"
             ],
             [
              0.2222222222222222,
              "#7201a8"
             ],
             [
              0.3333333333333333,
              "#9c179e"
             ],
             [
              0.4444444444444444,
              "#bd3786"
             ],
             [
              0.5555555555555556,
              "#d8576b"
             ],
             [
              0.6666666666666666,
              "#ed7953"
             ],
             [
              0.7777777777777778,
              "#fb9f3a"
             ],
             [
              0.8888888888888888,
              "#fdca26"
             ],
             [
              1,
              "#f0f921"
             ]
            ],
            "type": "heatmapgl"
           }
          ],
          "histogram": [
           {
            "marker": {
             "pattern": {
              "fillmode": "overlay",
              "size": 10,
              "solidity": 0.2
             }
            },
            "type": "histogram"
           }
          ],
          "histogram2d": [
           {
            "colorbar": {
             "outlinewidth": 0,
             "ticks": ""
            },
            "colorscale": [
             [
              0,
              "#0d0887"
             ],
             [
              0.1111111111111111,
              "#46039f"
             ],
             [
              0.2222222222222222,
              "#7201a8"
             ],
             [
              0.3333333333333333,
              "#9c179e"
             ],
             [
              0.4444444444444444,
              "#bd3786"
             ],
             [
              0.5555555555555556,
              "#d8576b"
             ],
             [
              0.6666666666666666,
              "#ed7953"
             ],
             [
              0.7777777777777778,
              "#fb9f3a"
             ],
             [
              0.8888888888888888,
              "#fdca26"
             ],
             [
              1,
              "#f0f921"
             ]
            ],
            "type": "histogram2d"
           }
          ],
          "histogram2dcontour": [
           {
            "colorbar": {
             "outlinewidth": 0,
             "ticks": ""
            },
            "colorscale": [
             [
              0,
              "#0d0887"
             ],
             [
              0.1111111111111111,
              "#46039f"
             ],
             [
              0.2222222222222222,
              "#7201a8"
             ],
             [
              0.3333333333333333,
              "#9c179e"
             ],
             [
              0.4444444444444444,
              "#bd3786"
             ],
             [
              0.5555555555555556,
              "#d8576b"
             ],
             [
              0.6666666666666666,
              "#ed7953"
             ],
             [
              0.7777777777777778,
              "#fb9f3a"
             ],
             [
              0.8888888888888888,
              "#fdca26"
             ],
             [
              1,
              "#f0f921"
             ]
            ],
            "type": "histogram2dcontour"
           }
          ],
          "mesh3d": [
           {
            "colorbar": {
             "outlinewidth": 0,
             "ticks": ""
            },
            "type": "mesh3d"
           }
          ],
          "parcoords": [
           {
            "line": {
             "colorbar": {
              "outlinewidth": 0,
              "ticks": ""
             }
            },
            "type": "parcoords"
           }
          ],
          "pie": [
           {
            "automargin": true,
            "type": "pie"
           }
          ],
          "scatter": [
           {
            "fillpattern": {
             "fillmode": "overlay",
             "size": 10,
             "solidity": 0.2
            },
            "type": "scatter"
           }
          ],
          "scatter3d": [
           {
            "line": {
             "colorbar": {
              "outlinewidth": 0,
              "ticks": ""
             }
            },
            "marker": {
             "colorbar": {
              "outlinewidth": 0,
              "ticks": ""
             }
            },
            "type": "scatter3d"
           }
          ],
          "scattercarpet": [
           {
            "marker": {
             "colorbar": {
              "outlinewidth": 0,
              "ticks": ""
             }
            },
            "type": "scattercarpet"
           }
          ],
          "scattergeo": [
           {
            "marker": {
             "colorbar": {
              "outlinewidth": 0,
              "ticks": ""
             }
            },
            "type": "scattergeo"
           }
          ],
          "scattergl": [
           {
            "marker": {
             "colorbar": {
              "outlinewidth": 0,
              "ticks": ""
             }
            },
            "type": "scattergl"
           }
          ],
          "scattermapbox": [
           {
            "marker": {
             "colorbar": {
              "outlinewidth": 0,
              "ticks": ""
             }
            },
            "type": "scattermapbox"
           }
          ],
          "scatterpolar": [
           {
            "marker": {
             "colorbar": {
              "outlinewidth": 0,
              "ticks": ""
             }
            },
            "type": "scatterpolar"
           }
          ],
          "scatterpolargl": [
           {
            "marker": {
             "colorbar": {
              "outlinewidth": 0,
              "ticks": ""
             }
            },
            "type": "scatterpolargl"
           }
          ],
          "scatterternary": [
           {
            "marker": {
             "colorbar": {
              "outlinewidth": 0,
              "ticks": ""
             }
            },
            "type": "scatterternary"
           }
          ],
          "surface": [
           {
            "colorbar": {
             "outlinewidth": 0,
             "ticks": ""
            },
            "colorscale": [
             [
              0,
              "#0d0887"
             ],
             [
              0.1111111111111111,
              "#46039f"
             ],
             [
              0.2222222222222222,
              "#7201a8"
             ],
             [
              0.3333333333333333,
              "#9c179e"
             ],
             [
              0.4444444444444444,
              "#bd3786"
             ],
             [
              0.5555555555555556,
              "#d8576b"
             ],
             [
              0.6666666666666666,
              "#ed7953"
             ],
             [
              0.7777777777777778,
              "#fb9f3a"
             ],
             [
              0.8888888888888888,
              "#fdca26"
             ],
             [
              1,
              "#f0f921"
             ]
            ],
            "type": "surface"
           }
          ],
          "table": [
           {
            "cells": {
             "fill": {
              "color": "#EBF0F8"
             },
             "line": {
              "color": "white"
             }
            },
            "header": {
             "fill": {
              "color": "#C8D4E3"
             },
             "line": {
              "color": "white"
             }
            },
            "type": "table"
           }
          ]
         },
         "layout": {
          "annotationdefaults": {
           "arrowcolor": "#2a3f5f",
           "arrowhead": 0,
           "arrowwidth": 1
          },
          "autotypenumbers": "strict",
          "coloraxis": {
           "colorbar": {
            "outlinewidth": 0,
            "ticks": ""
           }
          },
          "colorscale": {
           "diverging": [
            [
             0,
             "#8e0152"
            ],
            [
             0.1,
             "#c51b7d"
            ],
            [
             0.2,
             "#de77ae"
            ],
            [
             0.3,
             "#f1b6da"
            ],
            [
             0.4,
             "#fde0ef"
            ],
            [
             0.5,
             "#f7f7f7"
            ],
            [
             0.6,
             "#e6f5d0"
            ],
            [
             0.7,
             "#b8e186"
            ],
            [
             0.8,
             "#7fbc41"
            ],
            [
             0.9,
             "#4d9221"
            ],
            [
             1,
             "#276419"
            ]
           ],
           "sequential": [
            [
             0,
             "#0d0887"
            ],
            [
             0.1111111111111111,
             "#46039f"
            ],
            [
             0.2222222222222222,
             "#7201a8"
            ],
            [
             0.3333333333333333,
             "#9c179e"
            ],
            [
             0.4444444444444444,
             "#bd3786"
            ],
            [
             0.5555555555555556,
             "#d8576b"
            ],
            [
             0.6666666666666666,
             "#ed7953"
            ],
            [
             0.7777777777777778,
             "#fb9f3a"
            ],
            [
             0.8888888888888888,
             "#fdca26"
            ],
            [
             1,
             "#f0f921"
            ]
           ],
           "sequentialminus": [
            [
             0,
             "#0d0887"
            ],
            [
             0.1111111111111111,
             "#46039f"
            ],
            [
             0.2222222222222222,
             "#7201a8"
            ],
            [
             0.3333333333333333,
             "#9c179e"
            ],
            [
             0.4444444444444444,
             "#bd3786"
            ],
            [
             0.5555555555555556,
             "#d8576b"
            ],
            [
             0.6666666666666666,
             "#ed7953"
            ],
            [
             0.7777777777777778,
             "#fb9f3a"
            ],
            [
             0.8888888888888888,
             "#fdca26"
            ],
            [
             1,
             "#f0f921"
            ]
           ]
          },
          "colorway": [
           "#636efa",
           "#EF553B",
           "#00cc96",
           "#ab63fa",
           "#FFA15A",
           "#19d3f3",
           "#FF6692",
           "#B6E880",
           "#FF97FF",
           "#FECB52"
          ],
          "font": {
           "color": "#2a3f5f"
          },
          "geo": {
           "bgcolor": "white",
           "lakecolor": "white",
           "landcolor": "#E5ECF6",
           "showlakes": true,
           "showland": true,
           "subunitcolor": "white"
          },
          "hoverlabel": {
           "align": "left"
          },
          "hovermode": "closest",
          "mapbox": {
           "style": "light"
          },
          "paper_bgcolor": "white",
          "plot_bgcolor": "#E5ECF6",
          "polar": {
           "angularaxis": {
            "gridcolor": "white",
            "linecolor": "white",
            "ticks": ""
           },
           "bgcolor": "#E5ECF6",
           "radialaxis": {
            "gridcolor": "white",
            "linecolor": "white",
            "ticks": ""
           }
          },
          "scene": {
           "xaxis": {
            "backgroundcolor": "#E5ECF6",
            "gridcolor": "white",
            "gridwidth": 2,
            "linecolor": "white",
            "showbackground": true,
            "ticks": "",
            "zerolinecolor": "white"
           },
           "yaxis": {
            "backgroundcolor": "#E5ECF6",
            "gridcolor": "white",
            "gridwidth": 2,
            "linecolor": "white",
            "showbackground": true,
            "ticks": "",
            "zerolinecolor": "white"
           },
           "zaxis": {
            "backgroundcolor": "#E5ECF6",
            "gridcolor": "white",
            "gridwidth": 2,
            "linecolor": "white",
            "showbackground": true,
            "ticks": "",
            "zerolinecolor": "white"
           }
          },
          "shapedefaults": {
           "line": {
            "color": "#2a3f5f"
           }
          },
          "ternary": {
           "aaxis": {
            "gridcolor": "white",
            "linecolor": "white",
            "ticks": ""
           },
           "baxis": {
            "gridcolor": "white",
            "linecolor": "white",
            "ticks": ""
           },
           "bgcolor": "#E5ECF6",
           "caxis": {
            "gridcolor": "white",
            "linecolor": "white",
            "ticks": ""
           }
          },
          "title": {
           "x": 0.05
          },
          "xaxis": {
           "automargin": true,
           "gridcolor": "white",
           "linecolor": "white",
           "ticks": "",
           "title": {
            "standoff": 15
           },
           "zerolinecolor": "white",
           "zerolinewidth": 2
          },
          "yaxis": {
           "automargin": true,
           "gridcolor": "white",
           "linecolor": "white",
           "ticks": "",
           "title": {
            "standoff": 15
           },
           "zerolinecolor": "white",
           "zerolinewidth": 2
          }
         }
        },
        "title": {
         "text": "Heatmap Queue size aux trades"
        },
        "xaxis": {
         "title": {
          "text": "Queue size opposite"
         }
        },
        "yaxis": {
         "title": {
          "text": "Queue size same"
         }
        }
       }
      }
     },
     "metadata": {},
     "output_type": "display_data"
    },
    {
     "data": {
      "application/vnd.plotly.v1+json": {
       "config": {
        "plotlyServerURL": "https://plot.ly"
       },
       "data": [
        {
         "line": {
          "color": "blue"
         },
         "mode": "lines",
         "name": "same",
         "showlegend": true,
         "type": "scatter",
         "x": [
          "1970-01-01T14:00:30.991283",
          "1970-01-01T14:01:44.342068",
          "1970-01-01T14:02:56.407647",
          "1970-01-01T14:04:19.443265",
          "1970-01-01T14:05:44.792850",
          "1970-01-01T14:07:05.345105",
          "1970-01-01T14:08:33.683332",
          "1970-01-01T14:10:04.709524",
          "1970-01-01T14:11:36.185179",
          "1970-01-01T14:13:20.478305",
          "1970-01-01T14:15:07.423945",
          "1970-01-01T14:16:48.236031",
          "1970-01-01T14:18:41.292895",
          "1970-01-01T14:20:35.917956",
          "1970-01-01T14:22:23.460045",
          "1970-01-01T14:24:04.419896",
          "1970-01-01T14:25:55.161990",
          "1970-01-01T14:27:48.556128",
          "1970-01-01T14:29:44.257487",
          "1970-01-01T14:31:27.491746",
          "1970-01-01T14:33:24.607542",
          "1970-01-01T14:35:15.902122",
          "1970-01-01T14:37:06.703675",
          "1970-01-01T14:39:11.493848",
          "1970-01-01T14:41:14.719760",
          "1970-01-01T14:43:21.172956",
          "1970-01-01T14:45:37.574807",
          "1970-01-01T14:47:48.888207",
          "1970-01-01T14:49:49.336389",
          "1970-01-01T14:51:54.756359",
          "1970-01-01T14:54:00.898940",
          "1970-01-01T14:56:14.218331",
          "1970-01-01T14:58:28.275897",
          "1970-01-01T15:00:37.035384",
          "1970-01-01T15:02:55.771420",
          "1970-01-01T15:05:26.598478",
          "1970-01-01T15:07:51.248318",
          "1970-01-01T15:10:20.958449",
          "1970-01-01T15:12:42.152073",
          "1970-01-01T15:15:18.478869",
          "1970-01-01T15:17:52.778240",
          "1970-01-01T15:20:39.280279",
          "1970-01-01T15:23:20.907356",
          "1970-01-01T15:26:06.953788",
          "1970-01-01T15:29:00.081825",
          "1970-01-01T15:31:33.697881",
          "1970-01-01T15:34:15.734753",
          "1970-01-01T15:37:14.384107",
          "1970-01-01T15:40:21.837242",
          "1970-01-01T15:43:09.347412",
          "1970-01-01T15:46:09.159906",
          "1970-01-01T15:49:07.624896",
          "1970-01-01T15:52:17.695702",
          "1970-01-01T15:55:27.324255",
          "1970-01-01T15:58:35.996035",
          "1970-01-01T16:01:32.501801",
          "1970-01-01T16:04:35.722178",
          "1970-01-01T16:07:29.256897",
          "1970-01-01T16:10:37.610530",
          "1970-01-01T16:13:41.615988",
          "1970-01-01T16:16:51.100667",
          "1970-01-01T16:20:17.132367",
          "1970-01-01T16:23:59.691848",
          "1970-01-01T16:27:21.316786",
          "1970-01-01T16:30:52.163618",
          "1970-01-01T16:34:29.647514",
          "1970-01-01T16:37:58.875992",
          "1970-01-01T16:41:27.794170",
          "1970-01-01T16:44:41.414973",
          "1970-01-01T16:48:30.239013",
          "1970-01-01T16:52:08.610815",
          "1970-01-01T16:55:32.718950",
          "1970-01-01T16:59:13.369747",
          "1970-01-01T17:02:25.389802",
          "1970-01-01T17:05:28.725304",
          "1970-01-01T17:08:39.783734",
          "1970-01-01T17:12:11.206286",
          "1970-01-01T17:15:58.532435",
          "1970-01-01T17:20:17.154942",
          "1970-01-01T17:24:19.739309",
          "1970-01-01T17:28:03.731897",
          "1970-01-01T17:31:29.195253",
          "1970-01-01T17:34:58.490481",
          "1970-01-01T17:38:37.664743",
          "1970-01-01T17:42:08.045663",
          "1970-01-01T17:45:36.664914",
          "1970-01-01T17:49:29.791465",
          "1970-01-01T17:53:23.106700",
          "1970-01-01T17:57:42.959956",
          "1970-01-01T18:01:21.646073",
          "1970-01-01T18:04:52.353370",
          "1970-01-01T18:08:16.553607",
          "1970-01-01T18:11:44.719742",
          "1970-01-01T18:15:23.547073",
          "1970-01-01T18:19:08.306935",
          "1970-01-01T18:22:53.712339",
          "1970-01-01T18:26:44.314005",
          "1970-01-01T18:30:40.069504",
          "1970-01-01T18:34:22.172604",
          "1970-01-01T18:38:21.169990",
          "1970-01-01T18:42:12.667343",
          "1970-01-01T18:45:54.799584",
          "1970-01-01T18:49:59.273343",
          "1970-01-01T18:53:46.424339",
          "1970-01-01T18:57:04.621473"
         ],
         "y": [
          19547.4536,
          19496.8555,
          22384.9154,
          24030.0508,
          25447.2068,
          28708.4634,
          25106.4098,
          27289.7865,
          25124.8022,
          26858.4287,
          30880.8688,
          30096.9027,
          27654.7168,
          28064.7655,
          28186.2271,
          30065.9689,
          32497.6914,
          31767.7755,
          29234.4951,
          33962.9949,
          31037.9815,
          34614.1395,
          31346.025,
          31541.7129,
          31997.1805,
          29794.3204,
          32457.8681,
          31683.2743,
          33919.3026,
          31279.7593,
          39247.0296,
          77285.6592,
          85861.4509,
          49977.5946,
          32728.9599,
          34816.0547,
          38961.9897,
          35398.6937,
          42687.2093,
          42451.6611,
          34149.769,
          37120.719,
          36178.1915,
          36116.9272,
          36919.3806,
          36252.745,
          32420.5193,
          31837.0316,
          33202.0202,
          34962.9563,
          34841.878,
          34234.7102,
          39267.9155,
          36273.678,
          35688.7954,
          34169.5494,
          41273.467,
          40299.5395,
          37326.525,
          38115.5942,
          37585.2183,
          35439.6515,
          35055.4439,
          35344.8387,
          33539.3282,
          31790.5811,
          33073.6889,
          33885.8685,
          35976.3998,
          36329.0878,
          38013.6423,
          37467.2045,
          45783.393,
          44090.2991,
          40068.4104,
          36606.5933,
          36885.3919,
          35437.869,
          37721.3905,
          39589.9148,
          42529.6817,
          41286.979,
          47609.5712,
          44628.6409,
          41867.1014,
          39508.8732,
          39394.8088,
          40432.5946,
          38950.6746,
          35616.2477,
          38820.7887,
          38824.7439,
          43531.6715,
          48935.0403,
          38258.9288,
          38032.259,
          38733.2981,
          37849.624,
          35993.2543,
          38975.6332,
          35626.944,
          37526.911,
          38082.8848,
          68004.6378,
          55892.059383499545
         ]
        },
        {
         "line": {
          "color": "red"
         },
         "mode": "lines",
         "name": "Opposite",
         "showlegend": true,
         "type": "scatter",
         "x": [
          "1970-01-01T14:00:30.991283",
          "1970-01-01T14:01:44.342068",
          "1970-01-01T14:02:56.407647",
          "1970-01-01T14:04:19.443265",
          "1970-01-01T14:05:44.792850",
          "1970-01-01T14:07:05.345105",
          "1970-01-01T14:08:33.683332",
          "1970-01-01T14:10:04.709524",
          "1970-01-01T14:11:36.185179",
          "1970-01-01T14:13:20.478305",
          "1970-01-01T14:15:07.423945",
          "1970-01-01T14:16:48.236031",
          "1970-01-01T14:18:41.292895",
          "1970-01-01T14:20:35.917956",
          "1970-01-01T14:22:23.460045",
          "1970-01-01T14:24:04.419896",
          "1970-01-01T14:25:55.161990",
          "1970-01-01T14:27:48.556128",
          "1970-01-01T14:29:44.257487",
          "1970-01-01T14:31:27.491746",
          "1970-01-01T14:33:24.607542",
          "1970-01-01T14:35:15.902122",
          "1970-01-01T14:37:06.703675",
          "1970-01-01T14:39:11.493848",
          "1970-01-01T14:41:14.719760",
          "1970-01-01T14:43:21.172956",
          "1970-01-01T14:45:37.574807",
          "1970-01-01T14:47:48.888207",
          "1970-01-01T14:49:49.336389",
          "1970-01-01T14:51:54.756359",
          "1970-01-01T14:54:00.898940",
          "1970-01-01T14:56:14.218331",
          "1970-01-01T14:58:28.275897",
          "1970-01-01T15:00:37.035384",
          "1970-01-01T15:02:55.771420",
          "1970-01-01T15:05:26.598478",
          "1970-01-01T15:07:51.248318",
          "1970-01-01T15:10:20.958449",
          "1970-01-01T15:12:42.152073",
          "1970-01-01T15:15:18.478869",
          "1970-01-01T15:17:52.778240",
          "1970-01-01T15:20:39.280279",
          "1970-01-01T15:23:20.907356",
          "1970-01-01T15:26:06.953788",
          "1970-01-01T15:29:00.081825",
          "1970-01-01T15:31:33.697881",
          "1970-01-01T15:34:15.734753",
          "1970-01-01T15:37:14.384107",
          "1970-01-01T15:40:21.837242",
          "1970-01-01T15:43:09.347412",
          "1970-01-01T15:46:09.159906",
          "1970-01-01T15:49:07.624896",
          "1970-01-01T15:52:17.695702",
          "1970-01-01T15:55:27.324255",
          "1970-01-01T15:58:35.996035",
          "1970-01-01T16:01:32.501801",
          "1970-01-01T16:04:35.722178",
          "1970-01-01T16:07:29.256897",
          "1970-01-01T16:10:37.610530",
          "1970-01-01T16:13:41.615988",
          "1970-01-01T16:16:51.100667",
          "1970-01-01T16:20:17.132367",
          "1970-01-01T16:23:59.691848",
          "1970-01-01T16:27:21.316786",
          "1970-01-01T16:30:52.163618",
          "1970-01-01T16:34:29.647514",
          "1970-01-01T16:37:58.875992",
          "1970-01-01T16:41:27.794170",
          "1970-01-01T16:44:41.414973",
          "1970-01-01T16:48:30.239013",
          "1970-01-01T16:52:08.610815",
          "1970-01-01T16:55:32.718950",
          "1970-01-01T16:59:13.369747",
          "1970-01-01T17:02:25.389802",
          "1970-01-01T17:05:28.725304",
          "1970-01-01T17:08:39.783734",
          "1970-01-01T17:12:11.206286",
          "1970-01-01T17:15:58.532435",
          "1970-01-01T17:20:17.154942",
          "1970-01-01T17:24:19.739309",
          "1970-01-01T17:28:03.731897",
          "1970-01-01T17:31:29.195253",
          "1970-01-01T17:34:58.490481",
          "1970-01-01T17:38:37.664743",
          "1970-01-01T17:42:08.045663",
          "1970-01-01T17:45:36.664914",
          "1970-01-01T17:49:29.791465",
          "1970-01-01T17:53:23.106700",
          "1970-01-01T17:57:42.959956",
          "1970-01-01T18:01:21.646073",
          "1970-01-01T18:04:52.353370",
          "1970-01-01T18:08:16.553607",
          "1970-01-01T18:11:44.719742",
          "1970-01-01T18:15:23.547073",
          "1970-01-01T18:19:08.306935",
          "1970-01-01T18:22:53.712339",
          "1970-01-01T18:26:44.314005",
          "1970-01-01T18:30:40.069504",
          "1970-01-01T18:34:22.172604",
          "1970-01-01T18:38:21.169990",
          "1970-01-01T18:42:12.667343",
          "1970-01-01T18:45:54.799584",
          "1970-01-01T18:49:59.273343",
          "1970-01-01T18:53:46.424339",
          "1970-01-01T18:57:04.621473"
         ],
         "y": [
          13789.0715,
          13386.4442,
          16084.9036,
          15528.4625,
          19017.7533,
          21477.72,
          19780.106,
          20750.7137,
          19603.8005,
          19404.1667,
          23582.1245,
          23226.1689,
          21446.3019,
          22132.3197,
          24850.8455,
          23181.5298,
          25077.4095,
          24728.818,
          23087.444,
          25357.6356,
          21956.2901,
          23488.6793,
          20453.0164,
          21928.6213,
          23130.0443,
          20943.7442,
          23283.447,
          22519.9921,
          22679.2867,
          22126.8412,
          27144.2338,
          36520.7346,
          48703.4465,
          34326.6426,
          25834.0494,
          25496.7492,
          27750.8766,
          26919.4189,
          27581.3804,
          25091.9176,
          25197.9371,
          26519.0223,
          25062.6734,
          26439.5666,
          25575.073,
          26001.8209,
          24626.7462,
          25134.1071,
          23718.432,
          26281.0897,
          24636.9475,
          29302.2537,
          30037.449,
          28210.6402,
          25603.2152,
          24792.0634,
          27925.656,
          27963.8249,
          27640.5797,
          26980.1658,
          26711.6743,
          26634.8542,
          25541.7216,
          26884.2911,
          24706.4172,
          23150.8137,
          23431.0313,
          24206.5993,
          26516.1505,
          26643.9339,
          25339.8259,
          24918.4885,
          27497.3596,
          29332.2782,
          26894.6253,
          27247.3104,
          27585.558,
          27419.8828,
          28543.4181,
          28032.5245,
          28329.5208,
          25063.1146,
          28830.2687,
          33267.0902,
          29995.7529,
          27908.3724,
          28660.158,
          29026.7985,
          25828.2051,
          25792.806,
          26222.3407,
          27919.7384,
          28854.844,
          44379.3448,
          29126.3753,
          29308.3955,
          28080.1234,
          27954.8011,
          28110.892,
          29906.8364,
          28295.123,
          29227.0513,
          28780.6987,
          37395.3108,
          26385.223594741612
         ]
        }
       ],
       "layout": {
        "showlegend": true,
        "template": {
         "data": {
          "bar": [
           {
            "error_x": {
             "color": "#2a3f5f"
            },
            "error_y": {
             "color": "#2a3f5f"
            },
            "marker": {
             "line": {
              "color": "#E5ECF6",
              "width": 0.5
             },
             "pattern": {
              "fillmode": "overlay",
              "size": 10,
              "solidity": 0.2
             }
            },
            "type": "bar"
           }
          ],
          "barpolar": [
           {
            "marker": {
             "line": {
              "color": "#E5ECF6",
              "width": 0.5
             },
             "pattern": {
              "fillmode": "overlay",
              "size": 10,
              "solidity": 0.2
             }
            },
            "type": "barpolar"
           }
          ],
          "carpet": [
           {
            "aaxis": {
             "endlinecolor": "#2a3f5f",
             "gridcolor": "white",
             "linecolor": "white",
             "minorgridcolor": "white",
             "startlinecolor": "#2a3f5f"
            },
            "baxis": {
             "endlinecolor": "#2a3f5f",
             "gridcolor": "white",
             "linecolor": "white",
             "minorgridcolor": "white",
             "startlinecolor": "#2a3f5f"
            },
            "type": "carpet"
           }
          ],
          "choropleth": [
           {
            "colorbar": {
             "outlinewidth": 0,
             "ticks": ""
            },
            "type": "choropleth"
           }
          ],
          "contour": [
           {
            "colorbar": {
             "outlinewidth": 0,
             "ticks": ""
            },
            "colorscale": [
             [
              0,
              "#0d0887"
             ],
             [
              0.1111111111111111,
              "#46039f"
             ],
             [
              0.2222222222222222,
              "#7201a8"
             ],
             [
              0.3333333333333333,
              "#9c179e"
             ],
             [
              0.4444444444444444,
              "#bd3786"
             ],
             [
              0.5555555555555556,
              "#d8576b"
             ],
             [
              0.6666666666666666,
              "#ed7953"
             ],
             [
              0.7777777777777778,
              "#fb9f3a"
             ],
             [
              0.8888888888888888,
              "#fdca26"
             ],
             [
              1,
              "#f0f921"
             ]
            ],
            "type": "contour"
           }
          ],
          "contourcarpet": [
           {
            "colorbar": {
             "outlinewidth": 0,
             "ticks": ""
            },
            "type": "contourcarpet"
           }
          ],
          "heatmap": [
           {
            "colorbar": {
             "outlinewidth": 0,
             "ticks": ""
            },
            "colorscale": [
             [
              0,
              "#0d0887"
             ],
             [
              0.1111111111111111,
              "#46039f"
             ],
             [
              0.2222222222222222,
              "#7201a8"
             ],
             [
              0.3333333333333333,
              "#9c179e"
             ],
             [
              0.4444444444444444,
              "#bd3786"
             ],
             [
              0.5555555555555556,
              "#d8576b"
             ],
             [
              0.6666666666666666,
              "#ed7953"
             ],
             [
              0.7777777777777778,
              "#fb9f3a"
             ],
             [
              0.8888888888888888,
              "#fdca26"
             ],
             [
              1,
              "#f0f921"
             ]
            ],
            "type": "heatmap"
           }
          ],
          "heatmapgl": [
           {
            "colorbar": {
             "outlinewidth": 0,
             "ticks": ""
            },
            "colorscale": [
             [
              0,
              "#0d0887"
             ],
             [
              0.1111111111111111,
              "#46039f"
             ],
             [
              0.2222222222222222,
              "#7201a8"
             ],
             [
              0.3333333333333333,
              "#9c179e"
             ],
             [
              0.4444444444444444,
              "#bd3786"
             ],
             [
              0.5555555555555556,
              "#d8576b"
             ],
             [
              0.6666666666666666,
              "#ed7953"
             ],
             [
              0.7777777777777778,
              "#fb9f3a"
             ],
             [
              0.8888888888888888,
              "#fdca26"
             ],
             [
              1,
              "#f0f921"
             ]
            ],
            "type": "heatmapgl"
           }
          ],
          "histogram": [
           {
            "marker": {
             "pattern": {
              "fillmode": "overlay",
              "size": 10,
              "solidity": 0.2
             }
            },
            "type": "histogram"
           }
          ],
          "histogram2d": [
           {
            "colorbar": {
             "outlinewidth": 0,
             "ticks": ""
            },
            "colorscale": [
             [
              0,
              "#0d0887"
             ],
             [
              0.1111111111111111,
              "#46039f"
             ],
             [
              0.2222222222222222,
              "#7201a8"
             ],
             [
              0.3333333333333333,
              "#9c179e"
             ],
             [
              0.4444444444444444,
              "#bd3786"
             ],
             [
              0.5555555555555556,
              "#d8576b"
             ],
             [
              0.6666666666666666,
              "#ed7953"
             ],
             [
              0.7777777777777778,
              "#fb9f3a"
             ],
             [
              0.8888888888888888,
              "#fdca26"
             ],
             [
              1,
              "#f0f921"
             ]
            ],
            "type": "histogram2d"
           }
          ],
          "histogram2dcontour": [
           {
            "colorbar": {
             "outlinewidth": 0,
             "ticks": ""
            },
            "colorscale": [
             [
              0,
              "#0d0887"
             ],
             [
              0.1111111111111111,
              "#46039f"
             ],
             [
              0.2222222222222222,
              "#7201a8"
             ],
             [
              0.3333333333333333,
              "#9c179e"
             ],
             [
              0.4444444444444444,
              "#bd3786"
             ],
             [
              0.5555555555555556,
              "#d8576b"
             ],
             [
              0.6666666666666666,
              "#ed7953"
             ],
             [
              0.7777777777777778,
              "#fb9f3a"
             ],
             [
              0.8888888888888888,
              "#fdca26"
             ],
             [
              1,
              "#f0f921"
             ]
            ],
            "type": "histogram2dcontour"
           }
          ],
          "mesh3d": [
           {
            "colorbar": {
             "outlinewidth": 0,
             "ticks": ""
            },
            "type": "mesh3d"
           }
          ],
          "parcoords": [
           {
            "line": {
             "colorbar": {
              "outlinewidth": 0,
              "ticks": ""
             }
            },
            "type": "parcoords"
           }
          ],
          "pie": [
           {
            "automargin": true,
            "type": "pie"
           }
          ],
          "scatter": [
           {
            "fillpattern": {
             "fillmode": "overlay",
             "size": 10,
             "solidity": 0.2
            },
            "type": "scatter"
           }
          ],
          "scatter3d": [
           {
            "line": {
             "colorbar": {
              "outlinewidth": 0,
              "ticks": ""
             }
            },
            "marker": {
             "colorbar": {
              "outlinewidth": 0,
              "ticks": ""
             }
            },
            "type": "scatter3d"
           }
          ],
          "scattercarpet": [
           {
            "marker": {
             "colorbar": {
              "outlinewidth": 0,
              "ticks": ""
             }
            },
            "type": "scattercarpet"
           }
          ],
          "scattergeo": [
           {
            "marker": {
             "colorbar": {
              "outlinewidth": 0,
              "ticks": ""
             }
            },
            "type": "scattergeo"
           }
          ],
          "scattergl": [
           {
            "marker": {
             "colorbar": {
              "outlinewidth": 0,
              "ticks": ""
             }
            },
            "type": "scattergl"
           }
          ],
          "scattermapbox": [
           {
            "marker": {
             "colorbar": {
              "outlinewidth": 0,
              "ticks": ""
             }
            },
            "type": "scattermapbox"
           }
          ],
          "scatterpolar": [
           {
            "marker": {
             "colorbar": {
              "outlinewidth": 0,
              "ticks": ""
             }
            },
            "type": "scatterpolar"
           }
          ],
          "scatterpolargl": [
           {
            "marker": {
             "colorbar": {
              "outlinewidth": 0,
              "ticks": ""
             }
            },
            "type": "scatterpolargl"
           }
          ],
          "scatterternary": [
           {
            "marker": {
             "colorbar": {
              "outlinewidth": 0,
              "ticks": ""
             }
            },
            "type": "scatterternary"
           }
          ],
          "surface": [
           {
            "colorbar": {
             "outlinewidth": 0,
             "ticks": ""
            },
            "colorscale": [
             [
              0,
              "#0d0887"
             ],
             [
              0.1111111111111111,
              "#46039f"
             ],
             [
              0.2222222222222222,
              "#7201a8"
             ],
             [
              0.3333333333333333,
              "#9c179e"
             ],
             [
              0.4444444444444444,
              "#bd3786"
             ],
             [
              0.5555555555555556,
              "#d8576b"
             ],
             [
              0.6666666666666666,
              "#ed7953"
             ],
             [
              0.7777777777777778,
              "#fb9f3a"
             ],
             [
              0.8888888888888888,
              "#fdca26"
             ],
             [
              1,
              "#f0f921"
             ]
            ],
            "type": "surface"
           }
          ],
          "table": [
           {
            "cells": {
             "fill": {
              "color": "#EBF0F8"
             },
             "line": {
              "color": "white"
             }
            },
            "header": {
             "fill": {
              "color": "#C8D4E3"
             },
             "line": {
              "color": "white"
             }
            },
            "type": "table"
           }
          ]
         },
         "layout": {
          "annotationdefaults": {
           "arrowcolor": "#2a3f5f",
           "arrowhead": 0,
           "arrowwidth": 1
          },
          "autotypenumbers": "strict",
          "coloraxis": {
           "colorbar": {
            "outlinewidth": 0,
            "ticks": ""
           }
          },
          "colorscale": {
           "diverging": [
            [
             0,
             "#8e0152"
            ],
            [
             0.1,
             "#c51b7d"
            ],
            [
             0.2,
             "#de77ae"
            ],
            [
             0.3,
             "#f1b6da"
            ],
            [
             0.4,
             "#fde0ef"
            ],
            [
             0.5,
             "#f7f7f7"
            ],
            [
             0.6,
             "#e6f5d0"
            ],
            [
             0.7,
             "#b8e186"
            ],
            [
             0.8,
             "#7fbc41"
            ],
            [
             0.9,
             "#4d9221"
            ],
            [
             1,
             "#276419"
            ]
           ],
           "sequential": [
            [
             0,
             "#0d0887"
            ],
            [
             0.1111111111111111,
             "#46039f"
            ],
            [
             0.2222222222222222,
             "#7201a8"
            ],
            [
             0.3333333333333333,
             "#9c179e"
            ],
            [
             0.4444444444444444,
             "#bd3786"
            ],
            [
             0.5555555555555556,
             "#d8576b"
            ],
            [
             0.6666666666666666,
             "#ed7953"
            ],
            [
             0.7777777777777778,
             "#fb9f3a"
            ],
            [
             0.8888888888888888,
             "#fdca26"
            ],
            [
             1,
             "#f0f921"
            ]
           ],
           "sequentialminus": [
            [
             0,
             "#0d0887"
            ],
            [
             0.1111111111111111,
             "#46039f"
            ],
            [
             0.2222222222222222,
             "#7201a8"
            ],
            [
             0.3333333333333333,
             "#9c179e"
            ],
            [
             0.4444444444444444,
             "#bd3786"
            ],
            [
             0.5555555555555556,
             "#d8576b"
            ],
            [
             0.6666666666666666,
             "#ed7953"
            ],
            [
             0.7777777777777778,
             "#fb9f3a"
            ],
            [
             0.8888888888888888,
             "#fdca26"
            ],
            [
             1,
             "#f0f921"
            ]
           ]
          },
          "colorway": [
           "#636efa",
           "#EF553B",
           "#00cc96",
           "#ab63fa",
           "#FFA15A",
           "#19d3f3",
           "#FF6692",
           "#B6E880",
           "#FF97FF",
           "#FECB52"
          ],
          "font": {
           "color": "#2a3f5f"
          },
          "geo": {
           "bgcolor": "white",
           "lakecolor": "white",
           "landcolor": "#E5ECF6",
           "showlakes": true,
           "showland": true,
           "subunitcolor": "white"
          },
          "hoverlabel": {
           "align": "left"
          },
          "hovermode": "closest",
          "mapbox": {
           "style": "light"
          },
          "paper_bgcolor": "white",
          "plot_bgcolor": "#E5ECF6",
          "polar": {
           "angularaxis": {
            "gridcolor": "white",
            "linecolor": "white",
            "ticks": ""
           },
           "bgcolor": "#E5ECF6",
           "radialaxis": {
            "gridcolor": "white",
            "linecolor": "white",
            "ticks": ""
           }
          },
          "scene": {
           "xaxis": {
            "backgroundcolor": "#E5ECF6",
            "gridcolor": "white",
            "gridwidth": 2,
            "linecolor": "white",
            "showbackground": true,
            "ticks": "",
            "zerolinecolor": "white"
           },
           "yaxis": {
            "backgroundcolor": "#E5ECF6",
            "gridcolor": "white",
            "gridwidth": 2,
            "linecolor": "white",
            "showbackground": true,
            "ticks": "",
            "zerolinecolor": "white"
           },
           "zaxis": {
            "backgroundcolor": "#E5ECF6",
            "gridcolor": "white",
            "gridwidth": 2,
            "linecolor": "white",
            "showbackground": true,
            "ticks": "",
            "zerolinecolor": "white"
           }
          },
          "shapedefaults": {
           "line": {
            "color": "#2a3f5f"
           }
          },
          "ternary": {
           "aaxis": {
            "gridcolor": "white",
            "linecolor": "white",
            "ticks": ""
           },
           "baxis": {
            "gridcolor": "white",
            "linecolor": "white",
            "ticks": ""
           },
           "bgcolor": "#E5ECF6",
           "caxis": {
            "gridcolor": "white",
            "linecolor": "white",
            "ticks": ""
           }
          },
          "title": {
           "x": 0.05
          },
          "xaxis": {
           "automargin": true,
           "gridcolor": "white",
           "linecolor": "white",
           "ticks": "",
           "title": {
            "standoff": 15
           },
           "zerolinecolor": "white",
           "zerolinewidth": 2
          },
          "yaxis": {
           "automargin": true,
           "gridcolor": "white",
           "linecolor": "white",
           "ticks": "",
           "title": {
            "standoff": 15
           },
           "zerolinecolor": "white",
           "zerolinewidth": 2
          }
         }
        },
        "title": {
         "text": "Queue size aux add"
        },
        "xaxis": {
         "title": {
          "text": "time"
         }
        },
        "yaxis": {
         "title": {
          "text": "Queue size"
         }
        }
       }
      }
     },
     "metadata": {},
     "output_type": "display_data"
    },
    {
     "data": {
      "application/vnd.plotly.v1+json": {
       "config": {
        "plotlyServerURL": "https://plot.ly"
       },
       "data": [
        {
         "line": {
          "color": "blue"
         },
         "mode": "markers",
         "name": "same",
         "showlegend": true,
         "type": "scatter",
         "x": [
          13789.0715,
          13386.4442,
          16084.9036,
          15528.4625,
          19017.7533,
          21477.72,
          19780.106,
          20750.7137,
          19603.8005,
          19404.1667,
          23582.1245,
          23226.1689,
          21446.3019,
          22132.3197,
          24850.8455,
          23181.5298,
          25077.4095,
          24728.818,
          23087.444,
          25357.6356,
          21956.2901,
          23488.6793,
          20453.0164,
          21928.6213,
          23130.0443,
          20943.7442,
          23283.447,
          22519.9921,
          22679.2867,
          22126.8412,
          27144.2338,
          36520.7346,
          48703.4465,
          34326.6426,
          25834.0494,
          25496.7492,
          27750.8766,
          26919.4189,
          27581.3804,
          25091.9176,
          25197.9371,
          26519.0223,
          25062.6734,
          26439.5666,
          25575.073,
          26001.8209,
          24626.7462,
          25134.1071,
          23718.432,
          26281.0897,
          24636.9475,
          29302.2537,
          30037.449,
          28210.6402,
          25603.2152,
          24792.0634,
          27925.656,
          27963.8249,
          27640.5797,
          26980.1658,
          26711.6743,
          26634.8542,
          25541.7216,
          26884.2911,
          24706.4172,
          23150.8137,
          23431.0313,
          24206.5993,
          26516.1505,
          26643.9339,
          25339.8259,
          24918.4885,
          27497.3596,
          29332.2782,
          26894.6253,
          27247.3104,
          27585.558,
          27419.8828,
          28543.4181,
          28032.5245,
          28329.5208,
          25063.1146,
          28830.2687,
          33267.0902,
          29995.7529,
          27908.3724,
          28660.158,
          29026.7985,
          25828.2051,
          25792.806,
          26222.3407,
          27919.7384,
          28854.844,
          44379.3448,
          29126.3753,
          29308.3955,
          28080.1234,
          27954.8011,
          28110.892,
          29906.8364,
          28295.123,
          29227.0513,
          28780.6987,
          37395.3108,
          26385.223594741612
         ],
         "y": [
          19547.4536,
          19496.8555,
          22384.9154,
          24030.0508,
          25447.2068,
          28708.4634,
          25106.4098,
          27289.7865,
          25124.8022,
          26858.4287,
          30880.8688,
          30096.9027,
          27654.7168,
          28064.7655,
          28186.2271,
          30065.9689,
          32497.6914,
          31767.7755,
          29234.4951,
          33962.9949,
          31037.9815,
          34614.1395,
          31346.025,
          31541.7129,
          31997.1805,
          29794.3204,
          32457.8681,
          31683.2743,
          33919.3026,
          31279.7593,
          39247.0296,
          77285.6592,
          85861.4509,
          49977.5946,
          32728.9599,
          34816.0547,
          38961.9897,
          35398.6937,
          42687.2093,
          42451.6611,
          34149.769,
          37120.719,
          36178.1915,
          36116.9272,
          36919.3806,
          36252.745,
          32420.5193,
          31837.0316,
          33202.0202,
          34962.9563,
          34841.878,
          34234.7102,
          39267.9155,
          36273.678,
          35688.7954,
          34169.5494,
          41273.467,
          40299.5395,
          37326.525,
          38115.5942,
          37585.2183,
          35439.6515,
          35055.4439,
          35344.8387,
          33539.3282,
          31790.5811,
          33073.6889,
          33885.8685,
          35976.3998,
          36329.0878,
          38013.6423,
          37467.2045,
          45783.393,
          44090.2991,
          40068.4104,
          36606.5933,
          36885.3919,
          35437.869,
          37721.3905,
          39589.9148,
          42529.6817,
          41286.979,
          47609.5712,
          44628.6409,
          41867.1014,
          39508.8732,
          39394.8088,
          40432.5946,
          38950.6746,
          35616.2477,
          38820.7887,
          38824.7439,
          43531.6715,
          48935.0403,
          38258.9288,
          38032.259,
          38733.2981,
          37849.624,
          35993.2543,
          38975.6332,
          35626.944,
          37526.911,
          38082.8848,
          68004.6378,
          55892.059383499545
         ]
        }
       ],
       "layout": {
        "showlegend": true,
        "template": {
         "data": {
          "bar": [
           {
            "error_x": {
             "color": "#2a3f5f"
            },
            "error_y": {
             "color": "#2a3f5f"
            },
            "marker": {
             "line": {
              "color": "#E5ECF6",
              "width": 0.5
             },
             "pattern": {
              "fillmode": "overlay",
              "size": 10,
              "solidity": 0.2
             }
            },
            "type": "bar"
           }
          ],
          "barpolar": [
           {
            "marker": {
             "line": {
              "color": "#E5ECF6",
              "width": 0.5
             },
             "pattern": {
              "fillmode": "overlay",
              "size": 10,
              "solidity": 0.2
             }
            },
            "type": "barpolar"
           }
          ],
          "carpet": [
           {
            "aaxis": {
             "endlinecolor": "#2a3f5f",
             "gridcolor": "white",
             "linecolor": "white",
             "minorgridcolor": "white",
             "startlinecolor": "#2a3f5f"
            },
            "baxis": {
             "endlinecolor": "#2a3f5f",
             "gridcolor": "white",
             "linecolor": "white",
             "minorgridcolor": "white",
             "startlinecolor": "#2a3f5f"
            },
            "type": "carpet"
           }
          ],
          "choropleth": [
           {
            "colorbar": {
             "outlinewidth": 0,
             "ticks": ""
            },
            "type": "choropleth"
           }
          ],
          "contour": [
           {
            "colorbar": {
             "outlinewidth": 0,
             "ticks": ""
            },
            "colorscale": [
             [
              0,
              "#0d0887"
             ],
             [
              0.1111111111111111,
              "#46039f"
             ],
             [
              0.2222222222222222,
              "#7201a8"
             ],
             [
              0.3333333333333333,
              "#9c179e"
             ],
             [
              0.4444444444444444,
              "#bd3786"
             ],
             [
              0.5555555555555556,
              "#d8576b"
             ],
             [
              0.6666666666666666,
              "#ed7953"
             ],
             [
              0.7777777777777778,
              "#fb9f3a"
             ],
             [
              0.8888888888888888,
              "#fdca26"
             ],
             [
              1,
              "#f0f921"
             ]
            ],
            "type": "contour"
           }
          ],
          "contourcarpet": [
           {
            "colorbar": {
             "outlinewidth": 0,
             "ticks": ""
            },
            "type": "contourcarpet"
           }
          ],
          "heatmap": [
           {
            "colorbar": {
             "outlinewidth": 0,
             "ticks": ""
            },
            "colorscale": [
             [
              0,
              "#0d0887"
             ],
             [
              0.1111111111111111,
              "#46039f"
             ],
             [
              0.2222222222222222,
              "#7201a8"
             ],
             [
              0.3333333333333333,
              "#9c179e"
             ],
             [
              0.4444444444444444,
              "#bd3786"
             ],
             [
              0.5555555555555556,
              "#d8576b"
             ],
             [
              0.6666666666666666,
              "#ed7953"
             ],
             [
              0.7777777777777778,
              "#fb9f3a"
             ],
             [
              0.8888888888888888,
              "#fdca26"
             ],
             [
              1,
              "#f0f921"
             ]
            ],
            "type": "heatmap"
           }
          ],
          "heatmapgl": [
           {
            "colorbar": {
             "outlinewidth": 0,
             "ticks": ""
            },
            "colorscale": [
             [
              0,
              "#0d0887"
             ],
             [
              0.1111111111111111,
              "#46039f"
             ],
             [
              0.2222222222222222,
              "#7201a8"
             ],
             [
              0.3333333333333333,
              "#9c179e"
             ],
             [
              0.4444444444444444,
              "#bd3786"
             ],
             [
              0.5555555555555556,
              "#d8576b"
             ],
             [
              0.6666666666666666,
              "#ed7953"
             ],
             [
              0.7777777777777778,
              "#fb9f3a"
             ],
             [
              0.8888888888888888,
              "#fdca26"
             ],
             [
              1,
              "#f0f921"
             ]
            ],
            "type": "heatmapgl"
           }
          ],
          "histogram": [
           {
            "marker": {
             "pattern": {
              "fillmode": "overlay",
              "size": 10,
              "solidity": 0.2
             }
            },
            "type": "histogram"
           }
          ],
          "histogram2d": [
           {
            "colorbar": {
             "outlinewidth": 0,
             "ticks": ""
            },
            "colorscale": [
             [
              0,
              "#0d0887"
             ],
             [
              0.1111111111111111,
              "#46039f"
             ],
             [
              0.2222222222222222,
              "#7201a8"
             ],
             [
              0.3333333333333333,
              "#9c179e"
             ],
             [
              0.4444444444444444,
              "#bd3786"
             ],
             [
              0.5555555555555556,
              "#d8576b"
             ],
             [
              0.6666666666666666,
              "#ed7953"
             ],
             [
              0.7777777777777778,
              "#fb9f3a"
             ],
             [
              0.8888888888888888,
              "#fdca26"
             ],
             [
              1,
              "#f0f921"
             ]
            ],
            "type": "histogram2d"
           }
          ],
          "histogram2dcontour": [
           {
            "colorbar": {
             "outlinewidth": 0,
             "ticks": ""
            },
            "colorscale": [
             [
              0,
              "#0d0887"
             ],
             [
              0.1111111111111111,
              "#46039f"
             ],
             [
              0.2222222222222222,
              "#7201a8"
             ],
             [
              0.3333333333333333,
              "#9c179e"
             ],
             [
              0.4444444444444444,
              "#bd3786"
             ],
             [
              0.5555555555555556,
              "#d8576b"
             ],
             [
              0.6666666666666666,
              "#ed7953"
             ],
             [
              0.7777777777777778,
              "#fb9f3a"
             ],
             [
              0.8888888888888888,
              "#fdca26"
             ],
             [
              1,
              "#f0f921"
             ]
            ],
            "type": "histogram2dcontour"
           }
          ],
          "mesh3d": [
           {
            "colorbar": {
             "outlinewidth": 0,
             "ticks": ""
            },
            "type": "mesh3d"
           }
          ],
          "parcoords": [
           {
            "line": {
             "colorbar": {
              "outlinewidth": 0,
              "ticks": ""
             }
            },
            "type": "parcoords"
           }
          ],
          "pie": [
           {
            "automargin": true,
            "type": "pie"
           }
          ],
          "scatter": [
           {
            "fillpattern": {
             "fillmode": "overlay",
             "size": 10,
             "solidity": 0.2
            },
            "type": "scatter"
           }
          ],
          "scatter3d": [
           {
            "line": {
             "colorbar": {
              "outlinewidth": 0,
              "ticks": ""
             }
            },
            "marker": {
             "colorbar": {
              "outlinewidth": 0,
              "ticks": ""
             }
            },
            "type": "scatter3d"
           }
          ],
          "scattercarpet": [
           {
            "marker": {
             "colorbar": {
              "outlinewidth": 0,
              "ticks": ""
             }
            },
            "type": "scattercarpet"
           }
          ],
          "scattergeo": [
           {
            "marker": {
             "colorbar": {
              "outlinewidth": 0,
              "ticks": ""
             }
            },
            "type": "scattergeo"
           }
          ],
          "scattergl": [
           {
            "marker": {
             "colorbar": {
              "outlinewidth": 0,
              "ticks": ""
             }
            },
            "type": "scattergl"
           }
          ],
          "scattermapbox": [
           {
            "marker": {
             "colorbar": {
              "outlinewidth": 0,
              "ticks": ""
             }
            },
            "type": "scattermapbox"
           }
          ],
          "scatterpolar": [
           {
            "marker": {
             "colorbar": {
              "outlinewidth": 0,
              "ticks": ""
             }
            },
            "type": "scatterpolar"
           }
          ],
          "scatterpolargl": [
           {
            "marker": {
             "colorbar": {
              "outlinewidth": 0,
              "ticks": ""
             }
            },
            "type": "scatterpolargl"
           }
          ],
          "scatterternary": [
           {
            "marker": {
             "colorbar": {
              "outlinewidth": 0,
              "ticks": ""
             }
            },
            "type": "scatterternary"
           }
          ],
          "surface": [
           {
            "colorbar": {
             "outlinewidth": 0,
             "ticks": ""
            },
            "colorscale": [
             [
              0,
              "#0d0887"
             ],
             [
              0.1111111111111111,
              "#46039f"
             ],
             [
              0.2222222222222222,
              "#7201a8"
             ],
             [
              0.3333333333333333,
              "#9c179e"
             ],
             [
              0.4444444444444444,
              "#bd3786"
             ],
             [
              0.5555555555555556,
              "#d8576b"
             ],
             [
              0.6666666666666666,
              "#ed7953"
             ],
             [
              0.7777777777777778,
              "#fb9f3a"
             ],
             [
              0.8888888888888888,
              "#fdca26"
             ],
             [
              1,
              "#f0f921"
             ]
            ],
            "type": "surface"
           }
          ],
          "table": [
           {
            "cells": {
             "fill": {
              "color": "#EBF0F8"
             },
             "line": {
              "color": "white"
             }
            },
            "header": {
             "fill": {
              "color": "#C8D4E3"
             },
             "line": {
              "color": "white"
             }
            },
            "type": "table"
           }
          ]
         },
         "layout": {
          "annotationdefaults": {
           "arrowcolor": "#2a3f5f",
           "arrowhead": 0,
           "arrowwidth": 1
          },
          "autotypenumbers": "strict",
          "coloraxis": {
           "colorbar": {
            "outlinewidth": 0,
            "ticks": ""
           }
          },
          "colorscale": {
           "diverging": [
            [
             0,
             "#8e0152"
            ],
            [
             0.1,
             "#c51b7d"
            ],
            [
             0.2,
             "#de77ae"
            ],
            [
             0.3,
             "#f1b6da"
            ],
            [
             0.4,
             "#fde0ef"
            ],
            [
             0.5,
             "#f7f7f7"
            ],
            [
             0.6,
             "#e6f5d0"
            ],
            [
             0.7,
             "#b8e186"
            ],
            [
             0.8,
             "#7fbc41"
            ],
            [
             0.9,
             "#4d9221"
            ],
            [
             1,
             "#276419"
            ]
           ],
           "sequential": [
            [
             0,
             "#0d0887"
            ],
            [
             0.1111111111111111,
             "#46039f"
            ],
            [
             0.2222222222222222,
             "#7201a8"
            ],
            [
             0.3333333333333333,
             "#9c179e"
            ],
            [
             0.4444444444444444,
             "#bd3786"
            ],
            [
             0.5555555555555556,
             "#d8576b"
            ],
            [
             0.6666666666666666,
             "#ed7953"
            ],
            [
             0.7777777777777778,
             "#fb9f3a"
            ],
            [
             0.8888888888888888,
             "#fdca26"
            ],
            [
             1,
             "#f0f921"
            ]
           ],
           "sequentialminus": [
            [
             0,
             "#0d0887"
            ],
            [
             0.1111111111111111,
             "#46039f"
            ],
            [
             0.2222222222222222,
             "#7201a8"
            ],
            [
             0.3333333333333333,
             "#9c179e"
            ],
            [
             0.4444444444444444,
             "#bd3786"
            ],
            [
             0.5555555555555556,
             "#d8576b"
            ],
            [
             0.6666666666666666,
             "#ed7953"
            ],
            [
             0.7777777777777778,
             "#fb9f3a"
            ],
            [
             0.8888888888888888,
             "#fdca26"
            ],
            [
             1,
             "#f0f921"
            ]
           ]
          },
          "colorway": [
           "#636efa",
           "#EF553B",
           "#00cc96",
           "#ab63fa",
           "#FFA15A",
           "#19d3f3",
           "#FF6692",
           "#B6E880",
           "#FF97FF",
           "#FECB52"
          ],
          "font": {
           "color": "#2a3f5f"
          },
          "geo": {
           "bgcolor": "white",
           "lakecolor": "white",
           "landcolor": "#E5ECF6",
           "showlakes": true,
           "showland": true,
           "subunitcolor": "white"
          },
          "hoverlabel": {
           "align": "left"
          },
          "hovermode": "closest",
          "mapbox": {
           "style": "light"
          },
          "paper_bgcolor": "white",
          "plot_bgcolor": "#E5ECF6",
          "polar": {
           "angularaxis": {
            "gridcolor": "white",
            "linecolor": "white",
            "ticks": ""
           },
           "bgcolor": "#E5ECF6",
           "radialaxis": {
            "gridcolor": "white",
            "linecolor": "white",
            "ticks": ""
           }
          },
          "scene": {
           "xaxis": {
            "backgroundcolor": "#E5ECF6",
            "gridcolor": "white",
            "gridwidth": 2,
            "linecolor": "white",
            "showbackground": true,
            "ticks": "",
            "zerolinecolor": "white"
           },
           "yaxis": {
            "backgroundcolor": "#E5ECF6",
            "gridcolor": "white",
            "gridwidth": 2,
            "linecolor": "white",
            "showbackground": true,
            "ticks": "",
            "zerolinecolor": "white"
           },
           "zaxis": {
            "backgroundcolor": "#E5ECF6",
            "gridcolor": "white",
            "gridwidth": 2,
            "linecolor": "white",
            "showbackground": true,
            "ticks": "",
            "zerolinecolor": "white"
           }
          },
          "shapedefaults": {
           "line": {
            "color": "#2a3f5f"
           }
          },
          "ternary": {
           "aaxis": {
            "gridcolor": "white",
            "linecolor": "white",
            "ticks": ""
           },
           "baxis": {
            "gridcolor": "white",
            "linecolor": "white",
            "ticks": ""
           },
           "bgcolor": "#E5ECF6",
           "caxis": {
            "gridcolor": "white",
            "linecolor": "white",
            "ticks": ""
           }
          },
          "title": {
           "x": 0.05
          },
          "xaxis": {
           "automargin": true,
           "gridcolor": "white",
           "linecolor": "white",
           "ticks": "",
           "title": {
            "standoff": 15
           },
           "zerolinecolor": "white",
           "zerolinewidth": 2
          },
          "yaxis": {
           "automargin": true,
           "gridcolor": "white",
           "linecolor": "white",
           "ticks": "",
           "title": {
            "standoff": 15
           },
           "zerolinecolor": "white",
           "zerolinewidth": 2
          }
         }
        },
        "title": {
         "text": "Heatmap Queue size aux add"
        },
        "xaxis": {
         "title": {
          "text": "Queue size opposite"
         }
        },
        "yaxis": {
         "title": {
          "text": "Queue size same"
         }
        }
       }
      }
     },
     "metadata": {},
     "output_type": "display_data"
    },
    {
     "data": {
      "application/vnd.plotly.v1+json": {
       "config": {
        "plotlyServerURL": "https://plot.ly"
       },
       "data": [
        {
         "line": {
          "color": "blue"
         },
         "mode": "lines",
         "name": "same",
         "showlegend": true,
         "type": "scatter",
         "x": [
          "1970-01-01T14:28:27.854424",
          "1970-01-01T14:28:40.467802",
          "1970-01-01T14:28:53.113126",
          "1970-01-01T14:29:05.787183",
          "1970-01-01T14:29:18.482855",
          "1970-01-01T14:29:31.213812",
          "1970-01-01T14:29:43.978424",
          "1970-01-01T14:29:56.772964",
          "1970-01-01T14:30:09.603666",
          "1970-01-01T14:30:22.467169",
          "1970-01-01T14:30:35.357085",
          "1970-01-01T14:30:48.278963",
          "1970-01-01T14:31:01.232633",
          "1970-01-01T14:31:14.205830",
          "1970-01-01T14:31:27.195086",
          "1970-01-01T14:31:40.217572",
          "1970-01-01T14:31:53.280036",
          "1970-01-01T14:32:06.372847",
          "1970-01-01T14:32:19.488486",
          "1970-01-01T14:32:32.627805",
          "1970-01-01T14:32:45.796153",
          "1970-01-01T14:32:59.009080",
          "1970-01-01T14:33:12.259788",
          "1970-01-01T14:33:25.545431",
          "1970-01-01T14:33:38.867761",
          "1970-01-01T14:33:52.222794",
          "1970-01-01T14:34:05.593567",
          "1970-01-01T14:34:18.977326",
          "1970-01-01T14:34:32.381236",
          "1970-01-01T14:34:45.806001",
          "1970-01-01T14:34:59.261004",
          "1970-01-01T14:35:12.736229",
          "1970-01-01T14:35:26.231750",
          "1970-01-01T14:35:39.749209",
          "1970-01-01T14:35:53.284084",
          "1970-01-01T14:36:06.822995",
          "1970-01-01T14:36:20.388981",
          "1970-01-01T14:36:33.984960",
          "1970-01-01T14:36:47.603270",
          "1970-01-01T14:37:01.252245",
          "1970-01-01T14:37:14.932209",
          "1970-01-01T14:37:28.653731",
          "1970-01-01T14:37:42.417309",
          "1970-01-01T14:37:56.224222",
          "1970-01-01T14:38:10.058260",
          "1970-01-01T14:38:23.910116",
          "1970-01-01T14:38:37.780736",
          "1970-01-01T14:38:51.677119",
          "1970-01-01T14:39:05.589316",
          "1970-01-01T14:39:19.523668",
          "1970-01-01T14:39:33.495811",
          "1970-01-01T14:39:47.498762",
          "1970-01-01T14:40:01.533747",
          "1970-01-01T14:40:15.591692",
          "1970-01-01T14:40:29.679557",
          "1970-01-01T14:40:43.806014",
          "1970-01-01T14:40:57.960401",
          "1970-01-01T14:41:12.140469",
          "1970-01-01T14:41:26.355164",
          "1970-01-01T14:41:40.598827",
          "1970-01-01T14:41:54.858823",
          "1970-01-01T14:42:09.146876",
          "1970-01-01T14:42:23.481205",
          "1970-01-01T14:42:37.845280",
          "1970-01-01T14:42:52.244683",
          "1970-01-01T14:43:06.688163",
          "1970-01-01T14:43:21.152129",
          "1970-01-01T14:43:35.631320",
          "1970-01-01T14:43:50.135817",
          "1970-01-01T14:44:04.664564",
          "1970-01-01T14:44:19.215746",
          "1970-01-01T14:44:33.793021",
          "1970-01-01T14:44:48.400817",
          "1970-01-01T14:45:03.041845",
          "1970-01-01T14:45:17.703271",
          "1970-01-01T14:45:32.390876",
          "1970-01-01T14:45:47.108115",
          "1970-01-01T14:46:01.868100",
          "1970-01-01T14:46:16.655394",
          "1970-01-01T14:46:31.464702",
          "1970-01-01T14:46:46.312098",
          "1970-01-01T14:47:01.185153",
          "1970-01-01T14:47:16.094993",
          "1970-01-01T14:47:31.036951",
          "1970-01-01T14:47:46.001750",
          "1970-01-01T14:48:00.982577",
          "1970-01-01T14:48:15.982942",
          "1970-01-01T14:48:31.000267",
          "1970-01-01T14:48:46.043762",
          "1970-01-01T14:49:01.118175",
          "1970-01-01T14:49:16.212248",
          "1970-01-01T14:49:31.323582",
          "1970-01-01T14:49:46.458147",
          "1970-01-01T14:50:01.628730",
          "1970-01-01T14:50:16.817850",
          "1970-01-01T14:50:32.010399",
          "1970-01-01T14:50:47.210933",
          "1970-01-01T14:51:02.438368",
          "1970-01-01T14:51:17.682185",
          "1970-01-01T14:51:32.952524",
          "1970-01-01T14:51:48.256128",
          "1970-01-01T14:52:03.580493",
          "1970-01-01T14:52:18.928140",
          "1970-01-01T14:52:34.309079",
          "1970-01-01T14:52:49.711665",
          "1970-01-01T14:53:05.140288",
          "1970-01-01T14:53:20.594083",
          "1970-01-01T14:53:36.071418",
          "1970-01-01T14:53:51.576455",
          "1970-01-01T14:54:07.106008",
          "1970-01-01T14:54:22.650073",
          "1970-01-01T14:54:38.208468",
          "1970-01-01T14:54:53.797814",
          "1970-01-01T14:55:09.416515",
          "1970-01-01T14:55:25.055911",
          "1970-01-01T14:55:40.726536",
          "1970-01-01T14:55:56.425010",
          "1970-01-01T14:56:12.163033",
          "1970-01-01T14:56:27.933749",
          "1970-01-01T14:56:43.727591",
          "1970-01-01T14:56:59.547128",
          "1970-01-01T14:57:15.394349",
          "1970-01-01T14:57:31.267600",
          "1970-01-01T14:57:47.169056",
          "1970-01-01T14:58:03.081421",
          "1970-01-01T14:58:19.001172",
          "1970-01-01T14:58:34.930763",
          "1970-01-01T14:58:50.891436",
          "1970-01-01T14:59:06.879366",
          "1970-01-01T14:59:22.899913",
          "1970-01-01T14:59:38.938952",
          "1970-01-01T14:59:55.017529",
          "1970-01-01T15:00:11.140870",
          "1970-01-01T15:00:27.285857",
          "1970-01-01T15:00:43.466916",
          "1970-01-01T15:00:59.679444",
          "1970-01-01T15:01:15.916244",
          "1970-01-01T15:01:32.173677",
          "1970-01-01T15:01:48.452097",
          "1970-01-01T15:02:04.747029",
          "1970-01-01T15:02:21.046821",
          "1970-01-01T15:02:37.366965",
          "1970-01-01T15:02:53.709162",
          "1970-01-01T15:03:10.083113",
          "1970-01-01T15:03:26.504509",
          "1970-01-01T15:03:42.942121",
          "1970-01-01T15:03:59.401595",
          "1970-01-01T15:04:15.887554",
          "1970-01-01T15:04:32.400937",
          "1970-01-01T15:04:48.971442",
          "1970-01-01T15:05:05.560488",
          "1970-01-01T15:05:22.152124",
          "1970-01-01T15:05:38.770667",
          "1970-01-01T15:05:55.411306",
          "1970-01-01T15:06:12.073854",
          "1970-01-01T15:06:28.783676",
          "1970-01-01T15:06:45.527633",
          "1970-01-01T15:07:02.316820",
          "1970-01-01T15:07:19.137724",
          "1970-01-01T15:07:35.978593",
          "1970-01-01T15:07:52.851914",
          "1970-01-01T15:08:09.749415",
          "1970-01-01T15:08:26.662615",
          "1970-01-01T15:08:43.599455",
          "1970-01-01T15:09:00.562957",
          "1970-01-01T15:09:17.540787",
          "1970-01-01T15:09:34.546564",
          "1970-01-01T15:09:51.581033",
          "1970-01-01T15:10:08.647938",
          "1970-01-01T15:10:25.768718",
          "1970-01-01T15:10:42.921708",
          "1970-01-01T15:11:00.118412",
          "1970-01-01T15:11:17.363422",
          "1970-01-01T15:11:34.630088",
          "1970-01-01T15:11:51.921845",
          "1970-01-01T15:12:09.246311",
          "1970-01-01T15:12:26.586950",
          "1970-01-01T15:12:43.946165",
          "1970-01-01T15:13:01.328605",
          "1970-01-01T15:13:18.710670",
          "1970-01-01T15:13:36.100027",
          "1970-01-01T15:13:53.503545",
          "1970-01-01T15:14:10.923175",
          "1970-01-01T15:14:28.379892",
          "1970-01-01T15:14:45.870513",
          "1970-01-01T15:15:03.381150",
          "1970-01-01T15:15:20.928151",
          "1970-01-01T15:15:38.510336",
          "1970-01-01T15:15:56.124735",
          "1970-01-01T15:16:13.773382",
          "1970-01-01T15:16:31.455917",
          "1970-01-01T15:16:49.169034",
          "1970-01-01T15:17:06.921272",
          "1970-01-01T15:17:24.687650",
          "1970-01-01T15:17:42.472072",
          "1970-01-01T15:18:00.280069",
          "1970-01-01T15:18:18.100278",
          "1970-01-01T15:18:35.950836",
          "1970-01-01T15:18:53.823459",
          "1970-01-01T15:19:11.702573",
          "1970-01-01T15:19:29.580275",
          "1970-01-01T15:19:47.466256",
          "1970-01-01T15:20:05.387466",
          "1970-01-01T15:20:23.320646",
          "1970-01-01T15:20:41.284340",
          "1970-01-01T15:20:59.282995",
          "1970-01-01T15:21:17.316436",
          "1970-01-01T15:21:35.385820",
          "1970-01-01T15:21:53.477373",
          "1970-01-01T15:22:11.597570",
          "1970-01-01T15:22:29.728792",
          "1970-01-01T15:22:47.875470",
          "1970-01-01T15:23:06.046054",
          "1970-01-01T15:23:24.240934",
          "1970-01-01T15:23:42.443749",
          "1970-01-01T15:24:00.680938",
          "1970-01-01T15:24:18.949211",
          "1970-01-01T15:24:37.249027",
          "1970-01-01T15:24:55.582476",
          "1970-01-01T15:25:13.932666",
          "1970-01-01T15:25:32.279581",
          "1970-01-01T15:25:50.643886",
          "1970-01-01T15:26:09.052846",
          "1970-01-01T15:26:27.485529",
          "1970-01-01T15:26:45.939567",
          "1970-01-01T15:27:04.406662",
          "1970-01-01T15:27:22.901515",
          "1970-01-01T15:27:41.408466",
          "1970-01-01T15:27:59.919618",
          "1970-01-01T15:28:18.453963",
          "1970-01-01T15:28:37.021200",
          "1970-01-01T15:28:55.625408",
          "1970-01-01T15:29:14.259503",
          "1970-01-01T15:29:32.925066",
          "1970-01-01T15:29:51.629075",
          "1970-01-01T15:30:10.373589",
          "1970-01-01T15:30:29.145492",
          "1970-01-01T15:30:47.956558",
          "1970-01-01T15:31:06.800823",
          "1970-01-01T15:31:25.680910",
          "1970-01-01T15:31:44.597586",
          "1970-01-01T15:32:03.549797",
          "1970-01-01T15:32:22.555618",
          "1970-01-01T15:32:41.598380",
          "1970-01-01T15:33:00.672652",
          "1970-01-01T15:33:19.765722",
          "1970-01-01T15:33:38.908489",
          "1970-01-01T15:33:58.090263",
          "1970-01-01T15:34:17.294898",
          "1970-01-01T15:34:36.518675",
          "1970-01-01T15:34:55.755658",
          "1970-01-01T15:35:15.011500",
          "1970-01-01T15:35:34.313362",
          "1970-01-01T15:35:53.645075",
          "1970-01-01T15:36:13.015461",
          "1970-01-01T15:36:32.401454",
          "1970-01-01T15:36:51.820128",
          "1970-01-01T15:37:11.276842",
          "1970-01-01T15:37:30.757128",
          "1970-01-01T15:37:50.277107",
          "1970-01-01T15:38:09.822289",
          "1970-01-01T15:38:29.401104",
          "1970-01-01T15:38:49.011568",
          "1970-01-01T15:39:08.667374",
          "1970-01-01T15:39:28.352740",
          "1970-01-01T15:39:48.053869",
          "1970-01-01T15:40:07.787131",
          "1970-01-01T15:40:27.559382",
          "1970-01-01T15:40:47.358361",
          "1970-01-01T15:41:07.181644",
          "1970-01-01T15:41:27.039036",
          "1970-01-01T15:41:46.947838",
          "1970-01-01T15:42:06.885624",
          "1970-01-01T15:42:26.848407",
          "1970-01-01T15:42:46.837562",
          "1970-01-01T15:43:06.856947",
          "1970-01-01T15:43:26.907057",
          "1970-01-01T15:43:46.958623",
          "1970-01-01T15:44:07.045695",
          "1970-01-01T15:44:27.171491",
          "1970-01-01T15:44:47.316436",
          "1970-01-01T15:45:07.509215",
          "1970-01-01T15:45:27.723959",
          "1970-01-01T15:45:47.962861",
          "1970-01-01T15:46:08.224145",
          "1970-01-01T15:46:28.509901",
          "1970-01-01T15:46:48.832862",
          "1970-01-01T15:47:09.178402",
          "1970-01-01T15:47:29.554797",
          "1970-01-01T15:47:49.951075",
          "1970-01-01T15:48:10.370881",
          "1970-01-01T15:48:30.818385",
          "1970-01-01T15:48:51.281998",
          "1970-01-01T15:49:11.748920",
          "1970-01-01T15:49:32.235646",
          "1970-01-01T15:49:52.754683",
          "1970-01-01T15:50:13.303231",
          "1970-01-01T15:50:33.887971",
          "1970-01-01T15:50:54.511705",
          "1970-01-01T15:51:15.166712",
          "1970-01-01T15:51:35.857260",
          "1970-01-01T15:51:56.572649",
          "1970-01-01T15:52:17.321077",
          "1970-01-01T15:52:38.092653",
          "1970-01-01T15:52:58.900533",
          "1970-01-01T15:53:19.736618",
          "1970-01-01T15:53:40.602007",
          "1970-01-01T15:54:01.494157",
          "1970-01-01T15:54:22.407680",
          "1970-01-01T15:54:43.353215",
          "1970-01-01T15:55:04.330123",
          "1970-01-01T15:55:25.322921",
          "1970-01-01T15:55:46.329717",
          "1970-01-01T15:56:07.361828",
          "1970-01-01T15:56:28.431049",
          "1970-01-01T15:56:49.518394",
          "1970-01-01T15:57:10.631967",
          "1970-01-01T15:57:31.771856",
          "1970-01-01T15:57:52.943223",
          "1970-01-01T15:58:14.141055",
          "1970-01-01T15:58:35.362574",
          "1970-01-01T15:58:56.587361",
          "1970-01-01T15:59:17.801519",
          "1970-01-01T15:59:39.047070",
          "1970-01-01T16:00:00.301189",
          "1970-01-01T16:00:21.568408",
          "1970-01-01T16:00:42.874760",
          "1970-01-01T16:01:04.221130",
          "1970-01-01T16:01:25.603996",
          "1970-01-01T16:01:47.036401",
          "1970-01-01T16:02:08.507966",
          "1970-01-01T16:02:30.005199",
          "1970-01-01T16:02:51.529473",
          "1970-01-01T16:03:13.085116",
          "1970-01-01T16:03:34.658366",
          "1970-01-01T16:03:56.271278",
          "1970-01-01T16:04:17.900569",
          "1970-01-01T16:04:39.534355",
          "1970-01-01T16:05:01.189810",
          "1970-01-01T16:05:22.855506",
          "1970-01-01T16:05:44.511238",
          "1970-01-01T16:06:06.156029",
          "1970-01-01T16:06:27.796707",
          "1970-01-01T16:06:49.433809",
          "1970-01-01T16:07:11.086703",
          "1970-01-01T16:07:32.756505",
          "1970-01-01T16:07:54.443814",
          "1970-01-01T16:08:16.166222",
          "1970-01-01T16:08:37.914536",
          "1970-01-01T16:08:59.681259",
          "1970-01-01T16:09:21.461933",
          "1970-01-01T16:09:43.258422",
          "1970-01-01T16:10:05.068882",
          "1970-01-01T16:10:26.883733",
          "1970-01-01T16:10:48.694906",
          "1970-01-01T16:11:10.518702",
          "1970-01-01T16:11:32.348638",
          "1970-01-01T16:11:54.183168",
          "1970-01-01T16:12:16.014910",
          "1970-01-01T16:12:37.850472",
          "1970-01-01T16:12:59.705672",
          "1970-01-01T16:13:21.589794",
          "1970-01-01T16:13:43.483512",
          "1970-01-01T16:14:05.401233",
          "1970-01-01T16:14:27.325339",
          "1970-01-01T16:14:49.232488",
          "1970-01-01T16:15:11.165395",
          "1970-01-01T16:15:33.125643",
          "1970-01-01T16:15:55.110705",
          "1970-01-01T16:16:17.139072",
          "1970-01-01T16:16:39.200801",
          "1970-01-01T16:17:01.275009",
          "1970-01-01T16:17:23.357942",
          "1970-01-01T16:17:45.464666",
          "1970-01-01T16:18:07.598789",
          "1970-01-01T16:18:29.778920",
          "1970-01-01T16:18:51.984775",
          "1970-01-01T16:19:14.202627",
          "1970-01-01T16:19:36.461845",
          "1970-01-01T16:19:58.768937",
          "1970-01-01T16:20:21.085047",
          "1970-01-01T16:20:43.429273",
          "1970-01-01T16:21:05.793450",
          "1970-01-01T16:21:28.203423",
          "1970-01-01T16:21:50.654976",
          "1970-01-01T16:22:13.142142",
          "1970-01-01T16:22:35.648851",
          "1970-01-01T16:22:58.187801",
          "1970-01-01T16:23:20.745191",
          "1970-01-01T16:23:43.329229",
          "1970-01-01T16:24:05.951277",
          "1970-01-01T16:24:28.605590",
          "1970-01-01T16:24:51.282830",
          "1970-01-01T16:25:13.959639",
          "1970-01-01T16:25:36.667220",
          "1970-01-01T16:25:59.415039",
          "1970-01-01T16:26:22.207271",
          "1970-01-01T16:26:45.026048",
          "1970-01-01T16:27:07.871051",
          "1970-01-01T16:27:30.739128",
          "1970-01-01T16:27:53.621263",
          "1970-01-01T16:28:16.522063",
          "1970-01-01T16:28:39.439486",
          "1970-01-01T16:29:02.373240",
          "1970-01-01T16:29:25.322065",
          "1970-01-01T16:29:48.277992",
          "1970-01-01T16:30:11.252232",
          "1970-01-01T16:30:34.229197",
          "1970-01-01T16:30:57.224097",
          "1970-01-01T16:31:20.223029",
          "1970-01-01T16:31:43.233904",
          "1970-01-01T16:32:06.240532",
          "1970-01-01T16:32:29.250865",
          "1970-01-01T16:32:52.255344",
          "1970-01-01T16:33:15.258758",
          "1970-01-01T16:33:38.274385",
          "1970-01-01T16:34:01.304446",
          "1970-01-01T16:34:24.357224",
          "1970-01-01T16:34:47.417577",
          "1970-01-01T16:35:10.494433",
          "1970-01-01T16:35:33.583618",
          "1970-01-01T16:35:56.695261",
          "1970-01-01T16:36:19.825763",
          "1970-01-01T16:36:42.955693",
          "1970-01-01T16:37:06.115240",
          "1970-01-01T16:37:29.315313",
          "1970-01-01T16:37:52.544606",
          "1970-01-01T16:38:15.780724",
          "1970-01-01T16:38:39.031459",
          "1970-01-01T16:39:02.298864",
          "1970-01-01T16:39:25.591700",
          "1970-01-01T16:39:48.902385",
          "1970-01-01T16:40:12.213490",
          "1970-01-01T16:40:35.547874",
          "1970-01-01T16:40:58.885067",
          "1970-01-01T16:41:22.205121",
          "1970-01-01T16:41:45.536590",
          "1970-01-01T16:42:08.892366",
          "1970-01-01T16:42:32.262912",
          "1970-01-01T16:42:55.640096",
          "1970-01-01T16:43:19.036256",
          "1970-01-01T16:43:42.462627",
          "1970-01-01T16:44:05.906801",
          "1970-01-01T16:44:29.358845",
          "1970-01-01T16:44:52.817283",
          "1970-01-01T16:45:16.293715",
          "1970-01-01T16:45:39.791115",
          "1970-01-01T16:46:03.307714",
          "1970-01-01T16:46:26.848079",
          "1970-01-01T16:46:50.373755",
          "1970-01-01T16:47:13.931056",
          "1970-01-01T16:47:37.536764",
          "1970-01-01T16:48:01.180974",
          "1970-01-01T16:48:24.828970",
          "1970-01-01T16:48:48.474982",
          "1970-01-01T16:49:12.106496",
          "1970-01-01T16:49:35.747704",
          "1970-01-01T16:49:59.388816",
          "1970-01-01T16:50:23.034666",
          "1970-01-01T16:50:46.703918",
          "1970-01-01T16:51:10.385827",
          "1970-01-01T16:51:34.086751",
          "1970-01-01T16:51:57.815375",
          "1970-01-01T16:52:21.575106",
          "1970-01-01T16:52:45.379025",
          "1970-01-01T16:53:09.249005",
          "1970-01-01T16:53:33.165237",
          "1970-01-01T16:53:57.118198",
          "1970-01-01T16:54:21.073425",
          "1970-01-01T16:54:45.024716",
          "1970-01-01T16:55:09.007623",
          "1970-01-01T16:55:33.004139",
          "1970-01-01T16:55:57.009213",
          "1970-01-01T16:56:21.051232",
          "1970-01-01T16:56:45.138157",
          "1970-01-01T16:57:09.253636",
          "1970-01-01T16:57:33.385500",
          "1970-01-01T16:57:57.493634",
          "1970-01-01T16:58:21.592498",
          "1970-01-01T16:58:45.712872",
          "1970-01-01T16:59:09.834969",
          "1970-01-01T16:59:33.973432",
          "1970-01-01T16:59:58.145168",
          "1970-01-01T17:00:22.326016",
          "1970-01-01T17:00:46.519550",
          "1970-01-01T17:01:10.744056",
          "1970-01-01T17:01:34.968650",
          "1970-01-01T17:01:59.199331",
          "1970-01-01T17:02:23.463237",
          "1970-01-01T17:02:47.733097",
          "1970-01-01T17:03:12.005432",
          "1970-01-01T17:03:36.281805",
          "1970-01-01T17:04:00.553646",
          "1970-01-01T17:04:24.836884",
          "1970-01-01T17:04:49.141921",
          "1970-01-01T17:05:13.451704",
          "1970-01-01T17:05:37.766262",
          "1970-01-01T17:06:02.064905",
          "1970-01-01T17:06:26.380429",
          "1970-01-01T17:06:50.724244",
          "1970-01-01T17:07:15.103214",
          "1970-01-01T17:07:39.516520",
          "1970-01-01T17:08:03.932131",
          "1970-01-01T17:08:28.363724",
          "1970-01-01T17:08:52.799148",
          "1970-01-01T17:09:17.235845",
          "1970-01-01T17:09:41.685196",
          "1970-01-01T17:10:06.134903",
          "1970-01-01T17:10:30.571661",
          "1970-01-01T17:10:55.020956",
          "1970-01-01T17:11:19.496571",
          "1970-01-01T17:11:44.013638",
          "1970-01-01T17:12:08.550058",
          "1970-01-01T17:12:33.112097",
          "1970-01-01T17:12:57.699629",
          "1970-01-01T17:13:22.274021",
          "1970-01-01T17:13:46.840164",
          "1970-01-01T17:14:11.409348",
          "1970-01-01T17:14:35.991630",
          "1970-01-01T17:15:00.593911",
          "1970-01-01T17:15:25.234797",
          "1970-01-01T17:15:49.888845",
          "1970-01-01T17:16:14.547472",
          "1970-01-01T17:16:39.211373",
          "1970-01-01T17:17:03.888845",
          "1970-01-01T17:17:28.583213",
          "1970-01-01T17:17:53.274419",
          "1970-01-01T17:18:17.995615",
          "1970-01-01T17:18:42.751838",
          "1970-01-01T17:19:07.506163",
          "1970-01-01T17:19:32.247431",
          "1970-01-01T17:19:56.984508",
          "1970-01-01T17:20:21.741408",
          "1970-01-01T17:20:46.516632",
          "1970-01-01T17:21:11.302912",
          "1970-01-01T17:21:36.093731",
          "1970-01-01T17:22:00.877906",
          "1970-01-01T17:22:25.662846",
          "1970-01-01T17:22:50.447904",
          "1970-01-01T17:23:15.221791",
          "1970-01-01T17:23:39.974539",
          "1970-01-01T17:24:04.745426",
          "1970-01-01T17:24:29.521181",
          "1970-01-01T17:24:54.308196",
          "1970-01-01T17:25:19.109760",
          "1970-01-01T17:25:43.938128",
          "1970-01-01T17:26:08.779344",
          "1970-01-01T17:26:33.645669",
          "1970-01-01T17:26:58.520924",
          "1970-01-01T17:27:23.396497",
          "1970-01-01T17:27:48.284687",
          "1970-01-01T17:28:13.184309",
          "1970-01-01T17:28:38.078134",
          "1970-01-01T17:29:02.965264",
          "1970-01-01T17:29:27.831996",
          "1970-01-01T17:29:52.729707",
          "1970-01-01T17:30:17.632560",
          "1970-01-01T17:30:42.533602",
          "1970-01-01T17:31:07.462739",
          "1970-01-01T17:31:32.406923",
          "1970-01-01T17:31:57.378849",
          "1970-01-01T17:32:22.360353",
          "1970-01-01T17:32:47.359677",
          "1970-01-01T17:33:12.360182",
          "1970-01-01T17:33:37.356221",
          "1970-01-01T17:34:02.364439",
          "1970-01-01T17:34:27.381589",
          "1970-01-01T17:34:52.404251",
          "1970-01-01T17:35:17.441747",
          "1970-01-01T17:35:42.482245",
          "1970-01-01T17:36:07.529377",
          "1970-01-01T17:36:32.574031",
          "1970-01-01T17:36:57.639440",
          "1970-01-01T17:37:22.714652",
          "1970-01-01T17:37:47.790381",
          "1970-01-01T17:38:12.873255",
          "1970-01-01T17:38:37.971530",
          "1970-01-01T17:39:03.083441",
          "1970-01-01T17:39:28.191839",
          "1970-01-01T17:39:53.291584",
          "1970-01-01T17:40:18.423478",
          "1970-01-01T17:40:43.542863",
          "1970-01-01T17:41:08.665418",
          "1970-01-01T17:41:33.792411",
          "1970-01-01T17:41:58.910994",
          "1970-01-01T17:42:24.038598",
          "1970-01-01T17:42:49.182985",
          "1970-01-01T17:43:14.360626",
          "1970-01-01T17:43:39.547535",
          "1970-01-01T17:44:04.767298",
          "1970-01-01T17:44:29.999041",
          "1970-01-01T17:44:55.268648",
          "1970-01-01T17:45:20.567609",
          "1970-01-01T17:45:45.902963",
          "1970-01-01T17:46:11.254439",
          "1970-01-01T17:46:36.617122",
          "1970-01-01T17:47:02.001124",
          "1970-01-01T17:47:27.394311",
          "1970-01-01T17:47:52.804007",
          "1970-01-01T17:48:18.213476",
          "1970-01-01T17:48:43.589559",
          "1970-01-01T17:49:08.939155",
          "1970-01-01T17:49:34.276258",
          "1970-01-01T17:49:59.614370",
          "1970-01-01T17:50:24.937246",
          "1970-01-01T17:50:50.252338",
          "1970-01-01T17:51:15.547098",
          "1970-01-01T17:51:40.835815",
          "1970-01-01T17:52:06.102446",
          "1970-01-01T17:52:31.352850",
          "1970-01-01T17:52:56.605197",
          "1970-01-01T17:53:21.874560",
          "1970-01-01T17:53:47.190115",
          "1970-01-01T17:54:12.569872",
          "1970-01-01T17:54:29.254101",
          "1970-01-01T17:54:41.708894",
          "1970-01-01T17:54:54.157854",
          "1970-01-01T17:55:06.610867",
          "1970-01-01T17:55:19.063379",
          "1970-01-01T17:55:31.521794",
          "1970-01-01T17:55:43.986508",
          "1970-01-01T17:55:56.460622",
          "1970-01-01T17:56:08.962755",
          "1970-01-01T17:56:21.455660",
          "1970-01-01T17:56:33.958898",
          "1970-01-01T17:56:46.471662",
          "1970-01-01T17:56:58.982960",
          "1970-01-01T17:57:11.489102",
          "1970-01-01T17:57:23.988077",
          "1970-01-01T17:57:36.466271",
          "1970-01-01T17:57:48.929358",
          "1970-01-01T17:58:01.395015",
          "1970-01-01T17:58:13.858052",
          "1970-01-01T17:58:26.321882",
          "1970-01-01T17:58:38.799493",
          "1970-01-01T17:58:51.282026",
          "1970-01-01T17:59:03.778920",
          "1970-01-01T17:59:16.292232",
          "1970-01-01T17:59:28.807258",
          "1970-01-01T17:59:41.333859",
          "1970-01-01T17:59:53.894231",
          "1970-01-01T18:00:06.481667",
          "1970-01-01T18:00:19.090355",
          "1970-01-01T18:00:31.721261",
          "1970-01-01T18:00:44.363755",
          "1970-01-01T18:00:57.026818",
          "1970-01-01T18:01:09.704925",
          "1970-01-01T18:01:22.377913",
          "1970-01-01T18:01:35.062108",
          "1970-01-01T18:01:47.761267",
          "1970-01-01T18:02:00.464014",
          "1970-01-01T18:02:13.171941",
          "1970-01-01T18:02:25.884384",
          "1970-01-01T18:02:38.626395",
          "1970-01-01T18:02:51.394905",
          "1970-01-01T18:03:04.165004",
          "1970-01-01T18:03:16.953100",
          "1970-01-01T18:03:29.763715",
          "1970-01-01T18:03:42.597931",
          "1970-01-01T18:03:55.455902",
          "1970-01-01T18:04:08.329274",
          "1970-01-01T18:04:21.194612",
          "1970-01-01T18:04:34.058417",
          "1970-01-01T18:04:46.914737",
          "1970-01-01T18:04:59.781645",
          "1970-01-01T18:05:12.675972",
          "1970-01-01T18:05:25.573024",
          "1970-01-01T18:05:38.476969",
          "1970-01-01T18:05:51.384545",
          "1970-01-01T18:06:04.279943",
          "1970-01-01T18:06:17.174057",
          "1970-01-01T18:06:30.081397",
          "1970-01-01T18:06:43.004411",
          "1970-01-01T18:06:55.919214",
          "1970-01-01T18:07:08.830964",
          "1970-01-01T18:07:21.712719",
          "1970-01-01T18:07:34.586508",
          "1970-01-01T18:07:47.457341",
          "1970-01-01T18:08:00.310769",
          "1970-01-01T18:08:13.137904",
          "1970-01-01T18:08:25.959550",
          "1970-01-01T18:08:38.762776",
          "1970-01-01T18:08:51.547305",
          "1970-01-01T18:09:04.294915",
          "1970-01-01T18:09:17.009415",
          "1970-01-01T18:09:29.707144",
          "1970-01-01T18:09:42.405154",
          "1970-01-01T18:09:55.103190",
          "1970-01-01T18:10:07.803314",
          "1970-01-01T18:10:20.481062",
          "1970-01-01T18:10:33.139105",
          "1970-01-01T18:10:45.784937",
          "1970-01-01T18:10:58.428887",
          "1970-01-01T18:11:11.093152",
          "1970-01-01T18:11:23.751795",
          "1970-01-01T18:11:36.409529",
          "1970-01-01T18:11:49.056837",
          "1970-01-01T18:12:01.703597",
          "1970-01-01T18:12:14.363216",
          "1970-01-01T18:12:27.020339",
          "1970-01-01T18:12:39.676110",
          "1970-01-01T18:12:52.328817",
          "1970-01-01T18:13:04.977641",
          "1970-01-01T18:13:17.625403",
          "1970-01-01T18:13:30.287357",
          "1970-01-01T18:13:42.964159",
          "1970-01-01T18:13:55.628733",
          "1970-01-01T18:14:08.318346",
          "1970-01-01T18:14:21.007629",
          "1970-01-01T18:14:33.710884",
          "1970-01-01T18:14:46.431904",
          "1970-01-01T18:14:59.191291",
          "1970-01-01T18:15:11.960812",
          "1970-01-01T18:15:24.758101",
          "1970-01-01T18:15:37.582455",
          "1970-01-01T18:15:50.407102",
          "1970-01-01T18:16:03.231445",
          "1970-01-01T18:16:16.035554",
          "1970-01-01T18:16:28.843870",
          "1970-01-01T18:16:41.645898",
          "1970-01-01T18:16:54.441847",
          "1970-01-01T18:17:07.226907",
          "1970-01-01T18:17:20.013725",
          "1970-01-01T18:17:32.826925",
          "1970-01-01T18:17:45.642714",
          "1970-01-01T18:17:58.444980",
          "1970-01-01T18:18:11.255051",
          "1970-01-01T18:18:24.081706",
          "1970-01-01T18:18:36.915480",
          "1970-01-01T18:18:49.746928",
          "1970-01-01T18:19:02.577830",
          "1970-01-01T18:19:15.397668",
          "1970-01-01T18:19:28.223867",
          "1970-01-01T18:19:41.052382",
          "1970-01-01T18:19:53.896894",
          "1970-01-01T18:20:06.786253",
          "1970-01-01T18:20:19.692086",
          "1970-01-01T18:20:32.594460",
          "1970-01-01T18:20:45.502551",
          "1970-01-01T18:20:58.435591",
          "1970-01-01T18:21:11.400369",
          "1970-01-01T18:21:24.358314",
          "1970-01-01T18:21:37.326326",
          "1970-01-01T18:21:50.306978",
          "1970-01-01T18:22:03.281317",
          "1970-01-01T18:22:16.273860",
          "1970-01-01T18:22:29.269749",
          "1970-01-01T18:22:42.259735",
          "1970-01-01T18:22:55.228270",
          "1970-01-01T18:23:08.195042",
          "1970-01-01T18:23:21.149649",
          "1970-01-01T18:23:34.091400",
          "1970-01-01T18:23:46.994521",
          "1970-01-01T18:23:59.909303",
          "1970-01-01T18:24:12.863087",
          "1970-01-01T18:24:25.837064",
          "1970-01-01T18:24:38.809247",
          "1970-01-01T18:24:51.781751",
          "1970-01-01T18:25:04.771690",
          "1970-01-01T18:25:17.762161",
          "1970-01-01T18:25:30.743532",
          "1970-01-01T18:25:43.702033",
          "1970-01-01T18:25:56.649398",
          "1970-01-01T18:26:09.576425",
          "1970-01-01T18:26:22.453944",
          "1970-01-01T18:26:35.249516",
          "1970-01-01T18:26:47.992824",
          "1970-01-01T18:27:00.698390",
          "1970-01-01T18:27:13.435388",
          "1970-01-01T18:27:26.175842",
          "1970-01-01T18:27:38.884068",
          "1970-01-01T18:27:51.575099",
          "1970-01-01T18:28:04.247315",
          "1970-01-01T18:28:16.891452",
          "1970-01-01T18:28:29.471038",
          "1970-01-01T18:28:42.008112",
          "1970-01-01T18:28:54.540913",
          "1970-01-01T18:29:07.130863",
          "1970-01-01T18:29:19.775848",
          "1970-01-01T18:29:32.448134",
          "1970-01-01T18:29:45.182703",
          "1970-01-01T18:29:57.928666",
          "1970-01-01T18:30:10.647402",
          "1970-01-01T18:30:23.355823",
          "1970-01-01T18:30:36.064141",
          "1970-01-01T18:30:48.753188",
          "1970-01-01T18:31:01.454993",
          "1970-01-01T18:31:14.179655",
          "1970-01-01T18:31:26.871856",
          "1970-01-01T18:31:39.576997",
          "1970-01-01T18:31:52.311646",
          "1970-01-01T18:32:05.059032",
          "1970-01-01T18:32:17.832852",
          "1970-01-01T18:32:30.638416",
          "1970-01-01T18:32:43.440506",
          "1970-01-01T18:32:56.276934",
          "1970-01-01T18:33:09.161621",
          "1970-01-01T18:33:22.120490",
          "1970-01-01T18:33:35.072924",
          "1970-01-01T18:33:48.034689",
          "1970-01-01T18:34:00.989728",
          "1970-01-01T18:34:13.945250",
          "1970-01-01T18:34:26.909658",
          "1970-01-01T18:34:39.895458",
          "1970-01-01T18:34:52.896912",
          "1970-01-01T18:35:05.909181",
          "1970-01-01T18:35:18.903770",
          "1970-01-01T18:35:31.913883",
          "1970-01-01T18:35:44.991012",
          "1970-01-01T18:35:58.071862",
          "1970-01-01T18:36:11.150516",
          "1970-01-01T18:36:24.184610",
          "1970-01-01T18:36:37.214608",
          "1970-01-01T18:36:50.219098",
          "1970-01-01T18:37:03.248345",
          "1970-01-01T18:37:16.327638",
          "1970-01-01T18:37:29.452144",
          "1970-01-01T18:37:42.592555",
          "1970-01-01T18:37:55.741800",
          "1970-01-01T18:38:08.885699",
          "1970-01-01T18:38:21.997475",
          "1970-01-01T18:38:35.110146",
          "1970-01-01T18:38:48.233059",
          "1970-01-01T18:39:01.377686",
          "1970-01-01T18:39:14.539900",
          "1970-01-01T18:39:27.711041",
          "1970-01-01T18:39:40.930703",
          "1970-01-01T18:39:54.099238",
          "1970-01-01T18:40:07.237226",
          "1970-01-01T18:40:20.431960",
          "1970-01-01T18:40:33.706157",
          "1970-01-01T18:40:46.995290",
          "1970-01-01T18:41:00.261895",
          "1970-01-01T18:41:13.490345",
          "1970-01-01T18:41:26.702807",
          "1970-01-01T18:41:39.911423",
          "1970-01-01T18:41:53.146312",
          "1970-01-01T18:42:06.345529",
          "1970-01-01T18:42:19.526632",
          "1970-01-01T18:42:32.757348",
          "1970-01-01T18:42:46.080345",
          "1970-01-01T18:42:59.406792",
          "1970-01-01T18:43:12.702598",
          "1970-01-01T18:43:25.961175",
          "1970-01-01T18:43:39.177781",
          "1970-01-01T18:43:52.350769",
          "1970-01-01T18:44:05.473195",
          "1970-01-01T18:44:18.519907",
          "1970-01-01T18:44:31.585451",
          "1970-01-01T18:44:44.729294",
          "1970-01-01T18:44:57.951316",
          "1970-01-01T18:45:11.198801",
          "1970-01-01T18:45:24.494959",
          "1970-01-01T18:45:37.857929",
          "1970-01-01T18:45:51.303043",
          "1970-01-01T18:46:04.679161",
          "1970-01-01T18:46:18.093890",
          "1970-01-01T18:46:31.567378",
          "1970-01-01T18:46:44.999566",
          "1970-01-01T18:46:58.359182",
          "1970-01-01T18:47:11.641985",
          "1970-01-01T18:47:24.926028",
          "1970-01-01T18:47:38.167331",
          "1970-01-01T18:47:51.386558",
          "1970-01-01T18:48:04.612668",
          "1970-01-01T18:48:17.888432",
          "1970-01-01T18:48:31.173238",
          "1970-01-01T18:48:44.452004",
          "1970-01-01T18:48:57.679211",
          "1970-01-01T18:49:10.930053",
          "1970-01-01T18:49:24.092635",
          "1970-01-01T18:49:37.158707",
          "1970-01-01T18:49:50.181888",
          "1970-01-01T18:50:03.194141",
          "1970-01-01T18:50:16.323434",
          "1970-01-01T18:50:29.504610",
          "1970-01-01T18:50:42.638049",
          "1970-01-01T18:50:55.851160",
          "1970-01-01T18:51:09.167641",
          "1970-01-01T18:51:22.568042",
          "1970-01-01T18:51:35.839235",
          "1970-01-01T18:51:49.154446",
          "1970-01-01T18:52:02.516200",
          "1970-01-01T18:52:15.885104",
          "1970-01-01T18:52:29.390639",
          "1970-01-01T18:52:42.961857",
          "1970-01-01T18:52:56.464837",
          "1970-01-01T18:53:09.814199",
          "1970-01-01T18:53:23.199484",
          "1970-01-01T18:53:36.444876",
          "1970-01-01T18:53:49.826073",
          "1970-01-01T18:54:02.934129",
          "1970-01-01T18:54:15.893755",
          "1970-01-01T18:54:28.697960",
          "1970-01-01T18:54:41.412678",
          "1970-01-01T18:54:54.013374",
          "1970-01-01T18:55:06.420223",
          "1970-01-01T18:55:18.514786",
          "1970-01-01T18:55:30.042165",
          "1970-01-01T18:55:41.272414",
          "1970-01-01T18:55:52.926212",
          "1970-01-01T18:56:04.821515",
          "1970-01-01T18:56:16.848020",
          "1970-01-01T18:56:28.907459",
          "1970-01-01T18:56:41.119238",
          "1970-01-01T18:56:53.385517",
          "1970-01-01T18:57:06.045010",
          "1970-01-01T18:57:18.960706",
          "1970-01-01T18:57:33.193776",
          "1970-01-01T18:57:48.950677",
          "1970-01-01T18:58:06.385107",
          "1970-01-01T18:58:26.420681",
          "1970-01-01T18:58:49.071554",
          "1970-01-01T18:59:24.499019"
         ],
         "y": [
          28723.63884,
          28768.75822,
          28785.732426666666,
          28834.907283333334,
          28880.359783333333,
          28939.00190666667,
          28976.491286666667,
          29026.734686666667,
          29072.55604,
          29134.691976666665,
          29197.17649,
          29236.090296666665,
          29276.407363333332,
          29307.922766666667,
          29363.760373333334,
          29400.48415,
          29441.75002666667,
          29498.101123333334,
          29563.579433333332,
          29654.573566666666,
          29735.111686666667,
          29777.835303333333,
          29789.58223,
          29830.14337,
          29866.25785,
          29912.968603333335,
          29960.293183333335,
          30000.965696666666,
          30049.74521333333,
          30101.985156666666,
          30201.996173333333,
          30245.69813,
          30248.91851,
          30256.107803333332,
          30298.371243333335,
          30605.375376666667,
          30645.84365,
          30678.97858,
          30719.166053333334,
          30776.52903,
          30803.53874,
          30900.311913333335,
          30979.414826666667,
          31049.71402666667,
          31087.39823,
          31115.566816666666,
          31151.006426666667,
          31170.521536666667,
          31192.941036666667,
          31192.004943333333,
          31206.56991,
          31233.820613333333,
          31252.892276666666,
          31269.228706666665,
          31307.029296666668,
          31349.857146666665,
          31391.166006666666,
          31436.802583333334,
          31468.319553333335,
          31560.95207,
          31614.25041,
          31624.515533333335,
          31658.69901,
          31672.61248,
          31659.65836,
          31692.477346666667,
          31742.645596666665,
          31789.590506666667,
          31809.591483333334,
          31844.72221,
          31859.009153333333,
          31894.386976666665,
          31901.64833,
          31931.916653333334,
          31984.604683333335,
          32047.875196666668,
          32070.374913333333,
          32073.471443333332,
          32101.935716666667,
          32170.28157,
          32192.508403333333,
          32210.930113333332,
          32246.650763333335,
          32261.58931666667,
          32296.450643333334,
          32327.35876,
          32345.663493333333,
          32378.05472,
          32422.51248,
          32458.491023333332,
          32502.95163,
          32550.63617,
          32589.599423333333,
          32625.04944,
          32641.142203333333,
          32629.010203333335,
          32584.093833333332,
          32588.02968,
          32595.29864,
          32596.506166666666,
          32607.68275,
          32622.241146666667,
          32645.74663,
          32676.097993333333,
          32686.0676,
          32701.531373333335,
          32722.188213333335,
          32738.839643333333,
          32768.76541666667,
          32788.54732666667,
          32810.697036666665,
          32823.13034,
          32831.16996,
          32854.561896666666,
          32872.178953333336,
          32891.78698,
          32902.71573,
          32920.12453,
          32932.08581333333,
          32942.68654,
          32968.93508,
          33003.28233666666,
          32985.36423666667,
          32988.32867333333,
          32993.095283333336,
          33037.43785,
          33084.62676,
          33104.782913333336,
          33132.37071333333,
          33155.40201666667,
          33172.05921666667,
          33180.45540333333,
          33202.865106666664,
          33213.594736666666,
          33209.965436666665,
          33219.8999,
          33236.90537,
          33264.876743333334,
          33299.9233,
          33339.05689666667,
          33356.15643,
          33374.74131666667,
          33386.01392333333,
          33413.24830666667,
          33378.30223666667,
          33378.82640666667,
          33395.309056666665,
          33424.91472666667,
          33426.776276666664,
          33408.07126333333,
          33428.39435333334,
          33480.292173333335,
          33502.99788333333,
          33507.37934666667,
          33521.36291,
          33546.05103333334,
          33571.50005,
          33593.486716666666,
          33602.2822,
          33665.58616333333,
          33707.39692666667,
          33761.08328333333,
          33799.40501333334,
          33826.82993,
          33857.38687333334,
          33858.99674,
          33843.77871,
          33851.719053333334,
          33837.19688333333,
          33830.98151333333,
          33835.48816,
          33815.79314666666,
          33805.75579,
          33821.075756666665,
          33835.46672,
          33855.96554,
          33877.43159,
          33895.59467333333,
          33925.363196666665,
          33952.08346666666,
          33945.23415333333,
          33953.579463333335,
          33967.14464,
          33966.429996666666,
          33993.67374,
          33987.52508666667,
          33969.117666666665,
          33975.46682,
          33980.98493,
          33995.11218333333,
          33998.21565333333,
          33998.72933333334,
          34017.76761333333,
          34077.38901,
          34120.81057666666,
          34181.66540666667,
          34220.718766666665,
          34266.41136333333,
          34262.02440333334,
          34281.914403333336,
          34332.74586,
          34379.480176666664,
          34432.04172,
          34478.07579333333,
          34479.37032666666,
          34495.02884333333,
          34501.18232666667,
          34493.632406666664,
          34517.18092333333,
          34559.984613333334,
          34579.5283,
          34604.80148333334,
          34617.04062,
          34615.84176,
          34638.97333,
          34633.13113,
          34671.292193333335,
          34697.92851,
          34731.02703333333,
          34736.68574,
          34753.340183333334,
          34774.94177,
          34820.40445,
          34848.35911666667,
          34882.087653333336,
          34890.88099666667,
          34923.28954,
          34954.03246333334,
          34979.986333333334,
          34991.48730666667,
          35027.25772,
          35029.72255,
          35044.33974,
          35029.24417666667,
          35024.856466666664,
          35049.70114333333,
          35065.613496666665,
          35099.630646666665,
          35134.17143,
          35154.28177,
          35120.683306666666,
          35125.61573666667,
          35135.020846666666,
          35161.56123,
          35157.97243666666,
          35138.65624,
          35127.306946666664,
          35144.06745,
          35136.68649666667,
          35146.72969,
          35218.05658333333,
          35224.78406,
          35212.24780333333,
          35211.99109,
          35234.59596,
          35256.91251,
          35276.67203666666,
          35288.87759,
          35294.18303,
          35312.241766666666,
          35292.46595,
          35280.7638,
          35285.74734666666,
          35298.69127,
          35296.61424,
          35270.67515333333,
          35278.002636666664,
          35277.989863333336,
          35257.50715,
          35260.53217666667,
          35112.76312,
          34988.88505,
          34883.58546333334,
          34680.04247666667,
          34549.811356666665,
          34405.85118666667,
          34328.95447333333,
          34165.78064,
          33953.4211,
          33739.49863666666,
          33670.37965,
          33592.40201666667,
          33415.522866666666,
          33162.246243333335,
          32973.97210666667,
          32789.97296,
          32604.16542,
          32416.729993333334,
          32213.50808,
          32039.62273,
          31988.76298,
          31976.707436666667,
          31978.630563333332,
          31989.165673333333,
          31970.71284,
          31950.179633333333,
          31957.397493333334,
          31974.19469,
          31996.527616666666,
          31992.133416666667,
          31993.50763,
          31988.244693333334,
          32020.28962,
          32031.151013333332,
          32034.39317,
          32019.351313333333,
          32004.36492,
          32019.608696666666,
          32048.750306666665,
          32053.551326666668,
          32070.97334,
          32111.39345,
          32126.18277666667,
          32139.294363333334,
          32138.09408,
          32125.302313333334,
          32150.122273333334,
          32165.38412,
          32162.287636666668,
          32118.29951333333,
          32087.346573333332,
          32099.770346666668,
          32129.728556666665,
          32129.025,
          32130.479363333332,
          32137.207713333333,
          32159.47498,
          32180.370163333333,
          32366.946206666667,
          32374.692916666667,
          32336.56246,
          32386.475016666667,
          32395.217083333333,
          32393.32897,
          32410.503083333333,
          32181.701336666665,
          32220.31131333333,
          32285.001476666668,
          32444.24426,
          32436.571556666666,
          32465.30377,
          32381.68523,
          32307.902346666666,
          32266.887716666668,
          32272.325976666667,
          32292.976386666665,
          32281.20869666667,
          32292.090523333332,
          32288.515533333335,
          32330.237306666666,
          32351.36523666667,
          32361.77887,
          32379.956033333332,
          32403.847403333333,
          32397.166573333332,
          32381.9245,
          32389.538813333333,
          32391.55325333333,
          32388.41831333333,
          32339.089813333332,
          32335.679706666666,
          32349.37356,
          32347.432536666667,
          32351.641873333334,
          32364.147463333335,
          32363.56494,
          32339.65476,
          32337.112283333332,
          32352.759856666667,
          32359.37517,
          32379.429973333332,
          32396.63228,
          32419.746786666667,
          32428.159906666668,
          32413.902663333334,
          32387.679616666668,
          32392.15578,
          32412.743896666667,
          32422.60734,
          32403.051083333332,
          32416.419756666666,
          32425.309183333335,
          32413.982506666667,
          32420.749426666665,
          32432.26635,
          32431.66731333333,
          32449.21163,
          32454.203386666668,
          32462.2824,
          32487.93841,
          32507.46532666667,
          32555.54586,
          32573.247743333333,
          32571.569846666665,
          32582.895463333334,
          32586.416323333335,
          32604.367003333333,
          32569.324656666668,
          32576.726146666668,
          32607.376963333332,
          32610.38573,
          32645.184736666666,
          32741.951523333333,
          32785.079046666666,
          32819.77608,
          32873.73923,
          32934.56047333333,
          32980.163323333334,
          33024.62452666667,
          33055.11481333333,
          33081.303303333334,
          33099.762266666665,
          33115.18297,
          33145.47151333333,
          33145.88893666667,
          33184.444566666665,
          33247.16938666667,
          33280.918853333336,
          33325.26996333333,
          33367.09828,
          33390.30308,
          33424.755236666664,
          33546.58690333334,
          33612.143443333334,
          33672.024073333334,
          33680.505346666665,
          33667.56682666667,
          33720.389473333336,
          33763.12572333333,
          33779.38004,
          33800.703363333334,
          33845.42275666667,
          33889.541633333334,
          33933.492686666665,
          33970.40165666667,
          34026.748733333334,
          34039.90481,
          34042.01068,
          34053.18965,
          34052.70955,
          34060.27593,
          34063.10918666667,
          34111.994783333335,
          34117.01952666666,
          34128.24123,
          34144.23497333333,
          34184.775513333334,
          34219.44404,
          34249.57018,
          34292.21133666667,
          34319.91444666667,
          34302.48652333333,
          34312.09788,
          34334.29467,
          34343.58271,
          34343.97321,
          34340.04008666667,
          34361.98735,
          34397.55364,
          34384.58511666667,
          34397.46647,
          34397.05203666667,
          34400.06527333333,
          34404.883786666665,
          34397.628313333335,
          34430.31864,
          34450.12034,
          34504.69113666667,
          34591.998896666664,
          34610.889643333336,
          34636.859136666666,
          34643.48137,
          34640.57134,
          34658.01122,
          34653.21636333333,
          34632.82136,
          34653.54387,
          34647.49929666667,
          34635.863176666666,
          34627.50244,
          34642.52936,
          34648.406526666666,
          34648.733406666666,
          34664.74179666667,
          34658.572726666665,
          34685.17884666667,
          34753.63595333333,
          34750.84296666666,
          34734.554663333336,
          34719.016396666666,
          34753.13637,
          34773.76051,
          34790.09484666667,
          34750.48008,
          34714.23373,
          34683.31447333333,
          34699.901476666666,
          34687.37037333333,
          34689.901073333334,
          34708.86227666667,
          34679.17827333333,
          34680.80066,
          34682.80438,
          34677.75214333333,
          34670.71394666666,
          34677.33605666667,
          34690.40633,
          34758.23541666667,
          34862.089583333334,
          34836.164476666665,
          34838.94889666667,
          34917.37145333333,
          34931.18444333333,
          34978.635343333335,
          34969.20658333333,
          35033.117183333336,
          35073.75202,
          35132.49449,
          35155.63797,
          35179.91972333333,
          35210.28779333334,
          35224.55713,
          35220.14855666667,
          35203.25945333333,
          35239.031123333334,
          35253.909933333336,
          35250.78066333333,
          35234.41988,
          35218.38176,
          35240.17377666667,
          35249.24184333334,
          35243.41907,
          35240.42067,
          35247.71141,
          35289.77685333334,
          35305.77637666667,
          35308.90588333333,
          35343.19942,
          35338.594236666664,
          35368.902753333336,
          35397.92441666667,
          35395.38262,
          35411.80436333334,
          35401.44934,
          35399.45524,
          35416.07814666667,
          35429.20494333333,
          35419.74195333333,
          35435.49676666666,
          35444.36452333333,
          35444.570393333335,
          35472.44197,
          35507.18925,
          35517.03803333333,
          35512.36254666666,
          35510.77256,
          35522.05871333333,
          35511.589283333335,
          35531.734403333336,
          35531.55732,
          35549.89549,
          35575.99084,
          35571.247756666664,
          35581.543516666665,
          35590.05950333333,
          35605.44608666666,
          35632.76792333333,
          35644.00233,
          35716.88737333333,
          35726.85844,
          35759.277753333336,
          35756.83938666667,
          35752.803283333335,
          35775.54244,
          35790.31609666667,
          35784.35231333334,
          35797.860043333334,
          35818.57029,
          35842.56510666667,
          35833.84699333333,
          35853.23901333333,
          35872.62305666666,
          35856.539893333334,
          35865.43871333334,
          35890.72816666667,
          35909.178973333335,
          35928.170776666666,
          35955.40398333333,
          35961.08130333333,
          35954.06008,
          35958.43651,
          35959.36656333334,
          35988.782576666665,
          36006.57796333334,
          36026.37163666666,
          36050.70399,
          36047.58807666667,
          36041.07616333333,
          36055.62098,
          36405.79098,
          36495.04862666666,
          36588.389866666665,
          36700.58919666667,
          36754.42936666666,
          36872.234103333336,
          37002.913226666664,
          37148.24825333333,
          37276.14434666667,
          37423.07976,
          37538.142556666666,
          37555.170066666666,
          37533.38551,
          37556.716843333335,
          37581.63281333333,
          37638.28360477742,
          37666.6385820833,
          37677.10465315732,
          37679.159541044464,
          37680.92388724287,
          37705.672800475666,
          37718.92040910253,
          37727.14415804327,
          37737.757727623786,
          37756.933150779296,
          37784.236415795385,
          37797.32544871239,
          37802.55768554773,
          37808.31322448267,
          37633.09739069482,
          37639.99200562736,
          37644.199541162976,
          37613.81245019038,
          37624.01784768506,
          37648.59619727102,
          37657.79630537904,
          37651.733703404294,
          37635.23644099883,
          37603.15701438524,
          37463.419940070824,
          37483.58350861205,
          37473.953999817066,
          37495.67584320206,
          37524.27883165945,
          37543.67716637381,
          37556.82299081036,
          37556.484624988356,
          37566.042405311884,
          37577.379168309395,
          37604.2720097993,
          37582.119553579876,
          37591.28197094845,
          37613.44519584485,
          37628.51627284033,
          37642.825452799385,
          37670.9832873807,
          37688.76166456982,
          37710.17680365297,
          37721.86953281966,
          37733.11497503182,
          37751.69053376585,
          37768.26283627751,
          37767.898178935895,
          37797.66230577937,
          37830.44709477679,
          37858.79300912464,
          37880.57197221383,
          37913.49312847468,
          37930.090628235055,
          37946.16327320901,
          37960.631695487566,
          37963.329156477965,
          37965.602447126796,
          37981.22367346939,
          37993.88393217518,
          38029.78110519169,
          38062.780153152205,
          38099.15882018329,
          38133.54408970697,
          38156.339853394245,
          38176.74846900672,
          38195.43763420122,
          38214.33442375982,
          38255.379517994166,
          38280.22434820363,
          38295.688616592175,
          38332.712795357496,
          38344.42981634224,
          38360.34260466144,
          38371.958917119715,
          38365.23911289424,
          38358.3181864995,
          38324.96564039132,
          38327.81514514854,
          38348.64021332123,
          38360.887003305594,
          38383.21463872667,
          38404.81641320603,
          38444.16513579105,
          38480.23533728086,
          38501.940991484895,
          38551.46973866167,
          38552.23201224538,
          38453.59047911984,
          38426.502351123265,
          38426.05585572674,
          38397.711998079925,
          38353.31034366333,
          38331.83488670786,
          38312.579164738825,
          38310.255617276394,
          38299.15255871142,
          38322.17807982207,
          38357.22365329691,
          38359.45784600025,
          38409.96018060956,
          38400.357030127314,
          38367.369765615105,
          38371.6553928435,
          38348.0255983617,
          38358.60974141258,
          38377.63966377861,
          38340.39843494086,
          38220.518850124135,
          38160.12226980166,
          38114.92085038954,
          38100.491602283284,
          38134.981150407046,
          38104.638980276395,
          38082.94330500472,
          38096.67688593517,
          38101.600327287604,
          38087.925572466746,
          38055.411344271335,
          38017.95799805906,
          37995.86025372926,
          37969.834493200615,
          37983.66641477513,
          38017.15140791153,
          38034.671815200345,
          38051.31714326689,
          38050.45006202221,
          38085.37978819092,
          38053.889280607036,
          38085.723739909,
          38111.896016536244,
          38112.47790286648,
          38100.24463768116,
          38077.333864422064,
          38103.86907001361,
          38076.90268674882,
          38075.863958365226,
          38102.23388880333,
          38121.21955059662,
          38131.75145485732,
          38161.4149003609,
          38182.90388757303,
          38199.4120260607,
          38191.996673596674,
          38164.454949299856,
          38137.65149522112,
          38138.03831077776,
          38150.72947973084,
          38143.051723112505,
          38163.08753035091,
          38203.52946258162,
          38198.677047025114,
          38213.12910232479,
          38157.08898001025,
          38049.71612592465,
          38076.69421791097,
          38085.14502703646,
          38134.94565958194,
          38195.43312931187,
          38230.8690896134,
          38284.24257670913,
          38353.18455810591,
          38359.21115601675,
          38424.03488721805,
          38488.289724736744,
          38556.33823190024,
          38597.37497843615,
          38645.591316833554,
          38702.488916809445,
          38717.36068290811,
          38771.36772472453,
          38803.19666471849,
          38709.34763793442,
          38775.4934336038,
          38821.91744663874,
          38893.21164689322,
          38895.378755321304,
          38940.875152258326,
          38968.77407788997,
          39016.75070849782,
          39067.93521055939,
          39116.86328332981,
          39088.81305774558,
          39118.345686653774,
          39161.189950140906,
          39176.007050076536,
          39249.916946834324,
          39267.65861562431,
          39262.51980238042,
          39293.00398821663,
          39379.4575623142,
          39430.816432033236,
          39450.98565105986,
          39378.66677639313,
          39109.160968431046,
          39161.27323268632,
          39210.0999177353,
          39044.14607378451,
          39094.30993338268,
          39042.255758783955,
          39051.24321167883,
          38969.85361810323,
          38872.69749807347,
          38759.147729042306,
          38716.950380277995,
          38710.04364696528,
          38676.85103669971,
          38681.58718656919,
          38732.302545852726,
          38795.72976473845,
          38765.55526448363,
          38828.149448061136,
          38890.38766676209,
          39013.52770344628,
          39102.103006152945,
          39128.79733175215,
          39159.078379837985,
          39271.765417552386,
          39381.8422625269,
          39443.3231870526,
          39436.19557516546,
          39469.1969869135,
          39578.237516973815,
          39550.16771699967,
          39632.21789578493,
          39619.764480322905,
          39663.85141493352,
          39771.236335983405,
          39806.05128636523,
          39937.33225737647,
          40083.19914893617,
          40165.409615806806,
          40302.86028963981,
          40466.13798718432,
          40589.95794871795,
          40684.95958025651,
          40637.37849190683,
          40697.93436020859,
          40685.8694007338,
          40858.695499378366,
          41028.55598820059,
          41233.952576082294,
          41386.332071522025,
          41590.637425654684,
          41749.629426118394,
          41951.649167050164,
          42128.4080262541,
          42259.45276636407,
          42425.771320019485,
          42528.80393442623,
          42719.140881905725,
          42989.08028970512,
          43137.55030110935,
          43394.40869940637,
          43288.95697738555,
          43544.126700507615,
          43772.647247547604,
          44148.4155699941,
          44520.272595281305,
          44790.45954122752,
          45049.1859885569,
          45522.02846705806,
          45817.13077026122,
          46134.30818995182,
          46456.69947629158,
          46900.153357611074,
          47329.95285821455,
          47754.75771075019,
          48260.20858739026,
          48881.32906842539,
          49125.72473998295,
          49655.078834951455,
          50235.498298261664,
          50694.37819563153,
          51602.425942744325,
          52373.5249331963,
          53267.4838585209,
          54358.57782754759,
          55062.23352872216,
          55897.87114391144,
          57092.25702457956,
          58223.253969986356,
          59766.45154401154,
          61318.05359877489,
          62752.611549755304,
          57867.98254799302,
          57994.31774859287,
          58031.31350912779,
          57279.01845474614,
          57899.04765133172,
          56988.665737265415,
          55827.52,
          53874.12464163823,
          50960.30640316205,
          45449.708169014084,
          40320.78080924856,
          39854.16992481203,
          42861.048602150535,
          45436.22188679245,
          66823.5723076923
         ]
        },
        {
         "line": {
          "color": "red"
         },
         "mode": "lines",
         "name": "Opposite",
         "showlegend": true,
         "type": "scatter",
         "x": [
          "1970-01-01T14:28:27.854424",
          "1970-01-01T14:28:40.467802",
          "1970-01-01T14:28:53.113126",
          "1970-01-01T14:29:05.787183",
          "1970-01-01T14:29:18.482855",
          "1970-01-01T14:29:31.213812",
          "1970-01-01T14:29:43.978424",
          "1970-01-01T14:29:56.772964",
          "1970-01-01T14:30:09.603666",
          "1970-01-01T14:30:22.467169",
          "1970-01-01T14:30:35.357085",
          "1970-01-01T14:30:48.278963",
          "1970-01-01T14:31:01.232633",
          "1970-01-01T14:31:14.205830",
          "1970-01-01T14:31:27.195086",
          "1970-01-01T14:31:40.217572",
          "1970-01-01T14:31:53.280036",
          "1970-01-01T14:32:06.372847",
          "1970-01-01T14:32:19.488486",
          "1970-01-01T14:32:32.627805",
          "1970-01-01T14:32:45.796153",
          "1970-01-01T14:32:59.009080",
          "1970-01-01T14:33:12.259788",
          "1970-01-01T14:33:25.545431",
          "1970-01-01T14:33:38.867761",
          "1970-01-01T14:33:52.222794",
          "1970-01-01T14:34:05.593567",
          "1970-01-01T14:34:18.977326",
          "1970-01-01T14:34:32.381236",
          "1970-01-01T14:34:45.806001",
          "1970-01-01T14:34:59.261004",
          "1970-01-01T14:35:12.736229",
          "1970-01-01T14:35:26.231750",
          "1970-01-01T14:35:39.749209",
          "1970-01-01T14:35:53.284084",
          "1970-01-01T14:36:06.822995",
          "1970-01-01T14:36:20.388981",
          "1970-01-01T14:36:33.984960",
          "1970-01-01T14:36:47.603270",
          "1970-01-01T14:37:01.252245",
          "1970-01-01T14:37:14.932209",
          "1970-01-01T14:37:28.653731",
          "1970-01-01T14:37:42.417309",
          "1970-01-01T14:37:56.224222",
          "1970-01-01T14:38:10.058260",
          "1970-01-01T14:38:23.910116",
          "1970-01-01T14:38:37.780736",
          "1970-01-01T14:38:51.677119",
          "1970-01-01T14:39:05.589316",
          "1970-01-01T14:39:19.523668",
          "1970-01-01T14:39:33.495811",
          "1970-01-01T14:39:47.498762",
          "1970-01-01T14:40:01.533747",
          "1970-01-01T14:40:15.591692",
          "1970-01-01T14:40:29.679557",
          "1970-01-01T14:40:43.806014",
          "1970-01-01T14:40:57.960401",
          "1970-01-01T14:41:12.140469",
          "1970-01-01T14:41:26.355164",
          "1970-01-01T14:41:40.598827",
          "1970-01-01T14:41:54.858823",
          "1970-01-01T14:42:09.146876",
          "1970-01-01T14:42:23.481205",
          "1970-01-01T14:42:37.845280",
          "1970-01-01T14:42:52.244683",
          "1970-01-01T14:43:06.688163",
          "1970-01-01T14:43:21.152129",
          "1970-01-01T14:43:35.631320",
          "1970-01-01T14:43:50.135817",
          "1970-01-01T14:44:04.664564",
          "1970-01-01T14:44:19.215746",
          "1970-01-01T14:44:33.793021",
          "1970-01-01T14:44:48.400817",
          "1970-01-01T14:45:03.041845",
          "1970-01-01T14:45:17.703271",
          "1970-01-01T14:45:32.390876",
          "1970-01-01T14:45:47.108115",
          "1970-01-01T14:46:01.868100",
          "1970-01-01T14:46:16.655394",
          "1970-01-01T14:46:31.464702",
          "1970-01-01T14:46:46.312098",
          "1970-01-01T14:47:01.185153",
          "1970-01-01T14:47:16.094993",
          "1970-01-01T14:47:31.036951",
          "1970-01-01T14:47:46.001750",
          "1970-01-01T14:48:00.982577",
          "1970-01-01T14:48:15.982942",
          "1970-01-01T14:48:31.000267",
          "1970-01-01T14:48:46.043762",
          "1970-01-01T14:49:01.118175",
          "1970-01-01T14:49:16.212248",
          "1970-01-01T14:49:31.323582",
          "1970-01-01T14:49:46.458147",
          "1970-01-01T14:50:01.628730",
          "1970-01-01T14:50:16.817850",
          "1970-01-01T14:50:32.010399",
          "1970-01-01T14:50:47.210933",
          "1970-01-01T14:51:02.438368",
          "1970-01-01T14:51:17.682185",
          "1970-01-01T14:51:32.952524",
          "1970-01-01T14:51:48.256128",
          "1970-01-01T14:52:03.580493",
          "1970-01-01T14:52:18.928140",
          "1970-01-01T14:52:34.309079",
          "1970-01-01T14:52:49.711665",
          "1970-01-01T14:53:05.140288",
          "1970-01-01T14:53:20.594083",
          "1970-01-01T14:53:36.071418",
          "1970-01-01T14:53:51.576455",
          "1970-01-01T14:54:07.106008",
          "1970-01-01T14:54:22.650073",
          "1970-01-01T14:54:38.208468",
          "1970-01-01T14:54:53.797814",
          "1970-01-01T14:55:09.416515",
          "1970-01-01T14:55:25.055911",
          "1970-01-01T14:55:40.726536",
          "1970-01-01T14:55:56.425010",
          "1970-01-01T14:56:12.163033",
          "1970-01-01T14:56:27.933749",
          "1970-01-01T14:56:43.727591",
          "1970-01-01T14:56:59.547128",
          "1970-01-01T14:57:15.394349",
          "1970-01-01T14:57:31.267600",
          "1970-01-01T14:57:47.169056",
          "1970-01-01T14:58:03.081421",
          "1970-01-01T14:58:19.001172",
          "1970-01-01T14:58:34.930763",
          "1970-01-01T14:58:50.891436",
          "1970-01-01T14:59:06.879366",
          "1970-01-01T14:59:22.899913",
          "1970-01-01T14:59:38.938952",
          "1970-01-01T14:59:55.017529",
          "1970-01-01T15:00:11.140870",
          "1970-01-01T15:00:27.285857",
          "1970-01-01T15:00:43.466916",
          "1970-01-01T15:00:59.679444",
          "1970-01-01T15:01:15.916244",
          "1970-01-01T15:01:32.173677",
          "1970-01-01T15:01:48.452097",
          "1970-01-01T15:02:04.747029",
          "1970-01-01T15:02:21.046821",
          "1970-01-01T15:02:37.366965",
          "1970-01-01T15:02:53.709162",
          "1970-01-01T15:03:10.083113",
          "1970-01-01T15:03:26.504509",
          "1970-01-01T15:03:42.942121",
          "1970-01-01T15:03:59.401595",
          "1970-01-01T15:04:15.887554",
          "1970-01-01T15:04:32.400937",
          "1970-01-01T15:04:48.971442",
          "1970-01-01T15:05:05.560488",
          "1970-01-01T15:05:22.152124",
          "1970-01-01T15:05:38.770667",
          "1970-01-01T15:05:55.411306",
          "1970-01-01T15:06:12.073854",
          "1970-01-01T15:06:28.783676",
          "1970-01-01T15:06:45.527633",
          "1970-01-01T15:07:02.316820",
          "1970-01-01T15:07:19.137724",
          "1970-01-01T15:07:35.978593",
          "1970-01-01T15:07:52.851914",
          "1970-01-01T15:08:09.749415",
          "1970-01-01T15:08:26.662615",
          "1970-01-01T15:08:43.599455",
          "1970-01-01T15:09:00.562957",
          "1970-01-01T15:09:17.540787",
          "1970-01-01T15:09:34.546564",
          "1970-01-01T15:09:51.581033",
          "1970-01-01T15:10:08.647938",
          "1970-01-01T15:10:25.768718",
          "1970-01-01T15:10:42.921708",
          "1970-01-01T15:11:00.118412",
          "1970-01-01T15:11:17.363422",
          "1970-01-01T15:11:34.630088",
          "1970-01-01T15:11:51.921845",
          "1970-01-01T15:12:09.246311",
          "1970-01-01T15:12:26.586950",
          "1970-01-01T15:12:43.946165",
          "1970-01-01T15:13:01.328605",
          "1970-01-01T15:13:18.710670",
          "1970-01-01T15:13:36.100027",
          "1970-01-01T15:13:53.503545",
          "1970-01-01T15:14:10.923175",
          "1970-01-01T15:14:28.379892",
          "1970-01-01T15:14:45.870513",
          "1970-01-01T15:15:03.381150",
          "1970-01-01T15:15:20.928151",
          "1970-01-01T15:15:38.510336",
          "1970-01-01T15:15:56.124735",
          "1970-01-01T15:16:13.773382",
          "1970-01-01T15:16:31.455917",
          "1970-01-01T15:16:49.169034",
          "1970-01-01T15:17:06.921272",
          "1970-01-01T15:17:24.687650",
          "1970-01-01T15:17:42.472072",
          "1970-01-01T15:18:00.280069",
          "1970-01-01T15:18:18.100278",
          "1970-01-01T15:18:35.950836",
          "1970-01-01T15:18:53.823459",
          "1970-01-01T15:19:11.702573",
          "1970-01-01T15:19:29.580275",
          "1970-01-01T15:19:47.466256",
          "1970-01-01T15:20:05.387466",
          "1970-01-01T15:20:23.320646",
          "1970-01-01T15:20:41.284340",
          "1970-01-01T15:20:59.282995",
          "1970-01-01T15:21:17.316436",
          "1970-01-01T15:21:35.385820",
          "1970-01-01T15:21:53.477373",
          "1970-01-01T15:22:11.597570",
          "1970-01-01T15:22:29.728792",
          "1970-01-01T15:22:47.875470",
          "1970-01-01T15:23:06.046054",
          "1970-01-01T15:23:24.240934",
          "1970-01-01T15:23:42.443749",
          "1970-01-01T15:24:00.680938",
          "1970-01-01T15:24:18.949211",
          "1970-01-01T15:24:37.249027",
          "1970-01-01T15:24:55.582476",
          "1970-01-01T15:25:13.932666",
          "1970-01-01T15:25:32.279581",
          "1970-01-01T15:25:50.643886",
          "1970-01-01T15:26:09.052846",
          "1970-01-01T15:26:27.485529",
          "1970-01-01T15:26:45.939567",
          "1970-01-01T15:27:04.406662",
          "1970-01-01T15:27:22.901515",
          "1970-01-01T15:27:41.408466",
          "1970-01-01T15:27:59.919618",
          "1970-01-01T15:28:18.453963",
          "1970-01-01T15:28:37.021200",
          "1970-01-01T15:28:55.625408",
          "1970-01-01T15:29:14.259503",
          "1970-01-01T15:29:32.925066",
          "1970-01-01T15:29:51.629075",
          "1970-01-01T15:30:10.373589",
          "1970-01-01T15:30:29.145492",
          "1970-01-01T15:30:47.956558",
          "1970-01-01T15:31:06.800823",
          "1970-01-01T15:31:25.680910",
          "1970-01-01T15:31:44.597586",
          "1970-01-01T15:32:03.549797",
          "1970-01-01T15:32:22.555618",
          "1970-01-01T15:32:41.598380",
          "1970-01-01T15:33:00.672652",
          "1970-01-01T15:33:19.765722",
          "1970-01-01T15:33:38.908489",
          "1970-01-01T15:33:58.090263",
          "1970-01-01T15:34:17.294898",
          "1970-01-01T15:34:36.518675",
          "1970-01-01T15:34:55.755658",
          "1970-01-01T15:35:15.011500",
          "1970-01-01T15:35:34.313362",
          "1970-01-01T15:35:53.645075",
          "1970-01-01T15:36:13.015461",
          "1970-01-01T15:36:32.401454",
          "1970-01-01T15:36:51.820128",
          "1970-01-01T15:37:11.276842",
          "1970-01-01T15:37:30.757128",
          "1970-01-01T15:37:50.277107",
          "1970-01-01T15:38:09.822289",
          "1970-01-01T15:38:29.401104",
          "1970-01-01T15:38:49.011568",
          "1970-01-01T15:39:08.667374",
          "1970-01-01T15:39:28.352740",
          "1970-01-01T15:39:48.053869",
          "1970-01-01T15:40:07.787131",
          "1970-01-01T15:40:27.559382",
          "1970-01-01T15:40:47.358361",
          "1970-01-01T15:41:07.181644",
          "1970-01-01T15:41:27.039036",
          "1970-01-01T15:41:46.947838",
          "1970-01-01T15:42:06.885624",
          "1970-01-01T15:42:26.848407",
          "1970-01-01T15:42:46.837562",
          "1970-01-01T15:43:06.856947",
          "1970-01-01T15:43:26.907057",
          "1970-01-01T15:43:46.958623",
          "1970-01-01T15:44:07.045695",
          "1970-01-01T15:44:27.171491",
          "1970-01-01T15:44:47.316436",
          "1970-01-01T15:45:07.509215",
          "1970-01-01T15:45:27.723959",
          "1970-01-01T15:45:47.962861",
          "1970-01-01T15:46:08.224145",
          "1970-01-01T15:46:28.509901",
          "1970-01-01T15:46:48.832862",
          "1970-01-01T15:47:09.178402",
          "1970-01-01T15:47:29.554797",
          "1970-01-01T15:47:49.951075",
          "1970-01-01T15:48:10.370881",
          "1970-01-01T15:48:30.818385",
          "1970-01-01T15:48:51.281998",
          "1970-01-01T15:49:11.748920",
          "1970-01-01T15:49:32.235646",
          "1970-01-01T15:49:52.754683",
          "1970-01-01T15:50:13.303231",
          "1970-01-01T15:50:33.887971",
          "1970-01-01T15:50:54.511705",
          "1970-01-01T15:51:15.166712",
          "1970-01-01T15:51:35.857260",
          "1970-01-01T15:51:56.572649",
          "1970-01-01T15:52:17.321077",
          "1970-01-01T15:52:38.092653",
          "1970-01-01T15:52:58.900533",
          "1970-01-01T15:53:19.736618",
          "1970-01-01T15:53:40.602007",
          "1970-01-01T15:54:01.494157",
          "1970-01-01T15:54:22.407680",
          "1970-01-01T15:54:43.353215",
          "1970-01-01T15:55:04.330123",
          "1970-01-01T15:55:25.322921",
          "1970-01-01T15:55:46.329717",
          "1970-01-01T15:56:07.361828",
          "1970-01-01T15:56:28.431049",
          "1970-01-01T15:56:49.518394",
          "1970-01-01T15:57:10.631967",
          "1970-01-01T15:57:31.771856",
          "1970-01-01T15:57:52.943223",
          "1970-01-01T15:58:14.141055",
          "1970-01-01T15:58:35.362574",
          "1970-01-01T15:58:56.587361",
          "1970-01-01T15:59:17.801519",
          "1970-01-01T15:59:39.047070",
          "1970-01-01T16:00:00.301189",
          "1970-01-01T16:00:21.568408",
          "1970-01-01T16:00:42.874760",
          "1970-01-01T16:01:04.221130",
          "1970-01-01T16:01:25.603996",
          "1970-01-01T16:01:47.036401",
          "1970-01-01T16:02:08.507966",
          "1970-01-01T16:02:30.005199",
          "1970-01-01T16:02:51.529473",
          "1970-01-01T16:03:13.085116",
          "1970-01-01T16:03:34.658366",
          "1970-01-01T16:03:56.271278",
          "1970-01-01T16:04:17.900569",
          "1970-01-01T16:04:39.534355",
          "1970-01-01T16:05:01.189810",
          "1970-01-01T16:05:22.855506",
          "1970-01-01T16:05:44.511238",
          "1970-01-01T16:06:06.156029",
          "1970-01-01T16:06:27.796707",
          "1970-01-01T16:06:49.433809",
          "1970-01-01T16:07:11.086703",
          "1970-01-01T16:07:32.756505",
          "1970-01-01T16:07:54.443814",
          "1970-01-01T16:08:16.166222",
          "1970-01-01T16:08:37.914536",
          "1970-01-01T16:08:59.681259",
          "1970-01-01T16:09:21.461933",
          "1970-01-01T16:09:43.258422",
          "1970-01-01T16:10:05.068882",
          "1970-01-01T16:10:26.883733",
          "1970-01-01T16:10:48.694906",
          "1970-01-01T16:11:10.518702",
          "1970-01-01T16:11:32.348638",
          "1970-01-01T16:11:54.183168",
          "1970-01-01T16:12:16.014910",
          "1970-01-01T16:12:37.850472",
          "1970-01-01T16:12:59.705672",
          "1970-01-01T16:13:21.589794",
          "1970-01-01T16:13:43.483512",
          "1970-01-01T16:14:05.401233",
          "1970-01-01T16:14:27.325339",
          "1970-01-01T16:14:49.232488",
          "1970-01-01T16:15:11.165395",
          "1970-01-01T16:15:33.125643",
          "1970-01-01T16:15:55.110705",
          "1970-01-01T16:16:17.139072",
          "1970-01-01T16:16:39.200801",
          "1970-01-01T16:17:01.275009",
          "1970-01-01T16:17:23.357942",
          "1970-01-01T16:17:45.464666",
          "1970-01-01T16:18:07.598789",
          "1970-01-01T16:18:29.778920",
          "1970-01-01T16:18:51.984775",
          "1970-01-01T16:19:14.202627",
          "1970-01-01T16:19:36.461845",
          "1970-01-01T16:19:58.768937",
          "1970-01-01T16:20:21.085047",
          "1970-01-01T16:20:43.429273",
          "1970-01-01T16:21:05.793450",
          "1970-01-01T16:21:28.203423",
          "1970-01-01T16:21:50.654976",
          "1970-01-01T16:22:13.142142",
          "1970-01-01T16:22:35.648851",
          "1970-01-01T16:22:58.187801",
          "1970-01-01T16:23:20.745191",
          "1970-01-01T16:23:43.329229",
          "1970-01-01T16:24:05.951277",
          "1970-01-01T16:24:28.605590",
          "1970-01-01T16:24:51.282830",
          "1970-01-01T16:25:13.959639",
          "1970-01-01T16:25:36.667220",
          "1970-01-01T16:25:59.415039",
          "1970-01-01T16:26:22.207271",
          "1970-01-01T16:26:45.026048",
          "1970-01-01T16:27:07.871051",
          "1970-01-01T16:27:30.739128",
          "1970-01-01T16:27:53.621263",
          "1970-01-01T16:28:16.522063",
          "1970-01-01T16:28:39.439486",
          "1970-01-01T16:29:02.373240",
          "1970-01-01T16:29:25.322065",
          "1970-01-01T16:29:48.277992",
          "1970-01-01T16:30:11.252232",
          "1970-01-01T16:30:34.229197",
          "1970-01-01T16:30:57.224097",
          "1970-01-01T16:31:20.223029",
          "1970-01-01T16:31:43.233904",
          "1970-01-01T16:32:06.240532",
          "1970-01-01T16:32:29.250865",
          "1970-01-01T16:32:52.255344",
          "1970-01-01T16:33:15.258758",
          "1970-01-01T16:33:38.274385",
          "1970-01-01T16:34:01.304446",
          "1970-01-01T16:34:24.357224",
          "1970-01-01T16:34:47.417577",
          "1970-01-01T16:35:10.494433",
          "1970-01-01T16:35:33.583618",
          "1970-01-01T16:35:56.695261",
          "1970-01-01T16:36:19.825763",
          "1970-01-01T16:36:42.955693",
          "1970-01-01T16:37:06.115240",
          "1970-01-01T16:37:29.315313",
          "1970-01-01T16:37:52.544606",
          "1970-01-01T16:38:15.780724",
          "1970-01-01T16:38:39.031459",
          "1970-01-01T16:39:02.298864",
          "1970-01-01T16:39:25.591700",
          "1970-01-01T16:39:48.902385",
          "1970-01-01T16:40:12.213490",
          "1970-01-01T16:40:35.547874",
          "1970-01-01T16:40:58.885067",
          "1970-01-01T16:41:22.205121",
          "1970-01-01T16:41:45.536590",
          "1970-01-01T16:42:08.892366",
          "1970-01-01T16:42:32.262912",
          "1970-01-01T16:42:55.640096",
          "1970-01-01T16:43:19.036256",
          "1970-01-01T16:43:42.462627",
          "1970-01-01T16:44:05.906801",
          "1970-01-01T16:44:29.358845",
          "1970-01-01T16:44:52.817283",
          "1970-01-01T16:45:16.293715",
          "1970-01-01T16:45:39.791115",
          "1970-01-01T16:46:03.307714",
          "1970-01-01T16:46:26.848079",
          "1970-01-01T16:46:50.373755",
          "1970-01-01T16:47:13.931056",
          "1970-01-01T16:47:37.536764",
          "1970-01-01T16:48:01.180974",
          "1970-01-01T16:48:24.828970",
          "1970-01-01T16:48:48.474982",
          "1970-01-01T16:49:12.106496",
          "1970-01-01T16:49:35.747704",
          "1970-01-01T16:49:59.388816",
          "1970-01-01T16:50:23.034666",
          "1970-01-01T16:50:46.703918",
          "1970-01-01T16:51:10.385827",
          "1970-01-01T16:51:34.086751",
          "1970-01-01T16:51:57.815375",
          "1970-01-01T16:52:21.575106",
          "1970-01-01T16:52:45.379025",
          "1970-01-01T16:53:09.249005",
          "1970-01-01T16:53:33.165237",
          "1970-01-01T16:53:57.118198",
          "1970-01-01T16:54:21.073425",
          "1970-01-01T16:54:45.024716",
          "1970-01-01T16:55:09.007623",
          "1970-01-01T16:55:33.004139",
          "1970-01-01T16:55:57.009213",
          "1970-01-01T16:56:21.051232",
          "1970-01-01T16:56:45.138157",
          "1970-01-01T16:57:09.253636",
          "1970-01-01T16:57:33.385500",
          "1970-01-01T16:57:57.493634",
          "1970-01-01T16:58:21.592498",
          "1970-01-01T16:58:45.712872",
          "1970-01-01T16:59:09.834969",
          "1970-01-01T16:59:33.973432",
          "1970-01-01T16:59:58.145168",
          "1970-01-01T17:00:22.326016",
          "1970-01-01T17:00:46.519550",
          "1970-01-01T17:01:10.744056",
          "1970-01-01T17:01:34.968650",
          "1970-01-01T17:01:59.199331",
          "1970-01-01T17:02:23.463237",
          "1970-01-01T17:02:47.733097",
          "1970-01-01T17:03:12.005432",
          "1970-01-01T17:03:36.281805",
          "1970-01-01T17:04:00.553646",
          "1970-01-01T17:04:24.836884",
          "1970-01-01T17:04:49.141921",
          "1970-01-01T17:05:13.451704",
          "1970-01-01T17:05:37.766262",
          "1970-01-01T17:06:02.064905",
          "1970-01-01T17:06:26.380429",
          "1970-01-01T17:06:50.724244",
          "1970-01-01T17:07:15.103214",
          "1970-01-01T17:07:39.516520",
          "1970-01-01T17:08:03.932131",
          "1970-01-01T17:08:28.363724",
          "1970-01-01T17:08:52.799148",
          "1970-01-01T17:09:17.235845",
          "1970-01-01T17:09:41.685196",
          "1970-01-01T17:10:06.134903",
          "1970-01-01T17:10:30.571661",
          "1970-01-01T17:10:55.020956",
          "1970-01-01T17:11:19.496571",
          "1970-01-01T17:11:44.013638",
          "1970-01-01T17:12:08.550058",
          "1970-01-01T17:12:33.112097",
          "1970-01-01T17:12:57.699629",
          "1970-01-01T17:13:22.274021",
          "1970-01-01T17:13:46.840164",
          "1970-01-01T17:14:11.409348",
          "1970-01-01T17:14:35.991630",
          "1970-01-01T17:15:00.593911",
          "1970-01-01T17:15:25.234797",
          "1970-01-01T17:15:49.888845",
          "1970-01-01T17:16:14.547472",
          "1970-01-01T17:16:39.211373",
          "1970-01-01T17:17:03.888845",
          "1970-01-01T17:17:28.583213",
          "1970-01-01T17:17:53.274419",
          "1970-01-01T17:18:17.995615",
          "1970-01-01T17:18:42.751838",
          "1970-01-01T17:19:07.506163",
          "1970-01-01T17:19:32.247431",
          "1970-01-01T17:19:56.984508",
          "1970-01-01T17:20:21.741408",
          "1970-01-01T17:20:46.516632",
          "1970-01-01T17:21:11.302912",
          "1970-01-01T17:21:36.093731",
          "1970-01-01T17:22:00.877906",
          "1970-01-01T17:22:25.662846",
          "1970-01-01T17:22:50.447904",
          "1970-01-01T17:23:15.221791",
          "1970-01-01T17:23:39.974539",
          "1970-01-01T17:24:04.745426",
          "1970-01-01T17:24:29.521181",
          "1970-01-01T17:24:54.308196",
          "1970-01-01T17:25:19.109760",
          "1970-01-01T17:25:43.938128",
          "1970-01-01T17:26:08.779344",
          "1970-01-01T17:26:33.645669",
          "1970-01-01T17:26:58.520924",
          "1970-01-01T17:27:23.396497",
          "1970-01-01T17:27:48.284687",
          "1970-01-01T17:28:13.184309",
          "1970-01-01T17:28:38.078134",
          "1970-01-01T17:29:02.965264",
          "1970-01-01T17:29:27.831996",
          "1970-01-01T17:29:52.729707",
          "1970-01-01T17:30:17.632560",
          "1970-01-01T17:30:42.533602",
          "1970-01-01T17:31:07.462739",
          "1970-01-01T17:31:32.406923",
          "1970-01-01T17:31:57.378849",
          "1970-01-01T17:32:22.360353",
          "1970-01-01T17:32:47.359677",
          "1970-01-01T17:33:12.360182",
          "1970-01-01T17:33:37.356221",
          "1970-01-01T17:34:02.364439",
          "1970-01-01T17:34:27.381589",
          "1970-01-01T17:34:52.404251",
          "1970-01-01T17:35:17.441747",
          "1970-01-01T17:35:42.482245",
          "1970-01-01T17:36:07.529377",
          "1970-01-01T17:36:32.574031",
          "1970-01-01T17:36:57.639440",
          "1970-01-01T17:37:22.714652",
          "1970-01-01T17:37:47.790381",
          "1970-01-01T17:38:12.873255",
          "1970-01-01T17:38:37.971530",
          "1970-01-01T17:39:03.083441",
          "1970-01-01T17:39:28.191839",
          "1970-01-01T17:39:53.291584",
          "1970-01-01T17:40:18.423478",
          "1970-01-01T17:40:43.542863",
          "1970-01-01T17:41:08.665418",
          "1970-01-01T17:41:33.792411",
          "1970-01-01T17:41:58.910994",
          "1970-01-01T17:42:24.038598",
          "1970-01-01T17:42:49.182985",
          "1970-01-01T17:43:14.360626",
          "1970-01-01T17:43:39.547535",
          "1970-01-01T17:44:04.767298",
          "1970-01-01T17:44:29.999041",
          "1970-01-01T17:44:55.268648",
          "1970-01-01T17:45:20.567609",
          "1970-01-01T17:45:45.902963",
          "1970-01-01T17:46:11.254439",
          "1970-01-01T17:46:36.617122",
          "1970-01-01T17:47:02.001124",
          "1970-01-01T17:47:27.394311",
          "1970-01-01T17:47:52.804007",
          "1970-01-01T17:48:18.213476",
          "1970-01-01T17:48:43.589559",
          "1970-01-01T17:49:08.939155",
          "1970-01-01T17:49:34.276258",
          "1970-01-01T17:49:59.614370",
          "1970-01-01T17:50:24.937246",
          "1970-01-01T17:50:50.252338",
          "1970-01-01T17:51:15.547098",
          "1970-01-01T17:51:40.835815",
          "1970-01-01T17:52:06.102446",
          "1970-01-01T17:52:31.352850",
          "1970-01-01T17:52:56.605197",
          "1970-01-01T17:53:21.874560",
          "1970-01-01T17:53:47.190115",
          "1970-01-01T17:54:12.569872",
          "1970-01-01T17:54:29.254101",
          "1970-01-01T17:54:41.708894",
          "1970-01-01T17:54:54.157854",
          "1970-01-01T17:55:06.610867",
          "1970-01-01T17:55:19.063379",
          "1970-01-01T17:55:31.521794",
          "1970-01-01T17:55:43.986508",
          "1970-01-01T17:55:56.460622",
          "1970-01-01T17:56:08.962755",
          "1970-01-01T17:56:21.455660",
          "1970-01-01T17:56:33.958898",
          "1970-01-01T17:56:46.471662",
          "1970-01-01T17:56:58.982960",
          "1970-01-01T17:57:11.489102",
          "1970-01-01T17:57:23.988077",
          "1970-01-01T17:57:36.466271",
          "1970-01-01T17:57:48.929358",
          "1970-01-01T17:58:01.395015",
          "1970-01-01T17:58:13.858052",
          "1970-01-01T17:58:26.321882",
          "1970-01-01T17:58:38.799493",
          "1970-01-01T17:58:51.282026",
          "1970-01-01T17:59:03.778920",
          "1970-01-01T17:59:16.292232",
          "1970-01-01T17:59:28.807258",
          "1970-01-01T17:59:41.333859",
          "1970-01-01T17:59:53.894231",
          "1970-01-01T18:00:06.481667",
          "1970-01-01T18:00:19.090355",
          "1970-01-01T18:00:31.721261",
          "1970-01-01T18:00:44.363755",
          "1970-01-01T18:00:57.026818",
          "1970-01-01T18:01:09.704925",
          "1970-01-01T18:01:22.377913",
          "1970-01-01T18:01:35.062108",
          "1970-01-01T18:01:47.761267",
          "1970-01-01T18:02:00.464014",
          "1970-01-01T18:02:13.171941",
          "1970-01-01T18:02:25.884384",
          "1970-01-01T18:02:38.626395",
          "1970-01-01T18:02:51.394905",
          "1970-01-01T18:03:04.165004",
          "1970-01-01T18:03:16.953100",
          "1970-01-01T18:03:29.763715",
          "1970-01-01T18:03:42.597931",
          "1970-01-01T18:03:55.455902",
          "1970-01-01T18:04:08.329274",
          "1970-01-01T18:04:21.194612",
          "1970-01-01T18:04:34.058417",
          "1970-01-01T18:04:46.914737",
          "1970-01-01T18:04:59.781645",
          "1970-01-01T18:05:12.675972",
          "1970-01-01T18:05:25.573024",
          "1970-01-01T18:05:38.476969",
          "1970-01-01T18:05:51.384545",
          "1970-01-01T18:06:04.279943",
          "1970-01-01T18:06:17.174057",
          "1970-01-01T18:06:30.081397",
          "1970-01-01T18:06:43.004411",
          "1970-01-01T18:06:55.919214",
          "1970-01-01T18:07:08.830964",
          "1970-01-01T18:07:21.712719",
          "1970-01-01T18:07:34.586508",
          "1970-01-01T18:07:47.457341",
          "1970-01-01T18:08:00.310769",
          "1970-01-01T18:08:13.137904",
          "1970-01-01T18:08:25.959550",
          "1970-01-01T18:08:38.762776",
          "1970-01-01T18:08:51.547305",
          "1970-01-01T18:09:04.294915",
          "1970-01-01T18:09:17.009415",
          "1970-01-01T18:09:29.707144",
          "1970-01-01T18:09:42.405154",
          "1970-01-01T18:09:55.103190",
          "1970-01-01T18:10:07.803314",
          "1970-01-01T18:10:20.481062",
          "1970-01-01T18:10:33.139105",
          "1970-01-01T18:10:45.784937",
          "1970-01-01T18:10:58.428887",
          "1970-01-01T18:11:11.093152",
          "1970-01-01T18:11:23.751795",
          "1970-01-01T18:11:36.409529",
          "1970-01-01T18:11:49.056837",
          "1970-01-01T18:12:01.703597",
          "1970-01-01T18:12:14.363216",
          "1970-01-01T18:12:27.020339",
          "1970-01-01T18:12:39.676110",
          "1970-01-01T18:12:52.328817",
          "1970-01-01T18:13:04.977641",
          "1970-01-01T18:13:17.625403",
          "1970-01-01T18:13:30.287357",
          "1970-01-01T18:13:42.964159",
          "1970-01-01T18:13:55.628733",
          "1970-01-01T18:14:08.318346",
          "1970-01-01T18:14:21.007629",
          "1970-01-01T18:14:33.710884",
          "1970-01-01T18:14:46.431904",
          "1970-01-01T18:14:59.191291",
          "1970-01-01T18:15:11.960812",
          "1970-01-01T18:15:24.758101",
          "1970-01-01T18:15:37.582455",
          "1970-01-01T18:15:50.407102",
          "1970-01-01T18:16:03.231445",
          "1970-01-01T18:16:16.035554",
          "1970-01-01T18:16:28.843870",
          "1970-01-01T18:16:41.645898",
          "1970-01-01T18:16:54.441847",
          "1970-01-01T18:17:07.226907",
          "1970-01-01T18:17:20.013725",
          "1970-01-01T18:17:32.826925",
          "1970-01-01T18:17:45.642714",
          "1970-01-01T18:17:58.444980",
          "1970-01-01T18:18:11.255051",
          "1970-01-01T18:18:24.081706",
          "1970-01-01T18:18:36.915480",
          "1970-01-01T18:18:49.746928",
          "1970-01-01T18:19:02.577830",
          "1970-01-01T18:19:15.397668",
          "1970-01-01T18:19:28.223867",
          "1970-01-01T18:19:41.052382",
          "1970-01-01T18:19:53.896894",
          "1970-01-01T18:20:06.786253",
          "1970-01-01T18:20:19.692086",
          "1970-01-01T18:20:32.594460",
          "1970-01-01T18:20:45.502551",
          "1970-01-01T18:20:58.435591",
          "1970-01-01T18:21:11.400369",
          "1970-01-01T18:21:24.358314",
          "1970-01-01T18:21:37.326326",
          "1970-01-01T18:21:50.306978",
          "1970-01-01T18:22:03.281317",
          "1970-01-01T18:22:16.273860",
          "1970-01-01T18:22:29.269749",
          "1970-01-01T18:22:42.259735",
          "1970-01-01T18:22:55.228270",
          "1970-01-01T18:23:08.195042",
          "1970-01-01T18:23:21.149649",
          "1970-01-01T18:23:34.091400",
          "1970-01-01T18:23:46.994521",
          "1970-01-01T18:23:59.909303",
          "1970-01-01T18:24:12.863087",
          "1970-01-01T18:24:25.837064",
          "1970-01-01T18:24:38.809247",
          "1970-01-01T18:24:51.781751",
          "1970-01-01T18:25:04.771690",
          "1970-01-01T18:25:17.762161",
          "1970-01-01T18:25:30.743532",
          "1970-01-01T18:25:43.702033",
          "1970-01-01T18:25:56.649398",
          "1970-01-01T18:26:09.576425",
          "1970-01-01T18:26:22.453944",
          "1970-01-01T18:26:35.249516",
          "1970-01-01T18:26:47.992824",
          "1970-01-01T18:27:00.698390",
          "1970-01-01T18:27:13.435388",
          "1970-01-01T18:27:26.175842",
          "1970-01-01T18:27:38.884068",
          "1970-01-01T18:27:51.575099",
          "1970-01-01T18:28:04.247315",
          "1970-01-01T18:28:16.891452",
          "1970-01-01T18:28:29.471038",
          "1970-01-01T18:28:42.008112",
          "1970-01-01T18:28:54.540913",
          "1970-01-01T18:29:07.130863",
          "1970-01-01T18:29:19.775848",
          "1970-01-01T18:29:32.448134",
          "1970-01-01T18:29:45.182703",
          "1970-01-01T18:29:57.928666",
          "1970-01-01T18:30:10.647402",
          "1970-01-01T18:30:23.355823",
          "1970-01-01T18:30:36.064141",
          "1970-01-01T18:30:48.753188",
          "1970-01-01T18:31:01.454993",
          "1970-01-01T18:31:14.179655",
          "1970-01-01T18:31:26.871856",
          "1970-01-01T18:31:39.576997",
          "1970-01-01T18:31:52.311646",
          "1970-01-01T18:32:05.059032",
          "1970-01-01T18:32:17.832852",
          "1970-01-01T18:32:30.638416",
          "1970-01-01T18:32:43.440506",
          "1970-01-01T18:32:56.276934",
          "1970-01-01T18:33:09.161621",
          "1970-01-01T18:33:22.120490",
          "1970-01-01T18:33:35.072924",
          "1970-01-01T18:33:48.034689",
          "1970-01-01T18:34:00.989728",
          "1970-01-01T18:34:13.945250",
          "1970-01-01T18:34:26.909658",
          "1970-01-01T18:34:39.895458",
          "1970-01-01T18:34:52.896912",
          "1970-01-01T18:35:05.909181",
          "1970-01-01T18:35:18.903770",
          "1970-01-01T18:35:31.913883",
          "1970-01-01T18:35:44.991012",
          "1970-01-01T18:35:58.071862",
          "1970-01-01T18:36:11.150516",
          "1970-01-01T18:36:24.184610",
          "1970-01-01T18:36:37.214608",
          "1970-01-01T18:36:50.219098",
          "1970-01-01T18:37:03.248345",
          "1970-01-01T18:37:16.327638",
          "1970-01-01T18:37:29.452144",
          "1970-01-01T18:37:42.592555",
          "1970-01-01T18:37:55.741800",
          "1970-01-01T18:38:08.885699",
          "1970-01-01T18:38:21.997475",
          "1970-01-01T18:38:35.110146",
          "1970-01-01T18:38:48.233059",
          "1970-01-01T18:39:01.377686",
          "1970-01-01T18:39:14.539900",
          "1970-01-01T18:39:27.711041",
          "1970-01-01T18:39:40.930703",
          "1970-01-01T18:39:54.099238",
          "1970-01-01T18:40:07.237226",
          "1970-01-01T18:40:20.431960",
          "1970-01-01T18:40:33.706157",
          "1970-01-01T18:40:46.995290",
          "1970-01-01T18:41:00.261895",
          "1970-01-01T18:41:13.490345",
          "1970-01-01T18:41:26.702807",
          "1970-01-01T18:41:39.911423",
          "1970-01-01T18:41:53.146312",
          "1970-01-01T18:42:06.345529",
          "1970-01-01T18:42:19.526632",
          "1970-01-01T18:42:32.757348",
          "1970-01-01T18:42:46.080345",
          "1970-01-01T18:42:59.406792",
          "1970-01-01T18:43:12.702598",
          "1970-01-01T18:43:25.961175",
          "1970-01-01T18:43:39.177781",
          "1970-01-01T18:43:52.350769",
          "1970-01-01T18:44:05.473195",
          "1970-01-01T18:44:18.519907",
          "1970-01-01T18:44:31.585451",
          "1970-01-01T18:44:44.729294",
          "1970-01-01T18:44:57.951316",
          "1970-01-01T18:45:11.198801",
          "1970-01-01T18:45:24.494959",
          "1970-01-01T18:45:37.857929",
          "1970-01-01T18:45:51.303043",
          "1970-01-01T18:46:04.679161",
          "1970-01-01T18:46:18.093890",
          "1970-01-01T18:46:31.567378",
          "1970-01-01T18:46:44.999566",
          "1970-01-01T18:46:58.359182",
          "1970-01-01T18:47:11.641985",
          "1970-01-01T18:47:24.926028",
          "1970-01-01T18:47:38.167331",
          "1970-01-01T18:47:51.386558",
          "1970-01-01T18:48:04.612668",
          "1970-01-01T18:48:17.888432",
          "1970-01-01T18:48:31.173238",
          "1970-01-01T18:48:44.452004",
          "1970-01-01T18:48:57.679211",
          "1970-01-01T18:49:10.930053",
          "1970-01-01T18:49:24.092635",
          "1970-01-01T18:49:37.158707",
          "1970-01-01T18:49:50.181888",
          "1970-01-01T18:50:03.194141",
          "1970-01-01T18:50:16.323434",
          "1970-01-01T18:50:29.504610",
          "1970-01-01T18:50:42.638049",
          "1970-01-01T18:50:55.851160",
          "1970-01-01T18:51:09.167641",
          "1970-01-01T18:51:22.568042",
          "1970-01-01T18:51:35.839235",
          "1970-01-01T18:51:49.154446",
          "1970-01-01T18:52:02.516200",
          "1970-01-01T18:52:15.885104",
          "1970-01-01T18:52:29.390639",
          "1970-01-01T18:52:42.961857",
          "1970-01-01T18:52:56.464837",
          "1970-01-01T18:53:09.814199",
          "1970-01-01T18:53:23.199484",
          "1970-01-01T18:53:36.444876",
          "1970-01-01T18:53:49.826073",
          "1970-01-01T18:54:02.934129",
          "1970-01-01T18:54:15.893755",
          "1970-01-01T18:54:28.697960",
          "1970-01-01T18:54:41.412678",
          "1970-01-01T18:54:54.013374",
          "1970-01-01T18:55:06.420223",
          "1970-01-01T18:55:18.514786",
          "1970-01-01T18:55:30.042165",
          "1970-01-01T18:55:41.272414",
          "1970-01-01T18:55:52.926212",
          "1970-01-01T18:56:04.821515",
          "1970-01-01T18:56:16.848020",
          "1970-01-01T18:56:28.907459",
          "1970-01-01T18:56:41.119238",
          "1970-01-01T18:56:53.385517",
          "1970-01-01T18:57:06.045010",
          "1970-01-01T18:57:18.960706",
          "1970-01-01T18:57:33.193776",
          "1970-01-01T18:57:48.950677",
          "1970-01-01T18:58:06.385107",
          "1970-01-01T18:58:26.420681",
          "1970-01-01T18:58:49.071554",
          "1970-01-01T18:59:24.499019"
         ],
         "y": [
          22896.491,
          22960.156246666666,
          22983.53811,
          23006.867213333335,
          23053.411373333332,
          23098.672523333335,
          23142.234196666668,
          23191.6577,
          23226.31203,
          23268.727603333333,
          23321.396956666667,
          23361.919193333335,
          23394.928436666665,
          23424.075103333333,
          23472.58412,
          23490.30435,
          23526.573443333335,
          23568.520666666667,
          23616.2552,
          23651.518726666665,
          23682.87094333333,
          23711.55029,
          23723.734056666668,
          23737.73361,
          23767.486766666665,
          23793.774653333334,
          23836.33153666667,
          23865.9064,
          23889.978266666665,
          23922.852893333333,
          24094.818833333335,
          24109.41918333333,
          24139.504233333333,
          24171.368913333332,
          24198.364546666668,
          24318.511103333334,
          24347.618866666668,
          24376.159233333332,
          24394.701486666665,
          24428.563423333333,
          24441.666573333332,
          24442.221256666668,
          24486.266996666665,
          24486.725733333333,
          24488.548803333335,
          24490.15011,
          24518.90164,
          24542.840876666665,
          24573.290196666665,
          24577.85400666667,
          24560.18135,
          24577.950663333333,
          24597.333056666666,
          24594.131693333333,
          24606.23718,
          24634.16087,
          24674.588946666667,
          24692.50209,
          24719.46172666667,
          24742.951313333335,
          24781.010453333332,
          24803.95333,
          24831.45122,
          24840.306976666667,
          24841.58314,
          24847.41963,
          24866.862196666665,
          24886.146053333334,
          24899.95023,
          24922.961126666665,
          24940.38679,
          24961.21513,
          24968.281466666667,
          24990.342923333334,
          25018.892006666665,
          25065.67502,
          25085.694473333333,
          25094.041173333335,
          25114.629246666667,
          25166.83424,
          25195.580913333335,
          25216.937863333333,
          25232.969436666666,
          25251.16874333333,
          25266.33855,
          25283.727436666668,
          25313.26215,
          25326.35198666667,
          25352.73418,
          25379.78807,
          25415.219896666666,
          25442.431333333334,
          25465.56945,
          25489.235743333335,
          25458.22151,
          25433.212433333334,
          25407.510173333332,
          25408.82934,
          25407.647843333332,
          25412.136723333333,
          25415.327926666665,
          25448.0533,
          25449.166353333334,
          25473.919,
          25494.80438,
          25531.553153333334,
          25546.377303333335,
          25559.330713333333,
          25569.42596,
          25584.36522,
          25600.142363333332,
          25612.29056,
          25614.358993333335,
          25621.95902,
          25616.449343333334,
          25620.6384,
          25623.771536666667,
          25635.826466666666,
          25648.3741,
          25655.799613333333,
          25671.870003333333,
          25681.991783333335,
          25657.879763333334,
          25648.692323333333,
          25631.49001,
          25638.67264,
          25669.124803333332,
          25690.327536666668,
          25690.284136666665,
          25707.145756666665,
          25694.10559,
          25714.346186666666,
          25718.658536666666,
          25725.12958,
          25722.590886666665,
          25712.381183333335,
          25720.624256666666,
          25729.79121,
          25750.88011,
          25759.32917,
          25758.868746666667,
          25757.65212,
          25764.47075,
          25772.68287,
          25777.05129666667,
          25774.180193333334,
          25779.76187,
          25803.32789,
          25794.98124,
          25770.989886666666,
          25772.465406666666,
          25838.02782,
          25877.801146666665,
          25890.099573333333,
          25908.864136666667,
          25907.052226666667,
          25927.16314,
          25955.72862,
          25971.647376666668,
          25997.89631,
          26039.25431,
          26084.404213333335,
          26138.80421,
          26207.980206666667,
          26216.02216,
          26219.56104,
          26236.201296666666,
          26237.213426666665,
          26216.809296666666,
          26228.563353333335,
          26223.239866666667,
          26211.727836666665,
          26195.38117,
          26195.93689333333,
          26214.055673333332,
          26235.338073333332,
          26255.518866666665,
          26266.390186666667,
          26291.086016666668,
          26308.029543333334,
          26296.553846666666,
          26297.847383333334,
          26315.91594,
          26315.920586666667,
          26333.962583333334,
          26335.00861,
          26317.15734,
          26319.67263,
          26342.48344,
          26336.354913333333,
          26334.187283333333,
          26339.631673333333,
          26359.042606666666,
          26372.690876666667,
          26411.749413333335,
          26443.297363333335,
          26462.133833333333,
          26489.96549,
          26491.650736666666,
          26520.742963333334,
          26563.980026666668,
          26597.63246333333,
          26626.107873333334,
          26662.450273333332,
          26675.42985,
          26680.97654,
          26683.59694,
          26693.8803,
          26716.806863333335,
          26756.456986666668,
          26784.51738,
          26793.402876666667,
          26818.713813333332,
          26817.409316666668,
          26837.207866666668,
          26846.68089,
          26892.378496666668,
          26906.679823333332,
          26908.86876,
          26913.699926666668,
          26932.710893333333,
          26955.911653333333,
          26960.88129,
          26990.12641333333,
          27008.06768,
          27026.843186666665,
          27044.580856666667,
          27063.42974,
          27065.03119,
          27060.25889333333,
          27074.426513333332,
          27087.52375,
          27105.33991,
          27105.567373333335,
          27117.08138,
          27129.852596666668,
          27129.238853333332,
          27155.449936666668,
          27177.438996666668,
          27198.237386666668,
          27179.062686666668,
          27186.90658,
          27190.67512,
          27208.257576666667,
          27212.43867666667,
          27209.40339,
          27205.011293333333,
          27219.813423333333,
          27230.68205666667,
          27253.784,
          27284.03847,
          27298.379693333332,
          27299.06225,
          27298.474143333333,
          27317.13441,
          27330.041883333335,
          27361.215566666666,
          27387.727766666667,
          27408.59587,
          27437.274496666665,
          27440.045283333333,
          27432.618023333333,
          27420.32559,
          27428.50745333333,
          27408.096263333333,
          27390.27485,
          27384.26759666667,
          27367.67677,
          27363.059363333334,
          27355.0941,
          27328.156033333333,
          27317.005736666666,
          27291.29821,
          27252.714473333333,
          27255.60575,
          27205.736173333335,
          27154.57721666667,
          27075.56387,
          26986.53068,
          26870.238276666667,
          26852.961776666667,
          26809.96402,
          26701.03785,
          26553.888926666667,
          26492.89849,
          26409.74634,
          26304.175933333332,
          26200.967476666665,
          26088.040233333333,
          25987.249666666667,
          25942.281273333334,
          25952.074873333335,
          25940.592043333334,
          25937.65222,
          25928.50417,
          25892.84579666667,
          25907.21951,
          25932.962083333332,
          25935.932023333335,
          25951.11903,
          25959.75655,
          25938.801086666666,
          25945.79475333333,
          25949.790976666667,
          25948.948516666667,
          25937.12653,
          25926.841516666667,
          25929.323613333334,
          25966.446486666668,
          25959.331853333333,
          25960.22167,
          25971.099206666666,
          25975.40981,
          25981.664043333334,
          25964.663176666665,
          25959.436223333334,
          25968.351623333332,
          25959.677326666668,
          25942.803843333335,
          25937.611956666668,
          25938.36199,
          25930.00202,
          25933.941476666667,
          25935.858093333332,
          25931.733163333334,
          25928.824483333334,
          25935.914736666666,
          25947.243516666666,
          26011.677826666666,
          26029.508403333333,
          25891.32729,
          25905.70274,
          25907.60236333333,
          25907.93656,
          25898.623623333333,
          25800.850413333334,
          25793.889316666668,
          25793.80929,
          25868.719076666668,
          25872.490273333333,
          25890.42768333333,
          25891.342073333333,
          25869.11612,
          25903.53513,
          25931.048836666665,
          25964.055866666666,
          25950.79485,
          25951.682546666667,
          25938.80366,
          25962.707526666665,
          25982.486006666666,
          25984.614193333335,
          25977.834456666667,
          25992.441156666668,
          25998.772673333333,
          25995.98427333333,
          25987.17266,
          25984.60896,
          25991.562396666668,
          25994.680116666666,
          25983.412956666667,
          25975.636076666666,
          25965.35847,
          25958.446493333333,
          25961.148496666665,
          25971.499193333333,
          25968.63978,
          25963.68277,
          25974.78419,
          25988.380566666667,
          25995.01089,
          25995.309293333332,
          26014.721613333335,
          26025.870033333333,
          26032.09387,
          26010.936906666666,
          25998.856033333333,
          26005.705003333333,
          26025.214813333332,
          26018.1123,
          26022.195383333332,
          26028.80804,
          26042.73971,
          26058.44541,
          26077.138576666668,
          26082.109486666668,
          26088.99537,
          26100.451606666666,
          26117.369623333332,
          26129.967503333333,
          26133.90672,
          26163.597746666666,
          26184.947353333333,
          26174.45931,
          26182.779403333334,
          26200.708426666668,
          26195.73741,
          26155.854903333333,
          26153.830363333334,
          26172.74664,
          26176.173493333332,
          26173.55662666667,
          26200.541156666666,
          26195.888356666666,
          26203.241253333334,
          26197.000436666665,
          26200.902113333334,
          26200.09782,
          26206.97644,
          26211.066676666665,
          26209.59876,
          26201.320146666665,
          26199.74695,
          26201.501183333334,
          26207.269233333333,
          26200.337246666666,
          26216.675973333335,
          26222.475336666666,
          26215.373386666666,
          26241.50073,
          26258.687536666668,
          26285.43086,
          26306.56506,
          26359.429596666665,
          26401.15076,
          26442.478663333335,
          26436.31855,
          26456.58493333333,
          26495.266053333333,
          26502.537166666665,
          26511.42109,
          26540.480663333332,
          26564.132486666665,
          26591.475506666666,
          26614.18049,
          26653.130556666667,
          26674.29157,
          26684.96747,
          26684.63898,
          26695.205166666667,
          26705.37736,
          26712.35881,
          26743.346513333334,
          26745.612893333335,
          26736.26803666667,
          26747.582856666668,
          26747.68463,
          26747.647756666665,
          26752.84622,
          26750.913373333333,
          26765.448073333333,
          26709.2991,
          26693.17154,
          26699.14529,
          26697.299633333332,
          26700.18577,
          26691.388453333333,
          26690.585693333334,
          26705.36586,
          26693.359776666668,
          26684.966606666665,
          26656.49334333333,
          26619.324913333334,
          26578.69477,
          26575.847226666665,
          26596.03242666667,
          26598.856776666667,
          26615.100946666666,
          26640.280533333334,
          26654.181623333334,
          26653.764783333332,
          26651.053676666666,
          26656.487236666668,
          26655.833843333334,
          26648.670403333334,
          26638.883543333333,
          26630.252836666667,
          26628.425923333332,
          26600.84243,
          26593.00082,
          26594.993476666667,
          26607.10145,
          26604.735876666666,
          26620.30548,
          26613.93415,
          26628.146393333333,
          26655.66563666667,
          26663.259083333334,
          26644.557703333332,
          26637.78366333333,
          26646.56338,
          26654.69342,
          26664.07777,
          26639.684933333334,
          26620.482793333333,
          26601.952943333334,
          26626.052766666668,
          26623.233213333333,
          26613.66834,
          26610.004216666668,
          26583.937173333332,
          26588.60797,
          26605.487623333334,
          26596.245886666668,
          26590.43191,
          26596.24397666667,
          26610.96683,
          26625.172813333334,
          26637.240906666666,
          26616.976496666666,
          26603.066523333335,
          26785.600573333333,
          26821.357653333333,
          26891.45950333333,
          26895.410546666666,
          26921.325753333334,
          26933.261456666667,
          26992.768343333333,
          27030.25918,
          27057.2371,
          27074.711126666665,
          27085.50915,
          27098.30911,
          27105.303943333332,
          27135.52465666667,
          27144.325483333334,
          27150.228296666668,
          27146.51339,
          27144.50099,
          27161.65454,
          27181.24277,
          27175.18093,
          27173.52782666667,
          27191.187696666668,
          27206.670916666666,
          27205.720503333334,
          27222.00802,
          27246.554033333334,
          27253.949533333333,
          27252.391526666666,
          27266.27263,
          27278.20403,
          27295.200753333334,
          27289.080376666665,
          27284.96961,
          27295.38034,
          27313.64558,
          27303.829986666668,
          27310.672376666666,
          27312.61803,
          27319.146453333335,
          27339.61835,
          27357.54697666667,
          27368.38628,
          27362.511483333332,
          27359.99552,
          27348.717296666666,
          27343.344163333335,
          27354.372623333333,
          27364.001913333334,
          27374.94352,
          27398.42899,
          27414.837166666668,
          27427.001676666667,
          27449.789383333333,
          27468.560936666665,
          27497.974466666667,
          27520.55806666667,
          27569.604646666667,
          27592.75353,
          27624.37059,
          27631.05438,
          27631.945263333335,
          27663.39164,
          27665.330723333333,
          27677.463513333332,
          27699.10219,
          27738.092406666667,
          27769.802953333332,
          27770.01236,
          27775.18474,
          27792.274243333333,
          27783.503716666666,
          27792.092546666667,
          27782.25541,
          27805.911733333334,
          27840.338956666666,
          27876.66355,
          27894.27098,
          27918.520026666665,
          27922.54832,
          27923.209786666666,
          27931.913953333333,
          27941.224443333333,
          27958.668306666666,
          27988.912886666665,
          27994.72179,
          28001.217243333333,
          28034.224046666666,
          28265.76073,
          28278.644546666666,
          28304.203956666668,
          28338.268673333332,
          28353.581626666666,
          28368.458426666668,
          28364.474523333334,
          28352.950183333334,
          28361.18703333333,
          28367.710333333333,
          28380.999006666665,
          28354.94713,
          28330.705406666668,
          28324.069316666668,
          28323.80627,
          28350.66953311618,
          28372.5557261376,
          28381.047826452534,
          28398.494649455835,
          28407.439285532888,
          28423.184255499873,
          28427.42672462286,
          28447.918005644402,
          28468.67593237793,
          28491.468561095324,
          28505.338864598634,
          28518.16435272696,
          28525.306851126774,
          28527.326331965425,
          28478.59119950933,
          28472.74446144377,
          28482.76823788935,
          28488.272281944566,
          28497.221597796142,
          28511.519372157316,
          28539.38789582028,
          28564.869677535255,
          28583.726670873522,
          28604.21568081064,
          28548.01396168165,
          28560.709931650414,
          28559.85198938992,
          28573.93602864225,
          28588.2129917995,
          28564.81493757514,
          28564.049943376962,
          28561.321844777787,
          28570.717763022538,
          28581.01182014456,
          28604.715937058325,
          28597.388154733755,
          28587.657624608375,
          28599.19989707424,
          28620.11538505692,
          28631.1126053971,
          28646.298282078475,
          28644.80864027872,
          28657.556918293987,
          28666.952653857406,
          28661.302187408204,
          28670.80401061634,
          28685.54934964966,
          28690.97303873972,
          28710.403163234856,
          28728.188730650156,
          28750.11319763361,
          28762.32919762408,
          28779.383891640555,
          28797.899384958895,
          28800.342060531948,
          28805.221569630616,
          28820.432413438815,
          28835.14029918498,
          28832.600037294105,
          28824.09523353792,
          28829.463369894496,
          28835.854039651735,
          28865.56629937849,
          28877.81930392468,
          28874.912508233294,
          28869.717123653045,
          28865.638289938925,
          28871.992575056494,
          28872.95423754458,
          28865.052582220775,
          28863.032879101713,
          28878.61714223147,
          28878.720105575718,
          28882.454700099413,
          28882.727029845777,
          28877.62645269141,
          28870.655869248854,
          28853.93765433487,
          28843.21988478482,
          28859.129967094064,
          28875.677629089252,
          28886.45729989694,
          28909.99593235937,
          28936.6898786548,
          28961.418042493904,
          28958.658705237372,
          28981.64900503926,
          28979.63794654421,
          28971.571356914705,
          28982.12294781885,
          28989.568570404874,
          28995.850694827794,
          29017.568416737005,
          29034.00133284866,
          29050.40703275295,
          29061.775005505933,
          29077.053471043895,
          29108.158378845917,
          29138.485622749286,
          29169.545273929863,
          29201.704868932648,
          29240.278215051054,
          29239.82648929431,
          29261.728419712214,
          29282.55127095866,
          29282.366350186545,
          29286.074656666235,
          29282.348243858054,
          29299.84735920554,
          29253.04652042559,
          29229.621375940842,
          29187.564136466215,
          29187.020397704524,
          29157.756092848518,
          29131.976873060838,
          29131.0702346399,
          29140.361467339426,
          29112.981883998356,
          29101.999961395286,
          29077.147472618883,
          29072.734554579674,
          29048.81783821674,
          29026.06704638376,
          29032.732193392883,
          29054.836794524454,
          29071.017255126917,
          29063.415104572334,
          29089.76548382417,
          29075.092940318107,
          29090.25251724644,
          29113.35953934741,
          29118.132559037575,
          29129.606550127,
          29125.748943333834,
          29149.115644941783,
          29143.697714894264,
          29151.89511097505,
          29189.449099029724,
          29190.126861924688,
          29188.5307843443,
          29193.126094461008,
          29207.216131375335,
          29222.30890195455,
          29209.248002558772,
          29160.121017221954,
          29160.661098331442,
          29149.95443013207,
          29176.95058591827,
          29181.069287956387,
          29187.93750207883,
          29212.25634689436,
          29198.556278442607,
          29197.68568810453,
          29212.01757731078,
          29198.25252365388,
          29204.125092672788,
          29244.169712192568,
          29278.808389249956,
          29326.35409870865,
          29376.905754498486,
          29401.48980441414,
          29422.724496656425,
          29449.266637538687,
          29478.842618741975,
          29555.38827267689,
          29602.788870277313,
          29641.082377648603,
          29665.295152087663,
          29693.680266514373,
          29679.573673508537,
          29713.437262710228,
          29736.773496980324,
          29746.979304928333,
          29775.158606768255,
          29807.927548374228,
          29858.153315905893,
          29889.101139266168,
          29916.025685673412,
          29938.301298166083,
          30013.214951173904,
          30045.90985962707,
          30086.54773716459,
          30068.211088855744,
          30091.247848699764,
          30160.354450466075,
          30194.78243603761,
          30239.627160820648,
          30226.884896505675,
          30197.6753379744,
          30229.882773623387,
          30277.750432197576,
          30289.20564966536,
          30304.604416491962,
          30331.017305431462,
          30298.83549964396,
          30335.22490294752,
          30366.754512460684,
          29879.701803078427,
          29796.441085615592,
          29647.36937951657,
          29637.23929524289,
          29582.853312992625,
          29487.835674287184,
          29341.135509992215,
          29287.155751376868,
          29249.599522926055,
          29232.232810072328,
          29247.79375033848,
          29244.810062961948,
          29239.966930528648,
          29191.557895326056,
          29208.84149448061,
          29211.0744574864,
          29248.84887344338,
          29284.101213009082,
          29276.29661428995,
          29245.040336033602,
          29282.768150622534,
          29317.765976022132,
          29299.004095860568,
          29289.61069019855,
          29338.325349505267,
          29377.516107339154,
          29295.818984605306,
          29328.65112512446,
          29377.71362260343,
          29399.048291851348,
          29406.124341513998,
          29402.45725902559,
          29448.240227515107,
          29532.327616300037,
          29541.89122575924,
          29538.268696620868,
          29620.938831511496,
          29695.913861461922,
          29731.606327244463,
          29702.622281879194,
          29674.16678700361,
          29684.208446799836,
          29752.982146705344,
          29843.99662873999,
          29931.564783540507,
          29988.835726122983,
          29997.951584553928,
          30029.09126073204,
          29988.947942936033,
          30038.02038443507,
          30016.460124223602,
          30041.217320993666,
          30026.86563338301,
          30017.614353775974,
          30093.961220900153,
          30060.953386159534,
          30074.757862924987,
          29934.02643132929,
          29942.681579244218,
          29888.254541257935,
          29990.049686946248,
          30126.77260738052,
          30075.387451952884,
          30158.942504767958,
          30279.12328767123,
          30299.360214333556,
          30200.692498279423,
          30179.898881811747,
          30335.574304442827,
          30436.13812453113,
          30568.545460170146,
          30654.849992019153,
          30877.37780708986,
          30918.651219096333,
          30894.480741394527,
          30865.349569990853,
          30919.882924976257,
          31080.303889437317,
          31153.770606372043,
          31444.416334405145,
          31595.81298992161,
          31794.318874560377,
          31896.018745387453,
          31896.72279430789,
          31856.77582537517,
          32081.03116883117,
          32206.462664624807,
          32021.94655791191,
          27599.74827225131,
          27372.380262664166,
          26904.475618661258,
          26182.763090507728,
          25927.228184019372,
          25491.74777479893,
          25796.52,
          26401.257064846417,
          25663.58418972332,
          23696.550046948356,
          22859.435375722544,
          23541.42796992481,
          24244.189247311828,
          26147.50490566038,
          31844.723076923077
         ]
        }
       ],
       "layout": {
        "showlegend": true,
        "template": {
         "data": {
          "bar": [
           {
            "error_x": {
             "color": "#2a3f5f"
            },
            "error_y": {
             "color": "#2a3f5f"
            },
            "marker": {
             "line": {
              "color": "#E5ECF6",
              "width": 0.5
             },
             "pattern": {
              "fillmode": "overlay",
              "size": 10,
              "solidity": 0.2
             }
            },
            "type": "bar"
           }
          ],
          "barpolar": [
           {
            "marker": {
             "line": {
              "color": "#E5ECF6",
              "width": 0.5
             },
             "pattern": {
              "fillmode": "overlay",
              "size": 10,
              "solidity": 0.2
             }
            },
            "type": "barpolar"
           }
          ],
          "carpet": [
           {
            "aaxis": {
             "endlinecolor": "#2a3f5f",
             "gridcolor": "white",
             "linecolor": "white",
             "minorgridcolor": "white",
             "startlinecolor": "#2a3f5f"
            },
            "baxis": {
             "endlinecolor": "#2a3f5f",
             "gridcolor": "white",
             "linecolor": "white",
             "minorgridcolor": "white",
             "startlinecolor": "#2a3f5f"
            },
            "type": "carpet"
           }
          ],
          "choropleth": [
           {
            "colorbar": {
             "outlinewidth": 0,
             "ticks": ""
            },
            "type": "choropleth"
           }
          ],
          "contour": [
           {
            "colorbar": {
             "outlinewidth": 0,
             "ticks": ""
            },
            "colorscale": [
             [
              0,
              "#0d0887"
             ],
             [
              0.1111111111111111,
              "#46039f"
             ],
             [
              0.2222222222222222,
              "#7201a8"
             ],
             [
              0.3333333333333333,
              "#9c179e"
             ],
             [
              0.4444444444444444,
              "#bd3786"
             ],
             [
              0.5555555555555556,
              "#d8576b"
             ],
             [
              0.6666666666666666,
              "#ed7953"
             ],
             [
              0.7777777777777778,
              "#fb9f3a"
             ],
             [
              0.8888888888888888,
              "#fdca26"
             ],
             [
              1,
              "#f0f921"
             ]
            ],
            "type": "contour"
           }
          ],
          "contourcarpet": [
           {
            "colorbar": {
             "outlinewidth": 0,
             "ticks": ""
            },
            "type": "contourcarpet"
           }
          ],
          "heatmap": [
           {
            "colorbar": {
             "outlinewidth": 0,
             "ticks": ""
            },
            "colorscale": [
             [
              0,
              "#0d0887"
             ],
             [
              0.1111111111111111,
              "#46039f"
             ],
             [
              0.2222222222222222,
              "#7201a8"
             ],
             [
              0.3333333333333333,
              "#9c179e"
             ],
             [
              0.4444444444444444,
              "#bd3786"
             ],
             [
              0.5555555555555556,
              "#d8576b"
             ],
             [
              0.6666666666666666,
              "#ed7953"
             ],
             [
              0.7777777777777778,
              "#fb9f3a"
             ],
             [
              0.8888888888888888,
              "#fdca26"
             ],
             [
              1,
              "#f0f921"
             ]
            ],
            "type": "heatmap"
           }
          ],
          "heatmapgl": [
           {
            "colorbar": {
             "outlinewidth": 0,
             "ticks": ""
            },
            "colorscale": [
             [
              0,
              "#0d0887"
             ],
             [
              0.1111111111111111,
              "#46039f"
             ],
             [
              0.2222222222222222,
              "#7201a8"
             ],
             [
              0.3333333333333333,
              "#9c179e"
             ],
             [
              0.4444444444444444,
              "#bd3786"
             ],
             [
              0.5555555555555556,
              "#d8576b"
             ],
             [
              0.6666666666666666,
              "#ed7953"
             ],
             [
              0.7777777777777778,
              "#fb9f3a"
             ],
             [
              0.8888888888888888,
              "#fdca26"
             ],
             [
              1,
              "#f0f921"
             ]
            ],
            "type": "heatmapgl"
           }
          ],
          "histogram": [
           {
            "marker": {
             "pattern": {
              "fillmode": "overlay",
              "size": 10,
              "solidity": 0.2
             }
            },
            "type": "histogram"
           }
          ],
          "histogram2d": [
           {
            "colorbar": {
             "outlinewidth": 0,
             "ticks": ""
            },
            "colorscale": [
             [
              0,
              "#0d0887"
             ],
             [
              0.1111111111111111,
              "#46039f"
             ],
             [
              0.2222222222222222,
              "#7201a8"
             ],
             [
              0.3333333333333333,
              "#9c179e"
             ],
             [
              0.4444444444444444,
              "#bd3786"
             ],
             [
              0.5555555555555556,
              "#d8576b"
             ],
             [
              0.6666666666666666,
              "#ed7953"
             ],
             [
              0.7777777777777778,
              "#fb9f3a"
             ],
             [
              0.8888888888888888,
              "#fdca26"
             ],
             [
              1,
              "#f0f921"
             ]
            ],
            "type": "histogram2d"
           }
          ],
          "histogram2dcontour": [
           {
            "colorbar": {
             "outlinewidth": 0,
             "ticks": ""
            },
            "colorscale": [
             [
              0,
              "#0d0887"
             ],
             [
              0.1111111111111111,
              "#46039f"
             ],
             [
              0.2222222222222222,
              "#7201a8"
             ],
             [
              0.3333333333333333,
              "#9c179e"
             ],
             [
              0.4444444444444444,
              "#bd3786"
             ],
             [
              0.5555555555555556,
              "#d8576b"
             ],
             [
              0.6666666666666666,
              "#ed7953"
             ],
             [
              0.7777777777777778,
              "#fb9f3a"
             ],
             [
              0.8888888888888888,
              "#fdca26"
             ],
             [
              1,
              "#f0f921"
             ]
            ],
            "type": "histogram2dcontour"
           }
          ],
          "mesh3d": [
           {
            "colorbar": {
             "outlinewidth": 0,
             "ticks": ""
            },
            "type": "mesh3d"
           }
          ],
          "parcoords": [
           {
            "line": {
             "colorbar": {
              "outlinewidth": 0,
              "ticks": ""
             }
            },
            "type": "parcoords"
           }
          ],
          "pie": [
           {
            "automargin": true,
            "type": "pie"
           }
          ],
          "scatter": [
           {
            "fillpattern": {
             "fillmode": "overlay",
             "size": 10,
             "solidity": 0.2
            },
            "type": "scatter"
           }
          ],
          "scatter3d": [
           {
            "line": {
             "colorbar": {
              "outlinewidth": 0,
              "ticks": ""
             }
            },
            "marker": {
             "colorbar": {
              "outlinewidth": 0,
              "ticks": ""
             }
            },
            "type": "scatter3d"
           }
          ],
          "scattercarpet": [
           {
            "marker": {
             "colorbar": {
              "outlinewidth": 0,
              "ticks": ""
             }
            },
            "type": "scattercarpet"
           }
          ],
          "scattergeo": [
           {
            "marker": {
             "colorbar": {
              "outlinewidth": 0,
              "ticks": ""
             }
            },
            "type": "scattergeo"
           }
          ],
          "scattergl": [
           {
            "marker": {
             "colorbar": {
              "outlinewidth": 0,
              "ticks": ""
             }
            },
            "type": "scattergl"
           }
          ],
          "scattermapbox": [
           {
            "marker": {
             "colorbar": {
              "outlinewidth": 0,
              "ticks": ""
             }
            },
            "type": "scattermapbox"
           }
          ],
          "scatterpolar": [
           {
            "marker": {
             "colorbar": {
              "outlinewidth": 0,
              "ticks": ""
             }
            },
            "type": "scatterpolar"
           }
          ],
          "scatterpolargl": [
           {
            "marker": {
             "colorbar": {
              "outlinewidth": 0,
              "ticks": ""
             }
            },
            "type": "scatterpolargl"
           }
          ],
          "scatterternary": [
           {
            "marker": {
             "colorbar": {
              "outlinewidth": 0,
              "ticks": ""
             }
            },
            "type": "scatterternary"
           }
          ],
          "surface": [
           {
            "colorbar": {
             "outlinewidth": 0,
             "ticks": ""
            },
            "colorscale": [
             [
              0,
              "#0d0887"
             ],
             [
              0.1111111111111111,
              "#46039f"
             ],
             [
              0.2222222222222222,
              "#7201a8"
             ],
             [
              0.3333333333333333,
              "#9c179e"
             ],
             [
              0.4444444444444444,
              "#bd3786"
             ],
             [
              0.5555555555555556,
              "#d8576b"
             ],
             [
              0.6666666666666666,
              "#ed7953"
             ],
             [
              0.7777777777777778,
              "#fb9f3a"
             ],
             [
              0.8888888888888888,
              "#fdca26"
             ],
             [
              1,
              "#f0f921"
             ]
            ],
            "type": "surface"
           }
          ],
          "table": [
           {
            "cells": {
             "fill": {
              "color": "#EBF0F8"
             },
             "line": {
              "color": "white"
             }
            },
            "header": {
             "fill": {
              "color": "#C8D4E3"
             },
             "line": {
              "color": "white"
             }
            },
            "type": "table"
           }
          ]
         },
         "layout": {
          "annotationdefaults": {
           "arrowcolor": "#2a3f5f",
           "arrowhead": 0,
           "arrowwidth": 1
          },
          "autotypenumbers": "strict",
          "coloraxis": {
           "colorbar": {
            "outlinewidth": 0,
            "ticks": ""
           }
          },
          "colorscale": {
           "diverging": [
            [
             0,
             "#8e0152"
            ],
            [
             0.1,
             "#c51b7d"
            ],
            [
             0.2,
             "#de77ae"
            ],
            [
             0.3,
             "#f1b6da"
            ],
            [
             0.4,
             "#fde0ef"
            ],
            [
             0.5,
             "#f7f7f7"
            ],
            [
             0.6,
             "#e6f5d0"
            ],
            [
             0.7,
             "#b8e186"
            ],
            [
             0.8,
             "#7fbc41"
            ],
            [
             0.9,
             "#4d9221"
            ],
            [
             1,
             "#276419"
            ]
           ],
           "sequential": [
            [
             0,
             "#0d0887"
            ],
            [
             0.1111111111111111,
             "#46039f"
            ],
            [
             0.2222222222222222,
             "#7201a8"
            ],
            [
             0.3333333333333333,
             "#9c179e"
            ],
            [
             0.4444444444444444,
             "#bd3786"
            ],
            [
             0.5555555555555556,
             "#d8576b"
            ],
            [
             0.6666666666666666,
             "#ed7953"
            ],
            [
             0.7777777777777778,
             "#fb9f3a"
            ],
            [
             0.8888888888888888,
             "#fdca26"
            ],
            [
             1,
             "#f0f921"
            ]
           ],
           "sequentialminus": [
            [
             0,
             "#0d0887"
            ],
            [
             0.1111111111111111,
             "#46039f"
            ],
            [
             0.2222222222222222,
             "#7201a8"
            ],
            [
             0.3333333333333333,
             "#9c179e"
            ],
            [
             0.4444444444444444,
             "#bd3786"
            ],
            [
             0.5555555555555556,
             "#d8576b"
            ],
            [
             0.6666666666666666,
             "#ed7953"
            ],
            [
             0.7777777777777778,
             "#fb9f3a"
            ],
            [
             0.8888888888888888,
             "#fdca26"
            ],
            [
             1,
             "#f0f921"
            ]
           ]
          },
          "colorway": [
           "#636efa",
           "#EF553B",
           "#00cc96",
           "#ab63fa",
           "#FFA15A",
           "#19d3f3",
           "#FF6692",
           "#B6E880",
           "#FF97FF",
           "#FECB52"
          ],
          "font": {
           "color": "#2a3f5f"
          },
          "geo": {
           "bgcolor": "white",
           "lakecolor": "white",
           "landcolor": "#E5ECF6",
           "showlakes": true,
           "showland": true,
           "subunitcolor": "white"
          },
          "hoverlabel": {
           "align": "left"
          },
          "hovermode": "closest",
          "mapbox": {
           "style": "light"
          },
          "paper_bgcolor": "white",
          "plot_bgcolor": "#E5ECF6",
          "polar": {
           "angularaxis": {
            "gridcolor": "white",
            "linecolor": "white",
            "ticks": ""
           },
           "bgcolor": "#E5ECF6",
           "radialaxis": {
            "gridcolor": "white",
            "linecolor": "white",
            "ticks": ""
           }
          },
          "scene": {
           "xaxis": {
            "backgroundcolor": "#E5ECF6",
            "gridcolor": "white",
            "gridwidth": 2,
            "linecolor": "white",
            "showbackground": true,
            "ticks": "",
            "zerolinecolor": "white"
           },
           "yaxis": {
            "backgroundcolor": "#E5ECF6",
            "gridcolor": "white",
            "gridwidth": 2,
            "linecolor": "white",
            "showbackground": true,
            "ticks": "",
            "zerolinecolor": "white"
           },
           "zaxis": {
            "backgroundcolor": "#E5ECF6",
            "gridcolor": "white",
            "gridwidth": 2,
            "linecolor": "white",
            "showbackground": true,
            "ticks": "",
            "zerolinecolor": "white"
           }
          },
          "shapedefaults": {
           "line": {
            "color": "#2a3f5f"
           }
          },
          "ternary": {
           "aaxis": {
            "gridcolor": "white",
            "linecolor": "white",
            "ticks": ""
           },
           "baxis": {
            "gridcolor": "white",
            "linecolor": "white",
            "ticks": ""
           },
           "bgcolor": "#E5ECF6",
           "caxis": {
            "gridcolor": "white",
            "linecolor": "white",
            "ticks": ""
           }
          },
          "title": {
           "x": 0.05
          },
          "xaxis": {
           "automargin": true,
           "gridcolor": "white",
           "linecolor": "white",
           "ticks": "",
           "title": {
            "standoff": 15
           },
           "zerolinecolor": "white",
           "zerolinewidth": 2
          },
          "yaxis": {
           "automargin": true,
           "gridcolor": "white",
           "linecolor": "white",
           "ticks": "",
           "title": {
            "standoff": 15
           },
           "zerolinecolor": "white",
           "zerolinewidth": 2
          }
         }
        },
        "title": {
         "text": "Queue size aux cancel"
        },
        "xaxis": {
         "title": {
          "text": "time"
         }
        },
        "yaxis": {
         "title": {
          "text": "Queue size"
         }
        }
       }
      }
     },
     "metadata": {},
     "output_type": "display_data"
    },
    {
     "data": {
      "application/vnd.plotly.v1+json": {
       "config": {
        "plotlyServerURL": "https://plot.ly"
       },
       "data": [
        {
         "line": {
          "color": "blue"
         },
         "mode": "markers",
         "name": "same",
         "showlegend": true,
         "type": "scatter",
         "x": [
          22896.491,
          22960.156246666666,
          22983.53811,
          23006.867213333335,
          23053.411373333332,
          23098.672523333335,
          23142.234196666668,
          23191.6577,
          23226.31203,
          23268.727603333333,
          23321.396956666667,
          23361.919193333335,
          23394.928436666665,
          23424.075103333333,
          23472.58412,
          23490.30435,
          23526.573443333335,
          23568.520666666667,
          23616.2552,
          23651.518726666665,
          23682.87094333333,
          23711.55029,
          23723.734056666668,
          23737.73361,
          23767.486766666665,
          23793.774653333334,
          23836.33153666667,
          23865.9064,
          23889.978266666665,
          23922.852893333333,
          24094.818833333335,
          24109.41918333333,
          24139.504233333333,
          24171.368913333332,
          24198.364546666668,
          24318.511103333334,
          24347.618866666668,
          24376.159233333332,
          24394.701486666665,
          24428.563423333333,
          24441.666573333332,
          24442.221256666668,
          24486.266996666665,
          24486.725733333333,
          24488.548803333335,
          24490.15011,
          24518.90164,
          24542.840876666665,
          24573.290196666665,
          24577.85400666667,
          24560.18135,
          24577.950663333333,
          24597.333056666666,
          24594.131693333333,
          24606.23718,
          24634.16087,
          24674.588946666667,
          24692.50209,
          24719.46172666667,
          24742.951313333335,
          24781.010453333332,
          24803.95333,
          24831.45122,
          24840.306976666667,
          24841.58314,
          24847.41963,
          24866.862196666665,
          24886.146053333334,
          24899.95023,
          24922.961126666665,
          24940.38679,
          24961.21513,
          24968.281466666667,
          24990.342923333334,
          25018.892006666665,
          25065.67502,
          25085.694473333333,
          25094.041173333335,
          25114.629246666667,
          25166.83424,
          25195.580913333335,
          25216.937863333333,
          25232.969436666666,
          25251.16874333333,
          25266.33855,
          25283.727436666668,
          25313.26215,
          25326.35198666667,
          25352.73418,
          25379.78807,
          25415.219896666666,
          25442.431333333334,
          25465.56945,
          25489.235743333335,
          25458.22151,
          25433.212433333334,
          25407.510173333332,
          25408.82934,
          25407.647843333332,
          25412.136723333333,
          25415.327926666665,
          25448.0533,
          25449.166353333334,
          25473.919,
          25494.80438,
          25531.553153333334,
          25546.377303333335,
          25559.330713333333,
          25569.42596,
          25584.36522,
          25600.142363333332,
          25612.29056,
          25614.358993333335,
          25621.95902,
          25616.449343333334,
          25620.6384,
          25623.771536666667,
          25635.826466666666,
          25648.3741,
          25655.799613333333,
          25671.870003333333,
          25681.991783333335,
          25657.879763333334,
          25648.692323333333,
          25631.49001,
          25638.67264,
          25669.124803333332,
          25690.327536666668,
          25690.284136666665,
          25707.145756666665,
          25694.10559,
          25714.346186666666,
          25718.658536666666,
          25725.12958,
          25722.590886666665,
          25712.381183333335,
          25720.624256666666,
          25729.79121,
          25750.88011,
          25759.32917,
          25758.868746666667,
          25757.65212,
          25764.47075,
          25772.68287,
          25777.05129666667,
          25774.180193333334,
          25779.76187,
          25803.32789,
          25794.98124,
          25770.989886666666,
          25772.465406666666,
          25838.02782,
          25877.801146666665,
          25890.099573333333,
          25908.864136666667,
          25907.052226666667,
          25927.16314,
          25955.72862,
          25971.647376666668,
          25997.89631,
          26039.25431,
          26084.404213333335,
          26138.80421,
          26207.980206666667,
          26216.02216,
          26219.56104,
          26236.201296666666,
          26237.213426666665,
          26216.809296666666,
          26228.563353333335,
          26223.239866666667,
          26211.727836666665,
          26195.38117,
          26195.93689333333,
          26214.055673333332,
          26235.338073333332,
          26255.518866666665,
          26266.390186666667,
          26291.086016666668,
          26308.029543333334,
          26296.553846666666,
          26297.847383333334,
          26315.91594,
          26315.920586666667,
          26333.962583333334,
          26335.00861,
          26317.15734,
          26319.67263,
          26342.48344,
          26336.354913333333,
          26334.187283333333,
          26339.631673333333,
          26359.042606666666,
          26372.690876666667,
          26411.749413333335,
          26443.297363333335,
          26462.133833333333,
          26489.96549,
          26491.650736666666,
          26520.742963333334,
          26563.980026666668,
          26597.63246333333,
          26626.107873333334,
          26662.450273333332,
          26675.42985,
          26680.97654,
          26683.59694,
          26693.8803,
          26716.806863333335,
          26756.456986666668,
          26784.51738,
          26793.402876666667,
          26818.713813333332,
          26817.409316666668,
          26837.207866666668,
          26846.68089,
          26892.378496666668,
          26906.679823333332,
          26908.86876,
          26913.699926666668,
          26932.710893333333,
          26955.911653333333,
          26960.88129,
          26990.12641333333,
          27008.06768,
          27026.843186666665,
          27044.580856666667,
          27063.42974,
          27065.03119,
          27060.25889333333,
          27074.426513333332,
          27087.52375,
          27105.33991,
          27105.567373333335,
          27117.08138,
          27129.852596666668,
          27129.238853333332,
          27155.449936666668,
          27177.438996666668,
          27198.237386666668,
          27179.062686666668,
          27186.90658,
          27190.67512,
          27208.257576666667,
          27212.43867666667,
          27209.40339,
          27205.011293333333,
          27219.813423333333,
          27230.68205666667,
          27253.784,
          27284.03847,
          27298.379693333332,
          27299.06225,
          27298.474143333333,
          27317.13441,
          27330.041883333335,
          27361.215566666666,
          27387.727766666667,
          27408.59587,
          27437.274496666665,
          27440.045283333333,
          27432.618023333333,
          27420.32559,
          27428.50745333333,
          27408.096263333333,
          27390.27485,
          27384.26759666667,
          27367.67677,
          27363.059363333334,
          27355.0941,
          27328.156033333333,
          27317.005736666666,
          27291.29821,
          27252.714473333333,
          27255.60575,
          27205.736173333335,
          27154.57721666667,
          27075.56387,
          26986.53068,
          26870.238276666667,
          26852.961776666667,
          26809.96402,
          26701.03785,
          26553.888926666667,
          26492.89849,
          26409.74634,
          26304.175933333332,
          26200.967476666665,
          26088.040233333333,
          25987.249666666667,
          25942.281273333334,
          25952.074873333335,
          25940.592043333334,
          25937.65222,
          25928.50417,
          25892.84579666667,
          25907.21951,
          25932.962083333332,
          25935.932023333335,
          25951.11903,
          25959.75655,
          25938.801086666666,
          25945.79475333333,
          25949.790976666667,
          25948.948516666667,
          25937.12653,
          25926.841516666667,
          25929.323613333334,
          25966.446486666668,
          25959.331853333333,
          25960.22167,
          25971.099206666666,
          25975.40981,
          25981.664043333334,
          25964.663176666665,
          25959.436223333334,
          25968.351623333332,
          25959.677326666668,
          25942.803843333335,
          25937.611956666668,
          25938.36199,
          25930.00202,
          25933.941476666667,
          25935.858093333332,
          25931.733163333334,
          25928.824483333334,
          25935.914736666666,
          25947.243516666666,
          26011.677826666666,
          26029.508403333333,
          25891.32729,
          25905.70274,
          25907.60236333333,
          25907.93656,
          25898.623623333333,
          25800.850413333334,
          25793.889316666668,
          25793.80929,
          25868.719076666668,
          25872.490273333333,
          25890.42768333333,
          25891.342073333333,
          25869.11612,
          25903.53513,
          25931.048836666665,
          25964.055866666666,
          25950.79485,
          25951.682546666667,
          25938.80366,
          25962.707526666665,
          25982.486006666666,
          25984.614193333335,
          25977.834456666667,
          25992.441156666668,
          25998.772673333333,
          25995.98427333333,
          25987.17266,
          25984.60896,
          25991.562396666668,
          25994.680116666666,
          25983.412956666667,
          25975.636076666666,
          25965.35847,
          25958.446493333333,
          25961.148496666665,
          25971.499193333333,
          25968.63978,
          25963.68277,
          25974.78419,
          25988.380566666667,
          25995.01089,
          25995.309293333332,
          26014.721613333335,
          26025.870033333333,
          26032.09387,
          26010.936906666666,
          25998.856033333333,
          26005.705003333333,
          26025.214813333332,
          26018.1123,
          26022.195383333332,
          26028.80804,
          26042.73971,
          26058.44541,
          26077.138576666668,
          26082.109486666668,
          26088.99537,
          26100.451606666666,
          26117.369623333332,
          26129.967503333333,
          26133.90672,
          26163.597746666666,
          26184.947353333333,
          26174.45931,
          26182.779403333334,
          26200.708426666668,
          26195.73741,
          26155.854903333333,
          26153.830363333334,
          26172.74664,
          26176.173493333332,
          26173.55662666667,
          26200.541156666666,
          26195.888356666666,
          26203.241253333334,
          26197.000436666665,
          26200.902113333334,
          26200.09782,
          26206.97644,
          26211.066676666665,
          26209.59876,
          26201.320146666665,
          26199.74695,
          26201.501183333334,
          26207.269233333333,
          26200.337246666666,
          26216.675973333335,
          26222.475336666666,
          26215.373386666666,
          26241.50073,
          26258.687536666668,
          26285.43086,
          26306.56506,
          26359.429596666665,
          26401.15076,
          26442.478663333335,
          26436.31855,
          26456.58493333333,
          26495.266053333333,
          26502.537166666665,
          26511.42109,
          26540.480663333332,
          26564.132486666665,
          26591.475506666666,
          26614.18049,
          26653.130556666667,
          26674.29157,
          26684.96747,
          26684.63898,
          26695.205166666667,
          26705.37736,
          26712.35881,
          26743.346513333334,
          26745.612893333335,
          26736.26803666667,
          26747.582856666668,
          26747.68463,
          26747.647756666665,
          26752.84622,
          26750.913373333333,
          26765.448073333333,
          26709.2991,
          26693.17154,
          26699.14529,
          26697.299633333332,
          26700.18577,
          26691.388453333333,
          26690.585693333334,
          26705.36586,
          26693.359776666668,
          26684.966606666665,
          26656.49334333333,
          26619.324913333334,
          26578.69477,
          26575.847226666665,
          26596.03242666667,
          26598.856776666667,
          26615.100946666666,
          26640.280533333334,
          26654.181623333334,
          26653.764783333332,
          26651.053676666666,
          26656.487236666668,
          26655.833843333334,
          26648.670403333334,
          26638.883543333333,
          26630.252836666667,
          26628.425923333332,
          26600.84243,
          26593.00082,
          26594.993476666667,
          26607.10145,
          26604.735876666666,
          26620.30548,
          26613.93415,
          26628.146393333333,
          26655.66563666667,
          26663.259083333334,
          26644.557703333332,
          26637.78366333333,
          26646.56338,
          26654.69342,
          26664.07777,
          26639.684933333334,
          26620.482793333333,
          26601.952943333334,
          26626.052766666668,
          26623.233213333333,
          26613.66834,
          26610.004216666668,
          26583.937173333332,
          26588.60797,
          26605.487623333334,
          26596.245886666668,
          26590.43191,
          26596.24397666667,
          26610.96683,
          26625.172813333334,
          26637.240906666666,
          26616.976496666666,
          26603.066523333335,
          26785.600573333333,
          26821.357653333333,
          26891.45950333333,
          26895.410546666666,
          26921.325753333334,
          26933.261456666667,
          26992.768343333333,
          27030.25918,
          27057.2371,
          27074.711126666665,
          27085.50915,
          27098.30911,
          27105.303943333332,
          27135.52465666667,
          27144.325483333334,
          27150.228296666668,
          27146.51339,
          27144.50099,
          27161.65454,
          27181.24277,
          27175.18093,
          27173.52782666667,
          27191.187696666668,
          27206.670916666666,
          27205.720503333334,
          27222.00802,
          27246.554033333334,
          27253.949533333333,
          27252.391526666666,
          27266.27263,
          27278.20403,
          27295.200753333334,
          27289.080376666665,
          27284.96961,
          27295.38034,
          27313.64558,
          27303.829986666668,
          27310.672376666666,
          27312.61803,
          27319.146453333335,
          27339.61835,
          27357.54697666667,
          27368.38628,
          27362.511483333332,
          27359.99552,
          27348.717296666666,
          27343.344163333335,
          27354.372623333333,
          27364.001913333334,
          27374.94352,
          27398.42899,
          27414.837166666668,
          27427.001676666667,
          27449.789383333333,
          27468.560936666665,
          27497.974466666667,
          27520.55806666667,
          27569.604646666667,
          27592.75353,
          27624.37059,
          27631.05438,
          27631.945263333335,
          27663.39164,
          27665.330723333333,
          27677.463513333332,
          27699.10219,
          27738.092406666667,
          27769.802953333332,
          27770.01236,
          27775.18474,
          27792.274243333333,
          27783.503716666666,
          27792.092546666667,
          27782.25541,
          27805.911733333334,
          27840.338956666666,
          27876.66355,
          27894.27098,
          27918.520026666665,
          27922.54832,
          27923.209786666666,
          27931.913953333333,
          27941.224443333333,
          27958.668306666666,
          27988.912886666665,
          27994.72179,
          28001.217243333333,
          28034.224046666666,
          28265.76073,
          28278.644546666666,
          28304.203956666668,
          28338.268673333332,
          28353.581626666666,
          28368.458426666668,
          28364.474523333334,
          28352.950183333334,
          28361.18703333333,
          28367.710333333333,
          28380.999006666665,
          28354.94713,
          28330.705406666668,
          28324.069316666668,
          28323.80627,
          28350.66953311618,
          28372.5557261376,
          28381.047826452534,
          28398.494649455835,
          28407.439285532888,
          28423.184255499873,
          28427.42672462286,
          28447.918005644402,
          28468.67593237793,
          28491.468561095324,
          28505.338864598634,
          28518.16435272696,
          28525.306851126774,
          28527.326331965425,
          28478.59119950933,
          28472.74446144377,
          28482.76823788935,
          28488.272281944566,
          28497.221597796142,
          28511.519372157316,
          28539.38789582028,
          28564.869677535255,
          28583.726670873522,
          28604.21568081064,
          28548.01396168165,
          28560.709931650414,
          28559.85198938992,
          28573.93602864225,
          28588.2129917995,
          28564.81493757514,
          28564.049943376962,
          28561.321844777787,
          28570.717763022538,
          28581.01182014456,
          28604.715937058325,
          28597.388154733755,
          28587.657624608375,
          28599.19989707424,
          28620.11538505692,
          28631.1126053971,
          28646.298282078475,
          28644.80864027872,
          28657.556918293987,
          28666.952653857406,
          28661.302187408204,
          28670.80401061634,
          28685.54934964966,
          28690.97303873972,
          28710.403163234856,
          28728.188730650156,
          28750.11319763361,
          28762.32919762408,
          28779.383891640555,
          28797.899384958895,
          28800.342060531948,
          28805.221569630616,
          28820.432413438815,
          28835.14029918498,
          28832.600037294105,
          28824.09523353792,
          28829.463369894496,
          28835.854039651735,
          28865.56629937849,
          28877.81930392468,
          28874.912508233294,
          28869.717123653045,
          28865.638289938925,
          28871.992575056494,
          28872.95423754458,
          28865.052582220775,
          28863.032879101713,
          28878.61714223147,
          28878.720105575718,
          28882.454700099413,
          28882.727029845777,
          28877.62645269141,
          28870.655869248854,
          28853.93765433487,
          28843.21988478482,
          28859.129967094064,
          28875.677629089252,
          28886.45729989694,
          28909.99593235937,
          28936.6898786548,
          28961.418042493904,
          28958.658705237372,
          28981.64900503926,
          28979.63794654421,
          28971.571356914705,
          28982.12294781885,
          28989.568570404874,
          28995.850694827794,
          29017.568416737005,
          29034.00133284866,
          29050.40703275295,
          29061.775005505933,
          29077.053471043895,
          29108.158378845917,
          29138.485622749286,
          29169.545273929863,
          29201.704868932648,
          29240.278215051054,
          29239.82648929431,
          29261.728419712214,
          29282.55127095866,
          29282.366350186545,
          29286.074656666235,
          29282.348243858054,
          29299.84735920554,
          29253.04652042559,
          29229.621375940842,
          29187.564136466215,
          29187.020397704524,
          29157.756092848518,
          29131.976873060838,
          29131.0702346399,
          29140.361467339426,
          29112.981883998356,
          29101.999961395286,
          29077.147472618883,
          29072.734554579674,
          29048.81783821674,
          29026.06704638376,
          29032.732193392883,
          29054.836794524454,
          29071.017255126917,
          29063.415104572334,
          29089.76548382417,
          29075.092940318107,
          29090.25251724644,
          29113.35953934741,
          29118.132559037575,
          29129.606550127,
          29125.748943333834,
          29149.115644941783,
          29143.697714894264,
          29151.89511097505,
          29189.449099029724,
          29190.126861924688,
          29188.5307843443,
          29193.126094461008,
          29207.216131375335,
          29222.30890195455,
          29209.248002558772,
          29160.121017221954,
          29160.661098331442,
          29149.95443013207,
          29176.95058591827,
          29181.069287956387,
          29187.93750207883,
          29212.25634689436,
          29198.556278442607,
          29197.68568810453,
          29212.01757731078,
          29198.25252365388,
          29204.125092672788,
          29244.169712192568,
          29278.808389249956,
          29326.35409870865,
          29376.905754498486,
          29401.48980441414,
          29422.724496656425,
          29449.266637538687,
          29478.842618741975,
          29555.38827267689,
          29602.788870277313,
          29641.082377648603,
          29665.295152087663,
          29693.680266514373,
          29679.573673508537,
          29713.437262710228,
          29736.773496980324,
          29746.979304928333,
          29775.158606768255,
          29807.927548374228,
          29858.153315905893,
          29889.101139266168,
          29916.025685673412,
          29938.301298166083,
          30013.214951173904,
          30045.90985962707,
          30086.54773716459,
          30068.211088855744,
          30091.247848699764,
          30160.354450466075,
          30194.78243603761,
          30239.627160820648,
          30226.884896505675,
          30197.6753379744,
          30229.882773623387,
          30277.750432197576,
          30289.20564966536,
          30304.604416491962,
          30331.017305431462,
          30298.83549964396,
          30335.22490294752,
          30366.754512460684,
          29879.701803078427,
          29796.441085615592,
          29647.36937951657,
          29637.23929524289,
          29582.853312992625,
          29487.835674287184,
          29341.135509992215,
          29287.155751376868,
          29249.599522926055,
          29232.232810072328,
          29247.79375033848,
          29244.810062961948,
          29239.966930528648,
          29191.557895326056,
          29208.84149448061,
          29211.0744574864,
          29248.84887344338,
          29284.101213009082,
          29276.29661428995,
          29245.040336033602,
          29282.768150622534,
          29317.765976022132,
          29299.004095860568,
          29289.61069019855,
          29338.325349505267,
          29377.516107339154,
          29295.818984605306,
          29328.65112512446,
          29377.71362260343,
          29399.048291851348,
          29406.124341513998,
          29402.45725902559,
          29448.240227515107,
          29532.327616300037,
          29541.89122575924,
          29538.268696620868,
          29620.938831511496,
          29695.913861461922,
          29731.606327244463,
          29702.622281879194,
          29674.16678700361,
          29684.208446799836,
          29752.982146705344,
          29843.99662873999,
          29931.564783540507,
          29988.835726122983,
          29997.951584553928,
          30029.09126073204,
          29988.947942936033,
          30038.02038443507,
          30016.460124223602,
          30041.217320993666,
          30026.86563338301,
          30017.614353775974,
          30093.961220900153,
          30060.953386159534,
          30074.757862924987,
          29934.02643132929,
          29942.681579244218,
          29888.254541257935,
          29990.049686946248,
          30126.77260738052,
          30075.387451952884,
          30158.942504767958,
          30279.12328767123,
          30299.360214333556,
          30200.692498279423,
          30179.898881811747,
          30335.574304442827,
          30436.13812453113,
          30568.545460170146,
          30654.849992019153,
          30877.37780708986,
          30918.651219096333,
          30894.480741394527,
          30865.349569990853,
          30919.882924976257,
          31080.303889437317,
          31153.770606372043,
          31444.416334405145,
          31595.81298992161,
          31794.318874560377,
          31896.018745387453,
          31896.72279430789,
          31856.77582537517,
          32081.03116883117,
          32206.462664624807,
          32021.94655791191,
          27599.74827225131,
          27372.380262664166,
          26904.475618661258,
          26182.763090507728,
          25927.228184019372,
          25491.74777479893,
          25796.52,
          26401.257064846417,
          25663.58418972332,
          23696.550046948356,
          22859.435375722544,
          23541.42796992481,
          24244.189247311828,
          26147.50490566038,
          31844.723076923077
         ],
         "y": [
          28723.63884,
          28768.75822,
          28785.732426666666,
          28834.907283333334,
          28880.359783333333,
          28939.00190666667,
          28976.491286666667,
          29026.734686666667,
          29072.55604,
          29134.691976666665,
          29197.17649,
          29236.090296666665,
          29276.407363333332,
          29307.922766666667,
          29363.760373333334,
          29400.48415,
          29441.75002666667,
          29498.101123333334,
          29563.579433333332,
          29654.573566666666,
          29735.111686666667,
          29777.835303333333,
          29789.58223,
          29830.14337,
          29866.25785,
          29912.968603333335,
          29960.293183333335,
          30000.965696666666,
          30049.74521333333,
          30101.985156666666,
          30201.996173333333,
          30245.69813,
          30248.91851,
          30256.107803333332,
          30298.371243333335,
          30605.375376666667,
          30645.84365,
          30678.97858,
          30719.166053333334,
          30776.52903,
          30803.53874,
          30900.311913333335,
          30979.414826666667,
          31049.71402666667,
          31087.39823,
          31115.566816666666,
          31151.006426666667,
          31170.521536666667,
          31192.941036666667,
          31192.004943333333,
          31206.56991,
          31233.820613333333,
          31252.892276666666,
          31269.228706666665,
          31307.029296666668,
          31349.857146666665,
          31391.166006666666,
          31436.802583333334,
          31468.319553333335,
          31560.95207,
          31614.25041,
          31624.515533333335,
          31658.69901,
          31672.61248,
          31659.65836,
          31692.477346666667,
          31742.645596666665,
          31789.590506666667,
          31809.591483333334,
          31844.72221,
          31859.009153333333,
          31894.386976666665,
          31901.64833,
          31931.916653333334,
          31984.604683333335,
          32047.875196666668,
          32070.374913333333,
          32073.471443333332,
          32101.935716666667,
          32170.28157,
          32192.508403333333,
          32210.930113333332,
          32246.650763333335,
          32261.58931666667,
          32296.450643333334,
          32327.35876,
          32345.663493333333,
          32378.05472,
          32422.51248,
          32458.491023333332,
          32502.95163,
          32550.63617,
          32589.599423333333,
          32625.04944,
          32641.142203333333,
          32629.010203333335,
          32584.093833333332,
          32588.02968,
          32595.29864,
          32596.506166666666,
          32607.68275,
          32622.241146666667,
          32645.74663,
          32676.097993333333,
          32686.0676,
          32701.531373333335,
          32722.188213333335,
          32738.839643333333,
          32768.76541666667,
          32788.54732666667,
          32810.697036666665,
          32823.13034,
          32831.16996,
          32854.561896666666,
          32872.178953333336,
          32891.78698,
          32902.71573,
          32920.12453,
          32932.08581333333,
          32942.68654,
          32968.93508,
          33003.28233666666,
          32985.36423666667,
          32988.32867333333,
          32993.095283333336,
          33037.43785,
          33084.62676,
          33104.782913333336,
          33132.37071333333,
          33155.40201666667,
          33172.05921666667,
          33180.45540333333,
          33202.865106666664,
          33213.594736666666,
          33209.965436666665,
          33219.8999,
          33236.90537,
          33264.876743333334,
          33299.9233,
          33339.05689666667,
          33356.15643,
          33374.74131666667,
          33386.01392333333,
          33413.24830666667,
          33378.30223666667,
          33378.82640666667,
          33395.309056666665,
          33424.91472666667,
          33426.776276666664,
          33408.07126333333,
          33428.39435333334,
          33480.292173333335,
          33502.99788333333,
          33507.37934666667,
          33521.36291,
          33546.05103333334,
          33571.50005,
          33593.486716666666,
          33602.2822,
          33665.58616333333,
          33707.39692666667,
          33761.08328333333,
          33799.40501333334,
          33826.82993,
          33857.38687333334,
          33858.99674,
          33843.77871,
          33851.719053333334,
          33837.19688333333,
          33830.98151333333,
          33835.48816,
          33815.79314666666,
          33805.75579,
          33821.075756666665,
          33835.46672,
          33855.96554,
          33877.43159,
          33895.59467333333,
          33925.363196666665,
          33952.08346666666,
          33945.23415333333,
          33953.579463333335,
          33967.14464,
          33966.429996666666,
          33993.67374,
          33987.52508666667,
          33969.117666666665,
          33975.46682,
          33980.98493,
          33995.11218333333,
          33998.21565333333,
          33998.72933333334,
          34017.76761333333,
          34077.38901,
          34120.81057666666,
          34181.66540666667,
          34220.718766666665,
          34266.41136333333,
          34262.02440333334,
          34281.914403333336,
          34332.74586,
          34379.480176666664,
          34432.04172,
          34478.07579333333,
          34479.37032666666,
          34495.02884333333,
          34501.18232666667,
          34493.632406666664,
          34517.18092333333,
          34559.984613333334,
          34579.5283,
          34604.80148333334,
          34617.04062,
          34615.84176,
          34638.97333,
          34633.13113,
          34671.292193333335,
          34697.92851,
          34731.02703333333,
          34736.68574,
          34753.340183333334,
          34774.94177,
          34820.40445,
          34848.35911666667,
          34882.087653333336,
          34890.88099666667,
          34923.28954,
          34954.03246333334,
          34979.986333333334,
          34991.48730666667,
          35027.25772,
          35029.72255,
          35044.33974,
          35029.24417666667,
          35024.856466666664,
          35049.70114333333,
          35065.613496666665,
          35099.630646666665,
          35134.17143,
          35154.28177,
          35120.683306666666,
          35125.61573666667,
          35135.020846666666,
          35161.56123,
          35157.97243666666,
          35138.65624,
          35127.306946666664,
          35144.06745,
          35136.68649666667,
          35146.72969,
          35218.05658333333,
          35224.78406,
          35212.24780333333,
          35211.99109,
          35234.59596,
          35256.91251,
          35276.67203666666,
          35288.87759,
          35294.18303,
          35312.241766666666,
          35292.46595,
          35280.7638,
          35285.74734666666,
          35298.69127,
          35296.61424,
          35270.67515333333,
          35278.002636666664,
          35277.989863333336,
          35257.50715,
          35260.53217666667,
          35112.76312,
          34988.88505,
          34883.58546333334,
          34680.04247666667,
          34549.811356666665,
          34405.85118666667,
          34328.95447333333,
          34165.78064,
          33953.4211,
          33739.49863666666,
          33670.37965,
          33592.40201666667,
          33415.522866666666,
          33162.246243333335,
          32973.97210666667,
          32789.97296,
          32604.16542,
          32416.729993333334,
          32213.50808,
          32039.62273,
          31988.76298,
          31976.707436666667,
          31978.630563333332,
          31989.165673333333,
          31970.71284,
          31950.179633333333,
          31957.397493333334,
          31974.19469,
          31996.527616666666,
          31992.133416666667,
          31993.50763,
          31988.244693333334,
          32020.28962,
          32031.151013333332,
          32034.39317,
          32019.351313333333,
          32004.36492,
          32019.608696666666,
          32048.750306666665,
          32053.551326666668,
          32070.97334,
          32111.39345,
          32126.18277666667,
          32139.294363333334,
          32138.09408,
          32125.302313333334,
          32150.122273333334,
          32165.38412,
          32162.287636666668,
          32118.29951333333,
          32087.346573333332,
          32099.770346666668,
          32129.728556666665,
          32129.025,
          32130.479363333332,
          32137.207713333333,
          32159.47498,
          32180.370163333333,
          32366.946206666667,
          32374.692916666667,
          32336.56246,
          32386.475016666667,
          32395.217083333333,
          32393.32897,
          32410.503083333333,
          32181.701336666665,
          32220.31131333333,
          32285.001476666668,
          32444.24426,
          32436.571556666666,
          32465.30377,
          32381.68523,
          32307.902346666666,
          32266.887716666668,
          32272.325976666667,
          32292.976386666665,
          32281.20869666667,
          32292.090523333332,
          32288.515533333335,
          32330.237306666666,
          32351.36523666667,
          32361.77887,
          32379.956033333332,
          32403.847403333333,
          32397.166573333332,
          32381.9245,
          32389.538813333333,
          32391.55325333333,
          32388.41831333333,
          32339.089813333332,
          32335.679706666666,
          32349.37356,
          32347.432536666667,
          32351.641873333334,
          32364.147463333335,
          32363.56494,
          32339.65476,
          32337.112283333332,
          32352.759856666667,
          32359.37517,
          32379.429973333332,
          32396.63228,
          32419.746786666667,
          32428.159906666668,
          32413.902663333334,
          32387.679616666668,
          32392.15578,
          32412.743896666667,
          32422.60734,
          32403.051083333332,
          32416.419756666666,
          32425.309183333335,
          32413.982506666667,
          32420.749426666665,
          32432.26635,
          32431.66731333333,
          32449.21163,
          32454.203386666668,
          32462.2824,
          32487.93841,
          32507.46532666667,
          32555.54586,
          32573.247743333333,
          32571.569846666665,
          32582.895463333334,
          32586.416323333335,
          32604.367003333333,
          32569.324656666668,
          32576.726146666668,
          32607.376963333332,
          32610.38573,
          32645.184736666666,
          32741.951523333333,
          32785.079046666666,
          32819.77608,
          32873.73923,
          32934.56047333333,
          32980.163323333334,
          33024.62452666667,
          33055.11481333333,
          33081.303303333334,
          33099.762266666665,
          33115.18297,
          33145.47151333333,
          33145.88893666667,
          33184.444566666665,
          33247.16938666667,
          33280.918853333336,
          33325.26996333333,
          33367.09828,
          33390.30308,
          33424.755236666664,
          33546.58690333334,
          33612.143443333334,
          33672.024073333334,
          33680.505346666665,
          33667.56682666667,
          33720.389473333336,
          33763.12572333333,
          33779.38004,
          33800.703363333334,
          33845.42275666667,
          33889.541633333334,
          33933.492686666665,
          33970.40165666667,
          34026.748733333334,
          34039.90481,
          34042.01068,
          34053.18965,
          34052.70955,
          34060.27593,
          34063.10918666667,
          34111.994783333335,
          34117.01952666666,
          34128.24123,
          34144.23497333333,
          34184.775513333334,
          34219.44404,
          34249.57018,
          34292.21133666667,
          34319.91444666667,
          34302.48652333333,
          34312.09788,
          34334.29467,
          34343.58271,
          34343.97321,
          34340.04008666667,
          34361.98735,
          34397.55364,
          34384.58511666667,
          34397.46647,
          34397.05203666667,
          34400.06527333333,
          34404.883786666665,
          34397.628313333335,
          34430.31864,
          34450.12034,
          34504.69113666667,
          34591.998896666664,
          34610.889643333336,
          34636.859136666666,
          34643.48137,
          34640.57134,
          34658.01122,
          34653.21636333333,
          34632.82136,
          34653.54387,
          34647.49929666667,
          34635.863176666666,
          34627.50244,
          34642.52936,
          34648.406526666666,
          34648.733406666666,
          34664.74179666667,
          34658.572726666665,
          34685.17884666667,
          34753.63595333333,
          34750.84296666666,
          34734.554663333336,
          34719.016396666666,
          34753.13637,
          34773.76051,
          34790.09484666667,
          34750.48008,
          34714.23373,
          34683.31447333333,
          34699.901476666666,
          34687.37037333333,
          34689.901073333334,
          34708.86227666667,
          34679.17827333333,
          34680.80066,
          34682.80438,
          34677.75214333333,
          34670.71394666666,
          34677.33605666667,
          34690.40633,
          34758.23541666667,
          34862.089583333334,
          34836.164476666665,
          34838.94889666667,
          34917.37145333333,
          34931.18444333333,
          34978.635343333335,
          34969.20658333333,
          35033.117183333336,
          35073.75202,
          35132.49449,
          35155.63797,
          35179.91972333333,
          35210.28779333334,
          35224.55713,
          35220.14855666667,
          35203.25945333333,
          35239.031123333334,
          35253.909933333336,
          35250.78066333333,
          35234.41988,
          35218.38176,
          35240.17377666667,
          35249.24184333334,
          35243.41907,
          35240.42067,
          35247.71141,
          35289.77685333334,
          35305.77637666667,
          35308.90588333333,
          35343.19942,
          35338.594236666664,
          35368.902753333336,
          35397.92441666667,
          35395.38262,
          35411.80436333334,
          35401.44934,
          35399.45524,
          35416.07814666667,
          35429.20494333333,
          35419.74195333333,
          35435.49676666666,
          35444.36452333333,
          35444.570393333335,
          35472.44197,
          35507.18925,
          35517.03803333333,
          35512.36254666666,
          35510.77256,
          35522.05871333333,
          35511.589283333335,
          35531.734403333336,
          35531.55732,
          35549.89549,
          35575.99084,
          35571.247756666664,
          35581.543516666665,
          35590.05950333333,
          35605.44608666666,
          35632.76792333333,
          35644.00233,
          35716.88737333333,
          35726.85844,
          35759.277753333336,
          35756.83938666667,
          35752.803283333335,
          35775.54244,
          35790.31609666667,
          35784.35231333334,
          35797.860043333334,
          35818.57029,
          35842.56510666667,
          35833.84699333333,
          35853.23901333333,
          35872.62305666666,
          35856.539893333334,
          35865.43871333334,
          35890.72816666667,
          35909.178973333335,
          35928.170776666666,
          35955.40398333333,
          35961.08130333333,
          35954.06008,
          35958.43651,
          35959.36656333334,
          35988.782576666665,
          36006.57796333334,
          36026.37163666666,
          36050.70399,
          36047.58807666667,
          36041.07616333333,
          36055.62098,
          36405.79098,
          36495.04862666666,
          36588.389866666665,
          36700.58919666667,
          36754.42936666666,
          36872.234103333336,
          37002.913226666664,
          37148.24825333333,
          37276.14434666667,
          37423.07976,
          37538.142556666666,
          37555.170066666666,
          37533.38551,
          37556.716843333335,
          37581.63281333333,
          37638.28360477742,
          37666.6385820833,
          37677.10465315732,
          37679.159541044464,
          37680.92388724287,
          37705.672800475666,
          37718.92040910253,
          37727.14415804327,
          37737.757727623786,
          37756.933150779296,
          37784.236415795385,
          37797.32544871239,
          37802.55768554773,
          37808.31322448267,
          37633.09739069482,
          37639.99200562736,
          37644.199541162976,
          37613.81245019038,
          37624.01784768506,
          37648.59619727102,
          37657.79630537904,
          37651.733703404294,
          37635.23644099883,
          37603.15701438524,
          37463.419940070824,
          37483.58350861205,
          37473.953999817066,
          37495.67584320206,
          37524.27883165945,
          37543.67716637381,
          37556.82299081036,
          37556.484624988356,
          37566.042405311884,
          37577.379168309395,
          37604.2720097993,
          37582.119553579876,
          37591.28197094845,
          37613.44519584485,
          37628.51627284033,
          37642.825452799385,
          37670.9832873807,
          37688.76166456982,
          37710.17680365297,
          37721.86953281966,
          37733.11497503182,
          37751.69053376585,
          37768.26283627751,
          37767.898178935895,
          37797.66230577937,
          37830.44709477679,
          37858.79300912464,
          37880.57197221383,
          37913.49312847468,
          37930.090628235055,
          37946.16327320901,
          37960.631695487566,
          37963.329156477965,
          37965.602447126796,
          37981.22367346939,
          37993.88393217518,
          38029.78110519169,
          38062.780153152205,
          38099.15882018329,
          38133.54408970697,
          38156.339853394245,
          38176.74846900672,
          38195.43763420122,
          38214.33442375982,
          38255.379517994166,
          38280.22434820363,
          38295.688616592175,
          38332.712795357496,
          38344.42981634224,
          38360.34260466144,
          38371.958917119715,
          38365.23911289424,
          38358.3181864995,
          38324.96564039132,
          38327.81514514854,
          38348.64021332123,
          38360.887003305594,
          38383.21463872667,
          38404.81641320603,
          38444.16513579105,
          38480.23533728086,
          38501.940991484895,
          38551.46973866167,
          38552.23201224538,
          38453.59047911984,
          38426.502351123265,
          38426.05585572674,
          38397.711998079925,
          38353.31034366333,
          38331.83488670786,
          38312.579164738825,
          38310.255617276394,
          38299.15255871142,
          38322.17807982207,
          38357.22365329691,
          38359.45784600025,
          38409.96018060956,
          38400.357030127314,
          38367.369765615105,
          38371.6553928435,
          38348.0255983617,
          38358.60974141258,
          38377.63966377861,
          38340.39843494086,
          38220.518850124135,
          38160.12226980166,
          38114.92085038954,
          38100.491602283284,
          38134.981150407046,
          38104.638980276395,
          38082.94330500472,
          38096.67688593517,
          38101.600327287604,
          38087.925572466746,
          38055.411344271335,
          38017.95799805906,
          37995.86025372926,
          37969.834493200615,
          37983.66641477513,
          38017.15140791153,
          38034.671815200345,
          38051.31714326689,
          38050.45006202221,
          38085.37978819092,
          38053.889280607036,
          38085.723739909,
          38111.896016536244,
          38112.47790286648,
          38100.24463768116,
          38077.333864422064,
          38103.86907001361,
          38076.90268674882,
          38075.863958365226,
          38102.23388880333,
          38121.21955059662,
          38131.75145485732,
          38161.4149003609,
          38182.90388757303,
          38199.4120260607,
          38191.996673596674,
          38164.454949299856,
          38137.65149522112,
          38138.03831077776,
          38150.72947973084,
          38143.051723112505,
          38163.08753035091,
          38203.52946258162,
          38198.677047025114,
          38213.12910232479,
          38157.08898001025,
          38049.71612592465,
          38076.69421791097,
          38085.14502703646,
          38134.94565958194,
          38195.43312931187,
          38230.8690896134,
          38284.24257670913,
          38353.18455810591,
          38359.21115601675,
          38424.03488721805,
          38488.289724736744,
          38556.33823190024,
          38597.37497843615,
          38645.591316833554,
          38702.488916809445,
          38717.36068290811,
          38771.36772472453,
          38803.19666471849,
          38709.34763793442,
          38775.4934336038,
          38821.91744663874,
          38893.21164689322,
          38895.378755321304,
          38940.875152258326,
          38968.77407788997,
          39016.75070849782,
          39067.93521055939,
          39116.86328332981,
          39088.81305774558,
          39118.345686653774,
          39161.189950140906,
          39176.007050076536,
          39249.916946834324,
          39267.65861562431,
          39262.51980238042,
          39293.00398821663,
          39379.4575623142,
          39430.816432033236,
          39450.98565105986,
          39378.66677639313,
          39109.160968431046,
          39161.27323268632,
          39210.0999177353,
          39044.14607378451,
          39094.30993338268,
          39042.255758783955,
          39051.24321167883,
          38969.85361810323,
          38872.69749807347,
          38759.147729042306,
          38716.950380277995,
          38710.04364696528,
          38676.85103669971,
          38681.58718656919,
          38732.302545852726,
          38795.72976473845,
          38765.55526448363,
          38828.149448061136,
          38890.38766676209,
          39013.52770344628,
          39102.103006152945,
          39128.79733175215,
          39159.078379837985,
          39271.765417552386,
          39381.8422625269,
          39443.3231870526,
          39436.19557516546,
          39469.1969869135,
          39578.237516973815,
          39550.16771699967,
          39632.21789578493,
          39619.764480322905,
          39663.85141493352,
          39771.236335983405,
          39806.05128636523,
          39937.33225737647,
          40083.19914893617,
          40165.409615806806,
          40302.86028963981,
          40466.13798718432,
          40589.95794871795,
          40684.95958025651,
          40637.37849190683,
          40697.93436020859,
          40685.8694007338,
          40858.695499378366,
          41028.55598820059,
          41233.952576082294,
          41386.332071522025,
          41590.637425654684,
          41749.629426118394,
          41951.649167050164,
          42128.4080262541,
          42259.45276636407,
          42425.771320019485,
          42528.80393442623,
          42719.140881905725,
          42989.08028970512,
          43137.55030110935,
          43394.40869940637,
          43288.95697738555,
          43544.126700507615,
          43772.647247547604,
          44148.4155699941,
          44520.272595281305,
          44790.45954122752,
          45049.1859885569,
          45522.02846705806,
          45817.13077026122,
          46134.30818995182,
          46456.69947629158,
          46900.153357611074,
          47329.95285821455,
          47754.75771075019,
          48260.20858739026,
          48881.32906842539,
          49125.72473998295,
          49655.078834951455,
          50235.498298261664,
          50694.37819563153,
          51602.425942744325,
          52373.5249331963,
          53267.4838585209,
          54358.57782754759,
          55062.23352872216,
          55897.87114391144,
          57092.25702457956,
          58223.253969986356,
          59766.45154401154,
          61318.05359877489,
          62752.611549755304,
          57867.98254799302,
          57994.31774859287,
          58031.31350912779,
          57279.01845474614,
          57899.04765133172,
          56988.665737265415,
          55827.52,
          53874.12464163823,
          50960.30640316205,
          45449.708169014084,
          40320.78080924856,
          39854.16992481203,
          42861.048602150535,
          45436.22188679245,
          66823.5723076923
         ]
        }
       ],
       "layout": {
        "showlegend": true,
        "template": {
         "data": {
          "bar": [
           {
            "error_x": {
             "color": "#2a3f5f"
            },
            "error_y": {
             "color": "#2a3f5f"
            },
            "marker": {
             "line": {
              "color": "#E5ECF6",
              "width": 0.5
             },
             "pattern": {
              "fillmode": "overlay",
              "size": 10,
              "solidity": 0.2
             }
            },
            "type": "bar"
           }
          ],
          "barpolar": [
           {
            "marker": {
             "line": {
              "color": "#E5ECF6",
              "width": 0.5
             },
             "pattern": {
              "fillmode": "overlay",
              "size": 10,
              "solidity": 0.2
             }
            },
            "type": "barpolar"
           }
          ],
          "carpet": [
           {
            "aaxis": {
             "endlinecolor": "#2a3f5f",
             "gridcolor": "white",
             "linecolor": "white",
             "minorgridcolor": "white",
             "startlinecolor": "#2a3f5f"
            },
            "baxis": {
             "endlinecolor": "#2a3f5f",
             "gridcolor": "white",
             "linecolor": "white",
             "minorgridcolor": "white",
             "startlinecolor": "#2a3f5f"
            },
            "type": "carpet"
           }
          ],
          "choropleth": [
           {
            "colorbar": {
             "outlinewidth": 0,
             "ticks": ""
            },
            "type": "choropleth"
           }
          ],
          "contour": [
           {
            "colorbar": {
             "outlinewidth": 0,
             "ticks": ""
            },
            "colorscale": [
             [
              0,
              "#0d0887"
             ],
             [
              0.1111111111111111,
              "#46039f"
             ],
             [
              0.2222222222222222,
              "#7201a8"
             ],
             [
              0.3333333333333333,
              "#9c179e"
             ],
             [
              0.4444444444444444,
              "#bd3786"
             ],
             [
              0.5555555555555556,
              "#d8576b"
             ],
             [
              0.6666666666666666,
              "#ed7953"
             ],
             [
              0.7777777777777778,
              "#fb9f3a"
             ],
             [
              0.8888888888888888,
              "#fdca26"
             ],
             [
              1,
              "#f0f921"
             ]
            ],
            "type": "contour"
           }
          ],
          "contourcarpet": [
           {
            "colorbar": {
             "outlinewidth": 0,
             "ticks": ""
            },
            "type": "contourcarpet"
           }
          ],
          "heatmap": [
           {
            "colorbar": {
             "outlinewidth": 0,
             "ticks": ""
            },
            "colorscale": [
             [
              0,
              "#0d0887"
             ],
             [
              0.1111111111111111,
              "#46039f"
             ],
             [
              0.2222222222222222,
              "#7201a8"
             ],
             [
              0.3333333333333333,
              "#9c179e"
             ],
             [
              0.4444444444444444,
              "#bd3786"
             ],
             [
              0.5555555555555556,
              "#d8576b"
             ],
             [
              0.6666666666666666,
              "#ed7953"
             ],
             [
              0.7777777777777778,
              "#fb9f3a"
             ],
             [
              0.8888888888888888,
              "#fdca26"
             ],
             [
              1,
              "#f0f921"
             ]
            ],
            "type": "heatmap"
           }
          ],
          "heatmapgl": [
           {
            "colorbar": {
             "outlinewidth": 0,
             "ticks": ""
            },
            "colorscale": [
             [
              0,
              "#0d0887"
             ],
             [
              0.1111111111111111,
              "#46039f"
             ],
             [
              0.2222222222222222,
              "#7201a8"
             ],
             [
              0.3333333333333333,
              "#9c179e"
             ],
             [
              0.4444444444444444,
              "#bd3786"
             ],
             [
              0.5555555555555556,
              "#d8576b"
             ],
             [
              0.6666666666666666,
              "#ed7953"
             ],
             [
              0.7777777777777778,
              "#fb9f3a"
             ],
             [
              0.8888888888888888,
              "#fdca26"
             ],
             [
              1,
              "#f0f921"
             ]
            ],
            "type": "heatmapgl"
           }
          ],
          "histogram": [
           {
            "marker": {
             "pattern": {
              "fillmode": "overlay",
              "size": 10,
              "solidity": 0.2
             }
            },
            "type": "histogram"
           }
          ],
          "histogram2d": [
           {
            "colorbar": {
             "outlinewidth": 0,
             "ticks": ""
            },
            "colorscale": [
             [
              0,
              "#0d0887"
             ],
             [
              0.1111111111111111,
              "#46039f"
             ],
             [
              0.2222222222222222,
              "#7201a8"
             ],
             [
              0.3333333333333333,
              "#9c179e"
             ],
             [
              0.4444444444444444,
              "#bd3786"
             ],
             [
              0.5555555555555556,
              "#d8576b"
             ],
             [
              0.6666666666666666,
              "#ed7953"
             ],
             [
              0.7777777777777778,
              "#fb9f3a"
             ],
             [
              0.8888888888888888,
              "#fdca26"
             ],
             [
              1,
              "#f0f921"
             ]
            ],
            "type": "histogram2d"
           }
          ],
          "histogram2dcontour": [
           {
            "colorbar": {
             "outlinewidth": 0,
             "ticks": ""
            },
            "colorscale": [
             [
              0,
              "#0d0887"
             ],
             [
              0.1111111111111111,
              "#46039f"
             ],
             [
              0.2222222222222222,
              "#7201a8"
             ],
             [
              0.3333333333333333,
              "#9c179e"
             ],
             [
              0.4444444444444444,
              "#bd3786"
             ],
             [
              0.5555555555555556,
              "#d8576b"
             ],
             [
              0.6666666666666666,
              "#ed7953"
             ],
             [
              0.7777777777777778,
              "#fb9f3a"
             ],
             [
              0.8888888888888888,
              "#fdca26"
             ],
             [
              1,
              "#f0f921"
             ]
            ],
            "type": "histogram2dcontour"
           }
          ],
          "mesh3d": [
           {
            "colorbar": {
             "outlinewidth": 0,
             "ticks": ""
            },
            "type": "mesh3d"
           }
          ],
          "parcoords": [
           {
            "line": {
             "colorbar": {
              "outlinewidth": 0,
              "ticks": ""
             }
            },
            "type": "parcoords"
           }
          ],
          "pie": [
           {
            "automargin": true,
            "type": "pie"
           }
          ],
          "scatter": [
           {
            "fillpattern": {
             "fillmode": "overlay",
             "size": 10,
             "solidity": 0.2
            },
            "type": "scatter"
           }
          ],
          "scatter3d": [
           {
            "line": {
             "colorbar": {
              "outlinewidth": 0,
              "ticks": ""
             }
            },
            "marker": {
             "colorbar": {
              "outlinewidth": 0,
              "ticks": ""
             }
            },
            "type": "scatter3d"
           }
          ],
          "scattercarpet": [
           {
            "marker": {
             "colorbar": {
              "outlinewidth": 0,
              "ticks": ""
             }
            },
            "type": "scattercarpet"
           }
          ],
          "scattergeo": [
           {
            "marker": {
             "colorbar": {
              "outlinewidth": 0,
              "ticks": ""
             }
            },
            "type": "scattergeo"
           }
          ],
          "scattergl": [
           {
            "marker": {
             "colorbar": {
              "outlinewidth": 0,
              "ticks": ""
             }
            },
            "type": "scattergl"
           }
          ],
          "scattermapbox": [
           {
            "marker": {
             "colorbar": {
              "outlinewidth": 0,
              "ticks": ""
             }
            },
            "type": "scattermapbox"
           }
          ],
          "scatterpolar": [
           {
            "marker": {
             "colorbar": {
              "outlinewidth": 0,
              "ticks": ""
             }
            },
            "type": "scatterpolar"
           }
          ],
          "scatterpolargl": [
           {
            "marker": {
             "colorbar": {
              "outlinewidth": 0,
              "ticks": ""
             }
            },
            "type": "scatterpolargl"
           }
          ],
          "scatterternary": [
           {
            "marker": {
             "colorbar": {
              "outlinewidth": 0,
              "ticks": ""
             }
            },
            "type": "scatterternary"
           }
          ],
          "surface": [
           {
            "colorbar": {
             "outlinewidth": 0,
             "ticks": ""
            },
            "colorscale": [
             [
              0,
              "#0d0887"
             ],
             [
              0.1111111111111111,
              "#46039f"
             ],
             [
              0.2222222222222222,
              "#7201a8"
             ],
             [
              0.3333333333333333,
              "#9c179e"
             ],
             [
              0.4444444444444444,
              "#bd3786"
             ],
             [
              0.5555555555555556,
              "#d8576b"
             ],
             [
              0.6666666666666666,
              "#ed7953"
             ],
             [
              0.7777777777777778,
              "#fb9f3a"
             ],
             [
              0.8888888888888888,
              "#fdca26"
             ],
             [
              1,
              "#f0f921"
             ]
            ],
            "type": "surface"
           }
          ],
          "table": [
           {
            "cells": {
             "fill": {
              "color": "#EBF0F8"
             },
             "line": {
              "color": "white"
             }
            },
            "header": {
             "fill": {
              "color": "#C8D4E3"
             },
             "line": {
              "color": "white"
             }
            },
            "type": "table"
           }
          ]
         },
         "layout": {
          "annotationdefaults": {
           "arrowcolor": "#2a3f5f",
           "arrowhead": 0,
           "arrowwidth": 1
          },
          "autotypenumbers": "strict",
          "coloraxis": {
           "colorbar": {
            "outlinewidth": 0,
            "ticks": ""
           }
          },
          "colorscale": {
           "diverging": [
            [
             0,
             "#8e0152"
            ],
            [
             0.1,
             "#c51b7d"
            ],
            [
             0.2,
             "#de77ae"
            ],
            [
             0.3,
             "#f1b6da"
            ],
            [
             0.4,
             "#fde0ef"
            ],
            [
             0.5,
             "#f7f7f7"
            ],
            [
             0.6,
             "#e6f5d0"
            ],
            [
             0.7,
             "#b8e186"
            ],
            [
             0.8,
             "#7fbc41"
            ],
            [
             0.9,
             "#4d9221"
            ],
            [
             1,
             "#276419"
            ]
           ],
           "sequential": [
            [
             0,
             "#0d0887"
            ],
            [
             0.1111111111111111,
             "#46039f"
            ],
            [
             0.2222222222222222,
             "#7201a8"
            ],
            [
             0.3333333333333333,
             "#9c179e"
            ],
            [
             0.4444444444444444,
             "#bd3786"
            ],
            [
             0.5555555555555556,
             "#d8576b"
            ],
            [
             0.6666666666666666,
             "#ed7953"
            ],
            [
             0.7777777777777778,
             "#fb9f3a"
            ],
            [
             0.8888888888888888,
             "#fdca26"
            ],
            [
             1,
             "#f0f921"
            ]
           ],
           "sequentialminus": [
            [
             0,
             "#0d0887"
            ],
            [
             0.1111111111111111,
             "#46039f"
            ],
            [
             0.2222222222222222,
             "#7201a8"
            ],
            [
             0.3333333333333333,
             "#9c179e"
            ],
            [
             0.4444444444444444,
             "#bd3786"
            ],
            [
             0.5555555555555556,
             "#d8576b"
            ],
            [
             0.6666666666666666,
             "#ed7953"
            ],
            [
             0.7777777777777778,
             "#fb9f3a"
            ],
            [
             0.8888888888888888,
             "#fdca26"
            ],
            [
             1,
             "#f0f921"
            ]
           ]
          },
          "colorway": [
           "#636efa",
           "#EF553B",
           "#00cc96",
           "#ab63fa",
           "#FFA15A",
           "#19d3f3",
           "#FF6692",
           "#B6E880",
           "#FF97FF",
           "#FECB52"
          ],
          "font": {
           "color": "#2a3f5f"
          },
          "geo": {
           "bgcolor": "white",
           "lakecolor": "white",
           "landcolor": "#E5ECF6",
           "showlakes": true,
           "showland": true,
           "subunitcolor": "white"
          },
          "hoverlabel": {
           "align": "left"
          },
          "hovermode": "closest",
          "mapbox": {
           "style": "light"
          },
          "paper_bgcolor": "white",
          "plot_bgcolor": "#E5ECF6",
          "polar": {
           "angularaxis": {
            "gridcolor": "white",
            "linecolor": "white",
            "ticks": ""
           },
           "bgcolor": "#E5ECF6",
           "radialaxis": {
            "gridcolor": "white",
            "linecolor": "white",
            "ticks": ""
           }
          },
          "scene": {
           "xaxis": {
            "backgroundcolor": "#E5ECF6",
            "gridcolor": "white",
            "gridwidth": 2,
            "linecolor": "white",
            "showbackground": true,
            "ticks": "",
            "zerolinecolor": "white"
           },
           "yaxis": {
            "backgroundcolor": "#E5ECF6",
            "gridcolor": "white",
            "gridwidth": 2,
            "linecolor": "white",
            "showbackground": true,
            "ticks": "",
            "zerolinecolor": "white"
           },
           "zaxis": {
            "backgroundcolor": "#E5ECF6",
            "gridcolor": "white",
            "gridwidth": 2,
            "linecolor": "white",
            "showbackground": true,
            "ticks": "",
            "zerolinecolor": "white"
           }
          },
          "shapedefaults": {
           "line": {
            "color": "#2a3f5f"
           }
          },
          "ternary": {
           "aaxis": {
            "gridcolor": "white",
            "linecolor": "white",
            "ticks": ""
           },
           "baxis": {
            "gridcolor": "white",
            "linecolor": "white",
            "ticks": ""
           },
           "bgcolor": "#E5ECF6",
           "caxis": {
            "gridcolor": "white",
            "linecolor": "white",
            "ticks": ""
           }
          },
          "title": {
           "x": 0.05
          },
          "xaxis": {
           "automargin": true,
           "gridcolor": "white",
           "linecolor": "white",
           "ticks": "",
           "title": {
            "standoff": 15
           },
           "zerolinecolor": "white",
           "zerolinewidth": 2
          },
          "yaxis": {
           "automargin": true,
           "gridcolor": "white",
           "linecolor": "white",
           "ticks": "",
           "title": {
            "standoff": 15
           },
           "zerolinecolor": "white",
           "zerolinewidth": 2
          }
         }
        },
        "title": {
         "text": "Heatmap Queue size aux cancel"
        },
        "xaxis": {
         "title": {
          "text": "Queue size opposite"
         }
        },
        "yaxis": {
         "title": {
          "text": "Queue size same"
         }
        }
       }
      }
     },
     "metadata": {},
     "output_type": "display_data"
    },
    {
     "data": {
      "application/vnd.plotly.v1+json": {
       "config": {
        "plotlyServerURL": "https://plot.ly"
       },
       "data": [
        {
         "line": {
          "color": "red"
         },
         "mode": "markers",
         "name": "add",
         "showlegend": true,
         "type": "scatter",
         "x": [
          13789.0715,
          13386.4442,
          16084.9036,
          15528.4625,
          19017.7533,
          21477.72,
          19780.106,
          20750.7137,
          19603.8005,
          19404.1667,
          23582.1245,
          23226.1689,
          21446.3019,
          22132.3197,
          24850.8455,
          23181.5298,
          25077.4095,
          24728.818,
          23087.444,
          25357.6356,
          21956.2901,
          23488.6793,
          20453.0164,
          21928.6213,
          23130.0443,
          20943.7442,
          23283.447,
          22519.9921,
          22679.2867,
          22126.8412,
          27144.2338,
          36520.7346,
          48703.4465,
          34326.6426,
          25834.0494,
          25496.7492,
          27750.8766,
          26919.4189,
          27581.3804,
          25091.9176,
          25197.9371,
          26519.0223,
          25062.6734,
          26439.5666,
          25575.073,
          26001.8209,
          24626.7462,
          25134.1071,
          23718.432,
          26281.0897,
          24636.9475,
          29302.2537,
          30037.449,
          28210.6402,
          25603.2152,
          24792.0634,
          27925.656,
          27963.8249,
          27640.5797,
          26980.1658,
          26711.6743,
          26634.8542,
          25541.7216,
          26884.2911,
          24706.4172,
          23150.8137,
          23431.0313,
          24206.5993,
          26516.1505,
          26643.9339,
          25339.8259,
          24918.4885,
          27497.3596,
          29332.2782,
          26894.6253,
          27247.3104,
          27585.558,
          27419.8828,
          28543.4181,
          28032.5245,
          28329.5208,
          25063.1146,
          28830.2687,
          33267.0902,
          29995.7529,
          27908.3724,
          28660.158,
          29026.7985,
          25828.2051,
          25792.806,
          26222.3407,
          27919.7384,
          28854.844,
          44379.3448,
          29126.3753,
          29308.3955,
          28080.1234,
          27954.8011,
          28110.892,
          29906.8364,
          28295.123,
          29227.0513,
          28780.6987,
          37395.3108,
          26385.223594741612
         ],
         "y": [
          19547.4536,
          19496.8555,
          22384.9154,
          24030.0508,
          25447.2068,
          28708.4634,
          25106.4098,
          27289.7865,
          25124.8022,
          26858.4287,
          30880.8688,
          30096.9027,
          27654.7168,
          28064.7655,
          28186.2271,
          30065.9689,
          32497.6914,
          31767.7755,
          29234.4951,
          33962.9949,
          31037.9815,
          34614.1395,
          31346.025,
          31541.7129,
          31997.1805,
          29794.3204,
          32457.8681,
          31683.2743,
          33919.3026,
          31279.7593,
          39247.0296,
          77285.6592,
          85861.4509,
          49977.5946,
          32728.9599,
          34816.0547,
          38961.9897,
          35398.6937,
          42687.2093,
          42451.6611,
          34149.769,
          37120.719,
          36178.1915,
          36116.9272,
          36919.3806,
          36252.745,
          32420.5193,
          31837.0316,
          33202.0202,
          34962.9563,
          34841.878,
          34234.7102,
          39267.9155,
          36273.678,
          35688.7954,
          34169.5494,
          41273.467,
          40299.5395,
          37326.525,
          38115.5942,
          37585.2183,
          35439.6515,
          35055.4439,
          35344.8387,
          33539.3282,
          31790.5811,
          33073.6889,
          33885.8685,
          35976.3998,
          36329.0878,
          38013.6423,
          37467.2045,
          45783.393,
          44090.2991,
          40068.4104,
          36606.5933,
          36885.3919,
          35437.869,
          37721.3905,
          39589.9148,
          42529.6817,
          41286.979,
          47609.5712,
          44628.6409,
          41867.1014,
          39508.8732,
          39394.8088,
          40432.5946,
          38950.6746,
          35616.2477,
          38820.7887,
          38824.7439,
          43531.6715,
          48935.0403,
          38258.9288,
          38032.259,
          38733.2981,
          37849.624,
          35993.2543,
          38975.6332,
          35626.944,
          37526.911,
          38082.8848,
          68004.6378,
          55892.059383499545
         ]
        },
        {
         "line": {
          "color": "green"
         },
         "mode": "markers",
         "name": "cancel",
         "showlegend": true,
         "type": "scatter",
         "x": [
          22896.491,
          22960.156246666666,
          22983.53811,
          23006.867213333335,
          23053.411373333332,
          23098.672523333335,
          23142.234196666668,
          23191.6577,
          23226.31203,
          23268.727603333333,
          23321.396956666667,
          23361.919193333335,
          23394.928436666665,
          23424.075103333333,
          23472.58412,
          23490.30435,
          23526.573443333335,
          23568.520666666667,
          23616.2552,
          23651.518726666665,
          23682.87094333333,
          23711.55029,
          23723.734056666668,
          23737.73361,
          23767.486766666665,
          23793.774653333334,
          23836.33153666667,
          23865.9064,
          23889.978266666665,
          23922.852893333333,
          24094.818833333335,
          24109.41918333333,
          24139.504233333333,
          24171.368913333332,
          24198.364546666668,
          24318.511103333334,
          24347.618866666668,
          24376.159233333332,
          24394.701486666665,
          24428.563423333333,
          24441.666573333332,
          24442.221256666668,
          24486.266996666665,
          24486.725733333333,
          24488.548803333335,
          24490.15011,
          24518.90164,
          24542.840876666665,
          24573.290196666665,
          24577.85400666667,
          24560.18135,
          24577.950663333333,
          24597.333056666666,
          24594.131693333333,
          24606.23718,
          24634.16087,
          24674.588946666667,
          24692.50209,
          24719.46172666667,
          24742.951313333335,
          24781.010453333332,
          24803.95333,
          24831.45122,
          24840.306976666667,
          24841.58314,
          24847.41963,
          24866.862196666665,
          24886.146053333334,
          24899.95023,
          24922.961126666665,
          24940.38679,
          24961.21513,
          24968.281466666667,
          24990.342923333334,
          25018.892006666665,
          25065.67502,
          25085.694473333333,
          25094.041173333335,
          25114.629246666667,
          25166.83424,
          25195.580913333335,
          25216.937863333333,
          25232.969436666666,
          25251.16874333333,
          25266.33855,
          25283.727436666668,
          25313.26215,
          25326.35198666667,
          25352.73418,
          25379.78807,
          25415.219896666666,
          25442.431333333334,
          25465.56945,
          25489.235743333335,
          25458.22151,
          25433.212433333334,
          25407.510173333332,
          25408.82934,
          25407.647843333332,
          25412.136723333333,
          25415.327926666665,
          25448.0533,
          25449.166353333334,
          25473.919,
          25494.80438,
          25531.553153333334,
          25546.377303333335,
          25559.330713333333,
          25569.42596,
          25584.36522,
          25600.142363333332,
          25612.29056,
          25614.358993333335,
          25621.95902,
          25616.449343333334,
          25620.6384,
          25623.771536666667,
          25635.826466666666,
          25648.3741,
          25655.799613333333,
          25671.870003333333,
          25681.991783333335,
          25657.879763333334,
          25648.692323333333,
          25631.49001,
          25638.67264,
          25669.124803333332,
          25690.327536666668,
          25690.284136666665,
          25707.145756666665,
          25694.10559,
          25714.346186666666,
          25718.658536666666,
          25725.12958,
          25722.590886666665,
          25712.381183333335,
          25720.624256666666,
          25729.79121,
          25750.88011,
          25759.32917,
          25758.868746666667,
          25757.65212,
          25764.47075,
          25772.68287,
          25777.05129666667,
          25774.180193333334,
          25779.76187,
          25803.32789,
          25794.98124,
          25770.989886666666,
          25772.465406666666,
          25838.02782,
          25877.801146666665,
          25890.099573333333,
          25908.864136666667,
          25907.052226666667,
          25927.16314,
          25955.72862,
          25971.647376666668,
          25997.89631,
          26039.25431,
          26084.404213333335,
          26138.80421,
          26207.980206666667,
          26216.02216,
          26219.56104,
          26236.201296666666,
          26237.213426666665,
          26216.809296666666,
          26228.563353333335,
          26223.239866666667,
          26211.727836666665,
          26195.38117,
          26195.93689333333,
          26214.055673333332,
          26235.338073333332,
          26255.518866666665,
          26266.390186666667,
          26291.086016666668,
          26308.029543333334,
          26296.553846666666,
          26297.847383333334,
          26315.91594,
          26315.920586666667,
          26333.962583333334,
          26335.00861,
          26317.15734,
          26319.67263,
          26342.48344,
          26336.354913333333,
          26334.187283333333,
          26339.631673333333,
          26359.042606666666,
          26372.690876666667,
          26411.749413333335,
          26443.297363333335,
          26462.133833333333,
          26489.96549,
          26491.650736666666,
          26520.742963333334,
          26563.980026666668,
          26597.63246333333,
          26626.107873333334,
          26662.450273333332,
          26675.42985,
          26680.97654,
          26683.59694,
          26693.8803,
          26716.806863333335,
          26756.456986666668,
          26784.51738,
          26793.402876666667,
          26818.713813333332,
          26817.409316666668,
          26837.207866666668,
          26846.68089,
          26892.378496666668,
          26906.679823333332,
          26908.86876,
          26913.699926666668,
          26932.710893333333,
          26955.911653333333,
          26960.88129,
          26990.12641333333,
          27008.06768,
          27026.843186666665,
          27044.580856666667,
          27063.42974,
          27065.03119,
          27060.25889333333,
          27074.426513333332,
          27087.52375,
          27105.33991,
          27105.567373333335,
          27117.08138,
          27129.852596666668,
          27129.238853333332,
          27155.449936666668,
          27177.438996666668,
          27198.237386666668,
          27179.062686666668,
          27186.90658,
          27190.67512,
          27208.257576666667,
          27212.43867666667,
          27209.40339,
          27205.011293333333,
          27219.813423333333,
          27230.68205666667,
          27253.784,
          27284.03847,
          27298.379693333332,
          27299.06225,
          27298.474143333333,
          27317.13441,
          27330.041883333335,
          27361.215566666666,
          27387.727766666667,
          27408.59587,
          27437.274496666665,
          27440.045283333333,
          27432.618023333333,
          27420.32559,
          27428.50745333333,
          27408.096263333333,
          27390.27485,
          27384.26759666667,
          27367.67677,
          27363.059363333334,
          27355.0941,
          27328.156033333333,
          27317.005736666666,
          27291.29821,
          27252.714473333333,
          27255.60575,
          27205.736173333335,
          27154.57721666667,
          27075.56387,
          26986.53068,
          26870.238276666667,
          26852.961776666667,
          26809.96402,
          26701.03785,
          26553.888926666667,
          26492.89849,
          26409.74634,
          26304.175933333332,
          26200.967476666665,
          26088.040233333333,
          25987.249666666667,
          25942.281273333334,
          25952.074873333335,
          25940.592043333334,
          25937.65222,
          25928.50417,
          25892.84579666667,
          25907.21951,
          25932.962083333332,
          25935.932023333335,
          25951.11903,
          25959.75655,
          25938.801086666666,
          25945.79475333333,
          25949.790976666667,
          25948.948516666667,
          25937.12653,
          25926.841516666667,
          25929.323613333334,
          25966.446486666668,
          25959.331853333333,
          25960.22167,
          25971.099206666666,
          25975.40981,
          25981.664043333334,
          25964.663176666665,
          25959.436223333334,
          25968.351623333332,
          25959.677326666668,
          25942.803843333335,
          25937.611956666668,
          25938.36199,
          25930.00202,
          25933.941476666667,
          25935.858093333332,
          25931.733163333334,
          25928.824483333334,
          25935.914736666666,
          25947.243516666666,
          26011.677826666666,
          26029.508403333333,
          25891.32729,
          25905.70274,
          25907.60236333333,
          25907.93656,
          25898.623623333333,
          25800.850413333334,
          25793.889316666668,
          25793.80929,
          25868.719076666668,
          25872.490273333333,
          25890.42768333333,
          25891.342073333333,
          25869.11612,
          25903.53513,
          25931.048836666665,
          25964.055866666666,
          25950.79485,
          25951.682546666667,
          25938.80366,
          25962.707526666665,
          25982.486006666666,
          25984.614193333335,
          25977.834456666667,
          25992.441156666668,
          25998.772673333333,
          25995.98427333333,
          25987.17266,
          25984.60896,
          25991.562396666668,
          25994.680116666666,
          25983.412956666667,
          25975.636076666666,
          25965.35847,
          25958.446493333333,
          25961.148496666665,
          25971.499193333333,
          25968.63978,
          25963.68277,
          25974.78419,
          25988.380566666667,
          25995.01089,
          25995.309293333332,
          26014.721613333335,
          26025.870033333333,
          26032.09387,
          26010.936906666666,
          25998.856033333333,
          26005.705003333333,
          26025.214813333332,
          26018.1123,
          26022.195383333332,
          26028.80804,
          26042.73971,
          26058.44541,
          26077.138576666668,
          26082.109486666668,
          26088.99537,
          26100.451606666666,
          26117.369623333332,
          26129.967503333333,
          26133.90672,
          26163.597746666666,
          26184.947353333333,
          26174.45931,
          26182.779403333334,
          26200.708426666668,
          26195.73741,
          26155.854903333333,
          26153.830363333334,
          26172.74664,
          26176.173493333332,
          26173.55662666667,
          26200.541156666666,
          26195.888356666666,
          26203.241253333334,
          26197.000436666665,
          26200.902113333334,
          26200.09782,
          26206.97644,
          26211.066676666665,
          26209.59876,
          26201.320146666665,
          26199.74695,
          26201.501183333334,
          26207.269233333333,
          26200.337246666666,
          26216.675973333335,
          26222.475336666666,
          26215.373386666666,
          26241.50073,
          26258.687536666668,
          26285.43086,
          26306.56506,
          26359.429596666665,
          26401.15076,
          26442.478663333335,
          26436.31855,
          26456.58493333333,
          26495.266053333333,
          26502.537166666665,
          26511.42109,
          26540.480663333332,
          26564.132486666665,
          26591.475506666666,
          26614.18049,
          26653.130556666667,
          26674.29157,
          26684.96747,
          26684.63898,
          26695.205166666667,
          26705.37736,
          26712.35881,
          26743.346513333334,
          26745.612893333335,
          26736.26803666667,
          26747.582856666668,
          26747.68463,
          26747.647756666665,
          26752.84622,
          26750.913373333333,
          26765.448073333333,
          26709.2991,
          26693.17154,
          26699.14529,
          26697.299633333332,
          26700.18577,
          26691.388453333333,
          26690.585693333334,
          26705.36586,
          26693.359776666668,
          26684.966606666665,
          26656.49334333333,
          26619.324913333334,
          26578.69477,
          26575.847226666665,
          26596.03242666667,
          26598.856776666667,
          26615.100946666666,
          26640.280533333334,
          26654.181623333334,
          26653.764783333332,
          26651.053676666666,
          26656.487236666668,
          26655.833843333334,
          26648.670403333334,
          26638.883543333333,
          26630.252836666667,
          26628.425923333332,
          26600.84243,
          26593.00082,
          26594.993476666667,
          26607.10145,
          26604.735876666666,
          26620.30548,
          26613.93415,
          26628.146393333333,
          26655.66563666667,
          26663.259083333334,
          26644.557703333332,
          26637.78366333333,
          26646.56338,
          26654.69342,
          26664.07777,
          26639.684933333334,
          26620.482793333333,
          26601.952943333334,
          26626.052766666668,
          26623.233213333333,
          26613.66834,
          26610.004216666668,
          26583.937173333332,
          26588.60797,
          26605.487623333334,
          26596.245886666668,
          26590.43191,
          26596.24397666667,
          26610.96683,
          26625.172813333334,
          26637.240906666666,
          26616.976496666666,
          26603.066523333335,
          26785.600573333333,
          26821.357653333333,
          26891.45950333333,
          26895.410546666666,
          26921.325753333334,
          26933.261456666667,
          26992.768343333333,
          27030.25918,
          27057.2371,
          27074.711126666665,
          27085.50915,
          27098.30911,
          27105.303943333332,
          27135.52465666667,
          27144.325483333334,
          27150.228296666668,
          27146.51339,
          27144.50099,
          27161.65454,
          27181.24277,
          27175.18093,
          27173.52782666667,
          27191.187696666668,
          27206.670916666666,
          27205.720503333334,
          27222.00802,
          27246.554033333334,
          27253.949533333333,
          27252.391526666666,
          27266.27263,
          27278.20403,
          27295.200753333334,
          27289.080376666665,
          27284.96961,
          27295.38034,
          27313.64558,
          27303.829986666668,
          27310.672376666666,
          27312.61803,
          27319.146453333335,
          27339.61835,
          27357.54697666667,
          27368.38628,
          27362.511483333332,
          27359.99552,
          27348.717296666666,
          27343.344163333335,
          27354.372623333333,
          27364.001913333334,
          27374.94352,
          27398.42899,
          27414.837166666668,
          27427.001676666667,
          27449.789383333333,
          27468.560936666665,
          27497.974466666667,
          27520.55806666667,
          27569.604646666667,
          27592.75353,
          27624.37059,
          27631.05438,
          27631.945263333335,
          27663.39164,
          27665.330723333333,
          27677.463513333332,
          27699.10219,
          27738.092406666667,
          27769.802953333332,
          27770.01236,
          27775.18474,
          27792.274243333333,
          27783.503716666666,
          27792.092546666667,
          27782.25541,
          27805.911733333334,
          27840.338956666666,
          27876.66355,
          27894.27098,
          27918.520026666665,
          27922.54832,
          27923.209786666666,
          27931.913953333333,
          27941.224443333333,
          27958.668306666666,
          27988.912886666665,
          27994.72179,
          28001.217243333333,
          28034.224046666666,
          28265.76073,
          28278.644546666666,
          28304.203956666668,
          28338.268673333332,
          28353.581626666666,
          28368.458426666668,
          28364.474523333334,
          28352.950183333334,
          28361.18703333333,
          28367.710333333333,
          28380.999006666665,
          28354.94713,
          28330.705406666668,
          28324.069316666668,
          28323.80627,
          28350.66953311618,
          28372.5557261376,
          28381.047826452534,
          28398.494649455835,
          28407.439285532888,
          28423.184255499873,
          28427.42672462286,
          28447.918005644402,
          28468.67593237793,
          28491.468561095324,
          28505.338864598634,
          28518.16435272696,
          28525.306851126774,
          28527.326331965425,
          28478.59119950933,
          28472.74446144377,
          28482.76823788935,
          28488.272281944566,
          28497.221597796142,
          28511.519372157316,
          28539.38789582028,
          28564.869677535255,
          28583.726670873522,
          28604.21568081064,
          28548.01396168165,
          28560.709931650414,
          28559.85198938992,
          28573.93602864225,
          28588.2129917995,
          28564.81493757514,
          28564.049943376962,
          28561.321844777787,
          28570.717763022538,
          28581.01182014456,
          28604.715937058325,
          28597.388154733755,
          28587.657624608375,
          28599.19989707424,
          28620.11538505692,
          28631.1126053971,
          28646.298282078475,
          28644.80864027872,
          28657.556918293987,
          28666.952653857406,
          28661.302187408204,
          28670.80401061634,
          28685.54934964966,
          28690.97303873972,
          28710.403163234856,
          28728.188730650156,
          28750.11319763361,
          28762.32919762408,
          28779.383891640555,
          28797.899384958895,
          28800.342060531948,
          28805.221569630616,
          28820.432413438815,
          28835.14029918498,
          28832.600037294105,
          28824.09523353792,
          28829.463369894496,
          28835.854039651735,
          28865.56629937849,
          28877.81930392468,
          28874.912508233294,
          28869.717123653045,
          28865.638289938925,
          28871.992575056494,
          28872.95423754458,
          28865.052582220775,
          28863.032879101713,
          28878.61714223147,
          28878.720105575718,
          28882.454700099413,
          28882.727029845777,
          28877.62645269141,
          28870.655869248854,
          28853.93765433487,
          28843.21988478482,
          28859.129967094064,
          28875.677629089252,
          28886.45729989694,
          28909.99593235937,
          28936.6898786548,
          28961.418042493904,
          28958.658705237372,
          28981.64900503926,
          28979.63794654421,
          28971.571356914705,
          28982.12294781885,
          28989.568570404874,
          28995.850694827794,
          29017.568416737005,
          29034.00133284866,
          29050.40703275295,
          29061.775005505933,
          29077.053471043895,
          29108.158378845917,
          29138.485622749286,
          29169.545273929863,
          29201.704868932648,
          29240.278215051054,
          29239.82648929431,
          29261.728419712214,
          29282.55127095866,
          29282.366350186545,
          29286.074656666235,
          29282.348243858054,
          29299.84735920554,
          29253.04652042559,
          29229.621375940842,
          29187.564136466215,
          29187.020397704524,
          29157.756092848518,
          29131.976873060838,
          29131.0702346399,
          29140.361467339426,
          29112.981883998356,
          29101.999961395286,
          29077.147472618883,
          29072.734554579674,
          29048.81783821674,
          29026.06704638376,
          29032.732193392883,
          29054.836794524454,
          29071.017255126917,
          29063.415104572334,
          29089.76548382417,
          29075.092940318107,
          29090.25251724644,
          29113.35953934741,
          29118.132559037575,
          29129.606550127,
          29125.748943333834,
          29149.115644941783,
          29143.697714894264,
          29151.89511097505,
          29189.449099029724,
          29190.126861924688,
          29188.5307843443,
          29193.126094461008,
          29207.216131375335,
          29222.30890195455,
          29209.248002558772,
          29160.121017221954,
          29160.661098331442,
          29149.95443013207,
          29176.95058591827,
          29181.069287956387,
          29187.93750207883,
          29212.25634689436,
          29198.556278442607,
          29197.68568810453,
          29212.01757731078,
          29198.25252365388,
          29204.125092672788,
          29244.169712192568,
          29278.808389249956,
          29326.35409870865,
          29376.905754498486,
          29401.48980441414,
          29422.724496656425,
          29449.266637538687,
          29478.842618741975,
          29555.38827267689,
          29602.788870277313,
          29641.082377648603,
          29665.295152087663,
          29693.680266514373,
          29679.573673508537,
          29713.437262710228,
          29736.773496980324,
          29746.979304928333,
          29775.158606768255,
          29807.927548374228,
          29858.153315905893,
          29889.101139266168,
          29916.025685673412,
          29938.301298166083,
          30013.214951173904,
          30045.90985962707,
          30086.54773716459,
          30068.211088855744,
          30091.247848699764,
          30160.354450466075,
          30194.78243603761,
          30239.627160820648,
          30226.884896505675,
          30197.6753379744,
          30229.882773623387,
          30277.750432197576,
          30289.20564966536,
          30304.604416491962,
          30331.017305431462,
          30298.83549964396,
          30335.22490294752,
          30366.754512460684,
          29879.701803078427,
          29796.441085615592,
          29647.36937951657,
          29637.23929524289,
          29582.853312992625,
          29487.835674287184,
          29341.135509992215,
          29287.155751376868,
          29249.599522926055,
          29232.232810072328,
          29247.79375033848,
          29244.810062961948,
          29239.966930528648,
          29191.557895326056,
          29208.84149448061,
          29211.0744574864,
          29248.84887344338,
          29284.101213009082,
          29276.29661428995,
          29245.040336033602,
          29282.768150622534,
          29317.765976022132,
          29299.004095860568,
          29289.61069019855,
          29338.325349505267,
          29377.516107339154,
          29295.818984605306,
          29328.65112512446,
          29377.71362260343,
          29399.048291851348,
          29406.124341513998,
          29402.45725902559,
          29448.240227515107,
          29532.327616300037,
          29541.89122575924,
          29538.268696620868,
          29620.938831511496,
          29695.913861461922,
          29731.606327244463,
          29702.622281879194,
          29674.16678700361,
          29684.208446799836,
          29752.982146705344,
          29843.99662873999,
          29931.564783540507,
          29988.835726122983,
          29997.951584553928,
          30029.09126073204,
          29988.947942936033,
          30038.02038443507,
          30016.460124223602,
          30041.217320993666,
          30026.86563338301,
          30017.614353775974,
          30093.961220900153,
          30060.953386159534,
          30074.757862924987,
          29934.02643132929,
          29942.681579244218,
          29888.254541257935,
          29990.049686946248,
          30126.77260738052,
          30075.387451952884,
          30158.942504767958,
          30279.12328767123,
          30299.360214333556,
          30200.692498279423,
          30179.898881811747,
          30335.574304442827,
          30436.13812453113,
          30568.545460170146,
          30654.849992019153,
          30877.37780708986,
          30918.651219096333,
          30894.480741394527,
          30865.349569990853,
          30919.882924976257,
          31080.303889437317,
          31153.770606372043,
          31444.416334405145,
          31595.81298992161,
          31794.318874560377,
          31896.018745387453,
          31896.72279430789,
          31856.77582537517,
          32081.03116883117,
          32206.462664624807,
          32021.94655791191,
          27599.74827225131,
          27372.380262664166,
          26904.475618661258,
          26182.763090507728,
          25927.228184019372,
          25491.74777479893,
          25796.52,
          26401.257064846417,
          25663.58418972332,
          23696.550046948356,
          22859.435375722544,
          23541.42796992481,
          24244.189247311828,
          26147.50490566038,
          31844.723076923077
         ],
         "y": [
          28723.63884,
          28768.75822,
          28785.732426666666,
          28834.907283333334,
          28880.359783333333,
          28939.00190666667,
          28976.491286666667,
          29026.734686666667,
          29072.55604,
          29134.691976666665,
          29197.17649,
          29236.090296666665,
          29276.407363333332,
          29307.922766666667,
          29363.760373333334,
          29400.48415,
          29441.75002666667,
          29498.101123333334,
          29563.579433333332,
          29654.573566666666,
          29735.111686666667,
          29777.835303333333,
          29789.58223,
          29830.14337,
          29866.25785,
          29912.968603333335,
          29960.293183333335,
          30000.965696666666,
          30049.74521333333,
          30101.985156666666,
          30201.996173333333,
          30245.69813,
          30248.91851,
          30256.107803333332,
          30298.371243333335,
          30605.375376666667,
          30645.84365,
          30678.97858,
          30719.166053333334,
          30776.52903,
          30803.53874,
          30900.311913333335,
          30979.414826666667,
          31049.71402666667,
          31087.39823,
          31115.566816666666,
          31151.006426666667,
          31170.521536666667,
          31192.941036666667,
          31192.004943333333,
          31206.56991,
          31233.820613333333,
          31252.892276666666,
          31269.228706666665,
          31307.029296666668,
          31349.857146666665,
          31391.166006666666,
          31436.802583333334,
          31468.319553333335,
          31560.95207,
          31614.25041,
          31624.515533333335,
          31658.69901,
          31672.61248,
          31659.65836,
          31692.477346666667,
          31742.645596666665,
          31789.590506666667,
          31809.591483333334,
          31844.72221,
          31859.009153333333,
          31894.386976666665,
          31901.64833,
          31931.916653333334,
          31984.604683333335,
          32047.875196666668,
          32070.374913333333,
          32073.471443333332,
          32101.935716666667,
          32170.28157,
          32192.508403333333,
          32210.930113333332,
          32246.650763333335,
          32261.58931666667,
          32296.450643333334,
          32327.35876,
          32345.663493333333,
          32378.05472,
          32422.51248,
          32458.491023333332,
          32502.95163,
          32550.63617,
          32589.599423333333,
          32625.04944,
          32641.142203333333,
          32629.010203333335,
          32584.093833333332,
          32588.02968,
          32595.29864,
          32596.506166666666,
          32607.68275,
          32622.241146666667,
          32645.74663,
          32676.097993333333,
          32686.0676,
          32701.531373333335,
          32722.188213333335,
          32738.839643333333,
          32768.76541666667,
          32788.54732666667,
          32810.697036666665,
          32823.13034,
          32831.16996,
          32854.561896666666,
          32872.178953333336,
          32891.78698,
          32902.71573,
          32920.12453,
          32932.08581333333,
          32942.68654,
          32968.93508,
          33003.28233666666,
          32985.36423666667,
          32988.32867333333,
          32993.095283333336,
          33037.43785,
          33084.62676,
          33104.782913333336,
          33132.37071333333,
          33155.40201666667,
          33172.05921666667,
          33180.45540333333,
          33202.865106666664,
          33213.594736666666,
          33209.965436666665,
          33219.8999,
          33236.90537,
          33264.876743333334,
          33299.9233,
          33339.05689666667,
          33356.15643,
          33374.74131666667,
          33386.01392333333,
          33413.24830666667,
          33378.30223666667,
          33378.82640666667,
          33395.309056666665,
          33424.91472666667,
          33426.776276666664,
          33408.07126333333,
          33428.39435333334,
          33480.292173333335,
          33502.99788333333,
          33507.37934666667,
          33521.36291,
          33546.05103333334,
          33571.50005,
          33593.486716666666,
          33602.2822,
          33665.58616333333,
          33707.39692666667,
          33761.08328333333,
          33799.40501333334,
          33826.82993,
          33857.38687333334,
          33858.99674,
          33843.77871,
          33851.719053333334,
          33837.19688333333,
          33830.98151333333,
          33835.48816,
          33815.79314666666,
          33805.75579,
          33821.075756666665,
          33835.46672,
          33855.96554,
          33877.43159,
          33895.59467333333,
          33925.363196666665,
          33952.08346666666,
          33945.23415333333,
          33953.579463333335,
          33967.14464,
          33966.429996666666,
          33993.67374,
          33987.52508666667,
          33969.117666666665,
          33975.46682,
          33980.98493,
          33995.11218333333,
          33998.21565333333,
          33998.72933333334,
          34017.76761333333,
          34077.38901,
          34120.81057666666,
          34181.66540666667,
          34220.718766666665,
          34266.41136333333,
          34262.02440333334,
          34281.914403333336,
          34332.74586,
          34379.480176666664,
          34432.04172,
          34478.07579333333,
          34479.37032666666,
          34495.02884333333,
          34501.18232666667,
          34493.632406666664,
          34517.18092333333,
          34559.984613333334,
          34579.5283,
          34604.80148333334,
          34617.04062,
          34615.84176,
          34638.97333,
          34633.13113,
          34671.292193333335,
          34697.92851,
          34731.02703333333,
          34736.68574,
          34753.340183333334,
          34774.94177,
          34820.40445,
          34848.35911666667,
          34882.087653333336,
          34890.88099666667,
          34923.28954,
          34954.03246333334,
          34979.986333333334,
          34991.48730666667,
          35027.25772,
          35029.72255,
          35044.33974,
          35029.24417666667,
          35024.856466666664,
          35049.70114333333,
          35065.613496666665,
          35099.630646666665,
          35134.17143,
          35154.28177,
          35120.683306666666,
          35125.61573666667,
          35135.020846666666,
          35161.56123,
          35157.97243666666,
          35138.65624,
          35127.306946666664,
          35144.06745,
          35136.68649666667,
          35146.72969,
          35218.05658333333,
          35224.78406,
          35212.24780333333,
          35211.99109,
          35234.59596,
          35256.91251,
          35276.67203666666,
          35288.87759,
          35294.18303,
          35312.241766666666,
          35292.46595,
          35280.7638,
          35285.74734666666,
          35298.69127,
          35296.61424,
          35270.67515333333,
          35278.002636666664,
          35277.989863333336,
          35257.50715,
          35260.53217666667,
          35112.76312,
          34988.88505,
          34883.58546333334,
          34680.04247666667,
          34549.811356666665,
          34405.85118666667,
          34328.95447333333,
          34165.78064,
          33953.4211,
          33739.49863666666,
          33670.37965,
          33592.40201666667,
          33415.522866666666,
          33162.246243333335,
          32973.97210666667,
          32789.97296,
          32604.16542,
          32416.729993333334,
          32213.50808,
          32039.62273,
          31988.76298,
          31976.707436666667,
          31978.630563333332,
          31989.165673333333,
          31970.71284,
          31950.179633333333,
          31957.397493333334,
          31974.19469,
          31996.527616666666,
          31992.133416666667,
          31993.50763,
          31988.244693333334,
          32020.28962,
          32031.151013333332,
          32034.39317,
          32019.351313333333,
          32004.36492,
          32019.608696666666,
          32048.750306666665,
          32053.551326666668,
          32070.97334,
          32111.39345,
          32126.18277666667,
          32139.294363333334,
          32138.09408,
          32125.302313333334,
          32150.122273333334,
          32165.38412,
          32162.287636666668,
          32118.29951333333,
          32087.346573333332,
          32099.770346666668,
          32129.728556666665,
          32129.025,
          32130.479363333332,
          32137.207713333333,
          32159.47498,
          32180.370163333333,
          32366.946206666667,
          32374.692916666667,
          32336.56246,
          32386.475016666667,
          32395.217083333333,
          32393.32897,
          32410.503083333333,
          32181.701336666665,
          32220.31131333333,
          32285.001476666668,
          32444.24426,
          32436.571556666666,
          32465.30377,
          32381.68523,
          32307.902346666666,
          32266.887716666668,
          32272.325976666667,
          32292.976386666665,
          32281.20869666667,
          32292.090523333332,
          32288.515533333335,
          32330.237306666666,
          32351.36523666667,
          32361.77887,
          32379.956033333332,
          32403.847403333333,
          32397.166573333332,
          32381.9245,
          32389.538813333333,
          32391.55325333333,
          32388.41831333333,
          32339.089813333332,
          32335.679706666666,
          32349.37356,
          32347.432536666667,
          32351.641873333334,
          32364.147463333335,
          32363.56494,
          32339.65476,
          32337.112283333332,
          32352.759856666667,
          32359.37517,
          32379.429973333332,
          32396.63228,
          32419.746786666667,
          32428.159906666668,
          32413.902663333334,
          32387.679616666668,
          32392.15578,
          32412.743896666667,
          32422.60734,
          32403.051083333332,
          32416.419756666666,
          32425.309183333335,
          32413.982506666667,
          32420.749426666665,
          32432.26635,
          32431.66731333333,
          32449.21163,
          32454.203386666668,
          32462.2824,
          32487.93841,
          32507.46532666667,
          32555.54586,
          32573.247743333333,
          32571.569846666665,
          32582.895463333334,
          32586.416323333335,
          32604.367003333333,
          32569.324656666668,
          32576.726146666668,
          32607.376963333332,
          32610.38573,
          32645.184736666666,
          32741.951523333333,
          32785.079046666666,
          32819.77608,
          32873.73923,
          32934.56047333333,
          32980.163323333334,
          33024.62452666667,
          33055.11481333333,
          33081.303303333334,
          33099.762266666665,
          33115.18297,
          33145.47151333333,
          33145.88893666667,
          33184.444566666665,
          33247.16938666667,
          33280.918853333336,
          33325.26996333333,
          33367.09828,
          33390.30308,
          33424.755236666664,
          33546.58690333334,
          33612.143443333334,
          33672.024073333334,
          33680.505346666665,
          33667.56682666667,
          33720.389473333336,
          33763.12572333333,
          33779.38004,
          33800.703363333334,
          33845.42275666667,
          33889.541633333334,
          33933.492686666665,
          33970.40165666667,
          34026.748733333334,
          34039.90481,
          34042.01068,
          34053.18965,
          34052.70955,
          34060.27593,
          34063.10918666667,
          34111.994783333335,
          34117.01952666666,
          34128.24123,
          34144.23497333333,
          34184.775513333334,
          34219.44404,
          34249.57018,
          34292.21133666667,
          34319.91444666667,
          34302.48652333333,
          34312.09788,
          34334.29467,
          34343.58271,
          34343.97321,
          34340.04008666667,
          34361.98735,
          34397.55364,
          34384.58511666667,
          34397.46647,
          34397.05203666667,
          34400.06527333333,
          34404.883786666665,
          34397.628313333335,
          34430.31864,
          34450.12034,
          34504.69113666667,
          34591.998896666664,
          34610.889643333336,
          34636.859136666666,
          34643.48137,
          34640.57134,
          34658.01122,
          34653.21636333333,
          34632.82136,
          34653.54387,
          34647.49929666667,
          34635.863176666666,
          34627.50244,
          34642.52936,
          34648.406526666666,
          34648.733406666666,
          34664.74179666667,
          34658.572726666665,
          34685.17884666667,
          34753.63595333333,
          34750.84296666666,
          34734.554663333336,
          34719.016396666666,
          34753.13637,
          34773.76051,
          34790.09484666667,
          34750.48008,
          34714.23373,
          34683.31447333333,
          34699.901476666666,
          34687.37037333333,
          34689.901073333334,
          34708.86227666667,
          34679.17827333333,
          34680.80066,
          34682.80438,
          34677.75214333333,
          34670.71394666666,
          34677.33605666667,
          34690.40633,
          34758.23541666667,
          34862.089583333334,
          34836.164476666665,
          34838.94889666667,
          34917.37145333333,
          34931.18444333333,
          34978.635343333335,
          34969.20658333333,
          35033.117183333336,
          35073.75202,
          35132.49449,
          35155.63797,
          35179.91972333333,
          35210.28779333334,
          35224.55713,
          35220.14855666667,
          35203.25945333333,
          35239.031123333334,
          35253.909933333336,
          35250.78066333333,
          35234.41988,
          35218.38176,
          35240.17377666667,
          35249.24184333334,
          35243.41907,
          35240.42067,
          35247.71141,
          35289.77685333334,
          35305.77637666667,
          35308.90588333333,
          35343.19942,
          35338.594236666664,
          35368.902753333336,
          35397.92441666667,
          35395.38262,
          35411.80436333334,
          35401.44934,
          35399.45524,
          35416.07814666667,
          35429.20494333333,
          35419.74195333333,
          35435.49676666666,
          35444.36452333333,
          35444.570393333335,
          35472.44197,
          35507.18925,
          35517.03803333333,
          35512.36254666666,
          35510.77256,
          35522.05871333333,
          35511.589283333335,
          35531.734403333336,
          35531.55732,
          35549.89549,
          35575.99084,
          35571.247756666664,
          35581.543516666665,
          35590.05950333333,
          35605.44608666666,
          35632.76792333333,
          35644.00233,
          35716.88737333333,
          35726.85844,
          35759.277753333336,
          35756.83938666667,
          35752.803283333335,
          35775.54244,
          35790.31609666667,
          35784.35231333334,
          35797.860043333334,
          35818.57029,
          35842.56510666667,
          35833.84699333333,
          35853.23901333333,
          35872.62305666666,
          35856.539893333334,
          35865.43871333334,
          35890.72816666667,
          35909.178973333335,
          35928.170776666666,
          35955.40398333333,
          35961.08130333333,
          35954.06008,
          35958.43651,
          35959.36656333334,
          35988.782576666665,
          36006.57796333334,
          36026.37163666666,
          36050.70399,
          36047.58807666667,
          36041.07616333333,
          36055.62098,
          36405.79098,
          36495.04862666666,
          36588.389866666665,
          36700.58919666667,
          36754.42936666666,
          36872.234103333336,
          37002.913226666664,
          37148.24825333333,
          37276.14434666667,
          37423.07976,
          37538.142556666666,
          37555.170066666666,
          37533.38551,
          37556.716843333335,
          37581.63281333333,
          37638.28360477742,
          37666.6385820833,
          37677.10465315732,
          37679.159541044464,
          37680.92388724287,
          37705.672800475666,
          37718.92040910253,
          37727.14415804327,
          37737.757727623786,
          37756.933150779296,
          37784.236415795385,
          37797.32544871239,
          37802.55768554773,
          37808.31322448267,
          37633.09739069482,
          37639.99200562736,
          37644.199541162976,
          37613.81245019038,
          37624.01784768506,
          37648.59619727102,
          37657.79630537904,
          37651.733703404294,
          37635.23644099883,
          37603.15701438524,
          37463.419940070824,
          37483.58350861205,
          37473.953999817066,
          37495.67584320206,
          37524.27883165945,
          37543.67716637381,
          37556.82299081036,
          37556.484624988356,
          37566.042405311884,
          37577.379168309395,
          37604.2720097993,
          37582.119553579876,
          37591.28197094845,
          37613.44519584485,
          37628.51627284033,
          37642.825452799385,
          37670.9832873807,
          37688.76166456982,
          37710.17680365297,
          37721.86953281966,
          37733.11497503182,
          37751.69053376585,
          37768.26283627751,
          37767.898178935895,
          37797.66230577937,
          37830.44709477679,
          37858.79300912464,
          37880.57197221383,
          37913.49312847468,
          37930.090628235055,
          37946.16327320901,
          37960.631695487566,
          37963.329156477965,
          37965.602447126796,
          37981.22367346939,
          37993.88393217518,
          38029.78110519169,
          38062.780153152205,
          38099.15882018329,
          38133.54408970697,
          38156.339853394245,
          38176.74846900672,
          38195.43763420122,
          38214.33442375982,
          38255.379517994166,
          38280.22434820363,
          38295.688616592175,
          38332.712795357496,
          38344.42981634224,
          38360.34260466144,
          38371.958917119715,
          38365.23911289424,
          38358.3181864995,
          38324.96564039132,
          38327.81514514854,
          38348.64021332123,
          38360.887003305594,
          38383.21463872667,
          38404.81641320603,
          38444.16513579105,
          38480.23533728086,
          38501.940991484895,
          38551.46973866167,
          38552.23201224538,
          38453.59047911984,
          38426.502351123265,
          38426.05585572674,
          38397.711998079925,
          38353.31034366333,
          38331.83488670786,
          38312.579164738825,
          38310.255617276394,
          38299.15255871142,
          38322.17807982207,
          38357.22365329691,
          38359.45784600025,
          38409.96018060956,
          38400.357030127314,
          38367.369765615105,
          38371.6553928435,
          38348.0255983617,
          38358.60974141258,
          38377.63966377861,
          38340.39843494086,
          38220.518850124135,
          38160.12226980166,
          38114.92085038954,
          38100.491602283284,
          38134.981150407046,
          38104.638980276395,
          38082.94330500472,
          38096.67688593517,
          38101.600327287604,
          38087.925572466746,
          38055.411344271335,
          38017.95799805906,
          37995.86025372926,
          37969.834493200615,
          37983.66641477513,
          38017.15140791153,
          38034.671815200345,
          38051.31714326689,
          38050.45006202221,
          38085.37978819092,
          38053.889280607036,
          38085.723739909,
          38111.896016536244,
          38112.47790286648,
          38100.24463768116,
          38077.333864422064,
          38103.86907001361,
          38076.90268674882,
          38075.863958365226,
          38102.23388880333,
          38121.21955059662,
          38131.75145485732,
          38161.4149003609,
          38182.90388757303,
          38199.4120260607,
          38191.996673596674,
          38164.454949299856,
          38137.65149522112,
          38138.03831077776,
          38150.72947973084,
          38143.051723112505,
          38163.08753035091,
          38203.52946258162,
          38198.677047025114,
          38213.12910232479,
          38157.08898001025,
          38049.71612592465,
          38076.69421791097,
          38085.14502703646,
          38134.94565958194,
          38195.43312931187,
          38230.8690896134,
          38284.24257670913,
          38353.18455810591,
          38359.21115601675,
          38424.03488721805,
          38488.289724736744,
          38556.33823190024,
          38597.37497843615,
          38645.591316833554,
          38702.488916809445,
          38717.36068290811,
          38771.36772472453,
          38803.19666471849,
          38709.34763793442,
          38775.4934336038,
          38821.91744663874,
          38893.21164689322,
          38895.378755321304,
          38940.875152258326,
          38968.77407788997,
          39016.75070849782,
          39067.93521055939,
          39116.86328332981,
          39088.81305774558,
          39118.345686653774,
          39161.189950140906,
          39176.007050076536,
          39249.916946834324,
          39267.65861562431,
          39262.51980238042,
          39293.00398821663,
          39379.4575623142,
          39430.816432033236,
          39450.98565105986,
          39378.66677639313,
          39109.160968431046,
          39161.27323268632,
          39210.0999177353,
          39044.14607378451,
          39094.30993338268,
          39042.255758783955,
          39051.24321167883,
          38969.85361810323,
          38872.69749807347,
          38759.147729042306,
          38716.950380277995,
          38710.04364696528,
          38676.85103669971,
          38681.58718656919,
          38732.302545852726,
          38795.72976473845,
          38765.55526448363,
          38828.149448061136,
          38890.38766676209,
          39013.52770344628,
          39102.103006152945,
          39128.79733175215,
          39159.078379837985,
          39271.765417552386,
          39381.8422625269,
          39443.3231870526,
          39436.19557516546,
          39469.1969869135,
          39578.237516973815,
          39550.16771699967,
          39632.21789578493,
          39619.764480322905,
          39663.85141493352,
          39771.236335983405,
          39806.05128636523,
          39937.33225737647,
          40083.19914893617,
          40165.409615806806,
          40302.86028963981,
          40466.13798718432,
          40589.95794871795,
          40684.95958025651,
          40637.37849190683,
          40697.93436020859,
          40685.8694007338,
          40858.695499378366,
          41028.55598820059,
          41233.952576082294,
          41386.332071522025,
          41590.637425654684,
          41749.629426118394,
          41951.649167050164,
          42128.4080262541,
          42259.45276636407,
          42425.771320019485,
          42528.80393442623,
          42719.140881905725,
          42989.08028970512,
          43137.55030110935,
          43394.40869940637,
          43288.95697738555,
          43544.126700507615,
          43772.647247547604,
          44148.4155699941,
          44520.272595281305,
          44790.45954122752,
          45049.1859885569,
          45522.02846705806,
          45817.13077026122,
          46134.30818995182,
          46456.69947629158,
          46900.153357611074,
          47329.95285821455,
          47754.75771075019,
          48260.20858739026,
          48881.32906842539,
          49125.72473998295,
          49655.078834951455,
          50235.498298261664,
          50694.37819563153,
          51602.425942744325,
          52373.5249331963,
          53267.4838585209,
          54358.57782754759,
          55062.23352872216,
          55897.87114391144,
          57092.25702457956,
          58223.253969986356,
          59766.45154401154,
          61318.05359877489,
          62752.611549755304,
          57867.98254799302,
          57994.31774859287,
          58031.31350912779,
          57279.01845474614,
          57899.04765133172,
          56988.665737265415,
          55827.52,
          53874.12464163823,
          50960.30640316205,
          45449.708169014084,
          40320.78080924856,
          39854.16992481203,
          42861.048602150535,
          45436.22188679245,
          66823.5723076923
         ]
        },
        {
         "line": {
          "color": "blue"
         },
         "mode": "markers",
         "name": "trade",
         "showlegend": true,
         "type": "scatter",
         "x": [
          19212.288571428573,
          18815.015714285713,
          20059.89285714286,
          27112.047142857144,
          21902.322857142855,
          22265.935714285715,
          23089.11142857143,
          25565.015714285713,
          30903.825714285715,
          24635.01,
          27395.08,
          29798.854285714286,
          28547.198571428573,
          31640.194285714286,
          32345.985714285714,
          26254.404285714285,
          25903.665714285715,
          30116.195714285714,
          25165.46285714286,
          27410.014285714286,
          27672.498571428572,
          27608.894285714287,
          29197.972857142857,
          75983.41571428571,
          33606.08142857143,
          27000.557142857142,
          31987.62714285714,
          32904.55428571429,
          60941.787142857145,
          42017.52285714286,
          35482.01,
          33242.22142857143,
          29544.61857142857,
          31958.91,
          33756.06,
          33612.485714285714,
          31476.404285714285,
          32843.76714285714,
          34673.51714285714,
          33888.24285714285,
          31968.09857142857,
          40717.99857142857,
          41994.42428571429,
          33369.77857142857,
          33422.71,
          31187.838571428572,
          30918.94,
          31855.415714285715,
          31278.821428571428,
          34366.04714285714,
          33609.70857142857,
          39175.602857142854,
          36395.852857142854,
          31216.66,
          36735.72857142857,
          36406.10571428572,
          40972.612857142856,
          64150.75,
          33723.374285714286,
          51303.10571428572,
          39060.76571428571,
          36927.96428571428,
          51091.852857142854,
          30671.27142857143,
          35545.96571428572,
          41627.647142857146,
          44277.23714285714,
          37384.50428571428,
          32912.68571428571,
          39977.30285714286,
          37180.33,
          34979.665714285715,
          33603.96428571428,
          63274.70285714286,
          55498.79788838612
         ],
         "y": [
          10333.87,
          12877.184285714286,
          15999.635714285714,
          15390.914285714285,
          21019.657142857144,
          24927.17,
          18546.914285714287,
          17519.722857142857,
          23514.845714285715,
          17246,
          19023.794285714284,
          21800.55857142857,
          27697.022857142856,
          23965.897142857142,
          24462.661428571428,
          21093.93857142857,
          18520.731428571427,
          21303.28714285714,
          19303.11,
          21833.237142857142,
          22185.972857142857,
          15893.115714285714,
          21983.497142857144,
          26438.931428571428,
          23370.637142857144,
          36516.834285714285,
          22470.44,
          25519.325714285715,
          26386.02142857143,
          22790.545714285716,
          28544.735714285714,
          23251.51,
          21708.755714285715,
          21797.347142857143,
          19230.71285714286,
          22539.4,
          23172.674285714285,
          23122.257142857143,
          21388.347142857143,
          20955.448571428573,
          21598.29,
          26929.207142857143,
          31974.01142857143,
          26201.61857142857,
          22628.15,
          23689.204285714284,
          23120.782857142858,
          20073.01142857143,
          20077.9,
          24591.891428571427,
          19746.26142857143,
          23885.544285714284,
          29538.141428571427,
          29813.415714285715,
          21966.002857142856,
          23731.025714285715,
          25987.27857142857,
          27071.681428571428,
          20624.501428571428,
          28063.998571428572,
          25555.87714285714,
          22541.082857142857,
          21016.66857142857,
          21927.605714285713,
          23547.394285714287,
          21007.51,
          30139.084285714285,
          25056.745714285713,
          26254.172857142858,
          23919.584285714285,
          21792.335714285713,
          28429.57,
          19597.87,
          33317.33571428571,
          23796.82051282051
         ]
        }
       ],
       "layout": {
        "showlegend": true,
        "template": {
         "data": {
          "bar": [
           {
            "error_x": {
             "color": "#2a3f5f"
            },
            "error_y": {
             "color": "#2a3f5f"
            },
            "marker": {
             "line": {
              "color": "#E5ECF6",
              "width": 0.5
             },
             "pattern": {
              "fillmode": "overlay",
              "size": 10,
              "solidity": 0.2
             }
            },
            "type": "bar"
           }
          ],
          "barpolar": [
           {
            "marker": {
             "line": {
              "color": "#E5ECF6",
              "width": 0.5
             },
             "pattern": {
              "fillmode": "overlay",
              "size": 10,
              "solidity": 0.2
             }
            },
            "type": "barpolar"
           }
          ],
          "carpet": [
           {
            "aaxis": {
             "endlinecolor": "#2a3f5f",
             "gridcolor": "white",
             "linecolor": "white",
             "minorgridcolor": "white",
             "startlinecolor": "#2a3f5f"
            },
            "baxis": {
             "endlinecolor": "#2a3f5f",
             "gridcolor": "white",
             "linecolor": "white",
             "minorgridcolor": "white",
             "startlinecolor": "#2a3f5f"
            },
            "type": "carpet"
           }
          ],
          "choropleth": [
           {
            "colorbar": {
             "outlinewidth": 0,
             "ticks": ""
            },
            "type": "choropleth"
           }
          ],
          "contour": [
           {
            "colorbar": {
             "outlinewidth": 0,
             "ticks": ""
            },
            "colorscale": [
             [
              0,
              "#0d0887"
             ],
             [
              0.1111111111111111,
              "#46039f"
             ],
             [
              0.2222222222222222,
              "#7201a8"
             ],
             [
              0.3333333333333333,
              "#9c179e"
             ],
             [
              0.4444444444444444,
              "#bd3786"
             ],
             [
              0.5555555555555556,
              "#d8576b"
             ],
             [
              0.6666666666666666,
              "#ed7953"
             ],
             [
              0.7777777777777778,
              "#fb9f3a"
             ],
             [
              0.8888888888888888,
              "#fdca26"
             ],
             [
              1,
              "#f0f921"
             ]
            ],
            "type": "contour"
           }
          ],
          "contourcarpet": [
           {
            "colorbar": {
             "outlinewidth": 0,
             "ticks": ""
            },
            "type": "contourcarpet"
           }
          ],
          "heatmap": [
           {
            "colorbar": {
             "outlinewidth": 0,
             "ticks": ""
            },
            "colorscale": [
             [
              0,
              "#0d0887"
             ],
             [
              0.1111111111111111,
              "#46039f"
             ],
             [
              0.2222222222222222,
              "#7201a8"
             ],
             [
              0.3333333333333333,
              "#9c179e"
             ],
             [
              0.4444444444444444,
              "#bd3786"
             ],
             [
              0.5555555555555556,
              "#d8576b"
             ],
             [
              0.6666666666666666,
              "#ed7953"
             ],
             [
              0.7777777777777778,
              "#fb9f3a"
             ],
             [
              0.8888888888888888,
              "#fdca26"
             ],
             [
              1,
              "#f0f921"
             ]
            ],
            "type": "heatmap"
           }
          ],
          "heatmapgl": [
           {
            "colorbar": {
             "outlinewidth": 0,
             "ticks": ""
            },
            "colorscale": [
             [
              0,
              "#0d0887"
             ],
             [
              0.1111111111111111,
              "#46039f"
             ],
             [
              0.2222222222222222,
              "#7201a8"
             ],
             [
              0.3333333333333333,
              "#9c179e"
             ],
             [
              0.4444444444444444,
              "#bd3786"
             ],
             [
              0.5555555555555556,
              "#d8576b"
             ],
             [
              0.6666666666666666,
              "#ed7953"
             ],
             [
              0.7777777777777778,
              "#fb9f3a"
             ],
             [
              0.8888888888888888,
              "#fdca26"
             ],
             [
              1,
              "#f0f921"
             ]
            ],
            "type": "heatmapgl"
           }
          ],
          "histogram": [
           {
            "marker": {
             "pattern": {
              "fillmode": "overlay",
              "size": 10,
              "solidity": 0.2
             }
            },
            "type": "histogram"
           }
          ],
          "histogram2d": [
           {
            "colorbar": {
             "outlinewidth": 0,
             "ticks": ""
            },
            "colorscale": [
             [
              0,
              "#0d0887"
             ],
             [
              0.1111111111111111,
              "#46039f"
             ],
             [
              0.2222222222222222,
              "#7201a8"
             ],
             [
              0.3333333333333333,
              "#9c179e"
             ],
             [
              0.4444444444444444,
              "#bd3786"
             ],
             [
              0.5555555555555556,
              "#d8576b"
             ],
             [
              0.6666666666666666,
              "#ed7953"
             ],
             [
              0.7777777777777778,
              "#fb9f3a"
             ],
             [
              0.8888888888888888,
              "#fdca26"
             ],
             [
              1,
              "#f0f921"
             ]
            ],
            "type": "histogram2d"
           }
          ],
          "histogram2dcontour": [
           {
            "colorbar": {
             "outlinewidth": 0,
             "ticks": ""
            },
            "colorscale": [
             [
              0,
              "#0d0887"
             ],
             [
              0.1111111111111111,
              "#46039f"
             ],
             [
              0.2222222222222222,
              "#7201a8"
             ],
             [
              0.3333333333333333,
              "#9c179e"
             ],
             [
              0.4444444444444444,
              "#bd3786"
             ],
             [
              0.5555555555555556,
              "#d8576b"
             ],
             [
              0.6666666666666666,
              "#ed7953"
             ],
             [
              0.7777777777777778,
              "#fb9f3a"
             ],
             [
              0.8888888888888888,
              "#fdca26"
             ],
             [
              1,
              "#f0f921"
             ]
            ],
            "type": "histogram2dcontour"
           }
          ],
          "mesh3d": [
           {
            "colorbar": {
             "outlinewidth": 0,
             "ticks": ""
            },
            "type": "mesh3d"
           }
          ],
          "parcoords": [
           {
            "line": {
             "colorbar": {
              "outlinewidth": 0,
              "ticks": ""
             }
            },
            "type": "parcoords"
           }
          ],
          "pie": [
           {
            "automargin": true,
            "type": "pie"
           }
          ],
          "scatter": [
           {
            "fillpattern": {
             "fillmode": "overlay",
             "size": 10,
             "solidity": 0.2
            },
            "type": "scatter"
           }
          ],
          "scatter3d": [
           {
            "line": {
             "colorbar": {
              "outlinewidth": 0,
              "ticks": ""
             }
            },
            "marker": {
             "colorbar": {
              "outlinewidth": 0,
              "ticks": ""
             }
            },
            "type": "scatter3d"
           }
          ],
          "scattercarpet": [
           {
            "marker": {
             "colorbar": {
              "outlinewidth": 0,
              "ticks": ""
             }
            },
            "type": "scattercarpet"
           }
          ],
          "scattergeo": [
           {
            "marker": {
             "colorbar": {
              "outlinewidth": 0,
              "ticks": ""
             }
            },
            "type": "scattergeo"
           }
          ],
          "scattergl": [
           {
            "marker": {
             "colorbar": {
              "outlinewidth": 0,
              "ticks": ""
             }
            },
            "type": "scattergl"
           }
          ],
          "scattermapbox": [
           {
            "marker": {
             "colorbar": {
              "outlinewidth": 0,
              "ticks": ""
             }
            },
            "type": "scattermapbox"
           }
          ],
          "scatterpolar": [
           {
            "marker": {
             "colorbar": {
              "outlinewidth": 0,
              "ticks": ""
             }
            },
            "type": "scatterpolar"
           }
          ],
          "scatterpolargl": [
           {
            "marker": {
             "colorbar": {
              "outlinewidth": 0,
              "ticks": ""
             }
            },
            "type": "scatterpolargl"
           }
          ],
          "scatterternary": [
           {
            "marker": {
             "colorbar": {
              "outlinewidth": 0,
              "ticks": ""
             }
            },
            "type": "scatterternary"
           }
          ],
          "surface": [
           {
            "colorbar": {
             "outlinewidth": 0,
             "ticks": ""
            },
            "colorscale": [
             [
              0,
              "#0d0887"
             ],
             [
              0.1111111111111111,
              "#46039f"
             ],
             [
              0.2222222222222222,
              "#7201a8"
             ],
             [
              0.3333333333333333,
              "#9c179e"
             ],
             [
              0.4444444444444444,
              "#bd3786"
             ],
             [
              0.5555555555555556,
              "#d8576b"
             ],
             [
              0.6666666666666666,
              "#ed7953"
             ],
             [
              0.7777777777777778,
              "#fb9f3a"
             ],
             [
              0.8888888888888888,
              "#fdca26"
             ],
             [
              1,
              "#f0f921"
             ]
            ],
            "type": "surface"
           }
          ],
          "table": [
           {
            "cells": {
             "fill": {
              "color": "#EBF0F8"
             },
             "line": {
              "color": "white"
             }
            },
            "header": {
             "fill": {
              "color": "#C8D4E3"
             },
             "line": {
              "color": "white"
             }
            },
            "type": "table"
           }
          ]
         },
         "layout": {
          "annotationdefaults": {
           "arrowcolor": "#2a3f5f",
           "arrowhead": 0,
           "arrowwidth": 1
          },
          "autotypenumbers": "strict",
          "coloraxis": {
           "colorbar": {
            "outlinewidth": 0,
            "ticks": ""
           }
          },
          "colorscale": {
           "diverging": [
            [
             0,
             "#8e0152"
            ],
            [
             0.1,
             "#c51b7d"
            ],
            [
             0.2,
             "#de77ae"
            ],
            [
             0.3,
             "#f1b6da"
            ],
            [
             0.4,
             "#fde0ef"
            ],
            [
             0.5,
             "#f7f7f7"
            ],
            [
             0.6,
             "#e6f5d0"
            ],
            [
             0.7,
             "#b8e186"
            ],
            [
             0.8,
             "#7fbc41"
            ],
            [
             0.9,
             "#4d9221"
            ],
            [
             1,
             "#276419"
            ]
           ],
           "sequential": [
            [
             0,
             "#0d0887"
            ],
            [
             0.1111111111111111,
             "#46039f"
            ],
            [
             0.2222222222222222,
             "#7201a8"
            ],
            [
             0.3333333333333333,
             "#9c179e"
            ],
            [
             0.4444444444444444,
             "#bd3786"
            ],
            [
             0.5555555555555556,
             "#d8576b"
            ],
            [
             0.6666666666666666,
             "#ed7953"
            ],
            [
             0.7777777777777778,
             "#fb9f3a"
            ],
            [
             0.8888888888888888,
             "#fdca26"
            ],
            [
             1,
             "#f0f921"
            ]
           ],
           "sequentialminus": [
            [
             0,
             "#0d0887"
            ],
            [
             0.1111111111111111,
             "#46039f"
            ],
            [
             0.2222222222222222,
             "#7201a8"
            ],
            [
             0.3333333333333333,
             "#9c179e"
            ],
            [
             0.4444444444444444,
             "#bd3786"
            ],
            [
             0.5555555555555556,
             "#d8576b"
            ],
            [
             0.6666666666666666,
             "#ed7953"
            ],
            [
             0.7777777777777778,
             "#fb9f3a"
            ],
            [
             0.8888888888888888,
             "#fdca26"
            ],
            [
             1,
             "#f0f921"
            ]
           ]
          },
          "colorway": [
           "#636efa",
           "#EF553B",
           "#00cc96",
           "#ab63fa",
           "#FFA15A",
           "#19d3f3",
           "#FF6692",
           "#B6E880",
           "#FF97FF",
           "#FECB52"
          ],
          "font": {
           "color": "#2a3f5f"
          },
          "geo": {
           "bgcolor": "white",
           "lakecolor": "white",
           "landcolor": "#E5ECF6",
           "showlakes": true,
           "showland": true,
           "subunitcolor": "white"
          },
          "hoverlabel": {
           "align": "left"
          },
          "hovermode": "closest",
          "mapbox": {
           "style": "light"
          },
          "paper_bgcolor": "white",
          "plot_bgcolor": "#E5ECF6",
          "polar": {
           "angularaxis": {
            "gridcolor": "white",
            "linecolor": "white",
            "ticks": ""
           },
           "bgcolor": "#E5ECF6",
           "radialaxis": {
            "gridcolor": "white",
            "linecolor": "white",
            "ticks": ""
           }
          },
          "scene": {
           "xaxis": {
            "backgroundcolor": "#E5ECF6",
            "gridcolor": "white",
            "gridwidth": 2,
            "linecolor": "white",
            "showbackground": true,
            "ticks": "",
            "zerolinecolor": "white"
           },
           "yaxis": {
            "backgroundcolor": "#E5ECF6",
            "gridcolor": "white",
            "gridwidth": 2,
            "linecolor": "white",
            "showbackground": true,
            "ticks": "",
            "zerolinecolor": "white"
           },
           "zaxis": {
            "backgroundcolor": "#E5ECF6",
            "gridcolor": "white",
            "gridwidth": 2,
            "linecolor": "white",
            "showbackground": true,
            "ticks": "",
            "zerolinecolor": "white"
           }
          },
          "shapedefaults": {
           "line": {
            "color": "#2a3f5f"
           }
          },
          "ternary": {
           "aaxis": {
            "gridcolor": "white",
            "linecolor": "white",
            "ticks": ""
           },
           "baxis": {
            "gridcolor": "white",
            "linecolor": "white",
            "ticks": ""
           },
           "bgcolor": "#E5ECF6",
           "caxis": {
            "gridcolor": "white",
            "linecolor": "white",
            "ticks": ""
           }
          },
          "title": {
           "x": 0.05
          },
          "xaxis": {
           "automargin": true,
           "gridcolor": "white",
           "linecolor": "white",
           "ticks": "",
           "title": {
            "standoff": 15
           },
           "zerolinecolor": "white",
           "zerolinewidth": 2
          },
          "yaxis": {
           "automargin": true,
           "gridcolor": "white",
           "linecolor": "white",
           "ticks": "",
           "title": {
            "standoff": 15
           },
           "zerolinecolor": "white",
           "zerolinewidth": 2
          }
         }
        },
        "title": {
         "text": "Heatmap Queue size"
        },
        "xaxis": {
         "title": {
          "text": "Queue size opposite"
         }
        },
        "yaxis": {
         "title": {
          "text": "Queue size same"
         }
        }
       }
      }
     },
     "metadata": {},
     "output_type": "display_data"
    }
   ],
   "source": [
    "fig = go.Figure()\n",
    "fig.add_trace(go.Scatter(x=time_trie_means_trade,y=queue_size_same_trie_means_trade,mode='lines',name='same',line=dict(color='blue'),showlegend=True))\n",
    "fig.add_trace(go.Scatter(x=time_trie_means_trade,y=queue_size_opposite_trie_means_trade,mode='lines',name='Opposite',line=dict(color='red'),showlegend=True))\n",
    "fig.update_layout(title='Queue size aux trades',xaxis_title='time',yaxis_title='Queue size',showlegend=True)\n",
    "fig.show()\n",
    "\n",
    "fig = go.Figure()\n",
    "fig.add_trace(go.Scatter(x=queue_size_opposite_trie_means_trade,y=queue_size_same_trie_means_trade,mode='markers',name='same',line=dict(color='blue'),showlegend=True))\n",
    "fig.update_layout(title='Heatmap Queue size aux trades',xaxis_title='Queue size opposite',yaxis_title='Queue size same',showlegend=True)\n",
    "fig.show()\n",
    "\n",
    "fig = go.Figure()\n",
    "fig.add_trace(go.Scatter(x=time_trie_means_add,y=queue_size_same_trie_means_add,mode='lines',name='same',line=dict(color='blue'),showlegend=True))\n",
    "fig.add_trace(go.Scatter(x=time_trie_means_add,y=queue_size_opposite_trie_mean_add,mode='lines',name='Opposite',line=dict(color='red'),showlegend=True))\n",
    "fig.update_layout(title='Queue size aux add',xaxis_title='time',yaxis_title='Queue size',showlegend=True)\n",
    "fig.show()\n",
    "\n",
    "fig = go.Figure()\n",
    "fig.add_trace(go.Scatter(x=queue_size_opposite_trie_mean_add,y=queue_size_same_trie_means_add,mode='markers',name='same',line=dict(color='blue'),showlegend=True))\n",
    "fig.update_layout(title='Heatmap Queue size aux add',xaxis_title='Queue size opposite',yaxis_title='Queue size same',showlegend=True)\n",
    "fig.show()\n",
    "\n",
    "fig = go.Figure()\n",
    "fig.add_trace(go.Scatter(x=time_trie_means_cancel,y=queue_size_same_trie_means_cancel,mode='lines',name='same',line=dict(color='blue'),showlegend=True))\n",
    "fig.add_trace(go.Scatter(x=time_trie_means_cancel,y=queue_size_opposite_trie_means_cancel,mode='lines',name='Opposite',line=dict(color='red'),showlegend=True))\n",
    "fig.update_layout(title='Queue size aux cancel',xaxis_title='time',yaxis_title='Queue size',showlegend=True)\n",
    "fig.show()\n",
    "\n",
    "fig = go.Figure()\n",
    "fig.add_trace(go.Scatter(x=queue_size_opposite_trie_means_cancel,y=queue_size_same_trie_means_cancel,mode='markers',name='same',line=dict(color='blue'),showlegend=True))\n",
    "fig.update_layout(title='Heatmap Queue size aux cancel',xaxis_title='Queue size opposite',yaxis_title='Queue size same',showlegend=True)\n",
    "fig.show()\n",
    "\n",
    "\n",
    "fig = go.Figure()\n",
    "fig.add_trace(go.Scatter(x=queue_size_opposite_trie_mean_add,y=queue_size_same_trie_means_add,mode='markers',name='add',line=dict(color='red'),showlegend=True))\n",
    "fig.add_trace(go.Scatter(x=queue_size_opposite_trie_means_cancel,y=queue_size_same_trie_means_cancel,mode='markers',name='cancel',line=dict(color='green'),showlegend=True))\n",
    "fig.add_trace(go.Scatter(x=queue_size_opposite_trie_means_trade,y=queue_size_same_trie_means_trade,mode='markers',name='trade',line=dict(color='blue'),showlegend=True))\n",
    "fig.update_layout(title='Heatmap Queue size',xaxis_title='Queue size opposite',yaxis_title='Queue size same',showlegend=True)\n",
    "fig.show()"
   ]
  },
  {
   "cell_type": "code",
   "execution_count": 23,
   "metadata": {},
   "outputs": [
    {
     "name": "stderr",
     "output_type": "stream",
     "text": [
      "100%|██████████| 65/65 [00:10<00:00,  6.00it/s]\n"
     ]
    }
   ],
   "source": [
    "dic = {}\n",
    "\n",
    "average_event_size = []\n",
    "for f in tqdm(files_csv):\n",
    "    df = pd.read_csv(f)\n",
    "    #df['time_diff'] = df['time_diff']*1.0 # pour le modif en float c'est un timedelta là\n",
    "    sizes = np.unique(np.array((np.unique(df['bid_sz_00'].to_numpy())).tolist() + (np.unique(df['ask_sz_00'].to_numpy())).tolist()))\n",
    "    sizes.sort()\n",
    "    dic = dico_queue_size(sizes, dic)  # Add, Cancel, Trade\n",
    "    \n",
    "    for row in df.itertuples():\n",
    "        average_event_size.append(row.size)\n",
    "        if row.side == 'A':\n",
    "            taille = row.ask_sz_00\n",
    "        elif row.side == 'B':\n",
    "            taille = row.bid_sz_00\n",
    "        if row.action == 'A':\n",
    "            dic[taille][0].append(row.diff_price)\n",
    "        elif row.action == 'C':\n",
    "            dic[taille][1].append(row.diff_price)\n",
    "        elif row.action == 'T':\n",
    "            dic[taille][2].append(row.diff_price)"
   ]
  },
  {
   "cell_type": "code",
   "execution_count": 24,
   "metadata": {},
   "outputs": [
    {
     "data": {
      "application/vnd.plotly.v1+json": {
       "config": {
        "plotlyServerURL": "https://plot.ly"
       },
       "data": [
        {
         "line": {
          "color": "blue"
         },
         "mode": "lines",
         "name": "Add",
         "showlegend": true,
         "type": "scatter",
         "x": [
          0,
          2.9442554170639075,
          5.888510834127815,
          8.832766251191723,
          11.77702166825563,
          14.721277085319537,
          17.665532502383446,
          20.609787919447353,
          23.55404333651126,
          26.498298753575167,
          29.442554170639074,
          32.386809587702984,
          35.33106500476689,
          38.2753204218308,
          41.219575838894706,
          44.16383125595861,
          47.10808667302252,
          50.05234209008643,
          52.996597507150334,
          55.94085292421424,
          58.88510834127815,
          61.82936375834206,
          64.77361917540597,
          67.71787459246987,
          70.66213000953378,
          73.60638542659768,
          76.5506408436616,
          79.4948962607255,
          82.43915167778941,
          85.38340709485331
         ],
         "y": [
          0.000010571698045034316,
          -0.00003998667587575927,
          -0.000013912118365094136,
          -0.000014269075093798262,
          -0.00001719802910784885,
          -0.000018437202836557405,
          -0.000018494154046195057,
          -0.00001739048316503526,
          -0.00001860699911205805,
          -0.00001811114457041571,
          -0.00002003080845176929,
          -0.00001626284696912723,
          -0.000016882451942342804,
          -0.000014291623440771682,
          -0.000015370284981645907,
          -0.000013919882164864898,
          -0.00001283387509603964,
          -0.000013907797795695164,
          -0.000018097786799300848,
          -0.000022481487766013994,
          -0.000010970232329511728,
          -0.00001564621518608349,
          -0.000026568601604377487,
          -0.00000988326882056764,
          -0.000005566763713745803,
          -0.00000705155528565094,
          -0.000007759712586010262,
          -0.000004817790763736903,
          -0.000003127105568077962,
          -0.000008161400265021211
         ]
        },
        {
         "line": {
          "color": "green"
         },
         "mode": "lines",
         "name": "Cancel",
         "showlegend": true,
         "type": "scatter",
         "x": [
          0,
          2.9442554170639075,
          5.888510834127815,
          8.832766251191723,
          11.77702166825563,
          14.721277085319537,
          17.665532502383446,
          20.609787919447353,
          23.55404333651126,
          26.498298753575167,
          29.442554170639074,
          32.386809587702984,
          35.33106500476689,
          38.2753204218308,
          41.219575838894706,
          44.16383125595861,
          47.10808667302252,
          50.05234209008643,
          52.996597507150334,
          55.94085292421424,
          58.88510834127815,
          61.82936375834206,
          64.77361917540597,
          67.71787459246987,
          70.66213000953378,
          73.60638542659768,
          76.5506408436616,
          79.4948962607255,
          82.43915167778941,
          85.38340709485331
         ],
         "y": [
          0.00001326124267140266,
          -0.00004125832375086513,
          -0.000013495888713304817,
          -0.000012940626337124136,
          -0.000014769752003935236,
          -0.000015054511361938255,
          -0.00001423101939158358,
          -0.000012785114793464199,
          -0.000012952352516262365,
          -0.000012522427918425873,
          -0.000013398969155294435,
          -0.000010599028278690466,
          -0.00001096744052483903,
          -0.000009098924252912158,
          -0.000009846156735517267,
          -0.000009012613468622792,
          -0.000008558389896390649,
          -0.000009292441203883727,
          -0.000011859697828698578,
          -0.000014525840570543985,
          -0.0000064274136936745636,
          -0.00001129282474809514,
          -0.000019492035679420074,
          -0.00000787946321903497,
          -0.0000044545878766443695,
          -0.000005189456270825367,
          -0.000006310636575712092,
          -0.000004106809512215083,
          -0.0000028795838891000043,
          -0.000006609576401659115
         ]
        },
        {
         "line": {
          "color": "red"
         },
         "mode": "lines",
         "name": "Trade",
         "showlegend": true,
         "type": "scatter",
         "x": [
          0,
          2.9442554170639075,
          5.888510834127815,
          8.832766251191723,
          11.77702166825563,
          14.721277085319537,
          17.665532502383446,
          20.609787919447353,
          23.55404333651126,
          26.498298753575167,
          29.442554170639074,
          32.386809587702984,
          35.33106500476689,
          38.2753204218308,
          41.219575838894706,
          44.16383125595861,
          47.10808667302252,
          50.05234209008643,
          52.996597507150334,
          55.94085292421424,
          85.38340709485331
         ],
         "y": [
          0.000004978625817908927,
          -0.000002362329370876573,
          -5.212203150769814e-7,
          -4.981234400869624e-7,
          -5.944191655894291e-7,
          -6.102018133565023e-7,
          -5.678529261609722e-7,
          -5.551486345186871e-7,
          -6.335628934167211e-7,
          -5.473165151626331e-7,
          -6.599751150277712e-7,
          -4.833076647772474e-7,
          -4.629041193312747e-7,
          -3.5882067417841403e-7,
          -4.50584076612966e-7,
          -3.449717780575056e-7,
          -3.561358604479854e-7,
          -4.202253686988809e-7,
          -4.871486203718427e-7,
          -7.855665991936275e-7,
          -2.1147809024881253e-7
         ]
        }
       ],
       "layout": {
        "showlegend": true,
        "template": {
         "data": {
          "bar": [
           {
            "error_x": {
             "color": "#2a3f5f"
            },
            "error_y": {
             "color": "#2a3f5f"
            },
            "marker": {
             "line": {
              "color": "#E5ECF6",
              "width": 0.5
             },
             "pattern": {
              "fillmode": "overlay",
              "size": 10,
              "solidity": 0.2
             }
            },
            "type": "bar"
           }
          ],
          "barpolar": [
           {
            "marker": {
             "line": {
              "color": "#E5ECF6",
              "width": 0.5
             },
             "pattern": {
              "fillmode": "overlay",
              "size": 10,
              "solidity": 0.2
             }
            },
            "type": "barpolar"
           }
          ],
          "carpet": [
           {
            "aaxis": {
             "endlinecolor": "#2a3f5f",
             "gridcolor": "white",
             "linecolor": "white",
             "minorgridcolor": "white",
             "startlinecolor": "#2a3f5f"
            },
            "baxis": {
             "endlinecolor": "#2a3f5f",
             "gridcolor": "white",
             "linecolor": "white",
             "minorgridcolor": "white",
             "startlinecolor": "#2a3f5f"
            },
            "type": "carpet"
           }
          ],
          "choropleth": [
           {
            "colorbar": {
             "outlinewidth": 0,
             "ticks": ""
            },
            "type": "choropleth"
           }
          ],
          "contour": [
           {
            "colorbar": {
             "outlinewidth": 0,
             "ticks": ""
            },
            "colorscale": [
             [
              0,
              "#0d0887"
             ],
             [
              0.1111111111111111,
              "#46039f"
             ],
             [
              0.2222222222222222,
              "#7201a8"
             ],
             [
              0.3333333333333333,
              "#9c179e"
             ],
             [
              0.4444444444444444,
              "#bd3786"
             ],
             [
              0.5555555555555556,
              "#d8576b"
             ],
             [
              0.6666666666666666,
              "#ed7953"
             ],
             [
              0.7777777777777778,
              "#fb9f3a"
             ],
             [
              0.8888888888888888,
              "#fdca26"
             ],
             [
              1,
              "#f0f921"
             ]
            ],
            "type": "contour"
           }
          ],
          "contourcarpet": [
           {
            "colorbar": {
             "outlinewidth": 0,
             "ticks": ""
            },
            "type": "contourcarpet"
           }
          ],
          "heatmap": [
           {
            "colorbar": {
             "outlinewidth": 0,
             "ticks": ""
            },
            "colorscale": [
             [
              0,
              "#0d0887"
             ],
             [
              0.1111111111111111,
              "#46039f"
             ],
             [
              0.2222222222222222,
              "#7201a8"
             ],
             [
              0.3333333333333333,
              "#9c179e"
             ],
             [
              0.4444444444444444,
              "#bd3786"
             ],
             [
              0.5555555555555556,
              "#d8576b"
             ],
             [
              0.6666666666666666,
              "#ed7953"
             ],
             [
              0.7777777777777778,
              "#fb9f3a"
             ],
             [
              0.8888888888888888,
              "#fdca26"
             ],
             [
              1,
              "#f0f921"
             ]
            ],
            "type": "heatmap"
           }
          ],
          "heatmapgl": [
           {
            "colorbar": {
             "outlinewidth": 0,
             "ticks": ""
            },
            "colorscale": [
             [
              0,
              "#0d0887"
             ],
             [
              0.1111111111111111,
              "#46039f"
             ],
             [
              0.2222222222222222,
              "#7201a8"
             ],
             [
              0.3333333333333333,
              "#9c179e"
             ],
             [
              0.4444444444444444,
              "#bd3786"
             ],
             [
              0.5555555555555556,
              "#d8576b"
             ],
             [
              0.6666666666666666,
              "#ed7953"
             ],
             [
              0.7777777777777778,
              "#fb9f3a"
             ],
             [
              0.8888888888888888,
              "#fdca26"
             ],
             [
              1,
              "#f0f921"
             ]
            ],
            "type": "heatmapgl"
           }
          ],
          "histogram": [
           {
            "marker": {
             "pattern": {
              "fillmode": "overlay",
              "size": 10,
              "solidity": 0.2
             }
            },
            "type": "histogram"
           }
          ],
          "histogram2d": [
           {
            "colorbar": {
             "outlinewidth": 0,
             "ticks": ""
            },
            "colorscale": [
             [
              0,
              "#0d0887"
             ],
             [
              0.1111111111111111,
              "#46039f"
             ],
             [
              0.2222222222222222,
              "#7201a8"
             ],
             [
              0.3333333333333333,
              "#9c179e"
             ],
             [
              0.4444444444444444,
              "#bd3786"
             ],
             [
              0.5555555555555556,
              "#d8576b"
             ],
             [
              0.6666666666666666,
              "#ed7953"
             ],
             [
              0.7777777777777778,
              "#fb9f3a"
             ],
             [
              0.8888888888888888,
              "#fdca26"
             ],
             [
              1,
              "#f0f921"
             ]
            ],
            "type": "histogram2d"
           }
          ],
          "histogram2dcontour": [
           {
            "colorbar": {
             "outlinewidth": 0,
             "ticks": ""
            },
            "colorscale": [
             [
              0,
              "#0d0887"
             ],
             [
              0.1111111111111111,
              "#46039f"
             ],
             [
              0.2222222222222222,
              "#7201a8"
             ],
             [
              0.3333333333333333,
              "#9c179e"
             ],
             [
              0.4444444444444444,
              "#bd3786"
             ],
             [
              0.5555555555555556,
              "#d8576b"
             ],
             [
              0.6666666666666666,
              "#ed7953"
             ],
             [
              0.7777777777777778,
              "#fb9f3a"
             ],
             [
              0.8888888888888888,
              "#fdca26"
             ],
             [
              1,
              "#f0f921"
             ]
            ],
            "type": "histogram2dcontour"
           }
          ],
          "mesh3d": [
           {
            "colorbar": {
             "outlinewidth": 0,
             "ticks": ""
            },
            "type": "mesh3d"
           }
          ],
          "parcoords": [
           {
            "line": {
             "colorbar": {
              "outlinewidth": 0,
              "ticks": ""
             }
            },
            "type": "parcoords"
           }
          ],
          "pie": [
           {
            "automargin": true,
            "type": "pie"
           }
          ],
          "scatter": [
           {
            "fillpattern": {
             "fillmode": "overlay",
             "size": 10,
             "solidity": 0.2
            },
            "type": "scatter"
           }
          ],
          "scatter3d": [
           {
            "line": {
             "colorbar": {
              "outlinewidth": 0,
              "ticks": ""
             }
            },
            "marker": {
             "colorbar": {
              "outlinewidth": 0,
              "ticks": ""
             }
            },
            "type": "scatter3d"
           }
          ],
          "scattercarpet": [
           {
            "marker": {
             "colorbar": {
              "outlinewidth": 0,
              "ticks": ""
             }
            },
            "type": "scattercarpet"
           }
          ],
          "scattergeo": [
           {
            "marker": {
             "colorbar": {
              "outlinewidth": 0,
              "ticks": ""
             }
            },
            "type": "scattergeo"
           }
          ],
          "scattergl": [
           {
            "marker": {
             "colorbar": {
              "outlinewidth": 0,
              "ticks": ""
             }
            },
            "type": "scattergl"
           }
          ],
          "scattermapbox": [
           {
            "marker": {
             "colorbar": {
              "outlinewidth": 0,
              "ticks": ""
             }
            },
            "type": "scattermapbox"
           }
          ],
          "scatterpolar": [
           {
            "marker": {
             "colorbar": {
              "outlinewidth": 0,
              "ticks": ""
             }
            },
            "type": "scatterpolar"
           }
          ],
          "scatterpolargl": [
           {
            "marker": {
             "colorbar": {
              "outlinewidth": 0,
              "ticks": ""
             }
            },
            "type": "scatterpolargl"
           }
          ],
          "scatterternary": [
           {
            "marker": {
             "colorbar": {
              "outlinewidth": 0,
              "ticks": ""
             }
            },
            "type": "scatterternary"
           }
          ],
          "surface": [
           {
            "colorbar": {
             "outlinewidth": 0,
             "ticks": ""
            },
            "colorscale": [
             [
              0,
              "#0d0887"
             ],
             [
              0.1111111111111111,
              "#46039f"
             ],
             [
              0.2222222222222222,
              "#7201a8"
             ],
             [
              0.3333333333333333,
              "#9c179e"
             ],
             [
              0.4444444444444444,
              "#bd3786"
             ],
             [
              0.5555555555555556,
              "#d8576b"
             ],
             [
              0.6666666666666666,
              "#ed7953"
             ],
             [
              0.7777777777777778,
              "#fb9f3a"
             ],
             [
              0.8888888888888888,
              "#fdca26"
             ],
             [
              1,
              "#f0f921"
             ]
            ],
            "type": "surface"
           }
          ],
          "table": [
           {
            "cells": {
             "fill": {
              "color": "#EBF0F8"
             },
             "line": {
              "color": "white"
             }
            },
            "header": {
             "fill": {
              "color": "#C8D4E3"
             },
             "line": {
              "color": "white"
             }
            },
            "type": "table"
           }
          ]
         },
         "layout": {
          "annotationdefaults": {
           "arrowcolor": "#2a3f5f",
           "arrowhead": 0,
           "arrowwidth": 1
          },
          "autotypenumbers": "strict",
          "coloraxis": {
           "colorbar": {
            "outlinewidth": 0,
            "ticks": ""
           }
          },
          "colorscale": {
           "diverging": [
            [
             0,
             "#8e0152"
            ],
            [
             0.1,
             "#c51b7d"
            ],
            [
             0.2,
             "#de77ae"
            ],
            [
             0.3,
             "#f1b6da"
            ],
            [
             0.4,
             "#fde0ef"
            ],
            [
             0.5,
             "#f7f7f7"
            ],
            [
             0.6,
             "#e6f5d0"
            ],
            [
             0.7,
             "#b8e186"
            ],
            [
             0.8,
             "#7fbc41"
            ],
            [
             0.9,
             "#4d9221"
            ],
            [
             1,
             "#276419"
            ]
           ],
           "sequential": [
            [
             0,
             "#0d0887"
            ],
            [
             0.1111111111111111,
             "#46039f"
            ],
            [
             0.2222222222222222,
             "#7201a8"
            ],
            [
             0.3333333333333333,
             "#9c179e"
            ],
            [
             0.4444444444444444,
             "#bd3786"
            ],
            [
             0.5555555555555556,
             "#d8576b"
            ],
            [
             0.6666666666666666,
             "#ed7953"
            ],
            [
             0.7777777777777778,
             "#fb9f3a"
            ],
            [
             0.8888888888888888,
             "#fdca26"
            ],
            [
             1,
             "#f0f921"
            ]
           ],
           "sequentialminus": [
            [
             0,
             "#0d0887"
            ],
            [
             0.1111111111111111,
             "#46039f"
            ],
            [
             0.2222222222222222,
             "#7201a8"
            ],
            [
             0.3333333333333333,
             "#9c179e"
            ],
            [
             0.4444444444444444,
             "#bd3786"
            ],
            [
             0.5555555555555556,
             "#d8576b"
            ],
            [
             0.6666666666666666,
             "#ed7953"
            ],
            [
             0.7777777777777778,
             "#fb9f3a"
            ],
            [
             0.8888888888888888,
             "#fdca26"
            ],
            [
             1,
             "#f0f921"
            ]
           ]
          },
          "colorway": [
           "#636efa",
           "#EF553B",
           "#00cc96",
           "#ab63fa",
           "#FFA15A",
           "#19d3f3",
           "#FF6692",
           "#B6E880",
           "#FF97FF",
           "#FECB52"
          ],
          "font": {
           "color": "#2a3f5f"
          },
          "geo": {
           "bgcolor": "white",
           "lakecolor": "white",
           "landcolor": "#E5ECF6",
           "showlakes": true,
           "showland": true,
           "subunitcolor": "white"
          },
          "hoverlabel": {
           "align": "left"
          },
          "hovermode": "closest",
          "mapbox": {
           "style": "light"
          },
          "paper_bgcolor": "white",
          "plot_bgcolor": "#E5ECF6",
          "polar": {
           "angularaxis": {
            "gridcolor": "white",
            "linecolor": "white",
            "ticks": ""
           },
           "bgcolor": "#E5ECF6",
           "radialaxis": {
            "gridcolor": "white",
            "linecolor": "white",
            "ticks": ""
           }
          },
          "scene": {
           "xaxis": {
            "backgroundcolor": "#E5ECF6",
            "gridcolor": "white",
            "gridwidth": 2,
            "linecolor": "white",
            "showbackground": true,
            "ticks": "",
            "zerolinecolor": "white"
           },
           "yaxis": {
            "backgroundcolor": "#E5ECF6",
            "gridcolor": "white",
            "gridwidth": 2,
            "linecolor": "white",
            "showbackground": true,
            "ticks": "",
            "zerolinecolor": "white"
           },
           "zaxis": {
            "backgroundcolor": "#E5ECF6",
            "gridcolor": "white",
            "gridwidth": 2,
            "linecolor": "white",
            "showbackground": true,
            "ticks": "",
            "zerolinecolor": "white"
           }
          },
          "shapedefaults": {
           "line": {
            "color": "#2a3f5f"
           }
          },
          "ternary": {
           "aaxis": {
            "gridcolor": "white",
            "linecolor": "white",
            "ticks": ""
           },
           "baxis": {
            "gridcolor": "white",
            "linecolor": "white",
            "ticks": ""
           },
           "bgcolor": "#E5ECF6",
           "caxis": {
            "gridcolor": "white",
            "linecolor": "white",
            "ticks": ""
           }
          },
          "title": {
           "x": 0.05
          },
          "xaxis": {
           "automargin": true,
           "gridcolor": "white",
           "linecolor": "white",
           "ticks": "",
           "title": {
            "standoff": 15
           },
           "zerolinecolor": "white",
           "zerolinewidth": 2
          },
          "yaxis": {
           "automargin": true,
           "gridcolor": "white",
           "linecolor": "white",
           "ticks": "",
           "title": {
            "standoff": 15
           },
           "zerolinecolor": "white",
           "zerolinewidth": 2
          }
         }
        },
        "title": {
         "text": "Price différence en fonction des queues size"
        },
        "xaxis": {
         "title": {
          "text": "Size (par Mean Event Size)"
         }
        },
        "yaxis": {
         "title": {
          "text": "price difference"
         }
        }
       }
      }
     },
     "metadata": {},
     "output_type": "display_data"
    }
   ],
   "source": [
    "Add = []\n",
    "Cancel = []\n",
    "Trade = []\n",
    "sizes_add = []\n",
    "sizes_cancel = []\n",
    "sizes_trade = []\n",
    "\n",
    "#dic = remove_nan_from_dico(dic)\n",
    "average_sizes = compute_means(dic)\n",
    "intensities = dict(sorted(dic.items()))\n",
    "intensities = filtrage(intensities, 30, threshold=100)\n",
    "\n",
    "threshold_trade = 100\n",
    "threshold = 10\n",
    "\n",
    "quarter_add = []\n",
    "quarter_cancel = []\n",
    "quarter_trade = []\n",
    "\n",
    "for i in intensities:\n",
    "    tab = np.concatenate((intensities[i][0], intensities[i][1], intensities[i][2]))\n",
    "    if (len(intensities[i][0])>threshold):\n",
    "            Add.append(np.mean(tab)*len(intensities[i][0])/len(tab))\n",
    "            quarter_add.append(np.var(tab)*1/np.mean(tab)*len(intensities[i][0])/len(tab)*1/np.sqrt(len(tab)))\n",
    "            sizes_add.append(i)\n",
    "    if len(intensities[i][1])!=0:\n",
    "        if (len(intensities[i][1])>threshold):\n",
    "            Cancel.append(np.mean(tab)*len(intensities[i][1])/len(tab))\n",
    "            quarter_cancel.append(np.var(tab)*1/np.mean(tab)*len(intensities[i][1])/len(tab)*1/np.sqrt(len(tab)))\n",
    "            sizes_cancel.append(i)\n",
    "    if len(intensities[i][2])!=0:\n",
    "        if (len(intensities[i][2])>threshold_trade):\n",
    "            Trade.append(np.mean(tab)*len(intensities[i][2])/len(tab))\n",
    "            quarter_trade.append(np.var(tab)*1/np.mean(tab)*len(intensities[i][2])/len(tab)*1/np.sqrt(len(tab)))\n",
    "            sizes_trade.append(i)\n",
    "\n",
    "fig = go.Figure()\n",
    "\n",
    "fig.add_trace(go.Scatter(x=sizes_add/np.mean(average_event_size),y=Add,mode='lines',name='Add',showlegend=True,line=dict(color='blue')))\n",
    "#fig.add_trace(go.Scatter(y=sizes_add/np.mean(average_event_size),x=np.array(Add)+1.96*np.array(quarter_add),mode='lines',name='Add Upper CI',line=dict(width=0),fill=None,showlegend=False))\n",
    "#fig.add_trace(go.Scatter(y=sizes_add/np.mean(average_event_size),x=np.array(Add)-1.96*np.array(quarter_add),mode='lines',name='Add Lower CI',fill='tonexty',line=dict(width=0),fillcolor='rgba(0, 0, 255, 0.2)',showlegend=False))\n",
    "\n",
    "fig.add_trace(go.Scatter(x=sizes_cancel/np.mean(average_event_size),y=Cancel,mode='lines',name='Cancel',showlegend=True,line=dict(color='green')))\n",
    "#fig.add_trace(go.Scatter(y=sizes_cancel/np.mean(average_event_size),x=np.array(Cancel)+1.96*np.array(quarter_cancel),mode='lines',name='Cancel Upper CI',line=dict(width=0),fill=None,showlegend=False))\n",
    "#fig.add_trace(go.Scatter(y=sizes_cancel/np.mean(average_event_size),x=np.array(Cancel)-1.96*np.array(quarter_cancel),mode='lines',name='Cancel Lower CI',fill='tonexty',line=dict(width=0),fillcolor='rgba(0, 255, 0, 0.2)',showlegend=False))\n",
    "\n",
    "fig.add_trace(go.Scatter(x=sizes_trade/np.mean(average_event_size),y=Trade,mode='lines',name='Trade',showlegend=True,line=dict(color='red')))\n",
    "#fig.add_trace(go.Scatter(y=sizes_trade/np.mean(average_event_size),x=np.array(Trade)+1.96*np.array(quarter_trade),mode='lines',name='Trade Upper CI',line=dict(width=0),fill=None,showlegend=False))\n",
    "#fig.add_trace(go.Scatter(y=sizes_trade/np.mean(average_event_size),x=np.array(Trade)-1.96*np.array(quarter_trade),mode='lines',name='Trade Lower CI',fill='tonexty',line=dict(width=0),fillcolor='rgba(255, 0, 0, 0.2)',showlegend=False))\n",
    "\n",
    "fig.update_layout(title=\"Price différence en fonction des queues size\",xaxis_title='Size (par Mean Event Size)',yaxis_title='price difference',showlegend=True)\n",
    "fig.show()"
   ]
  },
  {
   "cell_type": "code",
   "execution_count": null,
   "metadata": {},
   "outputs": [],
   "source": []
  }
 ],
 "metadata": {
  "kernelspec": {
   "display_name": "IA_m1 (Python 3.9)",
   "language": "python",
   "name": "ia_m1"
  },
  "language_info": {
   "codemirror_mode": {
    "name": "ipython",
    "version": 3
   },
   "file_extension": ".py",
   "mimetype": "text/x-python",
   "name": "python",
   "nbconvert_exporter": "python",
   "pygments_lexer": "ipython3",
   "version": "3.9.16"
  }
 },
 "nbformat": 4,
 "nbformat_minor": 2
}
