{
 "cells": [
  {
   "cell_type": "code",
   "execution_count": 1,
   "metadata": {},
   "outputs": [],
   "source": [
    "import os\n",
    "import json\n",
    "import pandas as pd\n",
    "import plotly.graph_objects as go\n",
    "import matplotlib.pyplot as plt\n"
   ]
  },
  {
   "cell_type": "code",
   "execution_count": 2,
   "metadata": {},
   "outputs": [],
   "source": [
    "# Fonction pour charger les données JSON\n",
    "def load_json(file_path):\n",
    "    with open(file_path, 'r') as file:\n",
    "        return json.load(file)\n",
    "\n",
    "# Charger les fichiers JSON\n",
    "condition = load_json('/users/eleves-a/2022/janis.aiad/3A/EAP1/HFT_QR_RL/HFT_QR_RL/data/smash2/data/dbn/condition.json')\n",
    "manifest = load_json('/users/eleves-a/2022/janis.aiad/3A/EAP1/HFT_QR_RL/HFT_QR_RL/data/smash2/data/dbn/manifest.json')\n",
    "metadata = load_json('/users/eleves-a/2022/janis.aiad/3A/EAP1/HFT_QR_RL/HFT_QR_RL/data/smash2/data/csv/metadata.json')\n",
    "\n",
    "# Fonction pour charger les données CSV\n",
    "def load_csv(stock, date):\n",
    "    file_path = f'/users/eleves-a/2022/janis.aiad/3A/EAP1/HFT_QR_RL/HFT_QR_RL/data/smash2/data/csv/{stock}/{date}.csv'\n",
    "    return pd.read_csv(file_path)\n",
    "\n",
    "# Spécifier les dates et les stocks\n",
    "dates = [\"20240624\", \"20240625\", \"20240626\", \"20240627\", \"20240628\", \"20240701\", \"20240702\", \"20240703\", \"20240705\", \"20240708\", \"20240709\", \"20240710\", \"20240711\", \"20240712\", \"20240715\", \"20240716\", \"20240717\", \"20240718\", \"20240719\", \"20240722\", \"20240723\", \"20240724\", \"20240725\", \"20240726\", \"20240729\", \"20240730\", \"20240731\", \"20240801\", \"20240802\", \"20240805\", \"20240806\", \"20240807\", \"20240808\"]\n",
    "stocks = [\"HL\",'ASAI','RIOT','CGAU']\n",
    "# Charger les données pour chaque stock et chaque date dans des datasets différents\n",
    "data_dict = {}\n",
    "for stock in stocks:\n",
    "    data_dict[stock] = {}\n",
    "    for date in dates:\n",
    "        data_dict[stock][date] = load_csv(stock, date).sample(frac=0.1, random_state=1)\n",
    "# Concaténer toutes les données\n",
    "data_list = [data_dict[stock][date] for stock in stocks for date in dates]\n",
    "data = pd.concat(data_list, ignore_index=True)\n",
    "\n",
    "# Filtrer par publisher_id = 39\n",
    "data = data[data['publisher_id'] == 39]\n",
    "\n",
    "# Convertir ts_event en datetime\n",
    "data['ts_event'] = pd.to_datetime(data['ts_event'], utc=True)\n",
    "data = data.sort_values(by='ts_event')\n"
   ]
  },
  {
   "cell_type": "code",
   "execution_count": null,
   "metadata": {},
   "outputs": [],
   "source": []
  }
 ],
 "metadata": {
  "kernelspec": {
   "display_name": "venv",
   "language": "python",
   "name": "python3"
  },
  "language_info": {
   "codemirror_mode": {
    "name": "ipython",
    "version": 3
   },
   "file_extension": ".py",
   "mimetype": "text/x-python",
   "name": "python",
   "nbconvert_exporter": "python",
   "pygments_lexer": "ipython3",
   "version": "3.9.18"
  }
 },
 "nbformat": 4,
 "nbformat_minor": 2
}
