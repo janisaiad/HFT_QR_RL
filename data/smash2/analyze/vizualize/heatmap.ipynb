{
 "cells": [
  {
   "cell_type": "code",
   "execution_count": null,
   "metadata": {},
   "outputs": [],
   "source": [
    "import os\n",
    "import json\n",
    "import pandas as pd\n",
    "import plotly.graph_objects as go\n",
    "import plotly.express as px\n"
   ]
  },
  {
   "cell_type": "code",
   "execution_count": null,
   "metadata": {},
   "outputs": [],
   "source": [
    "\n",
    "# Fonction pour charger les données JSON\n",
    "def load_json(file_path):\n",
    "    with open(file_path, 'r') as file:\n",
    "        return json.load(file)\n",
    "\n",
    "# Charger les fichiers JSON\n",
    "condition = load_json('/users/eleves-a/2022/janis.aiad/3A/EAP1/HFT_QR_RL/HFT_QR_RL/data/smash2/data/dbn/condition.json')\n",
    "manifest = load_json('/users/eleves-a/2022/janis.aiad/3A/EAP1/HFT_QR_RL/HFT_QR_RL/data/smash2/data/dbn/manifest.json')\n",
    "metadata = load_json('/users/eleves-a/2022/janis.aiad/3A/EAP1/HFT_QR_RL/HFT_QR_RL/data/smash2/data/csv/metadata.json')\n",
    "\n",
    "# Fonction pour charger les données CSV\n",
    "def load_csv(stock):\n",
    "    file_path = f'/users/eleves-a/2022/janis.aiad/3A/EAP1/HFT_QR_RL/HFT_QR_RL/data/smash2/data/csv/{stock}/20240624.csv'\n",
    "    return pd.read_csv(file_path)\n",
    "\n",
    "# Spécifier le stock\n",
    "stock = 'ASAI'\n",
    "data = load_csv(stock)\n",
    "\n",
    "# Convertir ts_event en datetime\n",
    "data['ts_event'] = pd.to_datetime(data['ts_event'], unit='ns')\n",
    "\n",
    "# Calculer le prix moyen\n",
    "data['mid_price'] = (data['bid_px_00'] + data['ask_px_00']) / 2\n",
    "\n",
    "# Créer une heatmap pour les tailles de bid et ask\n",
    "heatmap_data = data.pivot_table(index='ts_event', columns='mid_price', values='bid_sz_00')\n",
    "heatmap = px.imshow(heatmap_data, labels={'x': 'Time', 'y': 'Price', 'color': 'Bid Size'}, aspect='auto')\n",
    "\n",
    "# Ajouter une courbe pour le prix moyen\n",
    "heatmap.add_trace(go.Scatter(x=data['ts_event'], y=data['mid_price'], mode='lines', name='Mid Price', line=dict(color='black')))\n",
    "\n",
    "# Mettre à jour la mise en page\n",
    "heatmap.update_layout(title=f\"Heatmap and Mid Price for {stock}\", xaxis_title=\"Time\", yaxis_title=\"Price\")\n",
    "\n",
    "# Afficher le graphique\n",
    "heatmap.show()\n"
   ]
  }
 ],
 "metadata": {
  "language_info": {
   "name": "python"
  }
 },
 "nbformat": 4,
 "nbformat_minor": 2
}
