{
 "cells": [
  {
   "cell_type": "code",
   "execution_count": null,
   "metadata": {},
   "outputs": [],
   "source": [
    "import pandas as pd\n",
    "\n",
    "# Load the CSV file in MBP-10 format\n",
    "data = pd.read_csv('path_to_your_mbp10_file.csv')\n",
    "\n",
    "# Group the data by instrument_id\n",
    "grouped_data = data.groupby('instrument_id')\n",
    "\n",
    "# Calculate the number of trades for each instrument\n",
    "trade_counts = {}\n",
    "for instrument_id, data in grouped_data:\n",
    "    # Assuming each row represents a trade\n",
    "    trade_count = len(data)\n",
    "    trade_counts[instrument_id] = trade_count\n",
    "\n",
    "# Sort the trade counts from highest to smallest\n",
    "sorted_trade_counts = dict(sorted(trade_counts.items(), key=lambda item: item[1], reverse=True))\n",
    "\n",
    "# Print the number of trades for each instrument\n",
    "for instrument_id, trade_count in sorted_trade_counts.items():\n",
    "    print(f\"The number of trades for {instrument_id} is {trade_count}\")\n",
    "\n",
    "# Calculate tick size for each instrument and each publisher_id\n",
    "tick_sizes = {}\n",
    "for instrument_id, data in grouped_data:\n",
    "    tick_sizes[instrument_id] = {}\n",
    "    for publisher_id in data[\"publisher_id\"].unique():\n",
    "        publisher_data = data[data[\"publisher_id\"] == publisher_id]\n",
    "        # Assuming tick size is the minimum price increment\n",
    "        tick_size = publisher_data[\"price\"].diff().min()\n",
    "        tick_sizes[instrument_id][publisher_id] = tick_size\n",
    "\n",
    "# Sort the tick sizes from highest to smallest for each instrument and each publisher_id\n",
    "sorted_tick_sizes = {}\n",
    "for instrument_id, publisher_ticks in tick_sizes.items():\n",
    "    sorted_tick_sizes[instrument_id] = dict(sorted(publisher_ticks.items(), key=lambda item: item[1], reverse=True))\n",
    "\n",
    "# Print the tick size for each instrument and each publisher_id\n",
    "for instrument_id, publisher_ticks in sorted_tick_sizes.items():\n",
    "    for publisher_id, tick_size in publisher_ticks.items():\n",
    "        print(f\"The tick size for {instrument_id} (Publisher {publisher_id}) is {tick_size}\")\n"
   ]
  }
 ],
 "metadata": {
  "language_info": {
   "name": "python"
  }
 },
 "nbformat": 4,
 "nbformat_minor": 2
}
