{
 "cells": [
  {
   "cell_type": "code",
   "execution_count": 1,
   "metadata": {},
   "outputs": [],
   "source": [
    "import json\n",
    "import pandas as pd\n",
    "import plotly.graph_objects as go\n"
   ]
  },
  {
   "cell_type": "code",
   "execution_count": null,
   "metadata": {},
   "outputs": [],
   "source": [
    "\n",
    "# Fonction pour charger les données JSON\n",
    "def load_json(file_path):\n",
    "    with open(file_path, 'r') as file:\n",
    "        return json.load(file)\n",
    "\n",
    "# Charger les fichiers JSON\n",
    "condition = load_json('/users/eleves-a/2022/janis.aiad/3A/EAP1/HFT_QR_RL/HFT_QR_RL/data/smash2/data/dbn/condition.json')\n",
    "manifest = load_json('/users/eleves-a/2022/janis.aiad/3A/EAP1/HFT_QR_RL/HFT_QR_RL/data/smash2/data/dbn/manifest.json')\n",
    "metadata = load_json('/users/eleves-a/2022/janis.aiad/3A/EAP1/HFT_QR_RL/HFT_QR_RL/data/smash2/data/csv/metadata.json')\n",
    "\n",
    "# Fonction pour charger les données CSV\n",
    "def load_csv(stock):\n",
    "    file_path = f'/users/eleves-a/2022/janis.aiad/3A/EAP1/HFT_QR_RL/HFT_QR_RL/data/smash2/data/csv/{stock}/20240624.csv'\n",
    "    return pd.read_csv(file_path)\n",
    "\n",
    "# Spécifier le stock\n",
    "stock = 'RIOT'\n",
    "data = load_csv(stock).sample(frac=0.025, random_state=1)\n",
    "\n",
    "# Filtrer par publisher_id = 39\n",
    "data = data[data['publisher_id'] == 39]\n",
    "\n",
    "# Convertir ts_event en datetime\n",
    "data['ts_event'] = pd.to_datetime(data['ts_event'], unit='ns')\n",
    "data = data.sort_values(by='ts_event')\n",
    "\n",
    "# Créer une figure avec Plotly\n",
    "fig = go.Figure()\n",
    "\n",
    "# Couleurs pour les tailles de la meilleure offre et demande\n",
    "bid_colors = ['red', 'darkred', 'brown', 'firebrick', 'maroon', 'darkorange', 'orange', 'gold', 'yellow', 'black']\n",
    "ask_colors = ['blue', 'darkblue', 'navy', 'royalblue', 'mediumblue', 'dodgerblue', 'deepskyblue', 'skyblue', 'lightblue', 'black']\n",
    "\n",
    "# Tracer les tailles des meilleures offres avec une courbe claire pour suivre la couleur de l'offre\n",
    "for i in range(10):\n",
    "    bid_px_col = f'bid_px_0{i}'\n",
    "    bid_sz_col = f'bid_sz_0{i}'\n",
    "    fig.add_trace(go.Scatter(x=data['ts_event'], y=data[bid_px_col], mode='markers',\n",
    "                             line=dict(color=bid_colors[i], width=2),\n",
    "                             marker=dict(size=data[bid_sz_col]**0.5 / 2, color=bid_colors[i], opacity=0.5),\n",
    "                             name=f'Best Bid Size {i}'))\n",
    "\n",
    "# Tracer les tailles des meilleures demandes avec une courbe claire pour suivre la couleur de la demande\n",
    "for i in range(10):\n",
    "    ask_px_col = f'ask_px_0{i}'\n",
    "    ask_sz_col = f'ask_sz_0{i}'\n",
    "    fig.add_trace(go.Scatter(x=data['ts_event'], y=data[ask_px_col], mode='markers',\n",
    "                             line=dict(color=ask_colors[i], width=2),\n",
    "                             marker=dict(size=data[ask_sz_col]**0.5 / 2, color=ask_colors[i], opacity=0.5),\n",
    "                             name=f'Best Ask Size {i}'))\n",
    "# Tracer les courbes pour le prix de bid 00 et ask 00 avec des points de dispersion croissants dans le temps\n",
    "fig.add_trace(go.Scatter(x=data['ts_event'], y=data['bid_px_00'], mode='lines+markers', name='Bid Price 00', line=dict(color='green', width=2), marker=dict(size=5)))\n",
    "fig.add_trace(go.Scatter(x=data['ts_event'], y=data['ask_px_00'], mode='lines+markers', name='Ask Price 00', line=dict(color='purple', width=2), marker=dict(size=5)))\n",
    "fig.add_trace(go.Scatter(x=data['ts_event'], y=data['price'], mode='lines+markers', name='Mid Price', line=dict(color='black', width=2), marker=dict(size=5)))\n",
    "\n",
    "# Mettre à jour la mise en page\n",
    "fig.update_layout(title=f\"Mid Price, Best Bid Size, and Best Ask Size for {stock}\", xaxis_title=\"Time\", yaxis_title=\"Value\")\n",
    "\n",
    "# Afficher le graphique\n",
    "fig.show()\n",
    "\n"
   ]
  },
  {
   "cell_type": "code",
   "execution_count": null,
   "metadata": {},
   "outputs": [],
   "source": [
    "data.head()\n"
   ]
  },
  {
   "cell_type": "code",
   "execution_count": null,
   "metadata": {},
   "outputs": [],
   "source": [
    "import matplotlib.pyplot as plt\n",
    "%matplotlib widget"
   ]
  },
  {
   "cell_type": "code",
   "execution_count": null,
   "metadata": {},
   "outputs": [],
   "source": []
  },
  {
   "cell_type": "code",
   "execution_count": null,
   "metadata": {},
   "outputs": [],
   "source": [
    "# Créer une figure avec Matplotlib\n",
    "plt.figure(figsize=(14, 7))\n",
    "\n",
    "# Tracer le prix moyen\n",
    "plt.plot(data['ts_event'].sort_values(), data['price'], label='Mid Price', color='black')\n",
    "\n",
    "# Tracer la taille des meilleures offres et demandes pour i de 0 à 9\n",
    "for i in range(10):\n",
    "    bid_px_col = f'bid_px_0{i}'\n",
    "    bid_sz_col = f'bid_sz_0{i}'\n",
    "    ask_px_col = f'ask_px_0{i}'\n",
    "    ask_sz_col = f'ask_sz_0{i}'\n",
    "    \n",
    "    # Tracer la taille de la meilleure offre\n",
    "    plt.scatter(data['ts_event'], data[bid_px_col], s=data[bid_sz_col]**0.5 / 2, c=bid_colors[i], alpha=0.5, label=f'Best Bid Size {i}')\n",
    "    \n",
    "    # Tracer la taille de la meilleure demande\n",
    "    plt.scatter(data['ts_event'], data[ask_px_col], s=data[ask_sz_col]**0.5 / 2, c=ask_colors[i], alpha=0.5, label=f'Best Ask Size {i}')\n",
    "\n",
    "# Mettre à jour la mise en page\n",
    "plt.title(f\"Mid Price, Best Bid Size, and Best Ask Size for {stock}\")\n",
    "plt.xlabel(\"Time\")\n",
    "plt.ylabel(\"Value\")\n",
    "\n",
    "# Afficher le graphique\n",
    "plt.show()"
   ]
  },
  {
   "cell_type": "code",
   "execution_count": 8,
   "metadata": {},
   "outputs": [],
   "source": [
    "import numpy as np\n"
   ]
  },
  {
   "cell_type": "code",
   "execution_count": null,
   "metadata": {},
   "outputs": [],
   "source": [
    "# Supprimer les valeurs NaN des colonnes 'ts_event' et 'price'\n",
    "data_clean = data.dropna(subset=['ts_event', 'price'])\n",
    "\n",
    "# Créer une figure avec Matplotlib\n",
    "plt.figure(figsize=(14, 7))\n",
    "\n",
    "# Définir les limites de l'axe des prix\n",
    "price_min = data_clean[['bid_px_00', 'ask_px_00']].min().min()\n",
    "price_max = data_clean[['bid_px_00', 'ask_px_00']].max().max()\n",
    "\n",
    "# Créer une matrice de zéros pour stocker les densités\n",
    "time_bins = 1000\n",
    "price_bins = 100\n",
    "heatmap, xedges, yedges = np.histogram2d(data_clean['ts_event'].astype(np.int64) // 10**9, data_clean['price'], bins=[time_bins, price_bins], weights=data_clean['size'])\n",
    "\n",
    "# Appliquer une échelle logarithmique aux valeurs du heatmap\n",
    "heatmap_log = np.log1p(heatmap)\n",
    "\n",
    "# Afficher le heatmap avec une échelle logarithmique\n",
    "plt.imshow(heatmap_log.T, origin='lower', aspect='auto', extent=[xedges[0], xedges[-1], price_min, price_max], cmap='viridis')\n",
    "\n",
    "# Tracer la courbe des prix en noir (très fin)\n",
    "plt.plot(data_clean['ts_event'].astype(np.int64) // 10**9, data_clean['price'], color='black', linewidth=0.5, label='Price Curve')\n",
    "\n",
    "# Tracer la courbe des prix bid en rouge (très fin)\n",
    "plt.plot(data_clean['ts_event'].astype(np.int64) // 10**9, data_clean['bid_px_00'], color='red', linewidth=0.05, label='Bid Price')\n",
    "\n",
    "# Tracer la courbe des prix ask en bleu (très fin)\n",
    "plt.plot(data_clean['ts_event'].astype(np.int64) // 10**9, data_clean['ask_px_00'], color='blue', linewidth=0.05, label='Ask Price')\n",
    "\n",
    "# Mettre à jour la mise en page\n",
    "plt.title(f\"Order Book Heatmap for {stock}\")\n",
    "plt.xlabel(\"Time\")\n",
    "plt.ylabel(\"Price\")\n",
    "plt.colorbar(label='Log(Size)')\n",
    "plt.legend()\n",
    "\n",
    "# Sauvegarder le graphique\n",
    "plt.savefig(f'order_book_heatmap_{stock}.png')\n",
    "\n",
    "# Afficher le graphique\n",
    "plt.show()\n"
   ]
  },
  {
   "cell_type": "code",
   "execution_count": null,
   "metadata": {},
   "outputs": [],
   "source": []
  },
  {
   "cell_type": "code",
   "execution_count": null,
   "metadata": {},
   "outputs": [],
   "source": []
  }
 ],
 "metadata": {
  "kernelspec": {
   "display_name": "venv",
   "language": "python",
   "name": "python3"
  },
  "language_info": {
   "codemirror_mode": {
    "name": "ipython",
    "version": 3
   },
   "file_extension": ".py",
   "mimetype": "text/x-python",
   "name": "python",
   "nbconvert_exporter": "python",
   "pygments_lexer": "ipython3",
   "version": "3.9.18"
  }
 },
 "nbformat": 4,
 "nbformat_minor": 2
}
