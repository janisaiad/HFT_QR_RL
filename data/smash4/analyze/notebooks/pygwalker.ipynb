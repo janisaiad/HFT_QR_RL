{
 "cells": [
  {
   "cell_type": "code",
   "execution_count": 2,
   "metadata": {},
   "outputs": [],
   "source": [
    "import polars as pl\n",
    "import pygwalker as pyg\n",
    "import glob"
   ]
  },
  {
   "cell_type": "code",
   "execution_count": 3,
   "metadata": {},
   "outputs": [],
   "source": [
    "# Get all parquet files in the specified directory\n",
    "parquet_files = glob.glob('/home/janis/3A/EA/HFT_QR_RL/data/smash3/data/csv/NASDAQ/GOOGL_filtered/*_filtered_PL_with_true_diff_price.parquet')\n",
    "\n",
    "# Check if the list of parquet files is not empty\n",
    "if not parquet_files:\n",
    "    raise ValueError(\"No parquet files found in the specified directory\")\n",
    "\n",
    "# Read and concatenate all parquet files using polars with GPU support\n",
    "df = pl.concat([pl.read_parquet(f, use_pyarrow=True) for f in parquet_files])\n"
   ]
  },
  {
   "cell_type": "code",
   "execution_count": null,
   "metadata": {},
   "outputs": [],
   "source": [
    "\n",
    "# Convert to pandas for pygwalker compatibility\n",
    "df_pandas = df.to_pandas()\n"
   ]
  },
  {
   "cell_type": "code",
   "execution_count": null,
   "metadata": {},
   "outputs": [],
   "source": [
    "\n",
    "# Initialize pygwalker with the dataframe\n",
    "walker = pyg.walk(df_pandas)\n"
   ]
  }
 ],
 "metadata": {
  "kernelspec": {
   "display_name": ".venv",
   "language": "python",
   "name": "python3"
  },
  "language_info": {
   "codemirror_mode": {
    "name": "ipython",
    "version": 3
   },
   "file_extension": ".py",
   "mimetype": "text/x-python",
   "name": "python",
   "nbconvert_exporter": "python",
   "pygments_lexer": "ipython3",
   "version": "3.9.20"
  }
 },
 "nbformat": 4,
 "nbformat_minor": 2
}
